{
 "cells": [
  {
   "cell_type": "markdown",
   "metadata": {},
   "source": [
    "# Steam Game Review Scraper"
   ]
  },
  {
   "cell_type": "markdown",
   "metadata": {},
   "source": [
    "Scrape game review data from Steam, including the user, profile link, and the content of the review itself"
   ]
  },
  {
   "cell_type": "code",
   "execution_count": 6,
   "metadata": {},
   "outputs": [],
   "source": [
    "\n",
    "from selenium.webdriver import ChromeOptions, Chrome\n",
    "from selenium.webdriver.common.keys import Keys\n",
    "import re\n",
    "from time import sleep\n",
    "from datetime import datetime\n",
    "from openpyxl import Workbook\n",
    "import csv"
   ]
  },
  {
   "cell_type": "markdown",
   "metadata": {},
   "source": [
    "## Requirements\n",
    "You'll need to install the following libraries before beginning this project:\n",
    "- [Selenium](https://www.selenium.dev/downloads/) : for automating the web browser; this can be involved... so check my [short YouTube video](https://youtu.be/9XAH_TvxwLg) for a walkthrough.\n",
    "- [OpenPyXL](https://openpyxl.readthedocs.io/en/stable/) : for saving the data to an Excel spreadsheet (optional)\n",
    "\n",
    "## Example\n",
    "If you want to see an example of the output... you can see the results of me running the scaper for about 5 minutes on a particular game  \n",
    "[Click to view Excel file](https://drive.google.com/file/d/1Ld04lwFY7OjIMU2wJxRcgdPvJ0o43BRo/view?usp=sharing)"
   ]
  },
  {
   "cell_type": "markdown",
   "metadata": {},
   "source": [
    "## Getting started"
   ]
  },
  {
   "cell_type": "markdown",
   "metadata": {},
   "source": [
    "Lookup the game id by doing a search on steam, navigate to the game homepage, and then get the number embedded in the URL before the game title."
   ]
  },
  {
   "cell_type": "code",
   "execution_count": 7,
   "metadata": {},
   "outputs": [],
   "source": [
    "# star wars: squadrons (1222730)\n",
    "# scrap mechanic (387990)\n",
    "game_id = 1222730"
   ]
  },
  {
   "cell_type": "markdown",
   "metadata": {},
   "source": [
    "The url template below can be altered to filter by sentiment, language, and recency.  \n",
    "\n",
    "Check the [website](https://steamcommunity.com/app/387990/positivereviews/?browsefilter=mostrecent) to see what options are available. For this project, I'm going to focus on **Positive** reviews only and sort by **Most Recent**."
   ]
  },
  {
   "cell_type": "code",
   "execution_count": 8,
   "metadata": {},
   "outputs": [],
   "source": [
    "template = 'https://steamcommunity.com/app/{}/positivereviews/?browsefilter=mostrecent'\n",
    "template_with_language = 'https://steamcommunity.com/app/{}/positivereviews/?browsefilter=mostrecent&filterLanguage=russian'\n",
    "\n",
    "url = template_with_language.format(game_id)"
   ]
  },
  {
   "cell_type": "code",
   "execution_count": 9,
   "metadata": {},
   "outputs": [],
   "source": [
    "# setup driver\n",
    "options = ChromeOptions()\n",
    "# options.use_chromium = True\n",
    "driver = Chrome(options=options)"
   ]
  },
  {
   "cell_type": "markdown",
   "metadata": {},
   "source": [
    "Maximize the window and get the starting url"
   ]
  },
  {
   "cell_type": "code",
   "execution_count": 10,
   "metadata": {},
   "outputs": [],
   "source": [
    "driver.maximize_window()\n",
    "driver.get(url)"
   ]
  },
  {
   "cell_type": "markdown",
   "metadata": {},
   "source": [
    "## Scrape the data"
   ]
  },
  {
   "cell_type": "markdown",
   "metadata": {},
   "source": [
    "The page is continously scrolling, so you'll need to grab the cards, then scroll down to the bottom and repeat until finished. For this project, we are going to collect the following information:\n",
    "- Steam ID\n",
    "- Profile URL\n",
    "- Review Text\n",
    "- Review Recommendation\n",
    "- Review Length (chars)\n",
    "- Play Hours\n",
    "- Date Posted"
   ]
  },
  {
   "cell_type": "code",
   "execution_count": 11,
   "metadata": {},
   "outputs": [
    {
     "ename": "AttributeError",
     "evalue": "'WebDriver' object has no attribute 'find_elements_by_class_name'",
     "output_type": "error",
     "traceback": [
      "\u001b[0;31m---------------------------------------------------------------------------\u001b[0m",
      "\u001b[0;31mAttributeError\u001b[0m                            Traceback (most recent call last)",
      "\u001b[1;32m/Users/jacky/Desktop/FYP/steam-review-scraper.ipynb Cell 15\u001b[0m in \u001b[0;36m<cell line: 8>\u001b[0;34m()\u001b[0m\n\u001b[1;32m      <a href='vscode-notebook-cell:/Users/jacky/Desktop/FYP/steam-review-scraper.ipynb#X20sZmlsZQ%3D%3D?line=5'>6</a>\u001b[0m running \u001b[39m=\u001b[39m \u001b[39mTrue\u001b[39;00m\n\u001b[1;32m      <a href='vscode-notebook-cell:/Users/jacky/Desktop/FYP/steam-review-scraper.ipynb#X20sZmlsZQ%3D%3D?line=7'>8</a>\u001b[0m \u001b[39mwhile\u001b[39;00m running:\n\u001b[1;32m      <a href='vscode-notebook-cell:/Users/jacky/Desktop/FYP/steam-review-scraper.ipynb#X20sZmlsZQ%3D%3D?line=8'>9</a>\u001b[0m     \u001b[39m# get cards on the page\u001b[39;00m\n\u001b[0;32m---> <a href='vscode-notebook-cell:/Users/jacky/Desktop/FYP/steam-review-scraper.ipynb#X20sZmlsZQ%3D%3D?line=9'>10</a>\u001b[0m     cards \u001b[39m=\u001b[39m driver\u001b[39m.\u001b[39;49mfind_elements_by_class_name(\u001b[39m'\u001b[39m\u001b[39mapphub_Card\u001b[39m\u001b[39m'\u001b[39m)\n\u001b[1;32m     <a href='vscode-notebook-cell:/Users/jacky/Desktop/FYP/steam-review-scraper.ipynb#X20sZmlsZQ%3D%3D?line=11'>12</a>\u001b[0m     \u001b[39mfor\u001b[39;00m card \u001b[39min\u001b[39;00m cards[\u001b[39m-\u001b[39m\u001b[39m20\u001b[39m:]:  \u001b[39m# only the tail end are new cards\u001b[39;00m\n\u001b[1;32m     <a href='vscode-notebook-cell:/Users/jacky/Desktop/FYP/steam-review-scraper.ipynb#X20sZmlsZQ%3D%3D?line=12'>13</a>\u001b[0m \n\u001b[1;32m     <a href='vscode-notebook-cell:/Users/jacky/Desktop/FYP/steam-review-scraper.ipynb#X20sZmlsZQ%3D%3D?line=13'>14</a>\u001b[0m         \u001b[39m# gamer profile url\u001b[39;00m\n\u001b[1;32m     <a href='vscode-notebook-cell:/Users/jacky/Desktop/FYP/steam-review-scraper.ipynb#X20sZmlsZQ%3D%3D?line=14'>15</a>\u001b[0m         profile_url \u001b[39m=\u001b[39m card\u001b[39m.\u001b[39mfind_element_by_xpath(\u001b[39m'\u001b[39m\u001b[39m.//div[@class=\u001b[39m\u001b[39m\"\u001b[39m\u001b[39mapphub_friend_block\u001b[39m\u001b[39m\"\u001b[39m\u001b[39m]/div/a[2]\u001b[39m\u001b[39m'\u001b[39m)\u001b[39m.\u001b[39mget_attribute(\u001b[39m'\u001b[39m\u001b[39mhref\u001b[39m\u001b[39m'\u001b[39m)\n",
      "\u001b[0;31mAttributeError\u001b[0m: 'WebDriver' object has no attribute 'find_elements_by_class_name'"
     ]
    }
   ],
   "source": [
    "# get current position of y scrollbar\n",
    "last_position = driver.execute_script(\"return window.pageYOffset;\")\n",
    "\n",
    "reviews = []\n",
    "review_ids = set()\n",
    "running = True\n",
    "\n",
    "while running:\n",
    "    # get cards on the page\n",
    "    cards = driver.find_elements_by_class_name('apphub_Card')\n",
    "\n",
    "    for card in cards[-20:]:  # only the tail end are new cards\n",
    "\n",
    "        # gamer profile url\n",
    "        profile_url = card.find_element_by_xpath('.//div[@class=\"apphub_friend_block\"]/div/a[2]').get_attribute('href')\n",
    "\n",
    "        # steam id\n",
    "        steam_id = profile_url.split('/')[-2]\n",
    "        \n",
    "        # check to see if I've already collected this review\n",
    "        if steam_id in review_ids:\n",
    "            continue\n",
    "        else:\n",
    "            review_ids.add(steam_id)\n",
    "\n",
    "        # username\n",
    "        user_name = card.find_element_by_xpath('.//div[@class=\"apphub_friend_block\"]/div/a[2]').text\n",
    "\n",
    "        # language of the review\n",
    "        date_posted = card.find_element_by_xpath('.//div[@class=\"apphub_CardTextContent\"]/div').text\n",
    "        review_content = card.find_element_by_xpath('.//div[@class=\"apphub_CardTextContent\"]').text.replace(date_posted,'').strip()    \n",
    "\n",
    "        # review length\n",
    "        review_length = len(review_content.replace(' ', ''))    \n",
    "\n",
    "        # recommendation\n",
    "        thumb_text = card.find_element_by_xpath('.//div[@class=\"reviewInfo\"]/div[2]').text\n",
    "        thumb_text    \n",
    "\n",
    "        # amount of play hours\n",
    "        play_hours = card.find_element_by_xpath('.//div[@class=\"reviewInfo\"]/div[3]').text\n",
    "        play_hours    \n",
    "\n",
    "        # save review\n",
    "        review = (steam_id, profile_url, review_content, thumb_text, review_length, play_hours, date_posted)\n",
    "        reviews.append(review)    \n",
    "        \n",
    "    # attempt to scroll down thrice.. then break\n",
    "    scroll_attempt = 0\n",
    "    while True:\n",
    "        driver.execute_script(\"window.scrollTo(0, document.body.scrollHeight);\")    \n",
    "        sleep(0.5)\n",
    "        curr_position = driver.execute_script(\"return window.pageYOffset;\")\n",
    "        \n",
    "        if curr_position == last_position:\n",
    "            scroll_attempt += 1\n",
    "            sleep(0.5)\n",
    "            \n",
    "            if curr_position >= 3:\n",
    "                running = False\n",
    "                break\n",
    "        else:\n",
    "            last_position = curr_position\n",
    "            break  # continue scraping the results\n",
    "\n",
    "# shutdown the web driver\n",
    "driver.close()"
   ]
  },
  {
   "cell_type": "markdown",
   "metadata": {},
   "source": [
    "## Save the results"
   ]
  },
  {
   "cell_type": "markdown",
   "metadata": {},
   "source": [
    "You can push the data wherever you want. However, for this project, I'm going to save the data to an Excel spreadsheet using the [OpenPyXL](https://openpyxl.readthedocs.io/en/stable/) library"
   ]
  },
  {
   "cell_type": "code",
   "execution_count": null,
   "metadata": {},
   "outputs": [],
   "source": [
    "# save the file to Excel Worksheet\n",
    "wb = Workbook()\n",
    "ws = wb.worksheets[0]\n",
    "ws.append(['SteamId', 'ProfileURL', 'ReviewText', 'Review', 'ReviewLength(Chars)', 'PlayHours', 'DatePosted'])\n",
    "for row in reviews:\n",
    "    ws.append(row)\n",
    "    \n",
    "today = datetime.today().strftime('%Y%m%d')    \n",
    "wb.save(f'Steam_Reviews_{game_id}_{today}.xlsx')    \n",
    "wb.close()"
   ]
  },
  {
   "cell_type": "code",
   "execution_count": null,
   "metadata": {},
   "outputs": [],
   "source": [
    "# save the file to a CSV file\n",
    "today = datetime.today().strftime('%Y%m%d')   \n",
    "with open(f'Steam_Reviews_{game_id}_{today}.csv', 'w', newline='', encoding='utf-8') as f:\n",
    "    writer = csv.writer(f)\n",
    "    writer.writerow(['SteamId', 'ProfileURL', 'ReviewText', 'Review', 'ReviewLength(Chars)', 'PlayHours', 'DatePosted'])\n",
    "    writer.writerows(reviews)"
   ]
  }
 ],
 "metadata": {
  "kernelspec": {
   "display_name": "Python 3",
   "language": "python",
   "name": "python3"
  },
  "language_info": {
   "codemirror_mode": {
    "name": "ipython",
    "version": 3
   },
   "file_extension": ".py",
   "mimetype": "text/x-python",
   "name": "python",
   "nbconvert_exporter": "python",
   "pygments_lexer": "ipython3",
   "version": "3.9.13"
  }
 },
 "nbformat": 4,
 "nbformat_minor": 4
}
