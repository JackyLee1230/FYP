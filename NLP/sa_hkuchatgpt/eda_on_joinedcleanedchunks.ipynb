{
 "cells": [
  {
   "cell_type": "markdown",
   "metadata": {},
   "source": [
    "# Exploratory Data Analysis\n",
    "\n",
    "On the dataset_cleaned_heartless.pkl file"
   ]
  },
  {
   "cell_type": "code",
   "execution_count": 6,
   "metadata": {},
   "outputs": [],
   "source": [
    "# packages\n",
    "\n",
    "import pandas as pd\n",
    "import seaborn as sns\n",
    "import matplotlib.pyplot as plt\n",
    "import numpy as np\n",
    "\n",
    "from pathlib import Path\n",
    "import os\n",
    "\n",
    "from collections import Counter\n",
    "import re\n",
    "import nltk\n",
    "from nltk.corpus import stopwords"
   ]
  },
  {
   "cell_type": "code",
   "execution_count": 7,
   "metadata": {},
   "outputs": [
    {
     "name": "stdout",
     "output_type": "stream",
     "text": [
      "2\n",
      "\n",
      "/Users/michaelcheng/Documents/MyDocs/HKU/COMP4801 FYP/FYP/NLP/sa_hkuchatgpt/dataset_cleaned_heartless_sampled_20230927/dataset_cleaned_heartless_sampled_20230927_joincleanedchunks_20231009.pkl\n",
      "/Users/michaelcheng/Documents/MyDocs/HKU/COMP4801 FYP/FYP/NLP/sa_hkuchatgpt/dataset_cleaned_heartless_sampled_20231028/dataset_cleaned_heartless_sampled_20231028_joincleanedchunks_20231129.pkl\n"
     ]
    }
   ],
   "source": [
    "dataset_folders = [\n",
    "    Path('dataset_cleaned_heartless_sampled_20230927').resolve(),\n",
    "    Path('dataset_cleaned_heartless_sampled_20231028').resolve()\n",
    "]\n",
    "\n",
    "target_pkls = []\n",
    "for folder in dataset_folders:\n",
    "    for root, dirs, files in os.walk(folder):\n",
    "        sub_target_pkls = list(map(lambda f: Path(root, f), files))\n",
    "        sub_target_pkls = [p for p in sub_target_pkls if p.suffix == '.pkl' and p.stem.find('joincleanedchunks') != -1]\n",
    "\n",
    "        target_pkls.extend(sub_target_pkls)\n",
    "        break   # only one-level\n",
    "\n",
    "print(len(target_pkls))\n",
    "print()\n",
    "for pkl in target_pkls:\n",
    "    print(pkl)"
   ]
  },
  {
   "cell_type": "code",
   "execution_count": 8,
   "metadata": {},
   "outputs": [
    {
     "data": {
      "text/html": [
       "<div>\n",
       "<style scoped>\n",
       "    .dataframe tbody tr th:only-of-type {\n",
       "        vertical-align: middle;\n",
       "    }\n",
       "\n",
       "    .dataframe tbody tr th {\n",
       "        vertical-align: top;\n",
       "    }\n",
       "\n",
       "    .dataframe thead th {\n",
       "        text-align: right;\n",
       "    }\n",
       "</style>\n",
       "<table border=\"1\" class=\"dataframe\">\n",
       "  <thead>\n",
       "    <tr style=\"text-align: right;\">\n",
       "      <th></th>\n",
       "      <th>dataset_index</th>\n",
       "      <th>app_id</th>\n",
       "      <th>app_name</th>\n",
       "      <th>review_text</th>\n",
       "      <th>review_score</th>\n",
       "      <th>review_votes</th>\n",
       "      <th>response</th>\n",
       "      <th>total_token_used</th>\n",
       "    </tr>\n",
       "  </thead>\n",
       "  <tbody>\n",
       "    <tr>\n",
       "      <th>0</th>\n",
       "      <td>949538</td>\n",
       "      <td>212680</td>\n",
       "      <td>FTL: Faster Than Light</td>\n",
       "      <td>Amazing Game! Great Gameplay, and Great Re-pla...</td>\n",
       "      <td>1</td>\n",
       "      <td>0</td>\n",
       "      <td>{\\n  \"positive\": 1.0,\\n  \"neutral\": 0.0,\\n  \"n...</td>\n",
       "      <td>150</td>\n",
       "    </tr>\n",
       "    <tr>\n",
       "      <th>1</th>\n",
       "      <td>417579</td>\n",
       "      <td>19680</td>\n",
       "      <td>Alice: Madness Returns</td>\n",
       "      <td>This game is fantastic!  It is both fun to pla...</td>\n",
       "      <td>1</td>\n",
       "      <td>0</td>\n",
       "      <td>{\\n  \"positive\": 1.0,\\n  \"neutral\": 0.0,\\n  \"n...</td>\n",
       "      <td>195</td>\n",
       "    </tr>\n",
       "    <tr>\n",
       "      <th>2</th>\n",
       "      <td>2140029</td>\n",
       "      <td>238460</td>\n",
       "      <td>BattleBlock Theater</td>\n",
       "      <td>Dripping with fun, oozing with style, practica...</td>\n",
       "      <td>1</td>\n",
       "      <td>0</td>\n",
       "      <td>{\"positive\": 1.0, \"neutral\": 0.0, \"negative\": ...</td>\n",
       "      <td>155</td>\n",
       "    </tr>\n",
       "    <tr>\n",
       "      <th>3</th>\n",
       "      <td>491994</td>\n",
       "      <td>201810</td>\n",
       "      <td>Wolfenstein: The New Order</td>\n",
       "      <td>Great story-driven game - one of the better st...</td>\n",
       "      <td>1</td>\n",
       "      <td>0</td>\n",
       "      <td>{\"positive\": 1.0, \"neutral\": 0.0, \"negative\": ...</td>\n",
       "      <td>149</td>\n",
       "    </tr>\n",
       "    <tr>\n",
       "      <th>4</th>\n",
       "      <td>3303632</td>\n",
       "      <td>272010</td>\n",
       "      <td>Aveyond 3-1: Lord of Twilight</td>\n",
       "      <td>Haven't played much of it yet but it seems lik...</td>\n",
       "      <td>-1</td>\n",
       "      <td>0</td>\n",
       "      <td>{\"positive\": 0.0, \"neutral\": 0.0, \"negative\": ...</td>\n",
       "      <td>260</td>\n",
       "    </tr>\n",
       "    <tr>\n",
       "      <th>...</th>\n",
       "      <td>...</td>\n",
       "      <td>...</td>\n",
       "      <td>...</td>\n",
       "      <td>...</td>\n",
       "      <td>...</td>\n",
       "      <td>...</td>\n",
       "      <td>...</td>\n",
       "      <td>...</td>\n",
       "    </tr>\n",
       "    <tr>\n",
       "      <th>6487</th>\n",
       "      <td>3379127</td>\n",
       "      <td>275850</td>\n",
       "      <td>No Man's Sky</td>\n",
       "      <td>I bought this game now im sad.</td>\n",
       "      <td>-1</td>\n",
       "      <td>1</td>\n",
       "      <td>{\"positive\": 0, \"neutral\": 0, \"negative\": 1}</td>\n",
       "      <td>119</td>\n",
       "    </tr>\n",
       "    <tr>\n",
       "      <th>6488</th>\n",
       "      <td>2894780</td>\n",
       "      <td>253710</td>\n",
       "      <td>theHunter Classic</td>\n",
       "      <td>The worst kind of Free to Play I've ever seen....</td>\n",
       "      <td>-1</td>\n",
       "      <td>0</td>\n",
       "      <td>{\"positive\": 0.0, \"neutral\": 0.0, \"negative\": ...</td>\n",
       "      <td>201</td>\n",
       "    </tr>\n",
       "    <tr>\n",
       "      <th>6489</th>\n",
       "      <td>4007720</td>\n",
       "      <td>311340</td>\n",
       "      <td>METAL GEAR SOLID V: GROUND ZEROES</td>\n",
       "      <td>They took the prologue of the Phantom pain, re...</td>\n",
       "      <td>-1</td>\n",
       "      <td>1</td>\n",
       "      <td>{\"positive\": 0.1, \"neutral\": 0.4, \"negative\": ...</td>\n",
       "      <td>412</td>\n",
       "    </tr>\n",
       "    <tr>\n",
       "      <th>6490</th>\n",
       "      <td>1316956</td>\n",
       "      <td>220260</td>\n",
       "      <td>Farming Simulator 2013</td>\n",
       "      <td>i wished it would work</td>\n",
       "      <td>-1</td>\n",
       "      <td>0</td>\n",
       "      <td>{\"positive\": 0.0, \"neutral\": 0.5, \"negative\": ...</td>\n",
       "      <td>126</td>\n",
       "    </tr>\n",
       "    <tr>\n",
       "      <th>6491</th>\n",
       "      <td>5091293</td>\n",
       "      <td>391270</td>\n",
       "      <td>Fingerbones</td>\n",
       "      <td>This game was free, and I still want a refund,...</td>\n",
       "      <td>-1</td>\n",
       "      <td>1</td>\n",
       "      <td>{\"positive\":0.0, \"neutral\":0.0, \"negative\":1.0}</td>\n",
       "      <td>393</td>\n",
       "    </tr>\n",
       "  </tbody>\n",
       "</table>\n",
       "<p>13530 rows × 8 columns</p>\n",
       "</div>"
      ],
      "text/plain": [
       "      dataset_index  app_id                           app_name  \\\n",
       "0            949538  212680             FTL: Faster Than Light   \n",
       "1            417579   19680             Alice: Madness Returns   \n",
       "2           2140029  238460                BattleBlock Theater   \n",
       "3            491994  201810         Wolfenstein: The New Order   \n",
       "4           3303632  272010      Aveyond 3-1: Lord of Twilight   \n",
       "...             ...     ...                                ...   \n",
       "6487        3379127  275850                       No Man's Sky   \n",
       "6488        2894780  253710                  theHunter Classic   \n",
       "6489        4007720  311340  METAL GEAR SOLID V: GROUND ZEROES   \n",
       "6490        1316956  220260             Farming Simulator 2013   \n",
       "6491        5091293  391270                        Fingerbones   \n",
       "\n",
       "                                            review_text  review_score  \\\n",
       "0     Amazing Game! Great Gameplay, and Great Re-pla...             1   \n",
       "1     This game is fantastic!  It is both fun to pla...             1   \n",
       "2     Dripping with fun, oozing with style, practica...             1   \n",
       "3     Great story-driven game - one of the better st...             1   \n",
       "4     Haven't played much of it yet but it seems lik...            -1   \n",
       "...                                                 ...           ...   \n",
       "6487                     I bought this game now im sad.            -1   \n",
       "6488  The worst kind of Free to Play I've ever seen....            -1   \n",
       "6489  They took the prologue of the Phantom pain, re...            -1   \n",
       "6490                             i wished it would work            -1   \n",
       "6491  This game was free, and I still want a refund,...            -1   \n",
       "\n",
       "      review_votes                                           response  \\\n",
       "0                0  {\\n  \"positive\": 1.0,\\n  \"neutral\": 0.0,\\n  \"n...   \n",
       "1                0  {\\n  \"positive\": 1.0,\\n  \"neutral\": 0.0,\\n  \"n...   \n",
       "2                0  {\"positive\": 1.0, \"neutral\": 0.0, \"negative\": ...   \n",
       "3                0  {\"positive\": 1.0, \"neutral\": 0.0, \"negative\": ...   \n",
       "4                0  {\"positive\": 0.0, \"neutral\": 0.0, \"negative\": ...   \n",
       "...            ...                                                ...   \n",
       "6487             1       {\"positive\": 0, \"neutral\": 0, \"negative\": 1}   \n",
       "6488             0  {\"positive\": 0.0, \"neutral\": 0.0, \"negative\": ...   \n",
       "6489             1  {\"positive\": 0.1, \"neutral\": 0.4, \"negative\": ...   \n",
       "6490             0  {\"positive\": 0.0, \"neutral\": 0.5, \"negative\": ...   \n",
       "6491             1    {\"positive\":0.0, \"neutral\":0.0, \"negative\":1.0}   \n",
       "\n",
       "      total_token_used  \n",
       "0                  150  \n",
       "1                  195  \n",
       "2                  155  \n",
       "3                  149  \n",
       "4                  260  \n",
       "...                ...  \n",
       "6487               119  \n",
       "6488               201  \n",
       "6489               412  \n",
       "6490               126  \n",
       "6491               393  \n",
       "\n",
       "[13530 rows x 8 columns]"
      ]
     },
     "execution_count": 8,
     "metadata": {},
     "output_type": "execute_result"
    }
   ],
   "source": [
    "# concat them\n",
    "\n",
    "dataset = pd.concat([pd.read_pickle(p) for p in target_pkls])\n",
    "\n",
    "dataset"
   ]
  },
  {
   "cell_type": "code",
   "execution_count": 9,
   "metadata": {},
   "outputs": [
    {
     "name": "stdout",
     "output_type": "stream",
     "text": [
      "<class 'pandas.core.frame.DataFrame'>\n",
      "Index: 13530 entries, 0 to 6491\n",
      "Data columns (total 9 columns):\n",
      " #   Column            Non-Null Count  Dtype \n",
      "---  ------            --------------  ----- \n",
      " 0   dataset_index     13530 non-null  int64 \n",
      " 1   app_id            13530 non-null  int64 \n",
      " 2   app_name          13530 non-null  object\n",
      " 3   review_text       13530 non-null  object\n",
      " 4   review_score      13530 non-null  int64 \n",
      " 5   review_votes      13530 non-null  int64 \n",
      " 6   response          13530 non-null  object\n",
      " 7   total_token_used  13530 non-null  int64 \n",
      " 8   num_of_words      13530 non-null  int64 \n",
      "dtypes: int64(6), object(3)\n",
      "memory usage: 1.0+ MB\n"
     ]
    }
   ],
   "source": [
    "dataset['review_text'] = dataset['review_text'].astype('str')\n",
    "\n",
    "dataset = dataset.drop_duplicates(keep='first')\n",
    "\n",
    "# replace -1 to 0\n",
    "# then 0 = negative, 1 = positive\n",
    "# for easier processing\n",
    "dataset['review_score'] = dataset['review_score'].replace(-1, 0)\n",
    "\n",
    "# 4891928 -> 4891746 (some rows have all whitespaces)\n",
    "dataset['num_of_words'] = dataset['review_text'].apply(lambda x:len(str(x).split()))\n",
    "dataset = dataset[dataset['num_of_words'] > 0]\n",
    "\n",
    "dataset.info()"
   ]
  },
  {
   "cell_type": "code",
   "execution_count": 16,
   "metadata": {},
   "outputs": [
    {
     "name": "stdout",
     "output_type": "stream",
     "text": [
      "/Users/michaelcheng/Documents/MyDocs/HKU/COMP4801 FYP/FYP/NLP/dev-workspace/dataset/sa/dataset_cleaned_heartless.pkl\n",
      "<class 'pandas.core.frame.DataFrame'>\n",
      "Index: 4891746 entries, 0 to 4891927\n",
      "Data columns (total 7 columns):\n",
      " #   Column        Dtype \n",
      "---  ------        ----- \n",
      " 0   index         int64 \n",
      " 1   app_id        int64 \n",
      " 2   app_name      object\n",
      " 3   review_text   object\n",
      " 4   review_score  int64 \n",
      " 5   review_votes  int64 \n",
      " 6   num_of_words  int64 \n",
      "dtypes: int64(5), object(2)\n",
      "memory usage: 298.6+ MB\n"
     ]
    }
   ],
   "source": [
    "# dataset_heartless_path = Path('../dev-workspace/dataset/sa/dataset_cleaned_heartless.pkl').resolve()\n",
    "# print(dataset_heartless_path)\n",
    "\n",
    "# dataset_heartless = pd.read_pickle(dataset_heartless_path)\n",
    "# # dataset = dataset.sample(frac=p)      # no sampling is needed\n",
    "\n",
    "# # convert the text to string object\n",
    "# dataset_heartless['review_text'] = dataset_heartless['review_text'].astype('str')\n",
    "\n",
    "# # drop any duplicate just in case\n",
    "# dataset_heartless = dataset_heartless.drop_duplicates(keep='first')\n",
    "\n",
    "# # replace -1 to 0\n",
    "# # then 0 = negative, 1 = positive\n",
    "# # for easier processing\n",
    "# dataset_heartless['review_score'] = dataset_heartless['review_score'].replace(-1, 0)\n",
    "\n",
    "# # 4891928 -> 4891746 (some rows have all whitespaces)\n",
    "# dataset_heartless['num_of_words'] = dataset_heartless['review_text'].apply(lambda x:len(str(x).split()))\n",
    "# dataset_heartless = dataset_heartless[dataset_heartless['num_of_words'] > 0]\n",
    "\n",
    "# dataset_heartless.info()"
   ]
  },
  {
   "cell_type": "code",
   "execution_count": 10,
   "metadata": {},
   "outputs": [
    {
     "data": {
      "text/html": [
       "<div>\n",
       "<style scoped>\n",
       "    .dataframe tbody tr th:only-of-type {\n",
       "        vertical-align: middle;\n",
       "    }\n",
       "\n",
       "    .dataframe tbody tr th {\n",
       "        vertical-align: top;\n",
       "    }\n",
       "\n",
       "    .dataframe thead th {\n",
       "        text-align: right;\n",
       "    }\n",
       "</style>\n",
       "<table border=\"1\" class=\"dataframe\">\n",
       "  <thead>\n",
       "    <tr style=\"text-align: right;\">\n",
       "      <th></th>\n",
       "      <th>dataset_index</th>\n",
       "      <th>app_id</th>\n",
       "      <th>app_name</th>\n",
       "      <th>review_text</th>\n",
       "      <th>review_score</th>\n",
       "      <th>review_votes</th>\n",
       "      <th>response</th>\n",
       "      <th>total_token_used</th>\n",
       "      <th>num_of_words</th>\n",
       "    </tr>\n",
       "  </thead>\n",
       "  <tbody>\n",
       "    <tr>\n",
       "      <th>0</th>\n",
       "      <td>949538</td>\n",
       "      <td>212680</td>\n",
       "      <td>FTL: Faster Than Light</td>\n",
       "      <td>Amazing Game! Great Gameplay, and Great Re-pla...</td>\n",
       "      <td>1</td>\n",
       "      <td>0</td>\n",
       "      <td>{\\n  \"positive\": 1.0,\\n  \"neutral\": 0.0,\\n  \"n...</td>\n",
       "      <td>150</td>\n",
       "      <td>16</td>\n",
       "    </tr>\n",
       "    <tr>\n",
       "      <th>1</th>\n",
       "      <td>417579</td>\n",
       "      <td>19680</td>\n",
       "      <td>Alice: Madness Returns</td>\n",
       "      <td>This game is fantastic!  It is both fun to pla...</td>\n",
       "      <td>1</td>\n",
       "      <td>0</td>\n",
       "      <td>{\\n  \"positive\": 1.0,\\n  \"neutral\": 0.0,\\n  \"n...</td>\n",
       "      <td>195</td>\n",
       "      <td>55</td>\n",
       "    </tr>\n",
       "    <tr>\n",
       "      <th>2</th>\n",
       "      <td>2140029</td>\n",
       "      <td>238460</td>\n",
       "      <td>BattleBlock Theater</td>\n",
       "      <td>Dripping with fun, oozing with style, practica...</td>\n",
       "      <td>1</td>\n",
       "      <td>0</td>\n",
       "      <td>{\"positive\": 1.0, \"neutral\": 0.0, \"negative\": ...</td>\n",
       "      <td>155</td>\n",
       "      <td>24</td>\n",
       "    </tr>\n",
       "    <tr>\n",
       "      <th>3</th>\n",
       "      <td>491994</td>\n",
       "      <td>201810</td>\n",
       "      <td>Wolfenstein: The New Order</td>\n",
       "      <td>Great story-driven game - one of the better st...</td>\n",
       "      <td>1</td>\n",
       "      <td>0</td>\n",
       "      <td>{\"positive\": 1.0, \"neutral\": 0.0, \"negative\": ...</td>\n",
       "      <td>149</td>\n",
       "      <td>23</td>\n",
       "    </tr>\n",
       "    <tr>\n",
       "      <th>4</th>\n",
       "      <td>3303632</td>\n",
       "      <td>272010</td>\n",
       "      <td>Aveyond 3-1: Lord of Twilight</td>\n",
       "      <td>Haven't played much of it yet but it seems lik...</td>\n",
       "      <td>0</td>\n",
       "      <td>0</td>\n",
       "      <td>{\"positive\": 0.0, \"neutral\": 0.0, \"negative\": ...</td>\n",
       "      <td>260</td>\n",
       "      <td>113</td>\n",
       "    </tr>\n",
       "  </tbody>\n",
       "</table>\n",
       "</div>"
      ],
      "text/plain": [
       "   dataset_index  app_id                       app_name  \\\n",
       "0         949538  212680         FTL: Faster Than Light   \n",
       "1         417579   19680         Alice: Madness Returns   \n",
       "2        2140029  238460            BattleBlock Theater   \n",
       "3         491994  201810     Wolfenstein: The New Order   \n",
       "4        3303632  272010  Aveyond 3-1: Lord of Twilight   \n",
       "\n",
       "                                         review_text  review_score  \\\n",
       "0  Amazing Game! Great Gameplay, and Great Re-pla...             1   \n",
       "1  This game is fantastic!  It is both fun to pla...             1   \n",
       "2  Dripping with fun, oozing with style, practica...             1   \n",
       "3  Great story-driven game - one of the better st...             1   \n",
       "4  Haven't played much of it yet but it seems lik...             0   \n",
       "\n",
       "   review_votes                                           response  \\\n",
       "0             0  {\\n  \"positive\": 1.0,\\n  \"neutral\": 0.0,\\n  \"n...   \n",
       "1             0  {\\n  \"positive\": 1.0,\\n  \"neutral\": 0.0,\\n  \"n...   \n",
       "2             0  {\"positive\": 1.0, \"neutral\": 0.0, \"negative\": ...   \n",
       "3             0  {\"positive\": 1.0, \"neutral\": 0.0, \"negative\": ...   \n",
       "4             0  {\"positive\": 0.0, \"neutral\": 0.0, \"negative\": ...   \n",
       "\n",
       "   total_token_used  num_of_words  \n",
       "0               150            16  \n",
       "1               195            55  \n",
       "2               155            24  \n",
       "3               149            23  \n",
       "4               260           113  "
      ]
     },
     "execution_count": 10,
     "metadata": {},
     "output_type": "execute_result"
    }
   ],
   "source": [
    "dataset.head()"
   ]
  },
  {
   "cell_type": "markdown",
   "metadata": {},
   "source": [
    "We will see the ratio between positive and negative reviews"
   ]
  },
  {
   "cell_type": "code",
   "execution_count": 11,
   "metadata": {},
   "outputs": [
    {
     "data": {
      "text/html": [
       "<style type=\"text/css\">\n",
       "#T_46651_row0_col0, #T_46651_row1_col1 {\n",
       "  background-color: #fcfbfd;\n",
       "  color: #000000;\n",
       "}\n",
       "#T_46651_row0_col1, #T_46651_row1_col0 {\n",
       "  background-color: #3f007d;\n",
       "  color: #f1f1f1;\n",
       "}\n",
       "</style>\n",
       "<table id=\"T_46651\">\n",
       "  <thead>\n",
       "    <tr>\n",
       "      <th class=\"blank level0\" >&nbsp;</th>\n",
       "      <th id=\"T_46651_level0_col0\" class=\"col_heading level0 col0\" >review_score</th>\n",
       "      <th id=\"T_46651_level0_col1\" class=\"col_heading level0 col1\" >review_text</th>\n",
       "    </tr>\n",
       "  </thead>\n",
       "  <tbody>\n",
       "    <tr>\n",
       "      <th id=\"T_46651_level0_row0\" class=\"row_heading level0 row0\" >0</th>\n",
       "      <td id=\"T_46651_row0_col0\" class=\"data row0 col0\" >0</td>\n",
       "      <td id=\"T_46651_row0_col1\" class=\"data row0 col1\" >7580</td>\n",
       "    </tr>\n",
       "    <tr>\n",
       "      <th id=\"T_46651_level0_row1\" class=\"row_heading level0 row1\" >1</th>\n",
       "      <td id=\"T_46651_row1_col0\" class=\"data row1 col0\" >1</td>\n",
       "      <td id=\"T_46651_row1_col1\" class=\"data row1 col1\" >5950</td>\n",
       "    </tr>\n",
       "  </tbody>\n",
       "</table>\n"
      ],
      "text/plain": [
       "<pandas.io.formats.style.Styler at 0x104fa1550>"
      ]
     },
     "execution_count": 11,
     "metadata": {},
     "output_type": "execute_result"
    }
   ],
   "source": [
    "temp = dataset.groupby('review_score').count()['review_text'].reset_index().sort_values(by='review_score',ascending=True)\n",
    "temp.style.background_gradient(cmap='Purples')"
   ]
  },
  {
   "cell_type": "code",
   "execution_count": 12,
   "metadata": {},
   "outputs": [
    {
     "name": "stdout",
     "output_type": "stream",
     "text": [
      "Ratio between positive and negative comments: 1.2739496\n"
     ]
    }
   ],
   "source": [
    "print(\"Ratio between positive and negative comments: {:.8}\".format(\n",
    "    len(dataset[dataset['review_score'] == 0]) / float(len(dataset[dataset['review_score'] == 1]))\n",
    "))"
   ]
  },
  {
   "cell_type": "markdown",
   "metadata": {},
   "source": [
    "How about the distribution of length of reviews\n",
    "\n",
    "In both positive and negative comments respectively"
   ]
  },
  {
   "cell_type": "code",
   "execution_count": 14,
   "metadata": {},
   "outputs": [
    {
     "data": {
      "text/plain": [
       "count    13530.000000\n",
       "mean        72.108130\n",
       "std        117.888211\n",
       "min          1.000000\n",
       "1%           2.000000\n",
       "10%          6.000000\n",
       "25%         13.000000\n",
       "50%         32.000000\n",
       "75%         80.000000\n",
       "90%        174.000000\n",
       "99%        575.000000\n",
       "max       1506.000000\n",
       "Name: num_of_words, dtype: float64"
      ]
     },
     "execution_count": 14,
     "metadata": {},
     "output_type": "execute_result"
    }
   ],
   "source": [
    "# first have all comments together\n",
    "\n",
    "dataset['num_of_words'].describe(percentiles=[0.01, 0.1, 0.25, 0.5, 0.75, 0.9, 0.99])"
   ]
  },
  {
   "cell_type": "code",
   "execution_count": 15,
   "metadata": {},
   "outputs": [],
   "source": [
    "dataset_pos_only = dataset[dataset['review_score'] == 1]\n",
    "dataset_neg_only = dataset[dataset['review_score'] == 0]"
   ]
  },
  {
   "cell_type": "code",
   "execution_count": 16,
   "metadata": {},
   "outputs": [
    {
     "data": {
      "text/plain": [
       "count    5950.000000\n",
       "mean       58.228235\n",
       "std        99.238084\n",
       "min         1.000000\n",
       "1%          2.000000\n",
       "10%         6.000000\n",
       "25%        11.000000\n",
       "50%        26.000000\n",
       "75%        63.000000\n",
       "90%       138.000000\n",
       "99%       492.510000\n",
       "max      1371.000000\n",
       "Name: num_of_words, dtype: float64"
      ]
     },
     "execution_count": 16,
     "metadata": {},
     "output_type": "execute_result"
    }
   ],
   "source": [
    "# describe the characteristics of the number of words\n",
    "\n",
    "dataset_pos_only['num_of_words'].describe(percentiles=[0.01, 0.1, 0.25, 0.5, 0.75, 0.9, 0.99])"
   ]
  },
  {
   "cell_type": "code",
   "execution_count": 17,
   "metadata": {},
   "outputs": [
    {
     "name": "stderr",
     "output_type": "stream",
     "text": [
      "/Users/michaelcheng/miniforge3/envs/fyp-test/lib/python3.9/site-packages/seaborn/_oldcore.py:1498: FutureWarning: is_categorical_dtype is deprecated and will be removed in a future version. Use isinstance(dtype, CategoricalDtype) instead\n",
      "  if pd.api.types.is_categorical_dtype(vector):\n",
      "/Users/michaelcheng/miniforge3/envs/fyp-test/lib/python3.9/site-packages/seaborn/_oldcore.py:1119: FutureWarning: use_inf_as_na option is deprecated and will be removed in a future version. Convert inf values to NaN before operating instead.\n",
      "  with pd.option_context('mode.use_inf_as_na', True):\n"
     ]
    },
    {
     "data": {
      "text/plain": [
       "<Axes: xlabel='num_of_words', ylabel='Count'>"
      ]
     },
     "execution_count": 17,
     "metadata": {},
     "output_type": "execute_result"
    },
    {
     "data": {
      "image/png": "[encoded data removed]",
      "text/plain": [
       "<Figure size 432x288 with 1 Axes>"
      ]
     },
     "metadata": {
      "needs_background": "light"
     },
     "output_type": "display_data"
    }
   ],
   "source": [
    "sns.histplot(data=dataset_pos_only, x='num_of_words',bins=30,color='green')"
   ]
  },
  {
   "cell_type": "code",
   "execution_count": 18,
   "metadata": {},
   "outputs": [
    {
     "data": {
      "text/plain": [
       "count    7580.000000\n",
       "mean       83.003298\n",
       "std       129.645784\n",
       "min         1.000000\n",
       "1%          2.000000\n",
       "10%         7.000000\n",
       "25%        15.000000\n",
       "50%        39.000000\n",
       "75%        94.250000\n",
       "90%       202.000000\n",
       "99%       649.000000\n",
       "max      1506.000000\n",
       "Name: num_of_words, dtype: float64"
      ]
     },
     "execution_count": 18,
     "metadata": {},
     "output_type": "execute_result"
    }
   ],
   "source": [
    "dataset_neg_only['num_of_words'].describe(percentiles=[0.01, 0.1, 0.25, 0.5, 0.75, 0.9, 0.99])"
   ]
  },
  {
   "cell_type": "code",
   "execution_count": 19,
   "metadata": {},
   "outputs": [
    {
     "name": "stderr",
     "output_type": "stream",
     "text": [
      "/Users/michaelcheng/miniforge3/envs/fyp-test/lib/python3.9/site-packages/seaborn/_oldcore.py:1498: FutureWarning: is_categorical_dtype is deprecated and will be removed in a future version. Use isinstance(dtype, CategoricalDtype) instead\n",
      "  if pd.api.types.is_categorical_dtype(vector):\n",
      "/Users/michaelcheng/miniforge3/envs/fyp-test/lib/python3.9/site-packages/seaborn/_oldcore.py:1119: FutureWarning: use_inf_as_na option is deprecated and will be removed in a future version. Convert inf values to NaN before operating instead.\n",
      "  with pd.option_context('mode.use_inf_as_na', True):\n"
     ]
    },
    {
     "data": {
      "text/plain": [
       "<Axes: xlabel='num_of_words', ylabel='Count'>"
      ]
     },
     "execution_count": 19,
     "metadata": {},
     "output_type": "execute_result"
    },
    {
     "data": {
      "image/png": "[encoded data removed]",
      "text/plain": [
       "<Figure size 432x288 with 1 Axes>"
      ]
     },
     "metadata": {
      "needs_background": "light"
     },
     "output_type": "display_data"
    }
   ],
   "source": [
    "sns.histplot(data=dataset_neg_only, x='num_of_words',bins=30,color='orange')"
   ]
  },
  {
   "cell_type": "markdown",
   "metadata": {},
   "source": [
    "The public dataset supports the distribution of the comments\n",
    "\n",
    "- \"Negative reviews are slightly longer than positive reviews, but the difference is negligible.\". But seems the latter is not supported by the dataset we have.\n",
    "\n",
    "- \"Most games receive reviews with a median length of 205 characters, or 30 words.\". The sentence is supported by the positive set and the overall dataset, but not on the negative set."
   ]
  },
  {
   "cell_type": "markdown",
   "metadata": {},
   "source": [
    "what if we remove comments less than 10 characters."
   ]
  },
  {
   "cell_type": "code",
   "execution_count": 20,
   "metadata": {},
   "outputs": [],
   "source": [
    "dataset_2 = dataset.copy()\n",
    "\n",
    "dataset_2 = dataset_2[dataset_2['review_text'].str.len()>=10]"
   ]
  },
  {
   "cell_type": "code",
   "execution_count": 21,
   "metadata": {},
   "outputs": [
    {
     "data": {
      "text/plain": [
       "count    13386.000000\n",
       "mean        72.868893\n",
       "std        118.290993\n",
       "min          1.000000\n",
       "1%           3.000000\n",
       "10%          7.000000\n",
       "25%         14.000000\n",
       "50%         33.000000\n",
       "75%         81.000000\n",
       "90%        175.000000\n",
       "99%        586.650000\n",
       "max       1506.000000\n",
       "Name: num_of_words, dtype: float64"
      ]
     },
     "execution_count": 21,
     "metadata": {},
     "output_type": "execute_result"
    }
   ],
   "source": [
    "# first have all comments together\n",
    "\n",
    "dataset_2['num_of_words'].describe(percentiles=[0.01, 0.1, 0.25, 0.5, 0.75, 0.9, 0.99])"
   ]
  },
  {
   "cell_type": "code",
   "execution_count": 22,
   "metadata": {},
   "outputs": [],
   "source": [
    "dataset_2_pos_only = dataset_2[dataset_2['review_score'] == 1]\n",
    "dataset_2_neg_only = dataset_2[dataset_2['review_score'] == 0]"
   ]
  },
  {
   "cell_type": "code",
   "execution_count": 23,
   "metadata": {},
   "outputs": [
    {
     "data": {
      "text/plain": [
       "count    5877.000000\n",
       "mean       58.932959\n",
       "std        99.649667\n",
       "min         1.000000\n",
       "1%          2.000000\n",
       "10%         6.000000\n",
       "25%        11.000000\n",
       "50%        26.000000\n",
       "75%        64.000000\n",
       "90%       139.000000\n",
       "99%       494.680000\n",
       "max      1371.000000\n",
       "Name: num_of_words, dtype: float64"
      ]
     },
     "execution_count": 23,
     "metadata": {},
     "output_type": "execute_result"
    }
   ],
   "source": [
    "# describe the characteristics of the number of words\n",
    "\n",
    "dataset_2_pos_only['num_of_words'].describe(percentiles=[0.01, 0.1, 0.25, 0.5, 0.75, 0.9, 0.99])"
   ]
  },
  {
   "cell_type": "code",
   "execution_count": 24,
   "metadata": {},
   "outputs": [
    {
     "name": "stderr",
     "output_type": "stream",
     "text": [
      "/Users/michaelcheng/miniforge3/envs/fyp-test/lib/python3.9/site-packages/seaborn/_oldcore.py:1498: FutureWarning: is_categorical_dtype is deprecated and will be removed in a future version. Use isinstance(dtype, CategoricalDtype) instead\n",
      "  if pd.api.types.is_categorical_dtype(vector):\n",
      "/Users/michaelcheng/miniforge3/envs/fyp-test/lib/python3.9/site-packages/seaborn/_oldcore.py:1119: FutureWarning: use_inf_as_na option is deprecated and will be removed in a future version. Convert inf values to NaN before operating instead.\n",
      "  with pd.option_context('mode.use_inf_as_na', True):\n"
     ]
    },
    {
     "data": {
      "text/plain": [
       "<Axes: xlabel='num_of_words', ylabel='Count'>"
      ]
     },
     "execution_count": 24,
     "metadata": {},
     "output_type": "execute_result"
    },
    {
     "data": {
      "image/png": "[encoded data removed]",
      "text/plain": [
       "<Figure size 432x288 with 1 Axes>"
      ]
     },
     "metadata": {
      "needs_background": "light"
     },
     "output_type": "display_data"
    }
   ],
   "source": [
    "sns.histplot(data=dataset_2_pos_only, x='num_of_words',bins=30,color='green')"
   ]
  },
  {
   "cell_type": "code",
   "execution_count": 25,
   "metadata": {},
   "outputs": [
    {
     "data": {
      "text/plain": [
       "count    7509.000000\n",
       "mean       83.776002\n",
       "std       130.012390\n",
       "min         1.000000\n",
       "1%          3.000000\n",
       "10%         8.000000\n",
       "25%        15.000000\n",
       "50%        40.000000\n",
       "75%        95.000000\n",
       "90%       204.000000\n",
       "99%       649.000000\n",
       "max      1506.000000\n",
       "Name: num_of_words, dtype: float64"
      ]
     },
     "execution_count": 25,
     "metadata": {},
     "output_type": "execute_result"
    }
   ],
   "source": [
    "dataset_2_neg_only['num_of_words'].describe(percentiles=[0.01, 0.1, 0.25, 0.5, 0.75, 0.9, 0.99])"
   ]
  },
  {
   "cell_type": "code",
   "execution_count": 26,
   "metadata": {},
   "outputs": [
    {
     "ename": "IndexError",
     "evalue": "single positional indexer is out-of-bounds",
     "output_type": "error",
     "traceback": [
      "\u001b[0;31m---------------------------------------------------------------------------\u001b[0m",
      "\u001b[0;31mIndexError\u001b[0m                                Traceback (most recent call last)",
      "\u001b[1;32m/Users/michaelcheng/Documents/MyDocs/HKU/COMP4801 FYP/FYP/NLP/sa_hkuchatgpt/eda_on_joinedcleanedchunks.ipynb Cell 26\u001b[0m line \u001b[0;36m<cell line: 3>\u001b[0;34m()\u001b[0m\n\u001b[1;32m      <a href='vscode-notebook-cell:/Users/michaelcheng/Documents/MyDocs/HKU/COMP4801%20FYP/FYP/NLP/sa_hkuchatgpt/eda_on_joinedcleanedchunks.ipynb#X34sZmlsZQ%3D%3D?line=0'>1</a>\u001b[0m \u001b[39m# select some text for sample\u001b[39;00m\n\u001b[0;32m----> <a href='vscode-notebook-cell:/Users/michaelcheng/Documents/MyDocs/HKU/COMP4801%20FYP/FYP/NLP/sa_hkuchatgpt/eda_on_joinedcleanedchunks.ipynb#X34sZmlsZQ%3D%3D?line=2'>3</a>\u001b[0m dataset_2_neg_only[dataset_2_neg_only[\u001b[39m'\u001b[39;49m\u001b[39mnum_of_words\u001b[39;49m\u001b[39m'\u001b[39;49m]\u001b[39m==\u001b[39;49m\u001b[39m645\u001b[39;49m]\u001b[39m.\u001b[39;49miloc[\u001b[39m0\u001b[39;49m][\u001b[39m'\u001b[39m\u001b[39mreview_text\u001b[39m\u001b[39m'\u001b[39m]\n",
      "File \u001b[0;32m~/miniforge3/envs/fyp-test/lib/python3.9/site-packages/pandas/core/indexing.py:1153\u001b[0m, in \u001b[0;36m_LocationIndexer.__getitem__\u001b[0;34m(self, key)\u001b[0m\n\u001b[1;32m   1150\u001b[0m axis \u001b[39m=\u001b[39m \u001b[39mself\u001b[39m\u001b[39m.\u001b[39maxis \u001b[39mor\u001b[39;00m \u001b[39m0\u001b[39m\n\u001b[1;32m   1152\u001b[0m maybe_callable \u001b[39m=\u001b[39m com\u001b[39m.\u001b[39mapply_if_callable(key, \u001b[39mself\u001b[39m\u001b[39m.\u001b[39mobj)\n\u001b[0;32m-> 1153\u001b[0m \u001b[39mreturn\u001b[39;00m \u001b[39mself\u001b[39;49m\u001b[39m.\u001b[39;49m_getitem_axis(maybe_callable, axis\u001b[39m=\u001b[39;49maxis)\n",
      "File \u001b[0;32m~/miniforge3/envs/fyp-test/lib/python3.9/site-packages/pandas/core/indexing.py:1714\u001b[0m, in \u001b[0;36m_iLocIndexer._getitem_axis\u001b[0;34m(self, key, axis)\u001b[0m\n\u001b[1;32m   1711\u001b[0m     \u001b[39mraise\u001b[39;00m \u001b[39mTypeError\u001b[39;00m(\u001b[39m\"\u001b[39m\u001b[39mCannot index by location index with a non-integer key\u001b[39m\u001b[39m\"\u001b[39m)\n\u001b[1;32m   1713\u001b[0m \u001b[39m# validate the location\u001b[39;00m\n\u001b[0;32m-> 1714\u001b[0m \u001b[39mself\u001b[39;49m\u001b[39m.\u001b[39;49m_validate_integer(key, axis)\n\u001b[1;32m   1716\u001b[0m \u001b[39mreturn\u001b[39;00m \u001b[39mself\u001b[39m\u001b[39m.\u001b[39mobj\u001b[39m.\u001b[39m_ixs(key, axis\u001b[39m=\u001b[39maxis)\n",
      "File \u001b[0;32m~/miniforge3/envs/fyp-test/lib/python3.9/site-packages/pandas/core/indexing.py:1647\u001b[0m, in \u001b[0;36m_iLocIndexer._validate_integer\u001b[0;34m(self, key, axis)\u001b[0m\n\u001b[1;32m   1645\u001b[0m len_axis \u001b[39m=\u001b[39m \u001b[39mlen\u001b[39m(\u001b[39mself\u001b[39m\u001b[39m.\u001b[39mobj\u001b[39m.\u001b[39m_get_axis(axis))\n\u001b[1;32m   1646\u001b[0m \u001b[39mif\u001b[39;00m key \u001b[39m>\u001b[39m\u001b[39m=\u001b[39m len_axis \u001b[39mor\u001b[39;00m key \u001b[39m<\u001b[39m \u001b[39m-\u001b[39mlen_axis:\n\u001b[0;32m-> 1647\u001b[0m     \u001b[39mraise\u001b[39;00m \u001b[39mIndexError\u001b[39;00m(\u001b[39m\"\u001b[39m\u001b[39msingle positional indexer is out-of-bounds\u001b[39m\u001b[39m\"\u001b[39m)\n",
      "\u001b[0;31mIndexError\u001b[0m: single positional indexer is out-of-bounds"
     ]
    }
   ],
   "source": [
    "# select some text for sample\n",
    "\n",
    "# dataset_2_neg_only[dataset_2_neg_only['num_of_words']==645].iloc[0]['review_text']"
   ]
  },
  {
   "cell_type": "code",
   "execution_count": 27,
   "metadata": {},
   "outputs": [
    {
     "name": "stdout",
     "output_type": "stream",
     "text": [
      "\"Horribly balanced an uninspired versus modes, if you're looking to make war on other people's faces, look elsewhere.  The Co-op however is very fun, with easily understood class mechanics and a decidedly old school feel. You might fail a mission a few times, but the game rewards learning encounters, and moves each mission up a difficulty level each day. The missions are cycled out at the top level of difficulty (hardcore) and a new mission enters the rotation at the bottom level (regular)  As free to play models go, there's decent progression to be had, and unlike a lot of similar games you're not forced to rent guns on a timer, but rather your equipped permanent weapons take durability damage. As long as you're consistantly winning at least half of the mission on skilled or higher difficulty, you end up with enough cash to repair your equipped gear and make a profit you can use to buy better stuff.  The shooting mechanics are solid, the guns feel meaty and worthwhile, and the sidearms are accurate and damaging enough to lean on in a pinch (or, if you're a shotgun-toting medic like myself, rely on for long range encounters) There are hard limits for weapon types per class, but the weapons and attachments generally have enough variety that you'll find something that fits your preference in the broad categories of SMG, assault rifle/machine gun, sniper rifle, or shotgun. The attachment system seems a little restrictive, wherin certain weapons can only mount certain attachments from their class (for exampleone shotgun may be able to use all of the shotgun rail attachments, but another may only be able to use two) but the ability to swap out attachments mid-battle gives them a lot of play.  The AI enemies are occasionally hilariously stupid, but generally present a decent threat which scales with difficulty level, and the game is not afraid to just spam you with hordes of faces to war on. The boss battles, which generally come in the flavors of heavy suit guy, giant walking mech, or helicopter are designed well enough that they feel fresh when moved to different environments as missions cycle.  For players that want to go above and beyond, there are certain secondary targets in each mission that reward speedruns and flashy kills/killstreaks with a special currency called crowns at the end. Crowns will allow you to rent some extremely powerful and flashy gear for a limited time, or throw them at a random box that has a change of giving a random crown rental, or a permanent (balanced) gun that is very good. This crown system is where I find most of the replayability, constantly trying to form teams capable of hiting the highest speedrun target time or putting together all-knife runs to try and hit the kill score target or whatever.  There are certain glitches and exploits found in missions now and then, but they tend to be the exception rather than the norm, which was a concern I had when researching the game. It's quite solid aside from the occasional getting stuck or random guy figuring out how to glitch a mission and whining because everyone else isn't using the glitch.  All in all, if you're a fan of co-op shooters and don't mind a pretty bland visual experience of soldiers shooting other soldiers, you'll probably have a lot of fun with warface, and I heartily reccommend it.\",\n",
      "\n",
      "\"As a huge fan of the entire dead rising series, I have played every single game of the series and can say that this is a great addition to the series. Not to say that this game is perfect (no game is really perfect) but much like its flawed predecessors the game is so much fun to play that you barely notice the flaws at all.    This game is significantly easier than the first two games in the series, it is much more relaxed on the time limit (6 days versus the usual 3), you can spawn weapons from the safe house (it is limited by a meter so you can't go overboard) and you can now craft combo weapons witout a crafting table.    A lot of people believe that these are negatives but I believe that these all play together really well with the co-op feature. Co-op has been one of my favorite things added to the series (in fact I recently picked up the remastered edition of dead rising 2 on ps4 so I could play it with one of my good pals). The controls in Dead Rising 3 are improved significantly, instead of scrolling through all your weapons they have now included a weapon wheel which is very helpful when you are surrounded by zombies.    Speaking of zombies this game has a ton of them, I was shocked when I saw just how many zombies they crammed into the streets of Los Perdidos. The series has always been known for the staggering amount of zombies they manage to have in the games, but this one takes the cake. It feels like you are in a movie.    Thankfully the developers also added vehicles (and super powerful combo vehicles) to allow you get through these hordes. Smashing through zombies is very fufilling and is an easy way to rack up kills. And I cannot stress enough how thankful I am that they added a sprint button.  The game looks fantastic, even at its 720p native resolution it still blows me away and this game has great controller support which is refreshing.    This game gets a lot of crap for being different than the first two games, and I'm going to be honest here there are some changes that I do not care for, I wish the story still had some deadline requirements instead of just needing to be completed before the last day and that the outside borders of the map weren't so obviously borders (the first two games took place in circularish shaped malls that for the most part did a really good job masking that there was even an out of bounds area, unlike the new map that takes place in a city). However if you let the few negative aspects of the game deter you from playing it, you are going to miss out on all the great things that are there. (Also in my experience I never have had problems running this game, but I have been running it at its 720p resolution and I have heard that people have been experiencing problems running it at the 1080p resolution.)\",\n",
      "\n",
      "\"The first thing that happens when you start to play Shadwen is, you'll probably be annoyed by the game. That's because the controls are rather awkward. If you stop moving in the game the game freezes that very moment. Imagine Keanu Reeves in Matrix during a fight where he's floating in mid air while the camera is circling around him and you'll get the idea. In order to re-establish the normal flow of time you can either keep moving or have to press a button. The first time you experience this there's a big chance the game will repel you. The trick is to get over it. The controls really aren't the downside of this game and you'll get used to them very quickly.  The second thing that sucks at the start of the game is the tutorial. As Shadwen you will construct a grappling hook and have to climb the outer city wall by clinging to wooden beams. This is extremely frustrating because you keep falling down. Actually this act of climbing is by far harder than any other situation in the complete game and the only reason the developers added this chapter is to show you how to do it. It's completely unnecessary and there's the risk this will drive players away from the game.  Once you reached the top of the wall you already managed the hardest part of the game. Get to Lily and start enjoying. Shadwen is a great game if you play it the right way.  Now what's the right way to play Shadwen?  Well, when you first meet Lily she's in trouble because she took some apples from an apple tree and a guard is threatening her. Your first approach, of course, is to kill the guard. But Lily is shocked and takes you for a bad person. So I decided to turn back time - yes, you can do that - and played my first play-though by not killing anybody.   By doing so, the game will tell a very touching story and during the course of the game Lily and Shadwen will become friends. Between each level the two talk to each other and by the time you reach the end of the game you'll be attached to the two of them.  If you choose to kill a guard and Lily finds out the two will hardly talk to each other. The dialogues simply consist of 'Here, I have some food for you' and 'Thank you for taking me with you'. That's it. No story at all. So if you decide to kill people you'll miss the story. The game is still fun but not as good as with the story. I therefore strongly recommend playing the game without killing anybody first. As for a second play through kill them all. I guess that was the developers intention in the first place because you can collect a lot of achievements for not killing anybody as well as for killing everybody in each level.  It's worth playing this game twice because Shadwen is like two games in one. If you decide not to kill people the game is very much like a puzzle game. You have to think about how to distract guards so Lily can pass them because you need Lily to open doors. As long as guards are in her way she cannot continue.  In case you decide to kill all the guards the game plays very differently. It's also far shorter because it's much simpler to kill everybody than to sneak around them, especially in the earlier levels. Unfortunately most players will never know what they missed because they decided to kill the guards.  Pros: - very beautiful graphics - good music - very good voice acting - fantastic, threatening atmosphere - feels like two games in one - new, unique gameplay idea (it's more than a stealth game) - Shadwen really looks like a killer  - Cons: - repetitive voice acting by the guards - guards sometimes fall into the water by themselves. In case you try not to kill anybody that's a little problem.  - players that kill guards miss the best of the game - guards are pretty dumb - only two type of enemies - comic cut scene pictures of Lily and Shadwen do not resemble the 3D models  Shadwen is an awesome game with two major design flaws, the difficult tutorial and the fact that there's almost no story if you kill people. Nevertheless I enjoyed this game very much.\",\n",
      "\n",
      "\"It's really great to play this game again, especially because of the lack of good RTS games these days. At the price it is, it's really a steal as you get 4 games included (the original games and the remastered games). I still maintain that this is one of the greatest games ever made.  However I do have a few of gripes.  There are a few bugs and a few instabilities. The game crashes at the moment in multiplayer, which is seriously dodgy and shoddily made anyway. Sure it does say beta - but you'd expect glaring bugs like crashing when you connect to a game and not being able to connect to people's games, even through steam, who are in different regions than you, (unless you change your download location in Steam, but why should you have to?) to be fixed before release, or at the very least shortly after (been 3 days now without a single patch).  Another thing is that this game has been 'remastered'. That's great and some things have been greatly improved. BUT it still looks really old. The skins and effects have been updated, aswell as some of the sounds, mostly for the better but sometimes for the worse. Example: interceptor/scout guns used to sound great in the original; kind of like machineguns, while in the remake they LITERALLY go 'pew pew pew'.  Also when a game is remastered, you'd expect them to at least update the AI a bit. The battlecruisers in HW2 are STILL majorly bugged in that they simply cannot fly forward without a major headache, usually spinning around and around, very very slowly, reminding me of when I used to play homeworld 2 back in the day and never used BCs for this very reason. Ships also fly out of formation and kamikaze with harmful asteroids in a certain mission in the first game.  My biggest gripe is that the Taiidan and colour options are missing from the Homeworld campaign. In the original, you could pick from two different fleet styles and colour them however you wanted. Now you are basically shoved into the game with none of those options, really proving some of us purists right when we were worried about gameplay being changed.  In multiplayer they have merged the fleet styles from both the first and second game. I need to play some more but I can't help thinking that they are highly incompatible.  Don't get me wrong this is a great game and still well worth your cash. I will summarise thusly:  Homeworld Remastered is a great game but the remastered part is very misleading. Some key gameplay options have been changed, others removed completely. The skins and effects have been upgraded but the models themselves look old and blocky still. The AI has NOT been remastered at all, not even a little bit, and the whole thing just feels... lazy. Still an amazing deal but only because it's riding on the success of the original masterpiece from Relic. Definately worth it, but it could have been even better with a little more effort in the right places.  Postscript: Please get rid of that horrible bloody hyperspace icon that obnoxiously pastes itself on the screen at the end of a mission.\",\n",
      "\n",
      "\"Banished is sometimes peaceful, sometimes brutal, but very fun. There's something really satisfying about striking just the right balance between population growth and resources. If you're not careful and you build too fast, or make a few bad decisions, you may find yourself facing a cascading infrastructure collapse leading to a slow, painful death for your community. Use up too much wood and then they have no heat. The food workers start freezing to death, leaving the wood cutters to starve to death. Then the blacksmith runs out of wood to make tools with, and everyone's tools start breaking with no replacements. Within one season, your bustling town of 50 citizens dwindles down to 20 or less, and you're scrambling to fill essential jobs with a freezing, starving workforce. All kinds of other things can happen too. Too many kids and you can't produce enough food to feed them. Too few children and your workers die of old age with nobody to replace them. The whole game is a knife edge balancing act where the repercussions of one decision might not be apparent for an hour or so, but by then it's too late.  This is a game of suspense and tension, punctuated by moments of relaxing tranquility. At least at first. Eventually you start to get a handle on the mechanics and it becomes a little easier, but there are still random events that may happen, or surprises around the corner which you haven't adequately prepared for. As of this review I've put in over 22 hours and so far I haven't seen any major disasters, just the occassional diseased crop or fire breaking out. By now I've gotten to where I'm starting out on 'Hard' with 'Harsh' weather and I'm doing okay. My last town went from about 48 workers to 20, however, because I wasn't building enough houses and people weren't having children fast enough. Thankfully I had a Town Hall, so a group of nomads joined up and I was able to bounce back. My goal right now is to import one of every type of seed and livestock, and have farms and fields set up for each one. After that, I'm not sure if there will be too many other goals I'd have to keep playing, except perhaps to obtain a population of 500, maybe 1000. Hopefully by then the developer will have added some new building types or new mechanics to mix things up a bit.  I've played Tropico 4, Sim City 4, Sim City Societies, Towns, the Stronghold series, and several other RTS's, and I enjoy them all for different reasons. This game doesn't have the economic and public policy complexity of Tropico or Sim City, but what you get instead is a constant sense of battling the elements and keeping your people alive. The primitive setting, with fishing, wood cutting, farming, mining, and a cycle of birth and death, along with weather conditions and seasons give Banished a visceral, earthy vibe that no other game has. It's pretty amazing for what it is, although without some new systems or gameplay elements, I don't know if I'll be able to get 100 hours out of it without it going stale. However, I suspect 40-60 hours should be easily doable, and for a $20 game, that's a great deal.\",\n",
      "\n"
     ]
    }
   ],
   "source": [
    "for index, row in dataset_2_pos_only[dataset_2_pos_only['num_of_words'] > 512].sample(n=5).iterrows():\n",
    "    print(\"\\\"\"+ row['review_text']+ \"\\\",\")\n",
    "    print()"
   ]
  },
  {
   "cell_type": "code",
   "execution_count": 28,
   "metadata": {},
   "outputs": [
    {
     "name": "stdout",
     "output_type": "stream",
     "text": [
      "\"I have looked for this game for ages. I played a demo a long time ago and remembered the gameplay fondly, but all I could remember was that it was some kind of Fairy RPG with a female protaganist. Some research eventually led me to Zanzarah and I thought, 'THIS IS IT!!! OH MY GOD, I FOUND IT!!!'  Unfortunately, I cannot recommend the game in its current state. To begin with, anybody who says they have trouble moving or anything control related is clearly attempting to use WASD controls. This is an old game. Very old. So old it does not use WASD. It uses the Arrow Keys. As a leftie, I had no problems starting this game.  I have an Nvidia graphics card and started up the game on the highest possible settings. Immediately I grew concerned. The menu was extremely laggy and nothing I did seemed to change that. Oh well, I thought, I'll just dive in, maybe it's just to do with the menu. I was proven....... sort of right? Upon loading up the game, I thought, 'Graphics are a bit meh, but this IS from 2002 or something.' Moving upstairs in the house you start in, I started to see graphical glitches. Some strange yellow shapes moving in the walls, occasionally causing said walls to become completely invisilbe. 'Uh oh', thought I, 'Is this a taste of things to come?'  I get the first rune, go to the fairy world and I'm greeted by a nice enough looking creature. This is when I had my big revelation. All the lag/framerate issues in this game, the menu, the gameplay, the dialogue, IT'S ALL RELATED TO HOW MUCH TEXT IS ON THE SCREEN! Seriously. When you get into dialogue, one of the first things I noticed was that it wasn't lagging. And then it was lagging a little bit. Then it was lagging a lot. All that was changing? How much text was on the screen. As the little goblin talked, the dialogue box got slower and slower. I then realised the same thing was true of the menu. If you're on the map screen, say, there's very little lag. Why? Because it's just a map with very little text. You go into your item or the options menu, lots of text, game slows up.  POOR FRAMERATE IS BECAUSE OF TEXT, DEVELOPERS!!!! GET ON IT!!!!! They probably know that already, but in case they didn't........ TEXT!  So I continue on, thinking if text is the only problem, I should be ok. I get to the village, find a knowledgeable owl, get told I need a Fairy, get confused for a second, think I'm playing Ocarina of Time, remember I'm actually playing Zanzarah. Anyway, get Fairy (Nature FTW), go outside, AH I'M BEING BATTLED! This is where things got annoying.  It wasn't unplayable. I still won. With a level 8 fairy against a level 3 fairy. But I didn't win as decisively as you might think.  1) Any text, such as numbers, that came up on the screen during the fight when you did damage, slowed the game up momentarily, before speeding back up as the text disappears. This happens EVERY TIME YOU HIT YOUR OPPONENT!! 2) There are major graphical glitches in the arena, with the background glitching out and duplicating itself everywhere. As a result, it made keeping track of things quite difficult, and considering that this is THE main game mechanic, this doesn't look too good.  So to sum up (TL;DR): To the Players: It's not quite unplayable, but it's a massive challenge, especially if you get into a bunch of different battles. To the Devs: You need to have a look at your rendering, with particular attention being given to how text is being drawn to the screen. This is where the majority of lag spikes occur. Also, look into overlapping textures being redrawn when they shouldn't be, as this may be causing the strange graphical glitches, especially in the battle arena.\",\n",
      "\n",
      "\"Lilly Looking Through is a point and click atmospheric puzzle and (somewhat) adventure game. I’m a bit reluctant to call it an adventure game as the game itself has little to no story. Now the artwork from screen to screen is adorable, beautiful even, the animation is great, however they can become a little bit out-drawn at times. The music on the other hand is simply stunning and ads a lot of mystery and whimsicality to the game.  When it comes to the puzzles, I had a hard time figuring out what I was supposed to do every once in a while, but at the same time I liked the challenge of solving them. As you often have to think outside of the box. I particularly liked the use of Lilly’s (or Lilly’s brother’s) goggles.  The characters don’t have any particular background story, which is a bit disappointing, but it is understandable, when you take into account the time you use to play through the game. Speaking of time. As the game is relatively short, I expected a closed ending at the least, but alas, that did not happen. The choice of ending confused me and made me think: “That’s the ending? That’s it?” The open ending made me think they’re planning a follow-up to this game, but in all honesty, if the next game is the same length as this one, I very much doubt I’ll buy it. The way the ending looked, it seemed that this is just ½ of a whole game. The latter is just speculation on my part though.  In the end, this is just an experience game made to set a mood and impression. Don’t get me wrong. By describing this is as just an experience game, I want to express that those wanting to play this game, and expect a plot and a story on the same level as the art, animation and sound will most likely be disappointed. Most of the short playtime is made up of puzzles that, once figured out are very easily solved the second time around. Seeing as it's both short and without a story, all you’re really left with is a short time with a feeling of whimsy that's mostly filled by puzzles made somewhat tedious due to slow animations between motions.  When it comes to the price, I think that 9€ is a reasonable price for a game like this. I’ve seen games far worse than this going for a lot more, but I don’t think I’d go as far as paying extra for the “deluxe edition”. Overall, I’d say this is a good game. What I’ve enjoyed the most in this game would be the underwater puzzles/ cave puzzle. Again, I really love the art, the music and last, but not least the puzzles plus the use of the goggles in the game. It definitely is worth a play-trough, but that is about it. As much as I’d love to recommend buying this game, I still feel something is lacking before you could actually say that it is a 100% finished product. I’d say the game is entitled to get ½ cookie out of 1 whole cookie :)\",\n",
      "\n",
      "\"  After two years of playing this game, I have finally come to a point in which I can review it in full for what it is. And to be truthful, the positives are beginning to fade leaving merely negatives.     APB: Reloaded is a shadow of its former self in many regards, and these days is a shambling mess that won't warrant attention for much longer. With a dwindling playerbase and a greedy publisher, things have been turning sour as of late. Years ago during the original APB, the game looked and performed better for what it provided. Sure, it was a mess back then and it still is now. But some aspects were better back then, from what I've heard.  As a player who had played the game for well over 2,900 hours, I have experienced just about all there is to be offered by the game. And maintaining my honesty, there's some great potential locked away in this game. The potential for player designed content is stunning, and no other game provides such depth for customization on such a broad scale. Other games like EvE Online might provide an excellent character creation suite, and racing games like Forza (can't recall which one specifically) that have in depth car customization exist... But no other game brings systems akin to those present in other titles all into one MMO. Sounds great, doesn't it? If only it wasn't nearly impossible to get into the game.  Back a couple of years ago when I started playing APB:R, there were times I had to force myself to play to get accustomed to the game. I loved it too much to let it go, but it wasn't doing me any favours because it was (and still is) very harsh on new players. All the new free content is almost exclusively available to high ranking players with lots of experience, or to those who wish to become a wallet warrior using the in game cash shop. Now, to put it bluntly... No, I do not think APB is very Pay2Win. Are there some P2W aspects present in the game? Yeah, there is. But almost all of the things that will affect you in an actual match, things that dictate your performance against other players, can be achieved without dropping a dollar on the game. Most paid items merely exist as a shortcut to something that you can still earn on your own, but it'll take a lot of work to get those items.   But, more on the subject of the game rather than the playerbase; how is it really? Well, it's a glorified version of Cops vs Robbers you used to play as a kid in your back yard when you were a kid. That, and then an insane amount of customization potential. The customization elements are rock solid and very enjoyable to use, and you'd be very surprised with the things that some people are capable of creating in game. But the game... How does it run? Well, poorly. The thing about a lot of people who play Free2Play games is that they aren't usually very wealthy and can't afford much in terms of paid games or a strong computer to play them on. APB tends to perform rather badly for some lower end hardware configurations which frankly kills that part of the market. Unless you have a very high end computer, you best be ready for feeling serious stuttering in game. However the dedicated servers that the game is hosted on are also rather bad. The server hardware is slowly being worked on to be upgraded, but it will take a long time for full deployment of the new hardware. Unfortunately, the new hardware that provides better server quality (not by much) is only high end consumer grade desktop hardware. Not server grade stuff... But consumer grade stuff. Disappointing, really.  The combat in game is somewhat hampered at times due to the condition of the servers, which results in poor hit detection for some people and frequent lag spikes on certain servers with the older server hardware. Driving can also be awkward, as driving in APB isn't like in other games. According to the developers, certain things are bound to the server and you have to interact with the server in order to interact with certain items... Like vehicles. There's an easily noticeable delay in steering and throttle for vehicles as you are technically sending commands to the server to move your vehicle, then waiting for it to confirm those actions and send information back to you for your game to display on your monitor. So to put it briefly, the combat and driving can be rather clunky at times.  All in all though, is the game worth it to try and get into? Currently, it's not quite there. Unless you absolutely adore the customization options available, then it isn't really worth your time to start playing it right now. The amount of headaches you'll have to deal with is a massive turn off for fresh players. Not to mention the community is quite frankly rubbish. There's trolling jerks left and right, along with closet cheaters that mask their cheats as skill in order to make up for their own shortcomings so they can be good at a mere video game. A better time to jump on this game would have been a little over a year ago, but things are improving so it might be new player friendly again sometime soon. Currently the devs are working on updating the core engine of APB: R to make things substantially better from a development point of view, but if they can't make that work and create new content to keep people around... Well, this game won't become the MMO everyone plays and it'll just be another MMO that most people just look at once and say 'nah...'. It's up to you if you want to jump into this game how it is now, as it's rough in a lot of spots but a few things shine so bright.  Game Rating: 7/10 for what the game is capable of, but 5/10 for the community that calls APB:R home.\",\n",
      "\n",
      "\"Just Cause is a slightly older game (around the end of the PS2's life cycle) that boasts a massive area to explore, a seemingly endless amounts of side missions and content to take on, and much much more. I recently picked up the series on sale, and as per usual, I'm writing this review from a completionist perspective. I've done all there is to do in the game and am trying to judge it based on all that it has to offer.  Now before I get blasted by hate (becaus a LOT of people like this game, and may get butt hurt because of the not recommended review I'm giving) hear me out. I will give credit where credit is due and review the game as fairly as I possibly can.  PROS: -The game does NOT look ten years old unless you look at the characters. The environment is beautiful, the water physics are perfect, and all in all it just looked good. -MASSIVE area. They didn't lie here, the area is so large that it would take literal days to explore it all. There are tons of easter eggs hidden away, like a hidden temple that is unmarked, to explore that reward you for making the effort. -Some aspects of the gameplay were really satisfying, I like the concepts of taking over the islands of San Esperito one area at a time, it makes you feel like you're actually fighting a war and need to think tactically. It also gives the game a great flow for progression. -Instead of a levelling system, you have to rise through the ranks of the Guerilla faction, and the Rioja drug cartel to get better gear. This is a really cool concept for incentives, as it makes you want to do more for these factions.  Now you may be thinking 'Whoa, Pokemon_Master503, this sounds awesome! Why could you possibly call this game a pile of steaming crap?' Well...  CONS: -SEVERELY underwhelming story. This game has around 21 missions (or 19, if you count the last one, which is one continuous mission segmented into three different chapters as three missions) The story missions aren't that difficult, and could honestly be beaten in their entirety in about three or four hours. 'But you have 37 hours logged!' I hear you say. Remember, I'm writing a completionist review of the game, therefore the rest of that time is made up of other content.  -Cardboard characters and lackluster storytelling. The game doesn't make you care at all about the people's plight in San Esperito, the characters, the Agency, your partners, or the resistence. These elements take a backburner to the filler content that was packed into the game. For a single player only game, you would think story and good characters would be a must, but here they clearly weren't important at all. Which brings us to our next point. -Copy and pasted side missions. The game has 9 races, 13 collectathon missions, settlement overthrowing, and side missions for the guerilla and Rioja factions. The first two classes of missions were all unique and each individual race and mission was treated as an individual part of the game, but the last two, which are meant to help you out in the story because of the unlocks, were simply carbon copies of each other. Settlements all looked nearly EXACTLY the same, with either coastal town, rural town, city, or military base as their type. These four are distinguishable from each other, but not distinguishable within each type. For the Rioja settlements, save for a handful, they are all the exact same more or less. For side missions, they are algorithmically generated, so the side missions aren't actually rewarding or change the world around you, like side missions SHOULD. they just advance your rank in the respective faction, but it gets worse, where they are algorithmically generated, they repeat the same missions over and over again. 200+ side questss? More like 5 of the same with varying location. On that note -Copy and pasted environment, The environment doesn't change at all. Sure, it's algorithmically generated and huge, but THERE'S NOTHING THERE. -And last but not least GLITCHES. GOD THE GLITCHES. 'gets off motorbike, motorbike goes flying across map.' ''Tank just casually flying for no reason.' 'Spawning in a place where you can't move' IT'S SO FUN.  If you're GONNA buy, buy it on sale. like for $3 or below\",\n",
      "\n",
      "\"This game feels like it's trying to do the Y Chronicals or Link to the Past thing, where combat takes place in real time, rather than in the typical random enounter way. The problem with this is that the RPG Maker engine wasn't meant for this type of combat. Developers, I congratulate you for making the game do it... but it's a shame you didn't do it well.  I learned that this game uses a system where enemiew level up with the player. A novel concept, but it utterly fails in practice. Developers, I'm sorry. But you picked the wrong genre to include such a feature, because doing this punishes the player for grinding. When you have a game that rewards players for killing enemies with exp, money, and crafting items, chances are we're going to be encouraged to fight as many things as we can see. And the combat system you developed makes it really easy to kill a ton of things early on. But as you level up, enemies will start to take more and more hits to kill. And then you'll reach level 5 during the first notable quest, only to get gored by a bee on the way back. Killing 20 slimes doesn't turn the rest of them into liquid iron. Not in a logical world, anyways.  Writing is extremely poor early on. Who am I? Why do I down a rat infested well to train? What 'training' do I get done by beating up on an archery target with a knife? How did guy from the guild see me training on the cliff side? I never say any other spot in town where someone could get that kind of view. The moment I'm done with that training, he comes to me and says he'll give me a weapons license and a guild membership. Is it really that easy to join this guild? I wouldn't mind if the writing wasn't handled so clumsily. If you have a guild with criteria to join, it's typically best to have the player go to the guild, and be given some sort of minor adventuring quest to join it. Not saying you have to fit the generic mold; but either make joining the adventurers guild some sort of major feat for the character, or have them already in it. Otherwise, joining feels meaningless. Another protip would be to think of catchier names for towns and people. I know that seems like nitpicking. But it helps your world to make it memorable.  And here's a protip for using the RPG VX ACE maker. I noticed this when I stepped on a patch of tall grass, and it looked like I was floating on top of it. If you go into your tilesets, where most tiles have like an X or O on it, there should be an option that looks like 2 wavy lines. I don't have it pulled up right now, so I can't give the actual name for it. But it'll make it to where characters get their lower half shaded when walking over a section. This creates the illusion that your character has the grass coming up to his waist. Just apply it to the tall grass sections and you're good.  Overall, it's a game I fell if I do complete, it'll be by force. Sorry guys. This just wasn't your game.\",\n",
      "\n"
     ]
    }
   ],
   "source": [
    "for index, row in dataset_2_neg_only[dataset_2_neg_only['num_of_words'] > 512].sample(n=5).iterrows():\n",
    "    print(\"\\\"\"+ row['review_text']+ \"\\\",\")\n",
    "    print()"
   ]
  },
  {
   "cell_type": "code",
   "execution_count": 29,
   "metadata": {},
   "outputs": [
    {
     "name": "stderr",
     "output_type": "stream",
     "text": [
      "/Users/michaelcheng/miniforge3/envs/fyp-test/lib/python3.9/site-packages/seaborn/_oldcore.py:1498: FutureWarning: is_categorical_dtype is deprecated and will be removed in a future version. Use isinstance(dtype, CategoricalDtype) instead\n",
      "  if pd.api.types.is_categorical_dtype(vector):\n",
      "/Users/michaelcheng/miniforge3/envs/fyp-test/lib/python3.9/site-packages/seaborn/_oldcore.py:1119: FutureWarning: use_inf_as_na option is deprecated and will be removed in a future version. Convert inf values to NaN before operating instead.\n",
      "  with pd.option_context('mode.use_inf_as_na', True):\n"
     ]
    },
    {
     "data": {
      "text/plain": [
       "<Axes: xlabel='num_of_words', ylabel='Count'>"
      ]
     },
     "execution_count": 29,
     "metadata": {},
     "output_type": "execute_result"
    },
    {
     "data": {
      "image/png": "[encoded data removed]",
      "text/plain": [
       "<Figure size 432x288 with 1 Axes>"
      ]
     },
     "metadata": {
      "needs_background": "light"
     },
     "output_type": "display_data"
    }
   ],
   "source": [
    "sns.histplot(data=dataset_2_neg_only, x='num_of_words',bins=30,color='orange')"
   ]
  },
  {
   "cell_type": "markdown",
   "metadata": {},
   "source": [
    "Distribution of words in all review texts\n",
    "\n",
    "We will perform that with stopwords and w/out stopwords"
   ]
  },
  {
   "cell_type": "code",
   "execution_count": 30,
   "metadata": {},
   "outputs": [],
   "source": [
    "dataset['list_words'] = dataset['review_text'].apply(lambda x:str(x).split())"
   ]
  },
  {
   "cell_type": "code",
   "execution_count": 31,
   "metadata": {},
   "outputs": [
    {
     "data": {
      "text/html": [
       "<style type=\"text/css\">\n",
       "#T_591dc_row0_col1 {\n",
       "  background-color: #08306b;\n",
       "  color: #f1f1f1;\n",
       "}\n",
       "#T_591dc_row1_col1 {\n",
       "  background-color: #529dcc;\n",
       "  color: #f1f1f1;\n",
       "}\n",
       "#T_591dc_row2_col1 {\n",
       "  background-color: #56a0ce;\n",
       "  color: #f1f1f1;\n",
       "}\n",
       "#T_591dc_row3_col1 {\n",
       "  background-color: #5fa6d1;\n",
       "  color: #f1f1f1;\n",
       "}\n",
       "#T_591dc_row4_col1 {\n",
       "  background-color: #a1cbe2;\n",
       "  color: #000000;\n",
       "}\n",
       "#T_591dc_row5_col1 {\n",
       "  background-color: #aacfe5;\n",
       "  color: #000000;\n",
       "}\n",
       "#T_591dc_row6_col1 {\n",
       "  background-color: #b0d2e7;\n",
       "  color: #000000;\n",
       "}\n",
       "#T_591dc_row7_col1 {\n",
       "  background-color: #b4d3e9;\n",
       "  color: #000000;\n",
       "}\n",
       "#T_591dc_row8_col1 {\n",
       "  background-color: #c7dbef;\n",
       "  color: #000000;\n",
       "}\n",
       "#T_591dc_row9_col1 {\n",
       "  background-color: #cfe1f2;\n",
       "  color: #000000;\n",
       "}\n",
       "#T_591dc_row10_col1 {\n",
       "  background-color: #d6e6f4;\n",
       "  color: #000000;\n",
       "}\n",
       "#T_591dc_row11_col1 {\n",
       "  background-color: #dfebf7;\n",
       "  color: #000000;\n",
       "}\n",
       "#T_591dc_row12_col1 {\n",
       "  background-color: #e3eef8;\n",
       "  color: #000000;\n",
       "}\n",
       "#T_591dc_row13_col1 {\n",
       "  background-color: #e4eff9;\n",
       "  color: #000000;\n",
       "}\n",
       "#T_591dc_row14_col1 {\n",
       "  background-color: #edf4fc;\n",
       "  color: #000000;\n",
       "}\n",
       "#T_591dc_row15_col1 {\n",
       "  background-color: #f0f6fd;\n",
       "  color: #000000;\n",
       "}\n",
       "#T_591dc_row16_col1, #T_591dc_row17_col1, #T_591dc_row18_col1 {\n",
       "  background-color: #f6faff;\n",
       "  color: #000000;\n",
       "}\n",
       "#T_591dc_row19_col1 {\n",
       "  background-color: #f7fbff;\n",
       "  color: #000000;\n",
       "}\n",
       "</style>\n",
       "<table id=\"T_591dc\">\n",
       "  <thead>\n",
       "    <tr>\n",
       "      <th class=\"blank level0\" >&nbsp;</th>\n",
       "      <th id=\"T_591dc_level0_col0\" class=\"col_heading level0 col0\" >Common_words</th>\n",
       "      <th id=\"T_591dc_level0_col1\" class=\"col_heading level0 col1\" >count</th>\n",
       "    </tr>\n",
       "  </thead>\n",
       "  <tbody>\n",
       "    <tr>\n",
       "      <th id=\"T_591dc_level0_row0\" class=\"row_heading level0 row0\" >0</th>\n",
       "      <td id=\"T_591dc_row0_col0\" class=\"data row0 col0\" >the</td>\n",
       "      <td id=\"T_591dc_row0_col1\" class=\"data row0 col1\" >39106</td>\n",
       "    </tr>\n",
       "    <tr>\n",
       "      <th id=\"T_591dc_level0_row1\" class=\"row_heading level0 row1\" >1</th>\n",
       "      <td id=\"T_591dc_row1_col0\" class=\"data row1 col0\" >to</td>\n",
       "      <td id=\"T_591dc_row1_col1\" class=\"data row1 col1\" >25012</td>\n",
       "    </tr>\n",
       "    <tr>\n",
       "      <th id=\"T_591dc_level0_row2\" class=\"row_heading level0 row2\" >2</th>\n",
       "      <td id=\"T_591dc_row2_col0\" class=\"data row2 col0\" >and</td>\n",
       "      <td id=\"T_591dc_row2_col1\" class=\"data row2 col1\" >24558</td>\n",
       "    </tr>\n",
       "    <tr>\n",
       "      <th id=\"T_591dc_level0_row3\" class=\"row_heading level0 row3\" >3</th>\n",
       "      <td id=\"T_591dc_row3_col0\" class=\"data row3 col0\" >a</td>\n",
       "      <td id=\"T_591dc_row3_col1\" class=\"data row3 col1\" >23722</td>\n",
       "    </tr>\n",
       "    <tr>\n",
       "      <th id=\"T_591dc_level0_row4\" class=\"row_heading level0 row4\" >4</th>\n",
       "      <td id=\"T_591dc_row4_col0\" class=\"data row4 col0\" >of</td>\n",
       "      <td id=\"T_591dc_row4_col1\" class=\"data row4 col1\" >17884</td>\n",
       "    </tr>\n",
       "    <tr>\n",
       "      <th id=\"T_591dc_level0_row5\" class=\"row_heading level0 row5\" >5</th>\n",
       "      <td id=\"T_591dc_row5_col0\" class=\"data row5 col0\" >is</td>\n",
       "      <td id=\"T_591dc_row5_col1\" class=\"data row5 col1\" >16986</td>\n",
       "    </tr>\n",
       "    <tr>\n",
       "      <th id=\"T_591dc_level0_row6\" class=\"row_heading level0 row6\" >6</th>\n",
       "      <td id=\"T_591dc_row6_col0\" class=\"data row6 col0\" >I</td>\n",
       "      <td id=\"T_591dc_row6_col1\" class=\"data row6 col1\" >16427</td>\n",
       "    </tr>\n",
       "    <tr>\n",
       "      <th id=\"T_591dc_level0_row7\" class=\"row_heading level0 row7\" >7</th>\n",
       "      <td id=\"T_591dc_row7_col0\" class=\"data row7 col0\" >game</td>\n",
       "      <td id=\"T_591dc_row7_col1\" class=\"data row7 col1\" >15949</td>\n",
       "    </tr>\n",
       "    <tr>\n",
       "      <th id=\"T_591dc_level0_row8\" class=\"row_heading level0 row8\" >8</th>\n",
       "      <td id=\"T_591dc_row8_col0\" class=\"data row8 col0\" >you</td>\n",
       "      <td id=\"T_591dc_row8_col1\" class=\"data row8 col1\" >14010</td>\n",
       "    </tr>\n",
       "    <tr>\n",
       "      <th id=\"T_591dc_level0_row9\" class=\"row_heading level0 row9\" >9</th>\n",
       "      <td id=\"T_591dc_row9_col0\" class=\"data row9 col0\" >it</td>\n",
       "      <td id=\"T_591dc_row9_col1\" class=\"data row9 col1\" >12632</td>\n",
       "    </tr>\n",
       "    <tr>\n",
       "      <th id=\"T_591dc_level0_row10\" class=\"row_heading level0 row10\" >10</th>\n",
       "      <td id=\"T_591dc_row10_col0\" class=\"data row10 col0\" >this</td>\n",
       "      <td id=\"T_591dc_row10_col1\" class=\"data row10 col1\" >11347</td>\n",
       "    </tr>\n",
       "    <tr>\n",
       "      <th id=\"T_591dc_level0_row11\" class=\"row_heading level0 row11\" >11</th>\n",
       "      <td id=\"T_591dc_row11_col0\" class=\"data row11 col0\" >in</td>\n",
       "      <td id=\"T_591dc_row11_col1\" class=\"data row11 col1\" >9843</td>\n",
       "    </tr>\n",
       "    <tr>\n",
       "      <th id=\"T_591dc_level0_row12\" class=\"row_heading level0 row12\" >12</th>\n",
       "      <td id=\"T_591dc_row12_col0\" class=\"data row12 col0\" >that</td>\n",
       "      <td id=\"T_591dc_row12_col1\" class=\"data row12 col1\" >9190</td>\n",
       "    </tr>\n",
       "    <tr>\n",
       "      <th id=\"T_591dc_level0_row13\" class=\"row_heading level0 row13\" >13</th>\n",
       "      <td id=\"T_591dc_row13_col0\" class=\"data row13 col0\" >for</td>\n",
       "      <td id=\"T_591dc_row13_col1\" class=\"data row13 col1\" >8954</td>\n",
       "    </tr>\n",
       "    <tr>\n",
       "      <th id=\"T_591dc_level0_row14\" class=\"row_heading level0 row14\" >14</th>\n",
       "      <td id=\"T_591dc_row14_col0\" class=\"data row14 col0\" >but</td>\n",
       "      <td id=\"T_591dc_row14_col1\" class=\"data row14 col1\" >7544</td>\n",
       "    </tr>\n",
       "    <tr>\n",
       "      <th id=\"T_591dc_level0_row15\" class=\"row_heading level0 row15\" >15</th>\n",
       "      <td id=\"T_591dc_row15_col0\" class=\"data row15 col0\" >with</td>\n",
       "      <td id=\"T_591dc_row15_col1\" class=\"data row15 col1\" >7019</td>\n",
       "    </tr>\n",
       "    <tr>\n",
       "      <th id=\"T_591dc_level0_row16\" class=\"row_heading level0 row16\" >16</th>\n",
       "      <td id=\"T_591dc_row16_col0\" class=\"data row16 col0\" >are</td>\n",
       "      <td id=\"T_591dc_row16_col1\" class=\"data row16 col1\" >5966</td>\n",
       "    </tr>\n",
       "    <tr>\n",
       "      <th id=\"T_591dc_level0_row17\" class=\"row_heading level0 row17\" >17</th>\n",
       "      <td id=\"T_591dc_row17_col0\" class=\"data row17 col0\" >on</td>\n",
       "      <td id=\"T_591dc_row17_col1\" class=\"data row17 col1\" >5955</td>\n",
       "    </tr>\n",
       "    <tr>\n",
       "      <th id=\"T_591dc_level0_row18\" class=\"row_heading level0 row18\" >18</th>\n",
       "      <td id=\"T_591dc_row18_col0\" class=\"data row18 col0\" >have</td>\n",
       "      <td id=\"T_591dc_row18_col1\" class=\"data row18 col1\" >5893</td>\n",
       "    </tr>\n",
       "    <tr>\n",
       "      <th id=\"T_591dc_level0_row19\" class=\"row_heading level0 row19\" >19</th>\n",
       "      <td id=\"T_591dc_row19_col0\" class=\"data row19 col0\" >not</td>\n",
       "      <td id=\"T_591dc_row19_col1\" class=\"data row19 col1\" >5754</td>\n",
       "    </tr>\n",
       "  </tbody>\n",
       "</table>\n"
      ],
      "text/plain": [
       "<pandas.io.formats.style.Styler at 0x29aa18220>"
      ]
     },
     "execution_count": 31,
     "metadata": {},
     "output_type": "execute_result"
    }
   ],
   "source": [
    "top = Counter([item for sublist in dataset['list_words'] for item in sublist])\n",
    "temp = pd.DataFrame(top.most_common(20))\n",
    "temp.columns = ['Common_words','count']\n",
    "temp.style.background_gradient(cmap='Blues')"
   ]
  },
  {
   "cell_type": "code",
   "execution_count": 32,
   "metadata": {},
   "outputs": [],
   "source": [
    "# create a dataset with cleaning performed\n",
    "\n",
    "dataset_cleaned = dataset.copy(deep=True)"
   ]
  },
  {
   "cell_type": "code",
   "execution_count": 33,
   "metadata": {},
   "outputs": [],
   "source": [
    "# clean basic characters\n",
    "def clean(raw):\n",
    "    \"\"\" Remove hyperlinks and markup \"\"\"\n",
    "    result = re.sub(\"<[a][^>]*>(.+?)</[a]>\", 'Link.', raw)\n",
    "    result = re.sub('&gt;', \"\", result)\n",
    "    result = re.sub('&#x27;', \"'\", result)\n",
    "    result = re.sub('&quot;', '\"', result)\n",
    "    result = re.sub('&#x2F;', ' ', result)\n",
    "    result = re.sub('<p>', ' ', result)\n",
    "    result = re.sub('</i>', '', result)\n",
    "    result = re.sub('&#62;', '', result)\n",
    "    result = re.sub('<i>', ' ', result)\n",
    "    result = re.sub(\"\\n\", '', result)\n",
    "    return result"
   ]
  },
  {
   "cell_type": "code",
   "execution_count": 34,
   "metadata": {},
   "outputs": [],
   "source": [
    "# remove numerics (maybe not required in BERT)\n",
    "def remove_num(texts):\n",
    "   output = re.sub(r'\\d+', '', texts)\n",
    "   return output"
   ]
  },
  {
   "cell_type": "code",
   "execution_count": 35,
   "metadata": {},
   "outputs": [],
   "source": [
    "# remove emojis\n",
    "def deEmojify(x):\n",
    "    regrex_pattern = re.compile(pattern = \"[\"\n",
    "        u\"\\U0001F600-\\U0001F64F\"  # emoticons\n",
    "        u\"\\U0001F300-\\U0001F5FF\"  # symbols & pictographs\n",
    "        u\"\\U0001F680-\\U0001F6FF\"  # transport & map symbols\n",
    "        u\"\\U0001F1E0-\\U0001F1FF\"  # flags (iOS)\n",
    "                           \"]+\", flags = re.UNICODE)\n",
    "    return regrex_pattern.sub(r'', x)"
   ]
  },
  {
   "cell_type": "code",
   "execution_count": 36,
   "metadata": {},
   "outputs": [],
   "source": [
    "def unify_whitespaces(x):\n",
    "    cleaned_string = re.sub(' +', ' ', x)\n",
    "    return cleaned_string "
   ]
  },
  {
   "cell_type": "code",
   "execution_count": 37,
   "metadata": {},
   "outputs": [],
   "source": [
    "# remove special symbols\n",
    "def remove_symbols(x):\n",
    "    cleaned_string = re.sub(r\"[^a-zA-Z0-9?!.,]+\", ' ', x)\n",
    "    return cleaned_string"
   ]
  },
  {
   "cell_type": "code",
   "execution_count": 38,
   "metadata": {},
   "outputs": [],
   "source": [
    "# remove punctuation (just for analysis, maybe not required in BERT)\n",
    "def remove_punctuation(text):\n",
    "    final = \"\".join(u for u in text if u not in (\"?\", \".\", \";\", \":\",  \"!\",'\"',','))\n",
    "    return final"
   ]
  },
  {
   "cell_type": "markdown",
   "metadata": {},
   "source": [
    "### remove stopwords\n",
    "\n",
    "Stopwords are words that occur frequently in a language and are often grammatical in nature, such as articles (e.g., \"the,\" \"a\"), prepositions (e.g., \"in,\" \"on\"), conjunctions (e.g., \"and,\" \"but\"), and pronouns (e.g., \"he,\" \"she\"). These words are necessary for constructing sentences and conveying grammatical structure, but they often do not contribute much to the overall meaning of the text.\n",
    "\n",
    "- noise reduction\n",
    "- Improved Analysis Accuracy\n",
    "- faster processing"
   ]
  },
  {
   "cell_type": "code",
   "execution_count": 39,
   "metadata": {},
   "outputs": [],
   "source": [
    "from nltk.stem import PorterStemmer\n",
    "from nltk import WordNetLemmatizer\n",
    "\n",
    "stop=set(stopwords.words(\"english\"))\n",
    "stemmer=PorterStemmer()\n",
    "lemma=WordNetLemmatizer()\n",
    "\n",
    "def remove_stopword(text):\n",
    "   text=[word.lower() for word in text.split() if word.lower() not in stop]\n",
    "   return \" \".join(text)"
   ]
  },
  {
   "cell_type": "markdown",
   "metadata": {},
   "source": [
    "### use stemming to normalize words\n",
    "\n",
    "Reduce the words to its stem to reduce dimension.\n",
    "e.g. \n",
    "\n",
    "cared ----> care\n",
    "\n",
    "university ----> univers\n",
    "\n",
    "fairly ----> fair\n",
    "\n",
    "easily ----> easili\n",
    "\n",
    "singing ----> sing\n",
    "\n",
    "sings ----> sing\n",
    "\n",
    "sung ----> sung\n",
    "\n",
    "singer ----> singer\n",
    "\n",
    "sportingly ----> sport"
   ]
  },
  {
   "cell_type": "code",
   "execution_count": 40,
   "metadata": {},
   "outputs": [],
   "source": [
    "from nltk.corpus import stopwords\n",
    "from nltk.stem import SnowballStemmer\n",
    "def stemming(text):\n",
    "   stem=[]\n",
    "   # stopword = stopwords.words('english')\n",
    "   snowball_stemmer = SnowballStemmer('english')\n",
    "   word_tokens = nltk.word_tokenize(text)\n",
    "   stemmed_word = [snowball_stemmer.stem(word) for word in word_tokens]\n",
    "   stem=' '.join(stemmed_word)\n",
    "   return stem"
   ]
  },
  {
   "cell_type": "code",
   "execution_count": 41,
   "metadata": {},
   "outputs": [],
   "source": [
    "def cleaning(df,review):\n",
    "    df[review] = df[review].apply(clean)\n",
    "    df[review] = df[review].apply(deEmojify)\n",
    "    df[review] = df[review].str.lower()\n",
    "    df[review] = df[review].apply(remove_num)\n",
    "    df[review] = df[review].apply(remove_symbols)\n",
    "    df[review] = df[review].apply(remove_punctuation)\n",
    "    df[review] = df[review].apply(remove_stopword)\n",
    "    df[review] = df[review].apply(unify_whitespaces)\n",
    "    df[review] = df[review].apply(stemming)"
   ]
  },
  {
   "cell_type": "code",
   "execution_count": 42,
   "metadata": {},
   "outputs": [],
   "source": [
    "cleaning(dataset_cleaned,'review_text')"
   ]
  },
  {
   "cell_type": "code",
   "execution_count": 43,
   "metadata": {},
   "outputs": [],
   "source": [
    "dataset_cleaned['list_words'] = dataset_cleaned['review_text'].apply(lambda x:str(x).split())"
   ]
  },
  {
   "cell_type": "code",
   "execution_count": 44,
   "metadata": {},
   "outputs": [
    {
     "data": {
      "text/html": [
       "<style type=\"text/css\">\n",
       "#T_c2000_row0_col1 {\n",
       "  background-color: #08306b;\n",
       "  color: #f1f1f1;\n",
       "}\n",
       "#T_c2000_row1_col1 {\n",
       "  background-color: #cbdef1;\n",
       "  color: #000000;\n",
       "}\n",
       "#T_c2000_row2_col1 {\n",
       "  background-color: #d9e8f5;\n",
       "  color: #000000;\n",
       "}\n",
       "#T_c2000_row3_col1 {\n",
       "  background-color: #e0ecf8;\n",
       "  color: #000000;\n",
       "}\n",
       "#T_c2000_row4_col1 {\n",
       "  background-color: #e8f1fa;\n",
       "  color: #000000;\n",
       "}\n",
       "#T_c2000_row5_col1 {\n",
       "  background-color: #eaf2fb;\n",
       "  color: #000000;\n",
       "}\n",
       "#T_c2000_row6_col1 {\n",
       "  background-color: #ebf3fb;\n",
       "  color: #000000;\n",
       "}\n",
       "#T_c2000_row7_col1 {\n",
       "  background-color: #edf4fc;\n",
       "  color: #000000;\n",
       "}\n",
       "#T_c2000_row8_col1, #T_c2000_row9_col1, #T_c2000_row10_col1 {\n",
       "  background-color: #eff6fc;\n",
       "  color: #000000;\n",
       "}\n",
       "#T_c2000_row11_col1 {\n",
       "  background-color: #f2f8fd;\n",
       "  color: #000000;\n",
       "}\n",
       "#T_c2000_row12_col1 {\n",
       "  background-color: #f4f9fe;\n",
       "  color: #000000;\n",
       "}\n",
       "#T_c2000_row13_col1, #T_c2000_row14_col1 {\n",
       "  background-color: #f5f9fe;\n",
       "  color: #000000;\n",
       "}\n",
       "#T_c2000_row15_col1, #T_c2000_row16_col1 {\n",
       "  background-color: #f6faff;\n",
       "  color: #000000;\n",
       "}\n",
       "#T_c2000_row17_col1, #T_c2000_row18_col1, #T_c2000_row19_col1 {\n",
       "  background-color: #f7fbff;\n",
       "  color: #000000;\n",
       "}\n",
       "</style>\n",
       "<table id=\"T_c2000\">\n",
       "  <thead>\n",
       "    <tr>\n",
       "      <th class=\"blank level0\" >&nbsp;</th>\n",
       "      <th id=\"T_c2000_level0_col0\" class=\"col_heading level0 col0\" >Common_words</th>\n",
       "      <th id=\"T_c2000_level0_col1\" class=\"col_heading level0 col1\" >count</th>\n",
       "    </tr>\n",
       "  </thead>\n",
       "  <tbody>\n",
       "    <tr>\n",
       "      <th id=\"T_c2000_level0_row0\" class=\"row_heading level0 row0\" >0</th>\n",
       "      <td id=\"T_c2000_row0_col0\" class=\"data row0 col0\" >game</td>\n",
       "      <td id=\"T_c2000_row0_col1\" class=\"data row0 col1\" >26151</td>\n",
       "    </tr>\n",
       "    <tr>\n",
       "      <th id=\"T_c2000_level0_row1\" class=\"row_heading level0 row1\" >1</th>\n",
       "      <td id=\"T_c2000_row1_col0\" class=\"data row1 col0\" >play</td>\n",
       "      <td id=\"T_c2000_row1_col1\" class=\"data row1 col1\" >7252</td>\n",
       "    </tr>\n",
       "    <tr>\n",
       "      <th id=\"T_c2000_level0_row2\" class=\"row_heading level0 row2\" >2</th>\n",
       "      <td id=\"T_c2000_row2_col0\" class=\"data row2 col0\" >like</td>\n",
       "      <td id=\"T_c2000_row2_col1\" class=\"data row2 col1\" >5409</td>\n",
       "    </tr>\n",
       "    <tr>\n",
       "      <th id=\"T_c2000_level0_row3\" class=\"row_heading level0 row3\" >3</th>\n",
       "      <td id=\"T_c2000_row3_col0\" class=\"data row3 col0\" >get</td>\n",
       "      <td id=\"T_c2000_row3_col1\" class=\"data row3 col1\" >4614</td>\n",
       "    </tr>\n",
       "    <tr>\n",
       "      <th id=\"T_c2000_level0_row4\" class=\"row_heading level0 row4\" >4</th>\n",
       "      <td id=\"T_c2000_row4_col0\" class=\"data row4 col0\" >time</td>\n",
       "      <td id=\"T_c2000_row4_col1\" class=\"data row4 col1\" >3654</td>\n",
       "    </tr>\n",
       "    <tr>\n",
       "      <th id=\"T_c2000_level0_row5\" class=\"row_heading level0 row5\" >5</th>\n",
       "      <td id=\"T_c2000_row5_col0\" class=\"data row5 col0\" >one</td>\n",
       "      <td id=\"T_c2000_row5_col1\" class=\"data row5 col1\" >3412</td>\n",
       "    </tr>\n",
       "    <tr>\n",
       "      <th id=\"T_c2000_level0_row6\" class=\"row_heading level0 row6\" >6</th>\n",
       "      <td id=\"T_c2000_row6_col0\" class=\"data row6 col0\" >good</td>\n",
       "      <td id=\"T_c2000_row6_col1\" class=\"data row6 col1\" >3227</td>\n",
       "    </tr>\n",
       "    <tr>\n",
       "      <th id=\"T_c2000_level0_row7\" class=\"row_heading level0 row7\" >7</th>\n",
       "      <td id=\"T_c2000_row7_col0\" class=\"data row7 col0\" >realli</td>\n",
       "      <td id=\"T_c2000_row7_col1\" class=\"data row7 col1\" >3049</td>\n",
       "    </tr>\n",
       "    <tr>\n",
       "      <th id=\"T_c2000_level0_row8\" class=\"row_heading level0 row8\" >8</th>\n",
       "      <td id=\"T_c2000_row8_col0\" class=\"data row8 col0\" >fun</td>\n",
       "      <td id=\"T_c2000_row8_col1\" class=\"data row8 col1\" >2797</td>\n",
       "    </tr>\n",
       "    <tr>\n",
       "      <th id=\"T_c2000_level0_row9\" class=\"row_heading level0 row9\" >9</th>\n",
       "      <td id=\"T_c2000_row9_col0\" class=\"data row9 col0\" >even</td>\n",
       "      <td id=\"T_c2000_row9_col1\" class=\"data row9 col1\" >2777</td>\n",
       "    </tr>\n",
       "    <tr>\n",
       "      <th id=\"T_c2000_level0_row10\" class=\"row_heading level0 row10\" >10</th>\n",
       "      <td id=\"T_c2000_row10_col0\" class=\"data row10 col0\" >make</td>\n",
       "      <td id=\"T_c2000_row10_col1\" class=\"data row10 col1\" >2729</td>\n",
       "    </tr>\n",
       "    <tr>\n",
       "      <th id=\"T_c2000_level0_row11\" class=\"row_heading level0 row11\" >11</th>\n",
       "      <td id=\"T_c2000_row11_col0\" class=\"data row11 col0\" >would</td>\n",
       "      <td id=\"T_c2000_row11_col1\" class=\"data row11 col1\" >2381</td>\n",
       "    </tr>\n",
       "    <tr>\n",
       "      <th id=\"T_c2000_level0_row12\" class=\"row_heading level0 row12\" >12</th>\n",
       "      <td id=\"T_c2000_row12_col0\" class=\"data row12 col0\" >great</td>\n",
       "      <td id=\"T_c2000_row12_col1\" class=\"data row12 col1\" >2245</td>\n",
       "    </tr>\n",
       "    <tr>\n",
       "      <th id=\"T_c2000_level0_row13\" class=\"row_heading level0 row13\" >13</th>\n",
       "      <td id=\"T_c2000_row13_col0\" class=\"data row13 col0\" >much</td>\n",
       "      <td id=\"T_c2000_row13_col1\" class=\"data row13 col1\" >2136</td>\n",
       "    </tr>\n",
       "    <tr>\n",
       "      <th id=\"T_c2000_level0_row14\" class=\"row_heading level0 row14\" >14</th>\n",
       "      <td id=\"T_c2000_row14_col0\" class=\"data row14 col0\" >stori</td>\n",
       "      <td id=\"T_c2000_row14_col1\" class=\"data row14 col1\" >2122</td>\n",
       "    </tr>\n",
       "    <tr>\n",
       "      <th id=\"T_c2000_level0_row15\" class=\"row_heading level0 row15\" >15</th>\n",
       "      <td id=\"T_c2000_row15_col0\" class=\"data row15 col0\" >go</td>\n",
       "      <td id=\"T_c2000_row15_col1\" class=\"data row15 col1\" >1938</td>\n",
       "    </tr>\n",
       "    <tr>\n",
       "      <th id=\"T_c2000_level0_row16\" class=\"row_heading level0 row16\" >16</th>\n",
       "      <td id=\"T_c2000_row16_col0\" class=\"data row16 col0\" >buy</td>\n",
       "      <td id=\"T_c2000_row16_col1\" class=\"data row16 col1\" >1901</td>\n",
       "    </tr>\n",
       "    <tr>\n",
       "      <th id=\"T_c2000_level0_row17\" class=\"row_heading level0 row17\" >17</th>\n",
       "      <td id=\"T_c2000_row17_col0\" class=\"data row17 col0\" >want</td>\n",
       "      <td id=\"T_c2000_row17_col1\" class=\"data row17 col1\" >1855</td>\n",
       "    </tr>\n",
       "    <tr>\n",
       "      <th id=\"T_c2000_level0_row18\" class=\"row_heading level0 row18\" >18</th>\n",
       "      <td id=\"T_c2000_row18_col0\" class=\"data row18 col0\" >feel</td>\n",
       "      <td id=\"T_c2000_row18_col1\" class=\"data row18 col1\" >1797</td>\n",
       "    </tr>\n",
       "    <tr>\n",
       "      <th id=\"T_c2000_level0_row19\" class=\"row_heading level0 row19\" >19</th>\n",
       "      <td id=\"T_c2000_row19_col0\" class=\"data row19 col0\" >thing</td>\n",
       "      <td id=\"T_c2000_row19_col1\" class=\"data row19 col1\" >1771</td>\n",
       "    </tr>\n",
       "  </tbody>\n",
       "</table>\n"
      ],
      "text/plain": [
       "<pandas.io.formats.style.Styler at 0x29def92b0>"
      ]
     },
     "execution_count": 44,
     "metadata": {},
     "output_type": "execute_result"
    }
   ],
   "source": [
    "top2 = Counter([item for sublist in dataset_cleaned['list_words'] for item in sublist])\n",
    "temp2 = pd.DataFrame(top2.most_common(20))\n",
    "temp2.columns = ['Common_words','count']\n",
    "temp2.style.background_gradient(cmap='Blues')"
   ]
  },
  {
   "cell_type": "code",
   "execution_count": 45,
   "metadata": {},
   "outputs": [
    {
     "name": "stderr",
     "output_type": "stream",
     "text": [
      "/Users/michaelcheng/miniforge3/envs/fyp-test/lib/python3.9/site-packages/seaborn/_oldcore.py:1498: FutureWarning: is_categorical_dtype is deprecated and will be removed in a future version. Use isinstance(dtype, CategoricalDtype) instead\n",
      "  if pd.api.types.is_categorical_dtype(vector):\n",
      "/Users/michaelcheng/miniforge3/envs/fyp-test/lib/python3.9/site-packages/seaborn/_oldcore.py:1498: FutureWarning: is_categorical_dtype is deprecated and will be removed in a future version. Use isinstance(dtype, CategoricalDtype) instead\n",
      "  if pd.api.types.is_categorical_dtype(vector):\n",
      "/Users/michaelcheng/miniforge3/envs/fyp-test/lib/python3.9/site-packages/seaborn/_oldcore.py:1498: FutureWarning: is_categorical_dtype is deprecated and will be removed in a future version. Use isinstance(dtype, CategoricalDtype) instead\n",
      "  if pd.api.types.is_categorical_dtype(vector):\n"
     ]
    },
    {
     "data": {
      "text/plain": [
       "<Axes: xlabel='count', ylabel='Common_words'>"
      ]
     },
     "execution_count": 45,
     "metadata": {},
     "output_type": "execute_result"
    },
    {
     "data": {
      "image/png": "[encoded data removed]",
      "text/plain": [
       "<Figure size 432x288 with 1 Axes>"
      ]
     },
     "metadata": {},
     "output_type": "display_data"
    }
   ],
   "source": [
    "sns.set_theme(style=\"whitegrid\")\n",
    "sns.barplot(x=\"count\", y=\"Common_words\", data=temp2)"
   ]
  },
  {
   "cell_type": "markdown",
   "metadata": {},
   "source": [
    "If we break into positive and negative comments..."
   ]
  },
  {
   "cell_type": "code",
   "execution_count": 46,
   "metadata": {},
   "outputs": [],
   "source": [
    "dataset_cleaned_pos_only = dataset_cleaned[dataset_cleaned['review_score'] == 1]\n",
    "dataset_cleaned_neg_only = dataset_cleaned[dataset_cleaned['review_score'] == 0]"
   ]
  },
  {
   "cell_type": "code",
   "execution_count": 47,
   "metadata": {},
   "outputs": [
    {
     "data": {
      "text/html": [
       "<style type=\"text/css\">\n",
       "#T_b52fd_row0_col1 {\n",
       "  background-color: #08306b;\n",
       "  color: #f1f1f1;\n",
       "}\n",
       "#T_b52fd_row1_col1 {\n",
       "  background-color: #c7dbef;\n",
       "  color: #000000;\n",
       "}\n",
       "#T_b52fd_row2_col1 {\n",
       "  background-color: #dbe9f6;\n",
       "  color: #000000;\n",
       "}\n",
       "#T_b52fd_row3_col1 {\n",
       "  background-color: #e4eff9;\n",
       "  color: #000000;\n",
       "}\n",
       "#T_b52fd_row4_col1 {\n",
       "  background-color: #e5eff9;\n",
       "  color: #000000;\n",
       "}\n",
       "#T_b52fd_row5_col1 {\n",
       "  background-color: #e6f0f9;\n",
       "  color: #000000;\n",
       "}\n",
       "#T_b52fd_row6_col1 {\n",
       "  background-color: #e7f0fa;\n",
       "  color: #000000;\n",
       "}\n",
       "#T_b52fd_row7_col1 {\n",
       "  background-color: #e7f1fa;\n",
       "  color: #000000;\n",
       "}\n",
       "#T_b52fd_row8_col1 {\n",
       "  background-color: #eaf2fb;\n",
       "  color: #000000;\n",
       "}\n",
       "#T_b52fd_row9_col1 {\n",
       "  background-color: #edf4fc;\n",
       "  color: #000000;\n",
       "}\n",
       "#T_b52fd_row10_col1 {\n",
       "  background-color: #eff6fc;\n",
       "  color: #000000;\n",
       "}\n",
       "#T_b52fd_row11_col1 {\n",
       "  background-color: #f0f6fd;\n",
       "  color: #000000;\n",
       "}\n",
       "#T_b52fd_row12_col1 {\n",
       "  background-color: #f2f8fd;\n",
       "  color: #000000;\n",
       "}\n",
       "#T_b52fd_row13_col1 {\n",
       "  background-color: #f3f8fe;\n",
       "  color: #000000;\n",
       "}\n",
       "#T_b52fd_row14_col1, #T_b52fd_row15_col1 {\n",
       "  background-color: #f5f9fe;\n",
       "  color: #000000;\n",
       "}\n",
       "#T_b52fd_row16_col1 {\n",
       "  background-color: #f5fafe;\n",
       "  color: #000000;\n",
       "}\n",
       "#T_b52fd_row17_col1 {\n",
       "  background-color: #f6faff;\n",
       "  color: #000000;\n",
       "}\n",
       "#T_b52fd_row18_col1, #T_b52fd_row19_col1 {\n",
       "  background-color: #f7fbff;\n",
       "  color: #000000;\n",
       "}\n",
       "</style>\n",
       "<table id=\"T_b52fd\">\n",
       "  <thead>\n",
       "    <tr>\n",
       "      <th class=\"blank level0\" >&nbsp;</th>\n",
       "      <th id=\"T_b52fd_level0_col0\" class=\"col_heading level0 col0\" >Common_words</th>\n",
       "      <th id=\"T_b52fd_level0_col1\" class=\"col_heading level0 col1\" >count</th>\n",
       "    </tr>\n",
       "  </thead>\n",
       "  <tbody>\n",
       "    <tr>\n",
       "      <th id=\"T_b52fd_level0_row0\" class=\"row_heading level0 row0\" >0</th>\n",
       "      <td id=\"T_b52fd_row0_col0\" class=\"data row0 col0\" >game</td>\n",
       "      <td id=\"T_b52fd_row0_col1\" class=\"data row0 col1\" >9961</td>\n",
       "    </tr>\n",
       "    <tr>\n",
       "      <th id=\"T_b52fd_level0_row1\" class=\"row_heading level0 row1\" >1</th>\n",
       "      <td id=\"T_b52fd_row1_col0\" class=\"data row1 col0\" >play</td>\n",
       "      <td id=\"T_b52fd_row1_col1\" class=\"data row1 col1\" >2960</td>\n",
       "    </tr>\n",
       "    <tr>\n",
       "      <th id=\"T_b52fd_level0_row2\" class=\"row_heading level0 row2\" >2</th>\n",
       "      <td id=\"T_b52fd_row2_col0\" class=\"data row2 col0\" >like</td>\n",
       "      <td id=\"T_b52fd_row2_col1\" class=\"data row2 col1\" >1979</td>\n",
       "    </tr>\n",
       "    <tr>\n",
       "      <th id=\"T_b52fd_level0_row3\" class=\"row_heading level0 row3\" >3</th>\n",
       "      <td id=\"T_b52fd_row3_col0\" class=\"data row3 col0\" >get</td>\n",
       "      <td id=\"T_b52fd_row3_col1\" class=\"data row3 col1\" >1534</td>\n",
       "    </tr>\n",
       "    <tr>\n",
       "      <th id=\"T_b52fd_level0_row4\" class=\"row_heading level0 row4\" >4</th>\n",
       "      <td id=\"T_b52fd_row4_col0\" class=\"data row4 col0\" >fun</td>\n",
       "      <td id=\"T_b52fd_row4_col1\" class=\"data row4 col1\" >1504</td>\n",
       "    </tr>\n",
       "    <tr>\n",
       "      <th id=\"T_b52fd_level0_row5\" class=\"row_heading level0 row5\" >5</th>\n",
       "      <td id=\"T_b52fd_row5_col0\" class=\"data row5 col0\" >good</td>\n",
       "      <td id=\"T_b52fd_row5_col1\" class=\"data row5 col1\" >1468</td>\n",
       "    </tr>\n",
       "    <tr>\n",
       "      <th id=\"T_b52fd_level0_row6\" class=\"row_heading level0 row6\" >6</th>\n",
       "      <td id=\"T_b52fd_row6_col0\" class=\"data row6 col0\" >one</td>\n",
       "      <td id=\"T_b52fd_row6_col1\" class=\"data row6 col1\" >1441</td>\n",
       "    </tr>\n",
       "    <tr>\n",
       "      <th id=\"T_b52fd_level0_row7\" class=\"row_heading level0 row7\" >7</th>\n",
       "      <td id=\"T_b52fd_row7_col0\" class=\"data row7 col0\" >great</td>\n",
       "      <td id=\"T_b52fd_row7_col1\" class=\"data row7 col1\" >1411</td>\n",
       "    </tr>\n",
       "    <tr>\n",
       "      <th id=\"T_b52fd_level0_row8\" class=\"row_heading level0 row8\" >8</th>\n",
       "      <td id=\"T_b52fd_row8_col0\" class=\"data row8 col0\" >time</td>\n",
       "      <td id=\"T_b52fd_row8_col1\" class=\"data row8 col1\" >1283</td>\n",
       "    </tr>\n",
       "    <tr>\n",
       "      <th id=\"T_b52fd_level0_row9\" class=\"row_heading level0 row9\" >9</th>\n",
       "      <td id=\"T_b52fd_row9_col0\" class=\"data row9 col0\" >realli</td>\n",
       "      <td id=\"T_b52fd_row9_col1\" class=\"data row9 col1\" >1128</td>\n",
       "    </tr>\n",
       "    <tr>\n",
       "      <th id=\"T_b52fd_level0_row10\" class=\"row_heading level0 row10\" >10</th>\n",
       "      <td id=\"T_b52fd_row10_col0\" class=\"data row10 col0\" >stori</td>\n",
       "      <td id=\"T_b52fd_row10_col1\" class=\"data row10 col1\" >1026</td>\n",
       "    </tr>\n",
       "    <tr>\n",
       "      <th id=\"T_b52fd_level0_row11\" class=\"row_heading level0 row11\" >11</th>\n",
       "      <td id=\"T_b52fd_row11_col0\" class=\"data row11 col0\" >make</td>\n",
       "      <td id=\"T_b52fd_row11_col1\" class=\"data row11 col1\" >1005</td>\n",
       "    </tr>\n",
       "    <tr>\n",
       "      <th id=\"T_b52fd_level0_row12\" class=\"row_heading level0 row12\" >12</th>\n",
       "      <td id=\"T_b52fd_row12_col0\" class=\"data row12 col0\" >would</td>\n",
       "      <td id=\"T_b52fd_row12_col1\" class=\"data row12 col1\" >872</td>\n",
       "    </tr>\n",
       "    <tr>\n",
       "      <th id=\"T_b52fd_level0_row13\" class=\"row_heading level0 row13\" >13</th>\n",
       "      <td id=\"T_b52fd_row13_col0\" class=\"data row13 col0\" >best</td>\n",
       "      <td id=\"T_b52fd_row13_col1\" class=\"data row13 col1\" >831</td>\n",
       "    </tr>\n",
       "    <tr>\n",
       "      <th id=\"T_b52fd_level0_row14\" class=\"row_heading level0 row14\" >14</th>\n",
       "      <td id=\"T_b52fd_row14_col0\" class=\"data row14 col0\" >love</td>\n",
       "      <td id=\"T_b52fd_row14_col1\" class=\"data row14 col1\" >792</td>\n",
       "    </tr>\n",
       "    <tr>\n",
       "      <th id=\"T_b52fd_level0_row15\" class=\"row_heading level0 row15\" >15</th>\n",
       "      <td id=\"T_b52fd_row15_col0\" class=\"data row15 col0\" >much</td>\n",
       "      <td id=\"T_b52fd_row15_col1\" class=\"data row15 col1\" >788</td>\n",
       "    </tr>\n",
       "    <tr>\n",
       "      <th id=\"T_b52fd_level0_row16\" class=\"row_heading level0 row16\" >16</th>\n",
       "      <td id=\"T_b52fd_row16_col0\" class=\"data row16 col0\" >well</td>\n",
       "      <td id=\"T_b52fd_row16_col1\" class=\"data row16 col1\" >725</td>\n",
       "    </tr>\n",
       "    <tr>\n",
       "      <th id=\"T_b52fd_level0_row17\" class=\"row_heading level0 row17\" >17</th>\n",
       "      <td id=\"T_b52fd_row17_col0\" class=\"data row17 col0\" >even</td>\n",
       "      <td id=\"T_b52fd_row17_col1\" class=\"data row17 col1\" >710</td>\n",
       "    </tr>\n",
       "    <tr>\n",
       "      <th id=\"T_b52fd_level0_row18\" class=\"row_heading level0 row18\" >18</th>\n",
       "      <td id=\"T_b52fd_row18_col0\" class=\"data row18 col0\" >go</td>\n",
       "      <td id=\"T_b52fd_row18_col1\" class=\"data row18 col1\" >662</td>\n",
       "    </tr>\n",
       "    <tr>\n",
       "      <th id=\"T_b52fd_level0_row19\" class=\"row_heading level0 row19\" >19</th>\n",
       "      <td id=\"T_b52fd_row19_col0\" class=\"data row19 col0\" >lot</td>\n",
       "      <td id=\"T_b52fd_row19_col1\" class=\"data row19 col1\" >647</td>\n",
       "    </tr>\n",
       "  </tbody>\n",
       "</table>\n"
      ],
      "text/plain": [
       "<pandas.io.formats.style.Styler at 0x2a4e7a6a0>"
      ]
     },
     "execution_count": 47,
     "metadata": {},
     "output_type": "execute_result"
    }
   ],
   "source": [
    "top3 = Counter([item for sublist in dataset_cleaned_pos_only['list_words'] for item in sublist])\n",
    "temp3 = pd.DataFrame(top3.most_common(20))\n",
    "temp3.columns = ['Common_words','count']\n",
    "temp3.style.background_gradient(cmap='Blues')"
   ]
  },
  {
   "cell_type": "code",
   "execution_count": 48,
   "metadata": {},
   "outputs": [
    {
     "name": "stderr",
     "output_type": "stream",
     "text": [
      "/Users/michaelcheng/miniforge3/envs/fyp-test/lib/python3.9/site-packages/seaborn/_oldcore.py:1498: FutureWarning: is_categorical_dtype is deprecated and will be removed in a future version. Use isinstance(dtype, CategoricalDtype) instead\n",
      "  if pd.api.types.is_categorical_dtype(vector):\n",
      "/Users/michaelcheng/miniforge3/envs/fyp-test/lib/python3.9/site-packages/seaborn/_oldcore.py:1498: FutureWarning: is_categorical_dtype is deprecated and will be removed in a future version. Use isinstance(dtype, CategoricalDtype) instead\n",
      "  if pd.api.types.is_categorical_dtype(vector):\n",
      "/Users/michaelcheng/miniforge3/envs/fyp-test/lib/python3.9/site-packages/seaborn/_oldcore.py:1498: FutureWarning: is_categorical_dtype is deprecated and will be removed in a future version. Use isinstance(dtype, CategoricalDtype) instead\n",
      "  if pd.api.types.is_categorical_dtype(vector):\n"
     ]
    },
    {
     "data": {
      "text/plain": [
       "<Axes: xlabel='count', ylabel='Common_words'>"
      ]
     },
     "execution_count": 48,
     "metadata": {},
     "output_type": "execute_result"
    },
    {
     "data": {
      "image/png": "[encoded data removed]",
      "text/plain": [
       "<Figure size 432x288 with 1 Axes>"
      ]
     },
     "metadata": {},
     "output_type": "display_data"
    }
   ],
   "source": [
    "sns.set_theme(style=\"whitegrid\")\n",
    "sns.barplot(x=\"count\", y=\"Common_words\", data=temp3)"
   ]
  },
  {
   "cell_type": "code",
   "execution_count": 49,
   "metadata": {},
   "outputs": [
    {
     "data": {
      "text/html": [
       "<style type=\"text/css\">\n",
       "#T_35a5e_row0_col1 {\n",
       "  background-color: #08306b;\n",
       "  color: #f1f1f1;\n",
       "}\n",
       "#T_35a5e_row1_col1 {\n",
       "  background-color: #cee0f2;\n",
       "  color: #000000;\n",
       "}\n",
       "#T_35a5e_row2_col1 {\n",
       "  background-color: #d9e8f5;\n",
       "  color: #000000;\n",
       "}\n",
       "#T_35a5e_row3_col1 {\n",
       "  background-color: #deebf7;\n",
       "  color: #000000;\n",
       "}\n",
       "#T_35a5e_row4_col1 {\n",
       "  background-color: #e7f1fa;\n",
       "  color: #000000;\n",
       "}\n",
       "#T_35a5e_row5_col1 {\n",
       "  background-color: #ebf3fb;\n",
       "  color: #000000;\n",
       "}\n",
       "#T_35a5e_row6_col1 {\n",
       "  background-color: #edf4fc;\n",
       "  color: #000000;\n",
       "}\n",
       "#T_35a5e_row7_col1 {\n",
       "  background-color: #eef5fc;\n",
       "  color: #000000;\n",
       "}\n",
       "#T_35a5e_row8_col1 {\n",
       "  background-color: #eff6fc;\n",
       "  color: #000000;\n",
       "}\n",
       "#T_35a5e_row9_col1 {\n",
       "  background-color: #f0f6fd;\n",
       "  color: #000000;\n",
       "}\n",
       "#T_35a5e_row10_col1 {\n",
       "  background-color: #f3f8fe;\n",
       "  color: #000000;\n",
       "}\n",
       "#T_35a5e_row11_col1 {\n",
       "  background-color: #f5f9fe;\n",
       "  color: #000000;\n",
       "}\n",
       "#T_35a5e_row12_col1, #T_35a5e_row13_col1 {\n",
       "  background-color: #f5fafe;\n",
       "  color: #000000;\n",
       "}\n",
       "#T_35a5e_row14_col1, #T_35a5e_row15_col1, #T_35a5e_row16_col1 {\n",
       "  background-color: #f6faff;\n",
       "  color: #000000;\n",
       "}\n",
       "#T_35a5e_row17_col1, #T_35a5e_row18_col1, #T_35a5e_row19_col1 {\n",
       "  background-color: #f7fbff;\n",
       "  color: #000000;\n",
       "}\n",
       "</style>\n",
       "<table id=\"T_35a5e\">\n",
       "  <thead>\n",
       "    <tr>\n",
       "      <th class=\"blank level0\" >&nbsp;</th>\n",
       "      <th id=\"T_35a5e_level0_col0\" class=\"col_heading level0 col0\" >Common_words</th>\n",
       "      <th id=\"T_35a5e_level0_col1\" class=\"col_heading level0 col1\" >count</th>\n",
       "    </tr>\n",
       "  </thead>\n",
       "  <tbody>\n",
       "    <tr>\n",
       "      <th id=\"T_35a5e_level0_row0\" class=\"row_heading level0 row0\" >0</th>\n",
       "      <td id=\"T_35a5e_row0_col0\" class=\"data row0 col0\" >game</td>\n",
       "      <td id=\"T_35a5e_row0_col1\" class=\"data row0 col1\" >16190</td>\n",
       "    </tr>\n",
       "    <tr>\n",
       "      <th id=\"T_35a5e_level0_row1\" class=\"row_heading level0 row1\" >1</th>\n",
       "      <td id=\"T_35a5e_row1_col0\" class=\"data row1 col0\" >play</td>\n",
       "      <td id=\"T_35a5e_row1_col1\" class=\"data row1 col1\" >4292</td>\n",
       "    </tr>\n",
       "    <tr>\n",
       "      <th id=\"T_35a5e_level0_row2\" class=\"row_heading level0 row2\" >2</th>\n",
       "      <td id=\"T_35a5e_row2_col0\" class=\"data row2 col0\" >like</td>\n",
       "      <td id=\"T_35a5e_row2_col1\" class=\"data row2 col1\" >3430</td>\n",
       "    </tr>\n",
       "    <tr>\n",
       "      <th id=\"T_35a5e_level0_row3\" class=\"row_heading level0 row3\" >3</th>\n",
       "      <td id=\"T_35a5e_row3_col0\" class=\"data row3 col0\" >get</td>\n",
       "      <td id=\"T_35a5e_row3_col1\" class=\"data row3 col1\" >3080</td>\n",
       "    </tr>\n",
       "    <tr>\n",
       "      <th id=\"T_35a5e_level0_row4\" class=\"row_heading level0 row4\" >4</th>\n",
       "      <td id=\"T_35a5e_row4_col0\" class=\"data row4 col0\" >time</td>\n",
       "      <td id=\"T_35a5e_row4_col1\" class=\"data row4 col1\" >2371</td>\n",
       "    </tr>\n",
       "    <tr>\n",
       "      <th id=\"T_35a5e_level0_row5\" class=\"row_heading level0 row5\" >5</th>\n",
       "      <td id=\"T_35a5e_row5_col0\" class=\"data row5 col0\" >even</td>\n",
       "      <td id=\"T_35a5e_row5_col1\" class=\"data row5 col1\" >2067</td>\n",
       "    </tr>\n",
       "    <tr>\n",
       "      <th id=\"T_35a5e_level0_row6\" class=\"row_heading level0 row6\" >6</th>\n",
       "      <td id=\"T_35a5e_row6_col0\" class=\"data row6 col0\" >one</td>\n",
       "      <td id=\"T_35a5e_row6_col1\" class=\"data row6 col1\" >1971</td>\n",
       "    </tr>\n",
       "    <tr>\n",
       "      <th id=\"T_35a5e_level0_row7\" class=\"row_heading level0 row7\" >7</th>\n",
       "      <td id=\"T_35a5e_row7_col0\" class=\"data row7 col0\" >realli</td>\n",
       "      <td id=\"T_35a5e_row7_col1\" class=\"data row7 col1\" >1921</td>\n",
       "    </tr>\n",
       "    <tr>\n",
       "      <th id=\"T_35a5e_level0_row8\" class=\"row_heading level0 row8\" >8</th>\n",
       "      <td id=\"T_35a5e_row8_col0\" class=\"data row8 col0\" >good</td>\n",
       "      <td id=\"T_35a5e_row8_col1\" class=\"data row8 col1\" >1759</td>\n",
       "    </tr>\n",
       "    <tr>\n",
       "      <th id=\"T_35a5e_level0_row9\" class=\"row_heading level0 row9\" >9</th>\n",
       "      <td id=\"T_35a5e_row9_col0\" class=\"data row9 col0\" >make</td>\n",
       "      <td id=\"T_35a5e_row9_col1\" class=\"data row9 col1\" >1724</td>\n",
       "    </tr>\n",
       "    <tr>\n",
       "      <th id=\"T_35a5e_level0_row10\" class=\"row_heading level0 row10\" >10</th>\n",
       "      <td id=\"T_35a5e_row10_col0\" class=\"data row10 col0\" >would</td>\n",
       "      <td id=\"T_35a5e_row10_col1\" class=\"data row10 col1\" >1509</td>\n",
       "    </tr>\n",
       "    <tr>\n",
       "      <th id=\"T_35a5e_level0_row11\" class=\"row_heading level0 row11\" >11</th>\n",
       "      <td id=\"T_35a5e_row11_col0\" class=\"data row11 col0\" >much</td>\n",
       "      <td id=\"T_35a5e_row11_col1\" class=\"data row11 col1\" >1348</td>\n",
       "    </tr>\n",
       "    <tr>\n",
       "      <th id=\"T_35a5e_level0_row12\" class=\"row_heading level0 row12\" >12</th>\n",
       "      <td id=\"T_35a5e_row12_col0\" class=\"data row12 col0\" >buy</td>\n",
       "      <td id=\"T_35a5e_row12_col1\" class=\"data row12 col1\" >1310</td>\n",
       "    </tr>\n",
       "    <tr>\n",
       "      <th id=\"T_35a5e_level0_row13\" class=\"row_heading level0 row13\" >13</th>\n",
       "      <td id=\"T_35a5e_row13_col0\" class=\"data row13 col0\" >fun</td>\n",
       "      <td id=\"T_35a5e_row13_col1\" class=\"data row13 col1\" >1293</td>\n",
       "    </tr>\n",
       "    <tr>\n",
       "      <th id=\"T_35a5e_level0_row14\" class=\"row_heading level0 row14\" >14</th>\n",
       "      <td id=\"T_35a5e_row14_col0\" class=\"data row14 col0\" >go</td>\n",
       "      <td id=\"T_35a5e_row14_col1\" class=\"data row14 col1\" >1276</td>\n",
       "    </tr>\n",
       "    <tr>\n",
       "      <th id=\"T_35a5e_level0_row15\" class=\"row_heading level0 row15\" >15</th>\n",
       "      <td id=\"T_35a5e_row15_col0\" class=\"data row15 col0\" >want</td>\n",
       "      <td id=\"T_35a5e_row15_col1\" class=\"data row15 col1\" >1259</td>\n",
       "    </tr>\n",
       "    <tr>\n",
       "      <th id=\"T_35a5e_level0_row16\" class=\"row_heading level0 row16\" >16</th>\n",
       "      <td id=\"T_35a5e_row16_col0\" class=\"data row16 col0\" >bad</td>\n",
       "      <td id=\"T_35a5e_row16_col1\" class=\"data row16 col1\" >1227</td>\n",
       "    </tr>\n",
       "    <tr>\n",
       "      <th id=\"T_35a5e_level0_row17\" class=\"row_heading level0 row17\" >17</th>\n",
       "      <td id=\"T_35a5e_row17_col0\" class=\"data row17 col0\" >tri</td>\n",
       "      <td id=\"T_35a5e_row17_col1\" class=\"data row17 col1\" >1217</td>\n",
       "    </tr>\n",
       "    <tr>\n",
       "      <th id=\"T_35a5e_level0_row18\" class=\"row_heading level0 row18\" >18</th>\n",
       "      <td id=\"T_35a5e_row18_col0\" class=\"data row18 col0\" >feel</td>\n",
       "      <td id=\"T_35a5e_row18_col1\" class=\"data row18 col1\" >1175</td>\n",
       "    </tr>\n",
       "    <tr>\n",
       "      <th id=\"T_35a5e_level0_row19\" class=\"row_heading level0 row19\" >19</th>\n",
       "      <td id=\"T_35a5e_row19_col0\" class=\"data row19 col0\" >thing</td>\n",
       "      <td id=\"T_35a5e_row19_col1\" class=\"data row19 col1\" >1167</td>\n",
       "    </tr>\n",
       "  </tbody>\n",
       "</table>\n"
      ],
      "text/plain": [
       "<pandas.io.formats.style.Styler at 0x2a4f72640>"
      ]
     },
     "execution_count": 49,
     "metadata": {},
     "output_type": "execute_result"
    }
   ],
   "source": [
    "top4 = Counter([item for sublist in dataset_cleaned_neg_only['list_words'] for item in sublist])\n",
    "temp4 = pd.DataFrame(top4.most_common(20))\n",
    "temp4.columns = ['Common_words','count']\n",
    "temp4.style.background_gradient(cmap='Blues')"
   ]
  },
  {
   "cell_type": "code",
   "execution_count": 50,
   "metadata": {},
   "outputs": [
    {
     "name": "stderr",
     "output_type": "stream",
     "text": [
      "/Users/michaelcheng/miniforge3/envs/fyp-test/lib/python3.9/site-packages/seaborn/_oldcore.py:1498: FutureWarning: is_categorical_dtype is deprecated and will be removed in a future version. Use isinstance(dtype, CategoricalDtype) instead\n",
      "  if pd.api.types.is_categorical_dtype(vector):\n",
      "/Users/michaelcheng/miniforge3/envs/fyp-test/lib/python3.9/site-packages/seaborn/_oldcore.py:1498: FutureWarning: is_categorical_dtype is deprecated and will be removed in a future version. Use isinstance(dtype, CategoricalDtype) instead\n",
      "  if pd.api.types.is_categorical_dtype(vector):\n",
      "/Users/michaelcheng/miniforge3/envs/fyp-test/lib/python3.9/site-packages/seaborn/_oldcore.py:1498: FutureWarning: is_categorical_dtype is deprecated and will be removed in a future version. Use isinstance(dtype, CategoricalDtype) instead\n",
      "  if pd.api.types.is_categorical_dtype(vector):\n"
     ]
    },
    {
     "data": {
      "text/plain": [
       "<Axes: xlabel='count', ylabel='Common_words'>"
      ]
     },
     "execution_count": 50,
     "metadata": {},
     "output_type": "execute_result"
    },
    {
     "data": {
      "image/png": "[encoded data removed]",
      "text/plain": [
       "<Figure size 432x288 with 1 Axes>"
      ]
     },
     "metadata": {},
     "output_type": "display_data"
    }
   ],
   "source": [
    "sns.set_theme(style=\"whitegrid\")\n",
    "sns.barplot(x=\"count\", y=\"Common_words\", data=temp4)"
   ]
  },
  {
   "cell_type": "markdown",
   "metadata": {},
   "source": [
    "what are the common words appeared in both top 20?"
   ]
  },
  {
   "cell_type": "code",
   "execution_count": 51,
   "metadata": {},
   "outputs": [],
   "source": [
    "temp5 = pd.merge(temp3,temp4, how='inner', on=['Common_words'])"
   ]
  },
  {
   "cell_type": "code",
   "execution_count": 52,
   "metadata": {},
   "outputs": [
    {
     "data": {
      "text/html": [
       "<div>\n",
       "<style scoped>\n",
       "    .dataframe tbody tr th:only-of-type {\n",
       "        vertical-align: middle;\n",
       "    }\n",
       "\n",
       "    .dataframe tbody tr th {\n",
       "        vertical-align: top;\n",
       "    }\n",
       "\n",
       "    .dataframe thead th {\n",
       "        text-align: right;\n",
       "    }\n",
       "</style>\n",
       "<table border=\"1\" class=\"dataframe\">\n",
       "  <thead>\n",
       "    <tr style=\"text-align: right;\">\n",
       "      <th></th>\n",
       "      <th>Common_words</th>\n",
       "      <th>count_x</th>\n",
       "      <th>count_y</th>\n",
       "    </tr>\n",
       "  </thead>\n",
       "  <tbody>\n",
       "    <tr>\n",
       "      <th>0</th>\n",
       "      <td>game</td>\n",
       "      <td>9961</td>\n",
       "      <td>16190</td>\n",
       "    </tr>\n",
       "    <tr>\n",
       "      <th>1</th>\n",
       "      <td>play</td>\n",
       "      <td>2960</td>\n",
       "      <td>4292</td>\n",
       "    </tr>\n",
       "    <tr>\n",
       "      <th>2</th>\n",
       "      <td>like</td>\n",
       "      <td>1979</td>\n",
       "      <td>3430</td>\n",
       "    </tr>\n",
       "    <tr>\n",
       "      <th>3</th>\n",
       "      <td>get</td>\n",
       "      <td>1534</td>\n",
       "      <td>3080</td>\n",
       "    </tr>\n",
       "    <tr>\n",
       "      <th>4</th>\n",
       "      <td>fun</td>\n",
       "      <td>1504</td>\n",
       "      <td>1293</td>\n",
       "    </tr>\n",
       "    <tr>\n",
       "      <th>5</th>\n",
       "      <td>good</td>\n",
       "      <td>1468</td>\n",
       "      <td>1759</td>\n",
       "    </tr>\n",
       "    <tr>\n",
       "      <th>6</th>\n",
       "      <td>one</td>\n",
       "      <td>1441</td>\n",
       "      <td>1971</td>\n",
       "    </tr>\n",
       "    <tr>\n",
       "      <th>7</th>\n",
       "      <td>time</td>\n",
       "      <td>1283</td>\n",
       "      <td>2371</td>\n",
       "    </tr>\n",
       "    <tr>\n",
       "      <th>8</th>\n",
       "      <td>realli</td>\n",
       "      <td>1128</td>\n",
       "      <td>1921</td>\n",
       "    </tr>\n",
       "    <tr>\n",
       "      <th>9</th>\n",
       "      <td>make</td>\n",
       "      <td>1005</td>\n",
       "      <td>1724</td>\n",
       "    </tr>\n",
       "    <tr>\n",
       "      <th>10</th>\n",
       "      <td>would</td>\n",
       "      <td>872</td>\n",
       "      <td>1509</td>\n",
       "    </tr>\n",
       "    <tr>\n",
       "      <th>11</th>\n",
       "      <td>much</td>\n",
       "      <td>788</td>\n",
       "      <td>1348</td>\n",
       "    </tr>\n",
       "    <tr>\n",
       "      <th>12</th>\n",
       "      <td>even</td>\n",
       "      <td>710</td>\n",
       "      <td>2067</td>\n",
       "    </tr>\n",
       "    <tr>\n",
       "      <th>13</th>\n",
       "      <td>go</td>\n",
       "      <td>662</td>\n",
       "      <td>1276</td>\n",
       "    </tr>\n",
       "  </tbody>\n",
       "</table>\n",
       "</div>"
      ],
      "text/plain": [
       "   Common_words  count_x  count_y\n",
       "0          game     9961    16190\n",
       "1          play     2960     4292\n",
       "2          like     1979     3430\n",
       "3           get     1534     3080\n",
       "4           fun     1504     1293\n",
       "5          good     1468     1759\n",
       "6           one     1441     1971\n",
       "7          time     1283     2371\n",
       "8        realli     1128     1921\n",
       "9          make     1005     1724\n",
       "10        would      872     1509\n",
       "11         much      788     1348\n",
       "12         even      710     2067\n",
       "13           go      662     1276"
      ]
     },
     "execution_count": 52,
     "metadata": {},
     "output_type": "execute_result"
    }
   ],
   "source": [
    "temp5"
   ]
  },
  {
   "cell_type": "markdown",
   "metadata": {},
   "source": [
    "looks almost the same as the overall dataset, as the positive comments are very domainant..."
   ]
  },
  {
   "cell_type": "markdown",
   "metadata": {},
   "source": [
    "Due to hardware limitation, we will create a balanced dataset by randomly sampling positive comments in training\n",
    "\n",
    "There are different methods in randomly selecting samples, yet the difference in performance are not significant (~0.01 in accuracy)  \n",
    "E.g.: https://ruslanmv.com/blog/How-to-handle-imbalanced-text-data-in-Natural-Language-Processing\n",
    "\n",
    "The undersampler in imbalanced-learning package will be applied on the training set\n",
    "\n",
    "Then we may scrap new comments for validation on recent comments :D"
   ]
  },
  {
   "cell_type": "markdown",
   "metadata": {},
   "source": []
  }
 ],
 "metadata": {
  "kernelspec": {
   "display_name": "fyp-test-wsl",
   "language": "python",
   "name": "python3"
  },
  "language_info": {
   "codemirror_mode": {
    "name": "ipython",
    "version": 3
   },
   "file_extension": ".py",
   "mimetype": "text/x-python",
   "name": "python",
   "nbconvert_exporter": "python",
   "pygments_lexer": "ipython3",
   "version": "3.9.18"
  }
 },
 "nbformat": 4,
 "nbformat_minor": 2
}
