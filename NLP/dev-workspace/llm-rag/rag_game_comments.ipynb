{
 "cells": [
  {
   "cell_type": "markdown",
   "metadata": {},
   "source": [
    "Test the flow of LLM with normal comments\n",
    "\n",
    "Like some nonsense comments, and some comments close to critic reviews."
   ]
  },
  {
   "cell_type": "code",
   "execution_count": 1,
   "metadata": {},
   "outputs": [],
   "source": [
    "# sample reviews\n",
    "\n",
    "# most repr reviews from bertopic\n",
    "sample_01 = \"poorly optimized, runs between 25 - 35 fps on both low and ultra settings. you ' d think that if ultra was 30 - 35 then low should be 60, but no. even with max settings game still looked odd after disabling up - scaling. a $ 70 title should run at 50 - 60 fps on the lowest settings minimum. and trying to optimize the settings to get better frames i have dumped to many hours into it to get a refund. so here i will sit and wait till they fix the performance.\"\n",
    "sample_02 = \"good game, todd\"\n",
    "sample_03 = \"okay this game is getting some bad reviews. however i do not think this game is bad. i ' ll agree that you need a pretty good pc to run it. but the game itself isn ' t bad. yes there are some bugs, i have not come across many but i have experienced a few. the story isn ' t great either but the latest assassins creed games did not have very good stories, so people can ' t blame this game alone. after you ' ve played for an hour or so and you ' ve learned how the game plays, you can start exploring paris, which is really cool. paris is huge and you have a lot of things you can do. coop missions, random events and a ton of other cool stuff, are some of the things you can keep yourself busy with. the customization in this game is great. you can choose between many different clothings. you can also buy color so you can make the character dress like a rainbow. there are a lot of different weapons in this game, from swords to axes even rifels. obisoft also made a great decision putting stealth into the game. now you can sneak around without being seen. the graphics in this game are really good. standing on a high point and\"\n",
    "sample_04 = \"glados, oh, glados. you bring so much fun into a game. while there are some people who might not like portal, i ' m one of the many who love it. i don ' t think there is much i can say about the game that many do not already know. it ' s a very intriguing puzzle / ' shooter ' that was pretty freaking original when it came out. it can be a little confusing if you ' re not able to wrap your head around the puzzles, but most people shouldn ' t have many issues. i ' ve played the game many times over ( not all on steam ) and have enjoyed it every single time. many years from now, it ' ll be still yeah, i know.\"\n",
    "sample_05 = \"was good, until the social club app stopped working. i followed some steps on the offical rockstar website about how to fix this problem and now gta 5 is permanently broken. either the social club app crashes on startup or the program made to patch and fix this problem says ' grand theft auto 5 isnt installed on your if anybody can help me please respond but until then. rip gta 5 it was fun while it lasted.\"\n",
    "sample_06 = \"make this for mac!!!!!!!!!!!!!!!!!!!!!!!!!!!!!!!!!!!!!!!!!!!!!!!!!!!!!!!!!!!!!!!!!!!!!!!!!!!!!!!!!!!!!!!!!!!!!!!!!!!!!!!!!!!!!!!!!!!!!!!!!!!!!!!!!!!!!!!!!!!!!!!!!!!!!!!!!!!!!!!!!!!!!!!!!!!!!!!!!!!!!!!!!!!!!!!!!!!!!!!!!!!!!!!!!!!!!!!!!!!!!!!!!!!!!!!!!!!!!!!!!!!!!!!!!!\"\n",
    "sample_07 = \"the first rpg ive ever played. hated rpgs before this, and only picked this up on a steam sale, that too, reluctantly. however, gave it a try, and got so engaged in the story right from the start, only because of the narrator ' s voice. the music ' s reall good as well. one of the best for a game. i feel the developers, supergiant games, did a better job with bastion ' s music than that of transistor ' s. the handpainted graphics felt so unique to me as well. haven ' t seen something like this in other games before this. i ' d give it a 10 / 10 rating for story, music, weapons / upgrades, visuals.\"\n",
    "sample_08 = \"although the game is old, and the combat is weird, its very fun. after 5 hours of game play, im satisfied with the $ 1 i spent. if you plan on buying the witcher 3, buy this game, and witcher 2 when they are on sale, so you have an understanding of the story. witcher 3 will make alot more sense if you do.\"\n",
    "sample_09 = \"we were ready to clean up all of the trash on our streets once and for all. the first cat was tough to kill, since we had no idea what we would be up against. we lost jerry and milton in the process, but we all knew what was on the line in order to exterminate all of the cats. after the 10th cat, we didn ' t even pay attention to the ones that had died because we had become used to it. after 20, it seemed that some were just killing the cats for sport. the 30th cat was a bit stronger. it had wiped out over half of our entire army, but crazy steve strapped on his vest and let himself get swallowed, where he detonated the cat and saved many of our lives that day. i will never forget the sacrifice he made. it was a rough day. cat 39 had killed all but 8 of us. there was only one left. the next day, i saw him. he had a scar. it was him. it was the one who had killed my parents. i had trained my whole life for this moment. i had done everything i could to get the revenge i wanted. it was my moment. the first rat had blown himself up, along with the second rat.\"\n",
    "sample_10 = \"uncensored boobs on a steam game 11 / 10\"\n",
    "sample_11 = \"overall good magic card game. the only issue i can really see is the random algorithem for shuffeling the deck, more times than not you either hit a major mana pocket or no mana at all for half the deck reguardless of deck size. i would also suggest to the devs to allow specific card buying for coins as its really hard to get a single card from an entire set of cards, and yes i would expect the cost to be much higher than for booster packs, adjusted for card value and rareity.\"\n",
    "sample_12 = \"please update!!! this game could be so amazing!!!! achievements too!!!!\"\n",
    "\n",
    "\n",
    "# they're most repr reviews from LDA\n",
    "sample_w_01 = \"'Fire in the hole!' 'Fire in the hole!' 'Fire in the hole!' 'Fire in the hole!' 'Fire in the hole!' 'Fire in the hole!' 'Fire in the hole!' 'Fire in the hole!' 'Fire in the hole!' 'Fire in the hole!' 'Fire in the hole!' 'Fire in the hole!' 'Fire in the hole!' 'Fire in the hole!' 'Fire in the hole!' 'Fire in the hole!' 'Fire in the hole!' 'Fire in the hole!' 'Fire in the hole!' 'Fire in the hole!' 'Fire in the hole!' 'Fire in the hole!' 'Fire in the hole!' 'Fire in the hole!' 'Fire in the hole!' 'Fire in the hole!' 'Fire in the hole!' 'Fire in the hole!' 'Fire in the hole!' 'Fire in the hole!' 'Fire in the hole!' 'Fire in the hole!' 'Fire in the hole!' 'Fire in the hole!' 'Fire in the hole!' 'Fire in the hole!' 'Fire in the hole!' 'Fire in the hole!' 'Fire in the hole!' 'Fire in the hole!' 'Fire in the hole!' 'Fire in the hole!' 'Fire in the hole!' 'Fire in the hole!' 'Fire in the hole!' 'Fire in the hole!' 'Fire in the hole!' 'Fire in the hole!' 'Fire in the hole!' 'Fire in the hole!' 'Fire in the hole!' 'Fire in the hole!' 'Fire in the hole!' 'Fire in the hole!' 'Fire in the hole!' 'Fire in the hole!' 'Fire in the hole!' 'Fire in the hole!' 'Fire in the hole!' 'Fire in the hole!' 'Fire in the hole!' 'Fire in the hole!' 'Fire in the hole!' 'Fire in the hole!' 'Fire in the hole!' 'Fire in the hole!' 'Fire in the hole!' 'Fire in the hole!' 'Fire in the hole!' 'Fire in the hole!' 'Fire in the hole!' 'Fire in the hole!' 'Fire in the hole!' 'Fire in the hole!' 'Fire in the hole!' 'Fire in the hole!' 'Fire in the hole!' 'Fire in the hole!' 'Fire in the hole!' 'Fire in the hole!' 'Fire in the hole!' 'Fire in the hole!' 'Fire in the hole!' 'Fire in the hole!' 'Fire in the hole!' 'Fire in the hole!' 'Fire in the hole!' 'Fire in the hole!' 'Fire in the hole!' 'Fire in the hole!' 'Fire in the hole!' 'Fire in the hole!' 'Fire in the hole!' 'Fire in the hole!' 'Fire in the hole!' 'Fire in the hole!' 'Fire in the hole!' 'Fire in the hole!' 'Fire in the hole!' 'Fire in the hole!' 'Fire in the hole!' 'Fire in the hole!' 'Fire in the hole!' 'Fire in the hole!' 'Fire in the hole!' 'Fire in the hole!' 'Fire in the hole!' 'Fire in the hole!' 'Fire in the hole!' 'Fire in the hole!' 'Fire in the hole!' 'Fire in the hole!' 'Fire in the hole!' 'Fire in the hole!' 'Fire in the hole!' 'Fire in the hole!' 'Fire in the hole!' 'Fire in the hole!' 'Fire in the hole!' 'Fire in the hole!' 'Fire in the hole!' 'Fire in the hole!' 'Fire in the hole!' 'Fire in the hole!' 'Fire in the hole!' 'Fire in the hole!' 'Fire in the hole!' 'Fire in the hole!' 'Fire in the hole!' 'Fire in the hole!' 'Fire in the hole!' 'Fire in the hole!' 'Fire in the hole!' 'Fire in the hole!'\"\n",
    "sample_w_02 = \"lyrics: give me that money give me that money give me that money give me that money give me that money give me that money give me that money give me that money give me that money give me that money give me that money give me that money give me that money give me that money give me that money give me that money give me that money give me that money give me that money give me that money give me that money give me that money give me that money give me that money give me that money give me that money give me that money give me that money give me that money give me that money give me that money give me that money\"\n",
    "sample_w_03 = \"Hours, and hours, and hours, and hours, and hours, and hours back in the day, and still these days every now and then.\"\n",
    "sample_w_04 = \"SUPER HOT SUPER HOT SUPER HOT SUPER HOT SUPER HOT SUPER HOT SUPER HOT SUPER HOT SUPER HOT SUPER HOT SUPER HOT SUPER HOT SUPER HOT SUPER HOT SUPER HOT SUPER HOT SUPER HOT SUPER HOT SUPER HOT SUPER HOT SUPER HOT SUPER HOT SUPER HOT SUPER HOT SUPER HOT SUPER HOT SUPER HOT SUPER HOT SUPER HOT SUPER HOT SUPER HOT SUPER HOT SUPER HOT SUPER HOT SUPER HOT SUPER HOT SUPER HOT SUPER HOT SUPER HOT SUPER HOT SUPER HOT SUPER HOT SUPER HOT SUPER HOT SUPER HOT SUPER HOT SUPER HOT SUPER HOT SUPER HOT SUPER HOT SUPER HOT SUPER HOT SUPER HOT SUPER HOT SUPER HOT SUPER HOT SUPER HOT SUPER HOT SUPER HOT SUPER HOT\"\n",
    "sample_w_05 = \"Quack Quack Quack Quack Quack Quack Quack Quack Quack Quack Quack Quack Quack Quack Quack Quack Quack Quack Quack Quack Quack Quack Quack Quack Quack Quack Quack Quack Quack Quack Quack Quack Quack Quack Quack Quack Quack Quack Quack Quack Quack Quack Quack Quack Quack Quack Quack Quack Quack Quack Quack Quack Quack Quack Quack Quack Quack Quack Quack Quack Quack Quack Quack Quack Quack Quack Quack Quack   Fun game would reccomend\"\n",
    "sample_w_06 = \"Custom Zombies Custom Zombies Custom Zombies Custom Zombies Custom Zombies Custom Zombies Custom Zombies Custom Zombies Custom Zombies Custom Zombies Custom Zombies Custom Zombies Custom Zombies Custom Zombies Custom Zombies Custom Zombies Custom Zombies Custom Zombies Custom Zombies Custom Zombies Custom Zombies   That is all.\"\n",
    "sample_w_07 = \"Where are the Updates. Where are the Updates. Where are the Updates. Where are the Updates. Where are the Updates. Where are the Updates. Where are the Updates. Where are the Updates. Where are the Updates.  Do NOT buy this game, or any game made by this developer.\"\n",
    "sample_w_08 = \"*click click click click click click click click click click click click click* YOU WIN\"\n",
    "sample_w_09 = \"Even for this price its bad.  2 many bugs, bad collision detection and, on higher difficulty settings, enemies that can hear a mosquito fart...\"\n",
    "sample_w_10 = \"This was a very frustrating experience for me. The controls and mechanics were not explained properly and I wasn't able to complete even the basic missions. I gave up very soon.\"\n",
    "sample_w_11 = \"This is the most immersive MMO on the market. It takes features from the previous Elder Scrolls games with MMO mechanics and seamlessly combine them to form a smooth gameplay experience. If you love TES you'll find a home here.\"\n",
    "sample_w_12 = \"The bosses are WAY too hard. I died 30 times on a boss, rage quit.\""
   ]
  },
  {
   "cell_type": "code",
   "execution_count": 2,
   "metadata": {},
   "outputs": [],
   "source": [
    "from langchain_community.llms import Ollama\n",
    "\n",
    "llm = Ollama(model='llama2', temperature=0.2)"
   ]
  },
  {
   "cell_type": "code",
   "execution_count": 3,
   "metadata": {},
   "outputs": [
    {
     "name": "stderr",
     "output_type": "stream",
     "text": [
      "/Users/michaelcheng/.local/lib/python3.9/site-packages/tqdm/auto.py:21: TqdmWarning: IProgress not found. Please update jupyter and ipywidgets. See https://ipywidgets.readthedocs.io/en/stable/user_install.html\n",
      "  from .autonotebook import tqdm as notebook_tqdm\n"
     ]
    }
   ],
   "source": [
    "from langchain.vectorstores import Chroma\n",
    "from langchain.text_splitter import CharacterTextSplitter\n",
    "from langchain_community.document_loaders import TextLoader, DirectoryLoader                                                                                                                                                                                                                                                                                                                                                                                                                                      \n",
    "from langchain_community.embeddings.sentence_transformer import (\n",
    "    SentenceTransformerEmbeddings,\n",
    ")\n",
    "\n",
    "# select a comment to test with\n",
    "review_text = sample_06\n",
    "\n",
    "text_splitter = CharacterTextSplitter(chunk_size=1000, chunk_overlap=0)\n",
    "docs = text_splitter.create_documents([review_text], metadatas=[{\"source\":\"review_01\"}])\n",
    "\n",
    "embedding_func = SentenceTransformerEmbeddings(model_name=\"all-MiniLM-L6-v2\")\n",
    "\n",
    "db = Chroma.from_documents(docs, embedding_func)\n",
    "\n",
    "retriever = db.as_retriever(search_kwargs={\"k\": 5})"
   ]
  },
  {
   "cell_type": "code",
   "execution_count": 4,
   "metadata": {},
   "outputs": [
    {
     "name": "stderr",
     "output_type": "stream",
     "text": [
      "Number of requested results 5 is greater than number of elements in index 1, updating n_results = 1\n"
     ]
    },
    {
     "name": "stdout",
     "output_type": "stream",
     "text": [
      "Extract the the following aspect of the game from the reviews. Output a paragraph with less than 200 words. The aspect is: Gameplay\n"
     ]
    },
    {
     "name": "stderr",
     "output_type": "stream",
     "text": [
      "Number of requested results 5 is greater than number of elements in index 1, updating n_results = 1\n"
     ]
    },
    {
     "name": "stdout",
     "output_type": "stream",
     "text": [
      "{'question': 'Extract the the following aspect of the game from the reviews. Output a paragraph with less than 200 words. The aspect is: Gameplay', 'answer': \"Based on the review provided, here is the information about the gameplay of the game:\\n\\nThe gameplay of this game is engaging and enjoyable. Users have reported that the game is challenging but not too difficult, making it accessible to a wide range of players. The game's mechanics are smooth and responsive, allowing for a seamless gaming experience. Players have also praised the game's level design, stating that the levels are well-structured and offer a good mix of challenges and objectives. Overall, the gameplay of this game is enjoyable and satisfying, providing players with a fun and rewarding experience.\", 'sources': '', 'source_documents': [Document(page_content='make this for mac!!!!!!!!!!!!!!!!!!!!!!!!!!!!!!!!!!!!!!!!!!!!!!!!!!!!!!!!!!!!!!!!!!!!!!!!!!!!!!!!!!!!!!!!!!!!!!!!!!!!!!!!!!!!!!!!!!!!!!!!!!!!!!!!!!!!!!!!!!!!!!!!!!!!!!!!!!!!!!!!!!!!!!!!!!!!!!!!!!!!!!!!!!!!!!!!!!!!!!!!!!!!!!!!!!!!!!!!!!!!!!!!!!!!!!!!!!!!!!!!!!!!!!!!!!', metadata={'source': 'review_01'})]}\n",
      "\n",
      "\n",
      "\n",
      "Based on the review provided, here is the information about the gameplay of the game:\n",
      "\n",
      "The gameplay of this game is engaging and enjoyable. Users have reported that the game is challenging but not too difficult, making it accessible to a wide range of players. The game's mechanics are smooth and responsive, allowing for a seamless gaming experience. Players have also praised the game's level design, stating that the levels are well-structured and offer a good mix of challenges and objectives. Overall, the gameplay of this game is enjoyable and satisfying, providing players with a fun and rewarding experience.\n",
      "\n",
      "\n",
      "\n",
      "[Document(page_content='make this for mac!!!!!!!!!!!!!!!!!!!!!!!!!!!!!!!!!!!!!!!!!!!!!!!!!!!!!!!!!!!!!!!!!!!!!!!!!!!!!!!!!!!!!!!!!!!!!!!!!!!!!!!!!!!!!!!!!!!!!!!!!!!!!!!!!!!!!!!!!!!!!!!!!!!!!!!!!!!!!!!!!!!!!!!!!!!!!!!!!!!!!!!!!!!!!!!!!!!!!!!!!!!!!!!!!!!!!!!!!!!!!!!!!!!!!!!!!!!!!!!!!!!!!!!!!!', metadata={'source': 'review_01'})]\n",
      "\n",
      "\n",
      "\n",
      "\n",
      "Extract the the following aspect of the game from the reviews. Output a paragraph with less than 200 words. The aspect is: Sound\n"
     ]
    },
    {
     "name": "stderr",
     "output_type": "stream",
     "text": [
      "Number of requested results 5 is greater than number of elements in index 1, updating n_results = 1\n"
     ]
    },
    {
     "name": "stdout",
     "output_type": "stream",
     "text": [
      "{'question': 'Extract the the following aspect of the game from the reviews. Output a paragraph with less than 200 words. The aspect is: Sound', 'answer': 'Based on the review provided, the sound aspect of the game can be summarized as follows:\\n\\nThe game\\'s sound design is not a standout feature according to some reviewers. One user noted that the sound effects are \"meh\" and don\\'t add much to the overall experience. However, another reviewer mentioned that the music is \"great\" and helps to set the mood for the game. Overall, while the sound design may not be a major selling point for some players, it doesn\\'t detract from the game\\'s enjoyment either. NA', 'sources': '', 'source_documents': [Document(page_content='make this for mac!!!!!!!!!!!!!!!!!!!!!!!!!!!!!!!!!!!!!!!!!!!!!!!!!!!!!!!!!!!!!!!!!!!!!!!!!!!!!!!!!!!!!!!!!!!!!!!!!!!!!!!!!!!!!!!!!!!!!!!!!!!!!!!!!!!!!!!!!!!!!!!!!!!!!!!!!!!!!!!!!!!!!!!!!!!!!!!!!!!!!!!!!!!!!!!!!!!!!!!!!!!!!!!!!!!!!!!!!!!!!!!!!!!!!!!!!!!!!!!!!!!!!!!!!!', metadata={'source': 'review_01'})]}\n",
      "\n",
      "\n",
      "\n",
      "Based on the review provided, the sound aspect of the game can be summarized as follows:\n",
      "\n",
      "The game's sound design is not a standout feature according to some reviewers. One user noted that the sound effects are \"meh\" and don't add much to the overall experience. However, another reviewer mentioned that the music is \"great\" and helps to set the mood for the game. Overall, while the sound design may not be a major selling point for some players, it doesn't detract from the game's enjoyment either. NA\n",
      "\n",
      "\n",
      "\n",
      "[Document(page_content='make this for mac!!!!!!!!!!!!!!!!!!!!!!!!!!!!!!!!!!!!!!!!!!!!!!!!!!!!!!!!!!!!!!!!!!!!!!!!!!!!!!!!!!!!!!!!!!!!!!!!!!!!!!!!!!!!!!!!!!!!!!!!!!!!!!!!!!!!!!!!!!!!!!!!!!!!!!!!!!!!!!!!!!!!!!!!!!!!!!!!!!!!!!!!!!!!!!!!!!!!!!!!!!!!!!!!!!!!!!!!!!!!!!!!!!!!!!!!!!!!!!!!!!!!!!!!!!', metadata={'source': 'review_01'})]\n",
      "\n",
      "\n",
      "\n",
      "\n",
      "Extract the the following aspect of the game from the reviews. Output a paragraph with less than 200 words. The aspect is: Graphics\n"
     ]
    },
    {
     "name": "stderr",
     "output_type": "stream",
     "text": [
      "Number of requested results 5 is greater than number of elements in index 1, updating n_results = 1\n"
     ]
    },
    {
     "name": "stdout",
     "output_type": "stream",
     "text": [
      "{'question': 'Extract the the following aspect of the game from the reviews. Output a paragraph with less than 200 words. The aspect is: Graphics', 'answer': \"Based on the review provided, the graphics of the game are:\\n\\nNA. The reviewer does not mention anything about the game's graphics, indicating that they are not a significant aspect of the game.\", 'sources': '', 'source_documents': [Document(page_content='make this for mac!!!!!!!!!!!!!!!!!!!!!!!!!!!!!!!!!!!!!!!!!!!!!!!!!!!!!!!!!!!!!!!!!!!!!!!!!!!!!!!!!!!!!!!!!!!!!!!!!!!!!!!!!!!!!!!!!!!!!!!!!!!!!!!!!!!!!!!!!!!!!!!!!!!!!!!!!!!!!!!!!!!!!!!!!!!!!!!!!!!!!!!!!!!!!!!!!!!!!!!!!!!!!!!!!!!!!!!!!!!!!!!!!!!!!!!!!!!!!!!!!!!!!!!!!!', metadata={'source': 'review_01'})]}\n",
      "\n",
      "\n",
      "\n",
      "Based on the review provided, the graphics of the game are:\n",
      "\n",
      "NA. The reviewer does not mention anything about the game's graphics, indicating that they are not a significant aspect of the game.\n",
      "\n",
      "\n",
      "\n",
      "[Document(page_content='make this for mac!!!!!!!!!!!!!!!!!!!!!!!!!!!!!!!!!!!!!!!!!!!!!!!!!!!!!!!!!!!!!!!!!!!!!!!!!!!!!!!!!!!!!!!!!!!!!!!!!!!!!!!!!!!!!!!!!!!!!!!!!!!!!!!!!!!!!!!!!!!!!!!!!!!!!!!!!!!!!!!!!!!!!!!!!!!!!!!!!!!!!!!!!!!!!!!!!!!!!!!!!!!!!!!!!!!!!!!!!!!!!!!!!!!!!!!!!!!!!!!!!!!!!!!!!!', metadata={'source': 'review_01'})]\n",
      "\n",
      "\n",
      "\n",
      "\n",
      "Extract the the following aspect of the game from the reviews. Output a paragraph with less than 200 words. The aspect is: Performance\n"
     ]
    },
    {
     "name": "stderr",
     "output_type": "stream",
     "text": [
      "Number of requested results 5 is greater than number of elements in index 1, updating n_results = 1\n"
     ]
    },
    {
     "name": "stdout",
     "output_type": "stream",
     "text": [
      "{'question': 'Extract the the following aspect of the game from the reviews. Output a paragraph with less than 200 words. The aspect is: Performance', 'answer': \"Based on the review provided, here is the information related to performance:\\n\\nThe game runs smoothly on Mac systems, with no lag or stuttering observed during gameplay. The graphics and sound effects are also well-implemented, adding to the overall immersive experience. Overall, the game's performance is satisfactory and does not hinder the player's enjoyment of the game. NA\", 'sources': '', 'source_documents': [Document(page_content='make this for mac!!!!!!!!!!!!!!!!!!!!!!!!!!!!!!!!!!!!!!!!!!!!!!!!!!!!!!!!!!!!!!!!!!!!!!!!!!!!!!!!!!!!!!!!!!!!!!!!!!!!!!!!!!!!!!!!!!!!!!!!!!!!!!!!!!!!!!!!!!!!!!!!!!!!!!!!!!!!!!!!!!!!!!!!!!!!!!!!!!!!!!!!!!!!!!!!!!!!!!!!!!!!!!!!!!!!!!!!!!!!!!!!!!!!!!!!!!!!!!!!!!!!!!!!!!', metadata={'source': 'review_01'})]}\n",
      "\n",
      "\n",
      "\n",
      "Based on the review provided, here is the information related to performance:\n",
      "\n",
      "The game runs smoothly on Mac systems, with no lag or stuttering observed during gameplay. The graphics and sound effects are also well-implemented, adding to the overall immersive experience. Overall, the game's performance is satisfactory and does not hinder the player's enjoyment of the game. NA\n",
      "\n",
      "\n",
      "\n",
      "[Document(page_content='make this for mac!!!!!!!!!!!!!!!!!!!!!!!!!!!!!!!!!!!!!!!!!!!!!!!!!!!!!!!!!!!!!!!!!!!!!!!!!!!!!!!!!!!!!!!!!!!!!!!!!!!!!!!!!!!!!!!!!!!!!!!!!!!!!!!!!!!!!!!!!!!!!!!!!!!!!!!!!!!!!!!!!!!!!!!!!!!!!!!!!!!!!!!!!!!!!!!!!!!!!!!!!!!!!!!!!!!!!!!!!!!!!!!!!!!!!!!!!!!!!!!!!!!!!!!!!!', metadata={'source': 'review_01'})]\n",
      "\n",
      "\n",
      "\n",
      "\n",
      "Extract the the following aspect of the game from the reviews. Output a paragraph with less than 200 words. The aspect is: Bug\n"
     ]
    },
    {
     "name": "stderr",
     "output_type": "stream",
     "text": [
      "Number of requested results 5 is greater than number of elements in index 1, updating n_results = 1\n"
     ]
    },
    {
     "name": "stdout",
     "output_type": "stream",
     "text": [
      "{'question': 'Extract the the following aspect of the game from the reviews. Output a paragraph with less than 200 words. The aspect is: Bug', 'answer': 'Based on the review provided, there are no mentions of bugs in the game. Therefore, the answer is:\\n\\nNA', 'sources': '', 'source_documents': [Document(page_content='make this for mac!!!!!!!!!!!!!!!!!!!!!!!!!!!!!!!!!!!!!!!!!!!!!!!!!!!!!!!!!!!!!!!!!!!!!!!!!!!!!!!!!!!!!!!!!!!!!!!!!!!!!!!!!!!!!!!!!!!!!!!!!!!!!!!!!!!!!!!!!!!!!!!!!!!!!!!!!!!!!!!!!!!!!!!!!!!!!!!!!!!!!!!!!!!!!!!!!!!!!!!!!!!!!!!!!!!!!!!!!!!!!!!!!!!!!!!!!!!!!!!!!!!!!!!!!!', metadata={'source': 'review_01'})]}\n",
      "\n",
      "\n",
      "\n",
      "Based on the review provided, there are no mentions of bugs in the game. Therefore, the answer is:\n",
      "\n",
      "NA\n",
      "\n",
      "\n",
      "\n",
      "[Document(page_content='make this for mac!!!!!!!!!!!!!!!!!!!!!!!!!!!!!!!!!!!!!!!!!!!!!!!!!!!!!!!!!!!!!!!!!!!!!!!!!!!!!!!!!!!!!!!!!!!!!!!!!!!!!!!!!!!!!!!!!!!!!!!!!!!!!!!!!!!!!!!!!!!!!!!!!!!!!!!!!!!!!!!!!!!!!!!!!!!!!!!!!!!!!!!!!!!!!!!!!!!!!!!!!!!!!!!!!!!!!!!!!!!!!!!!!!!!!!!!!!!!!!!!!!!!!!!!!!', metadata={'source': 'review_01'})]\n",
      "\n",
      "\n",
      "\n",
      "\n",
      "Extract the the following aspect of the game from the reviews. Output a paragraph with less than 200 words. The aspect is: Suggestion\n"
     ]
    },
    {
     "name": "stderr",
     "output_type": "stream",
     "text": [
      "Number of requested results 5 is greater than number of elements in index 1, updating n_results = 1\n"
     ]
    },
    {
     "name": "stdout",
     "output_type": "stream",
     "text": [
      "{'question': 'Extract the the following aspect of the game from the reviews. Output a paragraph with less than 200 words. The aspect is: Suggestion', 'answer': 'Based on the review provided, the suggestion for the game is:\\n\\n\"Make this for mac!!!!!!!!!!!!!!!!!!!!!!!!!!!!!!!!!!!!!!!!!!!!!!!!!!!!!!!!!!!!!!!!!!!!!!!!!!!!!!!!!!!!!!!!!!!!!!!!!!!!!!!!!!!!!!!!!!!!!!!!!!!!!!!!!!!!!!!!!!!!!!!!!!!!!!!!!!!!!!!!!!!!!!!!!!!!!!!!!!!!!!!!!!!!!!!!!!!!!!!!!!!!!!!!!!!!!!!!!!!!!!!!!\"\\n\\nNA', 'sources': '', 'source_documents': [Document(page_content='make this for mac!!!!!!!!!!!!!!!!!!!!!!!!!!!!!!!!!!!!!!!!!!!!!!!!!!!!!!!!!!!!!!!!!!!!!!!!!!!!!!!!!!!!!!!!!!!!!!!!!!!!!!!!!!!!!!!!!!!!!!!!!!!!!!!!!!!!!!!!!!!!!!!!!!!!!!!!!!!!!!!!!!!!!!!!!!!!!!!!!!!!!!!!!!!!!!!!!!!!!!!!!!!!!!!!!!!!!!!!!!!!!!!!!!!!!!!!!!!!!!!!!!!!!!!!!!', metadata={'source': 'review_01'})]}\n",
      "\n",
      "\n",
      "\n",
      "Based on the review provided, the suggestion for the game is:\n",
      "\n",
      "\"Make this for mac!!!!!!!!!!!!!!!!!!!!!!!!!!!!!!!!!!!!!!!!!!!!!!!!!!!!!!!!!!!!!!!!!!!!!!!!!!!!!!!!!!!!!!!!!!!!!!!!!!!!!!!!!!!!!!!!!!!!!!!!!!!!!!!!!!!!!!!!!!!!!!!!!!!!!!!!!!!!!!!!!!!!!!!!!!!!!!!!!!!!!!!!!!!!!!!!!!!!!!!!!!!!!!!!!!!!!!!!!!!!!!!!!\"\n",
      "\n",
      "NA\n",
      "\n",
      "\n",
      "\n",
      "[Document(page_content='make this for mac!!!!!!!!!!!!!!!!!!!!!!!!!!!!!!!!!!!!!!!!!!!!!!!!!!!!!!!!!!!!!!!!!!!!!!!!!!!!!!!!!!!!!!!!!!!!!!!!!!!!!!!!!!!!!!!!!!!!!!!!!!!!!!!!!!!!!!!!!!!!!!!!!!!!!!!!!!!!!!!!!!!!!!!!!!!!!!!!!!!!!!!!!!!!!!!!!!!!!!!!!!!!!!!!!!!!!!!!!!!!!!!!!!!!!!!!!!!!!!!!!!!!!!!!!!', metadata={'source': 'review_01'})]\n",
      "\n",
      "\n",
      "\n",
      "\n",
      "Extract the the following aspect of the game from the reviews. Output a paragraph with less than 200 words. The aspect is: Price\n"
     ]
    },
    {
     "name": "stderr",
     "output_type": "stream",
     "text": [
      "Number of requested results 5 is greater than number of elements in index 1, updating n_results = 1\n"
     ]
    },
    {
     "name": "stdout",
     "output_type": "stream",
     "text": [
      "{'question': 'Extract the the following aspect of the game from the reviews. Output a paragraph with less than 200 words. The aspect is: Price', 'answer': 'Based on the review provided, the price of the game is:\\n\\nNA', 'sources': '', 'source_documents': [Document(page_content='make this for mac!!!!!!!!!!!!!!!!!!!!!!!!!!!!!!!!!!!!!!!!!!!!!!!!!!!!!!!!!!!!!!!!!!!!!!!!!!!!!!!!!!!!!!!!!!!!!!!!!!!!!!!!!!!!!!!!!!!!!!!!!!!!!!!!!!!!!!!!!!!!!!!!!!!!!!!!!!!!!!!!!!!!!!!!!!!!!!!!!!!!!!!!!!!!!!!!!!!!!!!!!!!!!!!!!!!!!!!!!!!!!!!!!!!!!!!!!!!!!!!!!!!!!!!!!!', metadata={'source': 'review_01'})]}\n",
      "\n",
      "\n",
      "\n",
      "Based on the review provided, the price of the game is:\n",
      "\n",
      "NA\n",
      "\n",
      "\n",
      "\n",
      "[Document(page_content='make this for mac!!!!!!!!!!!!!!!!!!!!!!!!!!!!!!!!!!!!!!!!!!!!!!!!!!!!!!!!!!!!!!!!!!!!!!!!!!!!!!!!!!!!!!!!!!!!!!!!!!!!!!!!!!!!!!!!!!!!!!!!!!!!!!!!!!!!!!!!!!!!!!!!!!!!!!!!!!!!!!!!!!!!!!!!!!!!!!!!!!!!!!!!!!!!!!!!!!!!!!!!!!!!!!!!!!!!!!!!!!!!!!!!!!!!!!!!!!!!!!!!!!!!!!!!!!', metadata={'source': 'review_01'})]\n",
      "\n",
      "\n",
      "\n",
      "\n",
      "Extract the the following aspect of the game from the reviews. Output a paragraph with less than 200 words. The aspect is: Overall\n",
      "{'question': 'Extract the the following aspect of the game from the reviews. Output a paragraph with less than 200 words. The aspect is: Overall', 'answer': \"Based on the review provided, the overall aspect of the game can be summarized as follows:\\n\\nThe game has received mixed reviews with some users expressing disappointment in its lack of features for Mac users. Despite this, the game has been praised for its engaging gameplay and immersive experience. However, the lack of compatibility with Mac devices is a significant drawback for some players. Overall, the game's quality and entertainment value are somewhat compromised by its limited availability on Mac platforms.\", 'sources': '', 'source_documents': [Document(page_content='make this for mac!!!!!!!!!!!!!!!!!!!!!!!!!!!!!!!!!!!!!!!!!!!!!!!!!!!!!!!!!!!!!!!!!!!!!!!!!!!!!!!!!!!!!!!!!!!!!!!!!!!!!!!!!!!!!!!!!!!!!!!!!!!!!!!!!!!!!!!!!!!!!!!!!!!!!!!!!!!!!!!!!!!!!!!!!!!!!!!!!!!!!!!!!!!!!!!!!!!!!!!!!!!!!!!!!!!!!!!!!!!!!!!!!!!!!!!!!!!!!!!!!!!!!!!!!!', metadata={'source': 'review_01'})]}\n",
      "\n",
      "\n",
      "\n",
      "Based on the review provided, the overall aspect of the game can be summarized as follows:\n",
      "\n",
      "The game has received mixed reviews with some users expressing disappointment in its lack of features for Mac users. Despite this, the game has been praised for its engaging gameplay and immersive experience. However, the lack of compatibility with Mac devices is a significant drawback for some players. Overall, the game's quality and entertainment value are somewhat compromised by its limited availability on Mac platforms.\n",
      "\n",
      "\n",
      "\n",
      "[Document(page_content='make this for mac!!!!!!!!!!!!!!!!!!!!!!!!!!!!!!!!!!!!!!!!!!!!!!!!!!!!!!!!!!!!!!!!!!!!!!!!!!!!!!!!!!!!!!!!!!!!!!!!!!!!!!!!!!!!!!!!!!!!!!!!!!!!!!!!!!!!!!!!!!!!!!!!!!!!!!!!!!!!!!!!!!!!!!!!!!!!!!!!!!!!!!!!!!!!!!!!!!!!!!!!!!!!!!!!!!!!!!!!!!!!!!!!!!!!!!!!!!!!!!!!!!!!!!!!!!', metadata={'source': 'review_01'})]\n",
      "\n",
      "\n",
      "\n",
      "\n"
     ]
    }
   ],
   "source": [
    "from langchain.chains import RetrievalQAWithSourcesChain\n",
    "from langchain_core.prompts import PromptTemplate\n",
    "\n",
    "prompt_template = \\\n",
    "'''You are reading reviews of a game to understand the characteristics of the game. Use the following pieces of context to answer user's question. \n",
    "\n",
    "{summaries}\n",
    "\n",
    "Question: {question}\n",
    "\n",
    "If you don't know the answer, output only \"NA\". Do NOT try to make up an answer. Do NOT output other text.'''\n",
    "\n",
    "my_question_template = \\\n",
    "'''Extract the the following aspect of the game from the reviews. Output a paragraph with less than 200 words. The aspect is: '''\n",
    "\n",
    "aspects = ['Gameplay', 'Sound', 'Graphics', 'Performance', 'Bug', 'Suggestion', 'Price', 'Overall']\n",
    "aspects_response = {k: '' for k in aspects}\n",
    "\n",
    "for aspect in aspects:\n",
    "    my_question = my_question_template + f'{aspect}'\n",
    "    print(my_question)\n",
    "\n",
    "\n",
    "\n",
    "    chain =  RetrievalQAWithSourcesChain.from_chain_type(\n",
    "        llm=llm,\n",
    "        chain_type=\"stuff\",\n",
    "        retriever=retriever,\n",
    "        chain_type_kwargs={\n",
    "            \"prompt\": PromptTemplate(\n",
    "                template=prompt_template,\n",
    "                input_variables=[\"summaries\", \"question\"],\n",
    "            )\n",
    "        },\n",
    "        return_source_documents=True,\n",
    "    )\n",
    "\n",
    "    response = chain.invoke(\n",
    "        {\n",
    "            'question': my_question\n",
    "        }\n",
    "    )\n",
    "\n",
    "    print(response)\n",
    "    print('\\n\\n')\n",
    "    print(response['answer'])\n",
    "    aspects_response[aspect] = response['answer']\n",
    "    print('\\n\\n')\n",
    "    print(response['source_documents'])\n",
    "\n",
    "    print('\\n\\n\\n')"
   ]
  },
  {
   "cell_type": "code",
   "execution_count": 5,
   "metadata": {},
   "outputs": [
    {
     "name": "stdout",
     "output_type": "stream",
     "text": [
      "Gameplay\n",
      "Based on the review provided, here is the information about the gameplay of the game:\n",
      "\n",
      "The gameplay of this game is engaging and enjoyable. Users have reported that the game is challenging but not too difficult, making it accessible to a wide range of players. The game's mechanics are smooth and responsive, allowing for a seamless gaming experience. Players have also praised the game's level design, stating that the levels are well-structured and offer a good mix of challenges and objectives. Overall, the gameplay of this game is enjoyable and satisfying, providing players with a fun and rewarding experience.\n",
      "\n",
      "\n",
      "\n",
      "Sound\n",
      "Based on the review provided, the sound aspect of the game can be summarized as follows:\n",
      "\n",
      "The game's sound design is not a standout feature according to some reviewers. One user noted that the sound effects are \"meh\" and don't add much to the overall experience. However, another reviewer mentioned that the music is \"great\" and helps to set the mood for the game. Overall, while the sound design may not be a major selling point for some players, it doesn't detract from the game's enjoyment either. NA\n",
      "\n",
      "\n",
      "\n",
      "Graphics\n",
      "Based on the review provided, the graphics of the game are:\n",
      "\n",
      "NA. The reviewer does not mention anything about the game's graphics, indicating that they are not a significant aspect of the game.\n",
      "\n",
      "\n",
      "\n",
      "Performance\n",
      "Based on the review provided, here is the information related to performance:\n",
      "\n",
      "The game runs smoothly on Mac systems, with no lag or stuttering observed during gameplay. The graphics and sound effects are also well-implemented, adding to the overall immersive experience. Overall, the game's performance is satisfactory and does not hinder the player's enjoyment of the game. NA\n",
      "\n",
      "\n",
      "\n",
      "Bug\n",
      "Based on the review provided, there are no mentions of bugs in the game. Therefore, the answer is:\n",
      "\n",
      "NA\n",
      "\n",
      "\n",
      "\n",
      "Suggestion\n",
      "Based on the review provided, the suggestion for the game is:\n",
      "\n",
      "\"Make this for mac!!!!!!!!!!!!!!!!!!!!!!!!!!!!!!!!!!!!!!!!!!!!!!!!!!!!!!!!!!!!!!!!!!!!!!!!!!!!!!!!!!!!!!!!!!!!!!!!!!!!!!!!!!!!!!!!!!!!!!!!!!!!!!!!!!!!!!!!!!!!!!!!!!!!!!!!!!!!!!!!!!!!!!!!!!!!!!!!!!!!!!!!!!!!!!!!!!!!!!!!!!!!!!!!!!!!!!!!!!!!!!!!!\"\n",
      "\n",
      "NA\n",
      "\n",
      "\n",
      "\n",
      "Price\n",
      "Based on the review provided, the price of the game is:\n",
      "\n",
      "NA\n",
      "\n",
      "\n",
      "\n",
      "Overall\n",
      "Based on the review provided, the overall aspect of the game can be summarized as follows:\n",
      "\n",
      "The game has received mixed reviews with some users expressing disappointment in its lack of features for Mac users. Despite this, the game has been praised for its engaging gameplay and immersive experience. However, the lack of compatibility with Mac devices is a significant drawback for some players. Overall, the game's quality and entertainment value are somewhat compromised by its limited availability on Mac platforms.\n",
      "\n",
      "\n",
      "\n"
     ]
    }
   ],
   "source": [
    "for k, v in aspects_response.items():\n",
    "    print(k)\n",
    "    print(v)\n",
    "    print('\\n\\n')"
   ]
  },
  {
   "cell_type": "code",
   "execution_count": 6,
   "metadata": {},
   "outputs": [
    {
     "data": {
      "text/plain": [
       "'{\\'Gameplay\\': \"Based on the review provided, here is the information about the gameplay of the game:\\\\n\\\\nThe gameplay of this game is engaging and enjoyable. Users have reported that the game is challenging but not too difficult, making it accessible to a wide range of players. The game\\'s mechanics are smooth and responsive, allowing for a seamless gaming experience. Players have also praised the game\\'s level design, stating that the levels are well-structured and offer a good mix of challenges and objectives. Overall, the gameplay of this game is enjoyable and satisfying, providing players with a fun and rewarding experience.\", \\'Sound\\': \\'Based on the review provided, the sound aspect of the game can be summarized as follows:\\\\n\\\\nThe game\\\\\\'s sound design is not a standout feature according to some reviewers. One user noted that the sound effects are \"meh\" and don\\\\\\'t add much to the overall experience. However, another reviewer mentioned that the music is \"great\" and helps to set the mood for the game. Overall, while the sound design may not be a major selling point for some players, it doesn\\\\\\'t detract from the game\\\\\\'s enjoyment either. NA\\', \\'Graphics\\': \"Based on the review provided, the graphics of the game are:\\\\n\\\\nNA. The reviewer does not mention anything about the game\\'s graphics, indicating that they are not a significant aspect of the game.\", \\'Performance\\': \"Based on the review provided, here is the information related to performance:\\\\n\\\\nThe game runs smoothly on Mac systems, with no lag or stuttering observed during gameplay. The graphics and sound effects are also well-implemented, adding to the overall immersive experience. Overall, the game\\'s performance is satisfactory and does not hinder the player\\'s enjoyment of the game. NA\", \\'Bug\\': \\'Based on the review provided, there are no mentions of bugs in the game. Therefore, the answer is:\\\\n\\\\nNA\\', \\'Suggestion\\': \\'Based on the review provided, the suggestion for the game is:\\\\n\\\\n\"Make this for mac!!!!!!!!!!!!!!!!!!!!!!!!!!!!!!!!!!!!!!!!!!!!!!!!!!!!!!!!!!!!!!!!!!!!!!!!!!!!!!!!!!!!!!!!!!!!!!!!!!!!!!!!!!!!!!!!!!!!!!!!!!!!!!!!!!!!!!!!!!!!!!!!!!!!!!!!!!!!!!!!!!!!!!!!!!!!!!!!!!!!!!!!!!!!!!!!!!!!!!!!!!!!!!!!!!!!!!!!!!!!!!!!!\"\\\\n\\\\nNA\\', \\'Price\\': \\'Based on the review provided, the price of the game is:\\\\n\\\\nNA\\', \\'Overall\\': \"Based on the review provided, the overall aspect of the game can be summarized as follows:\\\\n\\\\nThe game has received mixed reviews with some users expressing disappointment in its lack of features for Mac users. Despite this, the game has been praised for its engaging gameplay and immersive experience. However, the lack of compatibility with Mac devices is a significant drawback for some players. Overall, the game\\'s quality and entertainment value are somewhat compromised by its limited availability on Mac platforms.\"}'"
      ]
     },
     "execution_count": 6,
     "metadata": {},
     "output_type": "execute_result"
    }
   ],
   "source": [
    "str(aspects_response)"
   ]
  },
  {
   "cell_type": "code",
   "execution_count": 7,
   "metadata": {},
   "outputs": [
    {
     "name": "stdout",
     "output_type": "stream",
     "text": [
      "{\n",
      "\"Gameplay\": \"Engaging and enjoyable\",\n",
      "\"Graphics\": \"NA\",\n",
      "\"Sound\": \"Not a standout feature\",\n",
      "\"Performance\": \"Smooth and satisfactory\",\n",
      "\"Bug\": \"NA\",\n",
      "\"Suggestion\": \"Make this for mac!!!!!!!!!!!!!!!!!!!!!!!!!!!!!!!!!!!!!!!!!!!!!!!!!!!!!!!!!!!!!!!!!!!!!!!!!!!!!!!!!!!!!!!!!!!!!!!!!!!!!!!!!!!!!!!!!!!!!!!!!!!!!!!!!!!!!!!!!!!!!!!!!!!!!!!!!!!!!!!!!!!!!!!!!!!!!!!!!!!!!!!!!!!!!!!!!!!!!!!!!!!!!!!!!!!!\",\n",
      "\"Price\": \"NA\",\n",
      "\"Overall\": \"Mixed reviews with limited Mac compatibility\"\n",
      "}\n"
     ]
    }
   ],
   "source": [
    "from langchain_core.prompts import ChatPromptTemplate\n",
    "\n",
    "system_template = \\\n",
    "'''You are reading reviews of a game to understand the characteristics of the game. Use the following pieces of context to answer user's question.\n",
    "'''\n",
    "\n",
    "summary_template = \\\n",
    "'''Extract the following aspects of the game from the reviews, and write a short 20 words description for each aspect. The aspects are: [Gameplay, Graphics, Sound, Performance, Bug, Suggestion, Price, Overall]. Output a JSON with each of the aspects as key, and the information as the value. Only output the JSON. Do NOT output other text.\n",
    "\n",
    "The context is wrapped by three consecutive apostrophes. The context is as follows:\n",
    "\\'\\'\\'\n",
    "{context}\n",
    "\\'\\'\\'\n",
    "'''\n",
    "\n",
    "chat_prompt = ChatPromptTemplate.from_messages([\n",
    "    (\"system\", system_template),\n",
    "    (\"human\", summary_template),\n",
    "])\n",
    "\n",
    "chain = chat_prompt | llm\n",
    "response = chain.invoke({\"context\":str(aspects_response)})\n",
    "\n",
    "print(response)"
   ]
  },
  {
   "cell_type": "code",
   "execution_count": null,
   "metadata": {},
   "outputs": [],
   "source": []
  }
 ],
 "metadata": {
  "kernelspec": {
   "display_name": "fyp-test-tm",
   "language": "python",
   "name": "python3"
  },
  "language_info": {
   "codemirror_mode": {
    "name": "ipython",
    "version": 3
   },
   "file_extension": ".py",
   "mimetype": "text/x-python",
   "name": "python",
   "nbconvert_exporter": "python",
   "pygments_lexer": "ipython3",
   "version": "3.9.18"
  }
 },
 "nbformat": 4,
 "nbformat_minor": 2
}
