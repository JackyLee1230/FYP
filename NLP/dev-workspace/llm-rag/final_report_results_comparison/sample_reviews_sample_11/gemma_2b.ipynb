{
 "cells": [
  {
   "cell_type": "markdown",
   "metadata": {},
   "source": [
    "Base script for comparison existance of output-format in the prompt"
   ]
  },
  {
   "cell_type": "code",
   "execution_count": 2,
   "metadata": {},
   "outputs": [],
   "source": [
    "# review text\n",
    "\n",
    "import sys\n",
    "from pathlib import Path\n",
    "import pandas as pd\n",
    "\n",
    "sys.path.append('../../')\n",
    "\n",
    "import _sample_reviews\n",
    "import _prompts\n",
    "\n",
    "from langchain_community.llms import Ollama\n",
    "\n",
    "# YOUR REVIEW TEXT\n",
    "review_text = _sample_reviews.sample_11\n",
    "\n",
    "# YOUR OLLAMA MODEL OF THIS SCRIPT\n",
    "llm = Ollama(model='gemma:2b-instruct-q4_0', temperature=0.4)"
   ]
  },
  {
   "cell_type": "code",
   "execution_count": 3,
   "metadata": {},
   "outputs": [
    {
     "name": "stdout",
     "output_type": "stream",
     "text": [
      "{'review_ID': 123, 'review_text': 'overall good magic card game. the only issue i can really see is the random algorithem for shuffeling the deck, more times than not you either hit a major mana pocket or no mana at all for half the deck reguardless of deck size. i would also suggest to the devs to allow specific card buying for coins as its really hard to get a single card from an entire set of cards, and yes i would expect the cost to be much higher than for booster packs, adjusted for card value and rareity.', 'datetime': datetime.datetime(2024, 4, 4, 11, 18, 51, 480517), 'hash': 'eccd52c55e2e02a974233294710d851b465d77a0eee1ffaf33dac12b'}\n",
      "\n",
      "\n",
      "\n",
      "Len of review_text: 94\n"
     ]
    }
   ],
   "source": [
    "from datetime import datetime\n",
    "from hashlib import sha224\n",
    "\n",
    "# create an object with review_ID, review_text and the datetime of creation\n",
    "def create_review(review_text, review_ID):    \n",
    "    review_obj = {\n",
    "        \"review_ID\": review_ID,\n",
    "        \"review_text\": review_text,\n",
    "        \"datetime\": datetime.now()\n",
    "    }\n",
    "\n",
    "    # create a hash of the review_text for creating unique collection with Chromadb\n",
    "    hash = sha224(str(review_obj).encode()).hexdigest()\n",
    "    review_obj['hash'] = hash\n",
    "\n",
    "    return review_obj\n",
    "\n",
    "# the temporary review_ID\n",
    "review_ID = 123\n",
    "# select a comment to test with\n",
    "review_obj = create_review(review_text, review_ID)\n",
    "\n",
    "print(review_obj)\n",
    "print('\\n\\n')\n",
    "print('Len of review_text:', len(review_text.split()))"
   ]
  },
  {
   "cell_type": "code",
   "execution_count": 4,
   "metadata": {},
   "outputs": [],
   "source": [
    "# define callbacks for detecting token usage\n",
    "# copied from ../previous_tests/ollama_get_token_usage_example.ipynb\n",
    "\n",
    "from langchain_core.callbacks.base import BaseCallbackHandler\n",
    "from langchain_core.outputs.llm_result import LLMResult\n",
    "from collections import deque\n",
    "\n",
    "class TokenUsageCallbackHandler(BaseCallbackHandler):\n",
    "\n",
    "    def __init__(self, deque: deque = None):\n",
    "        super().__init__()\n",
    "        self.deque = deque\n",
    "\n",
    "    def on_llm_end(self, response: LLMResult, **kwargs) -> None:\n",
    "\n",
    "        generation = response.generations[0][0]\n",
    "        gen_info = generation.generation_info\n",
    "\n",
    "        # get token usage\n",
    "        # ref: https://github.com/orgs/langfuse/discussions/1179\n",
    "        token_usage = gen_info.get('prompt_eval_count', 0) + gen_info.get('eval_count', 0)\n",
    "        # get time costed (local machine)\n",
    "        # instead of getting total duration, we get the prompt_eval_duration and eval_duration to exclude the load duration (e.g. to load the model to the gpu, etc.)\n",
    "        time_costed = gen_info.get('prompt_eval_duration', 1e-10) + gen_info.get('eval_duration', 1e-10)     # in ns, a small value to indicate a inf time when it fails\n",
    "\n",
    "\n",
    "        # create an object to store the token usage and time costed\n",
    "        token_usage_obj = {\n",
    "            'token_usage': token_usage,\n",
    "            'time_costed': time_costed\n",
    "        }\n",
    "\n",
    "        # append the object to the deque\n",
    "        self.deque.append(token_usage_obj)\n",
    "\n",
    "\n",
    "\n",
    "common_deque = deque()\n",
    "chain_config = {\n",
    "    \"callbacks\": [TokenUsageCallbackHandler(common_deque)],\n",
    "}"
   ]
  },
  {
   "cell_type": "code",
   "execution_count": 5,
   "metadata": {},
   "outputs": [],
   "source": [
    "import chromadb\n",
    "\n",
    "# use docker\n",
    "# chroma_client = chromadb.HttpClient(host=\"localhost\", port=8000)"
   ]
  },
  {
   "cell_type": "code",
   "execution_count": 6,
   "metadata": {},
   "outputs": [
    {
     "name": "stderr",
     "output_type": "stream",
     "text": [
      "/Users/michaelcheng/.local/lib/python3.9/site-packages/tqdm/auto.py:21: TqdmWarning: IProgress not found. Please update jupyter and ipywidgets. See https://ipywidgets.readthedocs.io/en/stable/user_install.html\n",
      "  from .autonotebook import tqdm as notebook_tqdm\n",
      "/Users/michaelcheng/miniforge3/envs/fyp-test-tm/lib/python3.9/site-packages/torch/_utils.py:831: UserWarning: TypedStorage is deprecated. It will be removed in the future and UntypedStorage will be the only storage class. This should only matter to you if you are using storages directly.  To access UntypedStorage directly, use tensor.untyped_storage() instead of tensor.storage()\n",
      "  return self.fget.__get__(instance, owner)()\n"
     ]
    }
   ],
   "source": [
    "from langchain_community.embeddings.sentence_transformer import (\n",
    "    SentenceTransformerEmbeddings,\n",
    ")\n",
    "\n",
    "from langchain.text_splitter import CharacterTextSplitter, TokenTextSplitter, RecursiveCharacterTextSplitter\n",
    "from transformers import AutoTokenizer\n",
    "from langchain_community.document_loaders import TextLoader, DirectoryLoader\n",
    "from langchain.vectorstores import Chroma\n",
    "\n",
    "# also change this to use Mistral Embeddings\n",
    "embedding_func = SentenceTransformerEmbeddings(model_name=\"all-MiniLM-L6-v2\")\n",
    "\n",
    "text_spliter = RecursiveCharacterTextSplitter.from_tiktoken_encoder(\n",
    "    encoding_name='cl100k_base', chunk_size=250, chunk_overlap=40\n",
    ")\n",
    "\n",
    "docs = text_spliter.create_documents(\n",
    "    [review_text], metadatas=[{\"source\":\"review_01\"}]\n",
    ")\n",
    "\n",
    "temp_db = Chroma.from_documents(\n",
    "    documents=docs,\n",
    "    embedding=embedding_func,\n",
    "    collection_name=review_obj['hash']\n",
    ")\n",
    "\n",
    "retriever = temp_db.as_retriever(search_kwargs={\"k\": 5})"
   ]
  },
  {
   "cell_type": "markdown",
   "metadata": {},
   "source": [
    "---"
   ]
  },
  {
   "cell_type": "markdown",
   "metadata": {},
   "source": [
    "prompting"
   ]
  },
  {
   "cell_type": "code",
   "execution_count": 7,
   "metadata": {},
   "outputs": [],
   "source": [
    "# global constants\n",
    "GAME_ASPECTS = ['Gameplay', 'Narrative', 'Accessibility', 'Sound', 'Graphics & Art Design', 'Performance', 'Bug', 'Suggestion', 'Price', 'Overall']"
   ]
  },
  {
   "cell_type": "markdown",
   "metadata": {},
   "source": [
    "3-3-4\n",
    "\n",
    "with one-shot output format provided"
   ]
  },
  {
   "cell_type": "code",
   "execution_count": 8,
   "metadata": {},
   "outputs": [
    {
     "name": "stderr",
     "output_type": "stream",
     "text": [
      "Number of requested results 5 is greater than number of elements in index 1, updating n_results = 1\n"
     ]
    },
    {
     "name": "stderr",
     "output_type": "stream",
     "text": [
      "Number of requested results 5 is greater than number of elements in index 1, updating n_results = 1\n"
     ]
    },
    {
     "name": "stdout",
     "output_type": "stream",
     "text": [
      "{\n",
      "  \"Gameplay\": \"The game is overall good, but the random algorithm for shuffling the deck can be frustrating. It can sometimes take a long time to get a major mana pocket or no mana at all for half the deck, regardless of the deck size.\",\n",
      "  \"Narrative\": \"The game has a rich narrative that is well-written and engaging.\",\n",
      "  \"Accessibility\": \"The game is accessible for players of all skill levels, but it can be challenging for beginners. The game has a lot of depth and complexity that can be overwhelming for newcomers.\"\n",
      "}\n",
      "\n",
      "{\"Gameplay\": \"The game is overall good, but the random algorithm for shuffling the deck can be frustrating. It can sometimes take a long time to get a major mana pocket or no mana at all for half the deck, regardless of the deck size.\",\n",
      "\"Narrative\": \"The game has a rich narrative that is well-written and engaging.\",\n",
      "\"Accessibility\": \"The game is accessible for players of all skill levels, but it can be challenging for beginners. The game has a lot of depth and complexity that can be overwhelming for newcomers.\"\n",
      "--------------------\n"
     ]
    },
    {
     "name": "stderr",
     "output_type": "stream",
     "text": [
      "Number of requested results 5 is greater than number of elements in index 1, updating n_results = 1\n"
     ]
    },
    {
     "name": "stdout",
     "output_type": "stream",
     "text": [
      "{\n",
      "  \"Sound\": \"...\",\n",
      "  \"Graphics & Art Design\": \"...\",\n",
      "  \"Performance\": \"...\"\n",
      "}\n",
      "\n",
      "NA\n",
      "--------------------\n",
      "{\n",
      "  \"Bug\": \"...\",\n",
      "  \"Suggestion\": \"Improve random algorithm for shuffling the deck.\",\n",
      "  \"Price\": \"...\",\n",
      "  \"Overall\": \"Good\"\n",
      "}\n",
      "\n",
      "NA\n",
      "--------------------\n"
     ]
    }
   ],
   "source": [
    "# 3-3-4\n",
    "# modified from main branch\n",
    "\n",
    "from langchain_core.prompts import PromptTemplate, ChatPromptTemplate\n",
    "\n",
    "token_usage_json_list = []\n",
    "embedding_usage_info_list = []\n",
    "\n",
    "\n",
    "for (start, end) in [(0, 3), (3, 6), (6, 10)]:\n",
    "    aspects = GAME_ASPECTS[start:end]\n",
    "\n",
    "    my_question = _prompts.QUESTION_TEMPLATE_01 + f\"{'is ' if len(aspects) <= 1 else 'are '}\" + ': ' + f'{aspects}'\n",
    "    output_format = _prompts.OUTPUT_FORMAT_TEMPATE.format(\n",
    "        aspects_list_01=str(aspects)[1:-1].replace('\\'', '\\\"'), output_json_template=str({k: '...' for k in aspects}).replace('\\'', '\\\"')\n",
    "    )\n",
    "\n",
    "    relevant_docs = retriever.get_relevant_documents(query=my_question, k=5)\n",
    "\n",
    "\n",
    "    prompt = PromptTemplate(\n",
    "        template=_prompts.KEYWORD_TEMPLATE_01,\n",
    "        input_variables=[\"aspects\", 'output_format', 'summaries'],\n",
    "    )\n",
    "\n",
    "    chain = prompt | llm\n",
    "\n",
    "    _resp = chain.invoke({\n",
    "        \"aspects\": aspects,\n",
    "        \"output_format\": output_format,\n",
    "        \"summaries\": str('\\n'.join([d.page_content for d in relevant_docs]))\n",
    "    }, config=chain_config)\n",
    "\n",
    "    token_usage_json_list.append(common_deque.pop())\n",
    "\n",
    "    print(_resp); print('-'*20)"
   ]
  },
  {
   "cell_type": "code",
   "execution_count": 9,
   "metadata": {},
   "outputs": [
    {
     "data": {
      "text/plain": [
       "[{'token_usage': 484, 'time_costed': 2371282000},\n",
       " {'token_usage': 294, 'time_costed': 509249000},\n",
       " {'token_usage': 308, 'time_costed': 573917000}]"
      ]
     },
     "execution_count": 9,
     "metadata": {},
     "output_type": "execute_result"
    }
   ],
   "source": [
    "token_usage_json_list"
   ]
  },
  {
   "cell_type": "markdown",
   "metadata": {},
   "source": [
    "3-3-4 without output format provided"
   ]
  },
  {
   "cell_type": "code",
   "execution_count": 10,
   "metadata": {},
   "outputs": [
    {
     "name": "stderr",
     "output_type": "stream",
     "text": [
      "Number of requested results 5 is greater than number of elements in index 1, updating n_results = 1\n"
     ]
    },
    {
     "name": "stderr",
     "output_type": "stream",
     "text": [
      "Number of requested results 5 is greater than number of elements in index 1, updating n_results = 1\n"
     ]
    },
    {
     "name": "stdout",
     "output_type": "stream",
     "text": [
      "{\n",
      "  \"Gameplay\": \"The gameplay is overall good, but the random algorithm for shuffling the deck can be frustrating.\",\n",
      "  \"Narrative\": \"The narrative is not very detailed, but it is well-paced and engaging.\",\n",
      "  \"Accessibility\": \"The game is accessible for players of all skill levels, but the random algorithm can make it difficult for new players to get started.\"\n",
      "}\n",
      "--------------------\n"
     ]
    },
    {
     "name": "stderr",
     "output_type": "stream",
     "text": [
      "Number of requested results 5 is greater than number of elements in index 1, updating n_results = 1\n"
     ]
    },
    {
     "name": "stdout",
     "output_type": "stream",
     "text": [
      "{\n",
      "  \"Sound\": \"NA\",\n",
      "  \"Graphics & Art Design\": \"NA\",\n",
      "  \"Performance\": \"NA\"\n",
      "}\n",
      "--------------------\n",
      "{\n",
      "  \"Bug\": \"Random shuffling algorithm for deck is inconsistent. Either you hit a major mana pocket or no mana at all for half the deck, regardless of deck size.\",\n",
      "  \"Suggestion\": \"Allow specific card buying for coins. This would make it easier to get single cards from entire sets of cards.\",\n",
      "  \"Price\": \"The price should be much higher than for booster packs, adjusted for card value and rarity.\",\n",
      "  \"Overall\": \"overall good magic card game.\"\n",
      "}\n",
      "--------------------\n"
     ]
    }
   ],
   "source": [
    "# without output_format\n",
    "\n",
    "token_usage_json_list = []\n",
    "embedding_usage_info_list = []\n",
    "\n",
    "\n",
    "for (start, end) in [(0, 3), (3, 6), (6, 10)]:\n",
    "    aspects = GAME_ASPECTS[start:end]\n",
    "\n",
    "    my_question = _prompts.QUESTION_TEMPLATE_01 + f\"{'is ' if len(aspects) <= 1 else 'are '}\" + ': ' + f'{aspects}'\n",
    "    output_format = _prompts.OUTPUT_FORMAT_TEMPATE.format(\n",
    "        aspects_list_01=str(aspects)[1:-1].replace('\\'', '\\\"'), output_json_template=str({k: '...' for k in aspects}).replace('\\'', '\\\"')\n",
    "    )\n",
    "\n",
    "    relevant_docs = retriever.get_relevant_documents(query=my_question, k=5)\n",
    "\n",
    "\n",
    "    prompt = PromptTemplate(\n",
    "        template=_prompts.KEYWORD_TEMPLATE_01,\n",
    "        input_variables=[\"aspects\", 'output_format', 'summaries'],\n",
    "    )\n",
    "\n",
    "    chain = prompt | llm\n",
    "\n",
    "    _resp = chain.invoke({\n",
    "        \"aspects\": aspects,\n",
    "        # \"output_format\": output_format,\n",
    "        \"output_format\": '',\n",
    "        \"summaries\": str('\\n'.join([d.page_content for d in relevant_docs]))\n",
    "    }, config=chain_config)\n",
    "\n",
    "    token_usage_json_list.append(common_deque.pop())\n",
    "\n",
    "    print(_resp); print('-'*20)"
   ]
  },
  {
   "cell_type": "code",
   "execution_count": 11,
   "metadata": {},
   "outputs": [
    {
     "data": {
      "text/plain": [
       "[{'token_usage': 283, 'time_costed': 900603000},\n",
       " {'token_usage': 235, 'time_costed': 433494000},\n",
       " {'token_usage': 308, 'time_costed': 1082335000}]"
      ]
     },
     "execution_count": 11,
     "metadata": {},
     "output_type": "execute_result"
    }
   ],
   "source": [
    "token_usage_json_list"
   ]
  },
  {
   "cell_type": "markdown",
   "metadata": {},
   "source": [
    "---"
   ]
  },
  {
   "cell_type": "markdown",
   "metadata": {},
   "source": [
    "2-2-2-2-2 prompting\n",
    "\n",
    "with output_format provided"
   ]
  },
  {
   "cell_type": "code",
   "execution_count": 12,
   "metadata": {},
   "outputs": [
    {
     "name": "stderr",
     "output_type": "stream",
     "text": [
      "Number of requested results 5 is greater than number of elements in index 1, updating n_results = 1\n"
     ]
    },
    {
     "name": "stderr",
     "output_type": "stream",
     "text": [
      "Number of requested results 5 is greater than number of elements in index 1, updating n_results = 1\n"
     ]
    },
    {
     "name": "stdout",
     "output_type": "stream",
     "text": [
      "{\"Gameplay\": \"...\", \"Narrative\": \"...\"}\n",
      "\n",
      "{\"aspects\": {\n",
      "  \"Gameplay\": \"the only issue i can really see is the random algorithem for shuffeling the deck, more times than not you either hit a major mana pocket or no mana at all for half the deck reguardless of deck size. i would also suggest to the devs to allow specific card buying for coins as its really hard to get a single card from an entire set of cards, and yes i would expect the cost to be much higher than for booster packs, adjusted for card value and rareity.\"\n",
      "}}\n",
      "--------------------\n"
     ]
    },
    {
     "name": "stderr",
     "output_type": "stream",
     "text": [
      "Number of requested results 5 is greater than number of elements in index 1, updating n_results = 1\n"
     ]
    },
    {
     "name": "stdout",
     "output_type": "stream",
     "text": [
      "{\"Accessibility\": \"...\", \"Sound\": \"...\"}\n",
      "\n",
      "{\"aspects\": {\n",
      "  \"Accessibility\": \"The game is generally accessible for players of all skill levels.\",\n",
      "  \"Sound\": \"The sound design is good and enhances the gameplay experience.\"\n",
      "}}\n",
      "--------------------\n"
     ]
    },
    {
     "name": "stderr",
     "output_type": "stream",
     "text": [
      "Number of requested results 5 is greater than number of elements in index 1, updating n_results = 1\n"
     ]
    },
    {
     "name": "stdout",
     "output_type": "stream",
     "text": [
      "{\n",
      "  \"Graphics & Art Design\": \"...\",\n",
      "  \"Performance\": \"More times than not you either hit a major mana pocket or no mana at all for half the deck reguardless of deck size.\"\n",
      "}\n",
      "\n",
      "NA\n",
      "--------------------\n"
     ]
    },
    {
     "name": "stderr",
     "output_type": "stream",
     "text": [
      "Number of requested results 5 is greater than number of elements in index 1, updating n_results = 1\n"
     ]
    },
    {
     "name": "stdout",
     "output_type": "stream",
     "text": [
      "{\"Bug\": \"...\", \"Suggestion\": \"Improve random shuffling algorithm for deck shuffeling\"}\n",
      "\n",
      "{\"JSON\": \"{\"Bug\": \"...\", \"Suggestion\": \"Improve random shuffling algorithm for deck shuffeling\"}\"}\n",
      "--------------------\n",
      "{\"Price\": \"...\", \"Overall\": \"overall good magic card game\"}\n",
      "\n",
      "{\"Price\": \"...\", \"Overall\": \"more times than not you either hit a major mana pocket or no mana at all for half the deck reguardless of deck size\"}\n",
      "--------------------\n"
     ]
    }
   ],
   "source": [
    "token_usage_json_list = []\n",
    "embedding_usage_info_list = []\n",
    "\n",
    "\n",
    "for (start, end) in [(0, 2), (2, 4), (4, 6), (6, 8), (8, 10)]:\n",
    "    aspects = GAME_ASPECTS[start:end]\n",
    "\n",
    "    my_question = _prompts.QUESTION_TEMPLATE_01 + f\"{'is ' if len(aspects) <= 1 else 'are '}\" + ': ' + f'{aspects}'\n",
    "    output_format = _prompts.OUTPUT_FORMAT_TEMPATE.format(\n",
    "        aspects_list_01=str(aspects)[1:-1].replace('\\'', '\\\"'), output_json_template=str({k: '...' for k in aspects}).replace('\\'', '\\\"')\n",
    "    )\n",
    "\n",
    "    relevant_docs = retriever.get_relevant_documents(query=my_question, k=5)\n",
    "\n",
    "\n",
    "    prompt = PromptTemplate(\n",
    "        template=_prompts.KEYWORD_TEMPLATE_01,\n",
    "        input_variables=[\"aspects\", 'output_format', 'summaries'],\n",
    "    )\n",
    "\n",
    "    chain = prompt | llm\n",
    "\n",
    "    _resp = chain.invoke({\n",
    "        \"aspects\": aspects,\n",
    "        \"output_format\": output_format,\n",
    "        \"summaries\": str('\\n'.join([d.page_content for d in relevant_docs]))\n",
    "    }, config=chain_config)\n",
    "\n",
    "    token_usage_json_list.append(common_deque.pop())\n",
    "\n",
    "    print(_resp); print('-'*20)"
   ]
  },
  {
   "cell_type": "code",
   "execution_count": 13,
   "metadata": {},
   "outputs": [
    {
     "data": {
      "text/plain": [
       "[{'token_usage': 366, 'time_costed': 1261285000},\n",
       " {'token_usage': 297, 'time_costed': 649814000},\n",
       " {'token_usage': 301, 'time_costed': 603934000},\n",
       " {'token_usage': 287, 'time_costed': 557272000},\n",
       " {'token_usage': 296, 'time_costed': 641754000}]"
      ]
     },
     "execution_count": 13,
     "metadata": {},
     "output_type": "execute_result"
    }
   ],
   "source": [
    "token_usage_json_list"
   ]
  },
  {
   "cell_type": "markdown",
   "metadata": {},
   "source": [
    "2-2-2-2-2 wihtout output format"
   ]
  },
  {
   "cell_type": "code",
   "execution_count": 14,
   "metadata": {},
   "outputs": [
    {
     "name": "stderr",
     "output_type": "stream",
     "text": [
      "Number of requested results 5 is greater than number of elements in index 1, updating n_results = 1\n"
     ]
    },
    {
     "name": "stderr",
     "output_type": "stream",
     "text": [
      "Number of requested results 5 is greater than number of elements in index 1, updating n_results = 1\n"
     ]
    },
    {
     "name": "stdout",
     "output_type": "stream",
     "text": [
      "```json\n",
      "{\n",
      "  \"Gameplay\": \"The game is overall good and engaging, but the random algorithm for shuffling the deck can be frustrating, especially when you're trying to get a major mana pocket or no mana at all for half of the deck. The cost of cards should also be adjusted to be more fair, as it can be difficult to get a single card from an entire set of cards.\"\n",
      "}\n",
      "```\n",
      "--------------------\n"
     ]
    },
    {
     "name": "stderr",
     "output_type": "stream",
     "text": [
      "Number of requested results 5 is greater than number of elements in index 1, updating n_results = 1\n"
     ]
    },
    {
     "name": "stdout",
     "output_type": "stream",
     "text": [
      "**JSON:**\n",
      "```json\n",
      "{\n",
      "  \"Accessibility\": \"NA\",\n",
      "  \"Sound\": \"NA\"\n",
      "}\n",
      "```\n",
      "--------------------\n"
     ]
    },
    {
     "name": "stderr",
     "output_type": "stream",
     "text": [
      "Number of requested results 5 is greater than number of elements in index 1, updating n_results = 1\n"
     ]
    },
    {
     "name": "stdout",
     "output_type": "stream",
     "text": [
      "**JSON:**\n",
      "```json\n",
      "{\n",
      "  \"Graphics & Art Design\": \"The game has beautiful and detailed graphics and art design.\",\n",
      "  \"Performance\": \"The game runs smoothly and has a low latency.\"\n",
      "}\n",
      "```\n",
      "--------------------\n"
     ]
    },
    {
     "name": "stderr",
     "output_type": "stream",
     "text": [
      "Number of requested results 5 is greater than number of elements in index 1, updating n_results = 1\n"
     ]
    },
    {
     "name": "stdout",
     "output_type": "stream",
     "text": [
      "```json\n",
      "{\n",
      "  \"Bug\": \"Random shuffling algorithm can be frustrating\",\n",
      "  \"Suggestion\": \"Allow specific card buying for coins\"\n",
      "}\n",
      "```\n",
      "--------------------\n",
      "**Aspect 1: Price**\n",
      "Paragraph: The price of the game is not specified in the review, so I cannot extract the requested information from the context.\n",
      "\n",
      "**Aspect 2: Overall**\n",
      "Paragraph: The overall review is positive and suggests that the game is a good magic card game.\n",
      "--------------------\n"
     ]
    }
   ],
   "source": [
    "token_usage_json_list = []\n",
    "embedding_usage_info_list = []\n",
    "\n",
    "\n",
    "for (start, end) in [(0, 2), (2, 4), (4, 6), (6, 8), (8, 10)]:\n",
    "    aspects = GAME_ASPECTS[start:end]\n",
    "\n",
    "    my_question = _prompts.QUESTION_TEMPLATE_01 + f\"{'is ' if len(aspects) <= 1 else 'are '}\" + ': ' + f'{aspects}'\n",
    "    output_format = _prompts.OUTPUT_FORMAT_TEMPATE.format(\n",
    "        aspects_list_01=str(aspects)[1:-1].replace('\\'', '\\\"'), output_json_template=str({k: '...' for k in aspects}).replace('\\'', '\\\"')\n",
    "    )\n",
    "\n",
    "    relevant_docs = retriever.get_relevant_documents(query=my_question, k=5)\n",
    "\n",
    "\n",
    "    prompt = PromptTemplate(\n",
    "        template=_prompts.KEYWORD_TEMPLATE_01,\n",
    "        input_variables=[\"aspects\", 'output_format', 'summaries'],\n",
    "    )\n",
    "\n",
    "    chain = prompt | llm\n",
    "\n",
    "    _resp = chain.invoke({\n",
    "        \"aspects\": aspects,\n",
    "        \"output_format\": '',\n",
    "        \"summaries\": str('\\n'.join([d.page_content for d in relevant_docs]))\n",
    "    }, config=chain_config)\n",
    "\n",
    "    token_usage_json_list.append(common_deque.pop())\n",
    "\n",
    "    print(_resp); print('-'*20)"
   ]
  },
  {
   "cell_type": "code",
   "execution_count": 15,
   "metadata": {},
   "outputs": [
    {
     "data": {
      "text/plain": [
       "[{'token_usage': 286, 'time_costed': 934059000},\n",
       " {'token_usage': 227, 'time_costed': 411963000},\n",
       " {'token_usage': 250, 'time_costed': 590859000},\n",
       " {'token_usage': 233, 'time_costed': 463925000},\n",
       " {'token_usage': 260, 'time_costed': 707268000}]"
      ]
     },
     "execution_count": 15,
     "metadata": {},
     "output_type": "execute_result"
    }
   ],
   "source": [
    "token_usage_json_list"
   ]
  },
  {
   "cell_type": "markdown",
   "metadata": {},
   "source": [
    "---"
   ]
  },
  {
   "cell_type": "markdown",
   "metadata": {},
   "source": [
    "5-5 with output format provided"
   ]
  },
  {
   "cell_type": "code",
   "execution_count": 16,
   "metadata": {},
   "outputs": [
    {
     "name": "stderr",
     "output_type": "stream",
     "text": [
      "Number of requested results 5 is greater than number of elements in index 1, updating n_results = 1\n"
     ]
    },
    {
     "name": "stderr",
     "output_type": "stream",
     "text": [
      "Number of requested results 5 is greater than number of elements in index 1, updating n_results = 1\n"
     ]
    },
    {
     "name": "stdout",
     "output_type": "stream",
     "text": [
      "{\n",
      "\"Gameplay\": \"...\",\n",
      "\"Narrative\": \"...\",\n",
      "\"Accessibility\": \"...\",\n",
      "\"Sound\": \"...\",\n",
      "\"Graphics & Art Design\": \"...\"}\n",
      "\n",
      "NA\n",
      "--------------------\n",
      "{\n",
      "  \"Performance\": \"...\",\n",
      "  \"Bug\": \"Random algorithm for shuffling the deck\",\n",
      "  \"Suggestion\": \"Allow specific card buying for coins\",\n",
      "  \"Price\": \"Higher than booster packs\",\n",
      "  \"Overall\": \"Good\"\n",
      "}\n",
      "\n",
      "NA\n",
      "--------------------\n"
     ]
    }
   ],
   "source": [
    "token_usage_json_list = []\n",
    "embedding_usage_info_list = []\n",
    "\n",
    "\n",
    "for (start, end) in [(0, 5), (5, 10)]:\n",
    "    aspects = GAME_ASPECTS[start:end]\n",
    "\n",
    "    my_question = _prompts.QUESTION_TEMPLATE_01 + f\"{'is ' if len(aspects) <= 1 else 'are '}\" + ': ' + f'{aspects}'\n",
    "    output_format = _prompts.OUTPUT_FORMAT_TEMPATE.format(\n",
    "        aspects_list_01=str(aspects)[1:-1].replace('\\'', '\\\"'), output_json_template=str({k: '...' for k in aspects}).replace('\\'', '\\\"')\n",
    "    )\n",
    "\n",
    "    relevant_docs = retriever.get_relevant_documents(query=my_question, k=5)\n",
    "\n",
    "\n",
    "    prompt = PromptTemplate(\n",
    "        template=_prompts.KEYWORD_TEMPLATE_01,\n",
    "        input_variables=[\"aspects\", 'output_format', 'summaries'],\n",
    "    )\n",
    "\n",
    "    chain = prompt | llm\n",
    "\n",
    "    _resp = chain.invoke({\n",
    "        \"aspects\": aspects,\n",
    "        \"output_format\": output_format,\n",
    "        \"summaries\": str('\\n'.join([d.page_content for d in relevant_docs]))\n",
    "    }, config=chain_config)\n",
    "\n",
    "    token_usage_json_list.append(common_deque.pop())\n",
    "\n",
    "    print(_resp); print('-'*20)"
   ]
  },
  {
   "cell_type": "code",
   "execution_count": 17,
   "metadata": {},
   "outputs": [
    {
     "data": {
      "text/plain": [
       "[{'token_usage': 323, 'time_costed': 535480000},\n",
       " {'token_usage': 335, 'time_costed': 719717000}]"
      ]
     },
     "execution_count": 17,
     "metadata": {},
     "output_type": "execute_result"
    }
   ],
   "source": [
    "token_usage_json_list"
   ]
  },
  {
   "cell_type": "markdown",
   "metadata": {},
   "source": [
    "5-5 without output format provided"
   ]
  },
  {
   "cell_type": "code",
   "execution_count": 18,
   "metadata": {},
   "outputs": [
    {
     "name": "stderr",
     "output_type": "stream",
     "text": [
      "Number of requested results 5 is greater than number of elements in index 1, updating n_results = 1\n"
     ]
    },
    {
     "name": "stderr",
     "output_type": "stream",
     "text": [
      "Number of requested results 5 is greater than number of elements in index 1, updating n_results = 1\n"
     ]
    },
    {
     "name": "stdout",
     "output_type": "stream",
     "text": [
      "{\n",
      "  \"Gameplay\": \"Overall good magic card game\",\n",
      "  \"Narrative\": \"NA\",\n",
      "  \"Accessibility\": \"NA\",\n",
      "  \"Sound\": \"NA\",\n",
      "  \"Graphics & Art Design\": \"NA\"\n",
      "}\n",
      "--------------------\n",
      "{\n",
      "  \"Performance\": \"The game runs smoothly and is enjoyable to play.\",\n",
      "  \"Bug\": \"The random shuffling algorithm can be frustrating, as it can lead to situations where you either get a major mana pocket or no mana at all for half the deck.\",\n",
      "  \"Suggestion\": \"Allow players to buy specific cards for coins, as it can be quite difficult to get a single card from an entire set of cards.\",\n",
      "  \"Price\": \"The game is priced higher than other booster pack deals, but the quality of the cards is high and the gameplay is enjoyable.\",\n",
      "  \"Overall\": \"A good magic card game with a few minor issues that could be addressed by the developers.\"\n",
      "}\n",
      "--------------------\n"
     ]
    }
   ],
   "source": [
    "token_usage_json_list = []\n",
    "embedding_usage_info_list = []\n",
    "\n",
    "\n",
    "for (start, end) in [(0, 5), (5, 10)]:\n",
    "    aspects = GAME_ASPECTS[start:end]\n",
    "\n",
    "    my_question = _prompts.QUESTION_TEMPLATE_01 + f\"{'is ' if len(aspects) <= 1 else 'are '}\" + ': ' + f'{aspects}'\n",
    "    output_format = _prompts.OUTPUT_FORMAT_TEMPATE.format(\n",
    "        aspects_list_01=str(aspects)[1:-1].replace('\\'', '\\\"'), output_json_template=str({k: '...' for k in aspects}).replace('\\'', '\\\"')\n",
    "    )\n",
    "\n",
    "    relevant_docs = retriever.get_relevant_documents(query=my_question, k=5)\n",
    "\n",
    "\n",
    "    prompt = PromptTemplate(\n",
    "        template=_prompts.KEYWORD_TEMPLATE_01,\n",
    "        input_variables=[\"aspects\", 'output_format', 'summaries'],\n",
    "    )\n",
    "\n",
    "    chain = prompt | llm\n",
    "\n",
    "    _resp = chain.invoke({\n",
    "        \"aspects\": aspects,\n",
    "        \"output_format\": '',\n",
    "        \"summaries\": str('\\n'.join([d.page_content for d in relevant_docs]))\n",
    "    }, config=chain_config)\n",
    "\n",
    "    token_usage_json_list.append(common_deque.pop())\n",
    "\n",
    "    print(_resp); print('-'*20)"
   ]
  },
  {
   "cell_type": "code",
   "execution_count": 19,
   "metadata": {},
   "outputs": [
    {
     "data": {
      "text/plain": [
       "[{'token_usage': 261, 'time_costed': 609305000},\n",
       " {'token_usage': 353, 'time_costed': 1455237000}]"
      ]
     },
     "execution_count": 19,
     "metadata": {},
     "output_type": "execute_result"
    }
   ],
   "source": [
    "token_usage_json_list"
   ]
  },
  {
   "cell_type": "markdown",
   "metadata": {},
   "source": [
    "---"
   ]
  },
  {
   "cell_type": "markdown",
   "metadata": {},
   "source": [
    "1 aspect per prompt, with output format"
   ]
  },
  {
   "cell_type": "code",
   "execution_count": 20,
   "metadata": {},
   "outputs": [
    {
     "name": "stderr",
     "output_type": "stream",
     "text": [
      "Number of requested results 5 is greater than number of elements in index 1, updating n_results = 1\n"
     ]
    },
    {
     "name": "stderr",
     "output_type": "stream",
     "text": [
      "Number of requested results 5 is greater than number of elements in index 1, updating n_results = 1\n"
     ]
    },
    {
     "name": "stdout",
     "output_type": "stream",
     "text": [
      "```json\n",
      "{\"Gameplay\": \"The game's random shuffling algorithm can be frustrating, as it often results in either a major mana pocket or no mana at all for half of the deck, regardless of the deck size. The cost of cards can also be very high, and it can be difficult to get a single card from an entire set of cards, especially for coins.\"}\n",
      "```\n",
      "--------------------\n"
     ]
    },
    {
     "name": "stderr",
     "output_type": "stream",
     "text": [
      "Number of requested results 5 is greater than number of elements in index 1, updating n_results = 1\n"
     ]
    },
    {
     "name": "stdout",
     "output_type": "stream",
     "text": [
      "{\"Narrative\": \"...\"}\n",
      "\n",
      "{\"Aspects\": \"Narrative\"}\n",
      "--------------------\n"
     ]
    },
    {
     "name": "stderr",
     "output_type": "stream",
     "text": [
      "Number of requested results 5 is greater than number of elements in index 1, updating n_results = 1\n"
     ]
    },
    {
     "name": "stdout",
     "output_type": "stream",
     "text": [
      "{\"Accessibility\": \"Random algorithm for shuffling the deck is a bit too unpredictable, leading to inconsistent mana pool situations.\"}\n",
      "\n",
      "{\"JSON\": \"{\"Accessibility\": \"Random algorithm for shuffling the deck is a bit too unpredictable, leading to inconsistent mana pool situations.\"}\n",
      "--------------------\n"
     ]
    },
    {
     "name": "stderr",
     "output_type": "stream",
     "text": [
      "Number of requested results 5 is greater than number of elements in index 1, updating n_results = 1\n"
     ]
    },
    {
     "name": "stdout",
     "output_type": "stream",
     "text": [
      "{\"Sound\": \"...\"}\n",
      "\n",
      "{\n",
      "  \"Sound\": \"The game's random shuffling algorithm can be quite frustrating, sometimes resulting in either a major mana pocket or no mana at all for half the deck, regardless of the deck size.\"\n",
      "}\n",
      "--------------------\n"
     ]
    },
    {
     "name": "stderr",
     "output_type": "stream",
     "text": [
      "Number of requested results 5 is greater than number of elements in index 1, updating n_results = 1\n"
     ]
    },
    {
     "name": "stdout",
     "output_type": "stream",
     "text": [
      "{\"Graphics & Art Design\": \"...\"}\n",
      "\n",
      "{\"Aspects\": \"NA\"}\n",
      "--------------------\n"
     ]
    },
    {
     "name": "stderr",
     "output_type": "stream",
     "text": [
      "Number of requested results 5 is greater than number of elements in index 1, updating n_results = 1\n"
     ]
    },
    {
     "name": "stdout",
     "output_type": "stream",
     "text": [
      "```json\n",
      "{\"Performance\": \"Random algorithm for shuffling the deck can be frustrating, as it can lead to either hitting a major mana pocket or no mana at all for half the deck, regardless of deck size.\"}\n",
      "```\n",
      "--------------------\n"
     ]
    },
    {
     "name": "stderr",
     "output_type": "stream",
     "text": [
      "Number of requested results 5 is greater than number of elements in index 1, updating n_results = 1\n"
     ]
    },
    {
     "name": "stdout",
     "output_type": "stream",
     "text": [
      "{\"Bug\": \"Random algorithm for shuffling the deck is too unpredictable and leads to inconsistent outcomes.\"}\n",
      "\n",
      "{\"JSON\": \"{\"Bug\": \"Random algorithm for shuffling the deck is too unpredictable and leads to inconsistent outcomes.\"}}\n",
      "--------------------\n"
     ]
    },
    {
     "name": "stderr",
     "output_type": "stream",
     "text": [
      "Number of requested results 5 is greater than number of elements in index 1, updating n_results = 1\n"
     ]
    },
    {
     "name": "stdout",
     "output_type": "stream",
     "text": [
      "{\n",
      "  \"Suggestion\": \"Improve the random algorithm for shuffling the deck to ensure more consistent mana distribution.\"\n",
      "}\n",
      "\n",
      "```\n",
      "{\"Suggestion\": \"Improve the random algorithm for shuffling the deck to ensure more consistent mana distribution.\"}\n",
      "```\n",
      "--------------------\n"
     ]
    },
    {
     "name": "stderr",
     "output_type": "stream",
     "text": [
      "Number of requested results 5 is greater than number of elements in index 1, updating n_results = 1\n"
     ]
    },
    {
     "name": "stdout",
     "output_type": "stream",
     "text": [
      "{\n",
      "\"Price\": \"NA\"\n",
      "}\n",
      "--------------------\n",
      "{\"Overall\": \"overall good magic card game\"}\n",
      "\n",
      "{\"NA\": \"NA\"}\n",
      "--------------------\n"
     ]
    }
   ],
   "source": [
    "for aspect in GAME_ASPECTS:\n",
    "    my_question = _prompts.QUESTION_TEMPLATE_01 + f\"is {aspect}\"\n",
    "    output_format = _prompts.OUTPUT_FORMAT_TEMPATE.format(\n",
    "        aspects_list_01=str([aspect])[1:-1].replace('\\'', '\\\"'), output_json_template=str({aspect: '...'}).replace('\\'', '\\\"')\n",
    "    )\n",
    "\n",
    "    relevant_docs = retriever.get_relevant_documents(query=my_question, k=5)\n",
    "\n",
    "    prompt = PromptTemplate(\n",
    "        template=_prompts.KEYWORD_TEMPLATE_01,\n",
    "        input_variables=[\"aspects\", 'output_format', 'summaries'],\n",
    "    )\n",
    "\n",
    "    chain = prompt | llm\n",
    "\n",
    "    _resp = chain.invoke({\n",
    "        \"aspects\": [aspect],\n",
    "        \"output_format\": output_format,\n",
    "        \"summaries\": str('\\n'.join([d.page_content for d in relevant_docs]))\n",
    "    }, config=chain_config)\n",
    "\n",
    "    token_usage_json_list.append(common_deque.pop())\n",
    "\n",
    "    print(_resp); print('-'*20)"
   ]
  },
  {
   "cell_type": "code",
   "execution_count": 21,
   "metadata": {},
   "outputs": [
    {
     "data": {
      "text/plain": [
       "[{'token_usage': 261, 'time_costed': 609305000},\n",
       " {'token_usage': 353, 'time_costed': 1455237000},\n",
       " {'token_usage': 313, 'time_costed': 893187000},\n",
       " {'token_usage': 246, 'time_costed': 294778000},\n",
       " {'token_usage': 287, 'time_costed': 658339000},\n",
       " {'token_usage': 285, 'time_costed': 640746000},\n",
       " {'token_usage': 258, 'time_costed': 321757000},\n",
       " {'token_usage': 280, 'time_costed': 593663000},\n",
       " {'token_usage': 279, 'time_costed': 586237000},\n",
       " {'token_usage': 283, 'time_costed': 622553000},\n",
       " {'token_usage': 244, 'time_costed': 275897000},\n",
       " {'token_usage': 251, 'time_costed': 337655000}]"
      ]
     },
     "execution_count": 21,
     "metadata": {},
     "output_type": "execute_result"
    }
   ],
   "source": [
    "token_usage_json_list"
   ]
  },
  {
   "cell_type": "markdown",
   "metadata": {},
   "source": [
    "1 aspect per prompt, without output format"
   ]
  },
  {
   "cell_type": "code",
   "execution_count": 22,
   "metadata": {},
   "outputs": [
    {
     "name": "stderr",
     "output_type": "stream",
     "text": [
      "Number of requested results 5 is greater than number of elements in index 1, updating n_results = 1\n"
     ]
    },
    {
     "name": "stderr",
     "output_type": "stream",
     "text": [
      "Number of requested results 5 is greater than number of elements in index 1, updating n_results = 1\n"
     ]
    },
    {
     "name": "stdout",
     "output_type": "stream",
     "text": [
      "```json\n",
      "{\n",
      "  \"Gameplay\": \"The game's random shuffling algorithm can be frustrating, as players may find themselves with no mana or major mana pockets for half of the deck. Additionally, the cost of buying cards with coins can be quite high, especially for players who want to build a specific deck.\"\n",
      "}\n",
      "```\n",
      "--------------------\n"
     ]
    },
    {
     "name": "stderr",
     "output_type": "stream",
     "text": [
      "Number of requested results 5 is greater than number of elements in index 1, updating n_results = 1\n"
     ]
    },
    {
     "name": "stdout",
     "output_type": "stream",
     "text": [
      "{\n",
      "  \"Narrative\": \"The game's narrative is well-written and engaging.\"\n",
      "}\n",
      "\n",
      "```\n",
      "{\n",
      "  \"aspects\": [\n",
      "    {\n",
      "      \"name\": \"Narrative\",\n",
      "      \"paragraph\": \"The game's narrative is well-written and engaging.\"\n",
      "    }\n",
      "  ]\n",
      "}\n",
      "```\n",
      "--------------------\n"
     ]
    },
    {
     "name": "stderr",
     "output_type": "stream",
     "text": [
      "Number of requested results 5 is greater than number of elements in index 1, updating n_results = 1\n"
     ]
    },
    {
     "name": "stdout",
     "output_type": "stream",
     "text": [
      "{\n",
      "  \"Accessibility\": \"The game's random shuffling algorithm can be frustrating, as players may find themselves with no mana or a full mana pool for half of the deck. This can make it difficult to find and use powerful cards.\"\n",
      "}\n",
      "\n",
      "```\n",
      "{\n",
      "  \"Accessibility\": \"The game's random shuffling algorithm can be frustrating, as players may find themselves with no mana or a full mana pool for half of the deck. This can make it difficult to find and use powerful cards.\"\n",
      "}\n",
      "--------------------\n"
     ]
    },
    {
     "name": "stderr",
     "output_type": "stream",
     "text": [
      "Number of requested results 5 is greater than number of elements in index 1, updating n_results = 1\n"
     ]
    },
    {
     "name": "stdout",
     "output_type": "stream",
     "text": [
      "{\n",
      "  \"Sound\": \"The random algorithm for shuffling the deck makes it difficult to get major mana pockets or no mana at all for half of the deck, regardless of deck size.\"\n",
      "}\n",
      "--------------------\n"
     ]
    },
    {
     "name": "stderr",
     "output_type": "stream",
     "text": [
      "Number of requested results 5 is greater than number of elements in index 1, updating n_results = 1\n"
     ]
    },
    {
     "name": "stdout",
     "output_type": "stream",
     "text": [
      "{\n",
      "  \"Graphics & Art Design\": \"The game has beautiful and detailed graphics and art design.\"\n",
      "}\n",
      "--------------------\n"
     ]
    },
    {
     "name": "stderr",
     "output_type": "stream",
     "text": [
      "Number of requested results 5 is greater than number of elements in index 1, updating n_results = 1\n"
     ]
    },
    {
     "name": "stdout",
     "output_type": "stream",
     "text": [
      "```json\n",
      "{\n",
      "  \"Performance\": \"The random algorithm for shuffling the deck can be frustrating, as it can sometimes result in players either hitting a major mana pocket or no mana at all for half the deck regardless of deck size. It would be helpful to have more control over the shuffling process.\"\n",
      "}\n",
      "```\n",
      "--------------------\n"
     ]
    },
    {
     "name": "stderr",
     "output_type": "stream",
     "text": [
      "Number of requested results 5 is greater than number of elements in index 1, updating n_results = 1\n"
     ]
    },
    {
     "name": "stdout",
     "output_type": "stream",
     "text": [
      "{\n",
      "  \"Bug\": \"Random algorithm for shuffling the deck makes it difficult to get major mana pockets or no mana at all for half the deck.\"\n",
      "}\n",
      "--------------------\n"
     ]
    },
    {
     "name": "stderr",
     "output_type": "stream",
     "text": [
      "Number of requested results 5 is greater than number of elements in index 1, updating n_results = 1\n"
     ]
    },
    {
     "name": "stdout",
     "output_type": "stream",
     "text": [
      "{\n",
      "  \"Suggestion\": \"Improve random shuffling algorithm for deck shuffling.\"\n",
      "}\n",
      "\n",
      "```\n",
      "{\n",
      "  \"Suggestion\": \"Improve random shuffling algorithm for deck shuffling.\",\n",
      "  \"Suggestion\": \"Allow specific card buying for coins.\"\n",
      "}\n",
      "```\n",
      "--------------------\n"
     ]
    },
    {
     "name": "stderr",
     "output_type": "stream",
     "text": [
      "Number of requested results 5 is greater than number of elements in index 1, updating n_results = 1\n"
     ]
    },
    {
     "name": "stdout",
     "output_type": "stream",
     "text": [
      "```json\n",
      "{\n",
      "  \"Price\": \"NA\"\n",
      "}\n",
      "```\n",
      "--------------------\n",
      "{\n",
      "  \"Overall\": \"overall good magic card game.\"\n",
      "}\n",
      "\n",
      "```\n",
      "{\n",
      "  \"Overall\": \"overall good magic card game.\"\n",
      "}\n",
      "```\n",
      "--------------------\n"
     ]
    }
   ],
   "source": [
    "for aspect in GAME_ASPECTS:\n",
    "    my_question = _prompts.QUESTION_TEMPLATE_01 + f\"is {aspect}\"\n",
    "    output_format = _prompts.OUTPUT_FORMAT_TEMPATE.format(\n",
    "        aspects_list_01=str([aspect])[1:-1].replace('\\'', '\\\"'), output_json_template=str({aspect: '...'}).replace('\\'', '\\\"')\n",
    "    )\n",
    "\n",
    "    relevant_docs = retriever.get_relevant_documents(query=my_question, k=5)\n",
    "\n",
    "    prompt = PromptTemplate(\n",
    "        template=_prompts.KEYWORD_TEMPLATE_01,\n",
    "        input_variables=[\"aspects\", 'output_format', 'summaries'],\n",
    "    )\n",
    "\n",
    "    chain = prompt | llm\n",
    "\n",
    "    _resp = chain.invoke({\n",
    "        \"aspects\": [aspect],\n",
    "        \"output_format\": '',\n",
    "        \"summaries\": str('\\n'.join([d.page_content for d in relevant_docs]))\n",
    "    }, config=chain_config)\n",
    "\n",
    "    token_usage_json_list.append(common_deque.pop())\n",
    "\n",
    "    print(_resp); print('-'*20)"
   ]
  }
 ],
 "metadata": {
  "kernelspec": {
   "display_name": "fyp-test-tm",
   "language": "python",
   "name": "python3"
  },
  "language_info": {
   "codemirror_mode": {
    "name": "ipython",
    "version": 3
   },
   "file_extension": ".py",
   "mimetype": "text/x-python",
   "name": "python",
   "nbconvert_exporter": "python",
   "pygments_lexer": "ipython3",
   "version": "3.9.18"
  }
 },
 "nbformat": 4,
 "nbformat_minor": 2
}
