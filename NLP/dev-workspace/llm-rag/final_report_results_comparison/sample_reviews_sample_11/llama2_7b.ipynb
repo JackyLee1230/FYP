{
 "cells": [
  {
   "cell_type": "markdown",
   "metadata": {},
   "source": [
    "Base script for comparison existance of output-format in the prompt"
   ]
  },
  {
   "cell_type": "code",
   "execution_count": 1,
   "metadata": {},
   "outputs": [],
   "source": [
    "# review text\n",
    "\n",
    "import sys\n",
    "from pathlib import Path\n",
    "import pandas as pd\n",
    "\n",
    "sys.path.append('../../')\n",
    "\n",
    "import _sample_reviews\n",
    "import _prompts\n",
    "\n",
    "from langchain_community.llms import Ollama\n",
    "\n",
    "# YOUR REVIEW TEXT\n",
    "review_text = _sample_reviews.sample_11\n",
    "\n",
    "# YOUR OLLAMA MODEL OF THIS SCRIPT\n",
    "llm = Ollama(model='llama2:7b-chat-q4_0', temperature=0.4)"
   ]
  },
  {
   "cell_type": "code",
   "execution_count": 2,
   "metadata": {},
   "outputs": [
    {
     "name": "stdout",
     "output_type": "stream",
     "text": [
      "{'review_ID': 123, 'review_text': 'overall good magic card game. the only issue i can really see is the random algorithem for shuffeling the deck, more times than not you either hit a major mana pocket or no mana at all for half the deck reguardless of deck size. i would also suggest to the devs to allow specific card buying for coins as its really hard to get a single card from an entire set of cards, and yes i would expect the cost to be much higher than for booster packs, adjusted for card value and rareity.', 'datetime': datetime.datetime(2024, 4, 4, 11, 36, 46, 728435), 'hash': 'b91c83d28c182e83b73881aee70df5c6aef7f7735165430366086828'}\n",
      "\n",
      "\n",
      "\n",
      "Len of review_text: 94\n"
     ]
    }
   ],
   "source": [
    "from datetime import datetime\n",
    "from hashlib import sha224\n",
    "\n",
    "# create an object with review_ID, review_text and the datetime of creation\n",
    "def create_review(review_text, review_ID):    \n",
    "    review_obj = {\n",
    "        \"review_ID\": review_ID,\n",
    "        \"review_text\": review_text,\n",
    "        \"datetime\": datetime.now()\n",
    "    }\n",
    "\n",
    "    # create a hash of the review_text for creating unique collection with Chromadb\n",
    "    hash = sha224(str(review_obj).encode()).hexdigest()\n",
    "    review_obj['hash'] = hash\n",
    "\n",
    "    return review_obj\n",
    "\n",
    "# the temporary review_ID\n",
    "review_ID = 123\n",
    "# select a comment to test with\n",
    "review_obj = create_review(review_text, review_ID)\n",
    "\n",
    "print(review_obj)\n",
    "print('\\n\\n')\n",
    "print('Len of review_text:', len(review_text.split()))"
   ]
  },
  {
   "cell_type": "code",
   "execution_count": 3,
   "metadata": {},
   "outputs": [],
   "source": [
    "# define callbacks for detecting token usage\n",
    "# copied from ../previous_tests/ollama_get_token_usage_example.ipynb\n",
    "\n",
    "from langchain_core.callbacks.base import BaseCallbackHandler\n",
    "from langchain_core.outputs.llm_result import LLMResult\n",
    "from collections import deque\n",
    "\n",
    "class TokenUsageCallbackHandler(BaseCallbackHandler):\n",
    "\n",
    "    def __init__(self, deque: deque = None):\n",
    "        super().__init__()\n",
    "        self.deque = deque\n",
    "\n",
    "    def on_llm_end(self, response: LLMResult, **kwargs) -> None:\n",
    "\n",
    "        generation = response.generations[0][0]\n",
    "        gen_info = generation.generation_info\n",
    "\n",
    "        # get token usage\n",
    "        # ref: https://github.com/orgs/langfuse/discussions/1179\n",
    "        token_usage = gen_info.get('prompt_eval_count', 0) + gen_info.get('eval_count', 0)\n",
    "        # get time costed (local machine)\n",
    "        # instead of getting total duration, we get the prompt_eval_duration and eval_duration to exclude the load duration (e.g. to load the model to the gpu, etc.)\n",
    "        time_costed = gen_info.get('prompt_eval_duration', 1e-10) + gen_info.get('eval_duration', 1e-10)     # in ns, a small value to indicate a inf time when it fails\n",
    "\n",
    "\n",
    "        # create an object to store the token usage and time costed\n",
    "        token_usage_obj = {\n",
    "            'token_usage': token_usage,\n",
    "            'time_costed': time_costed\n",
    "        }\n",
    "\n",
    "        # append the object to the deque\n",
    "        self.deque.append(token_usage_obj)\n",
    "\n",
    "\n",
    "\n",
    "common_deque = deque()\n",
    "chain_config = {\n",
    "    \"callbacks\": [TokenUsageCallbackHandler(common_deque)],\n",
    "}"
   ]
  },
  {
   "cell_type": "code",
   "execution_count": 4,
   "metadata": {},
   "outputs": [],
   "source": [
    "import chromadb\n",
    "\n",
    "# use docker\n",
    "# chroma_client = chromadb.HttpClient(host=\"localhost\", port=8000)"
   ]
  },
  {
   "cell_type": "code",
   "execution_count": 5,
   "metadata": {},
   "outputs": [
    {
     "name": "stderr",
     "output_type": "stream",
     "text": [
      "/Users/michaelcheng/.local/lib/python3.9/site-packages/tqdm/auto.py:21: TqdmWarning: IProgress not found. Please update jupyter and ipywidgets. See https://ipywidgets.readthedocs.io/en/stable/user_install.html\n",
      "  from .autonotebook import tqdm as notebook_tqdm\n",
      "/Users/michaelcheng/miniforge3/envs/fyp-test-tm/lib/python3.9/site-packages/torch/_utils.py:831: UserWarning: TypedStorage is deprecated. It will be removed in the future and UntypedStorage will be the only storage class. This should only matter to you if you are using storages directly.  To access UntypedStorage directly, use tensor.untyped_storage() instead of tensor.storage()\n",
      "  return self.fget.__get__(instance, owner)()\n"
     ]
    }
   ],
   "source": [
    "from langchain_community.embeddings.sentence_transformer import (\n",
    "    SentenceTransformerEmbeddings,\n",
    ")\n",
    "\n",
    "from langchain.text_splitter import CharacterTextSplitter, TokenTextSplitter, RecursiveCharacterTextSplitter\n",
    "from transformers import AutoTokenizer\n",
    "from langchain_community.document_loaders import TextLoader, DirectoryLoader\n",
    "from langchain.vectorstores import Chroma\n",
    "\n",
    "# also change this to use Mistral Embeddings\n",
    "embedding_func = SentenceTransformerEmbeddings(model_name=\"all-MiniLM-L6-v2\")\n",
    "\n",
    "text_spliter = RecursiveCharacterTextSplitter.from_tiktoken_encoder(\n",
    "    encoding_name='cl100k_base', chunk_size=250, chunk_overlap=40\n",
    ")\n",
    "\n",
    "docs = text_spliter.create_documents(\n",
    "    [review_text], metadatas=[{\"source\":\"review_01\"}]\n",
    ")\n",
    "\n",
    "temp_db = Chroma.from_documents(\n",
    "    documents=docs,\n",
    "    embedding=embedding_func,\n",
    "    collection_name=review_obj['hash']\n",
    ")\n",
    "\n",
    "retriever = temp_db.as_retriever(search_kwargs={\"k\": 5})"
   ]
  },
  {
   "cell_type": "markdown",
   "metadata": {},
   "source": [
    "---"
   ]
  },
  {
   "cell_type": "markdown",
   "metadata": {},
   "source": [
    "prompting"
   ]
  },
  {
   "cell_type": "code",
   "execution_count": 6,
   "metadata": {},
   "outputs": [],
   "source": [
    "# global constants\n",
    "GAME_ASPECTS = ['Gameplay', 'Narrative', 'Accessibility', 'Sound', 'Graphics & Art Design', 'Performance', 'Bug', 'Suggestion', 'Price', 'Overall']"
   ]
  },
  {
   "cell_type": "markdown",
   "metadata": {},
   "source": [
    "3-3-4\n",
    "\n",
    "with one-shot output format provided"
   ]
  },
  {
   "cell_type": "code",
   "execution_count": 7,
   "metadata": {},
   "outputs": [
    {
     "name": "stderr",
     "output_type": "stream",
     "text": [
      "Number of requested results 5 is greater than number of elements in index 1, updating n_results = 1\n"
     ]
    },
    {
     "name": "stderr",
     "output_type": "stream",
     "text": [
      "Number of requested results 5 is greater than number of elements in index 1, updating n_results = 1\n"
     ]
    },
    {
     "name": "stdout",
     "output_type": "stream",
     "text": [
      "Here is the JSON response:\n",
      "{\"Gameplay\": \"...\", \"Narrative\": \"...\", \"Accessibility\": \"...\"}\n",
      "--------------------\n"
     ]
    },
    {
     "name": "stderr",
     "output_type": "stream",
     "text": [
      "Number of requested results 5 is greater than number of elements in index 1, updating n_results = 1\n"
     ]
    },
    {
     "name": "stdout",
     "output_type": "stream",
     "text": [
      "Here is the JSON response:\n",
      "{\"Sound\": \"...\", \"Graphics & Art Design\": \"...\", \"Performance\": \"...\"}\n",
      "--------------------\n",
      "Here is the JSON output:\n",
      "\n",
      "{\"Bug\": \"...\", \"Suggestion\": \"...\", \"Price\": \"...\", \"Overall\": \"...\"}\n",
      "--------------------\n"
     ]
    }
   ],
   "source": [
    "# 3-3-4\n",
    "# modified from main branch\n",
    "\n",
    "from langchain_core.prompts import PromptTemplate, ChatPromptTemplate\n",
    "\n",
    "token_usage_json_list = []\n",
    "embedding_usage_info_list = []\n",
    "\n",
    "\n",
    "for (start, end) in [(0, 3), (3, 6), (6, 10)]:\n",
    "    aspects = GAME_ASPECTS[start:end]\n",
    "\n",
    "    my_question = _prompts.QUESTION_TEMPLATE_01 + f\"{'is ' if len(aspects) <= 1 else 'are '}\" + ': ' + f'{aspects}'\n",
    "    output_format = _prompts.OUTPUT_FORMAT_TEMPATE.format(\n",
    "        aspects_list_01=str(aspects)[1:-1].replace('\\'', '\\\"'), output_json_template=str({k: '...' for k in aspects}).replace('\\'', '\\\"')\n",
    "    )\n",
    "\n",
    "    relevant_docs = retriever.get_relevant_documents(query=my_question, k=5)\n",
    "\n",
    "\n",
    "    prompt = PromptTemplate(\n",
    "        template=_prompts.KEYWORD_TEMPLATE_01,\n",
    "        input_variables=[\"aspects\", 'output_format', 'summaries'],\n",
    "    )\n",
    "\n",
    "    chain = prompt | llm\n",
    "\n",
    "    _resp = chain.invoke({\n",
    "        \"aspects\": aspects,\n",
    "        \"output_format\": output_format,\n",
    "        \"summaries\": str('\\n'.join([d.page_content for d in relevant_docs]))\n",
    "    }, config=chain_config)\n",
    "\n",
    "    token_usage_json_list.append(common_deque.pop())\n",
    "\n",
    "    print(_resp); print('-'*20)"
   ]
  },
  {
   "cell_type": "code",
   "execution_count": 8,
   "metadata": {},
   "outputs": [
    {
     "data": {
      "text/plain": [
       "[{'token_usage': 356, 'time_costed': 1118367000},\n",
       " {'token_usage': 309, 'time_costed': 987446000},\n",
       " {'token_usage': 326, 'time_costed': 1153518000}]"
      ]
     },
     "execution_count": 8,
     "metadata": {},
     "output_type": "execute_result"
    }
   ],
   "source": [
    "token_usage_json_list"
   ]
  },
  {
   "cell_type": "markdown",
   "metadata": {},
   "source": [
    "3-3-4 without output format provided"
   ]
  },
  {
   "cell_type": "code",
   "execution_count": 9,
   "metadata": {},
   "outputs": [
    {
     "name": "stderr",
     "output_type": "stream",
     "text": [
      "Number of requested results 5 is greater than number of elements in index 1, updating n_results = 1\n"
     ]
    },
    {
     "name": "stderr",
     "output_type": "stream",
     "text": [
      "Number of requested results 5 is greater than number of elements in index 1, updating n_results = 1\n"
     ]
    },
    {
     "name": "stdout",
     "output_type": "stream",
     "text": [
      "Here is the JSON response:\n",
      "{\n",
      "\"Gameplay\": \"Good magic card game.\",\n",
      "\"Narrative\": \"NA\",\n",
      "\"Accessibility\": \"NA\"\n",
      "}\n",
      "--------------------\n"
     ]
    },
    {
     "name": "stderr",
     "output_type": "stream",
     "text": [
      "Number of requested results 5 is greater than number of elements in index 1, updating n_results = 1\n"
     ]
    },
    {
     "name": "stdout",
     "output_type": "stream",
     "text": [
      "Here is the JSON response:\n",
      "{\n",
      "\"Sound\": \"The sound effects and music are well-done and add to the overall atmosphere of the game.\",\n",
      "\"Graphics & Art Design\": \"The art design and visuals are impressive and help bring the game world to life.\",\n",
      "\"Performance\": \"The random deck shuffling algorithm can be frustrating at times, leading to inconsistent mana distribution.\"\n",
      "}\n",
      "--------------------\n",
      "Here is the JSON response:\n",
      "{\n",
      "\"Bug\": \"Random algorithm for shuffling the deck can lead to uneven distribution of mana.\",\n",
      "\"Suggestion\": \"Allow specific card buying for coins, adjusted for card value and rarity.\",\n",
      "\"Price\": \"NA\",\n",
      "\"Overall\": \"Good magic card game with some issues.\"\n",
      "}\n",
      "--------------------\n"
     ]
    }
   ],
   "source": [
    "# without output_format\n",
    "\n",
    "token_usage_json_list = []\n",
    "embedding_usage_info_list = []\n",
    "\n",
    "\n",
    "for (start, end) in [(0, 3), (3, 6), (6, 10)]:\n",
    "    aspects = GAME_ASPECTS[start:end]\n",
    "\n",
    "    my_question = _prompts.QUESTION_TEMPLATE_01 + f\"{'is ' if len(aspects) <= 1 else 'are '}\" + ': ' + f'{aspects}'\n",
    "    output_format = _prompts.OUTPUT_FORMAT_TEMPATE.format(\n",
    "        aspects_list_01=str(aspects)[1:-1].replace('\\'', '\\\"'), output_json_template=str({k: '...' for k in aspects}).replace('\\'', '\\\"')\n",
    "    )\n",
    "\n",
    "    relevant_docs = retriever.get_relevant_documents(query=my_question, k=5)\n",
    "\n",
    "\n",
    "    prompt = PromptTemplate(\n",
    "        template=_prompts.KEYWORD_TEMPLATE_01,\n",
    "        input_variables=[\"aspects\", 'output_format', 'summaries'],\n",
    "    )\n",
    "\n",
    "    chain = prompt | llm\n",
    "\n",
    "    _resp = chain.invoke({\n",
    "        \"aspects\": aspects,\n",
    "        # \"output_format\": output_format,\n",
    "        \"output_format\": '',\n",
    "        \"summaries\": str('\\n'.join([d.page_content for d in relevant_docs]))\n",
    "    }, config=chain_config)\n",
    "\n",
    "    token_usage_json_list.append(common_deque.pop())\n",
    "\n",
    "    print(_resp); print('-'*20)"
   ]
  },
  {
   "cell_type": "code",
   "execution_count": 10,
   "metadata": {},
   "outputs": [
    {
     "data": {
      "text/plain": [
       "[{'token_usage': 260, 'time_costed': 1077267000},\n",
       " {'token_usage': 311, 'time_costed': 1986945000},\n",
       " {'token_usage': 306, 'time_costed': 1857688000}]"
      ]
     },
     "execution_count": 10,
     "metadata": {},
     "output_type": "execute_result"
    }
   ],
   "source": [
    "token_usage_json_list"
   ]
  },
  {
   "cell_type": "markdown",
   "metadata": {},
   "source": [
    "---"
   ]
  },
  {
   "cell_type": "markdown",
   "metadata": {},
   "source": [
    "2-2-2-2-2 prompting\n",
    "\n",
    "with output_format provided"
   ]
  },
  {
   "cell_type": "code",
   "execution_count": 11,
   "metadata": {},
   "outputs": [
    {
     "name": "stderr",
     "output_type": "stream",
     "text": [
      "Number of requested results 5 is greater than number of elements in index 1, updating n_results = 1\n"
     ]
    },
    {
     "name": "stderr",
     "output_type": "stream",
     "text": [
      "Number of requested results 5 is greater than number of elements in index 1, updating n_results = 1\n"
     ]
    },
    {
     "name": "stdout",
     "output_type": "stream",
     "text": [
      "Here is the JSON response:\n",
      "{\"Gameplay\": \"...\", \"Narrative\": \"...\"}\n",
      "--------------------\n"
     ]
    },
    {
     "name": "stderr",
     "output_type": "stream",
     "text": [
      "Number of requested results 5 is greater than number of elements in index 1, updating n_results = 1\n"
     ]
    },
    {
     "name": "stdout",
     "output_type": "stream",
     "text": [
      "{\"Accessibility\": \"...\", \"Sound\": \"...\"}\n",
      "--------------------\n"
     ]
    },
    {
     "name": "stderr",
     "output_type": "stream",
     "text": [
      "Number of requested results 5 is greater than number of elements in index 1, updating n_results = 1\n"
     ]
    },
    {
     "name": "stdout",
     "output_type": "stream",
     "text": [
      "{\"Graphics & Art Design\": \"...\", \"Performance\": \"...\"}\n",
      "--------------------\n"
     ]
    },
    {
     "name": "stderr",
     "output_type": "stream",
     "text": [
      "Number of requested results 5 is greater than number of elements in index 1, updating n_results = 1\n"
     ]
    },
    {
     "name": "stdout",
     "output_type": "stream",
     "text": [
      "Here is the JSON response:\n",
      "{\"Bug\": \"...\", \"Suggestion\": \"...\"}\n",
      "--------------------\n",
      "Here is the JSON output for the reviews:\n",
      "\n",
      "{\"Price\": \"...\", \"Overall\": \"...\"}\n",
      "--------------------\n"
     ]
    }
   ],
   "source": [
    "token_usage_json_list = []\n",
    "embedding_usage_info_list = []\n",
    "\n",
    "\n",
    "for (start, end) in [(0, 2), (2, 4), (4, 6), (6, 8), (8, 10)]:\n",
    "    aspects = GAME_ASPECTS[start:end]\n",
    "\n",
    "    my_question = _prompts.QUESTION_TEMPLATE_01 + f\"{'is ' if len(aspects) <= 1 else 'are '}\" + ': ' + f'{aspects}'\n",
    "    output_format = _prompts.OUTPUT_FORMAT_TEMPATE.format(\n",
    "        aspects_list_01=str(aspects)[1:-1].replace('\\'', '\\\"'), output_json_template=str({k: '...' for k in aspects}).replace('\\'', '\\\"')\n",
    "    )\n",
    "\n",
    "    relevant_docs = retriever.get_relevant_documents(query=my_question, k=5)\n",
    "\n",
    "\n",
    "    prompt = PromptTemplate(\n",
    "        template=_prompts.KEYWORD_TEMPLATE_01,\n",
    "        input_variables=[\"aspects\", 'output_format', 'summaries'],\n",
    "    )\n",
    "\n",
    "    chain = prompt | llm\n",
    "\n",
    "    _resp = chain.invoke({\n",
    "        \"aspects\": aspects,\n",
    "        \"output_format\": output_format,\n",
    "        \"summaries\": str('\\n'.join([d.page_content for d in relevant_docs]))\n",
    "    }, config=chain_config)\n",
    "\n",
    "    token_usage_json_list.append(common_deque.pop())\n",
    "\n",
    "    print(_resp); print('-'*20)"
   ]
  },
  {
   "cell_type": "code",
   "execution_count": 12,
   "metadata": {},
   "outputs": [
    {
     "data": {
      "text/plain": [
       "[{'token_usage': 289, 'time_costed': 918386000},\n",
       " {'token_usage': 274, 'time_costed': 727486000},\n",
       " {'token_usage': 286, 'time_costed': 779203000},\n",
       " {'token_usage': 289, 'time_costed': 879424000},\n",
       " {'token_usage': 285, 'time_costed': 911065000}]"
      ]
     },
     "execution_count": 12,
     "metadata": {},
     "output_type": "execute_result"
    }
   ],
   "source": [
    "token_usage_json_list"
   ]
  },
  {
   "cell_type": "markdown",
   "metadata": {},
   "source": [
    "2-2-2-2-2 wihtout output format"
   ]
  },
  {
   "cell_type": "code",
   "execution_count": 13,
   "metadata": {},
   "outputs": [
    {
     "name": "stderr",
     "output_type": "stream",
     "text": [
      "Number of requested results 5 is greater than number of elements in index 1, updating n_results = 1\n"
     ]
    },
    {
     "name": "stderr",
     "output_type": "stream",
     "text": [
      "Number of requested results 5 is greater than number of elements in index 1, updating n_results = 1\n"
     ]
    },
    {
     "name": "stdout",
     "output_type": "stream",
     "text": [
      "{\n",
      "\"Gameplay\": \"Good magic card game with some issues with deck shuffling algorithm.\"\n",
      "\"Narrative\": \"No major narrative issues.\"\n",
      "}\n",
      "--------------------\n"
     ]
    },
    {
     "name": "stderr",
     "output_type": "stream",
     "text": [
      "Number of requested results 5 is greater than number of elements in index 1, updating n_results = 1\n"
     ]
    },
    {
     "name": "stdout",
     "output_type": "stream",
     "text": [
      "Here is the JSON output:\n",
      "{\n",
      "\"Accessibility\": \"The random algorithm for shuffling the deck can be frustrating, often leading to major mana pockets or no mana at all for half of the deck regardless of deck size.\",\n",
      "\"Sound\": \"NA\"\n",
      "}\n",
      "--------------------\n"
     ]
    },
    {
     "name": "stderr",
     "output_type": "stream",
     "text": [
      "Number of requested results 5 is greater than number of elements in index 1, updating n_results = 1\n"
     ]
    },
    {
     "name": "stdout",
     "output_type": "stream",
     "text": [
      "Here is the JSON response:\n",
      "{\n",
      "\"Graphics & Art Design\": \"The game features visually appealing graphics and art design.\",\n",
      "\"Performance\": \"The random algorithm for shuffling the deck can be unpredictable.\"\n",
      "}\n",
      "--------------------\n"
     ]
    },
    {
     "name": "stderr",
     "output_type": "stream",
     "text": [
      "Number of requested results 5 is greater than number of elements in index 1, updating n_results = 1\n"
     ]
    },
    {
     "name": "stdout",
     "output_type": "stream",
     "text": [
      "Here is the JSON response:\n",
      "{\n",
      "\"Bug\": \"The random algorithm for shuffling the deck can lead to major mana pockets or no mana at all for half of the deck, regardless of deck size.\",\n",
      "\"Suggestion\": \"Allow specific card buying for coins, as it is difficult to obtain a single card from an entire set of cards and the cost should be higher than for booster packs, adjusted for card value and rarity.\"\n",
      "}\n",
      "--------------------\n",
      "Here is the JSON response:\n",
      "{\n",
      "\"Price\": \"The game's price is reasonable for what it offers, but the random shuffling algorithm can be frustrating at times.\"\n",
      "\"Overall\": \"Overall, the game is good, but the shuffling algorithm and limited card buying options are drawbacks.\"\n",
      "}\n",
      "--------------------\n"
     ]
    }
   ],
   "source": [
    "token_usage_json_list = []\n",
    "embedding_usage_info_list = []\n",
    "\n",
    "\n",
    "for (start, end) in [(0, 2), (2, 4), (4, 6), (6, 8), (8, 10)]:\n",
    "    aspects = GAME_ASPECTS[start:end]\n",
    "\n",
    "    my_question = _prompts.QUESTION_TEMPLATE_01 + f\"{'is ' if len(aspects) <= 1 else 'are '}\" + ': ' + f'{aspects}'\n",
    "    output_format = _prompts.OUTPUT_FORMAT_TEMPATE.format(\n",
    "        aspects_list_01=str(aspects)[1:-1].replace('\\'', '\\\"'), output_json_template=str({k: '...' for k in aspects}).replace('\\'', '\\\"')\n",
    "    )\n",
    "\n",
    "    relevant_docs = retriever.get_relevant_documents(query=my_question, k=5)\n",
    "\n",
    "\n",
    "    prompt = PromptTemplate(\n",
    "        template=_prompts.KEYWORD_TEMPLATE_01,\n",
    "        input_variables=[\"aspects\", 'output_format', 'summaries'],\n",
    "    )\n",
    "\n",
    "    chain = prompt | llm\n",
    "\n",
    "    _resp = chain.invoke({\n",
    "        \"aspects\": aspects,\n",
    "        \"output_format\": '',\n",
    "        \"summaries\": str('\\n'.join([d.page_content for d in relevant_docs]))\n",
    "    }, config=chain_config)\n",
    "\n",
    "    token_usage_json_list.append(common_deque.pop())\n",
    "\n",
    "    print(_resp); print('-'*20)"
   ]
  },
  {
   "cell_type": "code",
   "execution_count": 14,
   "metadata": {},
   "outputs": [
    {
     "data": {
      "text/plain": [
       "[{'token_usage': 254, 'time_costed': 1042523000},\n",
       " {'token_usage': 278, 'time_costed': 1480756000},\n",
       " {'token_usage': 270, 'time_costed': 1298514000},\n",
       " {'token_usage': 322, 'time_costed': 2236811000},\n",
       " {'token_usage': 289, 'time_costed': 1721857000}]"
      ]
     },
     "execution_count": 14,
     "metadata": {},
     "output_type": "execute_result"
    }
   ],
   "source": [
    "token_usage_json_list"
   ]
  },
  {
   "cell_type": "markdown",
   "metadata": {},
   "source": [
    "---"
   ]
  },
  {
   "cell_type": "markdown",
   "metadata": {},
   "source": [
    "5-5 with output format provided"
   ]
  },
  {
   "cell_type": "code",
   "execution_count": 15,
   "metadata": {},
   "outputs": [
    {
     "name": "stderr",
     "output_type": "stream",
     "text": [
      "Number of requested results 5 is greater than number of elements in index 1, updating n_results = 1\n"
     ]
    },
    {
     "name": "stderr",
     "output_type": "stream",
     "text": [
      "Number of requested results 5 is greater than number of elements in index 1, updating n_results = 1\n"
     ]
    },
    {
     "name": "stdout",
     "output_type": "stream",
     "text": [
      "Here is the JSON output:\n",
      "\n",
      "{\n",
      "\"Gameplay\": \"...\",\n",
      "\"Narrative\": \"...\",\n",
      "\"Accessibility\": \"...\",\n",
      "\"Sound\": \"...\",\n",
      "\"Graphics & Art Design\": \"NA\"\n",
      "}\n",
      "--------------------\n",
      "Here is the JSON output:\n",
      "\n",
      "{\"Performance\": \"...\", \"Bug\": \"...\", \"Suggestion\": \"...\", \"Price\": \"...\", \"Overall\": \"...\"}\n",
      "--------------------\n"
     ]
    }
   ],
   "source": [
    "token_usage_json_list = []\n",
    "embedding_usage_info_list = []\n",
    "\n",
    "\n",
    "for (start, end) in [(0, 5), (5, 10)]:\n",
    "    aspects = GAME_ASPECTS[start:end]\n",
    "\n",
    "    my_question = _prompts.QUESTION_TEMPLATE_01 + f\"{'is ' if len(aspects) <= 1 else 'are '}\" + ': ' + f'{aspects}'\n",
    "    output_format = _prompts.OUTPUT_FORMAT_TEMPATE.format(\n",
    "        aspects_list_01=str(aspects)[1:-1].replace('\\'', '\\\"'), output_json_template=str({k: '...' for k in aspects}).replace('\\'', '\\\"')\n",
    "    )\n",
    "\n",
    "    relevant_docs = retriever.get_relevant_documents(query=my_question, k=5)\n",
    "\n",
    "\n",
    "    prompt = PromptTemplate(\n",
    "        template=_prompts.KEYWORD_TEMPLATE_01,\n",
    "        input_variables=[\"aspects\", 'output_format', 'summaries'],\n",
    "    )\n",
    "\n",
    "    chain = prompt | llm\n",
    "\n",
    "    _resp = chain.invoke({\n",
    "        \"aspects\": aspects,\n",
    "        \"output_format\": output_format,\n",
    "        \"summaries\": str('\\n'.join([d.page_content for d in relevant_docs]))\n",
    "    }, config=chain_config)\n",
    "\n",
    "    token_usage_json_list.append(common_deque.pop())\n",
    "\n",
    "    print(_resp); print('-'*20)"
   ]
  },
  {
   "cell_type": "code",
   "execution_count": 16,
   "metadata": {},
   "outputs": [
    {
     "data": {
      "text/plain": [
       "[{'token_usage': 363, 'time_costed': 1489767000},\n",
       " {'token_usage': 346, 'time_costed': 1295015000}]"
      ]
     },
     "execution_count": 16,
     "metadata": {},
     "output_type": "execute_result"
    }
   ],
   "source": [
    "token_usage_json_list"
   ]
  },
  {
   "cell_type": "markdown",
   "metadata": {},
   "source": [
    "5-5 without output format provided"
   ]
  },
  {
   "cell_type": "code",
   "execution_count": 17,
   "metadata": {},
   "outputs": [
    {
     "name": "stderr",
     "output_type": "stream",
     "text": [
      "Number of requested results 5 is greater than number of elements in index 1, updating n_results = 1\n"
     ]
    },
    {
     "name": "stderr",
     "output_type": "stream",
     "text": [
      "Number of requested results 5 is greater than number of elements in index 1, updating n_results = 1\n"
     ]
    },
    {
     "name": "stdout",
     "output_type": "stream",
     "text": [
      "Here is the JSON response:\n",
      "{\n",
      "\"Gameplay\": \"Good magic card game.\",\n",
      "\"Narrative\": \"NA\",\n",
      "\"Accessibility\": \"NA\",\n",
      "\"Sound\": \"NA\",\n",
      "\"Graphics & Art Design\": \"NA\"\n",
      "}\n",
      "--------------------\n",
      "Here is the JSON response:\n",
      "\n",
      "{\n",
      "\"Performance\": \"The game runs smoothly overall, but the shuffling algorithm can be unpredictable.\",\n",
      "\"Bug\": \"Occasionally experiences issues with deck shuffling.\",\n",
      "\"Suggestion\": \"Allow specific card buying for coins to make it easier to obtain desired cards.\",\n",
      "\"Price\": \"The cost of cards should be adjusted based on rarity and value.\",\n",
      "\"Overall\": \"Good magic card game with some minor issues.\"\n",
      "}\n",
      "--------------------\n"
     ]
    }
   ],
   "source": [
    "token_usage_json_list = []\n",
    "embedding_usage_info_list = []\n",
    "\n",
    "\n",
    "for (start, end) in [(0, 5), (5, 10)]:\n",
    "    aspects = GAME_ASPECTS[start:end]\n",
    "\n",
    "    my_question = _prompts.QUESTION_TEMPLATE_01 + f\"{'is ' if len(aspects) <= 1 else 'are '}\" + ': ' + f'{aspects}'\n",
    "    output_format = _prompts.OUTPUT_FORMAT_TEMPATE.format(\n",
    "        aspects_list_01=str(aspects)[1:-1].replace('\\'', '\\\"'), output_json_template=str({k: '...' for k in aspects}).replace('\\'', '\\\"')\n",
    "    )\n",
    "\n",
    "    relevant_docs = retriever.get_relevant_documents(query=my_question, k=5)\n",
    "\n",
    "\n",
    "    prompt = PromptTemplate(\n",
    "        template=_prompts.KEYWORD_TEMPLATE_01,\n",
    "        input_variables=[\"aspects\", 'output_format', 'summaries'],\n",
    "    )\n",
    "\n",
    "    chain = prompt | llm\n",
    "\n",
    "    _resp = chain.invoke({\n",
    "        \"aspects\": aspects,\n",
    "        \"output_format\": '',\n",
    "        \"summaries\": str('\\n'.join([d.page_content for d in relevant_docs]))\n",
    "    }, config=chain_config)\n",
    "\n",
    "    token_usage_json_list.append(common_deque.pop())\n",
    "\n",
    "    print(_resp); print('-'*20)"
   ]
  },
  {
   "cell_type": "code",
   "execution_count": 18,
   "metadata": {},
   "outputs": [
    {
     "data": {
      "text/plain": [
       "[{'token_usage': 286, 'time_costed': 1447883000},\n",
       " {'token_usage': 342, 'time_costed': 2474479000}]"
      ]
     },
     "execution_count": 18,
     "metadata": {},
     "output_type": "execute_result"
    }
   ],
   "source": [
    "token_usage_json_list"
   ]
  },
  {
   "cell_type": "markdown",
   "metadata": {},
   "source": [
    "---"
   ]
  },
  {
   "cell_type": "markdown",
   "metadata": {},
   "source": [
    "1 aspect per prompt, with output format"
   ]
  },
  {
   "cell_type": "code",
   "execution_count": 19,
   "metadata": {},
   "outputs": [
    {
     "name": "stderr",
     "output_type": "stream",
     "text": [
      "Number of requested results 5 is greater than number of elements in index 1, updating n_results = 1\n"
     ]
    },
    {
     "name": "stderr",
     "output_type": "stream",
     "text": [
      "Number of requested results 5 is greater than number of elements in index 1, updating n_results = 1\n"
     ]
    },
    {
     "name": "stdout",
     "output_type": "stream",
     "text": [
      "{\"Gameplay\": \"...the only issue i can really see is the random algorithm for shuffling the deck...\"}\n",
      "--------------------\n"
     ]
    },
    {
     "name": "stderr",
     "output_type": "stream",
     "text": [
      "Number of requested results 5 is greater than number of elements in index 1, updating n_results = 1\n"
     ]
    },
    {
     "name": "stdout",
     "output_type": "stream",
     "text": [
      "{\"Narrative\": \"...\"}\n",
      "--------------------\n"
     ]
    },
    {
     "name": "stderr",
     "output_type": "stream",
     "text": [
      "Number of requested results 5 is greater than number of elements in index 1, updating n_results = 1\n"
     ]
    },
    {
     "name": "stdout",
     "output_type": "stream",
     "text": [
      "{\"Accessibility\": \"...The random algorithm for shuffling the deck is a issue, more times than not you either hit a major mana pocket or no mana at all for half the deck regardless of deck size...\"}\n",
      "--------------------\n"
     ]
    },
    {
     "name": "stderr",
     "output_type": "stream",
     "text": [
      "Number of requested results 5 is greater than number of elements in index 1, updating n_results = 1\n"
     ]
    },
    {
     "name": "stdout",
     "output_type": "stream",
     "text": [
      "{\"Sound\": \"...\"}\n",
      "--------------------\n"
     ]
    },
    {
     "name": "stderr",
     "output_type": "stream",
     "text": [
      "Number of requested results 5 is greater than number of elements in index 1, updating n_results = 1\n"
     ]
    },
    {
     "name": "stdout",
     "output_type": "stream",
     "text": [
      "{\"Graphics & Art Design\": \"...\"}\n",
      "--------------------\n"
     ]
    },
    {
     "name": "stderr",
     "output_type": "stream",
     "text": [
      "Number of requested results 5 is greater than number of elements in index 1, updating n_results = 1\n"
     ]
    },
    {
     "name": "stdout",
     "output_type": "stream",
     "text": [
      "{\"Performance\": \"...random algorithm for shuffling the deck...either hit a major mana pocket or no mana at all for half the deck regardless of deck size...\"}\n",
      "--------------------\n"
     ]
    },
    {
     "name": "stderr",
     "output_type": "stream",
     "text": [
      "Number of requested results 5 is greater than number of elements in index 1, updating n_results = 1\n"
     ]
    },
    {
     "name": "stdout",
     "output_type": "stream",
     "text": [
      "{\"Bug\": \"...the random algorithm for shuffling the deck, more times than not you either hit a major mana pocket or no mana at all for half the deck regardless of deck size.\"}\n",
      "--------------------\n"
     ]
    },
    {
     "name": "stderr",
     "output_type": "stream",
     "text": [
      "Number of requested results 5 is greater than number of elements in index 1, updating n_results = 1\n"
     ]
    },
    {
     "name": "stdout",
     "output_type": "stream",
     "text": [
      "{\"Suggestion\": \"...more times than not you either hit a major mana pocket or no mana at all for half the deck reguardless of deck size...\"}\n",
      "--------------------\n"
     ]
    },
    {
     "name": "stderr",
     "output_type": "stream",
     "text": [
      "Number of requested results 5 is greater than number of elements in index 1, updating n_results = 1\n"
     ]
    },
    {
     "name": "stdout",
     "output_type": "stream",
     "text": [
      "{\"Price\": \"...\"}\n",
      "--------------------\n",
      "{\"Overall\": \"...good magic card game. The only issue I can really see is the random algorithm for shuffling the deck, more times than not you either hit a major mana pocket or no mana at all for half the deck regardless of deck size.\"}\n",
      "--------------------\n"
     ]
    }
   ],
   "source": [
    "for aspect in GAME_ASPECTS:\n",
    "    my_question = _prompts.QUESTION_TEMPLATE_01 + f\"is {aspect}\"\n",
    "    output_format = _prompts.OUTPUT_FORMAT_TEMPATE.format(\n",
    "        aspects_list_01=str([aspect])[1:-1].replace('\\'', '\\\"'), output_json_template=str({aspect: '...'}).replace('\\'', '\\\"')\n",
    "    )\n",
    "\n",
    "    relevant_docs = retriever.get_relevant_documents(query=my_question, k=5)\n",
    "\n",
    "    prompt = PromptTemplate(\n",
    "        template=_prompts.KEYWORD_TEMPLATE_01,\n",
    "        input_variables=[\"aspects\", 'output_format', 'summaries'],\n",
    "    )\n",
    "\n",
    "    chain = prompt | llm\n",
    "\n",
    "    _resp = chain.invoke({\n",
    "        \"aspects\": [aspect],\n",
    "        \"output_format\": output_format,\n",
    "        \"summaries\": str('\\n'.join([d.page_content for d in relevant_docs]))\n",
    "    }, config=chain_config)\n",
    "\n",
    "    token_usage_json_list.append(common_deque.pop())\n",
    "\n",
    "    print(_resp); print('-'*20)"
   ]
  },
  {
   "cell_type": "code",
   "execution_count": 20,
   "metadata": {},
   "outputs": [
    {
     "data": {
      "text/plain": [
       "[{'token_usage': 286, 'time_costed': 1447883000},\n",
       " {'token_usage': 342, 'time_costed': 2474479000},\n",
       " {'token_usage': 276, 'time_costed': 933948000},\n",
       " {'token_usage': 262, 'time_costed': 615498000},\n",
       " {'token_usage': 298, 'time_costed': 1273970000},\n",
       " {'token_usage': 254, 'time_costed': 578788000},\n",
       " {'token_usage': 266, 'time_costed': 679186000},\n",
       " {'token_usage': 290, 'time_costed': 1165529000},\n",
       " {'token_usage': 295, 'time_costed': 1256159000},\n",
       " {'token_usage': 292, 'time_costed': 1120975000},\n",
       " {'token_usage': 254, 'time_costed': 584753000},\n",
       " {'token_usage': 308, 'time_costed': 1446682000}]"
      ]
     },
     "execution_count": 20,
     "metadata": {},
     "output_type": "execute_result"
    }
   ],
   "source": [
    "token_usage_json_list"
   ]
  },
  {
   "cell_type": "markdown",
   "metadata": {},
   "source": [
    "1 aspect per prompt, without output format"
   ]
  },
  {
   "cell_type": "code",
   "execution_count": 21,
   "metadata": {},
   "outputs": [
    {
     "name": "stderr",
     "output_type": "stream",
     "text": [
      "Number of requested results 5 is greater than number of elements in index 1, updating n_results = 1\n"
     ]
    },
    {
     "name": "stderr",
     "output_type": "stream",
     "text": [
      "Number of requested results 5 is greater than number of elements in index 1, updating n_results = 1\n"
     ]
    },
    {
     "name": "stdout",
     "output_type": "stream",
     "text": [
      "Here is the JSON response:\n",
      "{\n",
      "\"Gameplay\": \"Overall good magic card game with some issues with deck shuffling algorithm.\"\n",
      "}\n",
      "--------------------\n"
     ]
    },
    {
     "name": "stderr",
     "output_type": "stream",
     "text": [
      "Number of requested results 5 is greater than number of elements in index 1, updating n_results = 1\n"
     ]
    },
    {
     "name": "stdout",
     "output_type": "stream",
     "text": [
      "Here is the JSON response:\n",
      "{\n",
      "\"Narrative\": \"The game has a good magic card gameplay, but the algorithm for shuffling the deck can be unpredictable and lead to unfair advantages or disadvantages.\"\n",
      "}\n",
      "--------------------\n"
     ]
    },
    {
     "name": "stderr",
     "output_type": "stream",
     "text": [
      "Number of requested results 5 is greater than number of elements in index 1, updating n_results = 1\n"
     ]
    },
    {
     "name": "stdout",
     "output_type": "stream",
     "text": [
      "Here is the JSON response:\n",
      "{\n",
      "\"Accessibility\": \"The random algorithm for shuffling the deck can lead to inconsistent mana distribution, making it difficult for players to obtain the cards they need.\"\n",
      "}\n",
      "--------------------\n"
     ]
    },
    {
     "name": "stderr",
     "output_type": "stream",
     "text": [
      "Number of requested results 5 is greater than number of elements in index 1, updating n_results = 1\n"
     ]
    },
    {
     "name": "stdout",
     "output_type": "stream",
     "text": [
      "Here is the JSON response:\n",
      "{\n",
      "\"Sound\": \"The game could benefit from improved sound effects and music to enhance the overall gaming experience.\"\n",
      "}\n",
      "--------------------\n"
     ]
    },
    {
     "name": "stderr",
     "output_type": "stream",
     "text": [
      "Number of requested results 5 is greater than number of elements in index 1, updating n_results = 1\n"
     ]
    },
    {
     "name": "stdout",
     "output_type": "stream",
     "text": [
      "{\n",
      "\"Graphics & Art Design\": \"The game's art design is visually appealing and immersive.\"\n",
      "}\n",
      "--------------------\n"
     ]
    },
    {
     "name": "stderr",
     "output_type": "stream",
     "text": [
      "Number of requested results 5 is greater than number of elements in index 1, updating n_results = 1\n"
     ]
    },
    {
     "name": "stdout",
     "output_type": "stream",
     "text": [
      "Here is the JSON response:\n",
      "\n",
      "{\n",
      "\"Performance\": \"The random algorithm for shuffling the deck can lead to unbalanced gameplay, with some players consistently receiving more mana than others. Allowing specific card buying for coins may help address this issue.\"\n",
      "}\n",
      "--------------------\n"
     ]
    },
    {
     "name": "stderr",
     "output_type": "stream",
     "text": [
      "Number of requested results 5 is greater than number of elements in index 1, updating n_results = 1\n"
     ]
    },
    {
     "name": "stdout",
     "output_type": "stream",
     "text": [
      "Here is the JSON response:\n",
      "{\n",
      "\"Bug\": \"Random algorithm for shuffling the deck can lead to unbalanced mana distribution, making it difficult to play certain cards.\"\n",
      "}\n",
      "--------------------\n"
     ]
    },
    {
     "name": "stderr",
     "output_type": "stream",
     "text": [
      "Number of requested results 5 is greater than number of elements in index 1, updating n_results = 1\n"
     ]
    },
    {
     "name": "stdout",
     "output_type": "stream",
     "text": [
      "Here is the JSON response:\n",
      "{\n",
      "\"Suggestion\": \"Allow specific card buying for coins.\"\n",
      "}\n",
      "--------------------\n"
     ]
    },
    {
     "name": "stderr",
     "output_type": "stream",
     "text": [
      "Number of requested results 5 is greater than number of elements in index 1, updating n_results = 1\n"
     ]
    },
    {
     "name": "stdout",
     "output_type": "stream",
     "text": [
      "Here is the JSON response:\n",
      "{\n",
      "\"Price\": \"The game's price is reasonable for what it offers, but the random deck shuffling algorithm can lead to frustrating experiences.\"\n",
      "}\n",
      "--------------------\n",
      "Here is the JSON output for the aspect \"Overall\":\n",
      "\n",
      "{\n",
      "\"Overall\": \"Good magic card game with some issues with deck shuffling algorithm.\"\n",
      "}\n",
      "--------------------\n"
     ]
    }
   ],
   "source": [
    "for aspect in GAME_ASPECTS:\n",
    "    my_question = _prompts.QUESTION_TEMPLATE_01 + f\"is {aspect}\"\n",
    "    output_format = _prompts.OUTPUT_FORMAT_TEMPATE.format(\n",
    "        aspects_list_01=str([aspect])[1:-1].replace('\\'', '\\\"'), output_json_template=str({aspect: '...'}).replace('\\'', '\\\"')\n",
    "    )\n",
    "\n",
    "    relevant_docs = retriever.get_relevant_documents(query=my_question, k=5)\n",
    "\n",
    "    prompt = PromptTemplate(\n",
    "        template=_prompts.KEYWORD_TEMPLATE_01,\n",
    "        input_variables=[\"aspects\", 'output_format', 'summaries'],\n",
    "    )\n",
    "\n",
    "    chain = prompt | llm\n",
    "\n",
    "    _resp = chain.invoke({\n",
    "        \"aspects\": [aspect],\n",
    "        \"output_format\": '',\n",
    "        \"summaries\": str('\\n'.join([d.page_content for d in relevant_docs]))\n",
    "    }, config=chain_config)\n",
    "\n",
    "    token_usage_json_list.append(common_deque.pop())\n",
    "\n",
    "    print(_resp); print('-'*20)"
   ]
  }
 ],
 "metadata": {
  "kernelspec": {
   "display_name": "fyp-test-tm",
   "language": "python",
   "name": "python3"
  },
  "language_info": {
   "codemirror_mode": {
    "name": "ipython",
    "version": 3
   },
   "file_extension": ".py",
   "mimetype": "text/x-python",
   "name": "python",
   "nbconvert_exporter": "python",
   "pygments_lexer": "ipython3",
   "version": "3.9.18"
  }
 },
 "nbformat": 4,
 "nbformat_minor": 2
}
