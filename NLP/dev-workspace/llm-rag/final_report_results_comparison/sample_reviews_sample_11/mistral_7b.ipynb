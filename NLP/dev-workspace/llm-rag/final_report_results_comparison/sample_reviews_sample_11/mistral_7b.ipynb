{
 "cells": [
  {
   "cell_type": "markdown",
   "metadata": {},
   "source": [
    "Base script for comparison existance of output-format in the prompt"
   ]
  },
  {
   "cell_type": "code",
   "execution_count": 1,
   "metadata": {},
   "outputs": [],
   "source": [
    "# review text\n",
    "\n",
    "import sys\n",
    "from pathlib import Path\n",
    "import pandas as pd\n",
    "\n",
    "sys.path.append('../../')\n",
    "\n",
    "import _sample_reviews\n",
    "import _prompts\n",
    "\n",
    "from langchain_community.llms import Ollama\n",
    "\n",
    "# YOUR REVIEW TEXT\n",
    "review_text = _sample_reviews.sample_11\n",
    "\n",
    "# YOUR OLLAMA MODEL OF THIS SCRIPT\n",
    "llm = Ollama(model='mistral:7b-instruct-v0.2-q4_0', temperature=0.4)"
   ]
  },
  {
   "cell_type": "code",
   "execution_count": 2,
   "metadata": {},
   "outputs": [
    {
     "name": "stdout",
     "output_type": "stream",
     "text": [
      "{'review_ID': 123, 'review_text': 'overall good magic card game. the only issue i can really see is the random algorithem for shuffeling the deck, more times than not you either hit a major mana pocket or no mana at all for half the deck reguardless of deck size. i would also suggest to the devs to allow specific card buying for coins as its really hard to get a single card from an entire set of cards, and yes i would expect the cost to be much higher than for booster packs, adjusted for card value and rareity.', 'datetime': datetime.datetime(2024, 4, 4, 11, 31, 14, 660323), 'hash': '41947bc205c55eb424926977ad75ef4aeedbcea495507f546110e73d'}\n",
      "\n",
      "\n",
      "\n",
      "Len of review_text: 94\n"
     ]
    }
   ],
   "source": [
    "from datetime import datetime\n",
    "from hashlib import sha224\n",
    "\n",
    "# create an object with review_ID, review_text and the datetime of creation\n",
    "def create_review(review_text, review_ID):    \n",
    "    review_obj = {\n",
    "        \"review_ID\": review_ID,\n",
    "        \"review_text\": review_text,\n",
    "        \"datetime\": datetime.now()\n",
    "    }\n",
    "\n",
    "    # create a hash of the review_text for creating unique collection with Chromadb\n",
    "    hash = sha224(str(review_obj).encode()).hexdigest()\n",
    "    review_obj['hash'] = hash\n",
    "\n",
    "    return review_obj\n",
    "\n",
    "# the temporary review_ID\n",
    "review_ID = 123\n",
    "# select a comment to test with\n",
    "review_obj = create_review(review_text, review_ID)\n",
    "\n",
    "print(review_obj)\n",
    "print('\\n\\n')\n",
    "print('Len of review_text:', len(review_text.split()))"
   ]
  },
  {
   "cell_type": "code",
   "execution_count": 3,
   "metadata": {},
   "outputs": [],
   "source": [
    "# define callbacks for detecting token usage\n",
    "# copied from ../previous_tests/ollama_get_token_usage_example.ipynb\n",
    "\n",
    "from langchain_core.callbacks.base import BaseCallbackHandler\n",
    "from langchain_core.outputs.llm_result import LLMResult\n",
    "from collections import deque\n",
    "\n",
    "class TokenUsageCallbackHandler(BaseCallbackHandler):\n",
    "\n",
    "    def __init__(self, deque: deque = None):\n",
    "        super().__init__()\n",
    "        self.deque = deque\n",
    "\n",
    "    def on_llm_end(self, response: LLMResult, **kwargs) -> None:\n",
    "\n",
    "        generation = response.generations[0][0]\n",
    "        gen_info = generation.generation_info\n",
    "\n",
    "        # get token usage\n",
    "        # ref: https://github.com/orgs/langfuse/discussions/1179\n",
    "        token_usage = gen_info.get('prompt_eval_count', 0) + gen_info.get('eval_count', 0)\n",
    "        # get time costed (local machine)\n",
    "        # instead of getting total duration, we get the prompt_eval_duration and eval_duration to exclude the load duration (e.g. to load the model to the gpu, etc.)\n",
    "        time_costed = gen_info.get('prompt_eval_duration', 1e-10) + gen_info.get('eval_duration', 1e-10)     # in ns, a small value to indicate a inf time when it fails\n",
    "\n",
    "\n",
    "        # create an object to store the token usage and time costed\n",
    "        token_usage_obj = {\n",
    "            'token_usage': token_usage,\n",
    "            'time_costed': time_costed\n",
    "        }\n",
    "\n",
    "        # append the object to the deque\n",
    "        self.deque.append(token_usage_obj)\n",
    "\n",
    "\n",
    "\n",
    "common_deque = deque()\n",
    "chain_config = {\n",
    "    \"callbacks\": [TokenUsageCallbackHandler(common_deque)],\n",
    "}"
   ]
  },
  {
   "cell_type": "code",
   "execution_count": 4,
   "metadata": {},
   "outputs": [],
   "source": [
    "import chromadb\n",
    "\n",
    "# use docker\n",
    "# chroma_client = chromadb.HttpClient(host=\"localhost\", port=8000)"
   ]
  },
  {
   "cell_type": "code",
   "execution_count": 5,
   "metadata": {},
   "outputs": [
    {
     "name": "stderr",
     "output_type": "stream",
     "text": [
      "/Users/michaelcheng/.local/lib/python3.9/site-packages/tqdm/auto.py:21: TqdmWarning: IProgress not found. Please update jupyter and ipywidgets. See https://ipywidgets.readthedocs.io/en/stable/user_install.html\n",
      "  from .autonotebook import tqdm as notebook_tqdm\n",
      "/Users/michaelcheng/miniforge3/envs/fyp-test-tm/lib/python3.9/site-packages/torch/_utils.py:831: UserWarning: TypedStorage is deprecated. It will be removed in the future and UntypedStorage will be the only storage class. This should only matter to you if you are using storages directly.  To access UntypedStorage directly, use tensor.untyped_storage() instead of tensor.storage()\n",
      "  return self.fget.__get__(instance, owner)()\n"
     ]
    }
   ],
   "source": [
    "from langchain_community.embeddings.sentence_transformer import (\n",
    "    SentenceTransformerEmbeddings,\n",
    ")\n",
    "\n",
    "from langchain.text_splitter import CharacterTextSplitter, TokenTextSplitter, RecursiveCharacterTextSplitter\n",
    "from transformers import AutoTokenizer\n",
    "from langchain_community.document_loaders import TextLoader, DirectoryLoader\n",
    "from langchain.vectorstores import Chroma\n",
    "\n",
    "# also change this to use Mistral Embeddings\n",
    "embedding_func = SentenceTransformerEmbeddings(model_name=\"all-MiniLM-L6-v2\")\n",
    "\n",
    "text_spliter = RecursiveCharacterTextSplitter.from_tiktoken_encoder(\n",
    "    encoding_name='cl100k_base', chunk_size=250, chunk_overlap=40\n",
    ")\n",
    "\n",
    "docs = text_spliter.create_documents(\n",
    "    [review_text], metadatas=[{\"source\":\"review_01\"}]\n",
    ")\n",
    "\n",
    "temp_db = Chroma.from_documents(\n",
    "    documents=docs,\n",
    "    embedding=embedding_func,\n",
    "    collection_name=review_obj['hash']\n",
    ")\n",
    "\n",
    "retriever = temp_db.as_retriever(search_kwargs={\"k\": 5})"
   ]
  },
  {
   "cell_type": "markdown",
   "metadata": {},
   "source": [
    "---"
   ]
  },
  {
   "cell_type": "markdown",
   "metadata": {},
   "source": [
    "prompting"
   ]
  },
  {
   "cell_type": "code",
   "execution_count": 6,
   "metadata": {},
   "outputs": [],
   "source": [
    "# global constants\n",
    "GAME_ASPECTS = ['Gameplay', 'Narrative', 'Accessibility', 'Sound', 'Graphics & Art Design', 'Performance', 'Bug', 'Suggestion', 'Price', 'Overall']"
   ]
  },
  {
   "cell_type": "markdown",
   "metadata": {},
   "source": [
    "3-3-4\n",
    "\n",
    "with one-shot output format provided"
   ]
  },
  {
   "cell_type": "code",
   "execution_count": 7,
   "metadata": {},
   "outputs": [
    {
     "name": "stderr",
     "output_type": "stream",
     "text": [
      "Number of requested results 5 is greater than number of elements in index 1, updating n_results = 1\n"
     ]
    },
    {
     "name": "stderr",
     "output_type": "stream",
     "text": [
      "Number of requested results 5 is greater than number of elements in index 1, updating n_results = 1\n"
     ]
    },
    {
     "name": "stdout",
     "output_type": "stream",
     "text": [
      " {\"Gameplay\": \"The random algorithm for shuffling the deck is a concern as it results in either abundant mana or none at all for half the deck.\", \"Narrative\": \"NA\", \"Accessibility\": \"The specific card buying feature is suggested to make it harder and costlier than booster packs, but currently it's difficult to obtain single cards from a set.\"}\n",
      "--------------------\n"
     ]
    },
    {
     "name": "stderr",
     "output_type": "stream",
     "text": [
      "Number of requested results 5 is greater than number of elements in index 1, updating n_results = 1\n"
     ]
    },
    {
     "name": "stdout",
     "output_type": "stream",
     "text": [
      " {\"Performance\": \"No specific comments were made about performance in the given review.\", \"Graphics & Art Design\": \"The review mentions no issues with graphics and art design.\", \"Sound\": \"There is no mention of sound in the given review.\"}\n",
      "--------------------\n",
      " {\"Bug\": \"The random algorithm for shuffling the deck results in either a major mana pocket or no mana at all for half the deck.\", \"Suggestion\": \"Allow specific card buying for coins.\", \"Price\": \"NA\", \"Overall\": \"It's a good magic card game with some issues with deck shuffling and difficulty in getting specific cards.\"}\n",
      "--------------------\n"
     ]
    }
   ],
   "source": [
    "# 3-3-4\n",
    "# modified from main branch\n",
    "\n",
    "from langchain_core.prompts import PromptTemplate, ChatPromptTemplate\n",
    "\n",
    "token_usage_json_list = []\n",
    "embedding_usage_info_list = []\n",
    "\n",
    "\n",
    "for (start, end) in [(0, 3), (3, 6), (6, 10)]:\n",
    "    aspects = GAME_ASPECTS[start:end]\n",
    "\n",
    "    my_question = _prompts.QUESTION_TEMPLATE_01 + f\"{'is ' if len(aspects) <= 1 else 'are '}\" + ': ' + f'{aspects}'\n",
    "    output_format = _prompts.OUTPUT_FORMAT_TEMPATE.format(\n",
    "        aspects_list_01=str(aspects)[1:-1].replace('\\'', '\\\"'), output_json_template=str({k: '...' for k in aspects}).replace('\\'', '\\\"')\n",
    "    )\n",
    "\n",
    "    relevant_docs = retriever.get_relevant_documents(query=my_question, k=5)\n",
    "\n",
    "\n",
    "    prompt = PromptTemplate(\n",
    "        template=_prompts.KEYWORD_TEMPLATE_01,\n",
    "        input_variables=[\"aspects\", 'output_format', 'summaries'],\n",
    "    )\n",
    "\n",
    "    chain = prompt | llm\n",
    "\n",
    "    _resp = chain.invoke({\n",
    "        \"aspects\": aspects,\n",
    "        \"output_format\": output_format,\n",
    "        \"summaries\": str('\\n'.join([d.page_content for d in relevant_docs]))\n",
    "    }, config=chain_config)\n",
    "\n",
    "    token_usage_json_list.append(common_deque.pop())\n",
    "\n",
    "    print(_resp); print('-'*20)"
   ]
  },
  {
   "cell_type": "code",
   "execution_count": 8,
   "metadata": {},
   "outputs": [
    {
     "data": {
      "text/plain": [
       "[{'token_usage': 403, 'time_costed': 2214556000},\n",
       " {'token_usage': 334, 'time_costed': 1521923000},\n",
       " {'token_usage': 375, 'time_costed': 2092755000}]"
      ]
     },
     "execution_count": 8,
     "metadata": {},
     "output_type": "execute_result"
    }
   ],
   "source": [
    "token_usage_json_list"
   ]
  },
  {
   "cell_type": "markdown",
   "metadata": {},
   "source": [
    "3-3-4 without output format provided"
   ]
  },
  {
   "cell_type": "code",
   "execution_count": 9,
   "metadata": {},
   "outputs": [
    {
     "name": "stderr",
     "output_type": "stream",
     "text": [
      "Number of requested results 5 is greater than number of elements in index 1, updating n_results = 1\n"
     ]
    },
    {
     "name": "stderr",
     "output_type": "stream",
     "text": [
      "Number of requested results 5 is greater than number of elements in index 1, updating n_results = 1\n"
     ]
    },
    {
     "name": "stdout",
     "output_type": "stream",
     "text": [
      " {\n",
      "\"Accessibility\": \"Suggestions for improving specific card buying and mana distribution in the game.\"\n",
      "}\n",
      "--------------------\n"
     ]
    },
    {
     "name": "stderr",
     "output_type": "stream",
     "text": [
      "Number of requested results 5 is greater than number of elements in index 1, updating n_results = 1\n"
     ]
    },
    {
     "name": "stdout",
     "output_type": "stream",
     "text": [
      " {\n",
      "\"Performance\": \"Issues with random shuffling algorithm leading to inconsistent mana distribution.\",\n",
      "\"Graphics & Art Design\": \"NA\",\n",
      "\"Sound\": \"NA\"\n",
      "}\n",
      "--------------------\n",
      " {\n",
      "\"Suggestion\": \"i would suggest to the devs to allow specific card buying for coins\",\n",
      "\"Bug\": \"the random algorithm for shuffeling the deck is not working properly, resulting in either having a major mana pocket or no mana at all for half the deck\",\n",
      "\"Price\": \"NA\",\n",
      "\"Overall\": \"overall good magic card game\"\n",
      "}\n",
      "--------------------\n"
     ]
    }
   ],
   "source": [
    "# without output_format\n",
    "\n",
    "token_usage_json_list = []\n",
    "embedding_usage_info_list = []\n",
    "\n",
    "\n",
    "for (start, end) in [(0, 3), (3, 6), (6, 10)]:\n",
    "    aspects = GAME_ASPECTS[start:end]\n",
    "\n",
    "    my_question = _prompts.QUESTION_TEMPLATE_01 + f\"{'is ' if len(aspects) <= 1 else 'are '}\" + ': ' + f'{aspects}'\n",
    "    output_format = _prompts.OUTPUT_FORMAT_TEMPATE.format(\n",
    "        aspects_list_01=str(aspects)[1:-1].replace('\\'', '\\\"'), output_json_template=str({k: '...' for k in aspects}).replace('\\'', '\\\"')\n",
    "    )\n",
    "\n",
    "    relevant_docs = retriever.get_relevant_documents(query=my_question, k=5)\n",
    "\n",
    "\n",
    "    prompt = PromptTemplate(\n",
    "        template=_prompts.KEYWORD_TEMPLATE_01,\n",
    "        input_variables=[\"aspects\", 'output_format', 'summaries'],\n",
    "    )\n",
    "\n",
    "    chain = prompt | llm\n",
    "\n",
    "    _resp = chain.invoke({\n",
    "        \"aspects\": aspects,\n",
    "        # \"output_format\": output_format,\n",
    "        \"output_format\": '',\n",
    "        \"summaries\": str('\\n'.join([d.page_content for d in relevant_docs]))\n",
    "    }, config=chain_config)\n",
    "\n",
    "    token_usage_json_list.append(common_deque.pop())\n",
    "\n",
    "    print(_resp); print('-'*20)"
   ]
  },
  {
   "cell_type": "code",
   "execution_count": 10,
   "metadata": {},
   "outputs": [
    {
     "data": {
      "text/plain": [
       "[{'token_usage': 243, 'time_costed': 926908000},\n",
       " {'token_usage': 260, 'time_costed': 1188780000},\n",
       " {'token_usage': 306, 'time_costed': 1970716000}]"
      ]
     },
     "execution_count": 10,
     "metadata": {},
     "output_type": "execute_result"
    }
   ],
   "source": [
    "token_usage_json_list"
   ]
  },
  {
   "cell_type": "markdown",
   "metadata": {},
   "source": [
    "---"
   ]
  },
  {
   "cell_type": "markdown",
   "metadata": {},
   "source": [
    "2-2-2-2-2 prompting\n",
    "\n",
    "with output_format provided"
   ]
  },
  {
   "cell_type": "code",
   "execution_count": 11,
   "metadata": {},
   "outputs": [
    {
     "name": "stderr",
     "output_type": "stream",
     "text": [
      "Number of requested results 5 is greater than number of elements in index 1, updating n_results = 1\n"
     ]
    },
    {
     "name": "stderr",
     "output_type": "stream",
     "text": [
      "Number of requested results 5 is greater than number of elements in index 1, updating n_results = 1\n"
     ]
    },
    {
     "name": "stdout",
     "output_type": "stream",
     "text": [
      " {\"Gameplay\": \"The shuffling algorithm in the game can result in extreme mana availability or scarcity.\", \"Narrative\": \"NA\"}\n",
      "--------------------\n"
     ]
    },
    {
     "name": "stderr",
     "output_type": "stream",
     "text": [
      "Number of requested results 5 is greater than number of elements in index 1, updating n_results = 1\n"
     ]
    },
    {
     "name": "stdout",
     "output_type": "stream",
     "text": [
      " {\"Accessibility\": \"NA\", \"Sound\": \"The review does not provide information about the game's sound aspects.\"}\n",
      "--------------------\n"
     ]
    },
    {
     "name": "stderr",
     "output_type": "stream",
     "text": [
      "Number of requested results 5 is greater than number of elements in index 1, updating n_results = 1\n"
     ]
    },
    {
     "name": "stdout",
     "output_type": "stream",
     "text": [
      " {\"Graphics & Art Design\": \"No specific mention in the review\", \"Performance\": \"The review mentions an issue with the random algorithm for shuffling the deck, suggesting it may not be consistent.\"}\n",
      "--------------------\n"
     ]
    },
    {
     "name": "stderr",
     "output_type": "stream",
     "text": [
      "Number of requested results 5 is greater than number of elements in index 1, updating n_results = 1\n"
     ]
    },
    {
     "name": "stdout",
     "output_type": "stream",
     "text": [
      " {\"Bug\": \"The random algorithm for shuffeling the deck results in either hitting a major mana pocket or no mana at all for half the deck.\", \"Suggestion\": \"Allow specific card buying for coins as it's hard to get a single card from an entire set of cards.\"}\n",
      "--------------------\n",
      " {\"Overall\": \"The game is overall good with issues in deck shuffling and difficulty in buying specific cards.\", \"Price\": \"Users suggest adjusting cost for specific card buying based on rarity.\"}\n",
      "--------------------\n"
     ]
    }
   ],
   "source": [
    "token_usage_json_list = []\n",
    "embedding_usage_info_list = []\n",
    "\n",
    "\n",
    "for (start, end) in [(0, 2), (2, 4), (4, 6), (6, 8), (8, 10)]:\n",
    "    aspects = GAME_ASPECTS[start:end]\n",
    "\n",
    "    my_question = _prompts.QUESTION_TEMPLATE_01 + f\"{'is ' if len(aspects) <= 1 else 'are '}\" + ': ' + f'{aspects}'\n",
    "    output_format = _prompts.OUTPUT_FORMAT_TEMPATE.format(\n",
    "        aspects_list_01=str(aspects)[1:-1].replace('\\'', '\\\"'), output_json_template=str({k: '...' for k in aspects}).replace('\\'', '\\\"')\n",
    "    )\n",
    "\n",
    "    relevant_docs = retriever.get_relevant_documents(query=my_question, k=5)\n",
    "\n",
    "\n",
    "    prompt = PromptTemplate(\n",
    "        template=_prompts.KEYWORD_TEMPLATE_01,\n",
    "        input_variables=[\"aspects\", 'output_format', 'summaries'],\n",
    "    )\n",
    "\n",
    "    chain = prompt | llm\n",
    "\n",
    "    _resp = chain.invoke({\n",
    "        \"aspects\": aspects,\n",
    "        \"output_format\": output_format,\n",
    "        \"summaries\": str('\\n'.join([d.page_content for d in relevant_docs]))\n",
    "    }, config=chain_config)\n",
    "\n",
    "    token_usage_json_list.append(common_deque.pop())\n",
    "\n",
    "    print(_resp); print('-'*20)"
   ]
  },
  {
   "cell_type": "code",
   "execution_count": 12,
   "metadata": {},
   "outputs": [
    {
     "data": {
      "text/plain": [
       "[{'token_usage': 299, 'time_costed': 1201809000},\n",
       " {'token_usage': 287, 'time_costed': 1076187000},\n",
       " {'token_usage': 314, 'time_costed': 1358286000},\n",
       " {'token_usage': 331, 'time_costed': 1737717000},\n",
       " {'token_usage': 304, 'time_costed': 1352476000}]"
      ]
     },
     "execution_count": 12,
     "metadata": {},
     "output_type": "execute_result"
    }
   ],
   "source": [
    "token_usage_json_list"
   ]
  },
  {
   "cell_type": "markdown",
   "metadata": {},
   "source": [
    "2-2-2-2-2 wihtout output format"
   ]
  },
  {
   "cell_type": "code",
   "execution_count": 13,
   "metadata": {},
   "outputs": [
    {
     "name": "stderr",
     "output_type": "stream",
     "text": [
      "Number of requested results 5 is greater than number of elements in index 1, updating n_results = 1\n"
     ]
    },
    {
     "name": "stderr",
     "output_type": "stream",
     "text": [
      "Number of requested results 5 is greater than number of elements in index 1, updating n_results = 1\n"
     ]
    },
    {
     "name": "stdout",
     "output_type": "stream",
     "text": [
      " {\n",
      "\"Gameplay\": \"The gameplay is generally good in this magic card game, but there are issues with the random shuffling algorithm leading to inconsistent mana distribution.\",\n",
      "\"Narrative\": \"NA\"\n",
      "}\n",
      "--------------------\n"
     ]
    },
    {
     "name": "stderr",
     "output_type": "stream",
     "text": [
      "Number of requested results 5 is greater than number of elements in index 1, updating n_results = 1\n"
     ]
    },
    {
     "name": "stdout",
     "output_type": "stream",
     "text": [
      " {\n",
      "\"Accessibility\": \"No specific accessibility issues mentioned in the review.\",\n",
      "\"Sound\": \"The review does not provide information about the sound aspect of the game.\"\n",
      "}\n",
      "--------------------\n"
     ]
    },
    {
     "name": "stderr",
     "output_type": "stream",
     "text": [
      "Number of requested results 5 is greater than number of elements in index 1, updating n_results = 1\n"
     ]
    },
    {
     "name": "stdout",
     "output_type": "stream",
     "text": [
      " {\n",
      "\"Performance\": \"Issues with random shuffling algorithm leading to inconsistent mana distribution.\",\n",
      "\"Graphics & Art Design\": \"NA\"\n",
      "}\n",
      "--------------------\n"
     ]
    },
    {
     "name": "stderr",
     "output_type": "stream",
     "text": [
      "Number of requested results 5 is greater than number of elements in index 1, updating n_results = 1\n"
     ]
    },
    {
     "name": "stdout",
     "output_type": "stream",
     "text": [
      " {\n",
      "\"Bug\": \"The random algorithm for shuffling the deck results in either hitting a major mana pocket or no mana at all for half the deck.\",\n",
      "\"Suggestion\": \"Allow specific card buying for coins as it's difficult to get a single card from an entire set of cards.\"\n",
      "}\n",
      "--------------------\n",
      " {\n",
      "\"Overall\": \"The game is overall good with issues in deck shuffling algorithm and difficulty in buying specific cards.\",\n",
      " \"Price\": \"Users suggest adjusting cost for specific card buying, implying they find it difficult and expect higher cost.\"\n",
      "}\n",
      "--------------------\n"
     ]
    }
   ],
   "source": [
    "token_usage_json_list = []\n",
    "embedding_usage_info_list = []\n",
    "\n",
    "\n",
    "for (start, end) in [(0, 2), (2, 4), (4, 6), (6, 8), (8, 10)]:\n",
    "    aspects = GAME_ASPECTS[start:end]\n",
    "\n",
    "    my_question = _prompts.QUESTION_TEMPLATE_01 + f\"{'is ' if len(aspects) <= 1 else 'are '}\" + ': ' + f'{aspects}'\n",
    "    output_format = _prompts.OUTPUT_FORMAT_TEMPATE.format(\n",
    "        aspects_list_01=str(aspects)[1:-1].replace('\\'', '\\\"'), output_json_template=str({k: '...' for k in aspects}).replace('\\'', '\\\"')\n",
    "    )\n",
    "\n",
    "    relevant_docs = retriever.get_relevant_documents(query=my_question, k=5)\n",
    "\n",
    "\n",
    "    prompt = PromptTemplate(\n",
    "        template=_prompts.KEYWORD_TEMPLATE_01,\n",
    "        input_variables=[\"aspects\", 'output_format', 'summaries'],\n",
    "    )\n",
    "\n",
    "    chain = prompt | llm\n",
    "\n",
    "    _resp = chain.invoke({\n",
    "        \"aspects\": aspects,\n",
    "        \"output_format\": '',\n",
    "        \"summaries\": str('\\n'.join([d.page_content for d in relevant_docs]))\n",
    "    }, config=chain_config)\n",
    "\n",
    "    token_usage_json_list.append(common_deque.pop())\n",
    "\n",
    "    print(_resp); print('-'*20)"
   ]
  },
  {
   "cell_type": "code",
   "execution_count": 14,
   "metadata": {},
   "outputs": [
    {
     "data": {
      "text/plain": [
       "[{'token_usage': 263, 'time_costed': 1341228000},\n",
       " {'token_usage': 250, 'time_costed': 1142515000},\n",
       " {'token_usage': 250, 'time_costed': 1058017000},\n",
       " {'token_usage': 282, 'time_costed': 1671484000},\n",
       " {'token_usage': 267, 'time_costed': 1434526000}]"
      ]
     },
     "execution_count": 14,
     "metadata": {},
     "output_type": "execute_result"
    }
   ],
   "source": [
    "token_usage_json_list"
   ]
  },
  {
   "cell_type": "markdown",
   "metadata": {},
   "source": [
    "---"
   ]
  },
  {
   "cell_type": "markdown",
   "metadata": {},
   "source": [
    "5-5 with output format provided"
   ]
  },
  {
   "cell_type": "code",
   "execution_count": 15,
   "metadata": {},
   "outputs": [
    {
     "name": "stderr",
     "output_type": "stream",
     "text": [
      "Number of requested results 5 is greater than number of elements in index 1, updating n_results = 1\n"
     ]
    },
    {
     "name": "stderr",
     "output_type": "stream",
     "text": [
      "Number of requested results 5 is greater than number of elements in index 1, updating n_results = 1\n"
     ]
    },
    {
     "name": "stdout",
     "output_type": "stream",
     "text": [
      " {\"Gameplay\": \"Player experiences inconsistent mana distribution during games.\", \"Accessibility\": \"NA\", \"Narrative\": \"NA\", \"Sound\": \"NA\", \"Graphics & Art Design\": \"NA\"}\n",
      "--------------------\n",
      " {\"Bug\": \"The random algorithm for shuffling the deck results in either a major mana pocket or no mana at all for half the deck.\", \"Suggestion\": \"Allow specific card buying for coins.\", \"Price\": \"NA\", \"Overall\": \"It's a good magic card game with some issues in deck shuffling and purchasing cards.\"}\n",
      "{\"Performance\": \"NA\"}\n",
      "--------------------\n"
     ]
    }
   ],
   "source": [
    "token_usage_json_list = []\n",
    "embedding_usage_info_list = []\n",
    "\n",
    "\n",
    "for (start, end) in [(0, 5), (5, 10)]:\n",
    "    aspects = GAME_ASPECTS[start:end]\n",
    "\n",
    "    my_question = _prompts.QUESTION_TEMPLATE_01 + f\"{'is ' if len(aspects) <= 1 else 'are '}\" + ': ' + f'{aspects}'\n",
    "    output_format = _prompts.OUTPUT_FORMAT_TEMPATE.format(\n",
    "        aspects_list_01=str(aspects)[1:-1].replace('\\'', '\\\"'), output_json_template=str({k: '...' for k in aspects}).replace('\\'', '\\\"')\n",
    "    )\n",
    "\n",
    "    relevant_docs = retriever.get_relevant_documents(query=my_question, k=5)\n",
    "\n",
    "\n",
    "    prompt = PromptTemplate(\n",
    "        template=_prompts.KEYWORD_TEMPLATE_01,\n",
    "        input_variables=[\"aspects\", 'output_format', 'summaries'],\n",
    "    )\n",
    "\n",
    "    chain = prompt | llm\n",
    "\n",
    "    _resp = chain.invoke({\n",
    "        \"aspects\": aspects,\n",
    "        \"output_format\": output_format,\n",
    "        \"summaries\": str('\\n'.join([d.page_content for d in relevant_docs]))\n",
    "    }, config=chain_config)\n",
    "\n",
    "    token_usage_json_list.append(common_deque.pop())\n",
    "\n",
    "    print(_resp); print('-'*20)"
   ]
  },
  {
   "cell_type": "code",
   "execution_count": 16,
   "metadata": {},
   "outputs": [
    {
     "data": {
      "text/plain": [
       "[{'token_usage': 360, 'time_costed': 1428415000},\n",
       " {'token_usage': 395, 'time_costed': 2175031000}]"
      ]
     },
     "execution_count": 16,
     "metadata": {},
     "output_type": "execute_result"
    }
   ],
   "source": [
    "token_usage_json_list"
   ]
  },
  {
   "cell_type": "markdown",
   "metadata": {},
   "source": [
    "5-5 without output format provided"
   ]
  },
  {
   "cell_type": "code",
   "execution_count": 17,
   "metadata": {},
   "outputs": [
    {
     "name": "stderr",
     "output_type": "stream",
     "text": [
      "Number of requested results 5 is greater than number of elements in index 1, updating n_results = 1\n"
     ]
    },
    {
     "name": "stderr",
     "output_type": "stream",
     "text": [
      "Number of requested results 5 is greater than number of elements in index 1, updating n_results = 1\n"
     ]
    },
    {
     "name": "stdout",
     "output_type": "stream",
     "text": [
      " {\n",
      "\"Accessibility\": \"Suggestions for improvement include allowing specific card buying with coins and adjusting costs accordingly.\"\n",
      "}\n",
      "--------------------\n",
      " {\n",
      "\"Overall\": \"The game is overall good. However, there are issues with the random algorithm for shuffling the deck.\",\n",
      "\"Suggestion\": \"The suggestion to the devs is to allow specific card buying for coins.\"\n",
      "}\n",
      "--------------------\n"
     ]
    }
   ],
   "source": [
    "token_usage_json_list = []\n",
    "embedding_usage_info_list = []\n",
    "\n",
    "\n",
    "for (start, end) in [(0, 5), (5, 10)]:\n",
    "    aspects = GAME_ASPECTS[start:end]\n",
    "\n",
    "    my_question = _prompts.QUESTION_TEMPLATE_01 + f\"{'is ' if len(aspects) <= 1 else 'are '}\" + ': ' + f'{aspects}'\n",
    "    output_format = _prompts.OUTPUT_FORMAT_TEMPATE.format(\n",
    "        aspects_list_01=str(aspects)[1:-1].replace('\\'', '\\\"'), output_json_template=str({k: '...' for k in aspects}).replace('\\'', '\\\"')\n",
    "    )\n",
    "\n",
    "    relevant_docs = retriever.get_relevant_documents(query=my_question, k=5)\n",
    "\n",
    "\n",
    "    prompt = PromptTemplate(\n",
    "        template=_prompts.KEYWORD_TEMPLATE_01,\n",
    "        input_variables=[\"aspects\", 'output_format', 'summaries'],\n",
    "    )\n",
    "\n",
    "    chain = prompt | llm\n",
    "\n",
    "    _resp = chain.invoke({\n",
    "        \"aspects\": aspects,\n",
    "        \"output_format\": '',\n",
    "        \"summaries\": str('\\n'.join([d.page_content for d in relevant_docs]))\n",
    "    }, config=chain_config)\n",
    "\n",
    "    token_usage_json_list.append(common_deque.pop())\n",
    "\n",
    "    print(_resp); print('-'*20)"
   ]
  },
  {
   "cell_type": "code",
   "execution_count": 18,
   "metadata": {},
   "outputs": [
    {
     "data": {
      "text/plain": [
       "[{'token_usage': 254, 'time_costed': 1018136000},\n",
       " {'token_usage': 278, 'time_costed': 1377259000}]"
      ]
     },
     "execution_count": 18,
     "metadata": {},
     "output_type": "execute_result"
    }
   ],
   "source": [
    "token_usage_json_list"
   ]
  },
  {
   "cell_type": "markdown",
   "metadata": {},
   "source": [
    "---"
   ]
  },
  {
   "cell_type": "markdown",
   "metadata": {},
   "source": [
    "1 aspect per prompt, with output format"
   ]
  },
  {
   "cell_type": "code",
   "execution_count": 19,
   "metadata": {},
   "outputs": [
    {
     "name": "stderr",
     "output_type": "stream",
     "text": [
      "Number of requested results 5 is greater than number of elements in index 1, updating n_results = 1\n"
     ]
    },
    {
     "name": "stderr",
     "output_type": "stream",
     "text": [
      "Number of requested results 5 is greater than number of elements in index 1, updating n_results = 1\n"
     ]
    },
    {
     "name": "stdout",
     "output_type": "stream",
     "text": [
      " {\"Gameplay\": \"Some users have reported issues with random shuffling of decks leading to inconsistent mana distribution.\"}\n",
      "--------------------\n"
     ]
    },
    {
     "name": "stderr",
     "output_type": "stream",
     "text": [
      "Number of requested results 5 is greater than number of elements in index 1, updating n_results = 1\n"
     ]
    },
    {
     "name": "stdout",
     "output_type": "stream",
     "text": [
      " NA. The review does not provide sufficient information about the narrative aspect of the game.\n",
      "--------------------\n"
     ]
    },
    {
     "name": "stderr",
     "output_type": "stream",
     "text": [
      "Number of requested results 5 is greater than number of elements in index 1, updating n_results = 1\n"
     ]
    },
    {
     "name": "stdout",
     "output_type": "stream",
     "text": [
      " {\"Accessibility\": \"Some users find it difficult to obtain specific cards through current methods, suggesting allowing direct purchase with coins.\"}\n",
      "--------------------\n"
     ]
    },
    {
     "name": "stderr",
     "output_type": "stream",
     "text": [
      "Number of requested results 5 is greater than number of elements in index 1, updating n_results = 1\n"
     ]
    },
    {
     "name": "stdout",
     "output_type": "stream",
     "text": [
      " NA. The review does not mention anything specific about the sound aspect of the game.\n",
      "--------------------\n"
     ]
    },
    {
     "name": "stderr",
     "output_type": "stream",
     "text": [
      "Number of requested results 5 is greater than number of elements in index 1, updating n_results = 1\n"
     ]
    },
    {
     "name": "stdout",
     "output_type": "stream",
     "text": [
      " NA\n",
      "{\"Graphics & Art Design\": \"\"}\n",
      "--------------------\n"
     ]
    },
    {
     "name": "stderr",
     "output_type": "stream",
     "text": [
      "Number of requested results 5 is greater than number of elements in index 1, updating n_results = 1\n"
     ]
    },
    {
     "name": "stdout",
     "output_type": "stream",
     "text": [
      " {\"Performance\": \"The random shuffling algorithm can result in extreme mana variations within a deck.\"}\n",
      "--------------------\n"
     ]
    },
    {
     "name": "stderr",
     "output_type": "stream",
     "text": [
      "Number of requested results 5 is greater than number of elements in index 1, updating n_results = 1\n"
     ]
    },
    {
     "name": "stdout",
     "output_type": "stream",
     "text": [
      " {\"Bug\": \"The shuffling algorithm for deck randomization is inconsistent, resulting in extreme mana variations.\"}\n",
      "--------------------\n"
     ]
    },
    {
     "name": "stderr",
     "output_type": "stream",
     "text": [
      "Number of requested results 5 is greater than number of elements in index 1, updating n_results = 1\n"
     ]
    },
    {
     "name": "stdout",
     "output_type": "stream",
     "text": [
      " {\"Suggestion\": \"The reviews suggest allowing specific card buying for coins and improving the deck shuffling algorithm.\"}\n",
      "--------------------\n"
     ]
    },
    {
     "name": "stderr",
     "output_type": "stream",
     "text": [
      "Number of requested results 5 is greater than number of elements in index 1, updating n_results = 1\n"
     ]
    },
    {
     "name": "stdout",
     "output_type": "stream",
     "text": [
      " {\"Price\": \"Users suggest adjusting costs for specific card buying to reflect rarity.\"}\n",
      "--------------------\n",
      " {\"Overall\": \"The game is overall good, but the shuffling algorithm for the deck could use improvement.\", \"Suggestions\": \"Allow specific card buying with coins and adjust costs accordingly.\"}\n",
      "--------------------\n"
     ]
    }
   ],
   "source": [
    "for aspect in GAME_ASPECTS:\n",
    "    my_question = _prompts.QUESTION_TEMPLATE_01 + f\"is {aspect}\"\n",
    "    output_format = _prompts.OUTPUT_FORMAT_TEMPATE.format(\n",
    "        aspects_list_01=str([aspect])[1:-1].replace('\\'', '\\\"'), output_json_template=str({aspect: '...'}).replace('\\'', '\\\"')\n",
    "    )\n",
    "\n",
    "    relevant_docs = retriever.get_relevant_documents(query=my_question, k=5)\n",
    "\n",
    "    prompt = PromptTemplate(\n",
    "        template=_prompts.KEYWORD_TEMPLATE_01,\n",
    "        input_variables=[\"aspects\", 'output_format', 'summaries'],\n",
    "    )\n",
    "\n",
    "    chain = prompt | llm\n",
    "\n",
    "    _resp = chain.invoke({\n",
    "        \"aspects\": [aspect],\n",
    "        \"output_format\": output_format,\n",
    "        \"summaries\": str('\\n'.join([d.page_content for d in relevant_docs]))\n",
    "    }, config=chain_config)\n",
    "\n",
    "    token_usage_json_list.append(common_deque.pop())\n",
    "\n",
    "    print(_resp); print('-'*20)"
   ]
  },
  {
   "cell_type": "code",
   "execution_count": 20,
   "metadata": {},
   "outputs": [
    {
     "data": {
      "text/plain": [
       "[{'token_usage': 254, 'time_costed': 1018136000},\n",
       " {'token_usage': 278, 'time_costed': 1377259000},\n",
       " {'token_usage': 276, 'time_costed': 987202000},\n",
       " {'token_usage': 269, 'time_costed': 817757000},\n",
       " {'token_usage': 275, 'time_costed': 972698000},\n",
       " {'token_usage': 263, 'time_costed': 819742000},\n",
       " {'token_usage': 265, 'time_costed': 705706000},\n",
       " {'token_usage': 272, 'time_costed': 927306000},\n",
       " {'token_usage': 275, 'time_costed': 970371000},\n",
       " {'token_usage': 277, 'time_costed': 950976000},\n",
       " {'token_usage': 265, 'time_costed': 862515000},\n",
       " {'token_usage': 291, 'time_costed': 1288217000}]"
      ]
     },
     "execution_count": 20,
     "metadata": {},
     "output_type": "execute_result"
    }
   ],
   "source": [
    "token_usage_json_list"
   ]
  },
  {
   "cell_type": "markdown",
   "metadata": {},
   "source": [
    "1 aspect per prompt, without output format"
   ]
  },
  {
   "cell_type": "code",
   "execution_count": 21,
   "metadata": {},
   "outputs": [
    {
     "name": "stderr",
     "output_type": "stream",
     "text": [
      "Number of requested results 5 is greater than number of elements in index 1, updating n_results = 1\n"
     ]
    },
    {
     "name": "stderr",
     "output_type": "stream",
     "text": [
      "Number of requested results 5 is greater than number of elements in index 1, updating n_results = 1\n"
     ]
    },
    {
     "name": "stdout",
     "output_type": "stream",
     "text": [
      " {\n",
      "\"Gameplay\": \"Some users have reported issues with the random shuffling algorithm in the game leading to inconsistent mana distribution.\"\n",
      "}\n",
      "\n",
      "{\n",
      "\"Gameplay\": \"Users suggest allowing specific card buying for coins as it is currently difficult to obtain desired cards from booster packs.\"\n",
      "}\n",
      "--------------------\n"
     ]
    },
    {
     "name": "stderr",
     "output_type": "stream",
     "text": [
      "Number of requested results 5 is greater than number of elements in index 1, updating n_results = 1\n"
     ]
    },
    {
     "name": "stdout",
     "output_type": "stream",
     "text": [
      " {\n",
      "\"Narrative\": \"The reviews mention issues with deck shuffling algorithm leading to inconsistent mana distribution and difficulty in buying specific cards.\"\n",
      "}\n",
      "--------------------\n"
     ]
    },
    {
     "name": "stderr",
     "output_type": "stream",
     "text": [
      "Number of requested results 5 is greater than number of elements in index 1, updating n_results = 1\n"
     ]
    },
    {
     "name": "stdout",
     "output_type": "stream",
     "text": [
      " {\n",
      "\"Accessibility\": \"Some users find it difficult to obtain specific cards through current methods, suggesting allowing direct card purchasing with coins as an alternative.\"\n",
      "}\n",
      "--------------------\n"
     ]
    },
    {
     "name": "stderr",
     "output_type": "stream",
     "text": [
      "Number of requested results 5 is greater than number of elements in index 1, updating n_results = 1\n"
     ]
    },
    {
     "name": "stdout",
     "output_type": "stream",
     "text": [
      " {\"Sound\": \"NA\"}\n",
      "--------------------\n"
     ]
    },
    {
     "name": "stderr",
     "output_type": "stream",
     "text": [
      "Number of requested results 5 is greater than number of elements in index 1, updating n_results = 1\n"
     ]
    },
    {
     "name": "stdout",
     "output_type": "stream",
     "text": [
      " {\n",
      "\"Graphics & Art Design\": \"No specific mentions found in the review regarding graphics and art design aspect of the game.\"\n",
      "}\n",
      "--------------------\n"
     ]
    },
    {
     "name": "stderr",
     "output_type": "stream",
     "text": [
      "Number of requested results 5 is greater than number of elements in index 1, updating n_results = 1\n"
     ]
    },
    {
     "name": "stdout",
     "output_type": "stream",
     "text": [
      " {\n",
      "\"Performance\": \"Some users have reported inconsistent mana distribution due to the random shuffling algorithm.\"\n",
      "}\n",
      "--------------------\n"
     ]
    },
    {
     "name": "stderr",
     "output_type": "stream",
     "text": [
      "Number of requested results 5 is greater than number of elements in index 1, updating n_results = 1\n"
     ]
    },
    {
     "name": "stdout",
     "output_type": "stream",
     "text": [
      " {\n",
      "\"Bug\": \"The random algorithm for shuffling the deck results in either hitting a major mana pocket or no mana at all for half the deck, regardless of deck size.\"\n",
      "}\n",
      "--------------------\n"
     ]
    },
    {
     "name": "stderr",
     "output_type": "stream",
     "text": [
      "Number of requested results 5 is greater than number of elements in index 1, updating n_results = 1\n"
     ]
    },
    {
     "name": "stdout",
     "output_type": "stream",
     "text": [
      " {\n",
      "\"Suggestion\": \"Players suggest allowing specific card buying for coins and improving the shuffling algorithm in the game.\"\n",
      "}\n",
      "--------------------\n"
     ]
    },
    {
     "name": "stderr",
     "output_type": "stream",
     "text": [
      "Number of requested results 5 is greater than number of elements in index 1, updating n_results = 1\n"
     ]
    },
    {
     "name": "stdout",
     "output_type": "stream",
     "text": [
      " {\n",
      "\"Price\": \"Users suggest adjusting the cost of specific card buying to reflect rarity and difficulty in obtaining cards.\"\n",
      "}\n",
      "--------------------\n",
      " {\n",
      "\"Overall\": \"The game is overall good, but the random shuffling algorithm for the deck can be improved as players often encounter major mana pockets or no mana at all for half the deck regardless of deck size. Additionally, allowing specific card buying for coins would be a suggested improvement as getting a single card from an entire set is difficult.\"\n",
      "}\n",
      "--------------------\n"
     ]
    }
   ],
   "source": [
    "for aspect in GAME_ASPECTS:\n",
    "    my_question = _prompts.QUESTION_TEMPLATE_01 + f\"is {aspect}\"\n",
    "    output_format = _prompts.OUTPUT_FORMAT_TEMPATE.format(\n",
    "        aspects_list_01=str([aspect])[1:-1].replace('\\'', '\\\"'), output_json_template=str({aspect: '...'}).replace('\\'', '\\\"')\n",
    "    )\n",
    "\n",
    "    relevant_docs = retriever.get_relevant_documents(query=my_question, k=5)\n",
    "\n",
    "    prompt = PromptTemplate(\n",
    "        template=_prompts.KEYWORD_TEMPLATE_01,\n",
    "        input_variables=[\"aspects\", 'output_format', 'summaries'],\n",
    "    )\n",
    "\n",
    "    chain = prompt | llm\n",
    "\n",
    "    _resp = chain.invoke({\n",
    "        \"aspects\": [aspect],\n",
    "        \"output_format\": '',\n",
    "        \"summaries\": str('\\n'.join([d.page_content for d in relevant_docs]))\n",
    "    }, config=chain_config)\n",
    "\n",
    "    token_usage_json_list.append(common_deque.pop())\n",
    "\n",
    "    print(_resp); print('-'*20)"
   ]
  }
 ],
 "metadata": {
  "kernelspec": {
   "display_name": "fyp-test-tm",
   "language": "python",
   "name": "python3"
  },
  "language_info": {
   "codemirror_mode": {
    "name": "ipython",
    "version": 3
   },
   "file_extension": ".py",
   "mimetype": "text/x-python",
   "name": "python",
   "nbconvert_exporter": "python",
   "pygments_lexer": "ipython3",
   "version": "3.9.18"
  }
 },
 "nbformat": 4,
 "nbformat_minor": 2
}
