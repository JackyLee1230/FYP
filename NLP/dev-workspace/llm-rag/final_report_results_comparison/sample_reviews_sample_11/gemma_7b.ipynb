{
 "cells": [
  {
   "cell_type": "markdown",
   "metadata": {},
   "source": [
    "Base script for comparison existance of output-format in the prompt"
   ]
  },
  {
   "cell_type": "code",
   "execution_count": 1,
   "metadata": {},
   "outputs": [],
   "source": [
    "# review text\n",
    "\n",
    "import sys\n",
    "from pathlib import Path\n",
    "import pandas as pd\n",
    "\n",
    "sys.path.append('../../')\n",
    "\n",
    "import _sample_reviews\n",
    "import _prompts\n",
    "\n",
    "from langchain_community.llms import Ollama\n",
    "\n",
    "# YOUR REVIEW TEXT\n",
    "review_text = _sample_reviews.sample_11\n",
    "\n",
    "# YOUR OLLAMA MODEL OF THIS SCRIPT\n",
    "llm = Ollama(model='gemma:7b-instruct-q4_0', temperature=0.4)"
   ]
  },
  {
   "cell_type": "code",
   "execution_count": 2,
   "metadata": {},
   "outputs": [
    {
     "name": "stdout",
     "output_type": "stream",
     "text": [
      "{'review_ID': 123, 'review_text': 'overall good magic card game. the only issue i can really see is the random algorithem for shuffeling the deck, more times than not you either hit a major mana pocket or no mana at all for half the deck reguardless of deck size. i would also suggest to the devs to allow specific card buying for coins as its really hard to get a single card from an entire set of cards, and yes i would expect the cost to be much higher than for booster packs, adjusted for card value and rareity.', 'datetime': datetime.datetime(2024, 4, 4, 11, 29, 1, 843576), 'hash': '48e6a1efd092f83a4c4b3de9a0c35f1f7caebaca33cce5e00c617f02'}\n",
      "\n",
      "\n",
      "\n",
      "Len of review_text: 94\n"
     ]
    }
   ],
   "source": [
    "from datetime import datetime\n",
    "from hashlib import sha224\n",
    "\n",
    "# create an object with review_ID, review_text and the datetime of creation\n",
    "def create_review(review_text, review_ID):    \n",
    "    review_obj = {\n",
    "        \"review_ID\": review_ID,\n",
    "        \"review_text\": review_text,\n",
    "        \"datetime\": datetime.now()\n",
    "    }\n",
    "\n",
    "    # create a hash of the review_text for creating unique collection with Chromadb\n",
    "    hash = sha224(str(review_obj).encode()).hexdigest()\n",
    "    review_obj['hash'] = hash\n",
    "\n",
    "    return review_obj\n",
    "\n",
    "# the temporary review_ID\n",
    "review_ID = 123\n",
    "# select a comment to test with\n",
    "review_obj = create_review(review_text, review_ID)\n",
    "\n",
    "print(review_obj)\n",
    "print('\\n\\n')\n",
    "print('Len of review_text:', len(review_text.split()))"
   ]
  },
  {
   "cell_type": "code",
   "execution_count": 3,
   "metadata": {},
   "outputs": [],
   "source": [
    "# define callbacks for detecting token usage\n",
    "# copied from ../previous_tests/ollama_get_token_usage_example.ipynb\n",
    "\n",
    "from langchain_core.callbacks.base import BaseCallbackHandler\n",
    "from langchain_core.outputs.llm_result import LLMResult\n",
    "from collections import deque\n",
    "\n",
    "class TokenUsageCallbackHandler(BaseCallbackHandler):\n",
    "\n",
    "    def __init__(self, deque: deque = None):\n",
    "        super().__init__()\n",
    "        self.deque = deque\n",
    "\n",
    "    def on_llm_end(self, response: LLMResult, **kwargs) -> None:\n",
    "\n",
    "        generation = response.generations[0][0]\n",
    "        gen_info = generation.generation_info\n",
    "\n",
    "        # get token usage\n",
    "        # ref: https://github.com/orgs/langfuse/discussions/1179\n",
    "        token_usage = gen_info.get('prompt_eval_count', 0) + gen_info.get('eval_count', 0)\n",
    "        # get time costed (local machine)\n",
    "        # instead of getting total duration, we get the prompt_eval_duration and eval_duration to exclude the load duration (e.g. to load the model to the gpu, etc.)\n",
    "        time_costed = gen_info.get('prompt_eval_duration', 1e-10) + gen_info.get('eval_duration', 1e-10)     # in ns, a small value to indicate a inf time when it fails\n",
    "\n",
    "\n",
    "        # create an object to store the token usage and time costed\n",
    "        token_usage_obj = {\n",
    "            'token_usage': token_usage,\n",
    "            'time_costed': time_costed\n",
    "        }\n",
    "\n",
    "        # append the object to the deque\n",
    "        self.deque.append(token_usage_obj)\n",
    "\n",
    "\n",
    "\n",
    "common_deque = deque()\n",
    "chain_config = {\n",
    "    \"callbacks\": [TokenUsageCallbackHandler(common_deque)],\n",
    "}"
   ]
  },
  {
   "cell_type": "code",
   "execution_count": 4,
   "metadata": {},
   "outputs": [],
   "source": [
    "import chromadb\n",
    "\n",
    "# use docker\n",
    "# chroma_client = chromadb.HttpClient(host=\"localhost\", port=8000)"
   ]
  },
  {
   "cell_type": "code",
   "execution_count": 5,
   "metadata": {},
   "outputs": [
    {
     "name": "stderr",
     "output_type": "stream",
     "text": [
      "/Users/michaelcheng/.local/lib/python3.9/site-packages/tqdm/auto.py:21: TqdmWarning: IProgress not found. Please update jupyter and ipywidgets. See https://ipywidgets.readthedocs.io/en/stable/user_install.html\n",
      "  from .autonotebook import tqdm as notebook_tqdm\n",
      "/Users/michaelcheng/miniforge3/envs/fyp-test-tm/lib/python3.9/site-packages/torch/_utils.py:831: UserWarning: TypedStorage is deprecated. It will be removed in the future and UntypedStorage will be the only storage class. This should only matter to you if you are using storages directly.  To access UntypedStorage directly, use tensor.untyped_storage() instead of tensor.storage()\n",
      "  return self.fget.__get__(instance, owner)()\n"
     ]
    }
   ],
   "source": [
    "from langchain_community.embeddings.sentence_transformer import (\n",
    "    SentenceTransformerEmbeddings,\n",
    ")\n",
    "\n",
    "from langchain.text_splitter import CharacterTextSplitter, TokenTextSplitter, RecursiveCharacterTextSplitter\n",
    "from transformers import AutoTokenizer\n",
    "from langchain_community.document_loaders import TextLoader, DirectoryLoader\n",
    "from langchain.vectorstores import Chroma\n",
    "\n",
    "# also change this to use Mistral Embeddings\n",
    "embedding_func = SentenceTransformerEmbeddings(model_name=\"all-MiniLM-L6-v2\")\n",
    "\n",
    "text_spliter = RecursiveCharacterTextSplitter.from_tiktoken_encoder(\n",
    "    encoding_name='cl100k_base', chunk_size=250, chunk_overlap=40\n",
    ")\n",
    "\n",
    "docs = text_spliter.create_documents(\n",
    "    [review_text], metadatas=[{\"source\":\"review_01\"}]\n",
    ")\n",
    "\n",
    "temp_db = Chroma.from_documents(\n",
    "    documents=docs,\n",
    "    embedding=embedding_func,\n",
    "    collection_name=review_obj['hash']\n",
    ")\n",
    "\n",
    "retriever = temp_db.as_retriever(search_kwargs={\"k\": 5})"
   ]
  },
  {
   "cell_type": "markdown",
   "metadata": {},
   "source": [
    "---"
   ]
  },
  {
   "cell_type": "markdown",
   "metadata": {},
   "source": [
    "prompting"
   ]
  },
  {
   "cell_type": "code",
   "execution_count": 6,
   "metadata": {},
   "outputs": [],
   "source": [
    "# global constants\n",
    "GAME_ASPECTS = ['Gameplay', 'Narrative', 'Accessibility', 'Sound', 'Graphics & Art Design', 'Performance', 'Bug', 'Suggestion', 'Price', 'Overall']"
   ]
  },
  {
   "cell_type": "markdown",
   "metadata": {},
   "source": [
    "3-3-4\n",
    "\n",
    "with one-shot output format provided"
   ]
  },
  {
   "cell_type": "code",
   "execution_count": 7,
   "metadata": {},
   "outputs": [
    {
     "name": "stderr",
     "output_type": "stream",
     "text": [
      "Number of requested results 5 is greater than number of elements in index 1, updating n_results = 1\n"
     ]
    },
    {
     "name": "stderr",
     "output_type": "stream",
     "text": [
      "Number of requested results 5 is greater than number of elements in index 1, updating n_results = 1\n"
     ]
    },
    {
     "name": "stdout",
     "output_type": "stream",
     "text": [
      "{\"Gameplay\": \"The game has a good overall gameplay, but the random algorithm for shuffling the deck can be problematic. It often results in either a major mana pocket or no mana at all for half of the deck.\", \"Narrative\": \"NA\", \"Accessibility\": \"NA\"}\n",
      "\n",
      "This JSON summarizes the extracted aspects of the game from the reviews.\n",
      "--------------------\n"
     ]
    },
    {
     "name": "stderr",
     "output_type": "stream",
     "text": [
      "Number of requested results 5 is greater than number of elements in index 1, updating n_results = 1\n"
     ]
    },
    {
     "name": "stdout",
     "output_type": "stream",
     "text": [
      "{\"Sound\": \"NA\", \"Graphics & Art Design\": \"NA\", \"Performance\": \"The random algorithm for shuffling the deck is inconsistent, often resulting in either a major mana pocket or no mana at all for half the deck.\"}\n",
      "--------------------\n",
      "{\"Bug\": \"The random algorithm for shuffling the deck is unreliable, often resulting in unbalanced mana distribution.\", \"Suggestion\": \"Allow specific card buying for coins to make it easier to acquire single cards.\", \"Price\": \"The cost of booster packs is currently too high, especially considering the rarity of certain cards.\", \"Overall\": \"Overall, the game is a good magic card game, but there are some areas that could be improved.\"}\n",
      "--------------------\n"
     ]
    }
   ],
   "source": [
    "# 3-3-4\n",
    "# modified from main branch\n",
    "\n",
    "from langchain_core.prompts import PromptTemplate, ChatPromptTemplate\n",
    "\n",
    "token_usage_json_list = []\n",
    "embedding_usage_info_list = []\n",
    "\n",
    "\n",
    "for (start, end) in [(0, 3), (3, 6), (6, 10)]:\n",
    "    aspects = GAME_ASPECTS[start:end]\n",
    "\n",
    "    my_question = _prompts.QUESTION_TEMPLATE_01 + f\"{'is ' if len(aspects) <= 1 else 'are '}\" + ': ' + f'{aspects}'\n",
    "    output_format = _prompts.OUTPUT_FORMAT_TEMPATE.format(\n",
    "        aspects_list_01=str(aspects)[1:-1].replace('\\'', '\\\"'), output_json_template=str({k: '...' for k in aspects}).replace('\\'', '\\\"')\n",
    "    )\n",
    "\n",
    "    relevant_docs = retriever.get_relevant_documents(query=my_question, k=5)\n",
    "\n",
    "\n",
    "    prompt = PromptTemplate(\n",
    "        template=_prompts.KEYWORD_TEMPLATE_01,\n",
    "        input_variables=[\"aspects\", 'output_format', 'summaries'],\n",
    "    )\n",
    "\n",
    "    chain = prompt | llm\n",
    "\n",
    "    _resp = chain.invoke({\n",
    "        \"aspects\": aspects,\n",
    "        \"output_format\": output_format,\n",
    "        \"summaries\": str('\\n'.join([d.page_content for d in relevant_docs]))\n",
    "    }, config=chain_config)\n",
    "\n",
    "    token_usage_json_list.append(common_deque.pop())\n",
    "\n",
    "    print(_resp); print('-'*20)"
   ]
  },
  {
   "cell_type": "code",
   "execution_count": 8,
   "metadata": {},
   "outputs": [
    {
     "data": {
      "text/plain": [
       "[{'token_usage': 361, 'time_costed': 2288061000},\n",
       " {'token_usage': 313, 'time_costed': 1758923000},\n",
       " {'token_usage': 355, 'time_costed': 2635835000}]"
      ]
     },
     "execution_count": 8,
     "metadata": {},
     "output_type": "execute_result"
    }
   ],
   "source": [
    "token_usage_json_list"
   ]
  },
  {
   "cell_type": "markdown",
   "metadata": {},
   "source": [
    "3-3-4 without output format provided"
   ]
  },
  {
   "cell_type": "code",
   "execution_count": 9,
   "metadata": {},
   "outputs": [
    {
     "name": "stderr",
     "output_type": "stream",
     "text": [
      "Number of requested results 5 is greater than number of elements in index 1, updating n_results = 1\n"
     ]
    },
    {
     "name": "stderr",
     "output_type": "stream",
     "text": [
      "Number of requested results 5 is greater than number of elements in index 1, updating n_results = 1\n"
     ]
    },
    {
     "name": "stdout",
     "output_type": "stream",
     "text": [
      "**JSON:**\n",
      "\n",
      "```json\n",
      "{\n",
      "  \"Gameplay\": \"The game has a good overall magic card game feel, but the random algorithm for shuffling the deck can be problematic. It often results in either a major mana pocket or no mana at all for half the deck.\",\n",
      "  \"Narrative\": \"NA\",\n",
      "  \"Accessibility\": \"NA\"\n",
      "}\n",
      "```\n",
      "--------------------\n"
     ]
    },
    {
     "name": "stderr",
     "output_type": "stream",
     "text": [
      "Number of requested results 5 is greater than number of elements in index 1, updating n_results = 1\n"
     ]
    },
    {
     "name": "stdout",
     "output_type": "stream",
     "text": [
      "**JSON:**\n",
      "\n",
      "```json\n",
      "{\n",
      "  \"Sound\": \"NA\",\n",
      "  \"Graphics & Art Design\": \"NA\",\n",
      "  \"Performance\": \"The random algorithm for shuffling the deck is inconsistent, often resulting in either a major mana pocket or no mana at all for half the deck. It would also be helpful to allow specific card buying for coins.\"\n",
      "}\n",
      "```\n",
      "--------------------\n",
      "**JSON:**\n",
      "\n",
      "```json\n",
      "{\n",
      "  \"Bug\": \"The random algorithm for shuffling the deck is unreliable, often resulting in either a major mana pocket or no mana at all for half of the deck regardless of deck size.\",\n",
      "  \"Suggestion\": \"The devs should allow specific card buying for coins, as it is currently very difficult to obtain a single card from an entire set of cards.\",\n",
      "  \"Price\": \"The cost of buying single cards would be much higher than booster packs, adjusted for card value and rarity.\",\n",
      "  \"Overall\": \"Overall, the game is good, but there are some issues with the bug and suggestion mentioned above.\"\n",
      "}\n",
      "```\n",
      "--------------------\n"
     ]
    }
   ],
   "source": [
    "# without output_format\n",
    "\n",
    "token_usage_json_list = []\n",
    "embedding_usage_info_list = []\n",
    "\n",
    "\n",
    "for (start, end) in [(0, 3), (3, 6), (6, 10)]:\n",
    "    aspects = GAME_ASPECTS[start:end]\n",
    "\n",
    "    my_question = _prompts.QUESTION_TEMPLATE_01 + f\"{'is ' if len(aspects) <= 1 else 'are '}\" + ': ' + f'{aspects}'\n",
    "    output_format = _prompts.OUTPUT_FORMAT_TEMPATE.format(\n",
    "        aspects_list_01=str(aspects)[1:-1].replace('\\'', '\\\"'), output_json_template=str({k: '...' for k in aspects}).replace('\\'', '\\\"')\n",
    "    )\n",
    "\n",
    "    relevant_docs = retriever.get_relevant_documents(query=my_question, k=5)\n",
    "\n",
    "\n",
    "    prompt = PromptTemplate(\n",
    "        template=_prompts.KEYWORD_TEMPLATE_01,\n",
    "        input_variables=[\"aspects\", 'output_format', 'summaries'],\n",
    "    )\n",
    "\n",
    "    chain = prompt | llm\n",
    "\n",
    "    _resp = chain.invoke({\n",
    "        \"aspects\": aspects,\n",
    "        # \"output_format\": output_format,\n",
    "        \"output_format\": '',\n",
    "        \"summaries\": str('\\n'.join([d.page_content for d in relevant_docs]))\n",
    "    }, config=chain_config)\n",
    "\n",
    "    token_usage_json_list.append(common_deque.pop())\n",
    "\n",
    "    print(_resp); print('-'*20)"
   ]
  },
  {
   "cell_type": "code",
   "execution_count": 10,
   "metadata": {},
   "outputs": [
    {
     "data": {
      "text/plain": [
       "[{'token_usage': 278, 'time_costed': 2207553000},\n",
       " {'token_usage': 283, 'time_costed': 2242364000},\n",
       " {'token_usage': 343, 'time_costed': 3496741000}]"
      ]
     },
     "execution_count": 10,
     "metadata": {},
     "output_type": "execute_result"
    }
   ],
   "source": [
    "token_usage_json_list"
   ]
  },
  {
   "cell_type": "markdown",
   "metadata": {},
   "source": [
    "---"
   ]
  },
  {
   "cell_type": "markdown",
   "metadata": {},
   "source": [
    "2-2-2-2-2 prompting\n",
    "\n",
    "with output_format provided"
   ]
  },
  {
   "cell_type": "code",
   "execution_count": 11,
   "metadata": {},
   "outputs": [
    {
     "name": "stderr",
     "output_type": "stream",
     "text": [
      "Number of requested results 5 is greater than number of elements in index 1, updating n_results = 1\n"
     ]
    },
    {
     "name": "stderr",
     "output_type": "stream",
     "text": [
      "Number of requested results 5 is greater than number of elements in index 1, updating n_results = 1\n"
     ]
    },
    {
     "name": "stdout",
     "output_type": "stream",
     "text": [
      "{\"Gameplay\": \"The game's shuffle algorithm is inconsistent, often resulting in either a major mana pocket or no mana at all for half the deck.\", \"Narrative\": \"NA\"}\n",
      "\n",
      "The text does not provide information about the game's narrative, therefore I cannot extract the requested data.\n",
      "--------------------\n"
     ]
    },
    {
     "name": "stderr",
     "output_type": "stream",
     "text": [
      "Number of requested results 5 is greater than number of elements in index 1, updating n_results = 1\n"
     ]
    },
    {
     "name": "stdout",
     "output_type": "stream",
     "text": [
      "{\"Accessibility\": \"The shuffling algorithm is inconsistent, often resulting in unbalanced mana distribution.\", \"Sound\": \"NA\"}\n",
      "\n",
      "The text does not mention sound, therefore I cannot extract the requested aspect.\n",
      "--------------------\n"
     ]
    },
    {
     "name": "stderr",
     "output_type": "stream",
     "text": [
      "Number of requested results 5 is greater than number of elements in index 1, updating n_results = 1\n"
     ]
    },
    {
     "name": "stdout",
     "output_type": "stream",
     "text": [
      "{\"Graphics & Art Design\": \"NA\", \"Performance\": \"The only issue with performance is the random algorithm for shuffling the deck.\"}\n",
      "\n",
      "The text does not describe the graphics or art design of the game, therefore I cannot extract the requested data.\n",
      "--------------------\n"
     ]
    },
    {
     "name": "stderr",
     "output_type": "stream",
     "text": [
      "Number of requested results 5 is greater than number of elements in index 1, updating n_results = 1\n"
     ]
    },
    {
     "name": "stdout",
     "output_type": "stream",
     "text": [
      "{\"Bug\": \"The random algorithm for shuffling the deck often results in either a major mana pocket or no mana at all for half the deck, regardless of deck size.\", \"Suggestion\": \"The devs should allow specific card buying for coins, as it is currently very difficult to obtain a single card from an entire set of cards.\"}\n",
      "--------------------\n",
      "{\"Price\": \"The cost of getting a single card from an entire set of cards is very high, making it difficult to acquire specific cards.\", \"Overall\": \"Overall, the game is good, but the random algorithm for shuffling the deck and the high cost of acquiring specific cards are the only issues I can see.\"}\n",
      "--------------------\n"
     ]
    }
   ],
   "source": [
    "token_usage_json_list = []\n",
    "embedding_usage_info_list = []\n",
    "\n",
    "\n",
    "for (start, end) in [(0, 2), (2, 4), (4, 6), (6, 8), (8, 10)]:\n",
    "    aspects = GAME_ASPECTS[start:end]\n",
    "\n",
    "    my_question = _prompts.QUESTION_TEMPLATE_01 + f\"{'is ' if len(aspects) <= 1 else 'are '}\" + ': ' + f'{aspects}'\n",
    "    output_format = _prompts.OUTPUT_FORMAT_TEMPATE.format(\n",
    "        aspects_list_01=str(aspects)[1:-1].replace('\\'', '\\\"'), output_json_template=str({k: '...' for k in aspects}).replace('\\'', '\\\"')\n",
    "    )\n",
    "\n",
    "    relevant_docs = retriever.get_relevant_documents(query=my_question, k=5)\n",
    "\n",
    "\n",
    "    prompt = PromptTemplate(\n",
    "        template=_prompts.KEYWORD_TEMPLATE_01,\n",
    "        input_variables=[\"aspects\", 'output_format', 'summaries'],\n",
    "    )\n",
    "\n",
    "    chain = prompt | llm\n",
    "\n",
    "    _resp = chain.invoke({\n",
    "        \"aspects\": aspects,\n",
    "        \"output_format\": output_format,\n",
    "        \"summaries\": str('\\n'.join([d.page_content for d in relevant_docs]))\n",
    "    }, config=chain_config)\n",
    "\n",
    "    token_usage_json_list.append(common_deque.pop())\n",
    "\n",
    "    print(_resp); print('-'*20)"
   ]
  },
  {
   "cell_type": "code",
   "execution_count": 12,
   "metadata": {},
   "outputs": [
    {
     "data": {
      "text/plain": [
       "[{'token_usage': 304, 'time_costed': 1919166000},\n",
       " {'token_usage': 284, 'time_costed': 1471778000},\n",
       " {'token_usage': 305, 'time_costed': 1714605000},\n",
       " {'token_usage': 312, 'time_costed': 2143781000},\n",
       " {'token_usage': 310, 'time_costed': 2059358000}]"
      ]
     },
     "execution_count": 12,
     "metadata": {},
     "output_type": "execute_result"
    }
   ],
   "source": [
    "token_usage_json_list"
   ]
  },
  {
   "cell_type": "markdown",
   "metadata": {},
   "source": [
    "2-2-2-2-2 wihtout output format"
   ]
  },
  {
   "cell_type": "code",
   "execution_count": 13,
   "metadata": {},
   "outputs": [
    {
     "name": "stderr",
     "output_type": "stream",
     "text": [
      "Number of requested results 5 is greater than number of elements in index 1, updating n_results = 1\n"
     ]
    },
    {
     "name": "stderr",
     "output_type": "stream",
     "text": [
      "Number of requested results 5 is greater than number of elements in index 1, updating n_results = 1\n"
     ]
    },
    {
     "name": "stdout",
     "output_type": "stream",
     "text": [
      "**JSON:**\n",
      "\n",
      "```json\n",
      "{\n",
      "  \"Gameplay\": \"The game has a good overall structure, but the random shuffling algorithm needs improvement. You often either hit a major mana pocket or have no mana at all for half of the deck regardless of deck size.\",\n",
      "  \"Narrative\": \"NA\"\n",
      "}\n",
      "```\n",
      "\n",
      "The text does not mention any narrative aspects of the game, therefore I cannot extract the requested data.\n",
      "--------------------\n"
     ]
    },
    {
     "name": "stderr",
     "output_type": "stream",
     "text": [
      "Number of requested results 5 is greater than number of elements in index 1, updating n_results = 1\n"
     ]
    },
    {
     "name": "stdout",
     "output_type": "stream",
     "text": [
      "**JSON:**\n",
      "\n",
      "```json\n",
      "{\n",
      "  \"Accessibility\": \"The game has a high barrier to entry due to its complex rules and mechanics.\",\n",
      "  \"Sound\": \"The game has a good soundscape, but the shuffling algorithm can be inconsistent and result in unbalanced turns.\"\n",
      "}\n",
      "```\n",
      "\n",
      "**Note:** The text does not describe the game's sound quality or accessibility, therefore I cannot extract the requested data.\n",
      "--------------------\n"
     ]
    },
    {
     "name": "stderr",
     "output_type": "stream",
     "text": [
      "Number of requested results 5 is greater than number of elements in index 1, updating n_results = 1\n"
     ]
    },
    {
     "name": "stdout",
     "output_type": "stream",
     "text": [
      "**JSON:**\n",
      "\n",
      "```json\n",
      "{\n",
      "  \"Graphics & Art Design\": \"NA\",\n",
      "  \"Performance\": \"The only issue with performance is the random algorithm for shuffling the deck, which often results in either a major mana pocket or no mana at all for half the deck regardless of deck size.\"\n",
      "}\n",
      "```\n",
      "\n",
      "**Explanation:**\n",
      "\n",
      "The text does not provide information about the game's graphics or art design, therefore I cannot extract the requested data. Hence, the output is \"NA\" for both aspects.\n",
      "--------------------\n"
     ]
    },
    {
     "name": "stderr",
     "output_type": "stream",
     "text": [
      "Number of requested results 5 is greater than number of elements in index 1, updating n_results = 1\n"
     ]
    },
    {
     "name": "stdout",
     "output_type": "stream",
     "text": [
      "**JSON:**\n",
      "\n",
      "```json\n",
      "{\n",
      "  \"Bug\": \"The random algorithm for shuffling the deck is unreliable, often resulting in major mana pockets or no mana at all for half of the deck regardless of deck size.\",\n",
      "  \"Suggestion\": \"Allow specific card buying for coins. The cost of buying a single card from an entire set of cards is currently very high, and it would be more convenient to be able to purchase individual cards with coins.\"\n",
      "}\n",
      "```\n",
      "\n",
      "**NA**\n",
      "--------------------\n",
      "**JSON:**\n",
      "\n",
      "```json\n",
      "{\n",
      "  \"Price\": \"The cost of buying a single card from an entire set of cards is extremely high, making it difficult to acquire a specific card.\",\n",
      "  \"Overall\": \"Overall, the game is good, but the random algorithm for shuffling the deck and the high cost of buying a single card are the only issues.\"\n",
      "}\n",
      "```\n",
      "--------------------\n"
     ]
    }
   ],
   "source": [
    "token_usage_json_list = []\n",
    "embedding_usage_info_list = []\n",
    "\n",
    "\n",
    "for (start, end) in [(0, 2), (2, 4), (4, 6), (6, 8), (8, 10)]:\n",
    "    aspects = GAME_ASPECTS[start:end]\n",
    "\n",
    "    my_question = _prompts.QUESTION_TEMPLATE_01 + f\"{'is ' if len(aspects) <= 1 else 'are '}\" + ': ' + f'{aspects}'\n",
    "    output_format = _prompts.OUTPUT_FORMAT_TEMPATE.format(\n",
    "        aspects_list_01=str(aspects)[1:-1].replace('\\'', '\\\"'), output_json_template=str({k: '...' for k in aspects}).replace('\\'', '\\\"')\n",
    "    )\n",
    "\n",
    "    relevant_docs = retriever.get_relevant_documents(query=my_question, k=5)\n",
    "\n",
    "\n",
    "    prompt = PromptTemplate(\n",
    "        template=_prompts.KEYWORD_TEMPLATE_01,\n",
    "        input_variables=[\"aspects\", 'output_format', 'summaries'],\n",
    "    )\n",
    "\n",
    "    chain = prompt | llm\n",
    "\n",
    "    _resp = chain.invoke({\n",
    "        \"aspects\": aspects,\n",
    "        \"output_format\": '',\n",
    "        \"summaries\": str('\\n'.join([d.page_content for d in relevant_docs]))\n",
    "    }, config=chain_config)\n",
    "\n",
    "    token_usage_json_list.append(common_deque.pop())\n",
    "\n",
    "    print(_resp); print('-'*20)"
   ]
  },
  {
   "cell_type": "code",
   "execution_count": 14,
   "metadata": {},
   "outputs": [
    {
     "data": {
      "text/plain": [
       "[{'token_usage': 286, 'time_costed': 2449819000},\n",
       " {'token_usage': 286, 'time_costed': 2436338000},\n",
       " {'token_usage': 309, 'time_costed': 2909833000},\n",
       " {'token_usage': 299, 'time_costed': 2799309000},\n",
       " {'token_usage': 278, 'time_costed': 2286929000}]"
      ]
     },
     "execution_count": 14,
     "metadata": {},
     "output_type": "execute_result"
    }
   ],
   "source": [
    "token_usage_json_list"
   ]
  },
  {
   "cell_type": "markdown",
   "metadata": {},
   "source": [
    "---"
   ]
  },
  {
   "cell_type": "markdown",
   "metadata": {},
   "source": [
    "5-5 with output format provided"
   ]
  },
  {
   "cell_type": "code",
   "execution_count": 15,
   "metadata": {},
   "outputs": [
    {
     "name": "stderr",
     "output_type": "stream",
     "text": [
      "Number of requested results 5 is greater than number of elements in index 1, updating n_results = 1\n"
     ]
    },
    {
     "name": "stderr",
     "output_type": "stream",
     "text": [
      "Number of requested results 5 is greater than number of elements in index 1, updating n_results = 1\n"
     ]
    },
    {
     "name": "stdout",
     "output_type": "stream",
     "text": [
      "{\"Gameplay\": \"The game has a good overall structure, but the random shuffling algorithm needs improvement.\", \"Narrative\": \"NA\", \"Accessibility\": \"NA\", \"Sound\": \"NA\", \"Graphics & Art Design\": \"NA\"}\n",
      "\n",
      "The text does not describe the narrative or accessibility of the game, therefore I cannot extract the requested data.\n",
      "--------------------\n",
      "{\"Performance\": \"Overall good magic card game\", \"Bug\": \"Random algorithem for shuffling the deck\", \"Suggestion\": \"Allow specific card buying for coins\", \"Price\": \"Really hard to get a single card from an entire set of cards\", \"Overall\": \"Overall good magic card game\"}\n",
      "--------------------\n"
     ]
    }
   ],
   "source": [
    "token_usage_json_list = []\n",
    "embedding_usage_info_list = []\n",
    "\n",
    "\n",
    "for (start, end) in [(0, 5), (5, 10)]:\n",
    "    aspects = GAME_ASPECTS[start:end]\n",
    "\n",
    "    my_question = _prompts.QUESTION_TEMPLATE_01 + f\"{'is ' if len(aspects) <= 1 else 'are '}\" + ': ' + f'{aspects}'\n",
    "    output_format = _prompts.OUTPUT_FORMAT_TEMPATE.format(\n",
    "        aspects_list_01=str(aspects)[1:-1].replace('\\'', '\\\"'), output_json_template=str({k: '...' for k in aspects}).replace('\\'', '\\\"')\n",
    "    )\n",
    "\n",
    "    relevant_docs = retriever.get_relevant_documents(query=my_question, k=5)\n",
    "\n",
    "\n",
    "    prompt = PromptTemplate(\n",
    "        template=_prompts.KEYWORD_TEMPLATE_01,\n",
    "        input_variables=[\"aspects\", 'output_format', 'summaries'],\n",
    "    )\n",
    "\n",
    "    chain = prompt | llm\n",
    "\n",
    "    _resp = chain.invoke({\n",
    "        \"aspects\": aspects,\n",
    "        \"output_format\": output_format,\n",
    "        \"summaries\": str('\\n'.join([d.page_content for d in relevant_docs]))\n",
    "    }, config=chain_config)\n",
    "\n",
    "    token_usage_json_list.append(common_deque.pop())\n",
    "\n",
    "    print(_resp); print('-'*20)"
   ]
  },
  {
   "cell_type": "code",
   "execution_count": 16,
   "metadata": {},
   "outputs": [
    {
     "data": {
      "text/plain": [
       "[{'token_usage': 356, 'time_costed': 2220377000},\n",
       " {'token_usage': 340, 'time_costed': 2083049000}]"
      ]
     },
     "execution_count": 16,
     "metadata": {},
     "output_type": "execute_result"
    }
   ],
   "source": [
    "token_usage_json_list"
   ]
  },
  {
   "cell_type": "markdown",
   "metadata": {},
   "source": [
    "5-5 without output format provided"
   ]
  },
  {
   "cell_type": "code",
   "execution_count": 17,
   "metadata": {},
   "outputs": [
    {
     "name": "stderr",
     "output_type": "stream",
     "text": [
      "Number of requested results 5 is greater than number of elements in index 1, updating n_results = 1\n"
     ]
    },
    {
     "name": "stderr",
     "output_type": "stream",
     "text": [
      "Number of requested results 5 is greater than number of elements in index 1, updating n_results = 1\n"
     ]
    },
    {
     "name": "stdout",
     "output_type": "stream",
     "text": [
      "**JSON:**\n",
      "\n",
      "```json\n",
      "{\n",
      "  \"Gameplay\": \"Overall good magic card game, but the random algorithm for shuffling the deck can be problematic.\",\n",
      "  \"Narrative\": \"NA\",\n",
      "  \"Accessibility\": \"NA\",\n",
      "  \"Sound\": \"NA\",\n",
      "  \"Graphics & Art Design\": \"NA\"\n",
      "}\n",
      "```\n",
      "\n",
      "**Note:** The text does not provide information about the game's narrative, accessibility, sound, or graphics & art design, therefore I cannot extract the requested data.\n",
      "--------------------\n",
      "**JSON:**\n",
      "\n",
      "```json\n",
      "{\n",
      "  \"Performance\": \"Overall good magic card game\",\n",
      "  \"Bug\": \"Random algorithm for shuffling the deck has issues\",\n",
      "  \"Suggestion\": \"Allow specific card buying for coins\",\n",
      "  \"Price\": \"Cost is high\",\n",
      "  \"Overall\": \"Overall good magic card game\"\n",
      "}\n",
      "```\n",
      "--------------------\n"
     ]
    }
   ],
   "source": [
    "token_usage_json_list = []\n",
    "embedding_usage_info_list = []\n",
    "\n",
    "\n",
    "for (start, end) in [(0, 5), (5, 10)]:\n",
    "    aspects = GAME_ASPECTS[start:end]\n",
    "\n",
    "    my_question = _prompts.QUESTION_TEMPLATE_01 + f\"{'is ' if len(aspects) <= 1 else 'are '}\" + ': ' + f'{aspects}'\n",
    "    output_format = _prompts.OUTPUT_FORMAT_TEMPATE.format(\n",
    "        aspects_list_01=str(aspects)[1:-1].replace('\\'', '\\\"'), output_json_template=str({k: '...' for k in aspects}).replace('\\'', '\\\"')\n",
    "    )\n",
    "\n",
    "    relevant_docs = retriever.get_relevant_documents(query=my_question, k=5)\n",
    "\n",
    "\n",
    "    prompt = PromptTemplate(\n",
    "        template=_prompts.KEYWORD_TEMPLATE_01,\n",
    "        input_variables=[\"aspects\", 'output_format', 'summaries'],\n",
    "    )\n",
    "\n",
    "    chain = prompt | llm\n",
    "\n",
    "    _resp = chain.invoke({\n",
    "        \"aspects\": aspects,\n",
    "        \"output_format\": '',\n",
    "        \"summaries\": str('\\n'.join([d.page_content for d in relevant_docs]))\n",
    "    }, config=chain_config)\n",
    "\n",
    "    token_usage_json_list.append(common_deque.pop())\n",
    "\n",
    "    print(_resp); print('-'*20)"
   ]
  },
  {
   "cell_type": "code",
   "execution_count": 18,
   "metadata": {},
   "outputs": [
    {
     "data": {
      "text/plain": [
       "[{'token_usage': 317, 'time_costed': 2853313000},\n",
       " {'token_usage': 282, 'time_costed': 2171431000}]"
      ]
     },
     "execution_count": 18,
     "metadata": {},
     "output_type": "execute_result"
    }
   ],
   "source": [
    "token_usage_json_list"
   ]
  },
  {
   "cell_type": "markdown",
   "metadata": {},
   "source": [
    "---"
   ]
  },
  {
   "cell_type": "markdown",
   "metadata": {},
   "source": [
    "1 aspect per prompt, with output format"
   ]
  },
  {
   "cell_type": "code",
   "execution_count": 19,
   "metadata": {},
   "outputs": [
    {
     "name": "stderr",
     "output_type": "stream",
     "text": [
      "Number of requested results 5 is greater than number of elements in index 1, updating n_results = 1\n"
     ]
    },
    {
     "name": "stderr",
     "output_type": "stream",
     "text": [
      "Number of requested results 5 is greater than number of elements in index 1, updating n_results = 1\n"
     ]
    },
    {
     "name": "stdout",
     "output_type": "stream",
     "text": [
      "{\"Gameplay\": \"The gameplay has a major issue with the random algorithm for shuffling the deck, often resulting in either a major mana pocket or no mana at all for half of the deck regardless of deck size. The game also lacks specific card buying for coins, making it difficult to acquire a single card from an entire set of cards.\"}\n",
      "--------------------\n"
     ]
    },
    {
     "name": "stderr",
     "output_type": "stream",
     "text": [
      "Number of requested results 5 is greater than number of elements in index 1, updating n_results = 1\n"
     ]
    },
    {
     "name": "stdout",
     "output_type": "stream",
     "text": [
      "{\"Narrative\": \"The game's narrative is not present in the text, therefore I cannot extract the requested data.\"}\n",
      "\n",
      "NA\n",
      "--------------------\n"
     ]
    },
    {
     "name": "stderr",
     "output_type": "stream",
     "text": [
      "Number of requested results 5 is greater than number of elements in index 1, updating n_results = 1\n"
     ]
    },
    {
     "name": "stdout",
     "output_type": "stream",
     "text": [
      "{\"Accessibility\": \"The shuffling algorithm is inconsistent, often resulting in either a major mana pocket or no mana at all for half the deck. Card acquisition is challenging, requiring significant investment for a single card from a set. The cost of acquiring a single card is high, adjusted for rarity and value.\"}\n",
      "--------------------\n"
     ]
    },
    {
     "name": "stderr",
     "output_type": "stream",
     "text": [
      "Number of requested results 5 is greater than number of elements in index 1, updating n_results = 1\n"
     ]
    },
    {
     "name": "stdout",
     "output_type": "stream",
     "text": [
      "**JSON:**\n",
      "```\n",
      "{\"Sound\": \"The sound of the game is good, but the shuffling algorithm is random and often results in either a major mana pocket or no mana at all for half the deck, regardless of deck size.\"}\n",
      "```\n",
      "--------------------\n"
     ]
    },
    {
     "name": "stderr",
     "output_type": "stream",
     "text": [
      "Number of requested results 5 is greater than number of elements in index 1, updating n_results = 1\n"
     ]
    },
    {
     "name": "stdout",
     "output_type": "stream",
     "text": [
      "{\"Graphics & Art Design\": \"NA\"}\n",
      "\n",
      "The text does not describe the graphics or art design of the game, therefore I cannot extract the requested data.\n",
      "--------------------\n"
     ]
    },
    {
     "name": "stderr",
     "output_type": "stream",
     "text": [
      "Number of requested results 5 is greater than number of elements in index 1, updating n_results = 1\n"
     ]
    },
    {
     "name": "stdout",
     "output_type": "stream",
     "text": [
      "{\"Performance\": \"The shuffling algorithm is inconsistent, often resulting in either a major mana pocket or no mana at all for half the deck. The lack of specific card buying options and high cost of booster packs make it difficult to acquire specific cards.\"}\n",
      "--------------------\n"
     ]
    },
    {
     "name": "stderr",
     "output_type": "stream",
     "text": [
      "Number of requested results 5 is greater than number of elements in index 1, updating n_results = 1\n"
     ]
    },
    {
     "name": "stdout",
     "output_type": "stream",
     "text": [
      "**JSON:**\n",
      "```\n",
      "{\"Bug\": \"The shuffling algorithm is unreliable, often resulting in either a major mana pocket or no mana at all for half the deck. The lack of specific card buying for coins makes it difficult to acquire single cards from a set, and the cost of buying booster packs is high.\"}\n",
      "```\n",
      "--------------------\n"
     ]
    },
    {
     "name": "stderr",
     "output_type": "stream",
     "text": [
      "Number of requested results 5 is greater than number of elements in index 1, updating n_results = 1\n"
     ]
    },
    {
     "name": "stdout",
     "output_type": "stream",
     "text": [
      "{\"Suggestion\": \"The game needs a more refined shuffling algorithm and the ability to buy specific cards with coins.\"}\n",
      "\n",
      "This JSON extracted the \"Suggestion\" aspect from the reviews and summarizes it in a single paragraph.\n",
      "--------------------\n"
     ]
    },
    {
     "name": "stderr",
     "output_type": "stream",
     "text": [
      "Number of requested results 5 is greater than number of elements in index 1, updating n_results = 1\n"
     ]
    },
    {
     "name": "stdout",
     "output_type": "stream",
     "text": [
      "**JSON:**\n",
      "{\"Price\": \"The cost of getting a single card from an entire set of cards is very high, making it difficult to acquire specific cards. It would also be nice if the devs allowed for specific card buying for coins.\"}\n",
      "\n",
      "This JSON summarizes the aspect of \"Price\" from the reviews.\n",
      "--------------------\n",
      "{\"Overall\": \"The game is overall good, but the random algorithm for shuffling the deck is problematic. The cost of buying specific cards is also an issue.\"}\n",
      "\n",
      "This JSON summarizes the extracted aspects of the game from the reviews.\n",
      "--------------------\n"
     ]
    }
   ],
   "source": [
    "for aspect in GAME_ASPECTS:\n",
    "    my_question = _prompts.QUESTION_TEMPLATE_01 + f\"is {aspect}\"\n",
    "    output_format = _prompts.OUTPUT_FORMAT_TEMPATE.format(\n",
    "        aspects_list_01=str([aspect])[1:-1].replace('\\'', '\\\"'), output_json_template=str({aspect: '...'}).replace('\\'', '\\\"')\n",
    "    )\n",
    "\n",
    "    relevant_docs = retriever.get_relevant_documents(query=my_question, k=5)\n",
    "\n",
    "    prompt = PromptTemplate(\n",
    "        template=_prompts.KEYWORD_TEMPLATE_01,\n",
    "        input_variables=[\"aspects\", 'output_format', 'summaries'],\n",
    "    )\n",
    "\n",
    "    chain = prompt | llm\n",
    "\n",
    "    _resp = chain.invoke({\n",
    "        \"aspects\": [aspect],\n",
    "        \"output_format\": output_format,\n",
    "        \"summaries\": str('\\n'.join([d.page_content for d in relevant_docs]))\n",
    "    }, config=chain_config)\n",
    "\n",
    "    token_usage_json_list.append(common_deque.pop())\n",
    "\n",
    "    print(_resp); print('-'*20)"
   ]
  },
  {
   "cell_type": "code",
   "execution_count": 20,
   "metadata": {},
   "outputs": [
    {
     "data": {
      "text/plain": [
       "[{'token_usage': 317, 'time_costed': 2853313000},\n",
       " {'token_usage': 282, 'time_costed': 2171431000},\n",
       " {'token_usage': 302, 'time_costed': 2106226000},\n",
       " {'token_usage': 261, 'time_costed': 1207891000},\n",
       " {'token_usage': 295, 'time_costed': 1937669000},\n",
       " {'token_usage': 285, 'time_costed': 1739116000},\n",
       " {'token_usage': 275, 'time_costed': 1318208000},\n",
       " {'token_usage': 284, 'time_costed': 1699693000},\n",
       " {'token_usage': 300, 'time_costed': 2075509000},\n",
       " {'token_usage': 277, 'time_costed': 1587496000},\n",
       " {'token_usage': 298, 'time_costed': 2018890000},\n",
       " {'token_usage': 281, 'time_costed': 1634120000}]"
      ]
     },
     "execution_count": 20,
     "metadata": {},
     "output_type": "execute_result"
    }
   ],
   "source": [
    "token_usage_json_list"
   ]
  },
  {
   "cell_type": "markdown",
   "metadata": {},
   "source": [
    "1 aspect per prompt, without output format"
   ]
  },
  {
   "cell_type": "code",
   "execution_count": 21,
   "metadata": {},
   "outputs": [
    {
     "name": "stderr",
     "output_type": "stream",
     "text": [
      "Number of requested results 5 is greater than number of elements in index 1, updating n_results = 1\n"
     ]
    },
    {
     "name": "stderr",
     "output_type": "stream",
     "text": [
      "Number of requested results 5 is greater than number of elements in index 1, updating n_results = 1\n"
     ]
    },
    {
     "name": "stdout",
     "output_type": "stream",
     "text": [
      "**JSON:**\n",
      "\n",
      "```json\n",
      "{\n",
      "  \"Gameplay\": \"The gameplay is overall good, but the random algorithm for shuffling the deck is problematic. It often results in either hitting a major mana pocket or no mana at all for half of the deck, regardless of deck size. The game also lacks specific card buying for coins, making it difficult to obtain a single card from an entire set of cards.\"\n",
      "}\n",
      "```\n",
      "--------------------\n"
     ]
    },
    {
     "name": "stderr",
     "output_type": "stream",
     "text": [
      "Number of requested results 5 is greater than number of elements in index 1, updating n_results = 1\n"
     ]
    },
    {
     "name": "stdout",
     "output_type": "stream",
     "text": [
      "**JSON:**\n",
      "\n",
      "```json\n",
      "{\n",
      "  \"Narrative\": \"The game's narrative is not described in the text, therefore I cannot extract the requested data.\"\n",
      "}\n",
      "```\n",
      "\n",
      "The text does not describe the game's narrative, therefore I cannot extract the requested data.\n",
      "--------------------\n"
     ]
    },
    {
     "name": "stderr",
     "output_type": "stream",
     "text": [
      "Number of requested results 5 is greater than number of elements in index 1, updating n_results = 1\n"
     ]
    },
    {
     "name": "stdout",
     "output_type": "stream",
     "text": [
      "**JSON:**\n",
      "\n",
      "```json\n",
      "{\n",
      "  \"Accessibility\": \"The game has a major issue with its random shuffling algorithm, often resulting in unbalanced mana distribution or lack of mana altogether. It also lacks specific card buying functionality, making it difficult to acquire single cards from a set. These issues significantly impact accessibility.\"\n",
      "}\n",
      "```\n",
      "--------------------\n"
     ]
    },
    {
     "name": "stderr",
     "output_type": "stream",
     "text": [
      "Number of requested results 5 is greater than number of elements in index 1, updating n_results = 1\n"
     ]
    },
    {
     "name": "stdout",
     "output_type": "stream",
     "text": [
      "**JSON:**\n",
      "\n",
      "```json\n",
      "{\n",
      "  \"Sound\": \"The sound of the game is overall good, but the shuffling algorithm is inconsistent. It often results in either a major mana pocket or no mana at all for half of the deck, regardless of deck size.\"\n",
      "}\n",
      "```\n",
      "--------------------\n"
     ]
    },
    {
     "name": "stderr",
     "output_type": "stream",
     "text": [
      "Number of requested results 5 is greater than number of elements in index 1, updating n_results = 1\n"
     ]
    },
    {
     "name": "stdout",
     "output_type": "stream",
     "text": [
      "**JSON:**\n",
      "\n",
      "```json\n",
      "{\n",
      "  \"Graphics & Art Design\": \"NA\"\n",
      "}\n",
      "```\n",
      "\n",
      "The text does not describe the graphics or art design of the game, therefore I cannot extract the requested data.\n",
      "--------------------\n"
     ]
    },
    {
     "name": "stderr",
     "output_type": "stream",
     "text": [
      "Number of requested results 5 is greater than number of elements in index 1, updating n_results = 1\n"
     ]
    },
    {
     "name": "stdout",
     "output_type": "stream",
     "text": [
      "**JSON:**\n",
      "\n",
      "```json\n",
      "{\n",
      "  \"Performance\": \"The game's performance is good, but the random algorithm for shuffling the deck can be problematic. It often results in either a major mana pocket or no mana at all for half of the deck, regardless of deck size.\"\n",
      "}\n",
      "```\n",
      "\n",
      "**Note:** The text does not mention any other aspects of the game, therefore I cannot extract the requested data.\n",
      "--------------------\n"
     ]
    },
    {
     "name": "stderr",
     "output_type": "stream",
     "text": [
      "Number of requested results 5 is greater than number of elements in index 1, updating n_results = 1\n"
     ]
    },
    {
     "name": "stdout",
     "output_type": "stream",
     "text": [
      "**JSON:**\n",
      "\n",
      "```json\n",
      "{\n",
      "  \"Bug\": \"The shuffling algorithm is unreliable, often resulting in either a major mana pocket or no mana at all for half the deck. It is also difficult to acquire a single card from a set, requiring the purchase of booster packs.\"\n",
      "}\n",
      "```\n",
      "\n",
      "**Note:** The text does not mention any other aspects of the game besides \"Bug\", therefore I cannot extract the requested data.\n",
      "--------------------\n"
     ]
    },
    {
     "name": "stderr",
     "output_type": "stream",
     "text": [
      "Number of requested results 5 is greater than number of elements in index 1, updating n_results = 1\n"
     ]
    },
    {
     "name": "stdout",
     "output_type": "stream",
     "text": [
      "**JSON:**\n",
      "\n",
      "```json\n",
      "{\n",
      "  \"Suggestion\": \"The developer should allow specific card buying for coins, and the cost should be much higher than for booster packs, adjusted for card value and rarity.\"\n",
      "}\n",
      "```\n",
      "\n",
      "**Note:** The text does not specify other aspects of the game, therefore I cannot extract the requested data.\n",
      "--------------------\n"
     ]
    },
    {
     "name": "stderr",
     "output_type": "stream",
     "text": [
      "Number of requested results 5 is greater than number of elements in index 1, updating n_results = 1\n"
     ]
    },
    {
     "name": "stdout",
     "output_type": "stream",
     "text": [
      "**JSON:**\n",
      "\n",
      "```json\n",
      "{\n",
      "  \"Price\": \"The cost of acquiring a single card from an entire set of cards is very high, making it difficult to obtain a specific card. The cost would be much higher than for booster packs, adjusted for card value and rarity.\"\n",
      "}\n",
      "```\n",
      "\n",
      "**Note:** The text does not mention the price of booster packs, therefore I cannot provide an accurate comparison for the cost of acquiring a single card from an entire set of cards versus booster packs.\n",
      "--------------------\n",
      "**JSON:**\n",
      "\n",
      "```json\n",
      "{\n",
      "  \"Overall\": \"The game is overall good, but the random algorithm for shuffling the deck is problematic. It often results in either a major mana pocket or no mana at all for half of the deck, regardless of deck size. The game also lacks specific card buying for coins, making it difficult to obtain a single card from an entire set of cards. \"\n",
      "}\n",
      "```\n",
      "--------------------\n"
     ]
    }
   ],
   "source": [
    "for aspect in GAME_ASPECTS:\n",
    "    my_question = _prompts.QUESTION_TEMPLATE_01 + f\"is {aspect}\"\n",
    "    output_format = _prompts.OUTPUT_FORMAT_TEMPATE.format(\n",
    "        aspects_list_01=str([aspect])[1:-1].replace('\\'', '\\\"'), output_json_template=str({aspect: '...'}).replace('\\'', '\\\"')\n",
    "    )\n",
    "\n",
    "    relevant_docs = retriever.get_relevant_documents(query=my_question, k=5)\n",
    "\n",
    "    prompt = PromptTemplate(\n",
    "        template=_prompts.KEYWORD_TEMPLATE_01,\n",
    "        input_variables=[\"aspects\", 'output_format', 'summaries'],\n",
    "    )\n",
    "\n",
    "    chain = prompt | llm\n",
    "\n",
    "    _resp = chain.invoke({\n",
    "        \"aspects\": [aspect],\n",
    "        \"output_format\": '',\n",
    "        \"summaries\": str('\\n'.join([d.page_content for d in relevant_docs]))\n",
    "    }, config=chain_config)\n",
    "\n",
    "    token_usage_json_list.append(common_deque.pop())\n",
    "\n",
    "    print(_resp); print('-'*20)"
   ]
  }
 ],
 "metadata": {
  "kernelspec": {
   "display_name": "fyp-test-tm",
   "language": "python",
   "name": "python3"
  },
  "language_info": {
   "codemirror_mode": {
    "name": "ipython",
    "version": 3
   },
   "file_extension": ".py",
   "mimetype": "text/x-python",
   "name": "python",
   "nbconvert_exporter": "python",
   "pygments_lexer": "ipython3",
   "version": "3.9.18"
  }
 },
 "nbformat": 4,
 "nbformat_minor": 2
}
