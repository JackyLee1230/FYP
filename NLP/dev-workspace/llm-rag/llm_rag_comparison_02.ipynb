{
 "cells": [
  {
   "cell_type": "markdown",
   "metadata": {},
   "source": [
    "Evaluate different numbers of requested aspects per prompt"
   ]
  },
  {
   "cell_type": "code",
   "execution_count": 1,
   "metadata": {},
   "outputs": [],
   "source": [
    "import _sample_reviews"
   ]
  },
  {
   "cell_type": "code",
   "execution_count": 2,
   "metadata": {},
   "outputs": [
    {
     "name": "stdout",
     "output_type": "stream",
     "text": [
      "{'review_ID': 123, 'review_text': 'Great time! played many hours on console first! now trying to get my collection to switch to pc. Highly recommend', 'datetime': datetime.datetime(2024, 3, 21, 20, 29, 40, 18379), 'hash': 'abf1b1bcf2e9fd79ec6a032855ebfa590070c5537419055aee8d2d5d'}\n",
      "\n",
      "\n",
      "\n",
      "Len of review_text: 20\n"
     ]
    }
   ],
   "source": [
    "from datetime import datetime\n",
    "from hashlib import sha224\n",
    "\n",
    "# create an object with review_ID, review_text and the datetime of creation\n",
    "def create_review(review_text, review_ID):    \n",
    "    review_obj = {\n",
    "        \"review_ID\": review_ID,\n",
    "        \"review_text\": review_text,\n",
    "        \"datetime\": datetime.now()\n",
    "    }\n",
    "\n",
    "    # create a hash of the review_text for creating unique collection with Chromadb\n",
    "    hash = sha224(str(review_obj).encode()).hexdigest()\n",
    "    review_obj['hash'] = hash\n",
    "\n",
    "    return review_obj\n",
    "\n",
    "# the temporary review_ID\n",
    "review_ID = 123\n",
    "# select a comment to test with\n",
    "review_text = _sample_reviews.sample_fyp_433\n",
    "review_obj = create_review(review_text, review_ID)\n",
    "\n",
    "print(review_obj)\n",
    "print('\\n\\n')\n",
    "print('Len of review_text:', len(review_text.split()))\n"
   ]
  },
  {
   "cell_type": "code",
   "execution_count": 3,
   "metadata": {},
   "outputs": [],
   "source": [
    "# define the llm to run with (different LLMs)\n",
    "\n",
    "from langchain_community.llms import Ollama\n",
    "\n",
    "llm_mistral7b = Ollama(\n",
    "    model='mistral:7b-instruct-v0.2-q4_0', temperature=0.4,\n",
    "    num_gpu = 1,        # disable/enable gpu for testing\n",
    ")\n",
    "\n",
    "llm_mixtral8x7b = Ollama(\n",
    "    model='mixtral:8x7b-instruct-v0.1-q4_0', temperature=0.4,\n",
    "    num_gpu = 1,        # disable/enable gpu for testing\n",
    ")\n",
    "\n",
    "llm_llama2_7b = Ollama(\n",
    "    model='llama2:7b-chat-q4_0', temperature=0.4, num_gpu = 1\n",
    ")\n",
    "# llm_gemma_7b = Ollama()\n",
    "# llm_gemma_2b = Ollama()\n",
    "\n",
    "# for looping through the LLM models\n",
    "Llm_models = {\n",
    "    'mistral_7b': llm_mistral7b,\n",
    "    # 'mixtral_8x7b': llm_mixtral8x7b,\n",
    "    'llama2_7b': llm_llama2_7b\n",
    "}"
   ]
  },
  {
   "cell_type": "code",
   "execution_count": 4,
   "metadata": {},
   "outputs": [
    {
     "name": "stderr",
     "output_type": "stream",
     "text": [
      "/Users/michaelcheng/.local/lib/python3.9/site-packages/tqdm/auto.py:21: TqdmWarning: IProgress not found. Please update jupyter and ipywidgets. See https://ipywidgets.readthedocs.io/en/stable/user_install.html\n",
      "  from .autonotebook import tqdm as notebook_tqdm\n",
      "/Users/michaelcheng/miniforge3/envs/fyp-test-tm/lib/python3.9/site-packages/torch/_utils.py:831: UserWarning: TypedStorage is deprecated. It will be removed in the future and UntypedStorage will be the only storage class. This should only matter to you if you are using storages directly.  To access UntypedStorage directly, use tensor.untyped_storage() instead of tensor.storage()\n",
      "  return self.fget.__get__(instance, owner)()\n",
      "huggingface/tokenizers: The current process just got forked, after parallelism has already been used. Disabling parallelism to avoid deadlocks...\n",
      "To disable this warning, you can either:\n",
      "\t- Avoid using `tokenizers` before the fork if possible\n",
      "\t- Explicitly set the environment variable TOKENIZERS_PARALLELISM=(true | false)\n"
     ]
    }
   ],
   "source": [
    "# for embedding in testing, we use sentence transformer\n",
    "# sentence transformer embed text into vector space with dimension 384 for semantic search.\n",
    "\n",
    "from langchain_community.embeddings.sentence_transformer import (\n",
    "    SentenceTransformerEmbeddings,\n",
    ")\n",
    "from transformers import AutoTokenizer\n",
    "from langchain.text_splitter import RecursiveCharacterTextSplitter\n",
    "from langchain_community.document_loaders import TextLoader, DirectoryLoader\n",
    "from langchain.vectorstores import Chroma\n",
    "\n",
    "tokenizer = AutoTokenizer.from_pretrained(\"sentence-transformers/all-MiniLM-L6-v2\")\n",
    "\n",
    "embedding_func = SentenceTransformerEmbeddings(model_name=\"all-MiniLM-L6-v2\")\n",
    "\n",
    "def custom_len_func(text:str) -> int:\n",
    "  return len(tokenizer.encode(text, add_special_tokens=False))\n",
    "\n",
    "text_spliter = RecursiveCharacterTextSplitter.from_huggingface_tokenizer(\n",
    "  tokenizer=tokenizer,\n",
    "  chunk_size=250,\n",
    "  chunk_overlap=40,\n",
    ")\n",
    "\n",
    "docs = text_spliter.create_documents(\n",
    "  [review_obj['review_text']], metadatas=[{\"source\":\"review_01\"}]\n",
    ")\n",
    "\n",
    "# define in-memory db and retriever for RAG\n",
    "db = Chroma.from_documents(documents=docs, embedding=embedding_func, collection_name=review_obj['hash'])\n",
    "retriever = db.as_retriever(search_kwargs={\"k\": 5})"
   ]
  },
  {
   "cell_type": "code",
   "execution_count": 5,
   "metadata": {},
   "outputs": [],
   "source": [
    "# define callbacks for detecting token usage\n",
    "\n",
    "from langchain_core.callbacks.base import BaseCallbackHandler\n",
    "from langchain_core.outputs.llm_result import LLMResult\n",
    "from collections import deque\n",
    "\n",
    "class TokenUsageCallbackHandler(BaseCallbackHandler):\n",
    "\n",
    "    def __init__(self, deque: deque = None):\n",
    "        super().__init__()\n",
    "        self.deque = deque\n",
    "\n",
    "    def on_llm_end(self, response: LLMResult, **kwargs) -> None:\n",
    "        # print(response)\n",
    "\n",
    "        generation = response.generations[0][0]\n",
    "        gen_info = generation.generation_info\n",
    "\n",
    "        # get token usage\n",
    "        # ref: https://github.com/orgs/langfuse/discussions/1179\n",
    "        token_usage = gen_info.get('prompt_eval_count', 0) + gen_info.get('eval_count', 0)\n",
    "        # get time costed (local machine)\n",
    "        # instead of getting total duration, we get the prompt_eval_duration and eval_duration to exclude the load duration (e.g. to load the model to the gpu, etc.)\n",
    "        time_costed = gen_info.get('prompt_eval_duration', 1e-10) + gen_info.get('eval_duration', 1e-10)     # in ns, a small value to indicate a inf time when it fails\n",
    "\n",
    "\n",
    "        # create an object to store the token usage and time costed\n",
    "        token_usage_obj = {\n",
    "            'token_usage': token_usage,\n",
    "            'time_costed': time_costed\n",
    "        }\n",
    "\n",
    "        # append the object to the deque\n",
    "        self.deque.append(token_usage_obj)\n",
    "\n",
    "\n",
    "\n",
    "common_deque = deque()\n",
    "chain_config = {\n",
    "    \"callbacks\": [TokenUsageCallbackHandler(common_deque)],\n",
    "}"
   ]
  },
  {
   "cell_type": "code",
   "execution_count": 6,
   "metadata": {},
   "outputs": [],
   "source": [
    "def combine_token_usage_obj(token_usage_obj_list:list[dict]) -> dict:\n",
    "    token_usage = 0\n",
    "    time_costed = 0\n",
    "    for obj in token_usage_obj_list:\n",
    "        token_usage += obj['token_usage']\n",
    "        time_costed += obj['time_costed']\n",
    "\n",
    "    return {\n",
    "        'token_usage': token_usage,\n",
    "        'time_costed': time_costed\n",
    "    }"
   ]
  },
  {
   "cell_type": "markdown",
   "metadata": {},
   "source": [
    "---"
   ]
  },
  {
   "cell_type": "markdown",
   "metadata": {},
   "source": [
    "This notebook focus on different combination of aspects extraction (summarization)\n",
    "\n",
    "- one aspect per prompt\n",
    "- (2, 2, 2, 2, 2) (i.e. two aspects per prompt, a total of 5 prompts)\n",
    "- (3, 3, 4) (i.e. three aspects per prompt for first two, then 4 aspects in last prompt)\n",
    "- (5, 5) (i.e. five aspects per prompt)"
   ]
  },
  {
   "cell_type": "code",
   "execution_count": 7,
   "metadata": {},
   "outputs": [],
   "source": [
    "import _prompts"
   ]
  },
  {
   "cell_type": "code",
   "execution_count": 8,
   "metadata": {},
   "outputs": [],
   "source": [
    "from langchain_core.prompts import ChatPromptTemplate, PromptTemplate"
   ]
  },
  {
   "cell_type": "code",
   "execution_count": 9,
   "metadata": {},
   "outputs": [],
   "source": [
    "GAME_ASPECTS = ['Gameplay', 'Narrative', 'Accessibility', 'Sound', 'Graphics & Art Design', 'Performance', 'Bug', 'Suggestion', 'Price', 'Overall']"
   ]
  },
  {
   "cell_type": "markdown",
   "metadata": {},
   "source": [
    "one aspect per prompt"
   ]
  },
  {
   "cell_type": "code",
   "execution_count": 23,
   "metadata": {},
   "outputs": [],
   "source": [
    "def prompt_aspect_extraction_peraspect(llm_model_name:str, llm_model, repeat_count=5):\n",
    "    responses = {}\n",
    "\n",
    "    for aspect in GAME_ASPECTS:\n",
    "        responses[str([aspect])] = {}\n",
    "\n",
    "        rag_question = _prompts.QUESTION_TEMPLATE_01 + f\"{'is ' if len([aspect]) <= 1 else 'are '}\" + ': ' + f'{[aspect]}'\n",
    "        output_format_tempate = _prompts.OUTPUT_FORMAT_TEMPATE.format(\n",
    "            aspects_list_01=str([aspect])[1:-1].replace('\\'', '\\\"'), output_json_template=str({k: '...' for k in [aspect]}).replace('\\'', '\\\"')\n",
    "        )\n",
    "\n",
    "        relevant_docs = retriever.get_relevant_documents(query=rag_question, k=5)\n",
    "\n",
    "        for i in range(repeat_count):\n",
    "\n",
    "            chat_prompt_01 = ChatPromptTemplate.from_messages([\n",
    "                (\"system\", _prompts.SYSTEM_TEMPLATE),\n",
    "                (\"user\", _prompts.KEYWORD_TEMPLATE_01)\n",
    "            ])\n",
    "\n",
    "            chain_01 = chat_prompt_01 | llm_model\n",
    "\n",
    "            print('The prompt:', chat_prompt_01.format_messages(\n",
    "                aspects = str([aspect]),\n",
    "                output_format = output_format_tempate,\n",
    "                summaries = str('\\n'.join([d.page_content for d in relevant_docs]))\n",
    "            ))\n",
    "\n",
    "            resp_01 = chain_01.invoke({\n",
    "                \"aspects\":str([aspect]),\n",
    "                \"output_format\":output_format_tempate,\n",
    "                \"summaries\": str('\\n'.join([d.page_content for d in relevant_docs]))\n",
    "            }, config=chain_config)\n",
    "\n",
    "            token_usage_01 = common_deque.popleft()\n",
    "\n",
    "            # get token usage result and time costed\n",
    "            token_usage_result = combine_token_usage_obj([token_usage_01])\n",
    "\n",
    "            # show result:\n",
    "            print('-' * 10 + f'Result for {llm_model_name} at attempt={i+1}' + '-' * 10)\n",
    "            print(resp_01); print()\n",
    "            print('Token usage:', token_usage_result['token_usage'])\n",
    "            print('Time costed: {:.04} s'.format(float(token_usage_result['time_costed']) / 1e9))\n",
    "            print('\\n\\n')\n",
    "\n",
    "            responses[str([aspect])][f'attempt_{i}'] = {\n",
    "                'resp_01': resp_01,\n",
    "                'token_usage': token_usage_result['token_usage'],\n",
    "                'time_costed': token_usage_result['time_costed']\n",
    "            }\n",
    "\n",
    "    return responses"
   ]
  },
  {
   "cell_type": "markdown",
   "metadata": {},
   "source": [
    "(3, 3, 4) combination"
   ]
  },
  {
   "cell_type": "code",
   "execution_count": 11,
   "metadata": {},
   "outputs": [],
   "source": [
    "def prompt_aspect_extraction_334(llm_model_name:str, llm_model, repeat_count=5):\n",
    "\n",
    "    # aspects_response = {k: '' for k in GAME_ASPECTS}\n",
    "    responses = {}\n",
    "\n",
    "    for (start, end) in [(0, 3), (3, 6), (6, 10)]:\n",
    "        aspects = GAME_ASPECTS[start:end]\n",
    "        responses[str(aspects)] = {}        # storing the result\n",
    "\n",
    "        rag_question = _prompts.QUESTION_TEMPLATE_01 + f\"{'is ' if len(aspects) <= 1 else 'are '}\" + ': ' + f'{aspects}'\n",
    "        output_format_tempate = _prompts.OUTPUT_FORMAT_TEMPATE.format(\n",
    "            aspects_list_01=str(aspects)[1:-1].replace('\\'', '\\\"'), output_json_template=str({k: '...' for k in aspects}).replace('\\'', '\\\"')\n",
    "        )\n",
    "\n",
    "        relevant_docs = retriever.get_relevant_documents(query=rag_question, k=5)\n",
    "\n",
    "        for i in range(repeat_count):\n",
    "\n",
    "            chat_prompt_01 = ChatPromptTemplate.from_messages([\n",
    "                (\"system\", _prompts.SYSTEM_TEMPLATE),\n",
    "                (\"user\", _prompts.KEYWORD_TEMPLATE_01)\n",
    "            ])\n",
    "\n",
    "            chain_01 = chat_prompt_01 | llm_model\n",
    "\n",
    "            print('The prompt:', chat_prompt_01.format_messages(\n",
    "                aspects = str(aspects),\n",
    "                output_format = output_format_tempate,\n",
    "                summaries = str('\\n'.join([d.page_content for d in relevant_docs]))\n",
    "            ))\n",
    "\n",
    "            resp_01 = chain_01.invoke({\n",
    "                \"aspects\":str(aspects),\n",
    "                \"output_format\":output_format_tempate,\n",
    "                \"summaries\": str('\\n'.join([d.page_content for d in relevant_docs]))\n",
    "            }, config=chain_config)\n",
    "\n",
    "            token_usage_01 = common_deque.popleft()\n",
    "\n",
    "            # get token usage result and time costed\n",
    "            token_usage_result = combine_token_usage_obj([token_usage_01])\n",
    "\n",
    "            # show result:\n",
    "            print('-' * 10 + f'Result for {llm_model_name} at attempt={i+1}' + '-' * 10)\n",
    "            print(resp_01); print()\n",
    "            print('Token usage:', token_usage_result['token_usage'])\n",
    "            print('Time costed: {:.04} s'.format(float(token_usage_result['time_costed']) / 1e9))\n",
    "            print('\\n\\n')\n",
    "\n",
    "            responses[str(aspects)][f'attempt_{i}'] = {\n",
    "                'resp_01': resp_01,\n",
    "                'token_usage': token_usage_result['token_usage'],\n",
    "                'time_costed': token_usage_result['time_costed']\n",
    "            }\n",
    "\n",
    "    return responses\n"
   ]
  },
  {
   "cell_type": "markdown",
   "metadata": {},
   "source": [
    "(2, 2, 2, 2, 2) prompt"
   ]
  },
  {
   "cell_type": "code",
   "execution_count": 12,
   "metadata": {},
   "outputs": [],
   "source": [
    "def prompt_aspect_extraction_22222(llm_model_name:str, llm_model, repeat_count=5):\n",
    "\n",
    "    # aspects_response = {k: '' for k in GAME_ASPECTS}\n",
    "    responses = {}\n",
    "\n",
    "    for (start, end) in [(0, 2), (2, 4), (4, 6), (6, 8), (8, 10)]:\n",
    "        aspects = GAME_ASPECTS[start:end]\n",
    "        responses[str(aspects)] = {}        # storing the result\n",
    "\n",
    "        rag_question = _prompts.QUESTION_TEMPLATE_01 + f\"{'is ' if len(aspects) <= 1 else 'are '}\" + ': ' + f'{aspects}'\n",
    "        output_format_tempate = _prompts.OUTPUT_FORMAT_TEMPATE.format(\n",
    "            aspects_list_01=str(aspects)[1:-1].replace('\\'', '\\\"'), output_json_template=str({k: '...' for k in aspects}).replace('\\'', '\\\"')\n",
    "        )\n",
    "\n",
    "        relevant_docs = retriever.get_relevant_documents(query=rag_question, k=5)\n",
    "\n",
    "        for i in range(repeat_count):\n",
    "\n",
    "            chat_prompt_01 = ChatPromptTemplate.from_messages([\n",
    "                (\"system\", _prompts.SYSTEM_TEMPLATE),\n",
    "                (\"user\", _prompts.KEYWORD_TEMPLATE_01)\n",
    "            ])\n",
    "\n",
    "            chain_01 = chat_prompt_01 | llm_model\n",
    "\n",
    "            print('The prompt:', chat_prompt_01.format_messages(\n",
    "                aspects = str(aspects),\n",
    "                output_format = output_format_tempate,\n",
    "                summaries = str('\\n'.join([d.page_content for d in relevant_docs]))\n",
    "            ))\n",
    "\n",
    "            resp_01 = chain_01.invoke({\n",
    "                \"aspects\":str(aspects),\n",
    "                \"output_format\":output_format_tempate,\n",
    "                \"summaries\": str('\\n'.join([d.page_content for d in relevant_docs]))\n",
    "            }, config=chain_config)\n",
    "\n",
    "            token_usage_01 = common_deque.popleft()\n",
    "\n",
    "            # get token usage result and time costed\n",
    "            token_usage_result = combine_token_usage_obj([token_usage_01])\n",
    "\n",
    "            # show result:\n",
    "            print('-' * 10 + f'Result for {llm_model_name} at attempt={i+1}' + '-' * 10)\n",
    "            print(resp_01); print()\n",
    "            print('Token usage:', token_usage_result['token_usage'])\n",
    "            print('Time costed: {:.04} s'.format(float(token_usage_result['time_costed']) / 1e9))\n",
    "            print('\\n\\n')\n",
    "\n",
    "            responses[str(aspects)][f'attempt_{i}'] = {\n",
    "                'resp_01': resp_01,\n",
    "                'token_usage': token_usage_result['token_usage'],\n",
    "                'time_costed': token_usage_result['time_costed']\n",
    "            }\n",
    "\n",
    "    return responses\n"
   ]
  },
  {
   "cell_type": "markdown",
   "metadata": {},
   "source": [
    "(5, 5) approach"
   ]
  },
  {
   "cell_type": "code",
   "execution_count": 13,
   "metadata": {},
   "outputs": [],
   "source": [
    "def prompt_aspect_extraction_55(llm_model_name:str, llm_model, repeat_count=5):\n",
    "\n",
    "    # aspects_response = {k: '' for k in GAME_ASPECTS}\n",
    "    responses = {}\n",
    "\n",
    "    for (start, end) in [(0, 5), (5, 10)]:\n",
    "        aspects = GAME_ASPECTS[start:end]\n",
    "        responses[str(aspects)] = {}        # storing the result\n",
    "\n",
    "        rag_question = _prompts.QUESTION_TEMPLATE_01 + f\"{'is ' if len(aspects) <= 1 else 'are '}\" + ': ' + f'{aspects}'\n",
    "        output_format_tempate = _prompts.OUTPUT_FORMAT_TEMPATE.format(\n",
    "            aspects_list_01=str(aspects)[1:-1].replace('\\'', '\\\"'), output_json_template=str({k: '...' for k in aspects}).replace('\\'', '\\\"')\n",
    "        )\n",
    "\n",
    "        relevant_docs = retriever.get_relevant_documents(query=rag_question, k=5)\n",
    "\n",
    "        for i in range(repeat_count):\n",
    "\n",
    "            chat_prompt_01 = ChatPromptTemplate.from_messages([\n",
    "                (\"system\", _prompts.SYSTEM_TEMPLATE),\n",
    "                (\"user\", _prompts.KEYWORD_TEMPLATE_01)\n",
    "            ])\n",
    "\n",
    "            chain_01 = chat_prompt_01 | llm_model\n",
    "\n",
    "            print('The prompt:', chat_prompt_01.format_messages(\n",
    "                aspects = str(aspects),\n",
    "                output_format = output_format_tempate,\n",
    "                summaries = str('\\n'.join([d.page_content for d in relevant_docs]))\n",
    "            ))\n",
    "\n",
    "            resp_01 = chain_01.invoke({\n",
    "                \"aspects\":str(aspects),\n",
    "                \"output_format\":output_format_tempate,\n",
    "                \"summaries\": str('\\n'.join([d.page_content for d in relevant_docs]))\n",
    "            }, config=chain_config)\n",
    "\n",
    "            token_usage_01 = common_deque.popleft()\n",
    "\n",
    "            # get token usage result and time costed\n",
    "            token_usage_result = combine_token_usage_obj([token_usage_01])\n",
    "\n",
    "            # show result:\n",
    "            print('-' * 10 + f'Result for {llm_model_name} at attempt={i+1}' + '-' * 10)\n",
    "            print(resp_01); print()\n",
    "            print('Token usage:', token_usage_result['token_usage'])\n",
    "            print('Time costed: {:.04} s'.format(float(token_usage_result['time_costed']) / 1e9))\n",
    "            print('\\n\\n')\n",
    "\n",
    "            responses[str(aspects)][f'attempt_{i}'] = {\n",
    "                'resp_01': resp_01,\n",
    "                'token_usage': token_usage_result['token_usage'],\n",
    "                'time_costed': token_usage_result['time_costed']\n",
    "            }\n",
    "\n",
    "    return responses\n"
   ]
  },
  {
   "cell_type": "markdown",
   "metadata": {},
   "source": [
    "---"
   ]
  },
  {
   "cell_type": "markdown",
   "metadata": {},
   "source": [
    "LLAMA2"
   ]
  },
  {
   "cell_type": "code",
   "execution_count": 14,
   "metadata": {},
   "outputs": [],
   "source": [
    "APPROACHES = ['1111111111', '22222', '334', '55']"
   ]
  },
  {
   "cell_type": "code",
   "execution_count": 24,
   "metadata": {},
   "outputs": [
    {
     "name": "stderr",
     "output_type": "stream",
     "text": [
      "Number of requested results 5 is greater than number of elements in index 1, updating n_results = 1\n"
     ]
    },
    {
     "name": "stdout",
     "output_type": "stream",
     "text": [
      "Running with llama2_7b...\n",
      "The prompt: [SystemMessage(content=\"You are reading reviews of a game to understand the characteristics of the game. Use the following pieces of context to answer user's question.\"), HumanMessage(content='You are reading reviews of a game to understand the characteristics of the game. Extract the following aspect of the game from the reviews.\\nThe aspects are [\\'Gameplay\\']. For each aspect, output a paragraph with less than 50 words. Then create a JSON with apsects name as key and the paragraph as value.\\nOutput the JSON as a single line with no spaces between the key, value pairs. For example, if the aspects are \"Gameplay\", the JSON should be: {\"Gameplay\": \"...\"}\\nOnly output the JSON. Do NOT output other text.\\n\\nGreat time! played many hours on console first! now trying to get my collection to switch to pc. Highly recommend\\n\\nIf you don\\'t know the answer, output only \"NA\". Do NOT try to make up an answer. Do NOT output other text.')]\n"
     ]
    },
    {
     "name": "stderr",
     "output_type": "stream",
     "text": [
      "Number of requested results 5 is greater than number of elements in index 1, updating n_results = 1\n"
     ]
    },
    {
     "name": "stdout",
     "output_type": "stream",
     "text": [
      "----------Result for llama2_7b at attempt=1----------\n",
      "{\"Gameplay\": \"...Highly recommend\"}\n",
      "\n",
      "Token usage: 9\n",
      "Time costed: 0.3186 s\n",
      "\n",
      "\n",
      "\n",
      "The prompt: [SystemMessage(content=\"You are reading reviews of a game to understand the characteristics of the game. Use the following pieces of context to answer user's question.\"), HumanMessage(content='You are reading reviews of a game to understand the characteristics of the game. Extract the following aspect of the game from the reviews.\\nThe aspects are [\\'Narrative\\']. For each aspect, output a paragraph with less than 50 words. Then create a JSON with apsects name as key and the paragraph as value.\\nOutput the JSON as a single line with no spaces between the key, value pairs. For example, if the aspects are \"Narrative\", the JSON should be: {\"Narrative\": \"...\"}\\nOnly output the JSON. Do NOT output other text.\\n\\nGreat time! played many hours on console first! now trying to get my collection to switch to pc. Highly recommend\\n\\nIf you don\\'t know the answer, output only \"NA\". Do NOT try to make up an answer. Do NOT output other text.')]\n"
     ]
    },
    {
     "name": "stderr",
     "output_type": "stream",
     "text": [
      "Number of requested results 5 is greater than number of elements in index 1, updating n_results = 1\n"
     ]
    },
    {
     "name": "stdout",
     "output_type": "stream",
     "text": [
      "----------Result for llama2_7b at attempt=1----------\n",
      "{\"Narrative\": \"...\"}\n",
      "\n",
      "Token usage: 160\n",
      "Time costed: 0.4699 s\n",
      "\n",
      "\n",
      "\n",
      "The prompt: [SystemMessage(content=\"You are reading reviews of a game to understand the characteristics of the game. Use the following pieces of context to answer user's question.\"), HumanMessage(content='You are reading reviews of a game to understand the characteristics of the game. Extract the following aspect of the game from the reviews.\\nThe aspects are [\\'Accessibility\\']. For each aspect, output a paragraph with less than 50 words. Then create a JSON with apsects name as key and the paragraph as value.\\nOutput the JSON as a single line with no spaces between the key, value pairs. For example, if the aspects are \"Accessibility\", the JSON should be: {\"Accessibility\": \"...\"}\\nOnly output the JSON. Do NOT output other text.\\n\\nGreat time! played many hours on console first! now trying to get my collection to switch to pc. Highly recommend\\n\\nIf you don\\'t know the answer, output only \"NA\". Do NOT try to make up an answer. Do NOT output other text.')]\n"
     ]
    },
    {
     "name": "stderr",
     "output_type": "stream",
     "text": [
      "Number of requested results 5 is greater than number of elements in index 1, updating n_results = 1\n"
     ]
    },
    {
     "name": "stdout",
     "output_type": "stream",
     "text": [
      "----------Result for llama2_7b at attempt=1----------\n",
      "{\"Accessibility\": \"...\"}\n",
      "\n",
      "Token usage: 156\n",
      "Time costed: 0.4181 s\n",
      "\n",
      "\n",
      "\n",
      "The prompt: [SystemMessage(content=\"You are reading reviews of a game to understand the characteristics of the game. Use the following pieces of context to answer user's question.\"), HumanMessage(content='You are reading reviews of a game to understand the characteristics of the game. Extract the following aspect of the game from the reviews.\\nThe aspects are [\\'Sound\\']. For each aspect, output a paragraph with less than 50 words. Then create a JSON with apsects name as key and the paragraph as value.\\nOutput the JSON as a single line with no spaces between the key, value pairs. For example, if the aspects are \"Sound\", the JSON should be: {\"Sound\": \"...\"}\\nOnly output the JSON. Do NOT output other text.\\n\\nGreat time! played many hours on console first! now trying to get my collection to switch to pc. Highly recommend\\n\\nIf you don\\'t know the answer, output only \"NA\". Do NOT try to make up an answer. Do NOT output other text.')]\n"
     ]
    },
    {
     "name": "stderr",
     "output_type": "stream",
     "text": [
      "Number of requested results 5 is greater than number of elements in index 1, updating n_results = 1\n"
     ]
    },
    {
     "name": "stdout",
     "output_type": "stream",
     "text": [
      "----------Result for llama2_7b at attempt=1----------\n",
      "{\"Sound\": \"...Great time! played many hours on console first! now trying to get my collection to switch to pc.\"}\n",
      "\n",
      "Token usage: 174\n",
      "Time costed: 0.7543 s\n",
      "\n",
      "\n",
      "\n",
      "The prompt: [SystemMessage(content=\"You are reading reviews of a game to understand the characteristics of the game. Use the following pieces of context to answer user's question.\"), HumanMessage(content='You are reading reviews of a game to understand the characteristics of the game. Extract the following aspect of the game from the reviews.\\nThe aspects are [\\'Graphics & Art Design\\']. For each aspect, output a paragraph with less than 50 words. Then create a JSON with apsects name as key and the paragraph as value.\\nOutput the JSON as a single line with no spaces between the key, value pairs. For example, if the aspects are \"Graphics & Art Design\", the JSON should be: {\"Graphics & Art Design\": \"...\"}\\nOnly output the JSON. Do NOT output other text.\\n\\nGreat time! played many hours on console first! now trying to get my collection to switch to pc. Highly recommend\\n\\nIf you don\\'t know the answer, output only \"NA\". Do NOT try to make up an answer. Do NOT output other text.')]\n"
     ]
    },
    {
     "name": "stderr",
     "output_type": "stream",
     "text": [
      "Number of requested results 5 is greater than number of elements in index 1, updating n_results = 1\n"
     ]
    },
    {
     "name": "stdout",
     "output_type": "stream",
     "text": [
      "----------Result for llama2_7b at attempt=1----------\n",
      "{\"Graphics & Art Design\": \"...\"}\n",
      "\n",
      "Token usage: 164\n",
      "Time costed: 0.4436 s\n",
      "\n",
      "\n",
      "\n",
      "The prompt: [SystemMessage(content=\"You are reading reviews of a game to understand the characteristics of the game. Use the following pieces of context to answer user's question.\"), HumanMessage(content='You are reading reviews of a game to understand the characteristics of the game. Extract the following aspect of the game from the reviews.\\nThe aspects are [\\'Performance\\']. For each aspect, output a paragraph with less than 50 words. Then create a JSON with apsects name as key and the paragraph as value.\\nOutput the JSON as a single line with no spaces between the key, value pairs. For example, if the aspects are \"Performance\", the JSON should be: {\"Performance\": \"...\"}\\nOnly output the JSON. Do NOT output other text.\\n\\nGreat time! played many hours on console first! now trying to get my collection to switch to pc. Highly recommend\\n\\nIf you don\\'t know the answer, output only \"NA\". Do NOT try to make up an answer. Do NOT output other text.')]\n"
     ]
    },
    {
     "name": "stderr",
     "output_type": "stream",
     "text": [
      "Number of requested results 5 is greater than number of elements in index 1, updating n_results = 1\n"
     ]
    },
    {
     "name": "stdout",
     "output_type": "stream",
     "text": [
      "----------Result for llama2_7b at attempt=1----------\n",
      "{\"Performance\": \"...Highly recommend...\"}\n",
      "\n",
      "Token usage: 160\n",
      "Time costed: 0.4757 s\n",
      "\n",
      "\n",
      "\n",
      "The prompt: [SystemMessage(content=\"You are reading reviews of a game to understand the characteristics of the game. Use the following pieces of context to answer user's question.\"), HumanMessage(content='You are reading reviews of a game to understand the characteristics of the game. Extract the following aspect of the game from the reviews.\\nThe aspects are [\\'Bug\\']. For each aspect, output a paragraph with less than 50 words. Then create a JSON with apsects name as key and the paragraph as value.\\nOutput the JSON as a single line with no spaces between the key, value pairs. For example, if the aspects are \"Bug\", the JSON should be: {\"Bug\": \"...\"}\\nOnly output the JSON. Do NOT output other text.\\n\\nGreat time! played many hours on console first! now trying to get my collection to switch to pc. Highly recommend\\n\\nIf you don\\'t know the answer, output only \"NA\". Do NOT try to make up an answer. Do NOT output other text.')]\n"
     ]
    },
    {
     "name": "stderr",
     "output_type": "stream",
     "text": [
      "Number of requested results 5 is greater than number of elements in index 1, updating n_results = 1\n"
     ]
    },
    {
     "name": "stdout",
     "output_type": "stream",
     "text": [
      "----------Result for llama2_7b at attempt=1----------\n",
      "{\"Bug\": \"...\"}\n",
      "\n",
      "Token usage: 156\n",
      "Time costed: 0.4183 s\n",
      "\n",
      "\n",
      "\n",
      "The prompt: [SystemMessage(content=\"You are reading reviews of a game to understand the characteristics of the game. Use the following pieces of context to answer user's question.\"), HumanMessage(content='You are reading reviews of a game to understand the characteristics of the game. Extract the following aspect of the game from the reviews.\\nThe aspects are [\\'Suggestion\\']. For each aspect, output a paragraph with less than 50 words. Then create a JSON with apsects name as key and the paragraph as value.\\nOutput the JSON as a single line with no spaces between the key, value pairs. For example, if the aspects are \"Suggestion\", the JSON should be: {\"Suggestion\": \"...\"}\\nOnly output the JSON. Do NOT output other text.\\n\\nGreat time! played many hours on console first! now trying to get my collection to switch to pc. Highly recommend\\n\\nIf you don\\'t know the answer, output only \"NA\". Do NOT try to make up an answer. Do NOT output other text.')]\n"
     ]
    },
    {
     "name": "stderr",
     "output_type": "stream",
     "text": [
      "Number of requested results 5 is greater than number of elements in index 1, updating n_results = 1\n"
     ]
    },
    {
     "name": "stdout",
     "output_type": "stream",
     "text": [
      "----------Result for llama2_7b at attempt=1----------\n",
      "{\"Suggestion\": \"...Highly recommend...\"}\n",
      "\n",
      "Token usage: 164\n",
      "Time costed: 0.4892 s\n",
      "\n",
      "\n",
      "\n",
      "The prompt: [SystemMessage(content=\"You are reading reviews of a game to understand the characteristics of the game. Use the following pieces of context to answer user's question.\"), HumanMessage(content='You are reading reviews of a game to understand the characteristics of the game. Extract the following aspect of the game from the reviews.\\nThe aspects are [\\'Price\\']. For each aspect, output a paragraph with less than 50 words. Then create a JSON with apsects name as key and the paragraph as value.\\nOutput the JSON as a single line with no spaces between the key, value pairs. For example, if the aspects are \"Price\", the JSON should be: {\"Price\": \"...\"}\\nOnly output the JSON. Do NOT output other text.\\n\\nGreat time! played many hours on console first! now trying to get my collection to switch to pc. Highly recommend\\n\\nIf you don\\'t know the answer, output only \"NA\". Do NOT try to make up an answer. Do NOT output other text.')]\n"
     ]
    },
    {
     "name": "stderr",
     "output_type": "stream",
     "text": [
      "Number of requested results 5 is greater than number of elements in index 1, updating n_results = 1\n"
     ]
    },
    {
     "name": "stdout",
     "output_type": "stream",
     "text": [
      "----------Result for llama2_7b at attempt=1----------\n",
      "{\"Price\": \"...\"}\n",
      "\n",
      "Token usage: 152\n",
      "Time costed: 0.3927 s\n",
      "\n",
      "\n",
      "\n",
      "The prompt: [SystemMessage(content=\"You are reading reviews of a game to understand the characteristics of the game. Use the following pieces of context to answer user's question.\"), HumanMessage(content='You are reading reviews of a game to understand the characteristics of the game. Extract the following aspect of the game from the reviews.\\nThe aspects are [\\'Overall\\']. For each aspect, output a paragraph with less than 50 words. Then create a JSON with apsects name as key and the paragraph as value.\\nOutput the JSON as a single line with no spaces between the key, value pairs. For example, if the aspects are \"Overall\", the JSON should be: {\"Overall\": \"...\"}\\nOnly output the JSON. Do NOT output other text.\\n\\nGreat time! played many hours on console first! now trying to get my collection to switch to pc. Highly recommend\\n\\nIf you don\\'t know the answer, output only \"NA\". Do NOT try to make up an answer. Do NOT output other text.')]\n"
     ]
    },
    {
     "name": "stderr",
     "output_type": "stream",
     "text": [
      "Number of requested results 5 is greater than number of elements in index 1, updating n_results = 1\n"
     ]
    },
    {
     "name": "stdout",
     "output_type": "stream",
     "text": [
      "----------Result for llama2_7b at attempt=1----------\n",
      "{\"Overall\": \"... Great time! played many hours on console first! now trying to get my collection to switch to pc. Highly recommend ...\"}\n",
      "\n",
      "Token usage: 181\n",
      "Time costed: 0.8356 s\n",
      "\n",
      "\n",
      "\n",
      "The prompt: [SystemMessage(content=\"You are reading reviews of a game to understand the characteristics of the game. Use the following pieces of context to answer user's question.\"), HumanMessage(content='You are reading reviews of a game to understand the characteristics of the game. Extract the following aspect of the game from the reviews.\\nThe aspects are [\\'Gameplay\\', \\'Narrative\\']. For each aspect, output a paragraph with less than 50 words. Then create a JSON with apsects name as key and the paragraph as value.\\nOutput the JSON as a single line with no spaces between the key, value pairs. For example, if the aspects are \"Gameplay\", \"Narrative\", the JSON should be: {\"Gameplay\": \"...\", \"Narrative\": \"...\"}\\nOnly output the JSON. Do NOT output other text.\\n\\nGreat time! played many hours on console first! now trying to get my collection to switch to pc. Highly recommend\\n\\nIf you don\\'t know the answer, output only \"NA\". Do NOT try to make up an answer. Do NOT output other text.')]\n"
     ]
    },
    {
     "name": "stderr",
     "output_type": "stream",
     "text": [
      "Number of requested results 5 is greater than number of elements in index 1, updating n_results = 1\n"
     ]
    },
    {
     "name": "stdout",
     "output_type": "stream",
     "text": [
      "----------Result for llama2_7b at attempt=1----------\n",
      "{\"Gameplay\": \"...\", \"Narrative\": \"...\"}\n",
      "\n",
      "Token usage: 180\n",
      "Time costed: 0.5943 s\n",
      "\n",
      "\n",
      "\n",
      "The prompt: [SystemMessage(content=\"You are reading reviews of a game to understand the characteristics of the game. Use the following pieces of context to answer user's question.\"), HumanMessage(content='You are reading reviews of a game to understand the characteristics of the game. Extract the following aspect of the game from the reviews.\\nThe aspects are [\\'Accessibility\\', \\'Sound\\']. For each aspect, output a paragraph with less than 50 words. Then create a JSON with apsects name as key and the paragraph as value.\\nOutput the JSON as a single line with no spaces between the key, value pairs. For example, if the aspects are \"Accessibility\", \"Sound\", the JSON should be: {\"Accessibility\": \"...\", \"Sound\": \"...\"}\\nOnly output the JSON. Do NOT output other text.\\n\\nGreat time! played many hours on console first! now trying to get my collection to switch to pc. Highly recommend\\n\\nIf you don\\'t know the answer, output only \"NA\". Do NOT try to make up an answer. Do NOT output other text.')]\n"
     ]
    },
    {
     "name": "stderr",
     "output_type": "stream",
     "text": [
      "Number of requested results 5 is greater than number of elements in index 1, updating n_results = 1\n"
     ]
    },
    {
     "name": "stdout",
     "output_type": "stream",
     "text": [
      "----------Result for llama2_7b at attempt=1----------\n",
      "{\"Accessibility\": \"Highly accessible and easy to play for all ages.\", \"Sound\": \"Rich and immersive soundtrack adds to the gaming experience.\"}\n",
      "\n",
      "Token usage: 196\n",
      "Time costed: 0.9585 s\n",
      "\n",
      "\n",
      "\n",
      "The prompt: [SystemMessage(content=\"You are reading reviews of a game to understand the characteristics of the game. Use the following pieces of context to answer user's question.\"), HumanMessage(content='You are reading reviews of a game to understand the characteristics of the game. Extract the following aspect of the game from the reviews.\\nThe aspects are [\\'Graphics & Art Design\\', \\'Performance\\']. For each aspect, output a paragraph with less than 50 words. Then create a JSON with apsects name as key and the paragraph as value.\\nOutput the JSON as a single line with no spaces between the key, value pairs. For example, if the aspects are \"Graphics & Art Design\", \"Performance\", the JSON should be: {\"Graphics & Art Design\": \"...\", \"Performance\": \"...\"}\\nOnly output the JSON. Do NOT output other text.\\n\\nGreat time! played many hours on console first! now trying to get my collection to switch to pc. Highly recommend\\n\\nIf you don\\'t know the answer, output only \"NA\". Do NOT try to make up an answer. Do NOT output other text.')]\n"
     ]
    },
    {
     "name": "stderr",
     "output_type": "stream",
     "text": [
      "Number of requested results 5 is greater than number of elements in index 1, updating n_results = 1\n"
     ]
    },
    {
     "name": "stdout",
     "output_type": "stream",
     "text": [
      "----------Result for llama2_7b at attempt=1----------\n",
      "{\"Graphics & Art Design\": \"...\", \"Performance\": \"...\"}\n",
      "\n",
      "Token usage: 184\n",
      "Time costed: 0.5965 s\n",
      "\n",
      "\n",
      "\n",
      "The prompt: [SystemMessage(content=\"You are reading reviews of a game to understand the characteristics of the game. Use the following pieces of context to answer user's question.\"), HumanMessage(content='You are reading reviews of a game to understand the characteristics of the game. Extract the following aspect of the game from the reviews.\\nThe aspects are [\\'Bug\\', \\'Suggestion\\']. For each aspect, output a paragraph with less than 50 words. Then create a JSON with apsects name as key and the paragraph as value.\\nOutput the JSON as a single line with no spaces between the key, value pairs. For example, if the aspects are \"Bug\", \"Suggestion\", the JSON should be: {\"Bug\": \"...\", \"Suggestion\": \"...\"}\\nOnly output the JSON. Do NOT output other text.\\n\\nGreat time! played many hours on console first! now trying to get my collection to switch to pc. Highly recommend\\n\\nIf you don\\'t know the answer, output only \"NA\". Do NOT try to make up an answer. Do NOT output other text.')]\n"
     ]
    },
    {
     "name": "stderr",
     "output_type": "stream",
     "text": [
      "Number of requested results 5 is greater than number of elements in index 1, updating n_results = 1\n"
     ]
    },
    {
     "name": "stdout",
     "output_type": "stream",
     "text": [
      "----------Result for llama2_7b at attempt=1----------\n",
      "{\"Bug\": \"...\", \"Suggestion\": \"...\"}\n",
      "\n",
      "Token usage: 180\n",
      "Time costed: 0.5794 s\n",
      "\n",
      "\n",
      "\n",
      "The prompt: [SystemMessage(content=\"You are reading reviews of a game to understand the characteristics of the game. Use the following pieces of context to answer user's question.\"), HumanMessage(content='You are reading reviews of a game to understand the characteristics of the game. Extract the following aspect of the game from the reviews.\\nThe aspects are [\\'Price\\', \\'Overall\\']. For each aspect, output a paragraph with less than 50 words. Then create a JSON with apsects name as key and the paragraph as value.\\nOutput the JSON as a single line with no spaces between the key, value pairs. For example, if the aspects are \"Price\", \"Overall\", the JSON should be: {\"Price\": \"...\", \"Overall\": \"...\"}\\nOnly output the JSON. Do NOT output other text.\\n\\nGreat time! played many hours on console first! now trying to get my collection to switch to pc. Highly recommend\\n\\nIf you don\\'t know the answer, output only \"NA\". Do NOT try to make up an answer. Do NOT output other text.')]\n"
     ]
    },
    {
     "name": "stderr",
     "output_type": "stream",
     "text": [
      "Number of requested results 5 is greater than number of elements in index 1, updating n_results = 1\n"
     ]
    },
    {
     "name": "stdout",
     "output_type": "stream",
     "text": [
      "----------Result for llama2_7b at attempt=1----------\n",
      "{\"Price\": \"...\", \"Overall\": \"...\"}\n",
      "\n",
      "Token usage: 172\n",
      "Time costed: 0.5451 s\n",
      "\n",
      "\n",
      "\n",
      "The prompt: [SystemMessage(content=\"You are reading reviews of a game to understand the characteristics of the game. Use the following pieces of context to answer user's question.\"), HumanMessage(content='You are reading reviews of a game to understand the characteristics of the game. Extract the following aspect of the game from the reviews.\\nThe aspects are [\\'Gameplay\\', \\'Narrative\\', \\'Accessibility\\']. For each aspect, output a paragraph with less than 50 words. Then create a JSON with apsects name as key and the paragraph as value.\\nOutput the JSON as a single line with no spaces between the key, value pairs. For example, if the aspects are \"Gameplay\", \"Narrative\", \"Accessibility\", the JSON should be: {\"Gameplay\": \"...\", \"Narrative\": \"...\", \"Accessibility\": \"...\"}\\nOnly output the JSON. Do NOT output other text.\\n\\nGreat time! played many hours on console first! now trying to get my collection to switch to pc. Highly recommend\\n\\nIf you don\\'t know the answer, output only \"NA\". Do NOT try to make up an answer. Do NOT output other text.')]\n"
     ]
    },
    {
     "name": "stderr",
     "output_type": "stream",
     "text": [
      "Number of requested results 5 is greater than number of elements in index 1, updating n_results = 1\n"
     ]
    },
    {
     "name": "stdout",
     "output_type": "stream",
     "text": [
      "----------Result for llama2_7b at attempt=1----------\n",
      "{\"Gameplay\": \"Great time! played many hours on console first! now trying to get my collection to switch to pc.\", \"Narrative\": \"NA\", \"Accessibility\": \"NA\"}\n",
      "\n",
      "Token usage: 223\n",
      "Time costed: 1.061 s\n",
      "\n",
      "\n",
      "\n",
      "The prompt: [SystemMessage(content=\"You are reading reviews of a game to understand the characteristics of the game. Use the following pieces of context to answer user's question.\"), HumanMessage(content='You are reading reviews of a game to understand the characteristics of the game. Extract the following aspect of the game from the reviews.\\nThe aspects are [\\'Sound\\', \\'Graphics & Art Design\\', \\'Performance\\']. For each aspect, output a paragraph with less than 50 words. Then create a JSON with apsects name as key and the paragraph as value.\\nOutput the JSON as a single line with no spaces between the key, value pairs. For example, if the aspects are \"Sound\", \"Graphics & Art Design\", \"Performance\", the JSON should be: {\"Sound\": \"...\", \"Graphics & Art Design\": \"...\", \"Performance\": \"...\"}\\nOnly output the JSON. Do NOT output other text.\\n\\nGreat time! played many hours on console first! now trying to get my collection to switch to pc. Highly recommend\\n\\nIf you don\\'t know the answer, output only \"NA\". Do NOT try to make up an answer. Do NOT output other text.')]\n"
     ]
    },
    {
     "name": "stderr",
     "output_type": "stream",
     "text": [
      "Number of requested results 5 is greater than number of elements in index 1, updating n_results = 1\n"
     ]
    },
    {
     "name": "stdout",
     "output_type": "stream",
     "text": [
      "----------Result for llama2_7b at attempt=1----------\n",
      "{\"Sound\": \"...\", \"Graphics & Art Design\": \"...\", \"Performance\": \"...\"}\n",
      "\n",
      "Token usage: 200\n",
      "Time costed: 0.6915 s\n",
      "\n",
      "\n",
      "\n",
      "The prompt: [SystemMessage(content=\"You are reading reviews of a game to understand the characteristics of the game. Use the following pieces of context to answer user's question.\"), HumanMessage(content='You are reading reviews of a game to understand the characteristics of the game. Extract the following aspect of the game from the reviews.\\nThe aspects are [\\'Bug\\', \\'Suggestion\\', \\'Price\\', \\'Overall\\']. For each aspect, output a paragraph with less than 50 words. Then create a JSON with apsects name as key and the paragraph as value.\\nOutput the JSON as a single line with no spaces between the key, value pairs. For example, if the aspects are \"Bug\", \"Suggestion\", \"Price\", \"Overall\", the JSON should be: {\"Bug\": \"...\", \"Suggestion\": \"...\", \"Price\": \"...\", \"Overall\": \"...\"}\\nOnly output the JSON. Do NOT output other text.\\n\\nGreat time! played many hours on console first! now trying to get my collection to switch to pc. Highly recommend\\n\\nIf you don\\'t know the answer, output only \"NA\". Do NOT try to make up an answer. Do NOT output other text.')]\n"
     ]
    },
    {
     "name": "stderr",
     "output_type": "stream",
     "text": [
      "Number of requested results 5 is greater than number of elements in index 1, updating n_results = 1\n"
     ]
    },
    {
     "name": "stdout",
     "output_type": "stream",
     "text": [
      "----------Result for llama2_7b at attempt=1----------\n",
      "{\"Bug\": \"...\", \"Suggestion\": \"...\", \"Price\": \"...\", \"Overall\": \"Highly recommend\"}\n",
      "\n",
      "Token usage: 219\n",
      "Time costed: 0.8358 s\n",
      "\n",
      "\n",
      "\n",
      "The prompt: [SystemMessage(content=\"You are reading reviews of a game to understand the characteristics of the game. Use the following pieces of context to answer user's question.\"), HumanMessage(content='You are reading reviews of a game to understand the characteristics of the game. Extract the following aspect of the game from the reviews.\\nThe aspects are [\\'Gameplay\\', \\'Narrative\\', \\'Accessibility\\', \\'Sound\\', \\'Graphics & Art Design\\']. For each aspect, output a paragraph with less than 50 words. Then create a JSON with apsects name as key and the paragraph as value.\\nOutput the JSON as a single line with no spaces between the key, value pairs. For example, if the aspects are \"Gameplay\", \"Narrative\", \"Accessibility\", \"Sound\", \"Graphics & Art Design\", the JSON should be: {\"Gameplay\": \"...\", \"Narrative\": \"...\", \"Accessibility\": \"...\", \"Sound\": \"...\", \"Graphics & Art Design\": \"...\"}\\nOnly output the JSON. Do NOT output other text.\\n\\nGreat time! played many hours on console first! now trying to get my collection to switch to pc. Highly recommend\\n\\nIf you don\\'t know the answer, output only \"NA\". Do NOT try to make up an answer. Do NOT output other text.')]\n"
     ]
    },
    {
     "name": "stderr",
     "output_type": "stream",
     "text": [
      "Number of requested results 5 is greater than number of elements in index 1, updating n_results = 1\n"
     ]
    },
    {
     "name": "stdout",
     "output_type": "stream",
     "text": [
      "----------Result for llama2_7b at attempt=1----------\n",
      "{\"Gameplay\": \"Great time! played many hours on console first! now trying to get my collection to switch to pc.\", \"Narrative\": \"NA\", \"Accessibility\": \"NA\", \"Sound\": \"NA\", \"Graphics & Art Design\": \"NA\"}\n",
      "\n",
      "Token usage: 269\n",
      "Time costed: 1.403 s\n",
      "\n",
      "\n",
      "\n",
      "The prompt: [SystemMessage(content=\"You are reading reviews of a game to understand the characteristics of the game. Use the following pieces of context to answer user's question.\"), HumanMessage(content='You are reading reviews of a game to understand the characteristics of the game. Extract the following aspect of the game from the reviews.\\nThe aspects are [\\'Performance\\', \\'Bug\\', \\'Suggestion\\', \\'Price\\', \\'Overall\\']. For each aspect, output a paragraph with less than 50 words. Then create a JSON with apsects name as key and the paragraph as value.\\nOutput the JSON as a single line with no spaces between the key, value pairs. For example, if the aspects are \"Performance\", \"Bug\", \"Suggestion\", \"Price\", \"Overall\", the JSON should be: {\"Performance\": \"...\", \"Bug\": \"...\", \"Suggestion\": \"...\", \"Price\": \"...\", \"Overall\": \"...\"}\\nOnly output the JSON. Do NOT output other text.\\n\\nGreat time! played many hours on console first! now trying to get my collection to switch to pc. Highly recommend\\n\\nIf you don\\'t know the answer, output only \"NA\". Do NOT try to make up an answer. Do NOT output other text.')]\n",
      "----------Result for llama2_7b at attempt=1----------\n",
      "{\"Performance\": \"Great time! played many hours on console first! now trying to get my collection to switch to pc.\", \"Bug\": \"NA\", \"Suggestion\": \"NA\", \"Price\": \"NA\", \"Overall\": \"Highly recommend\"}\n",
      "\n",
      "Token usage: 263\n",
      "Time costed: 1.428 s\n",
      "\n",
      "\n",
      "\n"
     ]
    }
   ],
   "source": [
    "llama2_7b_result = {}\n",
    "llm_model_name = 'llama2_7b'\n",
    "\n",
    "print(f'Running with {llm_model_name}...')\n",
    "\n",
    "llama2_7b_result[APPROACHES[0]] = prompt_aspect_extraction_peraspect(llm_model_name, llm_llama2_7b, repeat_count=1)\n",
    "llama2_7b_result[APPROACHES[1]] = prompt_aspect_extraction_22222(llm_model_name, llm_llama2_7b, repeat_count=1)\n",
    "llama2_7b_result[APPROACHES[2]] = prompt_aspect_extraction_334(llm_model_name, llm_llama2_7b, repeat_count=1)\n",
    "llama2_7b_result[APPROACHES[3]] = prompt_aspect_extraction_55(llm_model_name, llm_llama2_7b, repeat_count=1)"
   ]
  },
  {
   "cell_type": "code",
   "execution_count": 28,
   "metadata": {},
   "outputs": [],
   "source": [
    "# printing result for different approaches\n",
    "\n",
    "def print_result(result:dict, approach:str):\n",
    "    if approach == APPROACHES[0]:\n",
    "        for aspect in GAME_ASPECTS:\n",
    "            # can print different attempts by changing the attempt number\n",
    "            print(result[str([aspect])]['attempt_0']['resp_01'])\n",
    "\n",
    "    if approach == APPROACHES[1]:\n",
    "        for (start, end) in [(0, 2), (2, 4), (4, 6), (6, 8), (8, 10)]:\n",
    "            aspects = GAME_ASPECTS[start:end]\n",
    "            print(result[str(aspects)]['attempt_0']['resp_01'])\n",
    "\n",
    "    if approach == APPROACHES[2]:\n",
    "        for (start, end) in [(0, 3), (3, 6), (6, 10)]:\n",
    "            aspects = GAME_ASPECTS[start:end]\n",
    "            print(result[str(aspects)]['attempt_0']['resp_01'])\n",
    "\n",
    "    if approach == APPROACHES[3]:\n",
    "        for (start, end) in [(0, 5), (5, 10)]:\n",
    "            aspects = GAME_ASPECTS[start:end]\n",
    "            print(result[str(aspects)]['attempt_0']['resp_01'])\n",
    "\n",
    "def get_approach_token_usage(result:dict, approach:str):\n",
    "    if approach == APPROACHES[0]:\n",
    "        token_usage_list = []\n",
    "        for aspect in GAME_ASPECTS:\n",
    "            token_usage_list.append(result[str([aspect])]['attempt_0']['token_usage'])\n",
    "\n",
    "        return sum(token_usage_list)\n",
    "\n",
    "    if approach == APPROACHES[1]:\n",
    "        token_usage_list = []\n",
    "        for (start, end) in [(0, 2), (2, 4), (4, 6), (6, 8), (8, 10)]:\n",
    "            aspects = GAME_ASPECTS[start:end]\n",
    "            token_usage_list.append(result[str(aspects)]['attempt_0']['token_usage'])\n",
    "\n",
    "        return sum(token_usage_list)\n",
    "\n",
    "    if approach == APPROACHES[2]:\n",
    "        token_usage_list = []\n",
    "        for (start, end) in [(0, 3), (3, 6), (6, 10)]:\n",
    "            aspects = GAME_ASPECTS[start:end]\n",
    "            token_usage_list.append(result[str(aspects)]['attempt_0']['token_usage'])\n",
    "\n",
    "        return sum(token_usage_list)\n",
    "\n",
    "    if approach == APPROACHES[3]:\n",
    "        token_usage_list = []\n",
    "        for (start, end) in [(0, 5), (5, 10)]:\n",
    "            aspects = GAME_ASPECTS[start:end]\n",
    "            token_usage_list.append(result[str(aspects)]['attempt_0']['token_usage'])\n",
    "\n",
    "        return sum(token_usage_list)\n",
    "    \n",
    "def get_approach_time_used(result:dict, approach:str):\n",
    "    if approach == APPROACHES[0]:\n",
    "        time_used_list = []\n",
    "        for aspect in GAME_ASPECTS:\n",
    "            time_used_list.append(result[str([aspect])]['attempt_0']['time_costed'])\n",
    "\n",
    "        return sum(time_used_list)\n",
    "\n",
    "    if approach == APPROACHES[1]:\n",
    "        time_used_list = []\n",
    "        for (start, end) in [(0, 2), (2, 4), (4, 6), (6, 8), (8, 10)]:\n",
    "            aspects = GAME_ASPECTS[start:end]\n",
    "            time_used_list.append(result[str(aspects)]['attempt_0']['time_costed'])\n",
    "\n",
    "        return sum(time_used_list)\n",
    "\n",
    "    if approach == APPROACHES[2]:\n",
    "        time_used_list = []\n",
    "        for (start, end) in [(0, 3), (3, 6), (6, 10)]:\n",
    "            aspects = GAME_ASPECTS[start:end]\n",
    "            time_used_list.append(result[str(aspects)]['attempt_0']['time_costed'])\n",
    "\n",
    "        return sum(time_used_list)\n",
    "\n",
    "    if approach == APPROACHES[3]:\n",
    "        time_used_list = []\n",
    "        for (start, end) in [(0, 5), (5, 10)]:\n",
    "            aspects = GAME_ASPECTS[start:end]\n",
    "            time_used_list.append(result[str(aspects)]['attempt_0']['time_costed'])\n",
    "\n",
    "        return sum(time_used_list)\n",
    "            "
   ]
  },
  {
   "cell_type": "code",
   "execution_count": 29,
   "metadata": {},
   "outputs": [
    {
     "name": "stdout",
     "output_type": "stream",
     "text": [
      "\n",
      "\n",
      "\n",
      "\n",
      "----------Result for llama2_7b----------\n",
      "Approach: 1111111111\n",
      "{\"Gameplay\": \"...Highly recommend\"}\n",
      "{\"Narrative\": \"...\"}\n",
      "{\"Accessibility\": \"...\"}\n",
      "{\"Sound\": \"...Great time! played many hours on console first! now trying to get my collection to switch to pc.\"}\n",
      "{\"Graphics & Art Design\": \"...\"}\n",
      "{\"Performance\": \"...Highly recommend...\"}\n",
      "{\"Bug\": \"...\"}\n",
      "{\"Suggestion\": \"...Highly recommend...\"}\n",
      "{\"Price\": \"...\"}\n",
      "{\"Overall\": \"... Great time! played many hours on console first! now trying to get my collection to switch to pc. Highly recommend ...\"}\n",
      "Token usage: 1476\n",
      "Time used: 5.016 s\n",
      "\n",
      "\n",
      "\n",
      "Approach: 22222\n",
      "{\"Gameplay\": \"...\", \"Narrative\": \"...\"}\n",
      "{\"Accessibility\": \"Highly accessible and easy to play for all ages.\", \"Sound\": \"Rich and immersive soundtrack adds to the gaming experience.\"}\n",
      "{\"Graphics & Art Design\": \"...\", \"Performance\": \"...\"}\n",
      "{\"Bug\": \"...\", \"Suggestion\": \"...\"}\n",
      "{\"Price\": \"...\", \"Overall\": \"...\"}\n",
      "Token usage: 912\n",
      "Time used: 3.274 s\n",
      "\n",
      "\n",
      "\n",
      "Approach: 334\n",
      "{\"Gameplay\": \"Great time! played many hours on console first! now trying to get my collection to switch to pc.\", \"Narrative\": \"NA\", \"Accessibility\": \"NA\"}\n",
      "{\"Sound\": \"...\", \"Graphics & Art Design\": \"...\", \"Performance\": \"...\"}\n",
      "{\"Bug\": \"...\", \"Suggestion\": \"...\", \"Price\": \"...\", \"Overall\": \"Highly recommend\"}\n",
      "Token usage: 642\n",
      "Time used: 2.588 s\n",
      "\n",
      "\n",
      "\n",
      "Approach: 55\n",
      "{\"Gameplay\": \"Great time! played many hours on console first! now trying to get my collection to switch to pc.\", \"Narrative\": \"NA\", \"Accessibility\": \"NA\", \"Sound\": \"NA\", \"Graphics & Art Design\": \"NA\"}\n",
      "{\"Performance\": \"Great time! played many hours on console first! now trying to get my collection to switch to pc.\", \"Bug\": \"NA\", \"Suggestion\": \"NA\", \"Price\": \"NA\", \"Overall\": \"Highly recommend\"}\n",
      "Token usage: 532\n",
      "Time used: 2.831 s\n",
      "\n",
      "\n",
      "\n"
     ]
    }
   ],
   "source": [
    "print('\\n\\n\\n')\n",
    "print('-' * 10 + 'Result for llama2_7b' + '-' * 10)\n",
    "for approach in APPROACHES:\n",
    "    print(f'Approach: {approach}')\n",
    "    print_result(llama2_7b_result[approach], approach)\n",
    "    print('Token usage:', get_approach_token_usage(llama2_7b_result[approach], approach))\n",
    "    print('Time used: {:.04} s'.format(float(get_approach_time_used(llama2_7b_result[approach], approach)) / 1e9))\n",
    "    print('\\n\\n')"
   ]
  },
  {
   "cell_type": "markdown",
   "metadata": {},
   "source": [
    "MISTRAL-7B"
   ]
  },
  {
   "cell_type": "code",
   "execution_count": 30,
   "metadata": {},
   "outputs": [
    {
     "name": "stderr",
     "output_type": "stream",
     "text": [
      "Number of requested results 5 is greater than number of elements in index 1, updating n_results = 1\n"
     ]
    },
    {
     "name": "stdout",
     "output_type": "stream",
     "text": [
      "Running with mistral_7b...\n",
      "The prompt: [SystemMessage(content=\"You are reading reviews of a game to understand the characteristics of the game. Use the following pieces of context to answer user's question.\"), HumanMessage(content='You are reading reviews of a game to understand the characteristics of the game. Extract the following aspect of the game from the reviews.\\nThe aspects are [\\'Gameplay\\']. For each aspect, output a paragraph with less than 50 words. Then create a JSON with apsects name as key and the paragraph as value.\\nOutput the JSON as a single line with no spaces between the key, value pairs. For example, if the aspects are \"Gameplay\", the JSON should be: {\"Gameplay\": \"...\"}\\nOnly output the JSON. Do NOT output other text.\\n\\nGreat time! played many hours on console first! now trying to get my collection to switch to pc. Highly recommend\\n\\nIf you don\\'t know the answer, output only \"NA\". Do NOT try to make up an answer. Do NOT output other text.')]\n"
     ]
    },
    {
     "name": "stderr",
     "output_type": "stream",
     "text": [
      "Number of requested results 5 is greater than number of elements in index 1, updating n_results = 1\n"
     ]
    },
    {
     "name": "stdout",
     "output_type": "stream",
     "text": [
      "----------Result for mistral_7b at attempt=1----------\n",
      " {\"Gameplay\": \"Users have invested significant time into the gameplay on console and highly recommend it.\"}\n",
      "\n",
      "Token usage: 242\n",
      "Time costed: 0.8235 s\n",
      "\n",
      "\n",
      "\n",
      "The prompt: [SystemMessage(content=\"You are reading reviews of a game to understand the characteristics of the game. Use the following pieces of context to answer user's question.\"), HumanMessage(content='You are reading reviews of a game to understand the characteristics of the game. Extract the following aspect of the game from the reviews.\\nThe aspects are [\\'Narrative\\']. For each aspect, output a paragraph with less than 50 words. Then create a JSON with apsects name as key and the paragraph as value.\\nOutput the JSON as a single line with no spaces between the key, value pairs. For example, if the aspects are \"Narrative\", the JSON should be: {\"Narrative\": \"...\"}\\nOnly output the JSON. Do NOT output other text.\\n\\nGreat time! played many hours on console first! now trying to get my collection to switch to pc. Highly recommend\\n\\nIf you don\\'t know the answer, output only \"NA\". Do NOT try to make up an answer. Do NOT output other text.')]\n"
     ]
    },
    {
     "name": "stderr",
     "output_type": "stream",
     "text": [
      "Number of requested results 5 is greater than number of elements in index 1, updating n_results = 1\n"
     ]
    },
    {
     "name": "stdout",
     "output_type": "stream",
     "text": [
      "----------Result for mistral_7b at attempt=1----------\n",
      " {\"Narrative\": \"Players have invested many hours into the game's narrative on console and highly recommend it.\"}\n",
      "\n",
      "Token usage: 178\n",
      "Time costed: 0.7648 s\n",
      "\n",
      "\n",
      "\n",
      "The prompt: [SystemMessage(content=\"You are reading reviews of a game to understand the characteristics of the game. Use the following pieces of context to answer user's question.\"), HumanMessage(content='You are reading reviews of a game to understand the characteristics of the game. Extract the following aspect of the game from the reviews.\\nThe aspects are [\\'Accessibility\\']. For each aspect, output a paragraph with less than 50 words. Then create a JSON with apsects name as key and the paragraph as value.\\nOutput the JSON as a single line with no spaces between the key, value pairs. For example, if the aspects are \"Accessibility\", the JSON should be: {\"Accessibility\": \"...\"}\\nOnly output the JSON. Do NOT output other text.\\n\\nGreat time! played many hours on console first! now trying to get my collection to switch to pc. Highly recommend\\n\\nIf you don\\'t know the answer, output only \"NA\". Do NOT try to make up an answer. Do NOT output other text.')]\n"
     ]
    },
    {
     "name": "stderr",
     "output_type": "stream",
     "text": [
      "Number of requested results 5 is greater than number of elements in index 1, updating n_results = 1\n"
     ]
    },
    {
     "name": "stdout",
     "output_type": "stream",
     "text": [
      "----------Result for mistral_7b at attempt=1----------\n",
      " {\"Accessibility\": \"The game is enjoyable with many hours of playtime on console. Some users are trying to switch their collection to PC version.\"}\n",
      "\n",
      "Token usage: 180\n",
      "Time costed: 0.8489 s\n",
      "\n",
      "\n",
      "\n",
      "The prompt: [SystemMessage(content=\"You are reading reviews of a game to understand the characteristics of the game. Use the following pieces of context to answer user's question.\"), HumanMessage(content='You are reading reviews of a game to understand the characteristics of the game. Extract the following aspect of the game from the reviews.\\nThe aspects are [\\'Sound\\']. For each aspect, output a paragraph with less than 50 words. Then create a JSON with apsects name as key and the paragraph as value.\\nOutput the JSON as a single line with no spaces between the key, value pairs. For example, if the aspects are \"Sound\", the JSON should be: {\"Sound\": \"...\"}\\nOnly output the JSON. Do NOT output other text.\\n\\nGreat time! played many hours on console first! now trying to get my collection to switch to pc. Highly recommend\\n\\nIf you don\\'t know the answer, output only \"NA\". Do NOT try to make up an answer. Do NOT output other text.')]\n"
     ]
    },
    {
     "name": "stderr",
     "output_type": "stream",
     "text": [
      "Number of requested results 5 is greater than number of elements in index 1, updating n_results = 1\n"
     ]
    },
    {
     "name": "stdout",
     "output_type": "stream",
     "text": [
      "----------Result for mistral_7b at attempt=1----------\n",
      " {\"Sound\": \"Reviews mention playing the game for many hours on console and now trying to switch to PC. No specific comments about the sound aspect.\"}\n",
      "\n",
      "NA\n",
      "\n",
      "Token usage: 181\n",
      "Time costed: 0.9127 s\n",
      "\n",
      "\n",
      "\n",
      "The prompt: [SystemMessage(content=\"You are reading reviews of a game to understand the characteristics of the game. Use the following pieces of context to answer user's question.\"), HumanMessage(content='You are reading reviews of a game to understand the characteristics of the game. Extract the following aspect of the game from the reviews.\\nThe aspects are [\\'Graphics & Art Design\\']. For each aspect, output a paragraph with less than 50 words. Then create a JSON with apsects name as key and the paragraph as value.\\nOutput the JSON as a single line with no spaces between the key, value pairs. For example, if the aspects are \"Graphics & Art Design\", the JSON should be: {\"Graphics & Art Design\": \"...\"}\\nOnly output the JSON. Do NOT output other text.\\n\\nGreat time! played many hours on console first! now trying to get my collection to switch to pc. Highly recommend\\n\\nIf you don\\'t know the answer, output only \"NA\". Do NOT try to make up an answer. Do NOT output other text.')]\n"
     ]
    },
    {
     "name": "stderr",
     "output_type": "stream",
     "text": [
      "Number of requested results 5 is greater than number of elements in index 1, updating n_results = 1\n"
     ]
    },
    {
     "name": "stdout",
     "output_type": "stream",
     "text": [
      "----------Result for mistral_7b at attempt=1----------\n",
      " {\"Graphics & Art Design\": \"The game's graphics have been praised by many reviewers, making the switch from console to PC worthwhile.\"}\n",
      "\n",
      "Token usage: 186\n",
      "Time costed: 0.8489 s\n",
      "\n",
      "\n",
      "\n",
      "The prompt: [SystemMessage(content=\"You are reading reviews of a game to understand the characteristics of the game. Use the following pieces of context to answer user's question.\"), HumanMessage(content='You are reading reviews of a game to understand the characteristics of the game. Extract the following aspect of the game from the reviews.\\nThe aspects are [\\'Performance\\']. For each aspect, output a paragraph with less than 50 words. Then create a JSON with apsects name as key and the paragraph as value.\\nOutput the JSON as a single line with no spaces between the key, value pairs. For example, if the aspects are \"Performance\", the JSON should be: {\"Performance\": \"...\"}\\nOnly output the JSON. Do NOT output other text.\\n\\nGreat time! played many hours on console first! now trying to get my collection to switch to pc. Highly recommend\\n\\nIf you don\\'t know the answer, output only \"NA\". Do NOT try to make up an answer. Do NOT output other text.')]\n"
     ]
    },
    {
     "name": "stderr",
     "output_type": "stream",
     "text": [
      "Number of requested results 5 is greater than number of elements in index 1, updating n_results = 1\n"
     ]
    },
    {
     "name": "stdout",
     "output_type": "stream",
     "text": [
      "----------Result for mistral_7b at attempt=1----------\n",
      " {\"Performance\": \"Played many hours on console and now trying to get collection to switch to PC, highly recommends it.\"}\n",
      "\n",
      "Token usage: 177\n",
      "Time costed: 0.7948 s\n",
      "\n",
      "\n",
      "\n",
      "The prompt: [SystemMessage(content=\"You are reading reviews of a game to understand the characteristics of the game. Use the following pieces of context to answer user's question.\"), HumanMessage(content='You are reading reviews of a game to understand the characteristics of the game. Extract the following aspect of the game from the reviews.\\nThe aspects are [\\'Bug\\']. For each aspect, output a paragraph with less than 50 words. Then create a JSON with apsects name as key and the paragraph as value.\\nOutput the JSON as a single line with no spaces between the key, value pairs. For example, if the aspects are \"Bug\", the JSON should be: {\"Bug\": \"...\"}\\nOnly output the JSON. Do NOT output other text.\\n\\nGreat time! played many hours on console first! now trying to get my collection to switch to pc. Highly recommend\\n\\nIf you don\\'t know the answer, output only \"NA\". Do NOT try to make up an answer. Do NOT output other text.')]\n"
     ]
    },
    {
     "name": "stderr",
     "output_type": "stream",
     "text": [
      "Number of requested results 5 is greater than number of elements in index 1, updating n_results = 1\n"
     ]
    },
    {
     "name": "stdout",
     "output_type": "stream",
     "text": [
      "----------Result for mistral_7b at attempt=1----------\n",
      " NA\n",
      "{\"Bug\": \"The reviews do not provide sufficient information about bugs in the game.\"}\n",
      "\n",
      "Token usage: 170\n",
      "Time costed: 0.683 s\n",
      "\n",
      "\n",
      "\n",
      "The prompt: [SystemMessage(content=\"You are reading reviews of a game to understand the characteristics of the game. Use the following pieces of context to answer user's question.\"), HumanMessage(content='You are reading reviews of a game to understand the characteristics of the game. Extract the following aspect of the game from the reviews.\\nThe aspects are [\\'Suggestion\\']. For each aspect, output a paragraph with less than 50 words. Then create a JSON with apsects name as key and the paragraph as value.\\nOutput the JSON as a single line with no spaces between the key, value pairs. For example, if the aspects are \"Suggestion\", the JSON should be: {\"Suggestion\": \"...\"}\\nOnly output the JSON. Do NOT output other text.\\n\\nGreat time! played many hours on console first! now trying to get my collection to switch to pc. Highly recommend\\n\\nIf you don\\'t know the answer, output only \"NA\". Do NOT try to make up an answer. Do NOT output other text.')]\n"
     ]
    },
    {
     "name": "stderr",
     "output_type": "stream",
     "text": [
      "Number of requested results 5 is greater than number of elements in index 1, updating n_results = 1\n"
     ]
    },
    {
     "name": "stdout",
     "output_type": "stream",
     "text": [
      "----------Result for mistral_7b at attempt=1----------\n",
      " {\"Suggestion\": \"The game is highly recommended for playing on both console and PC.\"}\n",
      "\n",
      "Token usage: 172\n",
      "Time costed: 0.6663 s\n",
      "\n",
      "\n",
      "\n",
      "The prompt: [SystemMessage(content=\"You are reading reviews of a game to understand the characteristics of the game. Use the following pieces of context to answer user's question.\"), HumanMessage(content='You are reading reviews of a game to understand the characteristics of the game. Extract the following aspect of the game from the reviews.\\nThe aspects are [\\'Price\\']. For each aspect, output a paragraph with less than 50 words. Then create a JSON with apsects name as key and the paragraph as value.\\nOutput the JSON as a single line with no spaces between the key, value pairs. For example, if the aspects are \"Price\", the JSON should be: {\"Price\": \"...\"}\\nOnly output the JSON. Do NOT output other text.\\n\\nGreat time! played many hours on console first! now trying to get my collection to switch to pc. Highly recommend\\n\\nIf you don\\'t know the answer, output only \"NA\". Do NOT try to make up an answer. Do NOT output other text.')]\n"
     ]
    },
    {
     "name": "stderr",
     "output_type": "stream",
     "text": [
      "Number of requested results 5 is greater than number of elements in index 1, updating n_results = 1\n"
     ]
    },
    {
     "name": "stdout",
     "output_type": "stream",
     "text": [
      "----------Result for mistral_7b at attempt=1----------\n",
      " NA\n",
      "\n",
      "Token usage: 147\n",
      "Time costed: 0.347 s\n",
      "\n",
      "\n",
      "\n",
      "The prompt: [SystemMessage(content=\"You are reading reviews of a game to understand the characteristics of the game. Use the following pieces of context to answer user's question.\"), HumanMessage(content='You are reading reviews of a game to understand the characteristics of the game. Extract the following aspect of the game from the reviews.\\nThe aspects are [\\'Overall\\']. For each aspect, output a paragraph with less than 50 words. Then create a JSON with apsects name as key and the paragraph as value.\\nOutput the JSON as a single line with no spaces between the key, value pairs. For example, if the aspects are \"Overall\", the JSON should be: {\"Overall\": \"...\"}\\nOnly output the JSON. Do NOT output other text.\\n\\nGreat time! played many hours on console first! now trying to get my collection to switch to pc. Highly recommend\\n\\nIf you don\\'t know the answer, output only \"NA\". Do NOT try to make up an answer. Do NOT output other text.')]\n"
     ]
    },
    {
     "name": "stderr",
     "output_type": "stream",
     "text": [
      "Number of requested results 5 is greater than number of elements in index 1, updating n_results = 1\n"
     ]
    },
    {
     "name": "stdout",
     "output_type": "stream",
     "text": [
      "----------Result for mistral_7b at attempt=1----------\n",
      " {\"Overall\": \"The game has been played for many hours on console and the reviewer is trying to collect it on PC, indicating a positive experience.\"}\n",
      "\n",
      "Token usage: 182\n",
      "Time costed: 0.8821 s\n",
      "\n",
      "\n",
      "\n",
      "The prompt: [SystemMessage(content=\"You are reading reviews of a game to understand the characteristics of the game. Use the following pieces of context to answer user's question.\"), HumanMessage(content='You are reading reviews of a game to understand the characteristics of the game. Extract the following aspect of the game from the reviews.\\nThe aspects are [\\'Gameplay\\', \\'Narrative\\']. For each aspect, output a paragraph with less than 50 words. Then create a JSON with apsects name as key and the paragraph as value.\\nOutput the JSON as a single line with no spaces between the key, value pairs. For example, if the aspects are \"Gameplay\", \"Narrative\", the JSON should be: {\"Gameplay\": \"...\", \"Narrative\": \"...\"}\\nOnly output the JSON. Do NOT output other text.\\n\\nGreat time! played many hours on console first! now trying to get my collection to switch to pc. Highly recommend\\n\\nIf you don\\'t know the answer, output only \"NA\". Do NOT try to make up an answer. Do NOT output other text.')]\n"
     ]
    },
    {
     "name": "stderr",
     "output_type": "stream",
     "text": [
      "Number of requested results 5 is greater than number of elements in index 1, updating n_results = 1\n"
     ]
    },
    {
     "name": "stdout",
     "output_type": "stream",
     "text": [
      "----------Result for mistral_7b at attempt=1----------\n",
      " {\"Gameplay\": \"Provides engaging experience, played for multiple hours.\", \"Narrative\": \"NA\"}\n",
      "\n",
      "Token usage: 190\n",
      "Time costed: 0.7736 s\n",
      "\n",
      "\n",
      "\n",
      "The prompt: [SystemMessage(content=\"You are reading reviews of a game to understand the characteristics of the game. Use the following pieces of context to answer user's question.\"), HumanMessage(content='You are reading reviews of a game to understand the characteristics of the game. Extract the following aspect of the game from the reviews.\\nThe aspects are [\\'Accessibility\\', \\'Sound\\']. For each aspect, output a paragraph with less than 50 words. Then create a JSON with apsects name as key and the paragraph as value.\\nOutput the JSON as a single line with no spaces between the key, value pairs. For example, if the aspects are \"Accessibility\", \"Sound\", the JSON should be: {\"Accessibility\": \"...\", \"Sound\": \"...\"}\\nOnly output the JSON. Do NOT output other text.\\n\\nGreat time! played many hours on console first! now trying to get my collection to switch to pc. Highly recommend\\n\\nIf you don\\'t know the answer, output only \"NA\". Do NOT try to make up an answer. Do NOT output other text.')]\n"
     ]
    },
    {
     "name": "stderr",
     "output_type": "stream",
     "text": [
      "Number of requested results 5 is greater than number of elements in index 1, updating n_results = 1\n"
     ]
    },
    {
     "name": "stdout",
     "output_type": "stream",
     "text": [
      "----------Result for mistral_7b at attempt=1----------\n",
      " {\"Accessibility\": \"Played many hours on console and now trying to get collection to switch to PC\", \"Sound\": \"NA\"}\n",
      "\n",
      "Token usage: 189\n",
      "Time costed: 0.8547 s\n",
      "\n",
      "\n",
      "\n",
      "The prompt: [SystemMessage(content=\"You are reading reviews of a game to understand the characteristics of the game. Use the following pieces of context to answer user's question.\"), HumanMessage(content='You are reading reviews of a game to understand the characteristics of the game. Extract the following aspect of the game from the reviews.\\nThe aspects are [\\'Graphics & Art Design\\', \\'Performance\\']. For each aspect, output a paragraph with less than 50 words. Then create a JSON with apsects name as key and the paragraph as value.\\nOutput the JSON as a single line with no spaces between the key, value pairs. For example, if the aspects are \"Graphics & Art Design\", \"Performance\", the JSON should be: {\"Graphics & Art Design\": \"...\", \"Performance\": \"...\"}\\nOnly output the JSON. Do NOT output other text.\\n\\nGreat time! played many hours on console first! now trying to get my collection to switch to pc. Highly recommend\\n\\nIf you don\\'t know the answer, output only \"NA\". Do NOT try to make up an answer. Do NOT output other text.')]\n"
     ]
    },
    {
     "name": "stderr",
     "output_type": "stream",
     "text": [
      "Number of requested results 5 is greater than number of elements in index 1, updating n_results = 1\n"
     ]
    },
    {
     "name": "stdout",
     "output_type": "stream",
     "text": [
      "----------Result for mistral_7b at attempt=1----------\n",
      " {\"Graphics & Art Design\": \"The game's graphics have held up well during long play sessions on console.\", \"Performance\": \"Switching to PC is worth it for improved performance.\"}\n",
      "\n",
      "Token usage: 210\n",
      "Time costed: 1.063 s\n",
      "\n",
      "\n",
      "\n",
      "The prompt: [SystemMessage(content=\"You are reading reviews of a game to understand the characteristics of the game. Use the following pieces of context to answer user's question.\"), HumanMessage(content='You are reading reviews of a game to understand the characteristics of the game. Extract the following aspect of the game from the reviews.\\nThe aspects are [\\'Bug\\', \\'Suggestion\\']. For each aspect, output a paragraph with less than 50 words. Then create a JSON with apsects name as key and the paragraph as value.\\nOutput the JSON as a single line with no spaces between the key, value pairs. For example, if the aspects are \"Bug\", \"Suggestion\", the JSON should be: {\"Bug\": \"...\", \"Suggestion\": \"...\"}\\nOnly output the JSON. Do NOT output other text.\\n\\nGreat time! played many hours on console first! now trying to get my collection to switch to pc. Highly recommend\\n\\nIf you don\\'t know the answer, output only \"NA\". Do NOT try to make up an answer. Do NOT output other text.')]\n"
     ]
    },
    {
     "name": "stderr",
     "output_type": "stream",
     "text": [
      "Number of requested results 5 is greater than number of elements in index 1, updating n_results = 1\n"
     ]
    },
    {
     "name": "stdout",
     "output_type": "stream",
     "text": [
      "----------Result for mistral_7b at attempt=1----------\n",
      " {\"Bug\": \"NA\", \"Suggestion\": \"The user has recommended switching from console to PC version of the game.\"}\n",
      "\n",
      "Token usage: 195\n",
      "Time costed: 0.8561 s\n",
      "\n",
      "\n",
      "\n",
      "The prompt: [SystemMessage(content=\"You are reading reviews of a game to understand the characteristics of the game. Use the following pieces of context to answer user's question.\"), HumanMessage(content='You are reading reviews of a game to understand the characteristics of the game. Extract the following aspect of the game from the reviews.\\nThe aspects are [\\'Price\\', \\'Overall\\']. For each aspect, output a paragraph with less than 50 words. Then create a JSON with apsects name as key and the paragraph as value.\\nOutput the JSON as a single line with no spaces between the key, value pairs. For example, if the aspects are \"Price\", \"Overall\", the JSON should be: {\"Price\": \"...\", \"Overall\": \"...\"}\\nOnly output the JSON. Do NOT output other text.\\n\\nGreat time! played many hours on console first! now trying to get my collection to switch to pc. Highly recommend\\n\\nIf you don\\'t know the answer, output only \"NA\". Do NOT try to make up an answer. Do NOT output other text.')]\n"
     ]
    },
    {
     "name": "stderr",
     "output_type": "stream",
     "text": [
      "Number of requested results 5 is greater than number of elements in index 1, updating n_results = 1\n"
     ]
    },
    {
     "name": "stdout",
     "output_type": "stream",
     "text": [
      "----------Result for mistral_7b at attempt=1----------\n",
      " {\"Price\": \"NA\", \"Overall\": \"The user has played many hours on the console version and recommends switching to PC, implying a positive experience with the game.\"}\n",
      "\n",
      "Token usage: 199\n",
      "Time costed: 1.025 s\n",
      "\n",
      "\n",
      "\n",
      "The prompt: [SystemMessage(content=\"You are reading reviews of a game to understand the characteristics of the game. Use the following pieces of context to answer user's question.\"), HumanMessage(content='You are reading reviews of a game to understand the characteristics of the game. Extract the following aspect of the game from the reviews.\\nThe aspects are [\\'Gameplay\\', \\'Narrative\\', \\'Accessibility\\']. For each aspect, output a paragraph with less than 50 words. Then create a JSON with apsects name as key and the paragraph as value.\\nOutput the JSON as a single line with no spaces between the key, value pairs. For example, if the aspects are \"Gameplay\", \"Narrative\", \"Accessibility\", the JSON should be: {\"Gameplay\": \"...\", \"Narrative\": \"...\", \"Accessibility\": \"...\"}\\nOnly output the JSON. Do NOT output other text.\\n\\nGreat time! played many hours on console first! now trying to get my collection to switch to pc. Highly recommend\\n\\nIf you don\\'t know the answer, output only \"NA\". Do NOT try to make up an answer. Do NOT output other text.')]\n"
     ]
    },
    {
     "name": "stderr",
     "output_type": "stream",
     "text": [
      "Number of requested results 5 is greater than number of elements in index 1, updating n_results = 1\n"
     ]
    },
    {
     "name": "stdout",
     "output_type": "stream",
     "text": [
      "----------Result for mistral_7b at attempt=1----------\n",
      " {\"Gameplay\": \"Played many hours on console, recommending a switch to PC.\", \"Narrative\": \"NA\", \"Accessibility\": \"NA\"}\n",
      "\n",
      "Token usage: 216\n",
      "Time costed: 0.9651 s\n",
      "\n",
      "\n",
      "\n",
      "The prompt: [SystemMessage(content=\"You are reading reviews of a game to understand the characteristics of the game. Use the following pieces of context to answer user's question.\"), HumanMessage(content='You are reading reviews of a game to understand the characteristics of the game. Extract the following aspect of the game from the reviews.\\nThe aspects are [\\'Sound\\', \\'Graphics & Art Design\\', \\'Performance\\']. For each aspect, output a paragraph with less than 50 words. Then create a JSON with apsects name as key and the paragraph as value.\\nOutput the JSON as a single line with no spaces between the key, value pairs. For example, if the aspects are \"Sound\", \"Graphics & Art Design\", \"Performance\", the JSON should be: {\"Sound\": \"...\", \"Graphics & Art Design\": \"...\", \"Performance\": \"...\"}\\nOnly output the JSON. Do NOT output other text.\\n\\nGreat time! played many hours on console first! now trying to get my collection to switch to pc. Highly recommend\\n\\nIf you don\\'t know the answer, output only \"NA\". Do NOT try to make up an answer. Do NOT output other text.')]\n"
     ]
    },
    {
     "name": "stderr",
     "output_type": "stream",
     "text": [
      "Number of requested results 5 is greater than number of elements in index 1, updating n_results = 1\n"
     ]
    },
    {
     "name": "stdout",
     "output_type": "stream",
     "text": [
      "----------Result for mistral_7b at attempt=1----------\n",
      " {\"Sound\": \"Review mentions playing many hours with no mention of sound issues or praise.\", \"Graphics & Art Design\": \"No explicit mention in review, but no complaints either.\", \"Performance\": \"NA\"}\n",
      "\n",
      "Token usage: 226\n",
      "Time costed: 1.178 s\n",
      "\n",
      "\n",
      "\n",
      "The prompt: [SystemMessage(content=\"You are reading reviews of a game to understand the characteristics of the game. Use the following pieces of context to answer user's question.\"), HumanMessage(content='You are reading reviews of a game to understand the characteristics of the game. Extract the following aspect of the game from the reviews.\\nThe aspects are [\\'Bug\\', \\'Suggestion\\', \\'Price\\', \\'Overall\\']. For each aspect, output a paragraph with less than 50 words. Then create a JSON with apsects name as key and the paragraph as value.\\nOutput the JSON as a single line with no spaces between the key, value pairs. For example, if the aspects are \"Bug\", \"Suggestion\", \"Price\", \"Overall\", the JSON should be: {\"Bug\": \"...\", \"Suggestion\": \"...\", \"Price\": \"...\", \"Overall\": \"...\"}\\nOnly output the JSON. Do NOT output other text.\\n\\nGreat time! played many hours on console first! now trying to get my collection to switch to pc. Highly recommend\\n\\nIf you don\\'t know the answer, output only \"NA\". Do NOT try to make up an answer. Do NOT output other text.')]\n"
     ]
    },
    {
     "name": "stderr",
     "output_type": "stream",
     "text": [
      "Number of requested results 5 is greater than number of elements in index 1, updating n_results = 1\n"
     ]
    },
    {
     "name": "stdout",
     "output_type": "stream",
     "text": [
      "----------Result for mistral_7b at attempt=1----------\n",
      " {\"Bug\": \"NA\", \"Suggestion\": \"NA\", \"Price\": \"NA\", \"Overall\": \"Great time! played many hours on console first!\"}\n",
      "\n",
      "Token usage: 231\n",
      "Time costed: 1.117 s\n",
      "\n",
      "\n",
      "\n",
      "The prompt: [SystemMessage(content=\"You are reading reviews of a game to understand the characteristics of the game. Use the following pieces of context to answer user's question.\"), HumanMessage(content='You are reading reviews of a game to understand the characteristics of the game. Extract the following aspect of the game from the reviews.\\nThe aspects are [\\'Gameplay\\', \\'Narrative\\', \\'Accessibility\\', \\'Sound\\', \\'Graphics & Art Design\\']. For each aspect, output a paragraph with less than 50 words. Then create a JSON with apsects name as key and the paragraph as value.\\nOutput the JSON as a single line with no spaces between the key, value pairs. For example, if the aspects are \"Gameplay\", \"Narrative\", \"Accessibility\", \"Sound\", \"Graphics & Art Design\", the JSON should be: {\"Gameplay\": \"...\", \"Narrative\": \"...\", \"Accessibility\": \"...\", \"Sound\": \"...\", \"Graphics & Art Design\": \"...\"}\\nOnly output the JSON. Do NOT output other text.\\n\\nGreat time! played many hours on console first! now trying to get my collection to switch to pc. Highly recommend\\n\\nIf you don\\'t know the answer, output only \"NA\". Do NOT try to make up an answer. Do NOT output other text.')]\n"
     ]
    },
    {
     "name": "stderr",
     "output_type": "stream",
     "text": [
      "Number of requested results 5 is greater than number of elements in index 1, updating n_results = 1\n"
     ]
    },
    {
     "name": "stdout",
     "output_type": "stream",
     "text": [
      "----------Result for mistral_7b at attempt=1----------\n",
      " {\"Gameplay\": \"Provides engaging gameplay experience, played for many hours.\", \"Narrative\": \"NA\", \"Accessibility\": \"NA\", \"Sound\": \"NA\", \"Graphics & Art Design\": \"NA\"}\n",
      "\n",
      "Token usage: 262\n",
      "Time costed: 1.294 s\n",
      "\n",
      "\n",
      "\n",
      "The prompt: [SystemMessage(content=\"You are reading reviews of a game to understand the characteristics of the game. Use the following pieces of context to answer user's question.\"), HumanMessage(content='You are reading reviews of a game to understand the characteristics of the game. Extract the following aspect of the game from the reviews.\\nThe aspects are [\\'Performance\\', \\'Bug\\', \\'Suggestion\\', \\'Price\\', \\'Overall\\']. For each aspect, output a paragraph with less than 50 words. Then create a JSON with apsects name as key and the paragraph as value.\\nOutput the JSON as a single line with no spaces between the key, value pairs. For example, if the aspects are \"Performance\", \"Bug\", \"Suggestion\", \"Price\", \"Overall\", the JSON should be: {\"Performance\": \"...\", \"Bug\": \"...\", \"Suggestion\": \"...\", \"Price\": \"...\", \"Overall\": \"...\"}\\nOnly output the JSON. Do NOT output other text.\\n\\nGreat time! played many hours on console first! now trying to get my collection to switch to pc. Highly recommend\\n\\nIf you don\\'t know the answer, output only \"NA\". Do NOT try to make up an answer. Do NOT output other text.')]\n",
      "----------Result for mistral_7b at attempt=1----------\n",
      " {\"Performance\": \"Played many hours on console and now trying to get collection to switch to PC\", \"Bug\": \"NA\", \"Suggestion\": \"NA\", \"Price\": \"NA\", \"Overall\": \"Highly recommend\"}\n",
      "\n",
      "Token usage: 261\n",
      "Time costed: 1.377 s\n",
      "\n",
      "\n",
      "\n"
     ]
    }
   ],
   "source": [
    "mistral_7b_result = {}\n",
    "llm_model_name = 'mistral_7b'\n",
    "\n",
    "print(f'Running with {llm_model_name}...')\n",
    "\n",
    "mistral_7b_result[APPROACHES[0]] = prompt_aspect_extraction_peraspect(llm_model_name, llm_mistral7b, repeat_count=1)\n",
    "mistral_7b_result[APPROACHES[1]] = prompt_aspect_extraction_22222(llm_model_name, llm_mistral7b, repeat_count=1)\n",
    "mistral_7b_result[APPROACHES[2]] = prompt_aspect_extraction_334(llm_model_name, llm_mistral7b, repeat_count=1)\n",
    "mistral_7b_result[APPROACHES[3]] = prompt_aspect_extraction_55(llm_model_name, llm_mistral7b, repeat_count=1)"
   ]
  },
  {
   "cell_type": "code",
   "execution_count": 31,
   "metadata": {},
   "outputs": [
    {
     "name": "stdout",
     "output_type": "stream",
     "text": [
      "\n",
      "\n",
      "\n",
      "\n",
      "----------Result for mistral_7b----------\n",
      "Approach: 1111111111\n",
      " {\"Gameplay\": \"Users have invested significant time into the gameplay on console and highly recommend it.\"}\n",
      " {\"Narrative\": \"Players have invested many hours into the game's narrative on console and highly recommend it.\"}\n",
      " {\"Accessibility\": \"The game is enjoyable with many hours of playtime on console. Some users are trying to switch their collection to PC version.\"}\n",
      " {\"Sound\": \"Reviews mention playing the game for many hours on console and now trying to switch to PC. No specific comments about the sound aspect.\"}\n",
      "\n",
      "NA\n",
      " {\"Graphics & Art Design\": \"The game's graphics have been praised by many reviewers, making the switch from console to PC worthwhile.\"}\n",
      " {\"Performance\": \"Played many hours on console and now trying to get collection to switch to PC, highly recommends it.\"}\n",
      " NA\n",
      "{\"Bug\": \"The reviews do not provide sufficient information about bugs in the game.\"}\n",
      " {\"Suggestion\": \"The game is highly recommended for playing on both console and PC.\"}\n",
      " NA\n",
      " {\"Overall\": \"The game has been played for many hours on console and the reviewer is trying to collect it on PC, indicating a positive experience.\"}\n",
      "Token usage: 1815\n",
      "Time used: 7.572 s\n",
      "\n",
      "\n",
      "\n",
      "Approach: 22222\n",
      " {\"Gameplay\": \"Provides engaging experience, played for multiple hours.\", \"Narrative\": \"NA\"}\n",
      " {\"Accessibility\": \"Played many hours on console and now trying to get collection to switch to PC\", \"Sound\": \"NA\"}\n",
      " {\"Graphics & Art Design\": \"The game's graphics have held up well during long play sessions on console.\", \"Performance\": \"Switching to PC is worth it for improved performance.\"}\n",
      " {\"Bug\": \"NA\", \"Suggestion\": \"The user has recommended switching from console to PC version of the game.\"}\n",
      " {\"Price\": \"NA\", \"Overall\": \"The user has played many hours on the console version and recommends switching to PC, implying a positive experience with the game.\"}\n",
      "Token usage: 983\n",
      "Time used: 4.572 s\n",
      "\n",
      "\n",
      "\n",
      "Approach: 334\n",
      " {\"Gameplay\": \"Played many hours on console, recommending a switch to PC.\", \"Narrative\": \"NA\", \"Accessibility\": \"NA\"}\n",
      " {\"Sound\": \"Review mentions playing many hours with no mention of sound issues or praise.\", \"Graphics & Art Design\": \"No explicit mention in review, but no complaints either.\", \"Performance\": \"NA\"}\n",
      " {\"Bug\": \"NA\", \"Suggestion\": \"NA\", \"Price\": \"NA\", \"Overall\": \"Great time! played many hours on console first!\"}\n",
      "Token usage: 673\n",
      "Time used: 3.261 s\n",
      "\n",
      "\n",
      "\n",
      "Approach: 55\n",
      " {\"Gameplay\": \"Provides engaging gameplay experience, played for many hours.\", \"Narrative\": \"NA\", \"Accessibility\": \"NA\", \"Sound\": \"NA\", \"Graphics & Art Design\": \"NA\"}\n",
      " {\"Performance\": \"Played many hours on console and now trying to get collection to switch to PC\", \"Bug\": \"NA\", \"Suggestion\": \"NA\", \"Price\": \"NA\", \"Overall\": \"Highly recommend\"}\n",
      "Token usage: 523\n",
      "Time used: 2.671 s\n",
      "\n",
      "\n",
      "\n"
     ]
    }
   ],
   "source": [
    "print('\\n\\n\\n')\n",
    "print('-' * 10 + f'Result for {llm_model_name}' + '-' * 10)\n",
    "for approach in APPROACHES:\n",
    "    print(f'Approach: {approach}')\n",
    "    print_result(mistral_7b_result[approach], approach)\n",
    "    print('Token usage:', get_approach_token_usage(mistral_7b_result[approach], approach))\n",
    "    print('Time used: {:.04} s'.format(float(get_approach_time_used(mistral_7b_result[approach], approach)) / 1e9))\n",
    "    print('\\n\\n')"
   ]
  },
  {
   "cell_type": "markdown",
   "metadata": {},
   "source": [
    "GEMMA-7B"
   ]
  },
  {
   "cell_type": "markdown",
   "metadata": {},
   "source": []
  }
 ],
 "metadata": {
  "kernelspec": {
   "display_name": "fyp-test-tm",
   "language": "python",
   "name": "python3"
  },
  "language_info": {
   "codemirror_mode": {
    "name": "ipython",
    "version": 3
   },
   "file_extension": ".py",
   "mimetype": "text/x-python",
   "name": "python",
   "nbconvert_exporter": "python",
   "pygments_lexer": "ipython3",
   "version": "3.9.18"
  }
 },
 "nbformat": 4,
 "nbformat_minor": 2
}
