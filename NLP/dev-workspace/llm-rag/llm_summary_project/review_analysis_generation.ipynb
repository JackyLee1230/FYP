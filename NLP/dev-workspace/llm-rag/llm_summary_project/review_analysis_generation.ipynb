{
 "cells": [
  {
   "cell_type": "markdown",
   "metadata": {},
   "source": [
    "Part 2 of the LLM per game TLDR generation project\n",
    "\n",
    "\n",
    "Passing the review to both sentiment analysis and topic modeling model"
   ]
  },
  {
   "cell_type": "code",
   "execution_count": 1,
   "metadata": {},
   "outputs": [],
   "source": [
    "from datetime import datetime\n",
    "import pytz\n",
    "import os\n",
    "import time\n",
    "import requests\n",
    "import json\n",
    "import sys\n",
    "\n",
    "import pickle\n",
    "from pathlib import Path\n",
    "import traceback"
   ]
  },
  {
   "cell_type": "code",
   "execution_count": 2,
   "metadata": {},
   "outputs": [],
   "source": [
    "# game_steamid = 1716740              # starfield\n",
    "# game_name = 'starfield'             # also the folder name where the reviews are stored\n",
    "\n",
    "# game_steamid = 1118010\n",
    "# game_name = 'monster_hunter_world_iceborne'\n",
    "\n",
    "# game_steamid = 582010\n",
    "# game_name = 'monster_hunter_world'\n",
    "\n",
    "# game_steamid = 2138330          # cyberpunk2077 phantom liberty\n",
    "# game_name = 'cyberpunk2077_phantom_liberty'\n",
    "\n",
    "# game_steamid = 1091500          # cyberpunk2077\n",
    "# game_name = 'cyberpunk2077'\n",
    "\n",
    "# game_steamid = 730\n",
    "# game_name = 'counter-strike_2'\n",
    "\n",
    "game_steamid = 570\n",
    "game_name = \"dota2\"\n"
   ]
  },
  {
   "cell_type": "code",
   "execution_count": 3,
   "metadata": {},
   "outputs": [
    {
     "name": "stdout",
     "output_type": "stream",
     "text": [
      "Loaded: ../../dataset/data_scraping/steam_comments_scraping/dota2/steam_reviews_570_unique_with_gendata.pkl\n"
     ]
    }
   ],
   "source": [
    "# load the reviews from folder\n",
    "\n",
    "reviews_reqs = []\n",
    "\n",
    "# get existing folder and retrieve the cursor object (?)\n",
    "\n",
    "# load the latest file\n",
    "game_folder = Path(f'../../dataset/data_scraping/steam_comments_scraping/{game_name}')\n",
    "if game_folder.exists():\n",
    "    try:\n",
    "        latest_file_path = game_folder.joinpath(f'steam_reviews_{game_steamid}_unique_with_gendata.pkl')\n",
    "        with open(latest_file_path, 'rb') as f:\n",
    "            reviews_reqs = pickle.load(f)           # retrieve the list of reviews\n",
    "            print('Loaded:', latest_file_path)\n",
    "    except IndexError as e:\n",
    "        print('Error loading the latest file:', e)\n",
    "        traceback.print_exc()"
   ]
  },
  {
   "cell_type": "code",
   "execution_count": 4,
   "metadata": {},
   "outputs": [
    {
     "data": {
      "text/plain": [
       "[{'recommendationid': '160077941',\n",
       "  'author': {'steamid': '76561199383301245',\n",
       "   'num_games_owned': 0,\n",
       "   'num_reviews': 1,\n",
       "   'playtime_forever': 60593,\n",
       "   'playtime_last_two_weeks': 1795,\n",
       "   'playtime_at_review': 60045,\n",
       "   'last_played': 1710129709},\n",
       "  'language': 'english',\n",
       "  'review': 'My all time favorite game',\n",
       "  'timestamp_created': 1709868509,\n",
       "  'timestamp_updated': 1709868509,\n",
       "  'voted_up': True,\n",
       "  'votes_up': 0,\n",
       "  'votes_funny': 0,\n",
       "  'weighted_vote_score': 0,\n",
       "  'comment_count': 0,\n",
       "  'steam_purchase': False,\n",
       "  'received_for_free': False,\n",
       "  'written_during_early_access': False,\n",
       "  'hidden_in_steam_china': True,\n",
       "  'steam_china_location': '',\n",
       "  'author_generated': {'name': 'wrightjeffrey1',\n",
       "   'email': 'wrightjeffrey1@narod.ru',\n",
       "   'password': 'wrightjeffrey1',\n",
       "   'birthdate': '2002-03-25',\n",
       "   'gender': 'MALE'}},\n",
       " {'recommendationid': '160077923',\n",
       "  'author': {'steamid': '76561199434553630',\n",
       "   'num_games_owned': 2,\n",
       "   'num_reviews': 2,\n",
       "   'playtime_forever': 725,\n",
       "   'playtime_last_two_weeks': 60,\n",
       "   'playtime_at_review': 664,\n",
       "   'last_played': 1709872094},\n",
       "  'language': 'english',\n",
       "  'review': 'very good\\r\\n',\n",
       "  'timestamp_created': 1709868475,\n",
       "  'timestamp_updated': 1709868475,\n",
       "  'voted_up': True,\n",
       "  'votes_up': 0,\n",
       "  'votes_funny': 0,\n",
       "  'weighted_vote_score': 0,\n",
       "  'comment_count': 0,\n",
       "  'steam_purchase': False,\n",
       "  'received_for_free': False,\n",
       "  'written_during_early_access': False,\n",
       "  'hidden_in_steam_china': True,\n",
       "  'steam_china_location': '',\n",
       "  'author_generated': {'name': 'oscar494674',\n",
       "   'email': 'oscar494674@yahoo.com',\n",
       "   'password': 'oscar494674',\n",
       "   'birthdate': '1966-07-19',\n",
       "   'gender': 'MALE'}},\n",
       " {'recommendationid': '160077236',\n",
       "  'author': {'steamid': '76561198155411812',\n",
       "   'num_games_owned': 0,\n",
       "   'num_reviews': 1,\n",
       "   'playtime_forever': 40700,\n",
       "   'playtime_last_two_weeks': 173,\n",
       "   'playtime_at_review': 40526,\n",
       "   'last_played': 1709928335},\n",
       "  'language': 'english',\n",
       "  'review': 'swag',\n",
       "  'timestamp_created': 1709867458,\n",
       "  'timestamp_updated': 1709867458,\n",
       "  'voted_up': True,\n",
       "  'votes_up': 0,\n",
       "  'votes_funny': 0,\n",
       "  'weighted_vote_score': 0,\n",
       "  'comment_count': 0,\n",
       "  'steam_purchase': False,\n",
       "  'received_for_free': False,\n",
       "  'written_during_early_access': False,\n",
       "  'hidden_in_steam_china': True,\n",
       "  'steam_china_location': '',\n",
       "  'author_generated': {'name': 'parkerlori636',\n",
       "   'email': 'parkerlori636@ngs.ru',\n",
       "   'password': 'parkerlori636',\n",
       "   'birthdate': '1998-01-23',\n",
       "   'gender': 'MALE'}},\n",
       " {'recommendationid': '160077159',\n",
       "  'author': {'steamid': '76561198197578314',\n",
       "   'num_games_owned': 38,\n",
       "   'num_reviews': 1,\n",
       "   'playtime_forever': 179662,\n",
       "   'playtime_last_two_weeks': 30,\n",
       "   'playtime_at_review': 179659,\n",
       "   'last_played': 1709986859},\n",
       "  'language': 'english',\n",
       "  'review': 'I played this game for almost 5,000 hours now with multiple accounts and I got absolutely nothing at all from this game, just a big amount of brain cancer from all the players that I encountered playing it. :)',\n",
       "  'timestamp_created': 1709867360,\n",
       "  'timestamp_updated': 1709867360,\n",
       "  'voted_up': True,\n",
       "  'votes_up': 0,\n",
       "  'votes_funny': 0,\n",
       "  'weighted_vote_score': 0,\n",
       "  'comment_count': 0,\n",
       "  'steam_purchase': False,\n",
       "  'received_for_free': False,\n",
       "  'written_during_early_access': False,\n",
       "  'hidden_in_steam_china': True,\n",
       "  'steam_china_location': '',\n",
       "  'author_generated': {'name': 'morrisonamanda0',\n",
       "   'email': 'morrisonamanda0@aol.com',\n",
       "   'password': 'morrisonamanda0',\n",
       "   'birthdate': '1995-05-08',\n",
       "   'gender': 'MALE'}},\n",
       " {'recommendationid': '160077082',\n",
       "  'author': {'steamid': '76561199216218928',\n",
       "   'num_games_owned': 0,\n",
       "   'num_reviews': 1,\n",
       "   'playtime_forever': 8265,\n",
       "   'playtime_last_two_weeks': 296,\n",
       "   'playtime_at_review': 8080,\n",
       "   'last_played': 1710002555},\n",
       "  'language': 'english',\n",
       "  'review': '1',\n",
       "  'timestamp_created': 1709867258,\n",
       "  'timestamp_updated': 1709867258,\n",
       "  'voted_up': True,\n",
       "  'votes_up': 0,\n",
       "  'votes_funny': 0,\n",
       "  'weighted_vote_score': 0,\n",
       "  'comment_count': 0,\n",
       "  'steam_purchase': False,\n",
       "  'received_for_free': False,\n",
       "  'written_during_early_access': False,\n",
       "  'hidden_in_steam_china': True,\n",
       "  'steam_china_location': '',\n",
       "  'author_generated': {'name': 'jeffrey541230',\n",
       "   'email': 'jeffrey541230@ngs.ru',\n",
       "   'password': 'jeffrey541230',\n",
       "   'birthdate': '2003-12-26',\n",
       "   'gender': 'MALE'}},\n",
       " {'recommendationid': '160076951',\n",
       "  'author': {'steamid': '76561198259352950',\n",
       "   'num_games_owned': 0,\n",
       "   'num_reviews': 1,\n",
       "   'playtime_forever': 98713,\n",
       "   'playtime_last_two_weeks': 7324,\n",
       "   'playtime_at_review': 96819,\n",
       "   'last_played': 1710145219},\n",
       "  'language': 'english',\n",
       "  'review': 'Friendly environment and Toxic free players. Highly recommended server is SEA for best experience.\\n\\\\',\n",
       "  'timestamp_created': 1709867064,\n",
       "  'timestamp_updated': 1709867064,\n",
       "  'voted_up': True,\n",
       "  'votes_up': 0,\n",
       "  'votes_funny': 0,\n",
       "  'weighted_vote_score': 0,\n",
       "  'comment_count': 0,\n",
       "  'steam_purchase': False,\n",
       "  'received_for_free': False,\n",
       "  'written_during_early_access': False,\n",
       "  'hidden_in_steam_china': True,\n",
       "  'steam_china_location': '',\n",
       "  'author_generated': {'name': 'valeriestone65',\n",
       "   'email': 'valeriestone65@ya.ru',\n",
       "   'password': 'valeriestone65',\n",
       "   'birthdate': '2003-10-12',\n",
       "   'gender': 'FEMALE'}},\n",
       " {'recommendationid': '160076908',\n",
       "  'author': {'steamid': '76561198344159612',\n",
       "   'num_games_owned': 134,\n",
       "   'num_reviews': 3,\n",
       "   'playtime_forever': 20,\n",
       "   'playtime_last_two_weeks': 0,\n",
       "   'playtime_at_review': 20,\n",
       "   'last_played': 1514618786},\n",
       "  'language': 'english',\n",
       "  'review': 'yes',\n",
       "  'timestamp_created': 1709866991,\n",
       "  'timestamp_updated': 1709866991,\n",
       "  'voted_up': True,\n",
       "  'votes_up': 0,\n",
       "  'votes_funny': 0,\n",
       "  'weighted_vote_score': 0,\n",
       "  'comment_count': 0,\n",
       "  'steam_purchase': False,\n",
       "  'received_for_free': False,\n",
       "  'written_during_early_access': False,\n",
       "  'hidden_in_steam_china': True,\n",
       "  'steam_china_location': '',\n",
       "  'author_generated': {'name': 'mark935076',\n",
       "   'email': 'mark935076@gmail.com',\n",
       "   'password': 'mark935076',\n",
       "   'birthdate': '1999-11-09',\n",
       "   'gender': 'MALE'}},\n",
       " {'recommendationid': '160076804',\n",
       "  'author': {'steamid': '76561198892968131',\n",
       "   'num_games_owned': 0,\n",
       "   'num_reviews': 1,\n",
       "   'playtime_forever': 101922,\n",
       "   'playtime_last_two_weeks': 259,\n",
       "   'playtime_at_review': 101662,\n",
       "   'last_played': 1710080985},\n",
       "  'language': 'english',\n",
       "  'review': 'aa',\n",
       "  'timestamp_created': 1709866850,\n",
       "  'timestamp_updated': 1709866850,\n",
       "  'voted_up': True,\n",
       "  'votes_up': 0,\n",
       "  'votes_funny': 0,\n",
       "  'weighted_vote_score': 0,\n",
       "  'comment_count': 0,\n",
       "  'steam_purchase': False,\n",
       "  'received_for_free': False,\n",
       "  'written_during_early_access': False,\n",
       "  'hidden_in_steam_china': True,\n",
       "  'steam_china_location': '',\n",
       "  'author_generated': {'name': 'fishererica148',\n",
       "   'email': 'fishererica148@rambler.ru',\n",
       "   'password': 'fishererica148',\n",
       "   'birthdate': '1999-02-19',\n",
       "   'gender': 'MALE'}},\n",
       " {'recommendationid': '160076578',\n",
       "  'author': {'steamid': '76561198192534147',\n",
       "   'num_games_owned': 1,\n",
       "   'num_reviews': 1,\n",
       "   'playtime_forever': 204275,\n",
       "   'playtime_last_two_weeks': 8269,\n",
       "   'playtime_at_review': 202590,\n",
       "   'last_played': 1710144654},\n",
       "  'language': 'english',\n",
       "  'review': 'Just Enjoy',\n",
       "  'timestamp_created': 1709866567,\n",
       "  'timestamp_updated': 1709866567,\n",
       "  'voted_up': True,\n",
       "  'votes_up': 0,\n",
       "  'votes_funny': 0,\n",
       "  'weighted_vote_score': 0,\n",
       "  'comment_count': 0,\n",
       "  'steam_purchase': False,\n",
       "  'received_for_free': False,\n",
       "  'written_during_early_access': False,\n",
       "  'hidden_in_steam_china': True,\n",
       "  'steam_china_location': '',\n",
       "  'author_generated': {'name': 'devonjohnson15',\n",
       "   'email': 'devonjohnson15@bk.ru',\n",
       "   'password': 'devonjohnson15',\n",
       "   'birthdate': '1991-02-17',\n",
       "   'gender': 'MALE'}},\n",
       " {'recommendationid': '160076181',\n",
       "  'author': {'steamid': '76561198131115140',\n",
       "   'num_games_owned': 0,\n",
       "   'num_reviews': 1,\n",
       "   'playtime_forever': 42200,\n",
       "   'playtime_last_two_weeks': 4090,\n",
       "   'playtime_at_review': 40999,\n",
       "   'last_played': 1710081567},\n",
       "  'language': 'english',\n",
       "  'review': 'GGWP',\n",
       "  'timestamp_created': 1709866011,\n",
       "  'timestamp_updated': 1709866011,\n",
       "  'voted_up': True,\n",
       "  'votes_up': 1,\n",
       "  'votes_funny': 0,\n",
       "  'weighted_vote_score': '0.523809552192687988',\n",
       "  'comment_count': 0,\n",
       "  'steam_purchase': False,\n",
       "  'received_for_free': False,\n",
       "  'written_during_early_access': False,\n",
       "  'hidden_in_steam_china': True,\n",
       "  'steam_china_location': '',\n",
       "  'author_generated': {'name': 'jacqueline7948',\n",
       "   'email': 'jacqueline7948@mail.ru',\n",
       "   'password': 'jacqueline7948',\n",
       "   'birthdate': '2009-02-23',\n",
       "   'gender': 'MALE'}}]"
      ]
     },
     "execution_count": 4,
     "metadata": {},
     "output_type": "execute_result"
    }
   ],
   "source": [
    "reviews_reqs[:10]"
   ]
  },
  {
   "cell_type": "markdown",
   "metadata": {},
   "source": [
    "---"
   ]
  },
  {
   "cell_type": "markdown",
   "metadata": {},
   "source": [
    "Load both sentiment analysis and topic modeling model\n",
    "\n",
    "SA: load the BERT 480K-bal model\n",
    "\n",
    "TM: load the by genre model, and the topic-id-to-name json file"
   ]
  },
  {
   "cell_type": "code",
   "execution_count": 5,
   "metadata": {},
   "outputs": [
    {
     "name": "stdout",
     "output_type": "stream",
     "text": [
      "cuda\n"
     ]
    }
   ],
   "source": [
    "import platform\n",
    "import torch\n",
    "\n",
    "if platform.system() == 'Linux' or platform.system() == 'Windows':\n",
    "    device = torch.device('cuda' if torch.cuda.is_available() else 'cpu')\n",
    "else:\n",
    "    device = torch.device('mps')        # m-series machine\n",
    "\n",
    "print(device)"
   ]
  },
  {
   "cell_type": "code",
   "execution_count": 6,
   "metadata": {},
   "outputs": [
    {
     "name": "stderr",
     "output_type": "stream",
     "text": [
      "/root/.local/lib/python3.9/site-packages/tqdm/auto.py:21: TqdmWarning: IProgress not found. Please update jupyter and ipywidgets. See https://ipywidgets.readthedocs.io/en/stable/user_install.html\n",
      "  from .autonotebook import tqdm as notebook_tqdm\n"
     ]
    }
   ],
   "source": [
    "sa_model_path = Path('../../sa/bert_2023-12-13/bert-finetune_480k_bal_2024-01-18')\n",
    "sa_model_path = sa_model_path.joinpath(\n",
    "    sa_model_path.name + '_model'\n",
    ")\n",
    "\n",
    "if not sa_model_path.exists():\n",
    "    print('SA model not found:', sa_model_path)\n",
    "    exit()\n",
    "\n",
    "# load the model (use gpu acceleration)\n",
    "from transformers import AutoTokenizer, AutoModelForSequenceClassification\n",
    "sa_tokenizer = AutoTokenizer.from_pretrained('bert-base-cased', device=device)\n",
    "sa_model = AutoModelForSequenceClassification.from_pretrained(sa_model_path)"
   ]
  },
  {
   "cell_type": "code",
   "execution_count": 7,
   "metadata": {},
   "outputs": [],
   "source": [
    "# load the BERTopic model\n",
    "\n",
    "from bertopic import BERTopic\n",
    "from sentence_transformers import SentenceTransformer\n",
    "\n",
    "sys.path.append('../../topic_modelling/bertopic_dev')\n",
    "from bertopic_utils import _load_bertopic_model\n",
    "\n",
    "sbert_model_name = 'all-MiniLM-L6-v2'\n",
    "sbert = SentenceTransformer(sbert_model_name, device=device)\n",
    "\n",
    "tm_model_path = Path('../../topic_modelling/bertopic_dev/category_action_unique_review_text/bertopic[split]_genre_action_grid_search_20240301_095149/bertopic_bt_nr_topics_10')\n",
    "# TODO: finalize the model path\n",
    "\n",
    "topic_model = _load_bertopic_model(tm_model_path)\n",
    "\n",
    "# load the topic-id-to-name json mapping\n",
    "topic_id_to_label_path = Path(f'../../topic_modelling/eval_results_external/{game_name}').joinpath(\n",
    "    *tm_model_path.parts[-3:], 'topic_id_to_label.json')\n",
    "\n",
    "if not topic_id_to_label_path.exists():\n",
    "    print('Topic id to label mapping not found:', topic_id_to_label_path)\n",
    "    exit()\n",
    "\n",
    "with open(topic_id_to_label_path, 'r') as f:\n",
    "    topic_id_to_label = json.load(f)"
   ]
  },
  {
   "cell_type": "code",
   "execution_count": 8,
   "metadata": {},
   "outputs": [],
   "source": [
    "from datasets import Dataset\n",
    "\n",
    "sys.path.append('../../sa')\n",
    "import str_cleaning_functions\n",
    "\n",
    "def cleaning(s:str):\n",
    "    s = str_cleaning_functions.remove_links(s)\n",
    "    s = str_cleaning_functions.remove_links2(s)\n",
    "    s = str_cleaning_functions.clean(s)\n",
    "    s = str_cleaning_functions.deEmojify(s)\n",
    "    s = str_cleaning_functions.unify_whitespaces(s)\n",
    "\n",
    "    return s\n",
    "\n",
    "# use huggingface datasets package to accelerate the cleaning process\n",
    "def cleaning_datasets(data):\n",
    "    return {'review_text': cleaning(data['review_text'])}"
   ]
  },
  {
   "cell_type": "code",
   "execution_count": 9,
   "metadata": {},
   "outputs": [],
   "source": [
    "# since both BERTopic and SA BERT model shares the same preprocessing procedure\n",
    "# use the same cleaning function for both\n",
    "\n",
    "# load the reviews into a dataset object\n",
    "reviews_dict = {\n",
    "    'recommendationid' : [r['recommendationid'] for r in reviews_reqs],     # need the recommendation id for identifying the original data\n",
    "    'review_text': [r['review'] for r in reviews_reqs]\n",
    "}\n",
    "\n",
    "# create a dataset object from the list\n",
    "reviews_dataset = Dataset.from_dict(reviews_dict)"
   ]
  },
  {
   "cell_type": "code",
   "execution_count": 10,
   "metadata": {},
   "outputs": [
    {
     "name": "stderr",
     "output_type": "stream",
     "text": [
      "Map (num_proc=4):   0%|          | 0/60619 [00:00<?, ? examples/s]"
     ]
    },
    {
     "name": "stderr",
     "output_type": "stream",
     "text": [
      "Map (num_proc=4): 100%|██████████| 60619/60619 [00:00<00:00, 96396.38 examples/s] \n",
      "Filter: 100%|██████████| 60619/60619 [00:00<00:00, 820178.50 examples/s]\n"
     ]
    }
   ],
   "source": [
    "# common preprocessing\n",
    "reviews_dataset_p = reviews_dataset.map(cleaning_datasets, num_proc=4)\n",
    "reviews_dataset_p = reviews_dataset_p.filter(lambda x: len(x['review_text']) > 0)"
   ]
  },
  {
   "cell_type": "code",
   "execution_count": 11,
   "metadata": {},
   "outputs": [
    {
     "name": "stderr",
     "output_type": "stream",
     "text": [
      "Map: 100%|██████████| 60431/60431 [00:08<00:00, 6890.56 examples/s]\n"
     ]
    }
   ],
   "source": [
    "# SA specific\n",
    "def tokenize_dataset(data):\n",
    "    return sa_tokenizer(data['review_text'], max_length=sa_tokenizer.model_max_length, padding='max_length', truncation=True, return_tensors='pt')\n",
    "\n",
    "reviews_dataset_p_sa = reviews_dataset_p.map(tokenize_dataset, batched=True)"
   ]
  },
  {
   "cell_type": "code",
   "execution_count": 12,
   "metadata": {},
   "outputs": [
    {
     "name": "stderr",
     "output_type": "stream",
     "text": [
      "Batches: 100%|██████████| 945/945 [00:06<00:00, 142.91it/s]\n"
     ]
    }
   ],
   "source": [
    "# BERTopic specific\n",
    "\n",
    "reviews_dataset_p_bertopic = Dataset.from_dict({\n",
    "    'recommendationid': reviews_dataset_p['recommendationid'],\n",
    "    'review_text': reviews_dataset_p['review_text']})\n",
    "\n",
    "sbert_embeddings = sbert.encode(reviews_dataset_p['review_text'], show_progress_bar=True, batch_size=64)"
   ]
  },
  {
   "cell_type": "markdown",
   "metadata": {},
   "source": [
    "---"
   ]
  },
  {
   "cell_type": "markdown",
   "metadata": {},
   "source": [
    "Inference"
   ]
  },
  {
   "cell_type": "code",
   "execution_count": 13,
   "metadata": {},
   "outputs": [
    {
     "data": {
      "text/html": [],
      "text/plain": [
       "<IPython.core.display.HTML object>"
      ]
     },
     "metadata": {},
     "output_type": "display_data"
    }
   ],
   "source": [
    "# SA with BERT\n",
    "\n",
    "from transformers import Trainer, TrainingArguments\n",
    "\n",
    "BATCH_SIZE = 32\n",
    "\n",
    "trainer_args = TrainingArguments(output_dir='eval',\n",
    "    per_device_eval_batch_size=BATCH_SIZE)\n",
    "\n",
    "trainer = Trainer(\n",
    "    model=sa_model,\n",
    "    args=trainer_args,\n",
    "    # train_dataset=ds_test,\n",
    "    # eval_dataset=ds_test,\n",
    ")\n",
    "\n",
    "sa_output = trainer.predict(reviews_dataset_p_sa)\n"
   ]
  },
  {
   "cell_type": "code",
   "execution_count": 14,
   "metadata": {},
   "outputs": [
    {
     "data": {
      "text/plain": [
       "PredictionOutput(predictions=array([[-2.513191  ,  2.8408263 ],\n",
       "       [-2.8129225 ,  3.2663047 ],\n",
       "       [-1.4244823 ,  1.3042884 ],\n",
       "       ...,\n",
       "       [-2.0817068 ,  2.1522136 ],\n",
       "       [-0.09953638, -0.46936586],\n",
       "       [ 0.02777606, -0.38265294]], dtype=float32), label_ids=None, metrics={'test_runtime': 262.3552, 'test_samples_per_second': 230.34, 'test_steps_per_second': 7.2})"
      ]
     },
     "execution_count": 14,
     "metadata": {},
     "output_type": "execute_result"
    }
   ],
   "source": [
    "sa_output"
   ]
  },
  {
   "cell_type": "code",
   "execution_count": 15,
   "metadata": {},
   "outputs": [
    {
     "data": {
      "text/plain": [
       "array([1, 1, 1, ..., 1, 0, 0])"
      ]
     },
     "execution_count": 15,
     "metadata": {},
     "output_type": "execute_result"
    }
   ],
   "source": [
    "from scipy.special import softmax\n",
    "\n",
    "sa_logits = softmax(sa_output.predictions, axis=1)\n",
    "sa_pred_result = sa_logits.argmax(axis=1)\n",
    "\n",
    "sa_pred_result"
   ]
  },
  {
   "cell_type": "code",
   "execution_count": 16,
   "metadata": {},
   "outputs": [
    {
     "name": "stderr",
     "output_type": "stream",
     "text": [
      "2024-03-22 11:39:51,411 - BERTopic - Predicting topic assignments through cosine similarity of topic and document embeddings.\n"
     ]
    }
   ],
   "source": [
    "# bertopic\n",
    "\n",
    "topics, probs = topic_model.transform(\n",
    "    reviews_dataset_p_bertopic['review_text'],\n",
    "    embeddings=sbert_embeddings\n",
    ")"
   ]
  },
  {
   "cell_type": "code",
   "execution_count": 17,
   "metadata": {},
   "outputs": [
    {
     "data": {
      "text/plain": [
       "array([7, 3, 8, ..., 3, 1, 3])"
      ]
     },
     "execution_count": 17,
     "metadata": {},
     "output_type": "execute_result"
    }
   ],
   "source": [
    "topics"
   ]
  },
  {
   "cell_type": "code",
   "execution_count": 18,
   "metadata": {},
   "outputs": [
    {
     "data": {
      "text/plain": [
       "array([[ 0.5594574 ,  0.57658625,  0.38608336, ...,  0.58039004,\n",
       "         0.3552853 ,  0.28020176],\n",
       "       [ 0.2610594 ,  0.22799659,  0.1720337 , ...,  0.26279494,\n",
       "         0.14184105,  0.24393168],\n",
       "       [ 0.14688447,  0.13080573,  0.08629075, ...,  0.14431764,\n",
       "         0.30286062,  0.22244917],\n",
       "       ...,\n",
       "       [ 0.27115703,  0.25759235,  0.16022427, ...,  0.3832994 ,\n",
       "         0.19056311,  0.27444   ],\n",
       "       [ 0.26007795,  0.24094352,  0.28893963, ...,  0.05636574,\n",
       "         0.17065516,  0.09285688],\n",
       "       [ 0.11547672,  0.10740201, -0.01128568, ...,  0.05336908,\n",
       "         0.08607227,  0.07022146]], dtype=float32)"
      ]
     },
     "execution_count": 18,
     "metadata": {},
     "output_type": "execute_result"
    }
   ],
   "source": [
    "probs"
   ]
  },
  {
   "cell_type": "code",
   "execution_count": 19,
   "metadata": {},
   "outputs": [
    {
     "data": {
      "text/html": [
       "<div>\n",
       "<style scoped>\n",
       "    .dataframe tbody tr th:only-of-type {\n",
       "        vertical-align: middle;\n",
       "    }\n",
       "\n",
       "    .dataframe tbody tr th {\n",
       "        vertical-align: top;\n",
       "    }\n",
       "\n",
       "    .dataframe thead th {\n",
       "        text-align: right;\n",
       "    }\n",
       "</style>\n",
       "<table border=\"1\" class=\"dataframe\">\n",
       "  <thead>\n",
       "    <tr style=\"text-align: right;\">\n",
       "      <th></th>\n",
       "      <th>Topic</th>\n",
       "      <th>Count</th>\n",
       "      <th>Topic Name</th>\n",
       "    </tr>\n",
       "  </thead>\n",
       "  <tbody>\n",
       "    <tr>\n",
       "      <th>0</th>\n",
       "      <td>-1</td>\n",
       "      <td>10379</td>\n",
       "      <td>Fun game with toxic players.</td>\n",
       "    </tr>\n",
       "    <tr>\n",
       "      <th>1</th>\n",
       "      <td>0</td>\n",
       "      <td>21922</td>\n",
       "      <td>Best MOBA Ever</td>\n",
       "    </tr>\n",
       "    <tr>\n",
       "      <th>2</th>\n",
       "      <td>1</td>\n",
       "      <td>1466</td>\n",
       "      <td>Frustrating Experience after new updates</td>\n",
       "    </tr>\n",
       "    <tr>\n",
       "      <th>3</th>\n",
       "      <td>2</td>\n",
       "      <td>1644</td>\n",
       "      <td>Ruined Game</td>\n",
       "    </tr>\n",
       "    <tr>\n",
       "      <th>4</th>\n",
       "      <td>3</td>\n",
       "      <td>16307</td>\n",
       "      <td>Good game</td>\n",
       "    </tr>\n",
       "    <tr>\n",
       "      <th>5</th>\n",
       "      <td>4</td>\n",
       "      <td>7584</td>\n",
       "      <td>Russian Game</td>\n",
       "    </tr>\n",
       "    <tr>\n",
       "      <th>6</th>\n",
       "      <td>5</td>\n",
       "      <td>18</td>\n",
       "      <td>Barry's Pills</td>\n",
       "    </tr>\n",
       "    <tr>\n",
       "      <th>7</th>\n",
       "      <td>6</td>\n",
       "      <td>173</td>\n",
       "      <td>Pie Recipe</td>\n",
       "    </tr>\n",
       "    <tr>\n",
       "      <th>8</th>\n",
       "      <td>7</td>\n",
       "      <td>399</td>\n",
       "      <td>Old Classic Masterpiece</td>\n",
       "    </tr>\n",
       "    <tr>\n",
       "      <th>9</th>\n",
       "      <td>8</td>\n",
       "      <td>192</td>\n",
       "      <td>Money-gated skins</td>\n",
       "    </tr>\n",
       "    <tr>\n",
       "      <th>10</th>\n",
       "      <td>9</td>\n",
       "      <td>347</td>\n",
       "      <td>Gambling Addiction</td>\n",
       "    </tr>\n",
       "  </tbody>\n",
       "</table>\n",
       "</div>"
      ],
      "text/plain": [
       "    Topic  Count                                Topic Name\n",
       "0      -1  10379              Fun game with toxic players.\n",
       "1       0  21922                            Best MOBA Ever\n",
       "2       1   1466  Frustrating Experience after new updates\n",
       "3       2   1644                               Ruined Game\n",
       "4       3  16307                                 Good game\n",
       "5       4   7584                              Russian Game\n",
       "6       5     18                             Barry's Pills\n",
       "7       6    173                                Pie Recipe\n",
       "8       7    399                   Old Classic Masterpiece\n",
       "9       8    192                         Money-gated skins\n",
       "10      9    347                        Gambling Addiction"
      ]
     },
     "execution_count": 19,
     "metadata": {},
     "output_type": "execute_result"
    }
   ],
   "source": [
    "# build the topic frequency table from results\n",
    "\n",
    "import pandas as pd\n",
    "from collections import Counter\n",
    "\n",
    "topic_freq = Counter(topics)\n",
    "topic_freq = pd.DataFrame(topic_freq.items(), columns=['topic_id', 'count'])\n",
    "topic_freq = topic_freq.sort_values(by='topic_id')\n",
    "topic_freq.reset_index(drop=True, inplace=True)\n",
    "# rename columns\n",
    "topic_freq.columns = ['Topic', 'Count']\n",
    "\n",
    "# add the topic names\n",
    "topic_id_to_label = {int(k): v for k, v in topic_id_to_label.items()}       # int key conversion\n",
    "topic_freq['Topic Name'] = topic_freq['Topic'].map(topic_id_to_label)\n",
    "\n",
    "topic_freq"
   ]
  },
  {
   "cell_type": "markdown",
   "metadata": {},
   "source": [
    "---"
   ]
  },
  {
   "cell_type": "markdown",
   "metadata": {},
   "source": [
    "formulate the data and put it back to the reviews"
   ]
  },
  {
   "cell_type": "code",
   "execution_count": 20,
   "metadata": {},
   "outputs": [
    {
     "data": {
      "text/plain": [
       "(60431,)"
      ]
     },
     "execution_count": 20,
     "metadata": {},
     "output_type": "execute_result"
    }
   ],
   "source": [
    "sa_pred_result.shape"
   ]
  },
  {
   "cell_type": "code",
   "execution_count": 21,
   "metadata": {},
   "outputs": [
    {
     "data": {
      "text/plain": [
       "(60431,)"
      ]
     },
     "execution_count": 21,
     "metadata": {},
     "output_type": "execute_result"
    }
   ],
   "source": [
    "topics.shape"
   ]
  },
  {
   "cell_type": "code",
   "execution_count": 22,
   "metadata": {},
   "outputs": [
    {
     "data": {
      "text/plain": [
       "60619"
      ]
     },
     "execution_count": 22,
     "metadata": {},
     "output_type": "execute_result"
    }
   ],
   "source": [
    "len(reviews_reqs)"
   ]
  },
  {
   "cell_type": "code",
   "execution_count": 23,
   "metadata": {},
   "outputs": [],
   "source": [
    "dataset_ptr = 0\n",
    "\n",
    "reviews_dataset_p_sa_recommendationid_list = reviews_dataset_p_sa['recommendationid']\n",
    "\n",
    "for i in range(len(reviews_reqs)):\n",
    "    # get recommendationid\n",
    "    recommendationid_reviewreqs = reviews_reqs[i]['recommendationid']\n",
    "\n",
    "    # get the recommendationid from the dataset\n",
    "    recommendationid_dataset = reviews_dataset_p_sa_recommendationid_list[dataset_ptr]\n",
    "\n",
    "    # check if the recommendationid matches\n",
    "    if recommendationid_reviewreqs != recommendationid_dataset:\n",
    "        continue\n",
    "    \n",
    "    analysis_json = {\n",
    "        'SA': sa_pred_result[dataset_ptr],\n",
    "        'TM_topic_id': topics[dataset_ptr],\n",
    "    }\n",
    "\n",
    "    reviews_reqs[i]['analysis'] = analysis_json\n",
    "\n",
    "    dataset_ptr += 1\n",
    "\n"
   ]
  },
  {
   "cell_type": "code",
   "execution_count": 24,
   "metadata": {},
   "outputs": [
    {
     "data": {
      "text/plain": [
       "60431"
      ]
     },
     "execution_count": 24,
     "metadata": {},
     "output_type": "execute_result"
    }
   ],
   "source": [
    "# loop thorugh the reviews and extract json with analysis results\n",
    "reviews_reqs_w_analysis = []\n",
    "\n",
    "for i in range(len(reviews_reqs)):\n",
    "    review = reviews_reqs[i]\n",
    "    if 'analysis' in review:\n",
    "        reviews_reqs_w_analysis.append(review)\n",
    "\n",
    "len(reviews_reqs_w_analysis)"
   ]
  },
  {
   "cell_type": "code",
   "execution_count": 25,
   "metadata": {},
   "outputs": [
    {
     "name": "stdout",
     "output_type": "stream",
     "text": [
      "Saved: ../../dataset/data_scraping/steam_comments_scraping/dota2/steam_reviews_570_unique_with_gendata_with_analysis.pkl\n",
      "Saved: ../../dataset/data_scraping/steam_comments_scraping/dota2/steam_reviews_570_unique_with_gendata_with_analysis_topic_freq.csv\n"
     ]
    }
   ],
   "source": [
    "# save the results to a file\n",
    "\n",
    "reviews_reqs_w_analysis_path = game_folder.joinpath(\n",
    "    f'steam_reviews_{game_steamid}_unique_with_gendata_with_analysis.pkl'\n",
    ")\n",
    "\n",
    "with open(reviews_reqs_w_analysis_path, 'wb') as f:\n",
    "    pickle.dump(reviews_reqs_w_analysis, f)\n",
    "\n",
    "    print('Saved:', reviews_reqs_w_analysis_path)\n",
    "\n",
    "# also save the topic frequency table\n",
    "topic_freq_path = game_folder.joinpath(\n",
    "    f'steam_reviews_{game_steamid}_unique_with_gendata_with_analysis_topic_freq.csv'\n",
    ")\n",
    "\n",
    "topic_freq.to_csv(topic_freq_path, index=False)\n",
    "print('Saved:', topic_freq_path)"
   ]
  },
  {
   "cell_type": "code",
   "execution_count": null,
   "metadata": {},
   "outputs": [],
   "source": []
  }
 ],
 "metadata": {
  "kernelspec": {
   "display_name": "fyp-test-tm",
   "language": "python",
   "name": "python3"
  },
  "language_info": {
   "codemirror_mode": {
    "name": "ipython",
    "version": 3
   },
   "file_extension": ".py",
   "mimetype": "text/x-python",
   "name": "python",
   "nbconvert_exporter": "python",
   "pygments_lexer": "ipython3",
   "version": "3.9.18"
  }
 },
 "nbformat": 4,
 "nbformat_minor": 2
}
