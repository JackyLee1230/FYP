{
 "cells": [
  {
   "cell_type": "markdown",
   "metadata": {},
   "source": [
    "Test the flow of LLM with normal comments\n",
    "\n",
    "Like some nonsense comments, and some comments close to critic reviews.\n",
    "\n",
    "Here we use gemma:2b-instruct for JSON, and mixtral:7b-instruct for spam detection (?)"
   ]
  },
  {
   "cell_type": "code",
   "execution_count": 1,
   "metadata": {},
   "outputs": [],
   "source": [
    "# sample reviews\n",
    "\n",
    "# most repr reviews from bertopic\n",
    "sample_01 = \"poorly optimized, runs between 25 - 35 fps on both low and ultra settings. you ' d think that if ultra was 30 - 35 then low should be 60, but no. even with max settings game still looked odd after disabling up - scaling. a $ 70 title should run at 50 - 60 fps on the lowest settings minimum. and trying to optimize the settings to get better frames i have dumped to many hours into it to get a refund. so here i will sit and wait till they fix the performance.\"\n",
    "sample_02 = \"good game, todd\"\n",
    "sample_03 = \"okay this game is getting some bad reviews. however i do not think this game is bad. i ' ll agree that you need a pretty good pc to run it. but the game itself isn ' t bad. yes there are some bugs, i have not come across many but i have experienced a few. the story isn ' t great either but the latest assassins creed games did not have very good stories, so people can ' t blame this game alone. after you ' ve played for an hour or so and you ' ve learned how the game plays, you can start exploring paris, which is really cool. paris is huge and you have a lot of things you can do. coop missions, random events and a ton of other cool stuff, are some of the things you can keep yourself busy with. the customization in this game is great. you can choose between many different clothings. you can also buy color so you can make the character dress like a rainbow. there are a lot of different weapons in this game, from swords to axes even rifels. obisoft also made a great decision putting stealth into the game. now you can sneak around without being seen. the graphics in this game are really good. standing on a high point and\"\n",
    "sample_04 = \"glados, oh, glados. you bring so much fun into a game. while there are some people who might not like portal, i ' m one of the many who love it. i don ' t think there is much i can say about the game that many do not already know. it ' s a very intriguing puzzle / ' shooter ' that was pretty freaking original when it came out. it can be a little confusing if you ' re not able to wrap your head around the puzzles, but most people shouldn ' t have many issues. i ' ve played the game many times over ( not all on steam ) and have enjoyed it every single time. many years from now, it ' ll be still yeah, i know.\"\n",
    "sample_05 = \"was good, until the social club app stopped working. i followed some steps on the offical rockstar website about how to fix this problem and now gta 5 is permanently broken. either the social club app crashes on startup or the program made to patch and fix this problem says ' grand theft auto 5 isnt installed on your if anybody can help me please respond but until then. rip gta 5 it was fun while it lasted.\"\n",
    "sample_06 = \"make this for mac!!!!!!!!!!!!!!!!!!!!!!!!!!!!!!!!!!!!!!!!!!!!!!!!!!!!!!!!!!!!!!!!!!!!!!!!!!!!!!!!!!!!!!!!!!!!!!!!!!!!!!!!!!!!!!!!!!!!!!!!!!!!!!!!!!!!!!!!!!!!!!!!!!!!!!!!!!!!!!!!!!!!!!!!!!!!!!!!!!!!!!!!!!!!!!!!!!!!!!!!!!!!!!!!!!!!!!!!!!!!!!!!!!!!!!!!!!!!!!!!!!!!!!!!!!\"\n",
    "sample_07 = \"the first rpg ive ever played. hated rpgs before this, and only picked this up on a steam sale, that too, reluctantly. however, gave it a try, and got so engaged in the story right from the start, only because of the narrator ' s voice. the music ' s reall good as well. one of the best for a game. i feel the developers, supergiant games, did a better job with bastion ' s music than that of transistor ' s. the handpainted graphics felt so unique to me as well. haven ' t seen something like this in other games before this. i ' d give it a 10 / 10 rating for story, music, weapons / upgrades, visuals.\"\n",
    "sample_08 = \"although the game is old, and the combat is weird, its very fun. after 5 hours of game play, im satisfied with the $ 1 i spent. if you plan on buying the witcher 3, buy this game, and witcher 2 when they are on sale, so you have an understanding of the story. witcher 3 will make alot more sense if you do.\"\n",
    "sample_09 = \"we were ready to clean up all of the trash on our streets once and for all. the first cat was tough to kill, since we had no idea what we would be up against. we lost jerry and milton in the process, but we all knew what was on the line in order to exterminate all of the cats. after the 10th cat, we didn ' t even pay attention to the ones that had died because we had become used to it. after 20, it seemed that some were just killing the cats for sport. the 30th cat was a bit stronger. it had wiped out over half of our entire army, but crazy steve strapped on his vest and let himself get swallowed, where he detonated the cat and saved many of our lives that day. i will never forget the sacrifice he made. it was a rough day. cat 39 had killed all but 8 of us. there was only one left. the next day, i saw him. he had a scar. it was him. it was the one who had killed my parents. i had trained my whole life for this moment. i had done everything i could to get the revenge i wanted. it was my moment. the first rat had blown himself up, along with the second rat.\"\n",
    "sample_10 = \"uncensored boobs on a steam game 11 / 10\"\n",
    "sample_11 = \"overall good magic card game. the only issue i can really see is the random algorithem for shuffeling the deck, more times than not you either hit a major mana pocket or no mana at all for half the deck reguardless of deck size. i would also suggest to the devs to allow specific card buying for coins as its really hard to get a single card from an entire set of cards, and yes i would expect the cost to be much higher than for booster packs, adjusted for card value and rareity.\"\n",
    "sample_12 = \"please update!!! this game could be so amazing!!!! achievements too!!!!\"\n",
    "\n",
    "\n",
    "# they're most repr reviews from LDA\n",
    "sample_w_01 = \"'Fire in the hole!' 'Fire in the hole!' 'Fire in the hole!' 'Fire in the hole!' 'Fire in the hole!' 'Fire in the hole!' 'Fire in the hole!' 'Fire in the hole!' 'Fire in the hole!' 'Fire in the hole!' 'Fire in the hole!' 'Fire in the hole!' 'Fire in the hole!' 'Fire in the hole!' 'Fire in the hole!' 'Fire in the hole!' 'Fire in the hole!' 'Fire in the hole!' 'Fire in the hole!' 'Fire in the hole!' 'Fire in the hole!' 'Fire in the hole!' 'Fire in the hole!' 'Fire in the hole!' 'Fire in the hole!' 'Fire in the hole!' 'Fire in the hole!' 'Fire in the hole!' 'Fire in the hole!' 'Fire in the hole!' 'Fire in the hole!' 'Fire in the hole!' 'Fire in the hole!' 'Fire in the hole!' 'Fire in the hole!' 'Fire in the hole!' 'Fire in the hole!' 'Fire in the hole!' 'Fire in the hole!' 'Fire in the hole!' 'Fire in the hole!' 'Fire in the hole!' 'Fire in the hole!' 'Fire in the hole!' 'Fire in the hole!' 'Fire in the hole!' 'Fire in the hole!' 'Fire in the hole!' 'Fire in the hole!' 'Fire in the hole!' 'Fire in the hole!' 'Fire in the hole!' 'Fire in the hole!' 'Fire in the hole!' 'Fire in the hole!' 'Fire in the hole!' 'Fire in the hole!' 'Fire in the hole!' 'Fire in the hole!' 'Fire in the hole!' 'Fire in the hole!' 'Fire in the hole!' 'Fire in the hole!' 'Fire in the hole!' 'Fire in the hole!' 'Fire in the hole!' 'Fire in the hole!' 'Fire in the hole!' 'Fire in the hole!' 'Fire in the hole!' 'Fire in the hole!' 'Fire in the hole!' 'Fire in the hole!' 'Fire in the hole!' 'Fire in the hole!' 'Fire in the hole!' 'Fire in the hole!' 'Fire in the hole!' 'Fire in the hole!' 'Fire in the hole!' 'Fire in the hole!' 'Fire in the hole!' 'Fire in the hole!' 'Fire in the hole!' 'Fire in the hole!' 'Fire in the hole!' 'Fire in the hole!' 'Fire in the hole!' 'Fire in the hole!' 'Fire in the hole!' 'Fire in the hole!' 'Fire in the hole!' 'Fire in the hole!' 'Fire in the hole!' 'Fire in the hole!' 'Fire in the hole!' 'Fire in the hole!' 'Fire in the hole!' 'Fire in the hole!' 'Fire in the hole!' 'Fire in the hole!' 'Fire in the hole!' 'Fire in the hole!' 'Fire in the hole!' 'Fire in the hole!' 'Fire in the hole!' 'Fire in the hole!' 'Fire in the hole!' 'Fire in the hole!' 'Fire in the hole!' 'Fire in the hole!' 'Fire in the hole!' 'Fire in the hole!' 'Fire in the hole!' 'Fire in the hole!' 'Fire in the hole!' 'Fire in the hole!' 'Fire in the hole!' 'Fire in the hole!' 'Fire in the hole!' 'Fire in the hole!' 'Fire in the hole!' 'Fire in the hole!' 'Fire in the hole!' 'Fire in the hole!' 'Fire in the hole!' 'Fire in the hole!' 'Fire in the hole!' 'Fire in the hole!' 'Fire in the hole!' 'Fire in the hole!' 'Fire in the hole!' 'Fire in the hole!' 'Fire in the hole!'\"\n",
    "sample_w_02 = \"lyrics: give me that money give me that money give me that money give me that money give me that money give me that money give me that money give me that money give me that money give me that money give me that money give me that money give me that money give me that money give me that money give me that money give me that money give me that money give me that money give me that money give me that money give me that money give me that money give me that money give me that money give me that money give me that money give me that money give me that money give me that money give me that money give me that money\"\n",
    "sample_w_03 = \"Hours, and hours, and hours, and hours, and hours, and hours back in the day, and still these days every now and then.\"\n",
    "sample_w_04 = \"SUPER HOT SUPER HOT SUPER HOT SUPER HOT SUPER HOT SUPER HOT SUPER HOT SUPER HOT SUPER HOT SUPER HOT SUPER HOT SUPER HOT SUPER HOT SUPER HOT SUPER HOT SUPER HOT SUPER HOT SUPER HOT SUPER HOT SUPER HOT SUPER HOT SUPER HOT SUPER HOT SUPER HOT SUPER HOT SUPER HOT SUPER HOT SUPER HOT SUPER HOT SUPER HOT SUPER HOT SUPER HOT SUPER HOT SUPER HOT SUPER HOT SUPER HOT SUPER HOT SUPER HOT SUPER HOT SUPER HOT SUPER HOT SUPER HOT SUPER HOT SUPER HOT SUPER HOT SUPER HOT SUPER HOT SUPER HOT SUPER HOT SUPER HOT SUPER HOT SUPER HOT SUPER HOT SUPER HOT SUPER HOT SUPER HOT SUPER HOT SUPER HOT SUPER HOT SUPER HOT\"\n",
    "sample_w_05 = \"Quack Quack Quack Quack Quack Quack Quack Quack Quack Quack Quack Quack Quack Quack Quack Quack Quack Quack Quack Quack Quack Quack Quack Quack Quack Quack Quack Quack Quack Quack Quack Quack Quack Quack Quack Quack Quack Quack Quack Quack Quack Quack Quack Quack Quack Quack Quack Quack Quack Quack Quack Quack Quack Quack Quack Quack Quack Quack Quack Quack Quack Quack Quack Quack Quack Quack Quack Quack   Fun game would reccomend\"\n",
    "sample_w_06 = \"Custom Zombies Custom Zombies Custom Zombies Custom Zombies Custom Zombies Custom Zombies Custom Zombies Custom Zombies Custom Zombies Custom Zombies Custom Zombies Custom Zombies Custom Zombies Custom Zombies Custom Zombies Custom Zombies Custom Zombies Custom Zombies Custom Zombies Custom Zombies Custom Zombies   That is all.\"\n",
    "sample_w_07 = \"Where are the Updates. Where are the Updates. Where are the Updates. Where are the Updates. Where are the Updates. Where are the Updates. Where are the Updates. Where are the Updates. Where are the Updates.  Do NOT buy this game, or any game made by this developer.\"\n",
    "sample_w_08 = \"*click click click click click click click click click click click click click* YOU WIN\"\n",
    "sample_w_09 = \"Even for this price its bad.  2 many bugs, bad collision detection and, on higher difficulty settings, enemies that can hear a mosquito fart...\"\n",
    "sample_w_10 = \"This was a very frustrating experience for me. The controls and mechanics were not explained properly and I wasn't able to complete even the basic missions. I gave up very soon.\"\n",
    "sample_w_11 = \"This is the most immersive MMO on the market. It takes features from the previous Elder Scrolls games with MMO mechanics and seamlessly combine them to form a smooth gameplay experience. If you love TES you'll find a home here.\"\n",
    "sample_w_12 = \"The bosses are WAY too hard. I died 30 times on a boss, rage quit.\""
   ]
  },
  {
   "cell_type": "code",
   "execution_count": 2,
   "metadata": {},
   "outputs": [],
   "source": [
    "# https://steamcommunity.com/profiles/76561198085425935/recommended/1245620/\n",
    "long_review_01 = '''I'm only writing this review because Shadow of the Erdtree was finally announced and I want to go on the record for anyone who never got around to playing it yet for whatever reason. If you heard about the DLC and are thinking \"yeah, maybe now is the time I'll finally dive in\", then this is directed at you.\n",
    "\n",
    "Elden Ring is not for everyone. If you don't respect the grind, then it will kick the ♥♥♥♥ out of you without remorse. There is no easy mode, no save-scumming, no cheat codes, and absolutely no hand holding. Yeah sure.. you can rely on Youtubers and Wiki pages to tell you what some of the ULTIMATE BUILDS might be... but even if you're relying on a crutch like that, you STILL have to put the work in and \"git gud\" when it's all said and done. It also takes a while to even get access to all the weapons/gear that those guides expect you to be using, not to mention earning the experience needed for the build to be viable. So my suggestion to you is to worry less about building an exact carbon copy of a character that some other person already played as, and just try to take it all in and experience it for yourself first.\n",
    "\n",
    "I got every achievement, defeated every boss, and it was the most rewarding grind I've ever embarked upon in a game. I made a lot of mistakes along the way, but I learned from every single one of them. I got my ass kicked every time I booted up the game, but every triumph I celebrated was unlike any other thanks to all of those ass-kickings. From the hardest boss fights to the most annoying mobs, you truly feel every single victory... and that's where I got hooked because the sense of accomplishment you get from progressing in Elden Ring... I'm telling you, it is the ultimate dopamine shot.\n",
    "\n",
    "Now, I personally loved the story, but it's definitely a subjective experience. Elden Ring is a mythological story about gods and demi-gods, and if you take the time to read through the item descriptions, look closer at the game world, and try to fill in the gaps kind of like a detective would, then you will probably enjoy it too. If you are expecting the cutscenes to be the only thing you have to pay attention to in order to know what's going on, you might be disappointed.\n",
    "\n",
    "Without a quest menu or anything like that to keep track of things, the game forces you to do your own due diligence and keep track of the NPCs you've spoken to, and to really listen to what they say because completing side quests isn't like most open world games that just plop a waypoint down for you to walk to after you've skipped all the dialogue. You need to listen and think about it, and if you've already progressed through certain points of the main-story, then you might not even get to experience some of the side quests. This aspect of Elden Ring can be a bit frustrating because you really aren't given any indication if you've missed a part of a quest or if you missed a quest entirely until it's too late. I will just say that if you're bee-lining it straight to the main bosses, you are definitely missing a LOT of what makes the game so good (and you're also missing out on side quests that lead to valuable ITEMS and EXPERIENCE!!!). So if you don't want to miss anything, my advice is to take it all very slow, and just try to clear regions and talk to everyone you see before moving on to new areas. If you think you missed stuff, keep in mind that you can always try again in NG+.\n",
    "\n",
    "Multiplayer is completely optional, but opting in to allow invasions can be rewarding because testing your build against actual players is pretty fun, plus you get to also see what other people are doing with their characters. Sometimes seeing someone else in action can inspire you to try new stuff, or it can make you aware of a flaw in your own character. I will say that I personally played with the player messages turned off though because I didn't want to read possible spoilers, and I felt reading messages left by other players all over the place broke my immersion.. but to each their own.\n",
    "\n",
    "If you've never played Elden Ring before and are finally considering a run through the game for the first time... I truly envy you because I would do anything to wipe my memory and play it again for the first time. It is a game like no other, and it will test you in more ways than one. Just don't get discouraged when you hit a wall.. because we've ALL been there... all you have to do is learn to overcome it. Once you do, I promise there is no greater feeling in all of gaming.'''\n",
    "\n",
    "# https://steamcommunity.com/id/sexphynx/recommended/1245620/\n",
    "long_review_02 = '''Being my first souls game, I was convinced I would be wasting my money, and that the first boss I encountered would kick my ass. And I was proven right in no time, by the Grafted Scion. “But you were expected to be defeated by that one!”, you say. Worry not, the Tree Sentinel was also quick to put me back in my place once I had built the tiniest bit of confidence after beating the tutorial boss.\n",
    "\n",
    "The game is fantastic. It got more and more rewarding as I progressed, and I was happy to beat the game a second and a third time, finding out new secrets during each playthrough. There’s no compliment I can come up with that hasn’t already been used to describe this game.\n",
    "\n",
    "There are so many weapons with so many different builds to try. Bosses can be frustrating but there’s so much fun to be had. Even what is considered to be one of the toughest fights (looking at you, Malenia) is incredibly fair and fun. And the spectral horse you get is most likely the best horse I’ve ever ridden in any game, ever.\n",
    "\n",
    "If I had anything to complain about, are the platforming sections. But after looking it up a bit, apparently FromSoftware never really knew how to do those, and they are so few and far between, that's hardly a reason not to buy the game.\n",
    "\n",
    "I could also complain that I was unable to romance Boggart or Blaidd. They’re so cool.\n",
    "\n",
    "10/10, the DLC cannot come a day too soon.'''\n",
    "\n",
    "# https://steamcommunity.com/profiles/76561198125518593/recommended/1245620/\n",
    "long_review_03 = '''Since the release of Skyrim on 11/11/11 I have been craving an open world experience with rewarding combat, build theories, crazy-beautiful aesthetics, and a real sense of accomplishment (items, dungeons completed, etc).\n",
    "\n",
    "This game delivers the entire experience in a way I've never quite seen. I'm new to the souls-like genre, and FROMSOFTWARE games. Here are the takeaways for me:\n",
    "\n",
    "1. Combat is extremely rewarding by being unforgiving. At first glance, it's hard, but as you delve just a little deeper you realize that combat in this game is an art form that takes practice, and then more practice. The satisfaction is higher than any game I've played in the last decade. The light attacks, heavy attacks, blocks, parrying, sprint attacks, sneak attacks, all play a little different and allow you to really pick your method or avenue of approach.\n",
    "2. Items in game (from armor and weapons, to craftables and ashes) are each, individually, potentially game changing or build changing and can really flesh out a 'build'. It's rewarding to find items in game as any one of them could be the weapon of choice for your desired build.\n",
    "3. Open world is absolutely stunning and feels very scary, yet very exciting. Every new enemy seen needs to be studied, practiced, and learned for optimal combat. New enemies can be scary as you don't immediately know their capabilities. Boss fights are hard (some more than others) and many enemies are the type that require you to come back at a later time when you have stronger tools, or more HP, or you git gud. Roaming new areas is thrilling and you begin to truly have to balance and manage your HP, FP, and Stamina while in combat. The lighting in caves with torches or lanterns is immersive and you feel the danger.\n",
    "4. Character building is straightforward. You level up as you beat enemies and use the runes (XP, currency) as you see fit to either purchase things, or level up....etc and you can decide what attribute to increase. Trying new weapons, new armors, is both fun and interesting.\n",
    "\n",
    "The need to knows:\n",
    "1. Game won't hold your hand. You are in a labyrinth with many things that all can kill you. You will not know exactly what you're doing, where you're going, or why you are existing.\n",
    "2. Everything you see can kill you if you become too careless. Slow and steady usually is the best method. Slow is smooth and smooth is fast.\n",
    "3. Ashes of War, summoning and crafting must be experimented with to understand. Again, no hand holding.\n",
    "4. You will ask yourself, \"How in the world am I supposed to ever be able to complete this?\" Many, many times.\n",
    "5. Puzzles and secrets abound, exploration and a good memory are key.\n",
    "6. While there is a multiplayer experience (PVP and PVE) it's a bit confusing and from what I've experienced so far, not necessarily mandatory. The single player experience is strong with this one.\n",
    "\n",
    "I've spent 42 hours in this game as of writing this and I've barely left the starting area - Limgrave. My nightmares consist of Runebears, traversing the mist, and boss fights. I've been startled, pillaged, rekt, and absolutely confused many times, but I wouldn't change any of it. I remember the first time I saw a giant I had Attack on Titan flashbacks and began trying to summon my inner Captain Levi. It's just a blast. An absolute blast. The greatest feeling of accomplishment is when you start to beat bosses or new enemies on your first attempt. You can feel your ability, your reaction time, your muscle-memory coming more and more into play as you practice, and it creates a thrilling experience. Struggling with an enemy type for hours only to come back a few days later and realize how much stronger and faster you've gotten is a very rewarding experience.'''\n",
    "\n",
    "# https://steamcommunity.com/id/apasserby/recommended/1817190/\n",
    "long_review_04 = '''Pros\n",
    "+ Carries over the great traversal and combat mechanics from the first game\n",
    "+ You can now perform wall and ceiling takedowns\n",
    "+ Great port; runs smooth for the most part\n",
    "+ You can get a Spider-Cat travel companion\n",
    "+ More air tricks variations\n",
    "+ Great soundtrack\n",
    "+ Great accessibility options: action shortcuts, disabling button mashing QTEs etc\n",
    "\n",
    "Cons\n",
    "- Too short to be worth the price; has only around 1/3 the content of the first game\n",
    "- Cutscenes are unskippable, even in NG+; only a select few cinematics can be skipped\n",
    "- Not as many fun variations to take down enemies due to fewer and less interesting gadgets\n",
    "- Finishing move mechanics were better in the first game\n",
    "- Several bugs and visual glitches, with some being carried over from the first game\n",
    "- The story villain is barely a footnote in the story\n",
    "- No DLC\n",
    "\n",
    "Neutral\n",
    "- Story is too generic, even by stereotypical comic book standards\n",
    "- Miles is significantly squishier than Peter; may be enjoyable for those looking for a challenge\n",
    "- Camouflage and Venom attacks overcompensate and can be quite overpowered\n",
    "- I find Miles's sQuEAky voice mildly annoying, but perhaps it's fitting for a 17 year old teenager.\n",
    "\n",
    "Worth the play, but wait for a sale\n",
    "~16 hours for 100% completion, and ~21 hours for 100% achievements is just too short for this game to be worth a buy at full price. You also get fewer gadgets and they feel rather uninspired. While I enjoyed using all 8 gadgets in the first game, I found myself mainly using only 2 in this one.\n",
    "\n",
    "And while this game is inferior to the first in almost every way, 2018's Spider-Man set such a ridiculously high standard that simply sharing the same core gameplay still makes this game great. So if you enjoyed the first game, this is definitely worth the play, but definitely only get it at at least 25% off unless you're impatient like me.'''\n",
    "\n",
    "\n",
    "# https://steamcommunity.com/id/KnyH/recommended/1817190/6\n",
    "long_review_05 = '''Spider-Man: Miles Morales is definitely a great superhero game and it does a lot to improve on its predecessor in terms of combat and traversal. It never really gets old to web-sling through an accurate depiction of New-York City. The story and game play was enjoyable enough for me to at least want a game play session in everyday. The story had like able characters and not one really stood out to me as a bad character. Graphics are amazing and as expected.\n",
    "\n",
    "However, the game did miss two marks for me. One big gripe I had with the game was the overall playtime. If we disregard side missions and the open-world activities, we are looking at 6-7 hours of main mission playtime. It also does not help that the first game doubles this playtime. It only took me around 22 hours to complete the game 100%. Another issue I could not look over was the lack of memorable boss fights, its hard not to compare it to the first game but, the first game did have many good boss fights against Spider-Man's iconic villains. This game did not even reach to half of that. Although, the final boss was a banger.\n",
    "\n",
    "Overall, it is pretty difficult to justify paying full price for this game, but I can say that it is game that should not be looked over, especially if you were a fan of the first game. If you want to wait for a sale, that's cool, if you want to buy asap I'd say that's cool too.'''\n"
   ]
  },
  {
   "cell_type": "code",
   "execution_count": 3,
   "metadata": {},
   "outputs": [],
   "source": [
    "# https://steamcommunity.com/profiles/76561198845032034/recommended/1817190/\n",
    "middle_review_01 = '''Alright, so after completing all achievements I feel like this game has some decent replayablilty. But I do have my share of complaints and praises about this game.\n",
    "\n",
    "1. This game is too short. I mean for almost the same price as Marvel's Spiderman, I finished all objectives in well around 26 hrs as compared to the 100+ hrs it took me for Spiderman.\n",
    "2. There needs to be some varieties of enemies and bosses. I feel like I only remember Prowler, Rhino and Tinkerer fights, but then again the first point kinda covers it.\n",
    "3. The venom and cloaking are awesomely done in this game, loved those abilities.\n",
    "4. Costumes are downright sick, better than the Spiderman ones' imo.\n",
    "5. Ran really well on Steam Deck (finished it on deck).\n",
    "\n",
    "If this game had the same or almost similar amount of gameplay content as Spiderman, this would have been my favorite spiderman game yet.\n",
    "\n",
    "Iac, this game is worth playing, maybe get it on sale coz original price ain't worth it.'''\n",
    "\n",
    "# https://steamcommunity.com/id/chrono2jam/recommended/1817190/\n",
    "middle_review_02 = '''The game is good but imo, it's not as good as the first one. It way shorter and lack of content compared to the first one, it feels like bigger than normal DLC but way too small for a standalone game. It also has less gadget, but there few mechanic's to make it up. On top of that, I encountered couple of annoying crashes when doing some challenges.\n",
    "\n",
    "That said, the story is (un)surprisingly good and new mechanic's are amazing, I still miss some of the old skills and gadgets tho. However, this price point is way too expensive for the content it offer, especially if you compare with the first one.\n",
    "\n",
    "Be patience and wait for the sale.'''"
   ]
  },
  {
   "cell_type": "code",
   "execution_count": 4,
   "metadata": {},
   "outputs": [],
   "source": [
    "sample_fyp_433 = '''Great time! played many hours on console first! now trying to get my collection to switch to pc. Highly recommend'''\n",
    "\n",
    "sample_fyp_329 = '''My friends and I have a separate channel in our Discord server where we rant about problems with the game. We do so multiple times a week.\n",
    "\n",
    "When I first jumped into this game, I was amazed. So much to do and so much to explore! It felt great. Like I was on the cusp of some fantastic new adventure.\n",
    "\n",
    "But it didn't last - you knew this was coming. From the outside and when you just dip your finger in, it certainly looks like there's a lot to Starfield, but you eventually realise that there really isn't. A mile wide and an inch deep encapsulates this game perfectly.\n",
    "\n",
    "There are good things about Starfield, make no mistake. But nearly without fail, it's stunted by the bad things and prevented from actually being great. Let's look at an example: shipbuilding in this game is really fun. You can look at what so many players have managed to create. That's where it ends, though, because as with many other things here - THERE'S NOTHING TO IT. Your ship is basically a glorified fast travel terminal. \n",
    "\n",
    "There's also outpost building. It seems really cool, you know, going out there into the vast unknown and building your own little slice of home there. But, again, THERE'S NOTHING TO IT. Once you build your first one just to see how cool it is, you quickly realise that there isn't really any more of a point to doing so.\n",
    "\n",
    "That brings me nicely to exploration. Who the hell at Bethesda played this and thought \"hey, it will be fun!\" because it isn't. You can't land wherever you want on the planet as you can in, say, No Man's Sky. You have to point at where you want on the map, and then through a few loading screens, you finally arrive into your allotted fishbowl. I call it a fishbowl because that's precisely what it is, and it's not a particularly interesting one either. You slow jog around for a while to see the usual points of interest that are replicated on every other planet in the game, no matter its character, from supposedly civilised and settled ones, all the way to the ones which are supposed to be more 'undiscovered'. No matter what, you'll find all the same things. It's especially puzzling when it comes to the temples in game - a temple that has supposedly been undiscovered for centuries by humans is only a few hundred metres away from a human settlement of some form. It simply makes no sense. Then after slow jogging around this fishbowl, you will be hit with an invisible wall. Oh, and did I mention that it has no land vehicles of any sort? What the hell is a space exploration game without a space buggy? I also don't think I need to mention that it's unacceptable to have so many loading screens from a game released in 2023.\n",
    "\n",
    "I can't begin to state how much of a better design decision it would have been for Starfield to have only a few planets that were handcrafted without invisible walls or random generation, or at least, that kept to a minimum. But they sold that away for the \"1,000 planets\" marketing gimmick. Beautiful handcrafted worlds are the bread and butter of Bethesda's games. It's why we love them and more importantly, why we put up with the bugs and the other misgivings. Without that, what does the game have? Nothing. And that's where we're at with Starfield.\n",
    "\n",
    "In general, I feel that Bethesda may have just lost it. Other game companies have put out far superior titles with features that are better than in Starfield, or they're actually present in the first place. It's like they're sitting on a sugar high from the Skyrim days (and even then, the game has actually gone backwards in several respects). They need to wake up and move on, because everyone else has. They also talk about how this game is their 'passion project' that they've wanted to make since Morrowind. If this is their passion project, you should be very, very concerned about what comes next.'''"
   ]
  },
  {
   "cell_type": "code",
   "execution_count": 5,
   "metadata": {},
   "outputs": [
    {
     "name": "stdout",
     "output_type": "stream",
     "text": [
      "{'review_ID': 123, 'review_text': 'Great time! played many hours on console first! now trying to get my collection to switch to pc. Highly recommend', 'datetime': datetime.datetime(2024, 3, 20, 21, 43, 49, 533062), 'hash': '2ae52d9e8465e3e37f15c39dcf501f38b4e8187180647ad397588095'}\n",
      "\n",
      "\n",
      "\n",
      "Len of review_text: 20\n"
     ]
    }
   ],
   "source": [
    "from datetime import datetime\n",
    "from hashlib import sha224\n",
    "\n",
    "# create an object with review_ID, review_text and the datetime of creation\n",
    "def create_review(review_text, review_ID):    \n",
    "    review_obj = {\n",
    "        \"review_ID\": review_ID,\n",
    "        \"review_text\": review_text,\n",
    "        \"datetime\": datetime.now()\n",
    "    }\n",
    "\n",
    "    # create a hash of the review_text for creating unique collection with Chromadb\n",
    "    hash = sha224(str(review_obj).encode()).hexdigest()\n",
    "    review_obj['hash'] = hash\n",
    "\n",
    "    return review_obj\n",
    "\n",
    "# the temporary review_ID\n",
    "review_ID = 123\n",
    "# select a comment to test with\n",
    "review_text = sample_fyp_433\n",
    "review_obj = create_review(review_text, review_ID)\n",
    "\n",
    "print(review_obj)\n",
    "print('\\n\\n')\n",
    "print('Len of review_text:', len(review_text.split()))\n"
   ]
  },
  {
   "cell_type": "code",
   "execution_count": 6,
   "metadata": {},
   "outputs": [],
   "source": [
    "\n",
    "import chromadb\n",
    "\n",
    "# from chromadb.utils import embedding_functions\n",
    "\n",
    "chroma_client = chromadb.HttpClient(host='localhost', port=8000)"
   ]
  },
  {
   "cell_type": "code",
   "execution_count": 7,
   "metadata": {},
   "outputs": [],
   "source": [
    "# chroma_client.delete_collection(review_obj['hash'])"
   ]
  },
  {
   "cell_type": "code",
   "execution_count": 8,
   "metadata": {},
   "outputs": [],
   "source": [
    "from langchain_community.llms import Ollama\n",
    "\n",
    "llm_mistral7b = Ollama(\n",
    "    model='mistral:7b-instruct-v0.2-q4_0', temperature=0.2,\n",
    "    num_gpu = 1,        # disable/enable gpu for testing\n",
    ")\n",
    "\n",
    "llm_mixtral8x7b = Ollama(\n",
    "    model='mixtral:8x7b-instruct-v0.1-q4_0', temperature=0.2,\n",
    "    num_gpu = 1,        # disable/enable gpu for testing\n",
    ")"
   ]
  },
  {
   "cell_type": "code",
   "execution_count": 9,
   "metadata": {},
   "outputs": [
    {
     "name": "stderr",
     "output_type": "stream",
     "text": [
      "/root/.local/lib/python3.9/site-packages/tqdm/auto.py:21: TqdmWarning: IProgress not found. Please update jupyter and ipywidgets. See https://ipywidgets.readthedocs.io/en/stable/user_install.html\n",
      "  from .autonotebook import tqdm as notebook_tqdm\n",
      "/root/miniforge3/envs/fyp-test-wsl-tm/lib/python3.9/site-packages/torch/_utils.py:831: UserWarning: TypedStorage is deprecated. It will be removed in the future and UntypedStorage will be the only storage class. This should only matter to you if you are using storages directly.  To access UntypedStorage directly, use tensor.untyped_storage() instead of tensor.storage()\n",
      "  return self.fget.__get__(instance, owner)()\n"
     ]
    }
   ],
   "source": [
    "from langchain_community.embeddings.sentence_transformer import (\n",
    "    SentenceTransformerEmbeddings,\n",
    ")\n",
    "\n",
    "embedding_func = SentenceTransformerEmbeddings(model_name=\"all-MiniLM-L6-v2\")\n",
    "\n",
    "\n",
    "from langchain.text_splitter import CharacterTextSplitter, TokenTextSplitter\n",
    "from langchain_community.document_loaders import TextLoader, DirectoryLoader\n",
    "from langchain.vectorstores import Chroma\n",
    "\n",
    "# db = Chroma(\n",
    "#     client=chroma_client,\n",
    "#     collection_name=review_obj['hash'],\n",
    "#     embedding_function=embedding_func,\n",
    "\n",
    "# )\n",
    "\n",
    "# text_splitter = CharacterTextSplitter(chunk_size=1000, chunk_overlap=120)\n",
    "text_spliter = TokenTextSplitter(chunk_size=250, chunk_overlap=40)\n",
    "docs = text_spliter.create_documents([review_text], metadatas=[{\"source\":\"review_01\"}])\n",
    "\n",
    "\n",
    "# temp_collection.add(\n",
    "#     documents=docs,\n",
    "#     ids=[str(i) for i in range(len(docs))],\n",
    "#     embedding_function=embedding_function\n",
    "# )\n",
    "\n",
    "# an in-memory Chroma db for one-time usage\n",
    "# pass a unique collection prevent multiple-thread using the same collection -> retriever collision\n",
    "temp_db = Chroma.from_documents(\n",
    "    documents=docs,\n",
    "    embedding=embedding_func,\n",
    "    collection_name=review_obj['hash'],\n",
    "    # client=chroma_client        # pass the client for management\n",
    ")\n",
    "\n",
    "# \n",
    "\n",
    "# db = Chroma.from_documents(docs, embedding_func)\n",
    "\n",
    "retriever = temp_db.as_retriever(search_kwargs={\"k\": 5})"
   ]
  },
  {
   "cell_type": "code",
   "execution_count": 10,
   "metadata": {},
   "outputs": [
    {
     "name": "stdout",
     "output_type": "stream",
     "text": [
      "[Document(page_content='Great time! played many hours on console first! now trying to get my collection to switch to pc. Highly recommend', metadata={'source': 'review_01'})]\n",
      "\n",
      "\n",
      "\n",
      "1\n"
     ]
    }
   ],
   "source": [
    "print(docs)\n",
    "print('\\n\\n')\n",
    "print(len(docs))"
   ]
  },
  {
   "cell_type": "code",
   "execution_count": 11,
   "metadata": {},
   "outputs": [
    {
     "name": "stdout",
     "output_type": "stream",
     "text": [
      "page_content='Great time! played many hours on console first! now trying to get my collection to switch to pc. Highly recommend' metadata={'source': 'review_01'}\n"
     ]
    }
   ],
   "source": [
    "for d in docs:\n",
    "    print(d)"
   ]
  },
  {
   "cell_type": "code",
   "execution_count": 12,
   "metadata": {},
   "outputs": [],
   "source": [
    "# check the collection\n",
    "# temp_collection = chroma_client.get_collection(review_obj['hash'])\n",
    "# temp_collection.peek()"
   ]
  },
  {
   "cell_type": "code",
   "execution_count": 13,
   "metadata": {},
   "outputs": [
    {
     "name": "stdout",
     "output_type": "stream",
     "text": [
      " 1. The review is overly general and lacks specific details about the game, which is a common characteristic of spam reviews.\n",
      "2. The focus of the review is on the user's personal gaming habits rather than the game itself, which is another indication of a possible spam review.\n",
      "3. There is no critique or evaluation of the game's features, mechanics, or content, which is unusual for a genuine review and supports the suspicion that this could be a spam review.\n"
     ]
    }
   ],
   "source": [
    "from langchain_core.prompts import ChatPromptTemplate\n",
    "\n",
    "system_template = \\\n",
    "'''You are reading reviews of a game to understand the characteristics of the game. Use the following pieces of context to answer user's question.\n",
    "'''\n",
    "\n",
    "summary_template = \\\n",
    "'''Determine if the review is a spam for a game. Output three reasons for your decision. Do NOT output other text.\n",
    "\n",
    "The review is as follows:\n",
    "\\'\\'\\'\n",
    "{review}\n",
    "\\'\\'\\'\n",
    "'''\n",
    "\n",
    "chat_prompt = ChatPromptTemplate.from_messages([\n",
    "    (\"system\", system_template),\n",
    "    (\"human\", summary_template),\n",
    "])\n",
    "\n",
    "# chain = chat_prompt | llm_mistral7b\n",
    "chain = chat_prompt | llm_mixtral8x7b\n",
    "response = chain.invoke({\n",
    "    \"review\":str(review_text), \n",
    "    # \"game_name\":str(\"Duck Game\"), \n",
    "    # \"game_description\":str(\"Enter the futuristic year of 1984, an age where ducks run wild in a frantic battle for glory. Win over the crowd and gain a following by blasting your feathered friends with Shotguns, Net Guns, Mind Control Rays, Saxophones, Magnet Guns, and pretty much anything else a duck could use as a weapon. One hit and you're roasted. This is DUCK GAME. Don't blink.\")\n",
    "})\n",
    "\n",
    "print(response)"
   ]
  },
  {
   "cell_type": "code",
   "execution_count": 14,
   "metadata": {},
   "outputs": [
    {
     "name": "stdout",
     "output_type": "stream",
     "text": [
      " Based on the context provided, I cannot directly output a yes or no answer as I am an assistant designed to provide explanations and justifications for my decisions. However, based on the information given, the review does exhibit some characteristics of spam reviews as outlined in my previous response. Therefore, if a yes or no answer were required, it would be 'Yes'.\n"
     ]
    }
   ],
   "source": [
    "# continue the chain with the response from LLM to determine if the review is spam\n",
    "human_template_2 = \\\n",
    "'''\n",
    "Is the game review is a spam? \n",
    "Output 'YES' if the review is a spam and 'NO' if the review is not a spam. Only output the decision. Do NOT output the reasons. Do NOT output other text.\n",
    "'''\n",
    "\n",
    "chat_prompt = ChatPromptTemplate.from_messages([\n",
    "    (\"system\", system_template),\n",
    "    (\"human\", summary_template),\n",
    "    (\"ai\", response),\n",
    "    (\"human\", human_template_2)\n",
    "])\n",
    "\n",
    "chain = chat_prompt | llm_mistral7b\n",
    "response_2 = chain.invoke({\n",
    "    \"review\": str(review_text),\n",
    "    # \"info\": str(response)\n",
    "})\n",
    "\n",
    "print(response_2)"
   ]
  },
  {
   "cell_type": "markdown",
   "metadata": {},
   "source": [
    "---"
   ]
  },
  {
   "cell_type": "markdown",
   "metadata": {},
   "source": [
    "The prompt above is really good, but it uses lots of prompt. We can optimize it by looking at the number of documents created.\n",
    "\n",
    "Optimize the RAG and ask prompt to generate different aspects at one time\n",
    "\n",
    "len(docs) > 2, <= 10 -> three prompts (3, 3, 4)  \n",
    "len(docs) > 10 -> 10 prompts "
   ]
  },
  {
   "cell_type": "markdown",
   "metadata": {},
   "source": [
    "3, 3, 4 combination\n",
    "\n",
    "without using RetrievalQAWithSourcesChain\n",
    "\n",
    "as using purely PromptTemplate is more neat and allows more customability."
   ]
  },
  {
   "cell_type": "code",
   "execution_count": 15,
   "metadata": {},
   "outputs": [
    {
     "name": "stderr",
     "output_type": "stream",
     "text": [
      "Number of requested results 5 is greater than number of elements in index 1, updating n_results = 1\n"
     ]
    },
    {
     "name": "stdout",
     "output_type": "stream",
     "text": [
      "Extract the the following aspects of the game from the reviews. The aspects are : ['Gameplay', 'Narrative', 'Accessibility']\n"
     ]
    },
    {
     "name": "stderr",
     "output_type": "stream",
     "text": [
      "Number of requested results 5 is greater than number of elements in index 1, updating n_results = 1\n"
     ]
    },
    {
     "name": "stdout",
     "output_type": "stream",
     "text": [
      " Gameplay: The game is enjoyable with high replayability, mentioned as playing many hours on console.\n",
      "\n",
      "Narrative: NA\n",
      "\n",
      "Accessibility: The game is available on multiple platforms, including console and PC.\n",
      "\n",
      "{\"Gameplay\": \"The game is enjoyable with high replayability, mentioned as playing many hours on console.\", \"Narrative\": \"NA\", \"Accessibility\": \"The game is available on multiple platforms, including console and PC.\"}\n",
      "\n",
      "\n",
      "\n",
      "\n",
      "\n",
      "\n",
      "Extract the the following aspects of the game from the reviews. The aspects are : ['Sound', 'Graphics & Art Design', 'Performance']\n"
     ]
    },
    {
     "name": "stderr",
     "output_type": "stream",
     "text": [
      "Number of requested results 5 is greater than number of elements in index 1, updating n_results = 1\n"
     ]
    },
    {
     "name": "stdout",
     "output_type": "stream",
     "text": [
      " Sound: NA\n",
      "Graphics & Art Design: The graphics and art design are fantastic, with detailed environments and character models that really bring the game to life.\n",
      "Performance: NA\n",
      "\n",
      "JSON: {\"Sound\": \"NA\", \"Graphics & Art Design\": \"The graphics and art design are fantastic, with detailed environments and character models that really bring the game to life.\", \"Performance\": \"NA\"}\n",
      "\n",
      "\n",
      "\n",
      "\n",
      "\n",
      "\n",
      "Extract the the following aspects of the game from the reviews. The aspects are : ['Bug', 'Suggestion', 'Price', 'Overall']\n",
      " {\"Bug\": \"NA\", \"Suggestion\": \"NA\", \"Price\": \"The price is not mentioned in the review.\", \"Overall\": \"The reviewer highly recommends the game, indicating a positive overall experience.\"}\n",
      "\n",
      "\n",
      "\n",
      "\n",
      "\n",
      "\n"
     ]
    }
   ],
   "source": [
    "from langchain.chains import RetrievalQAWithSourcesChain\n",
    "from langchain_core.prompts import PromptTemplate\n",
    "import json\n",
    "from methods_from_main_branch import _parsing_json_single, _parsing_json_multiple\n",
    "\n",
    "prompt_template = \\\n",
    "'''You are reading reviews of a game to understand the characteristics of the game. Extract the following aspect of the game from the reviews.\n",
    "The aspects are {aspects}. For each aspect, output a paragraph with less than 50 words. Then create a JSON with apsects name as key and the paragraph as value.\n",
    "{output_format}\n",
    "Only output the JSON. Do NOT output other text.\n",
    "\n",
    "{summaries}\n",
    "\n",
    "If you don't know the answer, output only \\\"NA\\\". Do NOT try to make up an answer. Do NOT output other text.'''\n",
    "\n",
    "my_question_template = \\\n",
    "'''Extract the the following aspects of the game from the reviews. The aspects '''\n",
    "\n",
    "GAME_ASPECTS = ['Gameplay', 'Narrative', 'Accessibility', 'Sound', 'Graphics & Art Design', 'Performance', 'Bug', 'Suggestion', 'Price', 'Overall']\n",
    "aspects_response_334 = {k: '' for k in GAME_ASPECTS}\n",
    "\n",
    "for (start, end) in ((0, 3), (3, 6), (6, 10)):\n",
    "    aspects = GAME_ASPECTS[start:end]\n",
    "\n",
    "    # formulate the prompts with f-string\n",
    "    # for RAG\n",
    "    my_question = my_question_template + f\"{'is ' if len(aspects) <= 1 else 'are '}\" + ': ' + f'{aspects}'\n",
    "    print(my_question)\n",
    "\n",
    "    # for output format\n",
    "    output_json_template = {k: '...' for k in aspects}\n",
    "    output_format = \"Output the JSON as a single line with no spaces between the key, value pairs. For example, if the aspects are {}, the JSON should be: {}\".format(\n",
    "        str(aspects)[1:-1].replace('\\'', '\\\"'), str(output_json_template).replace('\\'', '\\\"')\n",
    "    )\n",
    "\n",
    "\n",
    "    # get the context\n",
    "    relevant_docs = retriever.get_relevant_documents(query=review_text, k=5)\n",
    "\n",
    "    prompt = PromptTemplate(\n",
    "        template=prompt_template,\n",
    "        input_variables=[\"aspects\", \"output_format\", \"summaries\"]\n",
    "    )\n",
    "\n",
    "    # chain = prompt | llm_mistral7b\n",
    "    chain = prompt | llm_mixtral8x7b\n",
    "\n",
    "\n",
    "    for i in range(5):\n",
    "\n",
    "        response_334 = chain.invoke({\n",
    "            \"aspects\": str(aspects),\n",
    "            \"summaries\": str('\\n'.join([d.page_content for d in relevant_docs])),\n",
    "            \"output_format\": str(output_format)\n",
    "        })\n",
    "\n",
    "        print(response_334)\n",
    "        print('\\n')\n",
    "\n",
    "\n",
    "\n",
    "        # string processing for the response to get a JSON object\n",
    "\n",
    "        # step 1: check if the response returns multiple JSON or a single JSON\n",
    "        # by counting the number of '{' and '}' in the response\n",
    "\n",
    "        open_brace_count = response_334.count('{')\n",
    "        close_brace_count = response_334.count('}')\n",
    "\n",
    "        # a single json\n",
    "        if open_brace_count < 2 and close_brace_count < 2:\n",
    "\n",
    "            # Step 2\n",
    "            # manually get the JSON object by finding each aspect in the response\n",
    "            # have to consider both single and double quotes\n",
    "            # as mistral AI sometimes uses single quotes and sometimes double quotes\n",
    "            _parsing_json_single(response_334, aspects_response_334, aspects)\n",
    "\n",
    "        # it returns multiple JSON\n",
    "        # i.e. the model adopted a step by step output to consider each aspect, and then create a JSON for each aspect\n",
    "        # resulting in multiple JSONs interlaced with other text\n",
    "        # an example of such a response:\n",
    "        # '''Gameplay: The game is challenging with a variety of weapons and builds to try. Bosses can be frustrating but are ultimately fun and fair. Platforming sections are less successful, but rare. ({\"Gameplay\": \"The game is challenging with a variety of weapons and builds to try. Bosses can be frustrating but are ultimately fun and fair. Platforming sections are less successful, but rare.\"})\\n\\nNarrative: The game features a fantastic narrative that becomes more rewarding as you progress, with new secrets to discover during each playthrough. ({\"Narrative\": \"The game features a fantastic narrative that becomes more rewarding as you progress, with new secrets to discover during each playthrough.\"})\\n\\nAccessibility: The game is not very accessible for players new to the genre, with a steep learning curve and some frustrating elements. ({\"Accessibility\": \"The game is not very accessible for players new to the genre, with a steep learning curve and some frustrating elements.\"})''''\n",
    "        else:\n",
    "            # sanity check\n",
    "            if open_brace_count != close_brace_count:\n",
    "                print(f'open_brace_count: {open_brace_count} != close_brace_count: {close_brace_count}. Retry...')\n",
    "                continue\n",
    "\n",
    "            # manually get the JSON object by finding each aspect in the response\n",
    "            # have to consider both single and double quotes\n",
    "            # as mistral AI sometimes uses single quotes and sometimes double quotes\n",
    "            _parsing_json_multiple(response_334, open_brace_count, aspects_response_334, aspects)\n",
    "            \n",
    "\n",
    "        try:\n",
    "            retry_flag = False\n",
    "            for aspect in aspects:\n",
    "                t = aspects_response_334[aspect]      # attempting to have access to each value\n",
    "\n",
    "                if t == '':\n",
    "                    retry_flag = True\n",
    "                    break\n",
    "                \n",
    "        except:\n",
    "            print(f'Error in accessing: {aspect}. Retry...')\n",
    "            continue\n",
    "\n",
    "        if retry_flag:\n",
    "            print('Retry...'); print('\\n\\n')\n",
    "            continue\n",
    "        \n",
    "        # leave the retry loop if the response is a JSON\n",
    "        break\n",
    "    \n",
    "    print('\\n\\n\\n')"
   ]
  },
  {
   "cell_type": "code",
   "execution_count": 16,
   "metadata": {},
   "outputs": [
    {
     "name": "stdout",
     "output_type": "stream",
     "text": [
      "Gameplay: The game is enjoyable with high replayability, mentioned as playing many hours on console.\n",
      "\n",
      "\n",
      "Narrative: NA\n",
      "\n",
      "\n",
      "Accessibility: The game is available on multiple platforms, including console and PC.\n",
      "\n",
      "\n",
      "Sound: NA\n",
      "\n",
      "\n",
      "Graphics & Art Design: The graphics and art design are fantastic, with detailed environments and character models that really bring the game to life.\n",
      "\n",
      "\n",
      "Performance: NA\n",
      "\n",
      "\n",
      "Bug: NA\n",
      "\n",
      "\n",
      "Suggestion: NA\n",
      "\n",
      "\n",
      "Price: The price is not mentioned in the review.\n",
      "\n",
      "\n",
      "Overall: The reviewer highly recommends the game, indicating a positive overall experience.\n",
      "\n",
      "\n"
     ]
    }
   ],
   "source": [
    "for k, v in aspects_response_334.items():\n",
    "    print(f'{k}: {v}')\n",
    "    print('\\n')"
   ]
  },
  {
   "cell_type": "markdown",
   "metadata": {},
   "source": [
    "---"
   ]
  },
  {
   "cell_type": "markdown",
   "metadata": {},
   "source": [
    "A prompt to determine whether the extracted asepcts are positive or negative to the game (ignore neutral)"
   ]
  },
  {
   "cell_type": "code",
   "execution_count": 17,
   "metadata": {},
   "outputs": [
    {
     "name": "stdout",
     "output_type": "stream",
     "text": [
      " {'Gameplay': 'positive', 'Narrative': 'NA', 'Accessibility': 'positive'}\n",
      "\n",
      "sub response: '''{'Gameplay': 'positive', 'Narrative': 'NA', 'Accessibility': 'positive'}''' is not a JSON. Resort to manual parse...\n",
      " {\"Sound\": \"NA\", \"Graphics & Art Design\": \"positive\", \"Performance\": \"NA\"}\n",
      "\n",
      " {'Bug': 'NA', 'Suggestion': 'NA', 'Price': 'NA', 'Overall': 'positive'}\n",
      "\n",
      "sub response: '''{'Bug': 'NA', 'Suggestion': 'NA', 'Price': 'NA', 'Overall': 'positive'}''' is not a JSON. Resort to manual parse...\n"
     ]
    }
   ],
   "source": [
    "prompt_template = \\\n",
    "'''You are reading reviews of a game to understand the characteristics of the game. Determine whether the reviews of each aspect are positive, or negative.\n",
    "The aspects are {aspects}. For each aspect, output \\'positive\\' if the review is positive, and \\'negative\\' if the review is negative. Output \\'NA\\' if there is no review for an aspect. Only output the decision. Do NOT output other text. Then create a JSON with apsects name as key and sentiment as value.\n",
    "{output_format}\n",
    "Do NOT output other text.\n",
    "\n",
    "The reviews are as follows. The reviews are wrapped by thee consecitive apostrophes\n",
    "\\'\\'\\'\n",
    "{context}\n",
    "\\'\\'\\'\n",
    "\n",
    "Do NOT try to make up an answer. Do NOT output other text.\n",
    "'''\n",
    "\n",
    "aspects_resp_sentiment = {k: '' for k in GAME_ASPECTS}\n",
    "\n",
    "for (start, end) in ((0, 3), (3, 6), (6, 10)):\n",
    "    aspects = GAME_ASPECTS[start:end]\n",
    "\n",
    "    output_json_template = {k: '...' for k in aspects}\n",
    "    output_format = \"Output the JSON as a single line with no spaces between the key, value pairs. For example, if the aspects are {}, the JSON should be: {}\".format(\n",
    "        str(aspects)[1:-1].replace('\\'', '\\\"'), str(output_json_template).replace('\\'', '\\\"')\n",
    "    )\n",
    "\n",
    "    prompt = PromptTemplate(\n",
    "        template=prompt_template,\n",
    "        input_variables=[\"aspects\", \"output_format\", \"context\"]\n",
    "    )\n",
    "\n",
    "    # chain = prompt | llm_mistral7b\n",
    "    chain = prompt | llm_mixtral8x7b\n",
    "\n",
    "    for i in range(5):\n",
    "        resp = chain.invoke({\n",
    "            \"aspects\": str(aspects),\n",
    "            \"context\": str({k: v for k, v in aspects_response_334.items() if k in aspects}),\n",
    "            \"output_format\": str(output_format)\n",
    "        })\n",
    "\n",
    "        print(resp); print()\n",
    "\n",
    "        # string processing for the response to get a JSON object\n",
    "        open_brace_count = resp.count('{')\n",
    "        close_brace_count = resp.count('}')\n",
    "\n",
    "        # a single json\n",
    "        if open_brace_count < 2 and close_brace_count < 2:\n",
    "\n",
    "            # Step 2\n",
    "            # manually get the JSON object by finding each aspect in the response\n",
    "            # have to consider both single and double quotes\n",
    "            # as mistral AI sometimes uses single quotes and sometimes double quotes\n",
    "            _parsing_json_single(resp, aspects_resp_sentiment, aspects)\n",
    "\n",
    "            try:\n",
    "                for aspect in aspects:\n",
    "                    _ = aspects_resp_sentiment[aspect]      # attempting to have access to each value\n",
    "            except:\n",
    "                print(f'Error in accessing: {aspect}. Retry...')\n",
    "                continue\n",
    "\n",
    "\n",
    "        # it returns multiple JSON\n",
    "        # i.e. the model adopted a step by step output to consider each aspect, and then create a JSON for each aspect\n",
    "        # resulting in multiple JSONs interlaced with other text\n",
    "        # an example of such a response:\n",
    "        # '''Gameplay: The game is challenging with a variety of weapons and builds to try. Bosses can be frustrating but are ultimately fun and fair. Platforming sections are less successful, but rare. ({\"Gameplay\": \"The game is challenging with a variety of weapons and builds to try. Bosses can be frustrating but are ultimately fun and fair. Platforming sections are less successful, but rare.\"})\\n\\nNarrative: The game features a fantastic narrative that becomes more rewarding as you progress, with new secrets to discover during each playthrough. ({\"Narrative\": \"The game features a fantastic narrative that becomes more rewarding as you progress, with new secrets to discover during each playthrough.\"})\\n\\nAccessibility: The game is not very accessible for players new to the genre, with a steep learning curve and some frustrating elements. ({\"Accessibility\": \"The game is not very accessible for players new to the genre, with a steep learning curve and some frustrating elements.\"})''''\n",
    "        else:\n",
    "            # sanity check\n",
    "            if open_brace_count != close_brace_count:\n",
    "                print(f'open_brace_count: {open_brace_count} != close_brace_count: {close_brace_count}. Retry...')\n",
    "                continue\n",
    "\n",
    "            # manually get the JSON object by finding each aspect in the response\n",
    "            # have to consider both single and double quotes\n",
    "            # as mistral AI sometimes uses single quotes and sometimes double quotes\n",
    "            _parsing_json_multiple(resp, open_brace_count, aspects_resp_sentiment, aspects)\n",
    "\n",
    "            try:\n",
    "                for aspect in aspects:\n",
    "                    _ = aspects_resp_sentiment[aspect]      # attempting to have access to each value\n",
    "            except:\n",
    "                print(f'Error in accessing: {aspect}. Retry...')\n",
    "                continue\n",
    "            \n",
    "\n",
    "        # leave the retry loop if the response is a JSON\n",
    "        break\n"
   ]
  },
  {
   "cell_type": "code",
   "execution_count": 18,
   "metadata": {},
   "outputs": [
    {
     "name": "stdout",
     "output_type": "stream",
     "text": [
      "Gameplay: positive\n",
      "\n",
      "\n",
      "Narrative: NA\n",
      "\n",
      "\n",
      "Accessibility: positive\n",
      "\n",
      "\n",
      "Sound: NA\n",
      "\n",
      "\n",
      "Graphics & Art Design: positive\n",
      "\n",
      "\n",
      "Performance: NA\n",
      "\n",
      "\n",
      "Bug: NA\n",
      "\n",
      "\n",
      "Suggestion: NA\n",
      "\n",
      "\n",
      "Price: NA\n",
      "\n",
      "\n",
      "Overall: positive\n",
      "\n",
      "\n"
     ]
    }
   ],
   "source": [
    "for k, v in aspects_resp_sentiment.items():\n",
    "    print(f'{k}: {v}')\n",
    "    print('\\n')"
   ]
  },
  {
   "cell_type": "code",
   "execution_count": 16,
   "metadata": {},
   "outputs": [
    {
     "ename": "Exception",
     "evalue": "{\"error\":\"ValueError('Collection 978225eeea4395eba03cf9de8b3970a94bfdff02f25ee0ff583a0d94 does not exist.')\"}",
     "output_type": "error",
     "traceback": [
      "\u001b[0;31m---------------------------------------------------------------------------\u001b[0m",
      "\u001b[0;31mHTTPError\u001b[0m                                 Traceback (most recent call last)",
      "File \u001b[0;32m~/miniforge3/envs/fyp-test-wsl-tm/lib/python3.9/site-packages/chromadb/api/fastapi.py:650\u001b[0m, in \u001b[0;36mraise_chroma_error\u001b[0;34m(resp)\u001b[0m\n\u001b[1;32m    649\u001b[0m \u001b[38;5;28;01mtry\u001b[39;00m:\n\u001b[0;32m--> 650\u001b[0m     \u001b[43mresp\u001b[49m\u001b[38;5;241;43m.\u001b[39;49m\u001b[43mraise_for_status\u001b[49m\u001b[43m(\u001b[49m\u001b[43m)\u001b[49m\n\u001b[1;32m    651\u001b[0m \u001b[38;5;28;01mexcept\u001b[39;00m requests\u001b[38;5;241m.\u001b[39mHTTPError:\n",
      "File \u001b[0;32m~/miniforge3/envs/fyp-test-wsl-tm/lib/python3.9/site-packages/requests/models.py:1021\u001b[0m, in \u001b[0;36mResponse.raise_for_status\u001b[0;34m(self)\u001b[0m\n\u001b[1;32m   1020\u001b[0m \u001b[38;5;28;01mif\u001b[39;00m http_error_msg:\n\u001b[0;32m-> 1021\u001b[0m     \u001b[38;5;28;01mraise\u001b[39;00m HTTPError(http_error_msg, response\u001b[38;5;241m=\u001b[39m\u001b[38;5;28mself\u001b[39m)\n",
      "\u001b[0;31mHTTPError\u001b[0m: 500 Server Error: Internal Server Error for url: http://localhost:8000/api/v1/collections/978225eeea4395eba03cf9de8b3970a94bfdff02f25ee0ff583a0d94?tenant=default_tenant&database=default_database",
      "\nDuring handling of the above exception, another exception occurred:\n",
      "\u001b[0;31mException\u001b[0m                                 Traceback (most recent call last)",
      "Cell \u001b[0;32mIn[16], line 2\u001b[0m\n\u001b[1;32m      1\u001b[0m \u001b[38;5;66;03m# remove the collection from client\u001b[39;00m\n\u001b[0;32m----> 2\u001b[0m \u001b[43mchroma_client\u001b[49m\u001b[38;5;241;43m.\u001b[39;49m\u001b[43mdelete_collection\u001b[49m\u001b[43m(\u001b[49m\u001b[43mreview_obj\u001b[49m\u001b[43m[\u001b[49m\u001b[38;5;124;43m'\u001b[39;49m\u001b[38;5;124;43mhash\u001b[39;49m\u001b[38;5;124;43m'\u001b[39;49m\u001b[43m]\u001b[49m\u001b[43m)\u001b[49m\n",
      "File \u001b[0;32m~/miniforge3/envs/fyp-test-wsl-tm/lib/python3.9/site-packages/chromadb/api/client.py:264\u001b[0m, in \u001b[0;36mClient.delete_collection\u001b[0;34m(self, name)\u001b[0m\n\u001b[1;32m    259\u001b[0m \u001b[38;5;129m@override\u001b[39m\n\u001b[1;32m    260\u001b[0m \u001b[38;5;28;01mdef\u001b[39;00m \u001b[38;5;21mdelete_collection\u001b[39m(\n\u001b[1;32m    261\u001b[0m     \u001b[38;5;28mself\u001b[39m,\n\u001b[1;32m    262\u001b[0m     name: \u001b[38;5;28mstr\u001b[39m,\n\u001b[1;32m    263\u001b[0m ) \u001b[38;5;241m-\u001b[39m\u001b[38;5;241m>\u001b[39m \u001b[38;5;28;01mNone\u001b[39;00m:\n\u001b[0;32m--> 264\u001b[0m     \u001b[38;5;28;01mreturn\u001b[39;00m \u001b[38;5;28;43mself\u001b[39;49m\u001b[38;5;241;43m.\u001b[39;49m\u001b[43m_server\u001b[49m\u001b[38;5;241;43m.\u001b[39;49m\u001b[43mdelete_collection\u001b[49m\u001b[43m(\u001b[49m\n\u001b[1;32m    265\u001b[0m \u001b[43m        \u001b[49m\u001b[43mname\u001b[49m\u001b[38;5;241;43m=\u001b[39;49m\u001b[43mname\u001b[49m\u001b[43m,\u001b[49m\n\u001b[1;32m    266\u001b[0m \u001b[43m        \u001b[49m\u001b[43mtenant\u001b[49m\u001b[38;5;241;43m=\u001b[39;49m\u001b[38;5;28;43mself\u001b[39;49m\u001b[38;5;241;43m.\u001b[39;49m\u001b[43mtenant\u001b[49m\u001b[43m,\u001b[49m\n\u001b[1;32m    267\u001b[0m \u001b[43m        \u001b[49m\u001b[43mdatabase\u001b[49m\u001b[38;5;241;43m=\u001b[39;49m\u001b[38;5;28;43mself\u001b[39;49m\u001b[38;5;241;43m.\u001b[39;49m\u001b[43mdatabase\u001b[49m\u001b[43m,\u001b[49m\n\u001b[1;32m    268\u001b[0m \u001b[43m    \u001b[49m\u001b[43m)\u001b[49m\n",
      "File \u001b[0;32m~/miniforge3/envs/fyp-test-wsl-tm/lib/python3.9/site-packages/chromadb/telemetry/opentelemetry/__init__.py:127\u001b[0m, in \u001b[0;36mtrace_method.<locals>.decorator.<locals>.wrapper\u001b[0;34m(*args, **kwargs)\u001b[0m\n\u001b[1;32m    125\u001b[0m \u001b[38;5;28;01mglobal\u001b[39;00m tracer, granularity\n\u001b[1;32m    126\u001b[0m \u001b[38;5;28;01mif\u001b[39;00m trace_granularity \u001b[38;5;241m<\u001b[39m granularity:\n\u001b[0;32m--> 127\u001b[0m     \u001b[38;5;28;01mreturn\u001b[39;00m \u001b[43mf\u001b[49m\u001b[43m(\u001b[49m\u001b[38;5;241;43m*\u001b[39;49m\u001b[43margs\u001b[49m\u001b[43m,\u001b[49m\u001b[43m \u001b[49m\u001b[38;5;241;43m*\u001b[39;49m\u001b[38;5;241;43m*\u001b[39;49m\u001b[43mkwargs\u001b[49m\u001b[43m)\u001b[49m\n\u001b[1;32m    128\u001b[0m \u001b[38;5;28;01mif\u001b[39;00m \u001b[38;5;129;01mnot\u001b[39;00m tracer:\n\u001b[1;32m    129\u001b[0m     \u001b[38;5;28;01mreturn\u001b[39;00m f(\u001b[38;5;241m*\u001b[39margs, \u001b[38;5;241m*\u001b[39m\u001b[38;5;241m*\u001b[39mkwargs)\n",
      "File \u001b[0;32m~/miniforge3/envs/fyp-test-wsl-tm/lib/python3.9/site-packages/chromadb/api/fastapi.py:369\u001b[0m, in \u001b[0;36mFastAPI.delete_collection\u001b[0;34m(self, name, tenant, database)\u001b[0m\n\u001b[1;32m    364\u001b[0m \u001b[38;5;250m\u001b[39m\u001b[38;5;124;03m\"\"\"Deletes a collection\"\"\"\u001b[39;00m\n\u001b[1;32m    365\u001b[0m resp \u001b[38;5;241m=\u001b[39m \u001b[38;5;28mself\u001b[39m\u001b[38;5;241m.\u001b[39m_session\u001b[38;5;241m.\u001b[39mdelete(\n\u001b[1;32m    366\u001b[0m     \u001b[38;5;28mself\u001b[39m\u001b[38;5;241m.\u001b[39m_api_url \u001b[38;5;241m+\u001b[39m \u001b[38;5;124m\"\u001b[39m\u001b[38;5;124m/collections/\u001b[39m\u001b[38;5;124m\"\u001b[39m \u001b[38;5;241m+\u001b[39m name,\n\u001b[1;32m    367\u001b[0m     params\u001b[38;5;241m=\u001b[39m{\u001b[38;5;124m\"\u001b[39m\u001b[38;5;124mtenant\u001b[39m\u001b[38;5;124m\"\u001b[39m: tenant, \u001b[38;5;124m\"\u001b[39m\u001b[38;5;124mdatabase\u001b[39m\u001b[38;5;124m\"\u001b[39m: database},\n\u001b[1;32m    368\u001b[0m )\n\u001b[0;32m--> 369\u001b[0m \u001b[43mraise_chroma_error\u001b[49m\u001b[43m(\u001b[49m\u001b[43mresp\u001b[49m\u001b[43m)\u001b[49m\n",
      "File \u001b[0;32m~/miniforge3/envs/fyp-test-wsl-tm/lib/python3.9/site-packages/chromadb/api/fastapi.py:652\u001b[0m, in \u001b[0;36mraise_chroma_error\u001b[0;34m(resp)\u001b[0m\n\u001b[1;32m    650\u001b[0m     resp\u001b[38;5;241m.\u001b[39mraise_for_status()\n\u001b[1;32m    651\u001b[0m \u001b[38;5;28;01mexcept\u001b[39;00m requests\u001b[38;5;241m.\u001b[39mHTTPError:\n\u001b[0;32m--> 652\u001b[0m     \u001b[38;5;28;01mraise\u001b[39;00m (\u001b[38;5;167;01mException\u001b[39;00m(resp\u001b[38;5;241m.\u001b[39mtext))\n",
      "\u001b[0;31mException\u001b[0m: {\"error\":\"ValueError('Collection 978225eeea4395eba03cf9de8b3970a94bfdff02f25ee0ff583a0d94 does not exist.')\"}"
     ]
    }
   ],
   "source": [
    "# remove the collection from client\n",
    "chroma_client.delete_collection(review_obj['hash'])"
   ]
  },
  {
   "cell_type": "markdown",
   "metadata": {},
   "source": [
    "---"
   ]
  },
  {
   "cell_type": "code",
   "execution_count": 19,
   "metadata": {},
   "outputs": [
    {
     "name": "stdout",
     "output_type": "stream",
     "text": [
      " {\n",
      "\"Gameplay\": \"Enjoyable gameplay with high replayability on consoles\",\n",
      "\"Narrative\": \"Not mentioned in the review\",\n",
      "\"Accessibility\": \"Available on multiple platforms including console and PC\",\n",
      "\"Sound\": \"Not mentioned in the review\",\n",
      "\"Graphics & Art Design\": \"Fantastic graphics and art design\",\n",
      "\"Performance\": \"Not mentioned in the review\",\n",
      "\"Bug\": \"No bugs mentioned\",\n",
      "\"Suggestion\": \"No suggestions mentioned\",\n",
      "\"Price\": \"Price not mentioned in the review\",\n",
      "\"Overall\": \"Reviewer highly recommends the game with a positive experience\"\n",
      "}\n"
     ]
    }
   ],
   "source": [
    "from langchain_core.prompts import ChatPromptTemplate\n",
    "\n",
    "system_template = \\\n",
    "'''You are reading reviews of a game to understand the characteristics of the game. Use the following pieces of context to answer user's question.\n",
    "'''\n",
    "\n",
    "summary_template = \\\n",
    "'''Extract the following aspects of the game from the reviews, and write a short 20 words description for each aspect. The aspects are: {aspects}. Output a JSON with each of the aspects as key, and the information as the value. Only output the JSON. Do NOT output other text.\n",
    "\n",
    "The context is wrapped by three consecutive apostrophes. The context is as follows:\n",
    "\\'\\'\\'\n",
    "{context}\n",
    "\\'\\'\\'\n",
    "'''\n",
    "\n",
    "chat_prompt = ChatPromptTemplate.from_messages([\n",
    "    (\"system\", system_template),\n",
    "    (\"human\", summary_template),\n",
    "])\n",
    "\n",
    "# chain = chat_prompt | llm_mistral7b\n",
    "chain = chat_prompt | llm_mixtral8x7b\n",
    "\n",
    "\n",
    "response_334 = chain.invoke({\n",
    "    \"context\":str(aspects_response_334),\n",
    "    \"aspects\":str(GAME_ASPECTS)\n",
    "})\n",
    "\n",
    "print(response_334)"
   ]
  },
  {
   "cell_type": "markdown",
   "metadata": {},
   "source": [
    "---"
   ]
  },
  {
   "cell_type": "markdown",
   "metadata": {},
   "source": [
    "keyword extraction"
   ]
  },
  {
   "cell_type": "code",
   "execution_count": 20,
   "metadata": {},
   "outputs": [
    {
     "name": "stdout",
     "output_type": "stream",
     "text": [
      " {\n",
      "'Gameplay': ['enjoyable gameplay', 'high replayability', 'playing hours', 'console'],\n",
      "'Narrative': ['NA'],\n",
      "'Accessibility': ['multiple platforms', 'PC', 'console'],\n",
      "'Sound': ['NA'],\n",
      "'Graphics & Art Design': ['fantastic graphics', 'detailed environments', 'character models'],\n",
      "'Performance': ['NA'],\n",
      "'Bug': ['NA'],\n",
      "'Suggestion': ['NA'],\n",
      "'Price': ['price not mentioned'],\n",
      "'Overall': ['highly recommends', 'positive overall experience']\n",
      "}\n"
     ]
    }
   ],
   "source": [
    "from langchain_core.prompts import ChatPromptTemplate\n",
    "\n",
    "system_template = \\\n",
    "'''You are reading reviews of a game to understand the characteristics of the game. Use the following pieces of context to answer user's question.\n",
    "'''\n",
    "\n",
    "summary_template = \\\n",
    "'''Extract the following aspects of the game from the reviews, and providwe a list of keywords, each of max length 5 words, for each aspect. The aspects are: {aspects}. Output a JSON with each of the aspects as key, and the list of keywords as the value. Only output the JSON. Do NOT output other text.\n",
    "\n",
    "The context is wrapped by three consecutive apostrophes. The context is as follows:\n",
    "\\'\\'\\'\n",
    "{context}\n",
    "\\'\\'\\'\n",
    "'''\n",
    "\n",
    "chat_prompt = ChatPromptTemplate.from_messages([\n",
    "    (\"system\", system_template),\n",
    "    (\"human\", summary_template),\n",
    "])\n",
    "\n",
    "# chain = chat_prompt | llm_mistral7b\n",
    "chain = chat_prompt | llm_mixtral8x7b\n",
    "\n",
    "\n",
    "keyword_response_334 = chain.invoke({\n",
    "    \"context\":str(aspects_response_334),\n",
    "    \"aspects\":str(GAME_ASPECTS)\n",
    "})\n",
    "\n",
    "print(keyword_response_334)\n"
   ]
  },
  {
   "cell_type": "code",
   "execution_count": 21,
   "metadata": {},
   "outputs": [],
   "source": [
    "del temp_db"
   ]
  },
  {
   "cell_type": "code",
   "execution_count": null,
   "metadata": {},
   "outputs": [],
   "source": []
  }
 ],
 "metadata": {
  "kernelspec": {
   "display_name": "fyp-test-tm",
   "language": "python",
   "name": "python3"
  },
  "language_info": {
   "codemirror_mode": {
    "name": "ipython",
    "version": 3
   },
   "file_extension": ".py",
   "mimetype": "text/x-python",
   "name": "python",
   "nbconvert_exporter": "python",
   "pygments_lexer": "ipython3",
   "version": "3.9.18"
  }
 },
 "nbformat": 4,
 "nbformat_minor": 2
}
