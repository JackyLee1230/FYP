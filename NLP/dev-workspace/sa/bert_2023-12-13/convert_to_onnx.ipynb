{
 "cells": [
  {
   "cell_type": "code",
   "execution_count": 1,
   "metadata": {},
   "outputs": [],
   "source": [
    "import pandas as pd\n",
    "import numpy as np\n",
    "\n",
    "from pathlib import Path\n",
    "from datetime import datetime"
   ]
  },
  {
   "cell_type": "code",
   "execution_count": 2,
   "metadata": {},
   "outputs": [],
   "source": [
    "DATASET_SIZE = 120\n",
    "DATASET_IS_BALANCED = True\n",
    "\n",
    "training_name = 'bert-finetune_{}k_{}'.format(\n",
    "    DATASET_SIZE,\n",
    "    'bal' if DATASET_IS_BALANCED else 'imbal'\n",
    ")\n",
    "\n",
    "training_args_datetime = datetime(year=2023, month=12, day=17)\n",
    "training_storing_folder = Path(training_name).resolve()\n",
    "\n",
    "model_path = Path.joinpath(\n",
    "        training_storing_folder, \n",
    "        '{}_{}_model'.format(training_name, training_args_datetime.strftime('%Y-%m-%d')))"
   ]
  },
  {
   "cell_type": "code",
   "execution_count": 6,
   "metadata": {},
   "outputs": [
    {
     "data": {
      "text/plain": [
       "'bert-finetune_120k_bal_2023-12-17_model'"
      ]
     },
     "execution_count": 6,
     "metadata": {},
     "output_type": "execute_result"
    }
   ],
   "source": [
    "model_path.name"
   ]
  },
  {
   "cell_type": "code",
   "execution_count": 7,
   "metadata": {},
   "outputs": [
    {
     "name": "stderr",
     "output_type": "stream",
     "text": [
      "Framework not specified. Using pt to export to ONNX.\n",
      "Using the export variant default. Available variants are:\n",
      "    - default: The default ONNX variant.\n",
      "Using framework PyTorch: 2.1.0\n",
      "Overriding 1 configuration item(s)\n",
      "\t- use_cache -> False\n"
     ]
    }
   ],
   "source": [
    "# save the model and tokenizer to ONNX format\n",
    "\n",
    "from transformers import AutoTokenizer, AutoModelForSequenceClassification\n",
    "from optimum.onnxruntime import ORTModelForSequenceClassification\n",
    "\n",
    "\n",
    "tokenizer = AutoTokenizer.from_pretrained('bert-base-cased')\n",
    "ort_model = ORTModelForSequenceClassification.from_pretrained(\n",
    "    model_path\n",
    "    ,export=True)\n",
    "\n",
    "save_directory = Path.joinpath(training_storing_folder, model_path.name + '_onnx')\n",
    "\n",
    "if not save_directory.exists():\n",
    "    save_directory.mkdir(parents=True)\n",
    "\n",
    "tokenizer.save_pretrained(save_directory)\n",
    "ort_model.save_pretrained(save_directory)"
   ]
  },
  {
   "cell_type": "code",
   "execution_count": 4,
   "metadata": {},
   "outputs": [
    {
     "data": {
      "text/plain": [
       "PosixPath('/Users/michaelcheng/Documents/MyDocs/HKU/COMP4801 FYP/FYP/NLP/dev-workspace/sa/bert_2023-12-13/bert-finetune_120k_bal/onnx')"
      ]
     },
     "execution_count": 4,
     "metadata": {},
     "output_type": "execute_result"
    }
   ],
   "source": [
    "save_directory"
   ]
  },
  {
   "cell_type": "code",
   "execution_count": 15,
   "metadata": {},
   "outputs": [],
   "source": [
    "# load the ONNX model and tokenizer\n",
    "\n",
    "from transformers import AutoTokenizer\n",
    "from onnxruntime import InferenceSession\n",
    "\n",
    "tokenizer = AutoTokenizer.from_pretrained(\"bert-base-cased\")\n",
    "session = InferenceSession(Path.joinpath(\n",
    "    save_directory,\n",
    "    \"model.onnx\")\n",
    ")\n",
    "\n",
    "input_names = [label.name for label in session.get_inputs()]\n",
    "output_names = [label.name for label in session.get_outputs()]\n",
    "\n",
    "# ONNX Runtime expects NumPy arrays as input\n",
    "inputs = tokenizer(\"Using DistilBERT with ONNX Runtime!\", return_tensors=\"np\")\n",
    "outputs = session.run(output_names=output_names, input_feed=dict(inputs))"
   ]
  },
  {
   "cell_type": "code",
   "execution_count": 13,
   "metadata": {},
   "outputs": [
    {
     "name": "stdout",
     "output_type": "stream",
     "text": [
      "input_ids\n",
      "attention_mask\n",
      "token_type_ids\n"
     ]
    }
   ],
   "source": [
    "input_names"
   ]
  },
  {
   "cell_type": "code",
   "execution_count": 14,
   "metadata": {},
   "outputs": [
    {
     "data": {
      "text/plain": [
       "'logits'"
      ]
     },
     "execution_count": 14,
     "metadata": {},
     "output_type": "execute_result"
    }
   ],
   "source": [
    "output_names"
   ]
  },
  {
   "cell_type": "code",
   "execution_count": 22,
   "metadata": {},
   "outputs": [],
   "source": [
    "# load huggingface original model\n",
    "\n",
    "from transformers import Trainer, TrainingArguments\n",
    "from transformers import AutoModelForSequenceClassification\n",
    "\n",
    "\n",
    "hg_model = AutoModelForSequenceClassification.from_pretrained(model_path)"
   ]
  },
  {
   "cell_type": "code",
   "execution_count": 18,
   "metadata": {},
   "outputs": [],
   "source": [
    "test_data = [['I like the game'], [\"I do not like it.\"], [\"It crashes when I just run on my pc.\"]]"
   ]
  },
  {
   "cell_type": "code",
   "execution_count": 29,
   "metadata": {},
   "outputs": [
    {
     "name": "stdout",
     "output_type": "stream",
     "text": [
      "[array([[-2.1389656,  1.6192293]], dtype=float32), array([[ 1.5018184, -1.5831153]], dtype=float32), array([[ 1.1016914, -1.3381388]], dtype=float32)]\n",
      "[array([[-2.1389651,  1.6192296]], dtype=float32), array([[ 1.5018172, -1.5831144]], dtype=float32), array([[ 1.1016904, -1.3381379]], dtype=float32)]\n"
     ]
    }
   ],
   "source": [
    "# test inference\n",
    "\n",
    "pred_hg = []\n",
    "perd_onnx = []\n",
    "\n",
    "for i in range(len(test_data)):\n",
    "\n",
    "    # hg inference\n",
    "    hg_inputs = tokenizer(test_data[i], return_tensors=\"pt\", max_length=tokenizer.model_max_length, truncation=True)\n",
    "    hg_outputs = hg_model(**hg_inputs)\n",
    "\n",
    "    # onnx inference\n",
    "    onnx_inputs = tokenizer(test_data[i], return_tensors=\"np\", max_length=tokenizer.model_max_length, truncation=True)\n",
    "    onnx_outputs = session.run(output_names=output_names, input_feed=dict(onnx_inputs))\n",
    "\n",
    "    perd_onnx.append(onnx_outputs[0])   # only get the unsoftmaxed logits\n",
    "    pred_hg.append(hg_outputs.logits.detach().numpy())  # only get the unsoftmaxed logits\n",
    "\n",
    "\n",
    "print(pred_hg)\n",
    "print(perd_onnx)\n",
    "\n",
    "# compare the results\n",
    "for i in range(len(pred_hg)):\n",
    "    np.testing.assert_allclose(pred_hg[i], perd_onnx[i], rtol=1e-3, atol=1e-3)"
   ]
  }
 ],
 "metadata": {
  "kernelspec": {
   "display_name": "fyp-test2",
   "language": "python",
   "name": "python3"
  },
  "language_info": {
   "codemirror_mode": {
    "name": "ipython",
    "version": 3
   },
   "file_extension": ".py",
   "mimetype": "text/x-python",
   "name": "python",
   "nbconvert_exporter": "python",
   "pygments_lexer": "ipython3",
   "version": "3.9.18"
  }
 },
 "nbformat": 4,
 "nbformat_minor": 2
}
