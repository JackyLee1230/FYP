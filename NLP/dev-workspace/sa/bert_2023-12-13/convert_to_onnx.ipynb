{
 "cells": [
  {
   "cell_type": "code",
   "execution_count": 1,
   "metadata": {},
   "outputs": [],
   "source": [
    "import pandas as pd\n",
    "import numpy as np\n",
    "\n",
    "from pathlib import Path\n",
    "from datetime import datetime"
   ]
  },
  {
   "cell_type": "code",
   "execution_count": 6,
   "metadata": {},
   "outputs": [],
   "source": [
    "DATASET_SIZE = 480\n",
    "DATASET_IS_BALANCED = True\n",
    "\n",
    "training_name = 'bert-finetune_{}k_{}_{}'.format(\n",
    "    DATASET_SIZE,\n",
    "    'bal' if DATASET_IS_BALANCED else 'imbal',\n",
    "    datetime(2024, 1, 18).strftime('%Y-%m-%d')\n",
    ")\n",
    "\n",
    "# training_args_datetime = datetime(year=2023, month=12, day=20)          # change the date to the date of training\n",
    "training_storing_folder = Path(training_name).resolve()\n",
    "\n",
    "# model_path = Path.joinpath(\n",
    "#         training_storing_folder, \n",
    "#         '{}_{}_model'.format(training_name, training_args_datetime.strftime('%Y-%m-%d')))\n",
    "\n",
    "model_path = Path.joinpath(\n",
    "        training_storing_folder, \n",
    "        '{}_model'.format(training_name))"
   ]
  },
  {
   "cell_type": "code",
   "execution_count": 7,
   "metadata": {},
   "outputs": [
    {
     "data": {
      "text/plain": [
       "'bert-finetune_480k_bal_2024-01-18_model'"
      ]
     },
     "execution_count": 7,
     "metadata": {},
     "output_type": "execute_result"
    }
   ],
   "source": [
    "model_path.name"
   ]
  },
  {
   "cell_type": "code",
   "execution_count": 8,
   "metadata": {},
   "outputs": [
    {
     "name": "stderr",
     "output_type": "stream",
     "text": [
      "/root/.local/lib/python3.9/site-packages/tqdm/auto.py:21: TqdmWarning: IProgress not found. Please update jupyter and ipywidgets. See https://ipywidgets.readthedocs.io/en/stable/user_install.html\n",
      "  from .autonotebook import tqdm as notebook_tqdm\n",
      "2024-03-15 11:18:30.665820: I tensorflow/core/util/port.cc:113] oneDNN custom operations are on. You may see slightly different numerical results due to floating-point round-off errors from different computation orders. To turn them off, set the environment variable `TF_ENABLE_ONEDNN_OPTS=0`.\n",
      "2024-03-15 11:18:30.884834: E external/local_xla/xla/stream_executor/cuda/cuda_dnn.cc:9261] Unable to register cuDNN factory: Attempting to register factory for plugin cuDNN when one has already been registered\n",
      "2024-03-15 11:18:30.884867: E external/local_xla/xla/stream_executor/cuda/cuda_fft.cc:607] Unable to register cuFFT factory: Attempting to register factory for plugin cuFFT when one has already been registered\n",
      "2024-03-15 11:18:30.922787: E external/local_xla/xla/stream_executor/cuda/cuda_blas.cc:1515] Unable to register cuBLAS factory: Attempting to register factory for plugin cuBLAS when one has already been registered\n",
      "2024-03-15 11:18:30.997618: I tensorflow/core/platform/cpu_feature_guard.cc:182] This TensorFlow binary is optimized to use available CPU instructions in performance-critical operations.\n",
      "To enable the following instructions: AVX2 AVX_VNNI FMA, in other operations, rebuild TensorFlow with the appropriate compiler flags.\n",
      "2024-03-15 11:18:31.715369: W tensorflow/compiler/tf2tensorrt/utils/py_utils.cc:38] TF-TRT Warning: Could not find TensorRT\n",
      "Framework not specified. Using pt to export to ONNX.\n",
      "Using the export variant default. Available variants are:\n",
      "    - default: The default ONNX variant.\n",
      "Using framework PyTorch: 2.1.0+cu121\n",
      "Overriding 1 configuration item(s)\n",
      "\t- use_cache -> False\n"
     ]
    },
    {
     "name": "stdout",
     "output_type": "stream",
     "text": [
      "Saving model to /root/FYP/NLP/dev-workspace/sa/bert_2023-12-13/bert-finetune_480k_bal_2024-01-18/bert-finetune_480k_bal_2024-01-18_model_onnx\n"
     ]
    }
   ],
   "source": [
    "# save the model and tokenizer to ONNX format\n",
    "\n",
    "from transformers import AutoTokenizer, AutoModelForSequenceClassification\n",
    "from optimum.onnxruntime import ORTModelForSequenceClassification\n",
    "\n",
    "\n",
    "tokenizer = AutoTokenizer.from_pretrained('bert-base-cased')\n",
    "ort_model = ORTModelForSequenceClassification.from_pretrained(\n",
    "    model_path\n",
    "    ,export=True)\n",
    "\n",
    "save_directory = Path.joinpath(training_storing_folder, model_path.name + '_onnx')\n",
    "\n",
    "if not save_directory.exists():\n",
    "    save_directory.mkdir(parents=True)\n",
    "\n",
    "print('Saving model to {}'.format(save_directory))\n",
    "\n",
    "tokenizer.save_pretrained(save_directory)\n",
    "ort_model.save_pretrained(save_directory)"
   ]
  },
  {
   "cell_type": "code",
   "execution_count": 9,
   "metadata": {},
   "outputs": [
    {
     "name": "stderr",
     "output_type": "stream",
     "text": [
      "/root/miniforge3/envs/fyp-test2-wsl/lib/python3.9/site-packages/optimum/onnxruntime/configuration.py:770: FutureWarning: disable_embed_layer_norm will be deprecated soon, use disable_embed_layer_norm_fusion instead, disable_embed_layer_norm_fusion is set to True.\n",
      "  warnings.warn(\n",
      "Optimizing model...\n",
      "Configuration saved in /root/FYP/NLP/dev-workspace/sa/bert_2023-12-13/bert-finetune_480k_bal_2024-01-18/bert-finetune_480k_bal_2024-01-18_model_onnx/ort_config.json\n",
      "Optimized model saved at: /root/FYP/NLP/dev-workspace/sa/bert_2023-12-13/bert-finetune_480k_bal_2024-01-18/bert-finetune_480k_bal_2024-01-18_model_onnx (external data format: False; saved all tensor to one file: True)\n"
     ]
    },
    {
     "data": {
      "text/plain": [
       "PosixPath('/root/FYP/NLP/dev-workspace/sa/bert_2023-12-13/bert-finetune_480k_bal_2024-01-18/bert-finetune_480k_bal_2024-01-18_model_onnx')"
      ]
     },
     "execution_count": 9,
     "metadata": {},
     "output_type": "execute_result"
    }
   ],
   "source": [
    "from optimum.onnxruntime import ORTOptimizer\n",
    "from optimum.onnxruntime.configuration import OptimizationConfig\n",
    "\n",
    "# ref: https://huggingface.co/docs/optimum/onnxruntime/usage_guides/optimization\n",
    "\n",
    "optimizer = ORTOptimizer.from_pretrained(ort_model)\n",
    "optimization_config = OptimizationConfig(\\\n",
    "    optimization_level=2,\n",
    "    enable_transformers_specific_optimizations=True,\n",
    "    optimize_for_gpu=False) \n",
    "\n",
    "optimizer.optimize(\n",
    "    save_dir=save_directory,\n",
    "    optimization_config=optimization_config\n",
    ")\n",
    "\n",
    "# it will create two files:\n",
    "# model_optimized.onnx\n",
    "# ort_config.json"
   ]
  },
  {
   "cell_type": "code",
   "execution_count": 10,
   "metadata": {},
   "outputs": [],
   "source": [
    "# load the ONNX model and tokenizer\n",
    "\n",
    "from transformers import AutoTokenizer\n",
    "from onnxruntime import InferenceSession\n",
    "\n",
    "tokenizer = AutoTokenizer.from_pretrained(save_directory)\n",
    "session = InferenceSession(Path.joinpath(\n",
    "    save_directory,\n",
    "    \"model_optimized.onnx\")\n",
    ")\n",
    "\n",
    "input_names = [label.name for label in session.get_inputs()]\n",
    "output_names = [label.name for label in session.get_outputs()]\n",
    "\n",
    "# ONNX Runtime expects NumPy arrays as input\n",
    "inputs = tokenizer(\"Using DistilBERT with ONNX Runtime!\", return_tensors=\"np\")\n",
    "outputs = session.run(output_names=output_names, input_feed=dict(inputs))"
   ]
  },
  {
   "cell_type": "code",
   "execution_count": 11,
   "metadata": {},
   "outputs": [
    {
     "data": {
      "text/plain": [
       "['input_ids', 'attention_mask', 'token_type_ids']"
      ]
     },
     "execution_count": 11,
     "metadata": {},
     "output_type": "execute_result"
    }
   ],
   "source": [
    "input_names"
   ]
  },
  {
   "cell_type": "code",
   "execution_count": 12,
   "metadata": {},
   "outputs": [
    {
     "data": {
      "text/plain": [
       "['logits']"
      ]
     },
     "execution_count": 12,
     "metadata": {},
     "output_type": "execute_result"
    }
   ],
   "source": [
    "output_names"
   ]
  },
  {
   "cell_type": "code",
   "execution_count": 13,
   "metadata": {},
   "outputs": [],
   "source": [
    "# load huggingface original model\n",
    "\n",
    "from transformers import Trainer, TrainingArguments\n",
    "from transformers import AutoModelForSequenceClassification\n",
    "\n",
    "\n",
    "hg_model = AutoModelForSequenceClassification.from_pretrained(model_path)"
   ]
  },
  {
   "cell_type": "code",
   "execution_count": 14,
   "metadata": {},
   "outputs": [],
   "source": [
    "test_data = [['I like the game'], [\"I do not like it.\"], [\"It crashes when I just run on my pc.\"]]"
   ]
  },
  {
   "cell_type": "code",
   "execution_count": 15,
   "metadata": {},
   "outputs": [
    {
     "name": "stdout",
     "output_type": "stream",
     "text": [
      "[array([[-2.3883157,  2.4536176]], dtype=float32), array([[ 1.5583036, -2.9529977]], dtype=float32), array([[ 0.69697875, -1.636167  ]], dtype=float32)]\n",
      "[array([[-2.3883147,  2.4536157]], dtype=float32), array([[ 1.5583022, -2.9529963]], dtype=float32), array([[ 0.69697833, -1.6361668 ]], dtype=float32)]\n"
     ]
    }
   ],
   "source": [
    "# test inference\n",
    "\n",
    "pred_hg = []\n",
    "perd_onnx = []\n",
    "\n",
    "for i in range(len(test_data)):\n",
    "\n",
    "    # hg inference\n",
    "    hg_inputs = tokenizer(test_data[i], return_tensors=\"pt\", max_length=tokenizer.model_max_length, truncation=True)\n",
    "    hg_outputs = hg_model(**hg_inputs)\n",
    "\n",
    "    # onnx inference\n",
    "    onnx_inputs = tokenizer(test_data[i], return_tensors=\"np\", max_length=tokenizer.model_max_length, truncation=True)\n",
    "    onnx_outputs = session.run(output_names=output_names, input_feed=dict(onnx_inputs))\n",
    "\n",
    "    perd_onnx.append(onnx_outputs[0])   # only get the unsoftmaxed logits\n",
    "    pred_hg.append(hg_outputs.logits.detach().numpy())  # only get the unsoftmaxed logits\n",
    "\n",
    "\n",
    "print(pred_hg)\n",
    "print(perd_onnx)\n",
    "\n",
    "# compare the results\n",
    "for i in range(len(pred_hg)):\n",
    "    np.testing.assert_allclose(pred_hg[i], perd_onnx[i], rtol=1e-3, atol=1e-3)"
   ]
  },
  {
   "cell_type": "code",
   "execution_count": null,
   "metadata": {},
   "outputs": [],
   "source": []
  }
 ],
 "metadata": {
  "kernelspec": {
   "display_name": "fyp-test2",
   "language": "python",
   "name": "python3"
  },
  "language_info": {
   "codemirror_mode": {
    "name": "ipython",
    "version": 3
   },
   "file_extension": ".py",
   "mimetype": "text/x-python",
   "name": "python",
   "nbconvert_exporter": "python",
   "pygments_lexer": "ipython3",
   "version": "3.9.18"
  }
 },
 "nbformat": 4,
 "nbformat_minor": 2
}
