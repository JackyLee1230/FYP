{
 "cells": [
  {
   "cell_type": "code",
   "execution_count": 1,
   "metadata": {},
   "outputs": [],
   "source": [
    "import pandas as pd\n",
    "import numpy as np\n",
    "\n",
    "from pathlib import Path\n",
    "from datetime import datetime"
   ]
  },
  {
   "cell_type": "code",
   "execution_count": 53,
   "metadata": {},
   "outputs": [],
   "source": [
    "DATASET_SIZE = 480\n",
    "DATASET_IS_BALANCED = False\n",
    "\n",
    "training_name = 'bert-finetune_{}k_{}'.format(\n",
    "    DATASET_SIZE,\n",
    "    'bal' if DATASET_IS_BALANCED else 'imbal'\n",
    ")\n",
    "\n",
    "training_args_datetime = datetime(year=2023, month=12, day=20)          # change the date to the date of training\n",
    "training_storing_folder = Path(training_name).resolve()\n",
    "\n",
    "model_path = Path.joinpath(\n",
    "        training_storing_folder, \n",
    "        '{}_{}_model'.format(training_name, training_args_datetime.strftime('%Y-%m-%d')))"
   ]
  },
  {
   "cell_type": "code",
   "execution_count": 54,
   "metadata": {},
   "outputs": [
    {
     "data": {
      "text/plain": [
       "'bert-finetune_480k_imbal_2023-12-20_model'"
      ]
     },
     "execution_count": 54,
     "metadata": {},
     "output_type": "execute_result"
    }
   ],
   "source": [
    "model_path.name"
   ]
  },
  {
   "cell_type": "code",
   "execution_count": 55,
   "metadata": {},
   "outputs": [
    {
     "name": "stderr",
     "output_type": "stream",
     "text": [
      "Framework not specified. Using pt to export to ONNX.\n",
      "Using the export variant default. Available variants are:\n",
      "    - default: The default ONNX variant.\n",
      "Using framework PyTorch: 2.1.0+cu121\n",
      "Overriding 1 configuration item(s)\n",
      "\t- use_cache -> False\n"
     ]
    },
    {
     "name": "stdout",
     "output_type": "stream",
     "text": [
      "Saving model to /root/FYP/NLP/dev-workspace/sa/bert_2023-12-13/bert-finetune_480k_imbal/bert-finetune_480k_imbal_2023-12-20_model_onnx\n"
     ]
    }
   ],
   "source": [
    "# save the model and tokenizer to ONNX format\n",
    "\n",
    "from transformers import AutoTokenizer, AutoModelForSequenceClassification\n",
    "from optimum.onnxruntime import ORTModelForSequenceClassification\n",
    "\n",
    "\n",
    "tokenizer = AutoTokenizer.from_pretrained('bert-base-cased')\n",
    "ort_model = ORTModelForSequenceClassification.from_pretrained(\n",
    "    model_path\n",
    "    ,export=True)\n",
    "\n",
    "save_directory = Path.joinpath(training_storing_folder, model_path.name + '_onnx')\n",
    "\n",
    "if not save_directory.exists():\n",
    "    save_directory.mkdir(parents=True)\n",
    "\n",
    "print('Saving model to {}'.format(save_directory))\n",
    "\n",
    "tokenizer.save_pretrained(save_directory)\n",
    "ort_model.save_pretrained(save_directory)"
   ]
  },
  {
   "cell_type": "code",
   "execution_count": 56,
   "metadata": {},
   "outputs": [
    {
     "name": "stderr",
     "output_type": "stream",
     "text": [
      "Optimizing model...\n",
      "Configuration saved in /root/FYP/NLP/dev-workspace/sa/bert_2023-12-13/bert-finetune_480k_imbal/bert-finetune_480k_imbal_2023-12-20_model_onnx/ort_config.json\n",
      "Optimized model saved at: /root/FYP/NLP/dev-workspace/sa/bert_2023-12-13/bert-finetune_480k_imbal/bert-finetune_480k_imbal_2023-12-20_model_onnx (external data format: False; saved all tensor to one file: True)\n"
     ]
    },
    {
     "data": {
      "text/plain": [
       "PosixPath('/root/FYP/NLP/dev-workspace/sa/bert_2023-12-13/bert-finetune_480k_imbal/bert-finetune_480k_imbal_2023-12-20_model_onnx')"
      ]
     },
     "execution_count": 56,
     "metadata": {},
     "output_type": "execute_result"
    }
   ],
   "source": [
    "from optimum.onnxruntime import ORTOptimizer\n",
    "from optimum.onnxruntime.configuration import OptimizationConfig\n",
    "\n",
    "# ref: https://huggingface.co/docs/optimum/onnxruntime/usage_guides/optimization\n",
    "\n",
    "optimizer = ORTOptimizer.from_pretrained(ort_model)\n",
    "optimization_config = OptimizationConfig(\\\n",
    "    optimization_level=2,\n",
    "    enable_transformers_specific_optimizations=True,\n",
    "    optimize_for_gpu=False) \n",
    "\n",
    "optimizer.optimize(\n",
    "    save_dir=save_directory,\n",
    "    optimization_config=optimization_config\n",
    ")\n",
    "\n",
    "# it will create two files:\n",
    "# model_optimized.onnx\n",
    "# ort_config.json"
   ]
  },
  {
   "cell_type": "code",
   "execution_count": 57,
   "metadata": {},
   "outputs": [],
   "source": [
    "# load the ONNX model and tokenizer\n",
    "\n",
    "from transformers import AutoTokenizer\n",
    "from onnxruntime import InferenceSession\n",
    "\n",
    "tokenizer = AutoTokenizer.from_pretrained(save_directory)\n",
    "session = InferenceSession(Path.joinpath(\n",
    "    save_directory,\n",
    "    \"model_optimized.onnx\")\n",
    ")\n",
    "\n",
    "input_names = [label.name for label in session.get_inputs()]\n",
    "output_names = [label.name for label in session.get_outputs()]\n",
    "\n",
    "# ONNX Runtime expects NumPy arrays as input\n",
    "inputs = tokenizer(\"Using DistilBERT with ONNX Runtime!\", return_tensors=\"np\")\n",
    "outputs = session.run(output_names=output_names, input_feed=dict(inputs))"
   ]
  },
  {
   "cell_type": "code",
   "execution_count": 58,
   "metadata": {},
   "outputs": [
    {
     "data": {
      "text/plain": [
       "['input_ids', 'attention_mask', 'token_type_ids']"
      ]
     },
     "execution_count": 58,
     "metadata": {},
     "output_type": "execute_result"
    }
   ],
   "source": [
    "input_names"
   ]
  },
  {
   "cell_type": "code",
   "execution_count": 59,
   "metadata": {},
   "outputs": [
    {
     "data": {
      "text/plain": [
       "['logits']"
      ]
     },
     "execution_count": 59,
     "metadata": {},
     "output_type": "execute_result"
    }
   ],
   "source": [
    "output_names"
   ]
  },
  {
   "cell_type": "code",
   "execution_count": 60,
   "metadata": {},
   "outputs": [],
   "source": [
    "# load huggingface original model\n",
    "\n",
    "from transformers import Trainer, TrainingArguments\n",
    "from transformers import AutoModelForSequenceClassification\n",
    "\n",
    "\n",
    "hg_model = AutoModelForSequenceClassification.from_pretrained(model_path)"
   ]
  },
  {
   "cell_type": "code",
   "execution_count": 61,
   "metadata": {},
   "outputs": [],
   "source": [
    "test_data = [['I like the game'], [\"I do not like it.\"], [\"It crashes when I just run on my pc.\"]]"
   ]
  },
  {
   "cell_type": "code",
   "execution_count": 62,
   "metadata": {},
   "outputs": [
    {
     "name": "stdout",
     "output_type": "stream",
     "text": [
      "[array([[-3.1710236,  3.2229025]], dtype=float32), array([[ 1.2209499 , -0.87591463]], dtype=float32), array([[ 0.76088977, -0.63426894]], dtype=float32)]\n",
      "[array([[-3.1710243,  3.2229028]], dtype=float32), array([[ 1.22095  , -0.8759148]], dtype=float32), array([[ 0.76088965, -0.6342685 ]], dtype=float32)]\n"
     ]
    }
   ],
   "source": [
    "# test inference\n",
    "\n",
    "pred_hg = []\n",
    "perd_onnx = []\n",
    "\n",
    "for i in range(len(test_data)):\n",
    "\n",
    "    # hg inference\n",
    "    hg_inputs = tokenizer(test_data[i], return_tensors=\"pt\", max_length=tokenizer.model_max_length, truncation=True)\n",
    "    hg_outputs = hg_model(**hg_inputs)\n",
    "\n",
    "    # onnx inference\n",
    "    onnx_inputs = tokenizer(test_data[i], return_tensors=\"np\", max_length=tokenizer.model_max_length, truncation=True)\n",
    "    onnx_outputs = session.run(output_names=output_names, input_feed=dict(onnx_inputs))\n",
    "\n",
    "    perd_onnx.append(onnx_outputs[0])   # only get the unsoftmaxed logits\n",
    "    pred_hg.append(hg_outputs.logits.detach().numpy())  # only get the unsoftmaxed logits\n",
    "\n",
    "\n",
    "print(pred_hg)\n",
    "print(perd_onnx)\n",
    "\n",
    "# compare the results\n",
    "for i in range(len(pred_hg)):\n",
    "    np.testing.assert_allclose(pred_hg[i], perd_onnx[i], rtol=1e-3, atol=1e-3)"
   ]
  }
 ],
 "metadata": {
  "kernelspec": {
   "display_name": "fyp-test2",
   "language": "python",
   "name": "python3"
  },
  "language_info": {
   "codemirror_mode": {
    "name": "ipython",
    "version": 3
   },
   "file_extension": ".py",
   "mimetype": "text/x-python",
   "name": "python",
   "nbconvert_exporter": "python",
   "pygments_lexer": "ipython3",
   "version": "3.9.18"
  }
 },
 "nbformat": 4,
 "nbformat_minor": 2
}
