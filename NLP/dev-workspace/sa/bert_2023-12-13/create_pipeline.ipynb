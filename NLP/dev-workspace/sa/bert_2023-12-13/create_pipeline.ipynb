{
 "cells": [
  {
   "cell_type": "markdown",
   "metadata": {},
   "source": [
    "Short script to create and save the huggingface pipeline in a folder\n",
    "\n",
    "Also save the tokenizer to local storage\n"
   ]
  },
  {
   "cell_type": "code",
   "execution_count": 1,
   "metadata": {},
   "outputs": [
    {
     "name": "stderr",
     "output_type": "stream",
     "text": [
      "/Users/michaelcheng/.local/lib/python3.9/site-packages/tqdm/auto.py:21: TqdmWarning: IProgress not found. Please update jupyter and ipywidgets. See https://ipywidgets.readthedocs.io/en/stable/user_install.html\n",
      "  from .autonotebook import tqdm as notebook_tqdm\n"
     ]
    }
   ],
   "source": [
    "from datetime import datetime\n",
    "from pathlib import Path\n",
    "import pandas as pd\n",
    "import numpy as np\n",
    "\n",
    "from transformers import AutoTokenizer, AutoModelForSequenceClassification, TrainingArguments, Trainer\n",
    "from datasets import Dataset"
   ]
  },
  {
   "cell_type": "code",
   "execution_count": 7,
   "metadata": {},
   "outputs": [
    {
     "data": {
      "text/plain": [
       "('./tokenizer_bert-base-cased/tokenizer_config.json',\n",
       " './tokenizer_bert-base-cased/special_tokens_map.json',\n",
       " './tokenizer_bert-base-cased/vocab.txt',\n",
       " './tokenizer_bert-base-cased/added_tokens.json',\n",
       " './tokenizer_bert-base-cased/tokenizer.json')"
      ]
     },
     "execution_count": 7,
     "metadata": {},
     "output_type": "execute_result"
    }
   ],
   "source": [
    "# merely save the bert-base-cased tokenizer\n",
    "\n",
    "tokenizer = AutoTokenizer.from_pretrained(\"bert-base-cased\")\n",
    "tokenizer.save_pretrained(\"./tokenizer_bert-base-cased\")"
   ]
  },
  {
   "cell_type": "markdown",
   "metadata": {},
   "source": [
    "---"
   ]
  },
  {
   "cell_type": "markdown",
   "metadata": {},
   "source": [
    "Pipeline creation"
   ]
  },
  {
   "cell_type": "code",
   "execution_count": 4,
   "metadata": {},
   "outputs": [],
   "source": [
    "DATASET_SIZE = 240\n",
    "DATASET_IS_BALANCED = True\n",
    "\n",
    "training_name = 'bert-finetune_{}k_{}'.format(\n",
    "    DATASET_SIZE,\n",
    "    'bal' if DATASET_IS_BALANCED else 'imbal')\n",
    "\n",
    "training_args_datetime = datetime(year=2023, month=12, day=18)\n",
    "\n",
    "\n",
    "training_storing_folder = Path(f'{training_name}/').resolve()\n",
    "if not training_storing_folder.exists():\n",
    "    print('Folder does not exist.')\n",
    "\n",
    "\n",
    "training_name = training_name + '_' + training_args_datetime.strftime(\"%Y-%m-%d\")"
   ]
  },
  {
   "cell_type": "code",
   "execution_count": 5,
   "metadata": {},
   "outputs": [
    {
     "name": "stdout",
     "output_type": "stream",
     "text": [
      "PIPELINE SAVED\n",
      "\n",
      "\n",
      "\n"
     ]
    }
   ],
   "source": [
    "from transformers import pipeline\n",
    "\n",
    "my_pipeline = pipeline(\n",
    "    'text-classification',\n",
    "    model=AutoModelForSequenceClassification.from_pretrained(\n",
    "        str(Path.joinpath(training_storing_folder, training_name+'_model'))),\n",
    "    tokenizer=AutoTokenizer.from_pretrained(\"bert-base-cased\")\n",
    ")\n",
    "\n",
    "my_pipeline.save_pretrained(str(Path.joinpath(training_storing_folder, training_name+'_pipeline')))\n",
    "\n",
    "print('PIPELINE SAVED')\n",
    "print('\\n\\n')"
   ]
  },
  {
   "cell_type": "code",
   "execution_count": null,
   "metadata": {},
   "outputs": [],
   "source": []
  }
 ],
 "metadata": {
  "kernelspec": {
   "display_name": "fyp-test2",
   "language": "python",
   "name": "python3"
  },
  "language_info": {
   "codemirror_mode": {
    "name": "ipython",
    "version": 3
   },
   "file_extension": ".py",
   "mimetype": "text/x-python",
   "name": "python",
   "nbconvert_exporter": "python",
   "pygments_lexer": "ipython3",
   "version": "3.9.18"
  }
 },
 "nbformat": 4,
 "nbformat_minor": 2
}
