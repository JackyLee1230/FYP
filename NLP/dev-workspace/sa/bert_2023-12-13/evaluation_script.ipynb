{
 "cells": [
  {
   "cell_type": "markdown",
   "metadata": {},
   "source": [
    "Evaluation for BERT"
   ]
  },
  {
   "cell_type": "markdown",
   "metadata": {},
   "source": [
    "Load the validation datasets"
   ]
  },
  {
   "cell_type": "code",
   "execution_count": null,
   "metadata": {},
   "outputs": [],
   "source": [
    "import pandas as pd\n",
    "import numpy as np\n",
    "\n",
    "from pathlib import Path\n",
    "from datetime import datetime\n",
    "import pickle"
   ]
  },
  {
   "cell_type": "code",
   "execution_count": null,
   "metadata": {},
   "outputs": [],
   "source": [
    "import sys\n",
    " \n",
    "# setting path for common utils script\n",
    "sys.path.append('../')\n",
    "\n",
    "import str_cleaning_functions\n",
    "import dataset_loader\n",
    "\n",
    "import evaluation_functions"
   ]
  },
  {
   "cell_type": "code",
   "execution_count": null,
   "metadata": {},
   "outputs": [],
   "source": [
    "DATASET_SIZE = 120\n",
    "DATASET_IS_BALANCED = True\n",
    "\n",
    "training_name = 'bert-finetune_{}k_{}'.format(\n",
    "    DATASET_SIZE,\n",
    "    'bal' if DATASET_IS_BALANCED else 'imbal'\n",
    ")\n",
    "\n",
    "training_args_datetime = datetime(year=2023, month=12, day=17)\n",
    "training_storing_folder = Path(training_name).resolve()\n",
    "\n",
    "dataset_traintest, X_imbal_valid, y_imbal_valid, X_bal_valid, y_bal_valid = dataset_loader.load_presampled_dataset(DATASET_SIZE, DATASET_IS_BALANCED)\n",
    "\n",
    "X_train, X_test, y_train, y_test = dataset_loader.create_traintest_dataset(dataset_traintest)"
   ]
  },
  {
   "cell_type": "code",
   "execution_count": null,
   "metadata": {},
   "outputs": [],
   "source": [
    "# data cleaning function\n",
    "\n",
    "def cleaning_arr(str_arr):\n",
    "    str_arr = str_arr.apply(lambda x: str_cleaning_functions.clean(x))\n",
    "    str_arr = str_arr.apply(lambda x: str_cleaning_functions.deEmojify(x))\n",
    "\n",
    "    return str_arr"
   ]
  },
  {
   "cell_type": "code",
   "execution_count": null,
   "metadata": {},
   "outputs": [],
   "source": [
    "X_train = cleaning_arr(X_train)\n",
    "X_test = cleaning_arr(X_test)\n",
    "\n",
    "X_imbal_valid = cleaning_arr(X_imbal_valid)\n",
    "X_bal_valid = cleaning_arr(X_bal_valid)"
   ]
  },
  {
   "cell_type": "code",
   "execution_count": null,
   "metadata": {},
   "outputs": [],
   "source": [
    "print('Validation (imbalanced) set')\n",
    "print(len(X_imbal_valid))\n",
    "print(len(y_imbal_valid))\n",
    "print()\n",
    "print('Validation (balanced) set')\n",
    "print(len(X_bal_valid))\n",
    "print(len(y_bal_valid))\n",
    "\n",
    "print()\n",
    "print()\n",
    "\n",
    "print('Validation (imbalanced) set')\n",
    "print(pd.Series(y_imbal_valid).value_counts())\n",
    "print()\n",
    "print('Validation (balanced) set')\n",
    "print(pd.Series(y_bal_valid).value_counts())\n",
    "\n",
    "print()\n",
    "print()\n",
    "\n",
    "print('validation (imbalanced) set datatype')\n",
    "print(type(X_imbal_valid))\n",
    "print(type(y_imbal_valid))\n",
    "print()\n",
    "print('validation (balanced) set datatype')\n",
    "print(type(X_bal_valid))\n",
    "print(type(y_bal_valid))"
   ]
  },
  {
   "cell_type": "markdown",
   "metadata": {},
   "source": [
    "Load the models"
   ]
  },
  {
   "cell_type": "code",
   "execution_count": null,
   "metadata": {},
   "outputs": [],
   "source": [
    "from transformers import AutoModelForSequenceClassification, AutoTokenizer, pipeline\n",
    "\n",
    "tokenizer = AutoTokenizer.from_pretrained('bert-base-uncased')\n",
    "model = AutoModelForSequenceClassification.from_pretrained(\n",
    "    Path.joinpath(\n",
    "        training_storing_folder, \n",
    "        '{}_model'.format(training_args_datetime.strftime('%Y-%m-%d')))\n",
    ")\n",
    "\n",
    "pipeline = pipeline(\n",
    "    'text_classification',\n",
    "    model=model,\n",
    "    tokenizer=tokenizer\n",
    ")"
   ]
  },
  {
   "cell_type": "markdown",
   "metadata": {},
   "source": [
    "Evaluation"
   ]
  },
  {
   "cell_type": "code",
   "execution_count": null,
   "metadata": {},
   "outputs": [],
   "source": [
    "pipeline.predict(X_test)"
   ]
  }
 ],
 "metadata": {
  "kernelspec": {
   "display_name": "fyp-test2",
   "language": "python",
   "name": "python3"
  },
  "language_info": {
   "name": "python",
   "version": "3.9.18"
  }
 },
 "nbformat": 4,
 "nbformat_minor": 2
}
