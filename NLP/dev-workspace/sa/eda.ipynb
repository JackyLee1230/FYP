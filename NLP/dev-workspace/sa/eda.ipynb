{
 "cells": [
  {
   "cell_type": "markdown",
   "metadata": {},
   "source": [
    "# Exploratory Data Analysis\n",
    "\n",
    "On the dataset_cleaned_heartless.pkl file"
   ]
  },
  {
   "cell_type": "code",
   "execution_count": 1,
   "metadata": {},
   "outputs": [],
   "source": [
    "# packages\n",
    "\n",
    "import pandas as pd\n",
    "import seaborn as sns\n",
    "import matplotlib.pyplot as plt\n",
    "import numpy as np\n",
    "\n",
    "from pathlib import Path\n",
    "\n",
    "from collections import Counter\n",
    "import re\n",
    "import nltk\n",
    "from nltk.corpus import stopwords"
   ]
  },
  {
   "cell_type": "code",
   "execution_count": 2,
   "metadata": {},
   "outputs": [
    {
     "name": "stdout",
     "output_type": "stream",
     "text": [
      "<class 'pandas.core.frame.DataFrame'>\n",
      "Index: 4891746 entries, 0 to 4891927\n",
      "Data columns (total 7 columns):\n",
      " #   Column        Dtype \n",
      "---  ------        ----- \n",
      " 0   index         int64 \n",
      " 1   app_id        int64 \n",
      " 2   app_name      object\n",
      " 3   review_text   object\n",
      " 4   review_score  int64 \n",
      " 5   review_votes  int64 \n",
      " 6   num_of_words  int64 \n",
      "dtypes: int64(5), object(2)\n",
      "memory usage: 298.6+ MB\n"
     ]
    }
   ],
   "source": [
    "dataset_heartless_path = Path('../dataset/sa/dataset_cleaned_heartless.pkl').resolve()\n",
    "\n",
    "dataset = pd.read_pickle(dataset_heartless_path)\n",
    "# dataset = dataset.sample(frac=p)      # no sampling is needed\n",
    "\n",
    "# convert the text to string object\n",
    "dataset['review_text'] = dataset['review_text'].astype('str')\n",
    "\n",
    "# drop any duplicate just in case\n",
    "dataset = dataset.drop_duplicates(keep='first')\n",
    "\n",
    "# replace -1 to 0\n",
    "# then 0 = negative, 1 = positive\n",
    "# for easier processing\n",
    "dataset['review_score'] = dataset['review_score'].replace(-1, 0)\n",
    "\n",
    "# 4891928 -> 4891746 (some rows have all whitespaces)\n",
    "dataset['num_of_words'] = dataset['review_text'].apply(lambda x:len(str(x).split()))\n",
    "dataset = dataset[dataset['num_of_words'] > 0]\n",
    "\n",
    "dataset.info()"
   ]
  },
  {
   "cell_type": "markdown",
   "metadata": {},
   "source": [
    "We will see the ratio between positive and negative reviews"
   ]
  },
  {
   "cell_type": "code",
   "execution_count": 3,
   "metadata": {},
   "outputs": [
    {
     "data": {
      "text/html": [
       "<style type=\"text/css\">\n",
       "#T_fbdce_row0_col0, #T_fbdce_row0_col1 {\n",
       "  background-color: #fcfbfd;\n",
       "  color: #000000;\n",
       "}\n",
       "#T_fbdce_row1_col0, #T_fbdce_row1_col1 {\n",
       "  background-color: #3f007d;\n",
       "  color: #f1f1f1;\n",
       "}\n",
       "</style>\n",
       "<table id=\"T_fbdce\">\n",
       "  <thead>\n",
       "    <tr>\n",
       "      <th class=\"blank level0\" >&nbsp;</th>\n",
       "      <th id=\"T_fbdce_level0_col0\" class=\"col_heading level0 col0\" >review_score</th>\n",
       "      <th id=\"T_fbdce_level0_col1\" class=\"col_heading level0 col1\" >review_text</th>\n",
       "    </tr>\n",
       "  </thead>\n",
       "  <tbody>\n",
       "    <tr>\n",
       "      <th id=\"T_fbdce_level0_row0\" class=\"row_heading level0 row0\" >0</th>\n",
       "      <td id=\"T_fbdce_row0_col0\" class=\"data row0 col0\" >0</td>\n",
       "      <td id=\"T_fbdce_row0_col1\" class=\"data row0 col1\" >780949</td>\n",
       "    </tr>\n",
       "    <tr>\n",
       "      <th id=\"T_fbdce_level0_row1\" class=\"row_heading level0 row1\" >1</th>\n",
       "      <td id=\"T_fbdce_row1_col0\" class=\"data row1 col0\" >1</td>\n",
       "      <td id=\"T_fbdce_row1_col1\" class=\"data row1 col1\" >4110797</td>\n",
       "    </tr>\n",
       "  </tbody>\n",
       "</table>\n"
      ],
      "text/plain": [
       "<pandas.io.formats.style.Styler at 0x7f46487c81c0>"
      ]
     },
     "execution_count": 3,
     "metadata": {},
     "output_type": "execute_result"
    }
   ],
   "source": [
    "temp = dataset.groupby('review_score').count()['review_text'].reset_index().sort_values(by='review_score',ascending=True)\n",
    "temp.style.background_gradient(cmap='Purples')"
   ]
  },
  {
   "cell_type": "code",
   "execution_count": 4,
   "metadata": {},
   "outputs": [
    {
     "name": "stdout",
     "output_type": "stream",
     "text": [
      "Ratio between positive and negative comments: 0.18997508\n"
     ]
    }
   ],
   "source": [
    "print(\"Ratio between positive and negative comments: {:.8}\".format(\n",
    "    len(dataset[dataset['review_score'] == 0]) / float(len(dataset[dataset['review_score'] == 1]))\n",
    "))"
   ]
  },
  {
   "cell_type": "markdown",
   "metadata": {},
   "source": [
    "How about the distribution of length of reviews\n",
    "\n",
    "In both positive and negative comments respectively"
   ]
  },
  {
   "cell_type": "code",
   "execution_count": 5,
   "metadata": {},
   "outputs": [
    {
     "data": {
      "text/plain": [
       "count    4.891746e+06\n",
       "mean     6.183327e+01\n",
       "std      1.077263e+02\n",
       "min      1.000000e+00\n",
       "1%       1.000000e+00\n",
       "10%      5.000000e+00\n",
       "25%      1.100000e+01\n",
       "50%      2.600000e+01\n",
       "75%      6.700000e+01\n",
       "90%      1.490000e+02\n",
       "99%      5.370000e+02\n",
       "max      4.000000e+03\n",
       "Name: num_of_words, dtype: float64"
      ]
     },
     "execution_count": 5,
     "metadata": {},
     "output_type": "execute_result"
    }
   ],
   "source": [
    "# first have all comments together\n",
    "\n",
    "dataset['num_of_words'].describe(percentiles=[0.01, 0.1, 0.25, 0.5, 0.75, 0.9, 0.99])"
   ]
  },
  {
   "cell_type": "code",
   "execution_count": 6,
   "metadata": {},
   "outputs": [],
   "source": [
    "dataset_pos_only = dataset[dataset['review_score'] == 1]\n",
    "dataset_neg_only = dataset[dataset['review_score'] == 0]"
   ]
  },
  {
   "cell_type": "code",
   "execution_count": 7,
   "metadata": {},
   "outputs": [
    {
     "data": {
      "text/plain": [
       "count    4.110797e+06\n",
       "mean     5.822571e+01\n",
       "std      1.030780e+02\n",
       "min      1.000000e+00\n",
       "1%       1.000000e+00\n",
       "10%      5.000000e+00\n",
       "25%      1.000000e+01\n",
       "50%      2.400000e+01\n",
       "75%      6.200000e+01\n",
       "90%      1.390000e+02\n",
       "99%      5.120000e+02\n",
       "max      4.000000e+03\n",
       "Name: num_of_words, dtype: float64"
      ]
     },
     "execution_count": 7,
     "metadata": {},
     "output_type": "execute_result"
    }
   ],
   "source": [
    "# describe the characteristics of the number of words\n",
    "\n",
    "dataset_pos_only['num_of_words'].describe(percentiles=[0.01, 0.1, 0.25, 0.5, 0.75, 0.9, 0.99])"
   ]
  },
  {
   "cell_type": "code",
   "execution_count": 8,
   "metadata": {},
   "outputs": [
    {
     "data": {
      "text/plain": [
       "<Axes: xlabel='num_of_words', ylabel='Count'>"
      ]
     },
     "execution_count": 8,
     "metadata": {},
     "output_type": "execute_result"
    },
    {
     "data": {
      "image/png": "[encoded data removed]",
      "text/plain": [
       "<Figure size 640x480 with 1 Axes>"
      ]
     },
     "metadata": {},
     "output_type": "display_data"
    }
   ],
   "source": [
    "sns.histplot(data=dataset_pos_only, x='num_of_words',bins=30,color='green')"
   ]
  },
  {
   "cell_type": "code",
   "execution_count": 9,
   "metadata": {},
   "outputs": [
    {
     "data": {
      "text/plain": [
       "count    780949.000000\n",
       "mean         80.822900\n",
       "std         127.803443\n",
       "min           1.000000\n",
       "1%            2.000000\n",
       "10%           7.000000\n",
       "25%          15.000000\n",
       "50%          37.000000\n",
       "75%          92.000000\n",
       "90%         195.000000\n",
       "99%         642.000000\n",
       "max        1925.000000\n",
       "Name: num_of_words, dtype: float64"
      ]
     },
     "execution_count": 9,
     "metadata": {},
     "output_type": "execute_result"
    }
   ],
   "source": [
    "dataset_neg_only['num_of_words'].describe(percentiles=[0.01, 0.1, 0.25, 0.5, 0.75, 0.9, 0.99])"
   ]
  },
  {
   "cell_type": "code",
   "execution_count": 10,
   "metadata": {},
   "outputs": [
    {
     "data": {
      "text/plain": [
       "<Axes: xlabel='num_of_words', ylabel='Count'>"
      ]
     },
     "execution_count": 10,
     "metadata": {},
     "output_type": "execute_result"
    },
    {
     "data": {
      "image/png": "[encoded data removed]",
      "text/plain": [
       "<Figure size 640x480 with 1 Axes>"
      ]
     },
     "metadata": {},
     "output_type": "display_data"
    }
   ],
   "source": [
    "sns.histplot(data=dataset_neg_only, x='num_of_words',bins=30,color='orange')"
   ]
  },
  {
   "cell_type": "markdown",
   "metadata": {},
   "source": [
    "The public dataset supports the distribution of the comments\n",
    "\n",
    "- \"Negative reviews are slightly longer than positive reviews, but the difference is negligible.\". But seems the latter is not supported by the dataset we have.\n",
    "\n",
    "- \"Most games receive reviews with a median length of 205 characters, or 30 words.\". The sentence is supported by the positive set and the overall dataset, but not on the negative set."
   ]
  },
  {
   "cell_type": "markdown",
   "metadata": {},
   "source": [
    "what if we remove comments less than 10 characters."
   ]
  },
  {
   "cell_type": "code",
   "execution_count": 47,
   "metadata": {},
   "outputs": [],
   "source": [
    "dataset_2 = dataset.copy()\n",
    "\n",
    "number_of_charaters = 20\n",
    "\n",
    "dataset_2 = dataset_2[dataset_2['review_text'].str.len()>=number_of_charaters]"
   ]
  },
  {
   "cell_type": "code",
   "execution_count": 48,
   "metadata": {},
   "outputs": [
    {
     "data": {
      "text/plain": [
       "count    4.626526e+06\n",
       "mean     6.523254e+01\n",
       "std      1.098045e+02\n",
       "min      1.000000e+00\n",
       "1%       4.000000e+00\n",
       "10%      7.000000e+00\n",
       "25%      1.300000e+01\n",
       "50%      2.900000e+01\n",
       "75%      7.000000e+01\n",
       "90%      1.550000e+02\n",
       "99%      5.490000e+02\n",
       "max      4.000000e+03\n",
       "Name: num_of_words, dtype: float64"
      ]
     },
     "execution_count": 48,
     "metadata": {},
     "output_type": "execute_result"
    }
   ],
   "source": [
    "# first have all comments together\n",
    "\n",
    "dataset_2['num_of_words'].describe(percentiles=[0.01, 0.1, 0.25, 0.5, 0.75, 0.9, 0.99])"
   ]
  },
  {
   "cell_type": "code",
   "execution_count": 49,
   "metadata": {},
   "outputs": [],
   "source": [
    "dataset_2_pos_only = dataset_2[dataset_2['review_score'] == 1]\n",
    "dataset_2_neg_only = dataset_2[dataset_2['review_score'] == 0]"
   ]
  },
  {
   "cell_type": "code",
   "execution_count": 50,
   "metadata": {},
   "outputs": [
    {
     "data": {
      "text/plain": [
       "count    3.873162e+06\n",
       "mean     6.164262e+01\n",
       "std      1.052375e+02\n",
       "min      1.000000e+00\n",
       "1%       4.000000e+00\n",
       "10%      7.000000e+00\n",
       "25%      1.200000e+01\n",
       "50%      2.700000e+01\n",
       "75%      6.600000e+01\n",
       "90%      1.450000e+02\n",
       "99%      5.250000e+02\n",
       "max      4.000000e+03\n",
       "Name: num_of_words, dtype: float64"
      ]
     },
     "execution_count": 50,
     "metadata": {},
     "output_type": "execute_result"
    }
   ],
   "source": [
    "# describe the characteristics of the number of words\n",
    "\n",
    "dataset_2_pos_only['num_of_words'].describe(percentiles=[0.01, 0.1, 0.25, 0.5, 0.75, 0.9, 0.99])"
   ]
  },
  {
   "cell_type": "code",
   "execution_count": 37,
   "metadata": {},
   "outputs": [
    {
     "data": {
      "text/plain": [
       "<Axes: xlabel='num_of_words', ylabel='Count'>"
      ]
     },
     "execution_count": 37,
     "metadata": {},
     "output_type": "execute_result"
    },
    {
     "data": {
      "image/png": "[encoded data removed]",
      "text/plain": [
       "<Figure size 640x480 with 1 Axes>"
      ]
     },
     "metadata": {},
     "output_type": "display_data"
    }
   ],
   "source": [
    "sns.histplot(data=dataset_2_pos_only, x='num_of_words',bins=30,color='green')"
   ]
  },
  {
   "cell_type": "code",
   "execution_count": 51,
   "metadata": {},
   "outputs": [
    {
     "data": {
      "text/plain": [
       "count    753364.000000\n",
       "mean         83.688866\n",
       "std         129.225425\n",
       "min           1.000000\n",
       "1%            4.000000\n",
       "10%           8.000000\n",
       "25%          16.000000\n",
       "50%          40.000000\n",
       "75%          96.000000\n",
       "90%         200.000000\n",
       "99%         651.000000\n",
       "max        1925.000000\n",
       "Name: num_of_words, dtype: float64"
      ]
     },
     "execution_count": 51,
     "metadata": {},
     "output_type": "execute_result"
    }
   ],
   "source": [
    "dataset_2_neg_only['num_of_words'].describe(percentiles=[0.01, 0.1, 0.25, 0.5, 0.75, 0.9, 0.99])"
   ]
  },
  {
   "cell_type": "code",
   "execution_count": 53,
   "metadata": {},
   "outputs": [
    {
     "data": {
      "text/plain": [
       "\"After I bought Postal 2, i saw that there was a third one and it had modern-day graphics and i thought that was pretty cool and then I saw all the negative reviews except for the literally only postive review and i thought to myself, hmmm I wonder how bad this game is? Seeing as how the second one was badass and amazingly better than some of the AAA games we get served today, so i bought it, played it and beat it, and now i now why this game is slandered, even RWS has given up on this trainwreck but before i trash this game more i have to say there are parts of this game that are good but far from being awesome.  Like my review of Postal 2, this review will broken down in the same areas  Gameplay, Graphics, Sound and most importantly Story  Warning: this is my opinon and if anything offends you, i deeply apolgize  Gameplay 5/10: the overall gmeplay isn't all to bad, the controls aren't bad but they are a big difference from its predecessor, the main control feature i like about this game is you don't have to use the mouse scroll for changing your guns, you can now use X and C for that which for me (being a console gamer for 16 years) is a big up for me since i'm still new to the PC controls. The game praises it's so called 'advanced AI' but in reality the so-called 'advanced AI' isn't so advanced unless advanced AI means running in your line of fire and killing all the 'advanced AI' in like two seconds  Graphics 6/10: the graphics of this game are not that bad but also not that good for a game that was realeased in 2011. there are times where the graphics acutally look complete and then other times your face palming with more regert than Patrick Stewert.  Sound 8/10: this is the only department that this game did good in. The BGM of this game is amazing, the only time the BGM is bad, is that it is stuck in a never-ending loop, so in the longer levels in the game it starts to become a ear ache. The sound F/X of this game is why the sound gets an 8 out of 10 instead of being a perfect score, the gun noises in this aren't as realistic as they were Postal 2, but they aren't horrible either, at least they are actually sounds instead of one guy making 'pew-pew' noises.  Story 6/10: the only reason this game's story did better than Postal 2 is because it's more of a linear based game, so there is more room for story, but the main reason ot only did a point better was becasue it's story was all over the f***ing place, when i finally beat the game, i had no f***ing idea what the f*** happend, the story has more holes in it than swiss cheese or a Micheal Bay movie (uggh don't get me started on him)  Overall 4.5/10: Overall this game needs A LOT more work and if it was developed on for a little bit longer (i'd say like two more years) it may have been a better game but I personally think that it should have been the exact same game as the second but with a new story and graphics like Halo 3. (ahhh if only) But before i go, the nic people over at Anthology Production, are making a mod for Postal 2, and it's basically taking Postal 3 and putting it into the engine of the second game and more! So i cannot wait for it to come out. so as you can see I do NOT reccomend this game but if you really want to play this s***ty game than wait for that mod.\""
      ]
     },
     "execution_count": 53,
     "metadata": {},
     "output_type": "execute_result"
    }
   ],
   "source": [
    "# select some text for sample\n",
    "\n",
    "dataset_2_neg_only[dataset_2_neg_only['num_of_words']==645].iloc[0]['review_text']"
   ]
  },
  {
   "cell_type": "code",
   "execution_count": 54,
   "metadata": {},
   "outputs": [
    {
     "name": "stdout",
     "output_type": "stream",
     "text": [
      "\"  Remasters and remakes are nothing new in video games. In fact, it’s been quite the popular trend dating back to the God of War HD collection for the PS3 in 2009. Since then there have been numerous and, one might say, too many remasters and remakes.   If you look at the end of the previous console generation and the beginning of the current, it’s abundantly clear that these have been relied upon far too much.   [en.wikipedia.org]  The criticism of “too many remakes, not enough new IP” is quite fair. That said, very few if any of the remasters/remakes out there show the level of care and reverence that Oddworld: New ‘n’ Tasty exhibits.   My first exposure to the Oddworld series dates back to 1997 and the release of Abe’s Oddysee. Now, while I never played the game I distinctly remember the ads in EGM and Game Pro. Along with Soul Reaver no other game during that time had such striking and wonderful ads. I saw a dingy and strange world that looked unlike anything I had seen before, and the prerendered backgrounds looked breathtakingly realistic. The first time I actually got my hands on an Oddworld game was the wonderful Stranger’s Wrath HD. The world-building and unique characters stuck out as something derived from a fever dream and the setting was unlike anything I had seen before. When New ‘n’ Tasty was announced I knew I had to jump back in to the franchise.   Playing New ‘n’ Tasty for the first time was quite a joy and I see why this franchise (especially the first two) are so beloved, it’s smart and inventive puzzle platforming. You play as Abe, the bungling unlikely hero, out to rescue all of your fellow Mudokon’s and overthrow the evil Rupture Farms. Oddworld is a dangerous place and Abe must use his brain, not his brawn, to solve puzzles. The levels are thoughtfully designed and provide a sense of accomplishment upon clearing a room. Enemies can kill you at the drop of a hat so patience is best used instead of trying to brute force a puzzle. Luckily, you have the ability to quicksave anywhere in the game and reload just as fast which makes getting shot by a Slig much more tolerable.   As far as the quality of the remaster, many of the levels appear to be a faithful reimagining with some small tweaks here and there. The game itself looks quite stunning and I found myself pausing when presented with beautiful background vistas to enjoy the view. This is not a simple coat of paint but rather a complete rebuilding of the first game, quite an undertaking but one that seems to be well worth it. The excessive bloom and lens flare may distract some but I quite enjoyed the overall aesthetic of the game and it seemed to keep the grungy, lived-in feel of the original.   As a platformer and mechanics go, the fairs pretty well but is not without its faults. The jump button in particular seemed to be a hair off in some spots resulting in a frustrating death. This small bit of latency (although not always present) can undermine great level design and layout when I push a button and Abe doesn’t react accordingly. Luckily these control issues are not ever present and only rear their ugly head every so often.    Oddworld: New ‘n’ tasty is an excellent jumping off point for those looking to get into the series and what should be good nostalgia trip for fans of the originals. With the next game, Soulstorm, in the works it’s good to see that we will be getting more out of the Oddworld series as it truly is one of gaming’s most unique and bizarre settings. \",\n",
      "\n",
      "\" tl;dr -&gt; If you want a cheap game to play during your acid-trip, Echo will serve your tastes fairly well. 11/10 for repeatedly reminding me of the moose-avatar in the Hannibal TV series.   I got this game in a bundle, and was very excited to play it because of my love for survival/crafting-style games. Admittedly, I was a little turned off in my initial playthrough, however, after giving it another chance, I quickly dove into a refreshing, novel experience.   If you like survival/crafting-based gameplay, psychedelic-lite aesthetics, and an introspective storyline, then you will really enjoy this game.  The aesthetics are good - the detail in the environments and character models is well-done; the more psychedelic scenes are also great (and may take you aback if you haven't seen any screenshots). The ambient noises and sounds are good - in particular, I appreciate the change in tone whenever the vibe of the scene transforms (usually into a dream-like sequence). The story is very nice, and anyone who enjoys introspection and philosophical thinking should be satisfied with the game's message - I personally felt that the game was in no way pretentious or overly-aggressive in portraying said message(s).  I have a problem with the controls, and I think the main culprit is the poor optimization between controller and keyboard - when you edit the keybindings, it will only allow you to do this for the keyboard. Using a keyboard is okay - and perhaps even recommended - however, the controls are very counter-intuitive if you are used to playing videogames and choose to use a controller. I have played a lot of game throughout my life, and Western norm is for the right button (circle/B) to be the exit/cancel key, while the top button (triangle/Y) performs that action in many Japanese-based games. In Echo, the default gamepad controls are (in inventory management): x/A -&gt; drop; circle/B -&gt; Use; square/X -&gt; exit. It takes a bit of getting used to, as I would constantly be dropping/using my items when I didn't intend to. The game makes an attempt to be ergonomic- the A, S, and D default keys are green, red, and blue in-game - however, when you rebind the keys, you will still see the letters A, S, and D inside the in-game keys (you can turn the key hints off to prevent confusion). A suggestion - having the three command keys spread out in the actual layout on a controller (if key hints are enabled)will take up space in-game, but will be much more ergonomic.   The controls will take a bit of getting used to, but the tutorial mini-mode will be extremely helpful in getting you familiarized with the gameplay. The learning curve is minimal to moderate depending on your experience with survival games - I will caution, however, that this game can be unforgiving if you do not plan your days in advance. Do not be surprised if you die during your first few playthroughs - once you understand what to prioritize and how (ex: 'forgetting' initially useless areas), your games will last considerably longer.  Gameplay consist of you trying to survive each day/night while trying to progress the storyline. You usually have enough time to scout 2 new places on the map, however, you can only 'remember' one area per day. Remembering a location will allow you to revisit it from then on. I recommend you do not remember places with one-time spawns (ex: an area with a LOT of fruit bushes), as only certain things respawn over time (like trees and shoots). You can also 'forget' areas to clear up space on the map. If night time arrives, you will be unable to interact with any objects in the environment unless you have a torch. Your two main priorities are to secure a food/drink source (starving will decrease health over time) and a fire source (you will lose health if you sleep without an adequate fire).   During your journey, you will be treated to story elements that add a lot of interesting scenes. There will also be special structures that allow you to donate food in order to receive crafting recipes (extremely useful). Saving is fairly unique, and also requires a food donation. Note, you must locate these special structures first. Death offers you the slightest chance to continue, but you should never gamble on this chance (instead, focus on not dying). The goal of the game is to    return home after some life revelations/insights   . Endless mode has been taken out by the developer, which is something that I miss (although a new game+ is in the making).  Overall, Echo is a great game for any survival/crafting enthusiasts, and this game should definitely be given a try if you are interested in the genre.  Definitely recommend!  Cheers, DJSF  @DJSF's Rogue Reviews   \",\n",
      "\n",
      "\"A 2D brawler with RGG elements of character progession, loot and quests Dust: An Elysian Tail has no right to be nearly as good as it actually is. It is an excellent metroidvania style game.  The graphics are slick and colourful and the animation is smooth, fast and very energetic. The only times the quality wanes in in some of the few animated cut scenes which look on par with an average flash animation  Gameplay wise the titular character feels very responsive, I've never felt screwed by the game, only myself. the sides quests are nothing much more than kill or fetch quests but the loot system feels effective without being useless or completely overpowered. There is also basic crafting to create your items of power from the 30 or so crafting materials that can drop from varied monsters spread out over several zones.  To do everything in the game is roughly 20 hours gameplay which is not only good value for money but like portal it means the game progress at a rate that feels like your moving forward rather than killing time and you end up finishing the game long before it outstays it's welcome.   The characters and style have been crafted in the same mold as the animated movie 'An American Tail' albeit with an anime twist. An odd yet comfortable creation. Unfortuantely you never get much time with many of the side characters so they can appear very 1 dimensional. the story likewise is fairly simplistic but with some nice twists in the tale to keep things fresh. What really helps though is the excellent voice acting, nothing on par with something like Bioshock or Mass Effect but more like an excellent dub of an anime, which considering the art style works very, very well. You do have a typical anime style sidekick though and it is entirely possible you could hate them, that is up to you to decide.  Speaking of the sound the music track is probably the only part of the game not composed by the creator of the game, Thankfully it is likewise excellent, providing all the right moods at the right time from energetic, daramatic compositions to some tracks providing a sense of unease in a haunted house.  Being a port of an Xbox Live game you will be suprised to know the port is one of the best ever. In anything. Large publishers have been royally put to shame with the amount of options a PC user can change in the settings from basic visuals and FX settings to physically putting the HUD anywhere you like on the screen. Anywhere. As an addition the animations themselves are either the best upscale from 720p I have ever seen or they went back to the original art and took higher resolution images to be used in the PC port.  All in all Dust: An Elysian Tail is one mans labour of love and it really shows. As long as you don't mind the obligatory talking found in RPG's, don't hate anime, and are a fan or even curious about metroidvania games this needs to be in your collection. Don't even bother with a thumbs up or down on this review, just buy the game.\",\n",
      "\n",
      "\"If you are interested at all in turn-based tactical games, get this game NOW. It doesn't matter if you like or dislike anime and anime storylines, you are only doing a disservice to yourself if you choose not to play just because of that.  Valkyria Chronicles is basically a turn-based squad FPS, and its biggest contribution to the turn-based genre is that it makes the battlefield continuous instead of split up into grids or hexes. Taking cover is a lot more natural and is not limited to specified grid squares. You can stack up an entire squad of 10 people behind your tank and effectively use it as cover. And you really have to take care when taking cover. If a tiny bit of your tank's rear end is sticking out of cover, or a tiny bit of your infantry's leg is exposed, you can get hit. Fortunately it works in reverse as well. You can actually shoot enemies through a tiny 6-inch gap between walls. These are just a few of the things you can do in this game that just isn't possible in grid or hex based games.   The story isn't so bad either, though as with most anime storylines it is a bit saccharine and full of anime cliches, particularly at the beginning. It could be a bit jarring for a war story. Stick with it until the middle though and it gets considerably more serious. Small spoiler: someone dies, and storywise they pull it off really well. I got hooked by the story around that point, and it really helped that I wanted to know what happens to these characters as I went into the endgame.  The RPG elements of the game are pretty well done too. You earn XP which you pour into your 5 soldier classes, increasing their stats and their abilities. Upon reaching level 11, your soldier classes become elite, which for 2 classes (the scout and the stormtrooper) completely change the way you use them in combat as they receive game-changing secondary weapons. The pace for progression is also pretty well tuned. I didn't feel that I had to grind through missions repeatedly just to level up my characters so they can succeed in the next story mission.  The visuals of this game are awesome. If you want an example of how to make a game look timeless, this game is a good one. It doesn't rely on the latest and greatest graphics tricks to look good. Instead it uses a hand-drawn watercolor-like storybook look throughout the game and pulls it off exceedingly well. Everytime I open up the personnel viewer I have to convince myself that the character models are indeed 3d models and not hand-drawn 2d. They look that good. I think the visuals of this game will hold up for a LONG time, the same way that 1930's Disney films like Sleeping Beauty still hold up today.  The game is split up into 18 chapters, each with at least 1 battle. It took me about 25-30 hours to go through all these, plus the little optional skirmish missions. The level and objective variety is pretty good. As you go through the game you will fight in a city, a forest, a wide open desert, a battle-scarred trench network and a fortress assault. You'll never feel that you have to do the same thing again as you go through the game the first time.  The biggest gripe I have on this game is that the AI can be very predictable, though fortunately you won't notice that as much on your first playthrough. Most enemies are either constantly on static overwatch, or follow specific paths through the map. You can also begin to reliably predict their behavior state changes and exploit them the more you play the game. It will take you the entire first playthrough to learn these though, so it isn't a dealbreaker. There are also small things like not being able to use low cover other than sandbags but there's usually some full cover near these places so it isn't as bad.  The porting work is decent, giving you full mouse support during the combat sections though you still have to use the menus in the old fashined way. It suffers from the usual too-many-menus syndrome of most console games but fortunately you only have to deal with that in between battles. The PC controls during the battle itself are completely intuitive and you can change and rebind keys to your preference in the game launcher.  This is a magnificent game and it was a crime to have it locked up as a console exclusive for all these years. The way it mixes squad-based FPS and turn based strategy is absolutely masterful and should be done in more games. The visuals look great and the PC port is well done. Add to that the fact that it is only 1/2 to 1/3 the price of full-price games and the only question left is: Why are you still reading this review instead of playing Valkyria Chronicles?\",\n",
      "\n",
      "\"I really recommend this game because of many reasons. Unlike DOOM 3 where the gameplay was more of a horror based game with a slow speed, DOOM 4 is a fast paced FPS game which is more like DOOM 1. As the developers said, they combined the DNA of DOOM with new things to entertain a modern shooter audience.  Alright so enough introducing, lets get down to what the game actually has to offer:   Great Graphics: The game uses Unreal Engine. Which results in good gameplay, no bugs (or at least I haven't seen any) and very beautiful graphics. Even on low setting. Models and maps are highly detailed. One of the things about the graphics that I really loved was when there was water spilled on the ground and you would look at it, my god does that look real!  Gameplay: The gameplay is fast. You can't stand somewhere and shoot demons. You have to constantly keep moving to avoid being hit. Standing still means death. It has a lot of different challenges (which I will mention later) and game mechanics which you will love.  Glory Kill: You have an ability to brutally kill your enemy. When your enemy takes too much damage, he will enter a stagger stage where he will be too weak to continue fighting and just keep staggering. Staggered enemies start flashing. When you approach them you can execute them with your bare hands. This can give you health, armor or ammo. Also what's fun is that there isn't just one glory kill animation for an enemy. There are more than one and they all depend on which direction you're approaching them and which body part of their's you're looking at. For example if I approach an enemy from behind I'l do a certain type of glory kill and if I try to glory kill them while I'm mid-air, I will do another type of glory kill. All of which are fun to watch.  Kills are Rewarding: When you kill a demon, other than just feeling good, you also get rewarded. Enemies drop items such as health, armor (when a special Dune is equipped) or ammo. So when you're low on health, you don't think of hiding and trying to find health. You think of dodging hits and killing weak enemies to regain health. Also glory kills give more items.  Upgrades: There 4 types of upgrades in the game: Weapon Modes, weapon points, Praetor suit upgrades and Argent Energy Upgrades.  1. Weapon Modes: Almost all weapons (except 3 of them) have addons which you can install on them. These addons give the gun a special ability. There are drones scattered around maps that can give you these addons. There are 2 addons for each weapon. You can pick them to your liking and best part is, you can get them all if you find all the drones in the game. And you can change the addons mid-fight so you can change your tactics when your situation changes. For example for the shotgun, you can either have the burst mode which allows you to fire 3 rounds in a burst after a few second windup or you can have the Grenade Launcher Mode which allows you to launch weapon grenades with your shotgun into a crowd of enemies or at a further away enemy.  2. Weapon Upgrade Points: As you find secrets and complete map challenges, you earn Weapon Upgrade points which allow you to upgrade special things about the Weapon Mode you've chosen. For example I can upgrade my Shotgun's Burst Fire mode to load up faster.  3. Praetor Suit Points: These points allow you to upgrade you to upgrade your suit for special things. For example, being more resistant to self damage, barrel explosion damage, finding secrets easier, mantle and climb faster and etc. These points can be earned by finding special red Guard bodies in the map.  4. Argent Energy Upgrades: There are some Argent Energy containers scattered in maps that allow you to upgrade one of your 3 major stats: Health, Armor and Ammo. Choosing health will increase your maximum health, choosing armor increases your maximum armor and choosing ammo allows you to carry more ammo.  Challenges: The game has 3 types of Challenges. Runes, Map Challenges and Combat Rating.  Runes: Runes are enchanted stones scattered in maps which you can find. They offer a difficult challenge and if you accomplish them, you receive a Rune for reward. They teleport you to a special Arena where you must complete a challenge. The Rune which you will be rewarded can upgrade one of your skills or give you one. You will achieve 12 runes throughout the game. And you can have 3 of them active when you play. Choosing which to have active is decided by you on how your tactics are. For example I picked that I could Glory kill faster, Enemies would drop Armor when I glory killed them and that enemies would be more Glory Kill friendly by being more resistant to damage while in Stagger state. Yes I love glory killing and that's why I have all 3 focused on it. :D  Map Challenges: Each map has 3 challenges for you which you can see anytime you want. By completing these challenges you earn weapon points. These challenges can vary from a piece of cake job to a you-got-to-be-kidding challenge. Here are two examples:  Easy: Kill 3 enemies with Chainsaw Hard: Kill two Hell Barons (giant tough lethal enemies) with one shot. I admit this was the hardest I had ever faced. Although I'm proud to say that I managed to do it. I won't say the details because I don't want to spoil it and also I don't want to give you the solution on how to do it so good luck!  Combat Rating: This one I have to be honest and say I don't quite understand how it works. But when you finish a map, your combat is rated from 5. How it's rated I believe is how well you fight. Like how you don't almost die, or how many times you die and have you killed all the enemies in the map and some other things which I don't think I know of. These also grant you weapon points.  Secrets: The game is FULL of secrets! And they vary from secret locations where items are stocked, Drones hiding, Argent Energy containers, Praetor Guard corpses, Runes and Doom Guy dolls. Yep, you read right. I said Doom Guy dolls (I'll explain below) and most surprising of all, DOOM 1 Maps (also explained below). There's a lot right? You're thinking it will take more than one play-through to find them all. Well actually the thing I like about DOOM is that it gives you abilities to find the secrets easier. Not HOW to find them, but hints You can find them using your map or your compass (both require you to do some Praetor suit upgrades to find them easier). So basically I was able to find 90% of all the game secrets in one play-through.   Doom Guy Dolls: One of the fun secrets to find are cute dolls based on the Doom Guy with different colors. There are two of them in each map. By finding them, aside from being able to gain Weapon Points, you unlock a certain weapon/NPC model which you can view later through the menu. These models are fun to view since you can view them from up close without them trying to kill you. Really good for artists.  DOOM 1 Levels: Each map has a secret hidden location where you can find one of DOOM 1's levels. The textures are the same, the whole part is the same. It's like you've walked back into DOOM 1 with your new guns. Although there will be no enemies in there, there can still be ammo and health and armor. All of which having the models from DOOM 1. Pretty fun to be honest. You get really excited and happy when you find them. Although they are the hardest secrets to find. I myself have only found one of them actually. After you've found one of these levels, you can go to the menu and play the whole map which that part belonged to. Which every enemy, weapon and item in its original place. Although the enemies and weapons will be from DOOM 4 (but they will be the original ones).  There's still a lot more to say but apparently I've reached the word limit so I cannot explain any more. In conclusion, I urge you to play this game's single-player campaign. There's still a lot I wanted to tell you if I didn't have a limit.\",\n",
      "\n"
     ]
    }
   ],
   "source": [
    "for index, row in dataset_2_pos_only[dataset_2_pos_only['num_of_words'] > 512].sample(n=5).iterrows():\n",
    "    print(\"\\\"\"+ row['review_text']+ \"\\\",\")\n",
    "    print()"
   ]
  },
  {
   "cell_type": "code",
   "execution_count": 55,
   "metadata": {},
   "outputs": [
    {
     "name": "stdout",
     "output_type": "stream",
     "text": [
      "\"Edit: Act 2 has been released a while now, but i can safely say I don't feel like going back to this game. It sounds as if I would have to play act 1 all over again just so I can understand stuff in act 2. And Act 2 doesn't sound worth it. So, yeah...  The awkward moment where steam tells you when you purchased the game, rather than when you last played... X(  I bought this game without any prior knowledge of the kickstarter origins of Broken Age, and I feel that this title supports my arguement for NEVER backing a game through kickstarter, unless you like throwing money at something which may never happen. There is always a risk when giving money to someone for something that doesn't exist, and I think a lot of people have unrealistic expectations, and unfortunately in this case, it was the people making the game that didn't plan and budget ahead.  I bought this game in a steam sale not long after it was offically realised, which was the best choice at the time, as I had heard a bit about the game and was excited to play it myself. I played through act 1 and expected a few months wait for act 2, as this is the norm with most multi-part titles. How wrong I was. Over a year later, I am still waiting for act 2. I can't imagine how annoyed people must be from backing this game from the start! However, the signs for problems ahead were there from the beginning.  Having only just bought the game, I started looking through sites to see if there was an expected release date for act 2, only to find an article which stated that the profits from act 1 meant they could go on and fund act 2. I was horrified! I had no idea that this game was not even funded for the second part. I had no idea that this game wasn't even supposed to be split into 2 acts in the first place. But I thought to myself, oh well, it might take a little bit longer but I can wait. Update after update, deadlines came and went for act 2 to be released. I think this is what really got to most people. The waiting wasn't the problem, it was the promises that were broken that made people upset and lose faith in Double Fine as a developer. How can you trust someone with your money if you don't believe they know what they are doing? If someone who has 30 years experience in the games industry can't budget for a full game, then we are all doomed! Unfortunately for us, its too late to take back our money or get back our trust. This is the true lesson to be learned from this experience: Research, research, research! If something looks too good to be true, then it probably is!  I feel that some of the fault in my buying this game has to fall at Valve's door. The steam page for Broken Age is very misleading, as it gave me no indication at the time that this game is kickstarter funded and may never have been finished. And, even now, it is impossible to tell from the steam page that this game is not finished! This is why I have written this review, to give people the knowledge of the situation surrounding this game, so that someone else can make an informed choice over whether to purchase this game, I choice I didn't have.  So, I guess you want to know a bit about the game, huh? Other reviews can tell you more, but the basics are: It's a point and click adventure that follows two very different main characters, with the option to switch between characters whenever you wish. Its a pretty looking game, with amazing voice-acting and simple puzzles.  Is it worth almost £20? No. Act 1 took me about 3 hours (I got stuck for about 30 minutes because I'm bad at video game logic :P), with act 2, if and when it appears, to take another 5 hours. I'm honestly not sure I will play act 2. It has been so long since I played act 1 that I will have to replay it all from scratch. And really, there are SO many other games I could be playing, I may never experience this game as it was supposed to be played. My advice: Wait until both acts are out and grab it in a sale. As the second act is currently not out, I cannot recommend this game to anyone.  A real shame.\",\n",
      "\n",
      "\"Faerie Solitaire is an attempt to wrap a story around a game of solitaire where you attempt to 'clear' the play field of all the cards. There are additional aspects like win money to buy upgrades, and collect creature eggs and ingredients to evolve them. However, the difficulty curve is uneven, and the various aspects never integrated into a cohesive experience.  Basic gameplay is solitaire, the kidn where you have a bunch of cards, only some were open (but the unopen ones may be face up so you can plan better). You have the remainder of the deck, and you have ONE open card. The objective to to match your open card with the open card on the deck that's one higher or one lower (color/suit is irrelevant) and attempt the clear the entire board before your deck runs out. You can achieve partial success by removing most of the cards (which fills up the purple power meter), and if you managed to clear the board you get 'perfect' hand (and bonus reward)  You will also need achieve up to 3 objectives by end of 9 hands, which consists of a level. Each 'stage' is composed of multiple hands, and there are 8 stages overall, resulting in a lot of solitaire play. Some additional complications, such as 'frozen' or 'thorn-locked' sections and timed goals makes things interesting, but this game is really for people who can play LOT of solitaire... of one kind only.   The story line and combat is not really integrated into the game itself, much like Puzzle Kingdom or Puzzle Quest. After all, this is solitaire, with no competition except against oneself. So somehow, while the story is fairly compelling, with a twist mid-game, the game doesn't quite 'feel' much like going on a quest, but more like uncovering sections of a story book, doing some unrelated stuff to unlock the next chapter. And that really distracts from the game.   Furthermore, the game's difficulty curve is not even. The powerups that you can buy can affect the game greatly. There are a stage or two where you need to get THREE perfect hands out of nine hands total. That turned out to be VERY very hard without a certain powerup.   To add some 'value' to the game the developers added 'pet collecting', as you can find magical ingredients and occasional some magic creature eggs when you clear the board (i.e. get 'perfect' hand) and if play with the baby creature enough hands, and have the right ingredients, you can 'evolve' the creatures into 'adult form'. However, there seem to be no relation of the creatures to the story OR the game, so it felt as if it's tacked on to FORCE some completionists to replay the game to get all creatures and/or their adult forms.   There are some challenge levels not related to the adventure mode, but that's not much fun there.   As you win each hand you accumulate some monetary winnings that can be used to buy certain powerups, which gives you extra UNDO, peek at the next card in your deck, and so on. Those can be quite expensive but can make your late games easier, esp. the power to 'zap' a card off the board. But again, the monetary value isn't integrated into the story much.   One very annoying aspect is sometimes there are timers, like 'fill the purple power bar in 2 minutes', but there is no timer on screen that tells me when my 2 minutes is up! (And there's an impossible achievement: get a perfect hand in under 1 minute)  All in all, Faerie Solitaire is an indie game that tried to marry a story to soltaire play, but didn't quite succeed, as the various elements sucha s pet, money, and story don't mesh.   The game ended on a cliffhanger, leaving it to the sequel. Let's hope the sequel is more... integrated than this first attempt. But NOT recommended, unless you REALLY love playing soltaire.\",\n",
      "\n",
      "\"Sentinels of the Multiverse is a computer card game. In it, you control a group of heroes, and you combat a villain. The game is represented by cards – each character is a card, with their own power and hit points, and their own unique deck. The game proceeds by having the villain (controlled by an AI) play, then the heroes play, with each hero having their own hand of cards, and then having the environment (again controlled by an AI) play.  The gameplay is about what you’d expect out of something like this, and all in all, the decks of the various characters are reasonably interesting. The villain throws something at the heroes every turn, be it some sort of attack, a minion, something which blocks their progress, ect. Sometimes, the villain card itself will attack as well on top of whatever the card they drew doing.  Likewise, each of the player characters in their own turn gets to play a card, then use a power, and finally draw a card. This power can either be the power on their card, or a power on a card they played. Some cards give passive bonuses, some are powers which have to be activated during the power turn, and some just are a one-shot ability which does something.  The environment basically does stuff to help or impair the heroes and villains. Some of the cards are really disadvantageous for the heroes, some hurt the villains, some do very little, some are easily gotten rid of, and some are very deadly.  While all of this is reasonable enough, it becomes clear very quickly that the game is short on content. The game comes with ten heroes, four villains, and four environments. Given you can play with up to 5 heroes every round, you’re really looking at only a handful of games before you run out of new content. There is an “advanced” mode for the villains, but it is really ultimately just a minor tweak which ups the villains’ difficulty rather than giving a real burst of new content.  But there are packs of heroes and villains which can be purchased as DLC…  And that’s really what this is – the base game is basically a demo for the “full game”. You can buy the season 1 DLC pack for as much as the base price of the game ($20 right now) which greatly increases the content – overall adding 8 new heroes, 14 new villains, and 8 new environments. The base game experience just isn’t very varied, and you will likely quickly become bored with fighting the villains after one or two times.  There isn’t really a story or anything else – while there are character background pages, expecting any story beyond that will leave you disappointed. And while there is a new weekly challenge every week, most of them require the DLC, and in any case, they’re just the standard scenarios, just with preset villains and hero sets – and as far as I can tell, none of them really incorporate stories or anything special like that.  Really, then, this isn’t a complete game without the DLC – so expect to spend as much as the base game + the DLC, meaning this is basically a $40 game, not $20. At the sort of price range they’re asking for, I don’t think this game is really worth it – frankly, I got about three hours of vague interest out of it, followed by about five hours of achievement hunting and the realization that I wasn’t really having fun anymore.  Overall, I don’t think that spending the extra money is really going to make it all that much more fun – just increase the amount of time you spend on it being vaguely amused at best. There are just so many more games out there which try so much more to make you happy, I just can’t really say that you’d be justified spending your time on this one. It isn’t awful, and it is an okay-designed card game, but there’s just nothing special about it.\",\n",
      "\n",
      "\"Updated Review 9/25/15  After my 3rd time playing the game, wanted to update some items.   Pros - * Graphics Now that they've released like 38 patches, the game looks pretty good and runs great. Running the game in 3840x2400 and it is beautiful. (will post system specs at the bottom) * I like the upgrade system so that you can gradually upgrade your assassin, both with skills, and the his gear / outfits / weapons.   Cons -  Everything else. The biggest culprit is the combat system of the game. They've removed everything that made the previous iterations great. I'm a huge AC fan and have been since the series was released, but this game is just awful. I understand that they wanted to make the game more difficult, but the way they went about it was about the worst way they could have done it. Removed counter kills, human shields, disarms, the ability to pick up weapons. They've given every enemy on the battlefield a firearm and to reiterate they removed human shields. Human shields were put in to AC3 and AC4 for the specific purpose of giving you a viable and sensible way to engage enemies with firearms at close range and survive. Absolutely ludicrous by the developers. The combat system alone is so awful that I absolutely cannot recommend the game based on that factor alone. It is THAT bad.   Furthermore, the camera system during combat makes it almost impossible to see the enemies as they are engaging you, especially in tight quarters. You will most often just end up dropping smoke bombs left and right so you don't end up dead. When you attempt to parry, sometimes it works, and sometimes it doesn't, even if your timing is perfect. If they wanted to make the game more difficult, they can simply design various enemy classes where certain types of enemies have to be handled differently (break defense, tripping the enemy from behind, etc.) - see the Batman Arkham series' virtually perfect combat system for my meaning. But don't take away what's made the whole franchise great - good mission design, great combat system and great story.  Clunky controls - both climbing, and the aforementioned combat. When I press a button it takes a second or two for Arno to respond and do what he should. All previous AC games were not like this - you pushed a button, and your character responded immediately. I'm not sure if this is an engine issue with the game, or if they purposely designed it this way, but the controls need to be much smoother and much more responsive.   Bad / Nonexistent present day story. I'll re-iterate from some of my previous AC game reviews - killing Desmond off was about the dumbest thing they could've done. The present day story is now boring, and as a result gives you as the player no anchor point to understand what the heck is going on or what the purpose of going back in time. When Desmond was there you were able to have more in-depth conversations with your cohorts (Shawn, Lucy, Rebecca, etc.). The earlier games did a great job in this area and developed a solid, detailed, coherent story.  Poor character development. This is an area Ubisoft has been failing in since AC3. By rushing through the time periods they are not leaving themselves much time to properly develop each main character. Connor, Edward, Shay, Arno, they rush through their lives so quickly that they really don't have time to develop them. By the time you're just starting to get to know the character, they've moved on and are ending the game only to move on to another character - this is why Ezio was loved so much - not only was AC2 just a magical game and a solid 10/10 in every measurable category, but they developed his character - everything he did, every upgrade he got for his equipment, every move he learned, everything was explained and made sense. They should try to stay in a given time period for 2-3 games to properly develop a character and close out his life as well as to show proper chronological story-telling from one assassin to the next, especially since they share the same genetic line.   Unexplained story happenings - I don't want to spoil anything, so I'll just say at the end of the game you come into contact with certain artifacts, the origins of which are never explained - Ubisoft has been doing a terribly poor job of explaining things in the story and developing it properly like they did through the first 3 or 4 games.   I absolutely cannot recommend this game to anyone. AC series aside, I'm not sure if I've ever played a game I disliked more than this one. I'm not sure I'd recommend this game even if it was just 5 dollars. It's that bad. Save yourself some cash and steer clear. The developers succeeded in making combat more difficult. They also succeeded in making the game not the least bit enjoyable to play. A new development team is needed to take over the franchise. Whoever worked on AC2, ACB, ACR, and AC4 need to be working on Unity's successor. Whoever the game director was for AC Unity should be doing QA only going forward.   Rig Specs:  ASROCK 990FX Extreme 4 AMD FX 8350 16GB DDR3 (2) EVGA GTX Titan X Hydro Copper - 2-Way SLI\",\n",
      "\n",
      "\"A SAGA. A game that died in 2012 after a kickstarter for an expansion failed. The forums are as dead as they ever were, and nothing was mentioned. Then it popped up here and I expected several changes.   A worthless game through and through. Back in 2009 I liked this game a lot. It had interesting aspects of any RTS: Home building (as limited as it may be) and unit building. Oh. Did I say unit building? You can forget that.  Back then I got what I thought was just the starter army: Several human units, a behemoth, two spells, and a battering ram. I would've thought this sufficint until I could purchase some new units. Guess what, unless you shell over real cash for a slot machine, you aren't getting any new units. Why do I call it a slot machine? Well, you aren't guaranteed to get what you want unless you purchase specific packs which cost more money than the basic packs.  What's that you say? You don't want to waste your money in Vegas? Good then! Once you've built a few mines, you just have ato wait a few years to get enough gold to buy a single, powerful unit from the in-game store! It's not enough that you have to spend thousands of gold on a single unit. Nah. You think you're good? Unless it's a dragon it needs a unit, and guess what that entails. That's right! More gold that you don't have and never will have!  'But there are world map quests! Surely I can get gold from those.' Right you are, Timmy, but you're still an idiot. Go sit in the corner!  Wanna know how much gold you can get per quest? Almost none, and that's from looting the chests decimated squads drop. You can make your own squads with a limited number, and while that might seem great, it's not. You're limited to about two or three full squads per battle moment. You have units in reserve, thus. The problem? You face hundreds of powerful enemy units that field full armies while you have a handfull of troops that can't face every situation but of the extreme limits your head is being perpetually punched into and grinded like a blunt blade.  Don't expect to win any quests after level six without shelling out lots of cash, and don't expect to field a single squad of what may seem like a powerful unit to you. It'll be smashed in milliseconds and the enemy squad will have no damage. I mean, sure. The squads level up and you can get equipment from loot and the market, but a spoon can only get you so far when cutting meat.  Oh, did I mention the tournament? Why, yes. There is a tournament mode. You join it, sometimes for free, then you wait about an hour to get the necessary amount of people. Then you get random cards, then you get obliterated. I won't delve into this. It's pvp. Suffice to say, participating in it isn't enough. No. You need to win. As such, you get no tokens. Ever. You win the first branch? You get a single token. You need at least eighteen to buy a tournament booster pack, and considering that a match can last more than half an hour, you can see how annoying this is. Money money money money money money money money money, dollah dollah. Dollah dollah.  Now let's go into the ressources. As any base building RTS would require, you start with a keep and must build housing for your peasants (which you don't see) and task a certain number of them to a variety of jobs, such as building/repairing, farming (for when you make farms), mining (stone and gold), and lumbering.   The system itself is good as you have to watch your peasants, the amount of food they have, their happiness...basically the poor man's Stronghold. If you don't keep them happy they riot. Nothing happens except for a few damaged buildings. Nothing notable. However, the amount of ressources you get with each station and the amount you need are two different things.  Despite having tons of spots to build stone quarries and gold miness, you can only build a limited number of each station as well as housing. You need more? Go do the quest where you assault an extremely fortified enemy stronghold full of dozens of units plus towers that shoot at you when you get too close. Awwww. You can only field two units? Boohoo cry sniff.  Once you conquer one, you get a new zone to build on (that also has sharp limits). Now for the ressources, as I mentioned, what you need and what you get are two different things. I have around five gold mines, plus taxing, plus the 'research' that boosts mining. I get about three hundred gold per day. That's right. It's not per hour. IT'S PER DAY. Which means twenty-four hours. You need around 10k in ressources to upgrade your university to reach the next level university? Gotta wait a while. You want gold to buy a unit? Gotta wait a looooooooooong time. You need more to make a squad? I hope you enjoyed your nintieth birthday.  This was a bad game then and it's a bad game now. Avoid it until, oh, forever. This is not a game that will ever change. It didn't change then and it won't change now.\",\n",
      "\n"
     ]
    }
   ],
   "source": [
    "for index, row in dataset_2_neg_only[dataset_2_neg_only['num_of_words'] > 512].sample(n=5).iterrows():\n",
    "    print(\"\\\"\"+ row['review_text']+ \"\\\",\")\n",
    "    print()"
   ]
  },
  {
   "cell_type": "code",
   "execution_count": 56,
   "metadata": {},
   "outputs": [
    {
     "data": {
      "text/plain": [
       "<Axes: xlabel='num_of_words', ylabel='Count'>"
      ]
     },
     "execution_count": 56,
     "metadata": {},
     "output_type": "execute_result"
    },
    {
     "data": {
      "image/png": "[encoded data removed]",
      "text/plain": [
       "<Figure size 640x480 with 1 Axes>"
      ]
     },
     "metadata": {},
     "output_type": "display_data"
    }
   ],
   "source": [
    "sns.histplot(data=dataset_2_neg_only, x='num_of_words',bins=30,color='orange')"
   ]
  },
  {
   "cell_type": "markdown",
   "metadata": {},
   "source": [
    "Distribution of words in all review texts\n",
    "\n",
    "We will perform that with stopwords and w/out stopwords"
   ]
  },
  {
   "cell_type": "code",
   "execution_count": 57,
   "metadata": {},
   "outputs": [],
   "source": [
    "dataset['list_words'] = dataset['review_text'].apply(lambda x:str(x).split())"
   ]
  },
  {
   "cell_type": "code",
   "execution_count": 58,
   "metadata": {},
   "outputs": [
    {
     "data": {
      "text/html": [
       "<style type=\"text/css\">\n",
       "#T_66ce7_row0_col1 {\n",
       "  background-color: #08306b;\n",
       "  color: #f1f1f1;\n",
       "}\n",
       "#T_66ce7_row1_col1 {\n",
       "  background-color: #4493c7;\n",
       "  color: #f1f1f1;\n",
       "}\n",
       "#T_66ce7_row2_col1 {\n",
       "  background-color: #539ecd;\n",
       "  color: #f1f1f1;\n",
       "}\n",
       "#T_66ce7_row3_col1 {\n",
       "  background-color: #56a0ce;\n",
       "  color: #f1f1f1;\n",
       "}\n",
       "#T_66ce7_row4_col1 {\n",
       "  background-color: #95c5df;\n",
       "  color: #000000;\n",
       "}\n",
       "#T_66ce7_row5_col1 {\n",
       "  background-color: #a4cce3;\n",
       "  color: #000000;\n",
       "}\n",
       "#T_66ce7_row6_col1 {\n",
       "  background-color: #afd1e7;\n",
       "  color: #000000;\n",
       "}\n",
       "#T_66ce7_row7_col1 {\n",
       "  background-color: #b4d3e9;\n",
       "  color: #000000;\n",
       "}\n",
       "#T_66ce7_row8_col1 {\n",
       "  background-color: #bed8ec;\n",
       "  color: #000000;\n",
       "}\n",
       "#T_66ce7_row9_col1 {\n",
       "  background-color: #d1e2f3;\n",
       "  color: #000000;\n",
       "}\n",
       "#T_66ce7_row10_col1 {\n",
       "  background-color: #d7e6f5;\n",
       "  color: #000000;\n",
       "}\n",
       "#T_66ce7_row11_col1 {\n",
       "  background-color: #deebf7;\n",
       "  color: #000000;\n",
       "}\n",
       "#T_66ce7_row12_col1 {\n",
       "  background-color: #e4eff9;\n",
       "  color: #000000;\n",
       "}\n",
       "#T_66ce7_row13_col1 {\n",
       "  background-color: #e5eff9;\n",
       "  color: #000000;\n",
       "}\n",
       "#T_66ce7_row14_col1 {\n",
       "  background-color: #ecf4fb;\n",
       "  color: #000000;\n",
       "}\n",
       "#T_66ce7_row15_col1 {\n",
       "  background-color: #edf4fc;\n",
       "  color: #000000;\n",
       "}\n",
       "#T_66ce7_row16_col1, #T_66ce7_row17_col1 {\n",
       "  background-color: #f5fafe;\n",
       "  color: #000000;\n",
       "}\n",
       "#T_66ce7_row18_col1, #T_66ce7_row19_col1 {\n",
       "  background-color: #f7fbff;\n",
       "  color: #000000;\n",
       "}\n",
       "</style>\n",
       "<table id=\"T_66ce7\">\n",
       "  <thead>\n",
       "    <tr>\n",
       "      <th class=\"blank level0\" >&nbsp;</th>\n",
       "      <th id=\"T_66ce7_level0_col0\" class=\"col_heading level0 col0\" >Common_words</th>\n",
       "      <th id=\"T_66ce7_level0_col1\" class=\"col_heading level0 col1\" >count</th>\n",
       "    </tr>\n",
       "  </thead>\n",
       "  <tbody>\n",
       "    <tr>\n",
       "      <th id=\"T_66ce7_level0_row0\" class=\"row_heading level0 row0\" >0</th>\n",
       "      <td id=\"T_66ce7_row0_col0\" class=\"data row0 col0\" >the</td>\n",
       "      <td id=\"T_66ce7_row0_col1\" class=\"data row0 col1\" >11970658</td>\n",
       "    </tr>\n",
       "    <tr>\n",
       "      <th id=\"T_66ce7_level0_row1\" class=\"row_heading level0 row1\" >1</th>\n",
       "      <td id=\"T_66ce7_row1_col0\" class=\"data row1 col0\" >and</td>\n",
       "      <td id=\"T_66ce7_row1_col1\" class=\"data row1 col1\" >8062812</td>\n",
       "    </tr>\n",
       "    <tr>\n",
       "      <th id=\"T_66ce7_level0_row2\" class=\"row_heading level0 row2\" >2</th>\n",
       "      <td id=\"T_66ce7_row2_col0\" class=\"data row2 col0\" >a</td>\n",
       "      <td id=\"T_66ce7_row2_col1\" class=\"data row2 col1\" >7584539</td>\n",
       "    </tr>\n",
       "    <tr>\n",
       "      <th id=\"T_66ce7_level0_row3\" class=\"row_heading level0 row3\" >3</th>\n",
       "      <td id=\"T_66ce7_row3_col0\" class=\"data row3 col0\" >to</td>\n",
       "      <td id=\"T_66ce7_row3_col1\" class=\"data row3 col1\" >7520456</td>\n",
       "    </tr>\n",
       "    <tr>\n",
       "      <th id=\"T_66ce7_level0_row4\" class=\"row_heading level0 row4\" >4</th>\n",
       "      <td id=\"T_66ce7_row4_col0\" class=\"data row4 col0\" >of</td>\n",
       "      <td id=\"T_66ce7_row4_col1\" class=\"data row4 col1\" >5805608</td>\n",
       "    </tr>\n",
       "    <tr>\n",
       "      <th id=\"T_66ce7_level0_row5\" class=\"row_heading level0 row5\" >5</th>\n",
       "      <td id=\"T_66ce7_row5_col0\" class=\"data row5 col0\" >is</td>\n",
       "      <td id=\"T_66ce7_row5_col1\" class=\"data row5 col1\" >5377929</td>\n",
       "    </tr>\n",
       "    <tr>\n",
       "      <th id=\"T_66ce7_level0_row6\" class=\"row_heading level0 row6\" >6</th>\n",
       "      <td id=\"T_66ce7_row6_col0\" class=\"data row6 col0\" >game</td>\n",
       "      <td id=\"T_66ce7_row6_col1\" class=\"data row6 col1\" >5022950</td>\n",
       "    </tr>\n",
       "    <tr>\n",
       "      <th id=\"T_66ce7_level0_row7\" class=\"row_heading level0 row7\" >7</th>\n",
       "      <td id=\"T_66ce7_row7_col0\" class=\"data row7 col0\" >I</td>\n",
       "      <td id=\"T_66ce7_row7_col1\" class=\"data row7 col1\" >4888970</td>\n",
       "    </tr>\n",
       "    <tr>\n",
       "      <th id=\"T_66ce7_level0_row8\" class=\"row_heading level0 row8\" >8</th>\n",
       "      <td id=\"T_66ce7_row8_col0\" class=\"data row8 col0\" >you</td>\n",
       "      <td id=\"T_66ce7_row8_col1\" class=\"data row8 col1\" >4550865</td>\n",
       "    </tr>\n",
       "    <tr>\n",
       "      <th id=\"T_66ce7_level0_row9\" class=\"row_heading level0 row9\" >9</th>\n",
       "      <td id=\"T_66ce7_row9_col0\" class=\"data row9 col0\" >it</td>\n",
       "      <td id=\"T_66ce7_row9_col1\" class=\"data row9 col1\" >3720754</td>\n",
       "    </tr>\n",
       "    <tr>\n",
       "      <th id=\"T_66ce7_level0_row10\" class=\"row_heading level0 row10\" >10</th>\n",
       "      <td id=\"T_66ce7_row10_col0\" class=\"data row10 col0\" >this</td>\n",
       "      <td id=\"T_66ce7_row10_col1\" class=\"data row10 col1\" >3408317</td>\n",
       "    </tr>\n",
       "    <tr>\n",
       "      <th id=\"T_66ce7_level0_row11\" class=\"row_heading level0 row11\" >11</th>\n",
       "      <td id=\"T_66ce7_row11_col0\" class=\"data row11 col0\" >in</td>\n",
       "      <td id=\"T_66ce7_row11_col1\" class=\"data row11 col1\" >3055977</td>\n",
       "    </tr>\n",
       "    <tr>\n",
       "      <th id=\"T_66ce7_level0_row12\" class=\"row_heading level0 row12\" >12</th>\n",
       "      <td id=\"T_66ce7_row12_col0\" class=\"data row12 col0\" >for</td>\n",
       "      <td id=\"T_66ce7_row12_col1\" class=\"data row12 col1\" >2712156</td>\n",
       "    </tr>\n",
       "    <tr>\n",
       "      <th id=\"T_66ce7_level0_row13\" class=\"row_heading level0 row13\" >13</th>\n",
       "      <td id=\"T_66ce7_row13_col0\" class=\"data row13 col0\" >that</td>\n",
       "      <td id=\"T_66ce7_row13_col1\" class=\"data row13 col1\" >2674617</td>\n",
       "    </tr>\n",
       "    <tr>\n",
       "      <th id=\"T_66ce7_level0_row14\" class=\"row_heading level0 row14\" >14</th>\n",
       "      <td id=\"T_66ce7_row14_col0\" class=\"data row14 col0\" >with</td>\n",
       "      <td id=\"T_66ce7_row14_col1\" class=\"data row14 col1\" >2305894</td>\n",
       "    </tr>\n",
       "    <tr>\n",
       "      <th id=\"T_66ce7_level0_row15\" class=\"row_heading level0 row15\" >15</th>\n",
       "      <td id=\"T_66ce7_row15_col0\" class=\"data row15 col0\" >but</td>\n",
       "      <td id=\"T_66ce7_row15_col1\" class=\"data row15 col1\" >2266196</td>\n",
       "    </tr>\n",
       "    <tr>\n",
       "      <th id=\"T_66ce7_level0_row16\" class=\"row_heading level0 row16\" >16</th>\n",
       "      <td id=\"T_66ce7_row16_col0\" class=\"data row16 col0\" >are</td>\n",
       "      <td id=\"T_66ce7_row16_col1\" class=\"data row16 col1\" >1854235</td>\n",
       "    </tr>\n",
       "    <tr>\n",
       "      <th id=\"T_66ce7_level0_row17\" class=\"row_heading level0 row17\" >17</th>\n",
       "      <td id=\"T_66ce7_row17_col0\" class=\"data row17 col0\" >The</td>\n",
       "      <td id=\"T_66ce7_row17_col1\" class=\"data row17 col1\" >1829281</td>\n",
       "    </tr>\n",
       "    <tr>\n",
       "      <th id=\"T_66ce7_level0_row18\" class=\"row_heading level0 row18\" >18</th>\n",
       "      <td id=\"T_66ce7_row18_col0\" class=\"data row18 col0\" >on</td>\n",
       "      <td id=\"T_66ce7_row18_col1\" class=\"data row18 col1\" >1773828</td>\n",
       "    </tr>\n",
       "    <tr>\n",
       "      <th id=\"T_66ce7_level0_row19\" class=\"row_heading level0 row19\" >19</th>\n",
       "      <td id=\"T_66ce7_row19_col0\" class=\"data row19 col0\" >have</td>\n",
       "      <td id=\"T_66ce7_row19_col1\" class=\"data row19 col1\" >1739111</td>\n",
       "    </tr>\n",
       "  </tbody>\n",
       "</table>\n"
      ],
      "text/plain": [
       "<pandas.io.formats.style.Styler at 0x7f45b9daceb0>"
      ]
     },
     "execution_count": 58,
     "metadata": {},
     "output_type": "execute_result"
    }
   ],
   "source": [
    "top = Counter([item for sublist in dataset['list_words'] for item in sublist])\n",
    "temp = pd.DataFrame(top.most_common(20))\n",
    "temp.columns = ['Common_words','count']\n",
    "temp.style.background_gradient(cmap='Blues')"
   ]
  },
  {
   "cell_type": "code",
   "execution_count": 59,
   "metadata": {},
   "outputs": [],
   "source": [
    "# create a dataset with cleaning performed\n",
    "\n",
    "dataset_cleaned = dataset.copy(deep=True)"
   ]
  },
  {
   "cell_type": "code",
   "execution_count": 60,
   "metadata": {},
   "outputs": [],
   "source": [
    "# clean basic characters\n",
    "def clean(raw):\n",
    "    \"\"\" Remove hyperlinks and markup \"\"\"\n",
    "    result = re.sub(\"<[a][^>]*>(.+?)</[a]>\", 'Link.', raw)\n",
    "    result = re.sub('&gt;', \"\", result)\n",
    "    result = re.sub('&#x27;', \"'\", result)\n",
    "    result = re.sub('&quot;', '\"', result)\n",
    "    result = re.sub('&#x2F;', ' ', result)\n",
    "    result = re.sub('<p>', ' ', result)\n",
    "    result = re.sub('</i>', '', result)\n",
    "    result = re.sub('&#62;', '', result)\n",
    "    result = re.sub('<i>', ' ', result)\n",
    "    result = re.sub(\"\\n\", '', result)\n",
    "    return result"
   ]
  },
  {
   "cell_type": "code",
   "execution_count": 61,
   "metadata": {},
   "outputs": [],
   "source": [
    "# remove numerics (maybe not required in BERT)\n",
    "def remove_num(texts):\n",
    "   output = re.sub(r'\\d+', '', texts)\n",
    "   return output"
   ]
  },
  {
   "cell_type": "code",
   "execution_count": 62,
   "metadata": {},
   "outputs": [],
   "source": [
    "# remove emojis\n",
    "def deEmojify(x):\n",
    "    regrex_pattern = re.compile(pattern = \"[\"\n",
    "        u\"\\U0001F600-\\U0001F64F\"  # emoticons\n",
    "        u\"\\U0001F300-\\U0001F5FF\"  # symbols & pictographs\n",
    "        u\"\\U0001F680-\\U0001F6FF\"  # transport & map symbols\n",
    "        u\"\\U0001F1E0-\\U0001F1FF\"  # flags (iOS)\n",
    "                           \"]+\", flags = re.UNICODE)\n",
    "    return regrex_pattern.sub(r'', x)"
   ]
  },
  {
   "cell_type": "code",
   "execution_count": 63,
   "metadata": {},
   "outputs": [],
   "source": [
    "def unify_whitespaces(x):\n",
    "    cleaned_string = re.sub(' +', ' ', x)\n",
    "    return cleaned_string "
   ]
  },
  {
   "cell_type": "code",
   "execution_count": 64,
   "metadata": {},
   "outputs": [],
   "source": [
    "# remove special symbols\n",
    "def remove_symbols(x):\n",
    "    cleaned_string = re.sub(r\"[^a-zA-Z0-9?!.,]+\", ' ', x)\n",
    "    return cleaned_string"
   ]
  },
  {
   "cell_type": "code",
   "execution_count": 65,
   "metadata": {},
   "outputs": [],
   "source": [
    "# remove punctuation (just for analysis, maybe not required in BERT)\n",
    "def remove_punctuation(text):\n",
    "    final = \"\".join(u for u in text if u not in (\"?\", \".\", \";\", \":\",  \"!\",'\"',','))\n",
    "    return final"
   ]
  },
  {
   "cell_type": "markdown",
   "metadata": {},
   "source": [
    "### remove stopwords\n",
    "\n",
    "Stopwords are words that occur frequently in a language and are often grammatical in nature, such as articles (e.g., \"the,\" \"a\"), prepositions (e.g., \"in,\" \"on\"), conjunctions (e.g., \"and,\" \"but\"), and pronouns (e.g., \"he,\" \"she\"). These words are necessary for constructing sentences and conveying grammatical structure, but they often do not contribute much to the overall meaning of the text.\n",
    "\n",
    "- noise reduction\n",
    "- Improved Analysis Accuracy\n",
    "- faster processing"
   ]
  },
  {
   "cell_type": "code",
   "execution_count": 66,
   "metadata": {},
   "outputs": [],
   "source": [
    "from nltk.stem import PorterStemmer\n",
    "from nltk import WordNetLemmatizer\n",
    "\n",
    "stop=set(stopwords.words(\"english\"))\n",
    "stemmer=PorterStemmer()\n",
    "lemma=WordNetLemmatizer()\n",
    "\n",
    "def remove_stopword(text):\n",
    "   text=[word.lower() for word in text.split() if word.lower() not in stop]\n",
    "   return \" \".join(text)"
   ]
  },
  {
   "cell_type": "markdown",
   "metadata": {},
   "source": [
    "### use stemming to normalize words\n",
    "\n",
    "Reduce the words to its stem to reduce dimension.\n",
    "e.g. \n",
    "\n",
    "cared ----> care\n",
    "\n",
    "university ----> univers\n",
    "\n",
    "fairly ----> fair\n",
    "\n",
    "easily ----> easili\n",
    "\n",
    "singing ----> sing\n",
    "\n",
    "sings ----> sing\n",
    "\n",
    "sung ----> sung\n",
    "\n",
    "singer ----> singer\n",
    "\n",
    "sportingly ----> sport"
   ]
  },
  {
   "cell_type": "code",
   "execution_count": 67,
   "metadata": {},
   "outputs": [],
   "source": [
    "from nltk.corpus import stopwords\n",
    "from nltk.stem import SnowballStemmer\n",
    "def stemming(text):\n",
    "   stem=[]\n",
    "   # stopword = stopwords.words('english')\n",
    "   snowball_stemmer = SnowballStemmer('english')\n",
    "   word_tokens = nltk.word_tokenize(text)\n",
    "   stemmed_word = [snowball_stemmer.stem(word) for word in word_tokens]\n",
    "   stem=' '.join(stemmed_word)\n",
    "   return stem"
   ]
  },
  {
   "cell_type": "code",
   "execution_count": 68,
   "metadata": {},
   "outputs": [],
   "source": [
    "def cleaning(df,review):\n",
    "    df[review] = df[review].apply(clean)\n",
    "    df[review] = df[review].apply(deEmojify)\n",
    "    df[review] = df[review].str.lower()\n",
    "    df[review] = df[review].apply(remove_num)\n",
    "    df[review] = df[review].apply(remove_symbols)\n",
    "    df[review] = df[review].apply(remove_punctuation)\n",
    "    df[review] = df[review].apply(remove_stopword)\n",
    "    df[review] = df[review].apply(unify_whitespaces)\n",
    "    df[review] = df[review].apply(stemming)"
   ]
  },
  {
   "cell_type": "code",
   "execution_count": 69,
   "metadata": {},
   "outputs": [],
   "source": [
    "cleaning(dataset_cleaned,'review_text')"
   ]
  },
  {
   "cell_type": "code",
   "execution_count": 70,
   "metadata": {},
   "outputs": [],
   "source": [
    "dataset_cleaned['list_words'] = dataset_cleaned['review_text'].apply(lambda x:str(x).split())"
   ]
  },
  {
   "cell_type": "code",
   "execution_count": 73,
   "metadata": {},
   "outputs": [
    {
     "data": {
      "text/html": [
       "<style type=\"text/css\">\n",
       "#T_a2d7c_row0_col1 {\n",
       "  background-color: #08306b;\n",
       "  color: #f1f1f1;\n",
       "}\n",
       "#T_a2d7c_row1_col1 {\n",
       "  background-color: #c8dcf0;\n",
       "  color: #000000;\n",
       "}\n",
       "#T_a2d7c_row2_col1 {\n",
       "  background-color: #dbe9f6;\n",
       "  color: #000000;\n",
       "}\n",
       "#T_a2d7c_row3_col1 {\n",
       "  background-color: #e2edf8;\n",
       "  color: #000000;\n",
       "}\n",
       "#T_a2d7c_row4_col1, #T_a2d7c_row5_col1 {\n",
       "  background-color: #e7f1fa;\n",
       "  color: #000000;\n",
       "}\n",
       "#T_a2d7c_row6_col1, #T_a2d7c_row7_col1 {\n",
       "  background-color: #e9f2fa;\n",
       "  color: #000000;\n",
       "}\n",
       "#T_a2d7c_row8_col1 {\n",
       "  background-color: #ecf4fb;\n",
       "  color: #000000;\n",
       "}\n",
       "#T_a2d7c_row9_col1 {\n",
       "  background-color: #edf4fc;\n",
       "  color: #000000;\n",
       "}\n",
       "#T_a2d7c_row10_col1 {\n",
       "  background-color: #f0f6fd;\n",
       "  color: #000000;\n",
       "}\n",
       "#T_a2d7c_row11_col1 {\n",
       "  background-color: #f1f7fd;\n",
       "  color: #000000;\n",
       "}\n",
       "#T_a2d7c_row12_col1 {\n",
       "  background-color: #f2f8fd;\n",
       "  color: #000000;\n",
       "}\n",
       "#T_a2d7c_row13_col1 {\n",
       "  background-color: #f4f9fe;\n",
       "  color: #000000;\n",
       "}\n",
       "#T_a2d7c_row14_col1 {\n",
       "  background-color: #f5fafe;\n",
       "  color: #000000;\n",
       "}\n",
       "#T_a2d7c_row15_col1, #T_a2d7c_row16_col1, #T_a2d7c_row17_col1, #T_a2d7c_row18_col1, #T_a2d7c_row19_col1 {\n",
       "  background-color: #f7fbff;\n",
       "  color: #000000;\n",
       "}\n",
       "</style>\n",
       "<table id=\"T_a2d7c\">\n",
       "  <thead>\n",
       "    <tr>\n",
       "      <th class=\"blank level0\" >&nbsp;</th>\n",
       "      <th id=\"T_a2d7c_level0_col0\" class=\"col_heading level0 col0\" >Common_words</th>\n",
       "      <th id=\"T_a2d7c_level0_col1\" class=\"col_heading level0 col1\" >count</th>\n",
       "    </tr>\n",
       "  </thead>\n",
       "  <tbody>\n",
       "    <tr>\n",
       "      <th id=\"T_a2d7c_level0_row0\" class=\"row_heading level0 row0\" >0</th>\n",
       "      <td id=\"T_a2d7c_row0_col0\" class=\"data row0 col0\" >game</td>\n",
       "      <td id=\"T_a2d7c_row0_col1\" class=\"data row0 col1\" >8396572</td>\n",
       "    </tr>\n",
       "    <tr>\n",
       "      <th id=\"T_a2d7c_level0_row1\" class=\"row_heading level0 row1\" >1</th>\n",
       "      <td id=\"T_a2d7c_row1_col0\" class=\"data row1 col0\" >play</td>\n",
       "      <td id=\"T_a2d7c_row1_col1\" class=\"data row1 col1\" >2441601</td>\n",
       "    </tr>\n",
       "    <tr>\n",
       "      <th id=\"T_a2d7c_level0_row2\" class=\"row_heading level0 row2\" >2</th>\n",
       "      <td id=\"T_a2d7c_row2_col0\" class=\"data row2 col0\" >like</td>\n",
       "      <td id=\"T_a2d7c_row2_col1\" class=\"data row2 col1\" >1686181</td>\n",
       "    </tr>\n",
       "    <tr>\n",
       "      <th id=\"T_a2d7c_level0_row3\" class=\"row_heading level0 row3\" >3</th>\n",
       "      <td id=\"T_a2d7c_row3_col0\" class=\"data row3 col0\" >get</td>\n",
       "      <td id=\"T_a2d7c_row3_col1\" class=\"data row3 col1\" >1411174</td>\n",
       "    </tr>\n",
       "    <tr>\n",
       "      <th id=\"T_a2d7c_level0_row4\" class=\"row_heading level0 row4\" >4</th>\n",
       "      <td id=\"T_a2d7c_row4_col0\" class=\"data row4 col0\" >one</td>\n",
       "      <td id=\"T_a2d7c_row4_col1\" class=\"data row4 col1\" >1191743</td>\n",
       "    </tr>\n",
       "    <tr>\n",
       "      <th id=\"T_a2d7c_level0_row5\" class=\"row_heading level0 row5\" >5</th>\n",
       "      <td id=\"T_a2d7c_row5_col0\" class=\"data row5 col0\" >good</td>\n",
       "      <td id=\"T_a2d7c_row5_col1\" class=\"data row5 col1\" >1174170</td>\n",
       "    </tr>\n",
       "    <tr>\n",
       "      <th id=\"T_a2d7c_level0_row6\" class=\"row_heading level0 row6\" >6</th>\n",
       "      <td id=\"T_a2d7c_row6_col0\" class=\"data row6 col0\" >fun</td>\n",
       "      <td id=\"T_a2d7c_row6_col1\" class=\"data row6 col1\" >1128581</td>\n",
       "    </tr>\n",
       "    <tr>\n",
       "      <th id=\"T_a2d7c_level0_row7\" class=\"row_heading level0 row7\" >7</th>\n",
       "      <td id=\"T_a2d7c_row7_col0\" class=\"data row7 col0\" >time</td>\n",
       "      <td id=\"T_a2d7c_row7_col1\" class=\"data row7 col1\" >1120780</td>\n",
       "    </tr>\n",
       "    <tr>\n",
       "      <th id=\"T_a2d7c_level0_row8\" class=\"row_heading level0 row8\" >8</th>\n",
       "      <td id=\"T_a2d7c_row8_col0\" class=\"data row8 col0\" >great</td>\n",
       "      <td id=\"T_a2d7c_row8_col1\" class=\"data row8 col1\" >1015484</td>\n",
       "    </tr>\n",
       "    <tr>\n",
       "      <th id=\"T_a2d7c_level0_row9\" class=\"row_heading level0 row9\" >9</th>\n",
       "      <td id=\"T_a2d7c_row9_col0\" class=\"data row9 col0\" >realli</td>\n",
       "      <td id=\"T_a2d7c_row9_col1\" class=\"data row9 col1\" >973986</td>\n",
       "    </tr>\n",
       "    <tr>\n",
       "      <th id=\"T_a2d7c_level0_row10\" class=\"row_heading level0 row10\" >10</th>\n",
       "      <td id=\"T_a2d7c_row10_col0\" class=\"data row10 col0\" >stori</td>\n",
       "      <td id=\"T_a2d7c_row10_col1\" class=\"data row10 col1\" >841614</td>\n",
       "    </tr>\n",
       "    <tr>\n",
       "      <th id=\"T_a2d7c_level0_row11\" class=\"row_heading level0 row11\" >11</th>\n",
       "      <td id=\"T_a2d7c_row11_col0\" class=\"data row11 col0\" >make</td>\n",
       "      <td id=\"T_a2d7c_row11_col1\" class=\"data row11 col1\" >835365</td>\n",
       "    </tr>\n",
       "    <tr>\n",
       "      <th id=\"T_a2d7c_level0_row12\" class=\"row_heading level0 row12\" >12</th>\n",
       "      <td id=\"T_a2d7c_row12_col0\" class=\"data row12 col0\" >would</td>\n",
       "      <td id=\"T_a2d7c_row12_col1\" class=\"data row12 col1\" >761172</td>\n",
       "    </tr>\n",
       "    <tr>\n",
       "      <th id=\"T_a2d7c_level0_row13\" class=\"row_heading level0 row13\" >13</th>\n",
       "      <td id=\"T_a2d7c_row13_col0\" class=\"data row13 col0\" >even</td>\n",
       "      <td id=\"T_a2d7c_row13_col1\" class=\"data row13 col1\" >696156</td>\n",
       "    </tr>\n",
       "    <tr>\n",
       "      <th id=\"T_a2d7c_level0_row14\" class=\"row_heading level0 row14\" >14</th>\n",
       "      <td id=\"T_a2d7c_row14_col0\" class=\"data row14 col0\" >much</td>\n",
       "      <td id=\"T_a2d7c_row14_col1\" class=\"data row14 col1\" >640535</td>\n",
       "    </tr>\n",
       "    <tr>\n",
       "      <th id=\"T_a2d7c_level0_row15\" class=\"row_heading level0 row15\" >15</th>\n",
       "      <td id=\"T_a2d7c_row15_col0\" class=\"data row15 col0\" >well</td>\n",
       "      <td id=\"T_a2d7c_row15_col1\" class=\"data row15 col1\" >591733</td>\n",
       "    </tr>\n",
       "    <tr>\n",
       "      <th id=\"T_a2d7c_level0_row16\" class=\"row_heading level0 row16\" >16</th>\n",
       "      <td id=\"T_a2d7c_row16_col0\" class=\"data row16 col0\" >love</td>\n",
       "      <td id=\"T_a2d7c_row16_col1\" class=\"data row16 col1\" >591710</td>\n",
       "    </tr>\n",
       "    <tr>\n",
       "      <th id=\"T_a2d7c_level0_row17\" class=\"row_heading level0 row17\" >17</th>\n",
       "      <td id=\"T_a2d7c_row17_col0\" class=\"data row17 col0\" >best</td>\n",
       "      <td id=\"T_a2d7c_row17_col1\" class=\"data row17 col1\" >585832</td>\n",
       "    </tr>\n",
       "    <tr>\n",
       "      <th id=\"T_a2d7c_level0_row18\" class=\"row_heading level0 row18\" >18</th>\n",
       "      <td id=\"T_a2d7c_row18_col0\" class=\"data row18 col0\" >go</td>\n",
       "      <td id=\"T_a2d7c_row18_col1\" class=\"data row18 col1\" >585762</td>\n",
       "    </tr>\n",
       "    <tr>\n",
       "      <th id=\"T_a2d7c_level0_row19\" class=\"row_heading level0 row19\" >19</th>\n",
       "      <td id=\"T_a2d7c_row19_col0\" class=\"data row19 col0\" >feel</td>\n",
       "      <td id=\"T_a2d7c_row19_col1\" class=\"data row19 col1\" >561969</td>\n",
       "    </tr>\n",
       "  </tbody>\n",
       "</table>\n"
      ],
      "text/plain": [
       "<pandas.io.formats.style.Styler at 0x7f45b9e649d0>"
      ]
     },
     "execution_count": 73,
     "metadata": {},
     "output_type": "execute_result"
    }
   ],
   "source": [
    "top2 = Counter([item for sublist in dataset_cleaned['list_words'] for item in sublist])\n",
    "temp2 = pd.DataFrame(top2.most_common(20))\n",
    "temp2.columns = ['Common_words','count']\n",
    "temp2.style.background_gradient(cmap='Blues')"
   ]
  },
  {
   "cell_type": "code",
   "execution_count": 74,
   "metadata": {},
   "outputs": [
    {
     "data": {
      "text/plain": [
       "<Axes: xlabel='count', ylabel='Common_words'>"
      ]
     },
     "execution_count": 74,
     "metadata": {},
     "output_type": "execute_result"
    },
    {
     "data": {
      "image/png": "[encoded data removed]",
      "text/plain": [
       "<Figure size 640x480 with 1 Axes>"
      ]
     },
     "metadata": {},
     "output_type": "display_data"
    }
   ],
   "source": [
    "sns.set_theme(style=\"whitegrid\")\n",
    "sns.barplot(x=\"count\", y=\"Common_words\", data=temp2)"
   ]
  },
  {
   "cell_type": "code",
   "execution_count": 91,
   "metadata": {},
   "outputs": [
    {
     "data": {
      "text/plain": [
       "6420"
      ]
     },
     "execution_count": 91,
     "metadata": {},
     "output_type": "execute_result"
    }
   ],
   "source": [
    "len(Counter({k:c for k,c in top2.items() if c >= 1000}))"
   ]
  },
  {
   "cell_type": "code",
   "execution_count": 80,
   "metadata": {},
   "outputs": [
    {
     "data": {
      "text/plain": [
       "[('transcend', 837),\n",
       " ('tout', 837),\n",
       " ('gateway', 837),\n",
       " ('swedish', 837),\n",
       " ('python', 836),\n",
       " ('mentor', 836),\n",
       " ('optimist', 836),\n",
       " ('ritual', 836),\n",
       " ('intervent', 835),\n",
       " ('buffer', 835),\n",
       " ('herb', 835),\n",
       " ('literali', 834),\n",
       " ('approx', 834),\n",
       " ('vergil', 834),\n",
       " ('pr', 833),\n",
       " ('copyright', 833),\n",
       " ('undetect', 833),\n",
       " ('coal', 833),\n",
       " ('wand', 833),\n",
       " ('ctf', 832),\n",
       " ('pase', 832),\n",
       " ('gunshot', 832),\n",
       " ('perceiv', 832),\n",
       " ('pov', 832),\n",
       " ('louder', 832),\n",
       " ('eido', 832),\n",
       " ('bun', 831),\n",
       " ('whop', 831),\n",
       " ('intersect', 831),\n",
       " ('cloaker', 831)]"
      ]
     },
     "execution_count": 80,
     "metadata": {},
     "output_type": "execute_result"
    }
   ],
   "source": [
    "# find top 5000 ?\n",
    "\n",
    "top2.most_common(7000)[-30:]"
   ]
  },
  {
   "cell_type": "markdown",
   "metadata": {},
   "source": [
    "If we break into positive and negative comments..."
   ]
  },
  {
   "cell_type": "code",
   "execution_count": 56,
   "metadata": {},
   "outputs": [],
   "source": [
    "dataset_cleaned_pos_only = dataset_cleaned[dataset_cleaned['review_score'] == 1]\n",
    "dataset_cleaned_neg_only = dataset_cleaned[dataset_cleaned['review_score'] == 0]"
   ]
  },
  {
   "cell_type": "code",
   "execution_count": 57,
   "metadata": {},
   "outputs": [
    {
     "data": {
      "text/html": [
       "<style type=\"text/css\">\n",
       "#T_949b4_row0_col1 {\n",
       "  background-color: #08306b;\n",
       "  color: #f1f1f1;\n",
       "}\n",
       "#T_949b4_row1_col1 {\n",
       "  background-color: #c7dbef;\n",
       "  color: #000000;\n",
       "}\n",
       "#T_949b4_row2_col1 {\n",
       "  background-color: #dbe9f6;\n",
       "  color: #000000;\n",
       "}\n",
       "#T_949b4_row3_col1 {\n",
       "  background-color: #e3eef8;\n",
       "  color: #000000;\n",
       "}\n",
       "#T_949b4_row4_col1, #T_949b4_row5_col1, #T_949b4_row6_col1 {\n",
       "  background-color: #e6f0f9;\n",
       "  color: #000000;\n",
       "}\n",
       "#T_949b4_row7_col1 {\n",
       "  background-color: #e8f1fa;\n",
       "  color: #000000;\n",
       "}\n",
       "#T_949b4_row8_col1 {\n",
       "  background-color: #eaf2fb;\n",
       "  color: #000000;\n",
       "}\n",
       "#T_949b4_row9_col1 {\n",
       "  background-color: #edf4fc;\n",
       "  color: #000000;\n",
       "}\n",
       "#T_949b4_row10_col1 {\n",
       "  background-color: #eef5fc;\n",
       "  color: #000000;\n",
       "}\n",
       "#T_949b4_row11_col1 {\n",
       "  background-color: #f1f7fd;\n",
       "  color: #000000;\n",
       "}\n",
       "#T_949b4_row12_col1 {\n",
       "  background-color: #f2f8fd;\n",
       "  color: #000000;\n",
       "}\n",
       "#T_949b4_row13_col1 {\n",
       "  background-color: #f4f9fe;\n",
       "  color: #000000;\n",
       "}\n",
       "#T_949b4_row14_col1 {\n",
       "  background-color: #f5f9fe;\n",
       "  color: #000000;\n",
       "}\n",
       "#T_949b4_row15_col1, #T_949b4_row16_col1 {\n",
       "  background-color: #f5fafe;\n",
       "  color: #000000;\n",
       "}\n",
       "#T_949b4_row17_col1 {\n",
       "  background-color: #f6faff;\n",
       "  color: #000000;\n",
       "}\n",
       "#T_949b4_row18_col1, #T_949b4_row19_col1 {\n",
       "  background-color: #f7fbff;\n",
       "  color: #000000;\n",
       "}\n",
       "</style>\n",
       "<table id=\"T_949b4\">\n",
       "  <thead>\n",
       "    <tr>\n",
       "      <th class=\"blank level0\" >&nbsp;</th>\n",
       "      <th id=\"T_949b4_level0_col0\" class=\"col_heading level0 col0\" >Common_words</th>\n",
       "      <th id=\"T_949b4_level0_col1\" class=\"col_heading level0 col1\" >count</th>\n",
       "    </tr>\n",
       "  </thead>\n",
       "  <tbody>\n",
       "    <tr>\n",
       "      <th id=\"T_949b4_level0_row0\" class=\"row_heading level0 row0\" >0</th>\n",
       "      <td id=\"T_949b4_row0_col0\" class=\"data row0 col0\" >game</td>\n",
       "      <td id=\"T_949b4_row0_col1\" class=\"data row0 col1\" >6786797</td>\n",
       "    </tr>\n",
       "    <tr>\n",
       "      <th id=\"T_949b4_level0_row1\" class=\"row_heading level0 row1\" >1</th>\n",
       "      <td id=\"T_949b4_row1_col0\" class=\"data row1 col0\" >play</td>\n",
       "      <td id=\"T_949b4_row1_col1\" class=\"data row1 col1\" >2007689</td>\n",
       "    </tr>\n",
       "    <tr>\n",
       "      <th id=\"T_949b4_level0_row2\" class=\"row_heading level0 row2\" >2</th>\n",
       "      <td id=\"T_949b4_row2_col0\" class=\"data row2 col0\" >like</td>\n",
       "      <td id=\"T_949b4_row2_col1\" class=\"data row2 col1\" >1349577</td>\n",
       "    </tr>\n",
       "    <tr>\n",
       "      <th id=\"T_949b4_level0_row3\" class=\"row_heading level0 row3\" >3</th>\n",
       "      <td id=\"T_949b4_row3_col0\" class=\"data row3 col0\" >get</td>\n",
       "      <td id=\"T_949b4_row3_col1\" class=\"data row3 col1\" >1096717</td>\n",
       "    </tr>\n",
       "    <tr>\n",
       "      <th id=\"T_949b4_level0_row4\" class=\"row_heading level0 row4\" >4</th>\n",
       "      <td id=\"T_949b4_row4_col0\" class=\"data row4 col0\" >good</td>\n",
       "      <td id=\"T_949b4_row4_col1\" class=\"data row4 col1\" >998402</td>\n",
       "    </tr>\n",
       "    <tr>\n",
       "      <th id=\"T_949b4_level0_row5\" class=\"row_heading level0 row5\" >5</th>\n",
       "      <td id=\"T_949b4_row5_col0\" class=\"data row5 col0\" >fun</td>\n",
       "      <td id=\"T_949b4_row5_col1\" class=\"data row5 col1\" >997776</td>\n",
       "    </tr>\n",
       "    <tr>\n",
       "      <th id=\"T_949b4_level0_row6\" class=\"row_heading level0 row6\" >6</th>\n",
       "      <td id=\"T_949b4_row6_col0\" class=\"data row6 col0\" >one</td>\n",
       "      <td id=\"T_949b4_row6_col1\" class=\"data row6 col1\" >990678</td>\n",
       "    </tr>\n",
       "    <tr>\n",
       "      <th id=\"T_949b4_level0_row7\" class=\"row_heading level0 row7\" >7</th>\n",
       "      <td id=\"T_949b4_row7_col0\" class=\"data row7 col0\" >great</td>\n",
       "      <td id=\"T_949b4_row7_col1\" class=\"data row7 col1\" >932459</td>\n",
       "    </tr>\n",
       "    <tr>\n",
       "      <th id=\"T_949b4_level0_row8\" class=\"row_heading level0 row8\" >8</th>\n",
       "      <td id=\"T_949b4_row8_col0\" class=\"data row8 col0\" >time</td>\n",
       "      <td id=\"T_949b4_row8_col1\" class=\"data row8 col1\" >883272</td>\n",
       "    </tr>\n",
       "    <tr>\n",
       "      <th id=\"T_949b4_level0_row9\" class=\"row_heading level0 row9\" >9</th>\n",
       "      <td id=\"T_949b4_row9_col0\" class=\"data row9 col0\" >realli</td>\n",
       "      <td id=\"T_949b4_row9_col1\" class=\"data row9 col1\" >783901</td>\n",
       "    </tr>\n",
       "    <tr>\n",
       "      <th id=\"T_949b4_level0_row10\" class=\"row_heading level0 row10\" >10</th>\n",
       "      <td id=\"T_949b4_row10_col0\" class=\"data row10 col0\" >stori</td>\n",
       "      <td id=\"T_949b4_row10_col1\" class=\"data row10 col1\" >729902</td>\n",
       "    </tr>\n",
       "    <tr>\n",
       "      <th id=\"T_949b4_level0_row11\" class=\"row_heading level0 row11\" >11</th>\n",
       "      <td id=\"T_949b4_row11_col0\" class=\"data row11 col0\" >make</td>\n",
       "      <td id=\"T_949b4_row11_col1\" class=\"data row11 col1\" >662683</td>\n",
       "    </tr>\n",
       "    <tr>\n",
       "      <th id=\"T_949b4_level0_row12\" class=\"row_heading level0 row12\" >12</th>\n",
       "      <td id=\"T_949b4_row12_col0\" class=\"data row12 col0\" >would</td>\n",
       "      <td id=\"T_949b4_row12_col1\" class=\"data row12 col1\" >601403</td>\n",
       "    </tr>\n",
       "    <tr>\n",
       "      <th id=\"T_949b4_level0_row13\" class=\"row_heading level0 row13\" >13</th>\n",
       "      <td id=\"T_949b4_row13_col0\" class=\"data row13 col0\" >best</td>\n",
       "      <td id=\"T_949b4_row13_col1\" class=\"data row13 col1\" >551729</td>\n",
       "    </tr>\n",
       "    <tr>\n",
       "      <th id=\"T_949b4_level0_row14\" class=\"row_heading level0 row14\" >14</th>\n",
       "      <td id=\"T_949b4_row14_col0\" class=\"data row14 col0\" >love</td>\n",
       "      <td id=\"T_949b4_row14_col1\" class=\"data row14 col1\" >537989</td>\n",
       "    </tr>\n",
       "    <tr>\n",
       "      <th id=\"T_949b4_level0_row15\" class=\"row_heading level0 row15\" >15</th>\n",
       "      <td id=\"T_949b4_row15_col0\" class=\"data row15 col0\" >much</td>\n",
       "      <td id=\"T_949b4_row15_col1\" class=\"data row15 col1\" >509673</td>\n",
       "    </tr>\n",
       "    <tr>\n",
       "      <th id=\"T_949b4_level0_row16\" class=\"row_heading level0 row16\" >16</th>\n",
       "      <td id=\"T_949b4_row16_col0\" class=\"data row16 col0\" >well</td>\n",
       "      <td id=\"T_949b4_row16_col1\" class=\"data row16 col1\" >508210</td>\n",
       "    </tr>\n",
       "    <tr>\n",
       "      <th id=\"T_949b4_level0_row17\" class=\"row_heading level0 row17\" >17</th>\n",
       "      <td id=\"T_949b4_row17_col0\" class=\"data row17 col0\" >even</td>\n",
       "      <td id=\"T_949b4_row17_col1\" class=\"data row17 col1\" >489694</td>\n",
       "    </tr>\n",
       "    <tr>\n",
       "      <th id=\"T_949b4_level0_row18\" class=\"row_heading level0 row18\" >18</th>\n",
       "      <td id=\"T_949b4_row18_col0\" class=\"data row18 col0\" >go</td>\n",
       "      <td id=\"T_949b4_row18_col1\" class=\"data row18 col1\" >451107</td>\n",
       "    </tr>\n",
       "    <tr>\n",
       "      <th id=\"T_949b4_level0_row19\" class=\"row_heading level0 row19\" >19</th>\n",
       "      <td id=\"T_949b4_row19_col0\" class=\"data row19 col0\" >feel</td>\n",
       "      <td id=\"T_949b4_row19_col1\" class=\"data row19 col1\" >441736</td>\n",
       "    </tr>\n",
       "  </tbody>\n",
       "</table>\n"
      ],
      "text/plain": [
       "<pandas.io.formats.style.Styler at 0x7f8b9de3d3d0>"
      ]
     },
     "execution_count": 57,
     "metadata": {},
     "output_type": "execute_result"
    }
   ],
   "source": [
    "top3 = Counter([item for sublist in dataset_cleaned_pos_only['list_words'] for item in sublist])\n",
    "temp3 = pd.DataFrame(top3.most_common(20))\n",
    "temp3.columns = ['Common_words','count']\n",
    "temp3.style.background_gradient(cmap='Blues')"
   ]
  },
  {
   "cell_type": "code",
   "execution_count": 58,
   "metadata": {},
   "outputs": [
    {
     "data": {
      "text/plain": [
       "<Axes: xlabel='count', ylabel='Common_words'>"
      ]
     },
     "execution_count": 58,
     "metadata": {},
     "output_type": "execute_result"
    },
    {
     "data": {
      "image/png": "[encoded data removed]",
      "text/plain": [
       "<Figure size 640x480 with 1 Axes>"
      ]
     },
     "metadata": {},
     "output_type": "display_data"
    }
   ],
   "source": [
    "sns.set_theme(style=\"whitegrid\")\n",
    "sns.barplot(x=\"count\", y=\"Common_words\", data=temp3)"
   ]
  },
  {
   "cell_type": "code",
   "execution_count": 59,
   "metadata": {},
   "outputs": [
    {
     "data": {
      "text/html": [
       "<style type=\"text/css\">\n",
       "#T_85180_row0_col1 {\n",
       "  background-color: #08306b;\n",
       "  color: #f1f1f1;\n",
       "}\n",
       "#T_85180_row1_col1 {\n",
       "  background-color: #cde0f1;\n",
       "  color: #000000;\n",
       "}\n",
       "#T_85180_row2_col1 {\n",
       "  background-color: #dae8f6;\n",
       "  color: #000000;\n",
       "}\n",
       "#T_85180_row3_col1 {\n",
       "  background-color: #dceaf6;\n",
       "  color: #000000;\n",
       "}\n",
       "#T_85180_row4_col1 {\n",
       "  background-color: #e7f1fa;\n",
       "  color: #000000;\n",
       "}\n",
       "#T_85180_row5_col1 {\n",
       "  background-color: #ebf3fb;\n",
       "  color: #000000;\n",
       "}\n",
       "#T_85180_row6_col1 {\n",
       "  background-color: #ecf4fb;\n",
       "  color: #000000;\n",
       "}\n",
       "#T_85180_row7_col1 {\n",
       "  background-color: #eef5fc;\n",
       "  color: #000000;\n",
       "}\n",
       "#T_85180_row8_col1 {\n",
       "  background-color: #eff6fc;\n",
       "  color: #000000;\n",
       "}\n",
       "#T_85180_row9_col1 {\n",
       "  background-color: #f0f6fd;\n",
       "  color: #000000;\n",
       "}\n",
       "#T_85180_row10_col1 {\n",
       "  background-color: #f2f7fd;\n",
       "  color: #000000;\n",
       "}\n",
       "#T_85180_row11_col1 {\n",
       "  background-color: #f5f9fe;\n",
       "  color: #000000;\n",
       "}\n",
       "#T_85180_row12_col1, #T_85180_row13_col1, #T_85180_row14_col1, #T_85180_row15_col1 {\n",
       "  background-color: #f5fafe;\n",
       "  color: #000000;\n",
       "}\n",
       "#T_85180_row16_col1 {\n",
       "  background-color: #f6faff;\n",
       "  color: #000000;\n",
       "}\n",
       "#T_85180_row17_col1, #T_85180_row18_col1, #T_85180_row19_col1 {\n",
       "  background-color: #f7fbff;\n",
       "  color: #000000;\n",
       "}\n",
       "</style>\n",
       "<table id=\"T_85180\">\n",
       "  <thead>\n",
       "    <tr>\n",
       "      <th class=\"blank level0\" >&nbsp;</th>\n",
       "      <th id=\"T_85180_level0_col0\" class=\"col_heading level0 col0\" >Common_words</th>\n",
       "      <th id=\"T_85180_level0_col1\" class=\"col_heading level0 col1\" >count</th>\n",
       "    </tr>\n",
       "  </thead>\n",
       "  <tbody>\n",
       "    <tr>\n",
       "      <th id=\"T_85180_level0_row0\" class=\"row_heading level0 row0\" >0</th>\n",
       "      <td id=\"T_85180_row0_col0\" class=\"data row0 col0\" >game</td>\n",
       "      <td id=\"T_85180_row0_col1\" class=\"data row0 col1\" >1609775</td>\n",
       "    </tr>\n",
       "    <tr>\n",
       "      <th id=\"T_85180_level0_row1\" class=\"row_heading level0 row1\" >1</th>\n",
       "      <td id=\"T_85180_row1_col0\" class=\"data row1 col0\" >play</td>\n",
       "      <td id=\"T_85180_row1_col1\" class=\"data row1 col1\" >433912</td>\n",
       "    </tr>\n",
       "    <tr>\n",
       "      <th id=\"T_85180_level0_row2\" class=\"row_heading level0 row2\" >2</th>\n",
       "      <td id=\"T_85180_row2_col0\" class=\"data row2 col0\" >like</td>\n",
       "      <td id=\"T_85180_row2_col1\" class=\"data row2 col1\" >336604</td>\n",
       "    </tr>\n",
       "    <tr>\n",
       "      <th id=\"T_85180_level0_row3\" class=\"row_heading level0 row3\" >3</th>\n",
       "      <td id=\"T_85180_row3_col0\" class=\"data row3 col0\" >get</td>\n",
       "      <td id=\"T_85180_row3_col1\" class=\"data row3 col1\" >314457</td>\n",
       "    </tr>\n",
       "    <tr>\n",
       "      <th id=\"T_85180_level0_row4\" class=\"row_heading level0 row4\" >4</th>\n",
       "      <td id=\"T_85180_row4_col0\" class=\"data row4 col0\" >time</td>\n",
       "      <td id=\"T_85180_row4_col1\" class=\"data row4 col1\" >237508</td>\n",
       "    </tr>\n",
       "    <tr>\n",
       "      <th id=\"T_85180_level0_row5\" class=\"row_heading level0 row5\" >5</th>\n",
       "      <td id=\"T_85180_row5_col0\" class=\"data row5 col0\" >even</td>\n",
       "      <td id=\"T_85180_row5_col1\" class=\"data row5 col1\" >206462</td>\n",
       "    </tr>\n",
       "    <tr>\n",
       "      <th id=\"T_85180_level0_row6\" class=\"row_heading level0 row6\" >6</th>\n",
       "      <td id=\"T_85180_row6_col0\" class=\"data row6 col0\" >one</td>\n",
       "      <td id=\"T_85180_row6_col1\" class=\"data row6 col1\" >201065</td>\n",
       "    </tr>\n",
       "    <tr>\n",
       "      <th id=\"T_85180_level0_row7\" class=\"row_heading level0 row7\" >7</th>\n",
       "      <td id=\"T_85180_row7_col0\" class=\"data row7 col0\" >realli</td>\n",
       "      <td id=\"T_85180_row7_col1\" class=\"data row7 col1\" >190085</td>\n",
       "    </tr>\n",
       "    <tr>\n",
       "      <th id=\"T_85180_level0_row8\" class=\"row_heading level0 row8\" >8</th>\n",
       "      <td id=\"T_85180_row8_col0\" class=\"data row8 col0\" >good</td>\n",
       "      <td id=\"T_85180_row8_col1\" class=\"data row8 col1\" >175768</td>\n",
       "    </tr>\n",
       "    <tr>\n",
       "      <th id=\"T_85180_level0_row9\" class=\"row_heading level0 row9\" >9</th>\n",
       "      <td id=\"T_85180_row9_col0\" class=\"data row9 col0\" >make</td>\n",
       "      <td id=\"T_85180_row9_col1\" class=\"data row9 col1\" >172682</td>\n",
       "    </tr>\n",
       "    <tr>\n",
       "      <th id=\"T_85180_level0_row10\" class=\"row_heading level0 row10\" >10</th>\n",
       "      <td id=\"T_85180_row10_col0\" class=\"data row10 col0\" >would</td>\n",
       "      <td id=\"T_85180_row10_col1\" class=\"data row10 col1\" >159769</td>\n",
       "    </tr>\n",
       "    <tr>\n",
       "      <th id=\"T_85180_level0_row11\" class=\"row_heading level0 row11\" >11</th>\n",
       "      <td id=\"T_85180_row11_col0\" class=\"data row11 col0\" >go</td>\n",
       "      <td id=\"T_85180_row11_col1\" class=\"data row11 col1\" >134655</td>\n",
       "    </tr>\n",
       "    <tr>\n",
       "      <th id=\"T_85180_level0_row12\" class=\"row_heading level0 row12\" >12</th>\n",
       "      <td id=\"T_85180_row12_col0\" class=\"data row12 col0\" >buy</td>\n",
       "      <td id=\"T_85180_row12_col1\" class=\"data row12 col1\" >132615</td>\n",
       "    </tr>\n",
       "    <tr>\n",
       "      <th id=\"T_85180_level0_row13\" class=\"row_heading level0 row13\" >13</th>\n",
       "      <td id=\"T_85180_row13_col0\" class=\"data row13 col0\" >much</td>\n",
       "      <td id=\"T_85180_row13_col1\" class=\"data row13 col1\" >130862</td>\n",
       "    </tr>\n",
       "    <tr>\n",
       "      <th id=\"T_85180_level0_row14\" class=\"row_heading level0 row14\" >14</th>\n",
       "      <td id=\"T_85180_row14_col0\" class=\"data row14 col0\" >fun</td>\n",
       "      <td id=\"T_85180_row14_col1\" class=\"data row14 col1\" >130805</td>\n",
       "    </tr>\n",
       "    <tr>\n",
       "      <th id=\"T_85180_level0_row15\" class=\"row_heading level0 row15\" >15</th>\n",
       "      <td id=\"T_85180_row15_col0\" class=\"data row15 col0\" >want</td>\n",
       "      <td id=\"T_85180_row15_col1\" class=\"data row15 col1\" >129334</td>\n",
       "    </tr>\n",
       "    <tr>\n",
       "      <th id=\"T_85180_level0_row16\" class=\"row_heading level0 row16\" >16</th>\n",
       "      <td id=\"T_85180_row16_col0\" class=\"data row16 col0\" >tri</td>\n",
       "      <td id=\"T_85180_row16_col1\" class=\"data row16 col1\" >124087</td>\n",
       "    </tr>\n",
       "    <tr>\n",
       "      <th id=\"T_85180_level0_row17\" class=\"row_heading level0 row17\" >17</th>\n",
       "      <td id=\"T_85180_row17_col0\" class=\"data row17 col0\" >bad</td>\n",
       "      <td id=\"T_85180_row17_col1\" class=\"data row17 col1\" >120470</td>\n",
       "    </tr>\n",
       "    <tr>\n",
       "      <th id=\"T_85180_level0_row18\" class=\"row_heading level0 row18\" >18</th>\n",
       "      <td id=\"T_85180_row18_col0\" class=\"data row18 col0\" >feel</td>\n",
       "      <td id=\"T_85180_row18_col1\" class=\"data row18 col1\" >120233</td>\n",
       "    </tr>\n",
       "    <tr>\n",
       "      <th id=\"T_85180_level0_row19\" class=\"row_heading level0 row19\" >19</th>\n",
       "      <td id=\"T_85180_row19_col0\" class=\"data row19 col0\" >thing</td>\n",
       "      <td id=\"T_85180_row19_col1\" class=\"data row19 col1\" >115915</td>\n",
       "    </tr>\n",
       "  </tbody>\n",
       "</table>\n"
      ],
      "text/plain": [
       "<pandas.io.formats.style.Styler at 0x7f8b9de20970>"
      ]
     },
     "execution_count": 59,
     "metadata": {},
     "output_type": "execute_result"
    }
   ],
   "source": [
    "top4 = Counter([item for sublist in dataset_cleaned_neg_only['list_words'] for item in sublist])\n",
    "temp4 = pd.DataFrame(top4.most_common(20))\n",
    "temp4.columns = ['Common_words','count']\n",
    "temp4.style.background_gradient(cmap='Blues')"
   ]
  },
  {
   "cell_type": "code",
   "execution_count": 60,
   "metadata": {},
   "outputs": [
    {
     "data": {
      "text/plain": [
       "<Axes: xlabel='count', ylabel='Common_words'>"
      ]
     },
     "execution_count": 60,
     "metadata": {},
     "output_type": "execute_result"
    },
    {
     "data": {
      "image/png": "[encoded data removed]",
      "text/plain": [
       "<Figure size 640x480 with 1 Axes>"
      ]
     },
     "metadata": {},
     "output_type": "display_data"
    }
   ],
   "source": [
    "sns.set_theme(style=\"whitegrid\")\n",
    "sns.barplot(x=\"count\", y=\"Common_words\", data=temp4)"
   ]
  },
  {
   "cell_type": "markdown",
   "metadata": {},
   "source": [
    "what are the common words appeared in both top 20?"
   ]
  },
  {
   "cell_type": "code",
   "execution_count": 61,
   "metadata": {},
   "outputs": [],
   "source": [
    "temp5 = pd.merge(temp3,temp4, how='inner', on=['Common_words'])"
   ]
  },
  {
   "cell_type": "code",
   "execution_count": 62,
   "metadata": {},
   "outputs": [
    {
     "data": {
      "text/html": [
       "<div>\n",
       "<style scoped>\n",
       "    .dataframe tbody tr th:only-of-type {\n",
       "        vertical-align: middle;\n",
       "    }\n",
       "\n",
       "    .dataframe tbody tr th {\n",
       "        vertical-align: top;\n",
       "    }\n",
       "\n",
       "    .dataframe thead th {\n",
       "        text-align: right;\n",
       "    }\n",
       "</style>\n",
       "<table border=\"1\" class=\"dataframe\">\n",
       "  <thead>\n",
       "    <tr style=\"text-align: right;\">\n",
       "      <th></th>\n",
       "      <th>Common_words</th>\n",
       "      <th>count_x</th>\n",
       "      <th>count_y</th>\n",
       "    </tr>\n",
       "  </thead>\n",
       "  <tbody>\n",
       "    <tr>\n",
       "      <th>0</th>\n",
       "      <td>game</td>\n",
       "      <td>6786797</td>\n",
       "      <td>1609775</td>\n",
       "    </tr>\n",
       "    <tr>\n",
       "      <th>1</th>\n",
       "      <td>play</td>\n",
       "      <td>2007689</td>\n",
       "      <td>433912</td>\n",
       "    </tr>\n",
       "    <tr>\n",
       "      <th>2</th>\n",
       "      <td>like</td>\n",
       "      <td>1349577</td>\n",
       "      <td>336604</td>\n",
       "    </tr>\n",
       "    <tr>\n",
       "      <th>3</th>\n",
       "      <td>get</td>\n",
       "      <td>1096717</td>\n",
       "      <td>314457</td>\n",
       "    </tr>\n",
       "    <tr>\n",
       "      <th>4</th>\n",
       "      <td>good</td>\n",
       "      <td>998402</td>\n",
       "      <td>175768</td>\n",
       "    </tr>\n",
       "    <tr>\n",
       "      <th>5</th>\n",
       "      <td>fun</td>\n",
       "      <td>997776</td>\n",
       "      <td>130805</td>\n",
       "    </tr>\n",
       "    <tr>\n",
       "      <th>6</th>\n",
       "      <td>one</td>\n",
       "      <td>990678</td>\n",
       "      <td>201065</td>\n",
       "    </tr>\n",
       "    <tr>\n",
       "      <th>7</th>\n",
       "      <td>time</td>\n",
       "      <td>883272</td>\n",
       "      <td>237508</td>\n",
       "    </tr>\n",
       "    <tr>\n",
       "      <th>8</th>\n",
       "      <td>realli</td>\n",
       "      <td>783901</td>\n",
       "      <td>190085</td>\n",
       "    </tr>\n",
       "    <tr>\n",
       "      <th>9</th>\n",
       "      <td>make</td>\n",
       "      <td>662683</td>\n",
       "      <td>172682</td>\n",
       "    </tr>\n",
       "    <tr>\n",
       "      <th>10</th>\n",
       "      <td>would</td>\n",
       "      <td>601403</td>\n",
       "      <td>159769</td>\n",
       "    </tr>\n",
       "    <tr>\n",
       "      <th>11</th>\n",
       "      <td>much</td>\n",
       "      <td>509673</td>\n",
       "      <td>130862</td>\n",
       "    </tr>\n",
       "    <tr>\n",
       "      <th>12</th>\n",
       "      <td>even</td>\n",
       "      <td>489694</td>\n",
       "      <td>206462</td>\n",
       "    </tr>\n",
       "    <tr>\n",
       "      <th>13</th>\n",
       "      <td>go</td>\n",
       "      <td>451107</td>\n",
       "      <td>134655</td>\n",
       "    </tr>\n",
       "    <tr>\n",
       "      <th>14</th>\n",
       "      <td>feel</td>\n",
       "      <td>441736</td>\n",
       "      <td>120233</td>\n",
       "    </tr>\n",
       "  </tbody>\n",
       "</table>\n",
       "</div>"
      ],
      "text/plain": [
       "   Common_words  count_x  count_y\n",
       "0          game  6786797  1609775\n",
       "1          play  2007689   433912\n",
       "2          like  1349577   336604\n",
       "3           get  1096717   314457\n",
       "4          good   998402   175768\n",
       "5           fun   997776   130805\n",
       "6           one   990678   201065\n",
       "7          time   883272   237508\n",
       "8        realli   783901   190085\n",
       "9          make   662683   172682\n",
       "10        would   601403   159769\n",
       "11         much   509673   130862\n",
       "12         even   489694   206462\n",
       "13           go   451107   134655\n",
       "14         feel   441736   120233"
      ]
     },
     "execution_count": 62,
     "metadata": {},
     "output_type": "execute_result"
    }
   ],
   "source": [
    "temp5"
   ]
  },
  {
   "cell_type": "markdown",
   "metadata": {},
   "source": [
    "looks almost the same as the overall dataset, as the positive comments are very domainant..."
   ]
  },
  {
   "cell_type": "markdown",
   "metadata": {},
   "source": [
    "Due to hardware limitation, we will create a balanced dataset by randomly sampling positive comments in training\n",
    "\n",
    "There are different methods in randomly selecting samples, yet the difference in performance are not significant (~0.01 in accuracy)  \n",
    "E.g.: https://ruslanmv.com/blog/How-to-handle-imbalanced-text-data-in-Natural-Language-Processing\n",
    "\n",
    "The undersampler in imbalanced-learning package will be applied on the training set\n",
    "\n",
    "Then we may scrap new comments for validation on recent comments :D"
   ]
  },
  {
   "cell_type": "markdown",
   "metadata": {},
   "source": []
  }
 ],
 "metadata": {
  "kernelspec": {
   "display_name": "fyp-test-wsl",
   "language": "python",
   "name": "python3"
  },
  "language_info": {
   "codemirror_mode": {
    "name": "ipython",
    "version": 3
   },
   "file_extension": ".py",
   "mimetype": "text/x-python",
   "name": "python",
   "nbconvert_exporter": "python",
   "pygments_lexer": "ipython3",
   "version": "3.9.18"
  }
 },
 "nbformat": 4,
 "nbformat_minor": 2
}
