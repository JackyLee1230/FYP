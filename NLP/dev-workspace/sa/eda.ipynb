{
 "cells": [
  {
   "cell_type": "markdown",
   "metadata": {},
   "source": [
    "# Exploratory Data Analysis\n",
    "\n",
    "On the dataset_cleaned_heartless.pkl file"
   ]
  },
  {
   "cell_type": "code",
   "execution_count": 2,
   "metadata": {},
   "outputs": [],
   "source": [
    "# packages\n",
    "\n",
    "import pandas as pd\n",
    "import seaborn as sns\n",
    "import matplotlib.pyplot as plt\n",
    "import numpy as np\n",
    "\n",
    "from pathlib import Path\n",
    "\n",
    "from collections import Counter\n",
    "import re\n",
    "import nltk\n",
    "from nltk.corpus import stopwords"
   ]
  },
  {
   "cell_type": "code",
   "execution_count": 3,
   "metadata": {},
   "outputs": [
    {
     "name": "stdout",
     "output_type": "stream",
     "text": [
      "<class 'pandas.core.frame.DataFrame'>\n",
      "Index: 4891746 entries, 0 to 4891927\n",
      "Data columns (total 7 columns):\n",
      " #   Column        Dtype \n",
      "---  ------        ----- \n",
      " 0   index         int64 \n",
      " 1   app_id        int64 \n",
      " 2   app_name      object\n",
      " 3   review_text   object\n",
      " 4   review_score  int64 \n",
      " 5   review_votes  int64 \n",
      " 6   num_of_words  int64 \n",
      "dtypes: int64(5), object(2)\n",
      "memory usage: 298.6+ MB\n"
     ]
    }
   ],
   "source": [
    "dataset_heartless_path = Path('../dataset/sa/dataset_cleaned_heartless.pkl').resolve()\n",
    "\n",
    "dataset = pd.read_pickle(dataset_heartless_path)\n",
    "# dataset = dataset.sample(frac=p)      # no sampling is needed\n",
    "\n",
    "# convert the text to string object\n",
    "dataset['review_text'] = dataset['review_text'].astype('str')\n",
    "\n",
    "# drop any duplicate just in case\n",
    "dataset = dataset.drop_duplicates(keep='first')\n",
    "\n",
    "# replace -1 to 0\n",
    "# then 0 = negative, 1 = positive\n",
    "# for easier processing\n",
    "dataset['review_score'] = dataset['review_score'].replace(-1, 0)\n",
    "\n",
    "# 4891928 -> 4891746 (some rows have all whitespaces)\n",
    "dataset['num_of_words'] = dataset['review_text'].apply(lambda x:len(str(x).split()))\n",
    "dataset = dataset[dataset['num_of_words'] > 0]\n",
    "\n",
    "dataset.info()"
   ]
  },
  {
   "cell_type": "markdown",
   "metadata": {},
   "source": [
    "We will see the ratio between positive and negative reviews"
   ]
  },
  {
   "cell_type": "code",
   "execution_count": 4,
   "metadata": {},
   "outputs": [
    {
     "data": {
      "text/html": [
       "<style type=\"text/css\">\n",
       "#T_a6752_row0_col0, #T_a6752_row0_col1 {\n",
       "  background-color: #fcfbfd;\n",
       "  color: #000000;\n",
       "}\n",
       "#T_a6752_row1_col0, #T_a6752_row1_col1 {\n",
       "  background-color: #3f007d;\n",
       "  color: #f1f1f1;\n",
       "}\n",
       "</style>\n",
       "<table id=\"T_a6752\">\n",
       "  <thead>\n",
       "    <tr>\n",
       "      <th class=\"blank level0\" >&nbsp;</th>\n",
       "      <th id=\"T_a6752_level0_col0\" class=\"col_heading level0 col0\" >review_score</th>\n",
       "      <th id=\"T_a6752_level0_col1\" class=\"col_heading level0 col1\" >review_text</th>\n",
       "    </tr>\n",
       "  </thead>\n",
       "  <tbody>\n",
       "    <tr>\n",
       "      <th id=\"T_a6752_level0_row0\" class=\"row_heading level0 row0\" >0</th>\n",
       "      <td id=\"T_a6752_row0_col0\" class=\"data row0 col0\" >0</td>\n",
       "      <td id=\"T_a6752_row0_col1\" class=\"data row0 col1\" >780949</td>\n",
       "    </tr>\n",
       "    <tr>\n",
       "      <th id=\"T_a6752_level0_row1\" class=\"row_heading level0 row1\" >1</th>\n",
       "      <td id=\"T_a6752_row1_col0\" class=\"data row1 col0\" >1</td>\n",
       "      <td id=\"T_a6752_row1_col1\" class=\"data row1 col1\" >4110797</td>\n",
       "    </tr>\n",
       "  </tbody>\n",
       "</table>\n"
      ],
      "text/plain": [
       "<pandas.io.formats.style.Styler at 0x7f81804f8f10>"
      ]
     },
     "execution_count": 4,
     "metadata": {},
     "output_type": "execute_result"
    }
   ],
   "source": [
    "temp = dataset.groupby('review_score').count()['review_text'].reset_index().sort_values(by='review_score',ascending=True)\n",
    "temp.style.background_gradient(cmap='Purples')"
   ]
  },
  {
   "cell_type": "code",
   "execution_count": 5,
   "metadata": {},
   "outputs": [
    {
     "name": "stdout",
     "output_type": "stream",
     "text": [
      "Ratio between positive and negative comments: 0.18997508\n"
     ]
    }
   ],
   "source": [
    "print(\"Ratio between positive and negative comments: {:.8}\".format(\n",
    "    len(dataset[dataset['review_score'] == 0]) / float(len(dataset[dataset['review_score'] == 1]))\n",
    "))"
   ]
  },
  {
   "cell_type": "markdown",
   "metadata": {},
   "source": [
    "How about the distribution of length of reviews\n",
    "\n",
    "In both positive and negative comments respectively"
   ]
  },
  {
   "cell_type": "code",
   "execution_count": 6,
   "metadata": {},
   "outputs": [
    {
     "data": {
      "text/plain": [
       "count    4.891746e+06\n",
       "mean     6.183327e+01\n",
       "std      1.077263e+02\n",
       "min      1.000000e+00\n",
       "1%       1.000000e+00\n",
       "10%      5.000000e+00\n",
       "25%      1.100000e+01\n",
       "50%      2.600000e+01\n",
       "75%      6.700000e+01\n",
       "90%      1.490000e+02\n",
       "99%      5.370000e+02\n",
       "max      4.000000e+03\n",
       "Name: num_of_words, dtype: float64"
      ]
     },
     "execution_count": 6,
     "metadata": {},
     "output_type": "execute_result"
    }
   ],
   "source": [
    "# first have all comments together\n",
    "\n",
    "dataset['num_of_words'].describe(percentiles=[0.01, 0.1, 0.25, 0.5, 0.75, 0.9, 0.99])"
   ]
  },
  {
   "cell_type": "code",
   "execution_count": 7,
   "metadata": {},
   "outputs": [],
   "source": [
    "dataset_pos_only = dataset[dataset['review_score'] == 1]\n",
    "dataset_neg_only = dataset[dataset['review_score'] == 0]"
   ]
  },
  {
   "cell_type": "code",
   "execution_count": 8,
   "metadata": {},
   "outputs": [
    {
     "data": {
      "text/plain": [
       "count    4.110797e+06\n",
       "mean     5.822571e+01\n",
       "std      1.030780e+02\n",
       "min      1.000000e+00\n",
       "1%       1.000000e+00\n",
       "10%      5.000000e+00\n",
       "25%      1.000000e+01\n",
       "50%      2.400000e+01\n",
       "75%      6.200000e+01\n",
       "90%      1.390000e+02\n",
       "99%      5.120000e+02\n",
       "max      4.000000e+03\n",
       "Name: num_of_words, dtype: float64"
      ]
     },
     "execution_count": 8,
     "metadata": {},
     "output_type": "execute_result"
    }
   ],
   "source": [
    "# describe the characteristics of the number of words\n",
    "\n",
    "dataset_pos_only['num_of_words'].describe(percentiles=[0.01, 0.1, 0.25, 0.5, 0.75, 0.9, 0.99])"
   ]
  },
  {
   "cell_type": "code",
   "execution_count": 9,
   "metadata": {},
   "outputs": [
    {
     "data": {
      "text/plain": [
       "<Axes: xlabel='num_of_words', ylabel='Count'>"
      ]
     },
     "execution_count": 9,
     "metadata": {},
     "output_type": "execute_result"
    },
    {
     "data": {
      "image/png": "[encoded data removed]",
      "text/plain": [
       "<Figure size 640x480 with 1 Axes>"
      ]
     },
     "metadata": {},
     "output_type": "display_data"
    }
   ],
   "source": [
    "sns.histplot(data=dataset_pos_only, x='num_of_words',bins=30,color='green')"
   ]
  },
  {
   "cell_type": "code",
   "execution_count": 10,
   "metadata": {},
   "outputs": [
    {
     "data": {
      "text/plain": [
       "count    780949.000000\n",
       "mean         80.822900\n",
       "std         127.803443\n",
       "min           1.000000\n",
       "1%            2.000000\n",
       "10%           7.000000\n",
       "25%          15.000000\n",
       "50%          37.000000\n",
       "75%          92.000000\n",
       "90%         195.000000\n",
       "99%         642.000000\n",
       "max        1925.000000\n",
       "Name: num_of_words, dtype: float64"
      ]
     },
     "execution_count": 10,
     "metadata": {},
     "output_type": "execute_result"
    }
   ],
   "source": [
    "dataset_neg_only['num_of_words'].describe(percentiles=[0.01, 0.1, 0.25, 0.5, 0.75, 0.9, 0.99])"
   ]
  },
  {
   "cell_type": "code",
   "execution_count": 11,
   "metadata": {},
   "outputs": [
    {
     "data": {
      "text/plain": [
       "<Axes: xlabel='num_of_words', ylabel='Count'>"
      ]
     },
     "execution_count": 11,
     "metadata": {},
     "output_type": "execute_result"
    },
    {
     "data": {
      "image/png": "[encoded data removed]",
      "text/plain": [
       "<Figure size 640x480 with 1 Axes>"
      ]
     },
     "metadata": {},
     "output_type": "display_data"
    }
   ],
   "source": [
    "sns.histplot(data=dataset_neg_only, x='num_of_words',bins=30,color='orange')"
   ]
  },
  {
   "cell_type": "markdown",
   "metadata": {},
   "source": [
    "The public dataset supports the distribution of the comments\n",
    "\n",
    "- \"Negative reviews are slightly longer than positive reviews, but the difference is negligible.\". But seems the latter is not supported by the dataset we have.\n",
    "\n",
    "- \"Most games receive reviews with a median length of 205 characters, or 30 words.\". The sentence is supported by the positive set and the overall dataset, but not on the negative set."
   ]
  },
  {
   "cell_type": "markdown",
   "metadata": {},
   "source": [
    "what if we remove comments less than 10 characters."
   ]
  },
  {
   "cell_type": "code",
   "execution_count": 12,
   "metadata": {},
   "outputs": [],
   "source": [
    "dataset_2 = dataset.copy()\n",
    "\n",
    "dataset_2 = dataset_2[dataset_2['review_text'].str.len()>=10]"
   ]
  },
  {
   "cell_type": "code",
   "execution_count": 13,
   "metadata": {},
   "outputs": [
    {
     "data": {
      "text/plain": [
       "count    4.820282e+06\n",
       "mean     6.272972e+01\n",
       "std      1.082681e+02\n",
       "min      1.000000e+00\n",
       "1%       2.000000e+00\n",
       "10%      6.000000e+00\n",
       "25%      1.100000e+01\n",
       "50%      2.700000e+01\n",
       "75%      6.800000e+01\n",
       "90%      1.500000e+02\n",
       "99%      5.400000e+02\n",
       "max      4.000000e+03\n",
       "Name: num_of_words, dtype: float64"
      ]
     },
     "execution_count": 13,
     "metadata": {},
     "output_type": "execute_result"
    }
   ],
   "source": [
    "# first have all comments together\n",
    "\n",
    "dataset_2['num_of_words'].describe(percentiles=[0.01, 0.1, 0.25, 0.5, 0.75, 0.9, 0.99])"
   ]
  },
  {
   "cell_type": "code",
   "execution_count": 14,
   "metadata": {},
   "outputs": [],
   "source": [
    "dataset_2_pos_only = dataset_2[dataset_2['review_score'] == 1]\n",
    "dataset_2_neg_only = dataset_2[dataset_2['review_score'] == 0]"
   ]
  },
  {
   "cell_type": "code",
   "execution_count": 15,
   "metadata": {},
   "outputs": [
    {
     "data": {
      "text/plain": [
       "count    4.046896e+06\n",
       "mean     5.912335e+01\n",
       "std      1.036389e+02\n",
       "min      1.000000e+00\n",
       "1%       2.000000e+00\n",
       "10%      6.000000e+00\n",
       "25%      1.100000e+01\n",
       "50%      2.500000e+01\n",
       "75%      6.300000e+01\n",
       "90%      1.410000e+02\n",
       "99%      5.150000e+02\n",
       "max      4.000000e+03\n",
       "Name: num_of_words, dtype: float64"
      ]
     },
     "execution_count": 15,
     "metadata": {},
     "output_type": "execute_result"
    }
   ],
   "source": [
    "# describe the characteristics of the number of words\n",
    "\n",
    "dataset_2_pos_only['num_of_words'].describe(percentiles=[0.01, 0.1, 0.25, 0.5, 0.75, 0.9, 0.99])"
   ]
  },
  {
   "cell_type": "code",
   "execution_count": 16,
   "metadata": {},
   "outputs": [
    {
     "data": {
      "text/plain": [
       "<Axes: xlabel='num_of_words', ylabel='Count'>"
      ]
     },
     "execution_count": 16,
     "metadata": {},
     "output_type": "execute_result"
    },
    {
     "data": {
      "image/png": "[encoded data removed]",
      "text/plain": [
       "<Figure size 640x480 with 1 Axes>"
      ]
     },
     "metadata": {},
     "output_type": "display_data"
    }
   ],
   "source": [
    "sns.histplot(data=dataset_2_pos_only, x='num_of_words',bins=30,color='green')"
   ]
  },
  {
   "cell_type": "code",
   "execution_count": 17,
   "metadata": {},
   "outputs": [
    {
     "data": {
      "text/plain": [
       "count    773386.000000\n",
       "mean         81.600765\n",
       "std         128.183334\n",
       "min           1.000000\n",
       "1%            3.000000\n",
       "10%           7.000000\n",
       "25%          15.000000\n",
       "50%          38.000000\n",
       "75%          93.000000\n",
       "90%         196.000000\n",
       "99%         645.000000\n",
       "max        1925.000000\n",
       "Name: num_of_words, dtype: float64"
      ]
     },
     "execution_count": 17,
     "metadata": {},
     "output_type": "execute_result"
    }
   ],
   "source": [
    "dataset_2_neg_only['num_of_words'].describe(percentiles=[0.01, 0.1, 0.25, 0.5, 0.75, 0.9, 0.99])"
   ]
  },
  {
   "cell_type": "code",
   "execution_count": 18,
   "metadata": {},
   "outputs": [
    {
     "data": {
      "text/plain": [
       "\"After I bought Postal 2, i saw that there was a third one and it had modern-day graphics and i thought that was pretty cool and then I saw all the negative reviews except for the literally only postive review and i thought to myself, hmmm I wonder how bad this game is? Seeing as how the second one was badass and amazingly better than some of the AAA games we get served today, so i bought it, played it and beat it, and now i now why this game is slandered, even RWS has given up on this trainwreck but before i trash this game more i have to say there are parts of this game that are good but far from being awesome.  Like my review of Postal 2, this review will broken down in the same areas  Gameplay, Graphics, Sound and most importantly Story  Warning: this is my opinon and if anything offends you, i deeply apolgize  Gameplay 5/10: the overall gmeplay isn't all to bad, the controls aren't bad but they are a big difference from its predecessor, the main control feature i like about this game is you don't have to use the mouse scroll for changing your guns, you can now use X and C for that which for me (being a console gamer for 16 years) is a big up for me since i'm still new to the PC controls. The game praises it's so called 'advanced AI' but in reality the so-called 'advanced AI' isn't so advanced unless advanced AI means running in your line of fire and killing all the 'advanced AI' in like two seconds  Graphics 6/10: the graphics of this game are not that bad but also not that good for a game that was realeased in 2011. there are times where the graphics acutally look complete and then other times your face palming with more regert than Patrick Stewert.  Sound 8/10: this is the only department that this game did good in. The BGM of this game is amazing, the only time the BGM is bad, is that it is stuck in a never-ending loop, so in the longer levels in the game it starts to become a ear ache. The sound F/X of this game is why the sound gets an 8 out of 10 instead of being a perfect score, the gun noises in this aren't as realistic as they were Postal 2, but they aren't horrible either, at least they are actually sounds instead of one guy making 'pew-pew' noises.  Story 6/10: the only reason this game's story did better than Postal 2 is because it's more of a linear based game, so there is more room for story, but the main reason ot only did a point better was becasue it's story was all over the f***ing place, when i finally beat the game, i had no f***ing idea what the f*** happend, the story has more holes in it than swiss cheese or a Micheal Bay movie (uggh don't get me started on him)  Overall 4.5/10: Overall this game needs A LOT more work and if it was developed on for a little bit longer (i'd say like two more years) it may have been a better game but I personally think that it should have been the exact same game as the second but with a new story and graphics like Halo 3. (ahhh if only) But before i go, the nic people over at Anthology Production, are making a mod for Postal 2, and it's basically taking Postal 3 and putting it into the engine of the second game and more! So i cannot wait for it to come out. so as you can see I do NOT reccomend this game but if you really want to play this s***ty game than wait for that mod.\""
      ]
     },
     "execution_count": 18,
     "metadata": {},
     "output_type": "execute_result"
    }
   ],
   "source": [
    "# select some text for sample\n",
    "\n",
    "dataset_2_neg_only[dataset_2_neg_only['num_of_words']==645].iloc[0]['review_text']"
   ]
  },
  {
   "cell_type": "code",
   "execution_count": 24,
   "metadata": {},
   "outputs": [
    {
     "name": "stdout",
     "output_type": "stream",
     "text": [
      "\"Final Fantasy IV (PC version) is a remixed version of the original Final Fantasy IV from 1991, which was released as Final Fantasy II in North America for the SNES because Final Fantasy 2 and 3 were never released in North America at that time. Confused? Don't worry about it, lets just focus on this game. This version is a 'enhanced' port of the DS port of this game. On a personal level I feel the PSP version is a better port overall but again, it's just my opinion.  Graphics  Gone is the 2D engine of the original game from over 25(!) years ago, and we welcome a 3d engine. The graphics overall aren't that great but they are servicable. I much prefer sprite based graphics especially the older Final Fantasy's. The move to the 3D engine is fine but it creates certain problems. When you are wandering around it creates an almost 'zoomed in' feeling when navigating dungeons and towns. This issue may be the result of me playing the original version in my youth and it not feeling quite right. This most likely is not a problem at all if you are a younger gamer. The Other slight issue is the pixelization of the characters during close ups when there is cutscenes happening, the characters become quite ugly looking.  Sound/Music  They pretty much nailed this. Music is a very big deal in all the Final Fantasy's, and the music made a massive jump in quality and scope from part III to IV back in the day. They did a fanatastic job in maintaining the quality of the original score. The sound/music for this port is very good, and if you played the original you'll find yourself humming along as you remember the songs.  Story  The story is very linear but gives you the illusion of not being linear in certain parts of the game. The overall narrative is very good and it's mostly always clear on what you need to do. The Story itself is actually not that bad and holds up pretty good even by today's standards. The cast of characters are interesting and each have their own motivations and agendas which helps you actually care about the heroes. Also this port they added voice actors for certain parts of the story, when I first heard this I felt that sense of dread ' oh man how corny is this going to be?'. I'm actually very pleasantly surprised by the quality of the voice acting for the most part, I found Rydia's character to be weaker than the others but it's not that big of a deal.  Gameplay  This game assigns classes for your characters you will not change jobs (well except for ONE character!) and you do not make your own characters. Also characters come and go from your 5 man party as you work through the story. The battles take place in a side view using a 'Active Time Battle' system. This basically means that while you are making a decision on what your characters do the monsters will attack you. There is a way to change the speed of the battles and even a choice to put it in a 'wait' mode during battle. Meaning the monsters may still act while you decide but they will not get more than one turn while you decide.  Since i'm on battles I will bring up the fact that for some reason the game defaults to 15 Frames per second during battles. Its actually quite distracting and jarring especially as you are exploring a cave at 30fps when all of a sudden you find yourself looking at a choppy mess for a battle. The first time it happened I actually thought that something was wrong with my game, I turned it off and went online to find out what was wrong that's how I found out this was on purpose! I did find a fix that makes the battles run at 25fps which improved it quite a bit. I won't post it here but if you google 'Final Fantasy 4 PC fps fix' you will find it. I will be honest I'm not sure if I would have finished this game if I didn't find this fix.  The other strange thing is the ability to use items (like 'rod') during battles. In the original game you just selected Item and scrolled to the weapon you wanted to use and it would cast a spell. This version you need to select the item under the abilities menu OUTSIDE of battle to put said item in your options list during battles. After about halfway through the game it really doesn't matter as you won't be using weapons as item commands anyway.  There is an Augment system they added as well where you get to customize the characters with different abilities and traits, i'm kind of mixed on this because I would feel pretty upset if I wasted a good Augment on a character that left your party never to go back in. It didnt effect me because I've played this game so many times over the years that I know the story pretty much by heart and incidently I know who the final 5 characters in your party are so I could place the Augments accordingly. As a new player I would have no idea which characters are in the final part. However, we live in the internet age and it's easy to mitigate this.  Overall I recommend this game it is a good JRPG but there are flaws.   7/10\",\n",
      "\n",
      "\"Warning: A few storyline spoilers are below.   I just want to start out by saying, I think this games story was written by a 16 year old. This is not meant to be a knock on anyone, but that's just how I feel. A lot of the plot feels like some angsty teenager came up with this. It has a lot of bizarre elements that don't seem to mesh very well, and just smacks of someone trying out different things to a really weird result.  And, okay, maybe it reminds me of the really weird s**t I came up with when I was 16.  The main character; all of her dialouge seems to have been checked with a fine tooth comb. It is 'proper' and seems deep, like a main character should appear to some. It seems a bit forced, and she seems to be the only one that is really acting serious about whats going on.  Whereas the side characters are all just... a bit light hearted. Or silly. And it just seems the writer(s) wanted to make them a drastic change from Nilin, but they ALL seem to be the same character to varying degrees. Silly, little less silly, silly with a hard edge... at least, the dialouge shows them in that light. 'Remember you soon!' is a cringe worthy line thrown around often by a decent amount of the supporting characters and it's augggh NO. STOP IT.  One later encounter has you being chased by a bumbling idiot flying a police chopper, and while he's gunning you down he is 'dramatically' repurposing a fairy tale story to be about you. It's worse than it sounds, and I'm not sure why the writer thought that was a good idea.  Is it different? Yes, but different isn't always good. It was just awkward to listen to.  Remember Me feels like a squirrely version of Arkham Asylum. It's not a bad thing the game tried to ape AA's combat system, but they didn't flawlessly pull it off. It gets repetitive and seems to rely more on having you activate a 'Berserker' mode to finally stop the game from spawning in more enemies in arena duels. And if you get boxed in a corner and try to move the camera, be prepared for it to freak out and spin you around and make you lose focus.  When in combat, left mouse punches and right mouse will kick. Both of these start different combos, and you must switch between them depending on how you set up a combo. Yes, one neat twist is that you can unlock combo bars (3 hits is your default one, but you can unlock a 5-hit combo bar and a 7 hit one later) and then apply different attacks in to it.  Do you want your long combo to heal you and cool down your special abilities while your short combo does the heavy damage? Just select from the Healing/Cooldown attack menus and slap all of them in your combo. Or mix 'em up, first two hits can damage, the second two can heal.  It's a nice addition, and it makes sense with the 'amnesia' plotline that you would re-learn advanced fighting moves. Yeah.. it's one of those. But don't worry.. the main character isn't completely lost. She very quickly comes to her senses and finds out who she is, for the most part, and then the adventure is on to figure out WHY her memory was wiped.  Now.. some of the plotline is bizarre. Nilin can remix memories; twisting the events of something to the point where it ends differently. This is an interesting concept, but it is used in baffling ways in-game. One character you come across, a bounty hunter, is out to capture you to help pay for her husbands treatments.  You can remix her memories and play it out so that her husband dies in her memory. However, this makes no sense. In the game, it shows she only started tracking you down an hour or so before she appeared. This was also JUST as her original memory was coming to an end.  So she now believes her husband is dead. But that's the ONLY thing that was changed; her memory of approaching the doctor was not. Nothing was changed except for him dying, which makes it such a baffling decision. The plot barely holds up, and for the most part you need to go in to it without thinking very hard about it.  The whole design looks a bit silly. It's 2084-- but a lot sure has happened in the 70 years from here to then.  Paris has become a slum, to the point where it looks like Future Detroit instead of a locale in France. In fact, the entire French culture is gone. The main characters-- all of the characters, really-- speak with what seems to be a very slight British accent, or French-Canadian accent.  The culture sure has eroded, and fast. The only thing that makes you even think of Paris is that the Eiffel Tower shows up in the backdrop in a level or two. That's it. I'm not sure why they wanted to set this in Paris when NOTHING about Paris is relevant here. They would have been better off just creating an entirely new fictional city/country.  I also recommend checking out the music. I REALLY like the track 'Still Human,' while the fight track, 'Fragments', is really energized and suited for combat in this weird neon-bathed ghetto world.  This is also a linear game; it holds your hand pretty much through the whole thing, and the only time you really have to flex any sort of mental muscle in figuring out what to do is in a few weird moments where you must decipher a password from a police chiefs rambling.  Ultimately, Remember Me is exactly what I hoped it would be: Weird. I hoped it would be different from the typical linear AAA game, and I'm glad it didn't disappoint. Even if, again, weird in this case isn't always good.  The story is weird and oddly touching in certain moments, so long as you don't think too hard on some of the events; particularly on those involving memory remixing.  The dialouge is weird, the enemy designs are weird, everything about this game is just WEIRD. I'm surprised it got made, but I'm so glad it did.  It's memorable, but probably not for the reasons it wants to be.  End Result: I honestly would say I wouldn't be mad if I bought this at full price. I liked it a lot, flaws and all.\",\n",
      "\n",
      "\"Middle Earth: Shadow of Mordor has a lot that needs to be complimented for. The graphical design I felt was amazing, the appearance of each enemy varies and has a lot of detail to them, during execution moves the facial expressions of the enemies change also which gives the game a more realistic touch. However there were pros and cons to the game which I'm willing to list:  Pros:  Amazing upgrade abilities that help a lot during combat. Varied quoting for each Captain/Warchief. Amazing graphical designing. A handful of different characters, not too many, but not too few. A lot of sidequests that focus on each aspect of weaponry.  But as much as I'd hate to say there were things in this game that made me go 'meh' about it.  Combat - At times you'll find in combat situations that you keep getting killed straight after recovering from a 'Last Chance Stand' which annoyed me at times and lead me to failing some missions several times.  Campaign - The campaign in my opinion was very well written and didn't miss anything vital out within. It also contains slight hints of comedy here and there (Which would be quite unusual seeing that most of Middle Earth is on the verge of collapsing to darkness). The characters that you meet are easy to start liking, to me there was nothing about them that made me take any dislike to them at all. The only thing that I found bad about the campaign was the fact that at times you'd have to run around unlocking spawn towers, killing Captains/Warchiefs and unlocking runes for weapons. I admit I liked these aspects of the game but it took way too long to do these, finding the runes by killing Captains/Warchiefs took me just over 3 hours to get ones that I was happy with. Also another thing about Shadow of Mordor is that I found the campaign to be a little shorter than I expected but made up for it with the environment left for the player to explore, another thing to add is that I found some of the main boss fights to be much easier than I expected, in my mind I was expecting a boss fight that tested your reflexes to the very max but most avoided combat situations which I found rather depressing.  Natural Enemies - These can range from one hit killed Ghuls to Caragors and Graugs that will easily rip you apart if caught unaware. Shadow of Mordor offers the chance to ride Caragors into battle which I would recommend doing if you decide to buy this game. They make battling Uruks 10x easier but can get killed very quickly if attention is not paid.  With saying all of this I still believe that this game gave me a lot of entertainment, and the pros definately outnumbered the cons. With all this said Shadow of Mordor with no doubt gets positive feedback from me here, it also gives me hope that a sequel to this game will be released in the future with a very gripping cliffhanger ending. \",\n",
      "\n",
      "\"Dragon Ball Xenoverse comes with a positive recommendation, but also some precautions...  For the Dragon Ball Fans:  Positive points:  Dragon Ball Z fans will love this game, as it is probably one of the best Dragon Ball games to date, including hyper dimensions for the SNES. Why? It contains an original story with fantastic voice acting and interesting new characters. This has not been done well (in my opinion) since Dragon Ball Z: Super Butōden 2. It is not a mere re-telling of the Dragon Ball story. Fans will also like the parallel storylines and, for the first time in a DBZ game, we are given a plausible story-driven excuse for why Super Saiyan Vegeta might square off against his younger self.  The fight mechanics are fresh and easy to master, and all characters function virtually the same. While many in the fighter game community might see this as a drawback, DBZ fans might enjoy the fact that they don't have to select one character to master to get the most out of the game. Most of the characters people love are here, including a custom character which can be mentored by various heroes and villains... that's right... villains.   The ability to create a custom character is not new to the series, but what is new and refreshing is that there are a lot more options this time around, and I would bet money that the mod community will work tirelessly to add more. The ability to create a female saiyan will draw many to this game on this basis alone. Also, the race of your character will be remarked upon during battles by friends and foes, giving a more 'personalized' touch.   Negative points:  Fans will be disappointed for a few small but negligible reasons. They do not have all of Freiza's transformations, which many people enjoyed about the Tenkaichi Budokai series. While their character roster is very impressive, fans of the series who loved seeing more obscure characters do battle, such as Taopaipai, Pilaf, Kiwi, Zarbon, Dodoria, Bibidi, and so on will be disappointed to see they're not here. However, many fans will doubtlessly overlook these omissions and it is possible that future DLC may add more to the roster. Also, to my knowledge, you cannot play as an Oozaru (great ape) as you could in prior games.   For non-Dragon Ball Z Fans:  Positive Points: The story and voice acting in this entry are some of the strongest in the series so far, and leagues ahead of other fighting games. While Soul Calibur's voice acting and story are, in many cases, embarrassingly bad, you will not feel like skipping cut scenes to avoid ridiculous dialogue in this entry. I found it quite entertaining, as time travel is one of my favorite storytelling devices. Non-Dragon Ball fans will also enjoy the variety, as you can create a custom character from the various races that populate the mythos, each with strengths and weaknesses, and a custom skillset.   Non-fans will also enjoy the RPG-inspired level up system. Training feels actually effective as you begin to crush enemies with greater ease the higher level you go, giving a satisfying feeling of actual progression. There is a great amount of satisfaction in one-hit KOing a once-difficult opponent.  The number of optional missions also keep the game fairly fresh and interesting, when one tires of doing the story missions, many of them increasing the replayability of the game as they come with hidden objectives that you can discover through multiple playthroughs.   Negative Points: There is very little handholding in this entry as far as storytelling goes, as it presumes you know the main story of DBZ. This will probably confuse people who only have a passing knowledge of the story. However, this is negligible as it does well enough to explain the stakes of the battles and you know when you're fighting a bad guy or, conversely, a good guy without it being ham fistedly pointed out to you like you're an imbecile.   The story mode does have a few bugs as well, since it presumes the custom character is male by default, leading to more than a few awkward conversations where my female saiyan is referred to as 'he' and 'his.' This is one glaring error which can take you out of the experience.   Another problem, alluded to earlier, is that every character will feel the same. While DBZ fans will ignore this or even see it as a benefit, everyone else will likely feel like it is a bit cheap and stale. However, with a character roster such as this, it was probably inevitable. Mortal Kombat 9 got away with it, but let's be honest here, fun as it is, Xenoverse is no Mortal Kombat 9. People will probably also be confused by the stat system, as it doesn't really explain what each stat does very well. While I understood what 'health' means intuitively, 'Ki Strikes' is a term I had to look up more than once on the forums to understand it properly as an aspect of one of my stats.   The BIGGEST and most glaring problem with the game is the online connectivity. Since launch, it has been fairly difficult to maintain a connection to the Xenoverse servers. While steam is set to 'online', it will constantly drop you from your singleplayer game to tell you that you've been disconnected, to say nothing of the multiplayer component. While this may be fixed at a future date, for now it remains a fairly prominent black mark against an otherwise good game, and many who paid launch-day prices will be bitterly disappointed. The way to solve this, for the singleplayer, is to set your steam account to offline. This will at least enable you to play the singleplayer game without issue.   Conclusion: Dragon Ball Xenoverse is an incredibly fun game, but lack some critical depth that other fighting game genres seem to provide, and unless you're a fan, I'd recommend waiting until this title goes on sale. It is not worth the 60 dollar price tag. If you ARE a fan, though, this is a game you should purchase at full price to help promote future DLC and games along this line. This is a must-have for any fan.  EDIT: As of 5/5/2015 this game works fine offline and on. Ultimate spamming is a problem in online multiplayer with super saiyans, but its not a lost cause. The right strategy can be made to work around it if you're willing to put in the time.\",\n",
      "\n",
      "\"The Witcher 3: Wild Hunt is everything an RPG should be. The living atmosphere, incredible graphics, engaging characters, and open world makes it dangerously addictive. It's certainly an improvement over the past two Witcher games in many regards, but mostly in that it allows the player to go anywhere they want within the game world. The previous Witcher games limited the player to zones that were locked once the player moved on. In Witcher 3, that is not the case.   While many may disagree, I find the combat system in the game quite engaging. Sure, it isn't your 10/10 combat system, but it's fun and it does challenge you. Speaking of a challenge, the Witcher 3 is true to the Witcher franchise and does offer a challenging quest for the player. It isn't your typical 'hack n' slash n' spam skillz' game. Quite the contrary, you are forced to read about each monster's weakness and abilities to combat them successfully.   Just like the other Witcher games, how you build your character is up to you. You may choose to go the mage path, and defeat your enemies through magic. You could become an alchemical genius and destroy your enemy with bombs and poisoned blades, or simply stick to weapons and become a master warrior. Or if you want to combine certain skill trees, you can do that too. And to give players a nice treat, Geralt is more customizable than ever. You are now free to change his hairstyles and beards in any way you want. The way you play is up to you.  The questing and main story are very engaging and fun. The essential element of choosing how you go about completing a quest, choosing sides, and changing dramatic events makes each playthrough a unique experience. Alongside that, the Witcher 1's inventory system is back and improved, which I was so happy for since I really disliked Witcher 2's inventory system.  Graphics have become quite a controversy, but the truth is that even if there was a downgrade, the game looks beautiful. The textures are extremely good, and the faces of all NPC's look so real, you actually end up thinking you are talking to a real person! How does it compare to Witcher 2? Well, in all honesty, in most cases the Witcher 3 does look much better. The Witcher 2's terrain and certain shaders look slightly better, but all in all, the Witcher 3 IS an improvement regardless of what you may believe.  There is very little wrong with the game. If anything, I would say that movement is a bit clunky, and it does make certain moments in the game suffer. This is especially true in combat, where it almost feels as if there is a delay in the players movement. Performance may also be an issue for some, but I've luckily stayed between 30-40 FPS running med-high settings on my rig.  Overall, the Witcher 3 is perhaps one of the best RPG's I've ever played. No scratch that, it's one of the BEST games I have ever played. You could literally sink hundreds of hours in this games and still find new things to do in it. The atmosphere, diverse quests, strong story driven plot, and amazing character building are all fantastic. If you love RPG's with a challenge (and have a decent rig to play it), then the Witcher 3: Wild Hunt is an obvious choice for you.   Score: 10/10 - Bravo Seal of Approval\",\n",
      "\n"
     ]
    }
   ],
   "source": [
    "for index, row in dataset_2_pos_only[dataset_2_pos_only['num_of_words'] > 512].sample(n=5).iterrows():\n",
    "    print(\"\\\"\"+ row['review_text']+ \"\\\",\")\n",
    "    print()"
   ]
  },
  {
   "cell_type": "code",
   "execution_count": 25,
   "metadata": {},
   "outputs": [
    {
     "name": "stdout",
     "output_type": "stream",
     "text": [
      "\"First of all: I played this game with a controller, and didn't finish it yet, but there are just two of 13 chapters left, so there isn't much to see except of the end of the story. Also, this my personal view and opinion on the game.. :)  + Pros:  &gt; Graphics: The game looks just awesome with nice special effects, especially on the cutscenes! &gt; Setting: A steam-punkish / Sci-Fi game style, that i enjoyed personally, even if some monsters were a bit weird &gt; Character-Design: Characters with their own individual personality that are not like the old hero-stereotype char, even if they sometimes annoyed me because of all their 'what should i do?' moments &gt; Fight-System: New fresh system, something like the ATB system, which is based on different 'classes' which you change during the fights &gt; Leveling-System:  &gt; Port: Pretty okay, played the game with a controller and everything seems to be okay; sometimes the camera doesn't turn properly while running in one direction though  - Cons:  &gt; Gameplay: Very, very linear (!!) gameplay: Slay down enemies, follow the only path form one cutscene to the other. In between some changing of gear and buying of items, bet except that, nothing you can do 'on your own'. :P &gt; Story: The story itself is pretty okay, a classic jrpg story with a modern kind of taste, if i understood right, you have to play FF-XII-2 too, to experience the whole story. So you practically have a half story with this game.. &gt; Story-Telling: Like i said, you just watch the cutscenes for the story part of the game. So its like a semi-interactive movie which was cut into pieces..  &gt; No classic overworld: There are no cities, no npcs no real sidequests (except the cieth mission at the end of the game), and especially no exploring!! Also you can't get back to old levels, because there isn't something like a open world, its more a kind of journey (like i said: very linear) &gt; Summons: Cool looks, but too long animation, also often they doesn't help you out thaaat much (i think personally) &gt; Music: Not from Nobuo Uematsu the genius man, which made many of the popular ff music.. :( Instead there ist just background music, that is quite amtosspheric but in my opinion 'Meh' (especially one jpop-like song ._.) &gt; Weapons &amp; Items: There are many Items that I didn't even use once, the weapons-skilling system is new and okay, if you know how it works (a bit confusion in the beginning). There is no armor, just weapons and accessoires, didn't like it that much.. ________ Conclusion: I'm a big fan of Square and the Final Fantasy series, but this one is the first that didn't impressed me. (Have played five FF games yet, six with this one). For instance, FF7 is my favourite one, with much more love for detail and better over-all style, even if the graphics are pretty bad. So I'ld rather wait for FF7 remake or FFV if graphics are important for you. :) So I won't buy FF XIII-2.. :P\",\n",
      "\n",
      "\"APB is a very...complicated game. Do you want to become a criminal, and just go to town on a city full of innocent people with riches worth taking, and start massive riots against the police and government? Do you want to be a peacekeeper, and maintain order in a broken city by breaking criminal operations and protecting the innocent? Then what the F*** are you doing playing APB Reloaded? This game is NONE of what it looks like on the surface. After putting more hours than I'm ever thought I would, I can say I can make a worthwhile review.  Let's weigh the Pro's and the Con's  Pro's:  *The game, for a free-to-play, is very good looking. The graphics as far as shadowing and detail goes are top-notch.  *The Character Customization is outstanding. You can literally make whatever you want, within reason. But this can also lead to some bad stuff. See Con's for more info.  *The game has regular seasonal events for Easter, Halloween and Christmas. These game modes, sans Easter, are mainly in the Arena 'Fight Club' mode where certain things have been changed to fit the season. The Christmas one is especially good.  *The game has a very large variety of guns, but more can be said about this in the Con's.  *The game does offer variety to activities depending on the faction that you choose. Criminals can do different things than Enforcers and vice-versa  *There are several instances to play in, so you never really feel left out.   Con's:  *The game is a powerhouse to run. Most PC's won't even be able to handle it, and the 'low' settings don't really help. Most people have to use community made mods to lower the settings down even further than the game allows just to play it. That isn't entirely something that's in GamersFirst's control, but the idea that an outside party mod has to be active for some people to even play is a bit offputting.  *The game has seriously unstable connection problems. Countlessly, you will be lagged out of districts, and while you're in the server, you will be bouncing all over the place trying to get a grip on where you're going, only to shoot back several rooms because the server couldn't keep up. This is a glaring issue, and only exacerbates other problems.  *One such problem includes actually landing shots on enemies. This game has some of the most inconsistant damage I've ever seen in a game, and the shot registration is abysmal. You will find yourself losing gunfight after gunfight simply because the other person is better connected to the server than you, or his gun suddenly does more damage than before. Sometimes, your gun will kill someone in 4 shots, and the next person you shoot takes 9-10 shots to put down. This whole game can be summed up as 'Inconsistant.' That's the bottomline.  *Just because there's a lot of guns, doesn't mean they're all different. There are a lot of guns that function exactly like other guns. The Joker Carbine acts just like the STAC-10. The NTEC acts just like the AR-15. This doesn't even touch on the Snipers. Quite literally, the guns are recycled and released to the public for actual money, where they act just like the last gun they sold. This one just looks different.  *There is a large pay-to-win gap in this game. Most guns can be earned in-game, and some guns can even be made permanent. However, most of the time, you'll be renting leased weapons, and these will only last up to 7 days. Some guns you have to actually pay to make them permanent. This is also an issue in the 'Premium' system, where if you pay for a set amount of time, you gain more money and experience toward your standing. While this isn't too bad and is nowhere near as bad as some other games doing this, it's still a bit unfair to the people just getting into the game.  *The game is very confusing at first, and there is no good tutorial. The way it works is, when you start, you have to gain up reputation with certain people to gain rewards, raise your standing with them to get more rewards, and to increase your threat. The higher your win/loss ratio in missions is, the better your threat is. The three primary tiers are Bronze, Silver, and Gold. There are also ranks within that. Nowhere in the game is this explained to you, or at least explained well. You will have no idea what you're doing for a long while.  *The game has horribly unbalanced matchmaking. More often than not, you will be pitted against people who are far better armed, skilled and familiar with the map than you are, and you will be shut down again and again, because the game will refuse to give you people around your level. Your reputation, Threat, or overall level does not affect who you will get matched up against. I have seen Bronze players go up against Gold players and get utterly annihilated. This kind of thing is far from fair.  *The game has one of the absolute worst communities I have ever seen on a MMO, no, a GAME before. The people on this game range from little kids screaming about how bad you are in the chatbox, to grown men whining and complaining about weapons and tactics you're using. And GOD HELP YOU if you're a Bronze or a Silver on this game. To be a Gold, is to be the scum of the earth in most cases. Golds constantly and consistantly berate Silvers and Bronzes for the most mundane of reasons, and will go out of their way to make your time on this game as unpleasant as possible. Very few people will actually answer any questions you have about the game while playing, and are more likely to make fun of you for not knowing than just telling you. This Con is the most deciding of why this game just isn't worth the time.  *Because of the community being as disgusting as it is, this brings up a very big issue in the Character Customization. With the massive scale in which you have control over your character, comes every negative you can think of to compromise it. You will constantly see fat black men with giant, often neon colored, afros in limited to almost no clothing at all running around, or you may even see Adolf Hitler running around. This is also a problem with the fact that the naming system for your characters is unrestricted, so racial and offensive names are abundant. For every good costumed character running around, there's a 'TyroneFriedChicken' to muck it all up.  *While the game likes to parade the idea of 'FairFight' around like it's some form of trophy, the game is still overrun with hackers. With constant new hacking tools emerging every time another is addressed, you'll constantly see this as an issue. And while the response time to have them removed permanently from the game is rather quick(Most of the time), it's still the fact that they're there in the first place that makes this a problem.   In closing, APB Reloaded is an ex-pay to play MMO shooter with subpar action and goofy as hell ragdoll physics. But it's a dying game, and with the community punching more and more holes in the sinking boat that is this game, and further alienating and shunning new players, it will eventually sink completely. I can not recommend this game to anyone with the condition that it's in. All the FairFight updates in the world can't save this game if the community won't help to keep it afloat.\",\n",
      "\n",
      "\"Well, fisrt i must say that i play this game since closed beta and i paid $90 for Legendary Pack. I made a review at the start which was positive but i deleted it and now giving negative point.   I started this game with big hopes but where this game become now is well, they are in a wrong road. I don't like writing huge paragraphs so i want to give pros and cons, you cna understand why i give negative review.  Pros: +Lots of mounts you can use, dragons included. +Character creation +Pets +Crafting system +Taming +Graphics (meh...)  Cons: -No advantage in premium, you wait for them to update the game. In this time non premium users catch you easily. -Potions given with premium doesn't stack. Whether you use your potions or not you will get max 20 heal and stamina potions. Your premium time decreases while in updates too. You can't enter the game but your premium time decreasing. False marketing cheating players... -Boring and unbalanced dungeons and bosses. Mostly you can solo dungeons. -Game has no main goal. You try to get best equipments but there is nothing to do after. -PM made this game totaly taming game or lets say this game becomes a farming game. There are lots of mounts to tame but there is no need to tame them because there is nothing to do with all those mounts. You need one ground and one flying mount to complate the game. PM know this critical problem so they started marketing based on taming. Now all players try to catch heroic mounts but as i said there is no advantage between a heroic mount and standart mount because there is nothing to do after. -Some says this game is not p2w but they are totaly wrong. This game is p2w now and will become more p2w. You need ellun to temper your items. You need ellun to increase your inventory space, mount space, bank space, auction house space. You need ellun to revive after death at the same spot without any debuff. If you don't have ellun you will revive from the dungeon start with a 10 minute debuff which effects lots of your stats. If you die again this debuff stacks and well you can not do anything other than wait which is not good for your group. You need scroll which is becoming expensive in long run. ALSO you need to buy premium. Yes i know i said they are cheating you premium but anyway PM made premium that you need it. If you play without premium you will miss many things and you can't level eassily or finish dungeons. -There are lots of gold sellers, advertising givers, bots andd cheaters. You can't right click on a player name to report him and make him quiet. Well enjoy :) -5 class enter a dungeon but only two class can get something. All players in the group giving same time and effort but only two of them gets some equipmöent. Other three is just looking. Well do you play a game that has no justice? I won't! -Lets say you are one of the lucky two. You are happy to get an equipment. You look its stats after you exit from the dungeon with curiosity and happiness. You are berserker and you see wizard stats on your equipment. You are in a shock. Well you will see this lots of times in this game.  -Action mod is totaly buggy and doesn't work. It doesn't target enemies automaticly for example so your skills go to air.  I can write more cons here but i am tired.  CONCLUSİon: Don't start to play this game!\",\n",
      "\n",
      "\"Sadly I cannot recommend the game, I bought it (being huge fan of top down shooters like Crimsonland) in hope of having a game that would entertain me for couple of days at least... I got a game that enertained me for about 20 min and the next 10 min after that I grew bored and frustrated. The game mechanics is very simple, almost too simple for my taste....  you start a stage with a single gun you choose (7 guns total, they unlock as you progress) and some gernades. The gun has limited ammo which runs out a bit too quick in my taste (especialy the desert eagle ammo) and when that happens you may resort to knife which is pretty effective IMO. On the stage there are spawn points for items, you can pick up ammo or health or gernades there. Also there are few points with weapons on the map so that you can swich gun if you like to the one that is on the specific map point. You can perform doge to try escape the enemies but the problem is the maps are small and there are not open spaces but more like corridors and the enemies spawn so massively that whenever you jump to dogde you just run into a horde of enemies. There are explosive barrels on the map that you can shoot and they will explode damagin enemies but using them in that total chaos is really difficult and not worth the trouble. There are some specific features on some maps like train tracks where every now and then a train passess running over everything in its path, there are some map traps like flames that either activate on their own or you can walk on a big button to activate them. For each killed enemy you pick up small orange balls that fill up your rage meter, when it is filled about 25% you can activate the rage mode in which you turn into a small tornado like Taz the Tasmanian Devil rotating with hyperspeed and cutting everything you pass through like a living chainsaw. The duration depends on how much you filled the rage meter before activating it.  There are also new enemies as you progress. First there are zombies which come later on in different variations, there are also small maggots and also spiders that spit some acid or sth...   So it looks like a great game right? Right?!  But sadly it is not...  Around 5 or something level, there were kamikaze zombies which exploded when near you or when shoot and since that stage the game is total chaos in which you cannot control the situation even in smallest percent... it is just chaos and desperate shooting doging and gathering rage points to survive a wave. After 20 min of playing you start to feel the boredome and lack of excitement even with the new enemies and new gun... there are no RPG elements to keep you interested in your character. You just unlock guns as you progress and that is all.  I really wanted to like this game and bought it with much enthusiasm to play it. but this is sadly a bitter dissapointment. It dosent excite you, it bores you with the overwhelming chaos and lack randomness like Crimsonland had for example (you never knew what weapon you would get and perks when you level up which made your gameplay somehow different each time you played).  I must complement the graphics, they are hand drawn and very nicely animated, especialy the zombies.   The game may satisfy score beating maniacs, this is the only group of people I could recommend the game for. The rest should stay away or buy on a very big sale\",\n",
      "\n",
      "\"[THIS IS MY OPINION AS SOMEONE WHO HASN'T PLAYED MUCH IN THIS GAME GENRE] (Sorry for bad english :/ )  First of all, this game be improved upon, because i think this game has a lot of missing features that needs to be fixed to make gameplay, more playable. But, the game has great potential and I hope these issues will be fixed. When they have been, I know this game will be great.  I currently have given the game a bad review but also given it a positive-mark. That is because I don't want people to think this is a bad game like those 'Early-Access, will fix it after ppl buy' cashgrab-like games. This game is GOOD. When other people write reviews for this game aswell, i will be changing the review mark to negative again, until the developer fixes some of these issues and makes the game more playable, which, then I will be giving this game a positive review and I will be removing this negative review.   The game is nice, it is really a change from them FPS shooters, and the 8-bit graphics is awesome. It plays out nice, and some basic features are added, like zooming, increasing play speed, pausing etc. It's thought out well, but even these features have some parts missing. Increasing speed only has one setting, and that is 3 times faster than usual. This feature bugs out sometimes and no difference in speed occurs.  The movement in the game is nice. That is, you play as the captain of your crew and you move around engaging with certain stuff. But, that feature bugs out aswell. Sometimes while moving, your character will just stop moving and glitch out in a certain building. When you try to move him to another direction, he will only move 1 STEP AT A TIME. This needs to be fixed too.  Building stuff is really hard. When you want to build a building, you only get the name of your building, and the cost. There is no information about what it does, and how much resource it will cost (like workers who need gold). Your only chance is the name it has, and that isn't that helpful either. When you can't build on a certain spot, your builder guy will find the best spot for this build. If there is nowhere available for it, the build will be cancelled. Rather than cancelling, I suggest that your builder guy would scope out the entire island you are in, and look if certain structures are built on the grounds that have the requirements of your wanted build. This would be much more helpful than cancelling the build right away, at least he should ask. Combat. Combat is really difficult to accomplish. When somebody is engaged, the game creates blood sprites on the ground. This would be much trouble normally, but these blood sprites cover EVERYWHERE. While fighting, I couldn't see my character, or the enemy. This needs to be removed, or the blood should be reduced, or defense in this game would be so difficult. I haven't done much combat, but I can assure you that it is too difficult right now. Overall, the cost of building structures, and the working cost of pirates are way too high for starting off. It isn't impossible, but while grinding those resources, I got constantly attacked and I had to destroy some structures to build the new one I wanted. I kept losing my men. This can be balanced by reducing the overall cost of buildings, or giving players more resources when they start. Or being able to dismantle and loot ships of people who attacked you might also be a good idea.  Also, there is no tutorial. None. You get a random text popup at the start of the game, and nothing else. Nothing is explained. You're expected to know everything off the start. I saw the game and immediately wanted to play, so I bought it, installed it, and booted it up. When I got into a game, I wasn't asked If I wanted a tutorial. The settings menu also needs a lot of explanation. A LOT.  To sum up, this game requires you to be experienced with this type of game. It is incomplete, and needs to be fixed. The fighting mechanic is bad, the building system requires much more than point and build. There is very limited resources, considering you spawn randomly on some islands which are so small, you can only fit like 3-4 buildings before you run out of space, which you need a LOT MORE. Nothing is explained in the game, which is essential in a game like this.   If you need a tl;dr, this is it here. DO NOT BUY THIS GAME AT THIS STATE. IT IS INCOMPLETE, AND NEEDS MUCH FIXING. NOTHING IS EXPLAINED IN THIS GAME. NOTHING. THIS DOESN'T MEAN THAT YOU SHOULD NEVER LOOK AT THE GAME AGAIN. IT IS NICE, JUST NEEDS A BIT TWEAKING. I SUGGEST YOU LOOK AT IT AGAIN IN A FEW MONTHS.\",\n",
      "\n"
     ]
    }
   ],
   "source": [
    "for index, row in dataset_2_neg_only[dataset_2_neg_only['num_of_words'] > 512].sample(n=5).iterrows():\n",
    "    print(\"\\\"\"+ row['review_text']+ \"\\\",\")\n",
    "    print()"
   ]
  },
  {
   "cell_type": "code",
   "execution_count": 18,
   "metadata": {},
   "outputs": [
    {
     "data": {
      "text/plain": [
       "<Axes: xlabel='num_of_words', ylabel='Count'>"
      ]
     },
     "execution_count": 18,
     "metadata": {},
     "output_type": "execute_result"
    },
    {
     "data": {
      "image/png": "[encoded data removed]",
      "text/plain": [
       "<Figure size 640x480 with 1 Axes>"
      ]
     },
     "metadata": {},
     "output_type": "display_data"
    }
   ],
   "source": [
    "sns.histplot(data=dataset_2_neg_only, x='num_of_words',bins=30,color='orange')"
   ]
  },
  {
   "cell_type": "markdown",
   "metadata": {},
   "source": [
    "Distribution of words in all review texts\n",
    "\n",
    "We will perform that with stopwords and w/out stopwords"
   ]
  },
  {
   "cell_type": "code",
   "execution_count": 35,
   "metadata": {},
   "outputs": [],
   "source": [
    "dataset['list_words'] = dataset['review_text'].apply(lambda x:str(x).split())"
   ]
  },
  {
   "cell_type": "code",
   "execution_count": 38,
   "metadata": {},
   "outputs": [
    {
     "data": {
      "text/html": [
       "<style type=\"text/css\">\n",
       "#T_bc27c_row0_col1 {\n",
       "  background-color: #08306b;\n",
       "  color: #f1f1f1;\n",
       "}\n",
       "#T_bc27c_row1_col1 {\n",
       "  background-color: #4493c7;\n",
       "  color: #f1f1f1;\n",
       "}\n",
       "#T_bc27c_row2_col1 {\n",
       "  background-color: #539ecd;\n",
       "  color: #f1f1f1;\n",
       "}\n",
       "#T_bc27c_row3_col1 {\n",
       "  background-color: #56a0ce;\n",
       "  color: #f1f1f1;\n",
       "}\n",
       "#T_bc27c_row4_col1 {\n",
       "  background-color: #95c5df;\n",
       "  color: #000000;\n",
       "}\n",
       "#T_bc27c_row5_col1 {\n",
       "  background-color: #a4cce3;\n",
       "  color: #000000;\n",
       "}\n",
       "#T_bc27c_row6_col1 {\n",
       "  background-color: #afd1e7;\n",
       "  color: #000000;\n",
       "}\n",
       "#T_bc27c_row7_col1 {\n",
       "  background-color: #b4d3e9;\n",
       "  color: #000000;\n",
       "}\n",
       "#T_bc27c_row8_col1 {\n",
       "  background-color: #bed8ec;\n",
       "  color: #000000;\n",
       "}\n",
       "#T_bc27c_row9_col1 {\n",
       "  background-color: #d1e2f3;\n",
       "  color: #000000;\n",
       "}\n",
       "#T_bc27c_row10_col1 {\n",
       "  background-color: #d7e6f5;\n",
       "  color: #000000;\n",
       "}\n",
       "#T_bc27c_row11_col1 {\n",
       "  background-color: #deebf7;\n",
       "  color: #000000;\n",
       "}\n",
       "#T_bc27c_row12_col1 {\n",
       "  background-color: #e4eff9;\n",
       "  color: #000000;\n",
       "}\n",
       "#T_bc27c_row13_col1 {\n",
       "  background-color: #e5eff9;\n",
       "  color: #000000;\n",
       "}\n",
       "#T_bc27c_row14_col1 {\n",
       "  background-color: #ecf4fb;\n",
       "  color: #000000;\n",
       "}\n",
       "#T_bc27c_row15_col1 {\n",
       "  background-color: #edf4fc;\n",
       "  color: #000000;\n",
       "}\n",
       "#T_bc27c_row16_col1, #T_bc27c_row17_col1 {\n",
       "  background-color: #f5fafe;\n",
       "  color: #000000;\n",
       "}\n",
       "#T_bc27c_row18_col1, #T_bc27c_row19_col1 {\n",
       "  background-color: #f7fbff;\n",
       "  color: #000000;\n",
       "}\n",
       "</style>\n",
       "<table id=\"T_bc27c\">\n",
       "  <thead>\n",
       "    <tr>\n",
       "      <th class=\"blank level0\" >&nbsp;</th>\n",
       "      <th id=\"T_bc27c_level0_col0\" class=\"col_heading level0 col0\" >Common_words</th>\n",
       "      <th id=\"T_bc27c_level0_col1\" class=\"col_heading level0 col1\" >count</th>\n",
       "    </tr>\n",
       "  </thead>\n",
       "  <tbody>\n",
       "    <tr>\n",
       "      <th id=\"T_bc27c_level0_row0\" class=\"row_heading level0 row0\" >0</th>\n",
       "      <td id=\"T_bc27c_row0_col0\" class=\"data row0 col0\" >the</td>\n",
       "      <td id=\"T_bc27c_row0_col1\" class=\"data row0 col1\" >11970658</td>\n",
       "    </tr>\n",
       "    <tr>\n",
       "      <th id=\"T_bc27c_level0_row1\" class=\"row_heading level0 row1\" >1</th>\n",
       "      <td id=\"T_bc27c_row1_col0\" class=\"data row1 col0\" >and</td>\n",
       "      <td id=\"T_bc27c_row1_col1\" class=\"data row1 col1\" >8062812</td>\n",
       "    </tr>\n",
       "    <tr>\n",
       "      <th id=\"T_bc27c_level0_row2\" class=\"row_heading level0 row2\" >2</th>\n",
       "      <td id=\"T_bc27c_row2_col0\" class=\"data row2 col0\" >a</td>\n",
       "      <td id=\"T_bc27c_row2_col1\" class=\"data row2 col1\" >7584539</td>\n",
       "    </tr>\n",
       "    <tr>\n",
       "      <th id=\"T_bc27c_level0_row3\" class=\"row_heading level0 row3\" >3</th>\n",
       "      <td id=\"T_bc27c_row3_col0\" class=\"data row3 col0\" >to</td>\n",
       "      <td id=\"T_bc27c_row3_col1\" class=\"data row3 col1\" >7520456</td>\n",
       "    </tr>\n",
       "    <tr>\n",
       "      <th id=\"T_bc27c_level0_row4\" class=\"row_heading level0 row4\" >4</th>\n",
       "      <td id=\"T_bc27c_row4_col0\" class=\"data row4 col0\" >of</td>\n",
       "      <td id=\"T_bc27c_row4_col1\" class=\"data row4 col1\" >5805608</td>\n",
       "    </tr>\n",
       "    <tr>\n",
       "      <th id=\"T_bc27c_level0_row5\" class=\"row_heading level0 row5\" >5</th>\n",
       "      <td id=\"T_bc27c_row5_col0\" class=\"data row5 col0\" >is</td>\n",
       "      <td id=\"T_bc27c_row5_col1\" class=\"data row5 col1\" >5377929</td>\n",
       "    </tr>\n",
       "    <tr>\n",
       "      <th id=\"T_bc27c_level0_row6\" class=\"row_heading level0 row6\" >6</th>\n",
       "      <td id=\"T_bc27c_row6_col0\" class=\"data row6 col0\" >game</td>\n",
       "      <td id=\"T_bc27c_row6_col1\" class=\"data row6 col1\" >5022950</td>\n",
       "    </tr>\n",
       "    <tr>\n",
       "      <th id=\"T_bc27c_level0_row7\" class=\"row_heading level0 row7\" >7</th>\n",
       "      <td id=\"T_bc27c_row7_col0\" class=\"data row7 col0\" >I</td>\n",
       "      <td id=\"T_bc27c_row7_col1\" class=\"data row7 col1\" >4888970</td>\n",
       "    </tr>\n",
       "    <tr>\n",
       "      <th id=\"T_bc27c_level0_row8\" class=\"row_heading level0 row8\" >8</th>\n",
       "      <td id=\"T_bc27c_row8_col0\" class=\"data row8 col0\" >you</td>\n",
       "      <td id=\"T_bc27c_row8_col1\" class=\"data row8 col1\" >4550865</td>\n",
       "    </tr>\n",
       "    <tr>\n",
       "      <th id=\"T_bc27c_level0_row9\" class=\"row_heading level0 row9\" >9</th>\n",
       "      <td id=\"T_bc27c_row9_col0\" class=\"data row9 col0\" >it</td>\n",
       "      <td id=\"T_bc27c_row9_col1\" class=\"data row9 col1\" >3720754</td>\n",
       "    </tr>\n",
       "    <tr>\n",
       "      <th id=\"T_bc27c_level0_row10\" class=\"row_heading level0 row10\" >10</th>\n",
       "      <td id=\"T_bc27c_row10_col0\" class=\"data row10 col0\" >this</td>\n",
       "      <td id=\"T_bc27c_row10_col1\" class=\"data row10 col1\" >3408317</td>\n",
       "    </tr>\n",
       "    <tr>\n",
       "      <th id=\"T_bc27c_level0_row11\" class=\"row_heading level0 row11\" >11</th>\n",
       "      <td id=\"T_bc27c_row11_col0\" class=\"data row11 col0\" >in</td>\n",
       "      <td id=\"T_bc27c_row11_col1\" class=\"data row11 col1\" >3055977</td>\n",
       "    </tr>\n",
       "    <tr>\n",
       "      <th id=\"T_bc27c_level0_row12\" class=\"row_heading level0 row12\" >12</th>\n",
       "      <td id=\"T_bc27c_row12_col0\" class=\"data row12 col0\" >for</td>\n",
       "      <td id=\"T_bc27c_row12_col1\" class=\"data row12 col1\" >2712156</td>\n",
       "    </tr>\n",
       "    <tr>\n",
       "      <th id=\"T_bc27c_level0_row13\" class=\"row_heading level0 row13\" >13</th>\n",
       "      <td id=\"T_bc27c_row13_col0\" class=\"data row13 col0\" >that</td>\n",
       "      <td id=\"T_bc27c_row13_col1\" class=\"data row13 col1\" >2674617</td>\n",
       "    </tr>\n",
       "    <tr>\n",
       "      <th id=\"T_bc27c_level0_row14\" class=\"row_heading level0 row14\" >14</th>\n",
       "      <td id=\"T_bc27c_row14_col0\" class=\"data row14 col0\" >with</td>\n",
       "      <td id=\"T_bc27c_row14_col1\" class=\"data row14 col1\" >2305894</td>\n",
       "    </tr>\n",
       "    <tr>\n",
       "      <th id=\"T_bc27c_level0_row15\" class=\"row_heading level0 row15\" >15</th>\n",
       "      <td id=\"T_bc27c_row15_col0\" class=\"data row15 col0\" >but</td>\n",
       "      <td id=\"T_bc27c_row15_col1\" class=\"data row15 col1\" >2266196</td>\n",
       "    </tr>\n",
       "    <tr>\n",
       "      <th id=\"T_bc27c_level0_row16\" class=\"row_heading level0 row16\" >16</th>\n",
       "      <td id=\"T_bc27c_row16_col0\" class=\"data row16 col0\" >are</td>\n",
       "      <td id=\"T_bc27c_row16_col1\" class=\"data row16 col1\" >1854235</td>\n",
       "    </tr>\n",
       "    <tr>\n",
       "      <th id=\"T_bc27c_level0_row17\" class=\"row_heading level0 row17\" >17</th>\n",
       "      <td id=\"T_bc27c_row17_col0\" class=\"data row17 col0\" >The</td>\n",
       "      <td id=\"T_bc27c_row17_col1\" class=\"data row17 col1\" >1829281</td>\n",
       "    </tr>\n",
       "    <tr>\n",
       "      <th id=\"T_bc27c_level0_row18\" class=\"row_heading level0 row18\" >18</th>\n",
       "      <td id=\"T_bc27c_row18_col0\" class=\"data row18 col0\" >on</td>\n",
       "      <td id=\"T_bc27c_row18_col1\" class=\"data row18 col1\" >1773828</td>\n",
       "    </tr>\n",
       "    <tr>\n",
       "      <th id=\"T_bc27c_level0_row19\" class=\"row_heading level0 row19\" >19</th>\n",
       "      <td id=\"T_bc27c_row19_col0\" class=\"data row19 col0\" >have</td>\n",
       "      <td id=\"T_bc27c_row19_col1\" class=\"data row19 col1\" >1739111</td>\n",
       "    </tr>\n",
       "  </tbody>\n",
       "</table>\n"
      ],
      "text/plain": [
       "<pandas.io.formats.style.Styler at 0x7f934a668490>"
      ]
     },
     "execution_count": 38,
     "metadata": {},
     "output_type": "execute_result"
    }
   ],
   "source": [
    "top = Counter([item for sublist in dataset['list_words'] for item in sublist])\n",
    "temp = pd.DataFrame(top.most_common(20))\n",
    "temp.columns = ['Common_words','count']\n",
    "temp.style.background_gradient(cmap='Blues')"
   ]
  },
  {
   "cell_type": "code",
   "execution_count": 40,
   "metadata": {},
   "outputs": [],
   "source": [
    "# create a dataset with cleaning performed\n",
    "\n",
    "dataset_cleaned = dataset.copy(deep=True)"
   ]
  },
  {
   "cell_type": "code",
   "execution_count": 41,
   "metadata": {},
   "outputs": [],
   "source": [
    "# clean basic characters\n",
    "def clean(raw):\n",
    "    \"\"\" Remove hyperlinks and markup \"\"\"\n",
    "    result = re.sub(\"<[a][^>]*>(.+?)</[a]>\", 'Link.', raw)\n",
    "    result = re.sub('&gt;', \"\", result)\n",
    "    result = re.sub('&#x27;', \"'\", result)\n",
    "    result = re.sub('&quot;', '\"', result)\n",
    "    result = re.sub('&#x2F;', ' ', result)\n",
    "    result = re.sub('<p>', ' ', result)\n",
    "    result = re.sub('</i>', '', result)\n",
    "    result = re.sub('&#62;', '', result)\n",
    "    result = re.sub('<i>', ' ', result)\n",
    "    result = re.sub(\"\\n\", '', result)\n",
    "    return result"
   ]
  },
  {
   "cell_type": "code",
   "execution_count": 42,
   "metadata": {},
   "outputs": [],
   "source": [
    "# remove numerics (maybe not required in BERT)\n",
    "def remove_num(texts):\n",
    "   output = re.sub(r'\\d+', '', texts)\n",
    "   return output"
   ]
  },
  {
   "cell_type": "code",
   "execution_count": 43,
   "metadata": {},
   "outputs": [],
   "source": [
    "# remove emojis\n",
    "def deEmojify(x):\n",
    "    regrex_pattern = re.compile(pattern = \"[\"\n",
    "        u\"\\U0001F600-\\U0001F64F\"  # emoticons\n",
    "        u\"\\U0001F300-\\U0001F5FF\"  # symbols & pictographs\n",
    "        u\"\\U0001F680-\\U0001F6FF\"  # transport & map symbols\n",
    "        u\"\\U0001F1E0-\\U0001F1FF\"  # flags (iOS)\n",
    "                           \"]+\", flags = re.UNICODE)\n",
    "    return regrex_pattern.sub(r'', x)"
   ]
  },
  {
   "cell_type": "code",
   "execution_count": 44,
   "metadata": {},
   "outputs": [],
   "source": [
    "def unify_whitespaces(x):\n",
    "    cleaned_string = re.sub(' +', ' ', x)\n",
    "    return cleaned_string "
   ]
  },
  {
   "cell_type": "code",
   "execution_count": 45,
   "metadata": {},
   "outputs": [],
   "source": [
    "# remove special symbols\n",
    "def remove_symbols(x):\n",
    "    cleaned_string = re.sub(r\"[^a-zA-Z0-9?!.,]+\", ' ', x)\n",
    "    return cleaned_string"
   ]
  },
  {
   "cell_type": "code",
   "execution_count": 46,
   "metadata": {},
   "outputs": [],
   "source": [
    "# remove punctuation (just for analysis, maybe not required in BERT)\n",
    "def remove_punctuation(text):\n",
    "    final = \"\".join(u for u in text if u not in (\"?\", \".\", \";\", \":\",  \"!\",'\"',','))\n",
    "    return final"
   ]
  },
  {
   "cell_type": "markdown",
   "metadata": {},
   "source": [
    "### remove stopwords\n",
    "\n",
    "Stopwords are words that occur frequently in a language and are often grammatical in nature, such as articles (e.g., \"the,\" \"a\"), prepositions (e.g., \"in,\" \"on\"), conjunctions (e.g., \"and,\" \"but\"), and pronouns (e.g., \"he,\" \"she\"). These words are necessary for constructing sentences and conveying grammatical structure, but they often do not contribute much to the overall meaning of the text.\n",
    "\n",
    "- noise reduction\n",
    "- Improved Analysis Accuracy\n",
    "- faster processing"
   ]
  },
  {
   "cell_type": "code",
   "execution_count": 47,
   "metadata": {},
   "outputs": [],
   "source": [
    "from nltk.stem import PorterStemmer\n",
    "from nltk import WordNetLemmatizer\n",
    "\n",
    "stop=set(stopwords.words(\"english\"))\n",
    "stemmer=PorterStemmer()\n",
    "lemma=WordNetLemmatizer()\n",
    "\n",
    "def remove_stopword(text):\n",
    "   text=[word.lower() for word in text.split() if word.lower() not in stop]\n",
    "   return \" \".join(text)"
   ]
  },
  {
   "cell_type": "markdown",
   "metadata": {},
   "source": [
    "### use stemming to normalize words\n",
    "\n",
    "Reduce the words to its stem to reduce dimension.\n",
    "e.g. \n",
    "\n",
    "cared ----> care\n",
    "\n",
    "university ----> univers\n",
    "\n",
    "fairly ----> fair\n",
    "\n",
    "easily ----> easili\n",
    "\n",
    "singing ----> sing\n",
    "\n",
    "sings ----> sing\n",
    "\n",
    "sung ----> sung\n",
    "\n",
    "singer ----> singer\n",
    "\n",
    "sportingly ----> sport"
   ]
  },
  {
   "cell_type": "code",
   "execution_count": 48,
   "metadata": {},
   "outputs": [],
   "source": [
    "from nltk.corpus import stopwords\n",
    "from nltk.stem import SnowballStemmer\n",
    "def stemming(text):\n",
    "   stem=[]\n",
    "   # stopword = stopwords.words('english')\n",
    "   snowball_stemmer = SnowballStemmer('english')\n",
    "   word_tokens = nltk.word_tokenize(text)\n",
    "   stemmed_word = [snowball_stemmer.stem(word) for word in word_tokens]\n",
    "   stem=' '.join(stemmed_word)\n",
    "   return stem"
   ]
  },
  {
   "cell_type": "code",
   "execution_count": 49,
   "metadata": {},
   "outputs": [],
   "source": [
    "def cleaning(df,review):\n",
    "    df[review] = df[review].apply(clean)\n",
    "    df[review] = df[review].apply(deEmojify)\n",
    "    df[review] = df[review].str.lower()\n",
    "    df[review] = df[review].apply(remove_num)\n",
    "    df[review] = df[review].apply(remove_symbols)\n",
    "    df[review] = df[review].apply(remove_punctuation)\n",
    "    df[review] = df[review].apply(remove_stopword)\n",
    "    df[review] = df[review].apply(unify_whitespaces)\n",
    "    df[review] = df[review].apply(stemming)"
   ]
  },
  {
   "cell_type": "code",
   "execution_count": 50,
   "metadata": {},
   "outputs": [],
   "source": [
    "cleaning(dataset_cleaned,'review_text')"
   ]
  },
  {
   "cell_type": "code",
   "execution_count": 51,
   "metadata": {},
   "outputs": [],
   "source": [
    "dataset_cleaned['list_words'] = dataset_cleaned['review_text'].apply(lambda x:str(x).split())"
   ]
  },
  {
   "cell_type": "code",
   "execution_count": 54,
   "metadata": {},
   "outputs": [
    {
     "data": {
      "text/html": [
       "<style type=\"text/css\">\n",
       "#T_e5522_row0_col1 {\n",
       "  background-color: #08306b;\n",
       "  color: #f1f1f1;\n",
       "}\n",
       "#T_e5522_row1_col1 {\n",
       "  background-color: #c8dcf0;\n",
       "  color: #000000;\n",
       "}\n",
       "#T_e5522_row2_col1 {\n",
       "  background-color: #dbe9f6;\n",
       "  color: #000000;\n",
       "}\n",
       "#T_e5522_row3_col1 {\n",
       "  background-color: #e2edf8;\n",
       "  color: #000000;\n",
       "}\n",
       "#T_e5522_row4_col1, #T_e5522_row5_col1 {\n",
       "  background-color: #e7f1fa;\n",
       "  color: #000000;\n",
       "}\n",
       "#T_e5522_row6_col1, #T_e5522_row7_col1 {\n",
       "  background-color: #e9f2fa;\n",
       "  color: #000000;\n",
       "}\n",
       "#T_e5522_row8_col1 {\n",
       "  background-color: #ecf4fb;\n",
       "  color: #000000;\n",
       "}\n",
       "#T_e5522_row9_col1 {\n",
       "  background-color: #edf4fc;\n",
       "  color: #000000;\n",
       "}\n",
       "#T_e5522_row10_col1 {\n",
       "  background-color: #f0f6fd;\n",
       "  color: #000000;\n",
       "}\n",
       "#T_e5522_row11_col1 {\n",
       "  background-color: #f1f7fd;\n",
       "  color: #000000;\n",
       "}\n",
       "#T_e5522_row12_col1 {\n",
       "  background-color: #f2f8fd;\n",
       "  color: #000000;\n",
       "}\n",
       "#T_e5522_row13_col1 {\n",
       "  background-color: #f4f9fe;\n",
       "  color: #000000;\n",
       "}\n",
       "#T_e5522_row14_col1 {\n",
       "  background-color: #f5fafe;\n",
       "  color: #000000;\n",
       "}\n",
       "#T_e5522_row15_col1, #T_e5522_row16_col1, #T_e5522_row17_col1, #T_e5522_row18_col1, #T_e5522_row19_col1 {\n",
       "  background-color: #f7fbff;\n",
       "  color: #000000;\n",
       "}\n",
       "</style>\n",
       "<table id=\"T_e5522\">\n",
       "  <thead>\n",
       "    <tr>\n",
       "      <th class=\"blank level0\" >&nbsp;</th>\n",
       "      <th id=\"T_e5522_level0_col0\" class=\"col_heading level0 col0\" >Common_words</th>\n",
       "      <th id=\"T_e5522_level0_col1\" class=\"col_heading level0 col1\" >count</th>\n",
       "    </tr>\n",
       "  </thead>\n",
       "  <tbody>\n",
       "    <tr>\n",
       "      <th id=\"T_e5522_level0_row0\" class=\"row_heading level0 row0\" >0</th>\n",
       "      <td id=\"T_e5522_row0_col0\" class=\"data row0 col0\" >game</td>\n",
       "      <td id=\"T_e5522_row0_col1\" class=\"data row0 col1\" >8396572</td>\n",
       "    </tr>\n",
       "    <tr>\n",
       "      <th id=\"T_e5522_level0_row1\" class=\"row_heading level0 row1\" >1</th>\n",
       "      <td id=\"T_e5522_row1_col0\" class=\"data row1 col0\" >play</td>\n",
       "      <td id=\"T_e5522_row1_col1\" class=\"data row1 col1\" >2441601</td>\n",
       "    </tr>\n",
       "    <tr>\n",
       "      <th id=\"T_e5522_level0_row2\" class=\"row_heading level0 row2\" >2</th>\n",
       "      <td id=\"T_e5522_row2_col0\" class=\"data row2 col0\" >like</td>\n",
       "      <td id=\"T_e5522_row2_col1\" class=\"data row2 col1\" >1686181</td>\n",
       "    </tr>\n",
       "    <tr>\n",
       "      <th id=\"T_e5522_level0_row3\" class=\"row_heading level0 row3\" >3</th>\n",
       "      <td id=\"T_e5522_row3_col0\" class=\"data row3 col0\" >get</td>\n",
       "      <td id=\"T_e5522_row3_col1\" class=\"data row3 col1\" >1411174</td>\n",
       "    </tr>\n",
       "    <tr>\n",
       "      <th id=\"T_e5522_level0_row4\" class=\"row_heading level0 row4\" >4</th>\n",
       "      <td id=\"T_e5522_row4_col0\" class=\"data row4 col0\" >one</td>\n",
       "      <td id=\"T_e5522_row4_col1\" class=\"data row4 col1\" >1191743</td>\n",
       "    </tr>\n",
       "    <tr>\n",
       "      <th id=\"T_e5522_level0_row5\" class=\"row_heading level0 row5\" >5</th>\n",
       "      <td id=\"T_e5522_row5_col0\" class=\"data row5 col0\" >good</td>\n",
       "      <td id=\"T_e5522_row5_col1\" class=\"data row5 col1\" >1174170</td>\n",
       "    </tr>\n",
       "    <tr>\n",
       "      <th id=\"T_e5522_level0_row6\" class=\"row_heading level0 row6\" >6</th>\n",
       "      <td id=\"T_e5522_row6_col0\" class=\"data row6 col0\" >fun</td>\n",
       "      <td id=\"T_e5522_row6_col1\" class=\"data row6 col1\" >1128581</td>\n",
       "    </tr>\n",
       "    <tr>\n",
       "      <th id=\"T_e5522_level0_row7\" class=\"row_heading level0 row7\" >7</th>\n",
       "      <td id=\"T_e5522_row7_col0\" class=\"data row7 col0\" >time</td>\n",
       "      <td id=\"T_e5522_row7_col1\" class=\"data row7 col1\" >1120780</td>\n",
       "    </tr>\n",
       "    <tr>\n",
       "      <th id=\"T_e5522_level0_row8\" class=\"row_heading level0 row8\" >8</th>\n",
       "      <td id=\"T_e5522_row8_col0\" class=\"data row8 col0\" >great</td>\n",
       "      <td id=\"T_e5522_row8_col1\" class=\"data row8 col1\" >1015484</td>\n",
       "    </tr>\n",
       "    <tr>\n",
       "      <th id=\"T_e5522_level0_row9\" class=\"row_heading level0 row9\" >9</th>\n",
       "      <td id=\"T_e5522_row9_col0\" class=\"data row9 col0\" >realli</td>\n",
       "      <td id=\"T_e5522_row9_col1\" class=\"data row9 col1\" >973986</td>\n",
       "    </tr>\n",
       "    <tr>\n",
       "      <th id=\"T_e5522_level0_row10\" class=\"row_heading level0 row10\" >10</th>\n",
       "      <td id=\"T_e5522_row10_col0\" class=\"data row10 col0\" >stori</td>\n",
       "      <td id=\"T_e5522_row10_col1\" class=\"data row10 col1\" >841614</td>\n",
       "    </tr>\n",
       "    <tr>\n",
       "      <th id=\"T_e5522_level0_row11\" class=\"row_heading level0 row11\" >11</th>\n",
       "      <td id=\"T_e5522_row11_col0\" class=\"data row11 col0\" >make</td>\n",
       "      <td id=\"T_e5522_row11_col1\" class=\"data row11 col1\" >835365</td>\n",
       "    </tr>\n",
       "    <tr>\n",
       "      <th id=\"T_e5522_level0_row12\" class=\"row_heading level0 row12\" >12</th>\n",
       "      <td id=\"T_e5522_row12_col0\" class=\"data row12 col0\" >would</td>\n",
       "      <td id=\"T_e5522_row12_col1\" class=\"data row12 col1\" >761172</td>\n",
       "    </tr>\n",
       "    <tr>\n",
       "      <th id=\"T_e5522_level0_row13\" class=\"row_heading level0 row13\" >13</th>\n",
       "      <td id=\"T_e5522_row13_col0\" class=\"data row13 col0\" >even</td>\n",
       "      <td id=\"T_e5522_row13_col1\" class=\"data row13 col1\" >696156</td>\n",
       "    </tr>\n",
       "    <tr>\n",
       "      <th id=\"T_e5522_level0_row14\" class=\"row_heading level0 row14\" >14</th>\n",
       "      <td id=\"T_e5522_row14_col0\" class=\"data row14 col0\" >much</td>\n",
       "      <td id=\"T_e5522_row14_col1\" class=\"data row14 col1\" >640535</td>\n",
       "    </tr>\n",
       "    <tr>\n",
       "      <th id=\"T_e5522_level0_row15\" class=\"row_heading level0 row15\" >15</th>\n",
       "      <td id=\"T_e5522_row15_col0\" class=\"data row15 col0\" >well</td>\n",
       "      <td id=\"T_e5522_row15_col1\" class=\"data row15 col1\" >591733</td>\n",
       "    </tr>\n",
       "    <tr>\n",
       "      <th id=\"T_e5522_level0_row16\" class=\"row_heading level0 row16\" >16</th>\n",
       "      <td id=\"T_e5522_row16_col0\" class=\"data row16 col0\" >love</td>\n",
       "      <td id=\"T_e5522_row16_col1\" class=\"data row16 col1\" >591710</td>\n",
       "    </tr>\n",
       "    <tr>\n",
       "      <th id=\"T_e5522_level0_row17\" class=\"row_heading level0 row17\" >17</th>\n",
       "      <td id=\"T_e5522_row17_col0\" class=\"data row17 col0\" >best</td>\n",
       "      <td id=\"T_e5522_row17_col1\" class=\"data row17 col1\" >585832</td>\n",
       "    </tr>\n",
       "    <tr>\n",
       "      <th id=\"T_e5522_level0_row18\" class=\"row_heading level0 row18\" >18</th>\n",
       "      <td id=\"T_e5522_row18_col0\" class=\"data row18 col0\" >go</td>\n",
       "      <td id=\"T_e5522_row18_col1\" class=\"data row18 col1\" >585762</td>\n",
       "    </tr>\n",
       "    <tr>\n",
       "      <th id=\"T_e5522_level0_row19\" class=\"row_heading level0 row19\" >19</th>\n",
       "      <td id=\"T_e5522_row19_col0\" class=\"data row19 col0\" >feel</td>\n",
       "      <td id=\"T_e5522_row19_col1\" class=\"data row19 col1\" >561969</td>\n",
       "    </tr>\n",
       "  </tbody>\n",
       "</table>\n"
      ],
      "text/plain": [
       "<pandas.io.formats.style.Styler at 0x7f8b9dd006a0>"
      ]
     },
     "execution_count": 54,
     "metadata": {},
     "output_type": "execute_result"
    }
   ],
   "source": [
    "top2 = Counter([item for sublist in dataset_cleaned['list_words'] for item in sublist])\n",
    "temp2 = pd.DataFrame(top2.most_common(20))\n",
    "temp2.columns = ['Common_words','count']\n",
    "temp2.style.background_gradient(cmap='Blues')"
   ]
  },
  {
   "cell_type": "code",
   "execution_count": 55,
   "metadata": {},
   "outputs": [
    {
     "data": {
      "text/plain": [
       "<Axes: xlabel='count', ylabel='Common_words'>"
      ]
     },
     "execution_count": 55,
     "metadata": {},
     "output_type": "execute_result"
    },
    {
     "data": {
      "image/png": "[encoded data removed]",
      "text/plain": [
       "<Figure size 640x480 with 1 Axes>"
      ]
     },
     "metadata": {},
     "output_type": "display_data"
    }
   ],
   "source": [
    "sns.set_theme(style=\"whitegrid\")\n",
    "sns.barplot(x=\"count\", y=\"Common_words\", data=temp2)"
   ]
  },
  {
   "cell_type": "markdown",
   "metadata": {},
   "source": [
    "If we break into positive and negative comments..."
   ]
  },
  {
   "cell_type": "code",
   "execution_count": 56,
   "metadata": {},
   "outputs": [],
   "source": [
    "dataset_cleaned_pos_only = dataset_cleaned[dataset_cleaned['review_score'] == 1]\n",
    "dataset_cleaned_neg_only = dataset_cleaned[dataset_cleaned['review_score'] == 0]"
   ]
  },
  {
   "cell_type": "code",
   "execution_count": 57,
   "metadata": {},
   "outputs": [
    {
     "data": {
      "text/html": [
       "<style type=\"text/css\">\n",
       "#T_949b4_row0_col1 {\n",
       "  background-color: #08306b;\n",
       "  color: #f1f1f1;\n",
       "}\n",
       "#T_949b4_row1_col1 {\n",
       "  background-color: #c7dbef;\n",
       "  color: #000000;\n",
       "}\n",
       "#T_949b4_row2_col1 {\n",
       "  background-color: #dbe9f6;\n",
       "  color: #000000;\n",
       "}\n",
       "#T_949b4_row3_col1 {\n",
       "  background-color: #e3eef8;\n",
       "  color: #000000;\n",
       "}\n",
       "#T_949b4_row4_col1, #T_949b4_row5_col1, #T_949b4_row6_col1 {\n",
       "  background-color: #e6f0f9;\n",
       "  color: #000000;\n",
       "}\n",
       "#T_949b4_row7_col1 {\n",
       "  background-color: #e8f1fa;\n",
       "  color: #000000;\n",
       "}\n",
       "#T_949b4_row8_col1 {\n",
       "  background-color: #eaf2fb;\n",
       "  color: #000000;\n",
       "}\n",
       "#T_949b4_row9_col1 {\n",
       "  background-color: #edf4fc;\n",
       "  color: #000000;\n",
       "}\n",
       "#T_949b4_row10_col1 {\n",
       "  background-color: #eef5fc;\n",
       "  color: #000000;\n",
       "}\n",
       "#T_949b4_row11_col1 {\n",
       "  background-color: #f1f7fd;\n",
       "  color: #000000;\n",
       "}\n",
       "#T_949b4_row12_col1 {\n",
       "  background-color: #f2f8fd;\n",
       "  color: #000000;\n",
       "}\n",
       "#T_949b4_row13_col1 {\n",
       "  background-color: #f4f9fe;\n",
       "  color: #000000;\n",
       "}\n",
       "#T_949b4_row14_col1 {\n",
       "  background-color: #f5f9fe;\n",
       "  color: #000000;\n",
       "}\n",
       "#T_949b4_row15_col1, #T_949b4_row16_col1 {\n",
       "  background-color: #f5fafe;\n",
       "  color: #000000;\n",
       "}\n",
       "#T_949b4_row17_col1 {\n",
       "  background-color: #f6faff;\n",
       "  color: #000000;\n",
       "}\n",
       "#T_949b4_row18_col1, #T_949b4_row19_col1 {\n",
       "  background-color: #f7fbff;\n",
       "  color: #000000;\n",
       "}\n",
       "</style>\n",
       "<table id=\"T_949b4\">\n",
       "  <thead>\n",
       "    <tr>\n",
       "      <th class=\"blank level0\" >&nbsp;</th>\n",
       "      <th id=\"T_949b4_level0_col0\" class=\"col_heading level0 col0\" >Common_words</th>\n",
       "      <th id=\"T_949b4_level0_col1\" class=\"col_heading level0 col1\" >count</th>\n",
       "    </tr>\n",
       "  </thead>\n",
       "  <tbody>\n",
       "    <tr>\n",
       "      <th id=\"T_949b4_level0_row0\" class=\"row_heading level0 row0\" >0</th>\n",
       "      <td id=\"T_949b4_row0_col0\" class=\"data row0 col0\" >game</td>\n",
       "      <td id=\"T_949b4_row0_col1\" class=\"data row0 col1\" >6786797</td>\n",
       "    </tr>\n",
       "    <tr>\n",
       "      <th id=\"T_949b4_level0_row1\" class=\"row_heading level0 row1\" >1</th>\n",
       "      <td id=\"T_949b4_row1_col0\" class=\"data row1 col0\" >play</td>\n",
       "      <td id=\"T_949b4_row1_col1\" class=\"data row1 col1\" >2007689</td>\n",
       "    </tr>\n",
       "    <tr>\n",
       "      <th id=\"T_949b4_level0_row2\" class=\"row_heading level0 row2\" >2</th>\n",
       "      <td id=\"T_949b4_row2_col0\" class=\"data row2 col0\" >like</td>\n",
       "      <td id=\"T_949b4_row2_col1\" class=\"data row2 col1\" >1349577</td>\n",
       "    </tr>\n",
       "    <tr>\n",
       "      <th id=\"T_949b4_level0_row3\" class=\"row_heading level0 row3\" >3</th>\n",
       "      <td id=\"T_949b4_row3_col0\" class=\"data row3 col0\" >get</td>\n",
       "      <td id=\"T_949b4_row3_col1\" class=\"data row3 col1\" >1096717</td>\n",
       "    </tr>\n",
       "    <tr>\n",
       "      <th id=\"T_949b4_level0_row4\" class=\"row_heading level0 row4\" >4</th>\n",
       "      <td id=\"T_949b4_row4_col0\" class=\"data row4 col0\" >good</td>\n",
       "      <td id=\"T_949b4_row4_col1\" class=\"data row4 col1\" >998402</td>\n",
       "    </tr>\n",
       "    <tr>\n",
       "      <th id=\"T_949b4_level0_row5\" class=\"row_heading level0 row5\" >5</th>\n",
       "      <td id=\"T_949b4_row5_col0\" class=\"data row5 col0\" >fun</td>\n",
       "      <td id=\"T_949b4_row5_col1\" class=\"data row5 col1\" >997776</td>\n",
       "    </tr>\n",
       "    <tr>\n",
       "      <th id=\"T_949b4_level0_row6\" class=\"row_heading level0 row6\" >6</th>\n",
       "      <td id=\"T_949b4_row6_col0\" class=\"data row6 col0\" >one</td>\n",
       "      <td id=\"T_949b4_row6_col1\" class=\"data row6 col1\" >990678</td>\n",
       "    </tr>\n",
       "    <tr>\n",
       "      <th id=\"T_949b4_level0_row7\" class=\"row_heading level0 row7\" >7</th>\n",
       "      <td id=\"T_949b4_row7_col0\" class=\"data row7 col0\" >great</td>\n",
       "      <td id=\"T_949b4_row7_col1\" class=\"data row7 col1\" >932459</td>\n",
       "    </tr>\n",
       "    <tr>\n",
       "      <th id=\"T_949b4_level0_row8\" class=\"row_heading level0 row8\" >8</th>\n",
       "      <td id=\"T_949b4_row8_col0\" class=\"data row8 col0\" >time</td>\n",
       "      <td id=\"T_949b4_row8_col1\" class=\"data row8 col1\" >883272</td>\n",
       "    </tr>\n",
       "    <tr>\n",
       "      <th id=\"T_949b4_level0_row9\" class=\"row_heading level0 row9\" >9</th>\n",
       "      <td id=\"T_949b4_row9_col0\" class=\"data row9 col0\" >realli</td>\n",
       "      <td id=\"T_949b4_row9_col1\" class=\"data row9 col1\" >783901</td>\n",
       "    </tr>\n",
       "    <tr>\n",
       "      <th id=\"T_949b4_level0_row10\" class=\"row_heading level0 row10\" >10</th>\n",
       "      <td id=\"T_949b4_row10_col0\" class=\"data row10 col0\" >stori</td>\n",
       "      <td id=\"T_949b4_row10_col1\" class=\"data row10 col1\" >729902</td>\n",
       "    </tr>\n",
       "    <tr>\n",
       "      <th id=\"T_949b4_level0_row11\" class=\"row_heading level0 row11\" >11</th>\n",
       "      <td id=\"T_949b4_row11_col0\" class=\"data row11 col0\" >make</td>\n",
       "      <td id=\"T_949b4_row11_col1\" class=\"data row11 col1\" >662683</td>\n",
       "    </tr>\n",
       "    <tr>\n",
       "      <th id=\"T_949b4_level0_row12\" class=\"row_heading level0 row12\" >12</th>\n",
       "      <td id=\"T_949b4_row12_col0\" class=\"data row12 col0\" >would</td>\n",
       "      <td id=\"T_949b4_row12_col1\" class=\"data row12 col1\" >601403</td>\n",
       "    </tr>\n",
       "    <tr>\n",
       "      <th id=\"T_949b4_level0_row13\" class=\"row_heading level0 row13\" >13</th>\n",
       "      <td id=\"T_949b4_row13_col0\" class=\"data row13 col0\" >best</td>\n",
       "      <td id=\"T_949b4_row13_col1\" class=\"data row13 col1\" >551729</td>\n",
       "    </tr>\n",
       "    <tr>\n",
       "      <th id=\"T_949b4_level0_row14\" class=\"row_heading level0 row14\" >14</th>\n",
       "      <td id=\"T_949b4_row14_col0\" class=\"data row14 col0\" >love</td>\n",
       "      <td id=\"T_949b4_row14_col1\" class=\"data row14 col1\" >537989</td>\n",
       "    </tr>\n",
       "    <tr>\n",
       "      <th id=\"T_949b4_level0_row15\" class=\"row_heading level0 row15\" >15</th>\n",
       "      <td id=\"T_949b4_row15_col0\" class=\"data row15 col0\" >much</td>\n",
       "      <td id=\"T_949b4_row15_col1\" class=\"data row15 col1\" >509673</td>\n",
       "    </tr>\n",
       "    <tr>\n",
       "      <th id=\"T_949b4_level0_row16\" class=\"row_heading level0 row16\" >16</th>\n",
       "      <td id=\"T_949b4_row16_col0\" class=\"data row16 col0\" >well</td>\n",
       "      <td id=\"T_949b4_row16_col1\" class=\"data row16 col1\" >508210</td>\n",
       "    </tr>\n",
       "    <tr>\n",
       "      <th id=\"T_949b4_level0_row17\" class=\"row_heading level0 row17\" >17</th>\n",
       "      <td id=\"T_949b4_row17_col0\" class=\"data row17 col0\" >even</td>\n",
       "      <td id=\"T_949b4_row17_col1\" class=\"data row17 col1\" >489694</td>\n",
       "    </tr>\n",
       "    <tr>\n",
       "      <th id=\"T_949b4_level0_row18\" class=\"row_heading level0 row18\" >18</th>\n",
       "      <td id=\"T_949b4_row18_col0\" class=\"data row18 col0\" >go</td>\n",
       "      <td id=\"T_949b4_row18_col1\" class=\"data row18 col1\" >451107</td>\n",
       "    </tr>\n",
       "    <tr>\n",
       "      <th id=\"T_949b4_level0_row19\" class=\"row_heading level0 row19\" >19</th>\n",
       "      <td id=\"T_949b4_row19_col0\" class=\"data row19 col0\" >feel</td>\n",
       "      <td id=\"T_949b4_row19_col1\" class=\"data row19 col1\" >441736</td>\n",
       "    </tr>\n",
       "  </tbody>\n",
       "</table>\n"
      ],
      "text/plain": [
       "<pandas.io.formats.style.Styler at 0x7f8b9de3d3d0>"
      ]
     },
     "execution_count": 57,
     "metadata": {},
     "output_type": "execute_result"
    }
   ],
   "source": [
    "top3 = Counter([item for sublist in dataset_cleaned_pos_only['list_words'] for item in sublist])\n",
    "temp3 = pd.DataFrame(top3.most_common(20))\n",
    "temp3.columns = ['Common_words','count']\n",
    "temp3.style.background_gradient(cmap='Blues')"
   ]
  },
  {
   "cell_type": "code",
   "execution_count": 58,
   "metadata": {},
   "outputs": [
    {
     "data": {
      "text/plain": [
       "<Axes: xlabel='count', ylabel='Common_words'>"
      ]
     },
     "execution_count": 58,
     "metadata": {},
     "output_type": "execute_result"
    },
    {
     "data": {
      "image/png": "[encoded data removed]",
      "text/plain": [
       "<Figure size 640x480 with 1 Axes>"
      ]
     },
     "metadata": {},
     "output_type": "display_data"
    }
   ],
   "source": [
    "sns.set_theme(style=\"whitegrid\")\n",
    "sns.barplot(x=\"count\", y=\"Common_words\", data=temp3)"
   ]
  },
  {
   "cell_type": "code",
   "execution_count": 59,
   "metadata": {},
   "outputs": [
    {
     "data": {
      "text/html": [
       "<style type=\"text/css\">\n",
       "#T_85180_row0_col1 {\n",
       "  background-color: #08306b;\n",
       "  color: #f1f1f1;\n",
       "}\n",
       "#T_85180_row1_col1 {\n",
       "  background-color: #cde0f1;\n",
       "  color: #000000;\n",
       "}\n",
       "#T_85180_row2_col1 {\n",
       "  background-color: #dae8f6;\n",
       "  color: #000000;\n",
       "}\n",
       "#T_85180_row3_col1 {\n",
       "  background-color: #dceaf6;\n",
       "  color: #000000;\n",
       "}\n",
       "#T_85180_row4_col1 {\n",
       "  background-color: #e7f1fa;\n",
       "  color: #000000;\n",
       "}\n",
       "#T_85180_row5_col1 {\n",
       "  background-color: #ebf3fb;\n",
       "  color: #000000;\n",
       "}\n",
       "#T_85180_row6_col1 {\n",
       "  background-color: #ecf4fb;\n",
       "  color: #000000;\n",
       "}\n",
       "#T_85180_row7_col1 {\n",
       "  background-color: #eef5fc;\n",
       "  color: #000000;\n",
       "}\n",
       "#T_85180_row8_col1 {\n",
       "  background-color: #eff6fc;\n",
       "  color: #000000;\n",
       "}\n",
       "#T_85180_row9_col1 {\n",
       "  background-color: #f0f6fd;\n",
       "  color: #000000;\n",
       "}\n",
       "#T_85180_row10_col1 {\n",
       "  background-color: #f2f7fd;\n",
       "  color: #000000;\n",
       "}\n",
       "#T_85180_row11_col1 {\n",
       "  background-color: #f5f9fe;\n",
       "  color: #000000;\n",
       "}\n",
       "#T_85180_row12_col1, #T_85180_row13_col1, #T_85180_row14_col1, #T_85180_row15_col1 {\n",
       "  background-color: #f5fafe;\n",
       "  color: #000000;\n",
       "}\n",
       "#T_85180_row16_col1 {\n",
       "  background-color: #f6faff;\n",
       "  color: #000000;\n",
       "}\n",
       "#T_85180_row17_col1, #T_85180_row18_col1, #T_85180_row19_col1 {\n",
       "  background-color: #f7fbff;\n",
       "  color: #000000;\n",
       "}\n",
       "</style>\n",
       "<table id=\"T_85180\">\n",
       "  <thead>\n",
       "    <tr>\n",
       "      <th class=\"blank level0\" >&nbsp;</th>\n",
       "      <th id=\"T_85180_level0_col0\" class=\"col_heading level0 col0\" >Common_words</th>\n",
       "      <th id=\"T_85180_level0_col1\" class=\"col_heading level0 col1\" >count</th>\n",
       "    </tr>\n",
       "  </thead>\n",
       "  <tbody>\n",
       "    <tr>\n",
       "      <th id=\"T_85180_level0_row0\" class=\"row_heading level0 row0\" >0</th>\n",
       "      <td id=\"T_85180_row0_col0\" class=\"data row0 col0\" >game</td>\n",
       "      <td id=\"T_85180_row0_col1\" class=\"data row0 col1\" >1609775</td>\n",
       "    </tr>\n",
       "    <tr>\n",
       "      <th id=\"T_85180_level0_row1\" class=\"row_heading level0 row1\" >1</th>\n",
       "      <td id=\"T_85180_row1_col0\" class=\"data row1 col0\" >play</td>\n",
       "      <td id=\"T_85180_row1_col1\" class=\"data row1 col1\" >433912</td>\n",
       "    </tr>\n",
       "    <tr>\n",
       "      <th id=\"T_85180_level0_row2\" class=\"row_heading level0 row2\" >2</th>\n",
       "      <td id=\"T_85180_row2_col0\" class=\"data row2 col0\" >like</td>\n",
       "      <td id=\"T_85180_row2_col1\" class=\"data row2 col1\" >336604</td>\n",
       "    </tr>\n",
       "    <tr>\n",
       "      <th id=\"T_85180_level0_row3\" class=\"row_heading level0 row3\" >3</th>\n",
       "      <td id=\"T_85180_row3_col0\" class=\"data row3 col0\" >get</td>\n",
       "      <td id=\"T_85180_row3_col1\" class=\"data row3 col1\" >314457</td>\n",
       "    </tr>\n",
       "    <tr>\n",
       "      <th id=\"T_85180_level0_row4\" class=\"row_heading level0 row4\" >4</th>\n",
       "      <td id=\"T_85180_row4_col0\" class=\"data row4 col0\" >time</td>\n",
       "      <td id=\"T_85180_row4_col1\" class=\"data row4 col1\" >237508</td>\n",
       "    </tr>\n",
       "    <tr>\n",
       "      <th id=\"T_85180_level0_row5\" class=\"row_heading level0 row5\" >5</th>\n",
       "      <td id=\"T_85180_row5_col0\" class=\"data row5 col0\" >even</td>\n",
       "      <td id=\"T_85180_row5_col1\" class=\"data row5 col1\" >206462</td>\n",
       "    </tr>\n",
       "    <tr>\n",
       "      <th id=\"T_85180_level0_row6\" class=\"row_heading level0 row6\" >6</th>\n",
       "      <td id=\"T_85180_row6_col0\" class=\"data row6 col0\" >one</td>\n",
       "      <td id=\"T_85180_row6_col1\" class=\"data row6 col1\" >201065</td>\n",
       "    </tr>\n",
       "    <tr>\n",
       "      <th id=\"T_85180_level0_row7\" class=\"row_heading level0 row7\" >7</th>\n",
       "      <td id=\"T_85180_row7_col0\" class=\"data row7 col0\" >realli</td>\n",
       "      <td id=\"T_85180_row7_col1\" class=\"data row7 col1\" >190085</td>\n",
       "    </tr>\n",
       "    <tr>\n",
       "      <th id=\"T_85180_level0_row8\" class=\"row_heading level0 row8\" >8</th>\n",
       "      <td id=\"T_85180_row8_col0\" class=\"data row8 col0\" >good</td>\n",
       "      <td id=\"T_85180_row8_col1\" class=\"data row8 col1\" >175768</td>\n",
       "    </tr>\n",
       "    <tr>\n",
       "      <th id=\"T_85180_level0_row9\" class=\"row_heading level0 row9\" >9</th>\n",
       "      <td id=\"T_85180_row9_col0\" class=\"data row9 col0\" >make</td>\n",
       "      <td id=\"T_85180_row9_col1\" class=\"data row9 col1\" >172682</td>\n",
       "    </tr>\n",
       "    <tr>\n",
       "      <th id=\"T_85180_level0_row10\" class=\"row_heading level0 row10\" >10</th>\n",
       "      <td id=\"T_85180_row10_col0\" class=\"data row10 col0\" >would</td>\n",
       "      <td id=\"T_85180_row10_col1\" class=\"data row10 col1\" >159769</td>\n",
       "    </tr>\n",
       "    <tr>\n",
       "      <th id=\"T_85180_level0_row11\" class=\"row_heading level0 row11\" >11</th>\n",
       "      <td id=\"T_85180_row11_col0\" class=\"data row11 col0\" >go</td>\n",
       "      <td id=\"T_85180_row11_col1\" class=\"data row11 col1\" >134655</td>\n",
       "    </tr>\n",
       "    <tr>\n",
       "      <th id=\"T_85180_level0_row12\" class=\"row_heading level0 row12\" >12</th>\n",
       "      <td id=\"T_85180_row12_col0\" class=\"data row12 col0\" >buy</td>\n",
       "      <td id=\"T_85180_row12_col1\" class=\"data row12 col1\" >132615</td>\n",
       "    </tr>\n",
       "    <tr>\n",
       "      <th id=\"T_85180_level0_row13\" class=\"row_heading level0 row13\" >13</th>\n",
       "      <td id=\"T_85180_row13_col0\" class=\"data row13 col0\" >much</td>\n",
       "      <td id=\"T_85180_row13_col1\" class=\"data row13 col1\" >130862</td>\n",
       "    </tr>\n",
       "    <tr>\n",
       "      <th id=\"T_85180_level0_row14\" class=\"row_heading level0 row14\" >14</th>\n",
       "      <td id=\"T_85180_row14_col0\" class=\"data row14 col0\" >fun</td>\n",
       "      <td id=\"T_85180_row14_col1\" class=\"data row14 col1\" >130805</td>\n",
       "    </tr>\n",
       "    <tr>\n",
       "      <th id=\"T_85180_level0_row15\" class=\"row_heading level0 row15\" >15</th>\n",
       "      <td id=\"T_85180_row15_col0\" class=\"data row15 col0\" >want</td>\n",
       "      <td id=\"T_85180_row15_col1\" class=\"data row15 col1\" >129334</td>\n",
       "    </tr>\n",
       "    <tr>\n",
       "      <th id=\"T_85180_level0_row16\" class=\"row_heading level0 row16\" >16</th>\n",
       "      <td id=\"T_85180_row16_col0\" class=\"data row16 col0\" >tri</td>\n",
       "      <td id=\"T_85180_row16_col1\" class=\"data row16 col1\" >124087</td>\n",
       "    </tr>\n",
       "    <tr>\n",
       "      <th id=\"T_85180_level0_row17\" class=\"row_heading level0 row17\" >17</th>\n",
       "      <td id=\"T_85180_row17_col0\" class=\"data row17 col0\" >bad</td>\n",
       "      <td id=\"T_85180_row17_col1\" class=\"data row17 col1\" >120470</td>\n",
       "    </tr>\n",
       "    <tr>\n",
       "      <th id=\"T_85180_level0_row18\" class=\"row_heading level0 row18\" >18</th>\n",
       "      <td id=\"T_85180_row18_col0\" class=\"data row18 col0\" >feel</td>\n",
       "      <td id=\"T_85180_row18_col1\" class=\"data row18 col1\" >120233</td>\n",
       "    </tr>\n",
       "    <tr>\n",
       "      <th id=\"T_85180_level0_row19\" class=\"row_heading level0 row19\" >19</th>\n",
       "      <td id=\"T_85180_row19_col0\" class=\"data row19 col0\" >thing</td>\n",
       "      <td id=\"T_85180_row19_col1\" class=\"data row19 col1\" >115915</td>\n",
       "    </tr>\n",
       "  </tbody>\n",
       "</table>\n"
      ],
      "text/plain": [
       "<pandas.io.formats.style.Styler at 0x7f8b9de20970>"
      ]
     },
     "execution_count": 59,
     "metadata": {},
     "output_type": "execute_result"
    }
   ],
   "source": [
    "top4 = Counter([item for sublist in dataset_cleaned_neg_only['list_words'] for item in sublist])\n",
    "temp4 = pd.DataFrame(top4.most_common(20))\n",
    "temp4.columns = ['Common_words','count']\n",
    "temp4.style.background_gradient(cmap='Blues')"
   ]
  },
  {
   "cell_type": "code",
   "execution_count": 60,
   "metadata": {},
   "outputs": [
    {
     "data": {
      "text/plain": [
       "<Axes: xlabel='count', ylabel='Common_words'>"
      ]
     },
     "execution_count": 60,
     "metadata": {},
     "output_type": "execute_result"
    },
    {
     "data": {
      "image/png": "[encoded data removed]",
      "text/plain": [
       "<Figure size 640x480 with 1 Axes>"
      ]
     },
     "metadata": {},
     "output_type": "display_data"
    }
   ],
   "source": [
    "sns.set_theme(style=\"whitegrid\")\n",
    "sns.barplot(x=\"count\", y=\"Common_words\", data=temp4)"
   ]
  },
  {
   "cell_type": "markdown",
   "metadata": {},
   "source": [
    "what are the common words appeared in both top 20?"
   ]
  },
  {
   "cell_type": "code",
   "execution_count": 61,
   "metadata": {},
   "outputs": [],
   "source": [
    "temp5 = pd.merge(temp3,temp4, how='inner', on=['Common_words'])"
   ]
  },
  {
   "cell_type": "code",
   "execution_count": 62,
   "metadata": {},
   "outputs": [
    {
     "data": {
      "text/html": [
       "<div>\n",
       "<style scoped>\n",
       "    .dataframe tbody tr th:only-of-type {\n",
       "        vertical-align: middle;\n",
       "    }\n",
       "\n",
       "    .dataframe tbody tr th {\n",
       "        vertical-align: top;\n",
       "    }\n",
       "\n",
       "    .dataframe thead th {\n",
       "        text-align: right;\n",
       "    }\n",
       "</style>\n",
       "<table border=\"1\" class=\"dataframe\">\n",
       "  <thead>\n",
       "    <tr style=\"text-align: right;\">\n",
       "      <th></th>\n",
       "      <th>Common_words</th>\n",
       "      <th>count_x</th>\n",
       "      <th>count_y</th>\n",
       "    </tr>\n",
       "  </thead>\n",
       "  <tbody>\n",
       "    <tr>\n",
       "      <th>0</th>\n",
       "      <td>game</td>\n",
       "      <td>6786797</td>\n",
       "      <td>1609775</td>\n",
       "    </tr>\n",
       "    <tr>\n",
       "      <th>1</th>\n",
       "      <td>play</td>\n",
       "      <td>2007689</td>\n",
       "      <td>433912</td>\n",
       "    </tr>\n",
       "    <tr>\n",
       "      <th>2</th>\n",
       "      <td>like</td>\n",
       "      <td>1349577</td>\n",
       "      <td>336604</td>\n",
       "    </tr>\n",
       "    <tr>\n",
       "      <th>3</th>\n",
       "      <td>get</td>\n",
       "      <td>1096717</td>\n",
       "      <td>314457</td>\n",
       "    </tr>\n",
       "    <tr>\n",
       "      <th>4</th>\n",
       "      <td>good</td>\n",
       "      <td>998402</td>\n",
       "      <td>175768</td>\n",
       "    </tr>\n",
       "    <tr>\n",
       "      <th>5</th>\n",
       "      <td>fun</td>\n",
       "      <td>997776</td>\n",
       "      <td>130805</td>\n",
       "    </tr>\n",
       "    <tr>\n",
       "      <th>6</th>\n",
       "      <td>one</td>\n",
       "      <td>990678</td>\n",
       "      <td>201065</td>\n",
       "    </tr>\n",
       "    <tr>\n",
       "      <th>7</th>\n",
       "      <td>time</td>\n",
       "      <td>883272</td>\n",
       "      <td>237508</td>\n",
       "    </tr>\n",
       "    <tr>\n",
       "      <th>8</th>\n",
       "      <td>realli</td>\n",
       "      <td>783901</td>\n",
       "      <td>190085</td>\n",
       "    </tr>\n",
       "    <tr>\n",
       "      <th>9</th>\n",
       "      <td>make</td>\n",
       "      <td>662683</td>\n",
       "      <td>172682</td>\n",
       "    </tr>\n",
       "    <tr>\n",
       "      <th>10</th>\n",
       "      <td>would</td>\n",
       "      <td>601403</td>\n",
       "      <td>159769</td>\n",
       "    </tr>\n",
       "    <tr>\n",
       "      <th>11</th>\n",
       "      <td>much</td>\n",
       "      <td>509673</td>\n",
       "      <td>130862</td>\n",
       "    </tr>\n",
       "    <tr>\n",
       "      <th>12</th>\n",
       "      <td>even</td>\n",
       "      <td>489694</td>\n",
       "      <td>206462</td>\n",
       "    </tr>\n",
       "    <tr>\n",
       "      <th>13</th>\n",
       "      <td>go</td>\n",
       "      <td>451107</td>\n",
       "      <td>134655</td>\n",
       "    </tr>\n",
       "    <tr>\n",
       "      <th>14</th>\n",
       "      <td>feel</td>\n",
       "      <td>441736</td>\n",
       "      <td>120233</td>\n",
       "    </tr>\n",
       "  </tbody>\n",
       "</table>\n",
       "</div>"
      ],
      "text/plain": [
       "   Common_words  count_x  count_y\n",
       "0          game  6786797  1609775\n",
       "1          play  2007689   433912\n",
       "2          like  1349577   336604\n",
       "3           get  1096717   314457\n",
       "4          good   998402   175768\n",
       "5           fun   997776   130805\n",
       "6           one   990678   201065\n",
       "7          time   883272   237508\n",
       "8        realli   783901   190085\n",
       "9          make   662683   172682\n",
       "10        would   601403   159769\n",
       "11         much   509673   130862\n",
       "12         even   489694   206462\n",
       "13           go   451107   134655\n",
       "14         feel   441736   120233"
      ]
     },
     "execution_count": 62,
     "metadata": {},
     "output_type": "execute_result"
    }
   ],
   "source": [
    "temp5"
   ]
  },
  {
   "cell_type": "markdown",
   "metadata": {},
   "source": [
    "looks almost the same as the overall dataset, as the positive comments are very domainant..."
   ]
  },
  {
   "cell_type": "markdown",
   "metadata": {},
   "source": [
    "Due to hardware limitation, we will create a balanced dataset by randomly sampling positive comments in training\n",
    "\n",
    "There are different methods in randomly selecting samples, yet the difference in performance are not significant (~0.01 in accuracy)  \n",
    "E.g.: https://ruslanmv.com/blog/How-to-handle-imbalanced-text-data-in-Natural-Language-Processing\n",
    "\n",
    "The undersampler in imbalanced-learning package will be applied on the training set\n",
    "\n",
    "Then we may scrap new comments for validation on recent comments :D"
   ]
  },
  {
   "cell_type": "markdown",
   "metadata": {},
   "source": []
  }
 ],
 "metadata": {
  "kernelspec": {
   "display_name": "fyp-test-wsl",
   "language": "python",
   "name": "python3"
  },
  "language_info": {
   "codemirror_mode": {
    "name": "ipython",
    "version": 3
   },
   "file_extension": ".py",
   "mimetype": "text/x-python",
   "name": "python",
   "nbconvert_exporter": "python",
   "pygments_lexer": "ipython3",
   "version": "3.9.18"
  }
 },
 "nbformat": 4,
 "nbformat_minor": 2
}
