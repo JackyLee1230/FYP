{
 "cells": [
  {
   "cell_type": "code",
   "execution_count": 1,
   "metadata": {},
   "outputs": [
    {
     "name": "stdout",
     "output_type": "stream",
     "text": [
      "Training storing folder:\n",
      "/Users/michaelcheng/Documents/MyDocs/HKU/COMP4801 FYP/FYP/NLP/dev-workspace/sa/tfidf-rf_2023-12-16/tfidf-rf-20000_120k_imbal\n",
      "\n",
      "\n",
      "\n"
     ]
    }
   ],
   "source": [
    "import numpy as np\n",
    "\n",
    "from pathlib import Path\n",
    "from datetime import datetime\n",
    "\n",
    "from sklearn.pipeline import Pipeline\n",
    "from sklearn.feature_extraction.text import CountVectorizer, TfidfVectorizer, TfidfTransformer\n",
    "from sklearn.ensemble import RandomForestClassifier\n",
    "\n",
    "from skl2onnx import convert_sklearn, to_onnx\n",
    "from skl2onnx.common.data_types import StringTensorType\n",
    "\n",
    "DATASET_SIZE = 120\n",
    "DATASET_IS_BALANCED = False\n",
    "\n",
    "\n",
    "MAX_FEATURES = 20000        # max_features params for CountVectorizer\n",
    "\n",
    "training_name = 'tfidf-rf-{}_{}k_{}'.format(\n",
    "    MAX_FEATURES,\n",
    "    DATASET_SIZE,\n",
    "    'bal' if DATASET_IS_BALANCED else 'imbal'\n",
    ")\n",
    "\n",
    "training_storing_folder = Path(f\"{training_name}/\").resolve()\n",
    "if not training_storing_folder.exists():\n",
    "    training_storing_folder.mkdir(parents=True, exist_ok=True)\n",
    "\n",
    "training_args_datetime = datetime(year=2023, month=12, day=20)\n",
    "\n",
    "print('Training storing folder:')\n",
    "print(training_storing_folder)\n",
    "print('\\n\\n')"
   ]
  },
  {
   "cell_type": "code",
   "execution_count": 2,
   "metadata": {},
   "outputs": [
    {
     "name": "stdout",
     "output_type": "stream",
     "text": [
      "Loaded model from /Users/michaelcheng/Documents/MyDocs/HKU/COMP4801 FYP/FYP/NLP/dev-workspace/sa/tfidf-rf_2023-12-16/tfidf-rf-20000_120k_imbal/tfidf-rf-20000_120k_imbal_2023-12-20_model.sav\n",
      "Loaded count vectorizer from /Users/michaelcheng/Documents/MyDocs/HKU/COMP4801 FYP/FYP/NLP/dev-workspace/sa/tfidf-rf_2023-12-16/tfidf-rf-20000_120k_imbal/tfidf-rf-20000_120k_imbal_2023-12-20_count_vectorizer.pkl\n",
      "Loaded tfidf transformer from /Users/michaelcheng/Documents/MyDocs/HKU/COMP4801 FYP/FYP/NLP/dev-workspace/sa/tfidf-rf_2023-12-16/tfidf-rf-20000_120k_imbal/tfidf-rf-20000_120k_imbal_2023-12-20_tfidf.pkl\n"
     ]
    }
   ],
   "source": [
    "# load the model\n",
    "\n",
    "import pickle\n",
    "\n",
    "rf_model_path = Path.joinpath(training_storing_folder, \"{}_{}_model.sav\".format(\n",
    "    training_name,\n",
    "    training_args_datetime.strftime(\"%Y-%m-%d\")\n",
    "))\n",
    "model = pickle.load(open(rf_model_path, 'rb'))\n",
    "\n",
    "count_vectorizer_path = Path.joinpath(training_storing_folder, \"{}_{}_count_vectorizer.pkl\".format(\n",
    "    training_name,\n",
    "    training_args_datetime.strftime(\"%Y-%m-%d\")\n",
    "))\n",
    "vectorizer = pickle.load(open(count_vectorizer_path, 'rb'))\n",
    "\n",
    "tfidf_transformer_path = Path.joinpath(training_storing_folder, \"{}_{}_tfidf.pkl\".format(\n",
    "    training_name,\n",
    "    training_args_datetime.strftime(\"%Y-%m-%d\")\n",
    "))\n",
    "tfidf = pickle.load(open(tfidf_transformer_path, 'rb'))\n",
    "\n",
    "print('Loaded model from {}'.format(rf_model_path))\n",
    "print('Loaded count vectorizer from {}'.format(count_vectorizer_path))\n",
    "print('Loaded tfidf transformer from {}'.format(tfidf_transformer_path))"
   ]
  },
  {
   "cell_type": "code",
   "execution_count": 3,
   "metadata": {},
   "outputs": [],
   "source": [
    "pipeline_inference = Pipeline([\n",
    "    ('vect', vectorizer),\n",
    "    ('tfidf', tfidf),\n",
    "    ('model', model),\n",
    "])"
   ]
  },
  {
   "cell_type": "code",
   "execution_count": 4,
   "metadata": {},
   "outputs": [],
   "source": [
    "onnx_options = {id(pipeline_inference): {'zipmap': False}}\n",
    "\n",
    "model_onnx = convert_sklearn(\n",
    "    pipeline_inference,\n",
    "    initial_types=[('strfeat', StringTensorType([None, 1]))],\n",
    "    options=onnx_options,\n",
    "    target_opset=13     # supports version 1.13 or above (current ver is 1.16)\n",
    ")\n",
    "\n",
    "model_onnx_path = Path.joinpath(training_storing_folder, \"{}_{}_pipeline.onnx\".format(\n",
    "    training_name,\n",
    "    training_args_datetime.strftime(\"%Y-%m-%d\")\n",
    "))\n",
    "\n",
    "with open(model_onnx_path, \"wb\") as f:\n",
    "    f.write(model_onnx.SerializeToString())"
   ]
  },
  {
   "cell_type": "code",
   "execution_count": 5,
   "metadata": {},
   "outputs": [],
   "source": [
    "test_data = [['I like the game'], [\"I do not like it.\"], [\"It crashes when I just run on my pc.\"]]"
   ]
  },
  {
   "cell_type": "code",
   "execution_count": 6,
   "metadata": {},
   "outputs": [],
   "source": [
    "import onnxruntime as rt\n",
    "\n",
    "sess = rt.InferenceSession(\n",
    "    Path.joinpath(training_storing_folder, \"{}_{}_pipeline.onnx\".format(\n",
    "        training_name, training_args_datetime.strftime(\"%Y-%m-%d\"))),\n",
    "    providers=['CPUExecutionProvider']\n",
    "    )\n",
    "input_name = [inp.name for inp in sess.get_inputs()][0]     # only one input in this model\n",
    "label_names = [label.name for label in sess.get_outputs()]  # it outputs the label and the probability"
   ]
  },
  {
   "cell_type": "code",
   "execution_count": 7,
   "metadata": {},
   "outputs": [
    {
     "name": "stdout",
     "output_type": "stream",
     "text": [
      "[array([[0., 1.]]), array([[0.18988889, 0.81011111]]), array([[0.0612605, 0.9387395]])]\n",
      "[[array([1], dtype=int64), array([[-1.1920929e-07,  1.0000001e+00]], dtype=float32)], [array([1], dtype=int64), array([[0.18988895, 0.81011105]], dtype=float32)], [array([1], dtype=int64), array([[0.0612604, 0.9387396]], dtype=float32)]]\n"
     ]
    },
    {
     "name": "stderr",
     "output_type": "stream",
     "text": [
      "[Parallel(n_jobs=1)]: Done  31 tasks      | elapsed:    0.0s\n",
      "[Parallel(n_jobs=1)]: Done  31 tasks      | elapsed:    0.0s\n",
      "[Parallel(n_jobs=1)]: Done  31 tasks      | elapsed:    0.0s\n"
     ]
    }
   ],
   "source": [
    "pred_sklearn = []\n",
    "pred_onnx = []\n",
    "\n",
    "for i in range(len(test_data)):\n",
    "    pred_sklearn.append(pipeline_inference.predict_proba(test_data[i]))\n",
    "\n",
    "    pred_onnx.append(sess.run(label_names, {input_name: [test_data[i]]}))\n",
    "\n",
    "print(pred_sklearn)\n",
    "print(pred_onnx)\n",
    "\n",
    "for i in range(len(pred_sklearn)):\n",
    "    result_sklearn = pred_sklearn[i]\n",
    "    result_onnx = pred_onnx[i][1]\n",
    "\n",
    "    # test whether the results are the same\n",
    "    np.testing.assert_allclose(result_sklearn, result_onnx, rtol=1e-5, atol=1e-5)"
   ]
  },
  {
   "cell_type": "code",
   "execution_count": null,
   "metadata": {},
   "outputs": [],
   "source": []
  }
 ],
 "metadata": {
  "kernelspec": {
   "display_name": "fyp-test2",
   "language": "python",
   "name": "python3"
  },
  "language_info": {
   "codemirror_mode": {
    "name": "ipython",
    "version": 3
   },
   "file_extension": ".py",
   "mimetype": "text/x-python",
   "name": "python",
   "nbconvert_exporter": "python",
   "pygments_lexer": "ipython3",
   "version": "3.9.18"
  }
 },
 "nbformat": 4,
 "nbformat_minor": 2
}
