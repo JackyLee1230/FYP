{
 "cells": [
  {
   "cell_type": "markdown",
   "metadata": {},
   "source": [
    "Sentiment analysis with Keras\n",
    "\n",
    "Flow\n",
    "\n",
    "- GloVe (Global Vector) embedding -> custom convolution network, with accuracy as the metric; cross-entropy as loss function, rmsprop as optimizer.\n",
    "\n",
    "Further tuning\n",
    "\n",
    "- Use different corpus size glove\n",
    "- Balance the sample of testing as well.  \n",
    "(We applied weights accounting the skewed distribution of positive comments in training set, but this has to be done on testing set as well...)\n",
    "- Apply different metric (not only accuracy, like F1-score, AUC...)\n",
    "\n",
    "Further work\n",
    "\n",
    "- collect samples not only from steam, but indie game platforms like itch.io\n",
    "\n",
    "\n",
    "Codes are modified from\n",
    "\n",
    "(For GloVe embedding and training)\n",
    "https://keras.io/examples/nlp/pretrained_word_embeddings/\n",
    "\n",
    "(For binary classification, and imbalance data)\n",
    "https://keras.io/examples/structured_data/imbalanced_classification/\n",
    "\n",
    "(TODO)\n",
    "For oversampling and undersampling -> build a smoother gradient\n",
    "https://www.tensorflow.org/tutorials/structured_data/imbalanced_data"
   ]
  },
  {
   "cell_type": "code",
   "execution_count": 1,
   "metadata": {},
   "outputs": [
    {
     "data": {
      "text/html": [
       "<div>\n",
       "<style scoped>\n",
       "    .dataframe tbody tr th:only-of-type {\n",
       "        vertical-align: middle;\n",
       "    }\n",
       "\n",
       "    .dataframe tbody tr th {\n",
       "        vertical-align: top;\n",
       "    }\n",
       "\n",
       "    .dataframe thead th {\n",
       "        text-align: right;\n",
       "    }\n",
       "</style>\n",
       "<table border=\"1\" class=\"dataframe\">\n",
       "  <thead>\n",
       "    <tr style=\"text-align: right;\">\n",
       "      <th></th>\n",
       "      <th>app_id</th>\n",
       "      <th>app_name</th>\n",
       "      <th>review_text</th>\n",
       "      <th>review_score</th>\n",
       "      <th>review_votes</th>\n",
       "    </tr>\n",
       "  </thead>\n",
       "  <tbody>\n",
       "    <tr>\n",
       "      <th>0</th>\n",
       "      <td>10</td>\n",
       "      <td>Counter-Strike</td>\n",
       "      <td>Still better than Call of Duty: Ghosts...</td>\n",
       "      <td>1</td>\n",
       "      <td>1</td>\n",
       "    </tr>\n",
       "    <tr>\n",
       "      <th>1</th>\n",
       "      <td>10</td>\n",
       "      <td>Counter-Strike</td>\n",
       "      <td>Every server is spanish or french. I can now f...</td>\n",
       "      <td>1</td>\n",
       "      <td>0</td>\n",
       "    </tr>\n",
       "    <tr>\n",
       "      <th>2</th>\n",
       "      <td>10</td>\n",
       "      <td>Counter-Strike</td>\n",
       "      <td>Ruined my life. 10/10</td>\n",
       "      <td>1</td>\n",
       "      <td>1</td>\n",
       "    </tr>\n",
       "    <tr>\n",
       "      <th>3</th>\n",
       "      <td>10</td>\n",
       "      <td>Counter-Strike</td>\n",
       "      <td>Best shooter for 10 years. Steam evolved becau...</td>\n",
       "      <td>1</td>\n",
       "      <td>0</td>\n",
       "    </tr>\n",
       "    <tr>\n",
       "      <th>4</th>\n",
       "      <td>10</td>\n",
       "      <td>Counter-Strike</td>\n",
       "      <td>Old but Gold.</td>\n",
       "      <td>1</td>\n",
       "      <td>1</td>\n",
       "    </tr>\n",
       "  </tbody>\n",
       "</table>\n",
       "</div>"
      ],
      "text/plain": [
       "   app_id        app_name                                        review_text  \\\n",
       "0      10  Counter-Strike          Still better than Call of Duty: Ghosts...   \n",
       "1      10  Counter-Strike  Every server is spanish or french. I can now f...   \n",
       "2      10  Counter-Strike                              Ruined my life. 10/10   \n",
       "3      10  Counter-Strike  Best shooter for 10 years. Steam evolved becau...   \n",
       "4      10  Counter-Strike                                   Old but Gold.      \n",
       "\n",
       "   review_score  review_votes  \n",
       "0             1             1  \n",
       "1             1             0  \n",
       "2             1             1  \n",
       "3             1             0  \n",
       "4             1             1  "
      ]
     },
     "execution_count": 1,
     "metadata": {},
     "output_type": "execute_result"
    }
   ],
   "source": [
    "import pandas as pd\n",
    "import numpy as np\n",
    "\n",
    "from pathlib import Path\n",
    "import random\n",
    "\n",
    "random.seed(13)\n",
    "# take 15% for both testing and training from original. Then among that 15%, 70% for training, 30% for testing.\n",
    "p = 0.15\n",
    "\n",
    "dataset_path = Path('../dataset.csv').resolve()\n",
    "\n",
    "dataset = pd.read_csv(dataset_path, skiprows=lambda i: i > 0 and random.random() > p)\n",
    "dataset.head()"
   ]
  },
  {
   "cell_type": "code",
   "execution_count": 2,
   "metadata": {},
   "outputs": [],
   "source": [
    "# first do data cleaning\n",
    "\n",
    "# convert to string\n",
    "dataset['review_text'] = dataset['review_text'].astype('str')"
   ]
  },
  {
   "cell_type": "code",
   "execution_count": 3,
   "metadata": {},
   "outputs": [],
   "source": [
    "dataset = dataset.drop_duplicates(keep='first')"
   ]
  },
  {
   "cell_type": "markdown",
   "metadata": {},
   "source": [
    "remove some characters, but not do the stop words, stemming and lemmatizing (no doing them in Keras example ??)"
   ]
  },
  {
   "cell_type": "code",
   "execution_count": 4,
   "metadata": {},
   "outputs": [],
   "source": [
    "import re\n",
    "\n",
    "def clean(raw):\n",
    "    \"\"\" Remove hyperlinks and markup \"\"\"\n",
    "    result = re.sub(\"<[a][^>]*>(.+?)</[a]>\", 'Link.', raw)\n",
    "    result = re.sub('&gt;', \"\", result)\n",
    "    result = re.sub('&#x27;', \"'\", result)\n",
    "    result = re.sub('&quot;', '\"', result)\n",
    "    result = re.sub('&#x2F;', ' ', result)\n",
    "    result = re.sub('<p>', ' ', result)\n",
    "    result = re.sub('</i>', '', result)\n",
    "    result = re.sub('&#62;', '', result)\n",
    "    result = re.sub('<i>', ' ', result)\n",
    "    result = re.sub(\"\\n\", '', result)\n",
    "    return result"
   ]
  },
  {
   "cell_type": "code",
   "execution_count": 5,
   "metadata": {},
   "outputs": [],
   "source": [
    "def remove_num(texts):\n",
    "   output = re.sub(r'\\d+', '', texts)\n",
    "   return output"
   ]
  },
  {
   "cell_type": "code",
   "execution_count": 6,
   "metadata": {},
   "outputs": [],
   "source": [
    "def deEmojify(x):\n",
    "    regrex_pattern = re.compile(pattern = \"[\"\n",
    "        u\"\\U0001F600-\\U0001F64F\"  # emoticons\n",
    "        u\"\\U0001F300-\\U0001F5FF\"  # symbols & pictographs\n",
    "        u\"\\U0001F680-\\U0001F6FF\"  # transport & map symbols\n",
    "        u\"\\U0001F1E0-\\U0001F1FF\"  # flags (iOS)\n",
    "                           \"]+\", flags = re.UNICODE)\n",
    "    return regrex_pattern.sub(r'', x)"
   ]
  },
  {
   "cell_type": "code",
   "execution_count": 7,
   "metadata": {},
   "outputs": [],
   "source": [
    "def unify_whitespaces(x):\n",
    "    cleaned_string = re.sub(' +', ' ', x)\n",
    "    return cleaned_string "
   ]
  },
  {
   "cell_type": "code",
   "execution_count": 8,
   "metadata": {},
   "outputs": [],
   "source": [
    "def remove_symbols(x):\n",
    "    cleaned_string = re.sub(r\"[^a-zA-Z0-9?!.,]+\", ' ', x)\n",
    "    return cleaned_string"
   ]
  },
  {
   "cell_type": "code",
   "execution_count": 9,
   "metadata": {},
   "outputs": [],
   "source": [
    "def remove_punctuation(text):\n",
    "    final = \"\".join(u for u in text if u not in (\"?\", \".\", \";\", \":\",  \"!\",'\"',','))\n",
    "    return final"
   ]
  },
  {
   "cell_type": "code",
   "execution_count": 10,
   "metadata": {},
   "outputs": [],
   "source": [
    "def cleaning(df, review_col_name):\n",
    "    df[review_col_name] = df[review_col_name].apply(clean)\n",
    "    df[review_col_name] = df[review_col_name].apply(deEmojify)\n",
    "    df[review_col_name] = df[review_col_name].str.lower()\n",
    "    df[review_col_name] = df[review_col_name].apply(remove_num)\n",
    "    df[review_col_name] = df[review_col_name].apply(remove_symbols)\n",
    "    df[review_col_name] = df[review_col_name].apply(remove_punctuation)"
   ]
  },
  {
   "cell_type": "code",
   "execution_count": 11,
   "metadata": {},
   "outputs": [
    {
     "data": {
      "text/html": [
       "<div>\n",
       "<style scoped>\n",
       "    .dataframe tbody tr th:only-of-type {\n",
       "        vertical-align: middle;\n",
       "    }\n",
       "\n",
       "    .dataframe tbody tr th {\n",
       "        vertical-align: top;\n",
       "    }\n",
       "\n",
       "    .dataframe thead th {\n",
       "        text-align: right;\n",
       "    }\n",
       "</style>\n",
       "<table border=\"1\" class=\"dataframe\">\n",
       "  <thead>\n",
       "    <tr style=\"text-align: right;\">\n",
       "      <th></th>\n",
       "      <th>app_id</th>\n",
       "      <th>app_name</th>\n",
       "      <th>review_text</th>\n",
       "      <th>review_score</th>\n",
       "      <th>review_votes</th>\n",
       "    </tr>\n",
       "  </thead>\n",
       "  <tbody>\n",
       "    <tr>\n",
       "      <th>0</th>\n",
       "      <td>10</td>\n",
       "      <td>Counter-Strike</td>\n",
       "      <td>still better than call of duty ghosts</td>\n",
       "      <td>1</td>\n",
       "      <td>1</td>\n",
       "    </tr>\n",
       "    <tr>\n",
       "      <th>1</th>\n",
       "      <td>10</td>\n",
       "      <td>Counter-Strike</td>\n",
       "      <td>every server is spanish or french i can now fl...</td>\n",
       "      <td>1</td>\n",
       "      <td>0</td>\n",
       "    </tr>\n",
       "    <tr>\n",
       "      <th>2</th>\n",
       "      <td>10</td>\n",
       "      <td>Counter-Strike</td>\n",
       "      <td>ruined my life</td>\n",
       "      <td>1</td>\n",
       "      <td>1</td>\n",
       "    </tr>\n",
       "    <tr>\n",
       "      <th>3</th>\n",
       "      <td>10</td>\n",
       "      <td>Counter-Strike</td>\n",
       "      <td>best shooter for years steam evolved because o...</td>\n",
       "      <td>1</td>\n",
       "      <td>0</td>\n",
       "    </tr>\n",
       "    <tr>\n",
       "      <th>4</th>\n",
       "      <td>10</td>\n",
       "      <td>Counter-Strike</td>\n",
       "      <td>old but gold</td>\n",
       "      <td>1</td>\n",
       "      <td>1</td>\n",
       "    </tr>\n",
       "    <tr>\n",
       "      <th>5</th>\n",
       "      <td>10</td>\n",
       "      <td>Counter-Strike</td>\n",
       "      <td>it s a nice game</td>\n",
       "      <td>1</td>\n",
       "      <td>1</td>\n",
       "    </tr>\n",
       "    <tr>\n",
       "      <th>6</th>\n",
       "      <td>10</td>\n",
       "      <td>Counter-Strike</td>\n",
       "      <td>no lag no russian guy saying classic no expen...</td>\n",
       "      <td>1</td>\n",
       "      <td>1</td>\n",
       "    </tr>\n",
       "    <tr>\n",
       "      <th>7</th>\n",
       "      <td>10</td>\n",
       "      <td>Counter-Strike</td>\n",
       "      <td>first starting off as a cute little mod based ...</td>\n",
       "      <td>1</td>\n",
       "      <td>1</td>\n",
       "    </tr>\n",
       "    <tr>\n",
       "      <th>8</th>\n",
       "      <td>10</td>\n",
       "      <td>Counter-Strike</td>\n",
       "      <td>the game that started it all i love global off...</td>\n",
       "      <td>1</td>\n",
       "      <td>1</td>\n",
       "    </tr>\n",
       "    <tr>\n",
       "      <th>9</th>\n",
       "      <td>10</td>\n",
       "      <td>Counter-Strike</td>\n",
       "      <td>if you dont like  then you can suck some balls</td>\n",
       "      <td>1</td>\n",
       "      <td>1</td>\n",
       "    </tr>\n",
       "    <tr>\n",
       "      <th>10</th>\n",
       "      <td>10</td>\n",
       "      <td>Counter-Strike</td>\n",
       "      <td>playing since non steam steam more that k hou...</td>\n",
       "      <td>1</td>\n",
       "      <td>1</td>\n",
       "    </tr>\n",
       "    <tr>\n",
       "      <th>11</th>\n",
       "      <td>10</td>\n",
       "      <td>Counter-Strike</td>\n",
       "      <td>in the days of my youth i was told what it mea...</td>\n",
       "      <td>1</td>\n",
       "      <td>1</td>\n",
       "    </tr>\n",
       "    <tr>\n",
       "      <th>12</th>\n",
       "      <td>10</td>\n",
       "      <td>Counter-Strike</td>\n",
       "      <td>childhood</td>\n",
       "      <td>1</td>\n",
       "      <td>1</td>\n",
       "    </tr>\n",
       "    <tr>\n",
       "      <th>13</th>\n",
       "      <td>10</td>\n",
       "      <td>Counter-Strike</td>\n",
       "      <td>simply the best shooter that you can play to f...</td>\n",
       "      <td>1</td>\n",
       "      <td>1</td>\n",
       "    </tr>\n",
       "    <tr>\n",
       "      <th>14</th>\n",
       "      <td>10</td>\n",
       "      <td>Counter-Strike</td>\n",
       "      <td>dropping in an old review here always a fun ga...</td>\n",
       "      <td>1</td>\n",
       "      <td>1</td>\n",
       "    </tr>\n",
       "    <tr>\n",
       "      <th>15</th>\n",
       "      <td>10</td>\n",
       "      <td>Counter-Strike</td>\n",
       "      <td>i have hours of gameplay on this since i got s...</td>\n",
       "      <td>1</td>\n",
       "      <td>1</td>\n",
       "    </tr>\n",
       "    <tr>\n",
       "      <th>16</th>\n",
       "      <td>10</td>\n",
       "      <td>Counter-Strike</td>\n",
       "      <td>counter strike is the best shooting game i ve ...</td>\n",
       "      <td>1</td>\n",
       "      <td>1</td>\n",
       "    </tr>\n",
       "    <tr>\n",
       "      <th>17</th>\n",
       "      <td>10</td>\n",
       "      <td>Counter-Strike</td>\n",
       "      <td>it s a good game butu must to make strong vac ...</td>\n",
       "      <td>1</td>\n",
       "      <td>1</td>\n",
       "    </tr>\n",
       "    <tr>\n",
       "      <th>18</th>\n",
       "      <td>10</td>\n",
       "      <td>Counter-Strike</td>\n",
       "      <td>arguably the best competitive fps so far the s...</td>\n",
       "      <td>1</td>\n",
       "      <td>0</td>\n",
       "    </tr>\n",
       "    <tr>\n",
       "      <th>19</th>\n",
       "      <td>10</td>\n",
       "      <td>Counter-Strike</td>\n",
       "      <td>played it over hourswoah all i can say isthisi...</td>\n",
       "      <td>1</td>\n",
       "      <td>0</td>\n",
       "    </tr>\n",
       "  </tbody>\n",
       "</table>\n",
       "</div>"
      ],
      "text/plain": [
       "    app_id        app_name                                        review_text  \\\n",
       "0       10  Counter-Strike              still better than call of duty ghosts   \n",
       "1       10  Counter-Strike  every server is spanish or french i can now fl...   \n",
       "2       10  Counter-Strike                                    ruined my life    \n",
       "3       10  Counter-Strike  best shooter for years steam evolved because o...   \n",
       "4       10  Counter-Strike                                      old but gold    \n",
       "5       10  Counter-Strike                                   it s a nice game   \n",
       "6       10  Counter-Strike   no lag no russian guy saying classic no expen...   \n",
       "7       10  Counter-Strike  first starting off as a cute little mod based ...   \n",
       "8       10  Counter-Strike  the game that started it all i love global off...   \n",
       "9       10  Counter-Strike     if you dont like  then you can suck some balls   \n",
       "10      10  Counter-Strike   playing since non steam steam more that k hou...   \n",
       "11      10  Counter-Strike  in the days of my youth i was told what it mea...   \n",
       "12      10  Counter-Strike                                          childhood   \n",
       "13      10  Counter-Strike  simply the best shooter that you can play to f...   \n",
       "14      10  Counter-Strike  dropping in an old review here always a fun ga...   \n",
       "15      10  Counter-Strike  i have hours of gameplay on this since i got s...   \n",
       "16      10  Counter-Strike  counter strike is the best shooting game i ve ...   \n",
       "17      10  Counter-Strike  it s a good game butu must to make strong vac ...   \n",
       "18      10  Counter-Strike  arguably the best competitive fps so far the s...   \n",
       "19      10  Counter-Strike  played it over hourswoah all i can say isthisi...   \n",
       "\n",
       "    review_score  review_votes  \n",
       "0              1             1  \n",
       "1              1             0  \n",
       "2              1             1  \n",
       "3              1             0  \n",
       "4              1             1  \n",
       "5              1             1  \n",
       "6              1             1  \n",
       "7              1             1  \n",
       "8              1             1  \n",
       "9              1             1  \n",
       "10             1             1  \n",
       "11             1             1  \n",
       "12             1             1  \n",
       "13             1             1  \n",
       "14             1             1  \n",
       "15             1             1  \n",
       "16             1             1  \n",
       "17             1             1  \n",
       "18             1             0  \n",
       "19             1             0  "
      ]
     },
     "execution_count": 11,
     "metadata": {},
     "output_type": "execute_result"
    }
   ],
   "source": [
    "cleaning(dataset, 'review_text')\n",
    "\n",
    "dataset.head(20)"
   ]
  },
  {
   "cell_type": "code",
   "execution_count": 12,
   "metadata": {},
   "outputs": [
    {
     "data": {
      "text/html": [
       "<style type=\"text/css\">\n",
       "#T_69fb9_row0_col1 {\n",
       "  background-color: #08306b;\n",
       "  color: #f1f1f1;\n",
       "}\n",
       "#T_69fb9_row1_col1 {\n",
       "  background-color: #5da5d1;\n",
       "  color: #f1f1f1;\n",
       "}\n",
       "#T_69fb9_row2_col1 {\n",
       "  background-color: #69add5;\n",
       "  color: #f1f1f1;\n",
       "}\n",
       "#T_69fb9_row3_col1 {\n",
       "  background-color: #72b2d8;\n",
       "  color: #f1f1f1;\n",
       "}\n",
       "#T_69fb9_row4_col1 {\n",
       "  background-color: #84bcdb;\n",
       "  color: #000000;\n",
       "}\n",
       "#T_69fb9_row5_col1 {\n",
       "  background-color: #91c3de;\n",
       "  color: #000000;\n",
       "}\n",
       "#T_69fb9_row6_col1 {\n",
       "  background-color: #95c5df;\n",
       "  color: #000000;\n",
       "}\n",
       "#T_69fb9_row7_col1 {\n",
       "  background-color: #aacfe5;\n",
       "  color: #000000;\n",
       "}\n",
       "#T_69fb9_row8_col1 {\n",
       "  background-color: #add0e6;\n",
       "  color: #000000;\n",
       "}\n",
       "#T_69fb9_row9_col1 {\n",
       "  background-color: #b5d4e9;\n",
       "  color: #000000;\n",
       "}\n",
       "#T_69fb9_row10_col1 {\n",
       "  background-color: #cadef0;\n",
       "  color: #000000;\n",
       "}\n",
       "#T_69fb9_row11_col1 {\n",
       "  background-color: #dfebf7;\n",
       "  color: #000000;\n",
       "}\n",
       "#T_69fb9_row12_col1 {\n",
       "  background-color: #e3eef8;\n",
       "  color: #000000;\n",
       "}\n",
       "#T_69fb9_row13_col1 {\n",
       "  background-color: #e7f0fa;\n",
       "  color: #000000;\n",
       "}\n",
       "#T_69fb9_row14_col1 {\n",
       "  background-color: #ecf4fb;\n",
       "  color: #000000;\n",
       "}\n",
       "#T_69fb9_row15_col1, #T_69fb9_row16_col1 {\n",
       "  background-color: #eff6fc;\n",
       "  color: #000000;\n",
       "}\n",
       "#T_69fb9_row17_col1, #T_69fb9_row18_col1, #T_69fb9_row19_col1 {\n",
       "  background-color: #f7fbff;\n",
       "  color: #000000;\n",
       "}\n",
       "</style>\n",
       "<table id=\"T_69fb9\">\n",
       "  <thead>\n",
       "    <tr>\n",
       "      <th class=\"blank level0\" >&nbsp;</th>\n",
       "      <th id=\"T_69fb9_level0_col0\" class=\"col_heading level0 col0\" >Common_words</th>\n",
       "      <th id=\"T_69fb9_level0_col1\" class=\"col_heading level0 col1\" >count</th>\n",
       "    </tr>\n",
       "  </thead>\n",
       "  <tbody>\n",
       "    <tr>\n",
       "      <th id=\"T_69fb9_level0_row0\" class=\"row_heading level0 row0\" >0</th>\n",
       "      <td id=\"T_69fb9_row0_col0\" class=\"data row0 col0\" >the</td>\n",
       "      <td id=\"T_69fb9_row0_col1\" class=\"data row0 col1\" >2382503</td>\n",
       "    </tr>\n",
       "    <tr>\n",
       "      <th id=\"T_69fb9_level0_row1\" class=\"row_heading level0 row1\" >1</th>\n",
       "      <td id=\"T_69fb9_row1_col0\" class=\"data row1 col0\" >and</td>\n",
       "      <td id=\"T_69fb9_row1_col1\" class=\"data row1 col1\" >1441320</td>\n",
       "    </tr>\n",
       "    <tr>\n",
       "      <th id=\"T_69fb9_level0_row2\" class=\"row_heading level0 row2\" >2</th>\n",
       "      <td id=\"T_69fb9_row2_col0\" class=\"data row2 col0\" >a</td>\n",
       "      <td id=\"T_69fb9_row2_col1\" class=\"data row2 col1\" >1368515</td>\n",
       "    </tr>\n",
       "    <tr>\n",
       "      <th id=\"T_69fb9_level0_row3\" class=\"row_heading level0 row3\" >3</th>\n",
       "      <td id=\"T_69fb9_row3_col0\" class=\"data row3 col0\" >to</td>\n",
       "      <td id=\"T_69fb9_row3_col1\" class=\"data row3 col1\" >1319302</td>\n",
       "    </tr>\n",
       "    <tr>\n",
       "      <th id=\"T_69fb9_level0_row4\" class=\"row_heading level0 row4\" >4</th>\n",
       "      <td id=\"T_69fb9_row4_col0\" class=\"data row4 col0\" >game</td>\n",
       "      <td id=\"T_69fb9_row4_col1\" class=\"data row4 col1\" >1231436</td>\n",
       "    </tr>\n",
       "    <tr>\n",
       "      <th id=\"T_69fb9_level0_row5\" class=\"row_heading level0 row5\" >5</th>\n",
       "      <td id=\"T_69fb9_row5_col0\" class=\"data row5 col0\" >i</td>\n",
       "      <td id=\"T_69fb9_row5_col1\" class=\"data row5 col1\" >1161627</td>\n",
       "    </tr>\n",
       "    <tr>\n",
       "      <th id=\"T_69fb9_level0_row6\" class=\"row_heading level0 row6\" >6</th>\n",
       "      <td id=\"T_69fb9_row6_col0\" class=\"data row6 col0\" >it</td>\n",
       "      <td id=\"T_69fb9_row6_col1\" class=\"data row6 col1\" >1138320</td>\n",
       "    </tr>\n",
       "    <tr>\n",
       "      <th id=\"T_69fb9_level0_row7\" class=\"row_heading level0 row7\" >7</th>\n",
       "      <td id=\"T_69fb9_row7_col0\" class=\"data row7 col0\" >you</td>\n",
       "      <td id=\"T_69fb9_row7_col1\" class=\"data row7 col1\" >1022911</td>\n",
       "    </tr>\n",
       "    <tr>\n",
       "      <th id=\"T_69fb9_level0_row8\" class=\"row_heading level0 row8\" >8</th>\n",
       "      <td id=\"T_69fb9_row8_col0\" class=\"data row8 col0\" >of</td>\n",
       "      <td id=\"T_69fb9_row8_col1\" class=\"data row8 col1\" >1004512</td>\n",
       "    </tr>\n",
       "    <tr>\n",
       "      <th id=\"T_69fb9_level0_row9\" class=\"row_heading level0 row9\" >9</th>\n",
       "      <td id=\"T_69fb9_row9_col0\" class=\"data row9 col0\" >is</td>\n",
       "      <td id=\"T_69fb9_row9_col1\" class=\"data row9 col1\" >946505</td>\n",
       "    </tr>\n",
       "    <tr>\n",
       "      <th id=\"T_69fb9_level0_row10\" class=\"row_heading level0 row10\" >10</th>\n",
       "      <td id=\"T_69fb9_row10_col0\" class=\"data row10 col0\" >this</td>\n",
       "      <td id=\"T_69fb9_row10_col1\" class=\"data row10 col1\" >794297</td>\n",
       "    </tr>\n",
       "    <tr>\n",
       "      <th id=\"T_69fb9_level0_row11\" class=\"row_heading level0 row11\" >11</th>\n",
       "      <td id=\"T_69fb9_row11_col0\" class=\"data row11 col0\" >in</td>\n",
       "      <td id=\"T_69fb9_row11_col1\" class=\"data row11 col1\" >580946</td>\n",
       "    </tr>\n",
       "    <tr>\n",
       "      <th id=\"T_69fb9_level0_row12\" class=\"row_heading level0 row12\" >12</th>\n",
       "      <td id=\"T_69fb9_row12_col0\" class=\"data row12 col0\" >that</td>\n",
       "      <td id=\"T_69fb9_row12_col1\" class=\"data row12 col1\" >538934</td>\n",
       "    </tr>\n",
       "    <tr>\n",
       "      <th id=\"T_69fb9_level0_row13\" class=\"row_heading level0 row13\" >13</th>\n",
       "      <td id=\"T_69fb9_row13_col0\" class=\"data row13 col0\" >for</td>\n",
       "      <td id=\"T_69fb9_row13_col1\" class=\"data row13 col1\" >497462</td>\n",
       "    </tr>\n",
       "    <tr>\n",
       "      <th id=\"T_69fb9_level0_row14\" class=\"row_heading level0 row14\" >14</th>\n",
       "      <td id=\"T_69fb9_row14_col0\" class=\"data row14 col0\" >but</td>\n",
       "      <td id=\"T_69fb9_row14_col1\" class=\"data row14 col1\" >445749</td>\n",
       "    </tr>\n",
       "    <tr>\n",
       "      <th id=\"T_69fb9_level0_row15\" class=\"row_heading level0 row15\" >15</th>\n",
       "      <td id=\"T_69fb9_row15_col0\" class=\"data row15 col0\" >with</td>\n",
       "      <td id=\"T_69fb9_row15_col1\" class=\"data row15 col1\" >413978</td>\n",
       "    </tr>\n",
       "    <tr>\n",
       "      <th id=\"T_69fb9_level0_row16\" class=\"row_heading level0 row16\" >16</th>\n",
       "      <td id=\"T_69fb9_row16_col0\" class=\"data row16 col0\" >s</td>\n",
       "      <td id=\"T_69fb9_row16_col1\" class=\"data row16 col1\" >410572</td>\n",
       "    </tr>\n",
       "    <tr>\n",
       "      <th id=\"T_69fb9_level0_row17\" class=\"row_heading level0 row17\" >17</th>\n",
       "      <td id=\"T_69fb9_row17_col0\" class=\"data row17 col0\" >on</td>\n",
       "      <td id=\"T_69fb9_row17_col1\" class=\"data row17 col1\" >333544</td>\n",
       "    </tr>\n",
       "    <tr>\n",
       "      <th id=\"T_69fb9_level0_row18\" class=\"row_heading level0 row18\" >18</th>\n",
       "      <td id=\"T_69fb9_row18_col0\" class=\"data row18 col0\" >t</td>\n",
       "      <td id=\"T_69fb9_row18_col1\" class=\"data row18 col1\" >329071</td>\n",
       "    </tr>\n",
       "    <tr>\n",
       "      <th id=\"T_69fb9_level0_row19\" class=\"row_heading level0 row19\" >19</th>\n",
       "      <td id=\"T_69fb9_row19_col0\" class=\"data row19 col0\" >are</td>\n",
       "      <td id=\"T_69fb9_row19_col1\" class=\"data row19 col1\" >325684</td>\n",
       "    </tr>\n",
       "  </tbody>\n",
       "</table>\n"
      ],
      "text/plain": [
       "<pandas.io.formats.style.Styler at 0x10633aa60>"
      ]
     },
     "execution_count": 12,
     "metadata": {},
     "output_type": "execute_result"
    }
   ],
   "source": [
    "from collections import Counter\n",
    "\n",
    "\n",
    "review_vis2 = dataset.copy()\n",
    "\n",
    "review_vis2['temp_list'] = review_vis2['review_text'].apply(lambda x:str(x).split())\n",
    "top = Counter([item for sublist in review_vis2['temp_list'] for item in sublist])\n",
    "temp = pd.DataFrame(top.most_common(20))\n",
    "temp.columns = ['Common_words','count']\n",
    "temp.style.background_gradient(cmap='Blues')"
   ]
  },
  {
   "cell_type": "code",
   "execution_count": 13,
   "metadata": {},
   "outputs": [
    {
     "name": "stderr",
     "output_type": "stream",
     "text": [
      "/Users/michaelcheng/miniforge3/envs/fyp-test/lib/python3.9/site-packages/seaborn/_oldcore.py:1498: FutureWarning: is_categorical_dtype is deprecated and will be removed in a future version. Use isinstance(dtype, CategoricalDtype) instead\n",
      "  if pd.api.types.is_categorical_dtype(vector):\n",
      "/Users/michaelcheng/miniforge3/envs/fyp-test/lib/python3.9/site-packages/seaborn/_oldcore.py:1498: FutureWarning: is_categorical_dtype is deprecated and will be removed in a future version. Use isinstance(dtype, CategoricalDtype) instead\n",
      "  if pd.api.types.is_categorical_dtype(vector):\n",
      "/Users/michaelcheng/miniforge3/envs/fyp-test/lib/python3.9/site-packages/seaborn/_oldcore.py:1498: FutureWarning: is_categorical_dtype is deprecated and will be removed in a future version. Use isinstance(dtype, CategoricalDtype) instead\n",
      "  if pd.api.types.is_categorical_dtype(vector):\n"
     ]
    },
    {
     "data": {
      "text/plain": [
       "<Axes: xlabel='count', ylabel='Common_words'>"
      ]
     },
     "execution_count": 13,
     "metadata": {},
     "output_type": "execute_result"
    },
    {
     "data": {
      "image/png": "[encoded data removed]",
      "text/plain": [
       "<Figure size 432x288 with 1 Axes>"
      ]
     },
     "metadata": {
      "needs_background": "light"
     },
     "output_type": "display_data"
    }
   ],
   "source": [
    "import seaborn as sns\n",
    "import matplotlib.pyplot as plt\n",
    "\n",
    "plt.style.use('dark_background')\n",
    "sns.set_theme(style=\"whitegrid\")\n",
    "sns.barplot(x=\"count\", y=\"Common_words\", data=temp)"
   ]
  },
  {
   "cell_type": "markdown",
   "metadata": {},
   "source": [
    "Start our ML"
   ]
  },
  {
   "cell_type": "code",
   "execution_count": 14,
   "metadata": {},
   "outputs": [],
   "source": [
    "X = dataset['review_text']\n",
    "y = dataset['review_score']"
   ]
  },
  {
   "cell_type": "code",
   "execution_count": 15,
   "metadata": {},
   "outputs": [],
   "source": [
    "# convert the '-1' in y to '0'\n",
    "# s.t. 0 represents 'negative'\n",
    "# 1 represents 'positive'\n",
    "y = y.replace(-1, 0)\n"
   ]
  },
  {
   "cell_type": "code",
   "execution_count": 16,
   "metadata": {},
   "outputs": [
    {
     "name": "stdout",
     "output_type": "stream",
     "text": [
      "[1 0]\n"
     ]
    }
   ],
   "source": [
    "class_names = y.unique()\n",
    "print(class_names)"
   ]
  },
  {
   "cell_type": "code",
   "execution_count": 17,
   "metadata": {},
   "outputs": [],
   "source": [
    "# create \n",
    "# split to train and test dataset\n",
    "\n",
    "from sklearn.model_selection import train_test_split\n",
    "X_train, X_test, y_train, y_test = train_test_split(X, y, random_state=13, test_size=0.3)"
   ]
  },
  {
   "cell_type": "code",
   "execution_count": 18,
   "metadata": {},
   "outputs": [
    {
     "name": "stderr",
     "output_type": "stream",
     "text": [
      "2023-09-17 22:43:52.196595: I metal_plugin/src/device/metal_device.cc:1154] Metal device set to: Apple M1 Max\n",
      "2023-09-17 22:43:52.196845: I metal_plugin/src/device/metal_device.cc:296] systemMemory: 32.00 GB\n",
      "2023-09-17 22:43:52.196855: I metal_plugin/src/device/metal_device.cc:313] maxCacheSize: 10.67 GB\n",
      "2023-09-17 22:43:52.197908: I tensorflow/core/common_runtime/pluggable_device/pluggable_device_factory.cc:303] Could not identify NUMA node of platform GPU ID 0, defaulting to 0. Your kernel may not have been built with NUMA support.\n",
      "2023-09-17 22:43:52.199350: I tensorflow/core/common_runtime/pluggable_device/pluggable_device_factory.cc:269] Created TensorFlow device (/job:localhost/replica:0/task:0/device:GPU:0 with 0 MB memory) -> physical PluggableDevice (device: 0, name: METAL, pci bus id: <undefined>)\n",
      "2023-09-17 22:43:52.496072: I tensorflow/core/grappler/optimizers/custom_graph_optimizer_registry.cc:114] Plugin optimizer for device_type GPU is enabled.\n"
     ]
    }
   ],
   "source": [
    "import tensorflow as tf\n",
    "from tensorflow.keras.layers import TextVectorization\n",
    "\n",
    "vectorizer = TextVectorization(max_tokens=20000, output_sequence_length=200)\n",
    "text_ds = tf.data.Dataset.from_tensor_slices(X_train).batch(128)\n",
    "vectorizer.adapt(text_ds)"
   ]
  },
  {
   "cell_type": "code",
   "execution_count": 19,
   "metadata": {},
   "outputs": [
    {
     "data": {
      "text/plain": [
       "['', '[UNK]', 'the', 'and', 'a']"
      ]
     },
     "execution_count": 19,
     "metadata": {},
     "output_type": "execute_result"
    }
   ],
   "source": [
    "vectorizer.get_vocabulary()[:5]"
   ]
  },
  {
   "cell_type": "code",
   "execution_count": 20,
   "metadata": {},
   "outputs": [
    {
     "data": {
      "text/plain": [
       "array([  2,   6, 318, 151,   0,   0])"
      ]
     },
     "execution_count": 20,
     "metadata": {},
     "output_type": "execute_result"
    }
   ],
   "source": [
    "output = vectorizer([[\"the game looks awesome\"]])\n",
    "output.numpy()[0, :6]"
   ]
  },
  {
   "cell_type": "markdown",
   "metadata": {},
   "source": [
    "load pre-trained word embeddings\n",
    "\n",
    "Download glove dataset and place it according to the argument in Path() object"
   ]
  },
  {
   "cell_type": "code",
   "execution_count": 21,
   "metadata": {},
   "outputs": [
    {
     "name": "stdout",
     "output_type": "stream",
     "text": [
      "Found 400001 word vectors.\n"
     ]
    }
   ],
   "source": [
    "# glove_file_path = Path(\"glove.6B/glove.6B.100d.txt\").resolve()\n",
    "glove_file_path = Path(\"../glove.6B/glove.6B.100d.txt\").resolve()\n",
    "\n",
    "embeddings_index = {}\n",
    "with open(glove_file_path) as f:\n",
    "    for line in f:\n",
    "        word, coefs = line.split(maxsplit=1)\n",
    "        coefs = np.fromstring(coefs, \"f\", sep=\" \")\n",
    "        embeddings_index[word] = coefs\n",
    "\n",
    "print(\"Found %s word vectors.\" % len(embeddings_index))"
   ]
  },
  {
   "cell_type": "markdown",
   "metadata": {},
   "source": [
    "Now, let's prepare a corresponding embedding matrix that we can use in a Keras Embedding layer. \n",
    "\n",
    "It's a simple NumPy matrix where entry at index i is the pre-trained vector for the word of index i in our vectorizer's vocabulary."
   ]
  },
  {
   "cell_type": "code",
   "execution_count": 22,
   "metadata": {},
   "outputs": [
    {
     "name": "stdout",
     "output_type": "stream",
     "text": [
      "Converted 18283 words (1717 misses)\n"
     ]
    }
   ],
   "source": [
    "voc = vectorizer.get_vocabulary()\n",
    "word_index = dict(zip(voc, range(len(voc))))\n",
    "\n",
    "num_tokens = len(voc) + 2\n",
    "embedding_dim = 100\n",
    "hits = 0\n",
    "misses = 0\n",
    "\n",
    "# Prepare embedding matrix\n",
    "embedding_matrix = np.zeros((num_tokens, embedding_dim))\n",
    "for word, i in word_index.items():\n",
    "    embedding_vector = embeddings_index.get(word)\n",
    "    if embedding_vector is not None:\n",
    "        # Words not found in embedding index will be all-zeros.\n",
    "        # This includes the representation for \"padding\" and \"OOV\"\n",
    "        embedding_matrix[i] = embedding_vector\n",
    "        hits += 1\n",
    "    else:\n",
    "        misses += 1\n",
    "        \n",
    "print(\"Converted %d words (%d misses)\" % (hits, misses))"
   ]
  },
  {
   "cell_type": "markdown",
   "metadata": {},
   "source": [
    "Next, we load the pre-trained word embeddings matrix into an Embedding layer.\n",
    "\n",
    "Note that we set trainable=False so as to keep the embeddings fixed (we don't want to update them during training)."
   ]
  },
  {
   "cell_type": "code",
   "execution_count": 23,
   "metadata": {},
   "outputs": [],
   "source": [
    "import keras\n",
    "from tensorflow.keras.layers import Embedding\n",
    "\n",
    "embedding_layer = Embedding(\n",
    "    num_tokens,\n",
    "    embedding_dim,\n",
    "    embeddings_initializer=keras.initializers.Constant(embedding_matrix),\n",
    "    trainable=False,\n",
    ")"
   ]
  },
  {
   "cell_type": "markdown",
   "metadata": {},
   "source": [
    "Build the model\n",
    "\n",
    "A simple 1D convnet with global max pooling and a classifier at the end."
   ]
  },
  {
   "cell_type": "code",
   "execution_count": 24,
   "metadata": {},
   "outputs": [
    {
     "name": "stdout",
     "output_type": "stream",
     "text": [
      "Model: \"model\"\n",
      "_________________________________________________________________\n",
      " Layer (type)                Output Shape              Param #   \n",
      "=================================================================\n",
      " input_1 (InputLayer)        [(None, None)]            0         \n",
      "                                                                 \n",
      " embedding (Embedding)       (None, None, 100)         2000200   \n",
      "                                                                 \n",
      " conv1d (Conv1D)             (None, None, 128)         64128     \n",
      "                                                                 \n",
      " max_pooling1d (MaxPooling1  (None, None, 128)         0         \n",
      " D)                                                              \n",
      "                                                                 \n",
      " conv1d_1 (Conv1D)           (None, None, 128)         82048     \n",
      "                                                                 \n",
      " max_pooling1d_1 (MaxPoolin  (None, None, 128)         0         \n",
      " g1D)                                                            \n",
      "                                                                 \n",
      " conv1d_2 (Conv1D)           (None, None, 128)         82048     \n",
      "                                                                 \n",
      " global_max_pooling1d (Glob  (None, 128)               0         \n",
      " alMaxPooling1D)                                                 \n",
      "                                                                 \n",
      " dense (Dense)               (None, 128)               16512     \n",
      "                                                                 \n",
      " dropout (Dropout)           (None, 128)               0         \n",
      "                                                                 \n",
      " dense_1 (Dense)             (None, 2)                 258       \n",
      "                                                                 \n",
      "=================================================================\n",
      "Total params: 2245194 (8.56 MB)\n",
      "Trainable params: 244994 (957.01 KB)\n",
      "Non-trainable params: 2000200 (7.63 MB)\n",
      "_________________________________________________________________\n"
     ]
    }
   ],
   "source": [
    "from tensorflow.keras import layers\n",
    "\n",
    "int_sequences_input = keras.Input(shape=(None,), dtype=\"int64\")\n",
    "embedded_sequences = embedding_layer(int_sequences_input)\n",
    "x = layers.Conv1D(128, 5, activation=\"relu\")(embedded_sequences)\n",
    "x = layers.MaxPooling1D(5)(x)\n",
    "x = layers.Conv1D(128, 5, activation=\"relu\")(x)\n",
    "x = layers.MaxPooling1D(5)(x)\n",
    "x = layers.Conv1D(128, 5, activation=\"relu\")(x)\n",
    "x = layers.GlobalMaxPooling1D()(x)\n",
    "x = layers.Dense(128, activation=\"relu\")(x)\n",
    "x = layers.Dropout(0.5)(x)\n",
    "preds = layers.Dense(len(class_names), activation=\"softmax\")(x)           # for multi-class probability output\n",
    "# preds = layers.Dense(1, activation='sigmoid')(x)                             # for single-class output\n",
    "model = keras.Model(int_sequences_input, preds)\n",
    "model.summary()"
   ]
  },
  {
   "cell_type": "markdown",
   "metadata": {},
   "source": [
    "-----"
   ]
  },
  {
   "cell_type": "markdown",
   "metadata": {},
   "source": [
    "Before training, we need to fix the imbalance nature of the (training) dataset"
   ]
  },
  {
   "cell_type": "code",
   "execution_count": 25,
   "metadata": {},
   "outputs": [
    {
     "name": "stdout",
     "output_type": "stream",
     "text": [
      "reviews ratio:\n",
      "review_score\n",
      "1    0.82305\n",
      "0    0.17695\n",
      "Name: proportion, dtype: float64\n",
      "\n",
      "\n",
      "\n",
      "reviews count\n",
      "review_score\n",
      "1    455619\n",
      "0     97955\n",
      "Name: count, dtype: int64\n"
     ]
    }
   ],
   "source": [
    "print('reviews ratio:')\n",
    "print(y_train.value_counts(normalize=True))\n",
    "\n",
    "print('\\n\\n')\n",
    "\n",
    "print('reviews count')\n",
    "print(y_train.value_counts())"
   ]
  },
  {
   "cell_type": "code",
   "execution_count": 26,
   "metadata": {},
   "outputs": [
    {
     "name": "stdout",
     "output_type": "stream",
     "text": [
      "{1: 1.2149932289917673, 0: 5.651309274666939}\n",
      "{1: 1.2157109915449653, 0: 5.635832383124288}\n"
     ]
    }
   ],
   "source": [
    "# we create the weights for training\n",
    "inverse_func = lambda x: 1 / x\n",
    "class_weight_training = dict(\n",
    "    (k, inverse_func(v)) for k, v in dict(y_train.value_counts(normalize=True)).items()\n",
    ")\n",
    "\n",
    "print(class_weight_training)\n",
    "\n",
    "class_weight_testing = dict(\n",
    "    (k, inverse_func(v)) for k, v in dict(y_test.value_counts(normalize=True)).items()\n",
    ")\n",
    "\n",
    "print(class_weight_testing)"
   ]
  },
  {
   "cell_type": "markdown",
   "metadata": {},
   "source": [
    "Over 80% reviews are positive. We need to balance them s.t. each classes are equally distributed in both training and evaluation data.\n",
    "\n",
    "Or we pass parameter _class_weight_ to the Keras during training."
   ]
  },
  {
   "cell_type": "markdown",
   "metadata": {},
   "source": [
    "Train the model"
   ]
  },
  {
   "cell_type": "code",
   "execution_count": 27,
   "metadata": {},
   "outputs": [],
   "source": [
    "# we first vectorize the strings (i.e. embedding) for passing to the training pipeline \n",
    "\n",
    "X_train_vec = vectorizer(np.array([[s] for s in X_train])).numpy()\n",
    "X_test_vec = vectorizer(np.array([[s] for s in X_test])).numpy()\n",
    "\n",
    "y_train_arr = np.array(y_train)\n",
    "y_test_arr = np.array(y_test)\n",
    "\n",
    "get_test_weight = lambda x: class_weight_testing[x]\n",
    "y_test_weight = np.array([get_test_weight(x) for x in y_test_arr])"
   ]
  },
  {
   "cell_type": "code",
   "execution_count": 28,
   "metadata": {},
   "outputs": [
    {
     "name": "stdout",
     "output_type": "stream",
     "text": [
      "(237246,)\n",
      "(237246,)\n"
     ]
    }
   ],
   "source": [
    "print(y_test_arr.shape)\n",
    "print(y_test_weight.shape)"
   ]
  },
  {
   "cell_type": "code",
   "execution_count": 29,
   "metadata": {},
   "outputs": [
    {
     "data": {
      "text/plain": [
       "(553574, 200)"
      ]
     },
     "execution_count": 29,
     "metadata": {},
     "output_type": "execute_result"
    }
   ],
   "source": [
    "X_train_vec.shape"
   ]
  },
  {
   "cell_type": "markdown",
   "metadata": {},
   "source": [
    "We use categorical crossentropy as our loss since we're doing softmax classification. \n",
    "\n",
    "Moreover, we use sparse_categorical_crossentropy since our labels are integers."
   ]
  },
  {
   "cell_type": "code",
   "execution_count": 38,
   "metadata": {},
   "outputs": [
    {
     "name": "stdout",
     "output_type": "stream",
     "text": [
      "Epoch 1/20\n"
     ]
    },
    {
     "name": "stderr",
     "output_type": "stream",
     "text": [
      "2023-09-17 23:01:08.563602: I tensorflow/core/grappler/optimizers/custom_graph_optimizer_registry.cc:114] Plugin optimizer for device_type GPU is enabled.\n"
     ]
    },
    {
     "name": "stdout",
     "output_type": "stream",
     "text": [
      "4325/4325 [==============================] - ETA: 0s - loss: 0.8252 - sparse_categorical_accuracy: 0.8335 - sparse_categorical_accuracy_weighted: 0.8352"
     ]
    },
    {
     "name": "stderr",
     "output_type": "stream",
     "text": [
      "2023-09-17 23:01:59.500289: I tensorflow/core/grappler/optimizers/custom_graph_optimizer_registry.cc:114] Plugin optimizer for device_type GPU is enabled.\n"
     ]
    },
    {
     "name": "stdout",
     "output_type": "stream",
     "text": [
      "4325/4325 [==============================] - 62s 14ms/step - loss: 0.8252 - sparse_categorical_accuracy: 0.8335 - sparse_categorical_accuracy_weighted: 0.8352 - val_loss: 0.7753 - val_sparse_categorical_accuracy: 0.8515 - val_sparse_categorical_accuracy_weighted: 0.8412\n",
      "Epoch 2/20\n",
      "4325/4325 [==============================] - 65s 15ms/step - loss: 0.9031 - sparse_categorical_accuracy: 0.8333 - sparse_categorical_accuracy_weighted: 0.8340 - val_loss: 0.8736 - val_sparse_categorical_accuracy: 0.7923 - val_sparse_categorical_accuracy_weighted: 0.8334\n",
      "Epoch 3/20\n",
      "4325/4325 [==============================] - 62s 14ms/step - loss: 0.9508 - sparse_categorical_accuracy: 0.8303 - sparse_categorical_accuracy_weighted: 0.8303 - val_loss: 0.7805 - val_sparse_categorical_accuracy: 0.8503 - val_sparse_categorical_accuracy_weighted: 0.8444\n",
      "Epoch 4/20\n",
      "4325/4325 [==============================] - 61s 14ms/step - loss: 1.0900 - sparse_categorical_accuracy: 0.8275 - sparse_categorical_accuracy_weighted: 0.8280 - val_loss: 0.8739 - val_sparse_categorical_accuracy: 0.8597 - val_sparse_categorical_accuracy_weighted: 0.8413\n"
     ]
    }
   ],
   "source": [
    "# TODO: add more metrics\n",
    "# examples\n",
    "metrics = [\n",
    "    keras.metrics.SparseCategoricalAccuracy(),\n",
    "    # keras.metrics.FalseNegatives(name=\"fn\", thresholds=0),\n",
    "    # keras.metrics.FalsePositives(name=\"fp\"),\n",
    "    # keras.metrics.TrueNegatives(name=\"tn\"),\n",
    "    # keras.metrics.TruePositives(name=\"tp\"),\n",
    "    # keras.metrics.Precision(name=\"precision\"),\n",
    "    # keras.metrics.Recall(name=\"recall\")\n",
    "]\n",
    "model.compile(\n",
    "    loss=\"sparse_categorical_crossentropy\", optimizer='adam', metrics=metrics, weighted_metrics=keras.metrics.SparseCategoricalAccuracy('sparse_categorical_accuracy_weighted')\n",
    ")\n",
    "\n",
    "# model.compile(\n",
    "#     loss='binary_crossentropy', optimizer='rmsprop', weighted_metrics=metrics\n",
    "# )\n",
    "\n",
    "# apply early stopping to avoid overfit\n",
    "callback = tf.keras.callbacks.EarlyStopping(monitor='loss', patience=3)\n",
    "\n",
    "\n",
    "# try to use weighted samples to avoid data imbalance\n",
    "# so as the test\n",
    "history = model.fit(\n",
    "    X_train_vec, \n",
    "    y_train_arr, \n",
    "    batch_size=128,                 # TODO: test changing the batch size to include negative samples at each batch (update gradient...) \n",
    "    epochs=20, \n",
    "    validation_data=(X_test_vec, y_test_arr, y_test_weight), \n",
    "    class_weight=class_weight_training,\n",
    "    callbacks=[callback]\n",
    ")"
   ]
  },
  {
   "cell_type": "markdown",
   "metadata": {},
   "source": [
    "Check training hsitory, plot related stuff"
   ]
  },
  {
   "cell_type": "code",
   "execution_count": 39,
   "metadata": {},
   "outputs": [],
   "source": [
    "colors = plt.rcParams['axes.prop_cycle'].by_key()['color']\n",
    "\n",
    "# func from: https://www.tensorflow.org/tutorials/structured_data/imbalanced_data\n",
    "\n",
    "def plot_metrics(history):\n",
    "  metrics = ['loss', 'sparse_categorical_accuracy']\n",
    "  plt.style.use('dark_background')\n",
    "  for n, metric in enumerate(metrics):\n",
    "    name = metric.replace(\"_\",\" \").capitalize()\n",
    "    plt.subplot(2,2,n+1)\n",
    "    plt.plot(history.epoch, history.history[metric], color=colors[0], label='Train')\n",
    "    plt.plot(history.epoch, history.history['val_'+metric],\n",
    "             color=colors[0], linestyle=\"--\", label='Val')\n",
    "    plt.xlabel('Epoch')\n",
    "    plt.ylabel(name)\n",
    "    if metric == 'loss':\n",
    "      plt.ylim([0, plt.ylim()[1]])\n",
    "    elif metric == 'auc':\n",
    "      plt.ylim([0.8,1])\n",
    "    else:\n",
    "      plt.ylim([0,1])\n",
    "\n",
    "    plt.legend()"
   ]
  },
  {
   "cell_type": "code",
   "execution_count": 40,
   "metadata": {},
   "outputs": [
    {
     "data": {
      "image/png": "[encoded data removed]",
      "text/plain": [
       "<Figure size 432x288 with 2 Axes>"
      ]
     },
     "metadata": {},
     "output_type": "display_data"
    }
   ],
   "source": [
    "plot_metrics(history)"
   ]
  },
  {
   "cell_type": "markdown",
   "metadata": {},
   "source": [
    "Evaluation using test dataset\n",
    "\n",
    "Plot the confusion matrix"
   ]
  },
  {
   "cell_type": "code",
   "execution_count": null,
   "metadata": {},
   "outputs": [],
   "source": [
    "from sklearn.metrics import confusion_matrix\n",
    "\n",
    "def plot_cm(labels, predictions, threshold=0.5):\n",
    "  cm = confusion_matrix(labels, predictions > threshold)\n",
    "  plt.figure(figsize=(5,5))\n",
    "  sns.heatmap(cm, annot=True, fmt=\"d\")\n",
    "  plt.title('Confusion matrix @{:.2f}'.format(threshold))\n",
    "  plt.ylabel('Actual label')\n",
    "  plt.xlabel('Predicted label')\n",
    "\n",
    "  print('Legitimate Transactions Detected (True Negatives): ', cm[0][0])\n",
    "  print('Legitimate Transactions Incorrectly Detected (False Positives): ', cm[0][1])\n",
    "  print('Fraudulent Transactions Missed (False Negatives): ', cm[1][0])\n",
    "  print('Fraudulent Transactions Detected (True Positives): ', cm[1][1])\n",
    "  print('Total Fraudulent Transactions: ', np.sum(cm[1]))\n",
    "\n",
    "  "
   ]
  },
  {
   "cell_type": "code",
   "execution_count": null,
   "metadata": {},
   "outputs": [],
   "source": [
    "baseline_results = model.evaluate(X_test_vec, y_test_arr, batch_size = 128, verbose=0)\n",
    "\n",
    "for name, value in zip(model.metrics_name)"
   ]
  },
  {
   "cell_type": "markdown",
   "metadata": {},
   "source": [
    "Export an end-to-end model\n",
    "\n",
    "Now, we may want to export a Model object that takes as input a string of arbitrary length, rather than a sequence of indices. It would make the model much more portable, since you wouldn't have to worry about the input preprocessing pipeline.\n",
    "\n",
    "Our vectorizer is actually a Keras layer, so it's simple:"
   ]
  },
  {
   "cell_type": "code",
   "execution_count": 47,
   "metadata": {},
   "outputs": [
    {
     "name": "stdout",
     "output_type": "stream",
     "text": [
      "WARNING:tensorflow:5 out of the last 6 calls to <function Model.make_predict_function.<locals>.predict_function at 0x4751c51f0> triggered tf.function retracing. Tracing is expensive and the excessive number of tracings could be due to (1) creating @tf.function repeatedly in a loop, (2) passing tensors with different shapes, (3) passing Python objects instead of tensors. For (1), please define your @tf.function outside of the loop. For (2), @tf.function has reduce_retracing=True option that can avoid unnecessary retracing. For (3), please refer to https://www.tensorflow.org/guide/function#controlling_retracing and https://www.tensorflow.org/api_docs/python/tf/function for  more details.\n",
      "1/1 [==============================] - 0s 99ms/step\n",
      "[5.488087e-04 9.994512e-01]\n"
     ]
    },
    {
     "name": "stderr",
     "output_type": "stream",
     "text": [
      "2023-09-17 23:09:07.386334: I tensorflow/core/grappler/optimizers/custom_graph_optimizer_registry.cc:114] Plugin optimizer for device_type GPU is enabled.\n"
     ]
    }
   ],
   "source": [
    "string_input = keras.Input(shape=(1,), dtype=\"string\")\n",
    "x = vectorizer(string_input)\n",
    "preds = model(x)\n",
    "end_to_end_model = keras.Model(string_input, preds)"
   ]
  },
  {
   "cell_type": "code",
   "execution_count": 51,
   "metadata": {},
   "outputs": [
    {
     "name": "stdout",
     "output_type": "stream",
     "text": [
      "1/1 [==============================] - 0s 23ms/step\n"
     ]
    },
    {
     "name": "stdout",
     "output_type": "stream",
     "text": [
      "[[5.4880651e-04 9.9945122e-01]\n",
      " [1.1482235e-01 8.8517767e-01]\n",
      " [2.0211273e-05 9.9997973e-01]]\n"
     ]
    }
   ],
   "source": [
    "# positive reviews\n",
    "# the third one is an actual postitive review from AC6\n",
    "# https://steamcommunity.com/id/bromancedance/recommended/1888160/\n",
    "\n",
    "probabilities = end_to_end_model.predict(\n",
    "    [[\"The game deserves a game of the year\"], [\"I enjoy playing it very much\"], [\"Fun, FUN, FUN!!!!!! Souls is one of my favorite series of all time, but never tried an AC game before this one. This game is the most fun I've had in a game in so long. Not just the high points, but the pacing just keeps you in the fun seat CONSTANTLY. After playing Starfield and Baldurs Gate 3 recently it felt ILLEGAL how often I was having a blast. I was constantly ready for the point of the game where the fun would slow down, but it only ramps up. TRULY a breath of fresh air in todays gaming climate.\"]]\n",
    ")\n",
    "\n",
    "for prob in probabilities:\n",
    "    print('output:', prob, '; class:', np.argmax(prob))"
   ]
  },
  {
   "cell_type": "code",
   "execution_count": 52,
   "metadata": {},
   "outputs": [
    {
     "name": "stdout",
     "output_type": "stream",
     "text": [
      "1/1 [==============================] - 0s 25ms/step\n",
      "output: [0.99312115 0.00687893] ; class: 0\n",
      "output: [0.02755235 0.9724477 ] ; class: 1\n",
      "output: [0.9895983  0.01040172] ; class: 0\n"
     ]
    }
   ],
   "source": [
    "# negative reviews\n",
    "# the second one: https://steamcommunity.com/id/x-pert_bandit/recommended/1091500/\n",
    "# the third one: https://steamcommunity.com/profiles/76561197960511970/recommended/1716740/\n",
    "\n",
    "probabilities = end_to_end_model.predict(\n",
    "    [[\"Buying this game is wasting my money.\"], [\"Now before all else is said, it is a good game, if it wasn't I wouldn't have put in so many hours elsewise. But save your cash until they've fixed a majority of the bugs and optimized it a bit more.\"], [\"It is not a bad game. If you want Fallout in Space with dogfights, it absolutely delivers that. But the problems are that it feels very dated. The voice-acting and writing are embarrassingly bad, especially after coming off Baldurs Gate 3 where I found myself caring deeply about the characters and their stories. Starfield makes me want to skip dialog as fast as possible because it is so cringey. The main plot is about as cliched and uninspired as you can imagine. You are a no-name miner, but suddenly you are the crux of the whole plot and everyone just decides to make you the chosen one to do all the important stuff in a pre-existing group for no reason at all. It makes absolutely no sense when they had someone in their organization who had already experienced the mcguffin. The more I play it, the less I like it from the plot perspective. If people aren't playing for the plot, their experience will likely be better, but I still find the game feeling dated... Looks like I've played too much to refund it, which is disappointing, but the same issues still remain. The writing and voice-acting are reminiscent of a game from 1995 and really hold this game back.\"]]\n",
    ")\n",
    "\n",
    "for prob in probabilities:\n",
    "    print('output:', prob, '; class:', np.argmax(prob))"
   ]
  },
  {
   "cell_type": "markdown",
   "metadata": {},
   "source": [
    "Save the model"
   ]
  },
  {
   "cell_type": "code",
   "execution_count": 53,
   "metadata": {},
   "outputs": [],
   "source": [
    "end_to_end_model.save(\"keras_16-09-2023.keras\")"
   ]
  },
  {
   "cell_type": "markdown",
   "metadata": {},
   "source": [
    "------\n",
    "\n",
    "load the model and test its inference."
   ]
  },
  {
   "cell_type": "code",
   "execution_count": 54,
   "metadata": {},
   "outputs": [
    {
     "name": "stdout",
     "output_type": "stream",
     "text": [
      "1/1 [==============================] - 0s 27ms/step\n",
      "WARNING:tensorflow:6 out of the last 11 calls to <function Model.make_predict_function.<locals>.predict_function at 0x46b855ca0> triggered tf.function retracing. Tracing is expensive and the excessive number of tracings could be due to (1) creating @tf.function repeatedly in a loop, (2) passing tensors with different shapes, (3) passing Python objects instead of tensors. For (1), please define your @tf.function outside of the loop. For (2), @tf.function has reduce_retracing=True option that can avoid unnecessary retracing. For (3), please refer to https://www.tensorflow.org/guide/function#controlling_retracing and https://www.tensorflow.org/api_docs/python/tf/function for  more details.\n",
      "1/1 [==============================] - 0s 104ms/step\n"
     ]
    },
    {
     "name": "stderr",
     "output_type": "stream",
     "text": [
      "2023-09-17 23:23:36.196972: I tensorflow/core/grappler/optimizers/custom_graph_optimizer_registry.cc:114] Plugin optimizer for device_type GPU is enabled.\n"
     ]
    }
   ],
   "source": [
    "loaded_model = tf.keras.saving.load_model(\"keras_16-09-2023.keras\")\n",
    "\n",
    "text = \"I enjoy the game.\"\n",
    "\n",
    "assert np.allclose(end_to_end_model.predict([[text]]), loaded_model.predict([[text]]))"
   ]
  },
  {
   "cell_type": "code",
   "execution_count": null,
   "metadata": {},
   "outputs": [],
   "source": []
  },
  {
   "cell_type": "markdown",
   "metadata": {},
   "source": []
  }
 ],
 "metadata": {
  "kernelspec": {
   "display_name": "fyp-test",
   "language": "python",
   "name": "python3"
  },
  "language_info": {
   "codemirror_mode": {
    "name": "ipython",
    "version": 3
   },
   "file_extension": ".py",
   "mimetype": "text/x-python",
   "name": "python",
   "nbconvert_exporter": "python",
   "pygments_lexer": "ipython3",
   "version": "3.9.18"
  },
  "orig_nbformat": 4
 },
 "nbformat": 4,
 "nbformat_minor": 2
}
