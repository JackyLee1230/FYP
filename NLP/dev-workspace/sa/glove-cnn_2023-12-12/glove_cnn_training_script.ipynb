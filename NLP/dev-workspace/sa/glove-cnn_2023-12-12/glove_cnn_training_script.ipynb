{
 "cells": [
  {
   "cell_type": "markdown",
   "metadata": {},
   "source": [
    "SA on game comments\n",
    "\n",
    "model: GloVe + CNN (or BiLSTM whatsoever??)\n",
    "\n",
    "The training script to run (as training this is fast)"
   ]
  },
  {
   "cell_type": "markdown",
   "metadata": {},
   "source": [
    "---"
   ]
  },
  {
   "cell_type": "code",
   "execution_count": 1,
   "metadata": {},
   "outputs": [],
   "source": [
    "import sys\n",
    " \n",
    "# setting path for common utils script\n",
    "sys.path.append('../')\n",
    "\n",
    "import str_cleaning_functions\n",
    "import dataset_loader"
   ]
  },
  {
   "cell_type": "code",
   "execution_count": 2,
   "metadata": {},
   "outputs": [],
   "source": [
    "from pathlib import Path\n",
    "from datetime import datetime\n",
    "\n",
    "# build training output folder (storing the models)\n",
    "\n",
    "# set some parameters of this training\n",
    "DATASET_LIST = [120, 240, 480]\n",
    "DATASET_LIST_INDEX = 2\n",
    "DATASET_SIZE = DATASET_LIST[DATASET_LIST_INDEX]\n",
    "DATASET_IS_BALANCED = True\n",
    "\n",
    "# max_tokens for TextVectorization layer\n",
    "# max_tokens shd be equal to that in tfidf (for fair comparison)\n",
    "MAX_TOKENS = 20000\n",
    "\n",
    "training_name = 'glove-cnn-{}_{}k_{}'.format(\n",
    "    MAX_TOKENS,\n",
    "    DATASET_LIST[DATASET_LIST_INDEX],\n",
    "    'bal' if DATASET_IS_BALANCED else 'imbal')\n",
    "\n",
    "training_date = datetime.today()\n",
    "\n",
    "training_output_folder = Path(f'{training_name}/').resolve()\n",
    "\n",
    "if not training_output_folder.exists():\n",
    "    training_output_folder.mkdir(parents=True, exist_ok=False)"
   ]
  },
  {
   "cell_type": "markdown",
   "metadata": {},
   "source": [
    "Load the pre-sampled dataset"
   ]
  },
  {
   "cell_type": "code",
   "execution_count": 3,
   "metadata": {},
   "outputs": [
    {
     "name": "stdout",
     "output_type": "stream",
     "text": [
      "Loaded dataset size: 480k, is_balanced: True\n",
      "\n",
      "Training dataset class distribution\n",
      "review_score\n",
      "1    216038\n",
      "0    215962\n",
      "Name: count, dtype: int64\n",
      "Testing dataset class distribution\n",
      "review_score\n",
      "0    24038\n",
      "1    23962\n",
      "Name: count, dtype: int64\n",
      "\n",
      "\n",
      "\n"
     ]
    }
   ],
   "source": [
    "# load the pre-sampled dataset\n",
    "\n",
    "import pandas as pd\n",
    "import numpy as np\n",
    "import matplotlib.pyplot as plt\n",
    "import seaborn as sns\n",
    "\n",
    "# training_args_datetime = datetime(year=2023, month=12, day=18)\n",
    "# training_storing_folder = Path(training_name).resolve()\n",
    "\n",
    "# X_imbal_valid, y_imbal_valid, X_bal_valid, y_bal_valid = dataset_loader.load_presampled_validation_dataset()\n",
    "\n",
    "X_train, X_test, y_train, y_test = dataset_loader.load_presampled_traintest_dataset(DATASET_SIZE, DATASET_IS_BALANCED)"
   ]
  },
  {
   "cell_type": "markdown",
   "metadata": {},
   "source": [
    "---"
   ]
  },
  {
   "cell_type": "markdown",
   "metadata": {},
   "source": [
    "Any data augmentation plz add here"
   ]
  },
  {
   "cell_type": "code",
   "execution_count": 4,
   "metadata": {},
   "outputs": [],
   "source": [
    "# TODO: add data augmentation here"
   ]
  },
  {
   "cell_type": "markdown",
   "metadata": {},
   "source": [
    "---"
   ]
  },
  {
   "cell_type": "markdown",
   "metadata": {},
   "source": [
    "Data cleaning\n",
    "\n",
    "This is customized to each model, as each model has their own limitation to the dataset\n",
    "\n",
    "No rows will be removed in this step"
   ]
  },
  {
   "cell_type": "code",
   "execution_count": 5,
   "metadata": {},
   "outputs": [],
   "source": [
    "# define your own cleaning function\n",
    "\n",
    "def cleaning_arr(str_arr):\n",
    "    str_arr = str_arr.apply(lambda x: str_cleaning_functions.clean(x))\n",
    "    str_arr = str_arr.apply(lambda x: str_cleaning_functions.deEmojify(x))\n",
    "    str_arr = str_arr.apply(lambda x: x.lower())\n",
    "    str_arr = str_arr.apply(lambda x: str_cleaning_functions.remove_num(x))\n",
    "    str_arr = str_arr.apply(lambda x: str_cleaning_functions.remove_symbols(x))\n",
    "    str_arr = str_arr.apply(lambda x: str_cleaning_functions.remove_punctuation(x))\n",
    "    # str_arr = str_arr.apply(lambda x: str_cleaning_functions.remove_stopword(x))      # no need to remove stopwords, as previous study shown including stopwords can improve performance (https://aclanthology.org/P12-1092.pdf)\n",
    "    str_arr = str_arr.apply(lambda x: str_cleaning_functions.unify_whitespaces(x))\n",
    "    # str_arr = str_arr.apply(lambda x: str_cleaning_functions.stemming(x))\n",
    "\n",
    "\n",
    "    return str_arr"
   ]
  },
  {
   "cell_type": "code",
   "execution_count": 6,
   "metadata": {},
   "outputs": [],
   "source": [
    "X_train = cleaning_arr(X_train)\n",
    "X_train = X_train.to_numpy()\n",
    "y_train = y_train.to_numpy()"
   ]
  },
  {
   "cell_type": "code",
   "execution_count": 7,
   "metadata": {},
   "outputs": [],
   "source": [
    "X_test = cleaning_arr(X_test)\n",
    "X_test = X_test.to_numpy()\n",
    "y_test = y_test.to_numpy()"
   ]
  },
  {
   "cell_type": "code",
   "execution_count": 8,
   "metadata": {},
   "outputs": [
    {
     "name": "stdout",
     "output_type": "stream",
     "text": [
      "(432000,)\n",
      "(432000,)\n",
      "\n",
      "(48000,)\n",
      "(48000,)\n"
     ]
    }
   ],
   "source": [
    "# check shapes\n",
    "\n",
    "print(X_train.shape)\n",
    "print(y_train.shape)\n",
    "print()\n",
    "print(X_test.shape)\n",
    "print(y_test.shape)"
   ]
  },
  {
   "cell_type": "markdown",
   "metadata": {},
   "source": [
    "---"
   ]
  },
  {
   "cell_type": "markdown",
   "metadata": {},
   "source": [
    "Training phrase"
   ]
  },
  {
   "cell_type": "markdown",
   "metadata": {},
   "source": [
    "Create tf dataset object for efficient loading during training"
   ]
  },
  {
   "cell_type": "code",
   "execution_count": 9,
   "metadata": {},
   "outputs": [
    {
     "name": "stdout",
     "output_type": "stream",
     "text": [
      "[0 1]\n"
     ]
    }
   ],
   "source": [
    "class_names = np.unique(y_train)\n",
    "print(class_names)"
   ]
  },
  {
   "cell_type": "code",
   "execution_count": 10,
   "metadata": {},
   "outputs": [],
   "source": [
    "# some constants for the model\n",
    "\n",
    "# embedding dimension (dimension of glove dataset)\n",
    "EMBEDDING_DIM = 300\n",
    "\n",
    "# for text vectorization layer\n",
    "SEQUENCE_LENGTH = 512\n",
    "MAX_TOKENS = 20000"
   ]
  },
  {
   "cell_type": "code",
   "execution_count": 11,
   "metadata": {},
   "outputs": [
    {
     "name": "stderr",
     "output_type": "stream",
     "text": [
      "2023-12-20 17:38:39.028131: I tensorflow/core/util/port.cc:113] oneDNN custom operations are on. You may see slightly different numerical results due to floating-point round-off errors from different computation orders. To turn them off, set the environment variable `TF_ENABLE_ONEDNN_OPTS=0`.\n",
      "2023-12-20 17:38:39.051470: E external/local_xla/xla/stream_executor/cuda/cuda_dnn.cc:9261] Unable to register cuDNN factory: Attempting to register factory for plugin cuDNN when one has already been registered\n",
      "2023-12-20 17:38:39.051494: E external/local_xla/xla/stream_executor/cuda/cuda_fft.cc:607] Unable to register cuFFT factory: Attempting to register factory for plugin cuFFT when one has already been registered\n",
      "2023-12-20 17:38:39.051992: E external/local_xla/xla/stream_executor/cuda/cuda_blas.cc:1515] Unable to register cuBLAS factory: Attempting to register factory for plugin cuBLAS when one has already been registered\n",
      "2023-12-20 17:38:39.055836: I tensorflow/core/platform/cpu_feature_guard.cc:182] This TensorFlow binary is optimized to use available CPU instructions in performance-critical operations.\n",
      "To enable the following instructions: AVX2 AVX_VNNI FMA, in other operations, rebuild TensorFlow with the appropriate compiler flags.\n",
      "2023-12-20 17:38:39.459222: W tensorflow/compiler/tf2tensorrt/utils/py_utils.cc:38] TF-TRT Warning: Could not find TensorRT\n",
      "2023-12-20 17:38:39.836734: I external/local_xla/xla/stream_executor/cuda/cuda_executor.cc:887] could not open file to read NUMA node: /sys/bus/pci/devices/0000:01:00.0/numa_node\n",
      "Your kernel may have been built without NUMA support.\n",
      "2023-12-20 17:38:39.853749: I external/local_xla/xla/stream_executor/cuda/cuda_executor.cc:887] could not open file to read NUMA node: /sys/bus/pci/devices/0000:01:00.0/numa_node\n",
      "Your kernel may have been built without NUMA support.\n",
      "2023-12-20 17:38:39.853788: I external/local_xla/xla/stream_executor/cuda/cuda_executor.cc:887] could not open file to read NUMA node: /sys/bus/pci/devices/0000:01:00.0/numa_node\n",
      "Your kernel may have been built without NUMA support.\n",
      "2023-12-20 17:38:39.855314: I external/local_xla/xla/stream_executor/cuda/cuda_executor.cc:887] could not open file to read NUMA node: /sys/bus/pci/devices/0000:01:00.0/numa_node\n",
      "Your kernel may have been built without NUMA support.\n",
      "2023-12-20 17:38:39.855354: I external/local_xla/xla/stream_executor/cuda/cuda_executor.cc:887] could not open file to read NUMA node: /sys/bus/pci/devices/0000:01:00.0/numa_node\n",
      "Your kernel may have been built without NUMA support.\n",
      "2023-12-20 17:38:39.855368: I external/local_xla/xla/stream_executor/cuda/cuda_executor.cc:887] could not open file to read NUMA node: /sys/bus/pci/devices/0000:01:00.0/numa_node\n",
      "Your kernel may have been built without NUMA support.\n",
      "2023-12-20 17:38:40.016989: I external/local_xla/xla/stream_executor/cuda/cuda_executor.cc:887] could not open file to read NUMA node: /sys/bus/pci/devices/0000:01:00.0/numa_node\n",
      "Your kernel may have been built without NUMA support.\n",
      "2023-12-20 17:38:40.017034: I external/local_xla/xla/stream_executor/cuda/cuda_executor.cc:887] could not open file to read NUMA node: /sys/bus/pci/devices/0000:01:00.0/numa_node\n",
      "Your kernel may have been built without NUMA support.\n",
      "2023-12-20 17:38:40.017039: I tensorflow/core/common_runtime/gpu/gpu_device.cc:2022] Could not identify NUMA node of platform GPU id 0, defaulting to 0.  Your kernel may not have been built with NUMA support.\n",
      "2023-12-20 17:38:40.017062: I external/local_xla/xla/stream_executor/cuda/cuda_executor.cc:887] could not open file to read NUMA node: /sys/bus/pci/devices/0000:01:00.0/numa_node\n",
      "Your kernel may have been built without NUMA support.\n",
      "2023-12-20 17:38:40.017083: I tensorflow/core/common_runtime/gpu/gpu_device.cc:1929] Created device /job:localhost/replica:0/task:0/device:GPU:0 with 21472 MB memory:  -> device: 0, name: NVIDIA GeForce RTX 4090, pci bus id: 0000:01:00.0, compute capability: 8.9\n"
     ]
    }
   ],
   "source": [
    "import tensorflow as tf\n",
    "\n",
    "# create a tensorflow dataset object\n",
    "\n",
    "train_dataset = tf.data.Dataset.from_tensor_slices((X_train, y_train))\n",
    "test_dataset = tf.data.Dataset.from_tensor_slices((X_test, y_test))\n",
    "# valid_dataset = tf.data.Dataset.from_tensor_slices((X_valid, y_valid))"
   ]
  },
  {
   "cell_type": "code",
   "execution_count": 12,
   "metadata": {},
   "outputs": [],
   "source": [
    "# shuffle the training dataset, as we want to randomize the training process\n",
    "# shuffle before batch\n",
    "\n",
    "buffer_size = 10000\n",
    "\n",
    "train_dataset = train_dataset.shuffle(buffer_size=buffer_size, reshuffle_each_iteration=True)"
   ]
  },
  {
   "cell_type": "code",
   "execution_count": 13,
   "metadata": {},
   "outputs": [],
   "source": [
    "# batch datasets\n",
    "\n",
    "BATCH_SIZE = 128\n",
    "\n",
    "train_dataset = train_dataset.batch(BATCH_SIZE)\n",
    "test_dataset = test_dataset.batch(BATCH_SIZE)\n",
    "# valid_dataset = valid_dataset.batch(BATCH_SIZE)"
   ]
  },
  {
   "cell_type": "code",
   "execution_count": 14,
   "metadata": {},
   "outputs": [
    {
     "name": "stdout",
     "output_type": "stream",
     "text": [
      "Abstract: b'tl dr game is hard but not engaging it feels nothing like doom quake the only weapon you get is boring to use there isn t a proper level to run through just a wide open room and the beginning enemies are so monotonous that you won t feel a drive to even excel at the game if you want a hard fps throwback game with a bit of roguelite i d recommend ziggurat tower of guns paranautical activity or just go to the source and get doom and quake devil daggers might claim to be inspired by s fps games but make no mistake this is nothing like doom or quake you re dropped onto a wide open circle of ground and enemies spawn randomly on the edge spewing tons of flying skulls when they do if you get hit once you die there is nowhere to hide and the area is dark so some enemies will be hidden in that darkness in doom quake a lot of the gunplay came from moving quickly through cooridors finding secrets ducking in and out of doorway cover and being surprised by a monster closet opening behind you this game only spawns monsters around you with very little fanfare and you ll spend most of your time simply bunny hopping and circle strafing that s it this might be a fluid movement system but it does not supply an enjoyable nor interesting space to use it in the difficulty is very high as you d expect i can appreciate one hit difficulty but frequently you ll die because something spawned behind you without much or any warning or one lone skull did a tokyo drift and nipped your ankle or something else altogether the game won t give you feedback about why you died probably a lone enemy snuck up on you who knows there are tons of floating skulls everywhere but it simply isn t fun or interesting to fight them or die to them in the end the game killing you doesn t feel frustrating or terribly unfair really it s just kind of boring the only weapon you get is the devil daggers if you click mouse you have a weak shotgun attack that is nothing like the boomstick from doom it feels like a nerf gun if you hold mouse you get a minigun like weapon that actually does feel good to use i don t know why they chose to tie these firing modes to the same button you can t remap this either it feels clumsy to use and it often will not work at all simply giving you a one shot from the minigun instead of the shotgun combining the weakness of the shotgun shot with the unreliability of the controls i m not sure why you d bother to use it apparently the game gives you homing daggers for mouse at some point but i honestly never played enough to get there before i got extremely bored normally in difficult games you ll have a desire to get better at the game to learn from your mistakes and last a bit longer next time i didn t have that feeling in this game the gun dagger play felt so dull that i just accepted each death and tried again minutes later i felt like i only got marginally better but had no desire to try again there are more enemy types that i never got to see but i simply don t care enough to play longer to get to that content i also never got any double jump nor homing daggers or any upgrade finally you can watch replays of the top scores on the leaderboards so you can watch people who have mastery over the game play it s a lot of circle strafing and holding mouse not the most riveting gameplay to watch but you can appriciate how good these people are at the game i m just not sure why they feel driven to achieve that mastery when it just doesn t seem interesting to get there there are better deeper games out there that fill this niche '\n",
      "Label(s): 0\n",
      "\n",
      "Abstract: b'this game plays like a early access title much of the game feels unfinished or needs more balancing fear the rng because it doesn t take much in the first week of the game for a single disaster to force a roll back additionally the mechanics of the game such as health or morale are completly hidden you have no idea how much harm reduced rations will cause or what direction your popularity is going the popularity is especially important to know if you decided to allow elections i had good morale but had no idea if this meant that i would be elected over my rival overall don t buy now there is a lot of potential but the game needs to be finished first'\n",
      "Label(s): 0\n",
      "\n",
      "Abstract: b'this game is evil spend hours building a town and then a fire in the food barn destroyes my stockpile of firewood and all my food everyone in my town froze to death eating lether shoes '\n",
      "Label(s): 1\n",
      "\n",
      "Abstract: b'do not buy this game it crashes for me on mac and can t get beyond first few levels horrible music when you get to the main menu you are blown away by the extreme volume of the music'\n",
      "Label(s): 0\n",
      "\n",
      "Abstract: b'seen worse but very frustrating lots of try and error with decisions based on luck rather than knowing your abilities and using them the looks are okay to me and i liked the diary which makes the story come more alive and the dream sequence with the huge zombies in the background that was cool if you love zombies and do not care about frustration then give it a try'\n",
      "Label(s): 0\n",
      "\n"
     ]
    }
   ],
   "source": [
    "text_batch, label_batch = next(iter(train_dataset))\n",
    "\n",
    "for i, text in enumerate(text_batch[:5]):\n",
    "    label = label_batch[i].numpy()[None, ...]\n",
    "    print(f\"Abstract: {text}\")\n",
    "    print(f\"Label(s): {label[0]}\")\n",
    "    print()"
   ]
  },
  {
   "cell_type": "markdown",
   "metadata": {},
   "source": [
    "Create a vocabulary index\n",
    "\n",
    "Let's use the TextVectorization to index the vocabulary found in the dataset. Later, we'll use the same layer instance to vectorize the samples.\n",
    "\n",
    "Our layer will only consider the top N words, and will truncate or pad sequences to be actually 200 tokens long."
   ]
  },
  {
   "cell_type": "code",
   "execution_count": 15,
   "metadata": {},
   "outputs": [],
   "source": [
    "# import tensorflow as tf\n",
    "# from tensorflow.keras.layers import TextVectorization\n",
    "\n",
    "vectorizer = tf.keras.layers.TextVectorization(\n",
    "    max_tokens=MAX_TOKENS,                          # same as TFIDF-RF one\n",
    "    output_sequence_length=SEQUENCE_LENGTH)         # same as BERT\n",
    "# text_ds = tf.data.Dataset.from_tensor_slices(X_train_subset)\n",
    "vectorizer.adapt(train_dataset.map(lambda text, label: text))"
   ]
  },
  {
   "cell_type": "code",
   "execution_count": 16,
   "metadata": {},
   "outputs": [
    {
     "data": {
      "text/plain": [
       "['', '[UNK]', 'the', 'and', 'to', 'a', 'game', 'i', 'it', 'of']"
      ]
     },
     "execution_count": 16,
     "metadata": {},
     "output_type": "execute_result"
    }
   ],
   "source": [
    "vectorizer.get_vocabulary()[:10]"
   ]
  },
  {
   "cell_type": "code",
   "execution_count": 17,
   "metadata": {},
   "outputs": [
    {
     "name": "stdout",
     "output_type": "stream",
     "text": [
      "[  2   6 292 227   0   0   0   0   0   0   0   0   0   0   0   0   0   0\n",
      "   0   0   0   0   0   0   0   0   0   0   0   0   0   0   0   0   0   0\n",
      "   0   0   0   0   0   0   0   0   0   0   0   0   0   0   0   0   0   0\n",
      "   0   0   0   0   0   0   0   0   0   0   0   0   0   0   0   0   0   0\n",
      "   0   0   0   0   0   0   0   0   0   0   0   0   0   0   0   0   0   0\n",
      "   0   0   0   0   0   0   0   0   0   0   0   0   0   0   0   0   0   0\n",
      "   0   0   0   0   0   0   0   0   0   0   0   0   0   0   0   0   0   0\n",
      "   0   0   0   0   0   0   0   0   0   0   0   0   0   0   0   0   0   0\n",
      "   0   0   0   0   0   0   0   0   0   0   0   0   0   0   0   0   0   0\n",
      "   0   0   0   0   0   0   0   0   0   0   0   0   0   0   0   0   0   0\n",
      "   0   0   0   0   0   0   0   0   0   0   0   0   0   0   0   0   0   0\n",
      "   0   0   0   0   0   0   0   0   0   0   0   0   0   0   0   0   0   0\n",
      "   0   0   0   0   0   0   0   0   0   0   0   0   0   0   0   0   0   0\n",
      "   0   0   0   0   0   0   0   0   0   0   0   0   0   0   0   0   0   0\n",
      "   0   0   0   0   0   0   0   0   0   0   0   0   0   0   0   0   0   0\n",
      "   0   0   0   0   0   0   0   0   0   0   0   0   0   0   0   0   0   0\n",
      "   0   0   0   0   0   0   0   0   0   0   0   0   0   0   0   0   0   0\n",
      "   0   0   0   0   0   0   0   0   0   0   0   0   0   0   0   0   0   0\n",
      "   0   0   0   0   0   0   0   0   0   0   0   0   0   0   0   0   0   0\n",
      "   0   0   0   0   0   0   0   0   0   0   0   0   0   0   0   0   0   0\n",
      "   0   0   0   0   0   0   0   0   0   0   0   0   0   0   0   0   0   0\n",
      "   0   0   0   0   0   0   0   0   0   0   0   0   0   0   0   0   0   0\n",
      "   0   0   0   0   0   0   0   0   0   0   0   0   0   0   0   0   0   0\n",
      "   0   0   0   0   0   0   0   0   0   0   0   0   0   0   0   0   0   0\n",
      "   0   0   0   0   0   0   0   0   0   0   0   0   0   0   0   0   0   0\n",
      "   0   0   0   0   0   0   0   0   0   0   0   0   0   0   0   0   0   0\n",
      "   0   0   0   0   0   0   0   0   0   0   0   0   0   0   0   0   0   0\n",
      "   0   0   0   0   0   0   0   0   0   0   0   0   0   0   0   0   0   0\n",
      "   0   0   0   0   0   0   0   0]\n",
      "(1, 512)\n"
     ]
    }
   ],
   "source": [
    "output = vectorizer([[\"the game looks awesome\"]])\n",
    "print(output.numpy()[0, :])\n",
    "print(output.numpy().shape)"
   ]
  },
  {
   "cell_type": "markdown",
   "metadata": {},
   "source": [
    "load pre-trained word embeddings\n",
    "\n",
    "Download your own and save it under dev-workspace/sa/"
   ]
  },
  {
   "cell_type": "code",
   "execution_count": 18,
   "metadata": {},
   "outputs": [
    {
     "name": "stdout",
     "output_type": "stream",
     "text": [
      "Found 400000 word vectors.\n"
     ]
    }
   ],
   "source": [
    "glove_file_path = Path(f\"../glove.6B/glove.6B.{EMBEDDING_DIM}d.txt\").resolve()\n",
    "\n",
    "embeddings_index = {}\n",
    "with open(glove_file_path) as f:\n",
    "    for line in f:\n",
    "        word, coefs = line.split(maxsplit=1)\n",
    "        coefs = np.fromstring(coefs, \"f\", sep=\" \")\n",
    "        embeddings_index[word] = coefs\n",
    "\n",
    "print(\"Found %s word vectors.\" % len(embeddings_index))"
   ]
  },
  {
   "cell_type": "markdown",
   "metadata": {},
   "source": [
    "Now, let's prepare a corresponding embedding matrix that we can use in a Keras Embedding layer. \n",
    "\n",
    "It's a simple NumPy matrix where entry at index i is the pre-trained vector for the word of index i in our vectorizer's vocabulary."
   ]
  },
  {
   "cell_type": "code",
   "execution_count": 19,
   "metadata": {},
   "outputs": [
    {
     "name": "stdout",
     "output_type": "stream",
     "text": [
      "Converted 18205 words (1795 misses)\n"
     ]
    }
   ],
   "source": [
    "voc = vectorizer.get_vocabulary()\n",
    "word_index = dict(zip(voc, range(len(voc))))\n",
    "\n",
    "num_tokens = len(voc) + 2\n",
    "hits = 0\n",
    "misses = 0\n",
    "\n",
    "# Prepare embedding matrix\n",
    "embedding_matrix = np.zeros((num_tokens, EMBEDDING_DIM))\n",
    "for word, i in word_index.items():\n",
    "    embedding_vector = embeddings_index.get(word)\n",
    "    if embedding_vector is not None:\n",
    "        # Words not found in embedding index will be all-zeros.\n",
    "        # This includes the representation for \"padding\" and \"OOV\"\n",
    "        embedding_matrix[i] = embedding_vector\n",
    "        hits += 1\n",
    "    else:\n",
    "        misses += 1\n",
    "        \n",
    "print(\"Converted %d words (%d misses)\" % (hits, misses))"
   ]
  },
  {
   "cell_type": "markdown",
   "metadata": {},
   "source": [
    "Next, we load the pre-trained word embeddings matrix into an Embedding layer.\n",
    "\n",
    "Note that we set trainable=False so as to keep the embeddings fixed (we don't want to update them during training)."
   ]
  },
  {
   "cell_type": "code",
   "execution_count": 20,
   "metadata": {},
   "outputs": [],
   "source": [
    "import keras\n",
    "from tensorflow.keras.layers import Embedding\n",
    "\n",
    "embedding_layer = Embedding(\n",
    "    num_tokens,\n",
    "    EMBEDDING_DIM,\n",
    "    trainable=True,\n",
    ")\n",
    "embedding_layer.build((None,))\n",
    "embedding_layer.set_weights([embedding_matrix])"
   ]
  },
  {
   "cell_type": "markdown",
   "metadata": {},
   "source": [
    "Build the model\n",
    "\n",
    "The model we eventually implemented is borrowed from the original paper proposed CNN text classification, and further studies on parameters settings"
   ]
  },
  {
   "cell_type": "code",
   "execution_count": 21,
   "metadata": {},
   "outputs": [
    {
     "name": "stdout",
     "output_type": "stream",
     "text": [
      "Model: \"model\"\n",
      "__________________________________________________________________________________________________\n",
      " Layer (type)                Output Shape                 Param #   Connected to                  \n",
      "==================================================================================================\n",
      " input_1 (InputLayer)        [(None, 512)]                0         []                            \n",
      "                                                                                                  \n",
      " embedding (Embedding)       (None, 512, 300)             6000600   ['input_1[0][0]']             \n",
      "                                                                                                  \n",
      " conv1d (Conv1D)             (None, 506, 128)             268928    ['embedding[0][0]']           \n",
      "                                                                                                  \n",
      " conv1d_1 (Conv1D)           (None, 506, 128)             268928    ['embedding[0][0]']           \n",
      "                                                                                                  \n",
      " conv1d_2 (Conv1D)           (None, 506, 128)             268928    ['embedding[0][0]']           \n",
      "                                                                                                  \n",
      " max_pooling1d (MaxPooling1  (None, 1, 128)               0         ['conv1d[0][0]']              \n",
      " D)                                                                                               \n",
      "                                                                                                  \n",
      " max_pooling1d_1 (MaxPoolin  (None, 1, 128)               0         ['conv1d_1[0][0]']            \n",
      " g1D)                                                                                             \n",
      "                                                                                                  \n",
      " max_pooling1d_2 (MaxPoolin  (None, 1, 128)               0         ['conv1d_2[0][0]']            \n",
      " g1D)                                                                                             \n",
      "                                                                                                  \n",
      " concatenate (Concatenate)   (None, 1, 384)               0         ['max_pooling1d[0][0]',       \n",
      "                                                                     'max_pooling1d_1[0][0]',     \n",
      "                                                                     'max_pooling1d_2[0][0]']     \n",
      "                                                                                                  \n",
      " flatten (Flatten)           (None, 384)                  0         ['concatenate[0][0]']         \n",
      "                                                                                                  \n",
      " dropout (Dropout)           (None, 384)                  0         ['flatten[0][0]']             \n",
      "                                                                                                  \n",
      " dense (Dense)               (None, 2)                    770       ['dropout[0][0]']             \n",
      "                                                                                                  \n",
      "==================================================================================================\n",
      "Total params: 6808154 (25.97 MB)\n",
      "Trainable params: 6808154 (25.97 MB)\n",
      "Non-trainable params: 0 (0.00 Byte)\n",
      "__________________________________________________________________________________________________\n"
     ]
    }
   ],
   "source": [
    "from tensorflow.keras import layers\n",
    "\n",
    "# model from paper: https://www.aclweb.org/anthology/D14-1181.pdf\n",
    "# implementation (tf): https://github.com/dennybritz/cnn-text-classification-tf/blob/master/text_cnn.py\n",
    "\n",
    "\n",
    "# more paper: https://arxiv.org/pdf/1510.03820.pdf (parameters selection)\n",
    "# more paper (a recent one, from China+Philippines): https://downloads.hindawi.com/journals/js/2022/7212366.pdf\n",
    "# more paper (a recent from Indonesia): https://www.jatit.org/volumes/Vol100No2/5Vol100No2.pdf\n",
    "\n",
    "# more reference: https://www.kaggle.com/code/poigal/cnn-on-glove-word-embedding\n",
    "\n",
    "sequence_length = SEQUENCE_LENGTH\n",
    "filter_sizes = [7, 7, 7]\n",
    "num_filters = 128\n",
    "drop_rate = 0.3\n",
    "\n",
    "int_sequences_input = keras.Input(shape=(sequence_length,), dtype=\"int32\")\n",
    "embedded_sequences = embedding_layer(int_sequences_input)\n",
    "# reshape = layers.Reshape((sequence_length,EMBEDDING_DIM,1))(embedded_sequences)\n",
    "\n",
    "conv0 = layers.Conv1D(128, filter_sizes[0], activation=\"relu\")(embedded_sequences)\n",
    "conv1 = layers.Conv1D(128, filter_sizes[1], activation=\"relu\")(embedded_sequences)\n",
    "conv2 = layers.Conv1D(128, filter_sizes[2], activation=\"relu\")(embedded_sequences)\n",
    "\n",
    "\n",
    "maxpool0 = layers.MaxPooling1D(sequence_length - filter_sizes[0] + 1, strides=1, padding='valid')(conv0)\n",
    "maxpool1 = layers.MaxPooling1D(sequence_length - filter_sizes[1] + 1, strides=1, padding='valid')(conv1)\n",
    "maxpool2 = layers.MaxPooling1D(sequence_length - filter_sizes[2] + 1, strides=1, padding='valid')(conv2)\n",
    "\n",
    "# concate the output of three maxpool layers\n",
    "concatenated_tensor = layers.concatenate([maxpool0, maxpool1, maxpool2])\n",
    "flatten = layers.Flatten()(concatenated_tensor)\n",
    "dropout = layers.Dropout(drop_rate)(flatten)\n",
    "preds = layers.Dense(len(class_names), activation=\"softmax\")(dropout)\n",
    "\n",
    "model = keras.Model(int_sequences_input, preds)\n",
    "model.summary()"
   ]
  },
  {
   "cell_type": "markdown",
   "metadata": {},
   "source": [
    "apply the vectorizer to transform the strings to indices\n",
    "\n",
    "apply to all three datasets"
   ]
  },
  {
   "cell_type": "code",
   "execution_count": 22,
   "metadata": {},
   "outputs": [],
   "source": [
    "train_dataset = train_dataset.map(lambda x, y: (vectorizer(x), y)).prefetch(tf.data.AUTOTUNE)\n",
    "test_dataset = test_dataset.map(lambda x, y: (vectorizer(x), y)).prefetch(tf.data.AUTOTUNE)\n",
    "# valid_dataset = valid_dataset.map(lambda x, y: (vectorizer(x), y)).prefetch(tf.data.AUTOTUNE)"
   ]
  },
  {
   "cell_type": "code",
   "execution_count": 23,
   "metadata": {},
   "outputs": [],
   "source": [
    "for elem in train_dataset.as_numpy_iterator():\n",
    "    if elem[0].shape[1] != 512:\n",
    "        print('find one not equal with 512')\n",
    "        print('its shape = ', elem[0].shape)\n",
    "        print(elem)"
   ]
  },
  {
   "cell_type": "code",
   "execution_count": 24,
   "metadata": {},
   "outputs": [
    {
     "name": "stdout",
     "output_type": "stream",
     "text": [
      "(array([[  12,  194,   11, ...,    0,    0,    0],\n",
      "       [  12,   11,    5, ...,    0,    0,    0],\n",
      "       [ 173,    6,   38, ...,    0,    0,    0],\n",
      "       ...,\n",
      "       [1275,   51,    2, ...,    0,    0,    0],\n",
      "       [  65,  927,  301, ...,    0,    0,    0],\n",
      "       [  12,    6,   11, ...,   68,    2,  286]]), array([0, 1, 0, 0, 0, 0, 1, 1, 1, 1, 1, 0, 1, 1, 0, 1, 1, 1, 1, 0, 0, 1,\n",
      "       1, 0, 1, 1, 1, 0, 0, 0, 1, 1, 1, 1, 0, 0, 1, 1, 0, 1, 0, 0, 1, 0,\n",
      "       0, 0, 1, 1, 0, 0, 1, 0, 0, 1, 0, 0, 1, 1, 0, 0, 0, 1, 0, 1, 0, 0,\n",
      "       1, 0, 1, 0, 1, 1, 0, 1, 1, 1, 1, 1, 1, 1, 1, 1, 0, 0, 1, 0, 1, 1,\n",
      "       1, 0, 1, 1, 1, 0, 1, 0, 1, 0, 0, 0, 1, 1, 1, 1, 1, 1, 0, 1, 0, 1,\n",
      "       0, 0, 0, 0, 1, 0, 1, 0, 1, 1, 0, 0, 1, 0, 1, 1, 1, 0]))\n",
      "(128, 512)\n",
      "\n"
     ]
    }
   ],
   "source": [
    "tt = train_dataset.take(3).as_numpy_iterator()\n",
    "for elem in tt:\n",
    "    print(elem)\n",
    "    print(elem[0].shape)\n",
    "    print()\n",
    "    break"
   ]
  },
  {
   "cell_type": "markdown",
   "metadata": {},
   "source": [
    "training"
   ]
  },
  {
   "cell_type": "code",
   "execution_count": 25,
   "metadata": {},
   "outputs": [
    {
     "name": "stdout",
     "output_type": "stream",
     "text": [
      "Epoch 1/20\n"
     ]
    },
    {
     "name": "stderr",
     "output_type": "stream",
     "text": [
      "2023-12-20 17:38:57.572703: I external/local_xla/xla/stream_executor/cuda/cuda_dnn.cc:454] Loaded cuDNN version 8900\n",
      "2023-12-20 17:38:58.275563: I external/local_xla/xla/service/service.cc:168] XLA service 0x7f9e6ed80a50 initialized for platform CUDA (this does not guarantee that XLA will be used). Devices:\n",
      "2023-12-20 17:38:58.275589: I external/local_xla/xla/service/service.cc:176]   StreamExecutor device (0): NVIDIA GeForce RTX 4090, Compute Capability 8.9\n",
      "2023-12-20 17:38:58.278751: I tensorflow/compiler/mlir/tensorflow/utils/dump_mlir_util.cc:269] disabling MLIR crash reproducer, set env var `MLIR_CRASH_REPRODUCER_DIRECTORY` to enable.\n",
      "WARNING: All log messages before absl::InitializeLog() is called are written to STDERR\n",
      "I0000 00:00:1703065138.329905 3320016 device_compiler.h:186] Compiled cluster using XLA!  This line is logged at most once for the lifetime of the process.\n"
     ]
    },
    {
     "name": "stdout",
     "output_type": "stream",
     "text": [
      "3375/3375 [==============================] - 103s 30ms/step - loss: 0.3229 - sparse_categorical_accuracy: 0.8613 - val_loss: 0.2659 - val_sparse_categorical_accuracy: 0.8905 - lr: 0.0010\n",
      "Epoch 2/20\n",
      "3375/3375 [==============================] - 63s 19ms/step - loss: 0.2494 - sparse_categorical_accuracy: 0.8985 - val_loss: 0.2594 - val_sparse_categorical_accuracy: 0.8956 - lr: 0.0010\n",
      "Epoch 3/20\n",
      "3375/3375 [==============================] - ETA: 0s - loss: 0.2086 - sparse_categorical_accuracy: 0.9166\n",
      "Epoch 3: ReduceLROnPlateau reducing learning rate to 0.000800000037997961.\n",
      "3375/3375 [==============================] - 60s 18ms/step - loss: 0.2086 - sparse_categorical_accuracy: 0.9166 - val_loss: 0.2986 - val_sparse_categorical_accuracy: 0.8845 - lr: 0.0010\n",
      "Epoch 4/20\n",
      "3373/3375 [============================>.] - ETA: 0s - loss: 0.1611 - sparse_categorical_accuracy: 0.9373\n",
      "Epoch 4: ReduceLROnPlateau reducing learning rate to 0.0006400000303983689.\n",
      "3375/3375 [==============================] - 58s 17ms/step - loss: 0.1611 - sparse_categorical_accuracy: 0.9373 - val_loss: 0.3065 - val_sparse_categorical_accuracy: 0.8945 - lr: 8.0000e-04\n",
      "Epoch 5/20\n",
      "3372/3375 [============================>.] - ETA: 0s - loss: 0.1216 - sparse_categorical_accuracy: 0.9535\n",
      "Epoch 5: ReduceLROnPlateau reducing learning rate to 0.0005120000336319208.\n",
      "3375/3375 [==============================] - 58s 17ms/step - loss: 0.1216 - sparse_categorical_accuracy: 0.9535 - val_loss: 0.3541 - val_sparse_categorical_accuracy: 0.8944 - lr: 6.4000e-04\n",
      "Epoch 6/20\n",
      "3373/3375 [============================>.] - ETA: 0s - loss: 0.0947 - sparse_categorical_accuracy: 0.9648\n",
      "Epoch 6: ReduceLROnPlateau reducing learning rate to 0.00040960004553198815.\n",
      "3375/3375 [==============================] - 58s 17ms/step - loss: 0.0946 - sparse_categorical_accuracy: 0.9648 - val_loss: 0.3973 - val_sparse_categorical_accuracy: 0.8910 - lr: 5.1200e-04\n",
      "Epoch 7/20\n",
      "3374/3375 [============================>.] - ETA: 0s - loss: 0.0753 - sparse_categorical_accuracy: 0.9726\n",
      "Epoch 7: ReduceLROnPlateau reducing learning rate to 0.00032768002711236477.\n",
      "3375/3375 [==============================] - 58s 17ms/step - loss: 0.0753 - sparse_categorical_accuracy: 0.9726 - val_loss: 0.4350 - val_sparse_categorical_accuracy: 0.8937 - lr: 4.0960e-04\n"
     ]
    }
   ],
   "source": [
    "# copy from the cell above\n",
    "\n",
    "# TODO: add more metrics\n",
    "# examples\n",
    "from keras.src.callbacks import ReduceLROnPlateau\n",
    "\n",
    "\n",
    "metrics = [\n",
    "    keras.metrics.SparseCategoricalAccuracy(),\n",
    "    # keras.metrics.FalseNegatives(name=\"fn\", thresholds=0),\n",
    "    # keras.metrics.FalsePositives(name=\"fp\"),\n",
    "    # keras.metrics.TrueNegatives(name=\"tn\"),\n",
    "    # keras.metrics.TruePositives(name=\"tp\"),\n",
    "    # keras.metrics.Precision(name=\"precision\"),\n",
    "    # keras.metrics.Recall(name=\"recall\")\n",
    "]\n",
    "\n",
    "# using legacy optimizers because of compatability issue\n",
    "# model.compile(\n",
    "#     loss=\"sparse_categorical_crossentropy\", optimizer=tf.keras.optimizers.legacy.Adam(learning_rate=1e-3), metrics=metrics\n",
    "# )\n",
    "\n",
    "LEARNING_RATE = 1e-3\n",
    "\n",
    "model.compile(\n",
    "    loss=\"sparse_categorical_crossentropy\", optimizer=tf.keras.optimizers.Adam(learning_rate=LEARNING_RATE), metrics=metrics\n",
    ")\n",
    "\n",
    "# reduce learning rate when loss is not decreasing\n",
    "reduce_lr = ReduceLROnPlateau(monitor='val_loss', factor=0.8,\n",
    "                              patience=1, min_lr=0, verbose=1)\n",
    "\n",
    "# save the model with best accuracy, regardless of the val_loss\n",
    "# model_checkpoint_callback = tf.keras.callbacks.ModelCheckpoint(\n",
    "#     filepath=Path(f'{training_output_folder}/{training_name}_best_model.h5').resolve(),\n",
    "#     save_weights_only=True,\n",
    "#     monitor='val_accuracy',\n",
    "#     mode='max',\n",
    "#     save_best_only=True)\n",
    "\n",
    "# define tensorboard callback for revisiting data\n",
    "tensorboard_callback = [tf.keras.callbacks.TensorBoard(log_dir=Path(f'{training_output_folder}/logs').resolve())]\n",
    "\n",
    "# apply early stopping to avoid overfit\n",
    "early_stoping_callback = tf.keras.callbacks.EarlyStopping(monitor='val_loss', patience=5, restore_best_weights=True)\n",
    "\n",
    "\n",
    "# try to use weighted samples to avoid data imbalance\n",
    "# so as the test\n",
    "history_model = model.fit(\n",
    "    train_dataset,\n",
    "    epochs=20, \n",
    "    validation_data=test_dataset,\n",
    "    callbacks=[early_stoping_callback, reduce_lr, tensorboard_callback] \n",
    ")"
   ]
  },
  {
   "cell_type": "code",
   "execution_count": 26,
   "metadata": {},
   "outputs": [],
   "source": [
    "colors = plt.rcParams['axes.prop_cycle'].by_key()['color']\n",
    "\n",
    "# func from: https://www.tensorflow.org/tutorials/structured_data/imbalanced_data\n",
    "\n",
    "def plot_metrics(history):\n",
    "  metrics = ['loss', 'sparse_categorical_accuracy']\n",
    "  plt.style.use('seaborn-v0_8')\n",
    "  # plt.style.use('seaborn-v0_8-dark')\n",
    "  for n, metric in enumerate(metrics):\n",
    "    name = metric.replace(\"_\",\" \").capitalize()\n",
    "    plt.subplot(2,2,n+1)\n",
    "    plt.plot(history.epoch, history.history[metric], color=colors[0], label='Train')\n",
    "    plt.plot(history.epoch, history.history['val_'+metric],\n",
    "             color=colors[0], linestyle=\"--\", label='Val')\n",
    "    plt.xlabel('Epoch')\n",
    "    plt.ylabel(name)\n",
    "    if metric == 'loss':\n",
    "      plt.ylim([0, plt.ylim()[1]])\n",
    "    elif metric == 'auc':\n",
    "      plt.ylim([0.8,1])\n",
    "    else:\n",
    "      plt.ylim([0,1])\n",
    "\n",
    "    plt.title('Training metrics')\n",
    "    plt.legend()\n",
    "\n",
    "    # save the graph\n",
    "    plt.savefig(Path(f'{training_output_folder}/train_history_{training_name}_{training_date.strftime(\"%Y-%m-%d\")}_trainingmetrics.png').resolve(),\n",
    "                dpi=600, bbox_inches='tight')"
   ]
  },
  {
   "cell_type": "code",
   "execution_count": 27,
   "metadata": {},
   "outputs": [
    {
     "data": {
      "image/png": "[encoded data removed]",
      "text/plain": [
       "<Figure size 800x550 with 2 Axes>"
      ]
     },
     "metadata": {},
     "output_type": "display_data"
    }
   ],
   "source": [
    "plot_metrics(history_model)"
   ]
  },
  {
   "cell_type": "markdown",
   "metadata": {},
   "source": [
    "---"
   ]
  },
  {
   "cell_type": "markdown",
   "metadata": {},
   "source": [
    "Save the model and training history (for reproduce the graph and test result)"
   ]
  },
  {
   "cell_type": "code",
   "execution_count": 28,
   "metadata": {},
   "outputs": [],
   "source": [
    "import pickle\n",
    "\n",
    "with open(Path.joinpath(training_output_folder, 'train-history_{}_{}/'.format(\n",
    "    training_name,\n",
    "    training_date.strftime(\"%Y-%m-%d\"))), 'wb') as file_pi:\n",
    "    \n",
    "        pickle.dump(history_model.history, file_pi)"
   ]
  },
  {
   "cell_type": "code",
   "execution_count": 29,
   "metadata": {},
   "outputs": [],
   "source": [
    "# load training history\n",
    "\n",
    "# from datetime import datetime\n",
    "# import pickle\n",
    "\n",
    "# with open(Path.joinpath(training_output_folder, 'train-history_{}_{}/'.format(\n",
    "#     training_name,\n",
    "#     training_date.strftime(\"%Y-%m-%d\")\n",
    "#     )), 'rb') as file_pi:\n",
    "#         history_model_loaded = pickle.load(file_pi)"
   ]
  },
  {
   "cell_type": "code",
   "execution_count": 30,
   "metadata": {},
   "outputs": [],
   "source": [
    "# history_model_loaded"
   ]
  },
  {
   "cell_type": "code",
   "execution_count": 31,
   "metadata": {},
   "outputs": [],
   "source": [
    "# save text vectorizer\n",
    "\n",
    "with open(Path.joinpath(training_output_folder, \"{}_{}_textvectorizer.pkl\".format(\n",
    "                training_name,\n",
    "                training_date.strftime(\"%Y-%m-%d\"))\n",
    "            ), 'wb') as f:\n",
    "    \n",
    "\n",
    "    pickle.dump({'config': vectorizer.get_config(),\n",
    "                'weights': vectorizer.get_weights()}\n",
    "                , f)"
   ]
  },
  {
   "cell_type": "markdown",
   "metadata": {},
   "source": [
    "---"
   ]
  },
  {
   "cell_type": "code",
   "execution_count": 32,
   "metadata": {},
   "outputs": [],
   "source": [
    "# load text vectorizer\n",
    "\n",
    "# from_disk = pickle.load(open(Path.joinpath(\n",
    "#     training_output_folder,\n",
    "#     \"{}_{}_textvectorizer.pkl\".format(\n",
    "#                 training_name,\n",
    "#                 training_date.strftime(\"%Y-%m-%d\"))\n",
    "#             ), \"rb\"))\n",
    "\n",
    "# vectorizer_loaded = tf.keras.layers.TextVectorization(\n",
    "#     max_tokens=20000, \n",
    "#     output_sequence_length=512)\n",
    "\n",
    "# vectorizer_loaded.set_weights(from_disk['weights'])"
   ]
  },
  {
   "cell_type": "code",
   "execution_count": 33,
   "metadata": {},
   "outputs": [],
   "source": [
    "# output2 = vectorizer_loaded([[\"the game looks awesome\"]])\n",
    "# print(output2.numpy()[0, :])\n",
    "# print(output2.numpy().shape)"
   ]
  },
  {
   "cell_type": "code",
   "execution_count": 34,
   "metadata": {},
   "outputs": [],
   "source": [
    "# save the model itself\n",
    "\n",
    "model.save(Path.joinpath(\n",
    "    training_output_folder,\n",
    "    '{}_{}_model.keras'.format(\n",
    "        training_name,\n",
    "        training_date.strftime(\"%Y-%m-%d\"))\n",
    "    ))"
   ]
  },
  {
   "cell_type": "code",
   "execution_count": 35,
   "metadata": {},
   "outputs": [],
   "source": [
    "# load the model itself\n",
    "\n",
    "# model_loaded = keras.models.load_model(Path.joinpath(\n",
    "#     training_output_folder,\n",
    "#     '{}_{}_model.keras'.format(\n",
    "#         training_name,\n",
    "#         training_date.strftime(\"%Y-%m-%d\")\n",
    "#     )\n",
    "# ))"
   ]
  },
  {
   "cell_type": "code",
   "execution_count": 36,
   "metadata": {},
   "outputs": [],
   "source": [
    "# model_loaded.summary()"
   ]
  },
  {
   "cell_type": "markdown",
   "metadata": {},
   "source": [
    "---"
   ]
  },
  {
   "cell_type": "markdown",
   "metadata": {},
   "source": [
    "Save the model (a end2end pipeline for single string)"
   ]
  },
  {
   "cell_type": "code",
   "execution_count": 37,
   "metadata": {},
   "outputs": [],
   "source": [
    "string_input = keras.Input(shape=(1,), dtype=\"string\")\n",
    "x = vectorizer(string_input)\n",
    "preds = model(x)\n",
    "end_to_end_model = keras.Model(string_input, preds)"
   ]
  },
  {
   "cell_type": "code",
   "execution_count": 38,
   "metadata": {},
   "outputs": [],
   "source": [
    "end_to_end_model.save(Path.joinpath(\n",
    "    training_output_folder,\n",
    "    '{}_{}_end2end.keras'.format(\n",
    "        training_name,\n",
    "        training_date.strftime(\"%Y-%m-%d\"))\n",
    "))"
   ]
  },
  {
   "cell_type": "code",
   "execution_count": 39,
   "metadata": {},
   "outputs": [],
   "source": [
    "# string_input = keras.Input(shape=(1,), dtype=\"string\")\n",
    "# x = vectorizer_loaded(string_input)\n",
    "# preds = model_loaded(x)\n",
    "# end_to_end_model = keras.Model(string_input, preds)"
   ]
  },
  {
   "cell_type": "code",
   "execution_count": 40,
   "metadata": {},
   "outputs": [
    {
     "name": "stdout",
     "output_type": "stream",
     "text": [
      "1/1 [==============================] - 0s 108ms/step\n",
      "output: [0.02418574 0.9758143 ] ; class: 1\n",
      "output: [0.2268303 0.7731697] ; class: 1\n",
      "output: [0.00650699 0.993493  ] ; class: 1\n"
     ]
    }
   ],
   "source": [
    "# positive reviews\n",
    "# the third one is an actual postitive review from AC6\n",
    "# https://steamcommunity.com/id/bromancedance/recommended/1888160/\n",
    "\n",
    "probabilities = end_to_end_model.predict(\n",
    "    [[\"The game deserves a game of the year\"], [\"I enjoy playing it very much\"], [\"Fun, FUN, FUN!!!!!! Souls is one of my favorite series of all time, but never tried an AC game before this one. This game is the most fun I've had in a game in so long. Not just the high points, but the pacing just keeps you in the fun seat CONSTANTLY. After playing Starfield and Baldurs Gate 3 recently it felt ILLEGAL how often I was having a blast. I was constantly ready for the point of the game where the fun would slow down, but it only ramps up. TRULY a breath of fresh air in todays gaming climate.\"]]\n",
    ")\n",
    "\n",
    "for prob in probabilities:\n",
    "    print('output:', prob, '; class:', np.argmax(prob))"
   ]
  },
  {
   "cell_type": "code",
   "execution_count": 41,
   "metadata": {},
   "outputs": [
    {
     "name": "stdout",
     "output_type": "stream",
     "text": [
      "1/1 [==============================] - 0s 20ms/step\n",
      "output: [0.95612025 0.04387974] ; class: 0\n",
      "output: [0.84603477 0.15396526] ; class: 0\n",
      "output: [0.9939925  0.00600743] ; class: 0\n"
     ]
    }
   ],
   "source": [
    "# negative reviews\n",
    "# the second one: https://steamcommunity.com/id/x-pert_bandit/recommended/1091500/\n",
    "# the third one: https://steamcommunity.com/profiles/76561197960511970/recommended/1716740/\n",
    "\n",
    "probabilities = end_to_end_model.predict(\n",
    "    [[\"Buying this game is wasting my money.\"], [\"Now before all else is said, it is a good game, if it wasn't I wouldn't have put in so many hours elsewise. But save your cash until they've fixed a majority of the bugs and optimized it a bit more.\"], [\"It is not a bad game. If you want Fallout in Space with dogfights, it absolutely delivers that. But the problems are that it feels very dated. The voice-acting and writing are embarrassingly bad, especially after coming off Baldurs Gate 3 where I found myself caring deeply about the characters and their stories. Starfield makes me want to skip dialog as fast as possible because it is so cringey. The main plot is about as cliched and uninspired as you can imagine. You are a no-name miner, but suddenly you are the crux of the whole plot and everyone just decides to make you the chosen one to do all the important stuff in a pre-existing group for no reason at all. It makes absolutely no sense when they had someone in their organization who had already experienced the mcguffin. The more I play it, the less I like it from the plot perspective. If people aren't playing for the plot, their experience will likely be better, but I still find the game feeling dated... Looks like I've played too much to refund it, which is disappointing, but the same issues still remain. The writing and voice-acting are reminiscent of a game from 1995 and really hold this game back.\"]]\n",
    ")\n",
    "\n",
    "for prob in probabilities:\n",
    "    print('output:', prob, '; class:', np.argmax(prob))"
   ]
  },
  {
   "cell_type": "code",
   "execution_count": 42,
   "metadata": {},
   "outputs": [],
   "source": [
    "# load end to end model\n",
    "\n",
    "# end_to_end_model_loaded = keras.models.load_model(Path.joinpath(\n",
    "#     training_output_folder,\n",
    "#     '{}_{}_end2end.keras'.format(\n",
    "#         training_name,\n",
    "#         training_date.strftime(\"%Y-%m-%d\"))\n",
    "# ))\n",
    "\n",
    "# end_to_end_model_loaded.summary()"
   ]
  },
  {
   "cell_type": "markdown",
   "metadata": {},
   "source": [
    "---"
   ]
  },
  {
   "cell_type": "markdown",
   "metadata": {},
   "source": [
    "Training ends"
   ]
  }
 ],
 "metadata": {
  "kernelspec": {
   "display_name": "fyp-test-wsl",
   "language": "python",
   "name": "python3"
  },
  "language_info": {
   "codemirror_mode": {
    "name": "ipython",
    "version": 3
   },
   "file_extension": ".py",
   "mimetype": "text/x-python",
   "name": "python",
   "nbconvert_exporter": "python",
   "pygments_lexer": "ipython3",
   "version": "3.9.18"
  }
 },
 "nbformat": 4,
 "nbformat_minor": 2
}
