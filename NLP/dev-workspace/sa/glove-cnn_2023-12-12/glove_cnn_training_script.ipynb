{
 "cells": [
  {
   "cell_type": "markdown",
   "metadata": {},
   "source": [
    "SA on game comments\n",
    "\n",
    "model: GloVe + CNN (or BiLSTM whatsoever??)\n",
    "\n",
    "The training script to run (as training this is fast)"
   ]
  },
  {
   "cell_type": "markdown",
   "metadata": {},
   "source": [
    "---"
   ]
  },
  {
   "cell_type": "code",
   "execution_count": 1,
   "metadata": {},
   "outputs": [],
   "source": [
    "import sys\n",
    " \n",
    "# setting path for common utils script\n",
    "sys.path.append('../')\n",
    "\n",
    "import str_cleaning_functions\n",
    "import dataset_loader"
   ]
  },
  {
   "cell_type": "code",
   "execution_count": 152,
   "metadata": {},
   "outputs": [],
   "source": [
    "from pathlib import Path\n",
    "from datetime import datetime\n",
    "\n",
    "# build training output folder (storing the models)\n",
    "\n",
    "# set some parameters of this training\n",
    "DATASET_LIST = [120, 240, 480]\n",
    "DATASET_LIST_INDEX = 0\n",
    "DATASET_SIZE = DATASET_LIST[DATASET_LIST_INDEX]\n",
    "DATASET_IS_BALANCED = True\n",
    "\n",
    "# max_tokens for TextVectorization layer\n",
    "# max_tokens shd be equal to that in tfidf (for fair comparison)\n",
    "MAX_TOKENS = 20000\n",
    "\n",
    "training_name = 'glove-cnn-{}_{}k_{}'.format(\n",
    "    MAX_TOKENS,\n",
    "    DATASET_LIST[DATASET_LIST_INDEX],\n",
    "    'bal' if DATASET_IS_BALANCED else 'imbal')\n",
    "\n",
    "training_date = datetime.today()\n",
    "\n",
    "training_name = f'{training_name}_{training_date.strftime(\"%Y-%m-%d\")}'\n",
    "\n",
    "training_output_folder = Path(f'{training_name}/').resolve()\n",
    "\n",
    "if not training_output_folder.exists():\n",
    "    training_output_folder.mkdir(parents=True, exist_ok=False)"
   ]
  },
  {
   "cell_type": "markdown",
   "metadata": {},
   "source": [
    "Load the pre-sampled dataset"
   ]
  },
  {
   "cell_type": "code",
   "execution_count": 153,
   "metadata": {},
   "outputs": [
    {
     "name": "stdout",
     "output_type": "stream",
     "text": [
      "Loaded dataset size: 120k, is_balanced: True\n",
      "\n",
      "Training dataset class distribution\n",
      "review_score\n",
      "0    54060\n",
      "1    53940\n",
      "Name: count, dtype: int64\n",
      "Testing dataset class distribution\n",
      "review_score\n",
      "1    6060\n",
      "0    5940\n",
      "Name: count, dtype: int64\n",
      "\n",
      "\n",
      "\n"
     ]
    }
   ],
   "source": [
    "# load the pre-sampled dataset\n",
    "\n",
    "import pandas as pd\n",
    "import numpy as np\n",
    "import matplotlib.pyplot as plt\n",
    "import seaborn as sns\n",
    "\n",
    "# training_args_datetime = datetime(year=2023, month=12, day=18)\n",
    "# training_storing_folder = Path(training_name).resolve()\n",
    "\n",
    "# X_imbal_valid, y_imbal_valid, X_bal_valid, y_bal_valid = dataset_loader.load_presampled_validation_dataset()\n",
    "\n",
    "X_train, X_test, y_train, y_test = dataset_loader.load_presampled_traintest_dataset(DATASET_SIZE, DATASET_IS_BALANCED)"
   ]
  },
  {
   "cell_type": "markdown",
   "metadata": {},
   "source": [
    "---"
   ]
  },
  {
   "cell_type": "markdown",
   "metadata": {},
   "source": [
    "Any data augmentation plz add here"
   ]
  },
  {
   "cell_type": "code",
   "execution_count": 154,
   "metadata": {},
   "outputs": [],
   "source": [
    "# TODO: add data augmentation here"
   ]
  },
  {
   "cell_type": "markdown",
   "metadata": {},
   "source": [
    "---"
   ]
  },
  {
   "cell_type": "markdown",
   "metadata": {},
   "source": [
    "Data cleaning\n",
    "\n",
    "This is customized to each model, as each model has their own limitation to the dataset\n",
    "\n",
    "No rows will be removed in this step"
   ]
  },
  {
   "cell_type": "code",
   "execution_count": 155,
   "metadata": {},
   "outputs": [],
   "source": [
    "# define your own cleaning function\n",
    "\n",
    "def cleaning_arr(str_arr):\n",
    "    str_arr = str_arr.apply(lambda x: str_cleaning_functions.remove_links(x))\n",
    "    str_arr = str_arr.apply(lambda x: str_cleaning_functions.remove_links2(x))\n",
    "    str_arr = str_arr.apply(lambda x: str_cleaning_functions.clean(x))\n",
    "    str_arr = str_arr.apply(lambda x: str_cleaning_functions.deEmojify(x))\n",
    "    str_arr = str_arr.apply(lambda x: str_cleaning_functions.remove_non_letters(x))\n",
    "    str_arr = str_arr.apply(lambda x: x.lower())\n",
    "    # str_arr = str_arr.apply(lambda x: str_cleaning_functions.remove_stopword(x))      # no need to remove stopwords, as glove is trained with stopwords\n",
    "    str_arr = str_arr.apply(lambda x: str_cleaning_functions.unify_whitespaces(x))\n",
    "    # str_arr = str_arr.apply(lambda x: str_cleaning_functions.stemming(x))\n",
    "\n",
    "\n",
    "    return str_arr"
   ]
  },
  {
   "cell_type": "code",
   "execution_count": 156,
   "metadata": {},
   "outputs": [],
   "source": [
    "X_train = cleaning_arr(X_train)\n",
    "X_train = X_train.to_numpy()\n",
    "y_train = y_train.to_numpy()"
   ]
  },
  {
   "cell_type": "code",
   "execution_count": 157,
   "metadata": {},
   "outputs": [],
   "source": [
    "X_test = cleaning_arr(X_test)\n",
    "X_test = X_test.to_numpy()\n",
    "y_test = y_test.to_numpy()"
   ]
  },
  {
   "cell_type": "code",
   "execution_count": 158,
   "metadata": {},
   "outputs": [
    {
     "name": "stdout",
     "output_type": "stream",
     "text": [
      "(108000,)\n",
      "(108000,)\n",
      "\n",
      "(12000,)\n",
      "(12000,)\n"
     ]
    }
   ],
   "source": [
    "# check shapes\n",
    "\n",
    "print(X_train.shape)\n",
    "print(y_train.shape)\n",
    "print()\n",
    "print(X_test.shape)\n",
    "print(y_test.shape)"
   ]
  },
  {
   "cell_type": "markdown",
   "metadata": {},
   "source": [
    "---"
   ]
  },
  {
   "cell_type": "markdown",
   "metadata": {},
   "source": [
    "Training phrase"
   ]
  },
  {
   "cell_type": "markdown",
   "metadata": {},
   "source": [
    "Create tf dataset object for efficient loading during training"
   ]
  },
  {
   "cell_type": "code",
   "execution_count": 159,
   "metadata": {},
   "outputs": [
    {
     "name": "stdout",
     "output_type": "stream",
     "text": [
      "[0 1]\n"
     ]
    }
   ],
   "source": [
    "class_names = np.unique(y_train)\n",
    "print(class_names)"
   ]
  },
  {
   "cell_type": "code",
   "execution_count": 160,
   "metadata": {},
   "outputs": [],
   "source": [
    "# some constants for the model\n",
    "\n",
    "# embedding dimension (dimension of glove dataset)\n",
    "EMBEDDING_DIM = 300\n",
    "\n",
    "# for text vectorization layer\n",
    "SEQUENCE_LENGTH = 512\n",
    "MAX_TOKENS = 20000"
   ]
  },
  {
   "cell_type": "code",
   "execution_count": 161,
   "metadata": {},
   "outputs": [],
   "source": [
    "import tensorflow as tf\n",
    "\n",
    "# create a tensorflow dataset object\n",
    "\n",
    "train_dataset = tf.data.Dataset.from_tensor_slices((X_train, y_train))\n",
    "test_dataset = tf.data.Dataset.from_tensor_slices((X_test, y_test))\n",
    "# valid_dataset = tf.data.Dataset.from_tensor_slices((X_valid, y_valid))"
   ]
  },
  {
   "cell_type": "code",
   "execution_count": 162,
   "metadata": {},
   "outputs": [],
   "source": [
    "# shuffle the training dataset, as we want to randomize the training process\n",
    "# shuffle before batch\n",
    "\n",
    "buffer_size = 10000\n",
    "\n",
    "train_dataset = train_dataset.shuffle(buffer_size=buffer_size, reshuffle_each_iteration=True)"
   ]
  },
  {
   "cell_type": "code",
   "execution_count": 163,
   "metadata": {},
   "outputs": [],
   "source": [
    "# batch datasets\n",
    "\n",
    "BATCH_SIZE = 128\n",
    "\n",
    "train_dataset = train_dataset.batch(BATCH_SIZE)\n",
    "test_dataset = test_dataset.batch(BATCH_SIZE)\n",
    "# valid_dataset = valid_dataset.batch(BATCH_SIZE)"
   ]
  },
  {
   "cell_type": "code",
   "execution_count": 164,
   "metadata": {},
   "outputs": [
    {
     "name": "stdout",
     "output_type": "stream",
     "text": [
      "Abstract: b'the best sci fi x ever made '\n",
      "Label(s): 1\n",
      "\n",
      "Abstract: b'the concept for the game is really good but the execution is awful hitboxes and sprites don t seem to match up too well only one music track per world which constantly loops throughout the world the entire game including the deluxe content only levels can be beat in minutes the only reason to replay is to get gold on each level the level design is also fairly shoddy imo one level that sticks out in my memory involved jumping bouncing on a rolling enemy and practically nothing else it sounds easy to do but the jump had to have perfect timing or else you d die you also had to know that the rolling enemy only detects collision inside of the enemy the idea of playing a game in reverse is a novel one but spoiler alert is a product that fails this idea entirely if you really need to play this for some reason please buy the normal version the deluxe edition only has extra levels each seconds long and a level editor '\n",
      "Label(s): 0\n",
      "\n",
      "Abstract: b'glorious uncompromising first person shooter purity big download not totally stable reports of sub part multiplayer ignore all of these things this game is its single player campaign combat is fast fluid and relentless until you clear the area at which point you can simply move on to more action or go hunting for secrets which are cleverly hidden and fun to seek out you won t care if you die battles are fun even after multiple failed attempts every gameplay mechanic in the campaign is refined and polished to perfection are you concerned about glory kills being too gmmicky or killing the pace of a battle don t be they re fast and they re integrated into the gameplay need a quick health boost glory kill if you think you can get away with it campaign levels are complex but not disorienting or frustrating get this game on sale if need be but get it '\n",
      "Label(s): 1\n",
      "\n",
      "Abstract: b'a game that pertains to sperm this game figuratively blows my load not a lot to this game but i did get a good laugh out of it so if you re one of those mature adults you should look elsewhere '\n",
      "Label(s): 1\n",
      "\n",
      "Abstract: b'love it and hate love the game is left of the game once you have disected it into dlcs hate you broke a part of the full game into dlc it is like a slap in the face to your audience i really do want all the content so i can continue playing it but my honour does not allow me i dont like being tricked and milked i must go and find another game to play bad move i felt like warhammer was my only series i got excited anymore ps dlc should be for skins not for factions blood pack and chaos warriors were part of the original release yet you dissable it and make us pay by branding it extra content '\n",
      "Label(s): 0\n",
      "\n"
     ]
    }
   ],
   "source": [
    "text_batch, label_batch = next(iter(train_dataset))\n",
    "\n",
    "for i, text in enumerate(text_batch[:5]):\n",
    "    label = label_batch[i].numpy()[None, ...]\n",
    "    print(f\"Abstract: {text}\")\n",
    "    print(f\"Label(s): {label[0]}\")\n",
    "    print()"
   ]
  },
  {
   "cell_type": "markdown",
   "metadata": {},
   "source": [
    "Create a vocabulary index\n",
    "\n",
    "Let's use the TextVectorization to index the vocabulary found in the dataset. Later, we'll use the same layer instance to vectorize the samples.\n",
    "\n",
    "Our layer will only consider the top N words, and will truncate or pad sequences to be actually 200 tokens long."
   ]
  },
  {
   "cell_type": "code",
   "execution_count": 165,
   "metadata": {},
   "outputs": [],
   "source": [
    "# import tensorflow as tf\n",
    "# from tensorflow.keras.layers import TextVectorization\n",
    "\n",
    "vectorizer = tf.keras.layers.TextVectorization(\n",
    "    max_tokens=MAX_TOKENS,                          # same as TFIDF-RF one\n",
    "    output_sequence_length=SEQUENCE_LENGTH)         # same as BERT\n",
    "# text_ds = tf.data.Dataset.from_tensor_slices(X_train_subset)\n",
    "vectorizer.adapt(train_dataset.map(lambda text, label: text))"
   ]
  },
  {
   "cell_type": "code",
   "execution_count": 166,
   "metadata": {},
   "outputs": [
    {
     "data": {
      "text/plain": [
       "['', '[UNK]', 'the', 'and', 'to', 'a', 'game', 'i', 'it', 'of']"
      ]
     },
     "execution_count": 166,
     "metadata": {},
     "output_type": "execute_result"
    }
   ],
   "source": [
    "vectorizer.get_vocabulary()[:10]"
   ]
  },
  {
   "cell_type": "code",
   "execution_count": 167,
   "metadata": {},
   "outputs": [
    {
     "name": "stdout",
     "output_type": "stream",
     "text": [
      "[  2   6 281 231   0   0   0   0   0   0   0   0   0   0   0   0   0   0\n",
      "   0   0   0   0   0   0   0   0   0   0   0   0   0   0   0   0   0   0\n",
      "   0   0   0   0   0   0   0   0   0   0   0   0   0   0   0   0   0   0\n",
      "   0   0   0   0   0   0   0   0   0   0   0   0   0   0   0   0   0   0\n",
      "   0   0   0   0   0   0   0   0   0   0   0   0   0   0   0   0   0   0\n",
      "   0   0   0   0   0   0   0   0   0   0   0   0   0   0   0   0   0   0\n",
      "   0   0   0   0   0   0   0   0   0   0   0   0   0   0   0   0   0   0\n",
      "   0   0   0   0   0   0   0   0   0   0   0   0   0   0   0   0   0   0\n",
      "   0   0   0   0   0   0   0   0   0   0   0   0   0   0   0   0   0   0\n",
      "   0   0   0   0   0   0   0   0   0   0   0   0   0   0   0   0   0   0\n",
      "   0   0   0   0   0   0   0   0   0   0   0   0   0   0   0   0   0   0\n",
      "   0   0   0   0   0   0   0   0   0   0   0   0   0   0   0   0   0   0\n",
      "   0   0   0   0   0   0   0   0   0   0   0   0   0   0   0   0   0   0\n",
      "   0   0   0   0   0   0   0   0   0   0   0   0   0   0   0   0   0   0\n",
      "   0   0   0   0   0   0   0   0   0   0   0   0   0   0   0   0   0   0\n",
      "   0   0   0   0   0   0   0   0   0   0   0   0   0   0   0   0   0   0\n",
      "   0   0   0   0   0   0   0   0   0   0   0   0   0   0   0   0   0   0\n",
      "   0   0   0   0   0   0   0   0   0   0   0   0   0   0   0   0   0   0\n",
      "   0   0   0   0   0   0   0   0   0   0   0   0   0   0   0   0   0   0\n",
      "   0   0   0   0   0   0   0   0   0   0   0   0   0   0   0   0   0   0\n",
      "   0   0   0   0   0   0   0   0   0   0   0   0   0   0   0   0   0   0\n",
      "   0   0   0   0   0   0   0   0   0   0   0   0   0   0   0   0   0   0\n",
      "   0   0   0   0   0   0   0   0   0   0   0   0   0   0   0   0   0   0\n",
      "   0   0   0   0   0   0   0   0   0   0   0   0   0   0   0   0   0   0\n",
      "   0   0   0   0   0   0   0   0   0   0   0   0   0   0   0   0   0   0\n",
      "   0   0   0   0   0   0   0   0   0   0   0   0   0   0   0   0   0   0\n",
      "   0   0   0   0   0   0   0   0   0   0   0   0   0   0   0   0   0   0\n",
      "   0   0   0   0   0   0   0   0   0   0   0   0   0   0   0   0   0   0\n",
      "   0   0   0   0   0   0   0   0]\n",
      "(1, 512)\n"
     ]
    }
   ],
   "source": [
    "output = vectorizer([[\"the game looks awesome\"]])\n",
    "print(output.numpy()[0, :])\n",
    "print(output.numpy().shape)"
   ]
  },
  {
   "cell_type": "markdown",
   "metadata": {},
   "source": [
    "load pre-trained word embeddings\n",
    "\n",
    "Download your own and save it under dev-workspace/sa/"
   ]
  },
  {
   "cell_type": "code",
   "execution_count": 168,
   "metadata": {},
   "outputs": [
    {
     "name": "stdout",
     "output_type": "stream",
     "text": [
      "Found 400000 word vectors.\n"
     ]
    }
   ],
   "source": [
    "glove_file_path = Path(f\"../glove.6B/glove.6B.{EMBEDDING_DIM}d.txt\").resolve()\n",
    "\n",
    "embeddings_index = {}\n",
    "with open(glove_file_path) as f:\n",
    "    for line in f:\n",
    "        word, coefs = line.split(maxsplit=1)\n",
    "        coefs = np.fromstring(coefs, \"f\", sep=\" \")\n",
    "        embeddings_index[word] = coefs\n",
    "\n",
    "print(\"Found %s word vectors.\" % len(embeddings_index))"
   ]
  },
  {
   "cell_type": "markdown",
   "metadata": {},
   "source": [
    "Now, let's prepare a corresponding embedding matrix that we can use in a Keras Embedding layer. \n",
    "\n",
    "It's a simple NumPy matrix where entry at index i is the pre-trained vector for the word of index i in our vectorizer's vocabulary."
   ]
  },
  {
   "cell_type": "code",
   "execution_count": 169,
   "metadata": {},
   "outputs": [
    {
     "name": "stdout",
     "output_type": "stream",
     "text": [
      "Converted 18163 words (1837 misses)\n"
     ]
    }
   ],
   "source": [
    "voc = vectorizer.get_vocabulary()\n",
    "word_index = dict(zip(voc, range(len(voc))))\n",
    "\n",
    "num_tokens = len(voc) + 2\n",
    "hits = 0\n",
    "misses = 0\n",
    "\n",
    "# Prepare embedding matrix\n",
    "embedding_matrix = np.zeros((num_tokens, EMBEDDING_DIM))\n",
    "for word, i in word_index.items():\n",
    "    embedding_vector = embeddings_index.get(word)\n",
    "    if embedding_vector is not None:\n",
    "        # Words not found in embedding index will be all-zeros.\n",
    "        # This includes the representation for \"padding\" and \"OOV\"\n",
    "        embedding_matrix[i] = embedding_vector\n",
    "        hits += 1\n",
    "    else:\n",
    "        misses += 1\n",
    "        \n",
    "print(\"Converted %d words (%d misses)\" % (hits, misses))"
   ]
  },
  {
   "cell_type": "markdown",
   "metadata": {},
   "source": [
    "Next, we load the pre-trained word embeddings matrix into an Embedding layer.\n",
    "\n",
    "Note that we set trainable=False so as to keep the embeddings fixed (we don't want to update them during training)."
   ]
  },
  {
   "cell_type": "code",
   "execution_count": 170,
   "metadata": {},
   "outputs": [],
   "source": [
    "import keras\n",
    "from tensorflow.keras.layers import Embedding\n",
    "\n",
    "embedding_layer = Embedding(\n",
    "    num_tokens,\n",
    "    EMBEDDING_DIM,\n",
    "    trainable=True,\n",
    ")\n",
    "embedding_layer.build((None,))\n",
    "embedding_layer.set_weights([embedding_matrix])"
   ]
  },
  {
   "cell_type": "markdown",
   "metadata": {},
   "source": [
    "Build the model\n",
    "\n",
    "The model we eventually implemented is borrowed from the original paper proposed CNN text classification, and further studies on parameters settings"
   ]
  },
  {
   "cell_type": "code",
   "execution_count": 171,
   "metadata": {},
   "outputs": [
    {
     "name": "stdout",
     "output_type": "stream",
     "text": [
      "Model: \"model_8\"\n",
      "__________________________________________________________________________________________________\n",
      " Layer (type)                Output Shape                 Param #   Connected to                  \n",
      "==================================================================================================\n",
      " input_9 (InputLayer)        [(None, 512)]                0         []                            \n",
      "                                                                                                  \n",
      " embedding_4 (Embedding)     (None, 512, 300)             6000600   ['input_9[0][0]']             \n",
      "                                                                                                  \n",
      " conv1d_12 (Conv1D)          (None, 506, 128)             268928    ['embedding_4[0][0]']         \n",
      "                                                                                                  \n",
      " conv1d_13 (Conv1D)          (None, 506, 128)             268928    ['embedding_4[0][0]']         \n",
      "                                                                                                  \n",
      " conv1d_14 (Conv1D)          (None, 506, 128)             268928    ['embedding_4[0][0]']         \n",
      "                                                                                                  \n",
      " max_pooling1d_12 (MaxPooli  (None, 1, 128)               0         ['conv1d_12[0][0]']           \n",
      " ng1D)                                                                                            \n",
      "                                                                                                  \n",
      " max_pooling1d_13 (MaxPooli  (None, 1, 128)               0         ['conv1d_13[0][0]']           \n",
      " ng1D)                                                                                            \n",
      "                                                                                                  \n",
      " max_pooling1d_14 (MaxPooli  (None, 1, 128)               0         ['conv1d_14[0][0]']           \n",
      " ng1D)                                                                                            \n",
      "                                                                                                  \n",
      " concatenate_4 (Concatenate  (None, 1, 384)               0         ['max_pooling1d_12[0][0]',    \n",
      " )                                                                   'max_pooling1d_13[0][0]',    \n",
      "                                                                     'max_pooling1d_14[0][0]']    \n",
      "                                                                                                  \n",
      " flatten_4 (Flatten)         (None, 384)                  0         ['concatenate_4[0][0]']       \n",
      "                                                                                                  \n",
      " dropout_4 (Dropout)         (None, 384)                  0         ['flatten_4[0][0]']           \n",
      "                                                                                                  \n",
      " dense_4 (Dense)             (None, 2)                    770       ['dropout_4[0][0]']           \n",
      "                                                                                                  \n",
      "==================================================================================================\n",
      "Total params: 6808154 (25.97 MB)\n",
      "Trainable params: 6808154 (25.97 MB)\n",
      "Non-trainable params: 0 (0.00 Byte)\n",
      "__________________________________________________________________________________________________\n"
     ]
    }
   ],
   "source": [
    "from tensorflow.keras import layers\n",
    "\n",
    "# model from paper: https://www.aclweb.org/anthology/D14-1181.pdf\n",
    "# implementation (tf): https://github.com/dennybritz/cnn-text-classification-tf/blob/master/text_cnn.py\n",
    "\n",
    "\n",
    "# more paper: https://arxiv.org/pdf/1510.03820.pdf (parameters selection)\n",
    "# more paper (a recent one, from China+Philippines): https://downloads.hindawi.com/journals/js/2022/7212366.pdf\n",
    "# more paper (a recent from Indonesia): https://www.jatit.org/volumes/Vol100No2/5Vol100No2.pdf\n",
    "\n",
    "# more reference: https://www.kaggle.com/code/poigal/cnn-on-glove-word-embedding\n",
    "\n",
    "sequence_length = SEQUENCE_LENGTH\n",
    "filter_sizes = [7, 7, 7]\n",
    "num_filters = 128\n",
    "drop_rate = 0.3\n",
    "\n",
    "int_sequences_input = keras.Input(shape=(sequence_length,), dtype=\"int32\")\n",
    "embedded_sequences = embedding_layer(int_sequences_input)\n",
    "# reshape = layers.Reshape((sequence_length,EMBEDDING_DIM,1))(embedded_sequences)\n",
    "\n",
    "conv0 = layers.Conv1D(128, filter_sizes[0], activation=\"relu\")(embedded_sequences)\n",
    "conv1 = layers.Conv1D(128, filter_sizes[1], activation=\"relu\")(embedded_sequences)\n",
    "conv2 = layers.Conv1D(128, filter_sizes[2], activation=\"relu\")(embedded_sequences)\n",
    "\n",
    "\n",
    "maxpool0 = layers.MaxPooling1D(sequence_length - filter_sizes[0] + 1, strides=1, padding='valid')(conv0)\n",
    "maxpool1 = layers.MaxPooling1D(sequence_length - filter_sizes[1] + 1, strides=1, padding='valid')(conv1)\n",
    "maxpool2 = layers.MaxPooling1D(sequence_length - filter_sizes[2] + 1, strides=1, padding='valid')(conv2)\n",
    "\n",
    "# concate the output of three maxpool layers\n",
    "concatenated_tensor = layers.concatenate([maxpool0, maxpool1, maxpool2])\n",
    "flatten = layers.Flatten()(concatenated_tensor)\n",
    "dropout = layers.Dropout(drop_rate)(flatten)\n",
    "preds = layers.Dense(len(class_names), activation=\"softmax\")(dropout)\n",
    "\n",
    "model = keras.Model(int_sequences_input, preds)\n",
    "model.summary()"
   ]
  },
  {
   "cell_type": "code",
   "execution_count": 172,
   "metadata": {},
   "outputs": [],
   "source": [
    "# build the plot of the model\n",
    "# You must install pydot (`pip install pydot`) and install graphviz (see instructions at https://graphviz.gitlab.io/download/) for plot_model to work.\n",
    "\n",
    "# tf.keras.utils.plot_model(\n",
    "#     model,\n",
    "#     to_file=f\"{training_output_folder}/model_plot.png\",\n",
    "#     show_shapes=True,\n",
    "#     # show_layer_names=True,\n",
    "#     expand_nested=True,\n",
    "#     dpi=300,\n",
    "# )"
   ]
  },
  {
   "cell_type": "markdown",
   "metadata": {},
   "source": [
    "apply the vectorizer to transform the strings to indices\n",
    "\n",
    "apply to all three datasets"
   ]
  },
  {
   "cell_type": "code",
   "execution_count": 173,
   "metadata": {},
   "outputs": [],
   "source": [
    "train_dataset = train_dataset.map(lambda x, y: (vectorizer(x), y)).prefetch(tf.data.AUTOTUNE)\n",
    "test_dataset = test_dataset.map(lambda x, y: (vectorizer(x), y)).prefetch(tf.data.AUTOTUNE)\n",
    "# valid_dataset = valid_dataset.map(lambda x, y: (vectorizer(x), y)).prefetch(tf.data.AUTOTUNE)"
   ]
  },
  {
   "cell_type": "code",
   "execution_count": 174,
   "metadata": {},
   "outputs": [],
   "source": [
    "for elem in train_dataset.as_numpy_iterator():\n",
    "    if elem[0].shape[1] != 512:\n",
    "        print('find one not equal with 512')\n",
    "        print('its shape = ', elem[0].shape)\n",
    "        print(elem)"
   ]
  },
  {
   "cell_type": "code",
   "execution_count": 175,
   "metadata": {},
   "outputs": [
    {
     "name": "stdout",
     "output_type": "stream",
     "text": [
      "(array([[ 25,  10,  22, ...,   0,   0,   0],\n",
      "       [ 12,  11,   2, ...,   0,   0,   0],\n",
      "       [233,  27, 809, ...,   0,   0,   0],\n",
      "       ...,\n",
      "       [ 12,   6,  11, ...,   0,   0,   0],\n",
      "       [  7,  23,  62, ...,   0,   0,   0],\n",
      "       [ 37,  18,   5, ...,   0,   0,   0]]), array([0, 1, 1, 0, 1, 0, 0, 1, 0, 0, 1, 1, 0, 1, 1, 0, 0, 0, 1, 1, 0, 0,\n",
      "       0, 0, 1, 1, 1, 1, 0, 0, 1, 0, 1, 1, 0, 1, 1, 1, 1, 0, 1, 0, 0, 0,\n",
      "       0, 0, 0, 0, 0, 0, 1, 0, 1, 1, 0, 1, 0, 0, 1, 0, 0, 0, 1, 0, 0, 1,\n",
      "       0, 0, 0, 0, 1, 0, 1, 1, 1, 1, 0, 0, 1, 1, 1, 0, 0, 0, 1, 1, 0, 0,\n",
      "       0, 0, 0, 1, 0, 0, 1, 1, 0, 1, 0, 0, 0, 1, 1, 1, 0, 0, 0, 1, 1, 1,\n",
      "       0, 1, 0, 0, 0, 1, 0, 1, 0, 1, 1, 1, 0, 0, 1, 0, 1, 1]))\n",
      "(128, 512)\n",
      "\n"
     ]
    }
   ],
   "source": [
    "tt = train_dataset.take(3).as_numpy_iterator()\n",
    "for elem in tt:\n",
    "    print(elem)\n",
    "    print(elem[0].shape)\n",
    "    print()\n",
    "    break"
   ]
  },
  {
   "cell_type": "markdown",
   "metadata": {},
   "source": [
    "training"
   ]
  },
  {
   "cell_type": "code",
   "execution_count": 176,
   "metadata": {},
   "outputs": [
    {
     "name": "stdout",
     "output_type": "stream",
     "text": [
      "Epoch 1/20\n"
     ]
    },
    {
     "name": "stdout",
     "output_type": "stream",
     "text": [
      "844/844 [==============================] - 34s 40ms/step - loss: 0.3938 - sparse_categorical_accuracy: 0.8220 - val_loss: 0.3170 - val_sparse_categorical_accuracy: 0.8631\n",
      "Epoch 2/20\n",
      "844/844 [==============================] - 21s 25ms/step - loss: 0.2648 - sparse_categorical_accuracy: 0.8892 - val_loss: 0.3028 - val_sparse_categorical_accuracy: 0.8726\n",
      "Epoch 3/20\n",
      "844/844 [==============================] - 17s 20ms/step - loss: 0.1996 - sparse_categorical_accuracy: 0.9200 - val_loss: 0.3373 - val_sparse_categorical_accuracy: 0.8717\n",
      "Epoch 4/20\n",
      "844/844 [==============================] - 16s 19ms/step - loss: 0.1430 - sparse_categorical_accuracy: 0.9450 - val_loss: 0.3820 - val_sparse_categorical_accuracy: 0.8708\n",
      "Epoch 5/20\n",
      "844/844 [==============================] - 16s 19ms/step - loss: 0.1054 - sparse_categorical_accuracy: 0.9604 - val_loss: 0.4395 - val_sparse_categorical_accuracy: 0.8673\n",
      "Epoch 6/20\n",
      "844/844 [==============================] - 16s 18ms/step - loss: 0.0804 - sparse_categorical_accuracy: 0.9708 - val_loss: 0.4949 - val_sparse_categorical_accuracy: 0.8698\n",
      "Epoch 7/20\n",
      "844/844 [==============================] - 16s 18ms/step - loss: 0.0691 - sparse_categorical_accuracy: 0.9751 - val_loss: 0.5596 - val_sparse_categorical_accuracy: 0.8671\n"
     ]
    }
   ],
   "source": [
    "# copy from the cell above\n",
    "\n",
    "# TODO: add more metrics\n",
    "# examples\n",
    "from keras.src.callbacks import ReduceLROnPlateau\n",
    "from keras.optimizers.schedules import ExponentialDecay\n",
    "\n",
    "\n",
    "metrics = [\n",
    "    keras.metrics.SparseCategoricalAccuracy(),\n",
    "    # keras.metrics.FalseNegatives(name=\"fn\", thresholds=0),\n",
    "    # keras.metrics.FalsePositives(name=\"fp\"),\n",
    "    # keras.metrics.TrueNegatives(name=\"tn\"),\n",
    "    # keras.metrics.TruePositives(name=\"tp\"),\n",
    "    # keras.metrics.Precision(name=\"precision\"),\n",
    "    # keras.metrics.Recall(name=\"recall\")\n",
    "]\n",
    "\n",
    "# using legacy optimizers because of compatability issue\n",
    "# model.compile(\n",
    "#     loss=\"sparse_categorical_crossentropy\", optimizer=tf.keras.optimizers.legacy.Adam(learning_rate=1e-3), metrics=metrics\n",
    "# )\n",
    "\n",
    "LEARNING_RATE = 1e-3\n",
    "\n",
    "# model.compile(\n",
    "#     loss=\"sparse_categorical_crossentropy\", \n",
    "#     optimizer=tf.keras.optimizers.Adam(learning_rate=LEARNING_RATE, beta_1=0.9, beta_2=0.999),      # state the default setting of beta_1 and beta_2 explicitly\n",
    "#     metrics=metrics\n",
    "# )\n",
    "\n",
    "# reduce learning rate when loss is not decreasing\n",
    "# reduce_lr = ReduceLROnPlateau(monitor='val_loss', factor=0.8,\n",
    "#                               patience=1, min_lr=0, verbose=1)\n",
    "\n",
    "\n",
    "model.compile(\n",
    "    loss=\"sparse_categorical_crossentropy\", \n",
    "    optimizer=tf.keras.optimizers.Adam(\n",
    "        learning_rate=ExponentialDecay(\n",
    "            LEARNING_RATE,\n",
    "            decay_steps=X_train.shape[0] // BATCH_SIZE,\n",
    "            decay_rate=0.99,\n",
    "            staircase=True),            # with learning rate decay in each epoch\n",
    "        beta_1=0.9, beta_2=0.999),      # state the default setting of beta_1 and beta_2 explicitly\n",
    "    metrics=metrics\n",
    ")\n",
    "\n",
    "# save the model with best accuracy, regardless of the val_loss\n",
    "# model_checkpoint_callback = tf.keras.callbacks.ModelCheckpoint(\n",
    "#     filepath=Path(f'{training_output_folder}/{training_name}_best_model.h5').resolve(),\n",
    "#     save_weights_only=True,\n",
    "#     monitor='val_accuracy',\n",
    "#     mode='max',\n",
    "#     save_best_only=True)\n",
    "\n",
    "# define tensorboard callback for revisiting data\n",
    "tensorboard_callback = [tf.keras.callbacks.TensorBoard(log_dir=Path(f'{training_output_folder}/logs').resolve())]\n",
    "\n",
    "# apply early stopping to avoid overfit\n",
    "early_stoping_callback = tf.keras.callbacks.EarlyStopping(monitor='val_loss', patience=5, restore_best_weights=True)\n",
    "\n",
    "\n",
    "# try to use weighted samples to avoid data imbalance\n",
    "# so as the test\n",
    "history_model = model.fit(\n",
    "    train_dataset,\n",
    "    epochs=20, \n",
    "    validation_data=test_dataset,\n",
    "    # callbacks=[early_stoping_callback, reduce_lr, tensorboard_callback] \n",
    "    callbacks=[early_stoping_callback, tensorboard_callback] \n",
    ")"
   ]
  },
  {
   "cell_type": "code",
   "execution_count": 177,
   "metadata": {},
   "outputs": [],
   "source": [
    "colors = plt.rcParams['axes.prop_cycle'].by_key()['color']\n",
    "\n",
    "# func from: https://www.tensorflow.org/tutorials/structured_data/imbalanced_data\n",
    "\n",
    "def plot_metrics(history):\n",
    "  metrics = ['loss', 'sparse_categorical_accuracy']\n",
    "  plt.style.use('seaborn-v0_8')\n",
    "  # plt.style.use('seaborn-v0_8-dark')\n",
    "  for n, metric in enumerate(metrics):\n",
    "    name = metric.replace(\"_\",\" \").capitalize()\n",
    "    plt.subplot(2,2,n+1)\n",
    "    plt.plot(history.epoch, history.history[metric], color=colors[0], label='Train')\n",
    "    plt.plot(history.epoch, history.history['val_'+metric],\n",
    "             color=colors[0], linestyle=\"--\", label='Val')\n",
    "    plt.xlabel('Epoch')\n",
    "    plt.ylabel(name)\n",
    "    if metric == 'loss':\n",
    "      plt.ylim([0, plt.ylim()[1]])\n",
    "    elif metric == 'auc':\n",
    "      plt.ylim([0.8,1])\n",
    "    else:\n",
    "      plt.ylim([0,1])\n",
    "\n",
    "    plt.title('Training metrics')\n",
    "    plt.legend()\n",
    "\n",
    "    # save the graph\n",
    "    plt.savefig(Path(f'{training_output_folder}/train_history_{training_name}_{training_date.strftime(\"%Y-%m-%d\")}_trainingmetrics.png').resolve(),\n",
    "                dpi=600, bbox_inches='tight')"
   ]
  },
  {
   "cell_type": "code",
   "execution_count": 178,
   "metadata": {},
   "outputs": [
    {
     "data": {
      "image/png": "[encoded data removed]",
      "text/plain": [
       "<Figure size 800x550 with 2 Axes>"
      ]
     },
     "metadata": {},
     "output_type": "display_data"
    }
   ],
   "source": [
    "plot_metrics(history_model)"
   ]
  },
  {
   "cell_type": "markdown",
   "metadata": {},
   "source": [
    "---"
   ]
  },
  {
   "cell_type": "markdown",
   "metadata": {},
   "source": [
    "Save the model and training history (for reproduce the graph and test result)"
   ]
  },
  {
   "cell_type": "code",
   "execution_count": 179,
   "metadata": {},
   "outputs": [],
   "source": [
    "import pickle\n",
    "\n",
    "with open(Path.joinpath(training_output_folder, 'train-history_{}_{}/'.format(\n",
    "    training_name,\n",
    "    training_date.strftime(\"%Y-%m-%d\"))), 'wb') as file_pi:\n",
    "    \n",
    "        pickle.dump(history_model.history, file_pi)"
   ]
  },
  {
   "cell_type": "code",
   "execution_count": 180,
   "metadata": {},
   "outputs": [],
   "source": [
    "# load training history\n",
    "\n",
    "# from datetime import datetime\n",
    "# import pickle\n",
    "\n",
    "# with open(Path.joinpath(training_output_folder, 'train-history_{}_{}/'.format(\n",
    "#     training_name,\n",
    "#     training_date.strftime(\"%Y-%m-%d\")\n",
    "#     )), 'rb') as file_pi:\n",
    "#         history_model_loaded = pickle.load(file_pi)"
   ]
  },
  {
   "cell_type": "code",
   "execution_count": 181,
   "metadata": {},
   "outputs": [],
   "source": [
    "# history_model_loaded"
   ]
  },
  {
   "cell_type": "code",
   "execution_count": 182,
   "metadata": {},
   "outputs": [],
   "source": [
    "# save text vectorizer\n",
    "\n",
    "with open(Path.joinpath(training_output_folder, \"{}_textvectorizer.pkl\".format(\n",
    "                training_name)\n",
    "            ), 'wb') as f:\n",
    "    \n",
    "\n",
    "    pickle.dump({'config': vectorizer.get_config(),\n",
    "                'weights': vectorizer.get_weights()}\n",
    "                , f)"
   ]
  },
  {
   "cell_type": "markdown",
   "metadata": {},
   "source": [
    "---"
   ]
  },
  {
   "cell_type": "code",
   "execution_count": 183,
   "metadata": {},
   "outputs": [],
   "source": [
    "# load text vectorizer\n",
    "\n",
    "# from_disk = pickle.load(open(Path.joinpath(\n",
    "#     training_output_folder,\n",
    "#     \"{}_{}_textvectorizer.pkl\".format(\n",
    "#                 training_name,\n",
    "#                 training_date.strftime(\"%Y-%m-%d\"))\n",
    "#             ), \"rb\"))\n",
    "\n",
    "# vectorizer_loaded = tf.keras.layers.TextVectorization(\n",
    "#     max_tokens=20000, \n",
    "#     output_sequence_length=512)\n",
    "\n",
    "# vectorizer_loaded.set_weights(from_disk['weights'])"
   ]
  },
  {
   "cell_type": "code",
   "execution_count": 184,
   "metadata": {},
   "outputs": [],
   "source": [
    "# output2 = vectorizer_loaded([[\"the game looks awesome\"]])\n",
    "# print(output2.numpy()[0, :])\n",
    "# print(output2.numpy().shape)"
   ]
  },
  {
   "cell_type": "code",
   "execution_count": 185,
   "metadata": {},
   "outputs": [],
   "source": [
    "# save the model itself\n",
    "\n",
    "model.save(Path.joinpath(\n",
    "    training_output_folder,\n",
    "    '{}_model.keras'.format(\n",
    "        training_name)\n",
    "    ))"
   ]
  },
  {
   "cell_type": "code",
   "execution_count": 186,
   "metadata": {},
   "outputs": [],
   "source": [
    "# load the model itself\n",
    "\n",
    "# model_loaded = keras.models.load_model(Path.joinpath(\n",
    "#     training_output_folder,\n",
    "#     '{}_{}_model.keras'.format(\n",
    "#         training_name)\n",
    "# ))"
   ]
  },
  {
   "cell_type": "code",
   "execution_count": 187,
   "metadata": {},
   "outputs": [],
   "source": [
    "# model_loaded.summary()"
   ]
  },
  {
   "cell_type": "markdown",
   "metadata": {},
   "source": [
    "---"
   ]
  },
  {
   "cell_type": "markdown",
   "metadata": {},
   "source": [
    "Save the model (a end2end pipeline for single string)"
   ]
  },
  {
   "cell_type": "code",
   "execution_count": 188,
   "metadata": {},
   "outputs": [],
   "source": [
    "string_input = keras.Input(shape=(1,), dtype=\"string\")\n",
    "x = vectorizer(string_input)\n",
    "preds = model(x)\n",
    "end_to_end_model = keras.Model(string_input, preds)"
   ]
  },
  {
   "cell_type": "code",
   "execution_count": 189,
   "metadata": {},
   "outputs": [],
   "source": [
    "end_to_end_model.save(Path.joinpath(\n",
    "    training_output_folder,\n",
    "    '{}_end2end.keras'.format(\n",
    "        training_name)\n",
    "))"
   ]
  },
  {
   "cell_type": "code",
   "execution_count": 39,
   "metadata": {},
   "outputs": [],
   "source": [
    "# string_input = keras.Input(shape=(1,), dtype=\"string\")\n",
    "# x = vectorizer_loaded(string_input)\n",
    "# preds = model_loaded(x)\n",
    "# end_to_end_model = keras.Model(string_input, preds)"
   ]
  },
  {
   "cell_type": "code",
   "execution_count": null,
   "metadata": {},
   "outputs": [
    {
     "name": "stdout",
     "output_type": "stream",
     "text": [
      "1/1 [==============================] - 0s 108ms/step\n",
      "output: [0.02418574 0.9758143 ] ; class: 1\n",
      "output: [0.2268303 0.7731697] ; class: 1\n",
      "output: [0.00650699 0.993493  ] ; class: 1\n"
     ]
    }
   ],
   "source": [
    "# positive reviews\n",
    "# the third one is an actual postitive review from AC6\n",
    "# https://steamcommunity.com/id/bromancedance/recommended/1888160/\n",
    "\n",
    "probabilities = end_to_end_model.predict(\n",
    "    [[\"The game deserves a game of the year\"], [\"I enjoy playing it very much\"], [\"Fun, FUN, FUN!!!!!! Souls is one of my favorite series of all time, but never tried an AC game before this one. This game is the most fun I've had in a game in so long. Not just the high points, but the pacing just keeps you in the fun seat CONSTANTLY. After playing Starfield and Baldurs Gate 3 recently it felt ILLEGAL how often I was having a blast. I was constantly ready for the point of the game where the fun would slow down, but it only ramps up. TRULY a breath of fresh air in todays gaming climate.\"]]\n",
    ")\n",
    "\n",
    "for prob in probabilities:\n",
    "    print('output:', prob, '; class:', np.argmax(prob))"
   ]
  },
  {
   "cell_type": "code",
   "execution_count": null,
   "metadata": {},
   "outputs": [
    {
     "name": "stdout",
     "output_type": "stream",
     "text": [
      "1/1 [==============================] - 0s 20ms/step\n",
      "output: [0.95612025 0.04387974] ; class: 0\n",
      "output: [0.84603477 0.15396526] ; class: 0\n",
      "output: [0.9939925  0.00600743] ; class: 0\n"
     ]
    }
   ],
   "source": [
    "# negative reviews\n",
    "# the second one: https://steamcommunity.com/id/x-pert_bandit/recommended/1091500/\n",
    "# the third one: https://steamcommunity.com/profiles/76561197960511970/recommended/1716740/\n",
    "\n",
    "probabilities = end_to_end_model.predict(\n",
    "    [[\"Buying this game is wasting my money.\"], [\"Now before all else is said, it is a good game, if it wasn't I wouldn't have put in so many hours elsewise. But save your cash until they've fixed a majority of the bugs and optimized it a bit more.\"], [\"It is not a bad game. If you want Fallout in Space with dogfights, it absolutely delivers that. But the problems are that it feels very dated. The voice-acting and writing are embarrassingly bad, especially after coming off Baldurs Gate 3 where I found myself caring deeply about the characters and their stories. Starfield makes me want to skip dialog as fast as possible because it is so cringey. The main plot is about as cliched and uninspired as you can imagine. You are a no-name miner, but suddenly you are the crux of the whole plot and everyone just decides to make you the chosen one to do all the important stuff in a pre-existing group for no reason at all. It makes absolutely no sense when they had someone in their organization who had already experienced the mcguffin. The more I play it, the less I like it from the plot perspective. If people aren't playing for the plot, their experience will likely be better, but I still find the game feeling dated... Looks like I've played too much to refund it, which is disappointing, but the same issues still remain. The writing and voice-acting are reminiscent of a game from 1995 and really hold this game back.\"]]\n",
    ")\n",
    "\n",
    "for prob in probabilities:\n",
    "    print('output:', prob, '; class:', np.argmax(prob))"
   ]
  },
  {
   "cell_type": "code",
   "execution_count": 42,
   "metadata": {},
   "outputs": [],
   "source": [
    "# load end to end model\n",
    "\n",
    "# end_to_end_model_loaded = keras.models.load_model(Path.joinpath(\n",
    "#     training_output_folder,\n",
    "#     '{}_{}_end2end.keras'.format(\n",
    "#         training_name,\n",
    "#         training_date.strftime(\"%Y-%m-%d\"))\n",
    "# ))\n",
    "\n",
    "# end_to_end_model_loaded.summary()"
   ]
  },
  {
   "cell_type": "markdown",
   "metadata": {},
   "source": [
    "---"
   ]
  },
  {
   "cell_type": "markdown",
   "metadata": {},
   "source": [
    "Training ends"
   ]
  }
 ],
 "metadata": {
  "kernelspec": {
   "display_name": "fyp-test-wsl",
   "language": "python",
   "name": "python3"
  },
  "language_info": {
   "codemirror_mode": {
    "name": "ipython",
    "version": 3
   },
   "file_extension": ".py",
   "mimetype": "text/x-python",
   "name": "python",
   "nbconvert_exporter": "python",
   "pygments_lexer": "ipython3",
   "version": "3.9.18"
  }
 },
 "nbformat": 4,
 "nbformat_minor": 2
}
