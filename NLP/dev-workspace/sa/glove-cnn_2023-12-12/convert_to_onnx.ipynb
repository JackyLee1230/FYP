{
 "cells": [
  {
   "cell_type": "code",
   "execution_count": 1,
   "metadata": {},
   "outputs": [],
   "source": [
    "import pandas as pd\n",
    "import numpy as np\n",
    "\n",
    "from pathlib import Path\n",
    "from datetime import datetime"
   ]
  },
  {
   "cell_type": "code",
   "execution_count": 4,
   "metadata": {},
   "outputs": [],
   "source": [
    "DATASET_SIZE = 120\n",
    "DATASET_IS_BALANCED = True\n",
    "\n",
    "\n",
    "MAX_FEATURES = 20000        # max_features params for CountVectorizer\n",
    "\n",
    "training_name = 'glove-cnn-{}_{}k_{}'.format(\n",
    "    MAX_FEATURES,\n",
    "    DATASET_SIZE,\n",
    "    'bal' if DATASET_IS_BALANCED else 'imbal'\n",
    ")\n",
    "\n",
    "training_args_datetime = datetime(year=2023, month=12, day=22)\n",
    "training_storing_folder = Path(training_name).resolve()"
   ]
  },
  {
   "cell_type": "code",
   "execution_count": 6,
   "metadata": {},
   "outputs": [
    {
     "name": "stdout",
     "output_type": "stream",
     "text": [
      "\n",
      "\n",
      "\n",
      "Loaded text vectorizer from /root/FYP/NLP/dev-workspace/sa/glove-cnn_2023-12-12/glove-cnn-20000_120k_bal/glove-cnn-20000_120k_bal_2023-12-22_textvectorizer.pkl\n",
      "Loaded model from /root/FYP/NLP/dev-workspace/sa/glove-cnn_2023-12-12/glove-cnn-20000_120k_bal/glove-cnn-20000_120k_bal_2023-12-22_model.keras\n",
      "Loaded end to end model from /root/FYP/NLP/dev-workspace/sa/glove-cnn_2023-12-12/glove-cnn-20000_120k_bal/glove-cnn-20000_120k_bal_2023-12-22_end2end.keras\n"
     ]
    }
   ],
   "source": [
    "import pickle\n",
    "\n",
    "import tensorflow as tf\n",
    "import keras\n",
    "\n",
    "# load the tf model\n",
    "# either a end-to-end\n",
    "# or build our own (by loading the vectorizer and the model)\n",
    "\n",
    "\n",
    "text_vectorizer_path = Path.joinpath(training_storing_folder, \"{}_{}_textvectorizer.pkl\".format(\n",
    "    training_name,\n",
    "    training_args_datetime.strftime(\"%Y-%m-%d\")\n",
    "))\n",
    "vectorizer_from_disk = pickle.load(open(text_vectorizer_path, 'rb'))\n",
    "vectorizer = tf.keras.layers.TextVectorization(\n",
    "    max_tokens=MAX_FEATURES,\n",
    "    output_sequence_length=512)\n",
    "\n",
    "vectorizer.set_weights(vectorizer_from_disk['weights'])\n",
    "\n",
    "model_path = Path.joinpath(training_storing_folder, \"{}_{}_model.keras\".format(\n",
    "    training_name,\n",
    "    training_args_datetime.strftime(\"%Y-%m-%d\")\n",
    "))\n",
    "model = keras.models.load_model(model_path)\n",
    "\n",
    "end_to_end_model_path = Path.joinpath(training_storing_folder, \"{}_{}_end2end.keras\".format(\n",
    "    training_name,\n",
    "    training_args_datetime.strftime(\"%Y-%m-%d\")\n",
    "))\n",
    "\n",
    "end_to_end_model = keras.models.load_model(end_to_end_model_path)\n",
    "\n",
    "print('\\n\\n')\n",
    "print('Loaded text vectorizer from {}'.format(text_vectorizer_path))\n",
    "print('Loaded model from {}'.format(model_path))\n",
    "print('Loaded end to end model from {}'.format(end_to_end_model_path))"
   ]
  },
  {
   "cell_type": "code",
   "execution_count": 7,
   "metadata": {},
   "outputs": [
    {
     "name": "stdout",
     "output_type": "stream",
     "text": [
      "Model: \"model_1\"\n",
      "_________________________________________________________________\n",
      " Layer (type)                Output Shape              Param #   \n",
      "=================================================================\n",
      " input_2 (InputLayer)        [(None, 1)]               0         \n",
      "                                                                 \n",
      " vectorizer (TextVectorizat  (None, 512)               0         \n",
      " ion)                                                            \n",
      "                                                                 \n",
      " model (Functional)          (None, 2)                 6808154   \n",
      "                                                                 \n",
      "=================================================================\n",
      "Total params: 6808154 (25.97 MB)\n",
      "Trainable params: 6808154 (25.97 MB)\n",
      "Non-trainable params: 0 (0.00 Byte)\n",
      "_________________________________________________________________\n"
     ]
    }
   ],
   "source": [
    "end_to_end_model.summary()"
   ]
  },
  {
   "cell_type": "code",
   "execution_count": 21,
   "metadata": {},
   "outputs": [
    {
     "data": {
      "text/plain": [
       "['',\n",
       " '[UNK]',\n",
       " 'the',\n",
       " 'and',\n",
       " 'to',\n",
       " 'a',\n",
       " 'game',\n",
       " 'i',\n",
       " 'it',\n",
       " 'of',\n",
       " 'you',\n",
       " 'is',\n",
       " 'this',\n",
       " 'in',\n",
       " 'that',\n",
       " 'for',\n",
       " 'but',\n",
       " 's',\n",
       " 'with',\n",
       " 't']"
      ]
     },
     "execution_count": 21,
     "metadata": {},
     "output_type": "execute_result"
    }
   ],
   "source": [
    "vectorizer.get_vocabulary()[:20]"
   ]
  },
  {
   "cell_type": "code",
   "execution_count": 12,
   "metadata": {},
   "outputs": [
    {
     "name": "stdout",
     "output_type": "stream",
     "text": [
      "Model: \"model\"\n",
      "__________________________________________________________________________________________________\n",
      " Layer (type)                Output Shape                 Param #   Connected to                  \n",
      "==================================================================================================\n",
      " input_1 (InputLayer)        [(None, 512)]                0         []                            \n",
      "                                                                                                  \n",
      " embedding (Embedding)       (None, 512, 300)             6000600   ['input_1[0][0]']             \n",
      "                                                                                                  \n",
      " conv1d (Conv1D)             (None, 506, 128)             268928    ['embedding[0][0]']           \n",
      "                                                                                                  \n",
      " conv1d_1 (Conv1D)           (None, 506, 128)             268928    ['embedding[0][0]']           \n",
      "                                                                                                  \n",
      " conv1d_2 (Conv1D)           (None, 506, 128)             268928    ['embedding[0][0]']           \n",
      "                                                                                                  \n",
      " max_pooling1d (MaxPooling1  (None, 1, 128)               0         ['conv1d[0][0]']              \n",
      " D)                                                                                               \n",
      "                                                                                                  \n",
      " max_pooling1d_1 (MaxPoolin  (None, 1, 128)               0         ['conv1d_1[0][0]']            \n",
      " g1D)                                                                                             \n",
      "                                                                                                  \n",
      " max_pooling1d_2 (MaxPoolin  (None, 1, 128)               0         ['conv1d_2[0][0]']            \n",
      " g1D)                                                                                             \n",
      "                                                                                                  \n",
      " concatenate (Concatenate)   (None, 1, 384)               0         ['max_pooling1d[0][0]',       \n",
      "                                                                     'max_pooling1d_1[0][0]',     \n",
      "                                                                     'max_pooling1d_2[0][0]']     \n",
      "                                                                                                  \n",
      " flatten (Flatten)           (None, 384)                  0         ['concatenate[0][0]']         \n",
      "                                                                                                  \n",
      " dropout (Dropout)           (None, 384)                  0         ['flatten[0][0]']             \n",
      "                                                                                                  \n",
      " dense (Dense)               (None, 2)                    770       ['dropout[0][0]']             \n",
      "                                                                                                  \n",
      "==================================================================================================\n",
      "Total params: 6808154 (25.97 MB)\n",
      "Trainable params: 6808154 (25.97 MB)\n",
      "Non-trainable params: 0 (0.00 Byte)\n",
      "__________________________________________________________________________________________________\n"
     ]
    }
   ],
   "source": [
    "model.summary()"
   ]
  },
  {
   "cell_type": "code",
   "execution_count": 13,
   "metadata": {},
   "outputs": [
    {
     "name": "stdout",
     "output_type": "stream",
     "text": [
      "INFO:tensorflow:Assets written to: /root/FYP/NLP/dev-workspace/sa/glove-cnn_2023-12-12/glove-cnn-20000_120k_bal/glove-cnn-20000_120k_bal_2023-12-22_model_savedmodel/assets\n"
     ]
    },
    {
     "name": "stderr",
     "output_type": "stream",
     "text": [
      "INFO:tensorflow:Assets written to: /root/FYP/NLP/dev-workspace/sa/glove-cnn_2023-12-12/glove-cnn-20000_120k_bal/glove-cnn-20000_120k_bal_2023-12-22_model_savedmodel/assets\n"
     ]
    }
   ],
   "source": [
    "# save the .keras model to SavedModel format\n",
    "# which include a .pb file\n",
    "\n",
    "# https://www.tensorflow.org/tutorials/keras/save_and_load#savedmodel_format\n",
    "\n",
    "model.save(Path.joinpath(training_storing_folder, \"{}_{}_model_savedmodel\".format(\n",
    "    training_name,\n",
    "    training_args_datetime.strftime(\"%Y-%m-%d\")\n",
    ")))"
   ]
  },
  {
   "cell_type": "code",
   "execution_count": 22,
   "metadata": {},
   "outputs": [],
   "source": [
    "# save the pretrained model to onnx\n",
    "\n",
    "import tf2onnx\n",
    "import onnx\n",
    "\n",
    "onnx_model_path = Path.joinpath(training_storing_folder, \"{}_{}_modelonly.onnx\".format(\n",
    "    training_name,\n",
    "    training_args_datetime.strftime(\"%Y-%m-%d\")\n",
    "))\n",
    "\n",
    "# onnx_model, _ = tf2onnx.convert.from_keras(\n",
    "#     end_to_end_model,\n",
    "#     input_signature=[tf.TensorSpec([None,1], dtype=tf.string, name='input_3')],\n",
    "#     extra_opset='ai.onnx.contrib:1',\n",
    "#     opset=13        # support onnxruntime >= 1.13.0\n",
    "# )\n",
    "\n",
    "# onnx.save(onnx_model, onnx_model_path)"
   ]
  },
  {
   "cell_type": "code",
   "execution_count": 23,
   "metadata": {},
   "outputs": [
    {
     "name": "stdout",
     "output_type": "stream",
     "text": [
      "/root/FYP/NLP/dev-workspace/sa/glove-cnn_2023-12-12/glove-cnn-20000_120k_bal\n",
      "\n",
      "\n",
      "\n",
      "/root/FYP/NLP/dev-workspace/sa/glove-cnn_2023-12-12/glove-cnn-20000_120k_bal/glove-cnn-20000_120k_bal_2023-12-22_modelonly.onnx\n"
     ]
    }
   ],
   "source": [
    "print(training_storing_folder)\n",
    "print('\\n\\n')\n",
    "print(onnx_model_path)"
   ]
  },
  {
   "cell_type": "code",
   "execution_count": 17,
   "metadata": {},
   "outputs": [
    {
     "name": "stdout",
     "output_type": "stream",
     "text": [
      "/root/miniforge3/envs/fyp-test2-wsl/lib/python3.9/runpy.py:127: RuntimeWarning: 'tf2onnx.convert' found in sys.modules after import of package 'tf2onnx', but prior to execution of 'tf2onnx.convert'; this may result in unpredictable behaviour\n",
      "  warn(RuntimeWarning(msg))\n",
      "2023-12-22 16:39:46,832 - WARNING - tensorflow_text not installed. Model will fail to load if tensorflow_text ops are used.\n",
      "2023-12-22 16:39:46,977 - WARNING - '--tag' not specified for saved_model. Using --tag serve\n",
      "2023-12-22 16:39:47,138 - INFO - Signatures found in model: [serving_default].\n",
      "2023-12-22 16:39:47,138 - WARNING - '--signature_def' not specified, using first signature: serving_default\n",
      "2023-12-22 16:39:47,138 - INFO - Output names: ['dense']\n",
      "2023-12-22 16:39:47,138 - WARNING - Could not search for non-variable resources. Concrete function internal representation may have changed.\n",
      "2023-12-22 16:39:47,550 - INFO - Using tensorflow=2.15.0, onnx=1.14.1, tf2onnx=1.15.1/37820d\n",
      "2023-12-22 16:39:47,550 - INFO - Using opset <onnx, 15>\n",
      "2023-12-22 16:39:47,607 - INFO - Computed 0 values for constant folding\n",
      "2023-12-22 16:39:47,670 - INFO - Optimizing ONNX model\n",
      "2023-12-22 16:39:49,011 - INFO - After optimization: Cast -7 (7->0), Const -15 (30->15), Identity -2 (2->0), Reshape -3 (7->4), Transpose -11 (12->1), Unsqueeze -2 (6->4)\n",
      "2023-12-22 16:39:49,039 - INFO - \n",
      "2023-12-22 16:39:49,039 - INFO - Successfully converted TensorFlow model glove-cnn-20000_120k_bal/glove-cnn-20000_120k_bal_2023-12-22_model_savedmodel to ONNX\n",
      "2023-12-22 16:39:49,039 - INFO - Model inputs: ['input_1']\n",
      "2023-12-22 16:39:49,039 - INFO - Model outputs: ['dense']\n",
      "2023-12-22 16:39:49,039 - INFO - ONNX model is saved at glove-cnn-20000_120k_bal/glove-cnn-20000_120k_bal_2023-12-22_modelonly.onnx\n"
     ]
    }
   ],
   "source": [
    "# https://github.com/onnx/tensorflow-onnx/issues/1867\n",
    "# \"probably there's no shared-name keyword for hash tables in TextVectorization layer.\"\n",
    "# Therefore we only convert the model without the vectorizer (resulting in like huggingface, that the tokenizer is not included in onnx)\n",
    "\n",
    "!python -m tf2onnx.convert --saved-model \"glove-cnn-20000_120k_bal/glove-cnn-20000_120k_bal_2023-12-22_model_savedmodel\" --output \"glove-cnn-20000_120k_bal/glove-cnn-20000_120k_bal_2023-12-22_modelonly.onnx\" --extra_opset ai.onnx.contrib:1 --opset 15"
   ]
  },
  {
   "cell_type": "code",
   "execution_count": 26,
   "metadata": {},
   "outputs": [],
   "source": [
    "import onnxruntime as rt\n",
    "\n",
    "sess = rt.InferenceSession(\n",
    "    onnx_model_path,\n",
    "    providers=['CPUExecutionProvider']\n",
    ")\n",
    "\n",
    "input_name = [inp.name for inp in sess.get_inputs()][0]     # only one input in this model\n",
    "label_names = [label.name for label in sess.get_outputs()]  # it outputs the label and the probability"
   ]
  },
  {
   "cell_type": "code",
   "execution_count": 27,
   "metadata": {},
   "outputs": [],
   "source": [
    "test_data = [['I like the game'], [\"I do not like it.\"], [\"It crashes when I just run on my pc.\"]]"
   ]
  },
  {
   "cell_type": "code",
   "execution_count": 43,
   "metadata": {},
   "outputs": [
    {
     "name": "stdout",
     "output_type": "stream",
     "text": [
      "1/1 [==============================] - 0s 20ms/step\n",
      "1/1 [==============================] - 0s 18ms/step\n",
      "1/1 [==============================] - 0s 19ms/step\n",
      "[array([[0.34374118, 0.6562588 ]], dtype=float32), array([[0.8287184 , 0.17128158]], dtype=float32), array([[0.953253  , 0.04674701]], dtype=float32)]\n",
      "[[array([[0.34371904, 0.65628093]], dtype=float32)], [array([[0.8287124 , 0.17128758]], dtype=float32)], [array([[0.9532483, 0.0467517]], dtype=float32)]]\n"
     ]
    }
   ],
   "source": [
    "# test inference\n",
    "\n",
    "pred_keras = []\n",
    "perd_onnx = []\n",
    "\n",
    "for i in range(len(test_data)):\n",
    "    # keras inference\n",
    "    pred_keras.append(end_to_end_model.predict(test_data[i]))\n",
    "\n",
    "    # onnx inference\n",
    "    v_out = vectorizer(test_data[i])\n",
    "    perd_onnx.append(sess.run(None, {\"input_1\": v_out.cpu().numpy().astype(np.int32)}))\n",
    "\n",
    "print(pred_keras)\n",
    "print(perd_onnx)\n",
    "\n",
    "for i in range(len(test_data)):\n",
    "    result_keras = pred_keras[i]\n",
    "    result_onnx = perd_onnx[i][0]\n",
    "\n",
    "    np.testing.assert_allclose(result_keras, result_onnx, rtol=1e-3, atol=1e-3)"
   ]
  }
 ],
 "metadata": {
  "kernelspec": {
   "display_name": "fyp-test2",
   "language": "python",
   "name": "python3"
  },
  "language_info": {
   "codemirror_mode": {
    "name": "ipython",
    "version": 3
   },
   "file_extension": ".py",
   "mimetype": "text/x-python",
   "name": "python",
   "nbconvert_exporter": "python",
   "pygments_lexer": "ipython3",
   "version": "3.9.18"
  }
 },
 "nbformat": 4,
 "nbformat_minor": 2
}
