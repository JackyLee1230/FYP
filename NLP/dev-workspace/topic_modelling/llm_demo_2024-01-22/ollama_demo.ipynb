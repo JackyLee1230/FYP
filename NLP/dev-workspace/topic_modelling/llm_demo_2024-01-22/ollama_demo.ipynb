{
 "cells": [
  {
   "cell_type": "markdown",
   "metadata": {},
   "source": [
    "Topic model with Ollama (to generate human readable topic labels)"
   ]
  },
  {
   "cell_type": "markdown",
   "metadata": {},
   "source": [
    "We first test with LDA topic model  \n",
    "Then test with BERTopic, and CTM"
   ]
  },
  {
   "cell_type": "markdown",
   "metadata": {},
   "source": [
    "Tutorial: https://python.langchain.com/docs/integrations/llms/ollama"
   ]
  },
  {
   "cell_type": "code",
   "execution_count": 1,
   "metadata": {},
   "outputs": [],
   "source": [
    "from pathlib import Path"
   ]
  },
  {
   "cell_type": "code",
   "execution_count": 2,
   "metadata": {},
   "outputs": [],
   "source": [
    "from langchain.callbacks.manager import CallbackManager\n",
    "from langchain.callbacks.streaming_stdout import StreamingStdOutCallbackHandler\n",
    "from langchain_community.llms import Ollama"
   ]
  },
  {
   "cell_type": "markdown",
   "metadata": {},
   "source": [
    "Init Ollama object\n",
    "\n",
    "langchain api: https://api.python.langchain.com/en/latest/llms/langchain_community.llms.ollama.Ollama.html#  \n",
    "ollama api: https://github.com/jmorganca/ollama/blob/main/docs/api.md\n",
    "\n",
    "basically the api is identical, just pass the params in the init()"
   ]
  },
  {
   "cell_type": "code",
   "execution_count": 5,
   "metadata": {},
   "outputs": [],
   "source": [
    "llm = Ollama(model=\"llama2\")        # assuming the port is 11434"
   ]
  },
  {
   "cell_type": "code",
   "execution_count": 3,
   "metadata": {},
   "outputs": [
    {
     "name": "stderr",
     "output_type": "stream",
     "text": [
      "/root/miniforge3/envs/fyp-test-wsl-tm/lib/python3.9/site-packages/langchain_core/_api/deprecation.py:117: LangChainDeprecationWarning: The function `__call__` was deprecated in LangChain 0.1.7 and will be removed in 0.2.0. Use invoke instead.\n",
      "  warn_deprecated(\n"
     ]
    },
    {
     "data": {
      "text/plain": [
       "'\\nArtificial intelligence (AI) has a rich and diverse history that spans several decades. Here is a brief overview:\\n\\n1. 1950s-1960s: The Dartmouth Conference and the Birth of AI - The field of AI was founded in 1956 at a conference held at Dartmouth College in Hanover, New Hampshire. Attendees included computer scientists, mathematicians, and cognitive scientists who were interested in exploring the possibilities of creating machines that could simulate human intelligence.\\n2. 1951: The Term \"Artificial Intelligence\" - John McCarthy, a computer scientist and cognitive scientist, coined the term \"artificial intelligence\" at the Dartmouth Conference. Prior to this, the field was known as \"computer science\" or \"cybernetics.\"\\n3. 1956: The First AI Program - Alan Turing, a British mathematician and computer scientist, developed the first AI program, called the \"Turing Test,\" which was designed to test a machine\\'s ability to mimic human conversation.\\n4. 1960s: Rule-Based Expert Systems - The development of rule-based expert systems, which used a set of rules to reason and make decisions, marked a significant milestone in the history of AI. These systems were widely used in industries such as banking and healthcare.\\n5. 1970s: Machine Learning and Neural Networks - Machine learning and neural networks became major areas of research in AI. Machine learning involved developing algorithms that could learn from data without being explicitly programmed, while neural networks were inspired by the structure and function of the human brain.\\n6. 1980s: Expert Systems and AI Winter - The development of expert systems, which were designed to mimic the decision-making abilities of humans, reached its peak in the 1980s. However, the field experienced a decline in funding and interest during this period, known as the \"AI winter.\"\\n7. 1990s: AI Resurgence - The rise of the internet and the availability of large amounts of data led to a resurgence of interest in AI. This was fueled by advances in areas such as machine learning and natural language processing.\\n8. 2000s: Deep Learning - The development of deep learning algorithms, which are capable of learning and improving on their own by analyzing large amounts of data, marked a significant breakthrough in the field of AI. These algorithms have been used in applications such as image and speech recognition, natural language processing, and autonomous vehicles.\\n9. Present Day: AI and Its Applications - Today, AI is being applied in a wide range of fields, including healthcare, finance, transportation, and education. It is also being used to develop new products and services, such as virtual assistants, autonomous vehicles, and personalized recommendations.\\n\\nOverall, the history of AI reflects a long-standing interest in creating machines that can simulate human intelligence. While the field has experienced periods of growth and decline, it continues to evolve and expand into new areas of research and application.'"
      ]
     },
     "execution_count": 3,
     "metadata": {},
     "output_type": "execute_result"
    }
   ],
   "source": [
    "llm.invoke(\"Tell me about history of AI\")"
   ]
  },
  {
   "cell_type": "code",
   "execution_count": 4,
   "metadata": {},
   "outputs": [],
   "source": [
    "from langchain_core.prompts import ChatPromptTemplate\n",
    "\n",
    "prompt = ChatPromptTemplate.from_template(\"Tell me about history of {topic}\")\n",
    "chain = prompt | llm"
   ]
  },
  {
   "cell_type": "code",
   "execution_count": 10,
   "metadata": {},
   "outputs": [
    {
     "data": {
      "text/plain": [
       "ChatPromptTemplate(input_variables=['topic'], messages=[HumanMessagePromptTemplate(prompt=PromptTemplate(input_variables=['topic'], template='Tell me about history of {topic}'))])"
      ]
     },
     "execution_count": 10,
     "metadata": {},
     "output_type": "execute_result"
    }
   ],
   "source": [
    "prompt"
   ]
  },
  {
   "cell_type": "code",
   "execution_count": 7,
   "metadata": {},
   "outputs": [
    {
     "data": {
      "text/plain": [
       "'\\nSure, I\\'d be happy to explain the history of blockchain!\\n\\nBlockchain technology has its roots in the early 1990s when computer scientist David Chaum began developing a concept he called \"Blind Signature\" technology. This technology allowed for secure digital signatures without relying on trusted third parties.\\n\\nIn the late 1990s and early 2000s, cryptographers like Nick Szabo and Hal Finney began exploring the potential of blockchain technology beyond just digital signatures. They envisioned a decentralized system where transactions could be verified and recorded without the need for intermediaries like banks or governments.\\n\\nThe modern blockchain concept was born in 2008 with the release of the Bitcoin whitepaper by an anonymous individual or group using the pseudonym Satoshi Nakamoto. The whitepaper proposed a decentralized digital currency that could be secured through cryptography and verified through a network of computers rather than relying on a central authority.\\n\\nSince then, blockchain technology has evolved significantly, with numerous other cryptocurrencies and applications emerging, such as Ethereum, which allows for the creation of decentralized apps (dApps) and smart contracts. Other use cases include supply chain management, voting systems, and even non-financial transactions like land registry.\\n\\nSome key milestones in the history of blockchain include:\\n\\n* 2009: The Bitcoin whitepaper is released, introducing the concept of decentralized digital currency secured through cryptography and verified through a network of computers.\\n* 2011: The first Bitcoin exchange, Mt. Gox, is launched.\\n* 2013: The Ethereum blockchain is launched, introducing smart contracts and the ability to create decentralized apps (dApps).\\n* 2017: The popularity of initial coin offerings (ICOs) leads to a significant increase in investment in blockchain-based projects.\\n* 2018: The launch of Facebook\\'s Libra cryptocurrency marks a significant mainstream adoption of blockchain technology.\\n* 2020: The COVID-19 pandemic accelerates the adoption of blockchain technology in various industries, including supply chain management and voting systems.\\n\\nToday, blockchain technology is being explored and implemented across various sectors, from financial services to healthcare, agriculture, and beyond. Its potential to transform industries and create new opportunities for innovation and growth continues to be exciting and evolving.'"
      ]
     },
     "execution_count": 7,
     "metadata": {},
     "output_type": "execute_result"
    }
   ],
   "source": [
    "chain.invoke({\"topic\":\"Blockchain\"})"
   ]
  },
  {
   "cell_type": "markdown",
   "metadata": {},
   "source": [
    "How to interact with langchain\n",
    "\n",
    "Quick Start  \n",
    "https://python.langchain.com/docs/modules/model_io/quick_start\n",
    "\n",
    "Writing prompt with ChatPromptTemplate()  \n",
    "https://python.langchain.com/docs/modules/model_io/prompts/quick_start\n",
    "\n",
    "https://python.langchain.com/docs/modules/model_io/prompts/composition"
   ]
  },
  {
   "cell_type": "markdown",
   "metadata": {},
   "source": [
    "The topic keywords and top reviews are taken from the script ctm_demo_gridsearch.ipynb"
   ]
  },
  {
   "cell_type": "code",
   "execution_count": 47,
   "metadata": {},
   "outputs": [],
   "source": [
    "# system_message = \"You are a moderator of an online gaming forum that allows players to post reviews about different games.\"\n",
    "system_message = \"You are a player of the game who is reading the reviews about the game.\"\n",
    "human_template = \\\n",
    "\"Create a name for a topic given the topic's keywords and some most representative reviews of the topic. The name of the game is 'Terraria'. The top keywords of the topic is: \\'\\'\\'{topic_keywords}\\'\\'\\'. The most representative reviews of the topic are: \\'\\'\\'{topic_reviews}\\'\\'\\'. Output a description less than 5 words for the topic. Do not output other text.\"\n",
    "\n",
    "chat_prompt = ChatPromptTemplate.from_messages([\n",
    "    (\"system\", system_message),\n",
    "    (\"human\", human_template)\n",
    "])\n",
    "\n",
    "topic_top_keywords = [\n",
    "    'play',\n",
    "    'hour',\n",
    "    'buy',\n",
    "    'time',\n",
    "    'pc',\n",
    "    'xbox',\n",
    "    'first',\n",
    "    'love',\n",
    "    'life',\n",
    "    'would'\n",
    "]\n",
    "\n",
    "topic_top_reviews = [\n",
    "    'Own this on xbox? Pshh, you do not know what you are missing out on. I played the heck of terraria on xbox 360 and I thought I was done playing this game. The PC version is way better and more smooth then xbox 360. 10/10 would play again. One last thing, do not buy the 4-pack unless you 100% know that the friends you bought it for would play this game. I gave it away to 3 of my friends. One ended up playing a good bit of time. the second played for 10 minutes, and the third ended up removing me after I gifted it away. #fail',\n",
    "    \"Well, let me tell you about this game. My son LOVES it. I got it for him around the winter sale as a gift. He has been playing it non-stop for a long time. He has been bugging me to get it and play it to, but it just didn't look entertaining. BOY, was I wrong. I just bought it during the last summer sale (a few weeks ago) and been playing it ALOT. It is worth it and a GREAT break from daily life. ENJOY! \",\n",
    "    'I love this game, i play it everyday and every night when i get a chance. I was first shown this game on the XboX with my brother playing it at his house, i seen it and first thought that was the dumbest thing ive ever A side scrolling minecraft? So he begged me to try it and after the first 10 mins i was HOOKED! Hooked i tell you! i couldnt take my eyes off the game for a second. I played the game straight for 29 hours none stop except to eat and use the bathroom and occasional xbox freezes from overuse. Man this game is awesome. this game is alot funner if you have friends that play with you. Besides the mutiplayer part i been playing well over 300 hours and still going strong. I HIGHLY suggest this game to ANYONE that loves to play minecraft. ive already gotten 20 of my other friends to buy and play this game and they all love it. Sadly most of their computers broke and i no longer have friends to play mutiplayer with anymore. I need friends to play with shoot me a game invite. PLAY PLAY PLAY you will not be dissapointed! *sorry for bad spelling*',\n",
    "    \":Heres A True Story: I remember when this game was in stores and everyone was playing it, buying it and loving this game until, 'Minecraft' came out and I never heard anyone talking about Terraria again :,( 3 Years later (2014) I bought this game for Ps3 and I loved it and playing it for ages made me love it even more but the Ps3 Version was glitched. 5 Months later (Still 2014) I bought Terraria for the Pc and I played it more than my Ps3 Version and WOW IT'S AMAZING!!!! 1st January - May (2015) Oh, wow Terraria is being updated in June, time to start playing again! 50 Years later (2060) I lived a good life (I died)\",\n",
    "    'I first got Terraria ios for my kindle 2 years ago and i loved i started playing it again and realized how limited it is so i bought it on steam and i knew what to do right off the bat and i had a blast playing it can wait to get back to it and play some more Terraria! Buy This Game Love it! out of 5',\n",
    "    # 'purchases game on xbox plays for days with his friends is complete and total noob stops splaying because friends start hacking/cheating months Gets new compute gets steam account buys terraria gets friend to buy it plays for days with friends friends start cheating stops playing months later comes out plays for days with friends surprisingly friends dont cheat and we all have a jolly good time! oh yeah and its a good game too, not a noob anymore , i beat the moonlred like 20 no-noones proud of me? :( ',\n",
    "    # 'DONT LET ME GET INTO MY ZONE DONT LET ME GET INTO MY ZONE DONT LET ME GET INTO MY ZONE DONT LET ME GET INTO MY ZONE DONT LET ME GET INTO MY ZONE DONT LET ME GET INTO MY ZONE DONT LET ME GET INTO MY ZONE DONT LET ME GET INTO MY ZONE DONT LET ME GET INTO MY ZONE DONT LET ME GET INTO MY ZONE DONT LET ME GET INTO MY ZONE DONT LET ME GET INTO MY ZONE DONT LET ME GET INTO MY ZONE DONT LET ME GET INTO MY ZONE DONT LET ME GET INTO MY ZONE DONT LET ME GET INTO MY ZONE DONT LET ME GET INTO MY ZONE DONT LET ME GET INTO MY ZONE DONT LET ME GET INTO MY ZONE DONT LET ME GET INTO MY ZONE DONT LET ME GET INTO MY ZONE DONT LET ME GET INTO MY ZONE DONT LET ME GET INTO MY ZONE DONT LET ME GET INTO MY ZONE DONT LET ME GET INTO MY ZONE DONT LET ME GET INTO MY ZONE DONT LET ME GET INTO MY ZONE DONT LET ME GET INTO MY ZONE DONT LET ME GET INTO MY ZONE DONT LET ME GET INTO MY ZONE DONT LET ME GET INTO MY ZONE DONT LET ME GET INTO MY ZONE DONT LET ME GET INTO MY ZONE DONT LET ME GET INTO MY ZONE DONT LET ME GET INTO MY ZONE DONT LET ME GET INTO MY ZONE DONT LET ME GET INTO MY ZONE DONT LET ME GET INTO MY ZONE DONT LET ME GET INTO MY ZONE DONT LET ME GET INTO MY ZONE DONT LET ME GET INTO MY ZONE DONT LET ME GET INTO MY ZONE DONT LET ME GET INTO MY ZONE DONT LET ME GET INTO MY ZONE DONT LET ME GET INTO MY ZONE DONT LET ME GET INTO MY ZONE DONT LET ME GET INTO MY ZONE DONT LET ME GET INTO MY ZONE DONT LET ME GET INTO MY ZONE DONT LET ME GET INTO MY ZONE DONT LET ME GET INTO MY ZONE DONT LET ME GET INTO MY ZONE DONT LET ME GET INTO MY ZONE DONT LET ME GET INTO MY ZONE DONT LET ME GET INTO MY ZONE DONT LET ME GET INTO MY ZONE DONT LET ME GET INTO MY ZONE DONT LET ME GET INTO MY ZONE DONT LET ME GET INTO MY ZONE DONT LET ME GET INTO MY ZONE DONT LET ME GET INTO MY ZONE DONT LET ME GET INTO MY ZONE DONT LET ME GET INTO MY ZONE DONT LET ME GET INTO MY ZONE DONT LET ME GET INTO MY ZONE DONT LET ME GET INTO MY ZONE DONT LET ME GET INTO MY ZONE DONT LET ME GET INTO MY ZONE DONT LET ME GET INTO MY ZONE DONT LET ME GET INTO MY ZONE DONT LET ME GET INTO MY ZONE DONT LET ME GET INTO MY ZONE DONT LET ME GET INTO MY ZONE DONT LET ME GET INTO MY ZONE DONT LET ME GET INTO MY ZONE DONT LET ME GET INTO MY ZONE DONT LET ME GET INTO MY ZONE DONT LET ME GET INTO MY ZONE DONT LET ME GET INTO MY ZONE DONT LET ME GET INTO MY ZONE DONT LET ME GET INTO MY ZONE DONT LET ME GET INTO MY ZONE DONT LET ME GET INTO MY ZONE DONT LET ME GET INTO MY ZONE DONT LET ME GET INTO MY ZONE DONT LET ME GET INTO MY ZONE DONT LET ME GET INTO MY ZONE DONT LET ME GET INTO MY ZONE DONT LET ME GET INTO MY ZONE DONT LET ME GET INTO MY ZONE DONT LET ME GET INTO MY ZONE DONT LET ME GET INTO MY ZONE DONT LET ME GET INTO MY ZONE DONT LET ME GET INTO MY ZONE DONT LET ME GET INTO MY ZONE DONT LET ME GET INTO MY ZONE DONT LET ME GET INTO MY ZONE DONT LET ME GET INTO MY ZONE DONT LET ME GET INTO MY ZONE DONT LET ME GET INTO MY ZONE DONT LET ME GET INTO MY ZONE DONT LET ME GET INTO MY ZONE DONT LET ME GET INTO MY ZONE DONT LET ME GET INTO MY ZONE DONT LET ME GET INTO MY ZONE DONT LET ME GET INTO MY ZONE DONT LET ME GET INTO MY ZONE DONT LET ME GET INTO MY ZONE DONT LET ME GET INTO MY ZONE DONT LET ME GET INTO MY ZONE DONT LET ME GET INTO MY ZONE DONT LET ME GET INTO MY ZONE DONT LET ME GET INTO MY ZONE DONT LET ME GET INTO MY ZONE DONT LET ME GET INTO MY ZONE DONT LET ME GET INTO MY ZONE DONT LET ME GET INTO MY ZONE DONT LET ME GET INTO MY ZONE DONT LET ME GET INTO MY ZONE DONT LET ME GET INTO MY ZONE DONT LET ME GET INTO MY ZONE DONT LET ME GET INTO MY ZONE DONT LET ME GET INTO MY ZONE DONT LET ME GET INTO MY ZONE DONT LET ME GET INTO MY ZONE DONT LET ME GET INTO MY ZONE DONT LET ME GET INTO MY ZONE DONT LET ME GET INTO MY ZONE DONT LET ME GET INTO MY ZONE DONT LET ME GET INTO MY ZONE DONT LET ME GET INTO MY ZONE DONT LET ME GET INTO MY ZONE DONT LET ME GET INTO MY ZONE DONT LET ME GET INTO MY ZONE DONT LET ME GET INTO MY ZONE DONT LET ME GET INTO MY ZONE DONT LET ME GET INTO MY ZONE DONT LET ME GET INTO MY ZONE DONT LET ME GET INTO MY ZONE DONT LET ME GET INTO MY ZONE DONT LET ME GET INTO MY ZONE DONT LET ME GET INTO MY ZONE DONT LET ME GET INTO MY ZONE DONT LET ME GET INTO MY ZONE DONT LET ME GET INTO MY ZONE DONT LET ME GET INTO MY ZONE DONT LET ME GET INTO MY ZONE DONT LET ME GET INTO MY ZONE DONT LET ME GET INTO MY ZONE DONT LET ME GET INTO MY ZONE DONT LET ME GET INTO MY ZONE DONT LET ME GET INTO MY ZONE DONT LET ME GET INTO MY ZONE DONT LET ME GET INTO MY ZONE DONT LET ME GET INTO MY ZONE DONT LET ME GET INTO MY ZONE DONT LET ME GET INTO MY ZONE DONT LET ME GET INTO MY ZONE DONT LET ME GET INTO MY ZONE DONT LET ME GET INTO MY ZONE DONT LET ME GET INTO MY ZONE DONT LET ME GET INTO MY ZONE DONT LET ME GET INTO MY ZONE DONT LET ME GET INTO MY ZONE DONT LET ME GET INTO MY ZONE DONT LET ME GET INTO MY ZONE DONT LET ME GET INTO MY ZONE DONT LET ME GET INTO MY ZONE DONT LET ME GET INTO MY ZONE DONT LET ME GET INTO MY ZONE DONT LET ME GET INTO MY ZONE DONT LET ME GET INTO MY ZONE DONT LET ME GET INTO MY ZONE DONT LET ME GET INTO MY ZONE DONT LET ME GET INTO MY ZONE DONT LET ME GET INTO MY ZONE DONT LET ME GET INTO MY ZONE DONT LET ME GET INTO MY ZONE DONT LET ME GET INTO MY ZONE DONT LET ME GET INTO MY ZONE DONT LET ME GET INTO MY ZONE DONT LET ME GET INTO MY ZONE DONT LET ME GET INTO MY ZONE DONT LET ME GET INTO MY ZONE DONT LET ME GET INTO MY ZONE DONT LET ME GET INTO MY ZONE DONT LET ME GET INTO MY ZONE DONT LET ME GET INTO MY ZONE DONT LET ME GET INTO MY ZONE DONT LET ME GET INTO MY ZONE DONT LET ME GET INTO MY ZONE DONT LET ME GET INTO MY ZONE DONT LET ME GET INTO MY ZONE DONT LET ME GET INTO MY ZONE DONT LET ME GET INTO MY ZONE DONT LET ME GET INTO MY ZONE DONT LET ME GET INTO MY ZONE DONT LET ME GET INTO MY ZONE DONT LET ME GET INTO MY ZONE DONT LET ME GET INTO MY ZONE DONT LET ME GET INTO MY ZONE DONT LET ME GET INTO MY ZONE DONT LET ME GET INTO MY ZONE DONT LET ME GET INTO MY ZONE DONT LET ME GET INTO MY ZONE DONT LET ME GET INTO MY ZONE DONT LET ME GET INTO MY ZONE DONT LET ME GET INTO MY ZONE DONT LET ME GET INTO MY ZONE DONT LET ME GET INTO MY ZONE DONT LET ME GET INTO MY ZONE DONT LET ME GET INTO MY ZONE DONT LET ME GET INTO MY ZONE DONT LET ME GET INTO MY ZONE DONT LET ME GET INTO MY ZONE DONT LET ME GET INTO MY ZONE DONT LET ME GET INTO MY ZONE DONT LET ME GET INTO MY ZONE DONT LET ME GET INTO MY ZONE DONT LET ME GET INTO MY ZONE DONT LET ME GET INTO MY ZONE DONT LET ME GET INTO MY ZONE DONT LET ME GET INTO MY ZONE DONT LET ME GET INTO MY ZONE DONT LET ME GET INTO MY ZONE DONT LET ME GET INTO MY ZONE DONT LET ME GET INTO MY ZONE DONT LET ME GET INTO MY ZONE DONT LET ME GET INTO MY ZONE DONT LET ME GET INTO MY ZONE DONT LET ME GET INTO MY ZONE DONT LET ME GET INTO MY ZONE DONT LET ME GET INTO MY ZONE DONT LET ME GET INTO MY ZONE DONT LET ME GET INTO MY ZONE DONT LET ME GET INTO MY ZONE DONT LET ME GET INTO MY ZONE DONT LET ME GET INTO MY ZONE DONT LET ME GET INTO MY ZONE DONT LET ME GET INTO MY ZONE DONT LET ME GET INTO MY ZONE DONT LET ME GET INTO MY ZONE DONT LET ME GET INTO MY ZONE DONT LET ME GET INTO MY ZONE DONT LET ME GET INTO MY ZONE DONT LET ME GET INTO MY ZONE DONT LET ME GET INTO MY ZONE DONT LET ME GET INTO MY ZONE DONT LET ME GET INTO MY ZONE DONT LET ME GET INTO MY ZONE DONT LET ME GET INTO MY ZONE DONT LET ME GET INTO MY ZONE DONT LET ME GET INTO MY ZONE DONT LET ME GET INTO MY ZONE DONT LET ME GET INTO MY ZONE DONT LET ME GET INTO MY ZONE DONT LET ME GET INTO MY ZONE DONT LET ME GET INTO MY ZONE DONT LET ME GET INTO MY ZONE DONT LET ME GET INTO MY ZONE DONT LET ME GET INTO MY ZONE DONT LET ME GET INTO MY ZONE DONT LET ME GET INTO MY ZONE DONT LET ME GET INTO MY ZONE DONT LET ME GET INTO MY ZONE DONT LET ME GET INTO MY ZONE DONT LET ME GET INTO MY ZONE DONT LET ME GET INTO MY ZONE DONT LET ME GET INTO MY ZONE DONT LET ME GET INTO MY ZONE DONT LET ME GET INTO MY ZONE DONT LET ME GET INTO MY ZONE DONT LET ME GET INTO MY ZONE DONT LET ME GET INTO MY ZONE DONT LET ME GET INTO MY ZONE',\n",
    "    # 'This game is People that berely go on the computer play for 10-70 hours Normal People that go on computers play 70-150 hours People that go on the computer frequently plays 150-500 hours Totally addicted players play for 500-2500 hours People that think they are in terraria 2500- ∞ What will happen to us in a few ',\n",
    "    # \"Didn't want to buy this game at first, but my friend Sara told me to buy as it was on sale as my outher friends bought this game too. At first 4 of us played for the first 2 days and after that i played alone as all of them don't want to play. 11/10 And btw fu*k you Jon, waste my money! Awesome game btw :D\",\n",
    "    # \"Bee Movie Script According to all known laws of aviation, there is no way a bee should be able to fly. Its wings are too small to get its fat little body off the ground. The bee, of course, flies anyway because bees don't care what humans think is impossible. Yellow, black. Yellow, black. Yellow, black. Yellow, black. Ooh, black and yellow! Let's shake it up a little. Barry! Breakfast is ready! Ooming! Hang on a second. Hello? - Barry? - Adam? - Oan you believe this is happening? - I can't. I'll pick you up. Looking sharp. Use the stairs. Your father paid good money for those. Sorry. I'm excited. Here's the graduate. We're very proud of you, son. A perfect report card, all B's. Very proud. Ma! I got a thing going here. - You got lint on your fuzz. - Ow! That's me! - Wave to us! We'll be in row 118,000. - Bye! Barry, I told you, stop flying in the house! - Hey, Adam. - Hey, Barry. - Is that fuzz gel? - A little. Special day, graduation. Never thought I'd make it. Three days grade school, three days high school. Those were awkward. Three days college. I'm glad I took a day and hitchhiked around the hive. You did come back different. - Hi, Barry. - Artie, growing a mustache? Looks good. - Hear about Frankie? - Yeah. - You going to the funeral? - No, I'm not going. Everybody knows, sting someone, you die. Don't waste it on a squirrel. Such a hothead. I guess he could have just gotten out of the way. I love this incorporating an amusement park into our day. That's why we don't need vacations. Boy, quite a bit of under the circumstances. - Well, Adam, today we are men. - We are! - Bee-men. - Amen! Hallelujah! Students, faculty, distinguished bees, please welcome Dean Buzzwell. Welcome, New Hive Oity graduating class That concludes our ceremonies. And begins your career at Honex Industries! Will we pick ourjob today? I heard it's just orientation. Heads up! Here we go. Keep your hands and antennas inside the tram at all times. - Wonder what it'll be like? - A little scary. Welcome to Honex, a division of Honesco and a part of the Hexagon Group. This is it! Wow. Wow. We know that you, as a bee, have worked your whole life to get to the point where you can work for your whole life. Honey begins when our valiant Pollen Jocks bring the nectar to the hive. Our top-secret formula is automatically color-corrected, scent-adjusted and bubble-contoured into this soothing sweet syrup with its distinctive golden glow you know Honey! - That girl was hot. - She's my cousin! - She is? - Yes, we're all cousins. - Right. You're right. - At Honex, we constantly strive to improve every aspect of bee existence. These bees are stress-testing a new helmet technology. - What do you think he makes? - Not enough. Here we have our latest advancement, the Krelman. - What does that do? - Oatches that little strand of honey that hangs after you pour it. Saves us millions. Oan anyone work on the Krelman? Of course. Most bee jobs are small ones. But bees know that every small job, if it's done well, means a lot. But choose carefully because you'll stay in the job you pick for the rest of your life. The same job the rest of your life? I didn't know that. What's the difference? You'll be happy to know that bees, as a species, haven't had one day off in 27 million years. So you'll just work us to death? We'll sure try. Wow! That blew my mind! 'What's the difference?' How can you say that? One job forever? That's an insane choice to have to make. I'm relieved. Now we only have to make one decision in life. But, Adam, how could they never have told us that? Why would you question anything? We're bees. We're the most perfectly functioning society on Earth. You ever think maybe things work a little too well here? Like what? Give me one example. I don't know. But you know what I'm talking about. Please clear the gate. Royal Nectar Force on approach. Wait a second. Oheck it out. - Hey, those are Pollen Jocks! - Wow. I've never seen them this close. They know what it's like outside the hive. Yeah, but some don't come back. - Hey, Jocks! - Hi, Jocks! You guys did great! You're monsters! You're sky freaks! I love it! I love it! - I wonder where they were. - I don't know. Their day's not planned. Outside the hive, flying who knows where, doing who knows what. You can'tjust decide to be a Pollen Jock. You have to be bred for that. Right. Look. That's more pollen than you and I will see in a lifetime. It's just a status symbol. Bees make too much of it. Perhaps. Unless you're wearing it and the ladies see you wearing it. Those ladies? Aren't they our cousins too? Distant. Distant. Look at these two. - Oouple of Hive Harrys. - Let's have fun with them. It must be dangerous being a Pollen Jock. Yeah. Once a bear pinned me against a mushroom! He had a paw on my throat, and with the other, he was slapping me! - Oh, my! - I never thought I'd knock him out. What were you doing during this? Trying to alert the authorities. I can autograph that. A little gusty out there today, wasn't it, comrades? Yeah. Gusty. We're hitting a sunflower patch six miles from here tomorrow. - Six miles, huh? - Barry! A puddle jump for us, but maybe you're not up for it. - Maybe I am. - You are not! We're going 0900 at J-Gate. What do you think, buzzy-boy? Are you bee enough? I might be. It all depends on what 0900 means. Hey, Honex! Dad, you surprised me. You decide what you're interested in? - Well, there's a lot of choices. - But you only get one. Do you ever get bored doing the same job every day? Son, let me tell you about stirring. You grab that stick, and you just move it around, and you stir it around. You get yourself into a rhythm. It's a beautiful thing. You know, Dad, the more I think about it, maybe the honey field just isn't right for me. You were thinking of what, making balloon animals? That's a bad job for a guy with a stinger. Janet, your son's not sure he wants to go into honey! - Barry, you are so funny sometimes. - I'm not trying to be funny. You're not funny! You're going into honey. Our son, the stirrer! - You're gonna be a stirrer? - No one's listening to me! Wait till you see the sticks I have. I could say anything right now. I'm gonna get an ant tattoo! Let's open some honey and celebrate! Maybe I'll pierce my thorax. Shave my antennae. Shack up with a grasshopper. Get a gold tooth and call everybody 'dawg'! I'm so proud. - We're starting work today! - Today's the day. Oome on! All the good jobs will be gone. Yeah, right. Pollen counting, stunt bee, pouring, stirrer, front desk, hair - Is it still available? - Hang on. Two left! One of them's yours! Oongratulations! Step to the side. - What'd you get? - Picking crud out. Stellar! Wow! Oouple of newbies? Yes, sir! Our first day! We are ready! Make your choice. - You want to go first? - No, you go. Oh, my. What's available? Restroom attendant's open, not for the reason you think. - Any chance of getting the Krelman? - Sure, you're on. I'm sorry, the Krelman just closed out. Wax monkey's always open. The Krelman opened up again. What happened? A bee died. Makes an opening. See? He's dead. Another dead one. Deady. Deadified. Two more dead. Dead from the neck up. Dead from the neck down. That's life! Oh, this is so har\",\n",
    "]\n",
    "\n",
    "chain = chat_prompt | llm \n"
   ]
  },
  {
   "cell_type": "code",
   "execution_count": 48,
   "metadata": {},
   "outputs": [
    {
     "data": {
      "text/plain": [
       "'Exciting Adventure Game'"
      ]
     },
     "execution_count": 48,
     "metadata": {},
     "output_type": "execute_result"
    }
   ],
   "source": [
    "chain.invoke({\n",
    "    \"topic_keywords\": topic_top_keywords,\n",
    "    \"topic_reviews\": topic_top_reviews\n",
    "})"
   ]
  },
  {
   "cell_type": "code",
   "execution_count": 53,
   "metadata": {},
   "outputs": [],
   "source": [
    "topic_top_keywords  = [\n",
    "    'content',\n",
    "    'update',\n",
    "    'game',\n",
    "    'hour',\n",
    "    'new',\n",
    "    'one',\n",
    "    'time',\n",
    "    'developer',\n",
    "    'play',\n",
    "    'still'\n",
    "]\n",
    "\n",
    "topic_top_reviews = [\n",
    "\"LEGIT THE BEST GAME EVER BETTER THAN MINECRAFT, SO MANY THINGS TO DO!!!!!!! BEST GAME EVER!!!BEST GAME EVER!!!BEST GAME EVER!!!BEST GAME EVER!!!BEST GAME EVER!!!BEST GAME EVER!!!BEST GAME EVER!!!BEST GAME EVER!!!BEST GAME EVER!!!BEST GAME EVER!!!BEST GAME EVER!!!BEST GAME EVER!!!BEST GAME EVER!!!BEST GAME EVER!!!BEST GAME EVER!!!BEST GAME EVER!!!BEST GAME EVER!!!BEST GAME EVER!!!BEST GAME EVER!!!BEST GAME EVER!!!BEST GAME EVER!!!BEST GAME EVER!!!BEST GAME EVER!!!BEST GAME EVER!!!BEST GAME EVER!!!BEST GAME EVER!!!BEST GAME EVER!!!BEST GAME EVER!!!BEST GAME EVER!!!BEST GAME EVER!!!BEST GAME EVER!!!BEST GAME EVER!!!BEST GAME EVER!!!BEST GAME EVER!!!BEST GAME EVER!!!BEST GAME EVER!!!BEST GAME EVER!!!BEST GAME EVER!!!BEST GAME EVER!!!BEST GAME EVER!!!BEST GAME EVER!!!BEST GAME EVER!!!BEST GAME EVER!!!BEST GAME EVER!!!\",\n",
    "\"Just realized I've had this game for years and never reviewed it. Which is just horrible of me. Of all the games in my steam library this deserves a review. I've enjoyed this game a lot. I've also enjoyed reading the games development storie. The dev stopped development on this game years ago. Was 'encouraged' by his girlfriend to update it. That encouragement must have been awesome. He released not only one more major update for it, but nominated a team of developers to continue work on it for long after that. They are still updating it. Just this month (November of 2016) they released another update that in many games would have been a entire paid DLC but in this game is just par for the course of another free update. After this game was released it has seen many changes and updates. Adding content. Not nerfiing content, but adding more content. Even takign the time to fix bugs a long the way. They game is great. The amount of content I have gotten for free since I have bought this game is amazing though. Most AAA developers might have released a patch for it after release. Maybe a few pieces of paid DLC. The developers on this have released multiple patches a year for years after it was released. Most those patches equivalent to a paid DLC from a AAA title. Not sayign this is the only way to dev a game. Just saying it is a damn nice one to see. Thanks.\",\n",
    "\"Simply one of the best indie exploration-sandbox game of all time? I'm writing this review after the HUGE update that brought so much to the game than, after hundreds of hours already spent on this game, I still felt I was up for another nth playthrough, this time in goddam painful 'Expert mode' (but I'm enjoying it!) Seriously, which developer cherish more his baby than Terraria's one? The game is out since 2011, and yet 4 years after, you just happen to get a ton of new content for free for the thord time, for a game that has already been bought by so many people here. There is no profit involved here, just one man's dedication for his game and his community. If all developers could be as much Terraria is simply one of the best gaming experience I ever had. - It's retro stylish, without being ugly nor botched. - Musics are great and stick to the head as you could expect on old videogames. - There are a lot of things to do to really beat the game. - Exploring is both entertaining and rewarding. - Classic combat style and yet so much diversified thanks to a ton of different weapons. - I never felt like I was grinding for something. - You can build so much things, with so much - It's just totally amazing to watch all the crazy/beautiful things the community already made with this game. - Multiplayer is such a wonderful experience here, and it's even better since they made it easier to organize. What else could we ask for? I would buy this again.\",\n",
    "\"If these side scroller retro crafting type games appeal to you at all, this is one of the best. Absolutely recommended. Tons of content for the price. Probably the best game I've ever bought for this price! And they just keep adding more content!! Edit/update: Every time I scroll past this game in my Steam library, it makes me smile. I can't wait for a sequel/expansion/major update. What a game!\",\n",
    "\"Terraria is a truly amazing game experience, over the years countless updates have been added to the game enhancing it above and beyond what was already a great game. Terraria is a great game if you enjoy action adventure, with the potential to also build your hearts desire (in a 2D space). If you enjoy these kinds of games and have not played Terraria I highly recommend it. Great value for price and still to this day the developer over at Redigit have continued to put out countless updates adding new content for free.\",\n",
    "# \"A super fun and addictive Sandbox Crafting 2D Side Scrolling Retro RPG. The amount of content and work put in to this little indie game is astounding. Literally as many hours or more of gameplay as The Witcher 3 right up until endgame, not to mention the insane replayability all thanks to the major free content updates the devs provide us every few months. One of the best price/content ratio games on steam right now, i got it for around $4-5 CND when it went on sale one time and it's one of the best choices i made on steam. Trust me, this game is well worth your hard earned money if you are a fan of the genre. Pick it up, you won't be disappointed.\",\n",
    "# \"Terraria is currently the game I've invested the longest amount of time into. When I first booted up the game in one of its early versions, I was one of the players that easily classified Terraria as 'Minecraft, minus one Of course, back then I would not have imagined the plethora of free updates and content Terraria would become throughout its development cycle. Re-Logic, Terraria's developers, have given the gaming community one of the most content-rich, sandbox-exploration games. Even after they began other projects, Re-Logic continues to surprise Terraria communities with new content years after Terraria's release. At the time of writing this review, the game version of Terraria has reached If there was ever an announcement for yet another massive update in the form of I wouldn't be surprised, but excited to start from scratch to enjoy the new additions.\",\n",
    "# \"Fantastic game, every time I play it the developer has added new stuff (all for free, not microtransactions). I'm completely amazed by the amount of support the developer has given this game. One of the best games I've ever played, it's a 2D sidescrolling open world adventure game. It has hours on hours of content for a fantastically low price\",\n",
    "# \"I've played through this game multiple times with multiple groups of varying size. It's fun even when playing alone, but with a group of people this is pretty much the best game involving crafting that you can pick up. It has tons of content, the combat system is much better than most games of this type, it runs on pretty much anything, it's regularly on sale, the soundtrack is great, and it still gets gigantic free content updates years after release. I own it on Steamand DRM-free on GoG and the Humble Store and I've bought multiple copies for friends. over the years. If you've spent more than 10$ on computer games in your life and don't have this one in your library, you've made a mistake. The only reason not to get this game if you have the chance is if you really despise the genre or have nobody to play it with. The developers deserve praise perhaps more than any other developer for their continued free support and the many community suggestions they've implemented. TL;DR: This game is absolutely amazing, and well worth the asking price. If you don't pick it up full-price, get it on one of the many sales. A blast to play with a group of people.\",\n",
    "# \"Much more than a 2D Minecraft, Terraria blends one of the deepest crafting systems of all time, a charming graphical style, Metroidvania elements and epic boss fights together into a game that's more than the sum of its parts. And best of all, the game's only continued to improve, greatly deepening in new features, graphics, weapons, bosses, and even adding entirely new ways to play the game, years after the original release. Almost anyone else would sell the content they give out for free as expansion packs. Not this team. Terraria continues to grow, with the update approaching. While much smaller in scope than the expansion pack-sized it shows the continued dedication that exists to improving an already incredible game. Must buy.\"\n",
    "]"
   ]
  },
  {
   "cell_type": "code",
   "execution_count": 54,
   "metadata": {},
   "outputs": [
    {
     "data": {
      "text/plain": [
       "'Exciting game with endless content'"
      ]
     },
     "execution_count": 54,
     "metadata": {},
     "output_type": "execute_result"
    }
   ],
   "source": [
    "chain.invoke({\n",
    "    \"topic_keywords\": topic_top_keywords,\n",
    "    \"topic_reviews\": topic_top_reviews\n",
    "})"
   ]
  },
  {
   "cell_type": "code",
   "execution_count": 59,
   "metadata": {},
   "outputs": [],
   "source": [
    "human_template2 = \\\n",
    "\"Create a name for a topic given the topic's keywords. The name of the game is 'Terraria'. The top keywords of the topic is: \\'\\'\\'{topic_keywords}\\'\\'\\'. Output a description less than 5 words for the topic. Do not output other text.\"\n",
    "\n",
    "chat_prompt2 = ChatPromptTemplate.from_messages([\n",
    "    (\"system\", system_message),\n",
    "    (\"human\", human_template2)\n",
    "])\n",
    "\n",
    "chain2 = chat_prompt2 | llm"
   ]
  },
  {
   "cell_type": "code",
   "execution_count": 60,
   "metadata": {},
   "outputs": [
    {
     "data": {
      "text/plain": [
       "'\\nNew content in Terraria!'"
      ]
     },
     "execution_count": 60,
     "metadata": {},
     "output_type": "execute_result"
    }
   ],
   "source": [
    "chain2.invoke({\n",
    "    \"topic_keywords\": topic_top_keywords,\n",
    "    # \"topic_reviews\": topic_top_reviews\n",
    "})"
   ]
  },
  {
   "cell_type": "markdown",
   "metadata": {},
   "source": [
    "---"
   ]
  },
  {
   "cell_type": "markdown",
   "metadata": {},
   "source": [
    "RAG with Ollama\n",
    "\n",
    "Ref: https://python.langchain.com/docs/integrations/vectorstores/chroma"
   ]
  },
  {
   "cell_type": "code",
   "execution_count": 6,
   "metadata": {},
   "outputs": [
    {
     "name": "stdout",
     "output_type": "stream",
     "text": [
      "It took me a second to come around to Phantom Liberty's set-up: rescue the president of the New United States after Space Force One (lol) gets shot down over Dogtown, a newly added district of Night City that looks like the Thunderdome by way of Blade Runner: 2049's haunting, irradiated Las Vegas.\n",
      "\n",
      "CD Projekt is great at teeing up a story that seems like it'd be derivative or Spike TV-edgy, then absolutely curving you with unexpected depth and nuance, and that's no different here. President Myers comes off as a down to earth, \"one of the guys\" former soldier, like Harrison Ford from Air Force One, but there's a serpentlike ambition to her that comes out as the story goes on.\n"
     ]
    }
   ],
   "source": [
    "# import\n",
    "from langchain.vectorstores import Chroma\n",
    "from langchain.text_splitter import CharacterTextSplitter\n",
    "from langchain_community.document_loaders import TextLoader, DirectoryLoader                                                                                                                                                                                                                                                                                                                                                                                                                                      \n",
    "from langchain_community.embeddings.sentence_transformer import (\n",
    "    SentenceTransformerEmbeddings,\n",
    ")\n",
    "from langchain_community.vectorstores import Chroma\n",
    "\n",
    "# load the document and split it into chunks\n",
    "doc_path = Path(\"cyberpunk_2077_phantom_liberty/cyberpunk_2077_phantom_liberty_01.txt\")\n",
    "\n",
    "loader = TextLoader(str(doc_path))\n",
    "documents = loader.load()\n",
    "\n",
    "# split it into chunks\n",
    "text_splitter = CharacterTextSplitter(chunk_size=1000, chunk_overlap=0)\n",
    "docs = text_splitter.split_documents(documents)\n",
    "\n",
    "# create the open-source embedding function\n",
    "embedding_function = SentenceTransformerEmbeddings(model_name=\"all-MiniLM-L6-v2\")\n",
    "\n",
    "# load it into Chroma\n",
    "db = Chroma.from_documents(docs, embedding_function)\n",
    "\n",
    "query = \"Generate a summary of the document.\"\n",
    "docs = db.similarity_search(query)\n",
    "\n",
    "print(docs[0].page_content)"
   ]
  },
  {
   "cell_type": "code",
   "execution_count": 7,
   "metadata": {},
   "outputs": [],
   "source": [
    "# make a chain\n",
    "\n",
    "from langchain.chains import RetrievalQA\n",
    "\n",
    "chain = RetrievalQA.from_chain_type(\n",
    "    llm=llm,\n",
    "    chain_type='stuff',\n",
    "    retriever=db.as_retriever(),\n",
    "    return_source_documents=True\n",
    ")"
   ]
  },
  {
   "cell_type": "code",
   "execution_count": 8,
   "metadata": {},
   "outputs": [],
   "source": [
    "## Cite sources\n",
    "def process_llm_response(llm_response):\n",
    "    print(llm_response['result'])\n",
    "    print('\\n\\nSources:')\n",
    "    for source in llm_response[\"source_documents\"]:\n",
    "        print(source.metadata['source'])"
   ]
  },
  {
   "cell_type": "code",
   "execution_count": 9,
   "metadata": {},
   "outputs": [
    {
     "name": "stderr",
     "output_type": "stream",
     "text": [
      "/Users/michaelcheng/miniforge3/envs/fyp-test-tm/lib/python3.9/site-packages/langchain_core/_api/deprecation.py:117: LangChainDeprecationWarning: The function `__call__` was deprecated in LangChain 0.1.0 and will be removed in 0.2.0. Use invoke instead.\n",
      "  warn_deprecated(\n"
     ]
    },
    {
     "name": "stdout",
     "output_type": "stream",
     "text": [
      "In this document, the author provides their thoughts and impressions on the Phantom Liberty expansion for Cyberpunk 2077. They mention that it took them a second to get into the story, but once they did, they were impressed by the depth and nuance of the narrative. The author highlights the character of President Myers, who comes across as a down-to-earth former soldier with serpentlike ambition. They also praise CD Projekt for their ability to create a compelling cinematic storytelling experience that rivals the likes of Sony's first-party lineup. Overall, the author is pleased with Phantom Liberty and sees it as a fitting sendoff for the world of Cyberpunk 2077.\n",
      "\n",
      "\n",
      "Sources:\n",
      "cyberpunk_2077_phantom_liberty/cyberpunk_2077_phantom_liberty_01.txt\n",
      "cyberpunk_2077_phantom_liberty/cyberpunk_2077_phantom_liberty_01.txt\n",
      "cyberpunk_2077_phantom_liberty/cyberpunk_2077_phantom_liberty_01.txt\n",
      "cyberpunk_2077_phantom_liberty/cyberpunk_2077_phantom_liberty_01.txt\n"
     ]
    }
   ],
   "source": [
    "# full example\n",
    "query = \"Generate a summary of the document.\"\n",
    "llm_response = chain(query)\n",
    "process_llm_response(llm_response)"
   ]
  },
  {
   "cell_type": "code",
   "execution_count": 12,
   "metadata": {},
   "outputs": [
    {
     "data": {
      "text/plain": [
       "'In this review, the author expresses their enthusiasm for Phantom Liberty, the latest expansion pack for Cyberpunk 2077. They praise the expansion\\'s cinematic storytelling, boundless RPG design, and immersive gameplay experiences. The author particularly enjoys the smaller side quests and gigs, which they find to be enjoyable and well-crafted. However, they also express some disappointment with the lack of integration between Dogtown and the rest of Night City, as well as the limited interplay between characters from the base game. Despite these issues, the author concludes that Phantom Liberty is a \"splendid sendoff\" for the Cyberpunk 2077 world, with quality writing and world-building that rivals Sony\\'s first-party lineup.'"
      ]
     },
     "execution_count": 12,
     "metadata": {},
     "output_type": "execute_result"
    }
   ],
   "source": [
    "# comparison: without retriever, only llm\n",
    "from langchain_core.prompts import ChatPromptTemplate\n",
    "\n",
    "human_template = \\\n",
    "'''Generate a summary of the document. \\'\\'\\'{document}\\'\\'\\'\n",
    "'''\n",
    "\n",
    "chat_prompt = ChatPromptTemplate.from_messages([\n",
    "    (\"human\", human_template)\n",
    "])\n",
    "chain = chat_prompt | llm\n",
    "\n",
    "# load the document and get the content as string\n",
    "doc_path = Path(\"cyberpunk_2077_phantom_liberty/cyberpunk_2077_phantom_liberty_01.txt\")\n",
    "with open(doc_path, 'r') as f:\n",
    "    document = f.read()\n",
    "\n",
    "chain.invoke({\n",
    "    \"document\": document\n",
    "})"
   ]
  },
  {
   "cell_type": "markdown",
   "metadata": {},
   "source": [
    "Conclusion: the result produced by RAG provides more elaboration, by citing the character of the game, and pointing out the fact that it took a while to get into the story. Both praised the qualit of the game."
   ]
  },
  {
   "cell_type": "markdown",
   "metadata": {},
   "source": [
    "---"
   ]
  },
  {
   "cell_type": "markdown",
   "metadata": {},
   "source": [
    "Build a persistent dir as a database\n",
    "\n",
    "https://www.gettingstarted.ai/tutorial-chroma-db-best-vector-database-for-langchain-store-embeddings/\n",
    "\n",
    "video tut: https://youtu.be/3yPBVii7Ct0"
   ]
  },
  {
   "cell_type": "code",
   "execution_count": 13,
   "metadata": {},
   "outputs": [],
   "source": [
    "file_dir_path = Path('cyberpunk_2077_phantom_liberty')\n",
    "\n",
    "embedding_function = SentenceTransformerEmbeddings(model_name=\"all-MiniLM-L6-v2\")\n",
    "\n",
    "loader = DirectoryLoader(str(file_dir_path), glob=\"./*.txt\", loader_cls=TextLoader)\n",
    "docs = loader.load()\n",
    "\n",
    "# split it into chunks\n",
    "text_splitter = CharacterTextSplitter(chunk_size=1000, chunk_overlap=200)\n",
    "docs = text_splitter.split_documents(documents)\n",
    "\n",
    "# chroma_db = Chroma.from_documents(\n",
    "#     documents=docs, \n",
    "#     embedding=embedding_function, \n",
    "#     persist_directory=\"data\", \n",
    "#     collection_name=\"lc_chroma_demo\"\n",
    "# )"
   ]
  },
  {
   "cell_type": "code",
   "execution_count": 14,
   "metadata": {},
   "outputs": [],
   "source": [
    "persist_directory = 'cyberpunk_2077_phantom_liberty_db'\n",
    "\n",
    "# create the open-source embedding function\n",
    "embedding_function = SentenceTransformerEmbeddings(model_name=\"all-MiniLM-L6-v2\")\n",
    "\n",
    "# create the vector database\n",
    "vector_db = Chroma.from_documents(\n",
    "    documents=docs,\n",
    "    embedding=embedding_function,\n",
    "    persist_directory=persist_directory\n",
    ")\n",
    "\n",
    "vector_db.persist()\n",
    "del vector_db"
   ]
  },
  {
   "cell_type": "code",
   "execution_count": 16,
   "metadata": {},
   "outputs": [],
   "source": [
    "# load the vector database\n",
    "vector_db = Chroma(\n",
    "    persist_directory=persist_directory,\n",
    "    embedding_function=embedding_function)"
   ]
  },
  {
   "cell_type": "markdown",
   "metadata": {},
   "source": [
    "make a retriever\n",
    "\n",
    "then make a chain"
   ]
  },
  {
   "cell_type": "code",
   "execution_count": 46,
   "metadata": {},
   "outputs": [
    {
     "data": {
      "text/plain": [
       "4"
      ]
     },
     "execution_count": 46,
     "metadata": {},
     "output_type": "execute_result"
    }
   ],
   "source": [
    "prompt = 'What are the drawbacks of the game?'\n",
    "\n",
    "# retriever\n",
    "retriever = vector_db.as_retriever()\n",
    "\n",
    "docs = retriever.get_relevant_documents(prompt)\n",
    "\n",
    "len(docs)"
   ]
  },
  {
   "cell_type": "code",
   "execution_count": 47,
   "metadata": {},
   "outputs": [
    {
     "data": {
      "text/plain": [
       "{'query': 'What are the drawbacks of the game?',\n",
       " 'result': \"Based on the provided context, the main drawbacks of Cyberpunk 2077 are:\\n\\n1. Lack of tactility and invitation in the game world: The game's world, Night City, is not as immersive or interactive as some other games in the same genre, such as immersive sims or Elder Scrolls games. Players are not able to explore the world freely or engage in meaningful interactions with non-playable characters (NPCs).\\n2. Limited exploration opportunities: With the 2.0 update, Cyberpunk 2077's loot and progression systems have been improved, but the game still lacks a sense of discovery and exploration. Players are not encouraged to explore the world beyond explicit mission objectives.\\n3. Limited interactivity with the game world: The game's world is not as interactive as some other games in the same genre, with players unable to engage in meaningful interactions with NPCs or explore the world freely.\",\n",
       " 'source_documents': [Document(page_content='Doggone it\\nIt makes sense that Dogtown\\'s physically siloed off from the rest of Night City, but I found myself wishing it was either better-integrated into the main game, or even more of a hostile, alien, alternate zone. The \"save the President\" plot actually resolves itself pretty quickly in favor of a deeper conspiracy, and you\\'re subsequently free to come and go between Dogtown and Pacifica as you please, but the DLC really doesn\\'t have you doing much in Night City proper aside from running quick errands like delivering procedurally spawned cars for its new, literal grand theft auto minigame.\\n\\nNight City just isn\\'t tactile or inviting the way a good immersive sim or even the Elder Scrolls games manage to be.', metadata={'source': 'cyberpunk_2077_phantom_liberty/cyberpunk_2077_phantom_liberty_01.txt'}),\n",
       "  Document(page_content='Phantom Liberty is an extra-refined bite of Cyberpunk 2077—an expansion pack\\'s expansion pack. It doesn\\'t reinvent the game as a whole, but it\\'s a fantastic final outing for V and Night City, as well as one of the best individual stories CD Projekt Red has told to date. Meanwhile, Cyberpunk 2077\\'s 2.0 update, free to all players, has reforged the original looter shooter gear deluge and \"+5% poison resistance\"-style perks system, giving us a more solid RPG whose under-the-hood systems better compliment its shooting, slashing, and stealthing.\\n\\nAfter a legendarily fraught launch and three years of rebuilding, Cyberpunk 2077 is finally the RPG its world and characters deserved, and Phantom Liberty is a fine last hurrah for a game that\\'s taken CD Projekt so long to hone.', metadata={'source': 'cyberpunk_2077_phantom_liberty/cyberpunk_2077_phantom_liberty_01.txt'}),\n",
       "  Document(page_content='Phantom Liberty\\'s main quests are a series of real dingers\\u2060—I was wondering how it would stack up post-Baldur\\'s Gate 3, but CD Projekt makes a case here for more cinematic, bounded RPG design. Set pieces like that roulette table or the tense lead-up to the point of no return just popped for me. CD Projekt really is in the same league as Naughty Dog or Sony Santa Monica when it comes to delivering draw-dropping moments, but sets itself apart with the RPG choice, consequence, and interactivity I crave.\\n\\nGig economy\\nI always enjoyed Cyberpunk\\'s smaller side quests or \"gigs,\" too. Many are simple but enjoyable \"go here and kill everyone as fits your playstyle\" deals, but some of them felt more like full-on side stories with voice acting, a twist, and maybe even a gameplay curveball.', metadata={'source': 'cyberpunk_2077_phantom_liberty/cyberpunk_2077_phantom_liberty_01.txt'}),\n",
       "  Document(page_content=\"Now that 2.0 has fixed Cyberpunk's loot and progression woes, its biggest remaining issue to my eye is that there's no real call to explore or poke around its world outside explicit mission objectives. Night City just isn't tactile or inviting the way a good immersive sim or even the Elder Scrolls games manage to be\\u2060—no breaking into people's apartments and reading their diaries, you can only snoop in gig/mission-sanctioned areas. I think Dogtown's smaller, more manageable canvas could have been an opportunity to create something like that within Cyberpunk 2077. The visual feast of Night City has always clashed with how uninteractive its world is.\", metadata={'source': 'cyberpunk_2077_phantom_liberty/cyberpunk_2077_phantom_liberty_01.txt'})]}"
      ]
     },
     "execution_count": 47,
     "metadata": {},
     "output_type": "execute_result"
    }
   ],
   "source": [
    "# make a chain\n",
    "\n",
    "# create the chain to answer questions \n",
    "chain = RetrievalQA.from_chain_type(llm=llm, \n",
    "                                    chain_type=\"stuff\", \n",
    "                                    retriever=retriever, \n",
    "                                    return_source_documents=True)\n",
    "\n",
    "# full example\n",
    "llm_response = chain(prompt)\n",
    "llm_response\n",
    "# process_llm_response(llm_response)"
   ]
  },
  {
   "cell_type": "code",
   "execution_count": 48,
   "metadata": {},
   "outputs": [
    {
     "name": "stdout",
     "output_type": "stream",
     "text": [
      "llm_chain=LLMChain(prompt=PromptTemplate(input_variables=['context', 'question'], template=\"Use the following pieces of context to answer the question at the end. If you don't know the answer, just say that you don't know, don't try to make up an answer.\\n\\n{context}\\n\\nQuestion: {question}\\nHelpful Answer:\"), llm=Ollama()) document_variable_name='context'\n"
     ]
    }
   ],
   "source": [
    "print(chain.combine_documents_chain)"
   ]
  },
  {
   "cell_type": "code",
   "execution_count": 24,
   "metadata": {},
   "outputs": [
    {
     "name": "stdout",
     "output_type": "stream",
     "text": [
      "Use the following pieces of context to answer the question at the end. If you don't know the answer, just say that you don't know, don't try to make up an answer.\n",
      "\n",
      "{context}\n",
      "\n",
      "Question: {question}\n",
      "Helpful Answer:\n"
     ]
    }
   ],
   "source": [
    "# see the chain template\n",
    "print(chain.combine_documents_chain.llm_chain.prompt.template)"
   ]
  },
  {
   "cell_type": "code",
   "execution_count": 22,
   "metadata": {},
   "outputs": [
    {
     "data": {
      "text/plain": [
       "{'query': 'What are the drawbacks of the game?',\n",
       " 'result': 'The drawbacks of Cyberpunk 2077, according to the text, are:\\n\\n1. Lack of tactile and inviting exploration: The game\\'s world, Night City, is not designed to be explored freely or to feel immersive. There is no opportunity to break into people\\'s apartments and read their diaries, for example.\\n2. Limited RPG choice and consequence: While the game has a robust character creation and customization system, there are limitations to the RPG elements of the game. The \"save the President\" plot resolves quickly, and there is not much opportunity for player agency beyond completing specific missions.\\n3. No real call to explore or poke around the world: With the fixation of 2.0 update on loot and progression, the game\\'s biggest remaining issue is that there is no real incentive to explore the world outside of explicit mission objectives.',\n",
       " 'source_documents': [Document(page_content='Doggone it\\nIt makes sense that Dogtown\\'s physically siloed off from the rest of Night City, but I found myself wishing it was either better-integrated into the main game, or even more of a hostile, alien, alternate zone. The \"save the President\" plot actually resolves itself pretty quickly in favor of a deeper conspiracy, and you\\'re subsequently free to come and go between Dogtown and Pacifica as you please, but the DLC really doesn\\'t have you doing much in Night City proper aside from running quick errands like delivering procedurally spawned cars for its new, literal grand theft auto minigame.\\n\\nNight City just isn\\'t tactile or inviting the way a good immersive sim or even the Elder Scrolls games manage to be.', metadata={'source': 'cyberpunk_2077_phantom_liberty/cyberpunk_2077_phantom_liberty_01.txt'}),\n",
       "  Document(page_content='Phantom Liberty is an extra-refined bite of Cyberpunk 2077—an expansion pack\\'s expansion pack. It doesn\\'t reinvent the game as a whole, but it\\'s a fantastic final outing for V and Night City, as well as one of the best individual stories CD Projekt Red has told to date. Meanwhile, Cyberpunk 2077\\'s 2.0 update, free to all players, has reforged the original looter shooter gear deluge and \"+5% poison resistance\"-style perks system, giving us a more solid RPG whose under-the-hood systems better compliment its shooting, slashing, and stealthing.\\n\\nAfter a legendarily fraught launch and three years of rebuilding, Cyberpunk 2077 is finally the RPG its world and characters deserved, and Phantom Liberty is a fine last hurrah for a game that\\'s taken CD Projekt so long to hone.', metadata={'source': 'cyberpunk_2077_phantom_liberty/cyberpunk_2077_phantom_liberty_01.txt'}),\n",
       "  Document(page_content='Phantom Liberty\\'s main quests are a series of real dingers\\u2060—I was wondering how it would stack up post-Baldur\\'s Gate 3, but CD Projekt makes a case here for more cinematic, bounded RPG design. Set pieces like that roulette table or the tense lead-up to the point of no return just popped for me. CD Projekt really is in the same league as Naughty Dog or Sony Santa Monica when it comes to delivering draw-dropping moments, but sets itself apart with the RPG choice, consequence, and interactivity I crave.\\n\\nGig economy\\nI always enjoyed Cyberpunk\\'s smaller side quests or \"gigs,\" too. Many are simple but enjoyable \"go here and kill everyone as fits your playstyle\" deals, but some of them felt more like full-on side stories with voice acting, a twist, and maybe even a gameplay curveball.', metadata={'source': 'cyberpunk_2077_phantom_liberty/cyberpunk_2077_phantom_liberty_01.txt'}),\n",
       "  Document(page_content=\"Now that 2.0 has fixed Cyberpunk's loot and progression woes, its biggest remaining issue to my eye is that there's no real call to explore or poke around its world outside explicit mission objectives. Night City just isn't tactile or inviting the way a good immersive sim or even the Elder Scrolls games manage to be\\u2060—no breaking into people's apartments and reading their diaries, you can only snoop in gig/mission-sanctioned areas. I think Dogtown's smaller, more manageable canvas could have been an opportunity to create something like that within Cyberpunk 2077. The visual feast of Night City has always clashed with how uninteractive its world is.\", metadata={'source': 'cyberpunk_2077_phantom_liberty/cyberpunk_2077_phantom_liberty_01.txt'})]}"
      ]
     },
     "execution_count": 22,
     "metadata": {},
     "output_type": "execute_result"
    }
   ],
   "source": [
    "llm_response"
   ]
  },
  {
   "cell_type": "markdown",
   "metadata": {},
   "source": [
    "---"
   ]
  },
  {
   "cell_type": "markdown",
   "metadata": {},
   "source": [
    "Prompt engineering on Retrieval QA\n",
    "\n",
    "https://github.com/langchain-ai/langchain/discussions/3115"
   ]
  },
  {
   "cell_type": "markdown",
   "metadata": {},
   "source": [
    "The original prompt is from: https://github.com/langchain-ai/langchain/blob/0bc397957b72fcd9896d1cf2bceae1d6a06e7889/libs/langchain/langchain/chains/question_answering/stuff_prompt.py#L20\n",
    "\n",
    "```python\n",
    "prompt_template = \"\"\"Use the following pieces of context to answer the question at the end. If you don't know the answer, just say that you don't know, don't try to make up an answer.\n",
    "\n",
    "{context}\n",
    "\n",
    "Question: {question}\n",
    "Helpful Answer:\"\"\"\n",
    "PROMPT = PromptTemplate(\n",
    "    template=prompt_template, input_variables=[\"context\", \"question\"]\n",
    ")\n",
    "\n",
    "system_template = \"\"\"Use the following pieces of context to answer the user's question. \n",
    "If you don't know the answer, just say that you don't know, don't try to make up an answer.\n",
    "----------------\n",
    "{context}\"\"\"\n",
    "messages = [\n",
    "    SystemMessagePromptTemplate.from_template(system_template),\n",
    "    HumanMessagePromptTemplate.from_template(\"{question}\"),\n",
    "]\n",
    "CHAT_PROMPT = ChatPromptTemplate.from_messages(messages)\n",
    "\n",
    "\n",
    "PROMPT_SELECTOR = ConditionalPromptSelector(\n",
    "    default_prompt=PROMPT, conditionals=[(is_chat_model, CHAT_PROMPT)]\n",
    ")\n",
    "```\n",
    "\n",
    "The code is also quoted in this Q&A: https://github.com/langchain-ai/langchain/discussions/12256\n",
    "\n",
    "The above code is encapsulated with global constant PROMPT_SELECTOR  \n",
    "It will be called when calling the _call() function (a default func in python for obj())  \n",
    "\n",
    "The class/call-stack is like:  \n",
    "BaseRetrievalQA(Chain)\n",
    "├──load_qa_chain()\n",
    "|  ├── _load_stuff_chain()\n",
    "\n",
    "In the first line of the func [Link](https://github.com/langchain-ai/langchain/blob/0bc397957b72fcd9896d1cf2bceae1d6a06e7889/libs/langchain/langchain/chains/question_answering/__init__.py#L63)\n",
    "```python\n",
    "\n",
    "def _load_stuff_chain(\n",
    "    llm: BaseLanguageModel,\n",
    "    prompt: Optional[BasePromptTemplate] = None,\n",
    "    document_variable_name: str = \"context\",\n",
    "    verbose: Optional[bool] = None,\n",
    "    callback_manager: Optional[BaseCallbackManager] = None,\n",
    "    callbacks: Callbacks = None,\n",
    "    **kwargs: Any,\n",
    ") -> StuffDocumentsChain:\n",
    "    _prompt = prompt or stuff_prompt.PROMPT_SELECTOR.get_prompt(llm)\n",
    "    llm_chain = LLMChain(\n",
    "        llm=llm,\n",
    "        prompt=_prompt,\n",
    "        verbose=verbose,\n",
    "        callback_manager=callback_manager,\n",
    "        callbacks=callbacks,\n",
    "    )\n",
    "    # TODO: document prompt\n",
    "    return StuffDocumentsChain(\n",
    "        llm_chain=llm_chain,\n",
    "        document_variable_name=document_variable_name,\n",
    "        verbose=verbose,\n",
    "        callback_manager=callback_manager,\n",
    "        callbacks=callbacks,\n",
    "        **kwargs,\n",
    "    )\n",
    "```\n",
    "\n",
    "The first line is where the prompt template is loaded.\n",
    "\n",
    "Then it returns a chain, which we can call it directly"
   ]
  },
  {
   "cell_type": "markdown",
   "metadata": {},
   "source": [
    "To do prompt engineering, we overwrite the PromptTempate() to our own one"
   ]
  },
  {
   "cell_type": "code",
   "execution_count": 49,
   "metadata": {},
   "outputs": [],
   "source": [
    "from langchain.chains import RetrievalQAWithSourcesChain\n",
    "from langchain_core.prompts import PromptTemplate\n",
    "\n",
    "# system_template = \\\n",
    "# '''You are a reviewer of the game. Use the following pieces of context to answer any question about the game.\n",
    "# If you don't know the answer, just say 'NA'. Do NOT try to make up an answer.\n",
    "# ---\n",
    "# {context}'''\n",
    "\n",
    "# prompt, let say write a summary of the game with some predefined aspects\n",
    "# Gameplay, Graphics, Sound, Performance, Bug, Suggestion, Price, Overall\n",
    "\n",
    "# TODO: fine-tune the prompt to use the theory I stated below\n",
    "prompt_template = \\\n",
    "'''You are reading reviews of a game to understand the characteristics of the game. Use the following pieces of context to answer user's question. \n",
    "\n",
    "{summaries}\n",
    "\n",
    "Question: {question}\n",
    "\n",
    "If you don't know the answer, just output a json with all values in the json as 'NA'. Do NOT try to make up an answer.\n",
    "Only output the JSON. Do NOT output other text.'''\n",
    "\n",
    "my_question = \\\n",
    "'''Extract the following aspects of the game from the reviews. Output a json with each of the aspects as key, and the extracted information as the value. The format of the json is {\"ASPECT\":\"INFORMATION\"}. The aspects are: [Gameplay, Graphics, Sound, Performance, Bug, Suggestion, Price, Overall]\n",
    "'''\n",
    "\n",
    "retriever = vector_db.as_retriever()\n",
    "\n",
    "chain =  RetrievalQAWithSourcesChain.from_chain_type(\n",
    "    llm=llm,\n",
    "    chain_type=\"stuff\",\n",
    "    retriever=retriever,\n",
    "    chain_type_kwargs={\n",
    "        \"prompt\": PromptTemplate(\n",
    "            template=prompt_template,\n",
    "            input_variables=[\"summaries\", \"question\"],\n",
    "        )\n",
    "    },\n",
    "    return_source_documents=True,\n",
    ")"
   ]
  },
  {
   "cell_type": "markdown",
   "metadata": {},
   "source": [
    "The 'return_source_documents' will be used in _call() func [Github](https://github.com/langchain-ai/langchain/blob/0bc397957b72fcd9896d1cf2bceae1d6a06e7889/libs/langchain/langchain/chains/retrieval_qa/base.py#L119)\n",
    "\n",
    "To get the relavent docs from the Chroma vectorDB, it call the _get_docs() within the func  \n",
    "which the RetrievalQA implemented it to call the retriever.get_relevant_documents() [Github](https://github.com/langchain-ai/langchain/blob/0bc397957b72fcd9896d1cf2bceae1d6a06e7889/libs/langchain/langchain/chains/retrieval_qa/base.py#L214)\n",
    "\n",
    "Hence, to test what document will be returned based on our prompt, we can pass the variable _question_ to the retriever to test what it is returned withint the 'summaries' field in the main prompt.\n",
    "\n",
    "In Langchain, using a vectorized database can reduce the length of the prompt to within the context window size of the LLM, by searching the corresponding key-sentences about the task. Then integrate them to the prompt, and return a result.  \n",
    "As a bonus, it return the lines from the document to indicate which part of the document is included within the prompt."
   ]
  },
  {
   "cell_type": "code",
   "execution_count": 50,
   "metadata": {},
   "outputs": [
    {
     "data": {
      "text/plain": [
       "{'question': 'Extract the following aspects of the game from the reviews. Output a json with each of the aspects as key, and the extracted information as the value. The format of the json is {\"ASPECT\":\"INFORMATION\"}. The aspects are: [Gameplay, Graphics, Sound, Performance, Bug, Suggestion, Price, Overall]\\n',\n",
       " 'answer': '{\\n\"Gameplay\": \"CD Projekt is great at teeing up a story that seems like it\\'d be derivative or Spike TV-edgy, then absolutely curving you with unexpected depth and nuance, and that\\'s no different here.\",\\n\"Graphics\": \"Many are simple but enjoyable \\'go here and kill everyone as fits your playstyle\\' deals, but some of them felt more like full-on side stories with voice acting, a twist, and maybe even a gameplay curveball.\",\\n\"Sound\": \"CD Projekt really is in the same league as Naughty Dog or Sony Santa Monica when it comes to delivering draw-dropping moments, but sets itself apart with the RPG choice, consequence, and interactivity I crave.\",\\n\"Performance\": \"I\\'m extremely pleased with Phantom Liberty\\u2060—CD Projekt can hang with the big dogs when it comes to cinematic storytelling, with a quality of writing and world building that I prefer to the likes of Sony\\'s vaunted first party lineup.\",\\n\"Bug\": \"NA\",\\n\"Suggestion\": \"CD Projekt makes a case here for more cinematic, bounded RPG design.\",\\n\"Price\": \"NA\",\\n\"Overall\": \"CD Projekt can hang with the big dogs when it comes to cinematic storytelling, with a quality of writing and world building that I prefer to the likes of Sony\\'s vaunted first party lineup.\"\\n}',\n",
       " 'sources': '',\n",
       " 'source_documents': [Document(page_content='CD Projekt makes a case here for more cinematic, bounded RPG design.\\n\\nThe main players in Phantom Liberty all think they\\'re doing the right thing and that they don\\'t have any other options, all while expecting you to back them up, and that eventually shakes out into one of the toughest choices I\\'ve had to make in an RPG: you have to betray someone, and both ending paths feature their own triumphs and gut punches.\\n\\nThe path I chose was way more gut punches than triumphs, so I think I picked the \"bad\" ending. From chatting with my coworkers, though, the other option sounds at least bittersweet, and my RPG perfectionist drive to get the best ending possible is conflicting with just how good that bad ending was. The Darkest Timeline had me feeling like my stomach had a lead weight in it from the point of no return to credits rolling, and by the end, the bastards got away with everything. Forget it V, it\\'s Dogtown.', metadata={'source': 'cyberpunk_2077_phantom_liberty/cyberpunk_2077_phantom_liberty_01.txt'}),\n",
       "  Document(page_content='It took me a second to come around to Phantom Liberty\\'s set-up: rescue the president of the New United States after Space Force One (lol) gets shot down over Dogtown, a newly added district of Night City that looks like the Thunderdome by way of Blade Runner: 2049\\'s haunting, irradiated Las Vegas.\\n\\nCD Projekt is great at teeing up a story that seems like it\\'d be derivative or Spike TV-edgy, then absolutely curving you with unexpected depth and nuance, and that\\'s no different here. President Myers comes off as a down to earth, \"one of the guys\" former soldier, like Harrison Ford from Air Force One, but there\\'s a serpentlike ambition to her that comes out as the story goes on.', metadata={'source': 'cyberpunk_2077_phantom_liberty/cyberpunk_2077_phantom_liberty_01.txt'}),\n",
       "  Document(page_content='Phantom Liberty\\'s main quests are a series of real dingers\\u2060—I was wondering how it would stack up post-Baldur\\'s Gate 3, but CD Projekt makes a case here for more cinematic, bounded RPG design. Set pieces like that roulette table or the tense lead-up to the point of no return just popped for me. CD Projekt really is in the same league as Naughty Dog or Sony Santa Monica when it comes to delivering draw-dropping moments, but sets itself apart with the RPG choice, consequence, and interactivity I crave.\\n\\nGig economy\\nI always enjoyed Cyberpunk\\'s smaller side quests or \"gigs,\" too. Many are simple but enjoyable \"go here and kill everyone as fits your playstyle\" deals, but some of them felt more like full-on side stories with voice acting, a twist, and maybe even a gameplay curveball.', metadata={'source': 'cyberpunk_2077_phantom_liberty/cyberpunk_2077_phantom_liberty_01.txt'}),\n",
       "  Document(page_content=\"Still, I'm extremely pleased with Phantom Liberty\\u2060—CD Projekt can hang with the big dogs when it comes to cinematic storytelling, with a quality of writing and world building that I prefer to the likes of Sony's vaunted first party lineup. I've been eager to see what CD Projekt would do with a Cyberpunk 2077 expansion ever since first beating the game at the end of 2020, and Phantom Liberty is a splendid sendoff for the world CD Projekt's been working on for the better part of the last 10 years.\", metadata={'source': 'cyberpunk_2077_phantom_liberty/cyberpunk_2077_phantom_liberty_01.txt'})]}"
      ]
     },
     "execution_count": 50,
     "metadata": {},
     "output_type": "execute_result"
    }
   ],
   "source": [
    "response = chain.invoke({\n",
    "    'question': my_question,\n",
    "    # 'summaries': docs\n",
    "})\n",
    "\n",
    "response"
   ]
  },
  {
   "cell_type": "code",
   "execution_count": 51,
   "metadata": {},
   "outputs": [
    {
     "name": "stdout",
     "output_type": "stream",
     "text": [
      "{\n",
      "\"Gameplay\": \"CD Projekt is great at teeing up a story that seems like it'd be derivative or Spike TV-edgy, then absolutely curving you with unexpected depth and nuance, and that's no different here.\",\n",
      "\"Graphics\": \"Many are simple but enjoyable 'go here and kill everyone as fits your playstyle' deals, but some of them felt more like full-on side stories with voice acting, a twist, and maybe even a gameplay curveball.\",\n",
      "\"Sound\": \"CD Projekt really is in the same league as Naughty Dog or Sony Santa Monica when it comes to delivering draw-dropping moments, but sets itself apart with the RPG choice, consequence, and interactivity I crave.\",\n",
      "\"Performance\": \"I'm extremely pleased with Phantom Liberty⁠—CD Projekt can hang with the big dogs when it comes to cinematic storytelling, with a quality of writing and world building that I prefer to the likes of Sony's vaunted first party lineup.\",\n",
      "\"Bug\": \"NA\",\n",
      "\"Suggestion\": \"CD Projekt makes a case here for more cinematic, bounded RPG design.\",\n",
      "\"Price\": \"NA\",\n",
      "\"Overall\": \"CD Projekt can hang with the big dogs when it comes to cinematic storytelling, with a quality of writing and world building that I prefer to the likes of Sony's vaunted first party lineup.\"\n",
      "}\n"
     ]
    }
   ],
   "source": [
    "print(response['answer'])"
   ]
  },
  {
   "cell_type": "code",
   "execution_count": 56,
   "metadata": {},
   "outputs": [
    {
     "name": "stdout",
     "output_type": "stream",
     "text": [
      "page_content='CD Projekt makes a case here for more cinematic, bounded RPG design.\\n\\nThe main players in Phantom Liberty all think they\\'re doing the right thing and that they don\\'t have any other options, all while expecting you to back them up, and that eventually shakes out into one of the toughest choices I\\'ve had to make in an RPG: you have to betray someone, and both ending paths feature their own triumphs and gut punches.\\n\\nThe path I chose was way more gut punches than triumphs, so I think I picked the \"bad\" ending. From chatting with my coworkers, though, the other option sounds at least bittersweet, and my RPG perfectionist drive to get the best ending possible is conflicting with just how good that bad ending was. The Darkest Timeline had me feeling like my stomach had a lead weight in it from the point of no return to credits rolling, and by the end, the bastards got away with everything. Forget it V, it\\'s Dogtown.' metadata={'source': 'cyberpunk_2077_phantom_liberty/cyberpunk_2077_phantom_liberty_01.txt'}\n",
      "page_content='It took me a second to come around to Phantom Liberty\\'s set-up: rescue the president of the New United States after Space Force One (lol) gets shot down over Dogtown, a newly added district of Night City that looks like the Thunderdome by way of Blade Runner: 2049\\'s haunting, irradiated Las Vegas.\\n\\nCD Projekt is great at teeing up a story that seems like it\\'d be derivative or Spike TV-edgy, then absolutely curving you with unexpected depth and nuance, and that\\'s no different here. President Myers comes off as a down to earth, \"one of the guys\" former soldier, like Harrison Ford from Air Force One, but there\\'s a serpentlike ambition to her that comes out as the story goes on.' metadata={'source': 'cyberpunk_2077_phantom_liberty/cyberpunk_2077_phantom_liberty_01.txt'}\n",
      "page_content='Phantom Liberty\\'s main quests are a series of real dingers\\u2060—I was wondering how it would stack up post-Baldur\\'s Gate 3, but CD Projekt makes a case here for more cinematic, bounded RPG design. Set pieces like that roulette table or the tense lead-up to the point of no return just popped for me. CD Projekt really is in the same league as Naughty Dog or Sony Santa Monica when it comes to delivering draw-dropping moments, but sets itself apart with the RPG choice, consequence, and interactivity I crave.\\n\\nGig economy\\nI always enjoyed Cyberpunk\\'s smaller side quests or \"gigs,\" too. Many are simple but enjoyable \"go here and kill everyone as fits your playstyle\" deals, but some of them felt more like full-on side stories with voice acting, a twist, and maybe even a gameplay curveball.' metadata={'source': 'cyberpunk_2077_phantom_liberty/cyberpunk_2077_phantom_liberty_01.txt'}\n",
      "page_content=\"Still, I'm extremely pleased with Phantom Liberty\\u2060—CD Projekt can hang with the big dogs when it comes to cinematic storytelling, with a quality of writing and world building that I prefer to the likes of Sony's vaunted first party lineup. I've been eager to see what CD Projekt would do with a Cyberpunk 2077 expansion ever since first beating the game at the end of 2020, and Phantom Liberty is a splendid sendoff for the world CD Projekt's been working on for the better part of the last 10 years.\" metadata={'source': 'cyberpunk_2077_phantom_liberty/cyberpunk_2077_phantom_liberty_01.txt'}\n"
     ]
    }
   ],
   "source": [
    "for doc in response['source_documents']:\n",
    "    print(doc)"
   ]
  },
  {
   "cell_type": "markdown",
   "metadata": {},
   "source": [
    "Without RAG with Chroma"
   ]
  },
  {
   "cell_type": "code",
   "execution_count": 57,
   "metadata": {},
   "outputs": [
    {
     "data": {
      "text/plain": [
       "'{\\n\"Gameplay\": \"CD Projekt makes a case here for more cinematic, bounded RPG design.\",\\n\"Graphics\": \"Dogtown just isn\\'t tactile or inviting the way a good immersive sim or even the Elder Scrolls games manage to be.\",\\n\"Sound\": \"The lack of involvement for the game\\'s four romanceable characters felt particularly odd to me.\",\\n\"Performance\": \"With the promise of a denser, smaller sandbox to play around in, I was hoping CD Projekt might flex its muscles making something closer to a Deus Ex hub.\",\\n\"Bug\": \"NA\",\\n\"Suggestion\": \"I think Dogtown\\'s smaller, more manageable canvas could have been an opportunity to create something like that within Cyberpunk 2077.\",\\n\"Price\": \"NA\",\\n\"Overall\": \"CD Projekt can hang with the big dogs when it comes to cinematic storytelling, with a quality of writing and world building that I prefer to the likes of Sony\\'s vaunted first party lineup. I\\'ve been eager to see what CD Projekt would do with a Cyberpunk 2077 expansion ever since first beating the game at the end of 2020, and Phantom Liberty is a splendid sendoff for the world CD Projekt\\'s been working on for the better part of the last 10 years.\"\\n}'"
      ]
     },
     "execution_count": 57,
     "metadata": {},
     "output_type": "execute_result"
    }
   ],
   "source": [
    "from langchain_core.prompts import PromptTemplate\n",
    "\n",
    "prompt_norag = PromptTemplate(\n",
    "    template=prompt_template,\n",
    "    input_variables=[\"summaries\", \"question\"],\n",
    ")\n",
    "\n",
    "chain_norag = prompt_norag | llm\n",
    "\n",
    "# need to get all text from the txt files under folder file_dir_path\n",
    "# use glob to get all the file paths\n",
    "file_dir_path = Path('cyberpunk_2077_phantom_liberty')\n",
    "file_paths = file_dir_path.glob('*.txt')\n",
    "file_paths = list(file_paths)\n",
    "# get the text and store in a list\n",
    "docs = []\n",
    "for file_path in file_paths:\n",
    "    with open(file_path, 'r') as f:\n",
    "        docs.append(f.read())\n",
    "\n",
    "\n",
    "\n",
    "result_norag = chain_norag.invoke({\n",
    "    'question': my_question,\n",
    "    'summaries': '\\n'.join(docs)\n",
    "})\n",
    "\n",
    "result_norag"
   ]
  },
  {
   "cell_type": "code",
   "execution_count": 58,
   "metadata": {},
   "outputs": [
    {
     "name": "stdout",
     "output_type": "stream",
     "text": [
      "{\n",
      "\"Gameplay\": \"CD Projekt makes a case here for more cinematic, bounded RPG design.\",\n",
      "\"Graphics\": \"Dogtown just isn't tactile or inviting the way a good immersive sim or even the Elder Scrolls games manage to be.\",\n",
      "\"Sound\": \"The lack of involvement for the game's four romanceable characters felt particularly odd to me.\",\n",
      "\"Performance\": \"With the promise of a denser, smaller sandbox to play around in, I was hoping CD Projekt might flex its muscles making something closer to a Deus Ex hub.\",\n",
      "\"Bug\": \"NA\",\n",
      "\"Suggestion\": \"I think Dogtown's smaller, more manageable canvas could have been an opportunity to create something like that within Cyberpunk 2077.\",\n",
      "\"Price\": \"NA\",\n",
      "\"Overall\": \"CD Projekt can hang with the big dogs when it comes to cinematic storytelling, with a quality of writing and world building that I prefer to the likes of Sony's vaunted first party lineup. I've been eager to see what CD Projekt would do with a Cyberpunk 2077 expansion ever since first beating the game at the end of 2020, and Phantom Liberty is a splendid sendoff for the world CD Projekt's been working on for the better part of the last 10 years.\"\n",
      "}\n"
     ]
    }
   ],
   "source": [
    "print(result_norag)"
   ]
  },
  {
   "cell_type": "markdown",
   "metadata": {},
   "source": [
    "Future: host the chromaDB in a docker instead of in-memory DB\n",
    "\n",
    "https://rito.hashnode.dev/installing-chroma-db-locally-querying-personal-data\n",
    "\n",
    "https://docs.trychroma.com/api-reference\n",
    "\n",
    "Seems deploying in docker is simple, as long as the docker has infinite amount of space (to store the db file)  \n",
    "Just prepare a linux env, with python (and miniforge installed), and chroma (the package) install. Then the server can be started with command line :D"
   ]
  },
  {
   "cell_type": "markdown",
   "metadata": {},
   "source": []
  }
 ],
 "metadata": {
  "kernelspec": {
   "display_name": "fyp-test-wsl-tm",
   "language": "python",
   "name": "python3"
  },
  "language_info": {
   "codemirror_mode": {
    "name": "ipython",
    "version": 3
   },
   "file_extension": ".py",
   "mimetype": "text/x-python",
   "name": "python",
   "nbconvert_exporter": "python",
   "pygments_lexer": "ipython3",
   "version": "3.9.18"
  }
 },
 "nbformat": 4,
 "nbformat_minor": 2
}
