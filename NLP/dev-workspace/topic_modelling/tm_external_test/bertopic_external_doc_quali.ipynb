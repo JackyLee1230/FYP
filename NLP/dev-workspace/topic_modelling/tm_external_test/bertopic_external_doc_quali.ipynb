{
 "cells": [
  {
   "cell_type": "markdown",
   "metadata": {},
   "source": [
    "BERTopic qualitative review on external doc\n",
    "\n",
    "(i.e. comments scraped from steam)"
   ]
  },
  {
   "cell_type": "code",
   "execution_count": 1,
   "metadata": {},
   "outputs": [],
   "source": [
    "import pandas as pd\n",
    "import numpy as np\n",
    "\n",
    "from pathlib import Path\n",
    "import json\n",
    "from datetime import datetime\n",
    "import pickle\n",
    "import traceback\n",
    "\n",
    "import gensim\n",
    "import nltk\n",
    "import pyLDAvis\n",
    "\n",
    "import os\n",
    "os.environ[\"TOKENIZERS_PARALLELISM\"] = \"false\"          # disable huggingface warning\n",
    "\n",
    "import sys\n",
    "\n",
    "sys.path.append('../')"
   ]
  },
  {
   "cell_type": "code",
   "execution_count": 2,
   "metadata": {},
   "outputs": [
    {
     "name": "stdout",
     "output_type": "stream",
     "text": [
      "cuda\n"
     ]
    }
   ],
   "source": [
    "import platform\n",
    "import torch\n",
    "\n",
    "if platform.system() == 'Linux' or platform.system() == 'Windows':\n",
    "    device = torch.device('cuda' if torch.cuda.is_available() else 'cpu')\n",
    "else:\n",
    "    device = torch.device('mps')        # m-series machine\n",
    "\n",
    "print(device)"
   ]
  },
  {
   "cell_type": "code",
   "execution_count": 3,
   "metadata": {},
   "outputs": [],
   "source": [
    "%load_ext autoreload"
   ]
  },
  {
   "cell_type": "code",
   "execution_count": 71,
   "metadata": {},
   "outputs": [
    {
     "name": "stdout",
     "output_type": "stream",
     "text": [
      "Loaded: /root/FYP/NLP/dev-workspace/dataset/data_scraping/steam_comments_scraping/dota2/steam_reviews_570_unique.pkl\n"
     ]
    }
   ],
   "source": [
    "# the text to be evaluated\n",
    "\n",
    "# game_steamid = 730\n",
    "# game_name = 'counter-strike_2'\n",
    "\n",
    "# game_steamid = 2138330\n",
    "# game_name = 'cyberpunk2077_phantom_liberty'\n",
    "\n",
    "# game_steamid = 1091500\n",
    "# game_name = 'cyberpunk2077'\n",
    "\n",
    "# game_steamid = 582010\n",
    "# game_name = 'monster_hunter_world'\n",
    "\n",
    "# game_steamid = 1118010\n",
    "# game_name = 'monster_hunter_world_iceborne'\n",
    "\n",
    "# game_steamid = 1716740\n",
    "# game_name = 'starfield'\n",
    "\n",
    "game_steamid = 570\n",
    "game_name = \"dota2\"\n",
    "\n",
    "datetime_until = datetime(2024, 1, 1, 0, 0, 0)      # only analyse reviews from this date until now (GMT+8)\n",
    "\n",
    "# load the reviews from folder\n",
    "\n",
    "reviews_reqs = []\n",
    "\n",
    "# get existing folder and retrieve the cursor object (?)\n",
    "\n",
    "# load the latest file\n",
    "game_folder = Path(f'../../dataset/data_scraping/steam_comments_scraping/{game_name}').resolve()\n",
    "if game_folder.exists():\n",
    "    try:\n",
    "        latest_file_path = sorted(game_folder.glob('steam_reviews_*.pkl'))[-1]\n",
    "        with open(latest_file_path, 'rb') as f:\n",
    "            reviews_reqs = pickle.load(f)           # retrieve the list of reviews\n",
    "            print('Loaded:', latest_file_path)\n",
    "    except IndexError as e:\n",
    "        print('Error loading the latest file:', e)\n",
    "        traceback.print_exc()"
   ]
  },
  {
   "cell_type": "code",
   "execution_count": 72,
   "metadata": {},
   "outputs": [
    {
     "data": {
      "text/html": [
       "<div>\n",
       "<style scoped>\n",
       "    .dataframe tbody tr th:only-of-type {\n",
       "        vertical-align: middle;\n",
       "    }\n",
       "\n",
       "    .dataframe tbody tr th {\n",
       "        vertical-align: top;\n",
       "    }\n",
       "\n",
       "    .dataframe thead th {\n",
       "        text-align: right;\n",
       "    }\n",
       "</style>\n",
       "<table border=\"1\" class=\"dataframe\">\n",
       "  <thead>\n",
       "    <tr style=\"text-align: right;\">\n",
       "      <th></th>\n",
       "      <th>recommendationid</th>\n",
       "      <th>review</th>\n",
       "      <th>timestamp_created</th>\n",
       "      <th>voted_up</th>\n",
       "      <th>steam_purchase</th>\n",
       "      <th>received_for_free</th>\n",
       "      <th>review_original</th>\n",
       "    </tr>\n",
       "  </thead>\n",
       "  <tbody>\n",
       "    <tr>\n",
       "      <th>0</th>\n",
       "      <td>160077941</td>\n",
       "      <td>My all time favorite game</td>\n",
       "      <td>2024-03-08 03:28:29</td>\n",
       "      <td>1</td>\n",
       "      <td>False</td>\n",
       "      <td>False</td>\n",
       "      <td>My all time favorite game</td>\n",
       "    </tr>\n",
       "    <tr>\n",
       "      <th>1</th>\n",
       "      <td>160077923</td>\n",
       "      <td>very good\\r\\n</td>\n",
       "      <td>2024-03-08 03:27:55</td>\n",
       "      <td>1</td>\n",
       "      <td>False</td>\n",
       "      <td>False</td>\n",
       "      <td>very good\\r\\n</td>\n",
       "    </tr>\n",
       "    <tr>\n",
       "      <th>2</th>\n",
       "      <td>160077236</td>\n",
       "      <td>swag</td>\n",
       "      <td>2024-03-08 03:10:58</td>\n",
       "      <td>1</td>\n",
       "      <td>False</td>\n",
       "      <td>False</td>\n",
       "      <td>swag</td>\n",
       "    </tr>\n",
       "    <tr>\n",
       "      <th>3</th>\n",
       "      <td>160077159</td>\n",
       "      <td>I played this game for almost 5,000 hours now ...</td>\n",
       "      <td>2024-03-08 03:09:20</td>\n",
       "      <td>1</td>\n",
       "      <td>False</td>\n",
       "      <td>False</td>\n",
       "      <td>I played this game for almost 5,000 hours now ...</td>\n",
       "    </tr>\n",
       "    <tr>\n",
       "      <th>4</th>\n",
       "      <td>160077082</td>\n",
       "      <td>1</td>\n",
       "      <td>2024-03-08 03:07:38</td>\n",
       "      <td>1</td>\n",
       "      <td>False</td>\n",
       "      <td>False</td>\n",
       "      <td>1</td>\n",
       "    </tr>\n",
       "    <tr>\n",
       "      <th>...</th>\n",
       "      <td>...</td>\n",
       "      <td>...</td>\n",
       "      <td>...</td>\n",
       "      <td>...</td>\n",
       "      <td>...</td>\n",
       "      <td>...</td>\n",
       "      <td>...</td>\n",
       "    </tr>\n",
       "    <tr>\n",
       "      <th>60613</th>\n",
       "      <td>129791250</td>\n",
       "      <td>pls dont</td>\n",
       "      <td>2022-12-31 17:07:26</td>\n",
       "      <td>-1</td>\n",
       "      <td>False</td>\n",
       "      <td>False</td>\n",
       "      <td>pls dont</td>\n",
       "    </tr>\n",
       "    <tr>\n",
       "      <th>60614</th>\n",
       "      <td>129791154</td>\n",
       "      <td>steal your soul</td>\n",
       "      <td>2022-12-31 17:06:08</td>\n",
       "      <td>1</td>\n",
       "      <td>False</td>\n",
       "      <td>False</td>\n",
       "      <td>steal your soul</td>\n",
       "    </tr>\n",
       "    <tr>\n",
       "      <th>60615</th>\n",
       "      <td>129790983</td>\n",
       "      <td>DotA is weird game where anything can work and...</td>\n",
       "      <td>2022-12-31 17:03:26</td>\n",
       "      <td>1</td>\n",
       "      <td>False</td>\n",
       "      <td>False</td>\n",
       "      <td>DotA is weird game where anything can work and...</td>\n",
       "    </tr>\n",
       "    <tr>\n",
       "      <th>60617</th>\n",
       "      <td>129788206</td>\n",
       "      <td>Still beta so be patient\\n</td>\n",
       "      <td>2022-12-31 16:22:59</td>\n",
       "      <td>1</td>\n",
       "      <td>False</td>\n",
       "      <td>False</td>\n",
       "      <td>Still beta so be patient\\n</td>\n",
       "    </tr>\n",
       "    <tr>\n",
       "      <th>60618</th>\n",
       "      <td>129786624</td>\n",
       "      <td>ถ้าอยากรู้ว่าการตกนรกเป็นยังไง แนะนำเกมนี้ รับ...</td>\n",
       "      <td>2022-12-31 16:00:09</td>\n",
       "      <td>-1</td>\n",
       "      <td>False</td>\n",
       "      <td>False</td>\n",
       "      <td>ถ้าอยากรู้ว่าการตกนรกเป็นยังไง แนะนำเกมนี้ รับ...</td>\n",
       "    </tr>\n",
       "  </tbody>\n",
       "</table>\n",
       "<p>33063 rows × 7 columns</p>\n",
       "</div>"
      ],
      "text/plain": [
       "      recommendationid                                             review  \\\n",
       "0            160077941                          My all time favorite game   \n",
       "1            160077923                                      very good\\r\\n   \n",
       "2            160077236                                               swag   \n",
       "3            160077159  I played this game for almost 5,000 hours now ...   \n",
       "4            160077082                                                  1   \n",
       "...                ...                                                ...   \n",
       "60613        129791250                                           pls dont   \n",
       "60614        129791154                                    steal your soul   \n",
       "60615        129790983  DotA is weird game where anything can work and...   \n",
       "60617        129788206                         Still beta so be patient\\n   \n",
       "60618        129786624  ถ้าอยากรู้ว่าการตกนรกเป็นยังไง แนะนำเกมนี้ รับ...   \n",
       "\n",
       "        timestamp_created  voted_up  steam_purchase  received_for_free  \\\n",
       "0     2024-03-08 03:28:29         1           False              False   \n",
       "1     2024-03-08 03:27:55         1           False              False   \n",
       "2     2024-03-08 03:10:58         1           False              False   \n",
       "3     2024-03-08 03:09:20         1           False              False   \n",
       "4     2024-03-08 03:07:38         1           False              False   \n",
       "...                   ...       ...             ...                ...   \n",
       "60613 2022-12-31 17:07:26        -1           False              False   \n",
       "60614 2022-12-31 17:06:08         1           False              False   \n",
       "60615 2022-12-31 17:03:26         1           False              False   \n",
       "60617 2022-12-31 16:22:59         1           False              False   \n",
       "60618 2022-12-31 16:00:09        -1           False              False   \n",
       "\n",
       "                                         review_original  \n",
       "0                              My all time favorite game  \n",
       "1                                          very good\\r\\n  \n",
       "2                                                   swag  \n",
       "3      I played this game for almost 5,000 hours now ...  \n",
       "4                                                      1  \n",
       "...                                                  ...  \n",
       "60613                                           pls dont  \n",
       "60614                                    steal your soul  \n",
       "60615  DotA is weird game where anything can work and...  \n",
       "60617                         Still beta so be patient\\n  \n",
       "60618  ถ้าอยากรู้ว่าการตกนรกเป็นยังไง แนะนำเกมนี้ รับ...  \n",
       "\n",
       "[33063 rows x 7 columns]"
      ]
     },
     "execution_count": 72,
     "metadata": {},
     "output_type": "execute_result"
    }
   ],
   "source": [
    "# create a dataframe like in training/evaluation\n",
    "reviews_df = pd.DataFrame(reviews_reqs)\n",
    "\n",
    "reviews_df = reviews_df[['recommendationid', 'review', 'timestamp_created', 'voted_up', 'steam_purchase', 'received_for_free']]\n",
    "# reviews_df = reviews_df[reviews_df['timestamp_created'] >= datetime_until.timestamp()]\n",
    "\n",
    "# filter unique reviews\n",
    "reviews_df = reviews_df.drop_duplicates(subset=['review', 'voted_up'])\n",
    "\n",
    "# convert timestamp to datetime. The datetime converted is in utc+0\n",
    "reviews_df['timestamp_created'] = pd.to_datetime(reviews_df['timestamp_created'], unit='s')\n",
    "\n",
    "# convert the voted_up to 1 and -1\n",
    "reviews_df['voted_up'] = reviews_df['voted_up'].apply(lambda x: 1 if x else -1)\n",
    "\n",
    "reviews_df['review_original'] = reviews_df['review']\n",
    "\n",
    "reviews_df"
   ]
  },
  {
   "cell_type": "code",
   "execution_count": 73,
   "metadata": {},
   "outputs": [],
   "source": [
    "sys.path.append('../../sa')\n",
    "import str_cleaning_functions\n",
    "\n",
    "\n",
    "def cleaning(df, review):\n",
    "    df[review] = df[review].apply(lambda x: str_cleaning_functions.remove_links(x))\n",
    "    df[review] = df[review].apply(lambda x: str_cleaning_functions.remove_links2(x))\n",
    "    df[review] = df[review].apply(lambda x: str_cleaning_functions.clean(x))\n",
    "    df[review] = df[review].apply(lambda x: str_cleaning_functions.deEmojify(x))\n",
    "    df[review] = df[review].apply(lambda x: str_cleaning_functions.unify_whitespaces(x))"
   ]
  },
  {
   "cell_type": "code",
   "execution_count": 74,
   "metadata": {},
   "outputs": [],
   "source": [
    "cleaning(reviews_df, 'review')"
   ]
  },
  {
   "cell_type": "code",
   "execution_count": 75,
   "metadata": {},
   "outputs": [],
   "source": [
    "X = reviews_df['review'].values"
   ]
  },
  {
   "cell_type": "code",
   "execution_count": 76,
   "metadata": {},
   "outputs": [],
   "source": [
    "# tokens spliting helper functions\n",
    "# copied from bertopic_training.ipynb on 20240217\n",
    "\n",
    "def split_tokens_into_smaller_chunks(\n",
    "    data,\n",
    "    chunk_size: int,\n",
    "    stride: int,\n",
    "    minimal_chunk_length: int,\n",
    ") -> dict:\n",
    "    \"\"\"Splits tokens into overlapping chunks with given size and stride.\"\"\"\n",
    "\n",
    "    _new_input_id_chunks = []\n",
    "    _new_token_type_ids = []\n",
    "    _new_mask_chunks = []\n",
    "\n",
    "    # eval_only\n",
    "    _original_iloc = []\n",
    "\n",
    "    for input_id, token_type_id, mask_chunk, iloc in zip(data['input_ids'], data['token_type_ids'], data['attention_mask'], data['X_iloc']):\n",
    "        _input_id_chunk = split_overlapping(input_id, chunk_size, stride, minimal_chunk_length)\n",
    "        _token_type_id = split_overlapping(token_type_id, chunk_size, stride, minimal_chunk_length)\n",
    "        _mask_chunk = split_overlapping(mask_chunk, chunk_size, stride, minimal_chunk_length)\n",
    "\n",
    "        _new_input_id_chunks.extend(_input_id_chunk)\n",
    "        _new_token_type_ids.extend(_token_type_id)\n",
    "        _new_mask_chunks.extend(_mask_chunk)\n",
    "\n",
    "        _original_iloc.extend([iloc] * len(_input_id_chunk))\n",
    "\n",
    "    return {'input_ids':_new_input_id_chunks, 'token_type_ids':_new_token_type_ids, 'attention_mask': _new_mask_chunks, 'X_iloc': _original_iloc}\n",
    "\n",
    "def split_overlapping(tensor:list[int], chunk_size: int, stride: int, minimal_chunk_length: int) -> list[list[int]]:\n",
    "    \"\"\"Helper function for dividing 1-dimensional tensors into overlapping chunks.\"\"\"\n",
    "    # check_split_parameters_consistency(chunk_size, stride, minimal_chunk_length)\n",
    "    result = [tensor[i : i + chunk_size] for i in range(0, len(tensor), stride)]\n",
    "    if len(result) > 1:\n",
    "        # ignore chunks with less than minimal_length number of tokens\n",
    "        result = [x for x in result if len(x) >= minimal_chunk_length]\n",
    "    return result\n",
    "\n",
    "\n",
    "def tokenize_dataset(data, tokenizer):\n",
    "    # return sbert_model[0].tokenizer(data['text'], return_attention_mask=True, return_token_type_ids=True, add_special_tokens=False, return_tensors=None, truncation=False)\n",
    "    return tokenizer(data['text'], return_attention_mask=True, return_token_type_ids=True, add_special_tokens=False, return_tensors=None, truncation=False)"
   ]
  },
  {
   "cell_type": "code",
   "execution_count": 77,
   "metadata": {},
   "outputs": [
    {
     "name": "stderr",
     "output_type": "stream",
     "text": [
      "Map:   0%|          | 0/33063 [00:00<?, ? examples/s]Token indices sequence length is longer than the specified maximum sequence length for this model (1770 > 512). Running this sequence through the model will result in indexing errors\n",
      "Map: 100%|██████████| 33063/33063 [00:01<00:00, 20536.82 examples/s]\n",
      "Map: 100%|██████████| 33063/33063 [00:00<00:00, 54875.14 examples/s]\n",
      "Batches: 100%|██████████| 525/525 [00:05<00:00, 88.07it/s] \n"
     ]
    },
    {
     "name": "stdout",
     "output_type": "stream",
     "text": [
      "Created embeddings with split sentences\n"
     ]
    }
   ],
   "source": [
    "from sentence_transformers import SentenceTransformer\n",
    "from datasets import Dataset\n",
    "\n",
    "split_sentence = True\n",
    "sbert_model_name = 'all-MiniLM-L6-v2'       # !!! check with the model to be loaded\n",
    "sbert = SentenceTransformer(sbert_model_name, device=device)\n",
    "\n",
    "if split_sentence:\n",
    "    X_new = []\n",
    "\n",
    "    tokenizer = sbert[0].tokenizer\n",
    "\n",
    "    # tokenize the dataset\n",
    "    # then split the tokens into smaller chunks\n",
    "    ds_sentences = Dataset.from_dict({'text': X})\n",
    "    ds_sentences = ds_sentences.map(tokenize_dataset, batched=True, fn_kwargs={'tokenizer':tokenizer})\n",
    "    ds_sentences2 = Dataset.from_dict({'input_ids': ds_sentences['input_ids'], 'token_type_ids': ds_sentences['token_type_ids'], 'attention_mask': ds_sentences['attention_mask'], 'X_iloc': list(range(len(X)))})\n",
    "    ds_sentences2 = ds_sentences2.map(split_tokens_into_smaller_chunks, batched=True, fn_kwargs={'chunk_size': sbert.max_seq_length-2, 'stride': sbert.max_seq_length-2, 'minimal_chunk_length': 1})\n",
    "\n",
    "    # re-create new sentences based on tokens\n",
    "    for input_id in ds_sentences2['input_ids']:\n",
    "        X_new.append(tokenizer.convert_tokens_to_string(tokenizer.convert_ids_to_tokens(input_id)))\n",
    "\n",
    "    embeddings = sbert.encode(X_new, show_progress_bar=True, batch_size=64)\n",
    "\n",
    "    print('Created embeddings with split sentences')\n",
    "else:\n",
    "    embeddings = sbert.encode(X, show_progress_bar=True, batch_size=64)\n",
    "    "
   ]
  },
  {
   "cell_type": "code",
   "execution_count": 78,
   "metadata": {},
   "outputs": [
    {
     "data": {
      "text/html": [
       "<div>\n",
       "<style scoped>\n",
       "    .dataframe tbody tr th:only-of-type {\n",
       "        vertical-align: middle;\n",
       "    }\n",
       "\n",
       "    .dataframe tbody tr th {\n",
       "        vertical-align: top;\n",
       "    }\n",
       "\n",
       "    .dataframe thead th {\n",
       "        text-align: right;\n",
       "    }\n",
       "</style>\n",
       "<table border=\"1\" class=\"dataframe\">\n",
       "  <thead>\n",
       "    <tr style=\"text-align: right;\">\n",
       "      <th></th>\n",
       "      <th>recommendationid</th>\n",
       "      <th>review</th>\n",
       "      <th>timestamp_created</th>\n",
       "      <th>voted_up</th>\n",
       "      <th>steam_purchase</th>\n",
       "      <th>received_for_free</th>\n",
       "      <th>review_original</th>\n",
       "      <th>review_split</th>\n",
       "    </tr>\n",
       "  </thead>\n",
       "  <tbody>\n",
       "    <tr>\n",
       "      <th>0</th>\n",
       "      <td>160077941</td>\n",
       "      <td>My all time favorite game</td>\n",
       "      <td>2024-03-08 03:28:29</td>\n",
       "      <td>1</td>\n",
       "      <td>False</td>\n",
       "      <td>False</td>\n",
       "      <td>My all time favorite game</td>\n",
       "      <td>my all time favorite game</td>\n",
       "    </tr>\n",
       "    <tr>\n",
       "      <th>1</th>\n",
       "      <td>160077923</td>\n",
       "      <td>very good\\r\\n</td>\n",
       "      <td>2024-03-08 03:27:55</td>\n",
       "      <td>1</td>\n",
       "      <td>False</td>\n",
       "      <td>False</td>\n",
       "      <td>very good\\r\\n</td>\n",
       "      <td>very good</td>\n",
       "    </tr>\n",
       "    <tr>\n",
       "      <th>2</th>\n",
       "      <td>160077236</td>\n",
       "      <td>swag</td>\n",
       "      <td>2024-03-08 03:10:58</td>\n",
       "      <td>1</td>\n",
       "      <td>False</td>\n",
       "      <td>False</td>\n",
       "      <td>swag</td>\n",
       "      <td>swag</td>\n",
       "    </tr>\n",
       "    <tr>\n",
       "      <th>3</th>\n",
       "      <td>160077159</td>\n",
       "      <td>I played this game for almost 5,000 hours now ...</td>\n",
       "      <td>2024-03-08 03:09:20</td>\n",
       "      <td>1</td>\n",
       "      <td>False</td>\n",
       "      <td>False</td>\n",
       "      <td>I played this game for almost 5,000 hours now ...</td>\n",
       "      <td>i played this game for almost 5, 000 hours now...</td>\n",
       "    </tr>\n",
       "    <tr>\n",
       "      <th>4</th>\n",
       "      <td>160077082</td>\n",
       "      <td>1</td>\n",
       "      <td>2024-03-08 03:07:38</td>\n",
       "      <td>1</td>\n",
       "      <td>False</td>\n",
       "      <td>False</td>\n",
       "      <td>1</td>\n",
       "      <td>1</td>\n",
       "    </tr>\n",
       "    <tr>\n",
       "      <th>...</th>\n",
       "      <td>...</td>\n",
       "      <td>...</td>\n",
       "      <td>...</td>\n",
       "      <td>...</td>\n",
       "      <td>...</td>\n",
       "      <td>...</td>\n",
       "      <td>...</td>\n",
       "      <td>...</td>\n",
       "    </tr>\n",
       "    <tr>\n",
       "      <th>60613</th>\n",
       "      <td>129791250</td>\n",
       "      <td>pls dont</td>\n",
       "      <td>2022-12-31 17:07:26</td>\n",
       "      <td>-1</td>\n",
       "      <td>False</td>\n",
       "      <td>False</td>\n",
       "      <td>pls dont</td>\n",
       "      <td>pls dont</td>\n",
       "    </tr>\n",
       "    <tr>\n",
       "      <th>60614</th>\n",
       "      <td>129791154</td>\n",
       "      <td>steal your soul</td>\n",
       "      <td>2022-12-31 17:06:08</td>\n",
       "      <td>1</td>\n",
       "      <td>False</td>\n",
       "      <td>False</td>\n",
       "      <td>steal your soul</td>\n",
       "      <td>steal your soul</td>\n",
       "    </tr>\n",
       "    <tr>\n",
       "      <th>60615</th>\n",
       "      <td>129790983</td>\n",
       "      <td>DotA is weird game where anything can work and...</td>\n",
       "      <td>2022-12-31 17:03:26</td>\n",
       "      <td>1</td>\n",
       "      <td>False</td>\n",
       "      <td>False</td>\n",
       "      <td>DotA is weird game where anything can work and...</td>\n",
       "      <td>dota is weird game where anything can work and...</td>\n",
       "    </tr>\n",
       "    <tr>\n",
       "      <th>60617</th>\n",
       "      <td>129788206</td>\n",
       "      <td>Still beta so be patient\\n</td>\n",
       "      <td>2022-12-31 16:22:59</td>\n",
       "      <td>1</td>\n",
       "      <td>False</td>\n",
       "      <td>False</td>\n",
       "      <td>Still beta so be patient\\n</td>\n",
       "      <td>still beta so be patient</td>\n",
       "    </tr>\n",
       "    <tr>\n",
       "      <th>60618</th>\n",
       "      <td>129786624</td>\n",
       "      <td>ถ้าอยากรู้ว่าการตกนรกเป็นยังไง แนะนำเกมนี้ รับ...</td>\n",
       "      <td>2022-12-31 16:00:09</td>\n",
       "      <td>-1</td>\n",
       "      <td>False</td>\n",
       "      <td>False</td>\n",
       "      <td>ถ้าอยากรู้ว่าการตกนรกเป็นยังไง แนะนำเกมนี้ รับ...</td>\n",
       "      <td>[UNK] [UNK] [UNK]</td>\n",
       "    </tr>\n",
       "  </tbody>\n",
       "</table>\n",
       "<p>33539 rows × 8 columns</p>\n",
       "</div>"
      ],
      "text/plain": [
       "      recommendationid                                             review  \\\n",
       "0            160077941                          My all time favorite game   \n",
       "1            160077923                                      very good\\r\\n   \n",
       "2            160077236                                               swag   \n",
       "3            160077159  I played this game for almost 5,000 hours now ...   \n",
       "4            160077082                                                  1   \n",
       "...                ...                                                ...   \n",
       "60613        129791250                                           pls dont   \n",
       "60614        129791154                                    steal your soul   \n",
       "60615        129790983  DotA is weird game where anything can work and...   \n",
       "60617        129788206                         Still beta so be patient\\n   \n",
       "60618        129786624  ถ้าอยากรู้ว่าการตกนรกเป็นยังไง แนะนำเกมนี้ รับ...   \n",
       "\n",
       "        timestamp_created  voted_up  steam_purchase  received_for_free  \\\n",
       "0     2024-03-08 03:28:29         1           False              False   \n",
       "1     2024-03-08 03:27:55         1           False              False   \n",
       "2     2024-03-08 03:10:58         1           False              False   \n",
       "3     2024-03-08 03:09:20         1           False              False   \n",
       "4     2024-03-08 03:07:38         1           False              False   \n",
       "...                   ...       ...             ...                ...   \n",
       "60613 2022-12-31 17:07:26        -1           False              False   \n",
       "60614 2022-12-31 17:06:08         1           False              False   \n",
       "60615 2022-12-31 17:03:26         1           False              False   \n",
       "60617 2022-12-31 16:22:59         1           False              False   \n",
       "60618 2022-12-31 16:00:09        -1           False              False   \n",
       "\n",
       "                                         review_original  \\\n",
       "0                              My all time favorite game   \n",
       "1                                          very good\\r\\n   \n",
       "2                                                   swag   \n",
       "3      I played this game for almost 5,000 hours now ...   \n",
       "4                                                      1   \n",
       "...                                                  ...   \n",
       "60613                                           pls dont   \n",
       "60614                                    steal your soul   \n",
       "60615  DotA is weird game where anything can work and...   \n",
       "60617                         Still beta so be patient\\n   \n",
       "60618  ถ้าอยากรู้ว่าการตกนรกเป็นยังไง แนะนำเกมนี้ รับ...   \n",
       "\n",
       "                                            review_split  \n",
       "0                              my all time favorite game  \n",
       "1                                              very good  \n",
       "2                                                   swag  \n",
       "3      i played this game for almost 5, 000 hours now...  \n",
       "4                                                      1  \n",
       "...                                                  ...  \n",
       "60613                                           pls dont  \n",
       "60614                                    steal your soul  \n",
       "60615  dota is weird game where anything can work and...  \n",
       "60617                           still beta so be patient  \n",
       "60618                                  [UNK] [UNK] [UNK]  \n",
       "\n",
       "[33539 rows x 8 columns]"
      ]
     },
     "execution_count": 78,
     "metadata": {},
     "output_type": "execute_result"
    }
   ],
   "source": [
    "if split_sentence:\n",
    "    reviews_df_split = reviews_df.iloc[ds_sentences2['X_iloc']]\n",
    "    reviews_df_split['review_split'] = X_new\n",
    "\n",
    "else:\n",
    "    reviews_df_split = reviews_df\n",
    "\n",
    "reviews_df_split"
   ]
  },
  {
   "cell_type": "markdown",
   "metadata": {},
   "source": [
    "---"
   ]
  },
  {
   "cell_type": "markdown",
   "metadata": {},
   "source": [
    "Evaluation"
   ]
  },
  {
   "cell_type": "code",
   "execution_count": 79,
   "metadata": {},
   "outputs": [],
   "source": [
    "from eval_metrics import SEARCH_BEHAVIOUR\n",
    "\n",
    "sys.path.append('../../topic_modelling/bertopic_dev')\n",
    "from bertopic_utils import _load_bertopic_model\n",
    "\n",
    "%autoreload 2\n",
    "from dataset_loader import GENRES, load_dataset"
   ]
  },
  {
   "cell_type": "code",
   "execution_count": 80,
   "metadata": {},
   "outputs": [
    {
     "name": "stdout",
     "output_type": "stream",
     "text": [
      "../bertopic_dev/category_action_unique_review_text/bertopic[split]_genre_action_grid_search_20240301_095149/bertopic_bt_nr_topics_100\n"
     ]
    }
   ],
   "source": [
    "# load the bertopic model\n",
    "\n",
    "# Test whether the result are the same when load the model from the disk\n",
    "\n",
    "# load the best model and the embedding from the config folder\n",
    "\n",
    "genre = GENRES.ACTION\n",
    "split_sentence = True\n",
    "search_behaviour = SEARCH_BEHAVIOUR.GRID_SEARCH\n",
    "training_datetime = datetime(2024, 3, 1, 9, 51, 49)\n",
    "training_folder_p = Path(f'../bertopic_dev/category_{str(genre)}_unique_review_text')\n",
    "training_folder = Path(f'bertopic{\"[split]\" if split_sentence else \"\"}_genre_{str(genre)}_{search_behaviour.value}_{training_datetime.strftime(\"%Y%m%d_%H%M%S\")}')\n",
    "training_folder = training_folder_p.joinpath(training_folder)\n",
    "\n",
    "\n",
    "training_result_json_path = training_folder.joinpath('result.json')\n",
    "with open(training_result_json_path, 'r') as f:\n",
    "    training_result = json.load(f)\n",
    "\n",
    "# embeddings (uncomment it to load embeddings from training set for quick verification)\n",
    "# embeddings_path = training_folder.joinpath(\n",
    "#     f'embeddings_{training_result[\"best_hyperparameters\"][\"sbert_params\"][\"model_name_or_path\"]}.pkl'\n",
    "# )\n",
    "# if embeddings_path.exists():\n",
    "#     with open(embeddings_path, 'rb') as f:\n",
    "#         embeddings = np.load(f)\n",
    "\n",
    "#     assert embeddings.shape[0] == len(X), f'Number of embeddings ({embeddings.shape[0]}) does not match the number of reviews ({len(X)}). Function terminates.'\n",
    "# else:\n",
    "#     # raise Exception('No embeddings found. Function terminates.')\n",
    "#     print('No embeddings found.')\n",
    "#     embeddings = []\n",
    "\n",
    "\n",
    "# model\n",
    "# best_model_checkpoint_path = training_result['best_model_checkpoint']\n",
    "best_model_checkpoint_path = training_folder_p.parent.joinpath(\n",
    "    Path(training_result['best_model_checkpoint'])\n",
    ")\n",
    "\n",
    "print(best_model_checkpoint_path)"
   ]
  },
  {
   "cell_type": "code",
   "execution_count": 81,
   "metadata": {},
   "outputs": [
    {
     "name": "stdout",
     "output_type": "stream",
     "text": [
      "../bertopic_dev/category_action_unique_review_text/bertopic[split]_genre_action_grid_search_20240301_095149/bertopic_bt_nr_topics_10\n"
     ]
    }
   ],
   "source": [
    "# or change the model path to a different one if needed\n",
    "\n",
    "N_TOPICS = 10\n",
    "\n",
    "best_model_checkpoint_path = Path(best_model_checkpoint_path).parent.joinpath(f'bertopic_bt_nr_topics_{N_TOPICS}')\n",
    "\n",
    "print(best_model_checkpoint_path)"
   ]
  },
  {
   "cell_type": "code",
   "execution_count": 82,
   "metadata": {},
   "outputs": [
    {
     "name": "stderr",
     "output_type": "stream",
     "text": [
      "2024-03-14 23:38:34,630 - BERTopic - Predicting topic assignments through cosine similarity of topic and document embeddings.\n"
     ]
    }
   ],
   "source": [
    "bertopic_model = _load_bertopic_model(best_model_checkpoint_path)\n",
    "\n",
    "if split_sentence:\n",
    "    X = reviews_df_split['review_split'].values\n",
    "else:\n",
    "    X = reviews_df_split['review'].values\n",
    "\n",
    "topics, probs = bertopic_model.transform(X, embeddings=embeddings)\n",
    "\n",
    "topic_model = bertopic_model"
   ]
  },
  {
   "cell_type": "markdown",
   "metadata": {},
   "source": [
    "---"
   ]
  },
  {
   "cell_type": "markdown",
   "metadata": {},
   "source": [
    "Get top 10 keywords for each topics\n",
    "\n",
    "These keywords will be updated\n",
    "\n",
    "Then evaluate"
   ]
  },
  {
   "cell_type": "code",
   "execution_count": 83,
   "metadata": {},
   "outputs": [
    {
     "name": "stdout",
     "output_type": "stream",
     "text": [
      "Topic -1:\n",
      "play, playing, good, fun, toxic, players, like, life, hours, team\n",
      "\n",
      "Topic 0:\n",
      "best, moba, play, like, players, community, playing, new, toxic, fun\n",
      "\n",
      "Topic 1:\n",
      "update, fix, play, new, server, bad, valve, pc, uninstall, crashes\n",
      "\n",
      "Topic 2:\n",
      "10, life, recommend, cat, kill, mid, 11, years, ruined, play\n",
      "\n",
      "Topic 3:\n",
      "good, hate, hi, life, ash, steven, disney, youre, watching, nice\n",
      "\n",
      "Topic 4:\n",
      "не, игра, на, что, но, russian, это, как, для, все\n",
      "\n",
      "Topic 5:\n",
      "barry, pills, disease, inactive, ingredients, sfx, stand, pill, durring, want\n",
      "\n",
      "Topic 6:\n",
      "soul, sugar, bowl, mixture, eggs, flour, barry, pancakes, tin, crust\n",
      "\n",
      "Topic 7:\n",
      "old, classic, barry, masterpiece, best, greatest, gold, al, miss, school\n",
      "\n",
      "Topic 8:\n",
      "skins, valve, ranks, buy, items, need, hats, available, cap, tinker\n",
      "\n",
      "Topic 9:\n",
      "ether, addiction, water, meth, addictive, heroin, tsp, crack, meat, chicken\n",
      "\n"
     ]
    },
    {
     "name": "stderr",
     "output_type": "stream",
     "text": [
      "/root/miniforge3/envs/fyp-test-wsl-tm/lib/python3.9/site-packages/bertopic/vectorizers/_ctfidf.py:82: RuntimeWarning:\n",
      "\n",
      "divide by zero encountered in divide\n",
      "\n"
     ]
    }
   ],
   "source": [
    "top_N_words = 10\n",
    "topic_keywords = {}\n",
    "\n",
    "# for new text, we re-run the func to get the keywords on the new text\n",
    "documents = pd.DataFrame({\"Document\": X, \"ID\": range(len(X)), 'Topic': topics})\n",
    "topic_model._extract_topics(\n",
    "    documents, embeddings\n",
    ")\n",
    "\n",
    "for topic_id, _keywords in topic_model.get_topics().items():\n",
    "    if topic_id not in topic_keywords:\n",
    "        topic_keywords[topic_id] = []\n",
    "    \n",
    "    for i in range(top_N_words):\n",
    "        topic_keywords[topic_id].append(_keywords[i][0])\n",
    "\n",
    "for topic_id, keywords in topic_keywords.items():\n",
    "    print(f'Topic {topic_id}:')\n",
    "    print(', '.join(keywords))\n",
    "    print()"
   ]
  },
  {
   "cell_type": "markdown",
   "metadata": {},
   "source": [
    "---"
   ]
  },
  {
   "cell_type": "markdown",
   "metadata": {},
   "source": [
    "Evaluation (visualization)"
   ]
  },
  {
   "cell_type": "code",
   "execution_count": 84,
   "metadata": {},
   "outputs": [
    {
     "name": "stdout",
     "output_type": "stream",
     "text": [
      "../eval_results_external/dota2/category_action_unique_review_text/bertopic[split]_genre_action_grid_search_20240301_095149/bertopic_bt_nr_topics_10\n"
     ]
    }
   ],
   "source": [
    "eval_results_external_folder_path = Path(f'../eval_results_external/{game_name}')\n",
    "\n",
    "eval_results_external_folder_path = eval_results_external_folder_path.joinpath(\n",
    "    *best_model_checkpoint_path.parts[2:]\n",
    ")\n",
    "\n",
    "print(eval_results_external_folder_path)\n",
    "\n",
    "if not eval_results_external_folder_path.exists():\n",
    "    eval_results_external_folder_path.mkdir(parents=True)"
   ]
  },
  {
   "cell_type": "code",
   "execution_count": 50,
   "metadata": {},
   "outputs": [
    {
     "data": {
      "application/vnd.plotly.v1+json": {
       "config": {
        "plotlyServerURL": "https://plot.ly"
       },
       "data": [
        {
         "customdata": [
          [
           0,
           "dlc | new | cyberpunk | liberty | like",
           566318
          ],
          [
           1,
           "play | bugs | dlc | fixed | fix",
           35469
          ],
          [
           2,
           "10 | dlc | 11 | ending | depression",
           27056
          ],
          [
           3,
           "good | amazing | morning | city | yes",
           16758
          ],
          [
           4,
           "grind | good | bad | paint | average",
           7693
          ],
          [
           5,
           "cyberpunk | business | knuckles | equip | voiced",
           1940
          ],
          [
           6,
           "know | wanna | cooked | beauty | let",
           1605
          ],
          [
           7,
           "masterpiece | songbird | johnny | ending | night",
           1395
          ],
          [
           8,
           "cked | outfits | fr | hunt | available",
           1358
          ],
          [
           9,
           "johnny | wine | blood | wires | president",
           1279
          ]
         ],
         "hovertemplate": "<b>Topic %{customdata[0]}</b><br>%{customdata[1]}<br>Size: %{customdata[2]}",
         "legendgroup": "",
         "marker": {
          "color": "#B0BEC5",
          "line": {
           "color": "DarkSlateGrey",
           "width": 2
          },
          "size": [
           566318,
           35469,
           27056,
           16758,
           7693,
           1940,
           1605,
           1395,
           1358,
           1279
          ],
          "sizemode": "area",
          "sizeref": 353.94875,
          "symbol": "circle"
         },
         "mode": "markers",
         "name": "",
         "orientation": "v",
         "showlegend": false,
         "type": "scatter",
         "x": [
          -15.208746910095215,
          -15.423566818237305,
          14.11962890625,
          13.150333404541016,
          12.254525184631348,
          -15.870379447937012,
          13.44601821899414,
          13.861235618591309,
          13.343338966369629,
          14.841888427734375
         ],
         "xaxis": "x",
         "y": [
          -2.732309341430664,
          -2.5176210403442383,
          -6.817663669586182,
          -8.303160667419434,
          -6.405904293060303,
          -2.0704081058502197,
          -5.522453784942627,
          -8.222554206848145,
          -7.765560626983643,
          -7.462948322296143
         ],
         "yaxis": "y"
        }
       ],
       "layout": {
        "annotations": [
         {
          "showarrow": false,
          "text": "D1",
          "x": -18.250936365127565,
          "y": -5.654240828752518,
          "yshift": 10
         },
         {
          "showarrow": false,
          "text": "D2",
          "x": -0.5913823366165172,
          "xshift": 10,
          "y": -1.7598468899726867
         }
        ],
        "height": 650,
        "hoverlabel": {
         "bgcolor": "white",
         "font": {
          "family": "Rockwell",
          "size": 16
         }
        },
        "legend": {
         "itemsizing": "constant",
         "tracegroupgap": 0
        },
        "margin": {
         "t": 60
        },
        "shapes": [
         {
          "line": {
           "color": "#CFD8DC",
           "width": 2
          },
          "type": "line",
          "x0": -0.5913823366165172,
          "x1": -0.5913823366165172,
          "y0": -9.548634767532349,
          "y1": -1.7598468899726867
         },
         {
          "line": {
           "color": "#9E9E9E",
           "width": 2
          },
          "type": "line",
          "x0": -18.250936365127565,
          "x1": 17.06817169189453,
          "y0": -5.654240828752518,
          "y1": -5.654240828752518
         }
        ],
        "sliders": [
         {
          "active": 0,
          "pad": {
           "t": 50
          },
          "steps": [
           {
            "args": [
             {
              "marker.color": [
               [
                "red",
                "#B0BEC5",
                "#B0BEC5",
                "#B0BEC5",
                "#B0BEC5",
                "#B0BEC5",
                "#B0BEC5",
                "#B0BEC5",
                "#B0BEC5",
                "#B0BEC5"
               ]
              ]
             }
            ],
            "label": "Topic 0",
            "method": "update"
           },
           {
            "args": [
             {
              "marker.color": [
               [
                "#B0BEC5",
                "red",
                "#B0BEC5",
                "#B0BEC5",
                "#B0BEC5",
                "#B0BEC5",
                "#B0BEC5",
                "#B0BEC5",
                "#B0BEC5",
                "#B0BEC5"
               ]
              ]
             }
            ],
            "label": "Topic 1",
            "method": "update"
           },
           {
            "args": [
             {
              "marker.color": [
               [
                "#B0BEC5",
                "#B0BEC5",
                "red",
                "#B0BEC5",
                "#B0BEC5",
                "#B0BEC5",
                "#B0BEC5",
                "#B0BEC5",
                "#B0BEC5",
                "#B0BEC5"
               ]
              ]
             }
            ],
            "label": "Topic 2",
            "method": "update"
           },
           {
            "args": [
             {
              "marker.color": [
               [
                "#B0BEC5",
                "#B0BEC5",
                "#B0BEC5",
                "red",
                "#B0BEC5",
                "#B0BEC5",
                "#B0BEC5",
                "#B0BEC5",
                "#B0BEC5",
                "#B0BEC5"
               ]
              ]
             }
            ],
            "label": "Topic 3",
            "method": "update"
           },
           {
            "args": [
             {
              "marker.color": [
               [
                "#B0BEC5",
                "#B0BEC5",
                "#B0BEC5",
                "#B0BEC5",
                "red",
                "#B0BEC5",
                "#B0BEC5",
                "#B0BEC5",
                "#B0BEC5",
                "#B0BEC5"
               ]
              ]
             }
            ],
            "label": "Topic 4",
            "method": "update"
           },
           {
            "args": [
             {
              "marker.color": [
               [
                "#B0BEC5",
                "#B0BEC5",
                "#B0BEC5",
                "#B0BEC5",
                "#B0BEC5",
                "red",
                "#B0BEC5",
                "#B0BEC5",
                "#B0BEC5",
                "#B0BEC5"
               ]
              ]
             }
            ],
            "label": "Topic 5",
            "method": "update"
           },
           {
            "args": [
             {
              "marker.color": [
               [
                "#B0BEC5",
                "#B0BEC5",
                "#B0BEC5",
                "#B0BEC5",
                "#B0BEC5",
                "#B0BEC5",
                "red",
                "#B0BEC5",
                "#B0BEC5",
                "#B0BEC5"
               ]
              ]
             }
            ],
            "label": "Topic 6",
            "method": "update"
           },
           {
            "args": [
             {
              "marker.color": [
               [
                "#B0BEC5",
                "#B0BEC5",
                "#B0BEC5",
                "#B0BEC5",
                "#B0BEC5",
                "#B0BEC5",
                "#B0BEC5",
                "red",
                "#B0BEC5",
                "#B0BEC5"
               ]
              ]
             }
            ],
            "label": "Topic 7",
            "method": "update"
           },
           {
            "args": [
             {
              "marker.color": [
               [
                "#B0BEC5",
                "#B0BEC5",
                "#B0BEC5",
                "#B0BEC5",
                "#B0BEC5",
                "#B0BEC5",
                "#B0BEC5",
                "#B0BEC5",
                "red",
                "#B0BEC5"
               ]
              ]
             }
            ],
            "label": "Topic 8",
            "method": "update"
           },
           {
            "args": [
             {
              "marker.color": [
               [
                "#B0BEC5",
                "#B0BEC5",
                "#B0BEC5",
                "#B0BEC5",
                "#B0BEC5",
                "#B0BEC5",
                "#B0BEC5",
                "#B0BEC5",
                "#B0BEC5",
                "red"
               ]
              ]
             }
            ],
            "label": "Topic 9",
            "method": "update"
           }
          ]
         }
        ],
        "template": {
         "data": {
          "bar": [
           {
            "error_x": {
             "color": "rgb(36,36,36)"
            },
            "error_y": {
             "color": "rgb(36,36,36)"
            },
            "marker": {
             "line": {
              "color": "white",
              "width": 0.5
             },
             "pattern": {
              "fillmode": "overlay",
              "size": 10,
              "solidity": 0.2
             }
            },
            "type": "bar"
           }
          ],
          "barpolar": [
           {
            "marker": {
             "line": {
              "color": "white",
              "width": 0.5
             },
             "pattern": {
              "fillmode": "overlay",
              "size": 10,
              "solidity": 0.2
             }
            },
            "type": "barpolar"
           }
          ],
          "carpet": [
           {
            "aaxis": {
             "endlinecolor": "rgb(36,36,36)",
             "gridcolor": "white",
             "linecolor": "white",
             "minorgridcolor": "white",
             "startlinecolor": "rgb(36,36,36)"
            },
            "baxis": {
             "endlinecolor": "rgb(36,36,36)",
             "gridcolor": "white",
             "linecolor": "white",
             "minorgridcolor": "white",
             "startlinecolor": "rgb(36,36,36)"
            },
            "type": "carpet"
           }
          ],
          "choropleth": [
           {
            "colorbar": {
             "outlinewidth": 1,
             "tickcolor": "rgb(36,36,36)",
             "ticks": "outside"
            },
            "type": "choropleth"
           }
          ],
          "contour": [
           {
            "colorbar": {
             "outlinewidth": 1,
             "tickcolor": "rgb(36,36,36)",
             "ticks": "outside"
            },
            "colorscale": [
             [
              0,
              "#440154"
             ],
             [
              0.1111111111111111,
              "#482878"
             ],
             [
              0.2222222222222222,
              "#3e4989"
             ],
             [
              0.3333333333333333,
              "#31688e"
             ],
             [
              0.4444444444444444,
              "#26828e"
             ],
             [
              0.5555555555555556,
              "#1f9e89"
             ],
             [
              0.6666666666666666,
              "#35b779"
             ],
             [
              0.7777777777777778,
              "#6ece58"
             ],
             [
              0.8888888888888888,
              "#b5de2b"
             ],
             [
              1,
              "#fde725"
             ]
            ],
            "type": "contour"
           }
          ],
          "contourcarpet": [
           {
            "colorbar": {
             "outlinewidth": 1,
             "tickcolor": "rgb(36,36,36)",
             "ticks": "outside"
            },
            "type": "contourcarpet"
           }
          ],
          "heatmap": [
           {
            "colorbar": {
             "outlinewidth": 1,
             "tickcolor": "rgb(36,36,36)",
             "ticks": "outside"
            },
            "colorscale": [
             [
              0,
              "#440154"
             ],
             [
              0.1111111111111111,
              "#482878"
             ],
             [
              0.2222222222222222,
              "#3e4989"
             ],
             [
              0.3333333333333333,
              "#31688e"
             ],
             [
              0.4444444444444444,
              "#26828e"
             ],
             [
              0.5555555555555556,
              "#1f9e89"
             ],
             [
              0.6666666666666666,
              "#35b779"
             ],
             [
              0.7777777777777778,
              "#6ece58"
             ],
             [
              0.8888888888888888,
              "#b5de2b"
             ],
             [
              1,
              "#fde725"
             ]
            ],
            "type": "heatmap"
           }
          ],
          "heatmapgl": [
           {
            "colorbar": {
             "outlinewidth": 1,
             "tickcolor": "rgb(36,36,36)",
             "ticks": "outside"
            },
            "colorscale": [
             [
              0,
              "#440154"
             ],
             [
              0.1111111111111111,
              "#482878"
             ],
             [
              0.2222222222222222,
              "#3e4989"
             ],
             [
              0.3333333333333333,
              "#31688e"
             ],
             [
              0.4444444444444444,
              "#26828e"
             ],
             [
              0.5555555555555556,
              "#1f9e89"
             ],
             [
              0.6666666666666666,
              "#35b779"
             ],
             [
              0.7777777777777778,
              "#6ece58"
             ],
             [
              0.8888888888888888,
              "#b5de2b"
             ],
             [
              1,
              "#fde725"
             ]
            ],
            "type": "heatmapgl"
           }
          ],
          "histogram": [
           {
            "marker": {
             "line": {
              "color": "white",
              "width": 0.6
             }
            },
            "type": "histogram"
           }
          ],
          "histogram2d": [
           {
            "colorbar": {
             "outlinewidth": 1,
             "tickcolor": "rgb(36,36,36)",
             "ticks": "outside"
            },
            "colorscale": [
             [
              0,
              "#440154"
             ],
             [
              0.1111111111111111,
              "#482878"
             ],
             [
              0.2222222222222222,
              "#3e4989"
             ],
             [
              0.3333333333333333,
              "#31688e"
             ],
             [
              0.4444444444444444,
              "#26828e"
             ],
             [
              0.5555555555555556,
              "#1f9e89"
             ],
             [
              0.6666666666666666,
              "#35b779"
             ],
             [
              0.7777777777777778,
              "#6ece58"
             ],
             [
              0.8888888888888888,
              "#b5de2b"
             ],
             [
              1,
              "#fde725"
             ]
            ],
            "type": "histogram2d"
           }
          ],
          "histogram2dcontour": [
           {
            "colorbar": {
             "outlinewidth": 1,
             "tickcolor": "rgb(36,36,36)",
             "ticks": "outside"
            },
            "colorscale": [
             [
              0,
              "#440154"
             ],
             [
              0.1111111111111111,
              "#482878"
             ],
             [
              0.2222222222222222,
              "#3e4989"
             ],
             [
              0.3333333333333333,
              "#31688e"
             ],
             [
              0.4444444444444444,
              "#26828e"
             ],
             [
              0.5555555555555556,
              "#1f9e89"
             ],
             [
              0.6666666666666666,
              "#35b779"
             ],
             [
              0.7777777777777778,
              "#6ece58"
             ],
             [
              0.8888888888888888,
              "#b5de2b"
             ],
             [
              1,
              "#fde725"
             ]
            ],
            "type": "histogram2dcontour"
           }
          ],
          "mesh3d": [
           {
            "colorbar": {
             "outlinewidth": 1,
             "tickcolor": "rgb(36,36,36)",
             "ticks": "outside"
            },
            "type": "mesh3d"
           }
          ],
          "parcoords": [
           {
            "line": {
             "colorbar": {
              "outlinewidth": 1,
              "tickcolor": "rgb(36,36,36)",
              "ticks": "outside"
             }
            },
            "type": "parcoords"
           }
          ],
          "pie": [
           {
            "automargin": true,
            "type": "pie"
           }
          ],
          "scatter": [
           {
            "fillpattern": {
             "fillmode": "overlay",
             "size": 10,
             "solidity": 0.2
            },
            "type": "scatter"
           }
          ],
          "scatter3d": [
           {
            "line": {
             "colorbar": {
              "outlinewidth": 1,
              "tickcolor": "rgb(36,36,36)",
              "ticks": "outside"
             }
            },
            "marker": {
             "colorbar": {
              "outlinewidth": 1,
              "tickcolor": "rgb(36,36,36)",
              "ticks": "outside"
             }
            },
            "type": "scatter3d"
           }
          ],
          "scattercarpet": [
           {
            "marker": {
             "colorbar": {
              "outlinewidth": 1,
              "tickcolor": "rgb(36,36,36)",
              "ticks": "outside"
             }
            },
            "type": "scattercarpet"
           }
          ],
          "scattergeo": [
           {
            "marker": {
             "colorbar": {
              "outlinewidth": 1,
              "tickcolor": "rgb(36,36,36)",
              "ticks": "outside"
             }
            },
            "type": "scattergeo"
           }
          ],
          "scattergl": [
           {
            "marker": {
             "colorbar": {
              "outlinewidth": 1,
              "tickcolor": "rgb(36,36,36)",
              "ticks": "outside"
             }
            },
            "type": "scattergl"
           }
          ],
          "scattermapbox": [
           {
            "marker": {
             "colorbar": {
              "outlinewidth": 1,
              "tickcolor": "rgb(36,36,36)",
              "ticks": "outside"
             }
            },
            "type": "scattermapbox"
           }
          ],
          "scatterpolar": [
           {
            "marker": {
             "colorbar": {
              "outlinewidth": 1,
              "tickcolor": "rgb(36,36,36)",
              "ticks": "outside"
             }
            },
            "type": "scatterpolar"
           }
          ],
          "scatterpolargl": [
           {
            "marker": {
             "colorbar": {
              "outlinewidth": 1,
              "tickcolor": "rgb(36,36,36)",
              "ticks": "outside"
             }
            },
            "type": "scatterpolargl"
           }
          ],
          "scatterternary": [
           {
            "marker": {
             "colorbar": {
              "outlinewidth": 1,
              "tickcolor": "rgb(36,36,36)",
              "ticks": "outside"
             }
            },
            "type": "scatterternary"
           }
          ],
          "surface": [
           {
            "colorbar": {
             "outlinewidth": 1,
             "tickcolor": "rgb(36,36,36)",
             "ticks": "outside"
            },
            "colorscale": [
             [
              0,
              "#440154"
             ],
             [
              0.1111111111111111,
              "#482878"
             ],
             [
              0.2222222222222222,
              "#3e4989"
             ],
             [
              0.3333333333333333,
              "#31688e"
             ],
             [
              0.4444444444444444,
              "#26828e"
             ],
             [
              0.5555555555555556,
              "#1f9e89"
             ],
             [
              0.6666666666666666,
              "#35b779"
             ],
             [
              0.7777777777777778,
              "#6ece58"
             ],
             [
              0.8888888888888888,
              "#b5de2b"
             ],
             [
              1,
              "#fde725"
             ]
            ],
            "type": "surface"
           }
          ],
          "table": [
           {
            "cells": {
             "fill": {
              "color": "rgb(237,237,237)"
             },
             "line": {
              "color": "white"
             }
            },
            "header": {
             "fill": {
              "color": "rgb(217,217,217)"
             },
             "line": {
              "color": "white"
             }
            },
            "type": "table"
           }
          ]
         },
         "layout": {
          "annotationdefaults": {
           "arrowhead": 0,
           "arrowwidth": 1
          },
          "autotypenumbers": "strict",
          "coloraxis": {
           "colorbar": {
            "outlinewidth": 1,
            "tickcolor": "rgb(36,36,36)",
            "ticks": "outside"
           }
          },
          "colorscale": {
           "diverging": [
            [
             0,
             "rgb(103,0,31)"
            ],
            [
             0.1,
             "rgb(178,24,43)"
            ],
            [
             0.2,
             "rgb(214,96,77)"
            ],
            [
             0.3,
             "rgb(244,165,130)"
            ],
            [
             0.4,
             "rgb(253,219,199)"
            ],
            [
             0.5,
             "rgb(247,247,247)"
            ],
            [
             0.6,
             "rgb(209,229,240)"
            ],
            [
             0.7,
             "rgb(146,197,222)"
            ],
            [
             0.8,
             "rgb(67,147,195)"
            ],
            [
             0.9,
             "rgb(33,102,172)"
            ],
            [
             1,
             "rgb(5,48,97)"
            ]
           ],
           "sequential": [
            [
             0,
             "#440154"
            ],
            [
             0.1111111111111111,
             "#482878"
            ],
            [
             0.2222222222222222,
             "#3e4989"
            ],
            [
             0.3333333333333333,
             "#31688e"
            ],
            [
             0.4444444444444444,
             "#26828e"
            ],
            [
             0.5555555555555556,
             "#1f9e89"
            ],
            [
             0.6666666666666666,
             "#35b779"
            ],
            [
             0.7777777777777778,
             "#6ece58"
            ],
            [
             0.8888888888888888,
             "#b5de2b"
            ],
            [
             1,
             "#fde725"
            ]
           ],
           "sequentialminus": [
            [
             0,
             "#440154"
            ],
            [
             0.1111111111111111,
             "#482878"
            ],
            [
             0.2222222222222222,
             "#3e4989"
            ],
            [
             0.3333333333333333,
             "#31688e"
            ],
            [
             0.4444444444444444,
             "#26828e"
            ],
            [
             0.5555555555555556,
             "#1f9e89"
            ],
            [
             0.6666666666666666,
             "#35b779"
            ],
            [
             0.7777777777777778,
             "#6ece58"
            ],
            [
             0.8888888888888888,
             "#b5de2b"
            ],
            [
             1,
             "#fde725"
            ]
           ]
          },
          "colorway": [
           "#1F77B4",
           "#FF7F0E",
           "#2CA02C",
           "#D62728",
           "#9467BD",
           "#8C564B",
           "#E377C2",
           "#7F7F7F",
           "#BCBD22",
           "#17BECF"
          ],
          "font": {
           "color": "rgb(36,36,36)"
          },
          "geo": {
           "bgcolor": "white",
           "lakecolor": "white",
           "landcolor": "white",
           "showlakes": true,
           "showland": true,
           "subunitcolor": "white"
          },
          "hoverlabel": {
           "align": "left"
          },
          "hovermode": "closest",
          "mapbox": {
           "style": "light"
          },
          "paper_bgcolor": "white",
          "plot_bgcolor": "white",
          "polar": {
           "angularaxis": {
            "gridcolor": "rgb(232,232,232)",
            "linecolor": "rgb(36,36,36)",
            "showgrid": false,
            "showline": true,
            "ticks": "outside"
           },
           "bgcolor": "white",
           "radialaxis": {
            "gridcolor": "rgb(232,232,232)",
            "linecolor": "rgb(36,36,36)",
            "showgrid": false,
            "showline": true,
            "ticks": "outside"
           }
          },
          "scene": {
           "xaxis": {
            "backgroundcolor": "white",
            "gridcolor": "rgb(232,232,232)",
            "gridwidth": 2,
            "linecolor": "rgb(36,36,36)",
            "showbackground": true,
            "showgrid": false,
            "showline": true,
            "ticks": "outside",
            "zeroline": false,
            "zerolinecolor": "rgb(36,36,36)"
           },
           "yaxis": {
            "backgroundcolor": "white",
            "gridcolor": "rgb(232,232,232)",
            "gridwidth": 2,
            "linecolor": "rgb(36,36,36)",
            "showbackground": true,
            "showgrid": false,
            "showline": true,
            "ticks": "outside",
            "zeroline": false,
            "zerolinecolor": "rgb(36,36,36)"
           },
           "zaxis": {
            "backgroundcolor": "white",
            "gridcolor": "rgb(232,232,232)",
            "gridwidth": 2,
            "linecolor": "rgb(36,36,36)",
            "showbackground": true,
            "showgrid": false,
            "showline": true,
            "ticks": "outside",
            "zeroline": false,
            "zerolinecolor": "rgb(36,36,36)"
           }
          },
          "shapedefaults": {
           "fillcolor": "black",
           "line": {
            "width": 0
           },
           "opacity": 0.3
          },
          "ternary": {
           "aaxis": {
            "gridcolor": "rgb(232,232,232)",
            "linecolor": "rgb(36,36,36)",
            "showgrid": false,
            "showline": true,
            "ticks": "outside"
           },
           "baxis": {
            "gridcolor": "rgb(232,232,232)",
            "linecolor": "rgb(36,36,36)",
            "showgrid": false,
            "showline": true,
            "ticks": "outside"
           },
           "bgcolor": "white",
           "caxis": {
            "gridcolor": "rgb(232,232,232)",
            "linecolor": "rgb(36,36,36)",
            "showgrid": false,
            "showline": true,
            "ticks": "outside"
           }
          },
          "title": {
           "x": 0.05
          },
          "xaxis": {
           "automargin": true,
           "gridcolor": "rgb(232,232,232)",
           "linecolor": "rgb(36,36,36)",
           "showgrid": false,
           "showline": true,
           "ticks": "outside",
           "title": {
            "standoff": 15
           },
           "zeroline": false,
           "zerolinecolor": "rgb(36,36,36)"
          },
          "yaxis": {
           "automargin": true,
           "gridcolor": "rgb(232,232,232)",
           "linecolor": "rgb(36,36,36)",
           "showgrid": false,
           "showline": true,
           "ticks": "outside",
           "title": {
            "standoff": 15
           },
           "zeroline": false,
           "zerolinecolor": "rgb(36,36,36)"
          }
         }
        },
        "title": {
         "font": {
          "color": "Black",
          "size": 22
         },
         "text": "<b>Intertopic Distance Map</b>",
         "x": 0.5,
         "xanchor": "center",
         "y": 0.95,
         "yanchor": "top"
        },
        "width": 650,
        "xaxis": {
         "anchor": "y",
         "domain": [
          0,
          1
         ],
         "range": [
          -18.250936365127565,
          17.06817169189453
         ],
         "title": {
          "text": ""
         },
         "visible": false
        },
        "yaxis": {
         "anchor": "x",
         "domain": [
          0,
          1
         ],
         "range": [
          -9.548634767532349,
          -1.7598468899726867
         ],
         "title": {
          "text": ""
         },
         "visible": false
        }
       }
      },
      "text/html": [
       "<div>                            <div id=\"af75d736-6063-461a-b8b4-48fe19a1459c\" class=\"plotly-graph-div\" style=\"height:650px; width:650px;\"></div>            <script type=\"text/javascript\">                require([\"plotly\"], function(Plotly) {                    window.PLOTLYENV=window.PLOTLYENV || {};                                    if (document.getElementById(\"af75d736-6063-461a-b8b4-48fe19a1459c\")) {                    Plotly.newPlot(                        \"af75d736-6063-461a-b8b4-48fe19a1459c\",                        [{\"customdata\":[[0,\"dlc | new | cyberpunk | liberty | like\",566318],[1,\"play | bugs | dlc | fixed | fix\",35469],[2,\"10 | dlc | 11 | ending | depression\",27056],[3,\"good | amazing | morning | city | yes\",16758],[4,\"grind | good | bad | paint | average\",7693],[5,\"cyberpunk | business | knuckles | equip | voiced\",1940],[6,\"know | wanna | cooked | beauty | let\",1605],[7,\"masterpiece | songbird | johnny | ending | night\",1395],[8,\"cked | outfits | fr | hunt | available\",1358],[9,\"johnny | wine | blood | wires | president\",1279]],\"hovertemplate\":\"\\u003cb\\u003eTopic %{customdata[0]}\\u003c\\u002fb\\u003e\\u003cbr\\u003e%{customdata[1]}\\u003cbr\\u003eSize: %{customdata[2]}\",\"legendgroup\":\"\",\"marker\":{\"color\":\"#B0BEC5\",\"size\":[566318,35469,27056,16758,7693,1940,1605,1395,1358,1279],\"sizemode\":\"area\",\"sizeref\":353.94875,\"symbol\":\"circle\",\"line\":{\"color\":\"DarkSlateGrey\",\"width\":2}},\"mode\":\"markers\",\"name\":\"\",\"orientation\":\"v\",\"showlegend\":false,\"x\":[-15.208746910095215,-15.423566818237305,14.11962890625,13.150333404541016,12.254525184631348,-15.870379447937012,13.44601821899414,13.861235618591309,13.343338966369629,14.841888427734375],\"xaxis\":\"x\",\"y\":[-2.732309341430664,-2.5176210403442383,-6.817663669586182,-8.303160667419434,-6.405904293060303,-2.0704081058502197,-5.522453784942627,-8.222554206848145,-7.765560626983643,-7.462948322296143],\"yaxis\":\"y\",\"type\":\"scatter\"}],                        {\"template\":{\"data\":{\"barpolar\":[{\"marker\":{\"line\":{\"color\":\"white\",\"width\":0.5},\"pattern\":{\"fillmode\":\"overlay\",\"size\":10,\"solidity\":0.2}},\"type\":\"barpolar\"}],\"bar\":[{\"error_x\":{\"color\":\"rgb(36,36,36)\"},\"error_y\":{\"color\":\"rgb(36,36,36)\"},\"marker\":{\"line\":{\"color\":\"white\",\"width\":0.5},\"pattern\":{\"fillmode\":\"overlay\",\"size\":10,\"solidity\":0.2}},\"type\":\"bar\"}],\"carpet\":[{\"aaxis\":{\"endlinecolor\":\"rgb(36,36,36)\",\"gridcolor\":\"white\",\"linecolor\":\"white\",\"minorgridcolor\":\"white\",\"startlinecolor\":\"rgb(36,36,36)\"},\"baxis\":{\"endlinecolor\":\"rgb(36,36,36)\",\"gridcolor\":\"white\",\"linecolor\":\"white\",\"minorgridcolor\":\"white\",\"startlinecolor\":\"rgb(36,36,36)\"},\"type\":\"carpet\"}],\"choropleth\":[{\"colorbar\":{\"outlinewidth\":1,\"tickcolor\":\"rgb(36,36,36)\",\"ticks\":\"outside\"},\"type\":\"choropleth\"}],\"contourcarpet\":[{\"colorbar\":{\"outlinewidth\":1,\"tickcolor\":\"rgb(36,36,36)\",\"ticks\":\"outside\"},\"type\":\"contourcarpet\"}],\"contour\":[{\"colorbar\":{\"outlinewidth\":1,\"tickcolor\":\"rgb(36,36,36)\",\"ticks\":\"outside\"},\"colorscale\":[[0.0,\"#440154\"],[0.1111111111111111,\"#482878\"],[0.2222222222222222,\"#3e4989\"],[0.3333333333333333,\"#31688e\"],[0.4444444444444444,\"#26828e\"],[0.5555555555555556,\"#1f9e89\"],[0.6666666666666666,\"#35b779\"],[0.7777777777777778,\"#6ece58\"],[0.8888888888888888,\"#b5de2b\"],[1.0,\"#fde725\"]],\"type\":\"contour\"}],\"heatmapgl\":[{\"colorbar\":{\"outlinewidth\":1,\"tickcolor\":\"rgb(36,36,36)\",\"ticks\":\"outside\"},\"colorscale\":[[0.0,\"#440154\"],[0.1111111111111111,\"#482878\"],[0.2222222222222222,\"#3e4989\"],[0.3333333333333333,\"#31688e\"],[0.4444444444444444,\"#26828e\"],[0.5555555555555556,\"#1f9e89\"],[0.6666666666666666,\"#35b779\"],[0.7777777777777778,\"#6ece58\"],[0.8888888888888888,\"#b5de2b\"],[1.0,\"#fde725\"]],\"type\":\"heatmapgl\"}],\"heatmap\":[{\"colorbar\":{\"outlinewidth\":1,\"tickcolor\":\"rgb(36,36,36)\",\"ticks\":\"outside\"},\"colorscale\":[[0.0,\"#440154\"],[0.1111111111111111,\"#482878\"],[0.2222222222222222,\"#3e4989\"],[0.3333333333333333,\"#31688e\"],[0.4444444444444444,\"#26828e\"],[0.5555555555555556,\"#1f9e89\"],[0.6666666666666666,\"#35b779\"],[0.7777777777777778,\"#6ece58\"],[0.8888888888888888,\"#b5de2b\"],[1.0,\"#fde725\"]],\"type\":\"heatmap\"}],\"histogram2dcontour\":[{\"colorbar\":{\"outlinewidth\":1,\"tickcolor\":\"rgb(36,36,36)\",\"ticks\":\"outside\"},\"colorscale\":[[0.0,\"#440154\"],[0.1111111111111111,\"#482878\"],[0.2222222222222222,\"#3e4989\"],[0.3333333333333333,\"#31688e\"],[0.4444444444444444,\"#26828e\"],[0.5555555555555556,\"#1f9e89\"],[0.6666666666666666,\"#35b779\"],[0.7777777777777778,\"#6ece58\"],[0.8888888888888888,\"#b5de2b\"],[1.0,\"#fde725\"]],\"type\":\"histogram2dcontour\"}],\"histogram2d\":[{\"colorbar\":{\"outlinewidth\":1,\"tickcolor\":\"rgb(36,36,36)\",\"ticks\":\"outside\"},\"colorscale\":[[0.0,\"#440154\"],[0.1111111111111111,\"#482878\"],[0.2222222222222222,\"#3e4989\"],[0.3333333333333333,\"#31688e\"],[0.4444444444444444,\"#26828e\"],[0.5555555555555556,\"#1f9e89\"],[0.6666666666666666,\"#35b779\"],[0.7777777777777778,\"#6ece58\"],[0.8888888888888888,\"#b5de2b\"],[1.0,\"#fde725\"]],\"type\":\"histogram2d\"}],\"histogram\":[{\"marker\":{\"line\":{\"color\":\"white\",\"width\":0.6}},\"type\":\"histogram\"}],\"mesh3d\":[{\"colorbar\":{\"outlinewidth\":1,\"tickcolor\":\"rgb(36,36,36)\",\"ticks\":\"outside\"},\"type\":\"mesh3d\"}],\"parcoords\":[{\"line\":{\"colorbar\":{\"outlinewidth\":1,\"tickcolor\":\"rgb(36,36,36)\",\"ticks\":\"outside\"}},\"type\":\"parcoords\"}],\"pie\":[{\"automargin\":true,\"type\":\"pie\"}],\"scatter3d\":[{\"line\":{\"colorbar\":{\"outlinewidth\":1,\"tickcolor\":\"rgb(36,36,36)\",\"ticks\":\"outside\"}},\"marker\":{\"colorbar\":{\"outlinewidth\":1,\"tickcolor\":\"rgb(36,36,36)\",\"ticks\":\"outside\"}},\"type\":\"scatter3d\"}],\"scattercarpet\":[{\"marker\":{\"colorbar\":{\"outlinewidth\":1,\"tickcolor\":\"rgb(36,36,36)\",\"ticks\":\"outside\"}},\"type\":\"scattercarpet\"}],\"scattergeo\":[{\"marker\":{\"colorbar\":{\"outlinewidth\":1,\"tickcolor\":\"rgb(36,36,36)\",\"ticks\":\"outside\"}},\"type\":\"scattergeo\"}],\"scattergl\":[{\"marker\":{\"colorbar\":{\"outlinewidth\":1,\"tickcolor\":\"rgb(36,36,36)\",\"ticks\":\"outside\"}},\"type\":\"scattergl\"}],\"scattermapbox\":[{\"marker\":{\"colorbar\":{\"outlinewidth\":1,\"tickcolor\":\"rgb(36,36,36)\",\"ticks\":\"outside\"}},\"type\":\"scattermapbox\"}],\"scatterpolargl\":[{\"marker\":{\"colorbar\":{\"outlinewidth\":1,\"tickcolor\":\"rgb(36,36,36)\",\"ticks\":\"outside\"}},\"type\":\"scatterpolargl\"}],\"scatterpolar\":[{\"marker\":{\"colorbar\":{\"outlinewidth\":1,\"tickcolor\":\"rgb(36,36,36)\",\"ticks\":\"outside\"}},\"type\":\"scatterpolar\"}],\"scatter\":[{\"fillpattern\":{\"fillmode\":\"overlay\",\"size\":10,\"solidity\":0.2},\"type\":\"scatter\"}],\"scatterternary\":[{\"marker\":{\"colorbar\":{\"outlinewidth\":1,\"tickcolor\":\"rgb(36,36,36)\",\"ticks\":\"outside\"}},\"type\":\"scatterternary\"}],\"surface\":[{\"colorbar\":{\"outlinewidth\":1,\"tickcolor\":\"rgb(36,36,36)\",\"ticks\":\"outside\"},\"colorscale\":[[0.0,\"#440154\"],[0.1111111111111111,\"#482878\"],[0.2222222222222222,\"#3e4989\"],[0.3333333333333333,\"#31688e\"],[0.4444444444444444,\"#26828e\"],[0.5555555555555556,\"#1f9e89\"],[0.6666666666666666,\"#35b779\"],[0.7777777777777778,\"#6ece58\"],[0.8888888888888888,\"#b5de2b\"],[1.0,\"#fde725\"]],\"type\":\"surface\"}],\"table\":[{\"cells\":{\"fill\":{\"color\":\"rgb(237,237,237)\"},\"line\":{\"color\":\"white\"}},\"header\":{\"fill\":{\"color\":\"rgb(217,217,217)\"},\"line\":{\"color\":\"white\"}},\"type\":\"table\"}]},\"layout\":{\"annotationdefaults\":{\"arrowhead\":0,\"arrowwidth\":1},\"autotypenumbers\":\"strict\",\"coloraxis\":{\"colorbar\":{\"outlinewidth\":1,\"tickcolor\":\"rgb(36,36,36)\",\"ticks\":\"outside\"}},\"colorscale\":{\"diverging\":[[0.0,\"rgb(103,0,31)\"],[0.1,\"rgb(178,24,43)\"],[0.2,\"rgb(214,96,77)\"],[0.3,\"rgb(244,165,130)\"],[0.4,\"rgb(253,219,199)\"],[0.5,\"rgb(247,247,247)\"],[0.6,\"rgb(209,229,240)\"],[0.7,\"rgb(146,197,222)\"],[0.8,\"rgb(67,147,195)\"],[0.9,\"rgb(33,102,172)\"],[1.0,\"rgb(5,48,97)\"]],\"sequential\":[[0.0,\"#440154\"],[0.1111111111111111,\"#482878\"],[0.2222222222222222,\"#3e4989\"],[0.3333333333333333,\"#31688e\"],[0.4444444444444444,\"#26828e\"],[0.5555555555555556,\"#1f9e89\"],[0.6666666666666666,\"#35b779\"],[0.7777777777777778,\"#6ece58\"],[0.8888888888888888,\"#b5de2b\"],[1.0,\"#fde725\"]],\"sequentialminus\":[[0.0,\"#440154\"],[0.1111111111111111,\"#482878\"],[0.2222222222222222,\"#3e4989\"],[0.3333333333333333,\"#31688e\"],[0.4444444444444444,\"#26828e\"],[0.5555555555555556,\"#1f9e89\"],[0.6666666666666666,\"#35b779\"],[0.7777777777777778,\"#6ece58\"],[0.8888888888888888,\"#b5de2b\"],[1.0,\"#fde725\"]]},\"colorway\":[\"#1F77B4\",\"#FF7F0E\",\"#2CA02C\",\"#D62728\",\"#9467BD\",\"#8C564B\",\"#E377C2\",\"#7F7F7F\",\"#BCBD22\",\"#17BECF\"],\"font\":{\"color\":\"rgb(36,36,36)\"},\"geo\":{\"bgcolor\":\"white\",\"lakecolor\":\"white\",\"landcolor\":\"white\",\"showlakes\":true,\"showland\":true,\"subunitcolor\":\"white\"},\"hoverlabel\":{\"align\":\"left\"},\"hovermode\":\"closest\",\"mapbox\":{\"style\":\"light\"},\"paper_bgcolor\":\"white\",\"plot_bgcolor\":\"white\",\"polar\":{\"angularaxis\":{\"gridcolor\":\"rgb(232,232,232)\",\"linecolor\":\"rgb(36,36,36)\",\"showgrid\":false,\"showline\":true,\"ticks\":\"outside\"},\"bgcolor\":\"white\",\"radialaxis\":{\"gridcolor\":\"rgb(232,232,232)\",\"linecolor\":\"rgb(36,36,36)\",\"showgrid\":false,\"showline\":true,\"ticks\":\"outside\"}},\"scene\":{\"xaxis\":{\"backgroundcolor\":\"white\",\"gridcolor\":\"rgb(232,232,232)\",\"gridwidth\":2,\"linecolor\":\"rgb(36,36,36)\",\"showbackground\":true,\"showgrid\":false,\"showline\":true,\"ticks\":\"outside\",\"zeroline\":false,\"zerolinecolor\":\"rgb(36,36,36)\"},\"yaxis\":{\"backgroundcolor\":\"white\",\"gridcolor\":\"rgb(232,232,232)\",\"gridwidth\":2,\"linecolor\":\"rgb(36,36,36)\",\"showbackground\":true,\"showgrid\":false,\"showline\":true,\"ticks\":\"outside\",\"zeroline\":false,\"zerolinecolor\":\"rgb(36,36,36)\"},\"zaxis\":{\"backgroundcolor\":\"white\",\"gridcolor\":\"rgb(232,232,232)\",\"gridwidth\":2,\"linecolor\":\"rgb(36,36,36)\",\"showbackground\":true,\"showgrid\":false,\"showline\":true,\"ticks\":\"outside\",\"zeroline\":false,\"zerolinecolor\":\"rgb(36,36,36)\"}},\"shapedefaults\":{\"fillcolor\":\"black\",\"line\":{\"width\":0},\"opacity\":0.3},\"ternary\":{\"aaxis\":{\"gridcolor\":\"rgb(232,232,232)\",\"linecolor\":\"rgb(36,36,36)\",\"showgrid\":false,\"showline\":true,\"ticks\":\"outside\"},\"baxis\":{\"gridcolor\":\"rgb(232,232,232)\",\"linecolor\":\"rgb(36,36,36)\",\"showgrid\":false,\"showline\":true,\"ticks\":\"outside\"},\"bgcolor\":\"white\",\"caxis\":{\"gridcolor\":\"rgb(232,232,232)\",\"linecolor\":\"rgb(36,36,36)\",\"showgrid\":false,\"showline\":true,\"ticks\":\"outside\"}},\"title\":{\"x\":0.05},\"xaxis\":{\"automargin\":true,\"gridcolor\":\"rgb(232,232,232)\",\"linecolor\":\"rgb(36,36,36)\",\"showgrid\":false,\"showline\":true,\"ticks\":\"outside\",\"title\":{\"standoff\":15},\"zeroline\":false,\"zerolinecolor\":\"rgb(36,36,36)\"},\"yaxis\":{\"automargin\":true,\"gridcolor\":\"rgb(232,232,232)\",\"linecolor\":\"rgb(36,36,36)\",\"showgrid\":false,\"showline\":true,\"ticks\":\"outside\",\"title\":{\"standoff\":15},\"zeroline\":false,\"zerolinecolor\":\"rgb(36,36,36)\"}}},\"xaxis\":{\"anchor\":\"y\",\"domain\":[0.0,1.0],\"title\":{\"text\":\"\"},\"visible\":false,\"range\":[-18.250936365127565,17.06817169189453]},\"yaxis\":{\"anchor\":\"x\",\"domain\":[0.0,1.0],\"title\":{\"text\":\"\"},\"visible\":false,\"range\":[-9.548634767532349,-1.7598468899726867]},\"legend\":{\"tracegroupgap\":0,\"itemsizing\":\"constant\"},\"margin\":{\"t\":60},\"title\":{\"font\":{\"size\":22,\"color\":\"Black\"},\"text\":\"\\u003cb\\u003eIntertopic Distance Map\\u003c\\u002fb\\u003e\",\"y\":0.95,\"x\":0.5,\"xanchor\":\"center\",\"yanchor\":\"top\"},\"hoverlabel\":{\"font\":{\"size\":16,\"family\":\"Rockwell\"},\"bgcolor\":\"white\"},\"width\":650,\"height\":650,\"sliders\":[{\"active\":0,\"pad\":{\"t\":50},\"steps\":[{\"args\":[{\"marker.color\":[[\"red\",\"#B0BEC5\",\"#B0BEC5\",\"#B0BEC5\",\"#B0BEC5\",\"#B0BEC5\",\"#B0BEC5\",\"#B0BEC5\",\"#B0BEC5\",\"#B0BEC5\"]]}],\"label\":\"Topic 0\",\"method\":\"update\"},{\"args\":[{\"marker.color\":[[\"#B0BEC5\",\"red\",\"#B0BEC5\",\"#B0BEC5\",\"#B0BEC5\",\"#B0BEC5\",\"#B0BEC5\",\"#B0BEC5\",\"#B0BEC5\",\"#B0BEC5\"]]}],\"label\":\"Topic 1\",\"method\":\"update\"},{\"args\":[{\"marker.color\":[[\"#B0BEC5\",\"#B0BEC5\",\"red\",\"#B0BEC5\",\"#B0BEC5\",\"#B0BEC5\",\"#B0BEC5\",\"#B0BEC5\",\"#B0BEC5\",\"#B0BEC5\"]]}],\"label\":\"Topic 2\",\"method\":\"update\"},{\"args\":[{\"marker.color\":[[\"#B0BEC5\",\"#B0BEC5\",\"#B0BEC5\",\"red\",\"#B0BEC5\",\"#B0BEC5\",\"#B0BEC5\",\"#B0BEC5\",\"#B0BEC5\",\"#B0BEC5\"]]}],\"label\":\"Topic 3\",\"method\":\"update\"},{\"args\":[{\"marker.color\":[[\"#B0BEC5\",\"#B0BEC5\",\"#B0BEC5\",\"#B0BEC5\",\"red\",\"#B0BEC5\",\"#B0BEC5\",\"#B0BEC5\",\"#B0BEC5\",\"#B0BEC5\"]]}],\"label\":\"Topic 4\",\"method\":\"update\"},{\"args\":[{\"marker.color\":[[\"#B0BEC5\",\"#B0BEC5\",\"#B0BEC5\",\"#B0BEC5\",\"#B0BEC5\",\"red\",\"#B0BEC5\",\"#B0BEC5\",\"#B0BEC5\",\"#B0BEC5\"]]}],\"label\":\"Topic 5\",\"method\":\"update\"},{\"args\":[{\"marker.color\":[[\"#B0BEC5\",\"#B0BEC5\",\"#B0BEC5\",\"#B0BEC5\",\"#B0BEC5\",\"#B0BEC5\",\"red\",\"#B0BEC5\",\"#B0BEC5\",\"#B0BEC5\"]]}],\"label\":\"Topic 6\",\"method\":\"update\"},{\"args\":[{\"marker.color\":[[\"#B0BEC5\",\"#B0BEC5\",\"#B0BEC5\",\"#B0BEC5\",\"#B0BEC5\",\"#B0BEC5\",\"#B0BEC5\",\"red\",\"#B0BEC5\",\"#B0BEC5\"]]}],\"label\":\"Topic 7\",\"method\":\"update\"},{\"args\":[{\"marker.color\":[[\"#B0BEC5\",\"#B0BEC5\",\"#B0BEC5\",\"#B0BEC5\",\"#B0BEC5\",\"#B0BEC5\",\"#B0BEC5\",\"#B0BEC5\",\"red\",\"#B0BEC5\"]]}],\"label\":\"Topic 8\",\"method\":\"update\"},{\"args\":[{\"marker.color\":[[\"#B0BEC5\",\"#B0BEC5\",\"#B0BEC5\",\"#B0BEC5\",\"#B0BEC5\",\"#B0BEC5\",\"#B0BEC5\",\"#B0BEC5\",\"#B0BEC5\",\"red\"]]}],\"label\":\"Topic 9\",\"method\":\"update\"}]}],\"shapes\":[{\"line\":{\"color\":\"#CFD8DC\",\"width\":2},\"type\":\"line\",\"x0\":-0.5913823366165172,\"x1\":-0.5913823366165172,\"y0\":-9.548634767532349,\"y1\":-1.7598468899726867},{\"line\":{\"color\":\"#9E9E9E\",\"width\":2},\"type\":\"line\",\"x0\":-18.250936365127565,\"x1\":17.06817169189453,\"y0\":-5.654240828752518,\"y1\":-5.654240828752518}],\"annotations\":[{\"showarrow\":false,\"text\":\"D1\",\"x\":-18.250936365127565,\"y\":-5.654240828752518,\"yshift\":10},{\"showarrow\":false,\"text\":\"D2\",\"x\":-0.5913823366165172,\"xshift\":10,\"y\":-1.7598468899726867}]},                        {\"responsive\": true}                    ).then(function(){\n",
       "                            \n",
       "var gd = document.getElementById('af75d736-6063-461a-b8b4-48fe19a1459c');\n",
       "var x = new MutationObserver(function (mutations, observer) {{\n",
       "        var display = window.getComputedStyle(gd).display;\n",
       "        if (!display || display === 'none') {{\n",
       "            console.log([gd, 'removed!']);\n",
       "            Plotly.purge(gd);\n",
       "            observer.disconnect();\n",
       "        }}\n",
       "}});\n",
       "\n",
       "// Listen for the removal of the full notebook cells\n",
       "var notebookContainer = gd.closest('#notebook-container');\n",
       "if (notebookContainer) {{\n",
       "    x.observe(notebookContainer, {childList: true});\n",
       "}}\n",
       "\n",
       "// Listen for the clearing of the current output cell\n",
       "var outputEl = gd.closest('.output');\n",
       "if (outputEl) {{\n",
       "    x.observe(outputEl, {childList: true});\n",
       "}}\n",
       "\n",
       "                        })                };                });            </script>        </div>"
      ]
     },
     "metadata": {},
     "output_type": "display_data"
    }
   ],
   "source": [
    "# visualize topics\n",
    "\n",
    "fig = topic_model.visualize_topics()\n",
    "\n",
    "save_html = True\n",
    "if save_html:\n",
    "    fig.write_html(str(eval_results_external_folder_path.joinpath(\n",
    "        f'intertopic_dist_map.html') if type(genre) == GENRES \\\n",
    "            else eval_results_external_folder_path.joinpath(f'intertopic_dist_map.html')\n",
    "    ))\n",
    "\n",
    "fig"
   ]
  },
  {
   "cell_type": "code",
   "execution_count": 85,
   "metadata": {},
   "outputs": [
    {
     "name": "stderr",
     "output_type": "stream",
     "text": [
      "/root/miniforge3/envs/fyp-test-wsl-tm/lib/python3.9/site-packages/pandas/core/internals/blocks.py:366: RuntimeWarning:\n",
      "\n",
      "divide by zero encountered in log\n",
      "\n",
      "/root/miniforge3/envs/fyp-test-wsl-tm/lib/python3.9/site-packages/pandas/core/internals/blocks.py:366: RuntimeWarning:\n",
      "\n",
      "invalid value encountered in log\n",
      "\n",
      "/root/miniforge3/envs/fyp-test-wsl-tm/lib/python3.9/site-packages/pandas/core/internals/blocks.py:366: RuntimeWarning:\n",
      "\n",
      "divide by zero encountered in log\n",
      "\n",
      "/root/miniforge3/envs/fyp-test-wsl-tm/lib/python3.9/site-packages/pandas/core/internals/blocks.py:366: RuntimeWarning:\n",
      "\n",
      "invalid value encountered in log\n",
      "\n",
      "/root/miniforge3/envs/fyp-test-wsl-tm/lib/python3.9/site-packages/pandas/core/internals/blocks.py:366: RuntimeWarning:\n",
      "\n",
      "divide by zero encountered in log\n",
      "\n"
     ]
    },
    {
     "data": {
      "text/html": [
       "\n",
       "<link rel=\"stylesheet\" type=\"text/css\" href=\"https://cdn.jsdelivr.net/gh/bmabey/pyLDAvis@3.4.0/pyLDAvis/js/ldavis.v1.0.0.css\">\n",
       "\n",
       "\n",
       "<div id=\"ldavis_el866221406621229787686082601386\" style=\"background-color:white;\"></div>\n",
       "<script type=\"text/javascript\">\n",
       "\n",
       "var ldavis_el866221406621229787686082601386_data = {\"mdsDat\": {\"x\": [-0.07523271800099339, -0.1353345190530638, -0.21799248882135785, -0.11032602934383538, 0.005904684358891754, 0.11523852089668164, -0.40812770340850274, 0.4608138005031326, 0.3316971351949968, -0.10979522417463657, 0.1431545418486868], \"y\": [0.10978138906240441, 0.09983885338590588, 0.2293867006453145, -0.09368498035161817, 0.27697060274310703, 0.05194724902679202, -0.057254235453633784, -0.13268667415753405, 0.2591538638838494, -0.43687899371648176, -0.3065737750681055], \"topics\": [1, 2, 3, 4, 5, 6, 7, 8, 9, 10, 11], \"cluster\": [1, 1, 1, 1, 1, 1, 1, 1, 1, 1, 1], \"Freq\": [40.31718490878088, 39.81893718304188, 31.071576184653377, 30.69581573243534, 26.164005032885946, 25.295491657350123, 24.776027261923826, 24.70246278108389, 17.811776086868576, 17.4956316834428, -178.1489085124666]}, \"tinfo\": {\"Term\": [\"classic\", \"10\", \"\\u043d\\u0435\", \"barry\", \"\\u0438\\u0433\\u0440\\u0430\", \"pills\", \"old\", \"addiction\", \"inactive\", \"skins\", \"stop\", \"winning\", \"hard\", \"eat\", \"say\", \"cost\", \"thing\", \"feed\", \"carry\", \"suck\", \"level\", \"play\", \"like\", \"toxic\", \"know\", \"fun\", \"life\", \"playing\", \"good\", \"players\", \"hours\", \"team\", \"winning\", \"stop\", \"hard\", \"eat\", \"say\", \"cost\", \"thing\", \"choose\", \"level\", \"totally\", \"world\", \"best\", \"learning\", \"like\", \"moba\", \"competitive\", \"community\", \"players\", \"play\", \"toxic\", \"new\", \"playing\", \"fun\", \"stop\", \"winning\", \"hard\", \"internet\", \"wont\", \"thing\", \"20\", \"totally\", \"say\", \"suck\", \"work\", \"pc\", \"install\", \"issue\", \"update\", \"fix\", \"crashes\", \"crash\", \"crashing\", \"new\", \"play\", \"server\", \"bug\", \"bad\", \"valve\", \"uninstall\", \"stop\", \"winning\", \"hard\", \"gud\", \"gg\", \"english\", \"say\", \"na\", \"feed\", \"et\", \"\\u043d\\u0435\", \"\\u0438\\u0433\\u0440\\u0430\", \"\\u043d\\u0430\", \"\\u0447\\u0442\\u043e\", \"\\u043d\\u043e\", \"\\u044d\\u0442\\u043e\", \"russian\", \"\\u043a\\u0430\\u043a\", \"\\u0434\\u043b\\u044f\", \"\\u0432\\u0441\\u0435\", \"stop\", \"eat\", \"winning\", \"feed\", \"thumbs\", \"say\", \"thing\", \"totally\", \"destroyed\", \"rule\", \"10\", \"11\", \"life\", \"cat\", \"kill\", \"recommend\", \"mid\", \"ruined\", \"years\", \"play\", \"stop\", \"ok\", \"eat\", \"hard\", \"say\", \"suck\", \"feed\", \"thing\", \"cost\", \"watching\", \"cancer\", \"ash\", \"steven\", \"disney\", \"youre\", \"good\", \"hi\", \"hate\", \"life\", \"nice\", \"thing\", \"cost\", \"ok\", \"totally\", \"ask\", \"destroyed\", \"making\", \"problems\", \"joke\", \"test\", \"skins\", \"hats\", \"ranks\", \"swag\", \"available\", \"valve\", \"items\", \"money\", \"tinker\", \"pay\", \"uma\", \"ingredients\", \"rule\", \"ah\", \"hard\", \"realized\", \"eating\", \"turned\", \"hang\", \"middle\", \"sold\", \"remove\", \"pills\", \"disease\", \"barry\", \"inactive\", \"sfx\", \"want\", \"durring\", \"pill\", \"stand\", \"winning\", \"stop\", \"et\", \"legend\", \"decade\", \"gold\", \"ok\", \"come\", \"choose\", \"past\", \"classic\", \"old\", \"greatest\", \"masterpiece\", \"best\", \"barry\", \"nostalgic\", \"miss\", \"school\", \"favorite\", \"bee\", \"eat\", \"stop\", \"butter\", \"15\", \"cost\", \"et\", \"rule\", \"choose\", \"come\", \"ingredients\", \"food\", \"soul\", \"eggs\", \"flour\", \"pancakes\", \"crust\", \"tin\", \"table\", \"oven\", \"barry\", \"yellow\", \"stop\", \"winning\", \"eat\", \"hard\", \"thing\", \"ok\", \"say\", \"cost\", \"feed\", \"rule\", \"ingredients\", \"come\", \"know\", \"like\", \"want\", \"life\", \"day\", \"best\"], \"Freq\": [115425.0, 290280.0, 127277.0, 286834.0, 122743.0, 106893.0, 157301.0, -331273.0, 76333.0, 96312.0, 10999.66923175816, 5299.593555930645, 19399.56811393928, 2644.3876931817813, 10666.61058524241, 3971.9721146235433, 8264.810231918505, 3627.620021078949, 6144.644035631069, 6894.183433063713, 9252.182930135243, 70871.47202378037, 34696.419410187795, 37172.10512921622, 15631.677313133601, 39872.58289823614, 32158.226740484748, 43638.08013012275, 42899.71558886513, 36742.39777705688, 30714.074466593607, 30062.626707901134, 3590.4054115856343, 3768.649726913175, 9794.24838791602, 1393.8560329948532, 11053.85222140223, 2916.1211207536912, 7331.941816761387, 6233.8888817790785, 8180.477463187624, 2201.9593786889104, 19072.491795395286, 64050.04240079053, 16789.599018985184, 38298.66463662736, 42669.49130939371, 19425.772810263406, 32351.901763780428, 33587.61083787532, 39524.09165000858, 27420.06230851513, 28970.123993895097, 30522.298032101404, 27312.964620004386, 7470.327905423042, 1307.2053308408642, 5738.2599351094395, 14891.051335045187, 8849.12105808086, 5369.552913522163, 7123.974831168954, 2805.935396850058, 3832.8751727132903, 4997.34045811206, 13940.487413196268, 25718.21242741264, 22263.898801940304, 17494.668312070615, 55501.57262108132, 46360.81200246631, 22574.3375050907, 22483.684296116437, 20942.64477723473, 33499.40738415442, 38520.44271283608, 26832.386005494543, 22020.65037816781, 26447.053202219522, 26115.603893625816, 22791.115366007936, 4414.034403059305, 1707.4010655734976, 6370.754664246276, 19774.002377715635, 23863.365976658584, 21307.572325735746, 6049.272794391025, 23642.648744994458, 2419.479387597084, 8437.468652658761, 127277.86863073811, 122743.86225937647, 76642.84188520421, 64712.282583512955, 48117.425405539325, 41282.72972473803, 42573.55682974462, 39827.31473871236, 36430.71621471766, 34473.94701844663, 3193.177734468592, 3543.043561063026, 1564.534947737785, 8313.863977724946, 19331.03656243339, 6307.668082245706, 6426.575067230479, 4197.871487643924, 5217.83119828233, 3410.5499486199924, 260117.95515378466, 21774.64548394433, 46914.22301127767, 27823.178066597397, 23770.797074562815, 29500.490075817223, 21950.360613985602, 19899.734376730354, 21413.021290509525, 19597.689130191397, 5986.967542401157, 25712.04368971388, 2554.97676673242, 13186.26366686726, 10131.008848845917, 8958.004403281968, 2398.133575133084, 4866.081149898346, 1187.8513093868103, 42999.67778647976, 33370.858875168684, 44947.62551302198, 44947.62551302198, 44781.86221375175, 43704.6077973005, 87676.29074630319, 48450.324053222634, 61193.122289732, 45748.75508968867, 41240.91838061456, 17532.302751421423, 4493.771588517554, 7704.671451887267, 4580.87569587203, 9356.00793400485, 4744.911834431754, 16293.595258403164, 9356.00793400485, 4817.567845628916, 9161.75139174406, 85683.62012333528, 32371.243403297427, 48257.25279335858, 20624.56304769663, 28726.517973363163, 57149.653791097866, 36544.27068722329, 27851.425348913403, 27915.934429226236, 24466.64998237651, 22298.27944877562, 70613.5906669199, 17425.243168512454, 15366.984979201723, 7895.118027253688, 14725.592927655218, 15660.213475154507, 14725.592927655218, 13368.96227162898, 28556.404342360456, 15366.984979201723, 26818.142976463227, 151632.15985861133, 100760.99367419067, 183479.6335110846, 75505.68976111166, 61608.98993266349, 41941.26053838667, 43014.855178411555, 43014.855178411555, 43379.29926751635, 3064.914879393004, 2502.166657272906, 18175.078185927974, 13190.938673678314, 13751.988489643376, 41572.51055467983, 2766.291233619524, 9878.997005065527, 3156.8214378526013, 15530.369104040645, 110750.31659885656, 132340.12383263878, 44574.40013250288, 49222.261832625314, 48730.234737484505, 67000.38229861355, 23043.45282972893, 24532.40339888257, 24215.84631444942, 23841.60522113711, 24181.05046248197, 8354.785938100247, 2007.9396691198579, 24191.830764614122, 9356.063710886054, 2589.519546176039, 11668.115030724557, 3574.3800819616486, 5066.574582446669, 9909.626682903952, 7242.361255873888, 22340.11157363176, 68143.44618763779, 34923.58482472636, 29846.098183023725, 29383.355949327808, 26574.402015558517, 29383.355949327808, 24446.50937730845, 22778.058870478726, 29571.571018220893, 23954.745588987018, -40183.96630131324, -16407.17200989771, -18577.828903398957, -64820.54044184112, -53916.04589723358, -44425.71936137072, -48107.700272857146, -17274.284976523788, -17437.385664879035, -23844.13751245671, -72469.01018085344, -52884.4713558489, -76286.11696283163, -132586.69400744655, -105216.94412498325, -119269.40086956252, -62952.71740894484, -56402.9838758881], \"Total\": [115425.0, 290280.0, 127277.0, 286834.0, 122743.0, 106893.0, 157301.0, -331273.0, 76333.0, 96312.0, 158.96656910295133, 126.88318116372102, 1642.1473069371277, 235.4359189375391, 2180.2574597418934, 889.7525828946236, 2283.9732369860285, 1093.0973473866652, 2456.8049887290836, 2931.72740041876, 4360.406250236865, 209577.84243899613, 60180.22353340671, 72880.49290811167, 13637.686587663455, 110317.97853197891, 67912.95808112682, 137106.51187756687, 171830.43324953874, 125276.00235086674, 70120.90319343869, 103217.5319935824, 126.88318116372102, 158.96656910295133, 1642.1473069371277, 235.4359189375391, 2180.2574597418934, 889.7525828946236, 2283.9732369860285, 2353.2300368894976, 4360.406250236865, 1585.0661990890949, 13987.958286472516, 128507.5664755087, 14830.129634551984, 60180.22353340671, 84481.44870474345, 20483.94767641456, 77166.19490464679, 125276.00235086674, 209577.84243899613, 72880.49290811167, 94352.64095791806, 137106.51187756687, 110317.97853197891, 158.96656910295133, 126.88318116372102, 1642.1473069371277, 4392.4604123725985, 3118.14575985993, 2283.9732369860285, 3153.5503068146463, 1585.0661990890949, 2180.2574597418934, 2931.72740041876, 8811.569263467405, 17431.228590761755, 15815.919433317482, 12318.652782109406, 103782.22997673813, 81212.03162477117, 23106.086578331375, 24946.526688079102, 21393.747185736396, 94352.64095791806, 209577.84243899613, 57595.01938132348, 26142.303945096417, 98972.98618152688, 132131.7844163627, 34373.29830145723, 158.96656910295133, 126.88318116372102, 1642.1473069371277, 5281.3617571044015, 6480.228517635875, 6754.486594163041, 2180.2574597418934, 9286.025096316203, 1093.0973473866652, 4107.976820712014, 127277.86863073811, 122743.86225937647, 76642.84188520421, 64712.282583512955, 48117.425405539325, 41282.72972473803, 45028.96325826482, 39827.31473871236, 36430.71621471766, 34473.94701844663, 158.96656910295133, 235.4359189375391, 126.88318116372102, 1093.0973473866652, 5334.859111048321, 2180.2574597418934, 2283.9732369860285, 1585.0661990890949, 2258.36605782522, 1498.0948589608088, 290280.75722381845, 17624.305860418062, 67912.95808112682, 38439.07752312108, 29583.503683939474, 78033.9999597558, 45044.37727345753, 43102.08032435947, 58793.637747733825, 209577.84243899613, 158.96656910295133, 1887.996433751854, 235.4359189375391, 1642.1473069371277, 2180.2574597418934, 2931.72740041876, 1093.0973473866652, 2283.9732369860285, 889.7525828946236, 33722.40100604903, 30196.345999822202, 44947.62551302198, 44947.62551302198, 45023.57796328172, 47538.6851537253, 171830.43324953874, 66761.18302540811, 115481.6482718937, 67912.95808112682, 83102.9949140904, 2283.9732369860285, 889.7525828946236, 1887.996433751854, 1585.0661990890949, 4157.045063921338, 2258.36605782522, 8245.507704865457, 6088.449544593848, 3409.6558755400947, 7000.0158829141, 96312.82298690344, 33110.290088052, 60129.06009619013, 21223.555756755588, 36441.507999928275, 132131.7844163627, 62248.689220087275, 44114.46191462493, 69061.63640529767, 47002.37158051876, 36622.56659396191, 5802.214157703056, 1498.0948589608088, 2381.5325495053585, 1642.1473069371277, 4123.118933475282, 4481.2414742708825, 4245.686823434444, 4443.144019725161, 9795.307344152978, 7714.914019140797, 14005.373334452284, 106893.14594408919, 87520.1591214035, 286834.04757560685, 76333.07921621556, 61608.98993266349, 37481.28357007832, 43014.855178411555, 43014.855178411555, 48792.10626490243, 126.88318116372102, 158.96656910295133, 4107.976820712014, 5235.277759368124, 5633.726341289021, 18442.90966926686, 1887.996433751854, 6836.870302083524, 2353.2300368894976, 11972.341453767815, 115425.3383319494, 157301.31464294298, 53153.53737960283, 62168.29915742738, 128507.5664755087, 286834.04757560685, 26000.611595429375, 36691.85381883921, 39471.817490996356, 36821.511375869515, 80949.29672919081, 235.4359189375391, 158.96656910295133, 3245.3987161119258, 3191.550406766386, 889.7525828946236, 4107.976820712014, 1498.0948589608088, 2353.2300368894976, 6836.870302083524, 5802.214157703056, 20651.80226473983, 73344.17370309797, 35870.24370761164, 29846.098183023725, 29808.310869774752, 26574.402015558517, 35757.22607203913, 26077.56540179477, 22936.397930129468, 286834.04757560685, 43384.74906733432, 158.96656910295133, 126.88318116372102, 235.4359189375391, 1642.1473069371277, 2283.9732369860285, 1887.996433751854, 2180.2574597418934, 889.7525828946236, 1093.0973473866652, 1498.0948589608088, 5802.214157703056, 6836.870302083524, 13637.686587663455, 60180.22353340671, 37481.28357007832, 67912.95808112682, 23275.72559256108, 128507.5664755087], \"Category\": [\"Default\", \"Default\", \"Default\", \"Default\", \"Default\", \"Default\", \"Default\", \"Default\", \"Default\", \"Default\", \"Topic1\", \"Topic1\", \"Topic1\", \"Topic1\", \"Topic1\", \"Topic1\", \"Topic1\", \"Topic1\", \"Topic1\", \"Topic1\", \"Topic1\", \"Topic1\", \"Topic1\", \"Topic1\", \"Topic1\", \"Topic1\", \"Topic1\", \"Topic1\", \"Topic1\", \"Topic1\", \"Topic1\", \"Topic1\", \"Topic2\", \"Topic2\", \"Topic2\", \"Topic2\", \"Topic2\", \"Topic2\", \"Topic2\", \"Topic2\", \"Topic2\", \"Topic2\", \"Topic2\", \"Topic2\", \"Topic2\", \"Topic2\", \"Topic2\", \"Topic2\", \"Topic2\", \"Topic2\", \"Topic2\", \"Topic2\", \"Topic2\", \"Topic2\", \"Topic2\", \"Topic3\", \"Topic3\", \"Topic3\", \"Topic3\", \"Topic3\", \"Topic3\", \"Topic3\", \"Topic3\", \"Topic3\", \"Topic3\", \"Topic3\", \"Topic3\", \"Topic3\", \"Topic3\", \"Topic3\", \"Topic3\", \"Topic3\", \"Topic3\", \"Topic3\", \"Topic3\", \"Topic3\", \"Topic3\", \"Topic3\", \"Topic3\", \"Topic3\", \"Topic3\", \"Topic4\", \"Topic4\", \"Topic4\", \"Topic4\", \"Topic4\", \"Topic4\", \"Topic4\", \"Topic4\", \"Topic4\", \"Topic4\", \"Topic4\", \"Topic4\", \"Topic4\", \"Topic4\", \"Topic4\", \"Topic4\", \"Topic4\", \"Topic4\", \"Topic4\", \"Topic4\", \"Topic5\", \"Topic5\", \"Topic5\", \"Topic5\", \"Topic5\", \"Topic5\", \"Topic5\", \"Topic5\", \"Topic5\", \"Topic5\", \"Topic5\", \"Topic5\", \"Topic5\", \"Topic5\", \"Topic5\", \"Topic5\", \"Topic5\", \"Topic5\", \"Topic5\", \"Topic5\", \"Topic6\", \"Topic6\", \"Topic6\", \"Topic6\", \"Topic6\", \"Topic6\", \"Topic6\", \"Topic6\", \"Topic6\", \"Topic6\", \"Topic6\", \"Topic6\", \"Topic6\", \"Topic6\", \"Topic6\", \"Topic6\", \"Topic6\", \"Topic6\", \"Topic6\", \"Topic6\", \"Topic7\", \"Topic7\", \"Topic7\", \"Topic7\", \"Topic7\", \"Topic7\", \"Topic7\", \"Topic7\", \"Topic7\", \"Topic7\", \"Topic7\", \"Topic7\", \"Topic7\", \"Topic7\", \"Topic7\", \"Topic7\", \"Topic7\", \"Topic7\", \"Topic7\", \"Topic7\", \"Topic7\", \"Topic8\", \"Topic8\", \"Topic8\", \"Topic8\", \"Topic8\", \"Topic8\", \"Topic8\", \"Topic8\", \"Topic8\", \"Topic8\", \"Topic8\", \"Topic8\", \"Topic8\", \"Topic8\", \"Topic8\", \"Topic8\", \"Topic8\", \"Topic8\", \"Topic8\", \"Topic8\", \"Topic9\", \"Topic9\", \"Topic9\", \"Topic9\", \"Topic9\", \"Topic9\", \"Topic9\", \"Topic9\", \"Topic9\", \"Topic9\", \"Topic9\", \"Topic9\", \"Topic9\", \"Topic9\", \"Topic9\", \"Topic9\", \"Topic9\", \"Topic9\", \"Topic9\", \"Topic9\", \"Topic9\", \"Topic10\", \"Topic10\", \"Topic10\", \"Topic10\", \"Topic10\", \"Topic10\", \"Topic10\", \"Topic10\", \"Topic10\", \"Topic10\", \"Topic10\", \"Topic10\", \"Topic10\", \"Topic10\", \"Topic10\", \"Topic10\", \"Topic10\", \"Topic10\", \"Topic10\", \"Topic10\", \"Topic10\", \"Topic11\", \"Topic11\", \"Topic11\", \"Topic11\", \"Topic11\", \"Topic11\", \"Topic11\", \"Topic11\", \"Topic11\", \"Topic11\", \"Topic11\", \"Topic11\", \"Topic11\", \"Topic11\", \"Topic11\", \"Topic11\", \"Topic11\", \"Topic11\"], \"logprob\": [10.0, 9.0, 8.0, 7.0, 6.0, 5.0, 4.0, 3.0, 2.0, 1.0, -4.6924, -5.4226, -4.125, -6.1178, -4.7232, -5.711, -4.9783, -5.8017, -5.2747, -5.1596, -4.8654, -2.8294, -3.5436, -3.4747, -4.341, -3.4046, -3.6196, -3.3143, -3.3314, -3.4863, -3.6655, -3.687, -5.7996, -5.7511, -4.796, -6.7458, -4.6751, -6.0076, -5.0856, -5.2478, -4.9761, -6.2885, -4.1296, -2.9182, -4.2571, -3.4324, -3.3244, -4.1112, -3.6012, -3.5637, -3.4009, -3.7666, -3.7116, -3.6594, -3.7705, -4.8188, -6.5619, -5.0826, -4.129, -4.6495, -5.149, -4.8663, -5.798, -5.4862, -5.2209, -4.195, -3.5826, -3.7268, -3.9679, -2.8134, -2.9933, -3.713, -3.717, -3.788, -3.3183, -3.1786, -3.5402, -3.7378, -3.5546, -3.5673, -3.7034, -5.3328, -6.2826, -4.9659, -3.8333, -3.6453, -3.7586, -5.0177, -3.6546, -5.9341, -4.6849, -1.9712, -2.0075, -2.4785, -2.6477, -2.944, -3.0972, -3.0664, -3.1331, -3.2222, -3.2774, -5.4969, -5.3929, -6.2103, -4.54, -3.6962, -4.8161, -4.7974, -5.2233, -5.0058, -5.431, -1.0967, -3.5771, -2.8096, -3.332, -3.4894, -3.2735, -3.5691, -3.6672, -3.5939, -3.6825, -4.8345, -3.3772, -5.6861, -4.0449, -4.3085, -4.4316, -5.7494, -5.0418, -6.452, -2.8629, -3.1164, -2.8186, -2.8186, -2.8223, -2.8467, -2.1505, -2.7436, -2.5101, -2.801, -2.9047, -3.7393, -5.1007, -4.5615, -5.0815, -4.3674, -5.0463, -3.8126, -4.3674, -5.0311, -4.3883, -2.1527, -3.1261, -2.7268, -3.5769, -3.2455, -2.5577, -3.0048, -3.2765, -3.2742, -3.4061, -3.4989, -2.3432, -3.7425, -3.8682, -4.5342, -3.9108, -3.8493, -3.9108, -4.0075, -3.2485, -3.8682, -3.3113, -1.5789, -1.9876, -1.3883, -2.2762, -2.4796, -2.8641, -2.8388, -2.8388, -2.8304, -5.1533, -5.3562, -3.3733, -3.6938, -3.6522, -2.5459, -5.2558, -3.9829, -5.1238, -3.5306, -1.5661, -1.388, -2.4762, -2.377, -2.3871, -2.0687, -3.136, -3.0734, -3.0863, -3.1019, -3.0878, -4.1326, -5.5583, -3.0694, -4.0194, -5.304, -3.7986, -4.9817, -4.6328, -3.9619, -4.2755, -3.1491, -2.0338, -2.7023, -2.8594, -2.875, -2.9755, -2.875, -3.059, -3.1296, -2.8686, -3.0793, -4.8826, -5.7784, -5.6541, -4.4045, -4.5887, -4.7823, -4.7027, -5.7269, -5.7175, -5.4046, -4.293, -4.608, -4.2416, -3.6889, -3.9201, -3.7947, -4.4337, -4.5436], \"loglift\": [10.0, 9.0, 8.0, 7.0, 6.0, 5.0, 4.0, 3.0, 2.0, 1.0, 6.4716, 5.9668, 4.7039, 4.6534, 3.8223, 3.7307, 3.5207, 3.4342, 3.1514, 3.0897, 2.9869, 1.1504, 1.6839, 1.5614, 2.3711, 1.217, 1.4871, 1.0898, 0.847, 1.008, 1.4091, 1.0011, 5.5898, 5.4128, 4.0329, 4.0255, 3.8704, 3.4341, 3.4134, 3.2213, 2.8763, 2.5758, 2.5571, 1.5507, 2.3712, 1.7951, 1.564, 2.194, 1.3778, 0.9307, 0.5789, 1.2695, 1.0663, 0.7448, 0.8511, 6.3451, 4.8275, 3.7463, 3.716, 3.5382, 3.3499, 3.3101, 3.0662, 3.0593, 3.0284, 2.9538, 2.8841, 2.8371, 2.8459, 1.8692, 1.9345, 2.4718, 2.3912, 2.4738, 1.4596, 0.8012, 1.7313, 2.3235, 1.1754, 0.8739, 2.0842, 5.8311, 5.1067, 3.863, 3.8275, 3.8109, 3.6561, 3.5278, 3.4418, 3.3018, 3.227, 2.5073, 2.5073, 2.5073, 2.5073, 2.5073, 2.5073, 2.4512, 2.5073, 2.5073, 2.5073, 5.6671, 5.3783, 5.1791, 4.6959, 3.9545, 3.7294, 3.7016, 3.641, 3.5045, 3.4897, 2.5573, 2.8785, 2.2971, 2.3438, 2.4483, 1.6943, 1.9482, 1.8942, 1.657, 0.2973, 6.3294, 5.3122, 5.0851, 4.784, 4.2369, 3.8177, 3.4865, 3.4572, 2.9897, 2.9438, 2.8007, 2.7008, 2.7008, 2.6954, 2.6167, 2.0279, 2.3802, 2.0657, 2.3057, 2.0001, 4.7597, 4.341, 4.1278, 3.7828, 3.5327, 3.464, 3.4026, 3.1512, 3.0672, 2.9907, 2.6046, 2.699, 2.5016, 2.6929, 2.4836, 1.8834, 2.1889, 2.2616, 1.8157, 2.0686, 2.2254, 5.2235, 5.1782, 4.589, 4.2947, 3.9975, 3.9757, 3.9682, 3.8261, 3.7945, 3.4136, 3.3741, 3.0741, 2.8654, 2.2777, 2.7136, 2.7245, 2.8369, 2.7245, 2.7245, 2.6069, 6.2361, 5.8078, 4.5387, 3.9757, 3.944, 3.8643, 3.4335, 3.4196, 3.3453, 3.3118, 3.0102, 2.8788, 2.8755, 2.8181, 2.0819, 1.5973, 2.9308, 2.649, 2.563, 2.6169, 1.8433, 6.6386, 5.6056, 5.0782, 4.145, 4.1377, 4.1134, 3.9391, 3.8363, 3.4406, 3.2912, 3.148, 2.9959, 3.0427, 3.0695, 3.0551, 3.0695, 2.8731, 3.0049, 3.0625, 0.7974, 2.4755, 6.2813, 5.611, 5.1171, 4.4244, 3.9103, 3.9071, 3.8428, 3.7148, 3.5184, 3.5161, 3.2737, 2.7946, 2.4704, 1.5387, 1.781, 1.3119, 1.7438, -0.0747]}, \"token.table\": {\"Topic\": [1, 2, 3, 4, 5, 6, 10, 1, 2, 3, 4, 5, 10, 1, 2, 3, 4, 5, 6, 9, 10, 1, 2, 3, 4, 5, 6, 7, 10, 1, 2, 3, 4, 5, 6, 1, 2, 4, 5, 6, 8, 6, 1, 2, 3, 4, 5, 6, 7, 1, 2, 3, 4, 7, 1, 2, 3, 4, 5, 6, 7, 6, 8, 9, 10, 6, 8, 9, 10, 1, 2, 3, 4, 5, 6, 7, 8, 9, 10, 1, 2, 3, 4, 6, 1, 6, 10, 1, 2, 3, 4, 5, 6, 7, 10, 1, 2, 3, 4, 5, 6, 1, 2, 5, 6, 10, 1, 2, 4, 5, 6, 9, 10, 1, 2, 9, 1, 2, 3, 4, 5, 6, 7, 9, 10, 1, 2, 3, 4, 5, 6, 7, 9, 1, 2, 3, 4, 5, 6, 1, 2, 3, 4, 5, 6, 7, 10, 1, 2, 3, 4, 5, 6, 1, 2, 3, 1, 2, 3, 10, 1, 2, 3, 4, 5, 6, 7, 8, 9, 10, 1, 2, 3, 5, 9, 1, 2, 3, 4, 5, 6, 7, 10, 1, 2, 3, 4, 6, 8, 1, 6, 8, 1, 2, 4, 5, 6, 10, 1, 2, 5, 6, 8, 9, 2, 6, 10, 1, 2, 3, 4, 1, 4, 5, 9, 10, 1, 2, 3, 5, 6, 9, 1, 2, 3, 4, 5, 6, 1, 2, 3, 4, 5, 6, 7, 8, 10, 1, 2, 6, 8, 10, 1, 2, 3, 4, 5, 6, 9, 1, 2, 3, 4, 5, 6, 1, 2, 3, 4, 5, 6, 9, 1, 2, 3, 4, 5, 6, 7, 8, 9, 10, 1, 2, 3, 6, 9, 1, 2, 4, 5, 6, 1, 2, 3, 4, 6, 8, 1, 2, 3, 4, 5, 6, 8, 9, 1, 2, 3, 4, 5, 6, 7, 8, 9, 2, 6, 7, 1, 2, 3, 4, 5, 6, 7, 9, 1, 2, 3, 4, 5, 6, 1, 3, 8, 6, 8, 10, 1, 2, 3, 4, 6, 7, 1, 2, 3, 4, 5, 6, 1, 2, 3, 4, 5, 1, 2, 3, 4, 7, 8, 1, 2, 3, 4, 5, 7, 9, 10, 1, 2, 3, 4, 5, 6, 7, 1, 2, 3, 4, 5, 6, 7, 9, 10, 1, 2, 3, 4, 5, 6, 1, 2, 3, 4, 6, 9, 1, 2, 3, 4, 5, 6, 10, 1, 2, 3, 4, 5, 6, 7, 8, 9, 10, 1, 2, 3, 4, 5, 6, 7, 8, 9, 10, 1, 2, 3, 4, 5, 6, 7, 9, 1, 2, 3, 5, 6, 9, 10, 1, 2, 3, 4, 5, 6, 7, 9, 1, 2, 3, 4, 5, 6, 8, 9, 10, 1, 2, 3, 4, 5, 6, 7, 9, 1, 2, 3, 4, 5, 6, 7, 9, 1, 2, 3, 4, 5, 6, 7, 8, 10, 1, 2, 3, 4, 6, 1, 2, 3, 4, 5, 6, 7, 9, 10, 1, 2, 3, 4, 5, 6, 7, 1, 2, 9, 1, 2, 3, 4, 5, 6, 7, 9, 1, 2, 3, 4, 5, 6, 7, 9, 2, 10, 4, 10, 1, 2, 3, 4, 5, 6, 9, 1, 2, 3, 4, 5, 6, 7, 10, 1, 2, 3, 4, 8, 1, 2, 5, 8, 1, 2, 3, 4, 5, 6, 7, 8, 9, 10, 1, 2, 3, 4, 5, 6, 7, 1, 2, 3, 4, 5, 6, 7, 8, 9, 10, 1, 2, 3, 4, 5, 6, 7, 1, 2, 3, 4, 5, 7, 1, 2, 4, 5, 6, 8, 1, 2, 3, 4, 5, 6, 7, 9, 10, 1, 2, 3, 4, 5, 6, 7, 8, 10, 1, 2, 3, 4, 5, 6, 1, 5, 6, 8, 10, 1, 2, 3, 4, 5, 1, 2, 3, 4, 5, 6, 9, 1, 2, 4, 5, 6, 8, 9, 1, 2, 3, 4, 5, 6, 8, 1, 2, 3, 4, 6, 7, 1, 2, 4, 5, 6, 7, 8, 10, 1, 2, 3, 4, 5, 6, 10, 1, 2, 4, 6, 8, 6, 1, 2, 3, 4, 5, 6, 9, 10, 1, 2, 3, 4, 5, 6, 1, 6, 7, 1, 2, 4, 10, 1, 2, 3, 4, 5, 6, 7, 8, 9, 1, 2, 3, 4, 5, 6, 7, 10, 1, 2, 3, 4, 5, 6, 7, 9, 10, 1, 2, 3, 5, 6, 7, 10, 1, 2, 3, 4, 5, 6, 7, 8, 1, 2, 3, 4, 5, 6, 7, 1, 2, 3, 4, 5, 6, 7, 9, 1, 2, 3, 4, 5, 6, 8, 10, 4, 7, 9, 1, 2, 3, 4, 5, 6, 1, 2, 3, 4, 5, 6, 7, 8, 1, 2, 3, 4, 5, 6, 7, 9, 10, 1, 2, 3, 4, 5, 6, 7, 8, 9, 10, 1, 2, 3, 4, 6, 1, 2, 3, 4, 5, 9, 1, 2, 3, 4, 5, 6, 1, 2, 3, 4, 5, 6, 7, 8, 10, 1, 2, 3, 4, 5, 6, 9, 1, 2, 3, 4, 5, 6, 7, 8, 9, 6, 8, 10, 1, 2, 3, 4, 6, 4, 4, 4, 4, 4, 4, 4, 4, 4], \"Freq\": [0.053269118311130036, 0.030157011038972538, 0.03607197425052335, 0.10673459824314441, 0.8960910894945692, 0.0038135493740167462, 0.012467240455796391, 0.08732258803204257, 0.0685417065254759, 0.3176295307364355, 0.13827494933988807, 1.2355096519803295, 0.1493959547032931, 1.659381593589117, 0.8560102933696124, 1.6878943815454255, 1.526217474012951, 0.6993466232800055, 0.5041436903483552, 0.9133491966224085, 2.9314905947167254, 2.018042961372061, 1.3296125293892287, 2.259041178003545, 1.3115376631418674, 1.3518097335526549, 0.24385214288106768, 1.2294080077371905, 0.7084079157299158, -0.010302685369635418, -0.007742861990364737, -0.0026292525511141074, -0.001717617338213464, -0.0023605918426765006, -0.015325735019525055, 0.1448647007036104, 0.44173236272521205, 1.071998785206717, 1.2630522310622032, 0.4551690885875759, 6.452567697717047, 1.0000083316298414, 0.6393964845530711, 0.45970153573398, 0.4594609802469397, 0.600185940165505, 0.6187087126676067, 0.29756713746882957, 2.2506371367488835, 0.03317645361993196, 0.10735011295382452, 0.05364761524149461, 0.017507508196457064, 0.7883043698426679, 0.24131837303761078, 0.08267912604952139, 0.26721432807426276, 0.12631729608592404, 0.09594537223099782, 0.2075616872094975, 0.0747880839568077, 0.02364433391824702, 0.6396730149395404, 0.23358454327964467, 0.10309794199799481, 0.03206945711566468, 0.38954013529593773, 0.2987178515076609, 0.27966889046284005, 0.08920875489603826, 0.49841423160251663, 0.017485351731629274, 0.05994977736558608, 0.10724660327784363, 0.16222391079184487, 0.028543066378111336, 0.08018983070513558, 0.3791994614518444, 0.016450393217919128, 0.0831984818387811, 0.028918644721893573, 0.8423511579640455, 0.011475652667418084, 0.03408268842223171, 0.03882419727797001, 0.6107107857534648, 7.4542458773702425, 0.22055648720011403, 0.06162997337528712, 0.022751097103074824, 0.11892167350384526, 0.3882257806977383, 1.105133713867118, 0.11150355741783542, 0.2569847358367695, 2.5012160216993196, 1.0200239789061831, 0.8665726460858993, 1.358268163451689, 1.555679029281497, 0.2242750248911839, 0.0053591296481059186, 0.006113570229635393, 0.723820699996364, 0.11787483706586369, 0.14682974628111556, 0.8256736356162867, 2.6491247784003766, 0.6229735202333898, 0.34250795177906695, 0.24689468980600238, 1.3415603024398441, 2.1532106596334146, 0.007442040130994628, 0.03306033194397614, 0.9594946967493074, 1.1857764798506425, 1.1002110128822664, 0.462199787384733, 0.6037850387101829, 0.9220593226814421, 1.0637908397623934, 0.5030079331696509, 1.4449593985992966, 1.449493637019843, 0.2596084985757624, 0.41925094323980755, 0.08232879705744614, 0.08165492684699639, 0.1259100570140322, 0.09474355978073173, 0.029870592982435596, 0.021447215351813844, 0.3957245023298579, 0.9483523540907747, 0.01571962617199781, 0.08221071575665935, 0.028266035880704136, 0.12224206190895191, 4.464162370934547, 3.277315577453459, 0.5158737483028593, 1.010393245586646, 1.8510763909690833, 1.335202642666224, 5.0508423199848576, 2.910921586284108, 0.024251873119038415, 0.01382958053895579, 0.9012877937329913, 0.012787351280947528, 0.03515519458743255, 0.01266709405886965, 0.017917356909250243, 0.005106879505535094, 0.9769720165927899, 0.009862694841073823, 0.011264973728430293, 0.9789308912635503, 0.9999848720750788, 0.40273717623634164, 0.38894598426153204, 0.24420291334834288, 0.14074749192983307, 0.4384396077972975, 0.2603570821412663, 0.42215654935974967, 0.39530454006300186, 0.6062968883131271, 0.40544385877345385, 0.4650563128702721, 0.4084330442421741, 0.17359735648363592, 0.778703070443467, 2.441013135340451, 1.282343041760384, 0.7576273979461384, 0.8581425465924116, 0.1399241716837988, 2.3105200248293105, 0.41667292896979324, 2.10107656531527, 1.2106097638718543, 0.008626583950249707, 0.0036905782992459014, 0.05752960290000964, 0.006832711526158047, 0.16588178250294736, 1.151289040279617, 0.00537496154120313, 0.9946344121411511, 1.000003366780798, 11.230232039068985, 5.920931718026537, 1.3676757627005345, 15.048680829962713, 10.852209856210763, 35.48736334584772, 0.13099048631283755, 0.14951213940306843, 0.4559004489559235, 0.6576302609266308, 3.4945673179881362, 0.8932792448216162, 0.004070226040003707, 0.022330486698924446, 0.9736203713773249, 0.17736359134020102, 0.09341938742543143, 0.06617823483227868, 3.154643910080971, 0.02604688504095655, 2.0538090569210317, 1.1292663523831534, 4.424319024480236, 2.840327613625056, 0.028461623677044197, 0.2654698200793006, 0.02300285806722942, 0.020667266811288772, 0.014909762785016474, 0.6475019386527554, 3.3190090605138525, 1.1965997384653029, 0.42356703280537866, 2.2129776508773453, 7.60590995841019, 2.1937661871863887, 0.05697431658129679, 0.02346942887485448, 0.5708636894371084, 0.04142243375394044, 0.04067131352237374, 0.008804114189675213, 0.13313298268359217, 0.12467364499365248, 0.999996710356472, 0.01694767340463926, 0.019320347681288756, 0.15950181769966204, 0.7533482937982217, 1.0817457824561172, 0.3614370071913676, 0.24758430460255873, 0.0377454342022134, 0.05714390422928753, 0.04927573975101634, 0.3398176842873621, 0.03620443424679162, 0.3577034349470219, 0.2041594669693313, 0.49566153280838404, 3.682431867187568, 0.44504603381674335, 0.48131018705770545, 0.17784612400210198, 0.13349303576011437, 0.07395796132282534, 0.09656827647797063, 0.08848929096689953, 0.03193639238940185, 2.2541454003473738, 0.2496647374315758, 0.14689481672518426, 0.06463930626229633, 0.10729764018708539, 0.0773669701495424, 0.51024721489629, 0.0175871057463455, 0.02470458765494264, 0.05683510083349112, 0.015201032498164941, 0.028088441025806963, 0.10827125124147292, 0.008522480766704992, 0.016536999103606377, 0.83858953133578, 0.16113268492832342, 0.04089854282552039, 3.744110119591853, 0.15602036707513336, 0.16870648915527162, 0.631084652568486, 0.43752801875646824, 0.32814601406735117, 0.4285253846256767, 0.2831328434133935, 3.0089053923637983, 11.813800088485461, 5.964142168382814, 3.4942054076149263, 3.8796763074093232, 1.2544550609422704, 8.029730307565426, 4.807729468999624, 1.2288787927094669, 0.10163519637653622, 0.07281676461875207, 0.018609017382054727, 0.027337677000998963, 0.12107551467468086, 0.5298937183155304, 0.02278284073158957, 0.1279857035396784, 0.06543030960391136, 0.009392850354767075, 0.012926495021994559, 0.9776718933574436, 0.005721887819971939, 0.0013031524616166456, 0.03885491362567332, 0.010874582610732009, 0.06975610360630712, 0.7257211122451319, 0.10873084734339346, 0.03903465879279286, 0.43801489429294677, 0.2189076195675175, 0.16783868239023542, 0.08769139757137884, 0.27118874877497806, 0.19556222717455163, 0.0018471677213572585, 0.008986929481213329, 0.9891648650269587, 0.07152441959575784, 12.170181603216491, 1.2481442089457306, 0.20485688572582664, 0.08447185164497048, 1.407695587592532, 0.05405945595542647, 0.01789336378407683, 0.27036050721099836, 0.48036858660275966, 0.32419188024754964, 3.390127309526869, 0.27683801009903114, 0.38042460104891535, 0.1370530280260006, 0.27811482802532106, 0.11705825511165001, 1.420204003591066, 0.13913859172078233, 0.3824281829618469, 0.1336574328590872, 0.22575575768855197, 0.09807435427941434, 0.010666891276254075, 0.5870645704810676, 0.1499308678934929, 0.802720303721693, 0.37364474495485456, 0.5768910622654623, 0.6593040711605282, 0.7769112475552666, 1.413045825111844, 1.0144718781780548, 0.8141584081590866, 0.2577787973146691, 0.08988117257536128, 0.052664485472889384, 0.11175146917417991, 0.8035221336174926, 0.051143367471425956, 0.12895700390184403, 1.146235462995651, 0.739421597290695, 1.1672067617684732, 0.5267022345635722, 0.6858201308468733, 0.7143440302266909, 0.20787983224108691, 0.4478032223972902, 0.9583003624545908, 0.8008696007840934, 1.132154634770138, 0.08401814621343608, 0.31543891491689724, 0.11308060288919126, 0.13593947252511007, 0.6645301662886175, 0.4005518133679882, 0.08958454958015567, 0.2339894951720484, 0.4637767300226396, 2.5196370863791757, 2.121820644463441, 1.8759719921866564, 0.6641582994342979, 0.6506274501019003, 0.8941827380850579, 0.10755878537109313, 0.9370686503758775, 0.4735178809555755, 0.2992212469338345, 0.06995719424155541, 0.09328116723221502, 0.69079600308321, 0.6736416921399534, 0.02855125229096526, 0.16042593796290178, 0.18453032166600136, 0.08226706887551466, 0.5765349140110765, 0.6364050804620193, 0.31010187241395865, 0.20061407703642284, 0.2205874159412336, 0.4563957790012747, 0.2292613617884143, 0.3220160853879598, 0.18519372886365712, 0.06605159912364622, 1.1727598040195861, 1.3013146532709574, 1.008670453984581, 0.6587829633334428, 0.36213658477791977, 0.31338276459013553, 1.976106333680986, 0.2837908936303859, 0.015956685536594475, 0.11925692194386235, 0.007029306027713495, 0.012627014260309138, 0.013656477843315232, 0.7917540075425941, 0.03971477478815702, 0.0810312012494125, 0.04626548586404812, 0.0935965875253488, 0.11002483106632557, 0.4872972239519464, 0.024242759387495465, 0.09168735922193798, 0.0658461761385637, 0.17467547876599618, 0.062376807437769535, 0.26482068493219996, 0.17293995384546906, 0.09514760152537022, 0.03430213960571287, 2.915273507680764, 0.37262740940729755, 0.897062204510116, 0.047585494279483005, 0.06393789781195139, 0.02714498986389752, 0.0177423578327282, 0.024365081263377896, 0.017578833797403517, 0.13302680273663034, 0.6685952724308575, 0.04049409725389709, 0.5050694638195075, 0.04603377498404145, 0.05813110541183532, 0.03306051260746407, 0.049667708879670334, 0.03006577229608261, 0.23747225346614542, 0.2242121873580172, 0.1555272285373932, 0.1369618881829077, 0.047354085470720654, 0.0867742648070458, 0.05737347550330013, 0.6313349135687127, 0.2216960056982518, 0.04547261630170686, 0.039737131460734855, 0.02261462766058081, 0.04813685030609344, 2.5460840084719623, 0.15582555345171634, 0.2605544450098078, 0.30703963032598974, 0.35504040649949364, 0.05873709462432292, 0.021250067614898494, 0.035240137067100996, 0.20866400558709305, 0.08324091324060488, 0.026718912946214018, 0.2350697471275824, 0.09783040922176837, 0.048313541577539976, 0.05049156175824601, 0.040479888883398374, 0.4962637031629704, 0.03155120946857032, 0.03461457038026791, 0.0791135236357901, 0.886248383636126, 1.8893044161696881, 0.539195933742849, 0.6250011805663672, 0.8162091688582813, 1.4957655372198484, 13.618669792137657, 4.081045844291407, 1.4650451402089593, 0.054068206736259214, 0.0652124238331037, 0.03357251026151498, 0.009593053964140523, 0.003769834990546939, 0.027164426500180555, 0.12333018350187287, 0.8413152827132916, 0.006888614353540218, 0.993094036360374, 0.01425776864233339, 0.9857318023945458, 0.326920178071619, 0.33001063453269464, 0.11067175164662627, 0.07224986050892959, 0.13247199857475414, 0.11935844007775769, 1.297156455148759, 0.10225015969177095, 0.1146750646563973, 0.061996871689933536, 0.028913434669395905, 0.015892815083177882, 0.005723115471720014, 0.5205482016601248, 0.149971155985704, 0.06981722450963604, 0.2391684543801747, 1.475398011453426, 0.1263823710720856, 1.000003366780798, 0.0011787472329227236, 0.0013471396947688271, 0.010281295309381534, 1.418538098591575, 0.33816074817465075, 0.18858863866539058, 0.1837980558999809, 0.14075915495974653, 0.09351179386105467, 0.02480224025358517, 0.02345667816210556, 0.06589914200505285, 0.021056615282622423, 0.010139430653880047, 0.29328841366676794, 0.2681120036535682, 0.108608191071527, 0.15503368271286178, 0.04735144711423623, 0.006026692948625819, 0.12157955006691369, 0.31827809928508566, 0.2226152469494336, 0.15919739843933187, 0.07260049040477892, 0.08130904832554504, 0.010663242613199396, 0.013442104060278034, 0.07553251744342881, 0.03861231627515568, 0.007745802773746756, 0.4204682951299343, 0.2585223033337955, 1.098144930171383, 0.3073031953859793, 0.2816809086514989, 0.050751837185605345, 1.5366802223576816, 0.08137496232557988, 0.02805631748278219, 0.022351920982133528, 0.038916290995678914, 0.02674247688933833, 0.8025570318711441, 0.26751593097274706, 0.3972720715624295, 0.08464465993607319, 1.397970830577438, 0.16807664566102787, 3.571568086586286, 0.19394110269632472, 0.2566701695457042, 0.08491170519795478, 0.08650075612529351, 0.3780403415846161, 0.1363123767266292, 0.03326755005944621, 0.04777404723482877, 0.03834226108546343, 0.1434449444527119, 0.05733513708089977, 0.24354938055161782, 0.249975485579365, 0.18735666214231755, 0.09010827272241034, 0.340797769971525, 1.9148364959347073, 0.39277781952930213, 0.162706763739117, 0.08349944997819508, 0.15962106580994226, 0.052132054487636664, 0.4616946525607341, 0.08036735057640115, 0.34844255480730935, 2.2768918667581075, 0.2736809338524844, 11.631439688730586, 2.3856967258262904, 0.014213074290191025, 0.01623399579082756, 0.00861667628842831, 0.9454803512978011, 0.015478926219161164, 4.892541453000141, 5.070043425655157, 1.7580492537123409, 2.774442978269228, 2.8932362881339544, 4.6466989275658035, 1.0306122288264101, 0.03594970006951614, 0.07919574518485373, 0.016264769164643665, 0.022370391234237313, 0.016138096507598152, 0.6857297616501714, 0.6135010126028209, 0.09603260940638828, 0.0826113099901637, 0.46587361699371, 0.29634506912822905, 0.04344125632521849, 0.015661076421002028, 1.0000001634069398, 0.027151109467070507, 0.0502425310558907, 0.018159575700920198, 0.011867578631304623, 0.002938341865843577, 0.8896427011764702, 0.14919155251041746, 0.10226944824562935, 0.047310961482452105, 0.13000792977232728, 0.18742917891404312, 0.7090163268740083, 1.991856287947511, 0.4085593166922987, 0.09193640966351474, 0.05250587477594472, 0.010621157219023875, 0.01734289086341254, 0.057196090544037424, 0.04124390319325702, 0.9290853868754093, 0.033304567570367614, 0.03549754525038567, 0.0351696233543082, 0.006968340291646147, 0.8890577456215242, 1.0000083316298414, 69.19693909274775, 23.709387585506025, 46.99101227480234, 27.76684446867169, 20.085984229376688, 37.662006758934616, 15.739158328186807, 12.631586699839772, 2.3515146732316516, 1.173028569951211, 1.704455877884909, 0.9421066909581987, 1.6478339695941555, 3.055536472702224, 0.006832031430635538, 0.02139132599661058, 0.9717975741852275, 0.004908433668090445, 0.011159017167299373, 0.046476731294731406, 0.9374724834672431, 0.29125865944817575, 0.18954144341696139, 0.07400874495308567, 0.15085615495018942, 0.12883470223669763, 0.040652008616723065, 0.13180900315312613, 0.06171432194674116, 0.015772514306011714, 0.27542794648594077, 0.5504273225157311, 0.1335711255001839, 0.1308568459445652, 0.4797131972509279, 0.259427982789662, 1.3088541730830856, 0.377142001412284, 3.6186938910486712, 3.2101952340192206, 2.351165903802948, 0.8187486480654586, 2.8139559150356694, 2.130497818976749, 7.676096950739903, 1.1024647571277137, 0.8848615068129903, 0.07928981650592808, 0.13571117529619842, 0.09615999023059363, 3.6235258696834416, 0.6843667140972658, 0.17825767544603355, 0.8217360021385007, 0.019851831948407634, 0.012959438069894115, 0.020633742178323033, 0.013480711556504382, 0.012351285668848805, 0.13800715558006793, 0.40421862922811636, 0.3785169503744157, 2.0680524270114393, 1.3892164259546032, 1.7702730659530503, 0.7709457186723547, 2.6484698256845705, 0.5728467369513078, 2.8901001123061025, 0.5100404582453465, 0.37623236212975897, 0.048668715845158826, 0.3108101920847301, 0.18446637040381034, 0.15753186541253694, 0.10595427791269142, 0.01901743449714974, 0.36366318671404485, 0.29677177154125417, 0.1260102363290246, 0.08220107005388708, 0.45245918502440424, 0.2447189449455263, 3.4684611966004044, 0.7115456522429595, 0.17251658164891345, 0.6088595659397709, 0.21860838124108914, 0.11430384031064697, 0.06528323177833846, 0.6630437323797289, 0.06298493618542904, 0.08657883144934726, 0.007796749606325626, 0.09466938610012703, 0.07664125160716645, 0.5347929025271502, 0.02657487703451912, 0.04174124993239189, 0.06020298466703244, 0.08540961205002809, 0.07997515568763912, 0.09492795435559653, 0.1192975639406257, 0.19765115649770862, 0.09062921577041126, 0.06417078250666532, 0.010890642295918315, 0.4325227291255953, 0.029576532378352168, 0.11868453960013273, 0.6357039495579423, 0.3877401896556669, 0.2914254518412475, 0.21245270282997838, 0.3650355243149271, 0.2632247100490477, 0.3319523456750711, 1.1189851575275804, 0.04767712921727632, 0.153036381192108, 0.05189428830070818, 0.06698811272645701, 0.010942281361692181, 0.00714658484598324, 1.2751167982459723, 41.770705552860136, 28.29374206316375, 10.300813614639281, 13.453319694100424, 12.33418003589172, 24.156077833871002, 1.2577988016109227, 0.8351116979589095, 2.8379045373419314, 0.5560997251385364, 0.764236242794194, 0.09172117727198467, 0.7895301951314831, 0.7449297399515676, 1.5820110565089658, 0.19031797286696814, 0.14946259407620574, 0.4581476782730771, 0.4077593777644702, 1.145652913590962, 0.23503191521019143, 0.38997828620031166, 1.3634584554376432, 0.046683010245426856, 0.38125649868125794, 0.125751018409963, 0.28724706763571994, 0.16428416162938886, 0.32819877692878013, 0.3561269688709991, 0.18081888461493892, 0.05184234411685955, 0.3642060743354047, 0.07708317045197095, 0.04320195343071629, 0.24271333679382734, 0.1861255812568222, 0.06331718078480944, 0.3845360491565256, 0.5521525539498034, 0.027808930678773797, 0.0186795237842293, 0.02381218572494095, 0.010370501380208383, 0.9193565168803395, 1.0000015368577708, 1.0000077897255895, 1.000001122179317, 0.9999920974156951, 1.000002063007998, 1.0000010321453627, 0.9999911590128578, 0.9999956332321829, 1.000006546932913], \"Term\": [\"10\", \"10\", \"10\", \"10\", \"10\", \"10\", \"10\", \"11\", \"11\", \"11\", \"11\", \"11\", \"11\", \"15\", \"15\", \"15\", \"15\", \"15\", \"15\", \"15\", \"15\", \"20\", \"20\", \"20\", \"20\", \"20\", \"20\", \"20\", \"20\", \"addiction\", \"addiction\", \"addiction\", \"addiction\", \"addiction\", \"addiction\", \"ah\", \"ah\", \"ah\", \"ah\", \"ah\", \"ah\", \"ash\", \"ask\", \"ask\", \"ask\", \"ask\", \"ask\", \"ask\", \"ask\", \"available\", \"available\", \"available\", \"available\", \"available\", \"bad\", \"bad\", \"bad\", \"bad\", \"bad\", \"bad\", \"bad\", \"barry\", \"barry\", \"barry\", \"barry\", \"bee\", \"bee\", \"bee\", \"bee\", \"best\", \"best\", \"best\", \"best\", \"best\", \"best\", \"best\", \"best\", \"best\", \"best\", \"bug\", \"bug\", \"bug\", \"bug\", \"bug\", \"butter\", \"butter\", \"butter\", \"cancer\", \"cancer\", \"cancer\", \"cancer\", \"cancer\", \"cancer\", \"cancer\", \"cancer\", \"carry\", \"carry\", \"carry\", \"carry\", \"carry\", \"carry\", \"cat\", \"cat\", \"cat\", \"cat\", \"cat\", \"choose\", \"choose\", \"choose\", \"choose\", \"choose\", \"choose\", \"choose\", \"classic\", \"classic\", \"classic\", \"come\", \"come\", \"come\", \"come\", \"come\", \"come\", \"come\", \"come\", \"come\", \"community\", \"community\", \"community\", \"community\", \"community\", \"community\", \"community\", \"community\", \"competitive\", \"competitive\", \"competitive\", \"competitive\", \"competitive\", \"competitive\", \"cost\", \"cost\", \"cost\", \"cost\", \"cost\", \"cost\", \"cost\", \"cost\", \"crash\", \"crash\", \"crash\", \"crash\", \"crash\", \"crash\", \"crashes\", \"crashes\", \"crashes\", \"crashing\", \"crashing\", \"crashing\", \"crust\", \"day\", \"day\", \"day\", \"day\", \"day\", \"day\", \"day\", \"day\", \"day\", \"day\", \"decade\", \"decade\", \"decade\", \"decade\", \"decade\", \"destroyed\", \"destroyed\", \"destroyed\", \"destroyed\", \"destroyed\", \"destroyed\", \"destroyed\", \"destroyed\", \"disease\", \"disease\", \"disease\", \"disease\", \"disease\", \"disease\", \"disney\", \"disney\", \"durring\", \"eat\", \"eat\", \"eat\", \"eat\", \"eat\", \"eat\", \"eating\", \"eating\", \"eating\", \"eating\", \"eating\", \"eating\", \"eggs\", \"eggs\", \"eggs\", \"english\", \"english\", \"english\", \"english\", \"et\", \"et\", \"et\", \"et\", \"et\", \"favorite\", \"favorite\", \"favorite\", \"favorite\", \"favorite\", \"favorite\", \"feed\", \"feed\", \"feed\", \"feed\", \"feed\", \"feed\", \"fix\", \"fix\", \"fix\", \"fix\", \"fix\", \"fix\", \"fix\", \"fix\", \"flour\", \"food\", \"food\", \"food\", \"food\", \"food\", \"fun\", \"fun\", \"fun\", \"fun\", \"fun\", \"fun\", \"fun\", \"gg\", \"gg\", \"gg\", \"gg\", \"gg\", \"gg\", \"gold\", \"gold\", \"gold\", \"gold\", \"gold\", \"gold\", \"gold\", \"good\", \"good\", \"good\", \"good\", \"good\", \"good\", \"good\", \"good\", \"good\", \"good\", \"greatest\", \"greatest\", \"greatest\", \"greatest\", \"greatest\", \"gud\", \"gud\", \"gud\", \"gud\", \"gud\", \"hang\", \"hang\", \"hang\", \"hang\", \"hang\", \"hang\", \"hard\", \"hard\", \"hard\", \"hard\", \"hard\", \"hard\", \"hard\", \"hard\", \"hate\", \"hate\", \"hate\", \"hate\", \"hate\", \"hate\", \"hate\", \"hate\", \"hate\", \"hats\", \"hats\", \"hats\", \"hi\", \"hi\", \"hi\", \"hi\", \"hi\", \"hi\", \"hi\", \"hi\", \"hours\", \"hours\", \"hours\", \"hours\", \"hours\", \"hours\", \"inactive\", \"inactive\", \"inactive\", \"ingredients\", \"ingredients\", \"ingredients\", \"install\", \"install\", \"install\", \"install\", \"install\", \"install\", \"internet\", \"internet\", \"internet\", \"internet\", \"internet\", \"internet\", \"issue\", \"issue\", \"issue\", \"issue\", \"issue\", \"items\", \"items\", \"items\", \"items\", \"items\", \"items\", \"joke\", \"joke\", \"joke\", \"joke\", \"joke\", \"joke\", \"joke\", \"joke\", \"kill\", \"kill\", \"kill\", \"kill\", \"kill\", \"kill\", \"kill\", \"know\", \"know\", \"know\", \"know\", \"know\", \"know\", \"know\", \"know\", \"know\", \"learning\", \"learning\", \"learning\", \"learning\", \"learning\", \"learning\", \"legend\", \"legend\", \"legend\", \"legend\", \"legend\", \"legend\", \"level\", \"level\", \"level\", \"level\", \"level\", \"level\", \"level\", \"life\", \"life\", \"life\", \"life\", \"life\", \"life\", \"life\", \"life\", \"life\", \"life\", \"like\", \"like\", \"like\", \"like\", \"like\", \"like\", \"like\", \"like\", \"like\", \"like\", \"making\", \"making\", \"making\", \"making\", \"making\", \"making\", \"making\", \"making\", \"masterpiece\", \"masterpiece\", \"masterpiece\", \"masterpiece\", \"masterpiece\", \"masterpiece\", \"masterpiece\", \"mid\", \"mid\", \"mid\", \"mid\", \"mid\", \"mid\", \"mid\", \"mid\", \"middle\", \"middle\", \"middle\", \"middle\", \"middle\", \"middle\", \"middle\", \"middle\", \"middle\", \"miss\", \"miss\", \"miss\", \"miss\", \"miss\", \"miss\", \"miss\", \"miss\", \"moba\", \"moba\", \"moba\", \"moba\", \"moba\", \"moba\", \"moba\", \"moba\", \"money\", \"money\", \"money\", \"money\", \"money\", \"money\", \"money\", \"money\", \"money\", \"na\", \"na\", \"na\", \"na\", \"na\", \"new\", \"new\", \"new\", \"new\", \"new\", \"new\", \"new\", \"new\", \"new\", \"nice\", \"nice\", \"nice\", \"nice\", \"nice\", \"nice\", \"nice\", \"nostalgic\", \"nostalgic\", \"nostalgic\", \"ok\", \"ok\", \"ok\", \"ok\", \"ok\", \"ok\", \"ok\", \"ok\", \"old\", \"old\", \"old\", \"old\", \"old\", \"old\", \"old\", \"old\", \"oven\", \"oven\", \"pancakes\", \"pancakes\", \"past\", \"past\", \"past\", \"past\", \"past\", \"past\", \"past\", \"pay\", \"pay\", \"pay\", \"pay\", \"pay\", \"pay\", \"pay\", \"pay\", \"pc\", \"pc\", \"pc\", \"pc\", \"pill\", \"pills\", \"pills\", \"pills\", \"pills\", \"play\", \"play\", \"play\", \"play\", \"play\", \"play\", \"play\", \"play\", \"play\", \"play\", \"players\", \"players\", \"players\", \"players\", \"players\", \"players\", \"players\", \"playing\", \"playing\", \"playing\", \"playing\", \"playing\", \"playing\", \"playing\", \"playing\", \"playing\", \"playing\", \"problems\", \"problems\", \"problems\", \"problems\", \"problems\", \"problems\", \"problems\", \"ranks\", \"ranks\", \"ranks\", \"ranks\", \"ranks\", \"ranks\", \"realized\", \"realized\", \"realized\", \"realized\", \"realized\", \"realized\", \"recommend\", \"recommend\", \"recommend\", \"recommend\", \"recommend\", \"recommend\", \"recommend\", \"recommend\", \"recommend\", \"remove\", \"remove\", \"remove\", \"remove\", \"remove\", \"remove\", \"remove\", \"remove\", \"remove\", \"ruined\", \"ruined\", \"ruined\", \"ruined\", \"ruined\", \"ruined\", \"rule\", \"rule\", \"rule\", \"rule\", \"rule\", \"russian\", \"russian\", \"russian\", \"russian\", \"russian\", \"say\", \"say\", \"say\", \"say\", \"say\", \"say\", \"say\", \"school\", \"school\", \"school\", \"school\", \"school\", \"school\", \"school\", \"server\", \"server\", \"server\", \"server\", \"server\", \"server\", \"sfx\", \"skins\", \"skins\", \"skins\", \"skins\", \"skins\", \"skins\", \"sold\", \"sold\", \"sold\", \"sold\", \"sold\", \"sold\", \"sold\", \"sold\", \"soul\", \"soul\", \"soul\", \"soul\", \"soul\", \"soul\", \"soul\", \"stand\", \"stand\", \"stand\", \"stand\", \"stand\", \"steven\", \"stop\", \"stop\", \"stop\", \"stop\", \"stop\", \"stop\", \"stop\", \"stop\", \"suck\", \"suck\", \"suck\", \"suck\", \"suck\", \"suck\", \"swag\", \"swag\", \"swag\", \"table\", \"table\", \"table\", \"table\", \"team\", \"team\", \"team\", \"team\", \"team\", \"team\", \"team\", \"team\", \"team\", \"test\", \"test\", \"test\", \"test\", \"test\", \"test\", \"test\", \"test\", \"thing\", \"thing\", \"thing\", \"thing\", \"thing\", \"thing\", \"thing\", \"thing\", \"thing\", \"thumbs\", \"thumbs\", \"thumbs\", \"thumbs\", \"thumbs\", \"tin\", \"tin\", \"tinker\", \"tinker\", \"tinker\", \"tinker\", \"tinker\", \"tinker\", \"tinker\", \"tinker\", \"totally\", \"totally\", \"totally\", \"totally\", \"totally\", \"totally\", \"totally\", \"toxic\", \"toxic\", \"toxic\", \"toxic\", \"toxic\", \"toxic\", \"toxic\", \"toxic\", \"turned\", \"turned\", \"turned\", \"turned\", \"turned\", \"turned\", \"turned\", \"turned\", \"uma\", \"uma\", \"uma\", \"uninstall\", \"uninstall\", \"uninstall\", \"uninstall\", \"uninstall\", \"uninstall\", \"update\", \"update\", \"update\", \"update\", \"update\", \"update\", \"update\", \"update\", \"valve\", \"valve\", \"valve\", \"valve\", \"valve\", \"valve\", \"valve\", \"valve\", \"valve\", \"want\", \"want\", \"want\", \"want\", \"want\", \"want\", \"want\", \"want\", \"want\", \"want\", \"watching\", \"watching\", \"watching\", \"watching\", \"watching\", \"winning\", \"winning\", \"winning\", \"winning\", \"winning\", \"winning\", \"wont\", \"wont\", \"wont\", \"wont\", \"wont\", \"wont\", \"work\", \"work\", \"work\", \"work\", \"work\", \"work\", \"work\", \"work\", \"work\", \"world\", \"world\", \"world\", \"world\", \"world\", \"world\", \"world\", \"years\", \"years\", \"years\", \"years\", \"years\", \"years\", \"years\", \"years\", \"years\", \"yellow\", \"yellow\", \"yellow\", \"youre\", \"youre\", \"youre\", \"youre\", \"youre\", \"\\u0432\\u0441\\u0435\", \"\\u0434\\u043b\\u044f\", \"\\u0438\\u0433\\u0440\\u0430\", \"\\u043a\\u0430\\u043a\", \"\\u043d\\u0430\", \"\\u043d\\u0435\", \"\\u043d\\u043e\", \"\\u0447\\u0442\\u043e\", \"\\u044d\\u0442\\u043e\"]}, \"R\": 10, \"lambda.step\": 0.01, \"plot.opts\": {\"xlab\": \"PC1\", \"ylab\": \"PC2\"}, \"topic.order\": [1, 2, 3, 6, 4, 5, 10, 7, 9, 8, 11]};\n",
       "\n",
       "function LDAvis_load_lib(url, callback){\n",
       "  var s = document.createElement('script');\n",
       "  s.src = url;\n",
       "  s.async = true;\n",
       "  s.onreadystatechange = s.onload = callback;\n",
       "  s.onerror = function(){console.warn(\"failed to load library \" + url);};\n",
       "  document.getElementsByTagName(\"head\")[0].appendChild(s);\n",
       "}\n",
       "\n",
       "if(typeof(LDAvis) !== \"undefined\"){\n",
       "   // already loaded: just create the visualization\n",
       "   !function(LDAvis){\n",
       "       new LDAvis(\"#\" + \"ldavis_el866221406621229787686082601386\", ldavis_el866221406621229787686082601386_data);\n",
       "   }(LDAvis);\n",
       "}else if(typeof define === \"function\" && define.amd){\n",
       "   // require.js is available: use it to load d3/LDAvis\n",
       "   require.config({paths: {d3: \"https://d3js.org/d3.v5\"}});\n",
       "   require([\"d3\"], function(d3){\n",
       "      window.d3 = d3;\n",
       "      LDAvis_load_lib(\"https://cdn.jsdelivr.net/gh/bmabey/pyLDAvis@3.4.0/pyLDAvis/js/ldavis.v3.0.0.js\", function(){\n",
       "        new LDAvis(\"#\" + \"ldavis_el866221406621229787686082601386\", ldavis_el866221406621229787686082601386_data);\n",
       "      });\n",
       "    });\n",
       "}else{\n",
       "    // require.js not available: dynamically load d3 & LDAvis\n",
       "    LDAvis_load_lib(\"https://d3js.org/d3.v5.js\", function(){\n",
       "         LDAvis_load_lib(\"https://cdn.jsdelivr.net/gh/bmabey/pyLDAvis@3.4.0/pyLDAvis/js/ldavis.v3.0.0.js\", function(){\n",
       "                 new LDAvis(\"#\" + \"ldavis_el866221406621229787686082601386\", ldavis_el866221406621229787686082601386_data);\n",
       "            })\n",
       "         });\n",
       "}\n",
       "</script>"
      ],
      "text/plain": [
       "<IPython.core.display.HTML object>"
      ]
     },
     "execution_count": 85,
     "metadata": {},
     "output_type": "execute_result"
    }
   ],
   "source": [
    "# Prepare data for PyLDAVis\n",
    "\n",
    "# ref: https://github.com/rafaelvalero/different_notebooks/blob/master/bertopics_pyldavis.ipynb\n",
    "\n",
    "top_n = N_TOPICS      # !! change the number of topics to match the model\n",
    "R = 10\n",
    "\n",
    "topic_term_dists = topic_model.c_tf_idf_.toarray()[:top_n+1, ]\n",
    "new_probs = probs[:, :top_n]\n",
    "outlier = np.array(1 - new_probs.sum(axis=1)).reshape(-1, 1)\n",
    "doc_topic_dists = np.hstack((new_probs, outlier))\n",
    "doc_lengths = [len(doc) for doc in X]\n",
    "vocab = [word for word in topic_model.vectorizer_model.vocabulary_.keys()]\n",
    "term_frequency = [topic_model.vectorizer_model.vocabulary_[word] for word in vocab]\n",
    "\n",
    "data = {'topic_term_dists': topic_term_dists,\n",
    "        'doc_topic_dists': doc_topic_dists,\n",
    "        'doc_lengths': doc_lengths,\n",
    "        'vocab': vocab,\n",
    "        'term_frequency': term_frequency}\n",
    "\n",
    "# Visualize using pyLDAvis\n",
    "vis_data= pyLDAvis.prepare(**data,R=R, n_jobs = 1, mds='mmds')\n",
    "\n",
    "save_html = False\n",
    "if save_html:\n",
    "    pyLDAvis.save_html(vis_data, str(eval_results_external_folder_path.joinpath(\n",
    "        f'pyLDAvis.html' if type(genre) == GENRES \\\n",
    "            else f'pyLDAvis.html'))\n",
    "    )\n",
    "\n",
    "pyLDAvis.display(vis_data)"
   ]
  },
  {
   "cell_type": "code",
   "execution_count": 86,
   "metadata": {},
   "outputs": [
    {
     "data": {
      "application/vnd.plotly.v1+json": {
       "config": {
        "plotlyServerURL": "https://plot.ly"
       },
       "data": [
        {
         "marker": {
          "color": "#D55E00"
         },
         "orientation": "h",
         "type": "bar",
         "x": [
          0.023041149233295134,
          0.023131496577783316,
          0.024439124772325568,
          0.025748534942474727,
          0.027291984114174467,
          0.02833442522524682,
          0.03230865852922239,
          0.033342425719370176,
          0.03599587707328024,
          0.054032456962749824
         ],
         "xaxis": "x",
         "y": [
          "fun  ",
          "toxic  ",
          "new  ",
          "playing  ",
          "community  ",
          "players  ",
          "like  ",
          "play  ",
          "moba  ",
          "best  "
         ],
         "yaxis": "y"
        },
        {
         "marker": {
          "color": "#0072B2"
         },
         "orientation": "h",
         "type": "bar",
         "x": [
          0.024404880639916693,
          0.024639236922570328,
          0.027803691001850546,
          0.02823330676789759,
          0.028591633155663706,
          0.029008212427079787,
          0.03621585964743676,
          0.041644048530395,
          0.05012018992958976,
          0.060002170820725294
         ],
         "xaxis": "x2",
         "y": [
          "crashes  ",
          "uninstall  ",
          "pc  ",
          "valve  ",
          "bad  ",
          "server  ",
          "new  ",
          "play  ",
          "fix  ",
          "update  "
         ],
         "yaxis": "y2"
        },
        {
         "marker": {
          "color": "#CC79A7"
         },
         "orientation": "h",
         "type": "bar",
         "x": [
          0.025160866821062593,
          0.025548653369344653,
          0.02749151562451722,
          0.027955793739648155,
          0.02818138895937246,
          0.03051859101602854,
          0.03572131761156934,
          0.03787476661267291,
          0.060231719635857876,
          0.33395739589056284
         ],
         "xaxis": "x3",
         "y": [
          "play  ",
          "ruined  ",
          "years  ",
          "11  ",
          "mid  ",
          "kill  ",
          "cat  ",
          "recommend  ",
          "life  ",
          "10  "
         ],
         "yaxis": "y3"
        },
        {
         "marker": {
          "color": "#E69F00"
         },
         "orientation": "h",
         "type": "bar",
         "x": [
          0.05476589147645567,
          0.05710143662280442,
          0.058037548668486996,
          0.05946808903423292,
          0.05968821446342024,
          0.05968821446342024,
          0.06075207475502156,
          0.06433962417154009,
          0.08126142738858676,
          0.11642975987477662
         ],
         "xaxis": "x4",
         "y": [
          "nice  ",
          "watching  ",
          "youre  ",
          "disney  ",
          "steven  ",
          "ash  ",
          "life  ",
          "hi  ",
          "hate  ",
          "good  "
         ],
         "yaxis": "y4"
        },
        {
         "marker": {
          "color": "#56B4E9"
         },
         "orientation": "h",
         "type": "bar",
         "x": [
          0.037725655045901696,
          0.03986699382743044,
          0.043583971873984766,
          0.045176666893271655,
          0.04658924950417261,
          0.052656035921124916,
          0.07081618036577599,
          0.0838720733994179,
          0.13432150963512038,
          0.13928317997273457
         ],
         "xaxis": "x5",
         "y": [
          "все  ",
          "для  ",
          "как  ",
          "это  ",
          "russian  ",
          "но  ",
          "что  ",
          "на  ",
          "игра  ",
          "не  "
         ],
         "yaxis": "y5"
        },
        {
         "marker": {
          "color": "#009E73"
         },
         "orientation": "h",
         "type": "bar",
         "x": [
          0.05703299572139001,
          0.0584929022126364,
          0.0584929022126364,
          0.058988484317413055,
          0.08377776953109953,
          0.09602249819583855,
          0.1026749226372139,
          0.13701784942404066,
          0.20619400116804323,
          0.24950115992394598
         ],
         "xaxis": "x6",
         "y": [
          "want  ",
          "durring  ",
          "pill  ",
          "stand  ",
          "sfx  ",
          "ingredients  ",
          "inactive  ",
          "disease  ",
          "pills  ",
          "barry  "
         ],
         "yaxis": "y6"
        },
        {
         "marker": {
          "color": "#F0E442"
         },
         "orientation": "h",
         "type": "bar",
         "x": [
          0.05102215901278557,
          0.05641527732959501,
          0.05641527732959501,
          0.056776645354660746,
          0.057303730353514104,
          0.06705237232357883,
          0.07038385259052318,
          0.07227390810257388,
          0.07401097732952226,
          0.13083364002054587
         ],
         "xaxis": "x7",
         "y": [
          "crust  ",
          "tin  ",
          "pancakes  ",
          "barry  ",
          "flour  ",
          "eggs  ",
          "mixture  ",
          "bowl  ",
          "sugar  ",
          "soul  "
         ],
         "yaxis": "y7"
        },
        {
         "marker": {
          "color": "#D55E00"
         },
         "orientation": "h",
         "type": "bar",
         "x": [
          0.045668566891933625,
          0.04626556062066094,
          0.04738710912103844,
          0.07840142997600531,
          0.08406268142296418,
          0.09190015314230562,
          0.09282806505648365,
          0.12635575073680538,
          0.2088635753721211,
          0.24957970575372218
         ],
         "xaxis": "x8",
         "y": [
          "school  ",
          "miss  ",
          "al  ",
          "gold  ",
          "greatest  ",
          "best  ",
          "masterpiece  ",
          "barry  ",
          "classic  ",
          "old  "
         ],
         "yaxis": "y8"
        },
        {
         "marker": {
          "color": "#0072B2"
         },
         "orientation": "h",
         "type": "bar",
         "x": [
          0.03784821986863344,
          0.03889271517886824,
          0.038947203113423964,
          0.04388869521295155,
          0.049483455151316344,
          0.04954645510489617,
          0.05407540720688326,
          0.0654268306371676,
          0.07748308291759039,
          0.11616922592328735
         ],
         "xaxis": "x9",
         "y": [
          "tinker  ",
          "cap  ",
          "available  ",
          "hats  ",
          "need  ",
          "items  ",
          "buy  ",
          "ranks  ",
          "valve  ",
          "skins  "
         ],
         "yaxis": "y9"
        },
        {
         "marker": {
          "color": "#CC79A7"
         },
         "orientation": "h",
         "type": "bar",
         "x": [
          0.03387754443825249,
          0.034435483802102845,
          0.0374727662577533,
          0.03754138082492271,
          0.03799420432395236,
          0.04029960146199047,
          0.05030242751721851,
          0.05039608069131048,
          0.06496730008341049,
          0.06823338501898914
         ],
         "xaxis": "x10",
         "y": [
          "chicken  ",
          "meat  ",
          "crack  ",
          "tsp  ",
          "heroin  ",
          "addictive  ",
          "meth  ",
          "water  ",
          "addiction  ",
          "ether  "
         ],
         "yaxis": "y10"
        }
       ],
       "layout": {
        "annotations": [
         {
          "font": {
           "size": 16
          },
          "showarrow": false,
          "text": "Topic 0",
          "x": 0.0875,
          "xanchor": "center",
          "xref": "paper",
          "y": 1,
          "yanchor": "bottom",
          "yref": "paper"
         },
         {
          "font": {
           "size": 16
          },
          "showarrow": false,
          "text": "Topic 1",
          "x": 0.36250000000000004,
          "xanchor": "center",
          "xref": "paper",
          "y": 1,
          "yanchor": "bottom",
          "yref": "paper"
         },
         {
          "font": {
           "size": 16
          },
          "showarrow": false,
          "text": "Topic 2",
          "x": 0.6375000000000001,
          "xanchor": "center",
          "xref": "paper",
          "y": 1,
          "yanchor": "bottom",
          "yref": "paper"
         },
         {
          "font": {
           "size": 16
          },
          "showarrow": false,
          "text": "Topic 3",
          "x": 0.9125,
          "xanchor": "center",
          "xref": "paper",
          "y": 1,
          "yanchor": "bottom",
          "yref": "paper"
         },
         {
          "font": {
           "size": 16
          },
          "showarrow": false,
          "text": "Topic 4",
          "x": 0.0875,
          "xanchor": "center",
          "xref": "paper",
          "y": 0.6222222222222222,
          "yanchor": "bottom",
          "yref": "paper"
         },
         {
          "font": {
           "size": 16
          },
          "showarrow": false,
          "text": "Topic 5",
          "x": 0.36250000000000004,
          "xanchor": "center",
          "xref": "paper",
          "y": 0.6222222222222222,
          "yanchor": "bottom",
          "yref": "paper"
         },
         {
          "font": {
           "size": 16
          },
          "showarrow": false,
          "text": "Topic 6",
          "x": 0.6375000000000001,
          "xanchor": "center",
          "xref": "paper",
          "y": 0.6222222222222222,
          "yanchor": "bottom",
          "yref": "paper"
         },
         {
          "font": {
           "size": 16
          },
          "showarrow": false,
          "text": "Topic 7",
          "x": 0.9125,
          "xanchor": "center",
          "xref": "paper",
          "y": 0.6222222222222222,
          "yanchor": "bottom",
          "yref": "paper"
         },
         {
          "font": {
           "size": 16
          },
          "showarrow": false,
          "text": "Topic 8",
          "x": 0.0875,
          "xanchor": "center",
          "xref": "paper",
          "y": 0.24444444444444446,
          "yanchor": "bottom",
          "yref": "paper"
         },
         {
          "font": {
           "size": 16
          },
          "showarrow": false,
          "text": "Topic 9",
          "x": 0.36250000000000004,
          "xanchor": "center",
          "xref": "paper",
          "y": 0.24444444444444446,
          "yanchor": "bottom",
          "yref": "paper"
         }
        ],
        "height": 750,
        "hoverlabel": {
         "bgcolor": "white",
         "font": {
          "family": "Rockwell",
          "size": 16
         }
        },
        "showlegend": false,
        "template": {
         "data": {
          "bar": [
           {
            "error_x": {
             "color": "#2a3f5f"
            },
            "error_y": {
             "color": "#2a3f5f"
            },
            "marker": {
             "line": {
              "color": "white",
              "width": 0.5
             },
             "pattern": {
              "fillmode": "overlay",
              "size": 10,
              "solidity": 0.2
             }
            },
            "type": "bar"
           }
          ],
          "barpolar": [
           {
            "marker": {
             "line": {
              "color": "white",
              "width": 0.5
             },
             "pattern": {
              "fillmode": "overlay",
              "size": 10,
              "solidity": 0.2
             }
            },
            "type": "barpolar"
           }
          ],
          "carpet": [
           {
            "aaxis": {
             "endlinecolor": "#2a3f5f",
             "gridcolor": "#C8D4E3",
             "linecolor": "#C8D4E3",
             "minorgridcolor": "#C8D4E3",
             "startlinecolor": "#2a3f5f"
            },
            "baxis": {
             "endlinecolor": "#2a3f5f",
             "gridcolor": "#C8D4E3",
             "linecolor": "#C8D4E3",
             "minorgridcolor": "#C8D4E3",
             "startlinecolor": "#2a3f5f"
            },
            "type": "carpet"
           }
          ],
          "choropleth": [
           {
            "colorbar": {
             "outlinewidth": 0,
             "ticks": ""
            },
            "type": "choropleth"
           }
          ],
          "contour": [
           {
            "colorbar": {
             "outlinewidth": 0,
             "ticks": ""
            },
            "colorscale": [
             [
              0,
              "#0d0887"
             ],
             [
              0.1111111111111111,
              "#46039f"
             ],
             [
              0.2222222222222222,
              "#7201a8"
             ],
             [
              0.3333333333333333,
              "#9c179e"
             ],
             [
              0.4444444444444444,
              "#bd3786"
             ],
             [
              0.5555555555555556,
              "#d8576b"
             ],
             [
              0.6666666666666666,
              "#ed7953"
             ],
             [
              0.7777777777777778,
              "#fb9f3a"
             ],
             [
              0.8888888888888888,
              "#fdca26"
             ],
             [
              1,
              "#f0f921"
             ]
            ],
            "type": "contour"
           }
          ],
          "contourcarpet": [
           {
            "colorbar": {
             "outlinewidth": 0,
             "ticks": ""
            },
            "type": "contourcarpet"
           }
          ],
          "heatmap": [
           {
            "colorbar": {
             "outlinewidth": 0,
             "ticks": ""
            },
            "colorscale": [
             [
              0,
              "#0d0887"
             ],
             [
              0.1111111111111111,
              "#46039f"
             ],
             [
              0.2222222222222222,
              "#7201a8"
             ],
             [
              0.3333333333333333,
              "#9c179e"
             ],
             [
              0.4444444444444444,
              "#bd3786"
             ],
             [
              0.5555555555555556,
              "#d8576b"
             ],
             [
              0.6666666666666666,
              "#ed7953"
             ],
             [
              0.7777777777777778,
              "#fb9f3a"
             ],
             [
              0.8888888888888888,
              "#fdca26"
             ],
             [
              1,
              "#f0f921"
             ]
            ],
            "type": "heatmap"
           }
          ],
          "heatmapgl": [
           {
            "colorbar": {
             "outlinewidth": 0,
             "ticks": ""
            },
            "colorscale": [
             [
              0,
              "#0d0887"
             ],
             [
              0.1111111111111111,
              "#46039f"
             ],
             [
              0.2222222222222222,
              "#7201a8"
             ],
             [
              0.3333333333333333,
              "#9c179e"
             ],
             [
              0.4444444444444444,
              "#bd3786"
             ],
             [
              0.5555555555555556,
              "#d8576b"
             ],
             [
              0.6666666666666666,
              "#ed7953"
             ],
             [
              0.7777777777777778,
              "#fb9f3a"
             ],
             [
              0.8888888888888888,
              "#fdca26"
             ],
             [
              1,
              "#f0f921"
             ]
            ],
            "type": "heatmapgl"
           }
          ],
          "histogram": [
           {
            "marker": {
             "pattern": {
              "fillmode": "overlay",
              "size": 10,
              "solidity": 0.2
             }
            },
            "type": "histogram"
           }
          ],
          "histogram2d": [
           {
            "colorbar": {
             "outlinewidth": 0,
             "ticks": ""
            },
            "colorscale": [
             [
              0,
              "#0d0887"
             ],
             [
              0.1111111111111111,
              "#46039f"
             ],
             [
              0.2222222222222222,
              "#7201a8"
             ],
             [
              0.3333333333333333,
              "#9c179e"
             ],
             [
              0.4444444444444444,
              "#bd3786"
             ],
             [
              0.5555555555555556,
              "#d8576b"
             ],
             [
              0.6666666666666666,
              "#ed7953"
             ],
             [
              0.7777777777777778,
              "#fb9f3a"
             ],
             [
              0.8888888888888888,
              "#fdca26"
             ],
             [
              1,
              "#f0f921"
             ]
            ],
            "type": "histogram2d"
           }
          ],
          "histogram2dcontour": [
           {
            "colorbar": {
             "outlinewidth": 0,
             "ticks": ""
            },
            "colorscale": [
             [
              0,
              "#0d0887"
             ],
             [
              0.1111111111111111,
              "#46039f"
             ],
             [
              0.2222222222222222,
              "#7201a8"
             ],
             [
              0.3333333333333333,
              "#9c179e"
             ],
             [
              0.4444444444444444,
              "#bd3786"
             ],
             [
              0.5555555555555556,
              "#d8576b"
             ],
             [
              0.6666666666666666,
              "#ed7953"
             ],
             [
              0.7777777777777778,
              "#fb9f3a"
             ],
             [
              0.8888888888888888,
              "#fdca26"
             ],
             [
              1,
              "#f0f921"
             ]
            ],
            "type": "histogram2dcontour"
           }
          ],
          "mesh3d": [
           {
            "colorbar": {
             "outlinewidth": 0,
             "ticks": ""
            },
            "type": "mesh3d"
           }
          ],
          "parcoords": [
           {
            "line": {
             "colorbar": {
              "outlinewidth": 0,
              "ticks": ""
             }
            },
            "type": "parcoords"
           }
          ],
          "pie": [
           {
            "automargin": true,
            "type": "pie"
           }
          ],
          "scatter": [
           {
            "fillpattern": {
             "fillmode": "overlay",
             "size": 10,
             "solidity": 0.2
            },
            "type": "scatter"
           }
          ],
          "scatter3d": [
           {
            "line": {
             "colorbar": {
              "outlinewidth": 0,
              "ticks": ""
             }
            },
            "marker": {
             "colorbar": {
              "outlinewidth": 0,
              "ticks": ""
             }
            },
            "type": "scatter3d"
           }
          ],
          "scattercarpet": [
           {
            "marker": {
             "colorbar": {
              "outlinewidth": 0,
              "ticks": ""
             }
            },
            "type": "scattercarpet"
           }
          ],
          "scattergeo": [
           {
            "marker": {
             "colorbar": {
              "outlinewidth": 0,
              "ticks": ""
             }
            },
            "type": "scattergeo"
           }
          ],
          "scattergl": [
           {
            "marker": {
             "colorbar": {
              "outlinewidth": 0,
              "ticks": ""
             }
            },
            "type": "scattergl"
           }
          ],
          "scattermapbox": [
           {
            "marker": {
             "colorbar": {
              "outlinewidth": 0,
              "ticks": ""
             }
            },
            "type": "scattermapbox"
           }
          ],
          "scatterpolar": [
           {
            "marker": {
             "colorbar": {
              "outlinewidth": 0,
              "ticks": ""
             }
            },
            "type": "scatterpolar"
           }
          ],
          "scatterpolargl": [
           {
            "marker": {
             "colorbar": {
              "outlinewidth": 0,
              "ticks": ""
             }
            },
            "type": "scatterpolargl"
           }
          ],
          "scatterternary": [
           {
            "marker": {
             "colorbar": {
              "outlinewidth": 0,
              "ticks": ""
             }
            },
            "type": "scatterternary"
           }
          ],
          "surface": [
           {
            "colorbar": {
             "outlinewidth": 0,
             "ticks": ""
            },
            "colorscale": [
             [
              0,
              "#0d0887"
             ],
             [
              0.1111111111111111,
              "#46039f"
             ],
             [
              0.2222222222222222,
              "#7201a8"
             ],
             [
              0.3333333333333333,
              "#9c179e"
             ],
             [
              0.4444444444444444,
              "#bd3786"
             ],
             [
              0.5555555555555556,
              "#d8576b"
             ],
             [
              0.6666666666666666,
              "#ed7953"
             ],
             [
              0.7777777777777778,
              "#fb9f3a"
             ],
             [
              0.8888888888888888,
              "#fdca26"
             ],
             [
              1,
              "#f0f921"
             ]
            ],
            "type": "surface"
           }
          ],
          "table": [
           {
            "cells": {
             "fill": {
              "color": "#EBF0F8"
             },
             "line": {
              "color": "white"
             }
            },
            "header": {
             "fill": {
              "color": "#C8D4E3"
             },
             "line": {
              "color": "white"
             }
            },
            "type": "table"
           }
          ]
         },
         "layout": {
          "annotationdefaults": {
           "arrowcolor": "#2a3f5f",
           "arrowhead": 0,
           "arrowwidth": 1
          },
          "autotypenumbers": "strict",
          "coloraxis": {
           "colorbar": {
            "outlinewidth": 0,
            "ticks": ""
           }
          },
          "colorscale": {
           "diverging": [
            [
             0,
             "#8e0152"
            ],
            [
             0.1,
             "#c51b7d"
            ],
            [
             0.2,
             "#de77ae"
            ],
            [
             0.3,
             "#f1b6da"
            ],
            [
             0.4,
             "#fde0ef"
            ],
            [
             0.5,
             "#f7f7f7"
            ],
            [
             0.6,
             "#e6f5d0"
            ],
            [
             0.7,
             "#b8e186"
            ],
            [
             0.8,
             "#7fbc41"
            ],
            [
             0.9,
             "#4d9221"
            ],
            [
             1,
             "#276419"
            ]
           ],
           "sequential": [
            [
             0,
             "#0d0887"
            ],
            [
             0.1111111111111111,
             "#46039f"
            ],
            [
             0.2222222222222222,
             "#7201a8"
            ],
            [
             0.3333333333333333,
             "#9c179e"
            ],
            [
             0.4444444444444444,
             "#bd3786"
            ],
            [
             0.5555555555555556,
             "#d8576b"
            ],
            [
             0.6666666666666666,
             "#ed7953"
            ],
            [
             0.7777777777777778,
             "#fb9f3a"
            ],
            [
             0.8888888888888888,
             "#fdca26"
            ],
            [
             1,
             "#f0f921"
            ]
           ],
           "sequentialminus": [
            [
             0,
             "#0d0887"
            ],
            [
             0.1111111111111111,
             "#46039f"
            ],
            [
             0.2222222222222222,
             "#7201a8"
            ],
            [
             0.3333333333333333,
             "#9c179e"
            ],
            [
             0.4444444444444444,
             "#bd3786"
            ],
            [
             0.5555555555555556,
             "#d8576b"
            ],
            [
             0.6666666666666666,
             "#ed7953"
            ],
            [
             0.7777777777777778,
             "#fb9f3a"
            ],
            [
             0.8888888888888888,
             "#fdca26"
            ],
            [
             1,
             "#f0f921"
            ]
           ]
          },
          "colorway": [
           "#636efa",
           "#EF553B",
           "#00cc96",
           "#ab63fa",
           "#FFA15A",
           "#19d3f3",
           "#FF6692",
           "#B6E880",
           "#FF97FF",
           "#FECB52"
          ],
          "font": {
           "color": "#2a3f5f"
          },
          "geo": {
           "bgcolor": "white",
           "lakecolor": "white",
           "landcolor": "white",
           "showlakes": true,
           "showland": true,
           "subunitcolor": "#C8D4E3"
          },
          "hoverlabel": {
           "align": "left"
          },
          "hovermode": "closest",
          "mapbox": {
           "style": "light"
          },
          "paper_bgcolor": "white",
          "plot_bgcolor": "white",
          "polar": {
           "angularaxis": {
            "gridcolor": "#EBF0F8",
            "linecolor": "#EBF0F8",
            "ticks": ""
           },
           "bgcolor": "white",
           "radialaxis": {
            "gridcolor": "#EBF0F8",
            "linecolor": "#EBF0F8",
            "ticks": ""
           }
          },
          "scene": {
           "xaxis": {
            "backgroundcolor": "white",
            "gridcolor": "#DFE8F3",
            "gridwidth": 2,
            "linecolor": "#EBF0F8",
            "showbackground": true,
            "ticks": "",
            "zerolinecolor": "#EBF0F8"
           },
           "yaxis": {
            "backgroundcolor": "white",
            "gridcolor": "#DFE8F3",
            "gridwidth": 2,
            "linecolor": "#EBF0F8",
            "showbackground": true,
            "ticks": "",
            "zerolinecolor": "#EBF0F8"
           },
           "zaxis": {
            "backgroundcolor": "white",
            "gridcolor": "#DFE8F3",
            "gridwidth": 2,
            "linecolor": "#EBF0F8",
            "showbackground": true,
            "ticks": "",
            "zerolinecolor": "#EBF0F8"
           }
          },
          "shapedefaults": {
           "line": {
            "color": "#2a3f5f"
           }
          },
          "ternary": {
           "aaxis": {
            "gridcolor": "#DFE8F3",
            "linecolor": "#A2B1C6",
            "ticks": ""
           },
           "baxis": {
            "gridcolor": "#DFE8F3",
            "linecolor": "#A2B1C6",
            "ticks": ""
           },
           "bgcolor": "white",
           "caxis": {
            "gridcolor": "#DFE8F3",
            "linecolor": "#A2B1C6",
            "ticks": ""
           }
          },
          "title": {
           "x": 0.05
          },
          "xaxis": {
           "automargin": true,
           "gridcolor": "#EBF0F8",
           "linecolor": "#EBF0F8",
           "ticks": "",
           "title": {
            "standoff": 15
           },
           "zerolinecolor": "#EBF0F8",
           "zerolinewidth": 2
          },
          "yaxis": {
           "automargin": true,
           "gridcolor": "#EBF0F8",
           "linecolor": "#EBF0F8",
           "ticks": "",
           "title": {
            "standoff": 15
           },
           "zerolinecolor": "#EBF0F8",
           "zerolinewidth": 2
          }
         }
        },
        "title": {
         "font": {
          "color": "Black",
          "size": 22
         },
         "text": "Topic Word Scores",
         "x": 0.5,
         "xanchor": "center",
         "yanchor": "top"
        },
        "width": 1000,
        "xaxis": {
         "anchor": "y",
         "domain": [
          0,
          0.175
         ],
         "showgrid": true
        },
        "xaxis10": {
         "anchor": "y10",
         "domain": [
          0.275,
          0.45
         ],
         "showgrid": true
        },
        "xaxis11": {
         "anchor": "y11",
         "domain": [
          0.55,
          0.7250000000000001
         ],
         "showgrid": true
        },
        "xaxis12": {
         "anchor": "y12",
         "domain": [
          0.825,
          1
         ],
         "showgrid": true
        },
        "xaxis2": {
         "anchor": "y2",
         "domain": [
          0.275,
          0.45
         ],
         "showgrid": true
        },
        "xaxis3": {
         "anchor": "y3",
         "domain": [
          0.55,
          0.7250000000000001
         ],
         "showgrid": true
        },
        "xaxis4": {
         "anchor": "y4",
         "domain": [
          0.825,
          1
         ],
         "showgrid": true
        },
        "xaxis5": {
         "anchor": "y5",
         "domain": [
          0,
          0.175
         ],
         "showgrid": true
        },
        "xaxis6": {
         "anchor": "y6",
         "domain": [
          0.275,
          0.45
         ],
         "showgrid": true
        },
        "xaxis7": {
         "anchor": "y7",
         "domain": [
          0.55,
          0.7250000000000001
         ],
         "showgrid": true
        },
        "xaxis8": {
         "anchor": "y8",
         "domain": [
          0.825,
          1
         ],
         "showgrid": true
        },
        "xaxis9": {
         "anchor": "y9",
         "domain": [
          0,
          0.175
         ],
         "showgrid": true
        },
        "yaxis": {
         "anchor": "x",
         "domain": [
          0.7555555555555555,
          1
         ],
         "showgrid": true
        },
        "yaxis10": {
         "anchor": "x10",
         "domain": [
          0,
          0.24444444444444446
         ],
         "showgrid": true
        },
        "yaxis11": {
         "anchor": "x11",
         "domain": [
          0,
          0.24444444444444446
         ],
         "showgrid": true
        },
        "yaxis12": {
         "anchor": "x12",
         "domain": [
          0,
          0.24444444444444446
         ],
         "showgrid": true
        },
        "yaxis2": {
         "anchor": "x2",
         "domain": [
          0.7555555555555555,
          1
         ],
         "showgrid": true
        },
        "yaxis3": {
         "anchor": "x3",
         "domain": [
          0.7555555555555555,
          1
         ],
         "showgrid": true
        },
        "yaxis4": {
         "anchor": "x4",
         "domain": [
          0.7555555555555555,
          1
         ],
         "showgrid": true
        },
        "yaxis5": {
         "anchor": "x5",
         "domain": [
          0.37777777777777777,
          0.6222222222222222
         ],
         "showgrid": true
        },
        "yaxis6": {
         "anchor": "x6",
         "domain": [
          0.37777777777777777,
          0.6222222222222222
         ],
         "showgrid": true
        },
        "yaxis7": {
         "anchor": "x7",
         "domain": [
          0.37777777777777777,
          0.6222222222222222
         ],
         "showgrid": true
        },
        "yaxis8": {
         "anchor": "x8",
         "domain": [
          0.37777777777777777,
          0.6222222222222222
         ],
         "showgrid": true
        },
        "yaxis9": {
         "anchor": "x9",
         "domain": [
          0,
          0.24444444444444446
         ],
         "showgrid": true
        }
       }
      },
      "text/html": [
       "<div>                            <div id=\"7d86f748-a6a1-4ea1-9199-927f92942306\" class=\"plotly-graph-div\" style=\"height:750px; width:1000px;\"></div>            <script type=\"text/javascript\">                require([\"plotly\"], function(Plotly) {                    window.PLOTLYENV=window.PLOTLYENV || {};                                    if (document.getElementById(\"7d86f748-a6a1-4ea1-9199-927f92942306\")) {                    Plotly.newPlot(                        \"7d86f748-a6a1-4ea1-9199-927f92942306\",                        [{\"marker\":{\"color\":\"#D55E00\"},\"orientation\":\"h\",\"x\":[0.023041149233295134,0.023131496577783316,0.024439124772325568,0.025748534942474727,0.027291984114174467,0.02833442522524682,0.03230865852922239,0.033342425719370176,0.03599587707328024,0.054032456962749824],\"y\":[\"fun  \",\"toxic  \",\"new  \",\"playing  \",\"community  \",\"players  \",\"like  \",\"play  \",\"moba  \",\"best  \"],\"type\":\"bar\",\"xaxis\":\"x\",\"yaxis\":\"y\"},{\"marker\":{\"color\":\"#0072B2\"},\"orientation\":\"h\",\"x\":[0.024404880639916693,0.024639236922570328,0.027803691001850546,0.02823330676789759,0.028591633155663706,0.029008212427079787,0.03621585964743676,0.041644048530395,0.05012018992958976,0.060002170820725294],\"y\":[\"crashes  \",\"uninstall  \",\"pc  \",\"valve  \",\"bad  \",\"server  \",\"new  \",\"play  \",\"fix  \",\"update  \"],\"type\":\"bar\",\"xaxis\":\"x2\",\"yaxis\":\"y2\"},{\"marker\":{\"color\":\"#CC79A7\"},\"orientation\":\"h\",\"x\":[0.025160866821062593,0.025548653369344653,0.02749151562451722,0.027955793739648155,0.02818138895937246,0.03051859101602854,0.03572131761156934,0.03787476661267291,0.060231719635857876,0.33395739589056284],\"y\":[\"play  \",\"ruined  \",\"years  \",\"11  \",\"mid  \",\"kill  \",\"cat  \",\"recommend  \",\"life  \",\"10  \"],\"type\":\"bar\",\"xaxis\":\"x3\",\"yaxis\":\"y3\"},{\"marker\":{\"color\":\"#E69F00\"},\"orientation\":\"h\",\"x\":[0.05476589147645567,0.05710143662280442,0.058037548668486996,0.05946808903423292,0.05968821446342024,0.05968821446342024,0.06075207475502156,0.06433962417154009,0.08126142738858676,0.11642975987477662],\"y\":[\"nice  \",\"watching  \",\"youre  \",\"disney  \",\"steven  \",\"ash  \",\"life  \",\"hi  \",\"hate  \",\"good  \"],\"type\":\"bar\",\"xaxis\":\"x4\",\"yaxis\":\"y4\"},{\"marker\":{\"color\":\"#56B4E9\"},\"orientation\":\"h\",\"x\":[0.037725655045901696,0.03986699382743044,0.043583971873984766,0.045176666893271655,0.04658924950417261,0.052656035921124916,0.07081618036577599,0.0838720733994179,0.13432150963512038,0.13928317997273457],\"y\":[\"\\u0432\\u0441\\u0435  \",\"\\u0434\\u043b\\u044f  \",\"\\u043a\\u0430\\u043a  \",\"\\u044d\\u0442\\u043e  \",\"russian  \",\"\\u043d\\u043e  \",\"\\u0447\\u0442\\u043e  \",\"\\u043d\\u0430  \",\"\\u0438\\u0433\\u0440\\u0430  \",\"\\u043d\\u0435  \"],\"type\":\"bar\",\"xaxis\":\"x5\",\"yaxis\":\"y5\"},{\"marker\":{\"color\":\"#009E73\"},\"orientation\":\"h\",\"x\":[0.05703299572139001,0.0584929022126364,0.0584929022126364,0.058988484317413055,0.08377776953109953,0.09602249819583855,0.1026749226372139,0.13701784942404066,0.20619400116804323,0.24950115992394598],\"y\":[\"want  \",\"durring  \",\"pill  \",\"stand  \",\"sfx  \",\"ingredients  \",\"inactive  \",\"disease  \",\"pills  \",\"barry  \"],\"type\":\"bar\",\"xaxis\":\"x6\",\"yaxis\":\"y6\"},{\"marker\":{\"color\":\"#F0E442\"},\"orientation\":\"h\",\"x\":[0.05102215901278557,0.05641527732959501,0.05641527732959501,0.056776645354660746,0.057303730353514104,0.06705237232357883,0.07038385259052318,0.07227390810257388,0.07401097732952226,0.13083364002054587],\"y\":[\"crust  \",\"tin  \",\"pancakes  \",\"barry  \",\"flour  \",\"eggs  \",\"mixture  \",\"bowl  \",\"sugar  \",\"soul  \"],\"type\":\"bar\",\"xaxis\":\"x7\",\"yaxis\":\"y7\"},{\"marker\":{\"color\":\"#D55E00\"},\"orientation\":\"h\",\"x\":[0.045668566891933625,0.04626556062066094,0.04738710912103844,0.07840142997600531,0.08406268142296418,0.09190015314230562,0.09282806505648365,0.12635575073680538,0.2088635753721211,0.24957970575372218],\"y\":[\"school  \",\"miss  \",\"al  \",\"gold  \",\"greatest  \",\"best  \",\"masterpiece  \",\"barry  \",\"classic  \",\"old  \"],\"type\":\"bar\",\"xaxis\":\"x8\",\"yaxis\":\"y8\"},{\"marker\":{\"color\":\"#0072B2\"},\"orientation\":\"h\",\"x\":[0.03784821986863344,0.03889271517886824,0.038947203113423964,0.04388869521295155,0.049483455151316344,0.04954645510489617,0.05407540720688326,0.0654268306371676,0.07748308291759039,0.11616922592328735],\"y\":[\"tinker  \",\"cap  \",\"available  \",\"hats  \",\"need  \",\"items  \",\"buy  \",\"ranks  \",\"valve  \",\"skins  \"],\"type\":\"bar\",\"xaxis\":\"x9\",\"yaxis\":\"y9\"},{\"marker\":{\"color\":\"#CC79A7\"},\"orientation\":\"h\",\"x\":[0.03387754443825249,0.034435483802102845,0.0374727662577533,0.03754138082492271,0.03799420432395236,0.04029960146199047,0.05030242751721851,0.05039608069131048,0.06496730008341049,0.06823338501898914],\"y\":[\"chicken  \",\"meat  \",\"crack  \",\"tsp  \",\"heroin  \",\"addictive  \",\"meth  \",\"water  \",\"addiction  \",\"ether  \"],\"type\":\"bar\",\"xaxis\":\"x10\",\"yaxis\":\"y10\"}],                        {\"template\":{\"data\":{\"barpolar\":[{\"marker\":{\"line\":{\"color\":\"white\",\"width\":0.5},\"pattern\":{\"fillmode\":\"overlay\",\"size\":10,\"solidity\":0.2}},\"type\":\"barpolar\"}],\"bar\":[{\"error_x\":{\"color\":\"#2a3f5f\"},\"error_y\":{\"color\":\"#2a3f5f\"},\"marker\":{\"line\":{\"color\":\"white\",\"width\":0.5},\"pattern\":{\"fillmode\":\"overlay\",\"size\":10,\"solidity\":0.2}},\"type\":\"bar\"}],\"carpet\":[{\"aaxis\":{\"endlinecolor\":\"#2a3f5f\",\"gridcolor\":\"#C8D4E3\",\"linecolor\":\"#C8D4E3\",\"minorgridcolor\":\"#C8D4E3\",\"startlinecolor\":\"#2a3f5f\"},\"baxis\":{\"endlinecolor\":\"#2a3f5f\",\"gridcolor\":\"#C8D4E3\",\"linecolor\":\"#C8D4E3\",\"minorgridcolor\":\"#C8D4E3\",\"startlinecolor\":\"#2a3f5f\"},\"type\":\"carpet\"}],\"choropleth\":[{\"colorbar\":{\"outlinewidth\":0,\"ticks\":\"\"},\"type\":\"choropleth\"}],\"contourcarpet\":[{\"colorbar\":{\"outlinewidth\":0,\"ticks\":\"\"},\"type\":\"contourcarpet\"}],\"contour\":[{\"colorbar\":{\"outlinewidth\":0,\"ticks\":\"\"},\"colorscale\":[[0.0,\"#0d0887\"],[0.1111111111111111,\"#46039f\"],[0.2222222222222222,\"#7201a8\"],[0.3333333333333333,\"#9c179e\"],[0.4444444444444444,\"#bd3786\"],[0.5555555555555556,\"#d8576b\"],[0.6666666666666666,\"#ed7953\"],[0.7777777777777778,\"#fb9f3a\"],[0.8888888888888888,\"#fdca26\"],[1.0,\"#f0f921\"]],\"type\":\"contour\"}],\"heatmapgl\":[{\"colorbar\":{\"outlinewidth\":0,\"ticks\":\"\"},\"colorscale\":[[0.0,\"#0d0887\"],[0.1111111111111111,\"#46039f\"],[0.2222222222222222,\"#7201a8\"],[0.3333333333333333,\"#9c179e\"],[0.4444444444444444,\"#bd3786\"],[0.5555555555555556,\"#d8576b\"],[0.6666666666666666,\"#ed7953\"],[0.7777777777777778,\"#fb9f3a\"],[0.8888888888888888,\"#fdca26\"],[1.0,\"#f0f921\"]],\"type\":\"heatmapgl\"}],\"heatmap\":[{\"colorbar\":{\"outlinewidth\":0,\"ticks\":\"\"},\"colorscale\":[[0.0,\"#0d0887\"],[0.1111111111111111,\"#46039f\"],[0.2222222222222222,\"#7201a8\"],[0.3333333333333333,\"#9c179e\"],[0.4444444444444444,\"#bd3786\"],[0.5555555555555556,\"#d8576b\"],[0.6666666666666666,\"#ed7953\"],[0.7777777777777778,\"#fb9f3a\"],[0.8888888888888888,\"#fdca26\"],[1.0,\"#f0f921\"]],\"type\":\"heatmap\"}],\"histogram2dcontour\":[{\"colorbar\":{\"outlinewidth\":0,\"ticks\":\"\"},\"colorscale\":[[0.0,\"#0d0887\"],[0.1111111111111111,\"#46039f\"],[0.2222222222222222,\"#7201a8\"],[0.3333333333333333,\"#9c179e\"],[0.4444444444444444,\"#bd3786\"],[0.5555555555555556,\"#d8576b\"],[0.6666666666666666,\"#ed7953\"],[0.7777777777777778,\"#fb9f3a\"],[0.8888888888888888,\"#fdca26\"],[1.0,\"#f0f921\"]],\"type\":\"histogram2dcontour\"}],\"histogram2d\":[{\"colorbar\":{\"outlinewidth\":0,\"ticks\":\"\"},\"colorscale\":[[0.0,\"#0d0887\"],[0.1111111111111111,\"#46039f\"],[0.2222222222222222,\"#7201a8\"],[0.3333333333333333,\"#9c179e\"],[0.4444444444444444,\"#bd3786\"],[0.5555555555555556,\"#d8576b\"],[0.6666666666666666,\"#ed7953\"],[0.7777777777777778,\"#fb9f3a\"],[0.8888888888888888,\"#fdca26\"],[1.0,\"#f0f921\"]],\"type\":\"histogram2d\"}],\"histogram\":[{\"marker\":{\"pattern\":{\"fillmode\":\"overlay\",\"size\":10,\"solidity\":0.2}},\"type\":\"histogram\"}],\"mesh3d\":[{\"colorbar\":{\"outlinewidth\":0,\"ticks\":\"\"},\"type\":\"mesh3d\"}],\"parcoords\":[{\"line\":{\"colorbar\":{\"outlinewidth\":0,\"ticks\":\"\"}},\"type\":\"parcoords\"}],\"pie\":[{\"automargin\":true,\"type\":\"pie\"}],\"scatter3d\":[{\"line\":{\"colorbar\":{\"outlinewidth\":0,\"ticks\":\"\"}},\"marker\":{\"colorbar\":{\"outlinewidth\":0,\"ticks\":\"\"}},\"type\":\"scatter3d\"}],\"scattercarpet\":[{\"marker\":{\"colorbar\":{\"outlinewidth\":0,\"ticks\":\"\"}},\"type\":\"scattercarpet\"}],\"scattergeo\":[{\"marker\":{\"colorbar\":{\"outlinewidth\":0,\"ticks\":\"\"}},\"type\":\"scattergeo\"}],\"scattergl\":[{\"marker\":{\"colorbar\":{\"outlinewidth\":0,\"ticks\":\"\"}},\"type\":\"scattergl\"}],\"scattermapbox\":[{\"marker\":{\"colorbar\":{\"outlinewidth\":0,\"ticks\":\"\"}},\"type\":\"scattermapbox\"}],\"scatterpolargl\":[{\"marker\":{\"colorbar\":{\"outlinewidth\":0,\"ticks\":\"\"}},\"type\":\"scatterpolargl\"}],\"scatterpolar\":[{\"marker\":{\"colorbar\":{\"outlinewidth\":0,\"ticks\":\"\"}},\"type\":\"scatterpolar\"}],\"scatter\":[{\"fillpattern\":{\"fillmode\":\"overlay\",\"size\":10,\"solidity\":0.2},\"type\":\"scatter\"}],\"scatterternary\":[{\"marker\":{\"colorbar\":{\"outlinewidth\":0,\"ticks\":\"\"}},\"type\":\"scatterternary\"}],\"surface\":[{\"colorbar\":{\"outlinewidth\":0,\"ticks\":\"\"},\"colorscale\":[[0.0,\"#0d0887\"],[0.1111111111111111,\"#46039f\"],[0.2222222222222222,\"#7201a8\"],[0.3333333333333333,\"#9c179e\"],[0.4444444444444444,\"#bd3786\"],[0.5555555555555556,\"#d8576b\"],[0.6666666666666666,\"#ed7953\"],[0.7777777777777778,\"#fb9f3a\"],[0.8888888888888888,\"#fdca26\"],[1.0,\"#f0f921\"]],\"type\":\"surface\"}],\"table\":[{\"cells\":{\"fill\":{\"color\":\"#EBF0F8\"},\"line\":{\"color\":\"white\"}},\"header\":{\"fill\":{\"color\":\"#C8D4E3\"},\"line\":{\"color\":\"white\"}},\"type\":\"table\"}]},\"layout\":{\"annotationdefaults\":{\"arrowcolor\":\"#2a3f5f\",\"arrowhead\":0,\"arrowwidth\":1},\"autotypenumbers\":\"strict\",\"coloraxis\":{\"colorbar\":{\"outlinewidth\":0,\"ticks\":\"\"}},\"colorscale\":{\"diverging\":[[0,\"#8e0152\"],[0.1,\"#c51b7d\"],[0.2,\"#de77ae\"],[0.3,\"#f1b6da\"],[0.4,\"#fde0ef\"],[0.5,\"#f7f7f7\"],[0.6,\"#e6f5d0\"],[0.7,\"#b8e186\"],[0.8,\"#7fbc41\"],[0.9,\"#4d9221\"],[1,\"#276419\"]],\"sequential\":[[0.0,\"#0d0887\"],[0.1111111111111111,\"#46039f\"],[0.2222222222222222,\"#7201a8\"],[0.3333333333333333,\"#9c179e\"],[0.4444444444444444,\"#bd3786\"],[0.5555555555555556,\"#d8576b\"],[0.6666666666666666,\"#ed7953\"],[0.7777777777777778,\"#fb9f3a\"],[0.8888888888888888,\"#fdca26\"],[1.0,\"#f0f921\"]],\"sequentialminus\":[[0.0,\"#0d0887\"],[0.1111111111111111,\"#46039f\"],[0.2222222222222222,\"#7201a8\"],[0.3333333333333333,\"#9c179e\"],[0.4444444444444444,\"#bd3786\"],[0.5555555555555556,\"#d8576b\"],[0.6666666666666666,\"#ed7953\"],[0.7777777777777778,\"#fb9f3a\"],[0.8888888888888888,\"#fdca26\"],[1.0,\"#f0f921\"]]},\"colorway\":[\"#636efa\",\"#EF553B\",\"#00cc96\",\"#ab63fa\",\"#FFA15A\",\"#19d3f3\",\"#FF6692\",\"#B6E880\",\"#FF97FF\",\"#FECB52\"],\"font\":{\"color\":\"#2a3f5f\"},\"geo\":{\"bgcolor\":\"white\",\"lakecolor\":\"white\",\"landcolor\":\"white\",\"showlakes\":true,\"showland\":true,\"subunitcolor\":\"#C8D4E3\"},\"hoverlabel\":{\"align\":\"left\"},\"hovermode\":\"closest\",\"mapbox\":{\"style\":\"light\"},\"paper_bgcolor\":\"white\",\"plot_bgcolor\":\"white\",\"polar\":{\"angularaxis\":{\"gridcolor\":\"#EBF0F8\",\"linecolor\":\"#EBF0F8\",\"ticks\":\"\"},\"bgcolor\":\"white\",\"radialaxis\":{\"gridcolor\":\"#EBF0F8\",\"linecolor\":\"#EBF0F8\",\"ticks\":\"\"}},\"scene\":{\"xaxis\":{\"backgroundcolor\":\"white\",\"gridcolor\":\"#DFE8F3\",\"gridwidth\":2,\"linecolor\":\"#EBF0F8\",\"showbackground\":true,\"ticks\":\"\",\"zerolinecolor\":\"#EBF0F8\"},\"yaxis\":{\"backgroundcolor\":\"white\",\"gridcolor\":\"#DFE8F3\",\"gridwidth\":2,\"linecolor\":\"#EBF0F8\",\"showbackground\":true,\"ticks\":\"\",\"zerolinecolor\":\"#EBF0F8\"},\"zaxis\":{\"backgroundcolor\":\"white\",\"gridcolor\":\"#DFE8F3\",\"gridwidth\":2,\"linecolor\":\"#EBF0F8\",\"showbackground\":true,\"ticks\":\"\",\"zerolinecolor\":\"#EBF0F8\"}},\"shapedefaults\":{\"line\":{\"color\":\"#2a3f5f\"}},\"ternary\":{\"aaxis\":{\"gridcolor\":\"#DFE8F3\",\"linecolor\":\"#A2B1C6\",\"ticks\":\"\"},\"baxis\":{\"gridcolor\":\"#DFE8F3\",\"linecolor\":\"#A2B1C6\",\"ticks\":\"\"},\"bgcolor\":\"white\",\"caxis\":{\"gridcolor\":\"#DFE8F3\",\"linecolor\":\"#A2B1C6\",\"ticks\":\"\"}},\"title\":{\"x\":0.05},\"xaxis\":{\"automargin\":true,\"gridcolor\":\"#EBF0F8\",\"linecolor\":\"#EBF0F8\",\"ticks\":\"\",\"title\":{\"standoff\":15},\"zerolinecolor\":\"#EBF0F8\",\"zerolinewidth\":2},\"yaxis\":{\"automargin\":true,\"gridcolor\":\"#EBF0F8\",\"linecolor\":\"#EBF0F8\",\"ticks\":\"\",\"title\":{\"standoff\":15},\"zerolinecolor\":\"#EBF0F8\",\"zerolinewidth\":2}}},\"xaxis\":{\"anchor\":\"y\",\"domain\":[0.0,0.175],\"showgrid\":true},\"yaxis\":{\"anchor\":\"x\",\"domain\":[0.7555555555555555,1.0],\"showgrid\":true},\"xaxis2\":{\"anchor\":\"y2\",\"domain\":[0.275,0.45],\"showgrid\":true},\"yaxis2\":{\"anchor\":\"x2\",\"domain\":[0.7555555555555555,1.0],\"showgrid\":true},\"xaxis3\":{\"anchor\":\"y3\",\"domain\":[0.55,0.7250000000000001],\"showgrid\":true},\"yaxis3\":{\"anchor\":\"x3\",\"domain\":[0.7555555555555555,1.0],\"showgrid\":true},\"xaxis4\":{\"anchor\":\"y4\",\"domain\":[0.825,1.0],\"showgrid\":true},\"yaxis4\":{\"anchor\":\"x4\",\"domain\":[0.7555555555555555,1.0],\"showgrid\":true},\"xaxis5\":{\"anchor\":\"y5\",\"domain\":[0.0,0.175],\"showgrid\":true},\"yaxis5\":{\"anchor\":\"x5\",\"domain\":[0.37777777777777777,0.6222222222222222],\"showgrid\":true},\"xaxis6\":{\"anchor\":\"y6\",\"domain\":[0.275,0.45],\"showgrid\":true},\"yaxis6\":{\"anchor\":\"x6\",\"domain\":[0.37777777777777777,0.6222222222222222],\"showgrid\":true},\"xaxis7\":{\"anchor\":\"y7\",\"domain\":[0.55,0.7250000000000001],\"showgrid\":true},\"yaxis7\":{\"anchor\":\"x7\",\"domain\":[0.37777777777777777,0.6222222222222222],\"showgrid\":true},\"xaxis8\":{\"anchor\":\"y8\",\"domain\":[0.825,1.0],\"showgrid\":true},\"yaxis8\":{\"anchor\":\"x8\",\"domain\":[0.37777777777777777,0.6222222222222222],\"showgrid\":true},\"xaxis9\":{\"anchor\":\"y9\",\"domain\":[0.0,0.175],\"showgrid\":true},\"yaxis9\":{\"anchor\":\"x9\",\"domain\":[0.0,0.24444444444444446],\"showgrid\":true},\"xaxis10\":{\"anchor\":\"y10\",\"domain\":[0.275,0.45],\"showgrid\":true},\"yaxis10\":{\"anchor\":\"x10\",\"domain\":[0.0,0.24444444444444446],\"showgrid\":true},\"xaxis11\":{\"anchor\":\"y11\",\"domain\":[0.55,0.7250000000000001],\"showgrid\":true},\"yaxis11\":{\"anchor\":\"x11\",\"domain\":[0.0,0.24444444444444446],\"showgrid\":true},\"xaxis12\":{\"anchor\":\"y12\",\"domain\":[0.825,1.0],\"showgrid\":true},\"yaxis12\":{\"anchor\":\"x12\",\"domain\":[0.0,0.24444444444444446],\"showgrid\":true},\"annotations\":[{\"font\":{\"size\":16},\"showarrow\":false,\"text\":\"Topic 0\",\"x\":0.0875,\"xanchor\":\"center\",\"xref\":\"paper\",\"y\":1.0,\"yanchor\":\"bottom\",\"yref\":\"paper\"},{\"font\":{\"size\":16},\"showarrow\":false,\"text\":\"Topic 1\",\"x\":0.36250000000000004,\"xanchor\":\"center\",\"xref\":\"paper\",\"y\":1.0,\"yanchor\":\"bottom\",\"yref\":\"paper\"},{\"font\":{\"size\":16},\"showarrow\":false,\"text\":\"Topic 2\",\"x\":0.6375000000000001,\"xanchor\":\"center\",\"xref\":\"paper\",\"y\":1.0,\"yanchor\":\"bottom\",\"yref\":\"paper\"},{\"font\":{\"size\":16},\"showarrow\":false,\"text\":\"Topic 3\",\"x\":0.9125,\"xanchor\":\"center\",\"xref\":\"paper\",\"y\":1.0,\"yanchor\":\"bottom\",\"yref\":\"paper\"},{\"font\":{\"size\":16},\"showarrow\":false,\"text\":\"Topic 4\",\"x\":0.0875,\"xanchor\":\"center\",\"xref\":\"paper\",\"y\":0.6222222222222222,\"yanchor\":\"bottom\",\"yref\":\"paper\"},{\"font\":{\"size\":16},\"showarrow\":false,\"text\":\"Topic 5\",\"x\":0.36250000000000004,\"xanchor\":\"center\",\"xref\":\"paper\",\"y\":0.6222222222222222,\"yanchor\":\"bottom\",\"yref\":\"paper\"},{\"font\":{\"size\":16},\"showarrow\":false,\"text\":\"Topic 6\",\"x\":0.6375000000000001,\"xanchor\":\"center\",\"xref\":\"paper\",\"y\":0.6222222222222222,\"yanchor\":\"bottom\",\"yref\":\"paper\"},{\"font\":{\"size\":16},\"showarrow\":false,\"text\":\"Topic 7\",\"x\":0.9125,\"xanchor\":\"center\",\"xref\":\"paper\",\"y\":0.6222222222222222,\"yanchor\":\"bottom\",\"yref\":\"paper\"},{\"font\":{\"size\":16},\"showarrow\":false,\"text\":\"Topic 8\",\"x\":0.0875,\"xanchor\":\"center\",\"xref\":\"paper\",\"y\":0.24444444444444446,\"yanchor\":\"bottom\",\"yref\":\"paper\"},{\"font\":{\"size\":16},\"showarrow\":false,\"text\":\"Topic 9\",\"x\":0.36250000000000004,\"xanchor\":\"center\",\"xref\":\"paper\",\"y\":0.24444444444444446,\"yanchor\":\"bottom\",\"yref\":\"paper\"}],\"title\":{\"font\":{\"size\":22,\"color\":\"Black\"},\"text\":\"Topic Word Scores\",\"x\":0.5,\"xanchor\":\"center\",\"yanchor\":\"top\"},\"hoverlabel\":{\"font\":{\"size\":16,\"family\":\"Rockwell\"},\"bgcolor\":\"white\"},\"showlegend\":false,\"width\":1000,\"height\":750},                        {\"responsive\": true}                    ).then(function(){\n",
       "                            \n",
       "var gd = document.getElementById('7d86f748-a6a1-4ea1-9199-927f92942306');\n",
       "var x = new MutationObserver(function (mutations, observer) {{\n",
       "        var display = window.getComputedStyle(gd).display;\n",
       "        if (!display || display === 'none') {{\n",
       "            console.log([gd, 'removed!']);\n",
       "            Plotly.purge(gd);\n",
       "            observer.disconnect();\n",
       "        }}\n",
       "}});\n",
       "\n",
       "// Listen for the removal of the full notebook cells\n",
       "var notebookContainer = gd.closest('#notebook-container');\n",
       "if (notebookContainer) {{\n",
       "    x.observe(notebookContainer, {childList: true});\n",
       "}}\n",
       "\n",
       "// Listen for the clearing of the current output cell\n",
       "var outputEl = gd.closest('.output');\n",
       "if (outputEl) {{\n",
       "    x.observe(outputEl, {childList: true});\n",
       "}}\n",
       "\n",
       "                        })                };                });            </script>        </div>"
      ]
     },
     "metadata": {},
     "output_type": "display_data"
    }
   ],
   "source": [
    "# visualize selecteed terms for a few topics\n",
    "# creating bar charts out of the c-TF-IDF scores for each topic representation.\n",
    "\n",
    "n_topics = training_result['best_hyperparameters']['bertopic_params']['nr_topics']\n",
    "\n",
    "fig = topic_model.visualize_barchart(top_n_topics=n_topics, n_words=10)\n",
    "# fig.write_html(str(eval_results_external_folder_path.joinpath(\n",
    "#     f'topwordscores.html' if type(genre) == GENRES \\\n",
    "#         else f'topwordscores.html')\n",
    "#         ))\n",
    "\n",
    "fig"
   ]
  },
  {
   "cell_type": "code",
   "execution_count": 87,
   "metadata": {},
   "outputs": [
    {
     "data": {
      "application/vnd.plotly.v1+json": {
       "config": {
        "plotlyServerURL": "https://plot.ly"
       },
       "data": [
        {
         "coloraxis": "coloraxis",
         "hovertemplate": "x: %{x}<br>y: %{y}<br>Similarity Score: %{z}<extra></extra>",
         "name": "0",
         "type": "heatmap",
         "x": [
          "0_best_moba_play",
          "1_update_fix_play",
          "2_10_life_recommend",
          "3_good_hate_hi",
          "4_не_игра_на",
          "5_barry_pills_disease",
          "6_soul_sugar_bowl",
          "7_old_classic_barry",
          "8_skins_valve_ranks",
          "9_ether_addiction_water"
         ],
         "xaxis": "x",
         "y": [
          "0_best_moba_play",
          "1_update_fix_play",
          "2_10_life_recommend",
          "3_good_hate_hi",
          "4_не_игра_на",
          "5_barry_pills_disease",
          "6_soul_sugar_bowl",
          "7_old_classic_barry",
          "8_skins_valve_ranks",
          "9_ether_addiction_water"
         ],
         "yaxis": "y",
         "z": [
          [
           1.000000238418579,
           0.6737081408500671,
           0.5606887340545654,
           0.4983192980289459,
           0.271510511636734,
           0.5362476110458374,
           0.3285275101661682,
           0.5749427676200867,
           0.6471920609474182,
           0.3583192229270935
          ],
          [
           0.6737081408500671,
           1,
           0.5760167837142944,
           0.45613884925842285,
           0.2554992437362671,
           0.4086792469024658,
           0.2956032156944275,
           0.3742794394493103,
           0.5770487785339355,
           0.3527219593524933
          ],
          [
           0.5606887340545654,
           0.5760167837142944,
           0.9999998807907104,
           0.7711028456687927,
           0.43936946988105774,
           0.5501314401626587,
           0.6397392749786377,
           0.6274714469909668,
           0.620482325553894,
           0.6750436425209045
          ],
          [
           0.4983192980289459,
           0.45613884925842285,
           0.7711028456687927,
           1,
           0.5021299123764038,
           0.5755319595336914,
           0.7035914659500122,
           0.6994810700416565,
           0.62337327003479,
           0.7209358811378479
          ],
          [
           0.271510511636734,
           0.2554992437362671,
           0.43936946988105774,
           0.5021299123764038,
           0.9999999403953552,
           0.28374218940734863,
           0.49194982647895813,
           0.4065161347389221,
           0.34330713748931885,
           0.37207019329071045
          ],
          [
           0.5362476110458374,
           0.4086792469024658,
           0.5501314401626587,
           0.5755319595336914,
           0.28374218940734863,
           0.9999998807907104,
           0.4662402868270874,
           0.5934419631958008,
           0.6138739585876465,
           0.4810788929462433
          ],
          [
           0.3285275101661682,
           0.2956032156944275,
           0.6397392749786377,
           0.7035914659500122,
           0.49194982647895813,
           0.4662402868270874,
           0.9999997615814209,
           0.5496158003807068,
           0.5302937030792236,
           0.6700167059898376
          ],
          [
           0.5749427676200867,
           0.3742794394493103,
           0.6274714469909668,
           0.6994810700416565,
           0.4065161347389221,
           0.5934419631958008,
           0.5496158003807068,
           1.0000001192092896,
           0.505891740322113,
           0.5268850922584534
          ],
          [
           0.6471920609474182,
           0.5770487785339355,
           0.620482325553894,
           0.62337327003479,
           0.34330713748931885,
           0.6138739585876465,
           0.5302937030792236,
           0.505891740322113,
           1.0000001192092896,
           0.46114233136177063
          ],
          [
           0.3583192229270935,
           0.3527219593524933,
           0.6750436425209045,
           0.7209358811378479,
           0.37207019329071045,
           0.4810788929462433,
           0.6700167059898376,
           0.5268850922584534,
           0.46114233136177063,
           0.9999998807907104
          ]
         ]
        }
       ],
       "layout": {
        "coloraxis": {
         "colorbar": {
          "title": {
           "text": "Similarity Score"
          }
         },
         "colorscale": [
          [
           0,
           "rgb(247,252,240)"
          ],
          [
           0.125,
           "rgb(224,243,219)"
          ],
          [
           0.25,
           "rgb(204,235,197)"
          ],
          [
           0.375,
           "rgb(168,221,181)"
          ],
          [
           0.5,
           "rgb(123,204,196)"
          ],
          [
           0.625,
           "rgb(78,179,211)"
          ],
          [
           0.75,
           "rgb(43,140,190)"
          ],
          [
           0.875,
           "rgb(8,104,172)"
          ],
          [
           1,
           "rgb(8,64,129)"
          ]
         ]
        },
        "height": 1000,
        "hoverlabel": {
         "bgcolor": "white",
         "font": {
          "family": "Rockwell",
          "size": 16
         }
        },
        "legend": {
         "title": {
          "text": "Trend"
         }
        },
        "margin": {
         "t": 60
        },
        "showlegend": true,
        "template": {
         "data": {
          "bar": [
           {
            "error_x": {
             "color": "#2a3f5f"
            },
            "error_y": {
             "color": "#2a3f5f"
            },
            "marker": {
             "line": {
              "color": "#E5ECF6",
              "width": 0.5
             },
             "pattern": {
              "fillmode": "overlay",
              "size": 10,
              "solidity": 0.2
             }
            },
            "type": "bar"
           }
          ],
          "barpolar": [
           {
            "marker": {
             "line": {
              "color": "#E5ECF6",
              "width": 0.5
             },
             "pattern": {
              "fillmode": "overlay",
              "size": 10,
              "solidity": 0.2
             }
            },
            "type": "barpolar"
           }
          ],
          "carpet": [
           {
            "aaxis": {
             "endlinecolor": "#2a3f5f",
             "gridcolor": "white",
             "linecolor": "white",
             "minorgridcolor": "white",
             "startlinecolor": "#2a3f5f"
            },
            "baxis": {
             "endlinecolor": "#2a3f5f",
             "gridcolor": "white",
             "linecolor": "white",
             "minorgridcolor": "white",
             "startlinecolor": "#2a3f5f"
            },
            "type": "carpet"
           }
          ],
          "choropleth": [
           {
            "colorbar": {
             "outlinewidth": 0,
             "ticks": ""
            },
            "type": "choropleth"
           }
          ],
          "contour": [
           {
            "colorbar": {
             "outlinewidth": 0,
             "ticks": ""
            },
            "colorscale": [
             [
              0,
              "#0d0887"
             ],
             [
              0.1111111111111111,
              "#46039f"
             ],
             [
              0.2222222222222222,
              "#7201a8"
             ],
             [
              0.3333333333333333,
              "#9c179e"
             ],
             [
              0.4444444444444444,
              "#bd3786"
             ],
             [
              0.5555555555555556,
              "#d8576b"
             ],
             [
              0.6666666666666666,
              "#ed7953"
             ],
             [
              0.7777777777777778,
              "#fb9f3a"
             ],
             [
              0.8888888888888888,
              "#fdca26"
             ],
             [
              1,
              "#f0f921"
             ]
            ],
            "type": "contour"
           }
          ],
          "contourcarpet": [
           {
            "colorbar": {
             "outlinewidth": 0,
             "ticks": ""
            },
            "type": "contourcarpet"
           }
          ],
          "heatmap": [
           {
            "colorbar": {
             "outlinewidth": 0,
             "ticks": ""
            },
            "colorscale": [
             [
              0,
              "#0d0887"
             ],
             [
              0.1111111111111111,
              "#46039f"
             ],
             [
              0.2222222222222222,
              "#7201a8"
             ],
             [
              0.3333333333333333,
              "#9c179e"
             ],
             [
              0.4444444444444444,
              "#bd3786"
             ],
             [
              0.5555555555555556,
              "#d8576b"
             ],
             [
              0.6666666666666666,
              "#ed7953"
             ],
             [
              0.7777777777777778,
              "#fb9f3a"
             ],
             [
              0.8888888888888888,
              "#fdca26"
             ],
             [
              1,
              "#f0f921"
             ]
            ],
            "type": "heatmap"
           }
          ],
          "heatmapgl": [
           {
            "colorbar": {
             "outlinewidth": 0,
             "ticks": ""
            },
            "colorscale": [
             [
              0,
              "#0d0887"
             ],
             [
              0.1111111111111111,
              "#46039f"
             ],
             [
              0.2222222222222222,
              "#7201a8"
             ],
             [
              0.3333333333333333,
              "#9c179e"
             ],
             [
              0.4444444444444444,
              "#bd3786"
             ],
             [
              0.5555555555555556,
              "#d8576b"
             ],
             [
              0.6666666666666666,
              "#ed7953"
             ],
             [
              0.7777777777777778,
              "#fb9f3a"
             ],
             [
              0.8888888888888888,
              "#fdca26"
             ],
             [
              1,
              "#f0f921"
             ]
            ],
            "type": "heatmapgl"
           }
          ],
          "histogram": [
           {
            "marker": {
             "pattern": {
              "fillmode": "overlay",
              "size": 10,
              "solidity": 0.2
             }
            },
            "type": "histogram"
           }
          ],
          "histogram2d": [
           {
            "colorbar": {
             "outlinewidth": 0,
             "ticks": ""
            },
            "colorscale": [
             [
              0,
              "#0d0887"
             ],
             [
              0.1111111111111111,
              "#46039f"
             ],
             [
              0.2222222222222222,
              "#7201a8"
             ],
             [
              0.3333333333333333,
              "#9c179e"
             ],
             [
              0.4444444444444444,
              "#bd3786"
             ],
             [
              0.5555555555555556,
              "#d8576b"
             ],
             [
              0.6666666666666666,
              "#ed7953"
             ],
             [
              0.7777777777777778,
              "#fb9f3a"
             ],
             [
              0.8888888888888888,
              "#fdca26"
             ],
             [
              1,
              "#f0f921"
             ]
            ],
            "type": "histogram2d"
           }
          ],
          "histogram2dcontour": [
           {
            "colorbar": {
             "outlinewidth": 0,
             "ticks": ""
            },
            "colorscale": [
             [
              0,
              "#0d0887"
             ],
             [
              0.1111111111111111,
              "#46039f"
             ],
             [
              0.2222222222222222,
              "#7201a8"
             ],
             [
              0.3333333333333333,
              "#9c179e"
             ],
             [
              0.4444444444444444,
              "#bd3786"
             ],
             [
              0.5555555555555556,
              "#d8576b"
             ],
             [
              0.6666666666666666,
              "#ed7953"
             ],
             [
              0.7777777777777778,
              "#fb9f3a"
             ],
             [
              0.8888888888888888,
              "#fdca26"
             ],
             [
              1,
              "#f0f921"
             ]
            ],
            "type": "histogram2dcontour"
           }
          ],
          "mesh3d": [
           {
            "colorbar": {
             "outlinewidth": 0,
             "ticks": ""
            },
            "type": "mesh3d"
           }
          ],
          "parcoords": [
           {
            "line": {
             "colorbar": {
              "outlinewidth": 0,
              "ticks": ""
             }
            },
            "type": "parcoords"
           }
          ],
          "pie": [
           {
            "automargin": true,
            "type": "pie"
           }
          ],
          "scatter": [
           {
            "fillpattern": {
             "fillmode": "overlay",
             "size": 10,
             "solidity": 0.2
            },
            "type": "scatter"
           }
          ],
          "scatter3d": [
           {
            "line": {
             "colorbar": {
              "outlinewidth": 0,
              "ticks": ""
             }
            },
            "marker": {
             "colorbar": {
              "outlinewidth": 0,
              "ticks": ""
             }
            },
            "type": "scatter3d"
           }
          ],
          "scattercarpet": [
           {
            "marker": {
             "colorbar": {
              "outlinewidth": 0,
              "ticks": ""
             }
            },
            "type": "scattercarpet"
           }
          ],
          "scattergeo": [
           {
            "marker": {
             "colorbar": {
              "outlinewidth": 0,
              "ticks": ""
             }
            },
            "type": "scattergeo"
           }
          ],
          "scattergl": [
           {
            "marker": {
             "colorbar": {
              "outlinewidth": 0,
              "ticks": ""
             }
            },
            "type": "scattergl"
           }
          ],
          "scattermapbox": [
           {
            "marker": {
             "colorbar": {
              "outlinewidth": 0,
              "ticks": ""
             }
            },
            "type": "scattermapbox"
           }
          ],
          "scatterpolar": [
           {
            "marker": {
             "colorbar": {
              "outlinewidth": 0,
              "ticks": ""
             }
            },
            "type": "scatterpolar"
           }
          ],
          "scatterpolargl": [
           {
            "marker": {
             "colorbar": {
              "outlinewidth": 0,
              "ticks": ""
             }
            },
            "type": "scatterpolargl"
           }
          ],
          "scatterternary": [
           {
            "marker": {
             "colorbar": {
              "outlinewidth": 0,
              "ticks": ""
             }
            },
            "type": "scatterternary"
           }
          ],
          "surface": [
           {
            "colorbar": {
             "outlinewidth": 0,
             "ticks": ""
            },
            "colorscale": [
             [
              0,
              "#0d0887"
             ],
             [
              0.1111111111111111,
              "#46039f"
             ],
             [
              0.2222222222222222,
              "#7201a8"
             ],
             [
              0.3333333333333333,
              "#9c179e"
             ],
             [
              0.4444444444444444,
              "#bd3786"
             ],
             [
              0.5555555555555556,
              "#d8576b"
             ],
             [
              0.6666666666666666,
              "#ed7953"
             ],
             [
              0.7777777777777778,
              "#fb9f3a"
             ],
             [
              0.8888888888888888,
              "#fdca26"
             ],
             [
              1,
              "#f0f921"
             ]
            ],
            "type": "surface"
           }
          ],
          "table": [
           {
            "cells": {
             "fill": {
              "color": "#EBF0F8"
             },
             "line": {
              "color": "white"
             }
            },
            "header": {
             "fill": {
              "color": "#C8D4E3"
             },
             "line": {
              "color": "white"
             }
            },
            "type": "table"
           }
          ]
         },
         "layout": {
          "annotationdefaults": {
           "arrowcolor": "#2a3f5f",
           "arrowhead": 0,
           "arrowwidth": 1
          },
          "autotypenumbers": "strict",
          "coloraxis": {
           "colorbar": {
            "outlinewidth": 0,
            "ticks": ""
           }
          },
          "colorscale": {
           "diverging": [
            [
             0,
             "#8e0152"
            ],
            [
             0.1,
             "#c51b7d"
            ],
            [
             0.2,
             "#de77ae"
            ],
            [
             0.3,
             "#f1b6da"
            ],
            [
             0.4,
             "#fde0ef"
            ],
            [
             0.5,
             "#f7f7f7"
            ],
            [
             0.6,
             "#e6f5d0"
            ],
            [
             0.7,
             "#b8e186"
            ],
            [
             0.8,
             "#7fbc41"
            ],
            [
             0.9,
             "#4d9221"
            ],
            [
             1,
             "#276419"
            ]
           ],
           "sequential": [
            [
             0,
             "#0d0887"
            ],
            [
             0.1111111111111111,
             "#46039f"
            ],
            [
             0.2222222222222222,
             "#7201a8"
            ],
            [
             0.3333333333333333,
             "#9c179e"
            ],
            [
             0.4444444444444444,
             "#bd3786"
            ],
            [
             0.5555555555555556,
             "#d8576b"
            ],
            [
             0.6666666666666666,
             "#ed7953"
            ],
            [
             0.7777777777777778,
             "#fb9f3a"
            ],
            [
             0.8888888888888888,
             "#fdca26"
            ],
            [
             1,
             "#f0f921"
            ]
           ],
           "sequentialminus": [
            [
             0,
             "#0d0887"
            ],
            [
             0.1111111111111111,
             "#46039f"
            ],
            [
             0.2222222222222222,
             "#7201a8"
            ],
            [
             0.3333333333333333,
             "#9c179e"
            ],
            [
             0.4444444444444444,
             "#bd3786"
            ],
            [
             0.5555555555555556,
             "#d8576b"
            ],
            [
             0.6666666666666666,
             "#ed7953"
            ],
            [
             0.7777777777777778,
             "#fb9f3a"
            ],
            [
             0.8888888888888888,
             "#fdca26"
            ],
            [
             1,
             "#f0f921"
            ]
           ]
          },
          "colorway": [
           "#636efa",
           "#EF553B",
           "#00cc96",
           "#ab63fa",
           "#FFA15A",
           "#19d3f3",
           "#FF6692",
           "#B6E880",
           "#FF97FF",
           "#FECB52"
          ],
          "font": {
           "color": "#2a3f5f"
          },
          "geo": {
           "bgcolor": "white",
           "lakecolor": "white",
           "landcolor": "#E5ECF6",
           "showlakes": true,
           "showland": true,
           "subunitcolor": "white"
          },
          "hoverlabel": {
           "align": "left"
          },
          "hovermode": "closest",
          "mapbox": {
           "style": "light"
          },
          "paper_bgcolor": "white",
          "plot_bgcolor": "#E5ECF6",
          "polar": {
           "angularaxis": {
            "gridcolor": "white",
            "linecolor": "white",
            "ticks": ""
           },
           "bgcolor": "#E5ECF6",
           "radialaxis": {
            "gridcolor": "white",
            "linecolor": "white",
            "ticks": ""
           }
          },
          "scene": {
           "xaxis": {
            "backgroundcolor": "#E5ECF6",
            "gridcolor": "white",
            "gridwidth": 2,
            "linecolor": "white",
            "showbackground": true,
            "ticks": "",
            "zerolinecolor": "white"
           },
           "yaxis": {
            "backgroundcolor": "#E5ECF6",
            "gridcolor": "white",
            "gridwidth": 2,
            "linecolor": "white",
            "showbackground": true,
            "ticks": "",
            "zerolinecolor": "white"
           },
           "zaxis": {
            "backgroundcolor": "#E5ECF6",
            "gridcolor": "white",
            "gridwidth": 2,
            "linecolor": "white",
            "showbackground": true,
            "ticks": "",
            "zerolinecolor": "white"
           }
          },
          "shapedefaults": {
           "line": {
            "color": "#2a3f5f"
           }
          },
          "ternary": {
           "aaxis": {
            "gridcolor": "white",
            "linecolor": "white",
            "ticks": ""
           },
           "baxis": {
            "gridcolor": "white",
            "linecolor": "white",
            "ticks": ""
           },
           "bgcolor": "#E5ECF6",
           "caxis": {
            "gridcolor": "white",
            "linecolor": "white",
            "ticks": ""
           }
          },
          "title": {
           "x": 0.05
          },
          "xaxis": {
           "automargin": true,
           "gridcolor": "white",
           "linecolor": "white",
           "ticks": "",
           "title": {
            "standoff": 15
           },
           "zerolinecolor": "white",
           "zerolinewidth": 2
          },
          "yaxis": {
           "automargin": true,
           "gridcolor": "white",
           "linecolor": "white",
           "ticks": "",
           "title": {
            "standoff": 15
           },
           "zerolinecolor": "white",
           "zerolinewidth": 2
          }
         }
        },
        "title": {
         "font": {
          "color": "Black",
          "size": 22
         },
         "text": "<b>Similarity Matrix</b>",
         "x": 0.55,
         "xanchor": "center",
         "y": 0.95,
         "yanchor": "top"
        },
        "width": 1000,
        "xaxis": {
         "anchor": "y",
         "constrain": "domain",
         "domain": [
          0,
          1
         ],
         "scaleanchor": "y"
        },
        "yaxis": {
         "anchor": "x",
         "autorange": "reversed",
         "constrain": "domain",
         "domain": [
          0,
          1
         ]
        }
       }
      },
      "text/html": [
       "<div>                            <div id=\"ddcc1694-84a2-4a87-9410-b41069909333\" class=\"plotly-graph-div\" style=\"height:1000px; width:1000px;\"></div>            <script type=\"text/javascript\">                require([\"plotly\"], function(Plotly) {                    window.PLOTLYENV=window.PLOTLYENV || {};                                    if (document.getElementById(\"ddcc1694-84a2-4a87-9410-b41069909333\")) {                    Plotly.newPlot(                        \"ddcc1694-84a2-4a87-9410-b41069909333\",                        [{\"coloraxis\":\"coloraxis\",\"name\":\"0\",\"x\":[\"0_best_moba_play\",\"1_update_fix_play\",\"2_10_life_recommend\",\"3_good_hate_hi\",\"4_\\u043d\\u0435_\\u0438\\u0433\\u0440\\u0430_\\u043d\\u0430\",\"5_barry_pills_disease\",\"6_soul_sugar_bowl\",\"7_old_classic_barry\",\"8_skins_valve_ranks\",\"9_ether_addiction_water\"],\"y\":[\"0_best_moba_play\",\"1_update_fix_play\",\"2_10_life_recommend\",\"3_good_hate_hi\",\"4_\\u043d\\u0435_\\u0438\\u0433\\u0440\\u0430_\\u043d\\u0430\",\"5_barry_pills_disease\",\"6_soul_sugar_bowl\",\"7_old_classic_barry\",\"8_skins_valve_ranks\",\"9_ether_addiction_water\"],\"z\":[[1.000000238418579,0.6737081408500671,0.5606887340545654,0.4983192980289459,0.271510511636734,0.5362476110458374,0.3285275101661682,0.5749427676200867,0.6471920609474182,0.3583192229270935],[0.6737081408500671,1.0,0.5760167837142944,0.45613884925842285,0.2554992437362671,0.4086792469024658,0.2956032156944275,0.3742794394493103,0.5770487785339355,0.3527219593524933],[0.5606887340545654,0.5760167837142944,0.9999998807907104,0.7711028456687927,0.43936946988105774,0.5501314401626587,0.6397392749786377,0.6274714469909668,0.620482325553894,0.6750436425209045],[0.4983192980289459,0.45613884925842285,0.7711028456687927,1.0,0.5021299123764038,0.5755319595336914,0.7035914659500122,0.6994810700416565,0.62337327003479,0.7209358811378479],[0.271510511636734,0.2554992437362671,0.43936946988105774,0.5021299123764038,0.9999999403953552,0.28374218940734863,0.49194982647895813,0.4065161347389221,0.34330713748931885,0.37207019329071045],[0.5362476110458374,0.4086792469024658,0.5501314401626587,0.5755319595336914,0.28374218940734863,0.9999998807907104,0.4662402868270874,0.5934419631958008,0.6138739585876465,0.4810788929462433],[0.3285275101661682,0.2956032156944275,0.6397392749786377,0.7035914659500122,0.49194982647895813,0.4662402868270874,0.9999997615814209,0.5496158003807068,0.5302937030792236,0.6700167059898376],[0.5749427676200867,0.3742794394493103,0.6274714469909668,0.6994810700416565,0.4065161347389221,0.5934419631958008,0.5496158003807068,1.0000001192092896,0.505891740322113,0.5268850922584534],[0.6471920609474182,0.5770487785339355,0.620482325553894,0.62337327003479,0.34330713748931885,0.6138739585876465,0.5302937030792236,0.505891740322113,1.0000001192092896,0.46114233136177063],[0.3583192229270935,0.3527219593524933,0.6750436425209045,0.7209358811378479,0.37207019329071045,0.4810788929462433,0.6700167059898376,0.5268850922584534,0.46114233136177063,0.9999998807907104]],\"type\":\"heatmap\",\"xaxis\":\"x\",\"yaxis\":\"y\",\"hovertemplate\":\"x: %{x}\\u003cbr\\u003ey: %{y}\\u003cbr\\u003eSimilarity Score: %{z}\\u003cextra\\u003e\\u003c\\u002fextra\\u003e\"}],                        {\"template\":{\"data\":{\"histogram2dcontour\":[{\"type\":\"histogram2dcontour\",\"colorbar\":{\"outlinewidth\":0,\"ticks\":\"\"},\"colorscale\":[[0.0,\"#0d0887\"],[0.1111111111111111,\"#46039f\"],[0.2222222222222222,\"#7201a8\"],[0.3333333333333333,\"#9c179e\"],[0.4444444444444444,\"#bd3786\"],[0.5555555555555556,\"#d8576b\"],[0.6666666666666666,\"#ed7953\"],[0.7777777777777778,\"#fb9f3a\"],[0.8888888888888888,\"#fdca26\"],[1.0,\"#f0f921\"]]}],\"choropleth\":[{\"type\":\"choropleth\",\"colorbar\":{\"outlinewidth\":0,\"ticks\":\"\"}}],\"histogram2d\":[{\"type\":\"histogram2d\",\"colorbar\":{\"outlinewidth\":0,\"ticks\":\"\"},\"colorscale\":[[0.0,\"#0d0887\"],[0.1111111111111111,\"#46039f\"],[0.2222222222222222,\"#7201a8\"],[0.3333333333333333,\"#9c179e\"],[0.4444444444444444,\"#bd3786\"],[0.5555555555555556,\"#d8576b\"],[0.6666666666666666,\"#ed7953\"],[0.7777777777777778,\"#fb9f3a\"],[0.8888888888888888,\"#fdca26\"],[1.0,\"#f0f921\"]]}],\"heatmap\":[{\"type\":\"heatmap\",\"colorbar\":{\"outlinewidth\":0,\"ticks\":\"\"},\"colorscale\":[[0.0,\"#0d0887\"],[0.1111111111111111,\"#46039f\"],[0.2222222222222222,\"#7201a8\"],[0.3333333333333333,\"#9c179e\"],[0.4444444444444444,\"#bd3786\"],[0.5555555555555556,\"#d8576b\"],[0.6666666666666666,\"#ed7953\"],[0.7777777777777778,\"#fb9f3a\"],[0.8888888888888888,\"#fdca26\"],[1.0,\"#f0f921\"]]}],\"heatmapgl\":[{\"type\":\"heatmapgl\",\"colorbar\":{\"outlinewidth\":0,\"ticks\":\"\"},\"colorscale\":[[0.0,\"#0d0887\"],[0.1111111111111111,\"#46039f\"],[0.2222222222222222,\"#7201a8\"],[0.3333333333333333,\"#9c179e\"],[0.4444444444444444,\"#bd3786\"],[0.5555555555555556,\"#d8576b\"],[0.6666666666666666,\"#ed7953\"],[0.7777777777777778,\"#fb9f3a\"],[0.8888888888888888,\"#fdca26\"],[1.0,\"#f0f921\"]]}],\"contourcarpet\":[{\"type\":\"contourcarpet\",\"colorbar\":{\"outlinewidth\":0,\"ticks\":\"\"}}],\"contour\":[{\"type\":\"contour\",\"colorbar\":{\"outlinewidth\":0,\"ticks\":\"\"},\"colorscale\":[[0.0,\"#0d0887\"],[0.1111111111111111,\"#46039f\"],[0.2222222222222222,\"#7201a8\"],[0.3333333333333333,\"#9c179e\"],[0.4444444444444444,\"#bd3786\"],[0.5555555555555556,\"#d8576b\"],[0.6666666666666666,\"#ed7953\"],[0.7777777777777778,\"#fb9f3a\"],[0.8888888888888888,\"#fdca26\"],[1.0,\"#f0f921\"]]}],\"surface\":[{\"type\":\"surface\",\"colorbar\":{\"outlinewidth\":0,\"ticks\":\"\"},\"colorscale\":[[0.0,\"#0d0887\"],[0.1111111111111111,\"#46039f\"],[0.2222222222222222,\"#7201a8\"],[0.3333333333333333,\"#9c179e\"],[0.4444444444444444,\"#bd3786\"],[0.5555555555555556,\"#d8576b\"],[0.6666666666666666,\"#ed7953\"],[0.7777777777777778,\"#fb9f3a\"],[0.8888888888888888,\"#fdca26\"],[1.0,\"#f0f921\"]]}],\"mesh3d\":[{\"type\":\"mesh3d\",\"colorbar\":{\"outlinewidth\":0,\"ticks\":\"\"}}],\"scatter\":[{\"fillpattern\":{\"fillmode\":\"overlay\",\"size\":10,\"solidity\":0.2},\"type\":\"scatter\"}],\"parcoords\":[{\"type\":\"parcoords\",\"line\":{\"colorbar\":{\"outlinewidth\":0,\"ticks\":\"\"}}}],\"scatterpolargl\":[{\"type\":\"scatterpolargl\",\"marker\":{\"colorbar\":{\"outlinewidth\":0,\"ticks\":\"\"}}}],\"bar\":[{\"error_x\":{\"color\":\"#2a3f5f\"},\"error_y\":{\"color\":\"#2a3f5f\"},\"marker\":{\"line\":{\"color\":\"#E5ECF6\",\"width\":0.5},\"pattern\":{\"fillmode\":\"overlay\",\"size\":10,\"solidity\":0.2}},\"type\":\"bar\"}],\"scattergeo\":[{\"type\":\"scattergeo\",\"marker\":{\"colorbar\":{\"outlinewidth\":0,\"ticks\":\"\"}}}],\"scatterpolar\":[{\"type\":\"scatterpolar\",\"marker\":{\"colorbar\":{\"outlinewidth\":0,\"ticks\":\"\"}}}],\"histogram\":[{\"marker\":{\"pattern\":{\"fillmode\":\"overlay\",\"size\":10,\"solidity\":0.2}},\"type\":\"histogram\"}],\"scattergl\":[{\"type\":\"scattergl\",\"marker\":{\"colorbar\":{\"outlinewidth\":0,\"ticks\":\"\"}}}],\"scatter3d\":[{\"type\":\"scatter3d\",\"line\":{\"colorbar\":{\"outlinewidth\":0,\"ticks\":\"\"}},\"marker\":{\"colorbar\":{\"outlinewidth\":0,\"ticks\":\"\"}}}],\"scattermapbox\":[{\"type\":\"scattermapbox\",\"marker\":{\"colorbar\":{\"outlinewidth\":0,\"ticks\":\"\"}}}],\"scatterternary\":[{\"type\":\"scatterternary\",\"marker\":{\"colorbar\":{\"outlinewidth\":0,\"ticks\":\"\"}}}],\"scattercarpet\":[{\"type\":\"scattercarpet\",\"marker\":{\"colorbar\":{\"outlinewidth\":0,\"ticks\":\"\"}}}],\"carpet\":[{\"aaxis\":{\"endlinecolor\":\"#2a3f5f\",\"gridcolor\":\"white\",\"linecolor\":\"white\",\"minorgridcolor\":\"white\",\"startlinecolor\":\"#2a3f5f\"},\"baxis\":{\"endlinecolor\":\"#2a3f5f\",\"gridcolor\":\"white\",\"linecolor\":\"white\",\"minorgridcolor\":\"white\",\"startlinecolor\":\"#2a3f5f\"},\"type\":\"carpet\"}],\"table\":[{\"cells\":{\"fill\":{\"color\":\"#EBF0F8\"},\"line\":{\"color\":\"white\"}},\"header\":{\"fill\":{\"color\":\"#C8D4E3\"},\"line\":{\"color\":\"white\"}},\"type\":\"table\"}],\"barpolar\":[{\"marker\":{\"line\":{\"color\":\"#E5ECF6\",\"width\":0.5},\"pattern\":{\"fillmode\":\"overlay\",\"size\":10,\"solidity\":0.2}},\"type\":\"barpolar\"}],\"pie\":[{\"automargin\":true,\"type\":\"pie\"}]},\"layout\":{\"autotypenumbers\":\"strict\",\"colorway\":[\"#636efa\",\"#EF553B\",\"#00cc96\",\"#ab63fa\",\"#FFA15A\",\"#19d3f3\",\"#FF6692\",\"#B6E880\",\"#FF97FF\",\"#FECB52\"],\"font\":{\"color\":\"#2a3f5f\"},\"hovermode\":\"closest\",\"hoverlabel\":{\"align\":\"left\"},\"paper_bgcolor\":\"white\",\"plot_bgcolor\":\"#E5ECF6\",\"polar\":{\"bgcolor\":\"#E5ECF6\",\"angularaxis\":{\"gridcolor\":\"white\",\"linecolor\":\"white\",\"ticks\":\"\"},\"radialaxis\":{\"gridcolor\":\"white\",\"linecolor\":\"white\",\"ticks\":\"\"}},\"ternary\":{\"bgcolor\":\"#E5ECF6\",\"aaxis\":{\"gridcolor\":\"white\",\"linecolor\":\"white\",\"ticks\":\"\"},\"baxis\":{\"gridcolor\":\"white\",\"linecolor\":\"white\",\"ticks\":\"\"},\"caxis\":{\"gridcolor\":\"white\",\"linecolor\":\"white\",\"ticks\":\"\"}},\"coloraxis\":{\"colorbar\":{\"outlinewidth\":0,\"ticks\":\"\"}},\"colorscale\":{\"sequential\":[[0.0,\"#0d0887\"],[0.1111111111111111,\"#46039f\"],[0.2222222222222222,\"#7201a8\"],[0.3333333333333333,\"#9c179e\"],[0.4444444444444444,\"#bd3786\"],[0.5555555555555556,\"#d8576b\"],[0.6666666666666666,\"#ed7953\"],[0.7777777777777778,\"#fb9f3a\"],[0.8888888888888888,\"#fdca26\"],[1.0,\"#f0f921\"]],\"sequentialminus\":[[0.0,\"#0d0887\"],[0.1111111111111111,\"#46039f\"],[0.2222222222222222,\"#7201a8\"],[0.3333333333333333,\"#9c179e\"],[0.4444444444444444,\"#bd3786\"],[0.5555555555555556,\"#d8576b\"],[0.6666666666666666,\"#ed7953\"],[0.7777777777777778,\"#fb9f3a\"],[0.8888888888888888,\"#fdca26\"],[1.0,\"#f0f921\"]],\"diverging\":[[0,\"#8e0152\"],[0.1,\"#c51b7d\"],[0.2,\"#de77ae\"],[0.3,\"#f1b6da\"],[0.4,\"#fde0ef\"],[0.5,\"#f7f7f7\"],[0.6,\"#e6f5d0\"],[0.7,\"#b8e186\"],[0.8,\"#7fbc41\"],[0.9,\"#4d9221\"],[1,\"#276419\"]]},\"xaxis\":{\"gridcolor\":\"white\",\"linecolor\":\"white\",\"ticks\":\"\",\"title\":{\"standoff\":15},\"zerolinecolor\":\"white\",\"automargin\":true,\"zerolinewidth\":2},\"yaxis\":{\"gridcolor\":\"white\",\"linecolor\":\"white\",\"ticks\":\"\",\"title\":{\"standoff\":15},\"zerolinecolor\":\"white\",\"automargin\":true,\"zerolinewidth\":2},\"scene\":{\"xaxis\":{\"backgroundcolor\":\"#E5ECF6\",\"gridcolor\":\"white\",\"linecolor\":\"white\",\"showbackground\":true,\"ticks\":\"\",\"zerolinecolor\":\"white\",\"gridwidth\":2},\"yaxis\":{\"backgroundcolor\":\"#E5ECF6\",\"gridcolor\":\"white\",\"linecolor\":\"white\",\"showbackground\":true,\"ticks\":\"\",\"zerolinecolor\":\"white\",\"gridwidth\":2},\"zaxis\":{\"backgroundcolor\":\"#E5ECF6\",\"gridcolor\":\"white\",\"linecolor\":\"white\",\"showbackground\":true,\"ticks\":\"\",\"zerolinecolor\":\"white\",\"gridwidth\":2}},\"shapedefaults\":{\"line\":{\"color\":\"#2a3f5f\"}},\"annotationdefaults\":{\"arrowcolor\":\"#2a3f5f\",\"arrowhead\":0,\"arrowwidth\":1},\"geo\":{\"bgcolor\":\"white\",\"landcolor\":\"#E5ECF6\",\"subunitcolor\":\"white\",\"showland\":true,\"showlakes\":true,\"lakecolor\":\"white\"},\"title\":{\"x\":0.05},\"mapbox\":{\"style\":\"light\"}}},\"xaxis\":{\"anchor\":\"y\",\"domain\":[0.0,1.0],\"scaleanchor\":\"y\",\"constrain\":\"domain\"},\"yaxis\":{\"anchor\":\"x\",\"domain\":[0.0,1.0],\"autorange\":\"reversed\",\"constrain\":\"domain\"},\"coloraxis\":{\"colorbar\":{\"title\":{\"text\":\"Similarity Score\"}},\"colorscale\":[[0.0,\"rgb(247,252,240)\"],[0.125,\"rgb(224,243,219)\"],[0.25,\"rgb(204,235,197)\"],[0.375,\"rgb(168,221,181)\"],[0.5,\"rgb(123,204,196)\"],[0.625,\"rgb(78,179,211)\"],[0.75,\"rgb(43,140,190)\"],[0.875,\"rgb(8,104,172)\"],[1.0,\"rgb(8,64,129)\"]]},\"margin\":{\"t\":60},\"title\":{\"font\":{\"size\":22,\"color\":\"Black\"},\"text\":\"\\u003cb\\u003eSimilarity Matrix\\u003c\\u002fb\\u003e\",\"y\":0.95,\"x\":0.55,\"xanchor\":\"center\",\"yanchor\":\"top\"},\"hoverlabel\":{\"font\":{\"size\":16,\"family\":\"Rockwell\"},\"bgcolor\":\"white\"},\"width\":1000,\"height\":1000,\"showlegend\":true,\"legend\":{\"title\":{\"text\":\"Trend\"}}},                        {\"responsive\": true}                    ).then(function(){\n",
       "                            \n",
       "var gd = document.getElementById('ddcc1694-84a2-4a87-9410-b41069909333');\n",
       "var x = new MutationObserver(function (mutations, observer) {{\n",
       "        var display = window.getComputedStyle(gd).display;\n",
       "        if (!display || display === 'none') {{\n",
       "            console.log([gd, 'removed!']);\n",
       "            Plotly.purge(gd);\n",
       "            observer.disconnect();\n",
       "        }}\n",
       "}});\n",
       "\n",
       "// Listen for the removal of the full notebook cells\n",
       "var notebookContainer = gd.closest('#notebook-container');\n",
       "if (notebookContainer) {{\n",
       "    x.observe(notebookContainer, {childList: true});\n",
       "}}\n",
       "\n",
       "// Listen for the clearing of the current output cell\n",
       "var outputEl = gd.closest('.output');\n",
       "if (outputEl) {{\n",
       "    x.observe(outputEl, {childList: true});\n",
       "}}\n",
       "\n",
       "                        })                };                });            </script>        </div>"
      ]
     },
     "metadata": {},
     "output_type": "display_data"
    }
   ],
   "source": [
    "fig = topic_model.visualize_heatmap(top_n_topics=n_topics, width=1000, height=1000)\n",
    "\n",
    "fig.write_html(str(eval_results_external_folder_path.joinpath(\n",
    "    f'topicsimilarity.html' if type(genre) == GENRES \\\n",
    "        else f'topicsimilarity.html')\n",
    "        ))\n",
    "\n",
    "fig"
   ]
  },
  {
   "cell_type": "markdown",
   "metadata": {},
   "source": [
    "---"
   ]
  },
  {
   "cell_type": "markdown",
   "metadata": {},
   "source": [
    "Qualitative evaluation"
   ]
  },
  {
   "cell_type": "code",
   "execution_count": 66,
   "metadata": {},
   "outputs": [],
   "source": [
    "# get top 10 representative docs for each topic\n",
    "\n",
    "# Approximate most representative documents per topic by sampling\n",
    "# a subset of the documents in each topic and calculating which are\n",
    "# most represenative to their topic based on the cosine similarity between\n",
    "# c-TF-IDF representations\n",
    "\n",
    "# the method was called internally in the fit_transform method\n",
    "# so that the .get_topic_info() can work properly when the model was reloaded from disk\n",
    "repr_docs_mappings, repr_docs, repr_docs_indices, repr_docs_ids = topic_model._extract_representative_docs(\n",
    "    topic_model.c_tf_idf_,\n",
    "    pd.DataFrame({\"Document\": X, \"ID\": range(len(X)), \"Topic\": topics}),\n",
    "    topic_model.topic_representations_,\n",
    "    nr_samples=500,\n",
    "    nr_repr_docs=10          # the number of representative documents per topic\n",
    ")"
   ]
  },
  {
   "cell_type": "code",
   "execution_count": 67,
   "metadata": {},
   "outputs": [
    {
     "data": {
      "text/html": [
       "<div>\n",
       "<style scoped>\n",
       "    .dataframe tbody tr th:only-of-type {\n",
       "        vertical-align: middle;\n",
       "    }\n",
       "\n",
       "    .dataframe tbody tr th {\n",
       "        vertical-align: top;\n",
       "    }\n",
       "\n",
       "    .dataframe thead th {\n",
       "        text-align: right;\n",
       "    }\n",
       "</style>\n",
       "<table border=\"1\" class=\"dataframe\">\n",
       "  <thead>\n",
       "    <tr style=\"text-align: right;\">\n",
       "      <th></th>\n",
       "      <th>recommendationid</th>\n",
       "      <th>review</th>\n",
       "      <th>timestamp_created</th>\n",
       "      <th>voted_up</th>\n",
       "      <th>steam_purchase</th>\n",
       "      <th>received_for_free</th>\n",
       "      <th>review_original</th>\n",
       "      <th>review_split</th>\n",
       "      <th>topic_id</th>\n",
       "    </tr>\n",
       "  </thead>\n",
       "  <tbody>\n",
       "    <tr>\n",
       "      <th>96345</th>\n",
       "      <td>145736692</td>\n",
       "      <td>After having played almost 60 hours in the fir...</td>\n",
       "      <td>2023-09-06 00:02:13</td>\n",
       "      <td>1</td>\n",
       "      <td>True</td>\n",
       "      <td>False</td>\n",
       "      <td>After having played almost 60 hours in the fir...</td>\n",
       "      <td>some things are a bit unclear or easy to miss,...</td>\n",
       "      <td>-1</td>\n",
       "    </tr>\n",
       "    <tr>\n",
       "      <th>80995</th>\n",
       "      <td>145811986</td>\n",
       "      <td>The Short Version after beating the game:\\n\\nT...</td>\n",
       "      <td>2023-09-06 20:30:48</td>\n",
       "      <td>-1</td>\n",
       "      <td>True</td>\n",
       "      <td>False</td>\n",
       "      <td>The Short Version after beating the game:\\n\\nT...</td>\n",
       "      <td>the short version after beating the game : the...</td>\n",
       "      <td>-1</td>\n",
       "    </tr>\n",
       "    <tr>\n",
       "      <th>65535</th>\n",
       "      <td>146021164</td>\n",
       "      <td>Boring game with a lame main story. Pretty muc...</td>\n",
       "      <td>2023-09-10 01:09:00</td>\n",
       "      <td>-1</td>\n",
       "      <td>False</td>\n",
       "      <td>False</td>\n",
       "      <td>Boring game with a lame main story. Pretty muc...</td>\n",
       "      <td>boring game with a lame main story. pretty muc...</td>\n",
       "      <td>-1</td>\n",
       "    </tr>\n",
       "    <tr>\n",
       "      <th>7725</th>\n",
       "      <td>154551697</td>\n",
       "      <td>I mean, 158 hours in, and I finally ran out of...</td>\n",
       "      <td>2023-12-27 16:35:36</td>\n",
       "      <td>1</td>\n",
       "      <td>True</td>\n",
       "      <td>False</td>\n",
       "      <td>I mean, 158 hours in, and I finally ran out of...</td>\n",
       "      <td>i mean, 158 hours in, and i finally ran out of...</td>\n",
       "      <td>-1</td>\n",
       "    </tr>\n",
       "    <tr>\n",
       "      <th>43391</th>\n",
       "      <td>146884772</td>\n",
       "      <td>I've heard quite a few things about this game ...</td>\n",
       "      <td>2023-09-23 20:11:22</td>\n",
       "      <td>1</td>\n",
       "      <td>True</td>\n",
       "      <td>False</td>\n",
       "      <td>I've heard quite a few things about this game ...</td>\n",
       "      <td>i ' ve heard quite a few things about this gam...</td>\n",
       "      <td>-1</td>\n",
       "    </tr>\n",
       "    <tr>\n",
       "      <th>...</th>\n",
       "      <td>...</td>\n",
       "      <td>...</td>\n",
       "      <td>...</td>\n",
       "      <td>...</td>\n",
       "      <td>...</td>\n",
       "      <td>...</td>\n",
       "      <td>...</td>\n",
       "      <td>...</td>\n",
       "      <td>...</td>\n",
       "    </tr>\n",
       "    <tr>\n",
       "      <th>52474</th>\n",
       "      <td>146348864</td>\n",
       "      <td>Fast Travel not to Fast travel everywhere is j...</td>\n",
       "      <td>2023-09-15 17:44:25</td>\n",
       "      <td>-1</td>\n",
       "      <td>True</td>\n",
       "      <td>False</td>\n",
       "      <td>Fast Travel Simulator.Choosing not to Fast tra...</td>\n",
       "      <td>talk to npc / interact with quest objective - ...</td>\n",
       "      <td>9</td>\n",
       "    </tr>\n",
       "    <tr>\n",
       "      <th>26627</th>\n",
       "      <td>148740912</td>\n",
       "      <td>The premise of Starfield is incredibly compell...</td>\n",
       "      <td>2023-10-23 15:59:46</td>\n",
       "      <td>-1</td>\n",
       "      <td>False</td>\n",
       "      <td>False</td>\n",
       "      <td>The premise of Starfield is incredibly compell...</td>\n",
       "      <td>there ' s a massive disparity in the variety o...</td>\n",
       "      <td>9</td>\n",
       "    </tr>\n",
       "    <tr>\n",
       "      <th>52474</th>\n",
       "      <td>146348864</td>\n",
       "      <td>Fast Travel not to Fast travel everywhere is j...</td>\n",
       "      <td>2023-09-15 17:44:25</td>\n",
       "      <td>-1</td>\n",
       "      <td>True</td>\n",
       "      <td>False</td>\n",
       "      <td>Fast Travel Simulator.Choosing not to Fast tra...</td>\n",
       "      <td>r + x - talk to npc / interact with quest obje...</td>\n",
       "      <td>9</td>\n",
       "    </tr>\n",
       "    <tr>\n",
       "      <th>28346</th>\n",
       "      <td>148441089</td>\n",
       "      <td>Bethesda has the good ingredients, but failed ...</td>\n",
       "      <td>2023-10-18 15:19:57</td>\n",
       "      <td>-1</td>\n",
       "      <td>True</td>\n",
       "      <td>False</td>\n",
       "      <td>Bethesda has the good ingredients, but failed ...</td>\n",
       "      <td>##es. you can do away with 95 % of the science...</td>\n",
       "      <td>9</td>\n",
       "    </tr>\n",
       "    <tr>\n",
       "      <th>52474</th>\n",
       "      <td>146348864</td>\n",
       "      <td>Fast Travel not to Fast travel everywhere is j...</td>\n",
       "      <td>2023-09-15 17:44:25</td>\n",
       "      <td>-1</td>\n",
       "      <td>True</td>\n",
       "      <td>False</td>\n",
       "      <td>Fast Travel Simulator.Choosing not to Fast tra...</td>\n",
       "      <td>x - talk to npc / interact with quest objectiv...</td>\n",
       "      <td>9</td>\n",
       "    </tr>\n",
       "  </tbody>\n",
       "</table>\n",
       "<p>118 rows × 9 columns</p>\n",
       "</div>"
      ],
      "text/plain": [
       "      recommendationid                                             review  \\\n",
       "96345        145736692  After having played almost 60 hours in the fir...   \n",
       "80995        145811986  The Short Version after beating the game:\\n\\nT...   \n",
       "65535        146021164  Boring game with a lame main story. Pretty muc...   \n",
       "7725         154551697  I mean, 158 hours in, and I finally ran out of...   \n",
       "43391        146884772  I've heard quite a few things about this game ...   \n",
       "...                ...                                                ...   \n",
       "52474        146348864  Fast Travel not to Fast travel everywhere is j...   \n",
       "26627        148740912  The premise of Starfield is incredibly compell...   \n",
       "52474        146348864  Fast Travel not to Fast travel everywhere is j...   \n",
       "28346        148441089  Bethesda has the good ingredients, but failed ...   \n",
       "52474        146348864  Fast Travel not to Fast travel everywhere is j...   \n",
       "\n",
       "        timestamp_created  voted_up  steam_purchase  received_for_free  \\\n",
       "96345 2023-09-06 00:02:13         1            True              False   \n",
       "80995 2023-09-06 20:30:48        -1            True              False   \n",
       "65535 2023-09-10 01:09:00        -1           False              False   \n",
       "7725  2023-12-27 16:35:36         1            True              False   \n",
       "43391 2023-09-23 20:11:22         1            True              False   \n",
       "...                   ...       ...             ...                ...   \n",
       "52474 2023-09-15 17:44:25        -1            True              False   \n",
       "26627 2023-10-23 15:59:46        -1           False              False   \n",
       "52474 2023-09-15 17:44:25        -1            True              False   \n",
       "28346 2023-10-18 15:19:57        -1            True              False   \n",
       "52474 2023-09-15 17:44:25        -1            True              False   \n",
       "\n",
       "                                         review_original  \\\n",
       "96345  After having played almost 60 hours in the fir...   \n",
       "80995  The Short Version after beating the game:\\n\\nT...   \n",
       "65535  Boring game with a lame main story. Pretty muc...   \n",
       "7725   I mean, 158 hours in, and I finally ran out of...   \n",
       "43391  I've heard quite a few things about this game ...   \n",
       "...                                                  ...   \n",
       "52474  Fast Travel Simulator.Choosing not to Fast tra...   \n",
       "26627  The premise of Starfield is incredibly compell...   \n",
       "52474  Fast Travel Simulator.Choosing not to Fast tra...   \n",
       "28346  Bethesda has the good ingredients, but failed ...   \n",
       "52474  Fast Travel Simulator.Choosing not to Fast tra...   \n",
       "\n",
       "                                            review_split  topic_id  \n",
       "96345  some things are a bit unclear or easy to miss,...        -1  \n",
       "80995  the short version after beating the game : the...        -1  \n",
       "65535  boring game with a lame main story. pretty muc...        -1  \n",
       "7725   i mean, 158 hours in, and i finally ran out of...        -1  \n",
       "43391  i ' ve heard quite a few things about this gam...        -1  \n",
       "...                                                  ...       ...  \n",
       "52474  talk to npc / interact with quest objective - ...         9  \n",
       "26627  there ' s a massive disparity in the variety o...         9  \n",
       "52474  r + x - talk to npc / interact with quest obje...         9  \n",
       "28346  ##es. you can do away with 95 % of the science...         9  \n",
       "52474  x - talk to npc / interact with quest objectiv...         9  \n",
       "\n",
       "[118 rows x 9 columns]"
      ]
     },
     "execution_count": 67,
     "metadata": {},
     "output_type": "execute_result"
    }
   ],
   "source": [
    "df_original_texts = []\n",
    "\n",
    "for i, topic_repr_docs_id in enumerate(repr_docs_ids):\n",
    "    t = reviews_df_split.iloc[topic_repr_docs_id]\n",
    "    t['topic_id'] = i - 1           # starts from -1, as -1 represents outliers\n",
    "\n",
    "    df_original_texts.append(t)\n",
    "\n",
    "df_original_texts = pd.concat(df_original_texts)\n",
    "df_original_texts"
   ]
  },
  {
   "cell_type": "code",
   "execution_count": 68,
   "metadata": {},
   "outputs": [
    {
     "name": "stdout",
     "output_type": "stream",
     "text": [
      "Topic -1:\n",
      "Doc 96345\n",
      "Original: After having played almost 60 hours in the first 4 days since release I think I'm in the position to give some first impressions. And yes I call it first impressions because I'm taking it slow and I feel like after 60 hours I only scratched the surface of this game for what will probably take me 200 hours to complete. \n",
      "\n",
      "The graphics range from breathtaking to disappointing. For the most part, the graphics look fantastic and some of the environments and planets just look amazing and the lighting is done really well in the game. There are are places which really do not look good at all. One would be the big city of New Atlantis which is one of the first places you will visit in the game. Don't be put off by that, the other bigger settlements/cities look significantly better visually.\n",
      "\n",
      "One thing you need to know about is what this game is and what it isn't. This game isn't a space sim. You will spend very little time in your ship and most time on planets. There is a bit of space combat but that's pretty much all there is in space. You can do some piracy but that's about it.\n",
      "\n",
      "The game is an RPG in the first place, think of it like a mix between Fallout 4 and Mass Effect with a bit of No Man's Sky sprinkled in. If you are familiar with other games from Bethesda, this is what you get. Traversal between different systems, landing on planets, going from planet to planet etc. are all divided by loading screens/cutscenes. There is no free form travel between planets like in space sims like Elite Dangerous or No Man's Sky. But this is not a problem if you see the game similar to Mass Effect and as an RPG. You may be annoyed by this limitation at first, but after you played for a while you will understand why it's better this way. You really DO NOT want to spend hours travelling from system to system and planet to planet just to go to quest locations or turn in a quest.\n",
      "\n",
      "Landing on planets anywhere creates a map that has boundaries as you most likely know by now. This is NOT an issue in my opinion. After 50 hours I haven't run into any boundary yet. The maps generated when you land are huge. Unless you are bee-lining straight for the boundary, walking 30 minutes (or however long it takes) into the same direction then you won't ever see the boundary message. You will have reasons to go to a planet for missions or when exploring you will be distracted by all the POI that you can find and will investigate. By the time you would come even anywhere close to a boundary you will probably have already left the planet to go elsewhere.\n",
      "\n",
      "The manual modular ship building is simply amazing and the best I have seen in any game so far. So many hours I could spend just in the ship builder alone.\n",
      "\n",
      "The base building is fun and you can unlock additional stuff to build via the research station. The base building is purely optional just like in Fallout 4. You can do it as a side activity for fun if you want, but there is no need to do it or any particular advantage.\n",
      "\n",
      "The story so far feels good to me, but I'm still too early in the game to tell (yeah after 50 hours, I know). The game is probably the biggest game of Bethesda yet in terms of content as there are quests everywhere.\n",
      "\n",
      "In terms of bugs I feel the game is very polished, especially for a game from Bethesda. I haven't noticed any significant bugs yet.\n",
      "\n",
      "There are a few things here and there that could be improved, like the main cities not having a map to see where everything is. The ship building is fun but it's a bit clunky, they could have improved the UI and building process for it. Some things are a bit unclear or easy to miss, like that you can set a preference on taking of your helmet and space suit automatically in breathable locations or settlements.\n",
      "\n",
      "Overall a great game that I will spend possibly hundreds of hours in until I even think about adding mods. This is just my personal subjective review which I believe is very different from people who did not enjoy the game. The motivational curve only points up so far. The game get's more addicting the more I play. After 60 hours I don't feel like \"is there anything left to do?\" but rather overwhelmed like \"Oh my god, there is still so much to do, I feel like I have barely started, this is great!\". Not sure when I had this kind of experience with a game the last time. The first 2 hours I gave the game a 9/10. After 5 hours I would have given it a 7/10 or 8/10. After 60 hours it's a 10/10 from me.\n",
      "Split: some things are a bit unclear or easy to miss, like that you can set a preference on taking of your helmet and space suit automatically in breathable locations or a great game that i will spend possibly hundreds of hours in until i even think about adding mods. this is just my personal subjective review which i believe is very different from people who did not enjoy the game. the motivational curve only points up so far. the game get ' s more addicting the more i play. after 60 hours i don ' t feel like \" is there anything left to do? \" but rather overwhelmed like \" oh my god, there is still so much to do, i feel like i have barely started, this is great! \". not sure when i had this kind of experience with a game the last time. the first 2 hours i gave the game a 9 / 10. after 5 hours i would have given it a 7 / 10 or 8 / 10. after 60 hours it ' s a 10 / 10 from me.\n",
      "\n",
      "Doc 80995\n",
      "Original: The Short Version after beating the game:\n",
      "\n",
      "The biggest disappointment from Bethesda since horse armor.\n",
      "\n",
      "The more I play the game the more difficult I'm finding it to call it \"good\" and the more I feel it's merely \"Ok\". It has never come close to \"Great\" like other Bethesda games. If it really took 10 years to make I have no idea what they were doing all that time.\n",
      "\n",
      "Bethesda made one HUGE change between Starfield and all their other RPGs. This game is not one seamless huge world. This means you can't just leave town, take a right and wander for 3 hours. Instead you need to open up a menu and decide exactly where to go. This may seem small but it vastly changes the feel of the game.\n",
      "\n",
      "Even if you could wander like in previous Bethesda RPGs there's nothing out there! I can not stress enough how EMPTY this game is. 9 out of 10 planets will have the same 4 generated sites on them. No quest, nothing. Imagine if they took the three biggest cities in Skyrim and that was the sum total of the world then the rest was empty forest. That's Starfield.\n",
      "\n",
      "I like this game. I am going to keep playing it. It's not perfect but it's fun. I am choosing not to recommend it simply because I suspect many people are expecting to be able to just wander around like in previous games and they deserve to know how much that has changed.\n",
      "\n",
      "My Rambling Thoughts:\n",
      "\n",
      "Combat balance is a complete joke. It doesn't feel like anyone was paying attention to it. There are whole skill families so ineffective that it undermines the idea of progression choice. For instance I started playing as unarmed for the hell of it. I've invested all my points towards that goal and with no points in firearms they are far far more effective. It's thoughtless and lazy. Very disappointing. Just put your points in the standard sneaky ranged character. You'll have fun and won't waste points.\n",
      "\n",
      "\n",
      "There are a ton of folks that really riding the hype train on this but the game is actually really rough around the edges in ways that are pretty astounding. I'm still intending to keep playing but I don't think I'd recommend this to folks until a few patches in.\n",
      "\n",
      "Review outlets giving this game nearly perfect scores are discrediting themselves. Don't get me wrong, I'm enjoying myself but the game doesn't feel as cohesive as Skyrim or Fallout. I do not expect Starfield to become Bethesda new gold standard. If Skyrim is great, Starfield is good.\n",
      "\n",
      "The game doesn't quiet know who it is. We've heard a lot of marketing talking about \"10 years of development\" and I think they've maybe overplayed that hand. It's like bragging to your teacher you spent all month on your paper as you turn in B+ work. \n",
      "\n",
      "Skyrim/Fallout + No Man's Sky is about the right vibe.\n",
      "\n",
      "I can safely say this is a Bethesda RPG. If you know you want that then you will probably enjoy this game if you're willing to overlook it's flaws. \n",
      "\n",
      "There is jank, the usual amount of Bethesda jank.\n",
      "\n",
      "The shooting is considerably better than Fallout 3/4/76 but considerably worse than industry standard. It's functional and fun.\n",
      "\n",
      "Pointless inventory weight limits that don't have any functional effect on game play difficulty. They just waste time. Bethesda is living in the past with this design choice. I can still carry a ton of weapons and healing packs. Running out of inventory space just interrupts the fun and causes tedium. Time to join us in 2023 Bethesda. MAYBE it matters later in the game for trading? Maybe? Even if you consider inventory limits necessary for this game there's still a ton of wasted time due to bad UI design choices. They need to either due away with these inventory limits or make it MUCH less time and input intensive to deal with it all.\n",
      "\n",
      "The criticism surrounding the game's slow start is 100% dead on. It easily has the weakest initial 30-60 minutes of any Bethesda RPG by a huge margin. It's jarring, confusing, poorly written and slow. They really should've stuck with the mysterious prisoner bit. I'm about 10hrs in and only now have i started to feel oriented and on track.\n",
      "\n",
      "Many of the planets I've come across have huge expanses of open empty terrain you have to run across to get to the next interesting thing to do. There's no lack of things to catch your interest but my thumb has started aching from holding down the left thumbstick. They really need to fix this. It's so bad I'd call it unprofessional. It makes me wonder if the design leadership actually played this game at all? Give me a speeder bike or something for fuck sake. If not that make boost packs worth using for long distance travel or simply put stuff closer together. It's mind boggling this got shipped in this condition. Here's the worst part though. There's an auto-run input option for MKB but not controller. This means at least on some level they knew these long runs were a problem but responded in the laziest way possible.\n",
      "\n",
      "The game's level structure means you will rely on fast travel quite a lot. In a game about exploring this has paradoxically made it more difficult to just wander. In Skyrim or Fallout you could point yourself in a direction and just go. You can do that to some extent in Starfield and there's certainly more total area to explore but it's broken into smaller parts. If that 10 years of development went anywhere I'm expecting it went here. I bet they tried to make it all seamless but ultimately couldn't pull it off and fell back on fast travel. Whatever, no biggy. Still plenty to do and I used fast travel plenty in Skyrim and Fallout any how.\n",
      "\n",
      "Some of the complaints about performance on PC seem legit but I've personally had no problems.\n",
      "\n",
      "A lot of the negative reviews are just Nazis whining about the inclusion of marginalized characters. No, your bigotry is not valid critique it's just being shitty. There are however valid criticisms about the game itself as well.\n",
      "Split: the short version after beating the game : the biggest disappointment from bethesda since horse more i play the game the more difficult i ' m finding it to call it \" good \" and the more i feel it ' s merely \" ok \". it has never come close to \" great \" like other bethesda games. if it really took 10 years to make i have no idea what they were doing all that made one huge change between starfield and all their other rpgs. this game is not one seamless huge world. this means you can ' t just leave town, take a right and wander for 3 hours. instead you need to open up a menu and decide exactly where to go. this may seem small but it vastly changes the feel of the if you could wander like in previous bethesda rpgs there ' s nothing out there! i can not stress enough how empty this game is. 9 out of 10 planets will have the same 4 generated sites on them. no quest, nothing. imagine if they took the three biggest cities in skyrim and that was the sum total of the world then the rest was empty forest. that ' s like this game. i am going to keep playing it. it ' s not perfect but it ' s\n",
      "\n",
      "Doc 65535\n",
      "Original: Boring game with a lame main story. Pretty much every feature is locked behind a skill point. By time you are high enough level to unlock the features and spending some points buffing your character, the game will have lost all novelty. Combat lacks challenge and increasing difficulty just makes enemies bullet sponges. The larger side quests are average, and not very compelling. I struggled to find a reason on why my character would help these groups, and most are them talk like smug pricks to your character for no reason. How space travel and fast travel are implemented is just awful. If i want to go to one star system, but my ship isn't good enough to get there in one jump, I instead have to make 3 separate jump each with a loading screen to get there. Overall the core game is just not very fun or engaging. If you read reviews and see people who claim they are having a blast 30 hours in and haven't even gotten to doing the second or third main mission. They must enjoy the repetitive procedural content and repeat mission boards. Which involve shooting the same boring enemies or doing the same task again and again. I don't think most people who are experienced with these types of games find that very fun. It's because as you complete a couple you will shortly realize they don't offer variety and their rewards can be obtained somewhere else easier and faster.  I give the game a 6/10 which is unfortunate because you can tell the detail and time that was put into the game especially for the designs of the ships and buildings both inside and out. I've played 61 hours and my last play session of an hour will probably be my last. The game just isn't there for me and while playing I just think that Bethesda's time would've been better spent on the next Elder Scrolls which more people would probably want. I was excited at the thought of a new Bethesda RPG, but sadly Starfield didn't do it for me. I would agree that a new IP would be good for Bethesda, but it honestly feels like Todd Howard wanted to make a space game while he could, so that's what we got instead of the next installment of their flagship series. This is not a game we should have waited 8 years for. It would have been better as a release 2-4 years after the next Elder Scrolls. So now we are stuck waiting for at least another 5 years just to potentially be disappointed after another long wait.\n",
      "Starfield - 6/10\n",
      "Split: boring game with a lame main story. pretty much every feature is locked behind a skill point. by time you are high enough level to unlock the features and spending some points buffing your character, the game will have lost all novelty. combat lacks challenge and increasing difficulty just makes enemies bullet sponges. the larger side quests are average, and not very compelling. i struggled to find a reason on why my character would help these groups, and most are them talk like smug pricks to your character for no reason. how space travel and fast travel are implemented is just awful. if i want to go to one star system, but my ship isn ' t good enough to get there in one jump, i instead have to make 3 separate jump each with a loading screen to get there. overall the core game is just not very fun or engaging. if you read reviews and see people who claim they are having a blast 30 hours in and haven ' t even gotten to doing the second or third main mission. they must enjoy the repetitive procedural content and repeat mission boards. which involve shooting the same boring enemies or doing the same task again and again. i don ' t think most people who are experienced with these types of games find that very fun. it ' s because\n",
      "\n",
      "Doc 7725\n",
      "Original: I mean, 158 hours in, and I finally ran out of meaningful stuff to do. \n",
      "\n",
      "The game is fun, but sorta linear. There are tons of side quests, but only 5 main factions. Each faction has about 6-8 hours of stuff to do. Once you grind the main story line and knock out the faction quests you can build an outpost and start doing side quests but the motivation to keep playing sorta goes away. \n",
      "\n",
      "In my time playing I ran into game breaking bugs a total of 7 times. Each either causing me to revert to old saves or use console commands, which turned off my steam achievements. \n",
      "\n",
      "In my time playing I found about 140 legendary weapons, of which 100 were melee for some reason. \n",
      "\n",
      "The perk system prevents you from playing the way you want to out of the gate. For example you might find a cool set of armor, and want to modify it. Well you need to get about 4-8 levels worth of perks to do that. And now you might want to build a cool ship. Well you need levels for that. And you want to have more than 3 crew on that ship? Well now you need about 12 levels worth of points to do that. \n",
      "\n",
      "I think the devs were so married to the idea of NG+ that they forgot that the game also needs to be fun, and didn't quite find the balance. I suspend DLCs will help with that. \n",
      "\n",
      "With all that being said, I did enjoy paying the game for what it is, with all of it's flaws. The modding community will likely finish what Bethesda started and I look forward to what star field will be in 5 years. \n",
      "\n",
      "\n",
      "Split: i mean, 158 hours in, and i finally ran out of meaningful stuff to do. the game is fun, but sorta linear. there are tons of side quests, but only 5 main factions. each faction has about 6 - 8 hours of stuff to do. once you grind the main story line and knock out the faction quests you can build an outpost and start doing side quests but the motivation to keep playing sorta goes away. in my time playing i ran into game breaking bugs a total of 7 times. each either causing me to revert to old saves or use console commands, which turned off my steam achievements. in my time playing i found about 140 legendary weapons, of which 100 were melee for some reason. the perk system prevents you from playing the way you want to out of the gate. for example you might find a cool set of armor, and want to modify it. well you need to get about 4 - 8 levels worth of perks to do that. and now you might want to build a cool ship. well you need levels for that. and you want to have more than 3 crew on that ship? well now you need about 12 levels worth of points to do that. i think the devs were so\n",
      "\n",
      "Doc 43391\n",
      "Original: I've heard quite a few things about this game prior to release and I can see why many would have issues playing the game. But in all honestly, its been nothing but a good game. Despite some of the issues such as loading screens pretty much all the time, it still does not take away from the game itself and after playing for around 30 hours, Im still going through side quests enjoying my time playing the game. I could complain about all the games issues and only see the negative but if you look at the things the game does right, you'll have a much easier play through and enjoy the game. Im still looking forward to starting the main quests and progress through a game so full of content to explore.\n",
      "Split: i ' ve heard quite a few things about this game prior to release and i can see why many would have issues playing the game. but in all honestly, its been nothing but a good game. despite some of the issues such as loading screens pretty much all the time, it still does not take away from the game itself and after playing for around 30 hours, im still going through side quests enjoying my time playing the game. i could complain about all the games issues and only see the negative but if you look at the things the game does right, you ' ll have a much easier play through and enjoy the game. im still looking forward to starting the main quests and progress through a game so full of content to explore.\n",
      "\n",
      "Doc 13098\n",
      "Original: I played 30 hours expecting the game to get better but for every 1 thing I like about Starfield there's at least another 5 things that are really bad that and we have Bethesda trying to correct people with negative reviews on why their game is actually not bad is really sad.\n",
      "Split: i played 30 hours expecting the game to get better but for every 1 thing i like about starfield there ' s at least another 5 things that are really bad that and we have bethesda trying to correct people with negative reviews on why their game is actually not bad is really sad.\n",
      "\n",
      "Doc 49671\n",
      "Original: I'm giving this a yes on the fact that it's nice to have a game come out that has some depth to it. I did get lost in it for 116 hours, and that was nice.  And the biggest reason for the yes is down below. However:\n",
      "\n",
      "60 hours into my first playthrough I hit a game breaking quest marker issue, I couldn't go past it and it was one of the stories I really wanted to see through, and it was the final ending quest for that series. So I decided to just make a new game and change my play style. \n",
      "\n",
      "116 hours in. New playthrough, totally enjoying myself. Doing much better this time, Game breaking quest progression bug. So here I am.\n",
      "\n",
      "The thing is I'm all about immersion. And I no longer feel like spending any more time working through all of the reddit scenarios that may or may not work. Apparently this is happening to people on both PC and xbox. \n",
      "\n",
      "The character creation is completely bland, quite a set back from previous bethesda games, which really makes you feel like you have to choose a character that looks like everyone else. Some of the interior environments are insanely detailed which is a nice balance. Ship building is nice, but in general the entire space experience right now sucks, is limited and feels arcade like. Base building is useless, No Mans Sky has lessons to be learned from here.\n",
      "\n",
      "So why a thumbs up? When the mod kit becomes available, as usual our modding community will turn this game into the game we want, and hoped it would be. After our fantastic modders get their hands on this thing, my spark will re-ignite. Until then I'm going to shelve it, but don't want to discourage people from taking the dive once this goes on sale. I did enjoy my time in it, I just can't seem to get through a paly through without a quest getting completely locked. The greatness will come, Don't forget to support your favorite modders when it gets here.\n",
      "Split: i ' m giving this a yes on the fact that it ' s nice to have a game come out that has some depth to it. i did get lost in it for 116 hours, and that was nice. and the biggest reason for the yes is down below. however : 60 hours into my first playthrough i hit a game breaking quest marker issue, i couldn ' t go past it and it was one of the stories i really wanted to see through, and it was the final ending quest for that series. so i decided to just make a new game and change my play style. 116 hours in. new playthrough, totally enjoying myself. doing much better this time, game breaking quest progression bug. so here i thing is i ' m all about immersion. and i no longer feel like spending any more time working through all of the reddit scenarios that may or may not work. apparently this is happening to people on both pc and xbox. the character creation is completely bland, quite a set back from previous bethesda games, which really makes you feel like you have to choose a character that looks like everyone else. some of the interior environments are insanely detailed which is a nice balance. ship building is nice, but in\n",
      "\n",
      "Doc 72127\n",
      "Original: This game is very good and fun to play\n",
      "Split: this game is very good and fun to play\n",
      "\n",
      "Doc 53704\n",
      "Original: first 10 hour game is a little mix of bad and good you expect it to be good. After 50 hours you believe it's the game of the year. Right when you get above and around 120 hours the game gets pretty bad and disappointing.\n",
      "\n",
      "\n",
      "\n",
      "(My first review after 30 hours) - Yes\n",
      "Split: first 10 hour game is a little mix of bad and good you expect it to be good. after 50 hours you believe it ' s the game of the year. right when you get above and around 120 hours the game gets pretty bad and first review after 30 hours ) - yes\n",
      "\n",
      "Doc 16468\n",
      "Original: tl;dr: fast travel is good if you prefer story to a flying sim; tutorial could use some work but it's more immersive because you learn as you go; hud is a bit tricky to get used to; story and world are great. This game is great for people who prefer self-paced, immersive, open-world RPGs with a focus on story. It probably wouldn't be good for someone who wants a full-feature flying sim, intense combat, and immediate difficulty.\n",
      "\n",
      "I was pretty hesitant to get this game, I'll be honest. When I first heard of it, I was excited, because I love FO and Skyrim. But then I saw the reviews and so I waited for it to go on sale. I'm glad I waited because I think the full price is a bit much for this game (most games though, tbh). But I am actually glad I got the game. I've not played for long, but I was made to believe the first few hours would be really tedious to get through. So far, I've not found it tedious per say, though I had to look up inventory management (personal and ship), specific actions when flying/targeting, and teleporting, because the tutorial didn't really cover it clearly.\n",
      "\n",
      "The reviews that were against the game all seemed to say how the fast travel system broke it... \"made a huge universe feel small\" essentially. I disagree. If I wanted to play a flying simulator, I wouldn't be playing this game; I like the ability to fast travel because I'm more interested in the story than the flying mechanics. That's just gameplay preferences though, but I wouldn't write the game off completely because of this.\n",
      "\n",
      "The map interface takes some getting used to, as does navigating the HUD in general. Maybe that's just me, but I am stumbling around the UI a bit. It shares a ton of similarities with FO though, so that helps. It's just an added layer of complexity when you have a ship, intergalactic travel, etc. to think about.\n",
      "\n",
      "One thing I thought was actually pretty neat was the way you get sidequests. It's pretty immersive because you can just listen to NPC convos as you're walking around and get hints about things you can track down. The pickup points don't initially have quest markers- you either find them through dialogue or kind of passively. At first, it was weird, but I actually think it makes the game more realistic. \n",
      "\n",
      "Having said that, you are kind of on your own as far as how you want to play this game. Because it's so big, you can basically do whatever you want. Just doing sidequests can level you quickly and while you may not unlock some things because of missing the main story, don't neglect the quests you are interested in. \n",
      "\n",
      "Making \"credits\" is also really easy in this game so far, which is a welcome relief. I don't feel like I'm begging for scraps all the time.\n",
      "\n",
      "I'm not ten hours in yet, so all of this could change, but I wanted to write because I was expecting real pain so far based on the other reviews I had read, but I haven't felt that, so was hoping maybe someone might read this and think that the game might be good for them too.\n",
      "Split: at first, it was weird, but i actually think it makes the game more realistic. having said that, you are kind of on your own as far as how you want to play this game. because it ' s so big, you can basically do whatever you want. just doing sidequests can level you quickly and while you may not unlock some things because of missing the main story, don ' t neglect the quests you are interested in. making \" credits \" is also really easy in this game so far, which is a welcome relief. i don ' t feel like i ' m begging for scraps all the not ten hours in yet, so all of this could change, but i wanted to write because i was expecting real pain so far based on the other reviews i had read, but i haven ' t felt that, so was hoping maybe someone might read this and think that the game might be good for them too.\n",
      "\n",
      "Topic 0:\n",
      "Doc 46704\n",
      "Original: I don't think I've ever been more bored in a bethesda game. With companions that are not at all memorable, a main quest that didn't pull me in until the last 3 missions and mostly un-interesting planets, it really felt like the whole \"25 years in the making\" was more like 4 of 5. I have thousands of hours across multiple bethesda titles, mostly from The Elder Scrolls and Fallout series, so I should love this, right? It just feels so bland and empty, so directionless (its a bunch of small fetch quests) and uninteresting. The best part of the game is ship building, but far. But if you want to actually complete the main story, it's all meaningless, especially if you want to New Game Plus enough times to get the rewards (10 times total). I finished New Game Plus 3 (you can skip the main quest after the first time and get right to the \"fun\" part when you start new) and honestly I don't care enough to continue.\n",
      "\n",
      "The soundtrack is good, but sometimes overwhelmingly loud and no, turning it down or off doesn't help, it's baked into the code during certain segments.\n",
      "\n",
      "Getting your space powers are HORRIBLY boring compared to skyrim (which, come on, everyone makes fun of the Dragur for a reason\") you land on a planet (watch an unskippable cutscene) walk 500m, go into an empty temple, float around and collect stardust a few times, become deafened by incredibly loud swells of music, watch an unskippable cutscene, and then you are booted outside and now get to repeat that process 20+ times until you get all your powers and upgrades. Are you having fun yet? I've already pre-ordered the the dlc from the fun I'm having.\n",
      "\n",
      "The perks aren't bad, but flat damage increases aren't fun, why not have skills back? And make the 25, 50, 75, and 100 levels do the flat damage increases and bring back more fun and interesting perks? It kills my desire to role-play using certain guns when bullet sponge enemies eat all the ammo from the gun I have all my perks in (oh yeah, don't play on very hard unless you want to dump ALL your magazines into single targets) The final fight is the shittiest \"boss\" fight I've seen in a game. No balance just fight dudes who can make copies of themselves and are already hard to kill. There is zero sense of progression for combat. It's like fighting 10 ebony warriors at once, but even the shouts would've made that more fun than the boring as hell space powers.\n",
      "\n",
      "The factions are pretty copy and paste, with your choices being; Cop, sheriff, space marine (not the cool kind) corporate spy, and pirate. It's all so incredible bland and dry I wish I could tell you how they all were but they all merged into one glob in my brain and it made Fallout 4s factions look more fun.\n",
      "\n",
      "Space combat is horribly boring, you simply put all power into weapons and out-dps the ship. You don't even have to move, cause the enemy will constantly hit you no matter how good your flying is. Ship building is really fun, but they stop you from building anything too big or with too many guns or reactors (no fun allowed).\n",
      "\n",
      "There are plenty of Space Exploration style games out of steam that have had time to grow and become better and I would reccomend any of them over this. \n",
      "\n",
      "Physics being better and it looking good (except for the hideous character models) isn't enough of a reason to buy this. The main quest made Skyrims more enjoyable, and when people are telling you to get mods LESS THAN A DAY after the game releases, that should be a hint it isn't even finished.\n",
      "\n",
      "Who the christ, in 2023, releases a PC game without HDR functionality, a fucking brightness slider, or even a simple FOV slider? There isn't even full-screen support.\n",
      "\n",
      "While the game doesn't have that many bugs, it does have load screens everywhere, and even with the frequent load screens (you will see a LOT of them) it still chugs in some areas, even if your PC exceeds the recommended specs. It's inexcusable when far better looking games outperform this, while having less loading screens (Cyberpunk 2077).\n",
      "\n",
      "I wish I was a Spaceborn (great name btw, sure that one took a lot of interns to figure out) so I could reset this universe to when I didn't buy this game.\n",
      "\n",
      "Edit Nov 2023: after a full month of release they added an FOV slider! That's the trillion dollar parent company at work right there. AND they have an HDR beta coming, which is innovative, because I don't think I've ever heard of a beta for DLSS or HDR, especially since modders did this for free without a beta.\n",
      "Split: i don ' t think i ' ve ever been more bored in a bethesda game. with companions that are not at all memorable, a main quest that didn ' t pull me in until the last 3 missions and mostly un - interesting planets, it really felt like the whole \" 25 years in the making \" was more like 4 of 5. i have thousands of hours across multiple bethesda titles, mostly from the elder scrolls and fallout series, so i should love this, right? it just feels so bland and empty, so directionless ( its a bunch of small fetch quests ) and uninteresting. the best part of the game is ship building, but far. but if you want to actually complete the main story, it ' s all meaningless, especially if you want to new game plus enough times to get the rewards ( 10 times total ). i finished new game plus 3 ( you can skip the main quest after the first time and get right to the \" fun \" part when you start new ) and honestly i don ' t care enough to soundtrack is good, but sometimes overwhelmingly loud and no, turning it down or off doesn ' t help, it ' s baked into the code during certain your space powers are horribly boring compared to\n",
      "\n",
      "Doc 45544\n",
      "Original: Almost doesn't feel like a Bethesda game, in a very good way.\n",
      "Split: almost doesn ' t feel like a bethesda game, in a very good way.\n",
      "\n",
      "Doc 32928\n",
      "Original: The first few hours are absolute shite and a bit dull, be prepared to push through that. Once the game opens up and you become more comfortable with the flow, you'll have more fun. Starfield definitely ripped from No Mans Sky & Elite Dangerous which is a good thing IMO because they've learned what makes those other games fun.\n",
      "\n",
      "At its heart it's a Bethesda game, if you don't like Fallout 3/4, you're going to hate this. I delayed playing because I was turned off by the idea of exploration through maps and loading screens, but I got used to it and I'm having fun. \n",
      "\n",
      "The positives do outweigh the negatives: Gun Play, equipment modification, recruiting a crew that actually impact your ship, ship combat, boarding/taking over hostile ships, and ship building are a lot of fun. (I have spent hours upon hours in ship building, it is a blast). I haven't done base building yet.\n",
      "\n",
      "Visually the game a few years ahead of Fallout 4, but absolutely not to the standard of a game released in the last 5 years. Bethesda's aging engine is definitely showing. All and all, I am having a lot of fun, but it's not for everyone.\n",
      "Split: the first few hours are absolute shite and a bit dull, be prepared to push through that. once the game opens up and you become more comfortable with the flow, you ' ll have more fun. starfield definitely ripped from no mans sky & elite dangerous which is a good thing imo because they ' ve learned what makes those other games its heart it ' s a bethesda game, if you don ' t like fallout 3 / 4, you ' re going to hate this. i delayed playing because i was turned off by the idea of exploration through maps and loading screens, but i got used to it and i ' m having fun. the positives do outweigh the negatives : gun play, equipment modification, recruiting a crew that actually impact your ship, ship combat, boarding / taking over hostile ships, and ship building are a lot of fun. ( i have spent hours upon hours in ship building, it is a blast ). i haven ' t done base building the game a few years ahead of fallout 4, but absolutely not to the standard of a game released in the last 5 years. bethesda ' s aging engine is definitely showing. all and all, i am having a lot of fun, but it ' s not\n",
      "\n",
      "Doc 93672\n",
      "Original: I wanted to rewrite my starfield thoughts because, after thinking it over more and having more time with the game I have different opinions, particularly on exploration.\n",
      "\n",
      "So I do still really like the game, but i don't like it in the same way i like the more recent BGS games like skyrim or FO4. This games exploration is honestly not great. If you play this like Skyrim, if you go to a planet, go around to random locations, scan the planet fully and move on, you're gonna get really bored unless your a psycho like me who likes running around scanning.\n",
      "\n",
      "I honestly think this game is better played like a New Vegas or Oblivion, getting quests, talking to NPCs, going down whatever questlines they have. You explore the more interesting locations this way, you get to experience the worldbuilding of this game which i think is mostly quite good, and you have good quest design that has a variety of things to do and several different ways to complete them. Thats the most enjoyable way to experience starfield. I think some people will still not like it and disagree with me on the quality, but I really enjoy the questlines and general sidequests for the most part. Even the main quest, which isn't amazing, was a lot better than FO4 at least.\n",
      "\n",
      "For some reason the way this game does exploration makes people worried about the next elder scrolls, as if they aren't entirely different settings. Unless they pull a daggerfall and make the land masses massive for some reason, I would expect the elder scrolls to stick with its standard exploration, its what works for that series. If anything, this game makes me more excited for the next TES because with these kind of quests, and typical Elder Scrolls map exploration, the game should be great. Anyway, I enjoy starfield, idk why i'm talking about The Elder Scrolls.\n",
      "\n",
      "Still really like the combat, actually enjoying the level up system, i like the blend of TES and Fallout into it, still not loving the performance, and the UI is still bad(downloaded a mod for it because i couldn't stand it anymore) but overall I like it. Its not the greatest game ever but its a fun RPG\n",
      "Split: i wanted to rewrite my starfield thoughts because, after thinking it over more and having more time with the game i have different opinions, particularly on i do still really like the game, but i don ' t like it in the same way i like the more recent bgs games like skyrim or fo4. this games exploration is honestly not great. if you play this like skyrim, if you go to a planet, go around to random locations, scan the planet fully and move on, you ' re gonna get really bored unless your a psycho like me who likes running around honestly think this game is better played like a new vegas or oblivion, getting quests, talking to npcs, going down whatever questlines they have. you explore the more interesting locations this way, you get to experience the worldbuilding of this game which i think is mostly quite good, and you have good quest design that has a variety of things to do and several different ways to complete them. thats the most enjoyable way to experience starfield. i think some people will still not like it and disagree with me on the quality, but i really enjoy the questlines and general sidequests for the most part. even the main quest, which isn ' t amazing\n",
      "\n",
      "Doc 67316\n",
      "Original: I honestly can not recommend the game, and that sucks! it is just frustrating, there is so much to this game, but so much is locked behind a time sink wall! i don't mean playing the game to improve skill wall, or experience gain that feels natural i mean you are locked behind hours of pointless playing where you can't even pick a lock, use stealth, craft a silencer. \n",
      "\n",
      "It really kills the game for me! and is honestly forcing me to the console commands, if i feel the need to just cheat out of the box the game is a bit borked isn't it? \n",
      "\n",
      "New Vegas, FO3/4, Elder scrolls oblivion, skyrim, any of rpg! i didn't mess about with console commands or mods or cheats or anything until i had completed the game and was happy to have had a play through. \n",
      "\n",
      "This pile of steaming trash? nah i don't have time for it, it is just frustrating for no reason. \n",
      "The lock picking - don't get me started is horrific, and you won't realise you wasted 20 picks on a bugged lock until it is too late... this has happened more than once.  Just works eh? \n",
      "\n",
      "The questing, the NPC's all feel just feel like that NPC's with no life what so ever, you know how in older games by Bethesda NPC's would seem to live a life? not here, yes some go to bed but they don't feel like characters they feel like spouting exposition mannequins - Honestly 76's tapes had more charm than the people i have met so far. \n",
      "\n",
      "The game world just feels disconnected!  remember how No mans sky got crap for not being able to fly your spaceship off a planet? well same here - but i feel it is worse! everything is just an instance, it feels like nothing is interconnected.. Honestly it is FAST TRAVEL the game (oh add in loading screens every other place too - no wonder it needs a SSD) \n",
      "\n",
      "The combat? feels fine like more refined FO4 but the space combat? uhg i don't know it is just bad! the ship flying and combat is really basic, really nothing, more smoke and mirrors than skill and fun. \n",
      "\n",
      "The world is very copy pasta too, the average planet that is meant to be the hub of civilisation is just barren forrest with the exact same 3 bases spread across with either no one in them, some pirates, or a xeno... \n",
      "\n",
      "THE XENO is not scary.... you shoot it, it bleeds, it dies... i accidentally killed my first one just exploring and didn't realise it was meant to be a beast that could kill and entire marine squad with ease!  It would be like in the Predator if Dutch tripped over dropped his gun it fired and head shot the PREDATOR! and everyone just shrugged moved on and wondered what the fuss was about. They are that easy!! \n",
      "I had a mission where i thought it was going to change, turn on defences! us a trap, all very tense... until i bumped into the Xeno it flailed around and i emptied 5 clips into it from my umpteenth legendary gun killing it.. \n",
      "\n",
      "\"special\" legendary Guns and equipment is so common that i am already just leaving it on corpses - 20 hours into a play through.... after only 20 hours and being level 10 i am seemingly more powerful than i was in any other Bethesda style game 150 hours in... I had so many credits that i pimped my ship just to feel broke. \n",
      "\n",
      "How ever know what i have nothing of? Resources, because they have gotten rid of Junk, and Junk / weapon / stuff salvage - Yep you now have 100000 items in the world that serve no purpose other than things to look at.  Need some glue? oh i know all these rolls of tape!! yay - they do nothing other than weigh you down.. \n",
      "\n",
      "OH GODS!! Encumbrance the game - honestly i feel the storage space and carry weight is worse than it was in fallout 76!?  HOW IS THAT POSSIBLE!! it really kills the fun of exploring, and just means you need a companion to come with you to act as a Donkey.... \n",
      "\n",
      "The fact there is no ground vehicle is a joke as well, running across planets gets boring real quick you know. it makes no sense we live in a future with FTL travel yet no one has invented a Bike! \n",
      "\n",
      "This game is a real grind fest, a BAD grind fest at that - it feels more like a MMORPG than a single player RPG that is meant to have a rich narrative around the world. \n",
      "\n",
      "the first hour or two of the game feels super rushed, with little story telling or thought put into it, the long and short of it is this: You are a miner, you find a thing, person comes to take thing but oh no he has to stay so gives you his STAR SHIP! then bang you are free to do what ever... doesn't even ask if you can fly a star-ship just goes yeah sure what ever we needed you to have it so here have it. \n",
      "\n",
      "The audio is also really badly done, you will walk through a museum say, listen to an exhibit - how ever the 4 NPC's will keep walking past you and say: \"Ha i use to be an ostrich farmer\" or something utterly stupid like that  cutting over the conversation or thing you are listening to - over writing the subtitles and then making you miss that dialog... Every NPC's audio is the same volume too so it isn't like you are over hearing something it just cuts in. This isn't Oblivion - this is meant to be the next generation of RPG... \n",
      "\n",
      "Reading this you have a chance to save your money - do it don't waste it on this game like i did. \n",
      "\n",
      "this game is an ok sand box, it will be fine when modded i am sure? BUT IT IS BEING SOLD AS A \n",
      "$100+ GAME - and not an indie project, or a Early access game... \n",
      "\n",
      "This simply isn't good enough anymore - it simply just does not work. \n",
      "\n",
      "\n",
      "(I want to add the game ran fine for me and my system - that is not an issue  - I will keep playing? probably for a bit but this game will probably never get reinstalled on my SSD when i finally give up. )\n",
      "Split: all feel just feel like that npc ' s with no life what so ever, you know how in older games by bethesda npc ' s would seem to live a life? not here, yes some go to bed but they don ' t feel like characters they feel like spouting exposition mannequins - honestly 76 ' s tapes had more charm than the people i have met so far. the game world just feels disconnected! remember how no mans sky got crap for not being able to fly your spaceship off a planet? well same here - but i feel it is worse! everything is just an instance, it feels like nothing is honestly it is fast travel the game ( oh add in loading screens every other place too - no wonder it needs a ssd ) the combat? feels fine like more refined fo4 but the space combat? uhg i don ' t know it is just bad! the ship flying and combat is really basic, really nothing, more smoke and mirrors than skill and fun. the world is very copy pasta too, the average planet that is meant to be the hub of civilisation is just barren forrest with the exact same 3 bases spread across with either no one in them, some pirates, or a the xeno\n",
      "\n",
      "Doc 30691\n",
      "Original: Before you ask, this is a Bethesda game. If you like Bethesda game style then you will love this game as it brings a space element and much more world exploration element. It leaves a lot of room to either branch away from the main story and go on a thousand (sometimes meaningless, sometimes not) side quests for story or fun. It kinda feels like fallout 4 got thrown into outer space with skyrim elements showing up later on. there is a new game plus option that brings a different meaning to starting overpowered [spoiler]if you play the story over, or a somewhat harder fast track option to just unlock the new game plus content faster.[/spoiler] \n",
      "\n",
      "The main thing to look here is weather you dislike Bethesda games (not me, i have over 100 hours and keep wishing i had more time to play), like to post smack about Bethesda releasing with errors (like literally everyone anymore) but still play anyways, or you just like Bethesda's game play like myself.\n",
      "\n",
      "Pro's:\n",
      "- Bethesda\n",
      "- Space\n",
      "- [spoiler]Tiid Klo Ui!![/spoiler]\n",
      "- mods\n",
      "\n",
      "Cons:\n",
      "- Bethesda\n",
      "- Bugs (being fixed fairly regularly)\n",
      "- No Co-op (please... please see this and add some form of co-op!)\n",
      "- No seriously, we tried the mmo thing, we can all connect for sure, can we just play two player? (up to like 4 max would be awesome! [spoiler]or your crew limit[/spoiler] but they would be locally hosted between eachother.)\n",
      "[spoiler]- Even new game plus when just trying to increase bonuses can be grindy especially if you want the most bonuses from each run.[/spoiler]\n",
      "Split: before you ask, this is a bethesda game. if you like bethesda game style then you will love this game as it brings a space element and much more world exploration element. it leaves a lot of room to either branch away from the main story and go on a thousand ( sometimes meaningless, sometimes not ) side quests for story or fun. it kinda feels like fallout 4 got thrown into outer space with skyrim elements showing up later on. there is a new game plus option that brings a different meaning to starting overpowered [ spoiler ] if you play the story over, or a somewhat harder fast track option to just unlock the new game plus content the main thing to look here is weather you dislike bethesda games ( not me, i have over 100 hours and keep wishing i had more time to play ), like to post smack about bethesda releasing with errors ( like literally everyone anymore ) but still play anyways, or you just like bethesda ' s game play like bethesda - space - [ spoiler ] tiid klo ui!! [ / spoiler ] - mods cons : - bethesda - bugs ( being fixed fairly regularly ) - no co - op please see this and add\n",
      "\n",
      "Doc 89825\n",
      "Original: it is very much a bethesda game in space and not a space game with bethesda touches. by all accounts they did exactly what the set out to do but it does feel exactly like a fallout game in space. like if you said time jumped to 2330 but its still fallout i wouldn't bat an eye. \n",
      "\n",
      "i think its characters are fine but the main ones as always are a little dull and the side stuff is where the meat is. i like the game and ill continue to play but where it falters is being on the bones of Bethesda games and the loading screens are way too frequent to give any feeling of expanse. like im fairly certain unless specific missions call for it you can fast travel to every single place and never spend more than a few seconds in actual space. \n",
      "\n",
      "i think no mans sky definitely nailed the scope of what it was doing where as Bethesda nailed the actual moment to moment game play for what the game is and especially so in the curated bits some of those are really excellent. but all the in between bits are just not near as good as no mans sky. like it is cool and it is a major success and step forward for Bethesda but it just is still their game for better or worse and all the caveats that come with that except this time it runs incredibly well and is the best looking game they've made but again They being the key here. \n",
      "\n",
      "i think both have their place but i think if they were already going to lean into systems present in no mans sky they should have leaned a lot harder into some of them. the more time i get with it the more id have to say. as someone who adores fallout and no mans sky both and thought this would be the perfect hit for me it does fall a tad flat across the board. \n",
      "\n",
      "i do think its a well made and good game but what mileage you get out of it will heavily depend on the last time you really spent with a Bethesda game because again it is without question a Bethesda game. for some that exactly what you want for others i think it is a real misstep in the opportunity present to really create something wildly different with the same level of emergence their other games have. its not devoid of it but it Feels much more like they took the safe road rather than the scenic route. think of it kinda like Assassins creed odyssey where it was identical to origins primarily in its structure but had little tweaks and settings that were different. its still a fallout game but its a different one. its a game where i think starfield 2 will be really something great its just we wont see that for another decade so as always maybe modders will step in and do what they didn't. \n",
      "\n",
      "I'm invested, i'm just not In love. it is a good game but it isn't going to blow you away in any real capacity. you know what you're getting here and that's both good and bad i think personally.\n",
      "Split: it is very much a bethesda game in space and not a space game with bethesda touches. by all accounts they did exactly what the set out to do but it does feel exactly like a fallout game in space. like if you said time jumped to 2330 but its still fallout i wouldn ' t bat an eye. i think its characters are fine but the main ones as always are a little dull and the side stuff is where the meat is. i like the game and ill continue to play but where it falters is being on the bones of bethesda games and the loading screens are way too frequent to give any feeling of expanse. like im fairly certain unless specific missions call for it you can fast travel to every single place and never spend more than a few seconds in actual space. i think no mans sky definitely nailed the scope of what it was doing where as bethesda nailed the actual moment to moment game play for what the game is and especially so in the curated bits some of those are really excellent. but all the in between bits are just not near as good as no mans sky. like it is cool and it is a major success and step forward for bethesda but it just is still their game for better or worse\n",
      "\n",
      "Doc 87307\n",
      "Original: I've been playing since Early Release... and one word to describe it : immersive !\n",
      "\n",
      "Everything's not perfect, but the overall feeling is very solid : let's say 8/10!\n",
      "\n",
      "And yes, it is a Skyrim in Space, not a Star Citizen look a like game \n",
      "\n",
      "Some Pros:\n",
      "- Quests, so many quests\n",
      "- Factions\n",
      "- Space Systems and Planets\n",
      "- Outposts anywhere you want\n",
      "- Ship building\n",
      "- Gun gameplay is OK\n",
      "\n",
      "Some Cons :\n",
      "- Dogfight is not very interesting\n",
      "- Companions could have been better\n",
      "\n",
      "Split: i ' ve been playing since early and one word to describe it : immersive! everything ' s not perfect, but the overall feeling is very solid : let ' s say 8 / 10! and yes, it is a skyrim in space, not a star citizen look a like game some pros : - quests, so many quests - factions - space systems and planets - outposts anywhere you want - ship building - gun gameplay is ok some cons : - dogfight is not very interesting - companions could have been better\n",
      "\n",
      "Doc 21899\n",
      "Original: I really wanted to like Starfield, I tried to like it, but have come to the realization Starfield is a 'meh' game. Some parts of the world are interesting at first, but quickly become boring through repetitive game play. I am disappointed with Bethesda and would call the game not up to standard for a Triple A game for 2023.\n",
      "\n",
      "Despite having so many locations, the game world seems small, to many planets seem the same, not enough variety in POIs, and as a typical Bethesda game, the cities are small. I wanted to explore and have unique encounters, not to enter the same cave on a dozen different planets.\n",
      "\n",
      "Some of the quests are interesting, but too many are either kill this pirate or fetch this semi-common item. There is a lack of innovation in this game. I cannot see why anyone would want to replay it more than once, yet alone finish it. I have added multiple mods to spice things up, fix issues, which helped me play longer, but they don't do enough to hide the fact Starfield is  a walking and loading screen simulator with too many menu screens.\n",
      "\n",
      "I would not recommend Starfield to anyone at full price, wait for a 40% off sale.  I think it is a tragedy\n",
      " that Bethesda is slipping in to mediocrity just like Bioware.\n",
      "Split: i really wanted to like starfield, i tried to like it, but have come to the realization starfield is a ' meh ' game. some parts of the world are interesting at first, but quickly become boring through repetitive game play. i am disappointed with bethesda and would call the game not up to standard for a triple a game for having so many locations, the game world seems small, to many planets seem the same, not enough variety in pois, and as a typical bethesda game, the cities are small. i wanted to explore and have unique encounters, not to enter the same cave on a dozen different of the quests are interesting, but too many are either kill this pirate or fetch this semi - common item. there is a lack of innovation in this game. i cannot see why anyone would want to replay it more than once, yet alone finish it. i have added multiple mods to spice things up, fix issues, which helped me play longer, but they don ' t do enough to hide the fact starfield is a walking and loading screen simulator with too many menu would not recommend starfield to anyone at full price, wait for a 40 % off sale. i think it is a tragedy that bethesda\n",
      "\n",
      "Doc 28642\n",
      "Original: Its good, but hardly a \"masterpiece\". It's a Bethesda game, so it plays out a lot like Fallout and Skyrim. I don't think that's news to anyone. The space aspect is new, building ships is fun, however all feels a little.. I don't know how to explain it. It's missing things. I hope the modding community adds as much to this game as they did to Skyrim. I find it kinda sad we need the mod community to step this up. \n",
      "I've admittedly spent well over 100 hours playing this game, and I enjoyed that time. If you like Bethesda games from the past, and enjoy the idea of exploring space, you will enjoy this game. I don't think it's as epic as everyone was hoping for, but I also think the expectations were too high. We all want what Star Citizen promised. This isn't it. This is Skyrim in space.\n",
      "Oh, and the bugs. There are sooo many that just suck. Wait for the patch to play the game that was intended I guess... Outposts are so hard to make function.\n",
      "Split: its good, but hardly a \" masterpiece \". it ' s a bethesda game, so it plays out a lot like fallout and skyrim. i don ' t think that ' s news to anyone. the space aspect is new, building ships is fun, however all feels a i don ' t know how to explain it. it ' s missing things. i hope the modding community adds as much to this game as they did to skyrim. i find it kinda sad we need the mod community to step this up. i ' ve admittedly spent well over 100 hours playing this game, and i enjoyed that time. if you like bethesda games from the past, and enjoy the idea of exploring space, you will enjoy this game. i don ' t think it ' s as epic as everyone was hoping for, but i also think the expectations were too high. we all want what star citizen promised. this isn ' t it. this is skyrim in and the bugs. there are sooo many that just suck. wait for the patch to play the game that was intended i outposts are so hard to make function.\n",
      "\n",
      "Topic 1:\n",
      "Doc 33718\n",
      "Original: The game is alright, but it's got a lot of problems lol\n",
      "\n",
      "To start with positives, this game's aesthetic is fantastic and I really enjoyed the sci-fi realism aspect to it. Dubbed 'NASA punk' by Bethesda, the game's locations, vehicles, character/npc outfits as well as armor sets were super dope. (Big shout out to the armor sets, as that was my major problem with The Outer Worlds.) Game textures and lighting are a major improvement over Fallout 4 and Skyrim. Combat is extremely fun and satisfying, whether you are using melee or ranged weapons. In addition to this and without spoiling too much, the game has its own version of shouts from Skyrim. These abilities that are simply called 'Powers' in the game can be pretty useful, adding another interesting and varied layer to the combat as there are many different powers to collect. Having so many different powers naturally fosters player experimentation in how you can approach a fight. Additionally, this game has a good amount of enemy variety, with big props to the numerous hostile alien monsters that you can encounter on Starfield's many different planets.Speech, intimidation and bribery skills return from Bethesda's other titles, giving the player the freedom to circumvent different scenarios, get better rewards on top of getting better quest outcomes that you wouldn't get without them. Lockpicking/hacking skills also return, allowing you to rob AND pillage as much as your heart desires.\n",
      "\n",
      "Without spoiling anything, the main story and character performances are top notch and on par with Bethesda's other titles. While the main story starts off slow, it is ultimately fantastic and the new game plus mode in this title is actually integral to the game's story. The hand crafted side quests (not the procedurally generated ones) are varied and really fun to play through, ranging from basic missions to multi branching quest lines. Player choice is something Bethesda has always done well with all of their games since Morrowind and Starfield is no exception. There were some really tough choices I had to make while playing this game, especially the last choice. I find myself wondering if I made the right choices for the fate of the galaxy, the universe, and my player character. I also really liked that your options for choices are perfectly balanced, giving players the ability to be the savior of the galaxy, a ruthless unconscionable killer or something in between.\n",
      "\n",
      "So why does this game only have a 74% positive review rating on Steam and keeps getting hate from a lot of people? Well, I'll try to outline what other people’s problems with this game as well as address some of my own. First problem I want to mention is the game locks features behind certain perks, the jet pack and ship customization just to name a couple. I really thought Bethesda had learned their lesson when they removed the need to have a 'Power armor training' perk in Fallout 4, so why do I need a perk to customize my ship or just use my jetpack? It seems like a strange step backwards just so each skill tree can have the same amount of skills. \n",
      "\n",
      "Next major negative about this game which almost everyone has touched upon is exploration. While it's far from a perfect game, I enjoyed The Outer World's much more focused approach to exploration. Especially compared to other games released in the last few months (*cough* *cough* Baldur's Gate 3) most of the game's map is unused and fosters absolutely no desire to explore outside of the game's main cities and settlements. In fairness, the handcrafted main cities and settlements are really cool and fun to explore, but they're concentrated to a small area of the world map that consists of maybe 10-11 star systems, making the other 89-90 star systems feel almost completely pointless. This problem only gets worse with the fact that the vendor economy is horrible and most vendors do not restock their items, making the player mostly rely upon enemy drops for ammo and grenades towards the end of the game. The procedurally generated content is, well, procedurally generated content that most people will have zero motivation to engage with beyond the first time because it is so repetitive. They could've made exploration a bit more enjoyable by adding land vehicles, however I don't really know how well that would've worked since the game only loads one area of each planet at a time and it is not a seamless experience like with Cyberpunk. \n",
      "\n",
      "On top of all of this other nonsense, space travel is completely half baked and is only fun/engaging in combat scenarios. In short, exploration is a mess and the procedurally generated planets are what everyone including myself predicted them to be: lifeless and boring. Bethesda's previous titles felt like there could be a reward or quest around every inch or corner. However many people have dubbed this game a \"loading screen simulator\" and unfortunately, I'm inclined to agree with them.\n",
      "\n",
      "To get into some other problems with the game, while the game's 'Powers' system is cool, how you get each ability is the same each time you get one. You find a temple on a planet, do the weird zero gravity puzzle, and you get the power. To be fair, Bethesda tries to mitigate the repetitiveness by adding a single enemy at the end of each of these temples called 'Guardians'. But other than these enemies that start to show up toward the latter portion of the game, these Temples are incredibly boring. I preferred Skyrim's roll out of its shouts much more, with the player able to find shouts pretty much everywhere throughout the game. \n",
      "\n",
      "Speaking of directions, the game has no local or planet maps which everybody including myself have complained about. I completely understand that the planets are procedurally generated and having local maps for each one would be a huge pain to program. But there is no absolutely no way you can justify not having local maps for the cities and settlements. I cannot tell you how many times I got lost going through the main cities of the game, and not at all in a fun kind of way. It honestly just boggles my mind seeing as how the cities are almost completely static and really don’t change at all throughout the game. The only good thing is that when you are in ‘scanner mode’ a trail of arrows will often lead you to your destination. BUT THE GAME WOULDN'T NEED THAT STUFF IF IT JUST ADDED LOCAL MAPS.\n",
      "\n",
      "Lastly, I want to mention bugs and performance. While the game did not ship with many bugs, especially in comparison to Bethesda's other titles, it still has quite a few. None of these issues are game breaking, mostly just NPCs doing weird stuff, texture loading issues, and bugged achievements. The game was pretty stable and while I only had a handful of crashes, it's still worth mentioning here. Performance was fine in space and most planets, however almost every major settlement made the game's FPS drop significantly and stuttering was quite frequent. Especially since the main cities and settlements are where I recommend you spend most of your time, this is a major issue that needs to be fixed.\n",
      "\n",
      "TL;DR\n",
      "\n",
      "I’m admittedly a huge Bethesda fan, but there is nothing here that’s going to make a newcomer fall in love with the existing Bethesda formula. Bethesda really wanted this game to be their next Skyrim, and while Starfield is a pretty good game, I don’t think this will be the case even when the DLC drops. There are a lot of things that need to be fixed that just straight up probably won’t or can’t be fixed. Bethesda tried to be ambitious in a lot of ways with this title, and while that’s respectable, they also have moved backwards in a lot of ways with this title.\n",
      "\n",
      "I am ultimately gonna recommend this game to people who are already Fallout or Elder Scrolls fans, but I would tell pretty much everyone else to stay away at least until the DLC drops.  \n",
      "\n",
      "For Bethesda nerds like me: 3.5/5 \n",
      "\n",
      "Everyone else: 2.5/5   \n",
      "\n",
      "Average: 3/5\n",
      "Split: static and really don ’ t change at all throughout the game. the only good thing is that when you are in ‘ scanner mode ’ a trail of arrows will often lead you to your destination. but the game wouldn ' t need that stuff if it just added local i want to mention bugs and performance. while the game did not ship with many bugs, especially in comparison to bethesda ' s other titles, it still has quite a few. none of these issues are game breaking, mostly just npcs doing weird stuff, texture loading issues, and bugged achievements. the game was pretty stable and while i only had a handful of crashes, it ' s still worth mentioning here. performance was fine in space and most planets, however almost every major settlement made the game ' s fps drop significantly and stuttering was quite frequent. especially since the main cities and settlements are where i recommend you spend most of your time, this is a major issue that needs to be admittedly a huge bethesda fan, but there is nothing here that ’ s going to make a newcomer fall in love with the existing bethesda formula. bethesda really wanted this game to be their next skyrim, and while starfield is a pretty good game, i don\n",
      "\n",
      "Doc 63771\n",
      "Original: Game is fun, but if you run a Ryzen CPU it crashes non stop. 8 Hours in and the game crashes every 2-3 minutes and sometimes just crashes before I can load the game.\n",
      "Otherwise, as long as you're expecting a Bethesda game with all the usual creation engine 2 bugs and sound glitches, you get what you paid for.\n",
      "\n",
      "100 hours later edit:\n",
      "I cannot in good faith recommend this game. While some things are fixed now, I find this game to be a chore. It really is just a loading screen simulator.\n",
      "Split: game is fun, but if you run a ryzen cpu it crashes non stop. 8 hours in and the game crashes every 2 - 3 minutes and sometimes just crashes before i can load the as long as you ' re expecting a bethesda game with all the usual creation engine 2 bugs and sound glitches, you get what you paid hours later edit : i cannot in good faith recommend this game. while some things are fixed now, i find this game to be a chore. it really is just a loading screen simulator.\n",
      "\n",
      "Doc 79507\n",
      "Original: PROS: No game breaking bugs like in their previous games, some side quest lines are better and longer than the main quests, gun play is really good compared to their previous game franchise Fallout.\n",
      "\n",
      "The game is really fun and enjoyable, I REALLY recommend getting it and ignore it's cons.\n",
      "\n",
      "CONS: Visual Bugs, some bugs (their funny so I let them slide), audio bugs, optimization is really bad, no texture setting in graphic settings, guns aren't accurate to their sights all the time (just gonna say for the guns purpose maybe it's due to how shittily the guns were made by their manufactures like a Sten vs an M4) FSR3 causes ghosting, not really any difference in graphics from LOW - ULTRA.\n",
      "\n",
      "FPS: 30-40 (I drop to 20-30 avg in new atlantis)\n",
      "PC Specs:\n",
      "GPU: 6GB GTX-1660\n",
      "CPU: I7-4770 (2013)\n",
      "RAM: 16GB DDR3\n",
      "\n",
      "Settings\n",
      "Render Res: 67% with auto adjust to environment feature.\n",
      "Graphics Preset: LOW\n",
      "FRS3: Enabled, sharpening max (causes ghosting)\n",
      "\n",
      "Even with those settings I only drop maybe 10 or less FPS on ultra. Game is playable at 40FPS but I heard from multiple people with high end specs the game still ran bad.\n",
      "Split: pros : no game breaking bugs like in their previous games, some side quest lines are better and longer than the main quests, gun play is really good compared to their previous game franchise game is really fun and enjoyable, i really recommend getting it and ignore it ' s visual bugs, some bugs ( their funny so i let them slide ), audio bugs, optimization is really bad, no texture setting in graphic settings, guns aren ' t accurate to their sights all the time ( just gonna say for the guns purpose maybe it ' s due to how shittily the guns were made by their manufactures like a sten vs an m4 ) fsr3 causes ghosting, not really any difference in graphics from low - 30 - 40 ( i drop to 20 - 30 avg in new atlantis ) pc specs : gpu : 6gb gtx - 1660 cpu : i7 - 4770 ( 2013 ) ram : 16gb ddr3 settings render res : 67 % with auto adjust to environment preset : low frs3 : enabled, sharpening max ( causes ghosting ) even with those settings i only drop maybe 10 or less fps on ultra. game is playable at 40fps but i heard from multiple people with high end specs\n",
      "\n",
      "Doc 82654\n",
      "Original: So I've only played a bit so far and here's what I have to say.\n",
      "\n",
      "The game is one I could get easily engrossed in for hours on end due to the sheer scale of quests available to do but that's about the only positive.\n",
      "\n",
      "Firstly the performance is terrible. The game constantly freezes at the worst points and changing the graphics settings doesn't help in any way. I've heard quite a few people are running the game fine without any problems but for me, it's nothing but annoying. My system runs with a RTX 4080 graphics card, SSD and an Intel I7 13700k processor so it really shouldn't be freezing all the time. To me, this is a console only game as the amount of settings there are is abysmal. So for performance 1/10.\n",
      "\n",
      "The story seems like it may be interesting but I have no urge to push forward with it. Instead I find myself lost in the massive amount of side quests there are to complete. The UC quest line for example was very enjoyable. So two separate scores. Story 7/10 - seems generic. Quests on offer 9/10.\n",
      "\n",
      "Graphics are nothing to scoff at whilst playing (that's if they aren't let down by performance). Some planets however lack any texture which is a big put off. 7/10.\n",
      "\n",
      "Soundtrack is really good but is let down. This is only my opinion as I'm sure others wouldn't agree. But I'd hoped there would be some sort of music available to play like a radio station for example or even a music player so it doesn't interfere with the signal issue. So 6/10. Maybe Cyberpunk, Fallout and GTA spoiled me.\n",
      "\n",
      "As of writing this review, I've only played 31 hours but it would be a lot more if not for the constant crashing. When the game is bugging out, it really makes me want to stop playing and take a break before I throw my keyboard across the room. But I can't help but recommend due to the sheer amount there is to keep you occupied. I judge things I but on how many hours I'll get out of it and 31 hours means I already have my moneys worth.\n",
      "\n",
      "Overall score is 6/10 (fine).\n",
      "Split: so i ' ve only played a bit so far and here ' s what i have to game is one i could get easily engrossed in for hours on end due to the sheer scale of quests available to do but that ' s about the only the performance is terrible. the game constantly freezes at the worst points and changing the graphics settings doesn ' t help in any way. i ' ve heard quite a few people are running the game fine without any problems but for me, it ' s nothing but annoying. my system runs with a rtx 4080 graphics card, ssd and an intel i7 13700k processor so it really shouldn ' t be freezing all the time. to me, this is a console only game as the amount of settings there are is abysmal. so for performance story seems like it may be interesting but i have no urge to push forward with it. instead i find myself lost in the massive amount of side quests there are to complete. the uc quest line for example was very enjoyable. so two separate scores. story 7 / 10 - seems generic. quests on offer are nothing to scoff at whilst playing ( that ' s if they aren ' t let down by performance ). some planets however lack\n",
      "\n",
      "Doc 57687\n",
      "Original: PC Specs: 7600X, 7900XT, 64GB RAM, Windows 10\n",
      "I have no issues running the game, even as I continue to mod it. All settings are ultra (except for motion blur because ew gross), never goes below 60 FPS. I'm normally at 85 FPS outside of the super-heavy areas.\n",
      "I've only encountered one game breaking bug so far which is incredible considering it's a Bethesda title. There ARE plenty of regular bugs, though. The bug in question was my ship's entrance ladder disappeared. Restarting my game fixed it.\n",
      "\n",
      "Ship customization is great. I do wish it had less limits, though. I really want a permanently-in-space mobile base ship for myself that I could dock my smaller landing ships to.\n",
      "Cities are rather small, but that's mostly to console limitations and this being a console-focused game.\n",
      "Vanilla UI is trash. Modded UI>>>>>>\n",
      "\n",
      "I changed my mind about outposts, the system needs overhauled. There's no snapping, walls, foundations, roofs, etc. I want to make my own settlement, not 100+ storage containers and a hab cube.\n",
      "\n",
      "[h1]tl;dr this game is incredible & it's one of my favorites. My PC isn't even that ridiculous and it runs great.[/h1]\n",
      "just stop being poor and get better PC parts lmao\n",
      "Split: pc specs : 7600x, 7900xt, 64gb ram, windows 10 i have no issues running the game, even as i continue to mod it. all settings are ultra ( except for motion blur because ew gross ), never goes below 60 fps. i ' m normally at 85 fps outside of the super - heavy only encountered one game breaking bug so far which is incredible considering it ' s a bethesda title. there are plenty of regular bugs, though. the bug in question was my ship ' s entrance ladder disappeared. restarting my game fixed customization is great. i do wish it had less limits, though. i really want a permanently - in - space mobile base ship for myself that i could dock my smaller landing ships are rather small, but that ' s mostly to console limitations and this being a console - focused ui is trash. i changed my mind about outposts, the system needs overhauled. there ' s no snapping, walls, foundations, roofs, etc. i want to make my own settlement, not 100 + storage containers and a hab this game is incredible & it ' s one of my favorites. my pc isn ' t even that ridiculous and it runs stop being poor and get better pc\n",
      "\n",
      "Doc 74055\n",
      "Original: if you dont have a top of the line graphics card then dont bother and then even then youre gonna have a lot of crashes, for some weird reason the game gums up with all the loading screens, it litteraly breaks the game and you will crash. ive never seen a game where it revolves around loading screens manages to carry over the other area you left and nail your graphics. it then just slowly builds up and gets slower till you crash. bad graphics card you got about 1 maybe 2 loading screens and you will crash, mid card is about 2-5 loading screens and then crash and good to great cards are once every 20ish loading screens then crash, you go down either way and the only way to solve this is to just save and close the game then re open and play till you load in again and the screen is suddenly very bright white, then you save and leave and load back in, that is so far the only fix to a game that is very underwhelming and of course in modern gaming fashion not working either. i want to like the game but so far its just decent then it crashes, i do give the game credit its fast to load back up and the game saves pretty much to the point where you get the boot. id say to just hold of for now till they work out the problems that are very infuriating and make you wana yeetus a feetus\n",
      "Split: if you dont have a top of the line graphics card then dont bother and then even then youre gonna have a lot of crashes, for some weird reason the game gums up with all the loading screens, it litteraly breaks the game and you will crash. ive never seen a game where it revolves around loading screens manages to carry over the other area you left and nail your graphics. it then just slowly builds up and gets slower till you crash. bad graphics card you got about 1 maybe 2 loading screens and you will crash, mid card is about 2 - 5 loading screens and then crash and good to great cards are once every 20ish loading screens then crash, you go down either way and the only way to solve this is to just save and close the game then re open and play till you load in again and the screen is suddenly very bright white, then you save and leave and load back in, that is so far the only fix to a game that is very underwhelming and of course in modern gaming fashion not working either. i want to like the game but so far its just decent then it crashes, i do give the game credit its fast to load back up and the game saves pretty much to the point where you get\n",
      "\n",
      "Doc 74659\n",
      "Original: This is the worst game I have ever played on steam. This is game is not optimized for anything. If this game had dlss support it would be better. It stutters and audio cuts out. I can't speak for people have higher graphics cards and better intel or amd chips. I have 32 gigs of ram for higher frame rates and it doesn't help this game needs a massive overhaul. I installed it on a HDD my mistake on that but the overall game play stutters, freezes, audio cuts out and buildings don't load in. The game doesn't hold 60 fps and it barely holds at 40 fps. The only thing that ran good was the first ship battle but at 50 fps. I would say wait till they do a massive update cuz right now I'm putting my money towards a better gameplay experience. I'm glad i didn't buy the premium edition because I would have been dissapointed.\n",
      "Mine are:\n",
      "Nvidia Geforce RTX 3060\n",
      "Intel I7-10700KF\n",
      "32gb ram\n",
      "Split: this is the worst game i have ever played on steam. this is game is not optimized for anything. if this game had dlss support it would be better. it stutters and audio cuts out. i can ' t speak for people have higher graphics cards and better intel or amd chips. i have 32 gigs of ram for higher frame rates and it doesn ' t help this game needs a massive overhaul. i installed it on a hdd my mistake on that but the overall game play stutters, freezes, audio cuts out and buildings don ' t load in. the game doesn ' t hold 60 fps and it barely holds at 40 fps. the only thing that ran good was the first ship battle but at 50 fps. i would say wait till they do a massive update cuz right now i ' m putting my money towards a better gameplay experience. i ' m glad i didn ' t buy the premium edition because i would have been are : nvidia geforce rtx 3060 intel i7 - 10700kf 32gb ram\n",
      "\n",
      "Doc 50941\n",
      "Original: This game is a broken, clunky mess. The loading screens! Sometimes you have like 5 loading screens in the span of 5 minutes so it feels like I'm just waiting around to play the game. Then the constant stutter. Every time  I try to talk to an NPC the game freezes for like 30 seconds before finally catching back up, this is the worst part, I cant even trade gear with my follower without this happening. Every time I open the character menu the game freezes sometimes for up to 30 seconds. I've been \"playing\" for 5 hours but it feels like I've just been mostly waiting around for the game to either catch up or load. I have a good PC; RTX 3070, 32 gigs of ram, a good processor and an SSD. I have even lowered the settings and the resolution down as low as they will go and downloaded the most recent drivers, still performance is the worst I've ever seen in a game. Pretty ridiculous for a 70 dollar game. I cant recommend this game based the on the really crappy experience I've had with it so far. I have not asked for a refund because I'm hopeful that ill be able to play the game at some point, its just not today. If 70 dollars doesn't mean that much to you then go ahead and take a gamble and buy it, maybe it'll work for you. Otherwise, avoid.\n",
      "Split: this game is a broken, clunky mess. the loading screens! sometimes you have like 5 loading screens in the span of 5 minutes so it feels like i ' m just waiting around to play the game. then the constant stutter. every time i try to talk to an npc the game freezes for like 30 seconds before finally catching back up, this is the worst part, i cant even trade gear with my follower without this happening. every time i open the character menu the game freezes sometimes for up to 30 seconds. i ' ve been \" playing \" for 5 hours but it feels like i ' ve just been mostly waiting around for the game to either catch up or load. i have a good pc ; rtx 3070, 32 gigs of ram, a good processor and an ssd. i have even lowered the settings and the resolution down as low as they will go and downloaded the most recent drivers, still performance is the worst i ' ve ever seen in a game. pretty ridiculous for a 70 dollar game. i cant recommend this game based the on the really crappy experience i ' ve had with it so far. i have not asked for a refund because i ' m hopeful that ill be able to play the\n",
      "\n",
      "Doc 31292\n",
      "Original: Poorly optimized, runs between 25-35 fps on both low and ultra settings. You'd think that if ultra was 30-35 then low should be 60, but no. Even with max settings game still looked odd after disabling up-scaling. A $70 title should run at 50-60 fps on the lowest settings minimum. And trying to optimize the settings to get better frames I have dumped to many hours into it to get a refund. So here I will sit and wait till they fix the performance.\n",
      "Split: poorly optimized, runs between 25 - 35 fps on both low and ultra settings. you ' d think that if ultra was 30 - 35 then low should be 60, but no. even with max settings game still looked odd after disabling up - scaling. a $ 70 title should run at 50 - 60 fps on the lowest settings minimum. and trying to optimize the settings to get better frames i have dumped to many hours into it to get a refund. so here i will sit and wait till they fix the performance.\n",
      "\n",
      "Doc 95883\n",
      "Original: I'm escaping to the one place that hasn't been corrupted by capitalism... SHPACE!\n",
      "\n",
      "Fallout in space. \n",
      "\n",
      "If you like that one you will like this one, if you don't mind the bad performance that is. But in a quick summary I do not recommend the game right now with the bad performance it's having, even though the gameplay, story and characters are fun, the bad performance can really ruin it. Will update as patches are released and as I progress in the game.\n",
      "\n",
      "[h1] Performance [/h1]\n",
      "Performance is bad as usual with most AAA games now. Running on a 3080ti R5 5600X 32GB DDR4 in 2K, it's mostly bad in the big cities goes from 30 to 60 fps with a mix of high to ultra, going medium to high makes no difference from what I have noticed. Bad performance on lush planets just like the cities, works great on low detailed planets or closed off areas, it's always above 60 fps then. \n",
      "\n",
      "[h1] Menus [/h1]\n",
      "It's obvious the menu was made for a console in mind, it feels super cluttered and slow until you eventually get it in your system on how it all works then it's okay, I guess. The need in the inventory menu to scroll down if all your categories are filled is no good, there is no filter by mass, type or custom filters it's all alphabetical, no search bar either. Extremely easy to get confused at which inventory you are looking at while trading with a companion or trader, have sold items multiple times thinking I was buying and buying items thinking I was selling. (inventory is already fixed now thanks to modding).\n",
      "\n",
      "[h1] Maps [/h1]\n",
      "There is barely any map while on the planet, you just get some blue dots as a map with high ground and low ground and icons of things to do or explore, the \"watch\" or compass needs a bit of work I know they are trying to keep it minimalistic but they could have added the time in game on the watch instead of having to open my menu to see it, it is a watch after all.\n",
      "\n",
      "[h1] Ship Building [/h1]\n",
      "Although it's pretty fun and detailed. Some components of the ship builder just bug me, specifically not being able to rotate items however you want, not knowing which ship part is floating in space and all you get is \"you have an unattached ship part\" and I don't know which part it is and cannot finish my build, this part was also made for the console in mind just like the menus.\n",
      "\n",
      "[h1] Gameplay [/h1]\n",
      "I love the gunplay it feels so smooth and responsive, each gun is perfectly balanced in terms of damage, recoil and accuracy. Some legendary guns give you an edge over your enemies with extra bonuses. I wish there was more customization to the guns and suits but for now it's good. \n",
      "\n",
      "The ship flying is fun when in combat. Combat is pretty detailed like blowing up your enemies shields, guns and engine to board them and get the most out of their loot. But it's useless in general since you can't fly off a planet on your own and land or just get in your ship and move on to another area of the planet on your own like it is in No Man's Sky, it's all cutscenes and loading which sucks and it's a big miss.\n",
      "\n",
      "[h1] Graphics and Audio [/h1]\n",
      "Pretty close to Cyberpunk 2077 in the right light, especially the faces in the right light, the faces are amazing you know exactly what the character is feeling, in the right right. Very well done, in the right light. \n",
      "\n",
      "The audio is next level, the sounds of the ships landing and flying off or passing by, the sputtering of the engines, the release of gasses, the sound while you are in space with it. The sound of planets the plants and bugs and crickets and whatever alien crickets there are it's all so so good. Only change I would make is when on a planet with no atmosphere make it quiet and muffled or just no sound at all maybe a light breathing sound.\n",
      "\n",
      "[h1] Story and Characters [/h1]\n",
      "I love the characters so far, I'm already married. I haven't gotten too deep into the main story I've been doing just side stuff. If you decide to get the game, ask Vasco for a joke. Updating as I'm progressing.\n",
      "\n",
      "\n",
      "All of these things will get improved, either by Bethesda or good ol' modders. Probably the latter.\n",
      "Split: i ' m escaping to the one place that hasn ' t been corrupted by shpace! fallout in space. if you like that one you will like this one, if you don ' t mind the bad performance that is. but in a quick summary i do not recommend the game right now with the bad performance it ' s having, even though the gameplay, story and characters are fun, the bad performance can really ruin it. will update as patches are released and as i progress in the performance [ / h1 ] performance is bad as usual with most aaa games now. running on a 3080ti r5 5600x 32gb ddr4 in 2k, it ' s mostly bad in the big cities goes from 30 to 60 fps with a mix of high to ultra, going medium to high makes no difference from what i have noticed. bad performance on lush planets just like the cities, works great on low detailed planets or closed off areas, it ' s always above 60 fps then. [ h1 ] menus [ / h1 ] it ' s obvious the menu was made for a console in mind, it feels super cluttered and slow until you eventually get it in your system on how it all works then it ' s okay,\n",
      "\n",
      "Topic 2:\n",
      "Doc 1272\n",
      "Original: 10/10\n",
      "Split: 10 / 10\n",
      "\n",
      "Doc 611\n",
      "Original: FALLOUT in space 10/10\n",
      "Split: fallout in space 10 / 10\n",
      "\n",
      "Doc 23403\n",
      "Original: NOT 10 OUDDA 10\n",
      "Split: not 10 oudda 10\n",
      "\n",
      "Doc 90391\n",
      "Original: ⠀⠀⠀⠀⣀⢀⣠⣤⠴⠶⠚⠛⠉⣹⡇⠀⢸⠀⠀⠀⠀⠀⢰⣄⠀⠀⠀⠀⠈⢦⢰⠀⠀⠀⠀⠀⠈⢳⡀⠈⢧⠀⠀⠀⠀⢸⠀⠀⠀⠀\n",
      "⠀⠀⠉⠀⠀⠀⡏⠀⢰⠃⠀⠀⠀⣿⡇⠀⢸⡀⠀⠀⠀⠀⢸⣸⡆⠀⠀⠀⠰⣌⣧⡆⠀⢷⡀⠀⠀⣄⢳⠀⠀⢣⠀⠀⠀⢸⠀⠀⠀⠀\n",
      "⠀⠀⠀⠀⠀⠀⡇⠀⠘⠀⠀⠀⢀⣿⣇⠀⠸⡇⣆⠀⠀⠀⠀⣿⣿⡀⠀⠀⠀⢹⣾⡇⠀⢸⢣⠀⠀⠘⣿⣇⠀⠈⢧⠀⠀⠘⠀⢠⠀⠀\n",
      "⠀⠀⠀⠀⠀⢀⡇⠀⡀⠀⠀⠀⢸⠈⢻⡄⠀⢷⣿⠀⠀⠀⠀⢹⡏⣇⠀⣀⣀⠀⣿⣧⠀⢸⠾⣇⣠⣄⣸⣿⡄⠀⠘⡆⠀⠀⠀⠀⠆⠀\n",
      "⠀⠀⠀⠀⠀⣾⢿⠀⠇⠀⠀⠀⢸⠀⠀⢳⡀⢸⣿⡆⠀⠀⠀⣬⣿⡿⠟⠋⠉⠙⠻⣽⣀⡏⠀⠙⠃⢹⡙⡿⣷⠀⠀⢹⠀⠀⠀⠀⠰⠒\n",
      "⠀⠀⠀⠀⢸⣿⣿⣇⢸⠀⠀⠀⢸⣦⣤⡀⣷⣸⡟⢧⣀⡴⠶⠿⠻⡄⣀⣤⣴⡾⠖⠚⠿⡀⠀⠀⠀⠈⣧⠁⠹⠆⠀⠀⣇⠀⠀⠀⠀⠀\n",
      "⠀⠀⠀⢀⢸⣀⣼⣿⣼⡆⠀⢀⡘⡇⠀⠀⠹⡟⢷⡜⢉⣠⣠⣠⣀⣤⡿⣛⣥⣶⣾⡿⠛⠿⠿⣶⣦⡤⢹⠀⢀⠀⠀⠀⢹⡄⠀⠀⠀⠀\n",
      "⠀⠀⠀⢸⢸⡛⠁⠀⠙⢿⠋⠉⠉⠻⠀⠀⠀⢿⣄⠈⠁⠀⠀⠀⢉⢟⣴⡿⠿⠟⢁⠇⠀⠀⠀⠀⠹⣿⠻⡇⢸⠀⠀⠀⠈⣷⠀⠀⠀⠀\n",
      "⠀⣀⣀⣘⣿⡇⠀⢀⣠⣤⣶⣶⣶⣾⣦⡀⠀⠈⡿⠀⠀⠀⠀⠀⠀⣿⠟⠳⠦⡤⠊⠀⠀⠀⠀⠀⣸⠇⠀⡇⣼⠀⢰⠀⠀⢹⣇⠀⠀⠀\n",
      "⠛⠁⠈⣿⣷⣧⣴⣿⠿⠛⣿⠿⣿⣿⡿⠗⠀⠀⠀⠀⠀⠀⠀⠀⠀⠁⠀⠀⣠⣴⣶⠿⠿⠿⡷⢛⠕⠷⡄⣧⣿⠀⢸⠀⠀⠸⣿⡄⠀⠀\n",
      "⠀⠀⢠⣿⢿⣿⣿⠁⠀⠀⠈⠳⠤⠶⠃⠀⠀⢰⡀⠀⠀⠀⠀⠀⠀⠀⣠⣿⣿⠟⣱⠒⡠⢆⡴⣣⣯⢞⣴⡟⢿⡄⡏⠀⠀⠀⡏⢷⡀⠀\n",
      "⠀⠀⡌⣿⠀⠙⣿⡦⢀⣤⡴⣶⠖⣲⠆⢀⠞⠁⠱⠀⠀⠀⠀⠀⠠⣾⠟⠛⡡⠞⠁⢀⡴⢋⢎⣽⡿⣫⠋⠀⠘⢷⠃⡄⠀⠀⡇⠈⣿⡀\n",
      "⠀⠀⣇⢹⣦⠀⠼⢃⡾⢋⣶⢃⡼⣹⡳⠃⠊⠀⠀⠀⠀⠀⠀⠀⠀⠁⠀⠀⠀⠈⠠⠋⠀⡰⠋⠀⢘⣇⡇⠀⢠⠟⠀⡇⠀⠀⠀⠀⢹⡵\n",
      "⠀⠀⢻⣌⢿⡆⠀⡝⣼⠟⣩⢏⣾⠟⠁⠀⠀⠀⠀⠀⠀⠀⠀⠀⠀⠀⠀⠀⠀⠀⠀⢀⠞⠀⠀⠀⠀⠈⠀⣠⠏⣠⣾⡇⠀⠀⠀⠀⠘⣷\n",
      "⡀⠀⢸⣿⣿⣷⠆⢠⠏⡴⠃⡡⠋⠀⠀⠀⠀⠀⠀⣀⣠⠤⠔⠒⠤⣄⣀⠀⠀⢀⣰⠏⠀⠀⠀⠀⢀⣠⡾⠗⠋⢰⠏⡇⠀⠀⠘⠀⠰⢻\n",
      "⣇⠀⠘⣿⣿⣟⠻⣄⡞⠀⠐⠁⠀⠀⠀⠀⠀⣠⠞⣩⣤⣶⣶⣾⣷⣶⣬⣿⣿⣿⡏⠀⠀⠀⠀⠉⠉⠁⠀⠀⠀⢸⡆⡇⠀⠀⠀⠀⠀⠀\n",
      "⠹⡄⠀⠹⣿⣿⡄⠀⠉⠉⠀⡀⠀⠀⠈⢻⣾⣿⣾⣿⣿⣿⣿⣿⣿⣿⣿⣿⣿⣿⠀⠀⠀⠀⠀⠀⠀⠀⠀⠀⠀⣼⣇⣧⠀⠀⠀⠀⠀⠀\n",
      "⠀⣿⢦⣀⠘⢿⣷⡀⠀⠀⡀⢦⠀⠀⠀⠀⠹⣿⣿⠏⠙⢻⣿⡿⠛⠉⠀⠸⣿⠃⠀⠀⠀⠀⠀⠀⠀⠀⠀⢀⣴⣿⣿⣿⠀⠀⡆⠀⠀⡀\n",
      "⢼⣿⠀⠈⢳⣤⣉⣻⣤⣀⣉⣩⠆⠀⠀⠀⠀⠹⡿⠀⠀⠈⡿⠀⠀⠀⠀⣸⡇⠀⠀⠀⠀⠀⠀⠓⠂⠀⣠⣾⣿⣿⡿⢿⡄⠀⣧⠀⠀⠹\n",
      "⣾⠃⠀⣠⣿⣿⣿⣿⣿⣿⣄⠀⠀⠀⠀⠀⠀⠀⡇⠀⠀⢸⡇⠀⠀⢠⠴⣿⡄⠀⠀⠀⠀⠀⠀⠀⣠⣾⣿⣿⣿⡿⣧⣀⠧⣰⣻⢄⠀⠀\n",
      "⠛⠶⢾⣿⣽⣭⣽⣭⢹⣷⠀⢹⣦⣀⠀⠀⠀⠀⡄⠀⠀⣸⡀⠀⠀⠁⣰⣧⣽⠀⠀⠀⠀⢀⣴⣾⣿⣿⡟⣻⣿⣿⣿⣿⢠⣿⣧⡸⣷⣄\n",
      "⠀⠀⠀⠈⠙⠿⣿⣿⣿⠏⠀⣾⣿⣿⣷⣦⣀⠀⢇⠀⠀⠈⠁⠀⣠⠔⠁⠀⠀⠀⠀⣠⣾⣿⣿⣿⣿⣿⣿⣿⣿⣿⡿⠏⣼⣿⠏⣷⡈⠉\n",
      "⠀⠀⠀⠀⠀⠀⠀⠙⠻⣶⣾⣿⣿⣿⣿⣿⣿⣷⣾⡆⠀⠀⠀⡾⠁⠀⠀⠀⣀⡴⠞⠛⣛⣿⡿⠿⠛⠛⠉⠉⠀⠀⠀⢰⣿⡿⠂⠈⠻⡄\n",
      "⠀⠀⠀⠀⠀⠀⠀⠀⠀⠀⠙⢎⠉⠛⠻⠿⠿⠿⠿⠿⣇⠠⠸⣇⣀⣤⣴⣾⡭⠶⠛⠋⠉⠀⠀⠀⠀⠀⠀⠀⠀⠀⠀⣾⣿⠇⠀⠀⠀⠘\n",
      "⠀⠀⠀⠀⠀⠀⠀⠀⠀⠀⠀⠀⠑⣤⡀⠀⠀⠀⠀⠀⠈⣳⠀⣿⠛⠻⠛⠉⠀⠀⠀⠀⠀⠀⠀⠀⠀⠀⠀⠀⠀⠀⣸⣿⡯⠀⠀⠀⠀⠀\n",
      "10/10\n",
      "Split: [UNK] [UNK] [UNK] [UNK] [UNK] [UNK] [UNK] [UNK] [UNK] [UNK] [UNK] [UNK] [UNK] [UNK] [UNK] [UNK] [UNK] [UNK] [UNK] [UNK] [UNK] [UNK] [UNK] [UNK] [UNK] 10 / 10\n",
      "\n",
      "Doc 70687\n",
      "Original: 10/10\n",
      "\n",
      "Would grav-jump again\n",
      "Split: 10 / 10 would grav - jump again\n",
      "\n",
      "Doc 12861\n",
      "Original: 0/10\n",
      "Split: 0 / 10\n",
      "\n",
      "Doc 90079\n",
      "Original: 7/10.\n",
      "Split: 7 / 10.\n",
      "\n",
      "Doc 76782\n",
      "Original: 10/10\n",
      "\n",
      "\n",
      "Split: 10 / 10\n",
      "\n",
      "Doc 19843\n",
      "Original: It's okay... 6/10\n",
      "Split: it ' s 6 / 10\n",
      "\n",
      "Doc 29311\n",
      "Original: 5/10\n",
      "Split: 5 / 10\n",
      "\n",
      "Doc 42616\n",
      "Original: 10/9\n",
      "Split: 10 / 9\n",
      "\n",
      "Doc 35523\n",
      "Original: 5/10\n",
      "Split: 5 / 10\n",
      "\n",
      "Topic 3:\n",
      "Doc 42713\n",
      "Original: Very freacking good game!\n",
      "Split: very freacking good game!\n",
      "\n",
      "Doc 1932\n",
      "Original: ITS GOOD\n",
      "Split: its good\n",
      "\n",
      "Doc 88515\n",
      "Original: good :)\n",
      "Split: good : )\n",
      "\n",
      "Doc 78764\n",
      "Original: Good game, Todd\n",
      "Split: good game, todd\n",
      "\n",
      "Doc 93118\n",
      "Original: This is so good\n",
      "Split: this is so good\n",
      "\n",
      "Doc 51702\n",
      "Original: it be good\n",
      "Split: it be good\n",
      "\n",
      "Doc 77034\n",
      "Original: V good v fun I like it.\n",
      "Split: v good v fun i like it.\n",
      "\n",
      "Doc 60260\n",
      "Original: It's good\n",
      "\n",
      "Split: it ' s good\n",
      "\n",
      "Doc 46554\n",
      "Original: very good game \n",
      "\n",
      "Split: very good game\n",
      "\n",
      "Doc 16727\n",
      "Original: not perfect, good game still\n",
      "Split: not perfect, good game still\n",
      "\n",
      "Topic 4:\n",
      "Doc 44582\n",
      "Original: ---{ Graphics }---\n",
      "☐ You forget what reality is\n",
      "☑ Beautiful\n",
      "☐ Good\n",
      "☐ Decent\n",
      "☐ Bad\n",
      "☐ Don‘t look too long at it\n",
      "☐ MS-DOS\n",
      "\n",
      "---{ Gameplay }---\n",
      "☐ Very good\n",
      "☑ Good\n",
      "☐ It's just gameplay\n",
      "☐ Mehh\n",
      "☐ Watch paint dry instead\n",
      "☐ Just don't\n",
      "\n",
      "---{ Audio }---\n",
      "☐ Eargasm\n",
      "☑ Very good\n",
      "☐ Good\n",
      "☐ Not too bad\n",
      "☐ Bad\n",
      "☐ I'm now deaf\n",
      "\n",
      "---{ Audience }---\n",
      "☐ Kids\n",
      "☑ Teens\n",
      "☑ Adults\n",
      "☑ Grandma\n",
      "\n",
      "---{ PC Requirements }---\n",
      "☐ Check if you can run paint\n",
      "☐ Potato\n",
      "☐ Decent\n",
      "☑ Fast\n",
      "☑ Rich boi\n",
      "☐ Ask NASA if they have a spare computer\n",
      "\n",
      "---{ Difficulty }---\n",
      "☐ Just press 'W'\n",
      "☐ Easy\n",
      "☐ Easy to learn / Hard to master\n",
      "☑ Significant brain usage\n",
      "☐ Difficult\n",
      "☐ Dark Souls\n",
      "\n",
      "---{ Grind }---\n",
      "☐ Nothing to grind\n",
      "☐ Only if u care about leaderboards/ranks\n",
      "☐ Isn't necessary to progress\n",
      "☑ Average grind level\n",
      "☐ Too much grind\n",
      "☐ You'll need a second life for grinding\n",
      "\n",
      "---{ Story }---\n",
      "☐ No Story\n",
      "☐ Some lore\n",
      "☑ Average\n",
      "☐ Good\n",
      "☐ Lovely\n",
      "☐ It'll replace your life\n",
      "\n",
      "---{ Game Time }---\n",
      "☐ Long enough for a cup of coffee\n",
      "☐ Short\n",
      "☐ Average\n",
      "☐ Long\n",
      "☑ To infinity and beyond\n",
      "\n",
      "---{ Price }---\n",
      "☐ It's free!\n",
      "☑ Worth the price\n",
      "☐ If it's on sale\n",
      "☐ If u have some spare money left\n",
      "☐ Not recommended\n",
      "☐ You could also just burn your money\n",
      "\n",
      "---{ Bugs }---\n",
      "☐ Never heard of\n",
      "☑ Minor bugs\n",
      "☐ Can get annoying\n",
      "☐ ARK: Survival Evolved\n",
      "☐ The game itself is a big terrarium for bugs\n",
      "\n",
      "---{ ? / 10 }---\n",
      "☐ 1\n",
      "☐ 2\n",
      "☐ 3\n",
      "☐ 4\n",
      "☐ 5\n",
      "☐ 6\n",
      "☑ 7\n",
      "☐ 8\n",
      "☐ 9\n",
      "☐ 10\n",
      "\n",
      "Split: - - - { graphics } - - - [UNK] you forget what reality is [UNK] beautiful [UNK] good [UNK] decent [UNK] bad [UNK] don ‘ t look too long at it [UNK] ms - dos - - - { gameplay } - - - [UNK] very good [UNK] good [UNK] it ' s just gameplay [UNK] mehh [UNK] watch paint dry instead [UNK] just don ' t - - - { audio } - - - [UNK] eargasm [UNK] very good [UNK] good [UNK] not too bad [UNK] bad [UNK] i ' m now deaf - - - { audience } - - - [UNK] kids [UNK] teens [UNK] adults [UNK] grandma - - - { pc requirements } - - - [UNK] check if you can run paint [UNK] potato [UNK] decent [UNK] fast [UNK] rich boi [UNK] ask nasa if they have a spare computer - - - { difficulty } - - - [UNK] just press ' w ' [UNK] easy [UNK] easy to learn / hard to master [UNK] significant brain usage [UNK] difficult [UNK] dark souls - - - { grind } - - - [UNK] nothing to grind [UNK] only if u care about leaderboards / ranks [UNK] isn ' t necessary to progress [UNK] average grind level [UNK] too much grind [UNK] you ' ll need a second life for grinding - - - { story } - - - [UNK] no story [UNK] some lore [UNK] average [UNK] good [UNK]\n",
      "\n",
      "Doc 52186\n",
      "Original: ---{ Graphics }---\n",
      "☐ You forget what reality is\n",
      "☑ Beautiful\n",
      "☐ Good\n",
      "☐ Decent\n",
      "☐ Bad\n",
      "☐ Don‘t look too long at it\n",
      "☐ MS-DOS\n",
      "\n",
      "---{ Gameplay }---\n",
      "☑ Very good\n",
      "☐ Good\n",
      "☐ It's just gameplay\n",
      "☐ Mehh\n",
      "☐ Watch paint dry instead\n",
      "☐ Just don't\n",
      "\n",
      "---{ Audio }---\n",
      "☐ Eargasm\n",
      "☑ Very good\n",
      "☐ Good\n",
      "☐ Not too bad\n",
      "☐ Bad\n",
      "☐ I'm now deaf\n",
      "\n",
      "---{ Audience }---\n",
      "☐ Kids\n",
      "☑ Teens\n",
      "☑ Adults\n",
      "☑ Grandma\n",
      "\n",
      "---{ PC Requirements }---\n",
      "☐ Check if you can run paint\n",
      "☐ Potato\n",
      "☐ Decent\n",
      "☐ Fast\n",
      "☑ Rich boi\n",
      "☐ Ask NASA if they have a spare computer\n",
      "\n",
      "---{ Difficulty }---\n",
      "☐ Just press 'W'\n",
      "☑ Easy\n",
      "☐ Easy to learn / Hard to master\n",
      "☐ Significant brain usage\n",
      "☐ Difficult\n",
      "☐ Dark Souls\n",
      "\n",
      "---{ Grind }---\n",
      "☐ Nothing to grind\n",
      "☐ Only if u care about leaderboards/ranks\n",
      "☑ Isn't necessary to progress\n",
      "☐ Average grind level\n",
      "☐ Too much grind\n",
      "☐ You'll need a second life for grinding\n",
      "\n",
      "---{ Story }---\n",
      "☐ No Story\n",
      "☐ Some lore\n",
      "☐ Average\n",
      "☐ Good\n",
      "☐ Lovely\n",
      "☑ It'll replace your life\n",
      "\n",
      "---{ Game Time }---\n",
      "☐ Long enough for a cup of coffee\n",
      "☐ Short\n",
      "☐ Average\n",
      "☐ Long\n",
      "☑ To infinity and beyond\n",
      "\n",
      "---{ Price }---\n",
      "☐ It's free!\n",
      "☑ Worth the price\n",
      "☐ If it's on sale\n",
      "☐ If u have some spare money left\n",
      "☐ Not recommended\n",
      "☐ You could also just burn your money\n",
      "\n",
      "---{ Bugs }---\n",
      "☐ Never heard of\n",
      "☑ Minor bugs\n",
      "☐ Can get annoying\n",
      "☐ ARK: Survival Evolved\n",
      "☐ The game itself is a big terrarium for bugs\n",
      "\n",
      "---{ ? / 10 }---\n",
      "☐ 1\n",
      "☐ 2\n",
      "☐ 3\n",
      "☐ 4\n",
      "☐ 5\n",
      "☐ 6\n",
      "☐ 7\n",
      "☐ 8\n",
      "☐ 9\n",
      "☑ 10\n",
      "Split: - - - { graphics } - - - [UNK] you forget what reality is [UNK] beautiful [UNK] good [UNK] decent [UNK] bad [UNK] don ‘ t look too long at it [UNK] ms - dos - - - { gameplay } - - - [UNK] very good [UNK] good [UNK] it ' s just gameplay [UNK] mehh [UNK] watch paint dry instead [UNK] just don ' t - - - { audio } - - - [UNK] eargasm [UNK] very good [UNK] good [UNK] not too bad [UNK] bad [UNK] i ' m now deaf - - - { audience } - - - [UNK] kids [UNK] teens [UNK] adults [UNK] grandma - - - { pc requirements } - - - [UNK] check if you can run paint [UNK] potato [UNK] decent [UNK] fast [UNK] rich boi [UNK] ask nasa if they have a spare computer - - - { difficulty } - - - [UNK] just press ' w ' [UNK] easy [UNK] easy to learn / hard to master [UNK] significant brain usage [UNK] difficult [UNK] dark souls - - - { grind } - - - [UNK] nothing to grind [UNK] only if u care about leaderboards / ranks [UNK] isn ' t necessary to progress [UNK] average grind level [UNK] too much grind [UNK] you ' ll need a second life for grinding - - - { story } - - - [UNK] no story [UNK] some lore [UNK] average [UNK] good [UNK]\n",
      "\n",
      "Doc 48940\n",
      "Original: ---{ Graphics }---\n",
      "☐ You forget what reality is\n",
      "☐ Beautiful\n",
      "☑ Good\n",
      "☐ Decent\n",
      "☐ Bad\n",
      "☐ Don‘t look too long at it\n",
      "☐ MS-DOS\n",
      "\n",
      "---{ Gameplay }---\n",
      "☐ Very good\n",
      "☐ Good\n",
      "☑ It's just gameplay\n",
      "☐ Mehh\n",
      "☐ Watch paint dry instead\n",
      "☐ Just don't\n",
      "\n",
      "---{ Audio }---\n",
      "☐ Eargasm\n",
      "☑ Very good\n",
      "☐ Good\n",
      "☐ Not too bad\n",
      "☐ Bad\n",
      "☐ I'm now deaf\n",
      "\n",
      "---{ Audience }---\n",
      "☐ Kids\n",
      "☐ Teens\n",
      "☑ Adults\n",
      "☐ Grandma\n",
      "\n",
      "---{ PC Requirements }---\n",
      "☐ Check if you can run paint\n",
      "☐ Potato\n",
      "☐ Decent\n",
      "☑ Fast\n",
      "☐ Rich boi\n",
      "☐ Ask NASA if they have a spare computer\n",
      "\n",
      "---{ Difficulty }---\n",
      "☐ Just press 'W'\n",
      "☐ Easy\n",
      "☑ Easy to learn / Hard to master\n",
      "☐ Significant brain usage\n",
      "☐ Difficult\n",
      "☐ Dark Souls\n",
      "\n",
      "---{ Grind }---\n",
      "☐ Nothing to grind\n",
      "☐ Only if u care about leaderboards/ranks\n",
      "☐ Isn't necessary to progress\n",
      "☑ Average grind level\n",
      "☐ Too much grind\n",
      "☐ You'll need a second life for grinding\n",
      "\n",
      "---{ Story }---\n",
      "☐ No Story\n",
      "☐ Some lore\n",
      "☐ Average\n",
      "☑ Good\n",
      "☐ Lovely\n",
      "☐ It'll replace your life\n",
      "\n",
      "---{ Game Time }---\n",
      "☐ Long enough for a cup of coffee\n",
      "☐ Short\n",
      "☐ Average\n",
      "☑ Long\n",
      "☐ To infinity and beyond\n",
      "\n",
      "---{ Price }---\n",
      "☐ It's free!\n",
      "☐ Worth the price\n",
      "☐ If it's on sale\n",
      "☐ If u have some spare money left\n",
      "☑ Not recommended\n",
      "☐ You could also just burn your money\n",
      "\n",
      "---{ Bugs }---\n",
      "☐ Never heard of\n",
      "☐ Minor bugs\n",
      "☐ Can get annoying\n",
      "☑ ARK: Survival Evolved\n",
      "☐ The game itself is a big terrarium for bugs\n",
      "\n",
      "---{ ? / 10 }---\n",
      "☐ 1\n",
      "☐ 2\n",
      "☐ 3\n",
      "☐ 4\n",
      "☐ 5\n",
      "☑ 6\n",
      "☐ 7\n",
      "☐ 8\n",
      "☐ 9\n",
      "☐ 10\n",
      "\n",
      "I have played Starfield all the way through, trying to complete every quest I found. Ended up Level 50 before the end. I have done everything this game has to offer me to give it a fair wag. All in all I'd say Starfield is a half a good game. Quite literally, it's like someone took a good game and split it in half and spliced a very meh game into it.  \n",
      "\n",
      "I love the universe. The factions while sometimes a little cookie cutter, have unique intricacies that give the world a tinge of depth. The feelings I had visiting places mentioned in game lore, or in our current history made me feel immersed and like a true explorer.\n",
      "\n",
      "The game world itself is another issue entirely. Starfield tries to make all planets fully explorable. Obviously this is not possible for a dev team running on a finite amount of time,  instead they attempted to use procedural generation to create world landscapes. Terrain is not bad, although it sometimes has hiccups. The main issue is the structures the game populates the landscape with. large structures are dev created and refined, so while nice they are very finite (Leading to you replaying game \"dungeons\"). This leads to them repeating a lot. Smaller structures are just assets the generation plops down willy-nilly and are so out of place they are almost always eyesores.\n",
      "\n",
      "Enemy variety is also not great. There are three hostile factions and then the occasional hostile alien. This gets worse when a quest chain makes you allied to one of the hostile factions reducing variety even further, for a significant portion of the game.\n",
      "\n",
      "There are some very interesting mechanics, such as starships. Using them like a mobile base is a great idea, and the customisability truly makes it your own. There are several issues with the ship designer, such as inability to choose where doors and ladders appear, however in all, a very positive feature.\n",
      "\n",
      "Then there are bases. I was initially roped into bases by the idea of starting a colony on a foreign planet. Then it turns into a game of \"shit, I don't have X.\" where you are constantly making small offshoot bases to import resources to make your true base. This builds into an ever growing pile of tedium. All for a base with the impressiveness of a motorway bathroom. The amount of levels you need to sink into bases to start reaching high tier stuff is ridiculous, especially when you can just put it all into your ship which already functions as your base.\n",
      "\n",
      "I also regret saying it but the main faction/questline is not good either. Firstly the quests are very repetitive of \"Go to X. Find Y.\" which is horrible. Who saw the main avenue all players are designed to go down and made it the most boring copy and paste, side quest shit possible? Second the every character in the faction is either intensely annoying or inconsistent, which leads back to intensely annoying. To top this all off they are all law abiding and goody two shoes about everything. It would be quite easy to include a couple of less scrupulous characters in an organisation about spending time exploring the unknown. But no, everyone must be good, even the snake cult worshipper and the CEO.\n",
      "\n",
      "Other quests and factions are pretty good. They tend to get a little fetch questy, but that's to be expected of a game that is about exploration. Additionally one of the more interesting quest lines I was playing bugged out meaning I could never complete it.\n",
      "\n",
      "Other issues also plague this game such as terrible UI, which is a constant headache to deal with.\n",
      "\n",
      "While I have played many hours, many of them fully engaged and having fun. This game has somehow retroactively made the experience unpleasant. The lacklustre ending along with the knowledge of this is all the game is make me regret paying for and putting so much time into this game.\n",
      "Split: - - - { graphics } - - - [UNK] you forget what reality is [UNK] beautiful [UNK] good [UNK] decent [UNK] bad [UNK] don ‘ t look too long at it [UNK] ms - dos - - - { gameplay } - - - [UNK] very good [UNK] good [UNK] it ' s just gameplay [UNK] mehh [UNK] watch paint dry instead [UNK] just don ' t - - - { audio } - - - [UNK] eargasm [UNK] very good [UNK] good [UNK] not too bad [UNK] bad [UNK] i ' m now deaf - - - { audience } - - - [UNK] kids [UNK] teens [UNK] adults [UNK] grandma - - - { pc requirements } - - - [UNK] check if you can run paint [UNK] potato [UNK] decent [UNK] fast [UNK] rich boi [UNK] ask nasa if they have a spare computer - - - { difficulty } - - - [UNK] just press ' w ' [UNK] easy [UNK] easy to learn / hard to master [UNK] significant brain usage [UNK] difficult [UNK] dark souls - - - { grind } - - - [UNK] nothing to grind [UNK] only if u care about leaderboards / ranks [UNK] isn ' t necessary to progress [UNK] average grind level [UNK] too much grind [UNK] you ' ll need a second life for grinding - - - { story } - - - [UNK] no story [UNK] some lore [UNK] average [UNK] good [UNK]\n",
      "\n",
      "Doc 37965\n",
      "Original: ---{ Graphics }---\n",
      "☐ You forget what reality is\n",
      "☐ Beautiful\n",
      "☐ Good\n",
      "☑ Decent\n",
      "☐ Bad\n",
      "☐ Don‘t look too long at it\n",
      "☐ MS-DOS\n",
      "\n",
      "---{ Gameplay }---\n",
      "☐ Very good\n",
      "☑ Good\n",
      "☐ It's just gameplay\n",
      "☐ Mehh\n",
      "☐ Watch paint dry instead\n",
      "☐ Just don't\n",
      "\n",
      "---{ Audio }---\n",
      "☐ Eargasm\n",
      "☑ Very good\n",
      "☐ Good\n",
      "☐ Not too bad\n",
      "☐ Bad\n",
      "☐ I'm now deaf\n",
      "\n",
      "---{ Audience }---\n",
      "☐ Kids\n",
      "☑ Teens\n",
      "☑ Adults\n",
      "☐ Grandma\n",
      "\n",
      "---{ PC Requirements }---\n",
      "☐ Check if you can run paint\n",
      "☐ Potato\n",
      "☑ Decent\n",
      "☐ Fast\n",
      "☐ Rich boi\n",
      "☐ Ask NASA if they have a spare computer\n",
      "\n",
      "---{ Difficulty }---\n",
      "☐ Just press 'W'\n",
      "☐ Easy\n",
      "☐ Easy to learn / Hard to master\n",
      "☑ Significant brain usage\n",
      "☐ Difficult\n",
      "☐ Dark Souls\n",
      "\n",
      "---{ Grind }---\n",
      "☐ Nothing to grind\n",
      "☐ Only if u care about leaderboards/ranks\n",
      "☐ Isn't necessary to progress\n",
      "☑ Average grind level\n",
      "☐ Too much grind\n",
      "☐ You'll need a second life for grinding\n",
      "\n",
      "---{ Story }---\n",
      "☐ No Story\n",
      "☐ Some lore\n",
      "☐ Average\n",
      "☐ Good\n",
      "☑ Lovely\n",
      "☐ It'll replace your life\n",
      "\n",
      "---{ Game Time }---\n",
      "☐ Long enough for a cup of coffee\n",
      "☐ Short\n",
      "☐ Average\n",
      "☑ Long\n",
      "☐ To infinity and beyond\n",
      "\n",
      "---{ Price }---\n",
      "☐ It's free!\n",
      "☑ Worth the price\n",
      "☐ If it's on sale\n",
      "☐ If u have some spare money left\n",
      "☐ Not recommended\n",
      "☐ You could also just burn your money\n",
      "\n",
      "---{ Bugs }---\n",
      "☐ Never heard of\n",
      "☐ Minor bugs\n",
      "☑ Can get annoying\n",
      "☐ ARK: Survival Evolved\n",
      "☐ The game itself is a big terrarium for bugs\n",
      "\n",
      "---{ ? / 10 }---\n",
      "☐ 1\n",
      "☐ 2\n",
      "☐ 3\n",
      "☐ 4\n",
      "☐ 5\n",
      "☐ 6\n",
      "☐ 7\n",
      "☑ 8\n",
      "☐ 9\n",
      "☐ 10\n",
      "\n",
      "The game still needs some serious optimization to be sure. But for me this is the exact game ive been wanting im having a blast exploring and doing all the side quests and activities. At 184 hours played at the time of this review I am still only in NG+ 1.\n",
      "\n",
      "If you are expecting something other than a bethesda game in space you will be disappointed. Its literaly skyrim/fallout4 in space.\n",
      "\n",
      "Split: - - - { graphics } - - - [UNK] you forget what reality is [UNK] beautiful [UNK] good [UNK] decent [UNK] bad [UNK] don ‘ t look too long at it [UNK] ms - dos - - - { gameplay } - - - [UNK] very good [UNK] good [UNK] it ' s just gameplay [UNK] mehh [UNK] watch paint dry instead [UNK] just don ' t - - - { audio } - - - [UNK] eargasm [UNK] very good [UNK] good [UNK] not too bad [UNK] bad [UNK] i ' m now deaf - - - { audience } - - - [UNK] kids [UNK] teens [UNK] adults [UNK] grandma - - - { pc requirements } - - - [UNK] check if you can run paint [UNK] potato [UNK] decent [UNK] fast [UNK] rich boi [UNK] ask nasa if they have a spare computer - - - { difficulty } - - - [UNK] just press ' w ' [UNK] easy [UNK] easy to learn / hard to master [UNK] significant brain usage [UNK] difficult [UNK] dark souls - - - { grind } - - - [UNK] nothing to grind [UNK] only if u care about leaderboards / ranks [UNK] isn ' t necessary to progress [UNK] average grind level [UNK] too much grind [UNK] you ' ll need a second life for grinding - - - { story } - - - [UNK] no story [UNK] some lore [UNK] average [UNK] good [UNK]\n",
      "\n",
      "Doc 87566\n",
      "Original: ---{ Graphics }---\n",
      "☐ You forget what reality is\n",
      "☐ Beautiful\n",
      "☑ Good\n",
      "☐ Decent\n",
      "☐ Bad\n",
      "☐ Don‘t look too long at it\n",
      "☐ MS-DOS\n",
      "\n",
      "---{ Gameplay }---\n",
      "☐ Very good\n",
      "☑ Good\n",
      "☐ It's just gameplay\n",
      "☐ Mehh\n",
      "☐ Watch paint dry instead\n",
      "☐ Just don't\n",
      "\n",
      "---{ Audio }---\n",
      "☐ Eargasm\n",
      "☑ Very good\n",
      "☐ Good\n",
      "☐ Not too bad\n",
      "☐ Bad\n",
      "☐ I'm now deaf\n",
      "\n",
      "---{ Audience }---\n",
      "☐ Kids\n",
      "☑ Teens\n",
      "☑ Adults\n",
      "☐ Grandma\n",
      "\n",
      "---{ PC Requirements }---\n",
      "☐ Check if you can run paint\n",
      "☐ Potato\n",
      "☐ Decent\n",
      "☑ Fast\n",
      "☐ Rich boi\n",
      "☐ Ask NASA if they have a spare computer\n",
      "\n",
      "---{ Difficulty }---\n",
      "☐ Just press 'W'\n",
      "☐ Easy\n",
      "☑ Easy to learn / Hard to master\n",
      "☐ Significant brain usage\n",
      "☐ Difficult\n",
      "☐ Dark Souls\n",
      "\n",
      "---{ Grind }---\n",
      "☐ Nothing to grind\n",
      "☐ Only if u care about leaderboards/ranks\n",
      "☑ Isn't necessary to progress\n",
      "☐ Average grind level\n",
      "☐ Too much grind\n",
      "☐ You'll need a second life for grinding\n",
      "\n",
      "---{ Story }---\n",
      "☐ No Story\n",
      "☐ Some lore\n",
      "☐ Average\n",
      "☑ Good\n",
      "☐ Lovely\n",
      "☐ It'll replace your life\n",
      "\n",
      "---{ Game Time }---\n",
      "☐ Long enough for a cup of coffee\n",
      "☐ Short\n",
      "☐ Average\n",
      "☐ Long\n",
      "☑ To infinity and beyond\n",
      "\n",
      "---{ Price }---\n",
      "☐ It's free!\n",
      "☑ Worth the price\n",
      "☐ If it's on sale\n",
      "☐ If u have some spare money left\n",
      "☐ Not recommended\n",
      "☐ You could also just burn your money\n",
      "\n",
      "---{ Bugs }---\n",
      "☐ Never heard of\n",
      "☑ Minor bugs\n",
      "☐ Can get annoying\n",
      "☐ ARK: Survival Evolved\n",
      "☐ The game itself is a big terrarium for bugs\n",
      "\n",
      "---{ ? / 10 }---\n",
      "☐ 1\n",
      "☐ 2\n",
      "☐ 3\n",
      "☐ 4\n",
      "☐ 5\n",
      "☐ 6\n",
      "☐ 7\n",
      "☐ 8\n",
      "☑ 9\n",
      "☐ 10\n",
      "--------------------------------------\n",
      "I've played a lot of Bethesda games over the years, and this is one of the biggest to date. The game is not a space simulator, but a RPG like Skyrim and Fallout but set in space.\n",
      "\n",
      "[b] Bugs and Performace [/b]\n",
      "The game was released in good condition overall. For being a Bethesda game, it doesn't contain many bugs, compared to the launch of Skyrim and Fallout 4. However the game is a bit heavy on the performance side, so it requires a medium to high-end PC to run the game well.\n",
      "\n",
      "[b] Game Content [/b]\n",
      "The game contains a lot of content and a lot of paths to follow. For example, you can decide to join a faction, like in other Bethesda games, or you can also be independent, being a bounty hunter, trader, space pirate, and many others. The exploration is there, but it's presented in a different way than in other games. Instead of exploring a whole planet, you have to land anywhere on a planet. Once you land you will be surrounded by locations such as military bases, caves, dungeons and other places of interest to explore and loot, so when you land you are guaranteed to find something.\n",
      "\n",
      "\n",
      "\n",
      "\n",
      "Split: - - - { graphics } - - - [UNK] you forget what reality is [UNK] beautiful [UNK] good [UNK] decent [UNK] bad [UNK] don ‘ t look too long at it [UNK] ms - dos - - - { gameplay } - - - [UNK] very good [UNK] good [UNK] it ' s just gameplay [UNK] mehh [UNK] watch paint dry instead [UNK] just don ' t - - - { audio } - - - [UNK] eargasm [UNK] very good [UNK] good [UNK] not too bad [UNK] bad [UNK] i ' m now deaf - - - { audience } - - - [UNK] kids [UNK] teens [UNK] adults [UNK] grandma - - - { pc requirements } - - - [UNK] check if you can run paint [UNK] potato [UNK] decent [UNK] fast [UNK] rich boi [UNK] ask nasa if they have a spare computer - - - { difficulty } - - - [UNK] just press ' w ' [UNK] easy [UNK] easy to learn / hard to master [UNK] significant brain usage [UNK] difficult [UNK] dark souls - - - { grind } - - - [UNK] nothing to grind [UNK] only if u care about leaderboards / ranks [UNK] isn ' t necessary to progress [UNK] average grind level [UNK] too much grind [UNK] you ' ll need a second life for grinding - - - { story } - - - [UNK] no story [UNK] some lore [UNK] average [UNK] good [UNK]\n",
      "\n",
      "Doc 93206\n",
      "Original: ---{ Graphics }---\n",
      "☑ You forget what reality is\n",
      "☐ Beautiful\n",
      "☐ Good\n",
      "☐ Decent\n",
      "☐ Bad\n",
      "☐ Don‘t look too long at it\n",
      "☐ MS-DOS\n",
      "\n",
      "---{ Gameplay }---\n",
      "☐ Very good\n",
      "☑ Good\n",
      "☐ It's just gameplay\n",
      "☐ Mehh\n",
      "☐ Watch paint dry instead\n",
      "☐ Just don't\n",
      "\n",
      "---{ Audio }---\n",
      "☐ Eargasm\n",
      "☑ Very good\n",
      "☐ Good\n",
      "☐ Not too bad\n",
      "☐ Bad\n",
      "☐ I'm now deaf\n",
      "\n",
      "---{ Audience }---\n",
      "☐ Kids\n",
      "☑ Teens\n",
      "☑ Adults\n",
      "☑ Grandma\n",
      "\n",
      "---{ PC Requirements }---\n",
      "☐ Check if you can run paint\n",
      "☐ Potato\n",
      "☐ Decent\n",
      "☐ Fast\n",
      "☑ Rich boi\n",
      "☐ Ask NASA if they have a spare computer\n",
      "\n",
      "---{ Difficulty }---\n",
      "☐ Just press 'W'\n",
      "☐ Easy\n",
      "☐ Easy to learn / Hard to master\n",
      "☑ Significant brain usage\n",
      "☐ Difficult\n",
      "☐ Dark Souls\n",
      "\n",
      "---{ Grind }---\n",
      "☐ Nothing to grind\n",
      "☐ Only if u care about leaderboards/ranks\n",
      "☐ Isn't necessary to progress\n",
      "☑ Average grind level\n",
      "☐ Too much grind\n",
      "☐ You'll need a second life for grinding\n",
      "\n",
      "---{ Story }---\n",
      "☐ No Story\n",
      "☐ Some lore\n",
      "☐ Average\n",
      "☐ Good\n",
      "☑ Lovely\n",
      "☐ It'll replace your life\n",
      "\n",
      "---{ Game Time }---\n",
      "☐ Long enough for a cup of coffee\n",
      "☐ Short\n",
      "☐ Average\n",
      "☑ Long\n",
      "☐ To infinity and beyond\n",
      "\n",
      "---{ Price }---\n",
      "☐ It's free!\n",
      "☑ Worth the price\n",
      "☐ If it's on sale\n",
      "☐ If u have some spare money left\n",
      "☐ Not recommended\n",
      "☐ You could also just burn your money\n",
      "\n",
      "---{ Bugs }---\n",
      "☐ Never heard of\n",
      "☑ Minor bugs\n",
      "☐ Can get annoying\n",
      "☐ ARK: Survival Evolved\n",
      "☐ The game itself is a big terrarium for bugs\n",
      "\n",
      "---{ ? / 10 }---\n",
      "☐ 1\n",
      "☐ 2\n",
      "☐ 3\n",
      "☐ 4\n",
      "☐ 5\n",
      "☐ 6\n",
      "☐ 7\n",
      "☐ 8\n",
      "☑ 9\n",
      "☐ 10\n",
      "\n",
      "Game is really fun for what it is, so far the best space set game I have played. I do wish they took more time on expanding certain in-game features such as outpost building and more followers with character  development. Although I am sure future updates and the modding community will take care of everything i'm missing from the game in the future. Just feels a little lackluster for $70 USD. Still would highly recommend!\n",
      "\n",
      "Split: - - - { graphics } - - - [UNK] you forget what reality is [UNK] beautiful [UNK] good [UNK] decent [UNK] bad [UNK] don ‘ t look too long at it [UNK] ms - dos - - - { gameplay } - - - [UNK] very good [UNK] good [UNK] it ' s just gameplay [UNK] mehh [UNK] watch paint dry instead [UNK] just don ' t - - - { audio } - - - [UNK] eargasm [UNK] very good [UNK] good [UNK] not too bad [UNK] bad [UNK] i ' m now deaf - - - { audience } - - - [UNK] kids [UNK] teens [UNK] adults [UNK] grandma - - - { pc requirements } - - - [UNK] check if you can run paint [UNK] potato [UNK] decent [UNK] fast [UNK] rich boi [UNK] ask nasa if they have a spare computer - - - { difficulty } - - - [UNK] just press ' w ' [UNK] easy [UNK] easy to learn / hard to master [UNK] significant brain usage [UNK] difficult [UNK] dark souls - - - { grind } - - - [UNK] nothing to grind [UNK] only if u care about leaderboards / ranks [UNK] isn ' t necessary to progress [UNK] average grind level [UNK] too much grind [UNK] you ' ll need a second life for grinding - - - { story } - - - [UNK] no story [UNK] some lore [UNK] average [UNK] good [UNK]\n",
      "\n",
      "Doc 90971\n",
      "Original: ---{ Graphics }---\n",
      "☐ You forget what reality is\n",
      "☐ Beautiful\n",
      "☑ Good\n",
      "☐ Decent\n",
      "☐ Bad\n",
      "☐ Don‘t look too long at it\n",
      "☐ MS-DOS\n",
      "\n",
      "---{ Gameplay }---\n",
      "☐ Very good\n",
      "☑ Good\n",
      "☐ It's just gameplay\n",
      "☐ Mehh\n",
      "☐ Watch paint dry instead\n",
      "☐ Just don't\n",
      "\n",
      "---{ Audio }---\n",
      "☐ Eargasm\n",
      "☑ Very good\n",
      "☐ Good\n",
      "☐ Not too bad\n",
      "☐ Bad\n",
      "☐ I'm now deaf\n",
      "\n",
      "---{ Audience }---\n",
      "☐ Kids\n",
      "☑ Teens\n",
      "☑ Adults\n",
      "☑ Grandma\n",
      "\n",
      "---{ PC Requirements }---\n",
      "☐ Check if you can run paint\n",
      "☐ Potato\n",
      "☐ Decent\n",
      "☐ Fast\n",
      "☐ Rich boi\n",
      "☑ Ask NASA if they have a spare computer\n",
      "\n",
      "---{ Difficulty }---\n",
      "☐ Just press 'W'\n",
      "☑ Easy\n",
      "☐ Easy to learn / Hard to master\n",
      "☐ Significant brain usage\n",
      "☐ Difficult\n",
      "☐ Dark Souls\n",
      "\n",
      "---{ Grind }---\n",
      "☐ Nothing to grind\n",
      "☐ Only if u care about leaderboards/ranks\n",
      "☐ Isn't necessary to progress\n",
      "☐ Average grind level\n",
      "☐ Too much grind\n",
      "☑ You'll need a second life for grinding\n",
      "\n",
      "---{ Story }---\n",
      "☐ No Story\n",
      "☑ Some lore\n",
      "☐ Average\n",
      "☐ Good\n",
      "☐ Lovely\n",
      "☐ It'll replace your life\n",
      "\n",
      "---{ Game Time }---\n",
      "☐ Long enough for a cup of coffee\n",
      "☐ Short\n",
      "☐ Average\n",
      "☐ Long\n",
      "☑ To infinity and beyond\n",
      "\n",
      "---{ Price }---\n",
      "☐ It's free!\n",
      "☐ Worth the price\n",
      "☐ If it's on sale\n",
      "☑ If u have some spare money left\n",
      "☐ Not recommended\n",
      "☐ You could also just burn your money\n",
      "\n",
      "---{ Bugs }---\n",
      "☐ Never heard of\n",
      "☐ Minor bugs\n",
      "☑ Can get annoying\n",
      "☐ ARK: Survival Evolved\n",
      "☐ The game itself is a big terrarium for bugs\n",
      "\n",
      "---{ ? / 10 }---\n",
      "☐ 1\n",
      "☐ 2\n",
      "☐ 3\n",
      "☐ 4\n",
      "☐ 5\n",
      "☐ 6\n",
      "☑ 7\n",
      "☐ 8\n",
      "☐ 9\n",
      "☐ 10\n",
      "\n",
      "The Good- Gameplay, immersion, freedom to explore\n",
      "The bad- Performance, Emptiness of most of the planets\n",
      "The ugly- No city map\n",
      "\n",
      "Split: - - - { graphics } - - - [UNK] you forget what reality is [UNK] beautiful [UNK] good [UNK] decent [UNK] bad [UNK] don ‘ t look too long at it [UNK] ms - dos - - - { gameplay } - - - [UNK] very good [UNK] good [UNK] it ' s just gameplay [UNK] mehh [UNK] watch paint dry instead [UNK] just don ' t - - - { audio } - - - [UNK] eargasm [UNK] very good [UNK] good [UNK] not too bad [UNK] bad [UNK] i ' m now deaf - - - { audience } - - - [UNK] kids [UNK] teens [UNK] adults [UNK] grandma - - - { pc requirements } - - - [UNK] check if you can run paint [UNK] potato [UNK] decent [UNK] fast [UNK] rich boi [UNK] ask nasa if they have a spare computer - - - { difficulty } - - - [UNK] just press ' w ' [UNK] easy [UNK] easy to learn / hard to master [UNK] significant brain usage [UNK] difficult [UNK] dark souls - - - { grind } - - - [UNK] nothing to grind [UNK] only if u care about leaderboards / ranks [UNK] isn ' t necessary to progress [UNK] average grind level [UNK] too much grind [UNK] you ' ll need a second life for grinding - - - { story } - - - [UNK] no story [UNK] some lore [UNK] average [UNK] good [UNK]\n",
      "\n",
      "Doc 75427\n",
      "Original: ---{ Graphics }---\n",
      "☐ You forget what reality is\n",
      "☑ Beautiful\n",
      "☐ Good\n",
      "☐ Decent\n",
      "☐ Bad\n",
      "☐ Don‘t look too long at it\n",
      "☐ MS-DOS\n",
      "\n",
      "---{ Gameplay }---\n",
      "☑ Very good\n",
      "☐ Good\n",
      "☐ It's just gameplay\n",
      "☐ Mehh\n",
      "☐ Watch paint dry instead\n",
      "☐ Just don't\n",
      "\n",
      "---{ Audio }---\n",
      "☐ Eargasm\n",
      "☑ Very good\n",
      "☐ Good\n",
      "☐ Not too bad\n",
      "☐ Bad\n",
      "☐ I'm now deaf\n",
      "\n",
      "---{ Audience }---\n",
      "☑ Kids\n",
      "☑ Teens\n",
      "☑ Adults\n",
      "☐ Grandma\n",
      "\n",
      "---{ PC Requirements }---\n",
      "☐ Check if you can run paint\n",
      "☐ Potato\n",
      "☐ Decent\n",
      "☐ Fast\n",
      "☑ Rich boi\n",
      "☐ Ask NASA if they have a spare computer\n",
      "\n",
      "---{ Difficulty }---\n",
      "☐ Just press 'W'\n",
      "☑ Easy\n",
      "☐ Easy to learn / Hard to master\n",
      "☐ Significant brain usage\n",
      "☐ Difficult\n",
      "☐ Dark Souls\n",
      "\n",
      "---{ Grind }---\n",
      "☐ Nothing to grind\n",
      "☐ Only if u care about leaderboards/ranks\n",
      "☐ Isn't necessary to progress\n",
      "☑ Average grind level\n",
      "☐ Too much grind\n",
      "☐ You'll need a second life for grinding\n",
      "\n",
      "---{ Story }---\n",
      "☐ No Story\n",
      "☐ Some lore\n",
      "☐ Average\n",
      "☐ Good\n",
      "☑ Lovely\n",
      "☐ It'll replace your life\n",
      "\n",
      "---{ Game Time }---\n",
      "☐ Long enough for a cup of coffee\n",
      "☐ Short\n",
      "☐ Average\n",
      "☐ Long\n",
      "☑ To infinity and beyond\n",
      "\n",
      "---{ Price }---\n",
      "☐ It's free!\n",
      "☑ Worth the price\n",
      "☐ If it's on sale\n",
      "☐ If u have some spare money left\n",
      "☐ Not recommended\n",
      "☐ You could also just burn your money\n",
      "\n",
      "---{ Bugs }---\n",
      "☐ Never heard of\n",
      "☑ Minor bugs\n",
      "☐ Can get annoying\n",
      "☐ ARK: Survival Evolved\n",
      "☐ The game itself is a big terrarium for bugs\n",
      "\n",
      "---{ ? / 10 }---\n",
      "☐ 1\n",
      "☐ 2\n",
      "☐ 3\n",
      "☐ 4\n",
      "☐ 5\n",
      "☐ 6\n",
      "☐ 7\n",
      "☐ 8\n",
      "☐ 9\n",
      "☑ 10\n",
      "\n",
      "Split: - - - { graphics } - - - [UNK] you forget what reality is [UNK] beautiful [UNK] good [UNK] decent [UNK] bad [UNK] don ‘ t look too long at it [UNK] ms - dos - - - { gameplay } - - - [UNK] very good [UNK] good [UNK] it ' s just gameplay [UNK] mehh [UNK] watch paint dry instead [UNK] just don ' t - - - { audio } - - - [UNK] eargasm [UNK] very good [UNK] good [UNK] not too bad [UNK] bad [UNK] i ' m now deaf - - - { audience } - - - [UNK] kids [UNK] teens [UNK] adults [UNK] grandma - - - { pc requirements } - - - [UNK] check if you can run paint [UNK] potato [UNK] decent [UNK] fast [UNK] rich boi [UNK] ask nasa if they have a spare computer - - - { difficulty } - - - [UNK] just press ' w ' [UNK] easy [UNK] easy to learn / hard to master [UNK] significant brain usage [UNK] difficult [UNK] dark souls - - - { grind } - - - [UNK] nothing to grind [UNK] only if u care about leaderboards / ranks [UNK] isn ' t necessary to progress [UNK] average grind level [UNK] too much grind [UNK] you ' ll need a second life for grinding - - - { story } - - - [UNK] no story [UNK] some lore [UNK] average [UNK] good [UNK]\n",
      "\n",
      "Doc 41712\n",
      "Original: ---{ Graphics }---\n",
      "☐ You forget what reality is\n",
      "☑ Beautiful\n",
      "☐ Good\n",
      "☐ Decent\n",
      "☐ Bad\n",
      "☐ Don‘t look too long at it\n",
      "☐ MS-DOS\n",
      "\n",
      "---{ Gameplay }---\n",
      "☐ Very good\n",
      "☑ Good\n",
      "☐ It's just gameplay\n",
      "☐ Mehh\n",
      "☐ Watch paint dry instead\n",
      "☐ Just don't\n",
      "\n",
      "---{ Audio }---\n",
      "☐ Eargasm\n",
      "☐ Very good\n",
      "☑ Good\n",
      "☐ Not too bad\n",
      "☐ Bad\n",
      "☐ I'm now deaf\n",
      "\n",
      "---{ Audience }---\n",
      "☐ Kids\n",
      "☑ Teens\n",
      "☑ Adults\n",
      "☐ Grandma\n",
      "\n",
      "---{ PC Requirements }---\n",
      "☐ Check if you can run paint\n",
      "☐ Potato\n",
      "☐ Decent\n",
      "☐ Fast\n",
      "☑ Rich boi\n",
      "☐ Ask NASA if they have a spare computer\n",
      "\n",
      "---{ Difficulty }---\n",
      "☐ Just press 'W'\n",
      "☑ Easy\n",
      "☐ Easy to learn / Hard to master\n",
      "☐ Significant brain usage\n",
      "☐ Difficult\n",
      "☐ Dark Souls\n",
      "\n",
      "---{ Grind }---\n",
      "☐ Nothing to grind\n",
      "☐ Only if u care about leaderboards/ranks\n",
      "☐ Isn't necessary to progress\n",
      "☑ Average grind level\n",
      "☐ Too much grind\n",
      "☐ You'll need a second life for grinding\n",
      "\n",
      "---{ Story }---\n",
      "☐ No Story\n",
      "☐ Some lore\n",
      "☐ Average\n",
      "☑ Good\n",
      "☐ Lovely\n",
      "☐ It'll replace your life\n",
      "\n",
      "---{ Game Time }---\n",
      "☐ Long enough for a cup of coffee\n",
      "☐ Short\n",
      "☐ Average\n",
      "☑ Long\n",
      "☐ To infinity and beyond\n",
      "\n",
      "---{ Price }---\n",
      "☐ It's free!\n",
      "☐ Worth the price\n",
      "☑ If it's on sale\n",
      "☐ If u have some spare money left\n",
      "☐ Not recommended\n",
      "☐ You could also just burn your money\n",
      "\n",
      "---{ Bugs }---\n",
      "☐ Never heard of\n",
      "☐ Minor bugs\n",
      "☑ Can get annoying\n",
      "☐ ARK: Survival Evolved\n",
      "☐ The game itself is a big terrarium for bugs\n",
      "\n",
      "---{ ? / 10 }---\n",
      "☐ 1\n",
      "☐ 2\n",
      "☐ 3\n",
      "☐ 4\n",
      "☐ 5\n",
      "☐ 6\n",
      "☑ 7\n",
      "☐ 8\n",
      "☐ 9\n",
      "☐ 10\n",
      "\n",
      "Split: - - - { graphics } - - - [UNK] you forget what reality is [UNK] beautiful [UNK] good [UNK] decent [UNK] bad [UNK] don ‘ t look too long at it [UNK] ms - dos - - - { gameplay } - - - [UNK] very good [UNK] good [UNK] it ' s just gameplay [UNK] mehh [UNK] watch paint dry instead [UNK] just don ' t - - - { audio } - - - [UNK] eargasm [UNK] very good [UNK] good [UNK] not too bad [UNK] bad [UNK] i ' m now deaf - - - { audience } - - - [UNK] kids [UNK] teens [UNK] adults [UNK] grandma - - - { pc requirements } - - - [UNK] check if you can run paint [UNK] potato [UNK] decent [UNK] fast [UNK] rich boi [UNK] ask nasa if they have a spare computer - - - { difficulty } - - - [UNK] just press ' w ' [UNK] easy [UNK] easy to learn / hard to master [UNK] significant brain usage [UNK] difficult [UNK] dark souls - - - { grind } - - - [UNK] nothing to grind [UNK] only if u care about leaderboards / ranks [UNK] isn ' t necessary to progress [UNK] average grind level [UNK] too much grind [UNK] you ' ll need a second life for grinding - - - { story } - - - [UNK] no story [UNK] some lore [UNK] average [UNK] good [UNK]\n",
      "\n",
      "Doc 73915\n",
      "Original: ---{ Graphics }---\n",
      "☐ You forget what reality is\n",
      "☑ Beautiful\n",
      "☐ Good\n",
      "☐ Decent\n",
      "☐ Bad\n",
      "☐ Don‘t look too long at it\n",
      "☐ MS-DOS\n",
      "\n",
      "---{ Gameplay }---\n",
      "☑ Very good\n",
      "☐ Good\n",
      "☐ It's just gameplay\n",
      "☐ Mehh\n",
      "☐ Watch paint dry instead\n",
      "☐ Just don't\n",
      "\n",
      "---{ Audio }---\n",
      "☐ Eargasm\n",
      "☑ Very good\n",
      "☐ Good\n",
      "☐ Not too bad\n",
      "☐ Bad\n",
      "☐ I'm now deaf\n",
      "\n",
      "---{ Audience }---\n",
      "☑ Kids\n",
      "☑ Teens\n",
      "☑ Adults\n",
      "☑ Grandma\n",
      "\n",
      "---{ PC Requirements }---\n",
      "☐ Check if you can run paint\n",
      "☐ Potato\n",
      "☐ Decent\n",
      "☑ Fast\n",
      "☐ Rich boi\n",
      "☐ Ask NASA if they have a spare computer\n",
      "\n",
      "---{ Difficulty }---\n",
      "☐ Just press 'W'\n",
      "☐ Easy\n",
      "☑ Easy to learn / Hard to master\n",
      "☐ Significant brain usage\n",
      "☐ Difficult\n",
      "☐ Dark Souls\n",
      "\n",
      "---{ Grind }---\n",
      "☐ Nothing to grind\n",
      "☐ Only if u care about leaderboards/ranks\n",
      "☑ Isn't necessary to progress\n",
      "☐ Average grind level\n",
      "☐ Too much grind\n",
      "☐ You'll need a second life for grinding\n",
      "\n",
      "---{ Story }---\n",
      "☐ No Story\n",
      "☐ Some lore\n",
      "☐ Average\n",
      "☐ Good\n",
      "☑ Lovely\n",
      "☐ It'll replace your life\n",
      "\n",
      "---{ Game Time }---\n",
      "☐ Long enough for a cup of coffee\n",
      "☐ Short\n",
      "☐ Average\n",
      "☐ Long\n",
      "☑ To infinity and beyond\n",
      "\n",
      "---{ Price }---\n",
      "☐ It's free!\n",
      "☑ Worth the price\n",
      "☐ If it's on sale\n",
      "☐ If u have some spare money left\n",
      "☐ Not recommended\n",
      "☐ You could also just burn your money\n",
      "\n",
      "---{ Bugs }---\n",
      "☑ Never heard of\n",
      "☐ Minor bugs\n",
      "☐ Can get annoying\n",
      "☐ ARK: Survival Evolved\n",
      "☐ The game itself is a big terrarium for bugs\n",
      "\n",
      "---{ ? / 10 }---\n",
      "☐ 1\n",
      "☐ 2\n",
      "☐ 3\n",
      "☐ 4\n",
      "☐ 5\n",
      "☐ 6\n",
      "☐ 7\n",
      "☐ 8\n",
      "☐ 9\n",
      "☑ 10\n",
      "\n",
      "It's like Fallout/ Skyrim but your in space and so much to do that yes can be overwhelming at first... but jump in get your feet wet and I can guarantee one thing if your into space simulator rpg action junkie, you will love this game :D  \n",
      "\n",
      "Grab this review template here! 👉 https://vojtastruhar.github.io/steam-review-template/\n",
      "Split: - - - { graphics } - - - [UNK] you forget what reality is [UNK] beautiful [UNK] good [UNK] decent [UNK] bad [UNK] don ‘ t look too long at it [UNK] ms - dos - - - { gameplay } - - - [UNK] very good [UNK] good [UNK] it ' s just gameplay [UNK] mehh [UNK] watch paint dry instead [UNK] just don ' t - - - { audio } - - - [UNK] eargasm [UNK] very good [UNK] good [UNK] not too bad [UNK] bad [UNK] i ' m now deaf - - - { audience } - - - [UNK] kids [UNK] teens [UNK] adults [UNK] grandma - - - { pc requirements } - - - [UNK] check if you can run paint [UNK] potato [UNK] decent [UNK] fast [UNK] rich boi [UNK] ask nasa if they have a spare computer - - - { difficulty } - - - [UNK] just press ' w ' [UNK] easy [UNK] easy to learn / hard to master [UNK] significant brain usage [UNK] difficult [UNK] dark souls - - - { grind } - - - [UNK] nothing to grind [UNK] only if u care about leaderboards / ranks [UNK] isn ' t necessary to progress [UNK] average grind level [UNK] too much grind [UNK] you ' ll need a second life for grinding - - - { story } - - - [UNK] no story [UNK] some lore [UNK] average [UNK] good [UNK]\n",
      "\n",
      "Doc 44959\n",
      "Original: ---{ Graphics }---\n",
      "☐ You forget what reality is\n",
      "☐ Beautiful\n",
      "☐ Good\n",
      "☑ Decent\n",
      "☐ Bad\n",
      "☐ Don‘t look too long at it\n",
      "☐ MS-DOS\n",
      "\n",
      "---{ Gameplay }---\n",
      "☐ Very good\n",
      "☑ Good\n",
      "☐ It's just gameplay\n",
      "☐ Mehh\n",
      "☐ Watch paint dry instead\n",
      "☐ Just don't\n",
      "\n",
      "---{ Audio }---\n",
      "☐ Eargasm\n",
      "☐ Very good\n",
      "☐ Good\n",
      "☑ Not too bad\n",
      "☐ Bad\n",
      "☐ I'm now deaf\n",
      "\n",
      "---{ Audience }---\n",
      "☐ Kids\n",
      "☑ Teens\n",
      "☑ Adults\n",
      "☑ Grandma\n",
      "\n",
      "---{ PC Requirements }---\n",
      "☐ Check if you can run paint\n",
      "☐ Potato\n",
      "☑ Decent\n",
      "☐ Fast\n",
      "☐ Rich boi\n",
      "☐ Ask NASA if they have a spare computer\n",
      "\n",
      "---{ Difficulty }---\n",
      "☐ Just press 'W'\n",
      "☐ Easy\n",
      "☐ Easy to learn / Hard to master\n",
      "☑ Significant brain usage\n",
      "☐ Difficult\n",
      "☐ Dark Souls\n",
      "\n",
      "---{ Grind }---\n",
      "☐ Nothing to grind\n",
      "☐ Only if u care about leaderboards/ranks\n",
      "☑ Isn't necessary to progress\n",
      "☐ Average grind level\n",
      "☐ Too much grind\n",
      "☐ You'll need a second life for grinding\n",
      "\n",
      "---{ Story }---\n",
      "☐ No Story\n",
      "☑ Some lore\n",
      "☐ Average\n",
      "☐ Good\n",
      "☐ Lovely\n",
      "☐ It'll replace your life\n",
      "\n",
      "---{ Game Time }---\n",
      "☐ Long enough for a cup of coffee\n",
      "☐ Short\n",
      "☐ Average\n",
      "☑ Long\n",
      "☐ To infinity and beyond\n",
      "\n",
      "---{ Price }---\n",
      "☐ It's free!\n",
      "☑ Worth the price\n",
      "☐ If it's on sale\n",
      "☐ If u have some spare money left\n",
      "☐ Not recommended\n",
      "☐ You could also just burn your money\n",
      "\n",
      "---{ Bugs }---\n",
      "☐ Never heard of\n",
      "☐ Minor bugs\n",
      "☑ Can get annoying\n",
      "☐ ARK: Survival Evolved\n",
      "☐ The game itself is a big terrarium for bugs\n",
      "\n",
      "---{ ? / 10 }---\n",
      "☐ 1\n",
      "☐ 2\n",
      "☐ 3\n",
      "☐ 4\n",
      "☐ 5\n",
      "☐ 6\n",
      "☐ 7\n",
      "☑ 8\n",
      "☐ 9\n",
      "☐ 10\n",
      "Split: - - - { graphics } - - - [UNK] you forget what reality is [UNK] beautiful [UNK] good [UNK] decent [UNK] bad [UNK] don ‘ t look too long at it [UNK] ms - dos - - - { gameplay } - - - [UNK] very good [UNK] good [UNK] it ' s just gameplay [UNK] mehh [UNK] watch paint dry instead [UNK] just don ' t - - - { audio } - - - [UNK] eargasm [UNK] very good [UNK] good [UNK] not too bad [UNK] bad [UNK] i ' m now deaf - - - { audience } - - - [UNK] kids [UNK] teens [UNK] adults [UNK] grandma - - - { pc requirements } - - - [UNK] check if you can run paint [UNK] potato [UNK] decent [UNK] fast [UNK] rich boi [UNK] ask nasa if they have a spare computer - - - { difficulty } - - - [UNK] just press ' w ' [UNK] easy [UNK] easy to learn / hard to master [UNK] significant brain usage [UNK] difficult [UNK] dark souls - - - { grind } - - - [UNK] nothing to grind [UNK] only if u care about leaderboards / ranks [UNK] isn ' t necessary to progress [UNK] average grind level [UNK] too much grind [UNK] you ' ll need a second life for grinding - - - { story } - - - [UNK] no story [UNK] some lore [UNK] average [UNK] good [UNK]\n",
      "\n",
      "Doc 16862\n",
      "Original: ---{ Graphics }---\n",
      "☐ You forget what reality is\n",
      "☐ Beautiful\n",
      "☐ Good\n",
      "☑ Decent\n",
      "☐ Bad\n",
      "☐ Don‘t look too long at it\n",
      "☐ MS-DOS\n",
      "\n",
      "---{ Gameplay }---\n",
      "☐ Very good\n",
      "☐ Good\n",
      "☑ It's just gameplay\n",
      "☐ Mehh\n",
      "☐ Watch paint dry instead\n",
      "☐ Just don't\n",
      "\n",
      "---{ Audio }---\n",
      "☐ Eargasm\n",
      "☐ Very good\n",
      "☐ Good\n",
      "☑ Not too bad\n",
      "☐ Bad\n",
      "☐ I'm now deaf\n",
      "\n",
      "---{ Audience }---\n",
      "☐ Kids\n",
      "☐ Teens\n",
      "☑ Adults\n",
      "☑ Grandma\n",
      "\n",
      "---{ PC Requirements }---\n",
      "☐ Check if you can run paint\n",
      "☐ Potato\n",
      "☐ Decent\n",
      "☐ Fast\n",
      "☐ Rich boi\n",
      "☑ Ask NASA if they have a spare computer\n",
      "\n",
      "---{ Difficulty }---\n",
      "☐ Just press 'W'\n",
      "☑ Easy\n",
      "☐ Easy to learn / Hard to master\n",
      "☐ Significant brain usage\n",
      "☐ Difficult\n",
      "☐ Dark Souls\n",
      "\n",
      "---{ Grind }---\n",
      "☐ Nothing to grind\n",
      "☐ Only if u care about leaderboards/ranks\n",
      "☐ Isn't necessary to progress\n",
      "☐ Average grind level\n",
      "☑ Too much grind\n",
      "☐ You'll need a second life for grinding\n",
      "\n",
      "---{ Story }---\n",
      "☐ No Story\n",
      "☑ Some lore\n",
      "☐ Average\n",
      "☐ Good\n",
      "☐ Lovely\n",
      "☐ It'll replace your life\n",
      "\n",
      "---{ Game Time }---\n",
      "☐ Long enough for a cup of coffee\n",
      "☑ Short\n",
      "☐ Average\n",
      "☐ Long\n",
      "☐ To infinity and beyond\n",
      "\n",
      "---{ Price }---\n",
      "☐ It's free!\n",
      "☐ Worth the price\n",
      "☐ If it's on sale\n",
      "☐ If u have some spare money left\n",
      "☑ Not recommended\n",
      "☐ You could also just burn your money\n",
      "\n",
      "---{ Bugs }---\n",
      "☐ Never heard of\n",
      "☐ Minor bugs\n",
      "☐ Can get annoying\n",
      "☑ ARK: Survival Evolved\n",
      "☐ The game itself is a big terrarium for bugs\n",
      "\n",
      "---{ ? / 10 }---\n",
      "☐ 1\n",
      "☐ 2\n",
      "☐ 3\n",
      "☐ 4\n",
      "☑ 5\n",
      "☐ 6\n",
      "☐ 7\n",
      "☐ 8\n",
      "☐ 9\n",
      "☐ 10\n",
      "\n",
      "\n",
      "Grab this review template here! 👉 https://vojtastruhar.github.io/steam-review-template/\n",
      "\n",
      "Split: - - - { graphics } - - - [UNK] you forget what reality is [UNK] beautiful [UNK] good [UNK] decent [UNK] bad [UNK] don ‘ t look too long at it [UNK] ms - dos - - - { gameplay } - - - [UNK] very good [UNK] good [UNK] it ' s just gameplay [UNK] mehh [UNK] watch paint dry instead [UNK] just don ' t - - - { audio } - - - [UNK] eargasm [UNK] very good [UNK] good [UNK] not too bad [UNK] bad [UNK] i ' m now deaf - - - { audience } - - - [UNK] kids [UNK] teens [UNK] adults [UNK] grandma - - - { pc requirements } - - - [UNK] check if you can run paint [UNK] potato [UNK] decent [UNK] fast [UNK] rich boi [UNK] ask nasa if they have a spare computer - - - { difficulty } - - - [UNK] just press ' w ' [UNK] easy [UNK] easy to learn / hard to master [UNK] significant brain usage [UNK] difficult [UNK] dark souls - - - { grind } - - - [UNK] nothing to grind [UNK] only if u care about leaderboards / ranks [UNK] isn ' t necessary to progress [UNK] average grind level [UNK] too much grind [UNK] you ' ll need a second life for grinding - - - { story } - - - [UNK] no story [UNK] some lore [UNK] average [UNK] good [UNK]\n",
      "\n",
      "Doc 58701\n",
      "Original: ---{ Graphics }---\n",
      "☐ You forget what reality is\n",
      "☐ Beautiful\n",
      "☑ Good\n",
      "☐ Decent\n",
      "☐ Bad\n",
      "☐ Don‘t look too long at it\n",
      "☐ MS-DOS\n",
      "\n",
      "---{ Gameplay }---\n",
      "☐ Very good\n",
      "☑ Good\n",
      "☐ It's just gameplay\n",
      "☐ Mehh\n",
      "☐ Watch paint dry instead\n",
      "☐ Just don't\n",
      "\n",
      "---{ Audio }---\n",
      "☐ Eargasm\n",
      "☑ Very good\n",
      "☐ Good\n",
      "☐ Not too bad\n",
      "☐ Bad\n",
      "☐ I'm now deaf\n",
      "\n",
      "---{ Audience }---\n",
      "☑ Kids\n",
      "☑ Teens\n",
      "☑ Adults\n",
      "☑ Grandma\n",
      "\n",
      "---{ PC Requirements }---\n",
      "☐ Check if you can run paint\n",
      "☐ Potato\n",
      "☐ Decent\n",
      "☑ Fast\n",
      "☐ Rich boi\n",
      "☐ Ask NASA if they have a spare computer\n",
      "\n",
      "---{ Difficulty }---\n",
      "☐ Just press 'W'\n",
      "☐ Easy\n",
      "☑ Easy to learn / Hard to master\n",
      "☐ Significant brain usage\n",
      "☐ Difficult\n",
      "☐ Dark Souls\n",
      "\n",
      "---{ Grind }---\n",
      "☐ Nothing to grind\n",
      "☐ Only if u care about leaderboards/ranks\n",
      "☐ Isn't necessary to progress\n",
      "☑ Average grind level\n",
      "☐ Too much grind\n",
      "☐ You'll need a second life for grinding\n",
      "\n",
      "---{ Story }---\n",
      "☐ No Story\n",
      "☐ Some lore\n",
      "☐ Average\n",
      "☑ Good\n",
      "☐ Lovely\n",
      "☐ It'll replace your life\n",
      "\n",
      "---{ Game Time }---\n",
      "☐ Long enough for a cup of coffee\n",
      "☐ Short\n",
      "☐ Average\n",
      "☑ Long\n",
      "☐ To infinity and beyond\n",
      "\n",
      "---{ Price }---\n",
      "☐ It's free!\n",
      "☑ Worth the price\n",
      "☐ If it's on sale\n",
      "☐ If u have some spare money left\n",
      "☐ Not recommended\n",
      "☐ You could also just burn your money\n",
      "\n",
      "---{ Bugs }---\n",
      "☐ Never heard of\n",
      "☑ Minor bugs\n",
      "☐ Can get annoying\n",
      "☐ ARK: Survival Evolved\n",
      "☐ The game itself is a big terrarium for bugs\n",
      "\n",
      "---{ ? / 10 }---\n",
      "☐ 1\n",
      "☐ 2\n",
      "☐ 3\n",
      "☐ 4\n",
      "☐ 5\n",
      "☐ 6\n",
      "☐ 7\n",
      "☐ 8\n",
      "☑ 9\n",
      "☐ 10\n",
      "\n",
      "\n",
      "\n",
      "\n",
      "Split: - - - { graphics } - - - [UNK] you forget what reality is [UNK] beautiful [UNK] good [UNK] decent [UNK] bad [UNK] don ‘ t look too long at it [UNK] ms - dos - - - { gameplay } - - - [UNK] very good [UNK] good [UNK] it ' s just gameplay [UNK] mehh [UNK] watch paint dry instead [UNK] just don ' t - - - { audio } - - - [UNK] eargasm [UNK] very good [UNK] good [UNK] not too bad [UNK] bad [UNK] i ' m now deaf - - - { audience } - - - [UNK] kids [UNK] teens [UNK] adults [UNK] grandma - - - { pc requirements } - - - [UNK] check if you can run paint [UNK] potato [UNK] decent [UNK] fast [UNK] rich boi [UNK] ask nasa if they have a spare computer - - - { difficulty } - - - [UNK] just press ' w ' [UNK] easy [UNK] easy to learn / hard to master [UNK] significant brain usage [UNK] difficult [UNK] dark souls - - - { grind } - - - [UNK] nothing to grind [UNK] only if u care about leaderboards / ranks [UNK] isn ' t necessary to progress [UNK] average grind level [UNK] too much grind [UNK] you ' ll need a second life for grinding - - - { story } - - - [UNK] no story [UNK] some lore [UNK] average [UNK] good [UNK]\n",
      "\n",
      "Doc 22876\n",
      "Original: ---{ Graphics }---\n",
      "☐ You forget what reality is\n",
      "☑ Beautiful\n",
      "☐ Good\n",
      "☐ Decent\n",
      "☐ Bad\n",
      "☐ Don‘t look too long at it\n",
      "☐ MS-DOS\n",
      "\n",
      "---{ Gameplay }---\n",
      "☐ Very good\n",
      "☑ Good\n",
      "☐ It's just gameplay\n",
      "☐ Mehh\n",
      "☐ Watch paint dry instead\n",
      "☐ Just don't\n",
      "\n",
      "---{ Audio }---\n",
      "☑ Eargasm\n",
      "☐ Very good\n",
      "☐ Good\n",
      "☐ Not too bad\n",
      "☐ Bad\n",
      "☐ I'm now deaf\n",
      "\n",
      "---{ Audience }---\n",
      "☐ Kids\n",
      "☐ Teens\n",
      "☐ Adults\n",
      "☐ Grandma\n",
      "\n",
      "---{ PC Requirements }---\n",
      "☐ Check if you can run paint\n",
      "☐ Potato\n",
      "☐ Decent\n",
      "☑ Fast\n",
      "☐ Rich boi\n",
      "☐ Ask NASA if they have a spare computer\n",
      "\n",
      "---{ Difficulty }---\n",
      "☐ Just press 'W'\n",
      "☐ Easy\n",
      "☑ Easy to learn / Hard to master\n",
      "☐ Significant brain usage\n",
      "☐ Difficult\n",
      "☐ Dark Souls\n",
      "\n",
      "---{ Grind }---\n",
      "☐ Nothing to grind\n",
      "☐ Only if u care about leaderboards/ranks\n",
      "☐ Isn't necessary to progress\n",
      "☑ Average grind level\n",
      "☐ Too much grind\n",
      "☐ You'll need a second life for grinding\n",
      "\n",
      "---{ Story }---\n",
      "☐ No Story\n",
      "☐ Some lore\n",
      "☐ Average\n",
      "☐ Good\n",
      "☑ Lovely\n",
      "☐ It'll replace your life\n",
      "\n",
      "---{ Game Time }---\n",
      "☐ Long enough for a cup of coffee\n",
      "☐ Short\n",
      "☐ Average\n",
      "☐ Long\n",
      "☑ To infinity and beyond\n",
      "\n",
      "---{ Price }---\n",
      "☐ It's free!\n",
      "☐ Worth the price\n",
      "☑ If it's on sale\n",
      "☐ If u have some spare money left\n",
      "☐ Not recommended\n",
      "☐ You could also just burn your money\n",
      "\n",
      "---{ Bugs }---\n",
      "☐ Never heard of\n",
      "☑ Minor bugs\n",
      "☐ Can get annoying\n",
      "☐ ARK: Survival Evolved\n",
      "☐ The game itself is a big terrarium for bugs\n",
      "\n",
      "---{ ? / 10 }---\n",
      "☐ 1\n",
      "☐ 2\n",
      "☐ 3\n",
      "☐ 4\n",
      "☐ 5\n",
      "☐ 6\n",
      "☐ 7\n",
      "☑ 8\n",
      "☐ 9\n",
      "☐ 10\n",
      "Split: - - - { graphics } - - - [UNK] you forget what reality is [UNK] beautiful [UNK] good [UNK] decent [UNK] bad [UNK] don ‘ t look too long at it [UNK] ms - dos - - - { gameplay } - - - [UNK] very good [UNK] good [UNK] it ' s just gameplay [UNK] mehh [UNK] watch paint dry instead [UNK] just don ' t - - - { audio } - - - [UNK] eargasm [UNK] very good [UNK] good [UNK] not too bad [UNK] bad [UNK] i ' m now deaf - - - { audience } - - - [UNK] kids [UNK] teens [UNK] adults [UNK] grandma - - - { pc requirements } - - - [UNK] check if you can run paint [UNK] potato [UNK] decent [UNK] fast [UNK] rich boi [UNK] ask nasa if they have a spare computer - - - { difficulty } - - - [UNK] just press ' w ' [UNK] easy [UNK] easy to learn / hard to master [UNK] significant brain usage [UNK] difficult [UNK] dark souls - - - { grind } - - - [UNK] nothing to grind [UNK] only if u care about leaderboards / ranks [UNK] isn ' t necessary to progress [UNK] average grind level [UNK] too much grind [UNK] you ' ll need a second life for grinding - - - { story } - - - [UNK] no story [UNK] some lore [UNK] average [UNK] good [UNK]\n",
      "\n",
      "Doc 37943\n",
      "Original: ---{ Graphics }---\n",
      "☐ You forget what reality is\n",
      "☐ Beautiful\n",
      "☑ Good \n",
      "☐ Decent\n",
      "☐ Bad\n",
      "☐ Don‘t look too long at it\n",
      "☐ MS-DOS\n",
      "\n",
      "---{ Gameplay }---\n",
      "☐ Very good\n",
      "☑ Good\n",
      "☐ It's just gameplay\n",
      "☐ Mehh\n",
      "☐ Watch paint dry instead\n",
      "☐ Just don't\n",
      "\n",
      "---{ Audio }---\n",
      "☐ Eargasm\n",
      "☑ Very good\n",
      "☐ Good\n",
      "☐ Not too bad\n",
      "☐ Bad\n",
      "☐ I'm now deaf\n",
      "\n",
      "---{ Audience }---\n",
      "☐ Kids\n",
      "☑ Teens\n",
      "☑ Adults\n",
      "☐ Grandma\n",
      "\n",
      "---{ PC Requirements }---\n",
      "☐ Check if you can run paint\n",
      "☐ Potato\n",
      "☐ Decent\n",
      "☑ Fast\n",
      "☐ Rich boi\n",
      "☐ Ask NASA if they have a spare computer\n",
      "\n",
      "---{ Difficulty }---\n",
      "☐ Just press 'W'\n",
      "☐ Easy\n",
      "☐ Easy to learn / Hard to master\n",
      "☑ Significant brain usage\n",
      "☐ Difficult\n",
      "☐ Dark Souls\n",
      "\n",
      "---{ Grind }---\n",
      "☐ Nothing to grind\n",
      "☐ Only if u care about leaderboards/ranks\n",
      "☐ Isn't necessary to progress\n",
      "☑ Average grind level\n",
      "☐ Too much grind\n",
      "☐ You'll need a second life for grinding\n",
      "\n",
      "---{ Story }---\n",
      "☐ No Story\n",
      "☐ Some lore\n",
      "☐ Average\n",
      "☐ Good\n",
      "☑ Lovely\n",
      "☐ It'll replace your life\n",
      "\n",
      "---{ Game Time }---\n",
      "☐ Long enough for a cup of coffee\n",
      "☐ Short\n",
      "☐ Average\n",
      "☑ Long\n",
      "☐ To infinity and beyond\n",
      "\n",
      "---{ Price }---\n",
      "☐ It's free!\n",
      "☑ Worth the price\n",
      "☐ If it's on sale\n",
      "☐ If u have some spare money left\n",
      "☐ Not recommended\n",
      "☐ You could also just burn your money\n",
      "\n",
      "---{ Bugs }---\n",
      "☐ Never heard of\n",
      "☑ Minor bugs\n",
      "☐ Can get annoying\n",
      "☐ ARK: Survival Evolved\n",
      "☐ The game itself is a big terrarium for bugs\n",
      "\n",
      "---{ ? / 10 }---\n",
      "☐ 1\n",
      "☐ 2\n",
      "☐ 3\n",
      "☐ 4\n",
      "☐ 5\n",
      "☐ 6\n",
      "☐ 7\n",
      "☐ 8\n",
      "☑ 9\n",
      "☐ 10\n",
      "\n",
      "Amazing game so far. Pretty much the solo space-based rpg I've wanted for years. There are some issues and things that need to be worked out, but Bethesda has already signaled to the community they're starting that process. \n",
      "\n",
      "Probably will be playing this until ES:VI launches.\n",
      "Split: - - - { graphics } - - - [UNK] you forget what reality is [UNK] beautiful [UNK] good [UNK] decent [UNK] bad [UNK] don ‘ t look too long at it [UNK] ms - dos - - - { gameplay } - - - [UNK] very good [UNK] good [UNK] it ' s just gameplay [UNK] mehh [UNK] watch paint dry instead [UNK] just don ' t - - - { audio } - - - [UNK] eargasm [UNK] very good [UNK] good [UNK] not too bad [UNK] bad [UNK] i ' m now deaf - - - { audience } - - - [UNK] kids [UNK] teens [UNK] adults [UNK] grandma - - - { pc requirements } - - - [UNK] check if you can run paint [UNK] potato [UNK] decent [UNK] fast [UNK] rich boi [UNK] ask nasa if they have a spare computer - - - { difficulty } - - - [UNK] just press ' w ' [UNK] easy [UNK] easy to learn / hard to master [UNK] significant brain usage [UNK] difficult [UNK] dark souls - - - { grind } - - - [UNK] nothing to grind [UNK] only if u care about leaderboards / ranks [UNK] isn ' t necessary to progress [UNK] average grind level [UNK] too much grind [UNK] you ' ll need a second life for grinding - - - { story } - - - [UNK] no story [UNK] some lore [UNK] average [UNK] good [UNK]\n",
      "\n",
      "Doc 33778\n",
      "Original: ---{ Graphics }---\n",
      "☐ You forget what reality is\n",
      "☐ Beautiful\n",
      "☑ Good\n",
      "☐ Decent\n",
      "☐ Bad\n",
      "☐ Don‘t look too long at it\n",
      "☐ MS-DOS\n",
      "\n",
      "---{ Gameplay }---\n",
      "☐ Very good\n",
      "☑ Good\n",
      "☐ It's just gameplay\n",
      "☐ Mehh\n",
      "☐ Watch paint dry instead\n",
      "☐ Just don't\n",
      "\n",
      "---{ Audio }---\n",
      "☐ Eargasm\n",
      "☑ Very good\n",
      "☐ Good\n",
      "☐ Not too bad\n",
      "☐ Bad\n",
      "☐ I'm now deaf\n",
      "\n",
      "---{ Audience }---\n",
      "☐ Kids\n",
      "☐ Teens\n",
      "☑ Adults\n",
      "☐ Grandma\n",
      "\n",
      "---{ PC Requirements }---\n",
      "☐ Check if you can run paint\n",
      "☐ Potato\n",
      "☐ Decent\n",
      "☐ Fast\n",
      "☑ Rich boi\n",
      "☐ Ask NASA if they have a spare computer\n",
      "\n",
      "---{ Difficulty }---\n",
      "☐ Just press 'W'\n",
      "☐ Easy\n",
      "☐ Easy to learn / Hard to master\n",
      "☑ Significant brain usage\n",
      "☐ Difficult\n",
      "☐ Dark Souls\n",
      "\n",
      "---{ Grind }---\n",
      "☐ Nothing to grind\n",
      "☐ Only if u care about leaderboards/ranks\n",
      "☐ Isn't necessary to progress\n",
      "☑ Average grind level\n",
      "☐ Too much grind\n",
      "☐ You'll need a second life for grinding\n",
      "\n",
      "---{ Story }---\n",
      "☐ No Story\n",
      "☐ Some lore\n",
      "☐ Average\n",
      "☐ Good\n",
      "☑ Lovely\n",
      "☐ It'll replace your life\n",
      "\n",
      "---{ Game Time }---\n",
      "☐ Long enough for a cup of coffee\n",
      "☐ Short\n",
      "☐ Average\n",
      "☐ Long\n",
      "☑ To infinity and beyond\n",
      "\n",
      "---{ Price }---\n",
      "☐ It's free!\n",
      "☑ Worth the price\n",
      "☐ If it's on sale\n",
      "☐ If u have some spare money left\n",
      "☐ Not recommended\n",
      "☐ You could also just burn your money\n",
      "\n",
      "---{ Bugs }---\n",
      "☐ Never heard of\n",
      "☑ Minor bugs\n",
      "☐ Can get annoying\n",
      "☐ ARK: Survival Evolved\n",
      "☐ The game itself is a big terrarium for bugs\n",
      "\n",
      "---{ ? / 10 }---\n",
      "☐ 1\n",
      "☐ 2\n",
      "☐ 3\n",
      "☐ 4\n",
      "☐ 5\n",
      "☐ 6\n",
      "☐ 7\n",
      "☑ 8\n",
      "☐ 9\n",
      "☐ 10\n",
      "\n",
      "Pros:\n",
      "1. Good Main Story: The central narrative of Starfield is a captivating journey that pulls you in with its intriguing mysteries and memorable characters. \n",
      "\n",
      "2. Feels Like a Bethesda Game: If you're a fan of Bethesda's signature open-world RPG style, you'll feel right at home in Starfield. The familiar exploration, character progression, and attention to detail are all here.\n",
      "\n",
      "3. Good Characters: Bethesda's knack for crafting memorable characters continues in Starfield. The diverse cast you'll encounter on your journey adds depth to the game's world and narrative.\n",
      "\n",
      "4. Good Leveling System: The leveling system strikes a satisfying balance, allowing you to tailor your character to your preferred playstyle. It rewards experimentation.\n",
      "\n",
      "5. Lots of Stuff to Do: Starfield boasts a massive and diverse universe to explore, ensuring you'll always have something to do. From scavenging resources to trading goods, there's no shortage of activities.\n",
      "\n",
      "6. Good and Interesting Side Quests: The side quests in Starfield are more than just distractions; they often offer intriguing stories and meaningful rewards, making them well worth your time.\n",
      "\n",
      "Cons:\n",
      "\n",
      "1. Heavy Reliance on Fast Travel: While the universe of Starfield is vast, the need to frequently fast travel between planets can detract from the sense of exploration and immersion.\n",
      "\n",
      "2. Similar Planet Aesthetics: Many planets in Starfield look too similar, reducing the visual diversity of the game's universe.\n",
      "\n",
      "3. Disconnected World: The game's universe can sometimes feel disjointed, with planets and settlements feeling isolated from one another. All planets are pretty empty even the main ones only have one big city and not much more.\n",
      "\n",
      "4. Loading Screens: Starfield is plagued by frequent loading screens, which can disrupt the flow of gameplay and immersion.\n",
      "\n",
      "5. Exploration Could Be More Fun: Many Planetes and the randomly generated buildings feel the same.\n",
      "\n",
      "In conclusion, Starfield is a promising step into the realm of space-faring RPGs by Bethesda. While it has its share of drawbacks, the game's strengths become increasingly evident the deeper you venture into its universe. The game is not a space simulation and you should not expect it to be a game like \"No Man‘s Sky\" but it is a classic Bethes RPG.\n",
      "With intriguing quests, a compelling main story, and the unmistakable Bethesda charm, Starfield is a journey worth embarking upon for fans of open-world RPGs and space enthusiasts alike.\n",
      "\n",
      "Split: - - - { graphics } - - - [UNK] you forget what reality is [UNK] beautiful [UNK] good [UNK] decent [UNK] bad [UNK] don ‘ t look too long at it [UNK] ms - dos - - - { gameplay } - - - [UNK] very good [UNK] good [UNK] it ' s just gameplay [UNK] mehh [UNK] watch paint dry instead [UNK] just don ' t - - - { audio } - - - [UNK] eargasm [UNK] very good [UNK] good [UNK] not too bad [UNK] bad [UNK] i ' m now deaf - - - { audience } - - - [UNK] kids [UNK] teens [UNK] adults [UNK] grandma - - - { pc requirements } - - - [UNK] check if you can run paint [UNK] potato [UNK] decent [UNK] fast [UNK] rich boi [UNK] ask nasa if they have a spare computer - - - { difficulty } - - - [UNK] just press ' w ' [UNK] easy [UNK] easy to learn / hard to master [UNK] significant brain usage [UNK] difficult [UNK] dark souls - - - { grind } - - - [UNK] nothing to grind [UNK] only if u care about leaderboards / ranks [UNK] isn ' t necessary to progress [UNK] average grind level [UNK] too much grind [UNK] you ' ll need a second life for grinding - - - { story } - - - [UNK] no story [UNK] some lore [UNK] average [UNK] good [UNK]\n",
      "\n",
      "Topic 5:\n",
      "Doc 47299\n",
      "Original: I like the game but something that is more interesting than my review of this game is.\n",
      "\n",
      "The history of bricks, its a fascinating journey that spans thousands of years and reflects the development of human civilization. Here is a brief overview of the history of bricks:\n",
      "\n",
      "Ancient Bricks (10,000 BCE - 3,000 BCE): The earliest evidence of bricks dates back to around 10,000 BCE when humans began making sun-dried mud bricks. These early bricks were made from clay or mud mixed with straw and were left to dry in the sun. They were commonly used in regions with abundant clay and became a foundational building material for early agricultural communities.\n",
      "\n",
      "First Fired Bricks (3,000 BCE - 2,000 BCE): The transition from sun-dried mud bricks to fired bricks marked a significant advancement. In Mesopotamia (modern-day Iraq), around 3,000 BCE, people started firing bricks in kilns to harden them. These fired bricks were more durable and resistant to the elements than their sun-dried counterparts, making them suitable for construction.\n",
      "\n",
      "Brick Use in Ancient Civilizations: The use of bricks spread throughout ancient civilizations. In Egypt, the construction of the pyramids involved the use of fired bricks. In the Indus Valley Civilization (present-day India and Pakistan), bricks were used for building houses and cities. The Chinese also developed their own methods for making and using bricks around this time.\n",
      "\n",
      "Roman Bricks (1st century BCE - 5th century CE): The Romans made significant advancements in brick production and use. They introduced various shapes and sizes of bricks, and their use of concrete combined with bricks allowed for the construction of monumental structures such as the Colosseum and aqueducts.\n",
      "\n",
      "Medieval and Renaissance Bricks (5th century CE - 16th century CE): During the Middle Ages in Europe, brickmaking techniques declined, and stone was the primary building material. However, brickmaking saw a revival during the Renaissance, particularly in Italy and the Netherlands. Intricate brickwork and patterns became common in architectural design.\n",
      "\n",
      "Industrial Revolution and Modern Bricks (18th century CE - Present): The Industrial Revolution in the 18th century brought significant innovations to brick production. Steam-powered brick-making machines were invented, making it easier and more efficient to produce bricks in large quantities. In the 19th and 20th centuries, bricks became a ubiquitous building material for homes, factories, and infrastructure.\n",
      "\n",
      "Contemporary Bricks: In the 20th and 21st centuries, various types of bricks have been developed, including engineered and sustainable bricks. Engineers and architects have explored new forms and materials, such as concrete bricks and eco-friendly alternatives, to meet the demands of modern construction while considering environmental concerns.\n",
      "\n",
      "Today, bricks continue to be a fundamental building material worldwide, valued for their durability, versatility, and aesthetic appeal. They are used in a wide range of architectural styles and construction projects, from traditional brick houses to cutting-edge contemporary designs. The history of bricks is a testament to human ingenuity in developing and refining construction techniques over millennia.\n",
      "Split: and cities. the chinese also developed their own methods for making and using bricks around this bricks ( 1st century bce - 5th century ce ) : the romans made significant advancements in brick production and use. they introduced various shapes and sizes of bricks, and their use of concrete combined with bricks allowed for the construction of monumental structures such as the colosseum and and renaissance bricks ( 5th century ce - 16th century ce ) : during the middle ages in europe, brickmaking techniques declined, and stone was the primary building material. however, brickmaking saw a revival during the renaissance, particularly in italy and the netherlands. intricate brickwork and patterns became common in architectural revolution and modern bricks ( 18th century ce - present ) : the industrial revolution in the 18th century brought significant innovations to brick production. steam - powered brick - making machines were invented, making it easier and more efficient to produce bricks in large quantities. in the 19th and 20th centuries, bricks became a ubiquitous building material for homes, factories, and bricks : in the 20th and 21st centuries, various types of bricks have been developed, including engineered and sustainable bricks. engineers and architects have explored new forms and materials, such as concrete bricks and eco - friendly alternatives, to meet the demands of modern construction while considering environmental bricks continue\n",
      "\n",
      "Doc 17634\n",
      "Original: Spaceship go pew pew\n",
      "Split: spaceship go pew pew\n",
      "\n",
      "Doc 34063\n",
      "Original: Fast Travel - Loading Screen -Fast Travel - Loading Screen -Fast Travel - Loading Screen -Fast Travel - Loading Screen -Fast Travel - Loading Screen -Fast Travel - Loading Screen -Fast Travel - Loading Screen -Fast Travel - Loading Screen -Fast Travel - Loading Screen -Fast Travel - Loading Screen -Fast Travel - Loading Screen -Fast Travel - Loading Screen -Fast Travel - Loading Screen -Fast Travel - Loading Screen -Fast Travel - Loading Screen -Fast Travel - Loading Screen -Fast Travel - Loading Screen -Fast Travel - Loading Screen -Fast Travel - Loading Screen -Fast Travel - Loading Screen -Fast Travel - Loading Screen -Fast Travel - Loading Screen -Fast Travel - Loading Screen -Fast Travel - Loading Screen -Fast Travel - Loading Screen -Fast Travel - Loading Screen -Fast Travel - Loading Screen -Fast Travel - Loading Screen -Fast Travel - Loading Screen -Fast Travel - Loading Screen -Fast Travel - Loading Screen -Fast Travel - Loading Screen -Fast Travel - Loading Screen -Fast Travel - Loading Screen -Fast Travel - Loading Screen -Fast Travel - Loading Screen -Fast Travel - Loading Screen -Fast Travel - Loading Screen -Fast Travel - Loading Screen -Fast Travel - Loading Screen -Fast Travel - Loading Screen -Fast Travel - Loading Screen -Fast Travel - Loading Screen -Fast Travel - Loading Screen -Fast Travel - Loading Screen -\n",
      "Split: fast travel - loading screen - fast travel - loading screen - fast travel - loading screen - fast travel - loading screen - fast travel - loading screen - fast travel - loading screen - fast travel - loading screen - fast travel - loading screen - fast travel - loading screen - fast travel - loading screen - fast travel - loading screen - fast travel - loading screen - fast travel - loading screen - fast travel - loading screen - fast travel - loading screen - fast travel - loading screen - fast travel - loading screen - fast travel - loading screen - fast travel - loading screen - fast travel - loading screen - fast travel - loading screen - fast travel - loading screen - fast travel - loading screen - fast travel - loading screen - fast travel - loading screen - fast travel - loading screen - fast travel - loading screen - fast travel - loading screen - fast travel - loading screen - fast travel - loading screen - fast travel - loading screen - fast travel - loading screen - fast travel - loading screen - fast travel - loading screen - fast travel - loading screen - fast travel - loading screen - fast travel - loading screen - fast travel - loading screen - fast travel - loading screen - fast travel - loading screen - fast travel - loading screen - fast travel - loading screen - fast travel\n",
      "\n",
      "Doc 80530\n",
      "Original: Space Ship go Pew-Pew\n",
      "Split: space ship go pew - pew\n",
      "\n",
      "Doc 92256\n",
      "Original: Spaceship goes pew pew\n",
      "Split: spaceship goes pew pew\n",
      "\n",
      "Doc 68402\n",
      "Original: i can be a space pirate, pew pew pew. stealing ships and building safe houses. i just wish there was vehicles you could make to travel the planets.\n",
      "Split: i can be a space pirate, pew pew pew. stealing ships and building safe houses. i just wish there was vehicles you could make to travel the planets.\n",
      "\n",
      "Doc 61533\n",
      "Original: PEW PEW PEW PEW. IM A SPACE PIRATE BOIS, LESSSGOOOOO\n",
      "Split: pew pew pew pew. im a space pirate bois, lesssgooooo\n",
      "\n",
      "Doc 16834\n",
      "Original: Cutscene Cutscene Cutscene Cutscene Cutscene Cutscene Cutscene Cutscene Cutscene Cutscene \n",
      "Cutscene Cutscene Cutscene Cutscene Cutscene Cutscene Cutscene Cutscene Cutscene Cutscene\n",
      "Cutscene Cutscene Cutscene Cutscene Cutscene Cutscene Cutscene Cutscene Cutscene Cutscene\n",
      "Split: cutscene cutscene cutscene cutscene cutscene cutscene cutscene cutscene cutscene cutscene cutscene cutscene cutscene cutscene cutscene cutscene cutscene cutscene cutscene cutscene cutscene cutscene cutscene cutscene cutscene cutscene cutscene cutscene cutscene cutscene\n",
      "\n",
      "Doc 91672\n",
      "Original: Pew pew pew. SPACESHIP!!\n",
      "Split: pew pew pew. spaceship!!\n",
      "\n",
      "Doc 69342\n",
      "Original: space ship go pew pew\n",
      "Split: space ship go pew pew\n",
      "\n",
      "Topic 6:\n",
      "Doc 74294\n",
      "Original: Poorly optimized mess.\n",
      "\n",
      "If I could turn the page\n",
      "In time then I'd rearrange just a day or two\n",
      "Close my, close my, close my eyes\n",
      "But I couldn't find a way\n",
      "So I'll settle for one day to believe in you\n",
      "Tell me, tell me, tell me lies\n",
      "Tell me lies, tell me sweet little lies\n",
      "Tell me lies\n",
      "Tell me, tell me lies\n",
      "Oh no-no, you can't disguise\n",
      "You can't disguise\n",
      "No, you can't disguise\n",
      "Tell me lies, tell me sweet little lies\n",
      "Although I'm not making plans\n",
      "I hope that you'll understand there's a reason why\n",
      "Close your, close your, close your eyes\n",
      "No more broken hearts\n",
      "We're better off apart, let's give it a try\n",
      "Tell me, tell me, tell me lies\n",
      "Tell me lies, tell me sweet little lies\n",
      "Tell me lies\n",
      "Tell me, tell me lies\n",
      "Oh no-no, you can't disguise\n",
      "You can't disguise\n",
      "No, you can't disguise\n",
      "Tell me lies, tell me sweet little lies\n",
      "If I could turn the page\n",
      "In time then I'd rearrange just a day or two\n",
      "Close my, close my, close my eyes\n",
      "But I couldn't find a way\n",
      "So I'll settle for one day to believe in you\n",
      "Tell me, tell me, tell me lies\n",
      "Tell me lies, tell me sweet little lies\n",
      "Tell me lies\n",
      "Tell me, tell me lies\n",
      "Oh no-no, you can't disguise\n",
      "You can't disguise\n",
      "No, you can't disguise\n",
      "Tell me lies, tell me sweet little lies\n",
      "Tell me lies\n",
      "Tell me, tell me lies\n",
      "Oh no-no, you can't disguise\n",
      "You can't disguise\n",
      "No, you can't disguise\n",
      "Tell me lies, tell me sweet little lies\n",
      "Tell me, tell me lies\n",
      "\n",
      "It just works...\n",
      "Split: poorly optimized i could turn the page in time then i ' d rearrange just a day or two close my, close my, close my eyes but i couldn ' t find a way so i ' ll settle for one day to believe in you tell me, tell me, tell me lies tell me lies, tell me sweet little lies tell me lies tell me, tell me lies oh no - no, you can ' t disguise you can ' t disguise no, you can ' t disguise tell me lies, tell me sweet little lies although i ' m not making plans i hope that you ' ll understand there ' s a reason why close your, close your, close your eyes no more broken hearts we ' re better off apart, let ' s give it a try tell me, tell me, tell me lies tell me lies, tell me sweet little lies tell me lies tell me, tell me lies oh no - no, you can ' t disguise you can ' t disguise no, you can ' t disguise tell me lies, tell me sweet little lies if i could turn the page in time then i ' d rearrange just a day or two close my, close my, close my eyes but i couldn ' t find a way so i\n",
      "\n",
      "Doc 96415\n",
      "Original: Tell me lies, tell me sweet little lies........\n",
      "Split: tell me lies, tell me sweet little\n",
      "\n",
      "Doc 20350\n",
      "Original: Close my, close my, close my eyes\n",
      "But I couldn't find a way\n",
      "So I'll settle for one day to believe in you\n",
      "Tell me, tell me, tell me lies\n",
      "Tell me lies\n",
      "Tell me sweet little lies\n",
      "(Tell me lies, tell me, tell me lies)\n",
      "Oh, no, no you can't disguise\n",
      "(You can't disguise, no you can't disguise)\n",
      "Tell me lies\n",
      "Tell me sweet little lies\n",
      "Although I'm not making plans\n",
      "I hope that you understand there's a reason why\n",
      "Close your, close your, close your eyes\n",
      "No more broken hearts\n",
      "We're better off apart let's give it a try\n",
      "Tell me, tell me, tell me lies\n",
      "Tell me lies\n",
      "Tell me sweet little lies\n",
      "(Tell me lies, tell me, tell me lies)\n",
      "Oh, no, no you can't disguise\n",
      "(You can't disguise, no you can't disguise)\n",
      "Tell me lies\n",
      "Tell me sweet little lies\n",
      "If I could turn the page\n",
      "In time then I'd rearrange just a day or two\n",
      "Close my, close my, close my eyes\n",
      "But I couldn't find a way\n",
      "So I'll settle for one day to believe in you\n",
      "Tell me, tell me, tell me lies\n",
      "Tell me lies\n",
      "Tell me sweet little lies\n",
      "(Tell me lies, tell me, tell me lies)\n",
      "Oh, no, no you can't disguise\n",
      "(You can't disguise, no you can't disguise)\n",
      "Tell me lies\n",
      "Tell me sweet little lies\n",
      "(Tell me lies, tell me, tell me lies)\n",
      "Oh, no, no you can't disguise\n",
      "(You can't disguise, no you can't disguise)\n",
      "Tell me lies\n",
      "Tell me sweet little lies\n",
      "(Tell me, tell me lies)\n",
      "Split: close my, close my, close my eyes but i couldn ' t find a way so i ' ll settle for one day to believe in you tell me, tell me, tell me lies tell me lies tell me sweet little lies ( tell me lies, tell me, tell me lies ) oh, no, no you can ' t disguise ( you can ' t disguise, no you can ' t disguise ) tell me lies tell me sweet little lies although i ' m not making plans i hope that you understand there ' s a reason why close your, close your, close your eyes no more broken hearts we ' re better off apart let ' s give it a try tell me, tell me, tell me lies tell me lies tell me sweet little lies ( tell me lies, tell me, tell me lies ) oh, no, no you can ' t disguise ( you can ' t disguise, no you can ' t disguise ) tell me lies tell me sweet little lies if i could turn the page in time then i ' d rearrange just a day or two close my, close my, close my eyes but i couldn ' t find a way so i ' ll settle for one day to believe in you tell me, tell me, tell me lies tell\n",
      "\n",
      "Doc 6846\n",
      "Original: If I could turn the page\n",
      "In time then I'd rearrange just a day or two\n",
      "Close my, close my, close my eyes\n",
      "But I couldn't find a way\n",
      "So I'll settle for one day to believe in you\n",
      "Tell me, tell me, tell me lies\n",
      "\n",
      "Tell me lies, tell me sweet little lies\n",
      "Tell me lies\n",
      "Tell me, tell me lies\n",
      "Oh no-no, you can't disguise\n",
      "You can't disguise\n",
      "No, you can't disguise\n",
      "Tell me lies, tell me sweet little lies\n",
      "\n",
      "Although I'm not making plans\n",
      "I hope that you'll understand there's a reason why\n",
      "Close your, close your, close your eyes\n",
      "No more broken hearts\n",
      "We're better off apart, let's give it a try\n",
      "Tell me, tell me, tell me lies\n",
      "\n",
      "Tell me lies, tell me sweet little lies\n",
      "Tell me lies\n",
      "Tell me, tell me lies\n",
      "Oh no-no, you can't disguise\n",
      "You can't disguise\n",
      "No, you can't disguise\n",
      "Tell me lies, tell me sweet little lies\n",
      "\n",
      "If I could turn the page\n",
      "In time then I'd rearrange just a day or two\n",
      "Close my, close my, close my eyes\n",
      "But I couldn't find a way\n",
      "So I'll settle for one day to believe in you\n",
      "Tell me, tell me, tell me lies\n",
      "\n",
      "Tell me lies, tell me sweet little lies\n",
      "Tell me lies\n",
      "Tell me, tell me lies\n",
      "Oh no-no, you can't disguise\n",
      "You can't disguise\n",
      "No, you can't disguise\n",
      "\n",
      "Tell me lies, tell me sweet little lies\n",
      "Tell me lies\n",
      "Tell me, tell me lies\n",
      "Oh no-no, you can't disguise\n",
      "You can't disguise\n",
      "No, you can't disguise\n",
      "\n",
      "Tell me lies, tell me sweet little lies\n",
      "Tell me, tell me lies\n",
      "Split: if i could turn the page in time then i ' d rearrange just a day or two close my, close my, close my eyes but i couldn ' t find a way so i ' ll settle for one day to believe in you tell me, tell me, tell me lies tell me lies, tell me sweet little lies tell me lies tell me, tell me lies oh no - no, you can ' t disguise you can ' t disguise no, you can ' t disguise tell me lies, tell me sweet little lies although i ' m not making plans i hope that you ' ll understand there ' s a reason why close your, close your, close your eyes no more broken hearts we ' re better off apart, let ' s give it a try tell me, tell me, tell me lies tell me lies, tell me sweet little lies tell me lies tell me, tell me lies oh no - no, you can ' t disguise you can ' t disguise no, you can ' t disguise tell me lies, tell me sweet little lies if i could turn the page in time then i ' d rearrange just a day or two close my, close my, close my eyes but i couldn ' t find a way so i ' ll settle\n",
      "\n",
      "Doc 94091\n",
      "Original: tell me sweet little lies todd\n",
      "Split: tell me sweet little lies todd\n",
      "\n",
      "Doc 89067\n",
      "Original: Lies, deception!\n",
      "Split: lies, deception!\n",
      "\n",
      "Doc 95482\n",
      "Original: Tell me lies, tell me sweet little lies Todd Howard....\n",
      "Split: tell me lies, tell me sweet little lies todd\n",
      "\n",
      "Doc 6846\n",
      "Original: If I could turn the page\n",
      "In time then I'd rearrange just a day or two\n",
      "Close my, close my, close my eyes\n",
      "But I couldn't find a way\n",
      "So I'll settle for one day to believe in you\n",
      "Tell me, tell me, tell me lies\n",
      "\n",
      "Tell me lies, tell me sweet little lies\n",
      "Tell me lies\n",
      "Tell me, tell me lies\n",
      "Oh no-no, you can't disguise\n",
      "You can't disguise\n",
      "No, you can't disguise\n",
      "Tell me lies, tell me sweet little lies\n",
      "\n",
      "Although I'm not making plans\n",
      "I hope that you'll understand there's a reason why\n",
      "Close your, close your, close your eyes\n",
      "No more broken hearts\n",
      "We're better off apart, let's give it a try\n",
      "Tell me, tell me, tell me lies\n",
      "\n",
      "Tell me lies, tell me sweet little lies\n",
      "Tell me lies\n",
      "Tell me, tell me lies\n",
      "Oh no-no, you can't disguise\n",
      "You can't disguise\n",
      "No, you can't disguise\n",
      "Tell me lies, tell me sweet little lies\n",
      "\n",
      "If I could turn the page\n",
      "In time then I'd rearrange just a day or two\n",
      "Close my, close my, close my eyes\n",
      "But I couldn't find a way\n",
      "So I'll settle for one day to believe in you\n",
      "Tell me, tell me, tell me lies\n",
      "\n",
      "Tell me lies, tell me sweet little lies\n",
      "Tell me lies\n",
      "Tell me, tell me lies\n",
      "Oh no-no, you can't disguise\n",
      "You can't disguise\n",
      "No, you can't disguise\n",
      "\n",
      "Tell me lies, tell me sweet little lies\n",
      "Tell me lies\n",
      "Tell me, tell me lies\n",
      "Oh no-no, you can't disguise\n",
      "You can't disguise\n",
      "No, you can't disguise\n",
      "\n",
      "Tell me lies, tell me sweet little lies\n",
      "Tell me, tell me lies\n",
      "Split: for one day to believe in you tell me, tell me, tell me lies tell me lies, tell me sweet little lies tell me lies tell me, tell me lies oh no - no, you can ' t disguise you can ' t disguise no, you can ' t disguise tell me lies, tell me sweet little lies tell me lies tell me, tell me lies oh no - no, you can ' t disguise you can ' t disguise no, you can ' t disguise tell me lies, tell me sweet little lies tell me, tell me lies\n",
      "\n",
      "Doc 4425\n",
      "Original: tell me lies , tell me sweet little lies\n",
      "Split: tell me lies, tell me sweet little lies\n",
      "\n",
      "Doc 68819\n",
      "Original: Todd Howard has done it again!\n",
      "He has over promised and under delivered!\n",
      "Completely unrelated, here is the lyrics to the song Little Lies by Fleetwood Mac:\n",
      "If I could turn the page\n",
      "In time then I'd rearrange\n",
      "Just a day or two\n",
      "Close my, close my, close my eyes\n",
      "\n",
      "But I couldn't find a way\n",
      "So I'll settle for one day\n",
      "To believe in you\n",
      "Tell me, tell me , tell me lies\n",
      "\n",
      "Tell me lies\n",
      "Tell me sweet little lies\n",
      "(Tell me lies, tell me, tell me lies)\n",
      "Oh, no, no you can't disguise\n",
      "(You can't disguise, no you can't disguise)\n",
      "Tell me lies\n",
      "Tell me sweet little lies\n",
      "\n",
      "Although I'm not making plans\n",
      "I hope that you understand\n",
      "There's a reason why\n",
      "Close your, close your, close your eyes\n",
      "\n",
      "No more broken hearts\n",
      "We're better off apart\n",
      "Let's give it a try\n",
      "Tell me, tell me, tell me lies\n",
      "\n",
      "Tell me lies\n",
      "Tell me sweet little lies\n",
      "(Tell me lies, tell me, tell me lies)\n",
      "Oh, no, no you can't disguise\n",
      "(You can't disguise, no you can't disguise)\n",
      "Tell me lies\n",
      "Tell me sweet little lies\n",
      "\n",
      "If I could turn the page\n",
      "In time then I'd rearrange\n",
      "Just a day or two\n",
      "Close my, close my, close my eyes\n",
      "\n",
      "But I couldn't find a way\n",
      "So I'll settle for one day\n",
      "To believe in you\n",
      "Tell me, tell me, tell me lies\n",
      "\n",
      "Tell me lies\n",
      "Tell me sweet little lies\n",
      "(Tell me lies, tell me, tell me lies)\n",
      "Oh, no, no you can't disguise\n",
      "(You can't disguise, no you can't disguise)\n",
      "\n",
      "Tell me lies\n",
      "Tell me sweet little lies\n",
      "(Tell me lies, tell me, tell me lies)\n",
      "Oh, no, no you can't disguise\n",
      "(You can't disguise, no you can't disguise)\n",
      "Tell me lies\n",
      "Tell me sweet little lies\n",
      "(Tell me, tell me lies)\n",
      "Split: then i ' d rearrange just a day or two close my, close my, close my eyes but i couldn ' t find a way so i ' ll settle for one day to believe in you tell me, tell me, tell me lies tell me lies tell me sweet little lies ( tell me lies, tell me, tell me lies ) oh, no, no you can ' t disguise ( you can ' t disguise, no you can ' t disguise ) tell me lies tell me sweet little lies ( tell me lies, tell me, tell me lies ) oh, no, no you can ' t disguise ( you can ' t disguise, no you can ' t disguise ) tell me lies tell me sweet little lies ( tell me, tell me lies )\n",
      "\n",
      "Topic 7:\n",
      "Doc 1119\n",
      "Original: a todd howard classic\n",
      "Split: a todd howard classic\n",
      "\n",
      "Doc 45664\n",
      "Original: It's a masterpiece.\n",
      "Split: it ' s a masterpiece.\n",
      "\n",
      "Doc 92247\n",
      "Original: Its Starfield and Starfield is a masterpiece\n",
      "Split: its starfield and starfield is a masterpiece\n",
      "\n",
      "Doc 78713\n",
      "Original: Classic Bethesda masterpiece\n",
      "Split: classic bethesda masterpiece\n",
      "\n",
      "Doc 50758\n",
      "Original: Masterpiece\n",
      "Split: masterpiece\n",
      "\n",
      "Doc 79638\n",
      "Original: Masterpiece.\n",
      "Split: masterpiece.\n",
      "\n",
      "Doc 32625\n",
      "Original: MASTERPIECE!!!!!\n",
      "Split: masterpiece!!!!!\n",
      "\n",
      "Doc 13263\n",
      "Original: Grand fan des jeux Bethesda, je ne peux qu’être déçu par celui ci . Depuis Fallout c’est un peu la décente aux enfers . \n",
      "Starfield n’est pas un mauvais jeu , vous allez y passer quelques heures mais vous n’allez rien faire qui vous donne envie de revenir dans cet univers ou qui vous marquera. \n",
      "\n",
      "Et voici les défauts qui pour moi ruine l’expérience de jeu : \n",
      "\n",
      "- Le point le plus important, c’est le manque d’inspiration et la médiocre qualité de l’écriture des quêtes dans son ensemble. \n",
      "L’histoire principale, est plus que passable , c’est limite si il y en a une . \n",
      "Les quêtes secondaires sont tout aussi mal écrites . Rien qui ne raconte une histoire intéressante.. \n",
      "\n",
      "-Vos choix on aucunes conséquences . Vous pouvez rejoindre les pirates , et l’instant d’après faire les quêtes de l’UC . Pas de soucis. \n",
      "\n",
      "-Arbre des talents très mal pensé .\n",
      "\n",
      "-Une optimisation du jeu , un peu au fraise .\n",
      "\n",
      "-Un univers procédural particulièrement vide . En une dizaine d’heures , vous allez connaître les 4-5 types de bases que vous allez rencontrés pendant tout le jeu . Ok est très loin de Skyrim où chaque donjon était unique et où chaque lieu avait une histoire à raconter. Et c’est ce qui faisait le charme des jeux bethesda .\n",
      "\n",
      "-Les temps de chargements ( même si ce n’est pas ce qui m’a choqué le plus ) \n",
      "\n",
      "-La synchronisation labiale inexistante en français.J’ai jouer en Vostfr pour éviter de subir ça . Et même la c’est pas toujours réussi .\n",
      "\n",
      "-Le système de mining et d’avant poste ne sert à rien . Vraiment inutile , avec peu d’option de personnalisation. Fallout 4 faisait mieux à sa sortie . \n",
      "\n",
      "-Un menu qui vraiment , n’est pas ergonomique.\n",
      "\n",
      "-Et un manque d’ambition clairement .\n",
      "\n",
      "Starfield est à mon sens un projet non terminé. \n",
      "Le jeu est beau , le moteur physique est une réussite . Mais le jeu n’assume rien et ne va au bout d’aucune de ces idées . \n",
      "Les rares villes sont petites , sans intérêts , alors qu’elles auraient pu avoir une véritable âme . Néon , en étant le parfait exemple , ville de débauche , de violences … enfin faut vous l’imaginer quoi . Parce qu’en jeu c’est une autre histoire …\n",
      "Tout le monde il est gentil et ce que vous faites a zéro conséquences . Vous pouvez tuez des centaines de personnes d’une faction et la seconde d’après ils vous accueillent pour bosser avec eux . \n",
      "Le jeu avait un lore à disposition qu’il pouvait bien plus développer, et un contexte scenaristique à exploiter. \n",
      "La guerre , entre les 2 grandes factions. Mais très franchement heureusement que l’on vous dit que par le passé c’était la guerre sinon ça ne se remarque pas . \n",
      "Le manque de diversité des ennemis est plutôt flagrant . \n",
      "Les espèces xéno n’apportent rien vraiment à l’univers . \n",
      "\n",
      "En gros Bethesda ne prends aucun risque . C’est un jeu un peu bateau , sans âme . \n",
      "Et ça me fait flipper pour TES 6. \n",
      "Comme d’habitude ils se reposent beaucoup sur la communauté de moddeur, et sur une recette qui est la même depuis plus de 20 ans . Seulement l’industrie du jeu vidéo et les attentes des joueurs ont évoluées depuis . Et il serait temps de se réveiller. Le jeu n’est pas à la hauteur des standards actuels en terme de narration ( The Witcher ( qui date un peu maintenant)ou Cyberpunk font bien mieux de ce côté là ) et concernant la technique, certains bug auxquels j’ai été confrontés existaient déjà sur Skyrim . La synchronisation labiale … par pitié.. on veut de l’immersion avec ce jeu . Et il y a pas pire pour vous sortir du jeu qu’un mec qui continue à parler alors que sa bouche ne bouge plus -_-\n",
      "\n",
      "Bref jouais y , mais quand il sera en dessous de 20-30e . Pas avant .\n",
      "\n",
      "Split: , n ’ est pas un manque d ’ ambition clairement. starfield est a mon sens un projet non termine. le jeu est beau, le moteur physique est une reussite. mais le jeu n ’ assume rien et ne va au bout d ’ aucune de ces idees. les rares villes sont petites, sans interets, alors qu ’ elles auraient pu avoir une veritable ame. neon, en etant le parfait exemple, ville de debauche, de violences … enfin faut vous l ’ imaginer quoi. parce qu ’ en jeu c ’ est une autre histoire … tout le monde il est gentil et ce que vous faites a zero consequences. vous pouvez tuez des centaines de personnes d ’ une faction et la seconde d ’ apres ils vous accueillent pour bosser avec eux. le jeu avait un lore a disposition qu ’ il pouvait bien plus developper, et un contexte scenaristique a exploiter. la guerre,\n",
      "\n",
      "Doc 44019\n",
      "Original: A masterpiece.\n",
      "Split: a masterpiece.\n",
      "\n",
      "Doc 33431\n",
      "Original: Huge, exciting...need more time of this masterpiece!\n",
      "Split: huge, more time of this masterpiece!\n",
      "\n",
      "Topic 8:\n",
      "Doc 23820\n",
      "Original: [h3]TLDR[/h3]\n",
      "Would only recommend playing through Game Pass unless you really like Bethesda's previous games and even then, it's not a guarantee that it'll be worth the asking price. I did enjoy Starfield enough to give a conditional recommendation, but it takes far too many steps back from earlier Bethesda games and doesn't compensate enough for those regressions.\n",
      "\n",
      "[h3]The Good[/h3]\n",
      "\n",
      "[b]Faction questlines[/b] are cool and the game is worth playing for those at least. The writing won't exactly blow you away if you're coming from more hardcore RPGs, but the questlines are fun for what they are. The main quest also has some solid quests but I didn't think that they reached the heights of the faction quests.\n",
      "\n",
      "The return of [b]RPG elements[/b] (for example, being able to choose traits that influence how you RP your character like in Fallout New Vegas) along with a silent protagonist is very welcome.\n",
      "\n",
      "[b]Combat[/b] feels very fluid, especially with the addition of the boost pack which gives you a huge amount of mobility. It's easily the best feeling combat in a Bethesda game, though it feels a bit easy overall.\n",
      "\n",
      "[b]Space combat[/b] can be pretty thrilling, even if it is a bit simple. It is easy to get a bad first impression since the first ship you get is not good for ship combat, so do invest in some ship upgrades whenever possible. That said, there are some situations where playing on harder difficulties can lead to near unwinnable fights. You can flee from a fight if this happens, but I don't think it changes the fact that even if you are prepared, ship combat can feel too punishing at times.\n",
      "\n",
      "[b]Ship building[/b] can suck you in for hours if you let it, though it's a bit restrictive when it comes to things like where doors and ladders get placed. \n",
      "\n",
      "[b]Graphics[/b] are decent most of the time. They put in a lot of effort making interiors feel lived-in and it shows. Planet surfaces are consistently stunning and screenshot-worthy which is admirable considering that they are procedurally generated. The designs of the creatures you find on planets are cool and range from cute to horrifying depending on what you find.\n",
      "\n",
      "[h3]The Bad[/h3]\n",
      "\n",
      "[b]Exploration[/b] is unfortunately pretty disappointing which is honestly not something I thought I would ever be saying about a modern Bethesda game. Exploration in Starfield mostly comes in the form of Points of Interest (PoIs) that are scattered around planets. While the location of the PoIs is randomly generated, the interiors of the PoIs are not. This can lead to situations where you can find the same \"Abandoned Cryo Lab\" on multiple different planets. Not only will they have the exact same layout, they will have the same enemy positions, the same item positions and even the same story-related things (notes, computer entries, dead bodies, etc). This probably isn't too bad if you're not constantly exploring planets as there is a ton of hand-crafted content outside exploration, but it feels awful once you come to realize how repetitive the PoIs are. Don't get me wrong though -- the dungeons in some PoIs are solid and have some interesting design layouts that make them fun to traverse on different builds, but the glaringly obvious repetition of the PoIs make exploration feel a lot less rewarding than other Bethesda games. \n",
      "\n",
      "There is an [b]optional gameplay loop in the main quest[/b] that is as bad as, if not worse than, Oblivion gates. Minor spoilers here, but it is [spoiler]literally about doing the same lame \"puzzle\" over and over again to acquire a power (an ability which function like shouts in Skyrim).[/spoiler] This is especially bizarre considering that [spoiler]Skyrim had you run unique dungeons to acquire shouts[/spoiler], which is way more engaging than whatever Starfield was going for here. I'm not even taking into account the unnecessarily tedious process that you might have to go through to repeat the loop.\n",
      "\n",
      "The [b]random encounters[/b] you have in space are entertaining at first but become repetitive because of the lack of variation in many encounters. For example, NPCs in some encounters always act as if it's their first time meeting you (even if you've met them a dozen times before). As a result, they quickly lose their charm as they tend to play out in the same way every time. \n",
      "\n",
      "[b]Enemy behaviors[/b] are lacking compared to Fallout 4. Starfield doesn't quite have anything like the feeling of hearing the [url=https://www.youtube.com/watch?v=0QNlFvG0hkI]terrifying beep of a Super Mutant Suicider[/url] or the panic when a Sentry Bot suddenly sprints towards you to self-destruct in your face.\n",
      "\n",
      "The [b]user interface (UI)[/b] is tolerable on controller but terrible on mouse and keyboard. Because you have a rather low default carry weight (135 compared to 200 in Fallout 4, though you have an upgradable ship inventory which can hold ten times more), you will often find yourself doing inventory management and oh man does the inventory UI suck. You can't see both your inventory and a vendor's inventory at the same time when buying stuff. You can only see one stat at a time for the items you haven't selected (like a weapon's damage stat by default) and need to push a button to see other stats (like a weapon's value). You cannot sort by stack weight to see the combined weight of any identical items -- something you could already do in Fallout 76... All of these annoyances come together to create what is probably the worst Bethesda UI to date. Thankfully [url=https://www.nexusmods.com/starfield/mods/773]StarUI[/url] exists.\n",
      "\n",
      "The [b]weapon mod system[/b] is similar to Fallout 4's system but has been made more restrictive and grindy for some reason. You can't store weapon mods in your inventory anymore, so you can't just buy a gun that has a weapon mod you want and put that same mod on a gun of the same type. As a result, you are forced to either hope that you will eventually get the exact weapon mod setup you want (either through vendors or loot) or invest heavily into the Science skill tree. If you want to be able to craft most weapon mods, you need 8 skill points (plus an extra 5 points if you want *all* the weapon mods). Not to mention, you also need to invest resources into researching the weapon mods to craft them (this applies to most craftable items in the game). The amount of hoops you need to jump through just to craft items is excessive and way too grindy. At least in Fallout 4, you only needed 4 skill points to be able to craft all of the weapon mods on a hunting rifle (assuming you had the right SPECIAL) which felt much fairer. It doesn't help that the leveling can feel awfully slow at times either.\n",
      "\n",
      "[h3]Conclusion[/h3]\n",
      "\n",
      "Just to reiterate, I really did enjoy Starfield. There's still a ton of hand-crafted content that I haven't done and the good parts of the game are good enough that I'm still having fun this far in. \n",
      "\n",
      "Keep in mind that I mainly highlighted the things that bothered me the most personally, as there's plenty of other annoying things that I haven't mentioned too ([b]over-reliance on loading screens, cumbersome outpost management, no savegame screenshots, lack of moral diversity for companions[/b], etc).\n",
      "\n",
      "I don't know if Starfield will have the longevity that other Bethesda games have because of how much Starfield regresses from them, but I think that it can become much more given enough time and support. Unfortunately, we won't get to see what its full potential will be for at least another year.\n",
      "\n",
      "I will update this review if the state of the game changes significantly enough.\n",
      "Split: ) [ / b ] is tolerable on controller but terrible on mouse and keyboard. because you have a rather low default carry weight ( 135 compared to 200 in fallout 4, though you have an upgradable ship inventory which can hold ten times more ), you will often find yourself doing inventory management and oh man does the inventory ui suck. you can ' t see both your inventory and a vendor ' s inventory at the same time when buying stuff. you can only see one stat at a time for the items you haven ' t selected ( like a weapon ' s damage stat by default ) and need to push a button to see other stats ( like a weapon ' s value ). you cannot sort by stack weight to see the combined weight of any identical items - - something you could already do in fallout all of these annoyances come together to create what is probably the worst bethesda ui to date. thankfully [ url = ] starui [ / url ] [ b ] weapon mod system [ / b ] is similar to fallout 4 ' s system but has been made more restrictive and grindy for some reason. you can ' t store weapon mods in your inventory anymore, so you can ' t just buy a gun that has a weapon\n",
      "\n",
      "Doc 88623\n",
      "Original: [h1]Different from the usual Bethesda games in a way that is not necessarily good. [/h1]\n",
      "\n",
      "Starfield seems to be so full of new exciting features, bringing also back many that we are used to from previous Bethesda games and yet they feel so disappointingly shallow. \n",
      "It feels like every thing the game has going for it comes with major downsides and like they went for quantity over quality in regards to features. \n",
      "Nothing is really well done, everything is just okay at best. Everything is missing crucial details to make them really good. Even features they brought back from previous games, like the weapon customization, are not really expanded upon but rather have been downgraded. \n",
      "I will elaborate on a bunch of examples down below.\n",
      "\n",
      "Overall i am still having a good time, they seriously have much better storytelling now. I wish i could give a neutral rating. \n",
      "\n",
      "\n",
      "[hr][/hr]\n",
      "[h2] Loot [/h2]\n",
      "You have a spaceship with a cargohold and you can sell from it on planets & stations, however you can not buy to it. Everything goes into your inventory first. \n",
      "Inventory management itself is a pain, because you are constantly overweight and if you move something, the game doesn't tell you how much space the location you are moving to still has. \n",
      "You also only have a very small, limited carrying capacity.\n",
      "\n",
      "There is once again a ton of items to loot, some with seemingly really good value, however vendors actually give you at best 15% of its \"value\" for it and you can't take random items apart so they are actually entirely useless. Doesn't help that 99% of \"loot\" are just notebads and folders or food. \n",
      "This also kinda means that you can't really be a trader either, because everything is expensive to buy but worthless to sell. Weapons and gear that say they are worth thousands often give you 400 at best from vendors but are also very heavy to carry.\n",
      "\n",
      "Also NPCs dont really carry loot anymore. At best they drop their weapon, some ammo or credits and you can't steal the armor off of their bodies either unless you get lucky and they drop their backpack or something. \n",
      "Whoever thought about killing enemies by pickpocketing their helmets away, i am sorry to disappoint you, its not possible. \n",
      "\n",
      "\n",
      "[hr][/hr]\n",
      "[h2] NPCs/Characters[/h2]\n",
      "You have a billion NPCs roaming the bigger cities, making them seem so alive, however almost all of them are just unnamed samefaces with only a \"hello\" or \"i am busy\" voiceline. They have no purpose or direction. They just exist to walk in circles and nothing interesting ever happens. They don't even react to you shooting around or something. \n",
      "\n",
      "Facial animations are also weird. They often talk as if they are actually aliens who took over a human body and try to learn how to use it. The animations during speech are very overexaggerated. \n",
      "\n",
      "The character creator itself is bad. You mostly have to rely on blending different preset shapes together to get what you want, instead of the usual sliders & co. Body editing also only exists in form of thin, muscular or fat. No height, no individual adjustments, hell you cant even see your character without the suit. \n",
      "It also does not matter which eyes, mouths, eyebrows or nose you pick, its always asymmetrical. You always have one eye much bigger than the other, one eyebrow thicker than the other, one half of the mouth looking like your char is having a stroke, one nosehole bigger than the other. I totally get that faces IRL arent perfectly symmetrical but this is too much. \n",
      "\n",
      "\n",
      "[hr][/hr]\n",
      "[h2]Planets, Space and Exploration[/h2]\n",
      "Most of the planets you can go to only have repeating \"dungeons\" and are otherwise a barren wasteland with hardly anything interesting to discover. At best you find random flora, fauna and ore deposits which are scattered everywhere. No vehicles either, so you have to run on foot to these locations. If you mine the resources on your way there, you will usually be overencumbered by the time you arrive or are at least very close to it. \n",
      "The handcrafted, important planets however can look really beautiful and have great spots to explore, though that is mostly visually speaking. I have yet to find a settlement or city that really rewards you for exploring. Most of the time its just a nice looking, but empty place. They are filled with sidequests though. Just by running past people i have picked up dozens of sidequests. \n",
      "\n",
      "Combat is about on the same level as no mans sky. Its there, but its not very deep. \n",
      "Actual travel however is unfortunately a little boring. What you do to really get around is not fly your ship, but instead click on the travel button on the map, watch a cutscene, then go back to the map, click on the location you want to go and hit the \"land\" button. After another cutscene you either press a button to get up from your seat or teleport to the outside. Flying is only possible in specific locations, like in orbit.\n",
      "\n",
      "\n",
      "[hr][/hr]\n",
      "[h2]Companions and AI[/h2]\n",
      "Companion AI seems to be terrible. I can't count the times i had my companions push me into corners where i am stuck, or search for the enemy which is right infront of them shooting at them. \n",
      "They also seem to hate sneaking, but love moving into your line of sight. \n",
      "So far, i have hardly seen them be more useful than as a mule to carry my loot, but even they can't carry very much. They do wish to talk to you if you have a moment, though. \n",
      "\n",
      "Enemy AI doesn't seem that smart either. I had them teleport around a few times or walk into static objects and getting stuck. \n",
      "They don't use cover very well.\n",
      "Overall they seem to consist of 2 types of AI. The shooters who stand back and try to hit you, or the rushers who just straight away run out and chase you down with their knifes.\n",
      "Difficulty seems to be done by planting a lvl 30 enemy among his level 8 peers. Kinda weird ngl. \n",
      "\n",
      "\n",
      "[hr][/hr]\n",
      "[h2]Starships[/h2]\n",
      "What i really enjoy so far is the starship customization. There is a huge amount of parts that you can use and move around. It's not as free and sandboxy as many might hope, but you still have a ton of options. \n",
      "However this is also not perfect. Simple options like mirroring to the other side are missing, so you have to place each part for each side individually and also paint each and every single part individually, which is especially frustrating when some parts have 3 different colors to adjust. \n",
      "Unfortunately you can't adjust where your doors will be, so everytime you build a ship, the interior is a randomly generated labyrinth. \n",
      "Oh thats right, you can have multiple ships. \n",
      "You can also hire crew for your ship. \n",
      "\n",
      "\n",
      "[hr][/hr]\n",
      "[h2]The tech[/h2]\n",
      "The game has been running alright for me, it looks so much better than any other game we had on this engine.\n",
      "Unfortunately we once again have decade old issues, like mouse aiming having separate horizontal and vertical aiming speeds which means, i for example, had to turn horizontal down to 35 but increase vertical to 50 to have it somewhat the same, but its still not perfect.\n",
      "There is also once again no FoV slider and you have to set it manually in the .ini.\n",
      "Running speed is comically slow in third person, compared to how fast the characters animations are. \n",
      "\n",
      "Performance: I am running a Ryzen 5800x, 32gb ram and an RX 6900XT. The game is maxed out at 1440p, 100% resolution scale, no FSR, no motion blur and i have about 55-80fps in settlements and up to 120 in dungeons.\n",
      "Split: you how much space the location you are moving to still has. you also only have a very small, limited carrying is once again a ton of items to loot, some with seemingly really good value, however vendors actually give you at best 15 % of its \" value \" for it and you can ' t take random items apart so they are actually entirely useless. doesn ' t help that 99 % of \" loot \" are just notebads and folders or food. this also kinda means that you can ' t really be a trader either, because everything is expensive to buy but worthless to sell. weapons and gear that say they are worth thousands often give you 400 at best from vendors but are also very heavy to npcs dont really carry loot anymore. at best they drop their weapon, some ammo or credits and you can ' t steal the armor off of their bodies either unless you get lucky and they drop their backpack or something. whoever thought about killing enemies by pickpocketing their helmets away, i am sorry to disappoint you, its not possible. [ hr ] [ / hr ] [ h2 ] npcs / characters [ / h2 ] you have a billion npcs roaming the bigger cities, making them seem\n",
      "\n",
      "Doc 68587\n",
      "Original: I have over 100 hours so I am quite qualified to list likes and dislikes but ultimately this is by far (not counting FO76) bethesda's weakest installment it just feels less bethesda than their other games in all the worst ways, misdirected maybe. This is not an RPG it's a space action adventure game. I am still enjoying the game despite this but it largely falls flat for me. I will now randomly list things.\n",
      "\n",
      "Positives:\n",
      "\n",
      "Ship builder is great (although largely pointless as ships are largely pointless in the game)\n",
      "On planet graphics are great especially the sol system \n",
      "It's still a bethesda game (thus i have played it a lot)\n",
      "Andreja exists (Sam Coe is also decent)\n",
      "The cities are pretty cool even though only having like 3 major cities is a let down but at least they are very big.\n",
      "Outpost building is good.\n",
      "\n",
      "Negatives: ok just listing these randomly have fun if u acc read this\n",
      "\n",
      "PG+13 game (whatever its actual rating is irrelevant) \n",
      "\n",
      "Sarah Morgan exists (actually the least likeable companion in any bgs game)\n",
      "Performance, 30-40 fps with a 3070 what? at least it doesn't crash ive had 1 crash ever.\n",
      "\n",
      "Why does the game lag and freeze every time I pull out my scanner or use a weapon that has any kind of damage effect how does this get past testing.\n",
      "Why are the menus so slow why do I have to scroll down 8 menus to eat an item why not just have a favourites menu.\n",
      "\n",
      "Why does the actual favourites menu have 12 options? 12? this game has so much stuff and we get 12 favourites making aid items and powers a complete pain to use.\n",
      "\n",
      "Why are there so many essential NPC's? I'm sorry is this an rpg or not? Literally npc's that are involved in the tiniest of quests get the essential tag. It should ONLY be faction and main quest npc's or no one at all like outer worlds the hand holding is insane let me kill who i want to kill.\n",
      "\n",
      "Way too many perks for how slow you level, it's actually one of my biggest gripes jesus why do I need a fkn perk to pickpocket or build more than a few outposts or do BASIC weapon mods or have VATS on my ship or even just drive bigger ships like i swear theres like 15 perks that you should just start with and a lot of the perks are completely useless you'd only take them to unlock the next perk in its tree there did not have to be this many.\n",
      "Resources weigh too much for how little inventory space you have even if you take the 4 inventory perks which everyone playing without mods will.\n",
      "\n",
      "Usual immersion breaking bugs like npcs floating through the ceiling, quests breaking, npcs breaking some were even game breaking i had to use the console on 2 occasions to unbreak\n",
      "the game regarding a spoiler so i cant mention the quest but its a known issue.\n",
      "Why do all npcs break their necks to look at you if you're within like 50 feet of them what kind of immersion is that\n",
      "\n",
      "Digipick minigame is an L sorry, most things you unlock in this game are not worth any of your time let alone multiple minutes on the master digipick minigame. The easier ones are fine but without all 4 security perks its a pain doing the hard ones every 2 minutes. On PC this isn't a big deal since a mod fixes it.\n",
      "\n",
      "Why do NPC's not drop their weapons and armor? that's like a staple of bgs games\n",
      "\n",
      "Why is the writing so cringe \"i have powers! powers!\" why is there no swearing at all by the way \"what the heck\" etc you're teaming with like space murderers and no one swears\n",
      "No gore which is weird for a bethesda game all in all the game feels super family friendly compared to fallout/skyrim, unreasonably so imo I get its a space game but its still immersion breaking.\n",
      "\n",
      "NPC's don't have actual routines they are just static this is very immersion breaking oblivion was made like 20 years ago and every npc was like a real person way more so than in this game.\n",
      "\n",
      "Why are there no unique weapons like in FO3, Oblivion, Skyrim, FNV etc. Unique models of weapons there's some clothing but that's it. Legit I haven't wanted to do any of the side missions outside of Faction missions because you never get a cool reward, you get the same randomly generated slightly better version of a weapon you already have and a few credits never anything cool like previous games. And with how easy it is to credits you'll be a millionaire in no time anyway so its all useless.\n",
      "Dialogue options suck its basically just fallout 4's but coated to look like FNV, you have 4 options \"yes\" \"yes but snarky\" \"ask for credits\" and \"question\" that's it.\n",
      "\n",
      "Way too many cutscenes all of which are unskippable\n",
      "No open world the universe is divided into boxes you cant even go all the way round planets or travel between planets and moons manually\n",
      "\n",
      "Why are like 98% of planets/moons human inhabited? I've found I think 2 in over 100 hours that don't have a medical lab or mine 20 feet from where you land with 30 humans in. The amount of structures is over the top.\n",
      "\n",
      "Combat is not awful but pretty bad on controller all the weapons have way too much sway mods can fix it tho with mods the combat is pretty good way better than previous games, still no gore so all the weapons feel shit.\n",
      "Enemies have way too much hp at lower levels and hard difficulty just makes them more spongey its such a lazy way to do difficulty straight out of fallout 3 except in that game you got more xp at least for playing on hard.\n",
      "\n",
      "4 Romancable Companions really 4? And all of them are tied to the same faction and all of them have basically the same morality system aka do gooder? Not a single evil companion for none-good guy playthroughs. Where's Jericho Charon or Clover from fallout 3, this game just pushes \"be a good guy please\" on you so hard it doesn't even feel like an rpg half the time my playthrough isn't even evil and it annoys me because it kills replayablity in an rpg.\n",
      "\n",
      "The starmap is trash you have to google \"where is city x\" because if you don't remember which of the 100 star systems its in you just won't be able to find it this is massively complained about by everyone on reddit but yeah it sucks.\n",
      "\n",
      "All the \"points of interests\" on planets and moons are the same, find a cryo lab? Congrats you've found every cryo lab ever the enemy locations and loot never change So much for exploration. \n",
      "\n",
      "No hot/cute outfits for female chars why? Basically nothing feminine.\n",
      "\n",
      "After finishing the 5 faction questlines your rewards are mostly garbage with the 1 exception being vanguard, your position in the ranks barely changes and your companions who are all drones with identical morality are all mad at you regardless of which options you took. No literally make a save before the final quest of each of the final faction missions and pick 2 opposite outcomes and watch your companion say ur a dogsh*t person either way its so f**king bad the writing.\n",
      "\n",
      "Why is the loot so bad? I'm level 48 right now and my highest dps weapon is a random legendary I found like 25 levels ago. My best spacesuit is from about 10 levels ago. It's so so rare to find anything you haven't already seen you might get to a new level and see a new weapon or 2 in the world as a result but not much. The spacesuits in particular are so rare to find one with actual good stats it feels like suits don't even get better idk if im missing something or what.\n",
      "\n",
      "Why do I have to build all the furniture in my house myself out of resources I found? Oh no i need a bed but I don't have adhesive guess I need to go to a random star system 500 light years away to kill a goat that drops it or mine it or go to a store can't I just have the option to buy it instead of building it if I'm in a major city? For outposts I get that you have to make it but for in the city you really shouldn't have to do it yourself I want to use my resources on weapon mods not chairs.\n",
      "\n",
      "Why do vendors have nothing useful? No reason to ever go to a vendor other than to sell your stuff they never stock actual gear I guess because if they did then the gear would be too high levelled or whatever idk vendors have mostly always been trash in bgs games but it seems almost worse here.\n",
      "Split: anything you haven ' t already seen you might get to a new level and see a new weapon or 2 in the world as a result but not much. the spacesuits in particular are so rare to find one with actual good stats it feels like suits don ' t even get better idk if im missing something or do i have to build all the furniture in my house myself out of resources i found? oh no i need a bed but i don ' t have adhesive guess i need to go to a random star system 500 light years away to kill a goat that drops it or mine it or go to a store can ' t i just have the option to buy it instead of building it if i ' m in a major city? for outposts i get that you have to make it but for in the city you really shouldn ' t have to do it yourself i want to use my resources on weapon mods not do vendors have nothing useful? no reason to ever go to a vendor other than to sell your stuff they never stock actual gear i guess because if they did then the gear would be too high levelled or whatever idk vendors have mostly always been trash in bgs games but it seems almost worse here.\n",
      "\n",
      "Doc 39832\n",
      "Original: I received a copy of Starfield when buying my graphic card.\n",
      "\n",
      "I almost never write reviews and I am now doing something I never thought I would do: I am giving a negative rating to a game after 60-ish hours of playtime. After all, how in the world does one play a game for so long and not enjoy it?\n",
      "\n",
      "The answer is simple: as a fan of TES since Daggerfall was released, I was looking (hoping?) for a similar experience in Starfield. For everything I tried and failed to find fun, I kept thinking \"well, perhaps doing that will be fun\" and... well, no, it wasn't. Allow me to explain.\n",
      "\n",
      "Bethesda really has hammered in the fact that this game world has been 25 years in the making. As a long-time fan of scifi and fantasy, I have to wonder: is this really the best you could do? I usually like a hard science scifi worlds, although I prefer the ones more \"out there\" such as Warhammer 40k and Mechwarrior. But this is a painful mash of Star Trek and Star Wars, with a huge dose of NASA-aesthetics. So far in the future, and the inside of spaceships almost always look like a NASA space shuttle from the 2000s? Cowboys in space with sheriff stars on their coats?\n",
      "\n",
      "The game allows you to have clothes and armor, where your armor is in fact your spacesuit. There is thankfully an option to hide your suit while inside a colony so you don't have to remove it manually, but even within your own ship, you will always wear gear made for the hard void (if equipped). Now spacesuits are, to be kind, not cool-looking. At least not the ones in Starfield. In fact, when you join the \"main quest faction\", you are given a full suit/helmet/oxygen pack set that looks for all the world like a NASA astronaut from our day. If you buy the special edition of the game, you get a skin that makes the white look like aluminium foil. Shiny, I guess.\n",
      "\n",
      "Almost all colonies, ship interiors and space station interiors look the same. The exact same assets are reused everywhere, even on a ship that was supposed left Earth several hundred years ago: the same stenciled cargo crates, bulkheads, etc as everywhere else.\n",
      "\n",
      "And don't get me started on player hair... Bethesda still hasn't hired someone who understands that hair is not the same as straw.\n",
      "\n",
      "So the aesthetics do not please me... what about fun?\n",
      "\n",
      "I visited 3 large cities, where at least 2 were supposed to be home to millions. One was pretty large and I was happy with it. One was... one street plus a one street under-level. It's like Solitude all over again. One street with all the stores and you're supposed to feel like you're in a giant metropolis. It's even in a perfect straight line! Considering how many star systems have empty or nearly empty planets, why could there not be more focus to make the large cities actually large? The third city, meant to be a bit smaller, was about the size of Whiterun. Once you know the layout, it feels pretty small.\n",
      "\n",
      "The game feels more like a 2010 release than 2023. For example, I rescued some hostages and, as they ran out to safety, the wife of one of them is waiting anxiously on the street. The two NPCs stop two meters from each other and she says something like \"oh I'm so happy you're alright!\"... while looking at me, because I stepped a little bit too close. There is no hugging animation, no holding hands animation, nothing. They just stood there and recited their lines like some horrid amateur theater.\n",
      "\n",
      "This kind of problematic is found throughout the game. You think you did something fun/neat/cool, and then the game lets you down hard with a complete lack of attention to any form of detail that would add realism and thus the whole thing becomes very jarring. Even in an isometric game like Pathfinder:Wrath of the Righteous, there is a tiny animation added where two characters or NPCs hug. \n",
      "\n",
      "Thankfully there is more than one voice actor/actress per NPC \"type\" like in Skyrim (orc male, anyone?). The voice actors even do a pretty good job most of the time. But the writing is so dull. You can speak to an NPC and ask questions about their life, their job, the company they work for, etc... and then it doesn't lead to anything. \n",
      "\n",
      "I was excited to be an explorer, and I was thrilled when I realized that you could sell the completed survey of a planet (minerals, fauna, flora). I completed a few planets that only had minerals and quickly got bored: exploring entailed running around on a planet or moon as exciting as our own moon and hoping to run into the right minerals. More complex planets required so much running around that I never even completed one with fauna/flora. \n",
      "\n",
      "The landing spots auto-generate some places of interest some hundreds of km away, so you can go check that out, only to get a auto-generated outpost, farm, mine, cave etc. I ran into the same research outpost no less than 6 times on different planets in different solar systems. Re-doing the same dungeon? Not fun. At one time, half the furniture was missing or stuck in the ceiling, even though the gravity was more than strong enough to keep everything in place.\n",
      "\n",
      "This brings me to the bugs. I'm willing to overlook some bugs in a game I enjoy. And let's face it, Bethesda games are packed with so many that even after so many years post release, it's still recommended to run Skyrim with the unofficial patches mod. So... what do we have in Starfield? \n",
      "\n",
      "NPCs floating upwards into the sky or down into the earth are very common, leading to general awkwardness when your quest giver is floating away. Or leading to unintended hilarity, such as a tough guy drinking at a bar and who keeps falling through the floor just to be teleported back says \"This dive is pretty great!\". Items flying and bouncing around for no reason (I became nostalgic about my house in Whiterun, where a Raw Rabbit Leg tried to hit me in the forehead every time I entered). When buying a new ship, the captain locker's inventory does not tag along or even teleport to your own inventory. Escort quests (yes, they still exist!) are just as buggy as they have always been. In the inventory screen, the area that normally shows the item or your character can become pure black, or your clothing change doesn't register. I'm sure others have made a comprehensive list, I won't bother listing more.\n",
      "\n",
      "The NPCs' thousand yard stare has also been detailed extensively by the internet, as well as their creepy smiles (due to not using all the facial muscles that are actually used when smiling).\n",
      "\n",
      "Starfield really wants us to take it seriously when it comes to science. And yet, the main quest instantly involves the supernatural or near enough. The intro to the game (retrieving the artifact in the mine) left me completely bored and wondering \"oh ok, so what?\", while everyone treated it as a very dramatic moment. The comparison with the power of Skyrim's intro experienced the first time is staggering and not at all in Starfield's favor.\n",
      "\n",
      "All in all, Starfield has left me feeling bored, occasionally annoyed at bugs, very disappointed at the lack of detail and meaningful interaction with the world and basically just very... meh.\n",
      "\n",
      "I believe in judging a game for what it is, not what I hoped it would be and not what I think it should be. Starfield is a hard fail for me, I'm not even interested in coming back later when all the mods are out to make the game look good and fix all the bugs that Bethesda can't or won't fix. I'm glad many find joy in the game, but I think we as players should be allowed to expect better from a large, experienced studio such as Bethesday.\n",
      "Split: from the 2000s? cowboys in space with sheriff stars on their coats? the game allows you to have clothes and armor, where your armor is in fact your spacesuit. there is thankfully an option to hide your suit while inside a colony so you don ' t have to remove it manually, but even within your own ship, you will always wear gear made for the hard void ( if equipped ). now spacesuits are, to be kind, not cool - looking. at least not the ones in starfield. in fact, when you join the \" main quest faction \", you are given a full suit / helmet / oxygen pack set that looks for all the world like a nasa astronaut from our day. if you buy the special edition of the game, you get a skin that makes the white look like aluminium foil. shiny, i all colonies, ship interiors and space station interiors look the same. the exact same assets are reused everywhere, even on a ship that was supposed left earth several hundred years ago : the same stenciled cargo crates, bulkheads, etc as everywhere don ' t get me started on player bethesda still hasn ' t hired someone who understands that hair is not the same as the aesthetics do not please what about fun? i\n",
      "\n",
      "Doc 31778\n",
      "Original: My opinion about Starfield after 300+ Hrs\n",
      "\n",
      "I was gifted this game by a Subscriber to my channel, but my review is based on the fact that someone did pay for me to have this game. That being said, I did put in a ton of effort and time to play through to NG+ (Not NG+10), collect all 24 powers, collect all achievements and try to genuinely have a good time with this game. Sadly, I became more and more frustrated the further I got into the game. There were also several instances during the game I was forced (by game play mechanics) to either do or be put into situations that were very uncomfortable (even being in a solo game). Despite the game clearly adding aspects that were politically and socially motivated, I tried to put my judgments aside (as best as I could). \n",
      "Below I do cover some of the Pros and Cons I found with the game. However, I am going to have to give the game a dislike overall. If the devs did take 9-25 years to make this game (depending on the article you read from), then they got lazy. I really had hopes for so much more with the hype surrounding this game.\n",
      "\n",
      "\n",
      "PROS:\n",
      "\n",
      "* Awesome Graphics and Visuals\n",
      "* Very in-depth storylines\n",
      "* Voiced NPC Dialog\n",
      "* Ability to Build your own starship(s)\n",
      "* Base Building\n",
      "* Ability to Craft (kinda)\n",
      "* Planetary Exploration (Kinda)\n",
      "* First and Third Person Views\n",
      "* Special Relationships with Companions\n",
      "* Free Cool Ship and Suit at NG+\n",
      "\n",
      "\n",
      "\n",
      "CONS:\n",
      "\n",
      "* Not Multiplayer: Trying to play this game and be in Discord with a friend is almost pointless. Neither of you can hear or listen to the other because you have to hear all the voiced dialog.\n",
      "\n",
      "* First and Third Person Views: There are many times in the game where you have to switch between first and third person views to do, see or interact with certain things or items in the game. I missed or had to search the web on what I was missing in a quest because of the issue of not thinking to switch on the fly. I personally play third person in many games and this game is very frustrating to play in third person way too often.\n",
      "\n",
      "* In-depth Stories and Voiced Dialog: As awesome as many of the stories are, this game is extremely dialog heavy. I feel that the devs deliberately tried to make each dialog interaction as long as humanly possible. Thank goodness I did not have to read all that dialog. Even the dialog you hear as you walk by NPC's chatting with each other are super long. No one talks that way, it is ridiculously long. Also, much of the dialog seems like it is slowed down to make it take even longer for them to say what is needed to say.\n",
      "\n",
      "* Special Relationships with Companions: The ability to establish a relationship with Companions is fun. However, there are only a select few to choose from. The dialog from these companions can be very creepy at best. the male companions always sound like they are talking to me (In game character is He/Him Male with Masculine walk) in their bedroom voice. This was very creepy to hear all the time. It is clear that the dialog for the male characters were deliberately voiced like this. One of the female voices were also very bedroom-ish. Leaving only one clear choice for me to choose as my in-game Special Relationship. If this is going to be a thing in games, then the player choices during character creation should be part of the dialog selection. I would recommend just keeping the robot as your follower. At least it doesn't constantly hit on you.\n",
      "\n",
      "* In-depth Storylines: Be ready to listen to a ton, I mean a Ton of deliberately lengthened dialog. It is very evident that the devs are trying to boost their playtime stats, by adding a ton of dialog. Most people do not talk and say so many words about any simple subject. If you are into lore and background stories, then you will probably like it.\n",
      "\n",
      "* Awesome Graphics and Visuals: Now, the game is absolutely beautiful and has a lot of very stunning views. This being said, there is not a lot of originality. You can see a lot of the same views on many of the same planets. \n",
      "\n",
      "* Exploration: Exploring planets is very lack luster. There is a ton of copy/paste groups of buildings around each of the planets. When I first started the game, it was exciting to go visit random buildings and get in fire fights. I realized very quickly that most of the buildings were the same, with very little variation. Not to mention, visiting random buildings aside from the quest buildings, does not offer any real reward or benefit other than thinking you are doing something different.\n",
      "\n",
      "* Crafting: Crafting in this game should not be called crafting at all. Yes, you can craft all types of items. Tons of them. However, you CAN NOT craft weapons, suits, helmets, or clothing. You can craft \"Modifications\" to weapons and suits that you purchase or find while looting. You might think this is cool, but it really isn't. Just go looting and you'll most likely find better upgrades much faster than collecting materials to make the items required to craft the Mods. \n",
      "\n",
      "* Free Cool Ship and Suit for NG+: You get a nice new shinny ship and suit when you begin NG+. The suit is pretty good, but you can not wear clothes or hats. This will cause you not to be wearing the suit. You would have to change back to any other suit in order wear clothes. The ship is very cool looking, but that is about it. I had build a much better ship with larger cargo and firepower than the new one I got with my first NG+. Now supposedly it upgrades with each new NG+ level you reach. you can not add to the new ship and there is no way to upgrade it during play. The new ship struggles when there is more than 1-2 enemy ships to deal with near your level. I'm sorry this is way too much time to spend on a mediocre ship. I suggest, Build your farming outposts, boost your levels and mass produce items to sell. make a ton of money and build a much better ship.\n",
      "\n",
      "* Price: Even though I was gifted this game by someone (not the Dev team). I would not have paid the $70 base price. However, if I had even paid that price, I would have not been able to get my money back if I tried. I got about 30hrs into the game before all the cons really started to add up and grate my skin. Yes, I have over 300 hours in this game because I want to make sure to get my gifter's moneys worth out of it. I have got this far, might as well just complete the achievements and be totally done with the game. If you can get this game on sale (30-50% off), then I would say it would be worth it. Kinda.\n",
      "\n",
      "Once I have my 100% achievement completion, I will be deleting this game from my computer with no intention of playing it again in the future.\n",
      "\n",
      "\n",
      "\n",
      "Split: that you purchase or find while looting. you might think this is cool, but it really isn ' t. just go looting and you ' ll most likely find better upgrades much faster than collecting materials to make the items required to craft the mods. * free cool ship and suit for ng + : you get a nice new shinny ship and suit when you begin ng +. the suit is pretty good, but you can not wear clothes or hats. this will cause you not to be wearing the suit. you would have to change back to any other suit in order wear clothes. the ship is very cool looking, but that is about it. i had build a much better ship with larger cargo and firepower than the new one i got with my first ng +. now supposedly it upgrades with each new ng + level you reach. you can not add to the new ship and there is no way to upgrade it during play. the new ship struggles when there is more than 1 - 2 enemy ships to deal with near your level. i ' m sorry this is way too much time to spend on a mediocre ship. i suggest, build your farming outposts, boost your levels and mass produce items to sell. make a ton of money and build a\n",
      "\n",
      "Doc 63271\n",
      "Original: Disappointing all across the board.\n",
      "\n",
      "Issues keep piling up, it's like nobody tested it. It's unacceptable considering the price of this game. Here's my latest list of issues:\n",
      "- Performance is bad.\n",
      "- KBM controls are terrible.\n",
      "- Console controls are only marginaly better.\n",
      "- Rebinding console controls just breaks everything because some controls can't be changed.\n",
      "- UI is console-centric and is terrible to navigate with KBM.\n",
      "- Menu items which can't be clicked instead you need to push a key and hold.\n",
      "- Alternation of pressing and holding the same buttons.\n",
      "- Navigating with arrows barely works, if mouse hovers any single button it steals the focus.\n",
      "- Inventory screens are a disgrace, you never know if you're buying, selling, or transfering items, and it's all a chore.\n",
      "- Menu shortcuts don't work when menu is already open, you can't press 'I' to opens inventory and press 'L' open the log, you must close all menus before.\n",
      "- When rebinding keys, you can't cancel a binding capture, if you press ESC it binds ESC, and unbinds ESC for opening the game's main menu, then you can no longer open the menu to change that binding again, hahaha.\n",
      "- Scanner disables all controls and shortcuts except \"close scanner\".\n",
      "- Elevators, trains, and other disguised loading screens are atrociously designed.\n",
      "- Weight management is a mess, weight of items seems rather random, tiny light items are heavier than bulky and heavy items, some things like ammo and medkits weigh nothing and you can hoard millions.\n",
      "- Useful items like health packs, ship parts, or lockpicks, are drowned among trash.\n",
      "- Ship cargo is ridiculously small and similarily encumbered by small yet heavy trash, yet you can cram a hundred times more gear inside your ship hab modules than in your cargo.\n",
      "- Entire economy is backwards, most ship parts cost less than a rifle, good weapons cost as much as a ship, it makes no sense.\n",
      "- Can't sort items by total weight or quantity, nor get a breakdown of weight by category.\n",
      "- Sorting orders isn't remembered anyway.\n",
      "- Stolen consumables like ammo or lockpicks are likely to forever remain in your inventory, they aren't priorized for use, even when used manually the non-stolen ones are used instead.\n",
      "- You can sell stolen items to most sellers, and buy them back at the same price, and stolen flag is removed. What's the point?\n",
      "- The above also counts towards levelling your commerce skill.\n",
      "- Levelling weapon skills is as easy as shooting harmless aliens on some moons.\n",
      "- Killing aliens counts as \"surveying\" them, a genocide is must faster than using the scanner.\n",
      "- Dropping items when on pilot seat causes them to get stuck inside the pilot seat, try that with contraband for some real fun.\n",
      "- You can mine water, it looks like a rock, but you can't mine the vast bodies of water on the planet.\n",
      "- Quick travel across the galaxy doesn't heal you, you need to manually sleep, taking a train doesn't even replenish your stamina.\n",
      "- Companions talk while sleeping.\n",
      "- Walking/running speed isn't reset after reloading a saved game, if you're walking and want to reload in the middle of combat, you need to switch to run before loading.\n",
      "- There's aquatic wildlife, very wary and swimming much faster than you, you need to swim for miles to catch them up.\n",
      "- Mission menu almost hidden on main menu, what were they thinking.\n",
      "- On map menu, no list of all systems, planets or POIs, and surely no search feature, need to mouse over each off them to find a place.\n",
      "- Procedurally generated content is highly repetitive, it barely lasted 4 hours until I knew every loot hidden in every outpost.\n",
      "- Cities are nothing but a series of big buildings where you can only enter the akwardly huge and empty lobby with a single NPC inside, this somehow requires a loading screen.\n",
      "- Can't quick travel from New Atlantis Well for some reason.\n",
      "- Flashlight is terrible, angle is too narrow.\n",
      "- There are beer taps in zero G stations.\n",
      "- Ship habs link in weird ways, most of the time two habs side by side won't be accessible, you'll have to circle the entire ship.\n",
      "- You can walk with a gun out and you're fine, shoot in the air even.\n",
      "- Can't preview what ship habs contain, you have to buy them and then be disappointed at what's inside.\n",
      "- Ship boarding shows how unpractical habitat modules.\n",
      "- Plenty places where you get stuck.\n",
      "- Can get stuck behind an open airlock.\n",
      "- Enemies can run through an opening airlock, even when it's still almost closed.\n",
      "- When wildlife is angry at you but you're out of reach, they throw rocks.\n",
      "- Surveying planets leads to \"no results\", you can't check the list of species you scanned, if only to see which one you're missing, data can only be viewed when facing the species, not in any menu. Gives a weird idea of \"exploring\" and \"surveying\" when your reports are nowhere to be found.\n",
      "- When overencumbered, flying with jetpack uses oxygen for some reason, unless you're flying while walking, then it's okay, jetpack works full power regardless.\n",
      "- Binary star visibility on map is trash, took me hours to figure it out, especially due to bad KBM menu interaction which makes it feel like \"clicks don't register\" rather than \"it's a binary star\".\n",
      "- Star map is \"3D\" for some aesthetic reason probably, a flat map with connections between systems would have been better and clearer.\n",
      "- If you quick travel to a place on a planet you've been before, you spawn directly outside your ship, hope you have a spacesuit on!\n",
      "- Swapping ships is hazardous, items you left on board your ship could disappear, or get duplicated, especially funny when your stolen pirate ship keeps respawning contraband.\n",
      "- Countless graphical glitches, too many to mention.\n",
      "- Attempting to hail a ship that's part of an event, and supposed to hail you, leads to a broken dialogue screen which can't be closed, forcing you to reload.\n",
      "\n",
      "Split: elevators, trains, and other disguised loading screens are atrociously weight management is a mess, weight of items seems rather random, tiny light items are heavier than bulky and heavy items, some things like ammo and medkits weigh nothing and you can hoard useful items like health packs, ship parts, or lockpicks, are drowned among ship cargo is ridiculously small and similarily encumbered by small yet heavy trash, yet you can cram a hundred times more gear inside your ship hab modules than in your entire economy is backwards, most ship parts cost less than a rifle, good weapons cost as much as a ship, it makes no can ' t sort items by total weight or quantity, nor get a breakdown of weight by sorting orders isn ' t remembered stolen consumables like ammo or lockpicks are likely to forever remain in your inventory, they aren ' t priorized for use, even when used manually the non - stolen ones are used you can sell stolen items to most sellers, and buy them back at the same price, and stolen flag is removed. what ' s the point? - the above also counts towards levelling your commerce levelling weapon skills is as easy as shooting harmless aliens on some killing aliens\n",
      "\n",
      "Doc 12879\n",
      "Original: I have always been a huge Bethesda fan. I played all The Elder Scrolls, all their Fallouts, and I really enjoyed every single one. Even Fallout 76, although objectively I would probably not call it a good game (especially at the release).\n",
      "\n",
      "But, if it comes to Starfield\n",
      "\n",
      "25 YEARS IN THE MAKING MY ASS!\n",
      "\n",
      "I literally had WAY more fun playing Morrowind so many years ago. I wish I had more time, so that I could create a more thorough comparison of these two. But considering all the funding, capacity and the experience Bethesda has at this point, in contrast to what they had back then, I really can't understand how they could have settled for such a stinking pile of garbage.\n",
      "\n",
      "This game is the most lazy game Bethesda has ever created, and honestly one of the laziest games I have ever played in my life. Also, a big part of this game does not feel like a fun game, but just like a chore.\n",
      "\n",
      "\n",
      "Just to name a few:\n",
      "\n",
      "The beginning is worse. \n",
      "In Morrowind, you start as a prisoner. You kind of know you are special, but what that means is for you to discover later during the adventure, and it's you who needs to prove yourself to the world, in order to be treated with respect, and later on you can really feel your character's growth. In Starfield, you basically start as a miner, and are given a big task by your boss - to dig up a very special piece of metal from a rock. For some reason you must walk the last few dozen meters of the cave alone. You do that and are given an unskippable vision that you will later start to despise when it's shown to you a 100th time. Now, the guy that ordered it all done decides touching the metal piece has made you special and suddenly trustworthy enough to give you his spaceship (even though he owns no other means of transportation), his robot and his watch, followed by a task to deliver the metal part he payed for, to a place you have never been to before. That's the Starfield's writing in a nutshell for you.\n",
      "\n",
      "The main story is WAY worse. \n",
      "I barely remember the Starfield's cliche story as of today, yet I still can recall the Morrowind's story that I finished all these years ago. The Starfield's story in an nutshell is just a bunch of bland, boring and irritating fetch quests. [spoiler] And don't even get me started on the Skyrim's Dragonborn to Startborn and dragon shouts to Starborn powers reskin. [/spoiler] That's just being lazy 101.\n",
      "    \n",
      "The ending is worse. \n",
      "In Morrowind, by the end of the game you basically [spoiler] defeated a god (or several) [/spoiler], you felt powerful and that you accomplished a lot. You changed the appearance of Vvardenfell, even if just so slightly. Starfield's story and majority of quests have literally no consequences. Till the end of the game, you are not even sure why you are doing all of this. There is no saving the universe, there is no defeating a super villain, there is no real gain for the protagonist [spoiler] (apart from a few more or less useless powers) [/spoiler], you are not (really) 'the chosen one'. The only real purpose of finishing the main quest is to get into the New Game +, which is treated as a part of the gameplay and story here. In my opinion it is ridiculous and a pretty bad game design, this game is not a roguelike, it's not even close...\n",
      "\n",
      "The side quests are worse.\n",
      "\n",
      "The factions are worse.\n",
      "\n",
      "The NPC character designs and writing are worse.\n",
      "\n",
      "The enemy variety is worse.\n",
      "\n",
      "The exploration is worse, either empty spaces or repetitive randomly generated garbage collection.\n",
      "\n",
      "The dungeons are worse. Boring, mostly randomly generated, all look the same, no stories, quests or unique items to find.\n",
      "\n",
      "The world/setting is worse, way less believable and less interesting.\n",
      "\n",
      "The weapons and armors variety is WAY worse. Random (useless) weapon traits is not variety.\n",
      "\n",
      "The lockpick minigame is annoying.\n",
      "Morrowind did not have any minigames, but Fallouts had two, so I will use them for comparison. At first I really liked the minigame in Starfield. It was something new, not very challenging and yet satisfying, required some brains. But the problem is (compared to Fallout) that you can't really get skillful enough in it (both in game or IRL as a player), to make it seamless. In Fallout you could get good enough at the lockpick minigame, that it would take you seconds to complete. Similarly the hacking minigame, with high enough in-game skill, you could just quickly guess the correct password, as there were not many options to choose from. In Starfield you won't have that. For every minigame you will need to spend time. And considering the amount of the containers that require lockpicking in this game, after 100+ hours you will grow to absolutely despise this minigame.\n",
      "    \n",
      "There is less armor slots. \n",
      "Morrowind had a great system where you could change every part of you attire separately. You could mix and match and really customize your character. Pick heavier helmet, lighter gloves, have separate enchantments on each of them, to give an example. Fallout 4 had a very similar system, that's why I really can't understand why in Starfield, the only gear slots you get are armor and helmet (and backpack). If that's not being lazy then I don't know that is.\n",
      "\n",
      "The unique weapons you can find are worse \n",
      "(and basically worthless compared to random generated ones, still the random weapons' traits are mostly useless as well). The weapon system in this game does not feel like one fitting an RPG game. It's more of a looter shooter, and not even a particularly good one. Just decent at best.\n",
      "\n",
      "The Starfield's weapon/armor upgrading and consumable crafting system is in my opinion WAY worse,\n",
      "than what Morrowind allowed you to do with crafting custom spells, potions and weapon or armor enchantments. To even be able to do any of these things in Starfield, you need to endure hours of pain, grinding the required perks. And even then, at the cost of all the perks that you spent on leveling crafting, you could have just pick up way cheaper and less grindy damage boost perks, and use randomly generated weapons found in the world. The upgrades don't even make much of a difference in the damage output.\n",
      "\n",
      "The writing is SO MUCH WORSE. \n",
      "Quests and main story... these are mostly jokes. But even the NPC dialogues, happen to be bad. Not always, mostly they are decent. But at times, I was literally hitting the keyboard with my head, cause of cringe or NPCs' statements that make no sense what so ever.\n",
      "\n",
      "The UI is worse.\n",
      "Morrowind's UI also wasn't the best in the world, but it was at least customizable and worked well with mouse on PC.\n",
      "\n",
      "\n",
      "\n",
      "I will expand these points when I have more free time.\n",
      "Split: lockpicking in this game, after 100 + hours you will grow to absolutely despise this there is less armor slots. morrowind had a great system where you could change every part of you attire separately. you could mix and match and really customize your character. pick heavier helmet, lighter gloves, have separate enchantments on each of them, to give an example. fallout 4 had a very similar system, that ' s why i really can ' t understand why in starfield, the only gear slots you get are armor and helmet ( and backpack ). if that ' s not being lazy then i don ' t know that unique weapons you can find are worse ( and basically worthless compared to random generated ones, still the random weapons ' traits are mostly useless as well ). the weapon system in this game does not feel like one fitting an rpg game. it ' s more of a looter shooter, and not even a particularly good one. just decent at starfield ' s weapon / armor upgrading and consumable crafting system is in my opinion way worse, than what morrowind allowed you to do with crafting custom spells, potions and weapon or armor enchantments. to even be able to do any of these\n",
      "\n",
      "Doc 36389\n",
      "Original: I've played long enough at this point to interact with many missions, story arcs, and some of the main storyline. I've taken advantage of the Outpost crafting XP farm to level up rapidly when missions stopped being sufficient experience to get a new level every 3-4 hours of play time.  And I've probably pushed into some weird territory on glitches and bugs that still haven't been ironed.\n",
      "\n",
      "Would I recommend Starfield?  Yes.\n",
      "\n",
      "Is that a resounding must have? Not yet.\n",
      "\n",
      "Starfield comes across as a strange combination of \"The Outer Worlds\" and \"No Man's Sky\" with mystical \"universe\" powers (basically space dragon shouts from Skyrim).  There are parallels with \"Space Engineers\" as well, but only in the sense of \"Wow, they should have looked at how Space Engineers does this better\" sense when it comes to storage, conveyance, and manufacturing pipelines as well as the superior ship building user experience.\n",
      "\n",
      "Like Outer Worlds, Starfield tries to craft a narrative journey for characters to encourage them to keep going further, travel more, and explore the vast collection of solar systems and worlds.  Along the way, there are core missions and randomly recurring scripted acitivities.  Some more engaging than others.  Some much more involved than others.  For the random reoccurring activities, the time invested to dopamine gained ratio isn't great for most of them, especially when they become redundant, but it's a step in the right direction.\n",
      "\n",
      "As of right now, the problem is that there is insufficient variety in people of interest, places of interest, and interactable items throughout.  A lot of the dialogue really doesn't offer much choice or branching either.\n",
      "\n",
      "And that is very much like Outer Worlds, in the sense that each inhabited place you go there will be something you'll be asked to do plus you have main story arcs to follow.  Possibly a little more flexible.  But also less crafted and more redundant as you have played longer.\n",
      "\n",
      "The No Man's Sky additions are noteworthy.  Establishing an outpost, setting up automated mining of resources, storing the resources, and doing rudimentary crafting.  Skyrim never had this - you couldn't even take over a finite mine of resources never mind tap an infinite one.  But one of the faults with No Man's Sky and now Starfield is that infinite resources devalues all resources.  As it should in a truly galactic empire.  And the way you bring value back to a system of infinite resources is by being able to craft and tailor goods and items.  Except No Man's Sky and Starfield don't let you do that.\n",
      "\n",
      "At least in Skyrim I could craft armor and weapons.  Not in Starfield.  And you're extremely dependent on random loot /store goods for baseline stats in Starfield.  Even with a completed skill tree and completed research to craft everything available for weapons and armor, there are numerous characteristics that dropped equipment can have which you cannot add as a mod (even with less impressive stats).\n",
      "\n",
      "You also cannot colour, decorate, or tailor your armor and weapons.  Though the Mantis gear looks radically different than standard gear, there are no skins available (and the Mantis aesthetic is not handled as a skin) which you can access at this time without some kind of pre-purchase version of Starfield.\n",
      "\n",
      "Ditto for ships.  Love that you can spend credits to buy new parts and upgrades, get no credits back for the part that was replaced, and can trigger the complete loss of any item you have dropped on the floor of your ship.  \n",
      "\n",
      "(I haven't probed the limits of this, but I suspect if you have more than 999 of an item on the floor of your ship then instead of moving it to the cargo hold upon modifying the ship, it just deletes the item.  Save first, drop 5k adaptive frames on the floor of your ship, upgrade the engines or weapons, proceed when it warns you everything will be placed in the cargo hold, and, viola, you just deleted 5k adaptive frames out of existence.)\n",
      "\n",
      "Anyway, like armor and weapons which have slots and very limited mod options, ships have parts with very bland variations, and mods or customization possibilities.  At least with a weapon, I can loot an enemy for an Advanced Orion rifle, add mods to give it increased range, better visibility scope, and increase the magazine size to suit my typical game play needs.  On a ship, you upgrade the engine and... yep, that's it.  No slots to add a mod to make it run more efficiently or give up some overall speed for better manueverability or something.  Just mix and match parts as best your able after a very slow skill tree climb to be able to even use the equipment.\n",
      "\n",
      "Thank goodness there is no level cap.  You need to take 82 skills to level 4 to max out your capabilities.  That's 328 levels to be maxed.  Not that level 4 is really worth much with some skills.  It's important to check if level 4 really unlocks something worthwhile or is just a door prize before spending the skill point.\n",
      "\n",
      "Oops.  I'm meandering.  Much like Starfield.\n",
      "\n",
      "And now back to it.  Just remember what Barrett says while leaping from a vantage point with cover, to aggro an entire mob of spacers, who were totally unaware of where I was or why their buddies kept dropping around them... \"Sure... I've got some time to kill.\"\n",
      "Split: ' s sky and starfield don ' t let you do least in skyrim i could craft armor and weapons. not in starfield. and you ' re extremely dependent on random loot / store goods for baseline stats in starfield. even with a completed skill tree and completed research to craft everything available for weapons and armor, there are numerous characteristics that dropped equipment can have which you cannot add as a mod ( even with less impressive also cannot colour, decorate, or tailor your armor and weapons. though the mantis gear looks radically different than standard gear, there are no skins available ( and the mantis aesthetic is not handled as a skin ) which you can access at this time without some kind of pre - purchase version of for ships. love that you can spend credits to buy new parts and upgrades, get no credits back for the part that was replaced, and can trigger the complete loss of any item you have dropped on the floor of your ship. ( i haven ' t probed the limits of this, but i suspect if you have more than 999 of an item on the floor of your ship then instead of moving it to the cargo hold upon modifying the ship, it just deletes the item. save first, drop 5k adaptive frames on the\n",
      "\n",
      "Doc 26620\n",
      "Original: If you like Fallout and Skyrim, play Fallout and Skyrim. If you like No Man's Sky, Play No Man's Sky. If you like Outer Worlds, play Starfield. \n",
      "\n",
      "Bethesda is one of my favorite Developers. I've dropped a combined total of 2000 hours in Fallout 4/Skyrim across editions and platforms. I love their extremely immersive formula. There are no giant glaring problems that come out to me and say \"Starfield isn't good, don't play it\" but there are a dozen small reasons why I simply can't enjoy the game. Maybe mods or updates will be able to save it, but I lack faith. \n",
      "\n",
      "500 people worked on this game for 4-7 years, and I don't know how because every mechanic is either lifted from an older Bethesda game, or a mechanic from a similar game then hastily adapted to Starfield. And they all lack depth.\n",
      "\n",
      "They didn’t make a new combat system, they just used their old one from Fallout, and it’s less in-depth, there are less weapons, there are less armors, there is less customization, and you don’t have the ability to loot enemy’s weapons and armor, you only get Diablo style RNG loot. In Skyrim, you could select pants, helmet, chest piece. In Fallout 4 Bethesda took a step forward and gave us a modular armor system, where your legs, arms, chest, head, and undershirt can all be mixed and matched to give you the armor and look you want. This is before Power Armor, which adds a second layer to all of those. \n",
      "\n",
      "Starfield has 4 options. Clothes, Suit, Helmet, Pack. I would have thought that the space suit system would atleast be modular like Power Armor from Fallout...Nope. \n",
      "\n",
      "Instead of “Oh man I'm hoping to finish off my full set of armor that I can customize, mix and match pieces, and then what’s this?!? I see a Guard/Bandit over there WEARING the piece I need! I’m going to go kill him and take it!” It’s “Wow, that bandit is wearing cool armor, I wish I could take that. This is pretty lame in un-immersive Well atleast I got the sparkly Destiny loot crate that gives me an item with a purple name that decreases oxygen consumption by 1%”\n",
      "\n",
      "They didn’t make a new engine, they’re using their old one, and the best part about the creation engine is the individual objects, and the immersion it brings, except you constantly find half eaten food outside on planets with no atmosphere, and items you can’t interact with.\n",
      "\n",
      "Starfield's creature and terrain generations are passable at best, and doesn't really make for much diversity or fun in terms of scanning. One of No Man's Sky's entire development points was it's terrain generation and creature generation.\n",
      "\n",
      "Bethesda made a Bethesda game and hastily made a procedurally generated program for random planets and creatures to add in a sub-par scanning system. One of No Man's Sky's main gameplay mechanics is scanning and exploration, rather than feeling like an afterthought in Starfield. \n",
      "\n",
      "I’ll land on a planet, see some outpost 1km away and immediately think “What’s the point of going there? I have to manually run all the way there and I’ll find 15 bandits with loot I can’t take off them and some potatoes and wine outside as if they were eating them on this planet with no atmosphere”\n",
      "\n",
      "All of these same problems were my problems with Outer Worlds when I played it. Yes it felt like a Bethesda game, it looked like a Bethesda game, but it felt empty, and it lacked depth. Starfield feels the same exact way, but with a little more polish and depth in some minor systems such as the exploration and ship building.\n",
      "Split: you only get diablo style rng loot. in skyrim, you could select pants, helmet, chest piece. in fallout 4 bethesda took a step forward and gave us a modular armor system, where your legs, arms, chest, head, and undershirt can all be mixed and matched to give you the armor and look you want. this is before power armor, which adds a second layer to all of those. starfield has 4 options. clothes, suit, helmet, pack. i would have thought that the space suit system would atleast be modular like power armor from instead of “ oh man i ' m hoping to finish off my full set of armor that i can customize, mix and match pieces, and then what ’ s this?!? i see a guard / bandit over there wearing the piece i need! i ’ m going to go kill him and take it! ” it ’ s “ wow, that bandit is wearing cool armor, i wish i could take that. this is pretty lame in un - immersive well atleast i got the sparkly destiny loot crate that gives me an item with a purple name that decreases oxygen consumption by 1 % ” they didn ’ t make a new engine,\n",
      "\n",
      "Doc 5763\n",
      "Original: I've been a Bethesda fan since TES III and I'll summarize. I can't recommend this game in the current state it's in.\n",
      "Things that I think need to be improved:\n",
      "\n",
      "-Exploration.\n",
      "Currently you land on a point on a planet or moon and it randomly generates points of interest to visit.\n",
      "This means that every time you land you will always get more or less points of interest to visit regardless of the area.\n",
      "It seems very artificial.\n",
      "Also when you have visited several planets, the points of interest are always the same, a copy and paste exactly the same, the zones do not vary.\n",
      "The same reward chests in the same place, the same locked doors, the same npcs to loot, the same diaries, etc, everything is exactly the same.\n",
      "How could this be solved? By making the points of interest, labs, factories, etc, be procedurally generated just like the planets.\n",
      "They have a lot of resources and tools in the outpost editor.\n",
      "\n",
      "-The planet scrolling.\n",
      "Currently it works by clicking on an area of the planet and it loads a random area with boundaries.\n",
      "It would be nice if you could travel with the ship inside the planet and it would generate terrain procedurally to give the feeling that you can travel around the planet with its points of interest to visit.\n",
      "There could be problems with the landing with this method of displacement in real time, as for example that there are rocks on the surface,\n",
      "simple, like in the outpost, the rocks are eliminated to leave space to the ship to land. In this case it would be the same.\n",
      "\n",
      "-Resource extraction.\n",
      "It would be nice that the mass extraction of resources would serve for something, because currently as far as I have seen it serves to get a few credits and that's it.\n",
      "These credits are easily obtained by exploring points of interest or selling objects, the work of creating commercial or industrial mineral extraction posts is not satisfactorily rewarded.\n",
      "\n",
      "-Crafting and item traits.\n",
      "Currently weapons and armor in Starfield are found randomly and come with random traits, some more useful and others less.\n",
      "That makes you store low level weapons and armor because they have unusual, epic or legendary traits but end up not being useful because of the low level of the weapon.\n",
      "Something interesting would be to be able to research the traits of weapons, helmets, spacesuits, outfits and backpacks to learn their effects and apply them in the weapons you want at a cost, of unusual, rare, exotic, and unique items according to the rarity of the trait of the object.\n",
      "The rarer the trait of the item, the more difficult it will be to obtain the materials. In addition to being able to create weapons and armor on your workbench.\n",
      "\n",
      "-Degradation of weapons, helmets, space suits, backpacks and attire.\n",
      "Currently the mentioned items are unbreakable and as a general rule, you will always play with the equipment that has the best stats.\n",
      "This is boring. It would be good to establish a system to degrade them like Fallout 76 or TES III. \n",
      "This would allow the use of different weapons and equipment, and would also give sense to the automated extraction of resources from the posts.\n",
      "You would need to get resources periodically to repair equipment.\n",
      "\n",
      "-interface or ui\n",
      "Currently when you click on follow project or post object a magnifying glass appears marking the materials that are needed and nothing else.\n",
      "When you click on follow several projects you can't see anywhere in the interface which projects you are following.\n",
      "When you accumulate several projects and objects to track, it is impossible to remember which projects or objects you are following.\n",
      "This could be improved with a window that shows the projects or craftable objects that you are currently tracking.\n",
      "Also it is not clearly explained anywhere what effects the abilities of the companions have. Maybe hovering over a companion skill in the endowment menu, explaining what it is, would solve this.\n",
      "\n",
      "\n",
      "I hope they improve all this and add much more. At the moment I can't recommend this game to anyone, Sorry :(\n",
      "Split: the surface, simple, like in the outpost, the rocks are eliminated to leave space to the ship to land. in this case it would be the would be nice that the mass extraction of resources would serve for something, because currently as far as i have seen it serves to get a few credits and that ' s credits are easily obtained by exploring points of interest or selling objects, the work of creating commercial or industrial mineral extraction posts is not satisfactorily and item weapons and armor in starfield are found randomly and come with random traits, some more useful and others makes you store low level weapons and armor because they have unusual, epic or legendary traits but end up not being useful because of the low level of the interesting would be to be able to research the traits of weapons, helmets, spacesuits, outfits and backpacks to learn their effects and apply them in the weapons you want at a cost, of unusual, rare, exotic, and unique items according to the rarity of the trait of the rarer the trait of the item, the more difficult it will be to obtain the materials. in addition to being able to create weapons and armor on your of weapons, helmets, space suits, backpacks and the mentioned items are unbreakable and\n",
      "\n",
      "Topic 9:\n",
      "Doc 52474\n",
      "Original: Fast Travel Simulator.Choosing not to Fast travel everywhere is just a waste of time, as nothing ever happens when \"mini fast traveling\" through space with your ship. All you do is teleporting from one mostly empty, invisible box to another. After doing this for 5 hours you just dont do it anymore and fast travel everywhere as space flight in this game is the most boring shit I ve ever seen.\n",
      "\n",
      "Spent 3 hours designing a ship? Cool. Shame it's barely used in the game.\n",
      "Stealth is literally non existent.\n",
      "To be fair, most of the quests are pretty good. Unfortunately it feels like playing a game on rails as opposed to a true RPG.\n",
      "\n",
      "This is basically the game:\n",
      "\n",
      "Talk to NPC -> TAB + R + X -> Talk to NPC / interact with quest objective -> TAB + R + X -> Talk to NPC / interact with quest objective -> TAB + R + X -> Talk to NPC / interact with quest objective -> TAB + R + X -> Talk to NPC / interact with quest objective -> TAB + R + X -> Talk to NPC / interact with quest objective -> TAB + R + X -> Talk to NPC / interact with quest objective -> TAB + R + X -> Talk to NPC / interact with quest objective -> TAB + R + X -> Talk to NPC / interact with quest objective -> TAB + R + X -> Talk to NPC / interact with quest objective -> TAB + R + X -> Talk to NPC / interact with quest objective -> TAB + R + X -> Talk to NPC / interact with quest objective -> TAB + R + X -> Talk to NPC / interact with quest objective -> TAB + R + X -> Talk to NPC / interact with quest objective -> TAB + R + X -> Talk to NPC / interact with quest objective -> TAB + R + X -> Talk to NPC / interact with quest objective -> TAB + R + X -> Talk to NPC / interact with quest objective -> TAB + R + X -> Talk to NPC / interact with quest objective -> TAB + R + X -> Talk to NPC / interact with quest objective -> TAB + R + X -> Talk to NPC / interact with quest objective -> TAB + R + X -> Talk to NPC / interact with quest objective -> TAB + R + X -> Talk to NPC / interact with quest objective -> TAB + R + X -> Talk to NPC / interact with quest objective -> TAB + R + X -> Talk to NPC / interact with quest objective -> TAB + R + X -> Talk to NPC / interact with quest objective -> TAB + R + X -> Talk to NPC / interact with quest objective -> TAB + R + X -> Talk to NPC / interact with quest objective -> TAB + R + X -> Talk to NPC / interact with quest objective -> TAB + R + X -> Talk to NPC / interact with quest objective -> TAB + R + X -> Talk to NPC / interact with quest objective -> TAB + R + X -> Talk to NPC / interact with quest objective -> TAB + R + X -> Talk to NPC / interact with quest objective -> TAB + R + X -> Talk to NPC / interact with quest objective -> TAB + R + X -> Talk to NPC / interact with quest objective -> TAB + R + X -> Talk to NPC / interact with quest objective -> TAB + R + X -> Talk to NPC / interact with quest objective -> TAB + R + X -> Talk to NPC / interact with quest objective -> TAB + R + X -> Talk to NPC / interact with quest objective -> TAB + R + X -> Talk to NPC / interact with quest objective -> TAB + R + X -> Talk to NPC / interact with quest objective -> TAB + R + X -> Talk to NPC / interact with quest objective -> TAB + R + X -> Talk to NPC / interact with quest objective -> TAB + R + X -> Talk to NPC / interact with quest objective -> TAB + R + X -> Talk to NPC / interact with quest objective -> TAB + R + X -> Talk to NPC / interact with quest objective -> TAB + R + X -> Talk to NPC / interact with quest objective -> TAB + R + X -> Talk to NPC / interact with quest objective -> TAB + R + X -> Talk to NPC / interact with quest objective -> TAB + R + X -> Talk to NPC / interact with quest objective -> TAB + R + X -> Talk to NPC / interact with quest objective -> TAB + R + X -> Talk to NPC / interact with quest objective -> TAB + R + X -> Talk to NPC / interact with quest objective -> TAB + R + X -> Talk to NPC / interact with quest objective -> TAB + R + X -> Talk to NPC / interact with quest objective -> TAB + R + X -> Talk to NPC / interact with quest objective -> TAB + R + X -> Talk to NPC / interact with quest objective -> TAB + R + X -> Talk to NPC / interact with quest objective -> TAB + R + X -> Talk to NPC / interact with quest objective -> TAB + R + X -> Talk to NPC / interact with quest objective -> TAB + R + X -> Talk to NPC / interact with quest objective -> TAB + R + X -> Talk to NPC / interact with quest objective -> TAB + R + X -> Talk to NPC / interact with quest objective -> TAB + R + X -> Talk to NPC / interact with quest objective -> TAB + R + X -> Talk to NPC / interact with quest objective -> TAB + R + X -> Talk to NPC / interact with quest objective -> TAB + R + X -> Talk to NPC / interact with quest objective -> TAB + R + X -> Talk to NPC / interact with quest objective -> Talk to NPC / interact with quest objective -> TAB + R + X -> Talk to NPC / interact with quest objective -> TAB + R + X -> Talk to NPC / interact with quest objective -> TAB + R + X -> Talk to NPC / interact with quest objective -> TAB + R + X -> Talk to NPC / interact with quest objective -> TAB + R + X -> Talk to NPC / interact with quest objective -> TAB + R + X -> Talk to NPC / interact with quest objective -> TAB + R + X -> Talk to NPC / interact with quest objective -> TAB + R + X -> Talk to NPC / interact with quest objective -> TAB + R + X -> Talk to NPC / interact with quest objective -> TAB + R + X -> Talk to NPC / interact with quest objective -> TAB + R + X -> Talk to NPC / interact with quest objective -> TAB + R + X -> Talk to NPC / interact with quest objective -> TAB + R + X -> Talk to NPC / interact with quest objective -> TAB + R + X -> Talk to NPC / interact with quest objective -> TAB + R + X -> Talk to NPC / interact with quest objective -> TAB + R + X -> Talk to NPC / interact with quest objective -> TAB + R + X -> Talk to NPC / interact with quest objective -> TAB + R + X -> Talk to NPC / interact with quest objective -> TAB + R + X -> Talk to NPC / interact with quest objective -> TAB + R + X -> Talk to NPC / interact with quest objective -> TAB + R + X -> Talk to NPC / interact with quest objective -> TAB + R + X -> Talk to NPC / interact with quest objective -> TAB + R + X -> Talk to NPC / interact with quest objective -> TAB + R + X -> Talk to NPC / interact with quest objective -> TAB + R + X -> Talk to NPC / interact with quest objective -> TAB + R + X -> Talk to NPC / interact with quest objective -> TAB + R + X -> Talk to NPC / interact with quest objective -> TAB + R + X -> Talk to NPC / interact with quest objective -> TAB + R + X -> Talk to NPC / interact with quest objective -> TAB + R + X -> Talk to NPC / interact with quest objective -> TAB + R + X -> Talk to NPC / interact with quest objective -> TAB + R + X -> Talk to NPC / interact with quest objective -> TAB + R + X -> Talk to NPC / interact with quest objective -> TAB + R + X -> Talk to NPC / interact with quest objective -> TAB + R + X -> Talk to NPC / interact with quest objective -> TAB + R + X -> Talk to NPC / interact with quest objective -> TAB + R + X -> Talk to NPC / interact with quest objective -> TAB + R + X -> Talk to NPC / interact with quest objective -> TAB + R + X -> Talk to NPC / interact with quest objective -> TAB + R + X -> Talk to NPC / interact with quest objective -> TAB + R + X -> Talk to NPC / interact with quest objective -> TAB + R + X -> Talk to NPC / interact with quest objective -> TAB + R + X -> Talk to NPC / interact with quest objective -> TAB + R + X -> Talk to NPC / interact with quest objective -> TAB + R + X -> Talk to NPC / interact with quest objective -> TAB + R + X -> Talk to NPC / interact with quest objective -> TAB + R + X -> Talk to NPC / interact with quest objective -> TAB + R + X -> Talk to NPC / interact with quest objective -> TAB + R + X -> Talk to NPC / interact with quest objective -> Talk to NPC / interact with quest objective -> TAB + R + X -> Talk to NPC / interact with quest objective -> ...\n",
      "Split: x - talk to npc / interact with quest objective - tab + r + x - talk to npc / interact with quest objective - tab + r + x - talk to npc / interact with quest objective - tab + r + x - talk to npc / interact with quest objective - tab + r + x - talk to npc / interact with quest objective - tab + r + x - talk to npc / interact with quest objective - tab + r + x - talk to npc / interact with quest objective - tab + r + x - talk to npc / interact with quest objective - tab + r + x - talk to npc / interact with quest objective - tab + r + x - talk to npc / interact with quest objective - tab + r + x - talk to npc / interact with quest objective - tab + r + x - talk to npc / interact with quest objective - tab + r + x - talk to npc / interact with quest objective - tab + r + x - talk to npc / interact with quest objective - tab + r + x - talk to npc / interact with quest objective - tab + r + x - talk to npc / interact with quest objective - tab +\n",
      "\n",
      "Doc 52474\n",
      "Original: Fast Travel Simulator.Choosing not to Fast travel everywhere is just a waste of time, as nothing ever happens when \"mini fast traveling\" through space with your ship. All you do is teleporting from one mostly empty, invisible box to another. After doing this for 5 hours you just dont do it anymore and fast travel everywhere as space flight in this game is the most boring shit I ve ever seen.\n",
      "\n",
      "Spent 3 hours designing a ship? Cool. Shame it's barely used in the game.\n",
      "Stealth is literally non existent.\n",
      "To be fair, most of the quests are pretty good. Unfortunately it feels like playing a game on rails as opposed to a true RPG.\n",
      "\n",
      "This is basically the game:\n",
      "\n",
      "Talk to NPC -> TAB + R + X -> Talk to NPC / interact with quest objective -> TAB + R + X -> Talk to NPC / interact with quest objective -> TAB + R + X -> Talk to NPC / interact with quest objective -> TAB + R + X -> Talk to NPC / interact with quest objective -> TAB + R + X -> Talk to NPC / interact with quest objective -> TAB + R + X -> Talk to NPC / interact with quest objective -> TAB + R + X -> Talk to NPC / interact with quest objective -> TAB + R + X -> Talk to NPC / interact with quest objective -> TAB + R + X -> Talk to NPC / interact with quest objective -> TAB + R + X -> Talk to NPC / interact with quest objective -> TAB + R + X -> Talk to NPC / interact with quest objective -> TAB + R + X -> Talk to NPC / interact with quest objective -> TAB + R + X -> Talk to NPC / interact with quest objective -> TAB + R + X -> Talk to NPC / interact with quest objective -> TAB + R + X -> Talk to NPC / interact with quest objective -> TAB + R + X -> Talk to NPC / interact with quest objective -> TAB + R + X -> Talk to NPC / interact with quest objective -> TAB + R + X -> Talk to NPC / interact with quest objective -> TAB + R + X -> Talk to NPC / interact with quest objective -> TAB + R + X -> Talk to NPC / interact with quest objective -> TAB + R + X -> Talk to NPC / interact with quest objective -> TAB + R + X -> Talk to NPC / interact with quest objective -> TAB + R + X -> Talk to NPC / interact with quest objective -> TAB + R + X -> Talk to NPC / interact with quest objective -> TAB + R + X -> Talk to NPC / interact with quest objective -> TAB + R + X -> Talk to NPC / interact with quest objective -> TAB + R + X -> Talk to NPC / interact with quest objective -> TAB + R + X -> Talk to NPC / interact with quest objective -> TAB + R + X -> Talk to NPC / interact with quest objective -> TAB + R + X -> Talk to NPC / interact with quest objective -> TAB + R + X -> Talk to NPC / interact with quest objective -> TAB + R + X -> Talk to NPC / interact with quest objective -> TAB + R + X -> Talk to NPC / interact with quest objective -> TAB + R + X -> Talk to NPC / interact with quest objective -> TAB + R + X -> Talk to NPC / interact with quest objective -> TAB + R + X -> Talk to NPC / interact with quest objective -> TAB + R + X -> Talk to NPC / interact with quest objective -> TAB + R + X -> Talk to NPC / interact with quest objective -> TAB + R + X -> Talk to NPC / interact with quest objective -> TAB + R + X -> Talk to NPC / interact with quest objective -> TAB + R + X -> Talk to NPC / interact with quest objective -> TAB + R + X -> Talk to NPC / interact with quest objective -> TAB + R + X -> Talk to NPC / interact with quest objective -> TAB + R + X -> Talk to NPC / interact with quest objective -> TAB + R + X -> Talk to NPC / interact with quest objective -> TAB + R + X -> Talk to NPC / interact with quest objective -> TAB + R + X -> Talk to NPC / interact with quest objective -> TAB + R + X -> Talk to NPC / interact with quest objective -> TAB + R + X -> Talk to NPC / interact with quest objective -> TAB + R + X -> Talk to NPC / interact with quest objective -> TAB + R + X -> Talk to NPC / interact with quest objective -> TAB + R + X -> Talk to NPC / interact with quest objective -> TAB + R + X -> Talk to NPC / interact with quest objective -> TAB + R + X -> Talk to NPC / interact with quest objective -> TAB + R + X -> Talk to NPC / interact with quest objective -> TAB + R + X -> Talk to NPC / interact with quest objective -> TAB + R + X -> Talk to NPC / interact with quest objective -> TAB + R + X -> Talk to NPC / interact with quest objective -> TAB + R + X -> Talk to NPC / interact with quest objective -> TAB + R + X -> Talk to NPC / interact with quest objective -> TAB + R + X -> Talk to NPC / interact with quest objective -> TAB + R + X -> Talk to NPC / interact with quest objective -> TAB + R + X -> Talk to NPC / interact with quest objective -> TAB + R + X -> Talk to NPC / interact with quest objective -> TAB + R + X -> Talk to NPC / interact with quest objective -> TAB + R + X -> Talk to NPC / interact with quest objective -> Talk to NPC / interact with quest objective -> TAB + R + X -> Talk to NPC / interact with quest objective -> TAB + R + X -> Talk to NPC / interact with quest objective -> TAB + R + X -> Talk to NPC / interact with quest objective -> TAB + R + X -> Talk to NPC / interact with quest objective -> TAB + R + X -> Talk to NPC / interact with quest objective -> TAB + R + X -> Talk to NPC / interact with quest objective -> TAB + R + X -> Talk to NPC / interact with quest objective -> TAB + R + X -> Talk to NPC / interact with quest objective -> TAB + R + X -> Talk to NPC / interact with quest objective -> TAB + R + X -> Talk to NPC / interact with quest objective -> TAB + R + X -> Talk to NPC / interact with quest objective -> TAB + R + X -> Talk to NPC / interact with quest objective -> TAB + R + X -> Talk to NPC / interact with quest objective -> TAB + R + X -> Talk to NPC / interact with quest objective -> TAB + R + X -> Talk to NPC / interact with quest objective -> TAB + R + X -> Talk to NPC / interact with quest objective -> TAB + R + X -> Talk to NPC / interact with quest objective -> TAB + R + X -> Talk to NPC / interact with quest objective -> TAB + R + X -> Talk to NPC / interact with quest objective -> TAB + R + X -> Talk to NPC / interact with quest objective -> TAB + R + X -> Talk to NPC / interact with quest objective -> TAB + R + X -> Talk to NPC / interact with quest objective -> TAB + R + X -> Talk to NPC / interact with quest objective -> TAB + R + X -> Talk to NPC / interact with quest objective -> TAB + R + X -> Talk to NPC / interact with quest objective -> TAB + R + X -> Talk to NPC / interact with quest objective -> TAB + R + X -> Talk to NPC / interact with quest objective -> TAB + R + X -> Talk to NPC / interact with quest objective -> TAB + R + X -> Talk to NPC / interact with quest objective -> TAB + R + X -> Talk to NPC / interact with quest objective -> TAB + R + X -> Talk to NPC / interact with quest objective -> TAB + R + X -> Talk to NPC / interact with quest objective -> TAB + R + X -> Talk to NPC / interact with quest objective -> TAB + R + X -> Talk to NPC / interact with quest objective -> TAB + R + X -> Talk to NPC / interact with quest objective -> TAB + R + X -> Talk to NPC / interact with quest objective -> TAB + R + X -> Talk to NPC / interact with quest objective -> TAB + R + X -> Talk to NPC / interact with quest objective -> TAB + R + X -> Talk to NPC / interact with quest objective -> TAB + R + X -> Talk to NPC / interact with quest objective -> TAB + R + X -> Talk to NPC / interact with quest objective -> TAB + R + X -> Talk to NPC / interact with quest objective -> TAB + R + X -> Talk to NPC / interact with quest objective -> TAB + R + X -> Talk to NPC / interact with quest objective -> TAB + R + X -> Talk to NPC / interact with quest objective -> TAB + R + X -> Talk to NPC / interact with quest objective -> TAB + R + X -> Talk to NPC / interact with quest objective -> TAB + R + X -> Talk to NPC / interact with quest objective -> TAB + R + X -> Talk to NPC / interact with quest objective -> Talk to NPC / interact with quest objective -> TAB + R + X -> Talk to NPC / interact with quest objective -> ...\n",
      "Split: npc / interact with quest objective - tab + r + x - talk to npc / interact with quest objective - tab + r + x - talk to npc / interact with quest objective - tab + r + x - talk to npc / interact with quest objective - tab + r + x - talk to npc / interact with quest objective - tab + r + x - talk to npc / interact with quest objective - tab + r + x - talk to npc / interact with quest objective - tab + r + x - talk to npc / interact with quest objective - tab + r + x - talk to npc / interact with quest objective - tab + r + x - talk to npc / interact with quest objective - tab + r + x - talk to npc / interact with quest objective - tab + r + x - talk to npc / interact with quest objective - tab + r + x - talk to npc / interact with quest objective - tab + r + x - talk to npc / interact with quest objective - tab + r + x - talk to npc / interact with quest objective - tab + r + x - talk to npc / interact with quest objective - tab + r + x -\n",
      "\n",
      "Doc 5730\n",
      "Original: We've been hearing for years that Starfield is Bethesda's passion project, a game that they've been wanting to make even before Morrowind came out.\n",
      "\n",
      "If this game is Bethesda's passion project, then they've lost their passion.\n",
      "\n",
      "Plenty of reviewers are dragging Starfield for its technical issues. While it's true that Bethesda should not get a free pass on that stuff just because \"lol, they're Bethesda\", I was prepared to accept a certain level of jank if it meant experiencing an inspired world. What really kills this game is that the setting itself is deeply, relentlessly boring. It's a haphazard collage of space frontier tropes. And you know what? That could have been fine. Tropes can be effective when wielded in service of a strong creative vision. But here, there is no greater vision. There is nothing, and I mean *nothing*, to this setting beyond the tropes that serve as its foundation.\n",
      "\n",
      "For our major powers, we have a vaguely Western-flavored federal government, a vaguely Texan-flavored frontier alliance, a vaguely Eastern-flavored corpocracy, some scrappy pirates, and some mysterious religious zealots. There is nothing meaningful to know about any of these societies beyond whatever pictures of them you just conjured in your head. If you have an ounce of creativity, the pictures in your head are probably more detailed and compelling than the crap that made it into the game. It almost seems like these factions have been consciously sanitized, as if someone went through the first draft and removed any cultural or aesthetic identifiers beyond the baseline of \"Hey, this frontier guy wears a cowboy hat, likes guns, and has a bit of a stubborn streak!\". You'd think that the writers would be forced to come up with some creative quirks just to explain how these people adapted to their alien environments, but even that minimal level of flavor exceeds the bounds of Bethesda's vision.\n",
      "\n",
      "This aggressive blandness persists at every scale. We have planets that run the gamut of environmental conditions, but none of them impose meaningful gameplay changes (aside from gravity's effect on jump height, which is basically the lowest hanging fruit possible), inspire variations on the ten or so prefabricated structures that we can encounter, or even have much influence on which of the handful of flora, fauna, and feature assets can populate the game's tragically samey landscapes. One of the foundational aspects of space exploration as a genre is exploring how extreme conditions shape strategies and societies. Starfield cares so little for this relationship that it borders on immersion-breaking. I expected that Starfield would rely on repeatable assets to some extent, and that exploration would lose its shine once you've exhausted the list of things to encounter. What I didn't expect was just how short that list would be, or how sloppily curated it would be in the context of the game's environments.\n",
      "\n",
      "And then there's the writing. Oh goodness, the writing. The best thing I can say is that, on a micro scale, it consists of grammatically correct sentences which could plausibly be uttered by a sane human being. Beyond that, it's shot through with the same listlessness that permeates every other aspect of the game. I'll present two case studies.\n",
      "\n",
      "I came upon a sidequest where an unknown vessel was orbiting a resort planet. Investigation reveals it to be a generation ship sent from Old Earth, back before humanity developed FTL travel. They don't take it well when you explain that their new home has already been claimed by Space Epcot. The captain asks you, some random hobo who just happened across them, to negotiate with the corpos on their behalf. They send along no observers or advocates, and don't even think to request a direct line of communication. The corpos offer you three options: blow up the ship and kill the colonists, coerce them into indentured servitude, or pay out of your own pocket to install an FTL drive aboard their ship so they can find another planet. There are no other options to advocate for the colonists. At no point does either party express any sort of cultural interest, or even basic curiosity about the other. There are no potential interactions with other factions or alternate arrangements for compensation, despite it being well-established that everything to do with Old Earth (down to the meanest paperweight) is treated as an invaluable piece of vintage history. The situation has the setup for a potentially game-changing historical event, and the most interesting thing Bethesda can squeeze from it is \"Corpos bad, are you willing to pay to feel better than them?\" If a 15th century carrack made landfall on the shores of Florida carrying the long lost descendents of Ferdinand Magellan's twin brother, I don't think Disney World's first reaction would be \"♥♥♥♥, they want our land, pump 'em full of lead!\"\n",
      "\n",
      "Second case study. There's a plotline where you infiltrate the big pirate faction on behalf of the feds, right under the nose of their cunning leader and his paranoid, security-obsessed XO. So how do you stay in contact with your handlers during this delicate deep cover op? By PHYSICALLY FLYING FROM THE PIRATE BASE TO THE FEDERAL FLAGSHIP every time you complete a mission. Holy hell, are dead drops not a thing in this universe? Are the feds actively trying to give you away? During these OpSec-destroying excursions, you'll have the opportunity to turn in supplementary evidence on the pirates' many crimes. This evidence comes in the form of incriminating tapes that are just laying around in the general vicinity of the perpetrators. None of them, including the canny, wary pirate leaders, will raise objections to you stuffing said tapes into your knapsack in full view of everyone. While turning in these tapes, you'll speak to the federal XO, who repeatedly inquires as to your impressions of the pirate leader. You can either lie and say he's a nosepicking vagrant, in which case you'll be praised for your patriotism, or you can accurately inform her that he's an intelligent and charismatic figure who poses a real threat, in which case she'll chew you out for the betrayal of respecting the enemy. The questline sustains this level of cartoonishness right up to the end, where the defeated, betrayed pirate leader tells your narc ass that he's proud of you because deep down, you're the greatest pirate of all. A generous reading could paint this horrorshow as a satire of Hoover's CIA or something, but I'm not feeling very generous at the moment.\n",
      "\n",
      "The common thread between these two cases is apathy. These scenarios have the potential to be so interesting and memorable, and the writers probably have the chops to deliver. But instead, they just... settle for mediocrity. They're writing with the expectation that they won't be held to a high standard. Situations don't have to make sense, commentary doesn't need to be thoughtful, narrative potential doesn't yearn to be realized. Dialogue is just there to point the way towards more gameplay, so write a few words and move on to the next contrivance. More and more, I feel like Bethesda views their games as theme parks; they're not writing a story, they're building a bunch of rides and doing the minimum necessary to shuffle people from one to the other.\n",
      "\n",
      "And now, the rides aren't even fun. Starfield uses humdrum, recycled assets to simulate a humdrum, recycled setting. None of its components do anything to support each other: not the worldbuilding, not the environments, not the gameplay, not the writing. Every part of this game talks past every other part, and if you care to listen, you'll find that they're all just rambling drunkenly about the weather. The result is a joyless, colorless mess memorable only for the lengths it goes to insult its players. Bethesda can do better than this. But they probably won't, because they don't think they have to, and apparently professional shame isn't enough of a motivator for them.\n",
      "Split: would be \" ♥♥♥♥, they want our land, pump ' em full of lead! \" second case study. there ' s a plotline where you infiltrate the big pirate faction on behalf of the feds, right under the nose of their cunning leader and his paranoid, security - obsessed xo. so how do you stay in contact with your handlers during this delicate deep cover op? by physically flying from the pirate base to the federal flagship every time you complete a mission. holy hell, are dead drops not a thing in this universe? are the feds actively trying to give you away? during these opsec - destroying excursions, you ' ll have the opportunity to turn in supplementary evidence on the pirates ' many crimes. this evidence comes in the form of incriminating tapes that are just laying around in the general vicinity of the perpetrators. none of them, including the canny, wary pirate leaders, will raise objections to you stuffing said tapes into your knapsack in full view of everyone. while turning in these tapes, you ' ll speak to the federal xo, who repeatedly inquires as to your impressions of the pirate leader. you can either lie and say he ' s a nosepicking vagrant, in which\n",
      "\n",
      "Doc 8520\n",
      "Original: We've been hearing for years that Starfield is Bethesda's passion project, a game that they've been wanting to make even before Morrowind came out.\n",
      "\n",
      "If this game is Bethesda's passion project, then they've lost their passion.\n",
      "\n",
      "Plenty of reviewers are dragging Starfield for its technical issues. While it's true that Bethesda should not get a free pass on that stuff just because \"lol, they're Bethesda\", I was prepared to accept a certain level of jank if it meant experiencing an inspired world. What really kills this game is that the setting itself is deeply, relentlessly boring. It's a haphazard collage of space frontier tropes. And you know what? That could have been fine. Tropes can be effective when wielded in service of a strong creative vision. But here, there is no greater vision. There is nothing, and I mean *nothing*, to this setting beyond the tropes that serve as its foundation. \n",
      "\n",
      "For our major powers, we have a vaguely Western-flavored federal government, a vaguely Texan-flavored frontier alliance, a vaguely Eastern-flavored corpocracy, some scrappy pirates, and some mysterious religious zealots. There is nothing meaningful to know about any of these societies beyond whatever pictures of them you just conjured in your head. If you have an ounce of creativity, the pictures in your head are probably more detailed and compelling than the crap that made it into the game. It almost seems like these factions have been consciously sanitized, as if someone went through the first draft and removed any cultural or aesthetic identifiers beyond the baseline of \"Hey, this frontier guy wears a cowboy hat, likes guns, and has a bit of a stubborn streak!\". You'd think that the writers would be forced to come up with some creative quirks just to explain how these people adapted to their alien environments, but even that minimal level of flavor exceeds the bounds of Bethesda's vision. \n",
      "\n",
      "This aggressive blandness persists at every scale. We have planets that run the gamut of environmental conditions, but none of them impose meaningful gameplay changes (aside from gravity's effect on jump height, which is basically the lowest hanging fruit possible), inspire variations on the ten or so prefabricated structures that we can encounter, or even have much influence on which of the handful of flora, fauna, and feature assets can populate the game's tragically samey landscapes. One of the foundational aspects of space exploration as a genre is exploring how extreme conditions shape strategies and societies. Starfield cares so little for this relationship that it borders on immersion-breaking. I expected that Starfield would rely on repeatable assets to some extent, and that exploration would lose its shine once you've exhausted the list of things to encounter. What I didn't expect was just how short that list would be, or how sloppily curated it would be in the context of the game's environments. \n",
      "\n",
      "And then there's the writing. Oh goodness, the writing. The best thing I can say is that, on a micro scale, it consists of grammatically correct sentences which could plausibly be uttered by a sane human being. Beyond that, it's shot through with the same listlessness that permeates every other aspect of the game. I'll present two case studies.\n",
      "\n",
      "I came upon a sidequest where an unknown vessel was orbiting a resort planet. Investigation reveals it to be a generation ship sent from Old Earth, back before humanity developed FTL travel. They don't take it well when you explain that their new home has already been claimed by Space Epcot. The captain asks you, some random hobo who just happened across them, to negotiate with the corpos on their behalf. They send along no observers or advocates, and don't even think to request a direct line of communication. The corpos offer you three options: blow up the ship and kill the colonists, coerce them into indentured servitude, or pay out of your own pocket to install an FTL drive aboard their ship so they can find another planet. There are no other options to advocate for the colonists. At no point does either party express any sort of cultural interest, or even basic curiosity about the other. There are no potential interactions with other factions or alternate arrangements for compensation, despite it being well-established that everything to do with Old Earth (down to the meanest paperweight) is treated as an invaluable piece of vintage history. The situation has the setup for a potentially game-changing historical event, and the most interesting thing Bethesda can squeeze from it is \"Corpos bad, are you willing to pay to feel better than them?\" If a 15th century carrack made landfall on the shores of Florida carrying the long lost descendents of Ferdinand Magellan's twin brother, I don't think Disney World's first reaction would be \"Shit, they want our land, pump 'em full of lead!\"\n",
      "\n",
      "Second case study. There's a plotline where you infiltrate the big pirate faction on behalf of the feds, right under the nose of their cunning leader and his paranoid, security-obsessed XO. So how do you stay in contact with your handlers during this delicate deep cover op? By PHYSICALLY FLYING FROM THE PIRATE BASE TO THE FEDERAL FLAGSHIP every time you complete a mission. Holy hell, are dead drops not a thing in this universe? Are the feds actively trying to give you away? During these OpSec-destroying excursions, you'll have the opportunity to turn in supplementary evidence on the pirates' many crimes. This evidence comes in the form of incriminating tapes that are just laying around in the general vicinity of the perpetrators. None of them, including the canny, wary pirate leaders, will raise objections to you stuffing said tapes into your knapsack in full view of everyone. While turning in these tapes, you'll speak to the federal XO, who repeatedly inquires as to your impressions of the pirate leader. You can either lie and say he's a nosepicking vagrant, in which case you'll be praised for your patriotism, or you can accurately inform her that he's an intelligent and charismatic figure who poses a real threat, in which case she'll chew you out for the betrayal of respecting the enemy. The questline sustains this level of cartoonishness right up to the end, where the defeated, betrayed pirate leader tells your narc ass that he's proud of you because deep down, you're the greatest pirate of all. A generous reading could paint this horrorshow as a satire of Hoover's CIA or something, but I'm not feeling very generous at the moment. \n",
      "\n",
      "The common thread between these two cases is apathy. These scenarios have the potential to be so interesting and memorable, and the writers probably have the chops to deliver. But instead, they just... settle for mediocrity. They're writing with the expectation that they won't be held to a high standard. Situations don't have to make sense, commentary doesn't need to be thoughtful, narrative potential doesn't yearn to be realized. Dialogue is just there to point the way towards more gameplay, so write a few words and move on to the next contrivance. More and more, I feel like Bethesda views their games as theme parks; they're not writing a story, they're building a bunch of rides and doing the minimum necessary to shuffle people from one to the other.\n",
      "\n",
      "And now, the rides aren't even fun. Starfield uses humdrum, recycled assets to simulate a humdrum, recycled setting. None of its components do anything to support each other: not the worldbuilding, not the environments, not the gameplay, not the writing. Every part of this game talks past every other part, and if you care to listen, you'll find that they're all just rambling drunkenly about the weather. The result is a joyless, colorless mess memorable only for the lengths it goes to insult its players. Bethesda can do better than this. But they probably won't, because they don't think they have to, and apparently professional shame isn't enough of a motivator for them.\n",
      "Split: ' t think disney world ' s first reaction would be \" shit, they want our land, pump ' em full of lead! \" second case study. there ' s a plotline where you infiltrate the big pirate faction on behalf of the feds, right under the nose of their cunning leader and his paranoid, security - obsessed xo. so how do you stay in contact with your handlers during this delicate deep cover op? by physically flying from the pirate base to the federal flagship every time you complete a mission. holy hell, are dead drops not a thing in this universe? are the feds actively trying to give you away? during these opsec - destroying excursions, you ' ll have the opportunity to turn in supplementary evidence on the pirates ' many crimes. this evidence comes in the form of incriminating tapes that are just laying around in the general vicinity of the perpetrators. none of them, including the canny, wary pirate leaders, will raise objections to you stuffing said tapes into your knapsack in full view of everyone. while turning in these tapes, you ' ll speak to the federal xo, who repeatedly inquires as to your impressions of the pirate leader. you can either lie and say he ' s a nosepic\n",
      "\n",
      "Doc 11038\n",
      "Original: Runs worse now than when first released.  Constant crashes to desktop. Constant graphical bugs. Played about 45 min and had 4 crashes.  No other game (including modded Skyrim) crashes on my gaming pc.\n",
      "\n",
      "Edit: Decided to come back and flesh out the review and give some specific reasons for the bad review.  I can tell that some effort was put into the game in some places, but for the most part this is a really bad copy of skyrim/Fallout 4 pasted into space.  They have the same bugs that took the modding community years to get fixed in the previous games (and seriously, the modders fixed all those bugs in the past games so why are they repeated in this game?)\n",
      "\n",
      "My computer meets the minimal recommendations for this game.  I have a GTX 1070 TI, I have a 12th Gen i7 with DX12.  I have 32 GB of Ram. I just got done re-installing windows 10 fresh and updating it and all drivers.  I have an M2 SSD for my OS, and the game itself is installed on a separate regular SSD.  I play the game in 1080P 60 hz.\n",
      "\n",
      "Forced exit save and resume from that save is a joke.   First off, I never exit the game.  I play it while it crashes 4 or 5 times in 30 min, then get frustrated.  Quick save and manual saves are the only way to make any progress.  If they fix the crashes, then we are still left with forced exit save.  Bethesda game saves ALWAYS corrupt over time so that eventually you'll have to start a new game again anyway, but their auto-save system has been broken since oldrim  (skyrim before updated to 64 bit).\n",
      "\n",
      "Stores still have a very small currency limit that does not refresh often enough nor is that small amount of available credits a reasonable amount.  In skyrim or Fallout 4 I could roll play that the stores inventory and currency on hand would be small.  But in a multiple-planet futuristic economy? No, just no. 5,000 credits.  That's it.  And who knows how long before they will refresh.  Its a ****ing starport in one of the biggest cities in the known galaxy.  5,000 credits.  These are not even physical objects, just digital currency.  How can your ATM run out of a digital currency?  Especially when you are THE TRADE AUTHORITY.  I mean I am still level 4 and I just finished my first go kill stuff to get credits/stuff run.  I get back to sell stuff and upgrade.....nope.  You are not allowed to sell your stuff.  Why? well we wanted to artificially slow down the pace of the game to make it FEEL bigger and to balance out our very unbalanced game.\n",
      "\n",
      "Next up? Dodge.  But wait you say, what dodge?  Their is no player dodge mechanic.  I know, but no one told the NPC's that.  The NPC's will charge at you and when they are they will dodge your bullets by moving to the side.  Most of the time this dodge will be to their right, or player's left.  All guns in the game are right handed guns, and most people on the planet IRL are right-handed.  Now why does that matter?  It is easier for a right handed person and gun to swing to the right.  There are multiple reasons for this: barrel rifling, weapon climb and specific weapon mechanics.  But also psychology.  It is harder for most people to get their minds to want to pull the weapon and or swing their bodies towards the left.\n",
      "\n",
      "Dodge issue continued: The player does not have a dodge mechanic and our movement speed is not the same as NPC's (whole other ball of wax).  So we can strafe (very slowly), or we can swing our weapon.  But the NPC's get a speed burst to the side when they dodge.  They strafe/dodge to the side while run right at you, and when they do it happens so fast that it is not possible with normal running/sprinting strafing/dodging mechanics.  Or at least the player cannot match this movement.  We cannot move the same way they are able to.\n",
      "\n",
      "Last issue with Dodge: Alien creatures have the EXACT same behavior as a Space Marine.  Hundreds of years of fighting humans have shaped our Marines to behave exactly the same as a space alien that spent millions of years readying itself for humanity's arrival.  Watch out, because they know what guns are and how to avoid fire.\n",
      "Split: are not allowed to sell your stuff. why? well we wanted to artificially slow down the pace of the game to make it feel bigger and to balance out our very unbalanced up? dodge. but wait you say, what dodge? their is no player dodge mechanic. i know, but no one told the npc ' s that. the npc ' s will charge at you and when they are they will dodge your bullets by moving to the side. most of the time this dodge will be to their right, or player ' s left. all guns in the game are right handed guns, and most people on the planet irl are right - handed. now why does that matter? it is easier for a right handed person and gun to swing to the right. there are multiple reasons for this : barrel rifling, weapon climb and specific weapon mechanics. but also psychology. it is harder for most people to get their minds to want to pull the weapon and or swing their bodies towards the issue continued : the player does not have a dodge mechanic and our movement speed is not the same as npc ' s ( whole other ball of wax ). so we can strafe ( very slowly ), or we can swing our weapon. but\n",
      "\n",
      "Doc 52474\n",
      "Original: Fast Travel Simulator.Choosing not to Fast travel everywhere is just a waste of time, as nothing ever happens when \"mini fast traveling\" through space with your ship. All you do is teleporting from one mostly empty, invisible box to another. After doing this for 5 hours you just dont do it anymore and fast travel everywhere as space flight in this game is the most boring shit I ve ever seen.\n",
      "\n",
      "Spent 3 hours designing a ship? Cool. Shame it's barely used in the game.\n",
      "Stealth is literally non existent.\n",
      "To be fair, most of the quests are pretty good. Unfortunately it feels like playing a game on rails as opposed to a true RPG.\n",
      "\n",
      "This is basically the game:\n",
      "\n",
      "Talk to NPC -> TAB + R + X -> Talk to NPC / interact with quest objective -> TAB + R + X -> Talk to NPC / interact with quest objective -> TAB + R + X -> Talk to NPC / interact with quest objective -> TAB + R + X -> Talk to NPC / interact with quest objective -> TAB + R + X -> Talk to NPC / interact with quest objective -> TAB + R + X -> Talk to NPC / interact with quest objective -> TAB + R + X -> Talk to NPC / interact with quest objective -> TAB + R + X -> Talk to NPC / interact with quest objective -> TAB + R + X -> Talk to NPC / interact with quest objective -> TAB + R + X -> Talk to NPC / interact with quest objective -> TAB + R + X -> Talk to NPC / interact with quest objective -> TAB + R + X -> Talk to NPC / interact with quest objective -> TAB + R + X -> Talk to NPC / interact with quest objective -> TAB + R + X -> Talk to NPC / interact with quest objective -> TAB + R + X -> Talk to NPC / interact with quest objective -> TAB + R + X -> Talk to NPC / interact with quest objective -> TAB + R + X -> Talk to NPC / interact with quest objective -> TAB + R + X -> Talk to NPC / interact with quest objective -> TAB + R + X -> Talk to NPC / interact with quest objective -> TAB + R + X -> Talk to NPC / interact with quest objective -> TAB + R + X -> Talk to NPC / interact with quest objective -> TAB + R + X -> Talk to NPC / interact with quest objective -> TAB + R + X -> Talk to NPC / interact with quest objective -> TAB + R + X -> Talk to NPC / interact with quest objective -> TAB + R + X -> Talk to NPC / interact with quest objective -> TAB + R + X -> Talk to NPC / interact with quest objective -> TAB + R + X -> Talk to NPC / interact with quest objective -> TAB + R + X -> Talk to NPC / interact with quest objective -> TAB + R + X -> Talk to NPC / interact with quest objective -> TAB + R + X -> Talk to NPC / interact with quest objective -> TAB + R + X -> Talk to NPC / interact with quest objective -> TAB + R + X -> Talk to NPC / interact with quest objective -> TAB + R + X -> Talk to NPC / interact with quest objective -> TAB + R + X -> Talk to NPC / interact with quest objective -> TAB + R + X -> Talk to NPC / interact with quest objective -> TAB + R + X -> Talk to NPC / interact with quest objective -> TAB + R + X -> Talk to NPC / interact with quest objective -> TAB + R + X -> Talk to NPC / interact with quest objective -> TAB + R + X -> Talk to NPC / interact with quest objective -> TAB + R + X -> Talk to NPC / interact with quest objective -> TAB + R + X -> Talk to NPC / interact with quest objective -> TAB + R + X -> Talk to NPC / interact with quest objective -> TAB + R + X -> Talk to NPC / interact with quest objective -> TAB + R + X -> Talk to NPC / interact with quest objective -> TAB + R + X -> Talk to NPC / interact with quest objective -> TAB + R + X -> Talk to NPC / interact with quest objective -> TAB + R + X -> Talk to NPC / interact with quest objective -> TAB + R + X -> Talk to NPC / interact with quest objective -> TAB + R + X -> Talk to NPC / interact with quest objective -> TAB + R + X -> Talk to NPC / interact with quest objective -> TAB + R + X -> Talk to NPC / interact with quest objective -> TAB + R + X -> Talk to NPC / interact with quest objective -> TAB + R + X -> Talk to NPC / interact with quest objective -> TAB + R + X -> Talk to NPC / interact with quest objective -> TAB + R + X -> Talk to NPC / interact with quest objective -> TAB + R + X -> Talk to NPC / interact with quest objective -> TAB + R + X -> Talk to NPC / interact with quest objective -> TAB + R + X -> Talk to NPC / interact with quest objective -> TAB + R + X -> Talk to NPC / interact with quest objective -> TAB + R + X -> Talk to NPC / interact with quest objective -> TAB + R + X -> Talk to NPC / interact with quest objective -> TAB + R + X -> Talk to NPC / interact with quest objective -> TAB + R + X -> Talk to NPC / interact with quest objective -> TAB + R + X -> Talk to NPC / interact with quest objective -> TAB + R + X -> Talk to NPC / interact with quest objective -> TAB + R + X -> Talk to NPC / interact with quest objective -> Talk to NPC / interact with quest objective -> TAB + R + X -> Talk to NPC / interact with quest objective -> TAB + R + X -> Talk to NPC / interact with quest objective -> TAB + R + X -> Talk to NPC / interact with quest objective -> TAB + R + X -> Talk to NPC / interact with quest objective -> TAB + R + X -> Talk to NPC / interact with quest objective -> TAB + R + X -> Talk to NPC / interact with quest objective -> TAB + R + X -> Talk to NPC / interact with quest objective -> TAB + R + X -> Talk to NPC / interact with quest objective -> TAB + R + X -> Talk to NPC / interact with quest objective -> TAB + R + X -> Talk to NPC / interact with quest objective -> TAB + R + X -> Talk to NPC / interact with quest objective -> TAB + R + X -> Talk to NPC / interact with quest objective -> TAB + R + X -> Talk to NPC / interact with quest objective -> TAB + R + X -> Talk to NPC / interact with quest objective -> TAB + R + X -> Talk to NPC / interact with quest objective -> TAB + R + X -> Talk to NPC / interact with quest objective -> TAB + R + X -> Talk to NPC / interact with quest objective -> TAB + R + X -> Talk to NPC / interact with quest objective -> TAB + R + X -> Talk to NPC / interact with quest objective -> TAB + R + X -> Talk to NPC / interact with quest objective -> TAB + R + X -> Talk to NPC / interact with quest objective -> TAB + R + X -> Talk to NPC / interact with quest objective -> TAB + R + X -> Talk to NPC / interact with quest objective -> TAB + R + X -> Talk to NPC / interact with quest objective -> TAB + R + X -> Talk to NPC / interact with quest objective -> TAB + R + X -> Talk to NPC / interact with quest objective -> TAB + R + X -> Talk to NPC / interact with quest objective -> TAB + R + X -> Talk to NPC / interact with quest objective -> TAB + R + X -> Talk to NPC / interact with quest objective -> TAB + R + X -> Talk to NPC / interact with quest objective -> TAB + R + X -> Talk to NPC / interact with quest objective -> TAB + R + X -> Talk to NPC / interact with quest objective -> TAB + R + X -> Talk to NPC / interact with quest objective -> TAB + R + X -> Talk to NPC / interact with quest objective -> TAB + R + X -> Talk to NPC / interact with quest objective -> TAB + R + X -> Talk to NPC / interact with quest objective -> TAB + R + X -> Talk to NPC / interact with quest objective -> TAB + R + X -> Talk to NPC / interact with quest objective -> TAB + R + X -> Talk to NPC / interact with quest objective -> TAB + R + X -> Talk to NPC / interact with quest objective -> TAB + R + X -> Talk to NPC / interact with quest objective -> TAB + R + X -> Talk to NPC / interact with quest objective -> TAB + R + X -> Talk to NPC / interact with quest objective -> TAB + R + X -> Talk to NPC / interact with quest objective -> TAB + R + X -> Talk to NPC / interact with quest objective -> TAB + R + X -> Talk to NPC / interact with quest objective -> TAB + R + X -> Talk to NPC / interact with quest objective -> TAB + R + X -> Talk to NPC / interact with quest objective -> TAB + R + X -> Talk to NPC / interact with quest objective -> Talk to NPC / interact with quest objective -> TAB + R + X -> Talk to NPC / interact with quest objective -> ...\n",
      "Split: talk to npc / interact with quest objective - tab + r + x - talk to npc / interact with quest objective - tab + r + x - talk to npc / interact with quest objective - tab + r + x - talk to npc / interact with quest objective - tab + r + x - talk to npc / interact with quest objective - tab + r + x - talk to npc / interact with quest objective - tab + r + x - talk to npc / interact with quest objective - tab + r + x - talk to npc / interact with quest objective - tab + r + x - talk to npc / interact with quest objective - tab + r + x - talk to npc / interact with quest objective - tab + r + x - talk to npc / interact with quest objective - tab + r + x - talk to npc / interact with quest objective - tab + r + x - talk to npc / interact with quest objective - tab + r + x - talk to npc / interact with quest objective - tab + r + x - talk to npc / interact with quest objective - tab + r + x - talk to npc / interact with quest objective - tab + r +\n",
      "\n",
      "Doc 26627\n",
      "Original: The premise of Starfield is incredibly compelling, however the execution sours any hope for this being an immersive game, without significantly more work. Individual elements of the game shine and are pretty great in isolation, but what connects them ruins the overall experience for me. I'll try to be as specific as possible, as this isn't irredeemable, and over the course of (ahem) years, fixes could improve things.\n",
      "\n",
      "[h2]Shipbuilding[/h2]\n",
      "While an overall fun ship-designer feature, it leaves so much to guess-work. Ships are a primary method of player expression, but certain critical things -- such as previewing the inside of ship modules while placing them, or even getting to decide where ladders go -- are entirely left out. A lot of ship stats are hidden away, and some modules have inexplicable crew-passenger stats.\n",
      "\n",
      "When you finally do get inside your designed ship, you'll notice a few strange things:\n",
      "- In a cockpit/bridge full of panels, ship inventory is just a single panel somewhere. They're usually pretty hard to find, even after 30+ hours of play.\n",
      "- No idea why, but if there's chairs in your ship modules, odds are they're rolling-style chairs. Like, office chairs. It doesn't make sense that a ship, which is going to be experiencing a ton of turbulence, is going to have rolling office chairs.\n",
      "- There's tons of auto-placed junk props, like cups full of pens, which create a headache with other game systems. If you edit your ship, any loose stuff goes into the inventory of your ship. This includes things you've intentionally placed, but more annoyingly, includes all the auto-spawned junk that just comes with ship modules. So if you edit your ship, you'll suddenly have hundreds of pounds of random pencils and clipboards clogging up your cargo hold.\n",
      "\n",
      "[h2]Ship Combat & Travel[/h2]\n",
      "This is one of the biggest sore-spots IMO, from a game design perspective. The ship flight is pretty solid. The combat feels a little thin, like the application of NASA-esque UI was meant to compensate for a lack of in-universe visuals. For example, the \"shield\" interface shows some squiggly lines wobbling around, instead of your ship having an exterior representation of it's shield. Traveling in space is largely pointless, unless you're doing it just for roleplay purposes, as you can fast-travel just about anywhere within range, without having explored it first.\n",
      "\n",
      "While technically incredibly challenging to fly down to planet surfaces from space, no effort was really made to bridge space and planets even with convincing or hidden loading screens. It could've been that if you fly too close to a planet, you automatically begin landing on it with a cutscene. But instead, a menu must be triggered, to select a landing location, to then enter a loading screen, to then [i]only sometimes[/i] see a cutscene of your ship landing.\n",
      "\n",
      "One minor note on sound design. The ship landing gear \"thrusters\" seem to have no (or minimal) impact on the SFX that plays when you land. That SFX seems to be a variety of jet-engine \"fly-over\" SFX crossfaded together, which has a faint doppler effect not edited out. The result is the SFX of planes flying overhead, crossing from one side of you to another, but used when depicting a spaceship landing vertically, slowly. It's a weird quirk that firmly reminds you: [i]you're playing a game[/i].\n",
      "\n",
      "[h2]On-Foot Combat[/h2]\n",
      "The shooting [spoiler]and powers[/spoiler] are fine. Some of the weapons feel solid, while others feel too tinny. There's a massive disparity in the variety of weapons in the game, with ballistic weapons leading, and energy weapons having only a few. This is counter-intuitive, since they both have a variety of perks.\n",
      "\n",
      "[h2]Inventory Management[/h2]\n",
      "The UI is needlessly complicated, and almost feels at-odds with the goals of the game. For example: weapons and ammunition. There is no easy way to tell what portion of your ammunition tab is actively required by weapons in your inventory, or equipped weapons. This might not seem like an issue, except for considering that many ammunition types are exceptionally similar in name (and, inevitably, quantity).\n",
      "\n",
      "Ship weapons have unlimited ammunition, effectively, which breaks a bit of immersion there as well. Missiles are useful enough as it is -- but [i]you're telling me this thing MAKES missiles too??[/i] /s.\n",
      "\n",
      "Digipicks, a useful lockpick essentially, are relegated to the \"misc\" tab, along with all the other random junk you pick up. \"Aid\" items -- an all-encompassing category of food, drink, whiskey, stimulants, medpacks, etc -- has no way of sorting the higher-powered healing items from the random half-eaten sandwiches you'll inevitably pick up.\n",
      "\n",
      "Even the gear comparison feels clunky in comparison to comparable games. The inventory UI is an entirely separate screen, taking you out of your in-game context and experience, and throwing you into what feels like a NASA tablet. This might've checked a bunch of game-brand boxes, but from a player perspective it sours the overall experience.\n",
      "\n",
      "[h2]Planets[/h2]\n",
      "The planets themselves feature a variety of natural landscapes, populated with cut-and-paste random machinery, illogical loot, and other headaches.\n",
      "- [b]Cut-and-paste random machinery:[/b] You'll see a bunch of identical machinery with no variation across multiple planets -- sometimes even on the same planet. Instead of a cool structure on the horizon indicating some side-quest or mystery to solve, it often just means you're going to find the same 2 loot containers with the same 3 junk items as the last time you saw that same building. It's a shame there isn't more variety, or at least some procedural configurations for these buildings.\n",
      "- [b]Illogical loot:[/b] This point is twofold. First is that gravity doesn't seem to affect carry weight. For all the fuss made about gravity being a mechanic, where your boosts and explosives can cause dramatic effects, your carry weight is firmly locked as a universal constant, regardless of your local gravity. Second point is that the loot doesn't make sense. You can find perfectly preserved food in rotting places, or find irrelevant loot in places that doesn't make sense. It doesn't matter what the underlying system is that caused this -- the point is, it made it into the final experience, and it breaks immersion for the player.\n",
      "\n",
      "[h2]Visuals[/h2]\n",
      "This is a disappointing category, as the gear and ships look great, but the planets and locations look shockingly dated. There's an eerie stiffness to most things, such as treetops, canopies, and cloth flags, which feels out-of-sync with the physicality of combat, in-world items, and traversal.\n",
      "\n",
      "Ground textures will have massive billboards of horizontal shrubbery, which was a really cool trick 10 years ago, but just seems weird and dated now. For example, outside of The Lodge, there's just massive areas of poorly-textured parks. No other NPCs, vendors, etc. Just The Lodge, in what feels like a nature preserve. If that's the intended case, why not go over-the-top with the detail and richness of that area? It feels forgotten, and at the mercy of a difficult-to-use engine.\n",
      "\n",
      "[h2]Loading Screens[/h2]\n",
      "It's one of the most talked-about gripes for a reason: loading screens are not attempted to be masked in any way. They're used liberally, instead of hiding a loading segment behind an animation. This mostly matters for immersion and pacing, but also suggests worrisome engine constraints that unfortunately makes me lose a bit of confidence in the ability of this game to live up to the overall creative vision behind it.\n",
      "\n",
      "[h2]Conclusion[/h2]\n",
      "While initially pitched as a role-playing game that lets you explore an entire galaxy, it feels more like you're in a decently convincing sci-fi theme park, where you can quick-travel to different areas of the park. But the deeper you go, the more shallow the underlying systems seem. Everything's \"fine\", but not stellar.\n",
      "Split: there ' s a massive disparity in the variety of weapons in the game, with ballistic weapons leading, and energy weapons having only a few. this is counter - intuitive, since they both have a variety of management [ / h2 ] the ui is needlessly complicated, and almost feels at - odds with the goals of the game. for example : weapons and ammunition. there is no easy way to tell what portion of your ammunition tab is actively required by weapons in your inventory, or equipped weapons. this might not seem like an issue, except for considering that many ammunition types are exceptionally similar in name ( and, inevitably, weapons have unlimited ammunition, effectively, which breaks a bit of immersion there as well. missiles are useful enough as it is - - but [ i ] you ' re telling me this thing makes missiles too?? [ / i ] a useful lockpick essentially, are relegated to the \" misc \" tab, along with all the other random junk you pick up. \" aid \" items - - an all - encompassing category of food, drink, whiskey, stimulants, medpacks, etc - - has no way of sorting the higher - powered healing items from the random half - eaten sandwiches you ' ll inevitably\n",
      "\n",
      "Doc 52474\n",
      "Original: Fast Travel Simulator.Choosing not to Fast travel everywhere is just a waste of time, as nothing ever happens when \"mini fast traveling\" through space with your ship. All you do is teleporting from one mostly empty, invisible box to another. After doing this for 5 hours you just dont do it anymore and fast travel everywhere as space flight in this game is the most boring shit I ve ever seen.\n",
      "\n",
      "Spent 3 hours designing a ship? Cool. Shame it's barely used in the game.\n",
      "Stealth is literally non existent.\n",
      "To be fair, most of the quests are pretty good. Unfortunately it feels like playing a game on rails as opposed to a true RPG.\n",
      "\n",
      "This is basically the game:\n",
      "\n",
      "Talk to NPC -> TAB + R + X -> Talk to NPC / interact with quest objective -> TAB + R + X -> Talk to NPC / interact with quest objective -> TAB + R + X -> Talk to NPC / interact with quest objective -> TAB + R + X -> Talk to NPC / interact with quest objective -> TAB + R + X -> Talk to NPC / interact with quest objective -> TAB + R + X -> Talk to NPC / interact with quest objective -> TAB + R + X -> Talk to NPC / interact with quest objective -> TAB + R + X -> Talk to NPC / interact with quest objective -> TAB + R + X -> Talk to NPC / interact with quest objective -> TAB + R + X -> Talk to NPC / interact with quest objective -> TAB + R + X -> Talk to NPC / interact with quest objective -> TAB + R + X -> Talk to NPC / interact with quest objective -> TAB + R + X -> Talk to NPC / interact with quest objective -> TAB + R + X -> Talk to NPC / interact with quest objective -> TAB + R + X -> Talk to NPC / interact with quest objective -> TAB + R + X -> Talk to NPC / interact with quest objective -> TAB + R + X -> Talk to NPC / interact with quest objective -> TAB + R + X -> Talk to NPC / interact with quest objective -> TAB + R + X -> Talk to NPC / interact with quest objective -> TAB + R + X -> Talk to NPC / interact with quest objective -> TAB + R + X -> Talk to NPC / interact with quest objective -> TAB + R + X -> Talk to NPC / interact with quest objective -> TAB + R + X -> Talk to NPC / interact with quest objective -> TAB + R + X -> Talk to NPC / interact with quest objective -> TAB + R + X -> Talk to NPC / interact with quest objective -> TAB + R + X -> Talk to NPC / interact with quest objective -> TAB + R + X -> Talk to NPC / interact with quest objective -> TAB + R + X -> Talk to NPC / interact with quest objective -> TAB + R + X -> Talk to NPC / interact with quest objective -> TAB + R + X -> Talk to NPC / interact with quest objective -> TAB + R + X -> Talk to NPC / interact with quest objective -> TAB + R + X -> Talk to NPC / interact with quest objective -> TAB + R + X -> Talk to NPC / interact with quest objective -> TAB + R + X -> Talk to NPC / interact with quest objective -> TAB + R + X -> Talk to NPC / interact with quest objective -> TAB + R + X -> Talk to NPC / interact with quest objective -> TAB + R + X -> Talk to NPC / interact with quest objective -> TAB + R + X -> Talk to NPC / interact with quest objective -> TAB + R + X -> Talk to NPC / interact with quest objective -> TAB + R + X -> Talk to NPC / interact with quest objective -> TAB + R + X -> Talk to NPC / interact with quest objective -> TAB + R + X -> Talk to NPC / interact with quest objective -> TAB + R + X -> Talk to NPC / interact with quest objective -> TAB + R + X -> Talk to NPC / interact with quest objective -> TAB + R + X -> Talk to NPC / interact with quest objective -> TAB + R + X -> Talk to NPC / interact with quest objective -> TAB + R + X -> Talk to NPC / interact with quest objective -> TAB + R + X -> Talk to NPC / interact with quest objective -> TAB + R + X -> Talk to NPC / interact with quest objective -> TAB + R + X -> Talk to NPC / interact with quest objective -> TAB + R + X -> Talk to NPC / interact with quest objective -> TAB + R + X -> Talk to NPC / interact with quest objective -> TAB + R + X -> Talk to NPC / interact with quest objective -> TAB + R + X -> Talk to NPC / interact with quest objective -> TAB + R + X -> Talk to NPC / interact with quest objective -> TAB + R + X -> Talk to NPC / interact with quest objective -> TAB + R + X -> Talk to NPC / interact with quest objective -> TAB + R + X -> Talk to NPC / interact with quest objective -> TAB + R + X -> Talk to NPC / interact with quest objective -> TAB + R + X -> Talk to NPC / interact with quest objective -> TAB + R + X -> Talk to NPC / interact with quest objective -> TAB + R + X -> Talk to NPC / interact with quest objective -> TAB + R + X -> Talk to NPC / interact with quest objective -> TAB + R + X -> Talk to NPC / interact with quest objective -> TAB + R + X -> Talk to NPC / interact with quest objective -> TAB + R + X -> Talk to NPC / interact with quest objective -> Talk to NPC / interact with quest objective -> TAB + R + X -> Talk to NPC / interact with quest objective -> TAB + R + X -> Talk to NPC / interact with quest objective -> TAB + R + X -> Talk to NPC / interact with quest objective -> TAB + R + X -> Talk to NPC / interact with quest objective -> TAB + R + X -> Talk to NPC / interact with quest objective -> TAB + R + X -> Talk to NPC / interact with quest objective -> TAB + R + X -> Talk to NPC / interact with quest objective -> TAB + R + X -> Talk to NPC / interact with quest objective -> TAB + R + X -> Talk to NPC / interact with quest objective -> TAB + R + X -> Talk to NPC / interact with quest objective -> TAB + R + X -> Talk to NPC / interact with quest objective -> TAB + R + X -> Talk to NPC / interact with quest objective -> TAB + R + X -> Talk to NPC / interact with quest objective -> TAB + R + X -> Talk to NPC / interact with quest objective -> TAB + R + X -> Talk to NPC / interact with quest objective -> TAB + R + X -> Talk to NPC / interact with quest objective -> TAB + R + X -> Talk to NPC / interact with quest objective -> TAB + R + X -> Talk to NPC / interact with quest objective -> TAB + R + X -> Talk to NPC / interact with quest objective -> TAB + R + X -> Talk to NPC / interact with quest objective -> TAB + R + X -> Talk to NPC / interact with quest objective -> TAB + R + X -> Talk to NPC / interact with quest objective -> TAB + R + X -> Talk to NPC / interact with quest objective -> TAB + R + X -> Talk to NPC / interact with quest objective -> TAB + R + X -> Talk to NPC / interact with quest objective -> TAB + R + X -> Talk to NPC / interact with quest objective -> TAB + R + X -> Talk to NPC / interact with quest objective -> TAB + R + X -> Talk to NPC / interact with quest objective -> TAB + R + X -> Talk to NPC / interact with quest objective -> TAB + R + X -> Talk to NPC / interact with quest objective -> TAB + R + X -> Talk to NPC / interact with quest objective -> TAB + R + X -> Talk to NPC / interact with quest objective -> TAB + R + X -> Talk to NPC / interact with quest objective -> TAB + R + X -> Talk to NPC / interact with quest objective -> TAB + R + X -> Talk to NPC / interact with quest objective -> TAB + R + X -> Talk to NPC / interact with quest objective -> TAB + R + X -> Talk to NPC / interact with quest objective -> TAB + R + X -> Talk to NPC / interact with quest objective -> TAB + R + X -> Talk to NPC / interact with quest objective -> TAB + R + X -> Talk to NPC / interact with quest objective -> TAB + R + X -> Talk to NPC / interact with quest objective -> TAB + R + X -> Talk to NPC / interact with quest objective -> TAB + R + X -> Talk to NPC / interact with quest objective -> TAB + R + X -> Talk to NPC / interact with quest objective -> TAB + R + X -> Talk to NPC / interact with quest objective -> TAB + R + X -> Talk to NPC / interact with quest objective -> TAB + R + X -> Talk to NPC / interact with quest objective -> TAB + R + X -> Talk to NPC / interact with quest objective -> TAB + R + X -> Talk to NPC / interact with quest objective -> Talk to NPC / interact with quest objective -> TAB + R + X -> Talk to NPC / interact with quest objective -> ...\n",
      "Split: r + x - talk to npc / interact with quest objective - tab + r + x - talk to npc / interact with quest objective - tab + r + x - talk to npc / interact with quest objective - tab + r + x - talk to npc / interact with quest objective - tab + r + x - talk to npc / interact with quest objective - tab + r + x - talk to npc / interact with quest objective - tab + r + x - talk to npc / interact with quest objective - tab + r + x - talk to npc / interact with quest objective - tab + r + x - talk to npc / interact with quest objective - tab + r + x - talk to npc / interact with quest objective - tab + r + x - talk to npc / interact with quest objective - tab + r + x - talk to npc / interact with quest objective - tab + r + x - talk to npc / interact with quest objective - talk to npc / interact with quest objective - tab + r + x - talk to npc / interact with quest objective -\n",
      "\n",
      "Doc 28346\n",
      "Original: Bethesda has the good ingredients, but failed to bake the cake. \n",
      "\n",
      "The main quest feels truncated. Another unity universe could have easily been the mech wars, or some other event in the future other universe based on your decisions in this universe. Instead its the same point in time. More like an endless groundhog day. \n",
      "\n",
      "The all too obvious 'The Lodge' , 'New Atlantis' , 'We are all stars' - references are just lazily thrown in your face. \n",
      "\n",
      "You don't need half the skills to pass the game, some of them are to 'improve the quality of life' in game, that should have probably been easier to attain. And some are in fact fun, like combat boost pack, unarmed combat (needing half the wellness tree); But what is the point if the actual length of the game is short, and by the time you realise which perks you need - its over? In earlier titles I could use some stealth, some assault, some tech skills to get through, here I really only need va'run inflictor with a scope, I don't need to unlock anything important, all weapons are accessible, you don't even need weapons if you can punch everyone down with neurostrikes. \n",
      "\n",
      "You can do away with 95% of the science tree entirely. Hardly any impact on dialogue options (save for medicine) and no impact on other skills. Not anywhere where it matters. Zooology came up during ashta quest but I guess It wouldnt matter if I didnt have it either, didn't 'unlock' anything apart from a line in an npc convo. \n",
      "\n",
      "Until now there has been nothing hidden to discover, even I know the anomaly indicates a temple, no chance finding it without Vlad. The colander was fun, clone quest, the convict settlement and the farm on tau ceti, the paradiso ship, were all ok, but have no impact on the story, don't show up in the final scene where three faction quests show up. No 'karma' slider as it were. You can deliver all the drinks to all the thirsty npcs across the galaxy but it has no bearing on the outcome or your 'karma'. I was eagerly trying to find some 'hidden' quests, where bringing a beer from half the galaxy away will unlock some lead to another larger faction/quest - but nothing. \n",
      "\n",
      "I remember being a kid and stumbling on Azura's temple in Morrowind while literally walking aimlessly for ages. 0 loading screens. You could even fly across Morrowind and land - without loading screens. The sense of wonder and amazement, even though it was a part of quest and I was kinda supposed to find it, discovering it on your own was something else. I never again got lost in any other Bethesda worlds and certainly you cannot lose oneself in starfield. \n",
      "\n",
      "The worse disappointments of all -there was nothing to find. Its shallow. \n",
      "\n",
      "No take down animations and 0 gore. Duelling is only useful to finish off knocked out opponents, again, with basic slash, no animation. Trying to slice your way through bullet sponges in not an option, its just mega boring, tedious and long. \n",
      "\n",
      "Unarmed skill is fun, along with supporting perks, but again, I had finished the game by the time I found out which one I want to play. I opted for 'safe' weapon skill, and before I could get into unarmed, it was all over. Redoing the unremarkable boring quest lines is just not fun. \n",
      "\n",
      "There is no character to this game - its just bland. I still don't see the point for outposts when all you need is lvl 1 alien jerky, distilled water and adaptive frames to level up. Shipping resources from one outpost to another does not actually work. It works visually, but does nothing, had to ship stuff myself. \n",
      "Also, how can I carry 12k aluminium on board in my inventory when cargo hold allows only 3k and I still lift off? I once built the fabricator only to understand that I will never need it. Outpost management do not contribute nearly as much to the game as the skill points they require. \n",
      "\n",
      "Maxxed out chemistry to make final rare chems, but could not find the ingredient, and by then I kinda didn't even need it, if only to bypass the phased time glitch where it would never end! \n",
      "\n",
      "The bugs are another story. Neon technician I need package delivered to swimming outside. A bugged out quest on Mars where a dead spacer/ecliptic wasn't being counted as one so you couldn't complete it without console and even then it wouldn't let you progress. Fish that didn't spawn in the ocean, the sole solution - console command. All of this disables achievements. \n",
      "\n",
      "I was looking forward to TES 6, after fallout 4 and finally this, I am not looking forward to one of my favourite titles being destroyed. It looks like glorified 76 or tes online. \n",
      "\n",
      "3/10\n",
      "\n",
      "\n",
      "\n",
      "Split: ##es. you can do away with 95 % of the science tree entirely. hardly any impact on dialogue options ( save for medicine ) and no impact on other skills. not anywhere where it matters. zooology came up during ashta quest but i guess it wouldnt matter if i didnt have it either, didn ' t ' unlock ' anything apart from a line in an npc convo. until now there has been nothing hidden to discover, even i know the anomaly indicates a temple, no chance finding it without vlad. the colander was fun, clone quest, the convict settlement and the farm on tau ceti, the paradiso ship, were all ok, but have no impact on the story, don ' t show up in the final scene where three faction quests show up. no ' karma ' slider as it were. you can deliver all the drinks to all the thirsty npcs across the galaxy but it has no bearing on the outcome or your ' karma '. i was eagerly trying to find some ' hidden ' quests, where bringing a beer from half the galaxy away will unlock some lead to another larger faction / quest - but nothing. i remember being a kid and stumbling on azura ' s temple in morrowind while literally\n",
      "\n",
      "Doc 52474\n",
      "Original: Fast Travel Simulator.Choosing not to Fast travel everywhere is just a waste of time, as nothing ever happens when \"mini fast traveling\" through space with your ship. All you do is teleporting from one mostly empty, invisible box to another. After doing this for 5 hours you just dont do it anymore and fast travel everywhere as space flight in this game is the most boring shit I ve ever seen.\n",
      "\n",
      "Spent 3 hours designing a ship? Cool. Shame it's barely used in the game.\n",
      "Stealth is literally non existent.\n",
      "To be fair, most of the quests are pretty good. Unfortunately it feels like playing a game on rails as opposed to a true RPG.\n",
      "\n",
      "This is basically the game:\n",
      "\n",
      "Talk to NPC -> TAB + R + X -> Talk to NPC / interact with quest objective -> TAB + R + X -> Talk to NPC / interact with quest objective -> TAB + R + X -> Talk to NPC / interact with quest objective -> TAB + R + X -> Talk to NPC / interact with quest objective -> TAB + R + X -> Talk to NPC / interact with quest objective -> TAB + R + X -> Talk to NPC / interact with quest objective -> TAB + R + X -> Talk to NPC / interact with quest objective -> TAB + R + X -> Talk to NPC / interact with quest objective -> TAB + R + X -> Talk to NPC / interact with quest objective -> TAB + R + X -> Talk to NPC / interact with quest objective -> TAB + R + X -> Talk to NPC / interact with quest objective -> TAB + R + X -> Talk to NPC / interact with quest objective -> TAB + R + X -> Talk to NPC / interact with quest objective -> TAB + R + X -> Talk to NPC / interact with quest objective -> TAB + R + X -> Talk to NPC / interact with quest objective -> TAB + R + X -> Talk to NPC / interact with quest objective -> TAB + R + X -> Talk to NPC / interact with quest objective -> TAB + R + X -> Talk to NPC / interact with quest objective -> TAB + R + X -> Talk to NPC / interact with quest objective -> TAB + R + X -> Talk to NPC / interact with quest objective -> TAB + R + X -> Talk to NPC / interact with quest objective -> TAB + R + X -> Talk to NPC / interact with quest objective -> TAB + R + X -> Talk to NPC / interact with quest objective -> TAB + R + X -> Talk to NPC / interact with quest objective -> TAB + R + X -> Talk to NPC / interact with quest objective -> TAB + R + X -> Talk to NPC / interact with quest objective -> TAB + R + X -> Talk to NPC / interact with quest objective -> TAB + R + X -> Talk to NPC / interact with quest objective -> TAB + R + X -> Talk to NPC / interact with quest objective -> TAB + R + X -> Talk to NPC / interact with quest objective -> TAB + R + X -> Talk to NPC / interact with quest objective -> TAB + R + X -> Talk to NPC / interact with quest objective -> TAB + R + X -> Talk to NPC / interact with quest objective -> TAB + R + X -> Talk to NPC / interact with quest objective -> TAB + R + X -> Talk to NPC / interact with quest objective -> TAB + R + X -> Talk to NPC / interact with quest objective -> TAB + R + X -> Talk to NPC / interact with quest objective -> TAB + R + X -> Talk to NPC / interact with quest objective -> TAB + R + X -> Talk to NPC / interact with quest objective -> TAB + R + X -> Talk to NPC / interact with quest objective -> TAB + R + X -> Talk to NPC / interact with quest objective -> TAB + R + X -> Talk to NPC / interact with quest objective -> TAB + R + X -> Talk to NPC / interact with quest objective -> TAB + R + X -> Talk to NPC / interact with quest objective -> TAB + R + X -> Talk to NPC / interact with quest objective -> TAB + R + X -> Talk to NPC / interact with quest objective -> TAB + R + X -> Talk to NPC / interact with quest objective -> TAB + R + X -> Talk to NPC / interact with quest objective -> TAB + R + X -> Talk to NPC / interact with quest objective -> TAB + R + X -> Talk to NPC / interact with quest objective -> TAB + R + X -> Talk to NPC / interact with quest objective -> TAB + R + X -> Talk to NPC / interact with quest objective -> TAB + R + X -> Talk to NPC / interact with quest objective -> TAB + R + X -> Talk to NPC / interact with quest objective -> TAB + R + X -> Talk to NPC / interact with quest objective -> TAB + R + X -> Talk to NPC / interact with quest objective -> TAB + R + X -> Talk to NPC / interact with quest objective -> TAB + R + X -> Talk to NPC / interact with quest objective -> TAB + R + X -> Talk to NPC / interact with quest objective -> TAB + R + X -> Talk to NPC / interact with quest objective -> TAB + R + X -> Talk to NPC / interact with quest objective -> TAB + R + X -> Talk to NPC / interact with quest objective -> TAB + R + X -> Talk to NPC / interact with quest objective -> TAB + R + X -> Talk to NPC / interact with quest objective -> TAB + R + X -> Talk to NPC / interact with quest objective -> TAB + R + X -> Talk to NPC / interact with quest objective -> Talk to NPC / interact with quest objective -> TAB + R + X -> Talk to NPC / interact with quest objective -> TAB + R + X -> Talk to NPC / interact with quest objective -> TAB + R + X -> Talk to NPC / interact with quest objective -> TAB + R + X -> Talk to NPC / interact with quest objective -> TAB + R + X -> Talk to NPC / interact with quest objective -> TAB + R + X -> Talk to NPC / interact with quest objective -> TAB + R + X -> Talk to NPC / interact with quest objective -> TAB + R + X -> Talk to NPC / interact with quest objective -> TAB + R + X -> Talk to NPC / interact with quest objective -> TAB + R + X -> Talk to NPC / interact with quest objective -> TAB + R + X -> Talk to NPC / interact with quest objective -> TAB + R + X -> Talk to NPC / interact with quest objective -> TAB + R + X -> Talk to NPC / interact with quest objective -> TAB + R + X -> Talk to NPC / interact with quest objective -> TAB + R + X -> Talk to NPC / interact with quest objective -> TAB + R + X -> Talk to NPC / interact with quest objective -> TAB + R + X -> Talk to NPC / interact with quest objective -> TAB + R + X -> Talk to NPC / interact with quest objective -> TAB + R + X -> Talk to NPC / interact with quest objective -> TAB + R + X -> Talk to NPC / interact with quest objective -> TAB + R + X -> Talk to NPC / interact with quest objective -> TAB + R + X -> Talk to NPC / interact with quest objective -> TAB + R + X -> Talk to NPC / interact with quest objective -> TAB + R + X -> Talk to NPC / interact with quest objective -> TAB + R + X -> Talk to NPC / interact with quest objective -> TAB + R + X -> Talk to NPC / interact with quest objective -> TAB + R + X -> Talk to NPC / interact with quest objective -> TAB + R + X -> Talk to NPC / interact with quest objective -> TAB + R + X -> Talk to NPC / interact with quest objective -> TAB + R + X -> Talk to NPC / interact with quest objective -> TAB + R + X -> Talk to NPC / interact with quest objective -> TAB + R + X -> Talk to NPC / interact with quest objective -> TAB + R + X -> Talk to NPC / interact with quest objective -> TAB + R + X -> Talk to NPC / interact with quest objective -> TAB + R + X -> Talk to NPC / interact with quest objective -> TAB + R + X -> Talk to NPC / interact with quest objective -> TAB + R + X -> Talk to NPC / interact with quest objective -> TAB + R + X -> Talk to NPC / interact with quest objective -> TAB + R + X -> Talk to NPC / interact with quest objective -> TAB + R + X -> Talk to NPC / interact with quest objective -> TAB + R + X -> Talk to NPC / interact with quest objective -> TAB + R + X -> Talk to NPC / interact with quest objective -> TAB + R + X -> Talk to NPC / interact with quest objective -> TAB + R + X -> Talk to NPC / interact with quest objective -> TAB + R + X -> Talk to NPC / interact with quest objective -> TAB + R + X -> Talk to NPC / interact with quest objective -> TAB + R + X -> Talk to NPC / interact with quest objective -> TAB + R + X -> Talk to NPC / interact with quest objective -> TAB + R + X -> Talk to NPC / interact with quest objective -> Talk to NPC / interact with quest objective -> TAB + R + X -> Talk to NPC / interact with quest objective -> ...\n",
      "Split: x - talk to npc / interact with quest objective - tab + r + x - talk to npc / interact with quest objective - tab + r + x - talk to npc / interact with quest objective - tab + r + x - talk to npc / interact with quest objective - tab + r + x - talk to npc / interact with quest objective - tab + r + x - talk to npc / interact with quest objective - tab + r + x - talk to npc / interact with quest objective - tab + r + x - talk to npc / interact with quest objective - tab + r + x - talk to npc / interact with quest objective - tab + r + x - talk to npc / interact with quest objective - tab + r + x - talk to npc / interact with quest objective - tab + r + x - talk to npc / interact with quest objective - tab + r + x - talk to npc / interact with quest objective - tab + r + x - talk to npc / interact with quest objective - tab + r + x - talk to npc / interact with quest objective - tab + r + x - talk to npc / interact with quest objective - tab +\n",
      "\n"
     ]
    }
   ],
   "source": [
    "# print out the original text and the split (if any) for reference\n",
    "\n",
    "for topic_id in repr_docs_mappings.keys():\n",
    "    print(f'Topic {topic_id}:')\n",
    "\n",
    "    for index, row in df_original_texts[df_original_texts['topic_id'] == topic_id].iterrows():\n",
    "        print(f'Doc {index}')\n",
    "        print(f'Original: {row[\"review_original\"]}')\n",
    "        if split_sentence:\n",
    "            print(f'Split: {row[\"review_split\"]}')\n",
    "        print()"
   ]
  },
  {
   "cell_type": "code",
   "execution_count": 88,
   "metadata": {},
   "outputs": [
    {
     "data": {
      "text/html": [
       "<div>\n",
       "<style scoped>\n",
       "    .dataframe tbody tr th:only-of-type {\n",
       "        vertical-align: middle;\n",
       "    }\n",
       "\n",
       "    .dataframe tbody tr th {\n",
       "        vertical-align: top;\n",
       "    }\n",
       "\n",
       "    .dataframe thead th {\n",
       "        text-align: right;\n",
       "    }\n",
       "</style>\n",
       "<table border=\"1\" class=\"dataframe\">\n",
       "  <thead>\n",
       "    <tr style=\"text-align: right;\">\n",
       "      <th></th>\n",
       "      <th>Topic</th>\n",
       "      <th>Count</th>\n",
       "    </tr>\n",
       "  </thead>\n",
       "  <tbody>\n",
       "    <tr>\n",
       "      <th>0</th>\n",
       "      <td>-1</td>\n",
       "      <td>9154</td>\n",
       "    </tr>\n",
       "    <tr>\n",
       "      <th>1</th>\n",
       "      <td>0</td>\n",
       "      <td>5692</td>\n",
       "    </tr>\n",
       "    <tr>\n",
       "      <th>2</th>\n",
       "      <td>1</td>\n",
       "      <td>1467</td>\n",
       "    </tr>\n",
       "    <tr>\n",
       "      <th>3</th>\n",
       "      <td>2</td>\n",
       "      <td>1384</td>\n",
       "    </tr>\n",
       "    <tr>\n",
       "      <th>4</th>\n",
       "      <td>3</td>\n",
       "      <td>8202</td>\n",
       "    </tr>\n",
       "    <tr>\n",
       "      <th>5</th>\n",
       "      <td>4</td>\n",
       "      <td>6532</td>\n",
       "    </tr>\n",
       "    <tr>\n",
       "      <th>6</th>\n",
       "      <td>5</td>\n",
       "      <td>22</td>\n",
       "    </tr>\n",
       "    <tr>\n",
       "      <th>7</th>\n",
       "      <td>6</td>\n",
       "      <td>180</td>\n",
       "    </tr>\n",
       "    <tr>\n",
       "      <th>8</th>\n",
       "      <td>7</td>\n",
       "      <td>367</td>\n",
       "    </tr>\n",
       "    <tr>\n",
       "      <th>9</th>\n",
       "      <td>8</td>\n",
       "      <td>190</td>\n",
       "    </tr>\n",
       "    <tr>\n",
       "      <th>10</th>\n",
       "      <td>9</td>\n",
       "      <td>349</td>\n",
       "    </tr>\n",
       "  </tbody>\n",
       "</table>\n",
       "</div>"
      ],
      "text/plain": [
       "    Topic  Count\n",
       "0      -1   9154\n",
       "1       0   5692\n",
       "2       1   1467\n",
       "3       2   1384\n",
       "4       3   8202\n",
       "5       4   6532\n",
       "6       5     22\n",
       "7       6    180\n",
       "8       7    367\n",
       "9       8    190\n",
       "10      9    349"
      ]
     },
     "execution_count": 88,
     "metadata": {},
     "output_type": "execute_result"
    }
   ],
   "source": [
    "# build the topic frequency table from results\n",
    "\n",
    "from collections import Counter\n",
    "\n",
    "topic_freq = Counter(topics)\n",
    "topic_freq = pd.DataFrame(topic_freq.items(), columns=['topic_id', 'count'])\n",
    "topic_freq = topic_freq.sort_values(by='topic_id')\n",
    "topic_freq.reset_index(drop=True, inplace=True)\n",
    "# rename columns\n",
    "topic_freq.columns = ['Topic', 'Count']\n",
    "topic_freq"
   ]
  },
  {
   "cell_type": "code",
   "execution_count": 58,
   "metadata": {},
   "outputs": [],
   "source": [
    "top_n = 10\n",
    "df_original_texts.to_pickle(eval_results_external_folder_path.joinpath(f'df_eval_top_{top_n}.pkl'))"
   ]
  },
  {
   "cell_type": "code",
   "execution_count": 59,
   "metadata": {},
   "outputs": [],
   "source": [
    "# also need to save the top N keywords for each topic as json\n",
    "with open(eval_results_external_folder_path.joinpath(f'top_{top_N_words}_keywords.json'), 'w') as f:\n",
    "    json.dump(topic_keywords, f, indent=2)"
   ]
  },
  {
   "cell_type": "code",
   "execution_count": 89,
   "metadata": {},
   "outputs": [],
   "source": [
    "topic_freq.to_pickle(eval_results_external_folder_path.joinpath(f'df_eval_topic_freq.pkl'))"
   ]
  },
  {
   "cell_type": "markdown",
   "metadata": {},
   "source": [
    "---"
   ]
  },
  {
   "cell_type": "markdown",
   "metadata": {},
   "source": [
    "LLM topic naming on external docs\n",
    "\n",
    "(copy from bertopic_eval_quali.ipynb)"
   ]
  },
  {
   "cell_type": "code",
   "execution_count": 61,
   "metadata": {},
   "outputs": [],
   "source": [
    "from langchain_community.llms import Ollama\n",
    "from langchain_core.prompts import ChatPromptTemplate"
   ]
  },
  {
   "cell_type": "code",
   "execution_count": 62,
   "metadata": {},
   "outputs": [],
   "source": [
    "# can try diff llama2: https://ollama.com/library/yarn-llama2\n",
    "\n",
    "llm = Ollama(model=\"llama2\")        # assuming the port is 11434"
   ]
  },
  {
   "cell_type": "code",
   "execution_count": 63,
   "metadata": {},
   "outputs": [],
   "source": [
    "# prompt engineering\n",
    "system_message = \"You are a player of the game who is reading the reviews about the game.\"\n",
    "\n",
    "human_template = \\\n",
    "'''Create a name for a topic given the topic's keywords and some most representative reviews of the topic. Output a label for the topic in less than 5 words. Output \"NA\" if the topic is not clear. Do not output other text. \n",
    "\n",
    "The top keywords of the topic is: \\'\\'\\'{topic_keywords}\\'\\'\\'. \n",
    "\n",
    "The most representative reviews of the topic are: \\'\\'\\'{topic_reviews}\\'\\'\\'. '''\n",
    "\n",
    "chat_prompt = ChatPromptTemplate.from_messages([\n",
    "    (\"system\", system_message),\n",
    "    (\"human\", human_template)\n",
    "])\n",
    "\n",
    "chain = chat_prompt | llm"
   ]
  },
  {
   "cell_type": "code",
   "execution_count": 64,
   "metadata": {},
   "outputs": [],
   "source": [
    "new_topic_labels = {}\n",
    "randomed_topic_reviews = {}"
   ]
  },
  {
   "cell_type": "code",
   "execution_count": 65,
   "metadata": {},
   "outputs": [
    {
     "name": "stdout",
     "output_type": "stream",
     "text": [
      "['the missions were fun, as was the new area, the biggest problem i have is the ending to it. it \\' s, much like my opinion on the main game, extremely poorly written and just strait up not enjoyable. full of plot holes, 50 % of the problems could have been solved by a cell which we have, the entire crazy that the secret ending could have been solved [ spoiler ] with a phone call or you know, demanding you bring your romantic interest with you ( in my case judy ), or you emergency contact? have the doctor or your newfound friend at nusa keep your friends up to date on your you don \\' t get to play your character, you play cd projekt red \\' s character the entire game. enjoy your \" rpg \" that \\' s actually just a driven action adventure writer of this ending clearly just wanted people to feel like shit for having the audacity of wanting a subvert of expectations, you know, the thing everyone considers good story telling. i know the cyberpunk series extremely well, it \\' s a massive subvert of expectations to actually have a good ending. i \\' ve seen fan fictions written better than this game was.', 'the own, well played [ / spoiler ] skill trees make sense but i feel no motivation to change from the technical tree. it \\' s the best performing, just you have to charge shots, which is annoying, and even more so, now you need to charge to an exact only get the new skills if you play the dlc content, as you get them from terminals in the \" streamlined experience \". ( relic skills are editable anytime like perks, not fixed like attribute points. pro exploitation tip : change the skills to stealth until you encounter a bossfight. ( this shouldnt be possible, as for the perks ) ) i played on hard and it was too easy, but i was happy that it did not feel so spongy anymore due to level overhaul feels great. a little too easy but i finally felt like a twitch drops, even paid drops. so why exactly do people have to watch a spoiler 1 ) 1 ) 1 ) 1 ) [ / h2 ] [ / b ] [ / code ] unspecific ending experience : [ spoiler ] dont expect anything from this dlcs ending, took 30 hours for not even a boss fight at all. what did i prepare for? what was intersting']\n",
      "-1_call0: \n",
      "Topic Label: Disappointing Ending Experience with too much repetition.\n",
      "['- difficulty - my 90 year old grandma could play it easy [UNK] normal hard \" dark souls \" - graphics - \" ms paint \" bad meh graphics don \\' t matter in this game good beautiful [UNK] masterpiece ( sometimes it \\' s really cool but you need rtx 4090 card to play it ) - music - bad not special [UNK] good beautiful - story - this game has no story like playing \" temple runners \" for the story it \\' s there for the people who want it umm good? [UNK] well written epic story - price - free underpriced [UNK] perfect price could be cheaper overpriced complete waste of money - requirements - you can run it on a microwave potato average high end [UNK] \" nasa \" computer - length - very short ( 0 - 3 hours ) short ( 3 - 15 hours ) [UNK] average ( 15 - 50 hours ) long ( 50 - 90 hours ) extremely long ( 90 - 110 hours ) more than 1 week ( 170 + ) no ending - fun - i \\' d rather watch paint dry hard to enjoy repetitive [UNK] actually pretty amusing ride of your life - replayability - it \\' s a one - time experience only for achievements [UNK] if you wait a few months / years definitely infinitely replayable - worth buying - it \\' s free', 'the own, well played [ / spoiler ] skill trees make sense but i feel no motivation to change from the technical tree. it \\' s the best performing, just you have to charge shots, which is annoying, and even more so, now you need to charge to an exact only get the new skills if you play the dlc content, as you get them from terminals in the \" streamlined experience \". ( relic skills are editable anytime like perks, not fixed like attribute points. pro exploitation tip : change the skills to stealth until you encounter a bossfight. ( this shouldnt be possible, as for the perks ) ) i played on hard and it was too easy, but i was happy that it did not feel so spongy anymore due to level overhaul feels great. a little too easy but i finally felt like a twitch drops, even paid drops. so why exactly do people have to watch a spoiler 1 ) 1 ) 1 ) 1 ) [ / h2 ] [ / b ] [ / code ] unspecific ending experience : [ spoiler ] dont expect anything from this dlcs ending, took 30 hours for not even a boss fight at all. what did i prepare for? what was intersting']\n",
      "-1_call1: \n",
      "Topic: The game's difficulty and replayability\n",
      "Label: Repetitive but enjoyable experience with limited replay value.\n",
      "['the own, well played [ / spoiler ] skill trees make sense but i feel no motivation to change from the technical tree. it \\' s the best performing, just you have to charge shots, which is annoying, and even more so, now you need to charge to an exact only get the new skills if you play the dlc content, as you get them from terminals in the \" streamlined experience \". ( relic skills are editable anytime like perks, not fixed like attribute points. pro exploitation tip : change the skills to stealth until you encounter a bossfight. ( this shouldnt be possible, as for the perks ) ) i played on hard and it was too easy, but i was happy that it did not feel so spongy anymore due to level overhaul feels great. a little too easy but i finally felt like a twitch drops, even paid drops. so why exactly do people have to watch a spoiler 1 ) 1 ) 1 ) 1 ) [ / h2 ] [ / b ] [ / code ] unspecific ending experience : [ spoiler ] dont expect anything from this dlcs ending, took 30 hours for not even a boss fight at all. what did i prepare for? what was intersting', \"rough overview ( very vague spoilers ) pros - it took me roughly 20 - 25ish hours to complete the main story ( once through, more on that below ) and all the side - quests - good story - lines - some replayability, the main story branches off around the half - way point, and it has some heavy implications and even an ending for v depending on your choices, which can pad your play time if you decide to go back and do the other branch. - mr hands. best fixer in all of night city, - whole new play - area cons - some of the characters in the main story - line are just straight annoying and the game sort of forces v ( and you ) to care about quality dropped a little, some characters and lines don ' t sound as good, either using a different set - up from original recordings, or weird mixing, but it was really noticeable to me and brought me out of the experience a bit, however its rare and the characters affected are * mostly * side - quest related - minor performance drops, i noticed some fps drops while in the new area, it was only a couple of frames but still something to note if you are sensitive to that. conclusion and transparency - i bought this\"]\n",
      "-1_call2: Topic Label: \"Night City\"\n",
      "[\"~ difficulty ~ my 90 year old grandma could play it easy [UNK] normal hard dark souls ~ graphics ~ ms paint bad meh graphics don ' t matter in this game good beautiful [UNK] masterpiece ~ music ~ bad not special good [UNK] beautiful ~ story ~ this game has no story like playing temple runners for the story it ' s there for the people who want it well written epic story [UNK] imagine kingdom hearts but on crack ~ price ~ free underpriced [UNK] perfect price could be cheaper overpriced complete waste of money ~ requirements ~ you can run it on a microwave average [UNK] high end nasa computer ~ length ~ very short ( 0 - 2 hours ) [UNK] short ( 2 - 15 hours ) average ( 15 - 50 hours ) long ( 50 - 90 hours ) extremely long ( 90 - 110 hours ) no ending ~ fun ~ i ' d rather watch paint dry hard to enjoy repetitive actually pretty amusing the kind of fun you ' ll remember [UNK] ride of your life ~ replayability ~ it ' s a one - time experience only for achievements if you wait a few months / years [UNK] definitely infinitely replayable ~ worth buying ~ no wait for sale [UNK] yes\", \"rough overview ( very vague spoilers ) pros - it took me roughly 20 - 25ish hours to complete the main story ( once through, more on that below ) and all the side - quests - good story - lines - some replayability, the main story branches off around the half - way point, and it has some heavy implications and even an ending for v depending on your choices, which can pad your play time if you decide to go back and do the other branch. - mr hands. best fixer in all of night city, - whole new play - area cons - some of the characters in the main story - line are just straight annoying and the game sort of forces v ( and you ) to care about quality dropped a little, some characters and lines don ' t sound as good, either using a different set - up from original recordings, or weird mixing, but it was really noticeable to me and brought me out of the experience a bit, however its rare and the characters affected are * mostly * side - quest related - minor performance drops, i noticed some fps drops while in the new area, it was only a couple of frames but still something to note if you are sensitive to that. conclusion and transparency - i bought this\"]\n",
      "-1_call3: \n",
      "Topic: The game's story and replayability\n",
      "Label: \"Good story with some replayability\"\n",
      "[\"rough overview ( very vague spoilers ) pros - it took me roughly 20 - 25ish hours to complete the main story ( once through, more on that below ) and all the side - quests - good story - lines - some replayability, the main story branches off around the half - way point, and it has some heavy implications and even an ending for v depending on your choices, which can pad your play time if you decide to go back and do the other branch. - mr hands. best fixer in all of night city, - whole new play - area cons - some of the characters in the main story - line are just straight annoying and the game sort of forces v ( and you ) to care about quality dropped a little, some characters and lines don ' t sound as good, either using a different set - up from original recordings, or weird mixing, but it was really noticeable to me and brought me out of the experience a bit, however its rare and the characters affected are * mostly * side - quest related - minor performance drops, i noticed some fps drops while in the new area, it was only a couple of frames but still something to note if you are sensitive to that. conclusion and transparency - i bought this\", \"get served the same result every time. it just felt like a completely rushed project with lots of copy paste dialogue decisions taken from the base - game with no real depth. probably just a quick cash - grab by cdpr before they ditch cp entirely soon. [ / spoiler ] - - - { graphics } - - - [UNK] reallife [UNK] beautiful ( still poorly optimized and with lots of texture glitches ) [UNK] good [UNK] decent [UNK] bad - - - { gameplay } - - - [UNK] very good [UNK] good [UNK] it ' s just gameplay ( new combat system feels a lot like generic shooters ) [UNK] below average [UNK] just bad - - - { audio } - - - [UNK] eargasm [UNK] very good ( awesome new car and gun sounds ) [UNK] good [UNK] below average [UNK] bad - - - { audience } - - - [UNK] kids [UNK] teens [UNK] adults - - - { pc requirements } - - - [UNK] potato [UNK] decent [UNK] fast [UNK] high end ( as stated above, real poor optimization still ) - - - { difficulty } - - - [UNK] easy [UNK] easy to learn / hard to master [UNK] moderate [UNK] difficult [UNK] dark souls - - - { grind } - - - [UNK] nothing to grind [UNK] isn ' t necessary to progress [UNK] average [UNK] too much\"]\n",
      "-1_call4: \n",
      "Topic: Cyberpunk 2077\n",
      "Label: \"Rough experience with poor optimization\"\n",
      "\n",
      "[\"not a dlc - it ' s an expansion. really good one!\", 'good dlc, feel like another geme, hope will be like in wither 3, 2 perfect dlc']\n",
      "00_call0: Cyberpunk Expansion\n",
      "['just finished it. what a dlc! so damn good the whole story everything. i would be happy if cyberpunk was just this dlc alone, felt like a movie, all characters written so well, i cant wait to play it again and get all endings. 10 / 10. just speechless to be', 'such a good expansion on top of an already great game this is how you do dlc people!!!']\n",
      "00_call1: Cyberpunk Movie\n",
      "[\"11 / 10 one of the best games i have played this year. what a brilliant and jaw dropping end to this game, this expansion was too good that it makes me sad that this is it for this game and we will not be seeing anymore expansions / updates to content, cyberpunk 2077 holds a special place in my heart and i have been in love with this game since december 2020. highly recommended must buy for cyberpunk 2077, it adds almost 30 hours of additional content that is equal / better than the base game. but i would recommend that one plays it after experiencing the base game completely, finishing it and checking out all the multiple endings. phantom liberty shows that cdpr are one of the best in the industry when it comes to captivating story telling and that they learned a lot of things from the base game and improved upon them in this expansion, it ' s far more immersive and captivating, the story itself is phenomenal, the characters are great and there is just so much to do, definitely one of the best stories / expansions i have played this year. with update the game feels absolutely new when it comes to it ' s perk / level and cyberware systems, it ' s not at all like\", 'such a good expansion on top of an already great game this is how you do dlc people!!!']\n",
      "00_call2: Topic: Cyberpunk 2077 Expansion - Phantom Liberty\n",
      "Label: \"Brilliant End to the Game\"\n",
      "['really good dlc!', 'such a good expansion on top of an already great game this is how you do dlc people!!!']\n",
      "00_call3: Cyberpunk DLC - Great Expansion\n",
      "[\"after the awesome experience with the base game, phantom liberty expansion came to improve even more the world of cyberpunk liberty is amazing! with an amazing story, new gameplay mechanics, new skill tree, abilities, soundtrack, side missions and so much more, it feels like a completely new i highly recommend to start a new game if you already played the base game before because the update delivers a very fresh new way to play the projekt delivered a masterpiece and i ' m so glad that they keept their promisses so now people can experience this awesome game in it ' s full look forward for the future of this franchise because cyberpunk genre is my thing! have fun chooms!\", \"not a dlc - it ' s an expansion. really good one!\"]\n",
      "00_call4: \"Cyberpunk Liberty Expansion\"\n",
      "\n",
      "[\"i ' ve been playing cyberpunk 2077 ever since launch, and i did like it. but, i did not and am still not defending the absolute disaster that was this game ' s launch. sure it was playable for me and the worst to happen was the bugs and glitches, but people who were on certain consoles couldn ' t even play the game. a shame too because i thought underneath the issues was a universe worth sinking my lore teeth into and a story worth experiencing. well, i ' m surprised that cd projekt red pulled their punches and stuck to fixing and making the game that was supposed to be. and alas, we now have phantom liberty and the free update it is very much now a game worth playing and it shows how much i love this game considering the amount of time i ' ve spent with this universe now. just know this ; is it bug free? absolutely not. is there still performance issues? yup.\", \"game crashes every time i save. i ' m hoping that cdpr fixes this soon. i ' d like to be able to play the game, but until this problem is fixed, i don ' t think i ' ll be able to enjoy the they patched the bug and i was able to enjoy the dlc.\"]\n",
      "01_call0: Topic: Buggy Launch\n",
      "Label: Bugs\n",
      "['can \\' t walk 5 minutes without a game breaking bug, can \\' t progress in the quests, it says go to there, when you reach \" there \", the quest doesn \\' t progress, as if you are not there to keep reloading for maybe to fix the quest and this seems to be only with me, i saw some live streams, and people can play it the saving animation keeps bugging, i got \" saving \" message stuck at my screen for more then 15 minutes, and when i open the menu it says \" saved failed \", but manual save works dlc need some polishing, is not fun at all with all this bugs to play is because my save is prior to maybe people with new fresh saves have no problems.', \"i cannot play the game since when a loading screen start i crash 80 % of the time, it ' s unplayable sadly. no fix online helped, and i ' m on a fresh install. it ' s wild because i played the game during it ' s infamous release month and had 0 crash and very few bug, now i know what is was like for other people during release i leaving a negative review because i paid 30€ for something i cannot play no matter what i do. will delete the review once the game is : fixed it, turn out i needed windows version 2h22 installed to play the play the game. windows just wouldn ' t update by itself tho, had to download a file there : the game run like a charm now.\"]\n",
      "01_call1: \"Buggy Experience with Crashing\"\n",
      "['so far this is great. no bugs, no issues of any kind, performance is great. no complaints, and no release day woes. update after spending 10 + hours in the dlc - very good quality, good story, good overall additions to the game. however over time i am seeing more crashed to the desktop than i did before the dlc. hoping for a patch for that. im crashing about once every 4 - 5 hours.', \"i cannot play the game since when a loading screen start i crash 80 % of the time, it ' s unplayable sadly. no fix online helped, and i ' m on a fresh install. it ' s wild because i played the game during it ' s infamous release month and had 0 crash and very few bug, now i know what is was like for other people during release i leaving a negative review because i paid 30€ for something i cannot play no matter what i do. will delete the review once the game is : fixed it, turn out i needed windows version 2h22 installed to play the play the game. windows just wouldn ' t update by itself tho, had to download a file there : the game run like a charm now.\"]\n",
      "01_call2: \"Game Issues\"\n",
      "['can \\' t walk 5 minutes without a game breaking bug, can \\' t progress in the quests, it says go to there, when you reach \" there \", the quest doesn \\' t progress, as if you are not there to keep reloading for maybe to fix the quest and this seems to be only with me, i saw some live streams, and people can play it the saving animation keeps bugging, i got \" saving \" message stuck at my screen for more then 15 minutes, and when i open the menu it says \" saved failed \", but manual save works dlc need some polishing, is not fun at all with all this bugs to play is because my save is prior to maybe people with new fresh saves have no problems.', 'so far this is great. no bugs, no issues of any kind, performance is great. no complaints, and no release day woes. update after spending 10 + hours in the dlc - very good quality, good story, good overall additions to the game. however over time i am seeing more crashed to the desktop than i did before the dlc. hoping for a patch for that. im crashing about once every 4 - 5 hours.']\n",
      "01_call3: Topic Label: Buggy DLC\n",
      "[\"i cannot play the game since when a loading screen start i crash 80 % of the time, it ' s unplayable sadly. no fix online helped, and i ' m on a fresh install. it ' s wild because i played the game during it ' s infamous release month and had 0 crash and very few bug, now i know what is was like for other people during release i leaving a negative review because i paid 30€ for something i cannot play no matter what i do. will delete the review once the game is : fixed it, turn out i needed windows version 2h22 installed to play the play the game. windows just wouldn ' t update by itself tho, had to download a file there : the game run like a charm now.\", \"if you didn ' t like the base game, you won ' t like bugs have been fixed, but the game can ' t be\"]\n",
      "01_call4: Playable with Issues\n",
      "\n",
      "['10 / 10 enough', '10 / 10']\n",
      "02_call0: \"Great game worth playing\"\n",
      "['10 / 10', '10 / 10']\n",
      "02_call1: \"Best DLC Ever\"\n",
      "['10 out of 10 story', '10 / 10 for idris elba']\n",
      "02_call2: Idris Elba\n",
      "['10 / 10 enough', '10 out of 10 story']\n",
      "02_call3: \"Great Story\"\n",
      "['8 / 10', '10 / 10 expansion']\n",
      "02_call4: \"Great DLC Worth Playing\"\n",
      "\n",
      "['its just good', 'good game']\n",
      "03_call0: City Morning Yes\n",
      "['its just good', \"it ' s good\"]\n",
      "03_call1: \"Good Morning City Yes Worth\"\n",
      "['more content = good', 'good story']\n",
      "03_call2: \"Good Morning City Adventure\"\n",
      "['good', 'good game']\n",
      "03_call3: Morning City Game\n",
      "['it good', \"it ' s good\"]\n",
      "03_call4: Absolutely worth it.\n",
      "\n",
      "['gud graphics', \"- - - { graphics } - - - [UNK] you forget what reality is [UNK] beautiful [UNK] good [UNK] decent [UNK] bad [UNK] don ‘ t look too long at it [UNK] ms - dos - - - { gameplay } - - - [UNK] very good [UNK] good [UNK] it ' s just gameplay [UNK] mehh [UNK] watch paint dry instead [UNK] just don ' t - - - { audio } - - - [UNK] eargasm [UNK] very good [UNK] good [UNK] not too bad [UNK] bad [UNK] i ' m now deaf - - - { audience } - - - [UNK] kids [UNK] teens [UNK] adults [UNK] grandma - - - { pc requirements } - - - [UNK] check if you can run paint [UNK] potato [UNK] decent [UNK] fast [UNK] rich boi [UNK] ask nasa if they have a spare computer - - - { difficulty } - - - [UNK] just press ' w ' [UNK] easy [UNK] easy to learn / hard to master [UNK] significant brain usage [UNK] difficult [UNK] dark souls - - - { grind } - - - [UNK] nothing to grind [UNK] only if u care about leaderboards / ranks [UNK] isn ' t necessary to progress [UNK] average grind level [UNK] too much grind [UNK] you ' ll need a second life for grinding - - - { story } - - - [UNK] no story [UNK] some lore [UNK] average [UNK] good [UNK]\"]\n",
      "04_call0: \n",
      "Topic Label: Grind Game\n",
      "\n",
      "Explanation: The topic of the review is focused on the grind aspect of the game, with reviews mentioning the amount of grinding required to progress and the difficulty level of the game.\n",
      "[\"- - - { graphics } - - - [UNK] you forget what reality is [UNK] beautiful [UNK] good [UNK] decent [UNK] bad [UNK] don ‘ t look too long at it [UNK] ms - dos - - - { gameplay } - - - [UNK] very good [UNK] good [UNK] it ' s just gameplay [UNK] mehh [UNK] watch paint dry instead [UNK] just don ' t - - - { audio } - - - [UNK] eargasm [UNK] very good [UNK] good [UNK] not too bad [UNK] bad [UNK] i ' m now deaf - - - { audience } - - - [UNK] kids [UNK] teens [UNK] adults [UNK] grandma - - - { pc requirements } - - - [UNK] check if you can run paint [UNK] potato [UNK] decent [UNK] fast [UNK] rich boi [UNK] ask nasa if they have a spare computer - - - { difficulty } - - - [UNK] just press ' w ' [UNK] easy [UNK] easy to learn / hard to master [UNK] significant brain usage [UNK] difficult [UNK] dark souls - - - { grind } - - - [UNK] nothing to grind [UNK] only if u care about leaderboards / ranks [UNK] isn ' t necessary to progress [UNK] average grind level [UNK] too much grind [UNK] you ' ll need a second life for grinding - - - { story } - - - [UNK] no story [UNK] some lore [UNK] average [UNK] good [UNK]\", 'gud graphics']\n",
      "04_call1: \n",
      "Topic: \"Grind\" in the game.\n",
      "Label: \"Good Grind\"\n",
      "[\"- - - { graphics } - - - [UNK] you forget what reality is [UNK] beautiful [UNK] good [UNK] decent [UNK] bad [UNK] don ‘ t look too long at it [UNK] ms - dos - - - { gameplay } - - - [UNK] very good [UNK] good [UNK] it ' s just gameplay [UNK] mehh [UNK] watch paint dry instead [UNK] just don ' t - - - { audio } - - - [UNK] eargasm [UNK] very good [UNK] good [UNK] not too bad [UNK] bad [UNK] i ' m now deaf - - - { audience } - - - [UNK] kids [UNK] teens [UNK] adults [UNK] grandma - - - { pc requirements } - - - [UNK] check if you can run paint [UNK] potato [UNK] decent [UNK] fast [UNK] rich boi [UNK] ask nasa if they have a spare computer - - - { difficulty } - - - [UNK] just press ' w ' [UNK] easy [UNK] easy to learn / hard to master [UNK] significant brain usage [UNK] difficult [UNK] dark souls - - - { grind } - - - [UNK] nothing to grind [UNK] only if u care about leaderboards / ranks [UNK] isn ' t necessary to progress [UNK] average grind level [UNK] too much grind [UNK] you ' ll need a second life for grinding - - - { story } - - - [UNK] no story [UNK] some lore [UNK] average [UNK] good [UNK]\", 'gud graphics']\n",
      "04_call2: Topic Label: Grind\n",
      "\n",
      "Explanation: The term \"grind\" is repeatedly used in the reviews to describe the gameplay experience, with opinions ranging from \"too much grind\" to \"average grind level.\" This suggests that the game may have a significant focus on repetitive tasks or activities, which could be frustrating for some players.\n",
      "[\"what a comeback gj graphics } - - - [UNK] you forget what reality is [UNK] beautiful [UNK] good [UNK] decent [UNK] bad [UNK] don ‘ t look too long at it [UNK] ms - dos - - - { gameplay } - - - [UNK] very good [UNK] good [UNK] it ' s just gameplay [UNK] mehh [UNK] watch paint dry instead [UNK] just don ' t - - - { audio } - - - [UNK] eargasm [UNK] very good [UNK] good [UNK] not too bad [UNK] bad [UNK] i ' m now deaf - - - { audience } - - - [UNK] kids [UNK] teens [UNK] adults [UNK] grandma - - - { pc requirements } - - - [UNK] check if you can run paint [UNK] potato [UNK] decent [UNK] fast [UNK] rich boi [UNK] ask nasa if they have a spare computer - - - { difficulty } - - - [UNK] just press ' w ' [UNK] easy [UNK] easy to learn / hard to master [UNK] significant brain usage [UNK] difficult [UNK] dark souls - - - { grind } - - - [UNK] nothing to grind [UNK] only if u care about leaderboards / ranks [UNK] isn ' t necessary to progress [UNK] average grind level [UNK] too much grind [UNK] you ' ll need a second life for grinding - - - { story } - - - [UNK] no story [UNK] some lore [UNK] average [UNK] good\", \"- - - { graphics } - - - [UNK] you forget what reality is [UNK] beautiful [UNK] good [UNK] decent [UNK] bad [UNK] don ‘ t look too long at it [UNK] ms - dos - - - { gameplay } - - - [UNK] very good [UNK] good [UNK] it ' s just gameplay [UNK] mehh [UNK] watch paint dry instead [UNK] just don ' t - - - { audio } - - - [UNK] eargasm [UNK] very good [UNK] good [UNK] not too bad [UNK] bad [UNK] i ' m now deaf - - - { audience } - - - [UNK] kids [UNK] teens [UNK] adults [UNK] grandma - - - { pc requirements } - - - [UNK] check if you can run paint [UNK] potato [UNK] decent [UNK] fast [UNK] rich boi [UNK] ask nasa if they have a spare computer - - - { difficulty } - - - [UNK] just press ' w ' [UNK] easy [UNK] easy to learn / hard to master [UNK] significant brain usage [UNK] difficult [UNK] dark souls - - - { grind } - - - [UNK] nothing to grind [UNK] only if u care about leaderboards / ranks [UNK] isn ' t necessary to progress [UNK] average grind level [UNK] too much grind [UNK] you ' ll need a second life for grinding - - - { story } - - - [UNK] no story [UNK] some lore [UNK] average [UNK] good [UNK]\"]\n",
      "04_call3: \n",
      "Topic: The game's grind and difficulty level.\n",
      "Label: Too much grind.\n",
      "[\"- - - { graphics } - - - [UNK] you forget what reality is [UNK] beautiful [UNK] good [UNK] decent [UNK] bad [UNK] don ‘ t look too long at it [UNK] ms - dos - - - { gameplay } - - - [UNK] very good [UNK] good [UNK] it ' s just gameplay [UNK] mehh [UNK] watch paint dry instead [UNK] just don ' t - - - { audio } - - - [UNK] eargasm [UNK] very good [UNK] good [UNK] not too bad [UNK] bad [UNK] i ' m now deaf - - - { audience } - - - [UNK] kids [UNK] teens [UNK] adults [UNK] grandma - - - { pc requirements } - - - [UNK] check if you can run paint [UNK] potato [UNK] decent [UNK] fast [UNK] rich boi [UNK] ask nasa if they have a spare computer - - - { difficulty } - - - [UNK] just press ' w ' [UNK] easy [UNK] easy to learn / hard to master [UNK] significant brain usage [UNK] difficult [UNK] dark souls - - - { grind } - - - [UNK] nothing to grind [UNK] only if u care about leaderboards / ranks [UNK] isn ' t necessary to progress [UNK] average grind level [UNK] too much grind [UNK] you ' ll need a second life for grinding - - - { story } - - - [UNK] no story [UNK] some lore [UNK] average [UNK] good [UNK]\", '##anu reeves di dogtown. quest prolognya epik bgt si, spy espionage gitu, dan statement gw sengaja downplaying it karena ya gw ogah ngespoiler dan ngasi harapan tinggi. banyak quest2 organik dan momen2 yang ketemu di jalan dan berujung panjang dan atau jadi memorable, entah berapa kali gw ngegumam \" ah anjir wtf, keren bgt ini worldbuildingnya juara sih ini game, immersive bgt, night city sendiri udah kerasa vibe bgt dengan kemajuan teknolohi dan multi - vertical segment ala kota2 siberpunk. dan kesenjangan2 serta lifestyle orang2 tiap distrik kerasa bgt, terutama paling keliatan ketika kita entering dog town ( kota dlc ) shit, keren bgt, meski distrik kecil tp condensely handcrafted, lo masuk dog town aja orang2 pada ngantri di scan dulu, sampe']\n",
      "04_call4: \n",
      "Label: Grindy but Good\n",
      "\n",
      "['to think that reed also voiced knuckles', 'early access release date : 10 dec 2020 complete edition release date : 26 sep 2023 time to finally play everything cyberpunk 2077 has to offer. i know you waited for it too.']\n",
      "05_call0: Cyberpunk Business\n",
      "['shake its inherent and sound [ / h3 ] phantom liberty increased the graphical fidelity of the main game along with, somewhat controversially, higher system requirements. i have not noticed a massive jump in the look of cyberpunk, although dogtown specifically seems a lot more tightly designed than the rest of night city and often impresses with amazing vistas that make plenty of use of cp2077 ’ s superb lighting the higher requirements, the game overall does run better than previously, although it currently suffers from being a lot more unstable, which i at least anticipate has a better chance of getting patched than bugs like v ’ s face distorting in the mirror, which is still around all these months have not noticed phantom liberty introducing anything new to the game ’ s soundscape ; the voice acting is still as hit - or - miss as before. like the rest of the game, it is by all means serviceable, but not much and setting [ / h3 ] phantom liberty is set in late act 2 of the main game. just after v finishes their business with the vodoo boys in pacifica, they are being contacted by a mysterious netrunner who seems to have just a bit too good of an idea of v ’ s situation', 'background characters [ / h2 ] [ b ] mr. hands : [ / b ] mr. hands is voiced by alex jordan, a seasoned voice actor with 40 + voice roles in the bagpack, and best known for his role as \" hot dog guy \" from \" the amazing world of gumball \". but don \\' t let his slew of minor acting roles fool you, this man absolutely kills it as mr. hands, the life and convincing portrayal of a conniving ploting and posh fixer living in a harsh enviroment alex gives to mr. hands is a homerun without any question. i loved every conversation i had with the character, and it wasn \\' t until the credits started rolling that i actually noticed that it was alex who voiced the character. nothing but praise from story [ / h2 ] [ h3 ] warning spoiler heavy [ / h3 ] where to begin with the from the very beginning i knew this was on another but i didn \\' t expect level 150 on a 100 story the writing, the passion, the visuals, it all blend so well. there were multiple times were i leaned back in my chair an either because of incredible visuals, such as wizzy lizzy \\' s absolutely beautifully choreographed']\n",
      "05_call1: Phantom Liberty Label: Cyberpunk Adventure\n",
      "['background characters [ / h2 ] [ b ] mr. hands : [ / b ] mr. hands is voiced by alex jordan, a seasoned voice actor with 40 + voice roles in the bagpack, and best known for his role as \" hot dog guy \" from \" the amazing world of gumball \". but don \\' t let his slew of minor acting roles fool you, this man absolutely kills it as mr. hands, the life and convincing portrayal of a conniving ploting and posh fixer living in a harsh enviroment alex gives to mr. hands is a homerun without any question. i loved every conversation i had with the character, and it wasn \\' t until the credits started rolling that i actually noticed that it was alex who voiced the character. nothing but praise from story [ / h2 ] [ h3 ] warning spoiler heavy [ / h3 ] where to begin with the from the very beginning i knew this was on another but i didn \\' t expect level 150 on a 100 story the writing, the passion, the visuals, it all blend so well. there were multiple times were i leaned back in my chair an either because of incredible visuals, such as wizzy lizzy \\' s absolutely beautifully choreographed', \"baked with one too many phoned - in ( pun intended ) text message of the dialogue options don ' t match what your character ends up saying. i often felt like i would have chosen something differently after hearing what v becomes a joke at max level. even on the hardest setting, almost every spec is really disliked how disconnected the story was from all the npcs in the main game. a huge portion of cyberpunk ' s story was building those relationships, and they basically play zero role in phantom liberty. hell, you barely even talk to almost no continuation of the johnny / v story. he ' s there to add quippy dialogue ( even that feels sparse ), but doesn ' t really play a role in the story. the stuff you learn about his past with the military is awesome. i wish there was more of i am in your shoes, dumbass. [ / quote ]\"]\n",
      "05_call2: \n",
      "Topic: Phantom Liberty\n",
      "Label: Disappointing Continuation\n",
      "[\"first the main game ; next, edgerunners ; now, phantom better f * * kin see a box of cyberpunk kleenex in the collector ' s edition for cyberpunk projekt red doing their part keeping the tissue papers industry in business.\", \"tried that out yet i can ' t comment on that. however, in my restricted opinion, changing the design of just one boss, when the biggest drawback of the base game was weak bosses, that too based on the creative efforts of a different team that made edgerunners doesn ' t set a strong precedent for notable praise or mention. cdpr ' s own efforts and achievements are clouded with that of edgerunners ' which has been the saving grace of cyberpunk 2077 since update cosmetic changes have been made too like the addition of metro, street races, additional romance hangouts, some new vehicles and vehicular combat, however, nothing that adds flavor. i wish cdpr would ' ve made additions like wallrunning, casino, gang affiliations, air traffic and vehicle customisation, more verticality, more roleplaying elements, more narrative branching : stuff that was initially can ' t say cdpr has redeemed itself with the changes that came along with the new updates. but they sure as hell gave us a really well written and well made spy thriller quest, even better than the base game ' s main story, which leaves you questioning not only the motives of those around you, but your own choices and decisions liberty : 9\"]\n",
      "05_call3: Topic: Cyberpunk 2077 Expansion\n",
      "Label: \"Underwhelming Experience with Too Much Repetition\"\n",
      "[\"tried that out yet i can ' t comment on that. however, in my restricted opinion, changing the design of just one boss, when the biggest drawback of the base game was weak bosses, that too based on the creative efforts of a different team that made edgerunners doesn ' t set a strong precedent for notable praise or mention. cdpr ' s own efforts and achievements are clouded with that of edgerunners ' which has been the saving grace of cyberpunk 2077 since update cosmetic changes have been made too like the addition of metro, street races, additional romance hangouts, some new vehicles and vehicular combat, however, nothing that adds flavor. i wish cdpr would ' ve made additions like wallrunning, casino, gang affiliations, air traffic and vehicle customisation, more verticality, more roleplaying elements, more narrative branching : stuff that was initially can ' t say cdpr has redeemed itself with the changes that came along with the new updates. but they sure as hell gave us a really well written and well made spy thriller quest, even better than the base game ' s main story, which leaves you questioning not only the motives of those around you, but your own choices and decisions liberty : 9\", 'shake its inherent and sound [ / h3 ] phantom liberty increased the graphical fidelity of the main game along with, somewhat controversially, higher system requirements. i have not noticed a massive jump in the look of cyberpunk, although dogtown specifically seems a lot more tightly designed than the rest of night city and often impresses with amazing vistas that make plenty of use of cp2077 ’ s superb lighting the higher requirements, the game overall does run better than previously, although it currently suffers from being a lot more unstable, which i at least anticipate has a better chance of getting patched than bugs like v ’ s face distorting in the mirror, which is still around all these months have not noticed phantom liberty introducing anything new to the game ’ s soundscape ; the voice acting is still as hit - or - miss as before. like the rest of the game, it is by all means serviceable, but not much and setting [ / h3 ] phantom liberty is set in late act 2 of the main game. just after v finishes their business with the vodoo boys in pacifica, they are being contacted by a mysterious netrunner who seems to have just a bit too good of an idea of v ’ s situation']\n",
      "05_call4: Phantom Liberty: 9/10\n",
      "\n",
      "['they cooked', \"the devs cooked with this dlc and the update and when i mean cooked, i ' m talking about michelin 5 - star type of cooking.\"]\n",
      "06_call0: \n",
      "Topic: Cooking Masterpiece\n",
      "Label: Delicious\n",
      "[\"the devs cooked with this dlc and the update and when i mean cooked, i ' m talking about michelin 5 - star type of cooking.\", 'they cooked this one up, let it simmer in the cauldron, spiced it up with a splash of love and released it']\n",
      "06_call1: Culinary Masterpiece\n",
      "['they cooked with this one', \"a thing of beauty - i know will never fade away what you did to me - i know said what you had to say but a thing of beauty will never fade away will never fade away will never fade away i see your eyes, i know you see me you ' re like a ghost how you ' re everywhere i am your demon never leaving a metal soul of rage and fear that one thing that changed it all that one sin that caused the fall a thing of beauty - i know will never fade away what you did to me - i know said what you had to say but a thing of beauty - i know will never fade away and i ' ll do my duty - i know somehow i ' ll find a way but a thing of beauty will never fade away and i ' ll do my duty we ' ll never fade away we ' ll never fade away we ' ll never fade away we ' ll never fade away\"]\n",
      "06_call2: Topic: Beauty and Rage\n",
      "Label: \"Beauty and Rage\" (less than 5 words)\n",
      "[\"a thing of beauty - i know will never fade away what you did to me - i know said what you had to say but a thing of beauty will never fade away will never fade away will never fade away i see your eyes, i know you see me you ' re like a ghost how you ' re everywhere i am your demon never leaving a metal soul of rage and fear that one thing that changed it all that one sin that caused the fall a thing of beauty - i know will never fade away what you did to me - i know said what you had to say but a thing of beauty - i know will never fade away and i ' ll do my duty - i know somehow i ' ll find a way but a thing of beauty will never fade away and i ' ll do my duty we ' ll never fade away we ' ll never fade away we ' ll never fade away we ' ll never fade away\", \", i just can ' t believe the lies and why do i still wanna call you ( call you, call you, call you ) … so, what do you wanna do, what ' s your point of view? there ' s a party, screw it, do you wanna go? a handshake with you, what ' s your point of view? i ' m on top of you, i don ' t wanna go ' cause i really wanna stay at your house and i hope it all works out but you know how much you broke me apart i ' m done with you, i ' m ignoring you i don ' t wanna know … ohh oh - oh, oh - oh - oh i don ' t know why i ' m no one … so, get away another way to feel what you didn ' t want yourself to know and let yourself go you know you didn ' t lose your self - control let ' s start at the rainbow turn away another way to be where you didn ' t want yourself to go and let yourself go is that a compromise? … so what do you wanna do, what ' s your point of view? there ' s a party, screw it, do you wanna go? a handshake with you,\"]\n",
      "06_call3: \n",
      "Topic: Beauty and Obsession\n",
      "\n",
      "Label: \"Beauty and Obsession\" (5 words)\n",
      "[\"the devs cooked with this dlc and the update and when i mean cooked, i ' m talking about michelin 5 - star type of cooking.\", \"a thing of beauty - i know will never fade away what you did to me - i know said what you had to say but a thing of beauty will never fade away will never fade away will never fade away i see your eyes, i know you see me you ' re like a ghost how you ' re everywhere i am your demon never leaving a metal soul of rage and fear that one thing that changed it all that one sin that caused the fall a thing of beauty - i know will never fade away what you did to me - i know said what you had to say but a thing of beauty - i know will never fade away and i ' ll do my duty - i know somehow i ' ll find a way but a thing of beauty will never fade away and i ' ll do my duty we ' ll never fade away we ' ll never fade away we ' ll never fade away we ' ll never fade away\"]\n",
      "06_call4: \"Beauty Never Fades\"\n",
      "\n",
      "['yet again, another masterpiece.', 'masterpiece part two.']\n",
      "07_call0: Masterpiece II\n",
      "['a masterpiece!', 'it was just masterpiece']\n",
      "07_call1: \"Masterpiece\"\n",
      "['masterpiece.', 'masterpiece']\n",
      "07_call2: Masterpiece\n",
      "['masterpiece part two.', 'a masterpiece!']\n",
      "07_call3: Masterpiece\n",
      "['masterpiece.', 'a masterpiece.']\n",
      "07_call4: Masterpiece\n",
      "\n",
      "[\"sorry reed, i don ' t do duck.\", 'they got actor from thor 2']\n",
      "08_call0: Topic Label: Thor\n",
      "['\" wild hunt jacket + gwynbleidd available in cyberpunk 2077 : phantom liberty for the witcher 3 : wild hunt + gwent t - shirt available in cyberpunk 2077 : phantom liberty for gwent : the witcher card game how do i link this??? who designs these scam \" rewards \" you cannot even claim since there is absolutely no option to link account anywhere?? edit : took me like 4 hours or so to finally get it done. wasnt really worth the hassle but oh well. why would anyone just implement a \" link with steam \" buttton? ( :', \"underchromed sometimes. but it ' s the changes to clothing aren ' t bad. but i noticed some helmets add armor. yet a bullet - proof flak vest doesn ' t?\"]\n",
      "08_call1: Topic: Cyberpunk Clothing\n",
      "Label: \"Clothing Customization\"\n",
      "['goated dlc fr', \"underchromed sometimes. but it ' s the changes to clothing aren ' t bad. but i noticed some helmets add armor. yet a bullet - proof flak vest doesn ' t?\"]\n",
      "08_call2: \n",
      "Topic: Clothing and Armor in a Post-Apocalyptic World\n",
      "Label: \"Armor Up\"\n",
      "[\"underchromed sometimes. but it ' s the changes to clothing aren ' t bad. but i noticed some helmets add armor. yet a bullet - proof flak vest doesn ' t?\", 'wardrobe outfits number, more, could u? i do like to match outfits xd']\n",
      "08_call3: \"Clothing customization with armor options.\"\n",
      "['goated expansion fr + idris alba', 'it, those are done. for the most part, dogtown and the rest of nc are separate areas that don ’ t ‘ talk ’ to each while there are new outfits are cool, i was hoping to see more of the more unique outfits ive seen on npc such as the ‘ light ’ jackets and clothing with leds and lighting effects on them. overall. pl is fantastic and im looking forward to a new playthrough of it. its worth full']\n",
      "08_call4: Topic Label: Fantasy RPG Expansion\n",
      "\n",
      "['blood and wine type o beat', 'better than blood and wine and hearts of stone. fight me.']\n",
      "09_call0: \n",
      "\"Blood and Wine Type Beat\"\n",
      "['better than blood and wine and hearts of stone. fight me.', 'blood and wine depressed younger cousin']\n",
      "09_call1: United States President\n",
      "[\"we ' re royally fucked aren ' t we, johnny.\", 'blood & wine tier']\n",
      "09_call2: \n",
      "Topic Label: Dystopian Future\n",
      "[\"a must you get the full ending, it ' s blood & wine levels of feels.\", \"we ' re royally fucked aren ' t we, johnny.\"]\n",
      "09_call3: Bloody United States\n",
      "[\"this has blood and wine - esque quality and i ' m here for it.\", 'same quality as blood and wine']\n",
      "09_call4: \n",
      "Topic Label: Bloody Wine\n",
      "\n"
     ]
    }
   ],
   "source": [
    "import time\n",
    "\n",
    "N_times = 5\n",
    "\n",
    "topic_ids = list(repr_docs_mappings.keys())\n",
    "\n",
    "for topic_id in topic_ids:\n",
    "    _topic_keywords = topic_keywords[topic_id]\n",
    "\n",
    "    temp_disable_char_limit = False\n",
    "    _count = 0\n",
    "\n",
    "    _reviews_df = df_original_texts[df_original_texts['topic_id'] == topic_id]\n",
    "    for i in range(N_times):\n",
    "        if new_topic_labels.get(topic_id, {}).get(f\"call_{i}\", None) is not None:\n",
    "            print(f'{topic_id:02}_call{i}: {new_topic_labels[topic_id][f\"call_{i}\"]}')\n",
    "            continue\n",
    "\n",
    "        while True:\n",
    "            if _count > 20:\n",
    "                temp_disable_char_limit = True\n",
    "\n",
    "            \n",
    "            _sampled_reviews_df = _reviews_df.sample(n=2, replace=False)\n",
    "\n",
    "            if split_sentence:\n",
    "                check_bool = _sampled_reviews_df.apply(lambda x: len(x['review_split']) < 5000, axis=1)\n",
    "            else:\n",
    "                check_bool = _sampled_reviews_df.apply(lambda x: len(x['review']) < 5000, axis=1)\n",
    "        \n",
    "            \n",
    "            if temp_disable_char_limit:\n",
    "                break\n",
    "            \n",
    "            if all(check_bool):\n",
    "                break\n",
    "            else:\n",
    "                _count += 1\n",
    "\n",
    "        if split_sentence:\n",
    "            topic_reviews = list(_sampled_reviews_df['review_split'].values)\n",
    "        else:\n",
    "            topic_reviews = list(_sampled_reviews_df['review'].values)\n",
    "\n",
    "        print(topic_reviews)\n",
    "\n",
    "        result = chain.invoke({\n",
    "            'topic_keywords':_topic_keywords,\n",
    "            'topic_reviews':topic_reviews\n",
    "        })\n",
    "\n",
    "        print(f'{topic_id:02}_call{i}: {result}')\n",
    "\n",
    "        if topic_id not in new_topic_labels:\n",
    "            new_topic_labels[topic_id] = {}\n",
    "            randomed_topic_reviews[topic_id] = {}\n",
    "\n",
    "\n",
    "        new_topic_labels[topic_id][f\"call_{i}\"] = result\n",
    "        randomed_topic_reviews[topic_id][f\"call_{i}\"] = {\n",
    "            'reviews': topic_reviews,\n",
    "            \"recommendationid\": _sampled_reviews_df['recommendationid'].values.tolist()\n",
    "        }\n",
    "\n",
    "    print()"
   ]
  },
  {
   "cell_type": "code",
   "execution_count": 66,
   "metadata": {},
   "outputs": [],
   "source": [
    "# save the topic labels, sampled docs and their ids\n",
    "# in the eval folder\n",
    "\n",
    "llm_generation_result = {\n",
    "    'new_topic_labels': new_topic_labels,\n",
    "    'randomed_topic_reviews': randomed_topic_reviews\n",
    "}\n",
    "\n",
    "with open(eval_results_external_folder_path.joinpath('llm_generation_result.json'), 'w') as f:\n",
    "    json.dump(llm_generation_result, f, indent=2)"
   ]
  },
  {
   "cell_type": "code",
   "execution_count": null,
   "metadata": {},
   "outputs": [],
   "source": []
  }
 ],
 "metadata": {
  "kernelspec": {
   "display_name": "fyp-test-wsl-tm",
   "language": "python",
   "name": "python3"
  },
  "language_info": {
   "codemirror_mode": {
    "name": "ipython",
    "version": 3
   },
   "file_extension": ".py",
   "mimetype": "text/x-python",
   "name": "python",
   "nbconvert_exporter": "python",
   "pygments_lexer": "ipython3",
   "version": "3.9.18"
  }
 },
 "nbformat": 4,
 "nbformat_minor": 2
}
