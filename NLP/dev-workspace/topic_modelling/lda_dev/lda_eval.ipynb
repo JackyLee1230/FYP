{
 "cells": [
  {
   "cell_type": "markdown",
   "metadata": {},
   "source": [
    "Evaluating the best LDA model from a hyperparemter search\n",
    "\n",
    "We need\n",
    "- The text (lemmatized), or any text\n",
    "- The LDA model\n",
    "- The corpus\n",
    "- The id2word (can be generated on the fly)"
   ]
  },
  {
   "cell_type": "code",
   "execution_count": 1,
   "metadata": {},
   "outputs": [],
   "source": [
    "import pandas as pd\n",
    "import numpy as np\n",
    "\n",
    "import gensim\n",
    "\n",
    "from pathlib import Path\n",
    "from datetime import datetime\n",
    "import json\n",
    "import sys"
   ]
  },
  {
   "cell_type": "code",
   "execution_count": 2,
   "metadata": {},
   "outputs": [],
   "source": [
    "%load_ext autoreload"
   ]
  },
  {
   "cell_type": "code",
   "execution_count": 3,
   "metadata": {},
   "outputs": [],
   "source": [
    "sys.path.append('../')\n",
    "\n",
    "%autoreload 2\n",
    "from dataset_loader import GENRES, load_dataset"
   ]
  },
  {
   "cell_type": "code",
   "execution_count": 4,
   "metadata": {},
   "outputs": [],
   "source": [
    "# constants\n",
    "\n",
    "genre = GENRES.INDIE"
   ]
  },
  {
   "cell_type": "code",
   "execution_count": 7,
   "metadata": {},
   "outputs": [
    {
     "name": "stdout",
     "output_type": "stream",
     "text": [
      "Loaded X_lemmatized\n",
      "X_lemmatized len: 723659\n"
     ]
    }
   ],
   "source": [
    "# TODO: Load the text\n",
    "\n",
    "X_lemmatized_file = Path(f'lemmatized_data/{genre.value:02}_{str(genre)}.pkl')\n",
    "\n",
    "if X_lemmatized_file.exists():\n",
    "    X_lemmatized = pd.read_pickle(X_lemmatized_file)\n",
    "    print(f'Loaded X_lemmatized')\n",
    "    print(\"X_lemmatized len:\", len(X_lemmatized))\n",
    "else:\n",
    "    raise 'X_lemmatized_file does not exist'"
   ]
  },
  {
   "cell_type": "markdown",
   "metadata": {},
   "source": [
    "Load the best model from search"
   ]
  },
  {
   "cell_type": "code",
   "execution_count": null,
   "metadata": {},
   "outputs": [],
   "source": [
    "# load the best model from training folder\n",
    "\n",
    "training_datetime = datetime(2024, 1, 31, 13, 13, 10)\n",
    "\n",
    "training_folder = Path(f'lda_multicore_grid_search_{training_datetime.strftime(\"%Y%m%d_%H%M%S\")}')\n",
    "training_result_json_path = training_folder.joinpath('result.json')\n",
    "with open(training_result_json_path, 'r') as f:\n",
    "    training_result = json.load(f)\n",
    "\n",
    "best_model_checkpoint_path = Path(training_result['best_model_checkpoint'])\n",
    "\n",
    "best_id2word = gensim.corpora.Dictionary.load(str(best_model_checkpoint_path.joinpath('lda_multicore.id2word')))\n",
    "# best_corpus = [best_id2word.doc2bow(text) for text in X_lemmatized]      # recreate the corpus given the id2word (gensim Dictionary) (this is for new data)\n",
    "best_corpus = gensim.corpora.MmCorpus(str(best_model_checkpoint_path.joinpath(f'{best_model_checkpoint_path.stem}_corpus.mm')))\n",
    "best_model = gensim.models.ldamulticore.LdaMulticore.load(str(best_model_checkpoint_path.joinpath('lda_multicore')))\n",
    "\n",
    "print('Best model checkpoint path:', best_model_checkpoint_path)\n",
    "\n",
    "lda_model = best_model\n",
    "id2word = best_id2word\n",
    "corpus = best_corpus"
   ]
  },
  {
   "cell_type": "markdown",
   "metadata": {},
   "source": [
    "Visualize the data"
   ]
  },
  {
   "cell_type": "code",
   "execution_count": null,
   "metadata": {},
   "outputs": [],
   "source": [
    "import pyLDAvis.gensim_models\n",
    "\n",
    "pyLDAvis.enable_notebook()\n",
    "vis = pyLDAvis.gensim_models.prepare(lda_model, corpus, id2word, mds=\"mmds\", R=10)\n",
    "vis"
   ]
  }
 ],
 "metadata": {
  "kernelspec": {
   "display_name": "fyp-test-wsl-tm",
   "language": "python",
   "name": "python3"
  },
  "language_info": {
   "codemirror_mode": {
    "name": "ipython",
    "version": 3
   },
   "file_extension": ".py",
   "mimetype": "text/x-python",
   "name": "python",
   "nbconvert_exporter": "python",
   "pygments_lexer": "ipython3",
   "version": "3.9.18"
  }
 },
 "nbformat": 4,
 "nbformat_minor": 2
}
