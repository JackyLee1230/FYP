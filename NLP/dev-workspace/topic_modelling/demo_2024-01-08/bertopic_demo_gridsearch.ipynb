{
 "cells": [
  {
   "cell_type": "markdown",
   "metadata": {},
   "source": [
    "Demo ipynb for BERTopic\n",
    "\n",
    "Testing the pipeline for a single game\n",
    "\n",
    "Ref\n",
    "\n",
    "BERTopic tutorial\n",
    "\n",
    "https://colab.research.google.com/drive/1FieRA9fLdkQEGDIMYl0I3MCjSUKVF8C-?usp=sharing#scrollTo=ScBUgXn06IK6\n",
    "\n",
    "\n",
    "BERTopic Best Practices\n",
    "\n",
    "https://colab.research.google.com/drive/1BoQ_vakEVtojsd2x_U6-_x52OOuqruj2?usp=sharing#scrollTo=m3aN-f9B4rmU\n",
    "\n",
    "\n",
    "BERTopic Big data (for improving the speed of the training pipeline, on GPU)\n",
    "\n",
    "https://colab.research.google.com/drive/1W7aEdDPxC29jP99GGZphUlqjMFFVKtBC?usp=sharing#scrollTo=Ls2Q-iccGs7O\n",
    "\n",
    "\n",
    "BERTopic Topic Modelling with Llama2\n",
    "\n",
    "https://colab.research.google.com/drive/1QCERSMUjqGetGGujdrvv_6_EeoIcd_9M?usp=sharing#scrollTo=4Uj8MYhCafmX"
   ]
  },
  {
   "cell_type": "code",
   "execution_count": 1,
   "metadata": {},
   "outputs": [],
   "source": [
    "import pandas as pd\n",
    "import numpy as np\n",
    "\n",
    "from pathlib import Path\n",
    "import json\n",
    "from datetime import datetime\n",
    "\n",
    "import gensim\n",
    "\n",
    "import nltk\n",
    "\n",
    "import pyLDAvis"
   ]
  },
  {
   "cell_type": "code",
   "execution_count": 2,
   "metadata": {},
   "outputs": [
    {
     "name": "stdout",
     "output_type": "stream",
     "text": [
      "<class 'pandas.core.frame.DataFrame'>\n",
      "Index: 75499 entries, 57735 to 133233\n",
      "Data columns (total 6 columns):\n",
      " #   Column        Non-Null Count  Dtype \n",
      "---  ------        --------------  ----- \n",
      " 0   index         75499 non-null  int64 \n",
      " 1   app_id        75499 non-null  int64 \n",
      " 2   app_name      75499 non-null  object\n",
      " 3   review_text   75499 non-null  object\n",
      " 4   review_score  75499 non-null  int64 \n",
      " 5   review_votes  75499 non-null  int64 \n",
      "dtypes: int64(4), object(2)\n",
      "memory usage: 4.0+ MB\n"
     ]
    }
   ],
   "source": [
    "dataset_path = Path('../../dataset/topic_modelling/top_10_games/00_Terraria.pkl')\n",
    "\n",
    "dataset = pd.read_pickle(dataset_path)\n",
    "\n",
    "dataset.info(verbose=True)"
   ]
  },
  {
   "cell_type": "code",
   "execution_count": 3,
   "metadata": {},
   "outputs": [],
   "source": [
    "%load_ext autoreload"
   ]
  },
  {
   "cell_type": "code",
   "execution_count": 4,
   "metadata": {},
   "outputs": [],
   "source": [
    "# data preprocessing\n",
    "\n",
    "import re\n",
    "\n",
    "import sys\n",
    "sys.path.append('../../sa')\n",
    "\n",
    "%autoreload 2\n",
    "import str_cleaning_functions\n",
    "\n",
    "\n",
    "def cleaning(df, review):\n",
    "    df[review] = df[review].apply(lambda x: str_cleaning_functions.remove_links(x))\n",
    "    df[review] = df[review].apply(lambda x: str_cleaning_functions.remove_links2(x))\n",
    "    df[review] = df[review].apply(lambda x: str_cleaning_functions.clean(x))\n",
    "    df[review] = df[review].apply(lambda x: str_cleaning_functions.deEmojify(x))\n",
    "    df[review] = df[review].apply(lambda x: str_cleaning_functions.unify_whitespaces(x))\n",
    "\n",
    "def cleaning_strlist(str_list):\n",
    "    str_list = list(map(lambda x: str_cleaning_functions.remove_links(x), str_list))\n",
    "    str_list = list(map(lambda x: str_cleaning_functions.remove_links2(x), str_list))\n",
    "    str_list = list(map(lambda x: str_cleaning_functions.clean(x), str_list))\n",
    "    str_list = list(map(lambda x: str_cleaning_functions.deEmojify(x), str_list))\n",
    "    str_list = list(map(lambda x: str_cleaning_functions.unify_whitespaces(x), str_list))\n",
    "    return str_list"
   ]
  },
  {
   "cell_type": "code",
   "execution_count": 5,
   "metadata": {},
   "outputs": [],
   "source": [
    "cleaning(dataset, 'review_text')"
   ]
  },
  {
   "cell_type": "code",
   "execution_count": 6,
   "metadata": {},
   "outputs": [],
   "source": [
    "X = dataset['review_text'].values"
   ]
  },
  {
   "cell_type": "code",
   "execution_count": 7,
   "metadata": {},
   "outputs": [],
   "source": [
    "# remove empty strings\n",
    "\n",
    "X = list(filter(lambda x: len(x) > 0, X))"
   ]
  },
  {
   "cell_type": "markdown",
   "metadata": {},
   "source": [
    "Training\n",
    "\n",
    "for small documents, simply run with the BERTopic encapsulated function and the training is all done.\n",
    "\n",
    "for large documents, it's better to pre-calculate embeddings and prepare vocab b4 training to reduce memory usage."
   ]
  },
  {
   "cell_type": "code",
   "execution_count": 8,
   "metadata": {},
   "outputs": [],
   "source": [
    "# small documents\n",
    "\n",
    "# from bertopic import BERTopic\n",
    "\n",
    "# TOP_N_WORDS = 10                # number of words per topic\n",
    "# N_GRAM_RANGE = (1, 2)           # n-gram\n",
    "\n",
    "# topic_model = BERTopic(language=\"english\", top_n_words=TOP_N_WORDS, calculate_probabilities=True, verbose=True)\n",
    "# topics, probs = topic_model.fit_transform(X)"
   ]
  },
  {
   "cell_type": "code",
   "execution_count": 9,
   "metadata": {},
   "outputs": [
    {
     "name": "stdout",
     "output_type": "stream",
     "text": [
      "mps\n"
     ]
    }
   ],
   "source": [
    "import platform\n",
    "import torch\n",
    "\n",
    "if platform.system() == 'Linux' or platform.system() == 'Windows':\n",
    "    device = torch.device('cuda' if torch.cuda.is_available() else 'cpu')\n",
    "else:\n",
    "    device = torch.device('mps')        # m-series machine\n",
    "\n",
    "print(device)"
   ]
  },
  {
   "cell_type": "markdown",
   "metadata": {},
   "source": [
    "Build the hyperparameter selection (typically number of topics, but UMAP and HBSCAN also have hyperparameters)\n",
    "\n",
    "with grid/random search"
   ]
  },
  {
   "cell_type": "code",
   "execution_count": 10,
   "metadata": {},
   "outputs": [],
   "source": [
    "from gensim.models import CoherenceModel\n",
    "from copy import deepcopy\n",
    "\n",
    "from sklearn.model_selection import ParameterGrid, ParameterSampler\n",
    "\n",
    "sys.path.append('../')\n",
    "\n",
    "from eval_metrics import compute_inverted_rbo, compute_topic_diversity, compute_pairwise_jaccard_similarity, \\\n",
    "                        METRICS, SEARCH_BEHAVIOUR, COHERENCE_MODEL_METRICS\n",
    "\n",
    "# TODO: write sth like lda_demo_gridsearch.ipynb to select hyperparameters"
   ]
  },
  {
   "cell_type": "code",
   "execution_count": 11,
   "metadata": {},
   "outputs": [],
   "source": [
    "from typing import Iterable, List, Tuple, Union\n",
    "\n",
    "\n",
    "def _init_sentence_transformers_params(model_name_or_path: str = None):\n",
    "    \n",
    "    params_dict = {}\n",
    "    params_dict['model_name_or_path'] = model_name_or_path\n",
    "\n",
    "    return params_dict\n",
    "\n",
    "def _init_vocab_tokenizer_params(n_frequency:int = 0, ngram_range:Tuple[int, int] = (1, 1)):\n",
    "\n",
    "    params_dict = {}\n",
    "    params_dict['n_frequency'] = n_frequency\n",
    "    params_dict['ngram_range'] = ngram_range\n",
    "\n",
    "    return params_dict\n",
    "\n",
    "def _init_umap_params(n_neighbors:int = 15,     # the number of neighbors to consider when approximating the local metric\n",
    "                      n_components:int = 5,     # the target embedding dimension, its effect is largest on the performance of HDBSCAN. Increasing this value too much and HDBSCAN will have a hard time clustering the high-dimensional embeddings\n",
    "                      metric:str = 'cosine', \n",
    "                      min_dist:float = 0.1,     # the desired separation between close points in the embedding space\n",
    "                      n_epochs:int = None,      # the number of training epochs to use when optimizing the low dimensional representation\n",
    "                      low_memory:bool = False,\n",
    "                      random_state:int = None):\n",
    "    \n",
    "    '''\n",
    "    Suggested parameter tuning: https://maartengr.github.io/BERTopic/getting_started/parameter%20tuning/parametertuning.html\n",
    "    '''\n",
    "\n",
    "    params_dict = {}\n",
    "    params_dict['n_neighbors'] = n_neighbors\n",
    "    params_dict['n_components'] = n_components\n",
    "    params_dict['metric'] = metric\n",
    "    params_dict['min_dist'] = min_dist\n",
    "    params_dict['n_epochs'] = n_epochs\n",
    "    params_dict['low_memory'] = low_memory\n",
    "    params_dict['random_state'] = random_state\n",
    "\n",
    "    return params_dict\n",
    "\n",
    "def _init_hdbscan_params(min_cluster_size:int = 5,\n",
    "                            min_samples:int = None, \n",
    "                            metric:str = 'euclidean',\n",
    "                            prediction_data:bool = True):\n",
    "        '''\n",
    "        Suggested parameter tuning: https://maartengr.github.io/BERTopic/getting_started/parameter%20tuning/parametertuning.html\n",
    "        '''\n",
    "    \n",
    "        params_dict = {}\n",
    "        params_dict['min_cluster_size'] = min_cluster_size\n",
    "        params_dict['min_samples'] = min_samples\n",
    "        params_dict['metric'] = metric\n",
    "        params_dict['prediction_data'] = prediction_data\n",
    "    \n",
    "        return params_dict\n",
    "\n",
    "def _init_bertopic_params(language: str = \"english\",        # used to simplify the selection of sentence-transformers models, but since we are passing our own sbert model, this can be ignored.\n",
    "                 top_n_words: int = 10,\n",
    "                #  n_gram_range: Tuple[int, int] = (1, 1),\n",
    "                 min_topic_size: int = 10,\n",
    "                 nr_topics: Union[int, str] = None,\n",
    "                 low_memory: bool = False,\n",
    "                 calculate_probabilities: bool = False,\n",
    "                 seed_topic_list: List[List[str]] = None,\n",
    "                 zeroshot_topic_list: List[str] = None,\n",
    "                 zeroshot_min_similarity: float = .7):\n",
    "    \n",
    "    '''\n",
    "    Parameter tuning: https://maartengr.github.io/BERTopic/getting_started/parameter%20tuning/parametertuning.html\n",
    "    '''\n",
    "     \n",
    "    params_dict = {}\n",
    "    params_dict['language'] = language                     # put in the params_dict for completeness (as it appears in Parameter tuning in BERTopic page)\n",
    "    params_dict['top_n_words'] = top_n_words                # this also affects the number of top N words used to calculate metrics\n",
    "    # params_dict['n_gram_range'] = n_gram_range            # this is controlled by the vocab_tokenizer_params\n",
    "    params_dict['min_topic_size'] = min_topic_size\n",
    "    params_dict['nr_topics'] = nr_topics\n",
    "    params_dict['low_memory'] = low_memory\n",
    "    params_dict['calculate_probabilities'] = calculate_probabilities\n",
    "    params_dict['seed_topic_list'] = seed_topic_list\n",
    "    params_dict['zeroshot_topic_list'] = zeroshot_topic_list\n",
    "    params_dict['zeroshot_min_similarity'] = zeroshot_min_similarity\n",
    "\n",
    "    return params_dict\n"
   ]
  },
  {
   "cell_type": "code",
   "execution_count": 34,
   "metadata": {},
   "outputs": [],
   "source": [
    "def _init_config_dict(config_path:Path, model_name:str, hyperparameters:dict, search_space_dict:dict, \n",
    "                      metrics:list[METRICS], monitor:METRICS,\n",
    "                      search_behaviour:SEARCH_BEHAVIOUR, search_rs:int, search_n_iter:int):\n",
    "    \n",
    "    if not config_path.exists():\n",
    "        config = {}\n",
    "\n",
    "        sbert_params = _init_sentence_transformers_params(**hyperparameters['sbert_params'])\n",
    "        vocab_tokenizer_params = _init_vocab_tokenizer_params(**hyperparameters['vocab_tokenizer_params'])\n",
    "        umap_params = _init_umap_params(**hyperparameters['umap_params'])\n",
    "        hdbscan_params = _init_hdbscan_params(**hyperparameters['hdbscan_params'])\n",
    "        bertopic_params = _init_bertopic_params(**hyperparameters['bertopic_params'])\n",
    "\n",
    "        config['model'] = model_name\n",
    "        config['sbert_params'] = sbert_params\n",
    "        config['vocab_tokenizer_params'] = vocab_tokenizer_params\n",
    "        config['umap_params'] = umap_params\n",
    "        config['hdbscan_params'] = hdbscan_params\n",
    "        config['bertopic_params'] = bertopic_params\n",
    "\n",
    "        # remove hyperparameters that are in the search_space_dict\n",
    "        if 'sbert_params' in search_space_dict:\n",
    "            for k in search_space_dict['sbert_params'].keys():\n",
    "                sbert_params.pop(k, '')\n",
    "        if 'vocab_tokenizer_params' in search_space_dict:\n",
    "            for k in search_space_dict['vocab_tokenizer_params'].keys():\n",
    "                vocab_tokenizer_params.pop(k, '')\n",
    "        if 'umap_params' in search_space_dict:\n",
    "            for k in search_space_dict['umap_params'].keys():\n",
    "                umap_params.pop(k, '')\n",
    "        if 'hdbscan_params' in search_space_dict:\n",
    "            for k in search_space_dict['hdbscan_params'].keys():\n",
    "                hdbscan_params.pop(k, '')\n",
    "        if 'bertopic_params' in search_space_dict:\n",
    "            for k in search_space_dict['bertopic_params'].keys():\n",
    "                bertopic_params.pop(k, '')\n",
    "\n",
    "        config['search_space'] = search_space_dict\n",
    "\n",
    "        config['metrics'] = list(map(lambda x: x.value, metrics))\n",
    "\n",
    "        config['monitor'] = monitor.value\n",
    "\n",
    "        config['search_behaviour'] = search_behaviour.value\n",
    "        if search_behaviour == SEARCH_BEHAVIOUR.RANDOM_SEARCH:\n",
    "            config['search_rs'] = search_rs\n",
    "            config['search_n_iter'] = search_n_iter\n",
    "\n",
    "        with open(config_path, 'w') as f:\n",
    "            json.dump(config, f, indent=2)\n",
    "\n",
    "        print('Created config file at {}'.format(config_path))\n",
    "\n",
    "    else:\n",
    "        with open(config_path, 'r') as f:\n",
    "            config = json.load(f)\n",
    "\n",
    "        # check whether the config file is consistent with the input parameters\n",
    "        assert config['model'] == model_name, 'input model_name is not consistent with config[\"model\"]'\n",
    "        assert config['metrics'] == list(map(lambda x: x.value, metrics)), 'input metrics is not consistent with config[\"metrics\"]'\n",
    "        assert config['monitor'] == monitor.value, 'input monitor is not consistent with config[\"monitor\"]'\n",
    "        assert config['search_behaviour'] == search_behaviour.value, 'input search_behaviour is not consistent with config[\"search_behaviour\"]'\n",
    "        if search_behaviour == SEARCH_BEHAVIOUR.RANDOM_SEARCH:\n",
    "            assert config['search_rs'] == search_rs, 'input search_rs is not consistent with config[\"search_rs\"]'\n",
    "            assert config['search_n_iter'] == search_n_iter, 'input search_n_iter is not consistent with config[\"search_n_iter\"]'\n",
    "        \n",
    "        # check whether the config file contains all the hyperparameters\n",
    "        sbert_params = _init_sentence_transformers_params(**hyperparameters['sbert_params'])\n",
    "        vocab_tokenizer_params = _init_vocab_tokenizer_params(**hyperparameters['vocab_tokenizer_params'])\n",
    "        umap_params = _init_umap_params(**hyperparameters['umap_params'])\n",
    "        hdbscan_params = _init_hdbscan_params(**hyperparameters['hdbscan_params'])\n",
    "        bertopic_params = _init_bertopic_params(**hyperparameters['bertopic_params'])\n",
    "\n",
    "        assert config['sbert_params'].keys() <= sbert_params.keys(), 'existing config[\"sbert_params\"] contains additional hyperparameters'\n",
    "        assert config['vocab_tokenizer_params'].keys() <= vocab_tokenizer_params.keys(), 'existing config[\"vocab_tokenizer_params\"] contains additional hyperparameters'\n",
    "        assert config['umap_params'].keys() <= umap_params.keys(), 'existing config[\"umap_params\"] contains additional hyperparameters'\n",
    "        assert config['hdbscan_params'].keys() <= hdbscan_params.keys(), 'existing config[\"hdbscan_params\"] contains additional hyperparameters'\n",
    "        assert config['bertopic_params'].keys() <= bertopic_params.keys(), 'existing config[\"bertopic_params\"] contains additional hyperparameters'\n",
    "\n",
    "        for key in sbert_params.keys() & config['sbert_params'].keys():\n",
    "            assert sbert_params[key] == config['sbert_params'][key], 'existing config[\"sbert_params\"] contains different hyperparameters'\n",
    "        for key in vocab_tokenizer_params.keys() & config['vocab_tokenizer_params'].keys():\n",
    "            assert vocab_tokenizer_params[key] == config['vocab_tokenizer_params'][key], 'existing config[\"vocab_tokenizer_params\"] contains different hyperparameters'\n",
    "        for key in umap_params.keys() & config['umap_params'].keys():\n",
    "            assert umap_params[key] == config['umap_params'][key], 'existing config[\"umap_params\"] contains different hyperparameters'\n",
    "        for key in hdbscan_params.keys() & config['hdbscan_params'].keys():\n",
    "            assert hdbscan_params[key] == config['hdbscan_params'][key], 'existing config[\"hdbscan_params\"] contains different hyperparameters'\n",
    "        for key in bertopic_params.keys() & config['bertopic_params'].keys():\n",
    "            assert bertopic_params[key] == config['bertopic_params'][key], 'existing config[\"bertopic_params\"] contains different hyperparameters'\n",
    "        \n",
    "        # check whether the config file contains all the search space\n",
    "        \n",
    "        if 'sbert_params' in config['search_space']:\n",
    "            assert config['search_space']['sbert_params'].keys() == search_space_dict['sbert_params'].keys(), 'input search_space_dict[\"sbert_params\"] contains different hyperparameter keys than existing config[\"search_space\"][\"sbert_params\"]'\n",
    "            for key in search_space_dict['sbert_params'].keys():\n",
    "                assert search_space_dict['sbert_params'][key] == config['search_space']['sbert_params'][key], f'input search_space_dict[\"sbert_params\"][\"{key}\"] contains value than existing config[\"search_space\"][\"sbert_params\"][\"{key}\"]'\n",
    "        if 'vocab_tokenizer_params' in config['search_space']:\n",
    "            assert config['search_space']['vocab_tokenizer_params'].keys() == search_space_dict['vocab_tokenizer_params'].keys(), 'input search_space_dict[\"vocab_tokenizer_params\"] contains different hyperparameter keys than existing config[\"search_space\"][\"vocab_tokenizer_params\"]'\n",
    "            for key in search_space_dict['vocab_tokenizer_params'].keys():\n",
    "                assert search_space_dict['vocab_tokenizer_params'][key] == config['search_space']['vocab_tokenizer_params'][key], f'input search_space_dict[\"vocab_tokenizer_params\"][\"{key}\"] contains value than existing config[\"search_space\"][\"vocab_tokenizer_params\"][\"{key}\"]'\n",
    "        if 'umap_params' in config['search_space']:\n",
    "            assert config['search_space']['umap_params'].keys() == search_space_dict['umap_params'].keys(), 'input search_space_dict[\"umap_params\"] contains different hyperparameter keys than existing config[\"search_space\"][\"umap_params\"]'\n",
    "            for key in search_space_dict['umap_params'].keys():\n",
    "                assert search_space_dict['umap_params'][key] == config['search_space']['umap_params'][key], f'input search_space_dict[\"umap_params\"][\"{key}\"] contains value than existing config[\"search_space\"][\"umap_params\"][\"{key}\"]'\n",
    "        if 'hdbscan_params' in config['search_space']:\n",
    "            assert config['search_space']['hdbscan_params'].keys() == search_space_dict['hdbscan_params'].keys(), 'input search_space_dict[\"hdbscan_params\"] contains different hyperparameter keys than existing config[\"search_space\"][\"hdbscan_params\"]'\n",
    "            for key in search_space_dict['hdbscan_params'].keys():\n",
    "                assert search_space_dict['hdbscan_params'][key] == config['search_space']['hdbscan_params'][key], f'input search_space_dict[\"hdbscan_params\"][\"{key}\"] contains value than existing config[\"search_space\"][\"hdbscan_params\"][\"{key}\"]'\n",
    "        if 'bertopic_params' in config['search_space']:\n",
    "            assert config['search_space']['bertopic_params'].keys() == search_space_dict['bertopic_params'].keys(), 'input search_space_dict[\"bertopic_params\"] contains different hyperparameter keys than existing config[\"search_space\"][\"bertopic_params\"]'\n",
    "            for key in search_space_dict['bertopic_params'].keys():\n",
    "                assert search_space_dict['bertopic_params'][key] == config['search_space']['bertopic_params'][key], f'input search_space_dict[\"bertopic_params\"][\"{key}\"] contains value than existing config[\"search_space\"][\"bertopic_params\"][\"{key}\"]'\n",
    "\n",
    "        print('Loaded existing config file from {}'.format(config_path))\n",
    "        print('Hyperparameters and search space are consistent with the input parameters')\n",
    "\n",
    "    return config"
   ]
  },
  {
   "cell_type": "code",
   "execution_count": 22,
   "metadata": {},
   "outputs": [],
   "source": [
    "def _init_result_dict(result_path: Path, monitor_type:str):\n",
    "        \n",
    "    if not result_path.exists():\n",
    "        result = {}\n",
    "\n",
    "        result['best_metric'] = -float('inf')\n",
    "        result['best_model_checkpoint'] = \"\"\n",
    "        result['best_hyperparameters'] = dict()\n",
    "        result[\"monitor_type\"] = monitor_type\n",
    "        result[\"log_history\"] = list()\n",
    "\n",
    "        # with open(result_path, 'w') as f:\n",
    "        #     json.dump(result, f, indent=2)\n",
    "\n",
    "        # print('Created result file at {}'.format(result_path))\n",
    "\n",
    "    else:\n",
    "        with open(result_path, 'r') as f:\n",
    "            result = json.load(f)\n",
    "\n",
    "        assert result['monitor_type'] == monitor_type\n",
    "\n",
    "        print('Loaded existing result file from {}'.format(result_path))\n",
    "    \n",
    "    return result"
   ]
  },
  {
   "cell_type": "code",
   "execution_count": 14,
   "metadata": {},
   "outputs": [],
   "source": [
    "def _get_topics(topic_model):\n",
    "    topic_list = []\n",
    "    empty_topic_l_idx = []\n",
    "\n",
    "    for idx, topics in topic_model.get_topics().items():\n",
    "        if idx < 0:\n",
    "            continue\n",
    "\n",
    "        topics_sorted = sorted(topics, key=lambda x: x[1], reverse=True)\n",
    "        topic_l = [t[0] for t in topics_sorted if t[0].strip() != '']\n",
    "\n",
    "        # it's possible that resulting in an empty list\n",
    "        # also, topic with only one word fails at calculating NPMI\n",
    "        if len(topic_l) <= 1:\n",
    "            empty_topic_l_idx.append(idx)\n",
    "            continue\n",
    "\n",
    "        topic_list.append(topic_l)\n",
    "        # print(len(topic_l))\n",
    "\n",
    "    return topic_list, empty_topic_l_idx\n",
    "\n",
    "def _get_topic_word_matrix(topic_model, empty_topic_idxs):\n",
    "    # use ctfidf value to calculate the probability of a word assigned to a topic\n",
    "    # but this is not the probability of a word in a topic\n",
    "    # maybe there's a better way\n",
    "\n",
    "    c_tfidf_all = topic_model.c_tf_idf_.todense()\n",
    "\n",
    "    topic_word_matrix = np.exp(c_tfidf_all) / np.exp(c_tfidf_all).sum(axis=1)\n",
    "\n",
    "    # remove empty topics from the largest index\n",
    "    for idx in empty_topic_idxs[::-1]:\n",
    "        topic_word_matrix = np.delete(topic_word_matrix, idx, axis=0)\n",
    "\n",
    "def _get_topic_document_matrix(probs, empty_topic_idxs):\n",
    "    topic_document_matrix = probs.T\n",
    "\n",
    "    for idx in empty_topic_idxs[::-1]:\n",
    "        topic_document_matrix = np.delete(topic_document_matrix, idx, axis=1)\n",
    "\n",
    "    return topic_document_matrix"
   ]
  },
  {
   "cell_type": "code",
   "execution_count": 15,
   "metadata": {},
   "outputs": [
    {
     "name": "stderr",
     "output_type": "stream",
     "text": [
      "/Users/michaelcheng/.local/lib/python3.9/site-packages/tqdm/auto.py:21: TqdmWarning: IProgress not found. Please update jupyter and ipywidgets. See https://ipywidgets.readthedocs.io/en/stable/user_install.html\n",
      "  from .autonotebook import tqdm as notebook_tqdm\n"
     ]
    }
   ],
   "source": [
    "from bertopic import BERTopic\n",
    "\n",
    "def _load_bertopic_model(model_path:Path):\n",
    "    topic_model = BERTopic.load(str(model_path))\n",
    "\n",
    "    return topic_model"
   ]
  },
  {
   "cell_type": "code",
   "execution_count": 31,
   "metadata": {},
   "outputs": [],
   "source": [
    "from gensim import corpora\n",
    "\n",
    "from sentence_transformers import SentenceTransformer\n",
    "\n",
    "import collections\n",
    "from tqdm import tqdm\n",
    "from sklearn.feature_extraction.text import CountVectorizer\n",
    "\n",
    "from bertopic import BERTopic\n",
    "from bertopic.vectorizers import ClassTfidfTransformer\n",
    "from umap import UMAP\n",
    "from hdbscan import HDBSCAN\n",
    "\n",
    "\n",
    "def model_search(X, hyperparameters:dict, search_space:dict, save_folder:Path,\n",
    "                metrics:list[METRICS]=[METRICS.C_NPMI], monitor:METRICS=METRICS.C_NPMI, \n",
    "                save_each_models=True, run_from_checkpoints=False,\n",
    "                search_behaviour=SEARCH_BEHAVIOUR.GRID_SEARCH, search_rs=42, search_n_iter=10):\n",
    "    \n",
    "    config_json_path = save_folder.joinpath('config.json')\n",
    "    result_json_path = save_folder.joinpath('result.json')\n",
    "\n",
    "    if monitor not in metrics:\n",
    "        raise Exception('monitor is not in metrics. Please modify the metrics passed in.')\n",
    "\n",
    "    if run_from_checkpoints:\n",
    "        if not save_folder.exists():\n",
    "            print('Save folder:' + str(save_folder.resolve()) + ' does not exist. Function terminates.')\n",
    "            raise Exception('No checkpoints found. Function terminates.')\n",
    "        \n",
    "        # check for existing configs\n",
    "        if not config_json_path.exists():\n",
    "            raise Exception('No config.json found. Function terminates.')\n",
    "        \n",
    "        # check for existing results\n",
    "        if not result_json_path.exists():\n",
    "            print('no result.json is found. Assuming no existing checkpoints.')\n",
    "    else:\n",
    "        if save_folder.exists():\n",
    "            raise Exception('Checkpoints found. Please delete the checkpoints or set run_from_checkpoints=True. Function terminates.')\n",
    "\n",
    "    if not save_folder.exists():\n",
    "        save_folder.mkdir()\n",
    "\n",
    "    config = _init_config_dict(config_json_path, 'bertopic', hyperparameters, search_space, \n",
    "                               metrics, monitor, search_behaviour, search_rs, search_n_iter)\n",
    "    \n",
    "    result = _init_result_dict(result_json_path, monitor.value)\n",
    "\n",
    "    print('Search folder: {}'.format(save_folder))\n",
    "\n",
    "    # init\n",
    "    best_model_path = result['best_model_checkpoint']\n",
    "    best_metric_score = result['best_metric']\n",
    "    best_model = _load_bertopic_model(Path(best_model_path)) if best_model_path != \"\" else None\n",
    "\n",
    "    print(f'Best model checkpoint: {best_model_path}')\n",
    "    print(f'Best metric score: {best_metric_score}')\n",
    "    print(f'Best model: {best_model}')\n",
    "\n",
    "    # search\n",
    "    # create a temporary dict for initiating the search space by sklearn parameter grid / parameter sampler\n",
    "    temp_search_space = {}\n",
    "    for k, v in search_space.items():\n",
    "        for kk, vv in v.items():\n",
    "            temp_search_space[k + '__' + kk] = vv\n",
    "\n",
    "    if search_behaviour == SEARCH_BEHAVIOUR.GRID_SEARCH:\n",
    "        search_iterator = ParameterGrid(temp_search_space)\n",
    "    elif search_behaviour == SEARCH_BEHAVIOUR.RANDOM_SEARCH:\n",
    "        search_iterator = ParameterSampler(temp_search_space, n_iter=search_n_iter, random_state=search_rs)\n",
    "\n",
    "    print('\\n')\n",
    "\n",
    "    for search_space_dict in search_iterator:\n",
    "        # unwrap the search space dict\n",
    "\n",
    "        model_name = ''\n",
    "\n",
    "        _sbert_params = {}\n",
    "        _vocab_tokenizer_params = {}\n",
    "        _umap_params = {}\n",
    "        _hdbscan_params = {}\n",
    "        _bertopic_params = {}\n",
    "\n",
    "        for k, v in search_space_dict.items():\n",
    "            if k.startswith('sbert_params'):\n",
    "                _sbert_params[k.split('__')[1]] = v\n",
    "                model_name += 'sb_' + k.split('__')[1] + '_' + str(v) + '_'\n",
    "            elif k.startswith('vocab_tokenizer_params'):\n",
    "                _vocab_tokenizer_params[k.split('__')[1]] = v\n",
    "                model_name += 'vt_' + k.split('__')[1] + '_' + str(v) + '_'\n",
    "            elif k.startswith('umap_params'):\n",
    "                _umap_params[k.split('__')[1]] = v\n",
    "                model_name += 'um_' + k.split('__')[1] + '_' + str(v) + '_'\n",
    "            elif k.startswith('hdbscan_params'):\n",
    "                _hdbscan_params[k.split('__')[1]] = v\n",
    "                model_name += 'hs_' + k.split('__')[1] + '_' + str(v) + '_'\n",
    "            elif k.startswith('bertopic_params'):\n",
    "                _bertopic_params[k.split('__')[1]] = v\n",
    "                model_name += 'bt_' + k.split('__')[1] + '_' + str(v) + '_'\n",
    "            else:\n",
    "                raise Exception('Unknown key: {}'.format(k))\n",
    "\n",
    "        # create the model path to save the model\n",
    "        model_path = save_folder.joinpath(config['model'] + '_' + model_name[:-1])      # remove the last '_'\n",
    "\n",
    "        # check whether the model exists\n",
    "        if model_path.exists():\n",
    "            print(f'Skipping current search space: {search_space_dict}')\n",
    "            continue\n",
    "\n",
    "        ##########\n",
    "        # Training starts\n",
    "        ##########\n",
    "\n",
    "        print(f'Current search space: {search_space_dict}')\n",
    "\n",
    "        sbert_params = config['sbert_params'].copy()\n",
    "        vocab_tokenizer_params = config['vocab_tokenizer_params'].copy()\n",
    "        umap_params = config['umap_params'].copy()\n",
    "        hdbscan_params = config['hdbscan_params'].copy()\n",
    "        bertopic_params = config['bertopic_params'].copy()\n",
    "\n",
    "        sbert_params.update(_sbert_params)\n",
    "        vocab_tokenizer_params.update(_vocab_tokenizer_params)\n",
    "        umap_params.update(_umap_params)\n",
    "        hdbscan_params.update(_hdbscan_params)\n",
    "        bertopic_params.update(_bertopic_params)\n",
    "\n",
    "        # create embeddings\n",
    "        if platform.system() == 'Linux' or platform.system() == 'Windows':\n",
    "            device = torch.device('cuda' if torch.cuda.is_available() else 'cpu')\n",
    "        else:\n",
    "            device = torch.device('mps')        # m-series machine\n",
    "        \n",
    "        sent_transformers = SentenceTransformer(**sbert_params,\n",
    "                                                device=device)\n",
    "        \n",
    "        # load existing embeddings in the search folder to reuse the embeddings\n",
    "        embeddings_path = save_folder.joinpath('embeddings.pkl')\n",
    "        if embeddings_path.exists():\n",
    "            with open(embeddings_path, 'rb') as f:\n",
    "                embeddings = np.load(f)\n",
    "\n",
    "            print(f'Found existing sbert embeddings at {embeddings_path}. Reusing them.')\n",
    "        else:\n",
    "            embeddings = sent_transformers.encode(X, show_progress_bar=True)\n",
    "            with open(embeddings_path, 'wb') as f:\n",
    "                np.save(f, embeddings)\n",
    "            \n",
    "            print('Saved sbert embeddings at:', embeddings_path)\n",
    "\n",
    "        # prepare the vocabulary b4 training\n",
    "        vocab = collections.Counter()\n",
    "        tokenizer = CountVectorizer().build_tokenizer()\n",
    "        for doc in tqdm(X):\n",
    "            vocab.update(tokenizer(doc))\n",
    "        vocab = [word for word, frequency in vocab.items() if frequency >= vocab_tokenizer_params['n_frequency']]; len(vocab)    # set the minimum frequency to reduce the vocabulary size\n",
    "\n",
    "        del vocab_tokenizer_params['n_frequency']       # not used in the vectorizer model for training\n",
    "        vocab_tokenizer_params['ngram_range'] = tuple(vocab_tokenizer_params['ngram_range'])       # convert list to tuple\n",
    "\n",
    "        # prepare the sub models of BERTopic\n",
    "        embedding_model = SentenceTransformer(**sbert_params)       # use the model as the embedding model\n",
    "        umap_model = UMAP(**umap_params, verbose=True)       # set random_state for reproductability\n",
    "        hdbscan_model = HDBSCAN(**hdbscan_params, gen_min_span_tree=True)\n",
    "        vectorizer_model = CountVectorizer(vocabulary=vocab, stop_words=\"english\", **vocab_tokenizer_params)              # for computing c-tfidf (first creating a count matrix, then let c-tfidf to calculate the c-tfidf representation)\n",
    "\n",
    "        bertopic_params['nr_topics'] += 1       # add 1 BERTopic will produce an extra topic for outliers\n",
    "        topic_model = BERTopic(**bertopic_params,\n",
    "            embedding_model=embedding_model, \n",
    "            vectorizer_model=vectorizer_model,\n",
    "            umap_model=umap_model, \n",
    "            hdbscan_model=hdbscan_model,\n",
    "            # calculate_probabilities=True,     # already in bertopic_params\n",
    "            verbose=True)\n",
    "        \n",
    "        topics, probs = topic_model.fit_transform(X, embeddings=embeddings)\n",
    "\n",
    "        ##########\n",
    "        # Training ends\n",
    "        ##########\n",
    "\n",
    "        ##########\n",
    "        # Evaluation starts\n",
    "        ##########\n",
    "\n",
    "        # init data for gensim coherence model\n",
    "        topic_words, empty_topic_idxs = _get_topics(topic_model)\n",
    "\n",
    "        documents = pd.DataFrame({\"Document\": X,\n",
    "                                \"ID\": range(len(X)),\n",
    "                                \"Topic\": topics})\n",
    "\n",
    "        # remove documents which their topic contains 1<= words\n",
    "        documents = documents[~documents['Topic'].isin(empty_topic_idxs)]\n",
    "\n",
    "        documents_per_topic = documents.groupby(['Topic'], as_index=False).agg({'Document': ' '.join})\n",
    "        cleaned_docs = topic_model._preprocess_text(documents_per_topic.Document.values)\n",
    "\n",
    "        bertopic_vectorizer = topic_model.vectorizer_model\n",
    "        bertopic_analyzer = bertopic_vectorizer.build_analyzer()\n",
    "\n",
    "        words = bertopic_vectorizer.get_feature_names_out()\n",
    "        tokens = [bertopic_analyzer(doc) for doc in cleaned_docs]\n",
    "        dictionary = corpora.Dictionary(tokens)\n",
    "        corpus = [dictionary.doc2bow(token) for token in tokens]\n",
    "\n",
    "        topn = bertopic_params['top_n_words']\n",
    "    \n",
    "        # init octis format result for convenience\n",
    "        result_octis = {}\n",
    "        result_octis['topics'] = topic_words\n",
    "        result_octis['topic-word-matrix'] = _get_topic_word_matrix(topic_model, empty_topic_idxs)\n",
    "        result_octis['topic-document-matrix'] = _get_topic_document_matrix(probs, empty_topic_idxs)\n",
    "\n",
    "        print('Computing evaluation metrics')\n",
    "\n",
    "        metrics_score = dict()\n",
    "\n",
    "        for metric in metrics:\n",
    "            if metric in COHERENCE_MODEL_METRICS:\n",
    "                # compute the coherence\n",
    "                coherencemodel = CoherenceModel(topics=topic_words, texts=tokens, corpus=corpus, dictionary=dictionary, topn=topn, coherence=metric.value)\n",
    "                score = coherencemodel.get_coherence()              \n",
    "\n",
    "            elif metric == METRICS.TOPIC_DIVERSITY:\n",
    "                # compute the coherence\n",
    "                score = compute_topic_diversity(result_octis, topk=10)\n",
    "\n",
    "            elif metric == METRICS.INVERTED_RBO:\n",
    "                # compute the coherence\n",
    "                score = compute_inverted_rbo(result_octis, topk=10)\n",
    "\n",
    "            elif metric == METRICS.PAIRWISE_JACCARD_SIMILARITY:\n",
    "                # compute the coherence\n",
    "                score = compute_pairwise_jaccard_similarity(result_octis, topk=10)\n",
    "\n",
    "            else:\n",
    "                raise Exception(f'Unknown metric: {metric.value}')\n",
    "            \n",
    "            metrics_score[metric.value] = score\n",
    "\n",
    "            print(f'Evaluation metric ({metric.value}): {score}')\n",
    "            \n",
    "        # get the monitor score\n",
    "        monitor_score = metrics_score[monitor.value]\n",
    "\n",
    "        ##########\n",
    "        # Evaluation ends\n",
    "        ##########\n",
    "            \n",
    "        ##########\n",
    "        # Save models\n",
    "        ##########\n",
    "            \n",
    "        if not model_path.exists():\n",
    "            model_path.mkdir()\n",
    "\n",
    "        if save_each_models:\n",
    "            topic_model.save(\n",
    "                path = model_path,\n",
    "                serialization=\"safetensors\",\n",
    "                save_ctfidf=True,\n",
    "                save_embedding_model=sbert_params['model_name_or_path']\n",
    "            )\n",
    "\n",
    "            print('Model saved at:', model_path)\n",
    "\n",
    "        ##########\n",
    "        # Save models ends\n",
    "        ##########\n",
    "\n",
    "        ###########\n",
    "        # Update result dict and json file\n",
    "        ###########\n",
    "        \n",
    "        # rebuild the model_hyperparameters dict\n",
    "        model_hyperparameters = {\n",
    "            'sbert_params': sbert_params,\n",
    "            'vocab_tokenizer_params': vocab_tokenizer_params,\n",
    "            'umap_params': umap_params,\n",
    "            'hdbscan_params': hdbscan_params,\n",
    "            'bertopic_params': bertopic_params\n",
    "        }\n",
    "\n",
    "        if monitor_score > best_metric_score:\n",
    "            best_metric_score = monitor_score\n",
    "            best_model = topic_model\n",
    "            best_model_path = model_path\n",
    "            best_hyperparameters = model_hyperparameters\n",
    "\n",
    "        model_log_history = dict()\n",
    "        model_log_history.update(metrics_score)         # add the metrics score values to the log history\n",
    "        model_log_history['hyperparameters'] = model_hyperparameters\n",
    "\n",
    "        result['best_metric'] = best_metric_score\n",
    "        result['best_model_checkpoint'] = str(best_model_path)      # relative path\n",
    "        result['best_hyperparameters'] = model_hyperparameters\n",
    "        result[\"log_history\"].append(model_log_history)\n",
    "\n",
    "        # print(result)\n",
    "\n",
    "        # save result\n",
    "        with open(result_json_path, 'w') as f:\n",
    "            json.dump(result, f, indent=2)\n",
    "\n",
    "        print(\"Saved result.json at:\", result_json_path)\n",
    "        print('\\n\\n')\n",
    "    \n",
    "    print('Search ends')\n",
    "    return best_model, best_model_path, best_hyperparameters\n"
   ]
  },
  {
   "cell_type": "code",
   "execution_count": 41,
   "metadata": {},
   "outputs": [
    {
     "name": "stdout",
     "output_type": "stream",
     "text": [
      "no result.json is found. Assuming no existing checkpoints.\n",
      "Loaded existing config file from bertopic_random_search_20240121_154345/config.json\n",
      "Hyperparameters and search space are consistent with the input parameters\n",
      "Search folder: bertopic_random_search_20240121_154345\n",
      "Best model checkpoint: \n",
      "Best metric score: -inf\n",
      "Best model: None\n",
      "\n",
      "\n",
      "Current search space: {'vocab_tokenizer_params__ngram_range': [1, 2], 'umap_params__n_neighbors': 20, 'umap_params__n_components': 10, 'umap_params__min_dist': 0.0, 'bertopic_params__nr_topics': 30, 'bertopic_params__min_topic_size': 25}\n",
      "Found existing sbert embeddings at bertopic_random_search_20240121_154345/embeddings.pkl. Reusing them.\n"
     ]
    },
    {
     "name": "stderr",
     "output_type": "stream",
     "text": [
      "100%|██████████| 75494/75494 [00:00<00:00, 96446.04it/s] \n",
      "2024-01-21 16:40:08,139 - BERTopic - Dimensionality - Fitting the dimensionality reduction algorithm\n"
     ]
    },
    {
     "name": "stdout",
     "output_type": "stream",
     "text": [
      "UMAP(angular_rp_forest=True, low_memory=False, metric='cosine', min_dist=0.0, n_components=10, n_neighbors=20, verbose=True)\n",
      "Sun Jan 21 16:40:08 2024 Construct fuzzy simplicial set\n",
      "Sun Jan 21 16:40:08 2024 Finding Nearest Neighbors\n",
      "Sun Jan 21 16:40:08 2024 Building RP forest with 19 trees\n",
      "Sun Jan 21 16:40:08 2024 NN descent for 16 iterations\n",
      "\t 1  /  16\n",
      "\t 2  /  16\n",
      "\t 3  /  16\n",
      "\t 4  /  16\n",
      "\t 5  /  16\n",
      "\t 6  /  16\n",
      "\t 7  /  16\n",
      "\tStopping threshold met -- exiting after 7 iterations\n",
      "Sun Jan 21 16:40:15 2024 Finished Nearest Neighbor Search\n",
      "Sun Jan 21 16:40:15 2024 Construct embedding\n"
     ]
    },
    {
     "name": "stderr",
     "output_type": "stream",
     "text": [
      "Epochs completed:   3%| ▎          6/200 [00:00]"
     ]
    },
    {
     "name": "stdout",
     "output_type": "stream",
     "text": [
      "\tcompleted  0  /  200 epochs\n"
     ]
    },
    {
     "name": "stderr",
     "output_type": "stream",
     "text": [
      "Epochs completed:  12%| █▏         24/200 [00:01]"
     ]
    },
    {
     "name": "stdout",
     "output_type": "stream",
     "text": [
      "\tcompleted  20  /  200 epochs\n"
     ]
    },
    {
     "name": "stderr",
     "output_type": "stream",
     "text": [
      "Epochs completed:  22%| ██▎        45/200 [00:02]"
     ]
    },
    {
     "name": "stdout",
     "output_type": "stream",
     "text": [
      "\tcompleted  40  /  200 epochs\n"
     ]
    },
    {
     "name": "stderr",
     "output_type": "stream",
     "text": [
      "Epochs completed:  32%| ███▏       63/200 [00:03]"
     ]
    },
    {
     "name": "stdout",
     "output_type": "stream",
     "text": [
      "\tcompleted  60  /  200 epochs\n"
     ]
    },
    {
     "name": "stderr",
     "output_type": "stream",
     "text": [
      "Epochs completed:  42%| ████▏      84/200 [00:04]"
     ]
    },
    {
     "name": "stdout",
     "output_type": "stream",
     "text": [
      "\tcompleted  80  /  200 epochs\n"
     ]
    },
    {
     "name": "stderr",
     "output_type": "stream",
     "text": [
      "Epochs completed:  52%| █████▎     105/200 [00:05]"
     ]
    },
    {
     "name": "stdout",
     "output_type": "stream",
     "text": [
      "\tcompleted  100  /  200 epochs\n"
     ]
    },
    {
     "name": "stderr",
     "output_type": "stream",
     "text": [
      "Epochs completed:  62%| ██████▏    123/200 [00:06]"
     ]
    },
    {
     "name": "stdout",
     "output_type": "stream",
     "text": [
      "\tcompleted  120  /  200 epochs\n"
     ]
    },
    {
     "name": "stderr",
     "output_type": "stream",
     "text": [
      "Epochs completed:  72%| ███████▎   145/200 [00:07]"
     ]
    },
    {
     "name": "stdout",
     "output_type": "stream",
     "text": [
      "\tcompleted  140  /  200 epochs\n"
     ]
    },
    {
     "name": "stderr",
     "output_type": "stream",
     "text": [
      "Epochs completed:  82%| ████████▏  163/200 [00:08]"
     ]
    },
    {
     "name": "stdout",
     "output_type": "stream",
     "text": [
      "\tcompleted  160  /  200 epochs\n"
     ]
    },
    {
     "name": "stderr",
     "output_type": "stream",
     "text": [
      "Epochs completed:  92%| █████████▏ 184/200 [00:09]"
     ]
    },
    {
     "name": "stdout",
     "output_type": "stream",
     "text": [
      "\tcompleted  180  /  200 epochs\n"
     ]
    },
    {
     "name": "stderr",
     "output_type": "stream",
     "text": [
      "Epochs completed: 100%| ██████████ 200/200 [00:10]\n"
     ]
    },
    {
     "name": "stdout",
     "output_type": "stream",
     "text": [
      "Sun Jan 21 16:40:28 2024 Finished embedding\n"
     ]
    },
    {
     "name": "stderr",
     "output_type": "stream",
     "text": [
      "2024-01-21 16:40:28,921 - BERTopic - Dimensionality - Completed ✓\n",
      "2024-01-21 16:40:28,922 - BERTopic - Cluster - Start clustering the reduced embeddings\n",
      "/Users/michaelcheng/miniforge3/envs/fyp-test-tm/lib/python3.9/site-packages/hdbscan/hdbscan_.py:1170: DeprecationWarning: `alltrue` is deprecated as of NumPy 1.25.0, and will be removed in NumPy 2.0. Please use `all` instead.\n",
      "  self._all_finite = is_finite(X)\n",
      "huggingface/tokenizers: The current process just got forked, after parallelism has already been used. Disabling parallelism to avoid deadlocks...\n",
      "To disable this warning, you can either:\n",
      "\t- Avoid using `tokenizers` before the fork if possible\n",
      "\t- Explicitly set the environment variable TOKENIZERS_PARALLELISM=(true | false)\n",
      "huggingface/tokenizers: The current process just got forked, after parallelism has already been used. Disabling parallelism to avoid deadlocks...\n",
      "To disable this warning, you can either:\n",
      "\t- Avoid using `tokenizers` before the fork if possible\n",
      "\t- Explicitly set the environment variable TOKENIZERS_PARALLELISM=(true | false)\n",
      "huggingface/tokenizers: The current process just got forked, after parallelism has already been used. Disabling parallelism to avoid deadlocks...\n",
      "To disable this warning, you can either:\n",
      "\t- Avoid using `tokenizers` before the fork if possible\n",
      "\t- Explicitly set the environment variable TOKENIZERS_PARALLELISM=(true | false)\n",
      "huggingface/tokenizers: The current process just got forked, after parallelism has already been used. Disabling parallelism to avoid deadlocks...\n",
      "To disable this warning, you can either:\n",
      "\t- Avoid using `tokenizers` before the fork if possible\n",
      "\t- Explicitly set the environment variable TOKENIZERS_PARALLELISM=(true | false)\n"
     ]
    }
   ],
   "source": [
    "# grid search / random search\n",
    "\n",
    "# hyperparameters\n",
    "sbert_params = _init_sentence_transformers_params(model_name_or_path='sentence-transformers/all-MiniLM-L6-v2')\n",
    "vocab_tokenizer_params = _init_vocab_tokenizer_params(n_frequency=15, ngram_range=(1, 2))\n",
    "umap_params = _init_umap_params(n_neighbors=15, n_components=5, metric='cosine', min_dist=0.0, n_epochs=None, low_memory=False)\n",
    "hdbscan_params = _init_hdbscan_params(min_cluster_size=15, min_samples=20, metric='euclidean', prediction_data=True)\n",
    "bertopic_params = _init_bertopic_params(\n",
    "    nr_topics=20, \n",
    "    top_n_words=10, \n",
    "    min_topic_size=15, \n",
    "    low_memory=False, \n",
    "    calculate_probabilities=True)\n",
    "\n",
    "# search space dict\n",
    "search_space_dict = {\n",
    "    'vocab_tokenizer_params':{\n",
    "        'ngram_range': [[1, 1], [1, 2]]     # datatype is list as json does not support tuple\n",
    "    },\n",
    "    'umap_params':{\n",
    "        'n_neighbors': [15, 20, 25],\n",
    "        'n_components': [5, 10],\n",
    "        'min_dist': [0.0, 0.1],\n",
    "    },\n",
    "    'bertopic_params':{\n",
    "        'nr_topics': [10, 20, 30],\n",
    "        'min_topic_size': [15, 20, 25]\n",
    "    }\n",
    "}\n",
    "\n",
    "# search_behaviour = SEARCH_BEHAVIOUR.GRID_SEARCH\n",
    "search_behaviour = SEARCH_BEHAVIOUR.RANDOM_SEARCH\n",
    "\n",
    "# training_datetime = datetime.now()\n",
    "training_datetime = datetime(2024, 1, 21, 15, 43, 45)\n",
    "training_folder = Path(f'bertopic_{search_behaviour.value}_{training_datetime.strftime(\"%Y%m%d_%H%M%S\")}')\n",
    "\n",
    "best_model, best_model_path, best_hyperparameters = model_search(\n",
    "    X,\n",
    "    hyperparameters={\n",
    "        'sbert_params': sbert_params,\n",
    "        'vocab_tokenizer_params': vocab_tokenizer_params,\n",
    "        'umap_params': umap_params,\n",
    "        'hdbscan_params': hdbscan_params,\n",
    "        'bertopic_params': bertopic_params\n",
    "    },\n",
    "    search_space=search_space_dict,\n",
    "    save_folder=training_folder,\n",
    "    metrics=[METRICS.C_NPMI, METRICS.C_V, METRICS.UMASS, METRICS.C_UCI, METRICS.TOPIC_DIVERSITY, METRICS.INVERTED_RBO, METRICS.PAIRWISE_JACCARD_SIMILARITY],\n",
    "    monitor=METRICS.C_NPMI,\n",
    "    save_each_models=True,\n",
    "    run_from_checkpoints=True,\n",
    "    search_behaviour=search_behaviour\n",
    ")"
   ]
  },
  {
   "cell_type": "code",
   "execution_count": 10,
   "metadata": {},
   "outputs": [
    {
     "name": "stderr",
     "output_type": "stream",
     "text": [
      "/Users/michaelcheng/.local/lib/python3.9/site-packages/tqdm/auto.py:21: TqdmWarning: IProgress not found. Please update jupyter and ipywidgets. See https://ipywidgets.readthedocs.io/en/stable/user_install.html\n",
      "  from .autonotebook import tqdm as notebook_tqdm\n",
      "Batches: 100%|██████████| 2556/2556 [01:27<00:00, 29.16it/s]\n"
     ]
    }
   ],
   "source": [
    "# large documents\n",
    "\n",
    "# pre-calculate embeddings\n",
    "\n",
    "from sentence_transformers import SentenceTransformer\n",
    "\n",
    "# Create embeddings\n",
    "\n",
    "SENTENCE_TRANSFORMERS_NAME = 'sentence-transformers/all-MiniLM-L6-v2'\n",
    "\n",
    "model = SentenceTransformer(SENTENCE_TRANSFORMERS_NAME, device=device)\n",
    "embeddings = model.encode(X, show_progress_bar=True)"
   ]
  },
  {
   "cell_type": "code",
   "execution_count": 11,
   "metadata": {},
   "outputs": [],
   "source": [
    "# save the embeddings\n",
    "\n",
    "embedding_path = Path('00_Terraria_embeddings.pkl')\n",
    "\n",
    "if not embedding_path.exists():\n",
    "    with open(embedding_path, 'wb') as f:\n",
    "        np.save(f, embeddings)"
   ]
  },
  {
   "cell_type": "code",
   "execution_count": 19,
   "metadata": {},
   "outputs": [
    {
     "name": "stderr",
     "output_type": "stream",
     "text": [
      "100%|██████████| 81776/81776 [00:00<00:00, 102273.93it/s]\n"
     ]
    },
    {
     "data": {
      "text/plain": [
       "6891"
      ]
     },
     "execution_count": 19,
     "metadata": {},
     "output_type": "execute_result"
    }
   ],
   "source": [
    "# prepare vocabulary before training such that tokenizer does not need to do the calculations itself\n",
    "# this limits the vocab considered by c-tfidf in BERTopic\n",
    "# creating vocab before training to reduce RAM\n",
    "\n",
    "import collections\n",
    "from tqdm import tqdm\n",
    "from sklearn.feature_extraction.text import CountVectorizer\n",
    "\n",
    "# Extract vocab to be used in BERTopic\n",
    "vocab = collections.Counter()\n",
    "tokenizer = CountVectorizer().build_tokenizer()\n",
    "for doc in tqdm(X):\n",
    "  vocab.update(tokenizer(doc))\n",
    "vocab = [word for word, frequency in vocab.items() if frequency >= 15]; len(vocab)    # set the minimum frequency to reduce the vocabulary size"
   ]
  },
  {
   "cell_type": "code",
   "execution_count": 20,
   "metadata": {},
   "outputs": [
    {
     "name": "stderr",
     "output_type": "stream",
     "text": [
      "2024-01-18 16:32:56,917 - BERTopic - Dimensionality - Fitting the dimensionality reduction algorithm\n",
      "OMP: Info #276: omp_set_nested routine deprecated, please use omp_set_max_active_levels instead.\n"
     ]
    },
    {
     "name": "stdout",
     "output_type": "stream",
     "text": [
      "UMAP(angular_rp_forest=True, metric='cosine', min_dist=0.0, n_components=5, n_neighbors=50, random_state=42, verbose=True)\n",
      "Thu Jan 18 16:32:57 2024 Construct fuzzy simplicial set\n",
      "Thu Jan 18 16:32:57 2024 Finding Nearest Neighbors\n",
      "Thu Jan 18 16:32:57 2024 Building RP forest with 19 trees\n",
      "Thu Jan 18 16:32:59 2024 NN descent for 16 iterations\n",
      "\t 1  /  16\n",
      "\t 2  /  16\n",
      "\t 3  /  16\n",
      "\t 4  /  16\n",
      "\t 5  /  16\n",
      "\tStopping threshold met -- exiting after 5 iterations\n",
      "Thu Jan 18 16:33:13 2024 Finished Nearest Neighbor Search\n",
      "Thu Jan 18 16:33:16 2024 Construct embedding\n"
     ]
    },
    {
     "name": "stderr",
     "output_type": "stream",
     "text": [
      "Epochs completed:   2%| ▏          3/200 [00:00]"
     ]
    },
    {
     "name": "stdout",
     "output_type": "stream",
     "text": [
      "\tcompleted  0  /  200 epochs\n"
     ]
    },
    {
     "name": "stderr",
     "output_type": "stream",
     "text": [
      "Epochs completed:  10%| █          21/200 [00:05]"
     ]
    },
    {
     "name": "stdout",
     "output_type": "stream",
     "text": [
      "\tcompleted  20  /  200 epochs\n"
     ]
    },
    {
     "name": "stderr",
     "output_type": "stream",
     "text": [
      "Epochs completed:  20%| ██         41/200 [00:11]"
     ]
    },
    {
     "name": "stdout",
     "output_type": "stream",
     "text": [
      "\tcompleted  40  /  200 epochs\n"
     ]
    },
    {
     "name": "stderr",
     "output_type": "stream",
     "text": [
      "Epochs completed:  30%| ███        61/200 [00:18]"
     ]
    },
    {
     "name": "stdout",
     "output_type": "stream",
     "text": [
      "\tcompleted  60  /  200 epochs\n"
     ]
    },
    {
     "name": "stderr",
     "output_type": "stream",
     "text": [
      "Epochs completed:  40%| ████       81/200 [00:24]"
     ]
    },
    {
     "name": "stdout",
     "output_type": "stream",
     "text": [
      "\tcompleted  80  /  200 epochs\n"
     ]
    },
    {
     "name": "stderr",
     "output_type": "stream",
     "text": [
      "Epochs completed:  50%| █████      101/200 [00:30]"
     ]
    },
    {
     "name": "stdout",
     "output_type": "stream",
     "text": [
      "\tcompleted  100  /  200 epochs\n"
     ]
    },
    {
     "name": "stderr",
     "output_type": "stream",
     "text": [
      "Epochs completed:  60%| ██████     121/200 [00:36]"
     ]
    },
    {
     "name": "stdout",
     "output_type": "stream",
     "text": [
      "\tcompleted  120  /  200 epochs\n"
     ]
    },
    {
     "name": "stderr",
     "output_type": "stream",
     "text": [
      "Epochs completed:  70%| ███████    141/200 [00:43]"
     ]
    },
    {
     "name": "stdout",
     "output_type": "stream",
     "text": [
      "\tcompleted  140  /  200 epochs\n"
     ]
    },
    {
     "name": "stderr",
     "output_type": "stream",
     "text": [
      "Epochs completed:  80%| ████████   161/200 [00:49]"
     ]
    },
    {
     "name": "stdout",
     "output_type": "stream",
     "text": [
      "\tcompleted  160  /  200 epochs\n"
     ]
    },
    {
     "name": "stderr",
     "output_type": "stream",
     "text": [
      "Epochs completed:  90%| █████████  181/200 [00:55]"
     ]
    },
    {
     "name": "stdout",
     "output_type": "stream",
     "text": [
      "\tcompleted  180  /  200 epochs\n"
     ]
    },
    {
     "name": "stderr",
     "output_type": "stream",
     "text": [
      "Epochs completed: 100%| ██████████ 200/200 [01:01]\n"
     ]
    },
    {
     "name": "stdout",
     "output_type": "stream",
     "text": [
      "Thu Jan 18 16:34:26 2024 Finished embedding\n"
     ]
    },
    {
     "name": "stderr",
     "output_type": "stream",
     "text": [
      "2024-01-18 16:34:26,778 - BERTopic - Dimensionality - Completed ✓\n",
      "2024-01-18 16:34:26,779 - BERTopic - Cluster - Start clustering the reduced embeddings\n",
      "/Users/michaelcheng/miniforge3/envs/fyp-test-tm/lib/python3.9/site-packages/hdbscan/hdbscan_.py:1170: DeprecationWarning: `alltrue` is deprecated as of NumPy 1.25.0, and will be removed in NumPy 2.0. Please use `all` instead.\n",
      "  self._all_finite = is_finite(X)\n",
      "huggingface/tokenizers: The current process just got forked, after parallelism has already been used. Disabling parallelism to avoid deadlocks...\n",
      "To disable this warning, you can either:\n",
      "\t- Avoid using `tokenizers` before the fork if possible\n",
      "\t- Explicitly set the environment variable TOKENIZERS_PARALLELISM=(true | false)\n",
      "huggingface/tokenizers: The current process just got forked, after parallelism has already been used. Disabling parallelism to avoid deadlocks...\n",
      "To disable this warning, you can either:\n",
      "\t- Avoid using `tokenizers` before the fork if possible\n",
      "\t- Explicitly set the environment variable TOKENIZERS_PARALLELISM=(true | false)\n",
      "huggingface/tokenizers: The current process just got forked, after parallelism has already been used. Disabling parallelism to avoid deadlocks...\n",
      "To disable this warning, you can either:\n",
      "\t- Avoid using `tokenizers` before the fork if possible\n",
      "\t- Explicitly set the environment variable TOKENIZERS_PARALLELISM=(true | false)\n",
      "huggingface/tokenizers: The current process just got forked, after parallelism has already been used. Disabling parallelism to avoid deadlocks...\n",
      "To disable this warning, you can either:\n",
      "\t- Avoid using `tokenizers` before the fork if possible\n",
      "\t- Explicitly set the environment variable TOKENIZERS_PARALLELISM=(true | false)\n",
      "huggingface/tokenizers: The current process just got forked, after parallelism has already been used. Disabling parallelism to avoid deadlocks...\n",
      "To disable this warning, you can either:\n",
      "\t- Avoid using `tokenizers` before the fork if possible\n",
      "\t- Explicitly set the environment variable TOKENIZERS_PARALLELISM=(true | false)\n",
      "2024-01-18 16:34:47,517 - BERTopic - Cluster - Completed ✓\n",
      "2024-01-18 16:34:47,518 - BERTopic - Representation - Extracting topics from clusters using representation models.\n",
      "/Users/michaelcheng/miniforge3/envs/fyp-test-tm/lib/python3.9/site-packages/bertopic/vectorizers/_ctfidf.py:82: RuntimeWarning: divide by zero encountered in divide\n",
      "  idf = np.log((avg_nr_samples / df)+1)\n",
      "2024-01-18 16:34:49,354 - BERTopic - Representation - Completed ✓\n",
      "2024-01-18 16:34:49,355 - BERTopic - Topic reduction - Reducing number of topics\n",
      "/Users/michaelcheng/miniforge3/envs/fyp-test-tm/lib/python3.9/site-packages/bertopic/vectorizers/_ctfidf.py:82: RuntimeWarning: divide by zero encountered in divide\n",
      "  idf = np.log((avg_nr_samples / df)+1)\n",
      "2024-01-18 16:34:51,233 - BERTopic - Topic reduction - Reduced number of topics from 80 to 21\n"
     ]
    }
   ],
   "source": [
    "# not using GPU acceleration as the dependency is fking messy\n",
    "# and the model is deployed on a CPU only server\n",
    "\n",
    "from bertopic import BERTopic\n",
    "from bertopic.vectorizers import ClassTfidfTransformer\n",
    "from umap import UMAP\n",
    "from hdbscan import HDBSCAN\n",
    "\n",
    "\n",
    "# parameter optimization\n",
    "# UMAP\n",
    "UMAP_N_COMPONENTS = 5\n",
    "UMAP_N_NEIGHBORS = 50\n",
    "\n",
    "# HDBSCAN\n",
    "HDBSCAN_MIN_CLUSTER_SIZE = 150\n",
    "HDBSCAN_MIN_SAMPLES = 20\n",
    "\n",
    "# BERTopic\n",
    "N_TOPICS = 20\n",
    "\n",
    "# check: https://maartengr.github.io/BERTopic/faq.html#which-embedding-model-should-i-choose \n",
    "# for more parameter optimization on the UMAP and HDBSCAN models\n",
    "\n",
    "# Prepare sub-models\n",
    "# the HDBSCAN and UMAP are (Nvidia) GPU-accelerated versions\n",
    "embedding_model = SentenceTransformer(SENTENCE_TRANSFORMERS_NAME)       # use the model as the embedding model\n",
    "umap_model = UMAP(n_components=UMAP_N_COMPONENTS, n_neighbors=UMAP_N_NEIGHBORS, min_dist=0.0, random_state=42, metric=\"cosine\", verbose=True)       # set random_state for reproductability\n",
    "hdbscan_model = HDBSCAN( min_cluster_size=HDBSCAN_MIN_CLUSTER_SIZE, min_samples=HDBSCAN_MIN_SAMPLES, gen_min_span_tree=True, prediction_data=True)\n",
    "vectorizer_model = CountVectorizer(vocabulary=vocab, stop_words=\"english\", ngram_range=(1,1))              # for computing c-tfidf (first creating a count matrix, then let c-tfidf to calculate the c-tfidf representation)\n",
    "# vectorizer_model = ClassTfidfTransformer()\n",
    "\n",
    "# Fit BERTopic without actually performing any clustering\n",
    "topic_model = BERTopic(\n",
    "        nr_topics=N_TOPICS + 1,                 # add 1 as the topic with id = '-1' represents outliers, and should be typically ignored\n",
    "        embedding_model=embedding_model,\n",
    "        umap_model=umap_model,\n",
    "        hdbscan_model=hdbscan_model,\n",
    "        vectorizer_model=vectorizer_model,\n",
    "        calculate_probabilities=True,\n",
    "        \n",
    "        verbose=True\n",
    ")\n",
    "\n",
    "topics, probs = topic_model.fit_transform(X, embeddings=embeddings)"
   ]
  },
  {
   "cell_type": "code",
   "execution_count": 22,
   "metadata": {},
   "outputs": [
    {
     "name": "stdout",
     "output_type": "stream",
     "text": [
      "    Topic  Count\n",
      "1      -1  30807\n",
      "0       0  19379\n",
      "7       1  15848\n",
      "2       2   4146\n",
      "12      3   2342\n",
      "4       4   1548\n",
      "6       5   1237\n",
      "10      6   1049\n",
      "14      7   1029\n",
      "3       8    776\n",
      "16      9    628\n",
      "5      10    475\n",
      "15     11    473\n",
      "19     12    431\n",
      "11     13    374\n",
      "9      14    284\n",
      "8      15    276\n",
      "13     16    175\n",
      "18     17    174\n",
      "20     18    173\n",
      "17     19    152\n",
      "Num of topics: 21\n"
     ]
    }
   ],
   "source": [
    "# get topic frequency table\n",
    "freq = topic_model.get_topic_freq()\n",
    "print(freq)\n",
    "print('Num of topics:', len(freq))"
   ]
  },
  {
   "cell_type": "markdown",
   "metadata": {},
   "source": [
    "Outlier reduction"
   ]
  },
  {
   "cell_type": "code",
   "execution_count": 37,
   "metadata": {},
   "outputs": [],
   "source": [
    "# reduce outlier: https://maartengr.github.io/BERTopic/getting_started/outlier_reduction/outlier_reduction.html\n",
    "\n",
    "# https://medium.com/@n83072/topic-modeling-bertopic-ca1b73a035f2\n",
    "\n",
    "# Reduce outliers using the `probabilities` strategy\n",
    "# This strategy uses the soft-clustering as performed by HDBSCAN to find the best matching topic for each outlier document.\n",
    "# To use this, make sure to calculate the probabilities beforehand by instantiating BERTopic with calculate_probabilities=True.\n",
    "new_topics = topic_model.reduce_outliers(X, topics, probabilities=probs, strategy=\"probabilities\")\n",
    "\n",
    "\n",
    "# Use the topic distributions, as calculated with .approximate_distribution\n",
    "# to find the most frequent topic in each outlier document.\n",
    "# You can use the distributions_params variable to tweak the parameters of .approximate_distribution.\n",
    "# Reduce outliers using the `distributions` strategy\n",
    "new_topics = topic_model.reduce_outliers(X, topics, strategy=\"distributions\")\n",
    "\n",
    "\n",
    "# Reduce outliers using the `c-tf-idf` strategy\n",
    "# Calculate the c-TF-IDF representation for each outlier document \n",
    "# and find the best matching c-TF-IDF topic representation using cosine similarity.\n",
    "new_topics = topic_model.reduce_outliers(X, topics, strategy=\"c-tf-idf\")\n",
    "\n",
    "# Reduce outliers using the `embeddings` strategy\n",
    "# but it costs huge reduction in npmi score\n",
    "# maybe other less aggressive strategies should be used\n",
    "# new_topics = topic_model.reduce_outliers(X, topics, strategy=\"embeddings\")"
   ]
  },
  {
   "cell_type": "code",
   "execution_count": 23,
   "metadata": {},
   "outputs": [
    {
     "ename": "NameError",
     "evalue": "name 'new_topics' is not defined",
     "output_type": "error",
     "traceback": [
      "\u001b[0;31m---------------------------------------------------------------------------\u001b[0m",
      "\u001b[0;31mNameError\u001b[0m                                 Traceback (most recent call last)",
      "Cell \u001b[0;32mIn[23], line 2\u001b[0m\n\u001b[1;32m      1\u001b[0m \u001b[38;5;28;01mfrom\u001b[39;00m \u001b[38;5;21;01mcollections\u001b[39;00m \u001b[38;5;28;01mimport\u001b[39;00m Counter\n\u001b[0;32m----> 2\u001b[0m new_topic_dict \u001b[38;5;241m=\u001b[39m \u001b[38;5;28mdict\u001b[39m(Counter(\u001b[43mnew_topics\u001b[49m))\n\u001b[1;32m      5\u001b[0m new_topic_dict_df \u001b[38;5;241m=\u001b[39m pd\u001b[38;5;241m.\u001b[39mDataFrame(\u001b[38;5;28mlist\u001b[39m(new_topic_dict\u001b[38;5;241m.\u001b[39mitems()), columns\u001b[38;5;241m=\u001b[39m[\u001b[38;5;124m'\u001b[39m\u001b[38;5;124mtopic_id\u001b[39m\u001b[38;5;124m'\u001b[39m, \u001b[38;5;124m'\u001b[39m\u001b[38;5;124mcount\u001b[39m\u001b[38;5;124m'\u001b[39m])\n\u001b[1;32m      6\u001b[0m new_topic_dict_df \u001b[38;5;241m=\u001b[39m new_topic_dict_df\u001b[38;5;241m.\u001b[39msort_values(by\u001b[38;5;241m=\u001b[39m[\u001b[38;5;124m'\u001b[39m\u001b[38;5;124mcount\u001b[39m\u001b[38;5;124m'\u001b[39m], ascending\u001b[38;5;241m=\u001b[39m\u001b[38;5;28;01mFalse\u001b[39;00m)\n",
      "\u001b[0;31mNameError\u001b[0m: name 'new_topics' is not defined"
     ]
    }
   ],
   "source": [
    "from collections import Counter\n",
    "new_topic_dict = dict(Counter(new_topics))\n",
    "\n",
    "\n",
    "new_topic_dict_df = pd.DataFrame(list(new_topic_dict.items()), columns=['topic_id', 'count'])\n",
    "new_topic_dict_df = new_topic_dict_df.sort_values(by=['count'], ascending=False)\n",
    "\n",
    "new_topic_dict_df"
   ]
  },
  {
   "cell_type": "code",
   "execution_count": 45,
   "metadata": {},
   "outputs": [
    {
     "data": {
      "text/html": [
       "<div>\n",
       "<style scoped>\n",
       "    .dataframe tbody tr th:only-of-type {\n",
       "        vertical-align: middle;\n",
       "    }\n",
       "\n",
       "    .dataframe tbody tr th {\n",
       "        vertical-align: top;\n",
       "    }\n",
       "\n",
       "    .dataframe thead th {\n",
       "        text-align: right;\n",
       "    }\n",
       "</style>\n",
       "<table border=\"1\" class=\"dataframe\">\n",
       "  <thead>\n",
       "    <tr style=\"text-align: right;\">\n",
       "      <th></th>\n",
       "      <th>topic_id</th>\n",
       "      <th>count</th>\n",
       "    </tr>\n",
       "  </thead>\n",
       "  <tbody>\n",
       "  </tbody>\n",
       "</table>\n",
       "</div>"
      ],
      "text/plain": [
       "Empty DataFrame\n",
       "Columns: [topic_id, count]\n",
       "Index: []"
      ]
     },
     "execution_count": 45,
     "metadata": {},
     "output_type": "execute_result"
    }
   ],
   "source": [
    "new_topic_dict_df[new_topic_dict_df['topic_id'] == '-1']"
   ]
  },
  {
   "cell_type": "code",
   "execution_count": 46,
   "metadata": {},
   "outputs": [
    {
     "name": "stderr",
     "output_type": "stream",
     "text": [
      "2024-01-12 00:29:25,696 - BERTopic - WARNING: Using a custom list of topic assignments may lead to errors if topic reduction techniques are used afterwards. Make sure that manually assigning topics is the last step in the pipeline.Note that topic embeddings will also be created through weightedc-TF-IDF embeddings instead of centroid embeddings.\n"
     ]
    }
   ],
   "source": [
    "# try to apply the topic reduction to the BERTopic model\n",
    "\n",
    "topic_model.update_topics(X, topics=new_topics)"
   ]
  },
  {
   "cell_type": "code",
   "execution_count": 24,
   "metadata": {},
   "outputs": [],
   "source": [
    "# save the model (different from the func for small documents)\n",
    "from datetime import datetime\n",
    "\n",
    "topic_model_folder_path = Path(f'my_model_{datetime.now().strftime(\"%Y%m%d_%H%M%S\")}')\n",
    "topic_model.save(\n",
    "    path=topic_model_folder_path,\n",
    "    serialization=\"safetensors\",\n",
    "    save_ctfidf=True,\n",
    "    save_embedding_model=SENTENCE_TRANSFORMERS_NAME\n",
    ")"
   ]
  },
  {
   "cell_type": "code",
   "execution_count": 26,
   "metadata": {},
   "outputs": [],
   "source": [
    "# reload the trained topic model for faster inference\n",
    "del topic_model"
   ]
  },
  {
   "cell_type": "code",
   "execution_count": 16,
   "metadata": {},
   "outputs": [],
   "source": [
    "# load the embeddings\n",
    "\n",
    "embedding_path = Path('00_Terraria_embeddings.pkl')\n",
    "\n",
    "if embedding_path.exists():\n",
    "    with open(embedding_path, 'rb') as f:\n",
    "        embeddings = np.load(f)\n",
    "else:\n",
    "    raise FileNotFoundError('Embedding file not found')"
   ]
  },
  {
   "cell_type": "code",
   "execution_count": 12,
   "metadata": {},
   "outputs": [
    {
     "name": "stderr",
     "output_type": "stream",
     "text": [
      "2024-01-19 23:38:56,151 - BERTopic - Predicting topic assignments through cosine similarity of topic and document embeddings.\n"
     ]
    }
   ],
   "source": [
    "# load the model\n",
    "\n",
    "from bertopic import BERTopic\n",
    "\n",
    "# # when loading the model, the public attributes are not stored\n",
    "# e.g. self.representative_docs_ (this can be regenerated by calling topic_model.)\n",
    "topic_model = BERTopic.load('my_model_20240118_163626')\n",
    "\n",
    "# topics: list of topic ids (n,) where n is the number of documents\n",
    "# probs: list of probabilities for each topic (n, d) where n is the number of documents and d is the number of topics (including outlier)\n",
    "topics, probs = topic_model.transform(X, embeddings=embeddings)"
   ]
  },
  {
   "cell_type": "code",
   "execution_count": 13,
   "metadata": {},
   "outputs": [],
   "source": [
    "# get top 10 representative docs for each topic\n",
    "\n",
    "# Approximate most representative documents per topic by sampling\n",
    "# a subset of the documents in each topic and calculating which are\n",
    "# most represenative to their topic based on the cosine similarity between\n",
    "# c-TF-IDF representations\n",
    "\n",
    "# the method was called internally in the fit_transform method\n",
    "# so that the .get_topic_info() can work properly when the model was reloaded from disk\n",
    "repr_docs_mappings, repr_docs, repr_docs_indices, repr_docs_ids = topic_model._extract_representative_docs(\n",
    "    topic_model.c_tf_idf_,\n",
    "    pd.DataFrame({\"Document\": X, \"ID\": range(len(X)), \"Topic\": topics}),\n",
    "    topic_model.topic_representations_,\n",
    "    nr_samples=500,\n",
    "    nr_repr_docs=5\n",
    ")"
   ]
  },
  {
   "cell_type": "code",
   "execution_count": 15,
   "metadata": {},
   "outputs": [
    {
     "data": {
      "text/plain": [
       "\"This game. THIS GAME. I'ts freaking AWESOME!!! Some people say it's a 'cheap 2D rip-off of Minecraft', and to that i say NOOOO!!! This game has so many aspects in its gameplay other than mining and building (and I don't say Minecraft is bad), it's just that these two have different 'categories', Terraria is a '2D Sandbox Adventure game with an enphasis on combat', while Minecraft is a '3D, Sandbox Survival Adventure game based around building', without counting that Minecraft has official mod compatibility. Terraria doesn't need mods to have a lot of content, as a 'good patch' in Terraria equals to 6 new bosses, 43 new enemies (each with their own variants), 168 new items, 45 new weapons with wacky effects, 4 new NPCs, 3 new biomes, and an ENTIRE DIFFICULTY SETTING (add that to the fact that Terraria haas had at least 4 'good patches' and you got yourself a game for an entire year!) :D The replay value is excellent, because of the completely random worlds, along with the added difficulty of '-core' character and 'expert mode' worlds. Oh, and the bosses are awesome, too! It's linear, you don't have to shoot specific places to do damage to most of them, and, unlike the strategy-esque TLoZ boss battles, the most difficult thing about how to beat the bosses is the equipment, as YOU choose when to fight them (unless you take too long, that is), and most of the time you end up completely DESTROYED by the boss, or you know, UTTERLY OBLITERATE it. The order of these bosses are up to you, so you may end up battling the one you thought to be the 'easiest' boss, when in reality, it's the 'second' one (*cough cough* EaterofWorlds *cough cough*). I must tell the truth, there was once a time when I downloaded every single update of Terraria from other websites, but I liked this game so much and gave me so many hours of fun, I decided to use a bit of my 'unemployed savings' (which is, by the way, very small) and bought the game! I think this was the best way to express how much I love this game; I could have every single update for free, but I had so much fun, I literally checked EVERY single day for an update, until I decided to buy it! One of the best desicions in my (comparatively short) life (I'm 16) and I doubt I'll ever regret it. In fact, I love so much this game that I made a review on Steam consisting of more than 6 paragraphs, while in school I hardly ever use my pencil :P In short, buy it. It's worth every single -insert monetary unit- you paid for it. -PS- Forgive me if my grammar is bad, as it's my second language. Have fun if you buy it! -Acepridi\""
      ]
     },
     "execution_count": 15,
     "metadata": {},
     "output_type": "execute_result"
    }
   ],
   "source": [
    "X[13283]"
   ]
  },
  {
   "cell_type": "code",
   "execution_count": 14,
   "metadata": {},
   "outputs": [
    {
     "data": {
      "text/plain": [
       "{-1: [\"This game is not for me. I don't know I see a lot of people playing it, and I'm sure they're having fun with it, but not me. I think it's downright boring. I had the same feeling with Minecraft. Sure, I knew before I bought this game that it would be somewhat similar to Minecraft, but still, I like to experience all games myself. That's the reason I buy so many games. Anyway, in this game you get to kill enemies and chop wood, things like that. With the resources you build things like houses and weapons. That's the basic idea. There are no objectives, there's no mission. You just create a world of your own, fighting enemies along the way. I salute those who do have the patience to put hundreds of hours into these games, creating the best worlds possible, exploring everything, doing everything, but next time I see a game like this I'll just simply ignore it. Period. [Rating: 66/100]\",\n",
       "  '( I played this game before so dont look at my hourse ;3 ) This game is AWESOME!!! You should really buy it it may not look fun BUT IT IS! You can explore the world Build a house seek for treasure IMPROVE YOUR HOUSMake lots of things Have the best adventure EVER And the best of MULTIPLAYER MODE! It is So much fun playing this game with a friend I hope you have a lot of fun :D ',\n",
       "  \"It's like Minecraft (I in 2d. It feels really like addictive, and I'm the type of person who gets into those things. Ultimately the game is very shallow and kind of just relies on you to make it fun for yourself. I like to collect and horde things I think it just takes advantage of people with mindsets like that. I don't really recommend this game, because it's just so blah and bland. The combat is not deep at all, it really has nothing to offer me as a game player. I just found myself compulsively hording and farming for materials so I could make the tools I already had, but get a better version of the tool that does the job of the tool faster, and really the game boils down to that. Just use a trainer and have all the stuff, and realize you kind of just wasted your time. The obvious counter argument to that I suppose is that all games are wastes of time, but to that I say waste your time more productively, heh. Also, cheating in games is not really a moralistic thing as long as you're playing a single player game you can do whatever you want, if you don't have the time to farm ridiculous amounts of matierals just save yourself the time and effort. Play the game a little realize there is not much there but time sinks, and move on play something you enjoy or work on your personal life. Just cheat in this game if you have it, then do something with your time.\",\n",
       "  \"You like Minecraft? Buy this game. This game has a similar feel when playing it, but it has so much more. With all of the hours I have in this game I haven't even beaten it yet. The cave exploration is fun, ie. cheap but powerful explosives everywhere. This game isn't as fun solo as it is playing multiplayer but, nevertheless it is quality. As a gift I recieved at the price of $4 I would've easily paid $10 for it. Edit: After a few hundred more hours than my original review, I have one more thing to add. If you have $30, buy a 4 pack instead of the ripoff that minecraft is. This game is a great single player experience as a new player, and an even better experience with some friends. For the better players exists what is known as Expert Mode, (not recommened for newcomers) where the game is much, much harder. If you want a game with hundreds of hours of great content, than this is what you could be looking for. Definitely give this a try, you may just play it hours on end. Even with all of my hours, I still have yet to defeat Duke fishron, and the Expert Mode Moon Lord, so, I still have a while to go.\",\n",
       "  \"10/10 Best 2D Sandbox game I've ever played. The Amount of game content ist just amazing!\"],\n",
       " 0: [\"Terraria has been a lot of fun to play. A lot of reviewers say it's like MineCraft (a game I've put over a thousand hours into), and in many ways it is: You spend your time hunting and accumulating resources, you take your raw materials and craft things, and a variety of monsters spawn every night and wander away come sunrise. However, I think that Terraria takes everything a step further - which pushes it further into the realm of RPG/fantasy and makes it more of a adfventure game and not a sandbox game. Terraria has more raw materials, more things to craft (some are just decorative, but many are functional) , more tools to use for crafting that after 50+ hours I'm still finding new items and new things I can create. The variety of things you can create is amazing, and the variety of styles that exist for each thing you can create makes it easy to customize your character's look, home, tools, weapons, etc. While MineCraft has it's Ender Dragon, Terraria has multiple bosses that are geared towards your different stages of character development - each of which drop powerful or valuable items to help you in the next level. Increasing your power (health points, mana points, armor, weapons) all have meaning and purpose in Terraria and become necessary the deeper or higher you go in the game. (literally) There are only 2 things I don't enjoy about Terraria. The first is, if you just want to build, dig, explore in Terraria - you're out of luck. Unlike MineCraft you cannot 'turn off' or change any aspect of the game. It's permanent 'survival mode' with monsters. The second is that the game occasionally will put you in a position where you will die (which I can deal with), but because of the character development and your dependence on your more powerful items and the increased danger of the situation that killed you - you are completely unable to recover the things you dropped upon dying. without hours of going back out and rebuilding your character's inventory back up. Died in a meteorite zone? Better have a full backup of your best armor, weapons, etc. on hand or you might as well start a new Despite my complaints, I'm still playing Terraria (and don't see that changing any time soon) and I still would definitely recommend it as a fun and enjoyable game.\",\n",
       "  'Terraria is not just a 2d minecraft, it is so much more! Hours of fun, and masses of content.',\n",
       "  \"This game. THIS GAME. I'ts freaking AWESOME!!! Some people say it's a 'cheap 2D rip-off of Minecraft', and to that i say NOOOO!!! This game has so many aspects in its gameplay other than mining and building (and I don't say Minecraft is bad), it's just that these two have different 'categories', Terraria is a '2D Sandbox Adventure game with an enphasis on combat', while Minecraft is a '3D, Sandbox Survival Adventure game based around building', without counting that Minecraft has official mod compatibility. Terraria doesn't need mods to have a lot of content, as a 'good patch' in Terraria equals to 6 new bosses, 43 new enemies (each with their own variants), 168 new items, 45 new weapons with wacky effects, 4 new NPCs, 3 new biomes, and an ENTIRE DIFFICULTY SETTING (add that to the fact that Terraria haas had at least 4 'good patches' and you got yourself a game for an entire year!) :D The replay value is excellent, because of the completely random worlds, along with the added difficulty of '-core' character and 'expert mode' worlds. Oh, and the bosses are awesome, too! It's linear, you don't have to shoot specific places to do damage to most of them, and, unlike the strategy-esque TLoZ boss battles, the most difficult thing about how to beat the bosses is the equipment, as YOU choose when to fight them (unless you take too long, that is), and most of the time you end up completely DESTROYED by the boss, or you know, UTTERLY OBLITERATE it. The order of these bosses are up to you, so you may end up battling the one you thought to be the 'easiest' boss, when in reality, it's the 'second' one (*cough cough* EaterofWorlds *cough cough*). I must tell the truth, there was once a time when I downloaded every single update of Terraria from other websites, but I liked this game so much and gave me so many hours of fun, I decided to use a bit of my 'unemployed savings' (which is, by the way, very small) and bought the game! I think this was the best way to express how much I love this game; I could have every single update for free, but I had so much fun, I literally checked EVERY single day for an update, until I decided to buy it! One of the best desicions in my (comparatively short) life (I'm 16) and I doubt I'll ever regret it. In fact, I love so much this game that I made a review on Steam consisting of more than 6 paragraphs, while in school I hardly ever use my pencil :P In short, buy it. It's worth every single -insert monetary unit- you paid for it. -PS- Forgive me if my grammar is bad, as it's my second language. Have fun if you buy it! -Acepridi\",\n",
       "  \"First of all I wanna say Terraria is a amazing sandbox game, infact possibly the best (other than Minecraft of course) 9/10 would recommend to anyone. If I had a pound for everytime Ive heard someone call this game 2D Minecraft or a copy of Minecraft I would be a rich man right now and have alot more steam games. But sometimes people we have to be honest with ourselves the best way to describe Terraria in words is 2D Minecraft. HOWEVER there is alot that sets Terraria appart from minecraft. Now I will go into some of the things I enjoy about Terraria and some of the things I dont. PROS- 1) The music in Terraria is very good and atnospheric I would reccomend picking up the soundtrack if you can 2) Terraria has a very good potion/alchemy system 3) Terraria has guns 4) Terraria has magic stuff 5) Terraria has a large variety of mobs 6) Terraria has a large variety of bosses 7) Servers are very easy to setup CONS- 1) There aren't really that many mods for Terraria however if you were going to install one I would recommend the gamewiki mod 2) Sometimes multiplayer servers can be kind of laggy\",\n",
       "  \"700+ hours in, I believe I can write my first, proper review now. - Makes it to my top 10 games of all time list. (Ain't nobody got time fo' dat - AKA TL;DR) - Terraria is a great choice for all but the most strict gamers who want their games to be very serious, realistic etc. The gameplay itself is pretty simple at first but it gets better the further you go, from simple shortsword stabs to flying with your grand wings yelling 'FINAL FLASH!' at your enemies who can, if you're not careful whoop you good. It has a ridiculous amount of unique weapons, beautiful armor and furniture that will give your imagination a nice 'workout'. The game is lengthy enough and has a wide variety of enemies/bosses so you'll never get tired of the same opponent because soon enough you'll meet a new one with his own unique drop/drops. There are very few drawbacks to the game and for the price of it's a steal. Now for the actual review that is not that much longer than the short one (just kidding). 'Aand the GRAPHICS!' - If you like pixel art style then this alone could be why you may be considering buying this game, and I understand that completely. The graphics, for a 2D game of it's time are unique in their own way, blending together with more complex effects to make itself look great and they're not going to look outdated anytime soon. There is a fair variety of biomes to prove that, and of course, the screenshots. Le music'o - This is one of the very few games that has music I like, no scratch that - LOVE. Especially the boss music, I swear I had goosebumps back when the trailer for came out showing Wall of Flesh. I mean they even gave props to Pantera by making Plantera and that boss has a sweet metal theme, that's dope. The music is really catchy and memorable, just how many games have memorable music? Ze progression - Lemme be honest, it's pretty linear in a way. First you do random stuff/build until you get silver/gold gear then you start whooping the first boss (If you're a newbie you'll be whooped instead) so you gear up some more and try again. Eventually you beat him and either unlock something or get certain materials that allow you to make gear that lets you progress. Now, I'm not saying this is a bad thing now am I? It's like a main/side quest system but without the quests. You can do whatever you want until you've exhausted of all the side features so then you have to progress by beating the boss. It takes quite a few hours/days to get from one boss to another if you're taking things slow. I was taking things real easy and it took me around 2 days to get from one boss to the next. There are quite a few of bosses in the game too so you'll be always excited to fight the next one. Since this is a sandbox game there is no WELL TECHNICALLY you create your own endgame and play until you get bored and stop, so you can enjoy the game for as long as you want! The building - Building is a solid 25%-35% of the game. You'll want to build a nice base with traps to protect yourself at night. Usually people start with a small shack night one and that shack turns into an underground lair, but you can build things your own way of course. There are many pieces of furniture so your base/house will never look bland if you take the time to decorate of course. Oh and guess what. There is an actual reason for you to expand because there are NPC's that eventually come to your town and live there, AND they have some nice, dynamic shops that can change depending if it's day/night/blood moon etc. The combat - Starts off simple, doesn't get much harder because by the time you get to the 'complicated gear' you'll already be used to all the in-between gear (Sure hope that made sense), so in a way it starts simple and stays that way. The monsters don't dodge of course but you'll have to unless you're a melee character, BUT IF YOU'RE NOT, you'll be able to use the terrain to your advantage more often, using grapling hooks, jet-boots and later on - Wings. The Enemies - They are not the smartest (basic enemies can be baited into a hole and sniped from there) but the abilities that are given to them can REALLY make them formidable further in the game. They hit hard if you don't have the armor that you're supposed to be wearing at that point of the game. Later on they can dash to you, teleport to you ghost through the terrain to spank you so you'll need to prepare some potions and buff yourself up, and boy does it feel good when you win. One of the complains is that a few bosses can be VERY difficult but I'm just a scrub so ignore that part (No seriously, beware of and Cthulhu-bro). If you're having problems you can build yourself a BOSS ARENA placing special health statues that give you hearts over the course of the fight, lanterns that grant you mana regen etc. Multi-manmode (Multiplayer) - The monsters scale the more people you have making the game always balanced. I haven't tried many of the servers but they can range from unique mini-games to role-playing servers so the creativity is there. But the best is going PvP HAM BABY! You can literally build/dig yourself an arena for you and your friends (If you have any) to go crazy! Especially in mid-game or end-game when you can blow their heads off with a shotgun/bazooka. Now since I am a confirmed scrublord I don't PvP much because I get wrecked quite often but it's still great, the PvP is great. SO! The visuals are great, the music is great, the gameplay is great, everything is frickin' great dude. This will be the best 10$ you'll ever spend for the next 2 decades at the very least (unless you haven't eaten for the past 10 days and you're dying). The reason I'm rating the game is because of a couple minor minor issues + the game CAN be a little bit boring if you're playing alone so if you play a lot find some friends or play less, savor I don't expect a gem like this to appear for quite a until Terraria Otherworld comes out of course.\"],\n",
       " 1: [\"It's Fun To play with friends\",\n",
       "  'Friends or no friends this game is just fun to play.',\n",
       "  'great game to play with friends or alone.',\n",
       "  'Great game, best played with friends.',\n",
       "  'A Great And Fun Game That Anyone Can Play.'],\n",
       " 2: ['this game is like minecraft',\n",
       "  \"Minecraft's hotter twin.\",\n",
       "  \"It's a minecraft 2D \",\n",
       "  \"It's like 2D Minecraft but better!\",\n",
       "  \"Do not stereotype this game as 2D Minecraft because it's not.\"],\n",
       " 3: [\"It's pretty good.\",\n",
       "  'Pretty good.',\n",
       "  'Cool and Good.',\n",
       "  'Pretty much good',\n",
       "  'Its pretty good'],\n",
       " 4: ['hours and hours of fun!!',\n",
       "  'So many hours of my ',\n",
       "  'Hours and hours and hours of fun!',\n",
       "  'Not enough hours.',\n",
       "  'Hours and hours and hours and hours and hours and hours and hours of fun.'],\n",
       " 5: ['Kill 2 massive eyes while riding a unicorn and shooting a rainbow gun 10/10',\n",
       "  'I got gored by a unicorn. 11/10',\n",
       "  'Has flying fish 10/10',\n",
       "  \"Who Doesn't Like Unicorn ?? 10/10\",\n",
       "  'You get to ride a unicorn in this game. 10/10'],\n",
       " 6: [\"my terraria will not load it says it load it from the steam client and I did that but it didn't work why is that? it did work before but after the newest update it came up with error sigh with that message can you please fix this?\",\n",
       "  'You should fix your ',\n",
       "  'it wont let me play the game it says i have to launch it from my steam client apperantly its already running but i cant open it',\n",
       "  'fix mutlipyplayer greeat game ',\n",
       "  ' hello i love playing terraria, and its awesom to play, but from some reason i cant play the game it wont start so if anyone that can help me please help me! I really want to play more but the game shut itself down and i did everything to fix it but still dosent work so please i really want to play the game more.'],\n",
       " 7: ['Really fun and very addictive game.',\n",
       "  'its really fun and addictive',\n",
       "  'Fun and addictive!',\n",
       "  'Fun and addictive',\n",
       "  'Fun and addictive!!'],\n",
       " 8: ['10/10', '10 / 10 :3', '10/10', ' 7/10 ', '10/10'],\n",
       " 9: ['buy this',\n",
       "  'fanstatic must buy',\n",
       "  'Buy It ',\n",
       "  'Buy this!',\n",
       "  'Buy this game, just buy it.'],\n",
       " 10: ['Too (Review for a ',\n",
       "  ' Collectionist Review!',\n",
       "  ' this review',\n",
       "  'review? what review?',\n",
       "  'This is not a review.'],\n",
       " 11: ['this game is gud',\n",
       "  'This game is gud.',\n",
       "  'this game gud',\n",
       "  'dis is gud gam bay if u hev 12 potat',\n",
       "  \"Gage, if you don't get this game I will tickle the Fuq outta youz\"],\n",
       " 12: ['PUT FOR MAC 6/10',\n",
       "  'i wasent for mac but now it is GREAT FIR ME I HAVE A MAC :steamhappy:',\n",
       "  'shold be for mac ',\n",
       "  'not for mac',\n",
       "  'When will it be for mac?'],\n",
       " 13: [\"This game is so fun! I can't stop playing :D\",\n",
       "  'CANT STOP PLAYING',\n",
       "  'this game is cant stop playing it ',\n",
       "  'CANT STOP PLAYING.',\n",
       "  'The game you will never stop playing'],\n",
       " 14: ['this game THIS GAME this is the best game of all time moon lord / 10',\n",
       "  '10/10 would moon lord again',\n",
       "  ' muscular poops has been vaporized by Moon Lord. Again. ',\n",
       "  '10/10 would moon lord again',\n",
       "  '10/10 would moon lord again'],\n",
       " 15: ['comepletly outshined by starbound',\n",
       "  'not starbound',\n",
       "  \"Better than starbound. This game is enjoyable, right up until the infinate clicking on low res tiles drives you insane, makes your hand cramp into a claw. and your eyes become permanantly crossed. So its a recommend from me, but a half hearted recommendation. You will enjoy the game and the game will end up giving you a migraine. This game should be remade, still in 2d, with ultra high def graphics, with the ability to give 'block' orders to your character to say mine a specific area via holding down the mouse button and dragging over the blocks to be mined, to reduce the number of clicks required in game, further to allow building of walls and floors and so on using the same method of click and drag and the player character then builds the whole block by himself until his resources run out or is completed without you having to keep clicking. Seriously the biggest drawback to this game is the clicking. Click. Click. Click Click. Click. Click Click. Click. Click Click. Click. Click Click. Click. Click Click. Click. Click Click. Click. Click Click. Click Click. Click. Click Click. Click. Click Click. Click. Click Click. Click. Click Click. Click. Click Click. Click. Click Click. Click Click. Click. Click Click. Click. Click Click. Click. Click Click. Click. Click Click. Click. Click Click. Click. Click Click. Click Click. Click. Click Click. Click. Click Click. Click. Click Click. Click. Click Click. Click. Click Click. Click. Click Click. Click Click. Click. Click Click. Click. Click Click. Click. Click Click. Click. Click Click. Click. Click Click. Click. Click Click. Click Click. Click. Click Click. Click. Click Click. Click. Click Click. Click. Click Click. Click. Click Click. Click. Click Click. Click Click. Click. Click Click. Click. Click Click. Click. Click Click. Click. Click Click. Click. Click Click. Click. Click Click. Click Click. Click. Click Click. Click. Click Click. Click. Click Click. Click. Click Click. Click. Click Click. Click. Click Click. Click Click. Click. Click Click. Click. Click Click. Click. Click Click. Click. Click Click. Click. Click Click. Click. Click Click. Click Click. Click. Click Click. Click. Click Click. Click. Click Click. Click. Click Click. Click. Click Click. Click. Click Click. Click Click. Click. Click Click. Click. Click Click. Click. Click Click. Click. Click Click. Click. Click Click. Click. Click Click. Click Click. Click. Click Click. Click. Click Click. Click. Click Click. Click. Click Click. Click. Click Click. Click. Click Click. Click Click. Click. Click Click. Click. Click Click. Click. Click Click. Click. Click Click. Click. Click Click. Click. Click Click. Click Click. Click. Click Click. Click. Click Click. Click. Click Click. Click. Click Click. Click. Click Click. Click. Click Click. Click Click. Click. Click Click. Click. Click Click. Click. Click Click. Click. Click Click. Click. Click Click. Click. Click Click. Click Click. Click. Click Click. Click. Click Click. Click. Click Click. Click. Click Click. Click. Click Click. Click. Click Click. Click Click. Click. Click Click. Click. Click Click. Click. Click Click. Click. Click Click. Click. Click Click. Click. Click Click. Click Click. Click. Click Click. Click. Click Click. Click. Click Click. Click. Click Click. Click. Click Click. Click. Click Click. Click Click. Click. Click Click. Click. Click Click. Click. Click Click. Click. Click Click. Click. Click Click. Click. Click Click. Click Click. Click. Click Click. Click. Click Click. Click. Click Click. Click. Click Click. Click. Click Click. Click. Click Click. Click Click. Click. Click Click. Click. Click Click. Click. Click Click. Click. Click Click. Click. Click Click. Click. Click Click. Click Click. Click. Click Click. Click. Click Click. Click. Click Click. Click. Click Click. Click. Click Click. Click. Click Click. Click Click. Click. Click Click. Click. Click Click. Click. Click Click. Click. Click Click. Click. Click Click. Click. Click Click. Click Click. Click. Click Click. Click. Click Click. Click. Click Click. Click. Click Click. Click. Click Click. Click. Click Click. Click Click. Click. Click Click. Click. Click Click. Click. Click Click. Click. Click Click. Click. Click Click. Click. Click Click. Click Click. Click. Click Click. Click. Click Click. Click. Click Click. Click. Click Click. Click. Click Click. Click. Click Click. Click Click. Click. Click Click. Click. Click Click. Click. Click Click. Click. Click Click. Click. Click Click. Click. Click Click. Click Click. Click. Click Click. Click. Click Click. Click. Click Click. Click. Click Click. Click. Click Click. Click. Click Click. Click Click. Click. Click Click. Click. Click Click. Click. Click Click. Click. Click Click. Click. Click Click. Click. Click Click. Click Click. Click. Click Click. Click. Click Click. Click. Click Click. Click. Click Click. Click. Click Click. Click. Click Click. Click Click. Click. Click Click. Click. Click Click. Click. Click Click. Click. Click Click. Click. Click Click. Click. Click Click. Click Click. Click. Click Click. Click. Click Click. Click. Click Click. Click. Click Click. Click. Click Click. Click. Click Click. Click Click. Click. Click Click. Click. Click Click. Click. Click Click. Click. Click Click. Click. Click Click. Click. Click Click. Click Click. Click. Click Click. Click. Click Click. Click. Click Click. Click. Click Click. Click. Click Click. Click. Click Click. Click Click. Click. Click Click. Click. Click Click. Click. Click Click. Click. Click Click. Click. Click Click. Click. Click Click. Click Click. Click. Click Click. Click. Click Click. Click. Click Click. Click. Click Click. Click. Click Click. Click. Click Click.\",\n",
       "  'not starbound',\n",
       "  \"It's pretty fun. Love this game on android. Played it when it was a beta, but after having played starbound, I wanted to come back but can't cause its annoying as hell having to click like a mad man to attack. I guess I've been spoiled by games like starbound and diablo that you can just hold a click and keep attacking. I recommend starbound, though.\"],\n",
       " 16: ['Yes, you can dig, fight, expore and build in it.',\n",
       "  'Dig, Build, Explore. k cool',\n",
       "  '10/10 would dig, explore, build and fight bosses',\n",
       "  'Dig, Fight, Explore, Build! Great game.',\n",
       "  ' Dig, fight, explore, build!'],\n",
       " 17: ['AN EPIC GAME!!!! U MUST GET IT!!!!',\n",
       "  'This Game is EPIC!',\n",
       "  'This game is epic',\n",
       "  'Fockin epic game!',\n",
       "  'THIS GAME IS EPIC!!!!'],\n",
       " 18: ['10/10 would be killed by a slime again.',\n",
       "  '10 out of 10 would get dissected by a slime again.',\n",
       "  'much slime, very slimey',\n",
       "  'It has slime.',\n",
       "  ' Out of 10 Too much slime'],\n",
       " 19: ['10/10 would terraria again -IGN',\n",
       "  'I like this game so much. 10/10 IGN approves. ^_^',\n",
       "  '10/6 would IGN again',\n",
       "  \"There's glowsticks. 10/10 IGN\",\n",
       "  '10/10, would IGN']}"
      ]
     },
     "execution_count": 14,
     "metadata": {},
     "output_type": "execute_result"
    }
   ],
   "source": [
    "# the mapping is in no particular order\n",
    "\n",
    "repr_docs_mappings"
   ]
  },
  {
   "cell_type": "code",
   "execution_count": 16,
   "metadata": {},
   "outputs": [
    {
     "data": {
      "text/plain": [
       "[[69133, 29213, 28978, 8221, 65124],\n",
       " [13283, 4330, 32151, 25802, 66255],\n",
       " [26042, 23556, 56004, 13546, 19767],\n",
       " [72766, 22245, 27028, 64480, 43599],\n",
       " [76234, 76513, 24610, 9937, 81174, 44565, 78625, 71770, 21959],\n",
       " [58017, 80060, 75614, 24699, 29527],\n",
       " [5612, 21355, 15721, 73722, 76673],\n",
       " [66926, 81123, 69346, 39736, 73166],\n",
       " [45828, 14808, 14052, 43830, 31786],\n",
       " [13954,\n",
       "  15367,\n",
       "  3571,\n",
       "  62552,\n",
       "  67027,\n",
       "  74730,\n",
       "  27664,\n",
       "  22968,\n",
       "  45916,\n",
       "  41352,\n",
       "  44060,\n",
       "  77713,\n",
       "  72729,\n",
       "  65253,\n",
       "  41473,\n",
       "  64035,\n",
       "  69670,\n",
       "  73271,\n",
       "  1740,\n",
       "  46623,\n",
       "  26851,\n",
       "  41517,\n",
       "  41952,\n",
       "  81378,\n",
       "  78216,\n",
       "  41589,\n",
       "  48347,\n",
       "  26682,\n",
       "  25142,\n",
       "  69155,\n",
       "  64631,\n",
       "  60209,\n",
       "  10852,\n",
       "  73386,\n",
       "  69198,\n",
       "  26065,\n",
       "  77440,\n",
       "  17722,\n",
       "  21359,\n",
       "  55854,\n",
       "  60560,\n",
       "  47427,\n",
       "  36040,\n",
       "  62040,\n",
       "  42949,\n",
       "  7516,\n",
       "  27658,\n",
       "  72843,\n",
       "  77500,\n",
       "  79390,\n",
       "  67005],\n",
       " [66470, 81395, 79254, 8903, 14471],\n",
       " [2712, 54219, 17971, 24134, 78942],\n",
       " [5188, 840, 37047, 45138, 5042],\n",
       " [31321, 51514, 58100, 61773, 27996],\n",
       " [10515, 17867, 59988, 63367, 80328],\n",
       " [41481, 79525, 79336, 59729, 79379],\n",
       " [19169, 27928, 28781, 28638, 27679],\n",
       " [27214, 52140, 46606, 77690, 32578],\n",
       " [33570, 17243, 37208, 56578, 19913],\n",
       " [34619, 10337, 22239, 21687, 39209, 21757],\n",
       " [32383, 22609, 61907, 41688, 38985]]"
      ]
     },
     "execution_count": 16,
     "metadata": {},
     "output_type": "execute_result"
    }
   ],
   "source": [
    "# more than one as maybe after cleaning, the documents are the same\n",
    "\n",
    "repr_docs_ids"
   ]
  },
  {
   "cell_type": "code",
   "execution_count": 76,
   "metadata": {},
   "outputs": [
    {
     "name": "stdout",
     "output_type": "stream",
     "text": [
      "10/10, would IGN\n",
      "10/6 would IGN again\n",
      "I like this game so much. 10/10 IGN approves. ^_^\n",
      "10/10 would terraria again -IGN\n",
      "There's glowsticks. 10/10 IGN\n"
     ]
    }
   ],
   "source": [
    "for i in repr_docs_ids[-1]:\n",
    "    print(X[i])"
   ]
  },
  {
   "cell_type": "code",
   "execution_count": 46,
   "metadata": {},
   "outputs": [
    {
     "data": {
      "text/plain": [
       "(81769, 21)"
      ]
     },
     "execution_count": 46,
     "metadata": {},
     "output_type": "execute_result"
    }
   ],
   "source": [
    "probs.shape"
   ]
  },
  {
   "cell_type": "markdown",
   "metadata": {},
   "source": [
    "---"
   ]
  },
  {
   "cell_type": "markdown",
   "metadata": {},
   "source": [
    "Get the docs with the highest probability in each topic when transform with a new set of documents"
   ]
  },
  {
   "cell_type": "code",
   "execution_count": 62,
   "metadata": {},
   "outputs": [],
   "source": [
    "# how about we use the topics and probs variable to calculate the top N representative docs\n",
    "top_N = 10\n",
    "\n",
    "idx = np.argpartition(-probs, top_N, axis=0)[:top_N]"
   ]
  },
  {
   "cell_type": "code",
   "execution_count": 63,
   "metadata": {},
   "outputs": [
    {
     "data": {
      "text/plain": [
       "(10, 21)"
      ]
     },
     "execution_count": 63,
     "metadata": {},
     "output_type": "execute_result"
    }
   ],
   "source": [
    "# row = document, col = topic\n",
    "idx.shape"
   ]
  },
  {
   "cell_type": "code",
   "execution_count": 65,
   "metadata": {},
   "outputs": [
    {
     "data": {
      "text/plain": [
       "array([66922, 60612, 39721, 41823, 34887, 66124,  5826, 44161, 76701,\n",
       "       76489])"
      ]
     },
     "execution_count": 65,
     "metadata": {},
     "output_type": "execute_result"
    }
   ],
   "source": [
    "idx[:, -1]"
   ]
  },
  {
   "cell_type": "code",
   "execution_count": 66,
   "metadata": {},
   "outputs": [
    {
     "data": {
      "text/plain": [
       "array([0.8847593 , 0.88933086, 0.89252526, 0.87341017, 0.86458516,\n",
       "       0.86464214, 0.87115467, 0.86157316, 0.8588035 , 0.8588035 ],\n",
       "      dtype=float32)"
      ]
     },
     "execution_count": 66,
     "metadata": {},
     "output_type": "execute_result"
    }
   ],
   "source": [
    "probs[idx[:, -1], -1]"
   ]
  },
  {
   "cell_type": "code",
   "execution_count": 75,
   "metadata": {},
   "outputs": [
    {
     "name": "stdout",
     "output_type": "stream",
     "text": [
      "Such a great Game 10/10 -Ign\n",
      "I LOVE THIS GAME ign 10/10\n",
      "this game is amazing 10/10 IGN\n",
      "I LOVE THIS GAME 10/10 BEST GAVE EVER IGN\n",
      "its a great game 10/10 IGN rating \n",
      "This is one of the best games ever. It got 9/10 IGN\n",
      "this Game is amazing 10/1o ign\n",
      "Great game 10/10 IGN :)\n",
      "Great game, IGN 11/10\n",
      "Great game, IGN 11/10\n"
     ]
    }
   ],
   "source": [
    "for i in idx[:, -1]:\n",
    "    print(X[i])"
   ]
  },
  {
   "cell_type": "code",
   "execution_count": 77,
   "metadata": {},
   "outputs": [],
   "source": [
    "scores = probs[idx[:, 0]]"
   ]
  },
  {
   "cell_type": "code",
   "execution_count": 78,
   "metadata": {},
   "outputs": [
    {
     "data": {
      "text/plain": [
       "array([[0.83925736, 0.74457836, 0.80703235, 0.6795908 , 0.4112299 ,\n",
       "        0.60110843, 0.32747   , 0.4742515 , 0.57148874, 0.11809592,\n",
       "        0.37909943, 0.57450265, 0.4534629 , 0.4331435 , 0.5107883 ,\n",
       "        0.52181256, 0.52877164, 0.5952083 , 0.51749295, 0.2519888 ,\n",
       "        0.3827619 ],\n",
       "       [0.83819544, 0.6792901 , 0.82225263, 0.59778   , 0.4467274 ,\n",
       "        0.71488297, 0.4026624 , 0.4975381 , 0.5864483 , 0.17567718,\n",
       "        0.37321538, 0.6265934 , 0.49665412, 0.45622283, 0.5865581 ,\n",
       "        0.57748616, 0.50651133, 0.5680938 , 0.5247112 , 0.29756355,\n",
       "        0.419262  ],\n",
       "       [0.862828  , 0.71632946, 0.8440254 , 0.6514621 , 0.38810313,\n",
       "        0.73899895, 0.35407072, 0.51394963, 0.6051907 , 0.10856348,\n",
       "        0.3591198 , 0.58158875, 0.474846  , 0.46928063, 0.5575608 ,\n",
       "        0.5806221 , 0.5548263 , 0.5549511 , 0.5808619 , 0.23594311,\n",
       "        0.4032487 ],\n",
       "       [0.8423841 , 0.7527422 , 0.79166555, 0.6698292 , 0.42994094,\n",
       "        0.6526007 , 0.42818356, 0.46310222, 0.551491  , 0.13339101,\n",
       "        0.35773557, 0.5436413 , 0.5092301 , 0.42255324, 0.55853796,\n",
       "        0.6107204 , 0.5247155 , 0.59847164, 0.54091156, 0.3006758 ,\n",
       "        0.40717262],\n",
       "       [0.84599566, 0.6976285 , 0.8368751 , 0.6186814 , 0.3861117 ,\n",
       "        0.6299542 , 0.39002562, 0.4886284 , 0.6093312 , 0.13688412,\n",
       "        0.33591774, 0.5865537 , 0.5352546 , 0.45453942, 0.61889803,\n",
       "        0.5937561 , 0.5002037 , 0.59030044, 0.551244  , 0.27730703,\n",
       "        0.38843197],\n",
       "       [0.8382751 , 0.6642017 , 0.8594145 , 0.6203712 , 0.39301905,\n",
       "        0.70589405, 0.35402197, 0.48598182, 0.6593661 , 0.17577155,\n",
       "        0.42203134, 0.5841309 , 0.4890063 , 0.469237  , 0.54678833,\n",
       "        0.5113021 , 0.5496978 , 0.51661193, 0.5606973 , 0.24666554,\n",
       "        0.4037193 ],\n",
       "       [0.87330127, 0.7271733 , 0.8326663 , 0.71530944, 0.40253848,\n",
       "        0.67349994, 0.41853094, 0.5017158 , 0.6497384 , 0.14912495,\n",
       "        0.35997117, 0.5904274 , 0.5370717 , 0.4444552 , 0.57783663,\n",
       "        0.5941468 , 0.5650042 , 0.5732267 , 0.5777149 , 0.27540505,\n",
       "        0.44852924],\n",
       "       [0.83682334, 0.6670635 , 0.8424367 , 0.6000381 , 0.34957254,\n",
       "        0.7543807 , 0.33113605, 0.50309885, 0.59413356, 0.16327423,\n",
       "        0.397748  , 0.5936    , 0.4751068 , 0.48077947, 0.57099986,\n",
       "        0.54498255, 0.55878085, 0.49221024, 0.507731  , 0.21544582,\n",
       "        0.42049417],\n",
       "       [0.8355541 , 0.6487314 , 0.846375  , 0.5822264 , 0.41217   ,\n",
       "        0.69907844, 0.29873356, 0.46435058, 0.5610466 , 0.1252132 ,\n",
       "        0.51271343, 0.65581024, 0.48269004, 0.4944902 , 0.5395562 ,\n",
       "        0.5026502 , 0.53196764, 0.45576224, 0.56909645, 0.18686903,\n",
       "        0.36198142],\n",
       "       [0.83403176, 0.68630457, 0.8133254 , 0.64252704, 0.40235418,\n",
       "        0.6167284 , 0.37413794, 0.4310043 , 0.6246871 , 0.13340065,\n",
       "        0.3416798 , 0.5774033 , 0.5138409 , 0.42338824, 0.53530824,\n",
       "        0.5562971 , 0.50766534, 0.5682897 , 0.5653323 , 0.22240874,\n",
       "        0.41235816]], dtype=float32)"
      ]
     },
     "execution_count": 78,
     "metadata": {},
     "output_type": "execute_result"
    }
   ],
   "source": [
    "scores"
   ]
  },
  {
   "cell_type": "code",
   "execution_count": 79,
   "metadata": {},
   "outputs": [
    {
     "data": {
      "text/plain": [
       "(10, 21)"
      ]
     },
     "execution_count": 79,
     "metadata": {},
     "output_type": "execute_result"
    }
   ],
   "source": [
    "scores.shape"
   ]
  },
  {
   "cell_type": "code",
   "execution_count": 16,
   "metadata": {},
   "outputs": [],
   "source": [
    "# # load the embeddings\n",
    "# embedding_path = Path('00_Terraria_embeddings.pkl')\n",
    "# embeddings = np.load(embedding_path)\n",
    "\n",
    "# # inference to get the topics and prob for evaluation\n",
    "# # hence, we need the probs to get topic-doc-matrix\n",
    "# topics, probs = topic_model.transform(X, embeddings=embeddings)"
   ]
  },
  {
   "cell_type": "code",
   "execution_count": 17,
   "metadata": {},
   "outputs": [
    {
     "data": {
      "text/plain": [
       "(81776, 20)"
      ]
     },
     "execution_count": 17,
     "metadata": {},
     "output_type": "execute_result"
    }
   ],
   "source": [
    "probs.shape"
   ]
  },
  {
   "cell_type": "markdown",
   "metadata": {},
   "source": [
    "Extracting Topics"
   ]
  },
  {
   "cell_type": "code",
   "execution_count": 28,
   "metadata": {},
   "outputs": [
    {
     "data": {
      "text/html": [
       "<div>\n",
       "<style scoped>\n",
       "    .dataframe tbody tr th:only-of-type {\n",
       "        vertical-align: middle;\n",
       "    }\n",
       "\n",
       "    .dataframe tbody tr th {\n",
       "        vertical-align: top;\n",
       "    }\n",
       "\n",
       "    .dataframe thead th {\n",
       "        text-align: right;\n",
       "    }\n",
       "</style>\n",
       "<table border=\"1\" class=\"dataframe\">\n",
       "  <thead>\n",
       "    <tr style=\"text-align: right;\">\n",
       "      <th></th>\n",
       "      <th>Topic</th>\n",
       "      <th>Count</th>\n",
       "      <th>Name</th>\n",
       "      <th>Representation</th>\n",
       "      <th>Representative_Docs</th>\n",
       "    </tr>\n",
       "  </thead>\n",
       "  <tbody>\n",
       "    <tr>\n",
       "      <th>0</th>\n",
       "      <td>-1</td>\n",
       "      <td>30807</td>\n",
       "      <td>-1_game_fun_10_like</td>\n",
       "      <td>[game, fun, 10, like, minecraft, hours, play, ...</td>\n",
       "      <td>NaN</td>\n",
       "    </tr>\n",
       "    <tr>\n",
       "      <th>1</th>\n",
       "      <td>0</td>\n",
       "      <td>19379</td>\n",
       "      <td>0_terraria_game_minecraft_like</td>\n",
       "      <td>[terraria, game, minecraft, like, bosses, sand...</td>\n",
       "      <td>NaN</td>\n",
       "    </tr>\n",
       "    <tr>\n",
       "      <th>2</th>\n",
       "      <td>1</td>\n",
       "      <td>15848</td>\n",
       "      <td>1_game_fun_great_friends</td>\n",
       "      <td>[game, fun, great, friends, play, best, 10, go...</td>\n",
       "      <td>NaN</td>\n",
       "    </tr>\n",
       "    <tr>\n",
       "      <th>3</th>\n",
       "      <td>2</td>\n",
       "      <td>4146</td>\n",
       "      <td>2_minecraft_2d_better_like</td>\n",
       "      <td>[minecraft, 2d, better, like, game, 10, fun, g...</td>\n",
       "      <td>NaN</td>\n",
       "    </tr>\n",
       "    <tr>\n",
       "      <th>4</th>\n",
       "      <td>3</td>\n",
       "      <td>2342</td>\n",
       "      <td>3_good_ok_cool_awesome</td>\n",
       "      <td>[good, ok, cool, awesome, pretty, alright, aws...</td>\n",
       "      <td>NaN</td>\n",
       "    </tr>\n",
       "  </tbody>\n",
       "</table>\n",
       "</div>"
      ],
      "text/plain": [
       "   Topic  Count                            Name  \\\n",
       "0     -1  30807             -1_game_fun_10_like   \n",
       "1      0  19379  0_terraria_game_minecraft_like   \n",
       "2      1  15848        1_game_fun_great_friends   \n",
       "3      2   4146      2_minecraft_2d_better_like   \n",
       "4      3   2342          3_good_ok_cool_awesome   \n",
       "\n",
       "                                      Representation  Representative_Docs  \n",
       "0  [game, fun, 10, like, minecraft, hours, play, ...                  NaN  \n",
       "1  [terraria, game, minecraft, like, bosses, sand...                  NaN  \n",
       "2  [game, fun, great, friends, play, best, 10, go...                  NaN  \n",
       "3  [minecraft, 2d, better, like, game, 10, fun, g...                  NaN  \n",
       "4  [good, ok, cool, awesome, pretty, alright, aws...                  NaN  "
      ]
     },
     "execution_count": 28,
     "metadata": {},
     "output_type": "execute_result"
    }
   ],
   "source": [
    "# look at the most frequent topics \n",
    "\n",
    "freq = topic_model.get_topic_info(); freq.head(5)"
   ]
  },
  {
   "cell_type": "code",
   "execution_count": 29,
   "metadata": {},
   "outputs": [
    {
     "data": {
      "text/plain": [
       "[['terraria', 0.04546136142022207],\n",
       " ['game', 0.029715244585525744],\n",
       " ['minecraft', 0.022286892174031094],\n",
       " ['like', 0.019741095325865838],\n",
       " ['bosses', 0.01918579669916258],\n",
       " ['sandbox', 0.01830580611353157],\n",
       " ['just', 0.016558929897253067],\n",
       " ['games', 0.016156287481810104],\n",
       " ['play', 0.01580017737860383],\n",
       " ['fun', 0.01579072651927058]]"
      ]
     },
     "execution_count": 29,
     "metadata": {},
     "output_type": "execute_result"
    }
   ],
   "source": [
    "topic_model.get_topic(0)  # Select the most frequent topic"
   ]
  },
  {
   "cell_type": "markdown",
   "metadata": {},
   "source": [
    "(Copy from BERTopic ipynb in colab)\n",
    "\n",
    "There are a number of attributes that you can access after having trained your BERTopic model:\n",
    "\n",
    "\n",
    "| Attribute | Description |\n",
    "|------------------------|---------------------------------------------------------------------------------------------|\n",
    "| topics_               | The topics that are generated for each document after training or updating the topic model. |\n",
    "| probabilities_ | The probabilities that are generated for each document if HDBSCAN is used. |\n",
    "| topic_sizes_           | The size of each topic                                                                      |\n",
    "| topic_mapper_          | A class for tracking topics and their mappings anytime they are merged/reduced.             |\n",
    "| topic_representations_ | The top *n* terms per topic and their respective c-TF-IDF values.                             |\n",
    "| c_tf_idf_              | The topic-term matrix as calculated through c-TF-IDF.                                       |\n",
    "| topic_labels_          | The default labels for each topic.                                                          |\n",
    "| custom_labels_         | Custom labels for each topic as generated through `.set_topic_labels`.                                                               |\n",
    "| topic_embeddings_      | The embeddings for each topic if `embedding_model` was used.                                                              |\n",
    "| representative_docs_   | The representative documents for each topic if HDBSCAN is used. (affects evaluation (calling get_topic_info()), transform with the provided data to get the topic and the probability and re-calculate them)                                                |"
   ]
  },
  {
   "cell_type": "markdown",
   "metadata": {},
   "source": [
    "Save and load BERTopic models and components"
   ]
  },
  {
   "cell_type": "markdown",
   "metadata": {},
   "source": [
    "Visualization"
   ]
  },
  {
   "cell_type": "code",
   "execution_count": 30,
   "metadata": {},
   "outputs": [
    {
     "data": {
      "application/vnd.plotly.v1+json": {
       "config": {
        "plotlyServerURL": "https://plot.ly"
       },
       "data": [
        {
         "customdata": [
          [
           0,
           "terraria | game | minecraft | like | bosses",
           19379
          ],
          [
           1,
           "game | fun | great | friends | play",
           15848
          ],
          [
           2,
           "minecraft | 2d | better | like | game",
           4146
          ],
          [
           3,
           "good | ok | cool | awesome | pretty",
           2342
          ],
          [
           4,
           "hours | time | award | played | game",
           1548
          ],
          [
           5,
           "10 | unicorn | killed | bunnies | bunny",
           1237
          ],
          [
           6,
           "fix | help | crashes | deleted | wont",
           1049
          ],
          [
           7,
           "addictive | fun | addicting | really | lots",
           1029
          ],
          [
           8,
           "10 | 11 | play | good | buy",
           776
          ],
          [
           9,
           "buy | worth | just | money | spent",
           628
          ],
          [
           10,
           "review | reviews | badge | positive | want",
           475
          ],
          [
           11,
           "pickle | tickle | gud | dis | words",
           473
          ],
          [
           12,
           "mac | linux | make | windows | version",
           431
          ],
          [
           13,
           "stop | life | playing | soul | help",
           374
          ],
          [
           14,
           "moon | lord | moonlord | beat | 10",
           284
          ],
          [
           15,
           "click | starbound | better | game | like",
           276
          ],
          [
           16,
           "dig | digging | build | fight | explore",
           175
          ],
          [
           17,
           "epic | epicness | game | just | word",
           174
          ],
          [
           18,
           "slime | slimes | 10 | killed | green",
           173
          ],
          [
           19,
           "ign | 10 | 11 | 69 | 420",
           152
          ]
         ],
         "hovertemplate": "<b>Topic %{customdata[0]}</b><br>%{customdata[1]}<br>Size: %{customdata[2]}",
         "legendgroup": "",
         "marker": {
          "color": "#B0BEC5",
          "line": {
           "color": "DarkSlateGrey",
           "width": 2
          },
          "size": [
           19379,
           15848,
           4146,
           2342,
           1548,
           1237,
           1049,
           1029,
           776,
           628,
           475,
           473,
           431,
           374,
           284,
           276,
           175,
           174,
           173,
           152
          ],
          "sizemode": "area",
          "sizeref": 12.111875,
          "symbol": "circle"
         },
         "mode": "markers",
         "name": "",
         "orientation": "v",
         "showlegend": false,
         "type": "scatter",
         "x": [
          9.149421691894531,
          11.69371223449707,
          8.915146827697754,
          11.274747848510742,
          11.212718963623047,
          1.875604271888733,
          11.8964204788208,
          11.501949310302734,
          -2.238922119140625,
          10.940765380859375,
          11.811347007751465,
          11.897599220275879,
          12.072166442871094,
          10.280186653137207,
          11.430975914001465,
          10.94482707977295,
          8.965741157531738,
          11.215425491333008,
          1.7325665950775146,
          -2.349864959716797
         ],
         "xaxis": "x",
         "y": [
          6.271683216094971,
          6.743401527404785,
          6.622128486633301,
          10.244160652160645,
          6.68211030960083,
          7.3541259765625,
          5.980345726013184,
          9.811773300170898,
          -3.2001192569732666,
          10.592521667480469,
          7.925382614135742,
          7.218951225280762,
          5.552945137023926,
          7.190677642822266,
          7.098584175109863,
          7.756211280822754,
          6.168171405792236,
          8.431595802307129,
          7.497101783752441,
          -3.3111228942871094
         ],
         "yaxis": "y"
        }
       ],
       "layout": {
        "annotations": [
         {
          "showarrow": false,
          "text": "D1",
          "x": -2.7023447036743162,
          "y": 4.186804294586182,
          "yshift": 10
         },
         {
          "showarrow": false,
          "text": "D2",
          "x": 5.590323352813721,
          "xshift": 10,
          "y": 12.181399917602539
         }
        ],
        "height": 650,
        "hoverlabel": {
         "bgcolor": "white",
         "font": {
          "family": "Rockwell",
          "size": 16
         }
        },
        "legend": {
         "itemsizing": "constant",
         "tracegroupgap": 0
        },
        "margin": {
         "t": 60
        },
        "shapes": [
         {
          "line": {
           "color": "#CFD8DC",
           "width": 2
          },
          "type": "line",
          "x0": 5.590323352813721,
          "x1": 5.590323352813721,
          "y0": -3.807791328430176,
          "y1": 12.181399917602539
         },
         {
          "line": {
           "color": "#9E9E9E",
           "width": 2
          },
          "type": "line",
          "x0": -2.7023447036743162,
          "x1": 13.882991409301757,
          "y0": 4.186804294586182,
          "y1": 4.186804294586182
         }
        ],
        "sliders": [
         {
          "active": 0,
          "pad": {
           "t": 50
          },
          "steps": [
           {
            "args": [
             {
              "marker.color": [
               [
                "red",
                "#B0BEC5",
                "#B0BEC5",
                "#B0BEC5",
                "#B0BEC5",
                "#B0BEC5",
                "#B0BEC5",
                "#B0BEC5",
                "#B0BEC5",
                "#B0BEC5",
                "#B0BEC5",
                "#B0BEC5",
                "#B0BEC5",
                "#B0BEC5",
                "#B0BEC5",
                "#B0BEC5",
                "#B0BEC5",
                "#B0BEC5",
                "#B0BEC5",
                "#B0BEC5"
               ]
              ]
             }
            ],
            "label": "Topic 0",
            "method": "update"
           },
           {
            "args": [
             {
              "marker.color": [
               [
                "#B0BEC5",
                "red",
                "#B0BEC5",
                "#B0BEC5",
                "#B0BEC5",
                "#B0BEC5",
                "#B0BEC5",
                "#B0BEC5",
                "#B0BEC5",
                "#B0BEC5",
                "#B0BEC5",
                "#B0BEC5",
                "#B0BEC5",
                "#B0BEC5",
                "#B0BEC5",
                "#B0BEC5",
                "#B0BEC5",
                "#B0BEC5",
                "#B0BEC5",
                "#B0BEC5"
               ]
              ]
             }
            ],
            "label": "Topic 1",
            "method": "update"
           },
           {
            "args": [
             {
              "marker.color": [
               [
                "#B0BEC5",
                "#B0BEC5",
                "red",
                "#B0BEC5",
                "#B0BEC5",
                "#B0BEC5",
                "#B0BEC5",
                "#B0BEC5",
                "#B0BEC5",
                "#B0BEC5",
                "#B0BEC5",
                "#B0BEC5",
                "#B0BEC5",
                "#B0BEC5",
                "#B0BEC5",
                "#B0BEC5",
                "#B0BEC5",
                "#B0BEC5",
                "#B0BEC5",
                "#B0BEC5"
               ]
              ]
             }
            ],
            "label": "Topic 2",
            "method": "update"
           },
           {
            "args": [
             {
              "marker.color": [
               [
                "#B0BEC5",
                "#B0BEC5",
                "#B0BEC5",
                "red",
                "#B0BEC5",
                "#B0BEC5",
                "#B0BEC5",
                "#B0BEC5",
                "#B0BEC5",
                "#B0BEC5",
                "#B0BEC5",
                "#B0BEC5",
                "#B0BEC5",
                "#B0BEC5",
                "#B0BEC5",
                "#B0BEC5",
                "#B0BEC5",
                "#B0BEC5",
                "#B0BEC5",
                "#B0BEC5"
               ]
              ]
             }
            ],
            "label": "Topic 3",
            "method": "update"
           },
           {
            "args": [
             {
              "marker.color": [
               [
                "#B0BEC5",
                "#B0BEC5",
                "#B0BEC5",
                "#B0BEC5",
                "red",
                "#B0BEC5",
                "#B0BEC5",
                "#B0BEC5",
                "#B0BEC5",
                "#B0BEC5",
                "#B0BEC5",
                "#B0BEC5",
                "#B0BEC5",
                "#B0BEC5",
                "#B0BEC5",
                "#B0BEC5",
                "#B0BEC5",
                "#B0BEC5",
                "#B0BEC5",
                "#B0BEC5"
               ]
              ]
             }
            ],
            "label": "Topic 4",
            "method": "update"
           },
           {
            "args": [
             {
              "marker.color": [
               [
                "#B0BEC5",
                "#B0BEC5",
                "#B0BEC5",
                "#B0BEC5",
                "#B0BEC5",
                "red",
                "#B0BEC5",
                "#B0BEC5",
                "#B0BEC5",
                "#B0BEC5",
                "#B0BEC5",
                "#B0BEC5",
                "#B0BEC5",
                "#B0BEC5",
                "#B0BEC5",
                "#B0BEC5",
                "#B0BEC5",
                "#B0BEC5",
                "#B0BEC5",
                "#B0BEC5"
               ]
              ]
             }
            ],
            "label": "Topic 5",
            "method": "update"
           },
           {
            "args": [
             {
              "marker.color": [
               [
                "#B0BEC5",
                "#B0BEC5",
                "#B0BEC5",
                "#B0BEC5",
                "#B0BEC5",
                "#B0BEC5",
                "red",
                "#B0BEC5",
                "#B0BEC5",
                "#B0BEC5",
                "#B0BEC5",
                "#B0BEC5",
                "#B0BEC5",
                "#B0BEC5",
                "#B0BEC5",
                "#B0BEC5",
                "#B0BEC5",
                "#B0BEC5",
                "#B0BEC5",
                "#B0BEC5"
               ]
              ]
             }
            ],
            "label": "Topic 6",
            "method": "update"
           },
           {
            "args": [
             {
              "marker.color": [
               [
                "#B0BEC5",
                "#B0BEC5",
                "#B0BEC5",
                "#B0BEC5",
                "#B0BEC5",
                "#B0BEC5",
                "#B0BEC5",
                "red",
                "#B0BEC5",
                "#B0BEC5",
                "#B0BEC5",
                "#B0BEC5",
                "#B0BEC5",
                "#B0BEC5",
                "#B0BEC5",
                "#B0BEC5",
                "#B0BEC5",
                "#B0BEC5",
                "#B0BEC5",
                "#B0BEC5"
               ]
              ]
             }
            ],
            "label": "Topic 7",
            "method": "update"
           },
           {
            "args": [
             {
              "marker.color": [
               [
                "#B0BEC5",
                "#B0BEC5",
                "#B0BEC5",
                "#B0BEC5",
                "#B0BEC5",
                "#B0BEC5",
                "#B0BEC5",
                "#B0BEC5",
                "red",
                "#B0BEC5",
                "#B0BEC5",
                "#B0BEC5",
                "#B0BEC5",
                "#B0BEC5",
                "#B0BEC5",
                "#B0BEC5",
                "#B0BEC5",
                "#B0BEC5",
                "#B0BEC5",
                "#B0BEC5"
               ]
              ]
             }
            ],
            "label": "Topic 8",
            "method": "update"
           },
           {
            "args": [
             {
              "marker.color": [
               [
                "#B0BEC5",
                "#B0BEC5",
                "#B0BEC5",
                "#B0BEC5",
                "#B0BEC5",
                "#B0BEC5",
                "#B0BEC5",
                "#B0BEC5",
                "#B0BEC5",
                "red",
                "#B0BEC5",
                "#B0BEC5",
                "#B0BEC5",
                "#B0BEC5",
                "#B0BEC5",
                "#B0BEC5",
                "#B0BEC5",
                "#B0BEC5",
                "#B0BEC5",
                "#B0BEC5"
               ]
              ]
             }
            ],
            "label": "Topic 9",
            "method": "update"
           },
           {
            "args": [
             {
              "marker.color": [
               [
                "#B0BEC5",
                "#B0BEC5",
                "#B0BEC5",
                "#B0BEC5",
                "#B0BEC5",
                "#B0BEC5",
                "#B0BEC5",
                "#B0BEC5",
                "#B0BEC5",
                "#B0BEC5",
                "red",
                "#B0BEC5",
                "#B0BEC5",
                "#B0BEC5",
                "#B0BEC5",
                "#B0BEC5",
                "#B0BEC5",
                "#B0BEC5",
                "#B0BEC5",
                "#B0BEC5"
               ]
              ]
             }
            ],
            "label": "Topic 10",
            "method": "update"
           },
           {
            "args": [
             {
              "marker.color": [
               [
                "#B0BEC5",
                "#B0BEC5",
                "#B0BEC5",
                "#B0BEC5",
                "#B0BEC5",
                "#B0BEC5",
                "#B0BEC5",
                "#B0BEC5",
                "#B0BEC5",
                "#B0BEC5",
                "#B0BEC5",
                "red",
                "#B0BEC5",
                "#B0BEC5",
                "#B0BEC5",
                "#B0BEC5",
                "#B0BEC5",
                "#B0BEC5",
                "#B0BEC5",
                "#B0BEC5"
               ]
              ]
             }
            ],
            "label": "Topic 11",
            "method": "update"
           },
           {
            "args": [
             {
              "marker.color": [
               [
                "#B0BEC5",
                "#B0BEC5",
                "#B0BEC5",
                "#B0BEC5",
                "#B0BEC5",
                "#B0BEC5",
                "#B0BEC5",
                "#B0BEC5",
                "#B0BEC5",
                "#B0BEC5",
                "#B0BEC5",
                "#B0BEC5",
                "red",
                "#B0BEC5",
                "#B0BEC5",
                "#B0BEC5",
                "#B0BEC5",
                "#B0BEC5",
                "#B0BEC5",
                "#B0BEC5"
               ]
              ]
             }
            ],
            "label": "Topic 12",
            "method": "update"
           },
           {
            "args": [
             {
              "marker.color": [
               [
                "#B0BEC5",
                "#B0BEC5",
                "#B0BEC5",
                "#B0BEC5",
                "#B0BEC5",
                "#B0BEC5",
                "#B0BEC5",
                "#B0BEC5",
                "#B0BEC5",
                "#B0BEC5",
                "#B0BEC5",
                "#B0BEC5",
                "#B0BEC5",
                "red",
                "#B0BEC5",
                "#B0BEC5",
                "#B0BEC5",
                "#B0BEC5",
                "#B0BEC5",
                "#B0BEC5"
               ]
              ]
             }
            ],
            "label": "Topic 13",
            "method": "update"
           },
           {
            "args": [
             {
              "marker.color": [
               [
                "#B0BEC5",
                "#B0BEC5",
                "#B0BEC5",
                "#B0BEC5",
                "#B0BEC5",
                "#B0BEC5",
                "#B0BEC5",
                "#B0BEC5",
                "#B0BEC5",
                "#B0BEC5",
                "#B0BEC5",
                "#B0BEC5",
                "#B0BEC5",
                "#B0BEC5",
                "red",
                "#B0BEC5",
                "#B0BEC5",
                "#B0BEC5",
                "#B0BEC5",
                "#B0BEC5"
               ]
              ]
             }
            ],
            "label": "Topic 14",
            "method": "update"
           },
           {
            "args": [
             {
              "marker.color": [
               [
                "#B0BEC5",
                "#B0BEC5",
                "#B0BEC5",
                "#B0BEC5",
                "#B0BEC5",
                "#B0BEC5",
                "#B0BEC5",
                "#B0BEC5",
                "#B0BEC5",
                "#B0BEC5",
                "#B0BEC5",
                "#B0BEC5",
                "#B0BEC5",
                "#B0BEC5",
                "#B0BEC5",
                "red",
                "#B0BEC5",
                "#B0BEC5",
                "#B0BEC5",
                "#B0BEC5"
               ]
              ]
             }
            ],
            "label": "Topic 15",
            "method": "update"
           },
           {
            "args": [
             {
              "marker.color": [
               [
                "#B0BEC5",
                "#B0BEC5",
                "#B0BEC5",
                "#B0BEC5",
                "#B0BEC5",
                "#B0BEC5",
                "#B0BEC5",
                "#B0BEC5",
                "#B0BEC5",
                "#B0BEC5",
                "#B0BEC5",
                "#B0BEC5",
                "#B0BEC5",
                "#B0BEC5",
                "#B0BEC5",
                "#B0BEC5",
                "red",
                "#B0BEC5",
                "#B0BEC5",
                "#B0BEC5"
               ]
              ]
             }
            ],
            "label": "Topic 16",
            "method": "update"
           },
           {
            "args": [
             {
              "marker.color": [
               [
                "#B0BEC5",
                "#B0BEC5",
                "#B0BEC5",
                "#B0BEC5",
                "#B0BEC5",
                "#B0BEC5",
                "#B0BEC5",
                "#B0BEC5",
                "#B0BEC5",
                "#B0BEC5",
                "#B0BEC5",
                "#B0BEC5",
                "#B0BEC5",
                "#B0BEC5",
                "#B0BEC5",
                "#B0BEC5",
                "#B0BEC5",
                "red",
                "#B0BEC5",
                "#B0BEC5"
               ]
              ]
             }
            ],
            "label": "Topic 17",
            "method": "update"
           },
           {
            "args": [
             {
              "marker.color": [
               [
                "#B0BEC5",
                "#B0BEC5",
                "#B0BEC5",
                "#B0BEC5",
                "#B0BEC5",
                "#B0BEC5",
                "#B0BEC5",
                "#B0BEC5",
                "#B0BEC5",
                "#B0BEC5",
                "#B0BEC5",
                "#B0BEC5",
                "#B0BEC5",
                "#B0BEC5",
                "#B0BEC5",
                "#B0BEC5",
                "#B0BEC5",
                "#B0BEC5",
                "red",
                "#B0BEC5"
               ]
              ]
             }
            ],
            "label": "Topic 18",
            "method": "update"
           },
           {
            "args": [
             {
              "marker.color": [
               [
                "#B0BEC5",
                "#B0BEC5",
                "#B0BEC5",
                "#B0BEC5",
                "#B0BEC5",
                "#B0BEC5",
                "#B0BEC5",
                "#B0BEC5",
                "#B0BEC5",
                "#B0BEC5",
                "#B0BEC5",
                "#B0BEC5",
                "#B0BEC5",
                "#B0BEC5",
                "#B0BEC5",
                "#B0BEC5",
                "#B0BEC5",
                "#B0BEC5",
                "#B0BEC5",
                "red"
               ]
              ]
             }
            ],
            "label": "Topic 19",
            "method": "update"
           }
          ]
         }
        ],
        "template": {
         "data": {
          "bar": [
           {
            "error_x": {
             "color": "rgb(36,36,36)"
            },
            "error_y": {
             "color": "rgb(36,36,36)"
            },
            "marker": {
             "line": {
              "color": "white",
              "width": 0.5
             },
             "pattern": {
              "fillmode": "overlay",
              "size": 10,
              "solidity": 0.2
             }
            },
            "type": "bar"
           }
          ],
          "barpolar": [
           {
            "marker": {
             "line": {
              "color": "white",
              "width": 0.5
             },
             "pattern": {
              "fillmode": "overlay",
              "size": 10,
              "solidity": 0.2
             }
            },
            "type": "barpolar"
           }
          ],
          "carpet": [
           {
            "aaxis": {
             "endlinecolor": "rgb(36,36,36)",
             "gridcolor": "white",
             "linecolor": "white",
             "minorgridcolor": "white",
             "startlinecolor": "rgb(36,36,36)"
            },
            "baxis": {
             "endlinecolor": "rgb(36,36,36)",
             "gridcolor": "white",
             "linecolor": "white",
             "minorgridcolor": "white",
             "startlinecolor": "rgb(36,36,36)"
            },
            "type": "carpet"
           }
          ],
          "choropleth": [
           {
            "colorbar": {
             "outlinewidth": 1,
             "tickcolor": "rgb(36,36,36)",
             "ticks": "outside"
            },
            "type": "choropleth"
           }
          ],
          "contour": [
           {
            "colorbar": {
             "outlinewidth": 1,
             "tickcolor": "rgb(36,36,36)",
             "ticks": "outside"
            },
            "colorscale": [
             [
              0,
              "#440154"
             ],
             [
              0.1111111111111111,
              "#482878"
             ],
             [
              0.2222222222222222,
              "#3e4989"
             ],
             [
              0.3333333333333333,
              "#31688e"
             ],
             [
              0.4444444444444444,
              "#26828e"
             ],
             [
              0.5555555555555556,
              "#1f9e89"
             ],
             [
              0.6666666666666666,
              "#35b779"
             ],
             [
              0.7777777777777778,
              "#6ece58"
             ],
             [
              0.8888888888888888,
              "#b5de2b"
             ],
             [
              1,
              "#fde725"
             ]
            ],
            "type": "contour"
           }
          ],
          "contourcarpet": [
           {
            "colorbar": {
             "outlinewidth": 1,
             "tickcolor": "rgb(36,36,36)",
             "ticks": "outside"
            },
            "type": "contourcarpet"
           }
          ],
          "heatmap": [
           {
            "colorbar": {
             "outlinewidth": 1,
             "tickcolor": "rgb(36,36,36)",
             "ticks": "outside"
            },
            "colorscale": [
             [
              0,
              "#440154"
             ],
             [
              0.1111111111111111,
              "#482878"
             ],
             [
              0.2222222222222222,
              "#3e4989"
             ],
             [
              0.3333333333333333,
              "#31688e"
             ],
             [
              0.4444444444444444,
              "#26828e"
             ],
             [
              0.5555555555555556,
              "#1f9e89"
             ],
             [
              0.6666666666666666,
              "#35b779"
             ],
             [
              0.7777777777777778,
              "#6ece58"
             ],
             [
              0.8888888888888888,
              "#b5de2b"
             ],
             [
              1,
              "#fde725"
             ]
            ],
            "type": "heatmap"
           }
          ],
          "heatmapgl": [
           {
            "colorbar": {
             "outlinewidth": 1,
             "tickcolor": "rgb(36,36,36)",
             "ticks": "outside"
            },
            "colorscale": [
             [
              0,
              "#440154"
             ],
             [
              0.1111111111111111,
              "#482878"
             ],
             [
              0.2222222222222222,
              "#3e4989"
             ],
             [
              0.3333333333333333,
              "#31688e"
             ],
             [
              0.4444444444444444,
              "#26828e"
             ],
             [
              0.5555555555555556,
              "#1f9e89"
             ],
             [
              0.6666666666666666,
              "#35b779"
             ],
             [
              0.7777777777777778,
              "#6ece58"
             ],
             [
              0.8888888888888888,
              "#b5de2b"
             ],
             [
              1,
              "#fde725"
             ]
            ],
            "type": "heatmapgl"
           }
          ],
          "histogram": [
           {
            "marker": {
             "line": {
              "color": "white",
              "width": 0.6
             }
            },
            "type": "histogram"
           }
          ],
          "histogram2d": [
           {
            "colorbar": {
             "outlinewidth": 1,
             "tickcolor": "rgb(36,36,36)",
             "ticks": "outside"
            },
            "colorscale": [
             [
              0,
              "#440154"
             ],
             [
              0.1111111111111111,
              "#482878"
             ],
             [
              0.2222222222222222,
              "#3e4989"
             ],
             [
              0.3333333333333333,
              "#31688e"
             ],
             [
              0.4444444444444444,
              "#26828e"
             ],
             [
              0.5555555555555556,
              "#1f9e89"
             ],
             [
              0.6666666666666666,
              "#35b779"
             ],
             [
              0.7777777777777778,
              "#6ece58"
             ],
             [
              0.8888888888888888,
              "#b5de2b"
             ],
             [
              1,
              "#fde725"
             ]
            ],
            "type": "histogram2d"
           }
          ],
          "histogram2dcontour": [
           {
            "colorbar": {
             "outlinewidth": 1,
             "tickcolor": "rgb(36,36,36)",
             "ticks": "outside"
            },
            "colorscale": [
             [
              0,
              "#440154"
             ],
             [
              0.1111111111111111,
              "#482878"
             ],
             [
              0.2222222222222222,
              "#3e4989"
             ],
             [
              0.3333333333333333,
              "#31688e"
             ],
             [
              0.4444444444444444,
              "#26828e"
             ],
             [
              0.5555555555555556,
              "#1f9e89"
             ],
             [
              0.6666666666666666,
              "#35b779"
             ],
             [
              0.7777777777777778,
              "#6ece58"
             ],
             [
              0.8888888888888888,
              "#b5de2b"
             ],
             [
              1,
              "#fde725"
             ]
            ],
            "type": "histogram2dcontour"
           }
          ],
          "mesh3d": [
           {
            "colorbar": {
             "outlinewidth": 1,
             "tickcolor": "rgb(36,36,36)",
             "ticks": "outside"
            },
            "type": "mesh3d"
           }
          ],
          "parcoords": [
           {
            "line": {
             "colorbar": {
              "outlinewidth": 1,
              "tickcolor": "rgb(36,36,36)",
              "ticks": "outside"
             }
            },
            "type": "parcoords"
           }
          ],
          "pie": [
           {
            "automargin": true,
            "type": "pie"
           }
          ],
          "scatter": [
           {
            "fillpattern": {
             "fillmode": "overlay",
             "size": 10,
             "solidity": 0.2
            },
            "type": "scatter"
           }
          ],
          "scatter3d": [
           {
            "line": {
             "colorbar": {
              "outlinewidth": 1,
              "tickcolor": "rgb(36,36,36)",
              "ticks": "outside"
             }
            },
            "marker": {
             "colorbar": {
              "outlinewidth": 1,
              "tickcolor": "rgb(36,36,36)",
              "ticks": "outside"
             }
            },
            "type": "scatter3d"
           }
          ],
          "scattercarpet": [
           {
            "marker": {
             "colorbar": {
              "outlinewidth": 1,
              "tickcolor": "rgb(36,36,36)",
              "ticks": "outside"
             }
            },
            "type": "scattercarpet"
           }
          ],
          "scattergeo": [
           {
            "marker": {
             "colorbar": {
              "outlinewidth": 1,
              "tickcolor": "rgb(36,36,36)",
              "ticks": "outside"
             }
            },
            "type": "scattergeo"
           }
          ],
          "scattergl": [
           {
            "marker": {
             "colorbar": {
              "outlinewidth": 1,
              "tickcolor": "rgb(36,36,36)",
              "ticks": "outside"
             }
            },
            "type": "scattergl"
           }
          ],
          "scattermapbox": [
           {
            "marker": {
             "colorbar": {
              "outlinewidth": 1,
              "tickcolor": "rgb(36,36,36)",
              "ticks": "outside"
             }
            },
            "type": "scattermapbox"
           }
          ],
          "scatterpolar": [
           {
            "marker": {
             "colorbar": {
              "outlinewidth": 1,
              "tickcolor": "rgb(36,36,36)",
              "ticks": "outside"
             }
            },
            "type": "scatterpolar"
           }
          ],
          "scatterpolargl": [
           {
            "marker": {
             "colorbar": {
              "outlinewidth": 1,
              "tickcolor": "rgb(36,36,36)",
              "ticks": "outside"
             }
            },
            "type": "scatterpolargl"
           }
          ],
          "scatterternary": [
           {
            "marker": {
             "colorbar": {
              "outlinewidth": 1,
              "tickcolor": "rgb(36,36,36)",
              "ticks": "outside"
             }
            },
            "type": "scatterternary"
           }
          ],
          "surface": [
           {
            "colorbar": {
             "outlinewidth": 1,
             "tickcolor": "rgb(36,36,36)",
             "ticks": "outside"
            },
            "colorscale": [
             [
              0,
              "#440154"
             ],
             [
              0.1111111111111111,
              "#482878"
             ],
             [
              0.2222222222222222,
              "#3e4989"
             ],
             [
              0.3333333333333333,
              "#31688e"
             ],
             [
              0.4444444444444444,
              "#26828e"
             ],
             [
              0.5555555555555556,
              "#1f9e89"
             ],
             [
              0.6666666666666666,
              "#35b779"
             ],
             [
              0.7777777777777778,
              "#6ece58"
             ],
             [
              0.8888888888888888,
              "#b5de2b"
             ],
             [
              1,
              "#fde725"
             ]
            ],
            "type": "surface"
           }
          ],
          "table": [
           {
            "cells": {
             "fill": {
              "color": "rgb(237,237,237)"
             },
             "line": {
              "color": "white"
             }
            },
            "header": {
             "fill": {
              "color": "rgb(217,217,217)"
             },
             "line": {
              "color": "white"
             }
            },
            "type": "table"
           }
          ]
         },
         "layout": {
          "annotationdefaults": {
           "arrowhead": 0,
           "arrowwidth": 1
          },
          "autotypenumbers": "strict",
          "coloraxis": {
           "colorbar": {
            "outlinewidth": 1,
            "tickcolor": "rgb(36,36,36)",
            "ticks": "outside"
           }
          },
          "colorscale": {
           "diverging": [
            [
             0,
             "rgb(103,0,31)"
            ],
            [
             0.1,
             "rgb(178,24,43)"
            ],
            [
             0.2,
             "rgb(214,96,77)"
            ],
            [
             0.3,
             "rgb(244,165,130)"
            ],
            [
             0.4,
             "rgb(253,219,199)"
            ],
            [
             0.5,
             "rgb(247,247,247)"
            ],
            [
             0.6,
             "rgb(209,229,240)"
            ],
            [
             0.7,
             "rgb(146,197,222)"
            ],
            [
             0.8,
             "rgb(67,147,195)"
            ],
            [
             0.9,
             "rgb(33,102,172)"
            ],
            [
             1,
             "rgb(5,48,97)"
            ]
           ],
           "sequential": [
            [
             0,
             "#440154"
            ],
            [
             0.1111111111111111,
             "#482878"
            ],
            [
             0.2222222222222222,
             "#3e4989"
            ],
            [
             0.3333333333333333,
             "#31688e"
            ],
            [
             0.4444444444444444,
             "#26828e"
            ],
            [
             0.5555555555555556,
             "#1f9e89"
            ],
            [
             0.6666666666666666,
             "#35b779"
            ],
            [
             0.7777777777777778,
             "#6ece58"
            ],
            [
             0.8888888888888888,
             "#b5de2b"
            ],
            [
             1,
             "#fde725"
            ]
           ],
           "sequentialminus": [
            [
             0,
             "#440154"
            ],
            [
             0.1111111111111111,
             "#482878"
            ],
            [
             0.2222222222222222,
             "#3e4989"
            ],
            [
             0.3333333333333333,
             "#31688e"
            ],
            [
             0.4444444444444444,
             "#26828e"
            ],
            [
             0.5555555555555556,
             "#1f9e89"
            ],
            [
             0.6666666666666666,
             "#35b779"
            ],
            [
             0.7777777777777778,
             "#6ece58"
            ],
            [
             0.8888888888888888,
             "#b5de2b"
            ],
            [
             1,
             "#fde725"
            ]
           ]
          },
          "colorway": [
           "#1F77B4",
           "#FF7F0E",
           "#2CA02C",
           "#D62728",
           "#9467BD",
           "#8C564B",
           "#E377C2",
           "#7F7F7F",
           "#BCBD22",
           "#17BECF"
          ],
          "font": {
           "color": "rgb(36,36,36)"
          },
          "geo": {
           "bgcolor": "white",
           "lakecolor": "white",
           "landcolor": "white",
           "showlakes": true,
           "showland": true,
           "subunitcolor": "white"
          },
          "hoverlabel": {
           "align": "left"
          },
          "hovermode": "closest",
          "mapbox": {
           "style": "light"
          },
          "paper_bgcolor": "white",
          "plot_bgcolor": "white",
          "polar": {
           "angularaxis": {
            "gridcolor": "rgb(232,232,232)",
            "linecolor": "rgb(36,36,36)",
            "showgrid": false,
            "showline": true,
            "ticks": "outside"
           },
           "bgcolor": "white",
           "radialaxis": {
            "gridcolor": "rgb(232,232,232)",
            "linecolor": "rgb(36,36,36)",
            "showgrid": false,
            "showline": true,
            "ticks": "outside"
           }
          },
          "scene": {
           "xaxis": {
            "backgroundcolor": "white",
            "gridcolor": "rgb(232,232,232)",
            "gridwidth": 2,
            "linecolor": "rgb(36,36,36)",
            "showbackground": true,
            "showgrid": false,
            "showline": true,
            "ticks": "outside",
            "zeroline": false,
            "zerolinecolor": "rgb(36,36,36)"
           },
           "yaxis": {
            "backgroundcolor": "white",
            "gridcolor": "rgb(232,232,232)",
            "gridwidth": 2,
            "linecolor": "rgb(36,36,36)",
            "showbackground": true,
            "showgrid": false,
            "showline": true,
            "ticks": "outside",
            "zeroline": false,
            "zerolinecolor": "rgb(36,36,36)"
           },
           "zaxis": {
            "backgroundcolor": "white",
            "gridcolor": "rgb(232,232,232)",
            "gridwidth": 2,
            "linecolor": "rgb(36,36,36)",
            "showbackground": true,
            "showgrid": false,
            "showline": true,
            "ticks": "outside",
            "zeroline": false,
            "zerolinecolor": "rgb(36,36,36)"
           }
          },
          "shapedefaults": {
           "fillcolor": "black",
           "line": {
            "width": 0
           },
           "opacity": 0.3
          },
          "ternary": {
           "aaxis": {
            "gridcolor": "rgb(232,232,232)",
            "linecolor": "rgb(36,36,36)",
            "showgrid": false,
            "showline": true,
            "ticks": "outside"
           },
           "baxis": {
            "gridcolor": "rgb(232,232,232)",
            "linecolor": "rgb(36,36,36)",
            "showgrid": false,
            "showline": true,
            "ticks": "outside"
           },
           "bgcolor": "white",
           "caxis": {
            "gridcolor": "rgb(232,232,232)",
            "linecolor": "rgb(36,36,36)",
            "showgrid": false,
            "showline": true,
            "ticks": "outside"
           }
          },
          "title": {
           "x": 0.05
          },
          "xaxis": {
           "automargin": true,
           "gridcolor": "rgb(232,232,232)",
           "linecolor": "rgb(36,36,36)",
           "showgrid": false,
           "showline": true,
           "ticks": "outside",
           "title": {
            "standoff": 15
           },
           "zeroline": false,
           "zerolinecolor": "rgb(36,36,36)"
          },
          "yaxis": {
           "automargin": true,
           "gridcolor": "rgb(232,232,232)",
           "linecolor": "rgb(36,36,36)",
           "showgrid": false,
           "showline": true,
           "ticks": "outside",
           "title": {
            "standoff": 15
           },
           "zeroline": false,
           "zerolinecolor": "rgb(36,36,36)"
          }
         }
        },
        "title": {
         "font": {
          "color": "Black",
          "size": 22
         },
         "text": "<b>Intertopic Distance Map</b>",
         "x": 0.5,
         "xanchor": "center",
         "y": 0.95,
         "yanchor": "top"
        },
        "width": 650,
        "xaxis": {
         "anchor": "y",
         "domain": [
          0,
          1
         ],
         "range": [
          -2.7023447036743162,
          13.882991409301757
         ],
         "title": {
          "text": ""
         },
         "visible": false
        },
        "yaxis": {
         "anchor": "x",
         "domain": [
          0,
          1
         ],
         "range": [
          -3.807791328430176,
          12.181399917602539
         ],
         "title": {
          "text": ""
         },
         "visible": false
        }
       }
      }
     },
     "metadata": {},
     "output_type": "display_data"
    }
   ],
   "source": [
    "# visualize topics\n",
    "\n",
    "topic_model.visualize_topics()"
   ]
  },
  {
   "cell_type": "code",
   "execution_count": 48,
   "metadata": {},
   "outputs": [
    {
     "data": {
      "application/vnd.plotly.v1+json": {
       "config": {
        "plotlyServerURL": "https://plot.ly"
       },
       "data": [
        {
         "marker": {
          "color": "#C8D2D7",
          "line": {
           "color": "#6E8484",
           "width": 1
          }
         },
         "orientation": "h",
         "type": "bar",
         "x": [
          0.27038487905307695,
          0.3352012479762264,
          0.11072795187112874,
          0.08323652022865109,
          0.033781405816840436,
          0.00918604425988554,
          0.01733069376311229,
          0.024602465353504722,
          0.017938988776723896,
          0.007970477286427845,
          0.00783750645865233,
          0.008589599882603858,
          0.00718045654293397,
          0.0062488835134704695,
          0.007794496834406625,
          0.010926001905686766,
          0.0114839356554189,
          0.010595509812030895,
          0.007821163317416216,
          0.011161771691801981
         ],
         "y": [
          "<b>Topic 0</b>: game_this_it_and_the",
          "<b>Topic 1</b>: terraria_the_and_to_you",
          "<b>Topic 2</b>: minecraft_and_game_this_...",
          "<b>Topic 3</b>: game_this_best_great_eve...",
          "<b>Topic 4</b>: 10_again_killed_would_th...",
          "<b>Topic 5</b>: my_it_but_fix_the",
          "<b>Topic 6</b>: addictive_addicting_fun_...",
          "<b>Topic 7</b>: 10_would_again_11_ign",
          "<b>Topic 8</b>: good_ok_its_pretty_alrig...",
          "<b>Topic 9</b>: bye_cool_slit_dink_so",
          "<b>Topic 10</b>: review_reviews_badgei_l...",
          "<b>Topic 11</b>: mac_on_linux_for_it",
          "<b>Topic 12</b>: awesome_love_it_its_aws...",
          "<b>Topic 13</b>: cool_fine_lines_line_be...",
          "<b>Topic 14</b>: buy_it_get_worth_just",
          "<b>Topic 15</b>: moon_lord_the_10_and",
          "<b>Topic 16</b>: click_starbound_russifi...",
          "<b>Topic 17</b>: the_best_to_you_and",
          "<b>Topic 18</b>: epic_crust_pie_sugar_de...",
          "<b>Topic 19</b>: slime_10_slimes_the_by"
         ]
        }
       ],
       "layout": {
        "height": 600,
        "hoverlabel": {
         "bgcolor": "white",
         "font": {
          "family": "Rockwell",
          "size": 16
         }
        },
        "template": {
         "data": {
          "bar": [
           {
            "error_x": {
             "color": "rgb(36,36,36)"
            },
            "error_y": {
             "color": "rgb(36,36,36)"
            },
            "marker": {
             "line": {
              "color": "white",
              "width": 0.5
             },
             "pattern": {
              "fillmode": "overlay",
              "size": 10,
              "solidity": 0.2
             }
            },
            "type": "bar"
           }
          ],
          "barpolar": [
           {
            "marker": {
             "line": {
              "color": "white",
              "width": 0.5
             },
             "pattern": {
              "fillmode": "overlay",
              "size": 10,
              "solidity": 0.2
             }
            },
            "type": "barpolar"
           }
          ],
          "carpet": [
           {
            "aaxis": {
             "endlinecolor": "rgb(36,36,36)",
             "gridcolor": "white",
             "linecolor": "white",
             "minorgridcolor": "white",
             "startlinecolor": "rgb(36,36,36)"
            },
            "baxis": {
             "endlinecolor": "rgb(36,36,36)",
             "gridcolor": "white",
             "linecolor": "white",
             "minorgridcolor": "white",
             "startlinecolor": "rgb(36,36,36)"
            },
            "type": "carpet"
           }
          ],
          "choropleth": [
           {
            "colorbar": {
             "outlinewidth": 1,
             "tickcolor": "rgb(36,36,36)",
             "ticks": "outside"
            },
            "type": "choropleth"
           }
          ],
          "contour": [
           {
            "colorbar": {
             "outlinewidth": 1,
             "tickcolor": "rgb(36,36,36)",
             "ticks": "outside"
            },
            "colorscale": [
             [
              0,
              "#440154"
             ],
             [
              0.1111111111111111,
              "#482878"
             ],
             [
              0.2222222222222222,
              "#3e4989"
             ],
             [
              0.3333333333333333,
              "#31688e"
             ],
             [
              0.4444444444444444,
              "#26828e"
             ],
             [
              0.5555555555555556,
              "#1f9e89"
             ],
             [
              0.6666666666666666,
              "#35b779"
             ],
             [
              0.7777777777777778,
              "#6ece58"
             ],
             [
              0.8888888888888888,
              "#b5de2b"
             ],
             [
              1,
              "#fde725"
             ]
            ],
            "type": "contour"
           }
          ],
          "contourcarpet": [
           {
            "colorbar": {
             "outlinewidth": 1,
             "tickcolor": "rgb(36,36,36)",
             "ticks": "outside"
            },
            "type": "contourcarpet"
           }
          ],
          "heatmap": [
           {
            "colorbar": {
             "outlinewidth": 1,
             "tickcolor": "rgb(36,36,36)",
             "ticks": "outside"
            },
            "colorscale": [
             [
              0,
              "#440154"
             ],
             [
              0.1111111111111111,
              "#482878"
             ],
             [
              0.2222222222222222,
              "#3e4989"
             ],
             [
              0.3333333333333333,
              "#31688e"
             ],
             [
              0.4444444444444444,
              "#26828e"
             ],
             [
              0.5555555555555556,
              "#1f9e89"
             ],
             [
              0.6666666666666666,
              "#35b779"
             ],
             [
              0.7777777777777778,
              "#6ece58"
             ],
             [
              0.8888888888888888,
              "#b5de2b"
             ],
             [
              1,
              "#fde725"
             ]
            ],
            "type": "heatmap"
           }
          ],
          "heatmapgl": [
           {
            "colorbar": {
             "outlinewidth": 1,
             "tickcolor": "rgb(36,36,36)",
             "ticks": "outside"
            },
            "colorscale": [
             [
              0,
              "#440154"
             ],
             [
              0.1111111111111111,
              "#482878"
             ],
             [
              0.2222222222222222,
              "#3e4989"
             ],
             [
              0.3333333333333333,
              "#31688e"
             ],
             [
              0.4444444444444444,
              "#26828e"
             ],
             [
              0.5555555555555556,
              "#1f9e89"
             ],
             [
              0.6666666666666666,
              "#35b779"
             ],
             [
              0.7777777777777778,
              "#6ece58"
             ],
             [
              0.8888888888888888,
              "#b5de2b"
             ],
             [
              1,
              "#fde725"
             ]
            ],
            "type": "heatmapgl"
           }
          ],
          "histogram": [
           {
            "marker": {
             "line": {
              "color": "white",
              "width": 0.6
             }
            },
            "type": "histogram"
           }
          ],
          "histogram2d": [
           {
            "colorbar": {
             "outlinewidth": 1,
             "tickcolor": "rgb(36,36,36)",
             "ticks": "outside"
            },
            "colorscale": [
             [
              0,
              "#440154"
             ],
             [
              0.1111111111111111,
              "#482878"
             ],
             [
              0.2222222222222222,
              "#3e4989"
             ],
             [
              0.3333333333333333,
              "#31688e"
             ],
             [
              0.4444444444444444,
              "#26828e"
             ],
             [
              0.5555555555555556,
              "#1f9e89"
             ],
             [
              0.6666666666666666,
              "#35b779"
             ],
             [
              0.7777777777777778,
              "#6ece58"
             ],
             [
              0.8888888888888888,
              "#b5de2b"
             ],
             [
              1,
              "#fde725"
             ]
            ],
            "type": "histogram2d"
           }
          ],
          "histogram2dcontour": [
           {
            "colorbar": {
             "outlinewidth": 1,
             "tickcolor": "rgb(36,36,36)",
             "ticks": "outside"
            },
            "colorscale": [
             [
              0,
              "#440154"
             ],
             [
              0.1111111111111111,
              "#482878"
             ],
             [
              0.2222222222222222,
              "#3e4989"
             ],
             [
              0.3333333333333333,
              "#31688e"
             ],
             [
              0.4444444444444444,
              "#26828e"
             ],
             [
              0.5555555555555556,
              "#1f9e89"
             ],
             [
              0.6666666666666666,
              "#35b779"
             ],
             [
              0.7777777777777778,
              "#6ece58"
             ],
             [
              0.8888888888888888,
              "#b5de2b"
             ],
             [
              1,
              "#fde725"
             ]
            ],
            "type": "histogram2dcontour"
           }
          ],
          "mesh3d": [
           {
            "colorbar": {
             "outlinewidth": 1,
             "tickcolor": "rgb(36,36,36)",
             "ticks": "outside"
            },
            "type": "mesh3d"
           }
          ],
          "parcoords": [
           {
            "line": {
             "colorbar": {
              "outlinewidth": 1,
              "tickcolor": "rgb(36,36,36)",
              "ticks": "outside"
             }
            },
            "type": "parcoords"
           }
          ],
          "pie": [
           {
            "automargin": true,
            "type": "pie"
           }
          ],
          "scatter": [
           {
            "fillpattern": {
             "fillmode": "overlay",
             "size": 10,
             "solidity": 0.2
            },
            "type": "scatter"
           }
          ],
          "scatter3d": [
           {
            "line": {
             "colorbar": {
              "outlinewidth": 1,
              "tickcolor": "rgb(36,36,36)",
              "ticks": "outside"
             }
            },
            "marker": {
             "colorbar": {
              "outlinewidth": 1,
              "tickcolor": "rgb(36,36,36)",
              "ticks": "outside"
             }
            },
            "type": "scatter3d"
           }
          ],
          "scattercarpet": [
           {
            "marker": {
             "colorbar": {
              "outlinewidth": 1,
              "tickcolor": "rgb(36,36,36)",
              "ticks": "outside"
             }
            },
            "type": "scattercarpet"
           }
          ],
          "scattergeo": [
           {
            "marker": {
             "colorbar": {
              "outlinewidth": 1,
              "tickcolor": "rgb(36,36,36)",
              "ticks": "outside"
             }
            },
            "type": "scattergeo"
           }
          ],
          "scattergl": [
           {
            "marker": {
             "colorbar": {
              "outlinewidth": 1,
              "tickcolor": "rgb(36,36,36)",
              "ticks": "outside"
             }
            },
            "type": "scattergl"
           }
          ],
          "scattermapbox": [
           {
            "marker": {
             "colorbar": {
              "outlinewidth": 1,
              "tickcolor": "rgb(36,36,36)",
              "ticks": "outside"
             }
            },
            "type": "scattermapbox"
           }
          ],
          "scatterpolar": [
           {
            "marker": {
             "colorbar": {
              "outlinewidth": 1,
              "tickcolor": "rgb(36,36,36)",
              "ticks": "outside"
             }
            },
            "type": "scatterpolar"
           }
          ],
          "scatterpolargl": [
           {
            "marker": {
             "colorbar": {
              "outlinewidth": 1,
              "tickcolor": "rgb(36,36,36)",
              "ticks": "outside"
             }
            },
            "type": "scatterpolargl"
           }
          ],
          "scatterternary": [
           {
            "marker": {
             "colorbar": {
              "outlinewidth": 1,
              "tickcolor": "rgb(36,36,36)",
              "ticks": "outside"
             }
            },
            "type": "scatterternary"
           }
          ],
          "surface": [
           {
            "colorbar": {
             "outlinewidth": 1,
             "tickcolor": "rgb(36,36,36)",
             "ticks": "outside"
            },
            "colorscale": [
             [
              0,
              "#440154"
             ],
             [
              0.1111111111111111,
              "#482878"
             ],
             [
              0.2222222222222222,
              "#3e4989"
             ],
             [
              0.3333333333333333,
              "#31688e"
             ],
             [
              0.4444444444444444,
              "#26828e"
             ],
             [
              0.5555555555555556,
              "#1f9e89"
             ],
             [
              0.6666666666666666,
              "#35b779"
             ],
             [
              0.7777777777777778,
              "#6ece58"
             ],
             [
              0.8888888888888888,
              "#b5de2b"
             ],
             [
              1,
              "#fde725"
             ]
            ],
            "type": "surface"
           }
          ],
          "table": [
           {
            "cells": {
             "fill": {
              "color": "rgb(237,237,237)"
             },
             "line": {
              "color": "white"
             }
            },
            "header": {
             "fill": {
              "color": "rgb(217,217,217)"
             },
             "line": {
              "color": "white"
             }
            },
            "type": "table"
           }
          ]
         },
         "layout": {
          "annotationdefaults": {
           "arrowhead": 0,
           "arrowwidth": 1
          },
          "autotypenumbers": "strict",
          "coloraxis": {
           "colorbar": {
            "outlinewidth": 1,
            "tickcolor": "rgb(36,36,36)",
            "ticks": "outside"
           }
          },
          "colorscale": {
           "diverging": [
            [
             0,
             "rgb(103,0,31)"
            ],
            [
             0.1,
             "rgb(178,24,43)"
            ],
            [
             0.2,
             "rgb(214,96,77)"
            ],
            [
             0.3,
             "rgb(244,165,130)"
            ],
            [
             0.4,
             "rgb(253,219,199)"
            ],
            [
             0.5,
             "rgb(247,247,247)"
            ],
            [
             0.6,
             "rgb(209,229,240)"
            ],
            [
             0.7,
             "rgb(146,197,222)"
            ],
            [
             0.8,
             "rgb(67,147,195)"
            ],
            [
             0.9,
             "rgb(33,102,172)"
            ],
            [
             1,
             "rgb(5,48,97)"
            ]
           ],
           "sequential": [
            [
             0,
             "#440154"
            ],
            [
             0.1111111111111111,
             "#482878"
            ],
            [
             0.2222222222222222,
             "#3e4989"
            ],
            [
             0.3333333333333333,
             "#31688e"
            ],
            [
             0.4444444444444444,
             "#26828e"
            ],
            [
             0.5555555555555556,
             "#1f9e89"
            ],
            [
             0.6666666666666666,
             "#35b779"
            ],
            [
             0.7777777777777778,
             "#6ece58"
            ],
            [
             0.8888888888888888,
             "#b5de2b"
            ],
            [
             1,
             "#fde725"
            ]
           ],
           "sequentialminus": [
            [
             0,
             "#440154"
            ],
            [
             0.1111111111111111,
             "#482878"
            ],
            [
             0.2222222222222222,
             "#3e4989"
            ],
            [
             0.3333333333333333,
             "#31688e"
            ],
            [
             0.4444444444444444,
             "#26828e"
            ],
            [
             0.5555555555555556,
             "#1f9e89"
            ],
            [
             0.6666666666666666,
             "#35b779"
            ],
            [
             0.7777777777777778,
             "#6ece58"
            ],
            [
             0.8888888888888888,
             "#b5de2b"
            ],
            [
             1,
             "#fde725"
            ]
           ]
          },
          "colorway": [
           "#1F77B4",
           "#FF7F0E",
           "#2CA02C",
           "#D62728",
           "#9467BD",
           "#8C564B",
           "#E377C2",
           "#7F7F7F",
           "#BCBD22",
           "#17BECF"
          ],
          "font": {
           "color": "rgb(36,36,36)"
          },
          "geo": {
           "bgcolor": "white",
           "lakecolor": "white",
           "landcolor": "white",
           "showlakes": true,
           "showland": true,
           "subunitcolor": "white"
          },
          "hoverlabel": {
           "align": "left"
          },
          "hovermode": "closest",
          "mapbox": {
           "style": "light"
          },
          "paper_bgcolor": "white",
          "plot_bgcolor": "white",
          "polar": {
           "angularaxis": {
            "gridcolor": "rgb(232,232,232)",
            "linecolor": "rgb(36,36,36)",
            "showgrid": false,
            "showline": true,
            "ticks": "outside"
           },
           "bgcolor": "white",
           "radialaxis": {
            "gridcolor": "rgb(232,232,232)",
            "linecolor": "rgb(36,36,36)",
            "showgrid": false,
            "showline": true,
            "ticks": "outside"
           }
          },
          "scene": {
           "xaxis": {
            "backgroundcolor": "white",
            "gridcolor": "rgb(232,232,232)",
            "gridwidth": 2,
            "linecolor": "rgb(36,36,36)",
            "showbackground": true,
            "showgrid": false,
            "showline": true,
            "ticks": "outside",
            "zeroline": false,
            "zerolinecolor": "rgb(36,36,36)"
           },
           "yaxis": {
            "backgroundcolor": "white",
            "gridcolor": "rgb(232,232,232)",
            "gridwidth": 2,
            "linecolor": "rgb(36,36,36)",
            "showbackground": true,
            "showgrid": false,
            "showline": true,
            "ticks": "outside",
            "zeroline": false,
            "zerolinecolor": "rgb(36,36,36)"
           },
           "zaxis": {
            "backgroundcolor": "white",
            "gridcolor": "rgb(232,232,232)",
            "gridwidth": 2,
            "linecolor": "rgb(36,36,36)",
            "showbackground": true,
            "showgrid": false,
            "showline": true,
            "ticks": "outside",
            "zeroline": false,
            "zerolinecolor": "rgb(36,36,36)"
           }
          },
          "shapedefaults": {
           "fillcolor": "black",
           "line": {
            "width": 0
           },
           "opacity": 0.3
          },
          "ternary": {
           "aaxis": {
            "gridcolor": "rgb(232,232,232)",
            "linecolor": "rgb(36,36,36)",
            "showgrid": false,
            "showline": true,
            "ticks": "outside"
           },
           "baxis": {
            "gridcolor": "rgb(232,232,232)",
            "linecolor": "rgb(36,36,36)",
            "showgrid": false,
            "showline": true,
            "ticks": "outside"
           },
           "bgcolor": "white",
           "caxis": {
            "gridcolor": "rgb(232,232,232)",
            "linecolor": "rgb(36,36,36)",
            "showgrid": false,
            "showline": true,
            "ticks": "outside"
           }
          },
          "title": {
           "x": 0.05
          },
          "xaxis": {
           "automargin": true,
           "gridcolor": "rgb(232,232,232)",
           "linecolor": "rgb(36,36,36)",
           "showgrid": false,
           "showline": true,
           "ticks": "outside",
           "title": {
            "standoff": 15
           },
           "zeroline": false,
           "zerolinecolor": "rgb(36,36,36)"
          },
          "yaxis": {
           "automargin": true,
           "gridcolor": "rgb(232,232,232)",
           "linecolor": "rgb(36,36,36)",
           "showgrid": false,
           "showline": true,
           "ticks": "outside",
           "title": {
            "standoff": 15
           },
           "zeroline": false,
           "zerolinecolor": "rgb(36,36,36)"
          }
         }
        },
        "title": {
         "font": {
          "color": "Black",
          "size": 22
         },
         "text": "<b>Topic Probability Distribution</b>",
         "x": 0.5,
         "xanchor": "center",
         "y": 0.95,
         "yanchor": "top"
        },
        "width": 800,
        "xaxis": {
         "title": {
          "text": "Probability"
         }
        }
       }
      },
      "text/html": [
       "<div>                            <div id=\"ce213c0a-79a6-4cff-83ab-36bfa09629e8\" class=\"plotly-graph-div\" style=\"height:600px; width:800px;\"></div>            <script type=\"text/javascript\">                require([\"plotly\"], function(Plotly) {                    window.PLOTLYENV=window.PLOTLYENV || {};                                    if (document.getElementById(\"ce213c0a-79a6-4cff-83ab-36bfa09629e8\")) {                    Plotly.newPlot(                        \"ce213c0a-79a6-4cff-83ab-36bfa09629e8\",                        [{\"marker\":{\"color\":\"#C8D2D7\",\"line\":{\"color\":\"#6E8484\",\"width\":1}},\"orientation\":\"h\",\"x\":[0.27038487905307695,0.3352012479762264,0.11072795187112874,0.08323652022865109,0.033781405816840436,0.00918604425988554,0.01733069376311229,0.024602465353504722,0.017938988776723896,0.007970477286427845,0.00783750645865233,0.008589599882603858,0.00718045654293397,0.0062488835134704695,0.007794496834406625,0.010926001905686766,0.0114839356554189,0.010595509812030895,0.007821163317416216,0.011161771691801981],\"y\":[\"\\u003cb\\u003eTopic 0\\u003c\\u002fb\\u003e: game_this_it_and_the\",\"\\u003cb\\u003eTopic 1\\u003c\\u002fb\\u003e: terraria_the_and_to_you\",\"\\u003cb\\u003eTopic 2\\u003c\\u002fb\\u003e: minecraft_and_game_this_...\",\"\\u003cb\\u003eTopic 3\\u003c\\u002fb\\u003e: game_this_best_great_eve...\",\"\\u003cb\\u003eTopic 4\\u003c\\u002fb\\u003e: 10_again_killed_would_th...\",\"\\u003cb\\u003eTopic 5\\u003c\\u002fb\\u003e: my_it_but_fix_the\",\"\\u003cb\\u003eTopic 6\\u003c\\u002fb\\u003e: addictive_addicting_fun_...\",\"\\u003cb\\u003eTopic 7\\u003c\\u002fb\\u003e: 10_would_again_11_ign\",\"\\u003cb\\u003eTopic 8\\u003c\\u002fb\\u003e: good_ok_its_pretty_alrig...\",\"\\u003cb\\u003eTopic 9\\u003c\\u002fb\\u003e: bye_cool_slit_dink_so\",\"\\u003cb\\u003eTopic 10\\u003c\\u002fb\\u003e: review_reviews_badgei_l...\",\"\\u003cb\\u003eTopic 11\\u003c\\u002fb\\u003e: mac_on_linux_for_it\",\"\\u003cb\\u003eTopic 12\\u003c\\u002fb\\u003e: awesome_love_it_its_aws...\",\"\\u003cb\\u003eTopic 13\\u003c\\u002fb\\u003e: cool_fine_lines_line_be...\",\"\\u003cb\\u003eTopic 14\\u003c\\u002fb\\u003e: buy_it_get_worth_just\",\"\\u003cb\\u003eTopic 15\\u003c\\u002fb\\u003e: moon_lord_the_10_and\",\"\\u003cb\\u003eTopic 16\\u003c\\u002fb\\u003e: click_starbound_russifi...\",\"\\u003cb\\u003eTopic 17\\u003c\\u002fb\\u003e: the_best_to_you_and\",\"\\u003cb\\u003eTopic 18\\u003c\\u002fb\\u003e: epic_crust_pie_sugar_de...\",\"\\u003cb\\u003eTopic 19\\u003c\\u002fb\\u003e: slime_10_slimes_the_by\"],\"type\":\"bar\"}],                        {\"template\":{\"data\":{\"barpolar\":[{\"marker\":{\"line\":{\"color\":\"white\",\"width\":0.5},\"pattern\":{\"fillmode\":\"overlay\",\"size\":10,\"solidity\":0.2}},\"type\":\"barpolar\"}],\"bar\":[{\"error_x\":{\"color\":\"rgb(36,36,36)\"},\"error_y\":{\"color\":\"rgb(36,36,36)\"},\"marker\":{\"line\":{\"color\":\"white\",\"width\":0.5},\"pattern\":{\"fillmode\":\"overlay\",\"size\":10,\"solidity\":0.2}},\"type\":\"bar\"}],\"carpet\":[{\"aaxis\":{\"endlinecolor\":\"rgb(36,36,36)\",\"gridcolor\":\"white\",\"linecolor\":\"white\",\"minorgridcolor\":\"white\",\"startlinecolor\":\"rgb(36,36,36)\"},\"baxis\":{\"endlinecolor\":\"rgb(36,36,36)\",\"gridcolor\":\"white\",\"linecolor\":\"white\",\"minorgridcolor\":\"white\",\"startlinecolor\":\"rgb(36,36,36)\"},\"type\":\"carpet\"}],\"choropleth\":[{\"colorbar\":{\"outlinewidth\":1,\"tickcolor\":\"rgb(36,36,36)\",\"ticks\":\"outside\"},\"type\":\"choropleth\"}],\"contourcarpet\":[{\"colorbar\":{\"outlinewidth\":1,\"tickcolor\":\"rgb(36,36,36)\",\"ticks\":\"outside\"},\"type\":\"contourcarpet\"}],\"contour\":[{\"colorbar\":{\"outlinewidth\":1,\"tickcolor\":\"rgb(36,36,36)\",\"ticks\":\"outside\"},\"colorscale\":[[0.0,\"#440154\"],[0.1111111111111111,\"#482878\"],[0.2222222222222222,\"#3e4989\"],[0.3333333333333333,\"#31688e\"],[0.4444444444444444,\"#26828e\"],[0.5555555555555556,\"#1f9e89\"],[0.6666666666666666,\"#35b779\"],[0.7777777777777778,\"#6ece58\"],[0.8888888888888888,\"#b5de2b\"],[1.0,\"#fde725\"]],\"type\":\"contour\"}],\"heatmapgl\":[{\"colorbar\":{\"outlinewidth\":1,\"tickcolor\":\"rgb(36,36,36)\",\"ticks\":\"outside\"},\"colorscale\":[[0.0,\"#440154\"],[0.1111111111111111,\"#482878\"],[0.2222222222222222,\"#3e4989\"],[0.3333333333333333,\"#31688e\"],[0.4444444444444444,\"#26828e\"],[0.5555555555555556,\"#1f9e89\"],[0.6666666666666666,\"#35b779\"],[0.7777777777777778,\"#6ece58\"],[0.8888888888888888,\"#b5de2b\"],[1.0,\"#fde725\"]],\"type\":\"heatmapgl\"}],\"heatmap\":[{\"colorbar\":{\"outlinewidth\":1,\"tickcolor\":\"rgb(36,36,36)\",\"ticks\":\"outside\"},\"colorscale\":[[0.0,\"#440154\"],[0.1111111111111111,\"#482878\"],[0.2222222222222222,\"#3e4989\"],[0.3333333333333333,\"#31688e\"],[0.4444444444444444,\"#26828e\"],[0.5555555555555556,\"#1f9e89\"],[0.6666666666666666,\"#35b779\"],[0.7777777777777778,\"#6ece58\"],[0.8888888888888888,\"#b5de2b\"],[1.0,\"#fde725\"]],\"type\":\"heatmap\"}],\"histogram2dcontour\":[{\"colorbar\":{\"outlinewidth\":1,\"tickcolor\":\"rgb(36,36,36)\",\"ticks\":\"outside\"},\"colorscale\":[[0.0,\"#440154\"],[0.1111111111111111,\"#482878\"],[0.2222222222222222,\"#3e4989\"],[0.3333333333333333,\"#31688e\"],[0.4444444444444444,\"#26828e\"],[0.5555555555555556,\"#1f9e89\"],[0.6666666666666666,\"#35b779\"],[0.7777777777777778,\"#6ece58\"],[0.8888888888888888,\"#b5de2b\"],[1.0,\"#fde725\"]],\"type\":\"histogram2dcontour\"}],\"histogram2d\":[{\"colorbar\":{\"outlinewidth\":1,\"tickcolor\":\"rgb(36,36,36)\",\"ticks\":\"outside\"},\"colorscale\":[[0.0,\"#440154\"],[0.1111111111111111,\"#482878\"],[0.2222222222222222,\"#3e4989\"],[0.3333333333333333,\"#31688e\"],[0.4444444444444444,\"#26828e\"],[0.5555555555555556,\"#1f9e89\"],[0.6666666666666666,\"#35b779\"],[0.7777777777777778,\"#6ece58\"],[0.8888888888888888,\"#b5de2b\"],[1.0,\"#fde725\"]],\"type\":\"histogram2d\"}],\"histogram\":[{\"marker\":{\"line\":{\"color\":\"white\",\"width\":0.6}},\"type\":\"histogram\"}],\"mesh3d\":[{\"colorbar\":{\"outlinewidth\":1,\"tickcolor\":\"rgb(36,36,36)\",\"ticks\":\"outside\"},\"type\":\"mesh3d\"}],\"parcoords\":[{\"line\":{\"colorbar\":{\"outlinewidth\":1,\"tickcolor\":\"rgb(36,36,36)\",\"ticks\":\"outside\"}},\"type\":\"parcoords\"}],\"pie\":[{\"automargin\":true,\"type\":\"pie\"}],\"scatter3d\":[{\"line\":{\"colorbar\":{\"outlinewidth\":1,\"tickcolor\":\"rgb(36,36,36)\",\"ticks\":\"outside\"}},\"marker\":{\"colorbar\":{\"outlinewidth\":1,\"tickcolor\":\"rgb(36,36,36)\",\"ticks\":\"outside\"}},\"type\":\"scatter3d\"}],\"scattercarpet\":[{\"marker\":{\"colorbar\":{\"outlinewidth\":1,\"tickcolor\":\"rgb(36,36,36)\",\"ticks\":\"outside\"}},\"type\":\"scattercarpet\"}],\"scattergeo\":[{\"marker\":{\"colorbar\":{\"outlinewidth\":1,\"tickcolor\":\"rgb(36,36,36)\",\"ticks\":\"outside\"}},\"type\":\"scattergeo\"}],\"scattergl\":[{\"marker\":{\"colorbar\":{\"outlinewidth\":1,\"tickcolor\":\"rgb(36,36,36)\",\"ticks\":\"outside\"}},\"type\":\"scattergl\"}],\"scattermapbox\":[{\"marker\":{\"colorbar\":{\"outlinewidth\":1,\"tickcolor\":\"rgb(36,36,36)\",\"ticks\":\"outside\"}},\"type\":\"scattermapbox\"}],\"scatterpolargl\":[{\"marker\":{\"colorbar\":{\"outlinewidth\":1,\"tickcolor\":\"rgb(36,36,36)\",\"ticks\":\"outside\"}},\"type\":\"scatterpolargl\"}],\"scatterpolar\":[{\"marker\":{\"colorbar\":{\"outlinewidth\":1,\"tickcolor\":\"rgb(36,36,36)\",\"ticks\":\"outside\"}},\"type\":\"scatterpolar\"}],\"scatter\":[{\"fillpattern\":{\"fillmode\":\"overlay\",\"size\":10,\"solidity\":0.2},\"type\":\"scatter\"}],\"scatterternary\":[{\"marker\":{\"colorbar\":{\"outlinewidth\":1,\"tickcolor\":\"rgb(36,36,36)\",\"ticks\":\"outside\"}},\"type\":\"scatterternary\"}],\"surface\":[{\"colorbar\":{\"outlinewidth\":1,\"tickcolor\":\"rgb(36,36,36)\",\"ticks\":\"outside\"},\"colorscale\":[[0.0,\"#440154\"],[0.1111111111111111,\"#482878\"],[0.2222222222222222,\"#3e4989\"],[0.3333333333333333,\"#31688e\"],[0.4444444444444444,\"#26828e\"],[0.5555555555555556,\"#1f9e89\"],[0.6666666666666666,\"#35b779\"],[0.7777777777777778,\"#6ece58\"],[0.8888888888888888,\"#b5de2b\"],[1.0,\"#fde725\"]],\"type\":\"surface\"}],\"table\":[{\"cells\":{\"fill\":{\"color\":\"rgb(237,237,237)\"},\"line\":{\"color\":\"white\"}},\"header\":{\"fill\":{\"color\":\"rgb(217,217,217)\"},\"line\":{\"color\":\"white\"}},\"type\":\"table\"}]},\"layout\":{\"annotationdefaults\":{\"arrowhead\":0,\"arrowwidth\":1},\"autotypenumbers\":\"strict\",\"coloraxis\":{\"colorbar\":{\"outlinewidth\":1,\"tickcolor\":\"rgb(36,36,36)\",\"ticks\":\"outside\"}},\"colorscale\":{\"diverging\":[[0.0,\"rgb(103,0,31)\"],[0.1,\"rgb(178,24,43)\"],[0.2,\"rgb(214,96,77)\"],[0.3,\"rgb(244,165,130)\"],[0.4,\"rgb(253,219,199)\"],[0.5,\"rgb(247,247,247)\"],[0.6,\"rgb(209,229,240)\"],[0.7,\"rgb(146,197,222)\"],[0.8,\"rgb(67,147,195)\"],[0.9,\"rgb(33,102,172)\"],[1.0,\"rgb(5,48,97)\"]],\"sequential\":[[0.0,\"#440154\"],[0.1111111111111111,\"#482878\"],[0.2222222222222222,\"#3e4989\"],[0.3333333333333333,\"#31688e\"],[0.4444444444444444,\"#26828e\"],[0.5555555555555556,\"#1f9e89\"],[0.6666666666666666,\"#35b779\"],[0.7777777777777778,\"#6ece58\"],[0.8888888888888888,\"#b5de2b\"],[1.0,\"#fde725\"]],\"sequentialminus\":[[0.0,\"#440154\"],[0.1111111111111111,\"#482878\"],[0.2222222222222222,\"#3e4989\"],[0.3333333333333333,\"#31688e\"],[0.4444444444444444,\"#26828e\"],[0.5555555555555556,\"#1f9e89\"],[0.6666666666666666,\"#35b779\"],[0.7777777777777778,\"#6ece58\"],[0.8888888888888888,\"#b5de2b\"],[1.0,\"#fde725\"]]},\"colorway\":[\"#1F77B4\",\"#FF7F0E\",\"#2CA02C\",\"#D62728\",\"#9467BD\",\"#8C564B\",\"#E377C2\",\"#7F7F7F\",\"#BCBD22\",\"#17BECF\"],\"font\":{\"color\":\"rgb(36,36,36)\"},\"geo\":{\"bgcolor\":\"white\",\"lakecolor\":\"white\",\"landcolor\":\"white\",\"showlakes\":true,\"showland\":true,\"subunitcolor\":\"white\"},\"hoverlabel\":{\"align\":\"left\"},\"hovermode\":\"closest\",\"mapbox\":{\"style\":\"light\"},\"paper_bgcolor\":\"white\",\"plot_bgcolor\":\"white\",\"polar\":{\"angularaxis\":{\"gridcolor\":\"rgb(232,232,232)\",\"linecolor\":\"rgb(36,36,36)\",\"showgrid\":false,\"showline\":true,\"ticks\":\"outside\"},\"bgcolor\":\"white\",\"radialaxis\":{\"gridcolor\":\"rgb(232,232,232)\",\"linecolor\":\"rgb(36,36,36)\",\"showgrid\":false,\"showline\":true,\"ticks\":\"outside\"}},\"scene\":{\"xaxis\":{\"backgroundcolor\":\"white\",\"gridcolor\":\"rgb(232,232,232)\",\"gridwidth\":2,\"linecolor\":\"rgb(36,36,36)\",\"showbackground\":true,\"showgrid\":false,\"showline\":true,\"ticks\":\"outside\",\"zeroline\":false,\"zerolinecolor\":\"rgb(36,36,36)\"},\"yaxis\":{\"backgroundcolor\":\"white\",\"gridcolor\":\"rgb(232,232,232)\",\"gridwidth\":2,\"linecolor\":\"rgb(36,36,36)\",\"showbackground\":true,\"showgrid\":false,\"showline\":true,\"ticks\":\"outside\",\"zeroline\":false,\"zerolinecolor\":\"rgb(36,36,36)\"},\"zaxis\":{\"backgroundcolor\":\"white\",\"gridcolor\":\"rgb(232,232,232)\",\"gridwidth\":2,\"linecolor\":\"rgb(36,36,36)\",\"showbackground\":true,\"showgrid\":false,\"showline\":true,\"ticks\":\"outside\",\"zeroline\":false,\"zerolinecolor\":\"rgb(36,36,36)\"}},\"shapedefaults\":{\"fillcolor\":\"black\",\"line\":{\"width\":0},\"opacity\":0.3},\"ternary\":{\"aaxis\":{\"gridcolor\":\"rgb(232,232,232)\",\"linecolor\":\"rgb(36,36,36)\",\"showgrid\":false,\"showline\":true,\"ticks\":\"outside\"},\"baxis\":{\"gridcolor\":\"rgb(232,232,232)\",\"linecolor\":\"rgb(36,36,36)\",\"showgrid\":false,\"showline\":true,\"ticks\":\"outside\"},\"bgcolor\":\"white\",\"caxis\":{\"gridcolor\":\"rgb(232,232,232)\",\"linecolor\":\"rgb(36,36,36)\",\"showgrid\":false,\"showline\":true,\"ticks\":\"outside\"}},\"title\":{\"x\":0.05},\"xaxis\":{\"automargin\":true,\"gridcolor\":\"rgb(232,232,232)\",\"linecolor\":\"rgb(36,36,36)\",\"showgrid\":false,\"showline\":true,\"ticks\":\"outside\",\"title\":{\"standoff\":15},\"zeroline\":false,\"zerolinecolor\":\"rgb(36,36,36)\"},\"yaxis\":{\"automargin\":true,\"gridcolor\":\"rgb(232,232,232)\",\"linecolor\":\"rgb(36,36,36)\",\"showgrid\":false,\"showline\":true,\"ticks\":\"outside\",\"title\":{\"standoff\":15},\"zeroline\":false,\"zerolinecolor\":\"rgb(36,36,36)\"}}},\"title\":{\"font\":{\"size\":22,\"color\":\"Black\"},\"text\":\"\\u003cb\\u003eTopic Probability Distribution\\u003c\\u002fb\\u003e\",\"y\":0.95,\"x\":0.5,\"xanchor\":\"center\",\"yanchor\":\"top\"},\"hoverlabel\":{\"font\":{\"size\":16,\"family\":\"Rockwell\"},\"bgcolor\":\"white\"},\"xaxis\":{\"title\":{\"text\":\"Probability\"}},\"width\":800,\"height\":600},                        {\"responsive\": true}                    ).then(function(){\n",
       "                            \n",
       "var gd = document.getElementById('ce213c0a-79a6-4cff-83ab-36bfa09629e8');\n",
       "var x = new MutationObserver(function (mutations, observer) {{\n",
       "        var display = window.getComputedStyle(gd).display;\n",
       "        if (!display || display === 'none') {{\n",
       "            console.log([gd, 'removed!']);\n",
       "            Plotly.purge(gd);\n",
       "            observer.disconnect();\n",
       "        }}\n",
       "}});\n",
       "\n",
       "// Listen for the removal of the full notebook cells\n",
       "var notebookContainer = gd.closest('#notebook-container');\n",
       "if (notebookContainer) {{\n",
       "    x.observe(notebookContainer, {childList: true});\n",
       "}}\n",
       "\n",
       "// Listen for the clearing of the current output cell\n",
       "var outputEl = gd.closest('.output');\n",
       "if (outputEl) {{\n",
       "    x.observe(outputEl, {childList: true});\n",
       "}}\n",
       "\n",
       "                        })                };                });            </script>        </div>"
      ]
     },
     "metadata": {},
     "output_type": "display_data"
    }
   ],
   "source": [
    "# visualize topic probabilities\n",
    "# to understand how confident BERTopic is that certain topics are present in the documents\n",
    "\n",
    "topic_model.visualize_distribution(probs[200], min_probability=0.001)"
   ]
  },
  {
   "cell_type": "code",
   "execution_count": 49,
   "metadata": {},
   "outputs": [
    {
     "name": "stderr",
     "output_type": "stream",
     "text": [
      "/root/miniforge3/envs/fyp-test-wsl-tm/lib/python3.9/site-packages/plotly/figure_factory/_dendrogram.py:346: DeprecationWarning:\n",
      "\n",
      "scipy.array is deprecated and will be removed in SciPy 2.0.0, use numpy.array instead\n",
      "\n",
      "/root/miniforge3/envs/fyp-test-wsl-tm/lib/python3.9/site-packages/plotly/figure_factory/_dendrogram.py:347: DeprecationWarning:\n",
      "\n",
      "scipy.array is deprecated and will be removed in SciPy 2.0.0, use numpy.array instead\n",
      "\n",
      "/root/miniforge3/envs/fyp-test-wsl-tm/lib/python3.9/site-packages/plotly/figure_factory/_dendrogram.py:348: DeprecationWarning:\n",
      "\n",
      "scipy.array is deprecated and will be removed in SciPy 2.0.0, use numpy.array instead\n",
      "\n",
      "/root/miniforge3/envs/fyp-test-wsl-tm/lib/python3.9/site-packages/plotly/figure_factory/_dendrogram.py:349: DeprecationWarning:\n",
      "\n",
      "scipy.array is deprecated and will be removed in SciPy 2.0.0, use numpy.array instead\n",
      "\n"
     ]
    },
    {
     "data": {
      "application/vnd.plotly.v1+json": {
       "config": {
        "plotlyServerURL": "https://plot.ly"
       },
       "data": [
        {
         "hoverinfo": "text",
         "marker": {
          "color": "rgb(61,153,112)"
         },
         "mode": "lines",
         "type": "scatter",
         "x": [
          0,
          0.7634476569819508,
          0.7634476569819508,
          0
         ],
         "xaxis": "x",
         "y": [
          -25,
          -25,
          -35,
          -35
         ],
         "yaxis": "y"
        },
        {
         "hoverinfo": "text",
         "marker": {
          "color": "rgb(61,153,112)"
         },
         "mode": "lines",
         "type": "scatter",
         "x": [
          0,
          0.9042608903530298,
          0.9042608903530298,
          0.7634476569819508
         ],
         "xaxis": "x",
         "y": [
          -15,
          -15,
          -30,
          -30
         ],
         "yaxis": "y"
        },
        {
         "hoverinfo": "text",
         "marker": {
          "color": "rgb(0,116,217)"
         },
         "mode": "lines",
         "type": "scatter",
         "x": [
          0,
          1.0005020062954104,
          1.0005020062954104,
          0.9042608903530298
         ],
         "xaxis": "x",
         "y": [
          -5,
          -5,
          -22.5,
          -22.5
         ],
         "yaxis": "y"
        },
        {
         "hoverinfo": "text",
         "marker": {
          "color": "rgb(255,65,54)"
         },
         "mode": "lines",
         "type": "scatter",
         "x": [
          0,
          0.4624880223080057,
          0.4624880223080057,
          0
         ],
         "xaxis": "x",
         "y": [
          -55,
          -55,
          -65,
          -65
         ],
         "yaxis": "y"
        },
        {
         "hoverinfo": "text",
         "marker": {
          "color": "rgb(255,65,54)"
         },
         "mode": "lines",
         "type": "scatter",
         "x": [
          0,
          0.08754222630131514,
          0.08754222630131514,
          0
         ],
         "xaxis": "x",
         "y": [
          -115,
          -115,
          -125,
          -125
         ],
         "yaxis": "y"
        },
        {
         "hoverinfo": "text",
         "marker": {
          "color": "rgb(255,65,54)"
         },
         "mode": "lines",
         "type": "scatter",
         "x": [
          0,
          0.10495045649769147,
          0.10495045649769147,
          0.08754222630131514
         ],
         "xaxis": "x",
         "y": [
          -105,
          -105,
          -120,
          -120
         ],
         "yaxis": "y"
        },
        {
         "hoverinfo": "text",
         "marker": {
          "color": "rgb(255,65,54)"
         },
         "mode": "lines",
         "type": "scatter",
         "x": [
          0.10495045649769147,
          0.2755326444578687,
          0.2755326444578687,
          0
         ],
         "xaxis": "x",
         "y": [
          -112.5,
          -112.5,
          -135,
          -135
         ],
         "yaxis": "y"
        },
        {
         "hoverinfo": "text",
         "marker": {
          "color": "rgb(255,65,54)"
         },
         "mode": "lines",
         "type": "scatter",
         "x": [
          0,
          0.3967190578808844,
          0.3967190578808844,
          0.2755326444578687
         ],
         "xaxis": "x",
         "y": [
          -95,
          -95,
          -123.75,
          -123.75
         ],
         "yaxis": "y"
        },
        {
         "hoverinfo": "text",
         "marker": {
          "color": "rgb(255,65,54)"
         },
         "mode": "lines",
         "type": "scatter",
         "x": [
          0,
          0.46894354532112487,
          0.46894354532112487,
          0.3967190578808844
         ],
         "xaxis": "x",
         "y": [
          -85,
          -85,
          -109.375,
          -109.375
         ],
         "yaxis": "y"
        },
        {
         "hoverinfo": "text",
         "marker": {
          "color": "rgb(255,65,54)"
         },
         "mode": "lines",
         "type": "scatter",
         "x": [
          0.46894354532112487,
          0.4915962201368583,
          0.4915962201368583,
          0
         ],
         "xaxis": "x",
         "y": [
          -97.1875,
          -97.1875,
          -145,
          -145
         ],
         "yaxis": "y"
        },
        {
         "hoverinfo": "text",
         "marker": {
          "color": "rgb(255,65,54)"
         },
         "mode": "lines",
         "type": "scatter",
         "x": [
          0,
          0.6053960492663214,
          0.6053960492663214,
          0.4915962201368583
         ],
         "xaxis": "x",
         "y": [
          -75,
          -75,
          -121.09375,
          -121.09375
         ],
         "yaxis": "y"
        },
        {
         "hoverinfo": "text",
         "marker": {
          "color": "rgb(255,65,54)"
         },
         "mode": "lines",
         "type": "scatter",
         "x": [
          0.6053960492663214,
          0.6671049309150917,
          0.6671049309150917,
          0
         ],
         "xaxis": "x",
         "y": [
          -98.046875,
          -98.046875,
          -155,
          -155
         ],
         "yaxis": "y"
        },
        {
         "hoverinfo": "text",
         "marker": {
          "color": "rgb(255,65,54)"
         },
         "mode": "lines",
         "type": "scatter",
         "x": [
          0.4624880223080057,
          0.685434672746038,
          0.685434672746038,
          0.6671049309150917
         ],
         "xaxis": "x",
         "y": [
          -60,
          -60,
          -126.5234375,
          -126.5234375
         ],
         "yaxis": "y"
        },
        {
         "hoverinfo": "text",
         "marker": {
          "color": "rgb(255,65,54)"
         },
         "mode": "lines",
         "type": "scatter",
         "x": [
          0,
          0.728630731773195,
          0.728630731773195,
          0.685434672746038
         ],
         "xaxis": "x",
         "y": [
          -45,
          -45,
          -93.26171875,
          -93.26171875
         ],
         "yaxis": "y"
        },
        {
         "hoverinfo": "text",
         "marker": {
          "color": "rgb(35,205,205)"
         },
         "mode": "lines",
         "type": "scatter",
         "x": [
          0,
          0.3589566229442527,
          0.3589566229442527,
          0
         ],
         "xaxis": "x",
         "y": [
          -165,
          -165,
          -175,
          -175
         ],
         "yaxis": "y"
        },
        {
         "hoverinfo": "text",
         "marker": {
          "color": "rgb(35,205,205)"
         },
         "mode": "lines",
         "type": "scatter",
         "x": [
          0.3589566229442527,
          0.5968972615362524,
          0.5968972615362524,
          0
         ],
         "xaxis": "x",
         "y": [
          -170,
          -170,
          -185,
          -185
         ],
         "yaxis": "y"
        },
        {
         "hoverinfo": "text",
         "marker": {
          "color": "rgb(35,205,205)"
         },
         "mode": "lines",
         "type": "scatter",
         "x": [
          0.5968972615362524,
          0.9073639354964199,
          0.9073639354964199,
          0
         ],
         "xaxis": "x",
         "y": [
          -177.5,
          -177.5,
          -195,
          -195
         ],
         "yaxis": "y"
        },
        {
         "hoverinfo": "text",
         "marker": {
          "color": "rgb(0,116,217)"
         },
         "mode": "lines",
         "type": "scatter",
         "x": [
          0.728630731773195,
          1.1519377999985192,
          1.1519377999985192,
          0.9073639354964199
         ],
         "xaxis": "x",
         "y": [
          -69.130859375,
          -69.130859375,
          -186.25,
          -186.25
         ],
         "yaxis": "y"
        },
        {
         "hoverinfo": "text",
         "marker": {
          "color": "rgb(0,116,217)"
         },
         "mode": "lines",
         "type": "scatter",
         "x": [
          1.0005020062954104,
          1.310176987645909,
          1.310176987645909,
          1.1519377999985192
         ],
         "xaxis": "x",
         "y": [
          -13.75,
          -13.75,
          -127.6904296875,
          -127.6904296875
         ],
         "yaxis": "y"
        }
       ],
       "layout": {
        "autosize": false,
        "height": 500,
        "hoverlabel": {
         "bgcolor": "white",
         "font": {
          "family": "Rockwell",
          "size": 16
         }
        },
        "hovermode": "closest",
        "plot_bgcolor": "#ECEFF1",
        "showlegend": false,
        "template": {
         "data": {
          "bar": [
           {
            "error_x": {
             "color": "#2a3f5f"
            },
            "error_y": {
             "color": "#2a3f5f"
            },
            "marker": {
             "line": {
              "color": "white",
              "width": 0.5
             },
             "pattern": {
              "fillmode": "overlay",
              "size": 10,
              "solidity": 0.2
             }
            },
            "type": "bar"
           }
          ],
          "barpolar": [
           {
            "marker": {
             "line": {
              "color": "white",
              "width": 0.5
             },
             "pattern": {
              "fillmode": "overlay",
              "size": 10,
              "solidity": 0.2
             }
            },
            "type": "barpolar"
           }
          ],
          "carpet": [
           {
            "aaxis": {
             "endlinecolor": "#2a3f5f",
             "gridcolor": "#C8D4E3",
             "linecolor": "#C8D4E3",
             "minorgridcolor": "#C8D4E3",
             "startlinecolor": "#2a3f5f"
            },
            "baxis": {
             "endlinecolor": "#2a3f5f",
             "gridcolor": "#C8D4E3",
             "linecolor": "#C8D4E3",
             "minorgridcolor": "#C8D4E3",
             "startlinecolor": "#2a3f5f"
            },
            "type": "carpet"
           }
          ],
          "choropleth": [
           {
            "colorbar": {
             "outlinewidth": 0,
             "ticks": ""
            },
            "type": "choropleth"
           }
          ],
          "contour": [
           {
            "colorbar": {
             "outlinewidth": 0,
             "ticks": ""
            },
            "colorscale": [
             [
              0,
              "#0d0887"
             ],
             [
              0.1111111111111111,
              "#46039f"
             ],
             [
              0.2222222222222222,
              "#7201a8"
             ],
             [
              0.3333333333333333,
              "#9c179e"
             ],
             [
              0.4444444444444444,
              "#bd3786"
             ],
             [
              0.5555555555555556,
              "#d8576b"
             ],
             [
              0.6666666666666666,
              "#ed7953"
             ],
             [
              0.7777777777777778,
              "#fb9f3a"
             ],
             [
              0.8888888888888888,
              "#fdca26"
             ],
             [
              1,
              "#f0f921"
             ]
            ],
            "type": "contour"
           }
          ],
          "contourcarpet": [
           {
            "colorbar": {
             "outlinewidth": 0,
             "ticks": ""
            },
            "type": "contourcarpet"
           }
          ],
          "heatmap": [
           {
            "colorbar": {
             "outlinewidth": 0,
             "ticks": ""
            },
            "colorscale": [
             [
              0,
              "#0d0887"
             ],
             [
              0.1111111111111111,
              "#46039f"
             ],
             [
              0.2222222222222222,
              "#7201a8"
             ],
             [
              0.3333333333333333,
              "#9c179e"
             ],
             [
              0.4444444444444444,
              "#bd3786"
             ],
             [
              0.5555555555555556,
              "#d8576b"
             ],
             [
              0.6666666666666666,
              "#ed7953"
             ],
             [
              0.7777777777777778,
              "#fb9f3a"
             ],
             [
              0.8888888888888888,
              "#fdca26"
             ],
             [
              1,
              "#f0f921"
             ]
            ],
            "type": "heatmap"
           }
          ],
          "heatmapgl": [
           {
            "colorbar": {
             "outlinewidth": 0,
             "ticks": ""
            },
            "colorscale": [
             [
              0,
              "#0d0887"
             ],
             [
              0.1111111111111111,
              "#46039f"
             ],
             [
              0.2222222222222222,
              "#7201a8"
             ],
             [
              0.3333333333333333,
              "#9c179e"
             ],
             [
              0.4444444444444444,
              "#bd3786"
             ],
             [
              0.5555555555555556,
              "#d8576b"
             ],
             [
              0.6666666666666666,
              "#ed7953"
             ],
             [
              0.7777777777777778,
              "#fb9f3a"
             ],
             [
              0.8888888888888888,
              "#fdca26"
             ],
             [
              1,
              "#f0f921"
             ]
            ],
            "type": "heatmapgl"
           }
          ],
          "histogram": [
           {
            "marker": {
             "pattern": {
              "fillmode": "overlay",
              "size": 10,
              "solidity": 0.2
             }
            },
            "type": "histogram"
           }
          ],
          "histogram2d": [
           {
            "colorbar": {
             "outlinewidth": 0,
             "ticks": ""
            },
            "colorscale": [
             [
              0,
              "#0d0887"
             ],
             [
              0.1111111111111111,
              "#46039f"
             ],
             [
              0.2222222222222222,
              "#7201a8"
             ],
             [
              0.3333333333333333,
              "#9c179e"
             ],
             [
              0.4444444444444444,
              "#bd3786"
             ],
             [
              0.5555555555555556,
              "#d8576b"
             ],
             [
              0.6666666666666666,
              "#ed7953"
             ],
             [
              0.7777777777777778,
              "#fb9f3a"
             ],
             [
              0.8888888888888888,
              "#fdca26"
             ],
             [
              1,
              "#f0f921"
             ]
            ],
            "type": "histogram2d"
           }
          ],
          "histogram2dcontour": [
           {
            "colorbar": {
             "outlinewidth": 0,
             "ticks": ""
            },
            "colorscale": [
             [
              0,
              "#0d0887"
             ],
             [
              0.1111111111111111,
              "#46039f"
             ],
             [
              0.2222222222222222,
              "#7201a8"
             ],
             [
              0.3333333333333333,
              "#9c179e"
             ],
             [
              0.4444444444444444,
              "#bd3786"
             ],
             [
              0.5555555555555556,
              "#d8576b"
             ],
             [
              0.6666666666666666,
              "#ed7953"
             ],
             [
              0.7777777777777778,
              "#fb9f3a"
             ],
             [
              0.8888888888888888,
              "#fdca26"
             ],
             [
              1,
              "#f0f921"
             ]
            ],
            "type": "histogram2dcontour"
           }
          ],
          "mesh3d": [
           {
            "colorbar": {
             "outlinewidth": 0,
             "ticks": ""
            },
            "type": "mesh3d"
           }
          ],
          "parcoords": [
           {
            "line": {
             "colorbar": {
              "outlinewidth": 0,
              "ticks": ""
             }
            },
            "type": "parcoords"
           }
          ],
          "pie": [
           {
            "automargin": true,
            "type": "pie"
           }
          ],
          "scatter": [
           {
            "fillpattern": {
             "fillmode": "overlay",
             "size": 10,
             "solidity": 0.2
            },
            "type": "scatter"
           }
          ],
          "scatter3d": [
           {
            "line": {
             "colorbar": {
              "outlinewidth": 0,
              "ticks": ""
             }
            },
            "marker": {
             "colorbar": {
              "outlinewidth": 0,
              "ticks": ""
             }
            },
            "type": "scatter3d"
           }
          ],
          "scattercarpet": [
           {
            "marker": {
             "colorbar": {
              "outlinewidth": 0,
              "ticks": ""
             }
            },
            "type": "scattercarpet"
           }
          ],
          "scattergeo": [
           {
            "marker": {
             "colorbar": {
              "outlinewidth": 0,
              "ticks": ""
             }
            },
            "type": "scattergeo"
           }
          ],
          "scattergl": [
           {
            "marker": {
             "colorbar": {
              "outlinewidth": 0,
              "ticks": ""
             }
            },
            "type": "scattergl"
           }
          ],
          "scattermapbox": [
           {
            "marker": {
             "colorbar": {
              "outlinewidth": 0,
              "ticks": ""
             }
            },
            "type": "scattermapbox"
           }
          ],
          "scatterpolar": [
           {
            "marker": {
             "colorbar": {
              "outlinewidth": 0,
              "ticks": ""
             }
            },
            "type": "scatterpolar"
           }
          ],
          "scatterpolargl": [
           {
            "marker": {
             "colorbar": {
              "outlinewidth": 0,
              "ticks": ""
             }
            },
            "type": "scatterpolargl"
           }
          ],
          "scatterternary": [
           {
            "marker": {
             "colorbar": {
              "outlinewidth": 0,
              "ticks": ""
             }
            },
            "type": "scatterternary"
           }
          ],
          "surface": [
           {
            "colorbar": {
             "outlinewidth": 0,
             "ticks": ""
            },
            "colorscale": [
             [
              0,
              "#0d0887"
             ],
             [
              0.1111111111111111,
              "#46039f"
             ],
             [
              0.2222222222222222,
              "#7201a8"
             ],
             [
              0.3333333333333333,
              "#9c179e"
             ],
             [
              0.4444444444444444,
              "#bd3786"
             ],
             [
              0.5555555555555556,
              "#d8576b"
             ],
             [
              0.6666666666666666,
              "#ed7953"
             ],
             [
              0.7777777777777778,
              "#fb9f3a"
             ],
             [
              0.8888888888888888,
              "#fdca26"
             ],
             [
              1,
              "#f0f921"
             ]
            ],
            "type": "surface"
           }
          ],
          "table": [
           {
            "cells": {
             "fill": {
              "color": "#EBF0F8"
             },
             "line": {
              "color": "white"
             }
            },
            "header": {
             "fill": {
              "color": "#C8D4E3"
             },
             "line": {
              "color": "white"
             }
            },
            "type": "table"
           }
          ]
         },
         "layout": {
          "annotationdefaults": {
           "arrowcolor": "#2a3f5f",
           "arrowhead": 0,
           "arrowwidth": 1
          },
          "autotypenumbers": "strict",
          "coloraxis": {
           "colorbar": {
            "outlinewidth": 0,
            "ticks": ""
           }
          },
          "colorscale": {
           "diverging": [
            [
             0,
             "#8e0152"
            ],
            [
             0.1,
             "#c51b7d"
            ],
            [
             0.2,
             "#de77ae"
            ],
            [
             0.3,
             "#f1b6da"
            ],
            [
             0.4,
             "#fde0ef"
            ],
            [
             0.5,
             "#f7f7f7"
            ],
            [
             0.6,
             "#e6f5d0"
            ],
            [
             0.7,
             "#b8e186"
            ],
            [
             0.8,
             "#7fbc41"
            ],
            [
             0.9,
             "#4d9221"
            ],
            [
             1,
             "#276419"
            ]
           ],
           "sequential": [
            [
             0,
             "#0d0887"
            ],
            [
             0.1111111111111111,
             "#46039f"
            ],
            [
             0.2222222222222222,
             "#7201a8"
            ],
            [
             0.3333333333333333,
             "#9c179e"
            ],
            [
             0.4444444444444444,
             "#bd3786"
            ],
            [
             0.5555555555555556,
             "#d8576b"
            ],
            [
             0.6666666666666666,
             "#ed7953"
            ],
            [
             0.7777777777777778,
             "#fb9f3a"
            ],
            [
             0.8888888888888888,
             "#fdca26"
            ],
            [
             1,
             "#f0f921"
            ]
           ],
           "sequentialminus": [
            [
             0,
             "#0d0887"
            ],
            [
             0.1111111111111111,
             "#46039f"
            ],
            [
             0.2222222222222222,
             "#7201a8"
            ],
            [
             0.3333333333333333,
             "#9c179e"
            ],
            [
             0.4444444444444444,
             "#bd3786"
            ],
            [
             0.5555555555555556,
             "#d8576b"
            ],
            [
             0.6666666666666666,
             "#ed7953"
            ],
            [
             0.7777777777777778,
             "#fb9f3a"
            ],
            [
             0.8888888888888888,
             "#fdca26"
            ],
            [
             1,
             "#f0f921"
            ]
           ]
          },
          "colorway": [
           "#636efa",
           "#EF553B",
           "#00cc96",
           "#ab63fa",
           "#FFA15A",
           "#19d3f3",
           "#FF6692",
           "#B6E880",
           "#FF97FF",
           "#FECB52"
          ],
          "font": {
           "color": "#2a3f5f"
          },
          "geo": {
           "bgcolor": "white",
           "lakecolor": "white",
           "landcolor": "white",
           "showlakes": true,
           "showland": true,
           "subunitcolor": "#C8D4E3"
          },
          "hoverlabel": {
           "align": "left"
          },
          "hovermode": "closest",
          "mapbox": {
           "style": "light"
          },
          "paper_bgcolor": "white",
          "plot_bgcolor": "white",
          "polar": {
           "angularaxis": {
            "gridcolor": "#EBF0F8",
            "linecolor": "#EBF0F8",
            "ticks": ""
           },
           "bgcolor": "white",
           "radialaxis": {
            "gridcolor": "#EBF0F8",
            "linecolor": "#EBF0F8",
            "ticks": ""
           }
          },
          "scene": {
           "xaxis": {
            "backgroundcolor": "white",
            "gridcolor": "#DFE8F3",
            "gridwidth": 2,
            "linecolor": "#EBF0F8",
            "showbackground": true,
            "ticks": "",
            "zerolinecolor": "#EBF0F8"
           },
           "yaxis": {
            "backgroundcolor": "white",
            "gridcolor": "#DFE8F3",
            "gridwidth": 2,
            "linecolor": "#EBF0F8",
            "showbackground": true,
            "ticks": "",
            "zerolinecolor": "#EBF0F8"
           },
           "zaxis": {
            "backgroundcolor": "white",
            "gridcolor": "#DFE8F3",
            "gridwidth": 2,
            "linecolor": "#EBF0F8",
            "showbackground": true,
            "ticks": "",
            "zerolinecolor": "#EBF0F8"
           }
          },
          "shapedefaults": {
           "line": {
            "color": "#2a3f5f"
           }
          },
          "ternary": {
           "aaxis": {
            "gridcolor": "#DFE8F3",
            "linecolor": "#A2B1C6",
            "ticks": ""
           },
           "baxis": {
            "gridcolor": "#DFE8F3",
            "linecolor": "#A2B1C6",
            "ticks": ""
           },
           "bgcolor": "white",
           "caxis": {
            "gridcolor": "#DFE8F3",
            "linecolor": "#A2B1C6",
            "ticks": ""
           }
          },
          "title": {
           "x": 0.05
          },
          "xaxis": {
           "automargin": true,
           "gridcolor": "#EBF0F8",
           "linecolor": "#EBF0F8",
           "ticks": "",
           "title": {
            "standoff": 15
           },
           "zerolinecolor": "#EBF0F8",
           "zerolinewidth": 2
          },
          "yaxis": {
           "automargin": true,
           "gridcolor": "#EBF0F8",
           "linecolor": "#EBF0F8",
           "ticks": "",
           "title": {
            "standoff": 15
           },
           "zerolinecolor": "#EBF0F8",
           "zerolinewidth": 2
          }
         }
        },
        "title": {
         "font": {
          "color": "Black",
          "size": 22
         },
         "text": "<b>Hierarchical Clustering</b>",
         "x": 0.5,
         "xanchor": "center",
         "yanchor": "top"
        },
        "width": 1000,
        "xaxis": {
         "mirror": "allticks",
         "rangemode": "tozero",
         "showgrid": false,
         "showline": true,
         "showticklabels": true,
         "ticks": "outside",
         "type": "linear",
         "zeroline": false
        },
        "yaxis": {
         "mirror": "allticks",
         "range": [
          -200,
          0
         ],
         "rangemode": "tozero",
         "showgrid": false,
         "showline": true,
         "showticklabels": true,
         "tickmode": "array",
         "ticks": "outside",
         "ticktext": [
          "16_click_starbound_russific...",
          "8_good_ok_its",
          "9_bye_cool_slit",
          "13_cool_fine_lines",
          "11_mac_on_linux",
          "12_awesome_love_it",
          "3_game_this_best",
          "6_addictive_addicting_fun",
          "10_review_reviews_badgei",
          "5_my_it_but",
          "0_game_this_it",
          "1_terraria_the_and",
          "2_minecraft_and_game",
          "17_the_best_to",
          "15_moon_lord_the",
          "14_buy_it_get",
          "7_10_would_again",
          "4_10_again_killed",
          "19_slime_10_slimes",
          "18_epic_crust_pie"
         ],
         "tickvals": [
          -5,
          -15,
          -25,
          -35,
          -45,
          -55,
          -65,
          -75,
          -85,
          -95,
          -105,
          -115,
          -125,
          -135,
          -145,
          -155,
          -165,
          -175,
          -185,
          -195
         ],
         "type": "linear",
         "zeroline": false
        }
       }
      },
      "text/html": [
       "<div>                            <div id=\"aaf2505e-8a69-4510-961b-984eda7c3962\" class=\"plotly-graph-div\" style=\"height:500px; width:1000px;\"></div>            <script type=\"text/javascript\">                require([\"plotly\"], function(Plotly) {                    window.PLOTLYENV=window.PLOTLYENV || {};                                    if (document.getElementById(\"aaf2505e-8a69-4510-961b-984eda7c3962\")) {                    Plotly.newPlot(                        \"aaf2505e-8a69-4510-961b-984eda7c3962\",                        [{\"hoverinfo\":\"text\",\"marker\":{\"color\":\"rgb(61,153,112)\"},\"mode\":\"lines\",\"x\":[0.0,0.7634476569819508,0.7634476569819508,0.0],\"xaxis\":\"x\",\"y\":[-25.0,-25.0,-35.0,-35.0],\"yaxis\":\"y\",\"type\":\"scatter\"},{\"hoverinfo\":\"text\",\"marker\":{\"color\":\"rgb(61,153,112)\"},\"mode\":\"lines\",\"x\":[0.0,0.9042608903530298,0.9042608903530298,0.7634476569819508],\"xaxis\":\"x\",\"y\":[-15.0,-15.0,-30.0,-30.0],\"yaxis\":\"y\",\"type\":\"scatter\"},{\"hoverinfo\":\"text\",\"marker\":{\"color\":\"rgb(0,116,217)\"},\"mode\":\"lines\",\"x\":[0.0,1.0005020062954104,1.0005020062954104,0.9042608903530298],\"xaxis\":\"x\",\"y\":[-5.0,-5.0,-22.5,-22.5],\"yaxis\":\"y\",\"type\":\"scatter\"},{\"hoverinfo\":\"text\",\"marker\":{\"color\":\"rgb(255,65,54)\"},\"mode\":\"lines\",\"x\":[0.0,0.4624880223080057,0.4624880223080057,0.0],\"xaxis\":\"x\",\"y\":[-55.0,-55.0,-65.0,-65.0],\"yaxis\":\"y\",\"type\":\"scatter\"},{\"hoverinfo\":\"text\",\"marker\":{\"color\":\"rgb(255,65,54)\"},\"mode\":\"lines\",\"x\":[0.0,0.08754222630131514,0.08754222630131514,0.0],\"xaxis\":\"x\",\"y\":[-115.0,-115.0,-125.0,-125.0],\"yaxis\":\"y\",\"type\":\"scatter\"},{\"hoverinfo\":\"text\",\"marker\":{\"color\":\"rgb(255,65,54)\"},\"mode\":\"lines\",\"x\":[0.0,0.10495045649769147,0.10495045649769147,0.08754222630131514],\"xaxis\":\"x\",\"y\":[-105.0,-105.0,-120.0,-120.0],\"yaxis\":\"y\",\"type\":\"scatter\"},{\"hoverinfo\":\"text\",\"marker\":{\"color\":\"rgb(255,65,54)\"},\"mode\":\"lines\",\"x\":[0.10495045649769147,0.2755326444578687,0.2755326444578687,0.0],\"xaxis\":\"x\",\"y\":[-112.5,-112.5,-135.0,-135.0],\"yaxis\":\"y\",\"type\":\"scatter\"},{\"hoverinfo\":\"text\",\"marker\":{\"color\":\"rgb(255,65,54)\"},\"mode\":\"lines\",\"x\":[0.0,0.3967190578808844,0.3967190578808844,0.2755326444578687],\"xaxis\":\"x\",\"y\":[-95.0,-95.0,-123.75,-123.75],\"yaxis\":\"y\",\"type\":\"scatter\"},{\"hoverinfo\":\"text\",\"marker\":{\"color\":\"rgb(255,65,54)\"},\"mode\":\"lines\",\"x\":[0.0,0.46894354532112487,0.46894354532112487,0.3967190578808844],\"xaxis\":\"x\",\"y\":[-85.0,-85.0,-109.375,-109.375],\"yaxis\":\"y\",\"type\":\"scatter\"},{\"hoverinfo\":\"text\",\"marker\":{\"color\":\"rgb(255,65,54)\"},\"mode\":\"lines\",\"x\":[0.46894354532112487,0.4915962201368583,0.4915962201368583,0.0],\"xaxis\":\"x\",\"y\":[-97.1875,-97.1875,-145.0,-145.0],\"yaxis\":\"y\",\"type\":\"scatter\"},{\"hoverinfo\":\"text\",\"marker\":{\"color\":\"rgb(255,65,54)\"},\"mode\":\"lines\",\"x\":[0.0,0.6053960492663214,0.6053960492663214,0.4915962201368583],\"xaxis\":\"x\",\"y\":[-75.0,-75.0,-121.09375,-121.09375],\"yaxis\":\"y\",\"type\":\"scatter\"},{\"hoverinfo\":\"text\",\"marker\":{\"color\":\"rgb(255,65,54)\"},\"mode\":\"lines\",\"x\":[0.6053960492663214,0.6671049309150917,0.6671049309150917,0.0],\"xaxis\":\"x\",\"y\":[-98.046875,-98.046875,-155.0,-155.0],\"yaxis\":\"y\",\"type\":\"scatter\"},{\"hoverinfo\":\"text\",\"marker\":{\"color\":\"rgb(255,65,54)\"},\"mode\":\"lines\",\"x\":[0.4624880223080057,0.685434672746038,0.685434672746038,0.6671049309150917],\"xaxis\":\"x\",\"y\":[-60.0,-60.0,-126.5234375,-126.5234375],\"yaxis\":\"y\",\"type\":\"scatter\"},{\"hoverinfo\":\"text\",\"marker\":{\"color\":\"rgb(255,65,54)\"},\"mode\":\"lines\",\"x\":[0.0,0.728630731773195,0.728630731773195,0.685434672746038],\"xaxis\":\"x\",\"y\":[-45.0,-45.0,-93.26171875,-93.26171875],\"yaxis\":\"y\",\"type\":\"scatter\"},{\"hoverinfo\":\"text\",\"marker\":{\"color\":\"rgb(35,205,205)\"},\"mode\":\"lines\",\"x\":[0.0,0.3589566229442527,0.3589566229442527,0.0],\"xaxis\":\"x\",\"y\":[-165.0,-165.0,-175.0,-175.0],\"yaxis\":\"y\",\"type\":\"scatter\"},{\"hoverinfo\":\"text\",\"marker\":{\"color\":\"rgb(35,205,205)\"},\"mode\":\"lines\",\"x\":[0.3589566229442527,0.5968972615362524,0.5968972615362524,0.0],\"xaxis\":\"x\",\"y\":[-170.0,-170.0,-185.0,-185.0],\"yaxis\":\"y\",\"type\":\"scatter\"},{\"hoverinfo\":\"text\",\"marker\":{\"color\":\"rgb(35,205,205)\"},\"mode\":\"lines\",\"x\":[0.5968972615362524,0.9073639354964199,0.9073639354964199,0.0],\"xaxis\":\"x\",\"y\":[-177.5,-177.5,-195.0,-195.0],\"yaxis\":\"y\",\"type\":\"scatter\"},{\"hoverinfo\":\"text\",\"marker\":{\"color\":\"rgb(0,116,217)\"},\"mode\":\"lines\",\"x\":[0.728630731773195,1.1519377999985192,1.1519377999985192,0.9073639354964199],\"xaxis\":\"x\",\"y\":[-69.130859375,-69.130859375,-186.25,-186.25],\"yaxis\":\"y\",\"type\":\"scatter\"},{\"hoverinfo\":\"text\",\"marker\":{\"color\":\"rgb(0,116,217)\"},\"mode\":\"lines\",\"x\":[1.0005020062954104,1.310176987645909,1.310176987645909,1.1519377999985192],\"xaxis\":\"x\",\"y\":[-13.75,-13.75,-127.6904296875,-127.6904296875],\"yaxis\":\"y\",\"type\":\"scatter\"}],                        {\"autosize\":false,\"height\":500,\"hovermode\":\"closest\",\"showlegend\":false,\"width\":1000,\"xaxis\":{\"mirror\":\"allticks\",\"rangemode\":\"tozero\",\"showgrid\":false,\"showline\":true,\"showticklabels\":true,\"ticks\":\"outside\",\"type\":\"linear\",\"zeroline\":false},\"yaxis\":{\"mirror\":\"allticks\",\"rangemode\":\"tozero\",\"showgrid\":false,\"showline\":true,\"showticklabels\":true,\"tickmode\":\"array\",\"ticks\":\"outside\",\"ticktext\":[\"16_click_starbound_russific...\",\"8_good_ok_its\",\"9_bye_cool_slit\",\"13_cool_fine_lines\",\"11_mac_on_linux\",\"12_awesome_love_it\",\"3_game_this_best\",\"6_addictive_addicting_fun\",\"10_review_reviews_badgei\",\"5_my_it_but\",\"0_game_this_it\",\"1_terraria_the_and\",\"2_minecraft_and_game\",\"17_the_best_to\",\"15_moon_lord_the\",\"14_buy_it_get\",\"7_10_would_again\",\"4_10_again_killed\",\"19_slime_10_slimes\",\"18_epic_crust_pie\"],\"tickvals\":[-5.0,-15.0,-25.0,-35.0,-45.0,-55.0,-65.0,-75.0,-85.0,-95.0,-105.0,-115.0,-125.0,-135.0,-145.0,-155.0,-165.0,-175.0,-185.0,-195.0],\"type\":\"linear\",\"zeroline\":false,\"range\":[-200.0,0.0]},\"template\":{\"data\":{\"barpolar\":[{\"marker\":{\"line\":{\"color\":\"white\",\"width\":0.5},\"pattern\":{\"fillmode\":\"overlay\",\"size\":10,\"solidity\":0.2}},\"type\":\"barpolar\"}],\"bar\":[{\"error_x\":{\"color\":\"#2a3f5f\"},\"error_y\":{\"color\":\"#2a3f5f\"},\"marker\":{\"line\":{\"color\":\"white\",\"width\":0.5},\"pattern\":{\"fillmode\":\"overlay\",\"size\":10,\"solidity\":0.2}},\"type\":\"bar\"}],\"carpet\":[{\"aaxis\":{\"endlinecolor\":\"#2a3f5f\",\"gridcolor\":\"#C8D4E3\",\"linecolor\":\"#C8D4E3\",\"minorgridcolor\":\"#C8D4E3\",\"startlinecolor\":\"#2a3f5f\"},\"baxis\":{\"endlinecolor\":\"#2a3f5f\",\"gridcolor\":\"#C8D4E3\",\"linecolor\":\"#C8D4E3\",\"minorgridcolor\":\"#C8D4E3\",\"startlinecolor\":\"#2a3f5f\"},\"type\":\"carpet\"}],\"choropleth\":[{\"colorbar\":{\"outlinewidth\":0,\"ticks\":\"\"},\"type\":\"choropleth\"}],\"contourcarpet\":[{\"colorbar\":{\"outlinewidth\":0,\"ticks\":\"\"},\"type\":\"contourcarpet\"}],\"contour\":[{\"colorbar\":{\"outlinewidth\":0,\"ticks\":\"\"},\"colorscale\":[[0.0,\"#0d0887\"],[0.1111111111111111,\"#46039f\"],[0.2222222222222222,\"#7201a8\"],[0.3333333333333333,\"#9c179e\"],[0.4444444444444444,\"#bd3786\"],[0.5555555555555556,\"#d8576b\"],[0.6666666666666666,\"#ed7953\"],[0.7777777777777778,\"#fb9f3a\"],[0.8888888888888888,\"#fdca26\"],[1.0,\"#f0f921\"]],\"type\":\"contour\"}],\"heatmapgl\":[{\"colorbar\":{\"outlinewidth\":0,\"ticks\":\"\"},\"colorscale\":[[0.0,\"#0d0887\"],[0.1111111111111111,\"#46039f\"],[0.2222222222222222,\"#7201a8\"],[0.3333333333333333,\"#9c179e\"],[0.4444444444444444,\"#bd3786\"],[0.5555555555555556,\"#d8576b\"],[0.6666666666666666,\"#ed7953\"],[0.7777777777777778,\"#fb9f3a\"],[0.8888888888888888,\"#fdca26\"],[1.0,\"#f0f921\"]],\"type\":\"heatmapgl\"}],\"heatmap\":[{\"colorbar\":{\"outlinewidth\":0,\"ticks\":\"\"},\"colorscale\":[[0.0,\"#0d0887\"],[0.1111111111111111,\"#46039f\"],[0.2222222222222222,\"#7201a8\"],[0.3333333333333333,\"#9c179e\"],[0.4444444444444444,\"#bd3786\"],[0.5555555555555556,\"#d8576b\"],[0.6666666666666666,\"#ed7953\"],[0.7777777777777778,\"#fb9f3a\"],[0.8888888888888888,\"#fdca26\"],[1.0,\"#f0f921\"]],\"type\":\"heatmap\"}],\"histogram2dcontour\":[{\"colorbar\":{\"outlinewidth\":0,\"ticks\":\"\"},\"colorscale\":[[0.0,\"#0d0887\"],[0.1111111111111111,\"#46039f\"],[0.2222222222222222,\"#7201a8\"],[0.3333333333333333,\"#9c179e\"],[0.4444444444444444,\"#bd3786\"],[0.5555555555555556,\"#d8576b\"],[0.6666666666666666,\"#ed7953\"],[0.7777777777777778,\"#fb9f3a\"],[0.8888888888888888,\"#fdca26\"],[1.0,\"#f0f921\"]],\"type\":\"histogram2dcontour\"}],\"histogram2d\":[{\"colorbar\":{\"outlinewidth\":0,\"ticks\":\"\"},\"colorscale\":[[0.0,\"#0d0887\"],[0.1111111111111111,\"#46039f\"],[0.2222222222222222,\"#7201a8\"],[0.3333333333333333,\"#9c179e\"],[0.4444444444444444,\"#bd3786\"],[0.5555555555555556,\"#d8576b\"],[0.6666666666666666,\"#ed7953\"],[0.7777777777777778,\"#fb9f3a\"],[0.8888888888888888,\"#fdca26\"],[1.0,\"#f0f921\"]],\"type\":\"histogram2d\"}],\"histogram\":[{\"marker\":{\"pattern\":{\"fillmode\":\"overlay\",\"size\":10,\"solidity\":0.2}},\"type\":\"histogram\"}],\"mesh3d\":[{\"colorbar\":{\"outlinewidth\":0,\"ticks\":\"\"},\"type\":\"mesh3d\"}],\"parcoords\":[{\"line\":{\"colorbar\":{\"outlinewidth\":0,\"ticks\":\"\"}},\"type\":\"parcoords\"}],\"pie\":[{\"automargin\":true,\"type\":\"pie\"}],\"scatter3d\":[{\"line\":{\"colorbar\":{\"outlinewidth\":0,\"ticks\":\"\"}},\"marker\":{\"colorbar\":{\"outlinewidth\":0,\"ticks\":\"\"}},\"type\":\"scatter3d\"}],\"scattercarpet\":[{\"marker\":{\"colorbar\":{\"outlinewidth\":0,\"ticks\":\"\"}},\"type\":\"scattercarpet\"}],\"scattergeo\":[{\"marker\":{\"colorbar\":{\"outlinewidth\":0,\"ticks\":\"\"}},\"type\":\"scattergeo\"}],\"scattergl\":[{\"marker\":{\"colorbar\":{\"outlinewidth\":0,\"ticks\":\"\"}},\"type\":\"scattergl\"}],\"scattermapbox\":[{\"marker\":{\"colorbar\":{\"outlinewidth\":0,\"ticks\":\"\"}},\"type\":\"scattermapbox\"}],\"scatterpolargl\":[{\"marker\":{\"colorbar\":{\"outlinewidth\":0,\"ticks\":\"\"}},\"type\":\"scatterpolargl\"}],\"scatterpolar\":[{\"marker\":{\"colorbar\":{\"outlinewidth\":0,\"ticks\":\"\"}},\"type\":\"scatterpolar\"}],\"scatter\":[{\"fillpattern\":{\"fillmode\":\"overlay\",\"size\":10,\"solidity\":0.2},\"type\":\"scatter\"}],\"scatterternary\":[{\"marker\":{\"colorbar\":{\"outlinewidth\":0,\"ticks\":\"\"}},\"type\":\"scatterternary\"}],\"surface\":[{\"colorbar\":{\"outlinewidth\":0,\"ticks\":\"\"},\"colorscale\":[[0.0,\"#0d0887\"],[0.1111111111111111,\"#46039f\"],[0.2222222222222222,\"#7201a8\"],[0.3333333333333333,\"#9c179e\"],[0.4444444444444444,\"#bd3786\"],[0.5555555555555556,\"#d8576b\"],[0.6666666666666666,\"#ed7953\"],[0.7777777777777778,\"#fb9f3a\"],[0.8888888888888888,\"#fdca26\"],[1.0,\"#f0f921\"]],\"type\":\"surface\"}],\"table\":[{\"cells\":{\"fill\":{\"color\":\"#EBF0F8\"},\"line\":{\"color\":\"white\"}},\"header\":{\"fill\":{\"color\":\"#C8D4E3\"},\"line\":{\"color\":\"white\"}},\"type\":\"table\"}]},\"layout\":{\"annotationdefaults\":{\"arrowcolor\":\"#2a3f5f\",\"arrowhead\":0,\"arrowwidth\":1},\"autotypenumbers\":\"strict\",\"coloraxis\":{\"colorbar\":{\"outlinewidth\":0,\"ticks\":\"\"}},\"colorscale\":{\"diverging\":[[0,\"#8e0152\"],[0.1,\"#c51b7d\"],[0.2,\"#de77ae\"],[0.3,\"#f1b6da\"],[0.4,\"#fde0ef\"],[0.5,\"#f7f7f7\"],[0.6,\"#e6f5d0\"],[0.7,\"#b8e186\"],[0.8,\"#7fbc41\"],[0.9,\"#4d9221\"],[1,\"#276419\"]],\"sequential\":[[0.0,\"#0d0887\"],[0.1111111111111111,\"#46039f\"],[0.2222222222222222,\"#7201a8\"],[0.3333333333333333,\"#9c179e\"],[0.4444444444444444,\"#bd3786\"],[0.5555555555555556,\"#d8576b\"],[0.6666666666666666,\"#ed7953\"],[0.7777777777777778,\"#fb9f3a\"],[0.8888888888888888,\"#fdca26\"],[1.0,\"#f0f921\"]],\"sequentialminus\":[[0.0,\"#0d0887\"],[0.1111111111111111,\"#46039f\"],[0.2222222222222222,\"#7201a8\"],[0.3333333333333333,\"#9c179e\"],[0.4444444444444444,\"#bd3786\"],[0.5555555555555556,\"#d8576b\"],[0.6666666666666666,\"#ed7953\"],[0.7777777777777778,\"#fb9f3a\"],[0.8888888888888888,\"#fdca26\"],[1.0,\"#f0f921\"]]},\"colorway\":[\"#636efa\",\"#EF553B\",\"#00cc96\",\"#ab63fa\",\"#FFA15A\",\"#19d3f3\",\"#FF6692\",\"#B6E880\",\"#FF97FF\",\"#FECB52\"],\"font\":{\"color\":\"#2a3f5f\"},\"geo\":{\"bgcolor\":\"white\",\"lakecolor\":\"white\",\"landcolor\":\"white\",\"showlakes\":true,\"showland\":true,\"subunitcolor\":\"#C8D4E3\"},\"hoverlabel\":{\"align\":\"left\"},\"hovermode\":\"closest\",\"mapbox\":{\"style\":\"light\"},\"paper_bgcolor\":\"white\",\"plot_bgcolor\":\"white\",\"polar\":{\"angularaxis\":{\"gridcolor\":\"#EBF0F8\",\"linecolor\":\"#EBF0F8\",\"ticks\":\"\"},\"bgcolor\":\"white\",\"radialaxis\":{\"gridcolor\":\"#EBF0F8\",\"linecolor\":\"#EBF0F8\",\"ticks\":\"\"}},\"scene\":{\"xaxis\":{\"backgroundcolor\":\"white\",\"gridcolor\":\"#DFE8F3\",\"gridwidth\":2,\"linecolor\":\"#EBF0F8\",\"showbackground\":true,\"ticks\":\"\",\"zerolinecolor\":\"#EBF0F8\"},\"yaxis\":{\"backgroundcolor\":\"white\",\"gridcolor\":\"#DFE8F3\",\"gridwidth\":2,\"linecolor\":\"#EBF0F8\",\"showbackground\":true,\"ticks\":\"\",\"zerolinecolor\":\"#EBF0F8\"},\"zaxis\":{\"backgroundcolor\":\"white\",\"gridcolor\":\"#DFE8F3\",\"gridwidth\":2,\"linecolor\":\"#EBF0F8\",\"showbackground\":true,\"ticks\":\"\",\"zerolinecolor\":\"#EBF0F8\"}},\"shapedefaults\":{\"line\":{\"color\":\"#2a3f5f\"}},\"ternary\":{\"aaxis\":{\"gridcolor\":\"#DFE8F3\",\"linecolor\":\"#A2B1C6\",\"ticks\":\"\"},\"baxis\":{\"gridcolor\":\"#DFE8F3\",\"linecolor\":\"#A2B1C6\",\"ticks\":\"\"},\"bgcolor\":\"white\",\"caxis\":{\"gridcolor\":\"#DFE8F3\",\"linecolor\":\"#A2B1C6\",\"ticks\":\"\"}},\"title\":{\"x\":0.05},\"xaxis\":{\"automargin\":true,\"gridcolor\":\"#EBF0F8\",\"linecolor\":\"#EBF0F8\",\"ticks\":\"\",\"title\":{\"standoff\":15},\"zerolinecolor\":\"#EBF0F8\",\"zerolinewidth\":2},\"yaxis\":{\"automargin\":true,\"gridcolor\":\"#EBF0F8\",\"linecolor\":\"#EBF0F8\",\"ticks\":\"\",\"title\":{\"standoff\":15},\"zerolinecolor\":\"#EBF0F8\",\"zerolinewidth\":2}}},\"title\":{\"font\":{\"size\":22,\"color\":\"Black\"},\"text\":\"\\u003cb\\u003eHierarchical Clustering\\u003c\\u002fb\\u003e\",\"x\":0.5,\"xanchor\":\"center\",\"yanchor\":\"top\"},\"hoverlabel\":{\"font\":{\"size\":16,\"family\":\"Rockwell\"},\"bgcolor\":\"white\"},\"plot_bgcolor\":\"#ECEFF1\"},                        {\"responsive\": true}                    ).then(function(){\n",
       "                            \n",
       "var gd = document.getElementById('aaf2505e-8a69-4510-961b-984eda7c3962');\n",
       "var x = new MutationObserver(function (mutations, observer) {{\n",
       "        var display = window.getComputedStyle(gd).display;\n",
       "        if (!display || display === 'none') {{\n",
       "            console.log([gd, 'removed!']);\n",
       "            Plotly.purge(gd);\n",
       "            observer.disconnect();\n",
       "        }}\n",
       "}});\n",
       "\n",
       "// Listen for the removal of the full notebook cells\n",
       "var notebookContainer = gd.closest('#notebook-container');\n",
       "if (notebookContainer) {{\n",
       "    x.observe(notebookContainer, {childList: true});\n",
       "}}\n",
       "\n",
       "// Listen for the clearing of the current output cell\n",
       "var outputEl = gd.closest('.output');\n",
       "if (outputEl) {{\n",
       "    x.observe(outputEl, {childList: true});\n",
       "}}\n",
       "\n",
       "                        })                };                });            </script>        </div>"
      ]
     },
     "metadata": {},
     "output_type": "display_data"
    }
   ],
   "source": [
    "# visualize how topics are hierarchically reduced\n",
    "\n",
    "topic_model.visualize_hierarchy(top_n_topics=50)"
   ]
  },
  {
   "cell_type": "code",
   "execution_count": 50,
   "metadata": {},
   "outputs": [
    {
     "data": {
      "application/vnd.plotly.v1+json": {
       "config": {
        "plotlyServerURL": "https://plot.ly"
       },
       "data": [
        {
         "marker": {
          "color": "#D55E00"
         },
         "orientation": "h",
         "type": "bar",
         "x": [
          0.02984143221130829,
          0.031147223276362265,
          0.03198777380601408,
          0.03206754788531549,
          0.039914139250551615
         ],
         "xaxis": "x",
         "y": [
          "the  ",
          "and  ",
          "it  ",
          "this  ",
          "game  "
         ],
         "yaxis": "y"
        },
        {
         "marker": {
          "color": "#0072B2"
         },
         "orientation": "h",
         "type": "bar",
         "x": [
          0.029516209664526873,
          0.02967661488979963,
          0.03173545542162658,
          0.03285479857482124,
          0.03649365579946549
         ],
         "xaxis": "x2",
         "y": [
          "you  ",
          "to  ",
          "and  ",
          "the  ",
          "terraria  "
         ],
         "yaxis": "y2"
        },
        {
         "marker": {
          "color": "#CC79A7"
         },
         "orientation": "h",
         "type": "bar",
         "x": [
          0.03076238509893936,
          0.030877856206873083,
          0.03109665283675844,
          0.03120384730886934,
          0.04779896813658242
         ],
         "xaxis": "x3",
         "y": [
          "it  ",
          "this  ",
          "game  ",
          "and  ",
          "minecraft  "
         ],
         "yaxis": "y3"
        },
        {
         "marker": {
          "color": "#E69F00"
         },
         "orientation": "h",
         "type": "bar",
         "x": [
          0.050199963719748206,
          0.056006404981193816,
          0.058284809205286885,
          0.0787544230933045,
          0.11495664115342163
         ],
         "xaxis": "x4",
         "y": [
          "ever  ",
          "great  ",
          "best  ",
          "this  ",
          "game  "
         ],
         "yaxis": "y4"
        },
        {
         "marker": {
          "color": "#56B4E9"
         },
         "orientation": "h",
         "type": "bar",
         "x": [
          0.027797617406186543,
          0.02849354966342216,
          0.02910883249086404,
          0.035504313440383184,
          0.08272701078209868
         ],
         "xaxis": "x5",
         "y": [
          "the  ",
          "would  ",
          "killed  ",
          "again  ",
          "10  "
         ],
         "yaxis": "y5"
        }
       ],
       "layout": {
        "annotations": [
         {
          "font": {
           "size": 16
          },
          "showarrow": false,
          "text": "Topic 0",
          "x": 0.0875,
          "xanchor": "center",
          "xref": "paper",
          "y": 1,
          "yanchor": "bottom",
          "yref": "paper"
         },
         {
          "font": {
           "size": 16
          },
          "showarrow": false,
          "text": "Topic 1",
          "x": 0.36250000000000004,
          "xanchor": "center",
          "xref": "paper",
          "y": 1,
          "yanchor": "bottom",
          "yref": "paper"
         },
         {
          "font": {
           "size": 16
          },
          "showarrow": false,
          "text": "Topic 2",
          "x": 0.6375000000000001,
          "xanchor": "center",
          "xref": "paper",
          "y": 1,
          "yanchor": "bottom",
          "yref": "paper"
         },
         {
          "font": {
           "size": 16
          },
          "showarrow": false,
          "text": "Topic 3",
          "x": 0.9125,
          "xanchor": "center",
          "xref": "paper",
          "y": 1,
          "yanchor": "bottom",
          "yref": "paper"
         },
         {
          "font": {
           "size": 16
          },
          "showarrow": false,
          "text": "Topic 4",
          "x": 0.0875,
          "xanchor": "center",
          "xref": "paper",
          "y": 0.4,
          "yanchor": "bottom",
          "yref": "paper"
         }
        ],
        "height": 500,
        "hoverlabel": {
         "bgcolor": "white",
         "font": {
          "family": "Rockwell",
          "size": 16
         }
        },
        "showlegend": false,
        "template": {
         "data": {
          "bar": [
           {
            "error_x": {
             "color": "#2a3f5f"
            },
            "error_y": {
             "color": "#2a3f5f"
            },
            "marker": {
             "line": {
              "color": "white",
              "width": 0.5
             },
             "pattern": {
              "fillmode": "overlay",
              "size": 10,
              "solidity": 0.2
             }
            },
            "type": "bar"
           }
          ],
          "barpolar": [
           {
            "marker": {
             "line": {
              "color": "white",
              "width": 0.5
             },
             "pattern": {
              "fillmode": "overlay",
              "size": 10,
              "solidity": 0.2
             }
            },
            "type": "barpolar"
           }
          ],
          "carpet": [
           {
            "aaxis": {
             "endlinecolor": "#2a3f5f",
             "gridcolor": "#C8D4E3",
             "linecolor": "#C8D4E3",
             "minorgridcolor": "#C8D4E3",
             "startlinecolor": "#2a3f5f"
            },
            "baxis": {
             "endlinecolor": "#2a3f5f",
             "gridcolor": "#C8D4E3",
             "linecolor": "#C8D4E3",
             "minorgridcolor": "#C8D4E3",
             "startlinecolor": "#2a3f5f"
            },
            "type": "carpet"
           }
          ],
          "choropleth": [
           {
            "colorbar": {
             "outlinewidth": 0,
             "ticks": ""
            },
            "type": "choropleth"
           }
          ],
          "contour": [
           {
            "colorbar": {
             "outlinewidth": 0,
             "ticks": ""
            },
            "colorscale": [
             [
              0,
              "#0d0887"
             ],
             [
              0.1111111111111111,
              "#46039f"
             ],
             [
              0.2222222222222222,
              "#7201a8"
             ],
             [
              0.3333333333333333,
              "#9c179e"
             ],
             [
              0.4444444444444444,
              "#bd3786"
             ],
             [
              0.5555555555555556,
              "#d8576b"
             ],
             [
              0.6666666666666666,
              "#ed7953"
             ],
             [
              0.7777777777777778,
              "#fb9f3a"
             ],
             [
              0.8888888888888888,
              "#fdca26"
             ],
             [
              1,
              "#f0f921"
             ]
            ],
            "type": "contour"
           }
          ],
          "contourcarpet": [
           {
            "colorbar": {
             "outlinewidth": 0,
             "ticks": ""
            },
            "type": "contourcarpet"
           }
          ],
          "heatmap": [
           {
            "colorbar": {
             "outlinewidth": 0,
             "ticks": ""
            },
            "colorscale": [
             [
              0,
              "#0d0887"
             ],
             [
              0.1111111111111111,
              "#46039f"
             ],
             [
              0.2222222222222222,
              "#7201a8"
             ],
             [
              0.3333333333333333,
              "#9c179e"
             ],
             [
              0.4444444444444444,
              "#bd3786"
             ],
             [
              0.5555555555555556,
              "#d8576b"
             ],
             [
              0.6666666666666666,
              "#ed7953"
             ],
             [
              0.7777777777777778,
              "#fb9f3a"
             ],
             [
              0.8888888888888888,
              "#fdca26"
             ],
             [
              1,
              "#f0f921"
             ]
            ],
            "type": "heatmap"
           }
          ],
          "heatmapgl": [
           {
            "colorbar": {
             "outlinewidth": 0,
             "ticks": ""
            },
            "colorscale": [
             [
              0,
              "#0d0887"
             ],
             [
              0.1111111111111111,
              "#46039f"
             ],
             [
              0.2222222222222222,
              "#7201a8"
             ],
             [
              0.3333333333333333,
              "#9c179e"
             ],
             [
              0.4444444444444444,
              "#bd3786"
             ],
             [
              0.5555555555555556,
              "#d8576b"
             ],
             [
              0.6666666666666666,
              "#ed7953"
             ],
             [
              0.7777777777777778,
              "#fb9f3a"
             ],
             [
              0.8888888888888888,
              "#fdca26"
             ],
             [
              1,
              "#f0f921"
             ]
            ],
            "type": "heatmapgl"
           }
          ],
          "histogram": [
           {
            "marker": {
             "pattern": {
              "fillmode": "overlay",
              "size": 10,
              "solidity": 0.2
             }
            },
            "type": "histogram"
           }
          ],
          "histogram2d": [
           {
            "colorbar": {
             "outlinewidth": 0,
             "ticks": ""
            },
            "colorscale": [
             [
              0,
              "#0d0887"
             ],
             [
              0.1111111111111111,
              "#46039f"
             ],
             [
              0.2222222222222222,
              "#7201a8"
             ],
             [
              0.3333333333333333,
              "#9c179e"
             ],
             [
              0.4444444444444444,
              "#bd3786"
             ],
             [
              0.5555555555555556,
              "#d8576b"
             ],
             [
              0.6666666666666666,
              "#ed7953"
             ],
             [
              0.7777777777777778,
              "#fb9f3a"
             ],
             [
              0.8888888888888888,
              "#fdca26"
             ],
             [
              1,
              "#f0f921"
             ]
            ],
            "type": "histogram2d"
           }
          ],
          "histogram2dcontour": [
           {
            "colorbar": {
             "outlinewidth": 0,
             "ticks": ""
            },
            "colorscale": [
             [
              0,
              "#0d0887"
             ],
             [
              0.1111111111111111,
              "#46039f"
             ],
             [
              0.2222222222222222,
              "#7201a8"
             ],
             [
              0.3333333333333333,
              "#9c179e"
             ],
             [
              0.4444444444444444,
              "#bd3786"
             ],
             [
              0.5555555555555556,
              "#d8576b"
             ],
             [
              0.6666666666666666,
              "#ed7953"
             ],
             [
              0.7777777777777778,
              "#fb9f3a"
             ],
             [
              0.8888888888888888,
              "#fdca26"
             ],
             [
              1,
              "#f0f921"
             ]
            ],
            "type": "histogram2dcontour"
           }
          ],
          "mesh3d": [
           {
            "colorbar": {
             "outlinewidth": 0,
             "ticks": ""
            },
            "type": "mesh3d"
           }
          ],
          "parcoords": [
           {
            "line": {
             "colorbar": {
              "outlinewidth": 0,
              "ticks": ""
             }
            },
            "type": "parcoords"
           }
          ],
          "pie": [
           {
            "automargin": true,
            "type": "pie"
           }
          ],
          "scatter": [
           {
            "fillpattern": {
             "fillmode": "overlay",
             "size": 10,
             "solidity": 0.2
            },
            "type": "scatter"
           }
          ],
          "scatter3d": [
           {
            "line": {
             "colorbar": {
              "outlinewidth": 0,
              "ticks": ""
             }
            },
            "marker": {
             "colorbar": {
              "outlinewidth": 0,
              "ticks": ""
             }
            },
            "type": "scatter3d"
           }
          ],
          "scattercarpet": [
           {
            "marker": {
             "colorbar": {
              "outlinewidth": 0,
              "ticks": ""
             }
            },
            "type": "scattercarpet"
           }
          ],
          "scattergeo": [
           {
            "marker": {
             "colorbar": {
              "outlinewidth": 0,
              "ticks": ""
             }
            },
            "type": "scattergeo"
           }
          ],
          "scattergl": [
           {
            "marker": {
             "colorbar": {
              "outlinewidth": 0,
              "ticks": ""
             }
            },
            "type": "scattergl"
           }
          ],
          "scattermapbox": [
           {
            "marker": {
             "colorbar": {
              "outlinewidth": 0,
              "ticks": ""
             }
            },
            "type": "scattermapbox"
           }
          ],
          "scatterpolar": [
           {
            "marker": {
             "colorbar": {
              "outlinewidth": 0,
              "ticks": ""
             }
            },
            "type": "scatterpolar"
           }
          ],
          "scatterpolargl": [
           {
            "marker": {
             "colorbar": {
              "outlinewidth": 0,
              "ticks": ""
             }
            },
            "type": "scatterpolargl"
           }
          ],
          "scatterternary": [
           {
            "marker": {
             "colorbar": {
              "outlinewidth": 0,
              "ticks": ""
             }
            },
            "type": "scatterternary"
           }
          ],
          "surface": [
           {
            "colorbar": {
             "outlinewidth": 0,
             "ticks": ""
            },
            "colorscale": [
             [
              0,
              "#0d0887"
             ],
             [
              0.1111111111111111,
              "#46039f"
             ],
             [
              0.2222222222222222,
              "#7201a8"
             ],
             [
              0.3333333333333333,
              "#9c179e"
             ],
             [
              0.4444444444444444,
              "#bd3786"
             ],
             [
              0.5555555555555556,
              "#d8576b"
             ],
             [
              0.6666666666666666,
              "#ed7953"
             ],
             [
              0.7777777777777778,
              "#fb9f3a"
             ],
             [
              0.8888888888888888,
              "#fdca26"
             ],
             [
              1,
              "#f0f921"
             ]
            ],
            "type": "surface"
           }
          ],
          "table": [
           {
            "cells": {
             "fill": {
              "color": "#EBF0F8"
             },
             "line": {
              "color": "white"
             }
            },
            "header": {
             "fill": {
              "color": "#C8D4E3"
             },
             "line": {
              "color": "white"
             }
            },
            "type": "table"
           }
          ]
         },
         "layout": {
          "annotationdefaults": {
           "arrowcolor": "#2a3f5f",
           "arrowhead": 0,
           "arrowwidth": 1
          },
          "autotypenumbers": "strict",
          "coloraxis": {
           "colorbar": {
            "outlinewidth": 0,
            "ticks": ""
           }
          },
          "colorscale": {
           "diverging": [
            [
             0,
             "#8e0152"
            ],
            [
             0.1,
             "#c51b7d"
            ],
            [
             0.2,
             "#de77ae"
            ],
            [
             0.3,
             "#f1b6da"
            ],
            [
             0.4,
             "#fde0ef"
            ],
            [
             0.5,
             "#f7f7f7"
            ],
            [
             0.6,
             "#e6f5d0"
            ],
            [
             0.7,
             "#b8e186"
            ],
            [
             0.8,
             "#7fbc41"
            ],
            [
             0.9,
             "#4d9221"
            ],
            [
             1,
             "#276419"
            ]
           ],
           "sequential": [
            [
             0,
             "#0d0887"
            ],
            [
             0.1111111111111111,
             "#46039f"
            ],
            [
             0.2222222222222222,
             "#7201a8"
            ],
            [
             0.3333333333333333,
             "#9c179e"
            ],
            [
             0.4444444444444444,
             "#bd3786"
            ],
            [
             0.5555555555555556,
             "#d8576b"
            ],
            [
             0.6666666666666666,
             "#ed7953"
            ],
            [
             0.7777777777777778,
             "#fb9f3a"
            ],
            [
             0.8888888888888888,
             "#fdca26"
            ],
            [
             1,
             "#f0f921"
            ]
           ],
           "sequentialminus": [
            [
             0,
             "#0d0887"
            ],
            [
             0.1111111111111111,
             "#46039f"
            ],
            [
             0.2222222222222222,
             "#7201a8"
            ],
            [
             0.3333333333333333,
             "#9c179e"
            ],
            [
             0.4444444444444444,
             "#bd3786"
            ],
            [
             0.5555555555555556,
             "#d8576b"
            ],
            [
             0.6666666666666666,
             "#ed7953"
            ],
            [
             0.7777777777777778,
             "#fb9f3a"
            ],
            [
             0.8888888888888888,
             "#fdca26"
            ],
            [
             1,
             "#f0f921"
            ]
           ]
          },
          "colorway": [
           "#636efa",
           "#EF553B",
           "#00cc96",
           "#ab63fa",
           "#FFA15A",
           "#19d3f3",
           "#FF6692",
           "#B6E880",
           "#FF97FF",
           "#FECB52"
          ],
          "font": {
           "color": "#2a3f5f"
          },
          "geo": {
           "bgcolor": "white",
           "lakecolor": "white",
           "landcolor": "white",
           "showlakes": true,
           "showland": true,
           "subunitcolor": "#C8D4E3"
          },
          "hoverlabel": {
           "align": "left"
          },
          "hovermode": "closest",
          "mapbox": {
           "style": "light"
          },
          "paper_bgcolor": "white",
          "plot_bgcolor": "white",
          "polar": {
           "angularaxis": {
            "gridcolor": "#EBF0F8",
            "linecolor": "#EBF0F8",
            "ticks": ""
           },
           "bgcolor": "white",
           "radialaxis": {
            "gridcolor": "#EBF0F8",
            "linecolor": "#EBF0F8",
            "ticks": ""
           }
          },
          "scene": {
           "xaxis": {
            "backgroundcolor": "white",
            "gridcolor": "#DFE8F3",
            "gridwidth": 2,
            "linecolor": "#EBF0F8",
            "showbackground": true,
            "ticks": "",
            "zerolinecolor": "#EBF0F8"
           },
           "yaxis": {
            "backgroundcolor": "white",
            "gridcolor": "#DFE8F3",
            "gridwidth": 2,
            "linecolor": "#EBF0F8",
            "showbackground": true,
            "ticks": "",
            "zerolinecolor": "#EBF0F8"
           },
           "zaxis": {
            "backgroundcolor": "white",
            "gridcolor": "#DFE8F3",
            "gridwidth": 2,
            "linecolor": "#EBF0F8",
            "showbackground": true,
            "ticks": "",
            "zerolinecolor": "#EBF0F8"
           }
          },
          "shapedefaults": {
           "line": {
            "color": "#2a3f5f"
           }
          },
          "ternary": {
           "aaxis": {
            "gridcolor": "#DFE8F3",
            "linecolor": "#A2B1C6",
            "ticks": ""
           },
           "baxis": {
            "gridcolor": "#DFE8F3",
            "linecolor": "#A2B1C6",
            "ticks": ""
           },
           "bgcolor": "white",
           "caxis": {
            "gridcolor": "#DFE8F3",
            "linecolor": "#A2B1C6",
            "ticks": ""
           }
          },
          "title": {
           "x": 0.05
          },
          "xaxis": {
           "automargin": true,
           "gridcolor": "#EBF0F8",
           "linecolor": "#EBF0F8",
           "ticks": "",
           "title": {
            "standoff": 15
           },
           "zerolinecolor": "#EBF0F8",
           "zerolinewidth": 2
          },
          "yaxis": {
           "automargin": true,
           "gridcolor": "#EBF0F8",
           "linecolor": "#EBF0F8",
           "ticks": "",
           "title": {
            "standoff": 15
           },
           "zerolinecolor": "#EBF0F8",
           "zerolinewidth": 2
          }
         }
        },
        "title": {
         "font": {
          "color": "Black",
          "size": 22
         },
         "text": "Topic Word Scores",
         "x": 0.5,
         "xanchor": "center",
         "yanchor": "top"
        },
        "width": 1000,
        "xaxis": {
         "anchor": "y",
         "domain": [
          0,
          0.175
         ],
         "showgrid": true
        },
        "xaxis2": {
         "anchor": "y2",
         "domain": [
          0.275,
          0.45
         ],
         "showgrid": true
        },
        "xaxis3": {
         "anchor": "y3",
         "domain": [
          0.55,
          0.7250000000000001
         ],
         "showgrid": true
        },
        "xaxis4": {
         "anchor": "y4",
         "domain": [
          0.825,
          1
         ],
         "showgrid": true
        },
        "xaxis5": {
         "anchor": "y5",
         "domain": [
          0,
          0.175
         ],
         "showgrid": true
        },
        "xaxis6": {
         "anchor": "y6",
         "domain": [
          0.275,
          0.45
         ],
         "showgrid": true
        },
        "xaxis7": {
         "anchor": "y7",
         "domain": [
          0.55,
          0.7250000000000001
         ],
         "showgrid": true
        },
        "xaxis8": {
         "anchor": "y8",
         "domain": [
          0.825,
          1
         ],
         "showgrid": true
        },
        "yaxis": {
         "anchor": "x",
         "domain": [
          0.6000000000000001,
          1
         ],
         "showgrid": true
        },
        "yaxis2": {
         "anchor": "x2",
         "domain": [
          0.6000000000000001,
          1
         ],
         "showgrid": true
        },
        "yaxis3": {
         "anchor": "x3",
         "domain": [
          0.6000000000000001,
          1
         ],
         "showgrid": true
        },
        "yaxis4": {
         "anchor": "x4",
         "domain": [
          0.6000000000000001,
          1
         ],
         "showgrid": true
        },
        "yaxis5": {
         "anchor": "x5",
         "domain": [
          0,
          0.4
         ],
         "showgrid": true
        },
        "yaxis6": {
         "anchor": "x6",
         "domain": [
          0,
          0.4
         ],
         "showgrid": true
        },
        "yaxis7": {
         "anchor": "x7",
         "domain": [
          0,
          0.4
         ],
         "showgrid": true
        },
        "yaxis8": {
         "anchor": "x8",
         "domain": [
          0,
          0.4
         ],
         "showgrid": true
        }
       }
      },
      "text/html": [
       "<div>                            <div id=\"3396c050-fafa-4ae0-8a1d-b1b05d90f9e8\" class=\"plotly-graph-div\" style=\"height:500px; width:1000px;\"></div>            <script type=\"text/javascript\">                require([\"plotly\"], function(Plotly) {                    window.PLOTLYENV=window.PLOTLYENV || {};                                    if (document.getElementById(\"3396c050-fafa-4ae0-8a1d-b1b05d90f9e8\")) {                    Plotly.newPlot(                        \"3396c050-fafa-4ae0-8a1d-b1b05d90f9e8\",                        [{\"marker\":{\"color\":\"#D55E00\"},\"orientation\":\"h\",\"x\":[0.02984143221130829,0.031147223276362265,0.03198777380601408,0.03206754788531549,0.039914139250551615],\"y\":[\"the  \",\"and  \",\"it  \",\"this  \",\"game  \"],\"type\":\"bar\",\"xaxis\":\"x\",\"yaxis\":\"y\"},{\"marker\":{\"color\":\"#0072B2\"},\"orientation\":\"h\",\"x\":[0.029516209664526873,0.02967661488979963,0.03173545542162658,0.03285479857482124,0.03649365579946549],\"y\":[\"you  \",\"to  \",\"and  \",\"the  \",\"terraria  \"],\"type\":\"bar\",\"xaxis\":\"x2\",\"yaxis\":\"y2\"},{\"marker\":{\"color\":\"#CC79A7\"},\"orientation\":\"h\",\"x\":[0.03076238509893936,0.030877856206873083,0.03109665283675844,0.03120384730886934,0.04779896813658242],\"y\":[\"it  \",\"this  \",\"game  \",\"and  \",\"minecraft  \"],\"type\":\"bar\",\"xaxis\":\"x3\",\"yaxis\":\"y3\"},{\"marker\":{\"color\":\"#E69F00\"},\"orientation\":\"h\",\"x\":[0.050199963719748206,0.056006404981193816,0.058284809205286885,0.0787544230933045,0.11495664115342163],\"y\":[\"ever  \",\"great  \",\"best  \",\"this  \",\"game  \"],\"type\":\"bar\",\"xaxis\":\"x4\",\"yaxis\":\"y4\"},{\"marker\":{\"color\":\"#56B4E9\"},\"orientation\":\"h\",\"x\":[0.027797617406186543,0.02849354966342216,0.02910883249086404,0.035504313440383184,0.08272701078209868],\"y\":[\"the  \",\"would  \",\"killed  \",\"again  \",\"10  \"],\"type\":\"bar\",\"xaxis\":\"x5\",\"yaxis\":\"y5\"}],                        {\"template\":{\"data\":{\"barpolar\":[{\"marker\":{\"line\":{\"color\":\"white\",\"width\":0.5},\"pattern\":{\"fillmode\":\"overlay\",\"size\":10,\"solidity\":0.2}},\"type\":\"barpolar\"}],\"bar\":[{\"error_x\":{\"color\":\"#2a3f5f\"},\"error_y\":{\"color\":\"#2a3f5f\"},\"marker\":{\"line\":{\"color\":\"white\",\"width\":0.5},\"pattern\":{\"fillmode\":\"overlay\",\"size\":10,\"solidity\":0.2}},\"type\":\"bar\"}],\"carpet\":[{\"aaxis\":{\"endlinecolor\":\"#2a3f5f\",\"gridcolor\":\"#C8D4E3\",\"linecolor\":\"#C8D4E3\",\"minorgridcolor\":\"#C8D4E3\",\"startlinecolor\":\"#2a3f5f\"},\"baxis\":{\"endlinecolor\":\"#2a3f5f\",\"gridcolor\":\"#C8D4E3\",\"linecolor\":\"#C8D4E3\",\"minorgridcolor\":\"#C8D4E3\",\"startlinecolor\":\"#2a3f5f\"},\"type\":\"carpet\"}],\"choropleth\":[{\"colorbar\":{\"outlinewidth\":0,\"ticks\":\"\"},\"type\":\"choropleth\"}],\"contourcarpet\":[{\"colorbar\":{\"outlinewidth\":0,\"ticks\":\"\"},\"type\":\"contourcarpet\"}],\"contour\":[{\"colorbar\":{\"outlinewidth\":0,\"ticks\":\"\"},\"colorscale\":[[0.0,\"#0d0887\"],[0.1111111111111111,\"#46039f\"],[0.2222222222222222,\"#7201a8\"],[0.3333333333333333,\"#9c179e\"],[0.4444444444444444,\"#bd3786\"],[0.5555555555555556,\"#d8576b\"],[0.6666666666666666,\"#ed7953\"],[0.7777777777777778,\"#fb9f3a\"],[0.8888888888888888,\"#fdca26\"],[1.0,\"#f0f921\"]],\"type\":\"contour\"}],\"heatmapgl\":[{\"colorbar\":{\"outlinewidth\":0,\"ticks\":\"\"},\"colorscale\":[[0.0,\"#0d0887\"],[0.1111111111111111,\"#46039f\"],[0.2222222222222222,\"#7201a8\"],[0.3333333333333333,\"#9c179e\"],[0.4444444444444444,\"#bd3786\"],[0.5555555555555556,\"#d8576b\"],[0.6666666666666666,\"#ed7953\"],[0.7777777777777778,\"#fb9f3a\"],[0.8888888888888888,\"#fdca26\"],[1.0,\"#f0f921\"]],\"type\":\"heatmapgl\"}],\"heatmap\":[{\"colorbar\":{\"outlinewidth\":0,\"ticks\":\"\"},\"colorscale\":[[0.0,\"#0d0887\"],[0.1111111111111111,\"#46039f\"],[0.2222222222222222,\"#7201a8\"],[0.3333333333333333,\"#9c179e\"],[0.4444444444444444,\"#bd3786\"],[0.5555555555555556,\"#d8576b\"],[0.6666666666666666,\"#ed7953\"],[0.7777777777777778,\"#fb9f3a\"],[0.8888888888888888,\"#fdca26\"],[1.0,\"#f0f921\"]],\"type\":\"heatmap\"}],\"histogram2dcontour\":[{\"colorbar\":{\"outlinewidth\":0,\"ticks\":\"\"},\"colorscale\":[[0.0,\"#0d0887\"],[0.1111111111111111,\"#46039f\"],[0.2222222222222222,\"#7201a8\"],[0.3333333333333333,\"#9c179e\"],[0.4444444444444444,\"#bd3786\"],[0.5555555555555556,\"#d8576b\"],[0.6666666666666666,\"#ed7953\"],[0.7777777777777778,\"#fb9f3a\"],[0.8888888888888888,\"#fdca26\"],[1.0,\"#f0f921\"]],\"type\":\"histogram2dcontour\"}],\"histogram2d\":[{\"colorbar\":{\"outlinewidth\":0,\"ticks\":\"\"},\"colorscale\":[[0.0,\"#0d0887\"],[0.1111111111111111,\"#46039f\"],[0.2222222222222222,\"#7201a8\"],[0.3333333333333333,\"#9c179e\"],[0.4444444444444444,\"#bd3786\"],[0.5555555555555556,\"#d8576b\"],[0.6666666666666666,\"#ed7953\"],[0.7777777777777778,\"#fb9f3a\"],[0.8888888888888888,\"#fdca26\"],[1.0,\"#f0f921\"]],\"type\":\"histogram2d\"}],\"histogram\":[{\"marker\":{\"pattern\":{\"fillmode\":\"overlay\",\"size\":10,\"solidity\":0.2}},\"type\":\"histogram\"}],\"mesh3d\":[{\"colorbar\":{\"outlinewidth\":0,\"ticks\":\"\"},\"type\":\"mesh3d\"}],\"parcoords\":[{\"line\":{\"colorbar\":{\"outlinewidth\":0,\"ticks\":\"\"}},\"type\":\"parcoords\"}],\"pie\":[{\"automargin\":true,\"type\":\"pie\"}],\"scatter3d\":[{\"line\":{\"colorbar\":{\"outlinewidth\":0,\"ticks\":\"\"}},\"marker\":{\"colorbar\":{\"outlinewidth\":0,\"ticks\":\"\"}},\"type\":\"scatter3d\"}],\"scattercarpet\":[{\"marker\":{\"colorbar\":{\"outlinewidth\":0,\"ticks\":\"\"}},\"type\":\"scattercarpet\"}],\"scattergeo\":[{\"marker\":{\"colorbar\":{\"outlinewidth\":0,\"ticks\":\"\"}},\"type\":\"scattergeo\"}],\"scattergl\":[{\"marker\":{\"colorbar\":{\"outlinewidth\":0,\"ticks\":\"\"}},\"type\":\"scattergl\"}],\"scattermapbox\":[{\"marker\":{\"colorbar\":{\"outlinewidth\":0,\"ticks\":\"\"}},\"type\":\"scattermapbox\"}],\"scatterpolargl\":[{\"marker\":{\"colorbar\":{\"outlinewidth\":0,\"ticks\":\"\"}},\"type\":\"scatterpolargl\"}],\"scatterpolar\":[{\"marker\":{\"colorbar\":{\"outlinewidth\":0,\"ticks\":\"\"}},\"type\":\"scatterpolar\"}],\"scatter\":[{\"fillpattern\":{\"fillmode\":\"overlay\",\"size\":10,\"solidity\":0.2},\"type\":\"scatter\"}],\"scatterternary\":[{\"marker\":{\"colorbar\":{\"outlinewidth\":0,\"ticks\":\"\"}},\"type\":\"scatterternary\"}],\"surface\":[{\"colorbar\":{\"outlinewidth\":0,\"ticks\":\"\"},\"colorscale\":[[0.0,\"#0d0887\"],[0.1111111111111111,\"#46039f\"],[0.2222222222222222,\"#7201a8\"],[0.3333333333333333,\"#9c179e\"],[0.4444444444444444,\"#bd3786\"],[0.5555555555555556,\"#d8576b\"],[0.6666666666666666,\"#ed7953\"],[0.7777777777777778,\"#fb9f3a\"],[0.8888888888888888,\"#fdca26\"],[1.0,\"#f0f921\"]],\"type\":\"surface\"}],\"table\":[{\"cells\":{\"fill\":{\"color\":\"#EBF0F8\"},\"line\":{\"color\":\"white\"}},\"header\":{\"fill\":{\"color\":\"#C8D4E3\"},\"line\":{\"color\":\"white\"}},\"type\":\"table\"}]},\"layout\":{\"annotationdefaults\":{\"arrowcolor\":\"#2a3f5f\",\"arrowhead\":0,\"arrowwidth\":1},\"autotypenumbers\":\"strict\",\"coloraxis\":{\"colorbar\":{\"outlinewidth\":0,\"ticks\":\"\"}},\"colorscale\":{\"diverging\":[[0,\"#8e0152\"],[0.1,\"#c51b7d\"],[0.2,\"#de77ae\"],[0.3,\"#f1b6da\"],[0.4,\"#fde0ef\"],[0.5,\"#f7f7f7\"],[0.6,\"#e6f5d0\"],[0.7,\"#b8e186\"],[0.8,\"#7fbc41\"],[0.9,\"#4d9221\"],[1,\"#276419\"]],\"sequential\":[[0.0,\"#0d0887\"],[0.1111111111111111,\"#46039f\"],[0.2222222222222222,\"#7201a8\"],[0.3333333333333333,\"#9c179e\"],[0.4444444444444444,\"#bd3786\"],[0.5555555555555556,\"#d8576b\"],[0.6666666666666666,\"#ed7953\"],[0.7777777777777778,\"#fb9f3a\"],[0.8888888888888888,\"#fdca26\"],[1.0,\"#f0f921\"]],\"sequentialminus\":[[0.0,\"#0d0887\"],[0.1111111111111111,\"#46039f\"],[0.2222222222222222,\"#7201a8\"],[0.3333333333333333,\"#9c179e\"],[0.4444444444444444,\"#bd3786\"],[0.5555555555555556,\"#d8576b\"],[0.6666666666666666,\"#ed7953\"],[0.7777777777777778,\"#fb9f3a\"],[0.8888888888888888,\"#fdca26\"],[1.0,\"#f0f921\"]]},\"colorway\":[\"#636efa\",\"#EF553B\",\"#00cc96\",\"#ab63fa\",\"#FFA15A\",\"#19d3f3\",\"#FF6692\",\"#B6E880\",\"#FF97FF\",\"#FECB52\"],\"font\":{\"color\":\"#2a3f5f\"},\"geo\":{\"bgcolor\":\"white\",\"lakecolor\":\"white\",\"landcolor\":\"white\",\"showlakes\":true,\"showland\":true,\"subunitcolor\":\"#C8D4E3\"},\"hoverlabel\":{\"align\":\"left\"},\"hovermode\":\"closest\",\"mapbox\":{\"style\":\"light\"},\"paper_bgcolor\":\"white\",\"plot_bgcolor\":\"white\",\"polar\":{\"angularaxis\":{\"gridcolor\":\"#EBF0F8\",\"linecolor\":\"#EBF0F8\",\"ticks\":\"\"},\"bgcolor\":\"white\",\"radialaxis\":{\"gridcolor\":\"#EBF0F8\",\"linecolor\":\"#EBF0F8\",\"ticks\":\"\"}},\"scene\":{\"xaxis\":{\"backgroundcolor\":\"white\",\"gridcolor\":\"#DFE8F3\",\"gridwidth\":2,\"linecolor\":\"#EBF0F8\",\"showbackground\":true,\"ticks\":\"\",\"zerolinecolor\":\"#EBF0F8\"},\"yaxis\":{\"backgroundcolor\":\"white\",\"gridcolor\":\"#DFE8F3\",\"gridwidth\":2,\"linecolor\":\"#EBF0F8\",\"showbackground\":true,\"ticks\":\"\",\"zerolinecolor\":\"#EBF0F8\"},\"zaxis\":{\"backgroundcolor\":\"white\",\"gridcolor\":\"#DFE8F3\",\"gridwidth\":2,\"linecolor\":\"#EBF0F8\",\"showbackground\":true,\"ticks\":\"\",\"zerolinecolor\":\"#EBF0F8\"}},\"shapedefaults\":{\"line\":{\"color\":\"#2a3f5f\"}},\"ternary\":{\"aaxis\":{\"gridcolor\":\"#DFE8F3\",\"linecolor\":\"#A2B1C6\",\"ticks\":\"\"},\"baxis\":{\"gridcolor\":\"#DFE8F3\",\"linecolor\":\"#A2B1C6\",\"ticks\":\"\"},\"bgcolor\":\"white\",\"caxis\":{\"gridcolor\":\"#DFE8F3\",\"linecolor\":\"#A2B1C6\",\"ticks\":\"\"}},\"title\":{\"x\":0.05},\"xaxis\":{\"automargin\":true,\"gridcolor\":\"#EBF0F8\",\"linecolor\":\"#EBF0F8\",\"ticks\":\"\",\"title\":{\"standoff\":15},\"zerolinecolor\":\"#EBF0F8\",\"zerolinewidth\":2},\"yaxis\":{\"automargin\":true,\"gridcolor\":\"#EBF0F8\",\"linecolor\":\"#EBF0F8\",\"ticks\":\"\",\"title\":{\"standoff\":15},\"zerolinecolor\":\"#EBF0F8\",\"zerolinewidth\":2}}},\"xaxis\":{\"anchor\":\"y\",\"domain\":[0.0,0.175],\"showgrid\":true},\"yaxis\":{\"anchor\":\"x\",\"domain\":[0.6000000000000001,1.0],\"showgrid\":true},\"xaxis2\":{\"anchor\":\"y2\",\"domain\":[0.275,0.45],\"showgrid\":true},\"yaxis2\":{\"anchor\":\"x2\",\"domain\":[0.6000000000000001,1.0],\"showgrid\":true},\"xaxis3\":{\"anchor\":\"y3\",\"domain\":[0.55,0.7250000000000001],\"showgrid\":true},\"yaxis3\":{\"anchor\":\"x3\",\"domain\":[0.6000000000000001,1.0],\"showgrid\":true},\"xaxis4\":{\"anchor\":\"y4\",\"domain\":[0.825,1.0],\"showgrid\":true},\"yaxis4\":{\"anchor\":\"x4\",\"domain\":[0.6000000000000001,1.0],\"showgrid\":true},\"xaxis5\":{\"anchor\":\"y5\",\"domain\":[0.0,0.175],\"showgrid\":true},\"yaxis5\":{\"anchor\":\"x5\",\"domain\":[0.0,0.4],\"showgrid\":true},\"xaxis6\":{\"anchor\":\"y6\",\"domain\":[0.275,0.45],\"showgrid\":true},\"yaxis6\":{\"anchor\":\"x6\",\"domain\":[0.0,0.4],\"showgrid\":true},\"xaxis7\":{\"anchor\":\"y7\",\"domain\":[0.55,0.7250000000000001],\"showgrid\":true},\"yaxis7\":{\"anchor\":\"x7\",\"domain\":[0.0,0.4],\"showgrid\":true},\"xaxis8\":{\"anchor\":\"y8\",\"domain\":[0.825,1.0],\"showgrid\":true},\"yaxis8\":{\"anchor\":\"x8\",\"domain\":[0.0,0.4],\"showgrid\":true},\"annotations\":[{\"font\":{\"size\":16},\"showarrow\":false,\"text\":\"Topic 0\",\"x\":0.0875,\"xanchor\":\"center\",\"xref\":\"paper\",\"y\":1.0,\"yanchor\":\"bottom\",\"yref\":\"paper\"},{\"font\":{\"size\":16},\"showarrow\":false,\"text\":\"Topic 1\",\"x\":0.36250000000000004,\"xanchor\":\"center\",\"xref\":\"paper\",\"y\":1.0,\"yanchor\":\"bottom\",\"yref\":\"paper\"},{\"font\":{\"size\":16},\"showarrow\":false,\"text\":\"Topic 2\",\"x\":0.6375000000000001,\"xanchor\":\"center\",\"xref\":\"paper\",\"y\":1.0,\"yanchor\":\"bottom\",\"yref\":\"paper\"},{\"font\":{\"size\":16},\"showarrow\":false,\"text\":\"Topic 3\",\"x\":0.9125,\"xanchor\":\"center\",\"xref\":\"paper\",\"y\":1.0,\"yanchor\":\"bottom\",\"yref\":\"paper\"},{\"font\":{\"size\":16},\"showarrow\":false,\"text\":\"Topic 4\",\"x\":0.0875,\"xanchor\":\"center\",\"xref\":\"paper\",\"y\":0.4,\"yanchor\":\"bottom\",\"yref\":\"paper\"}],\"title\":{\"font\":{\"size\":22,\"color\":\"Black\"},\"text\":\"Topic Word Scores\",\"x\":0.5,\"xanchor\":\"center\",\"yanchor\":\"top\"},\"hoverlabel\":{\"font\":{\"size\":16,\"family\":\"Rockwell\"},\"bgcolor\":\"white\"},\"showlegend\":false,\"width\":1000,\"height\":500},                        {\"responsive\": true}                    ).then(function(){\n",
       "                            \n",
       "var gd = document.getElementById('3396c050-fafa-4ae0-8a1d-b1b05d90f9e8');\n",
       "var x = new MutationObserver(function (mutations, observer) {{\n",
       "        var display = window.getComputedStyle(gd).display;\n",
       "        if (!display || display === 'none') {{\n",
       "            console.log([gd, 'removed!']);\n",
       "            Plotly.purge(gd);\n",
       "            observer.disconnect();\n",
       "        }}\n",
       "}});\n",
       "\n",
       "// Listen for the removal of the full notebook cells\n",
       "var notebookContainer = gd.closest('#notebook-container');\n",
       "if (notebookContainer) {{\n",
       "    x.observe(notebookContainer, {childList: true});\n",
       "}}\n",
       "\n",
       "// Listen for the clearing of the current output cell\n",
       "var outputEl = gd.closest('.output');\n",
       "if (outputEl) {{\n",
       "    x.observe(outputEl, {childList: true});\n",
       "}}\n",
       "\n",
       "                        })                };                });            </script>        </div>"
      ]
     },
     "metadata": {},
     "output_type": "display_data"
    }
   ],
   "source": [
    "# visualize selecteed terms for a few topics\n",
    "# creating bar charts out of the c-TF-IDF scores for each topic representation.\n",
    "\n",
    "topic_model.visualize_barchart(top_n_topics=5)"
   ]
  },
  {
   "cell_type": "code",
   "execution_count": 51,
   "metadata": {},
   "outputs": [
    {
     "data": {
      "application/vnd.plotly.v1+json": {
       "config": {
        "plotlyServerURL": "https://plot.ly"
       },
       "data": [
        {
         "coloraxis": "coloraxis",
         "hovertemplate": "x: %{x}<br>y: %{y}<br>Similarity Score: %{z}<extra></extra>",
         "name": "0",
         "type": "heatmap",
         "x": [
          "0_game_this_it",
          "1_terraria_the_and",
          "2_minecraft_and_game",
          "3_game_this_best",
          "5_my_it_but",
          "17_the_best_to",
          "4_10_again_killed",
          "15_moon_lord_the",
          "6_addictive_addicting_fun",
          "7_10_would_again",
          "8_good_ok_its",
          "9_bye_cool_slit",
          "12_awesome_love_it",
          "13_cool_fine_lines",
          "10_review_reviews_badgei",
          "14_buy_it_get",
          "11_mac_on_linux",
          "16_click_starbound_russific...",
          "18_epic_crust_pie",
          "19_slime_10_slimes"
         ],
         "xaxis": "x",
         "y": [
          "0_game_this_it",
          "1_terraria_the_and",
          "2_minecraft_and_game",
          "3_game_this_best",
          "5_my_it_but",
          "17_the_best_to",
          "4_10_again_killed",
          "15_moon_lord_the",
          "6_addictive_addicting_fun",
          "7_10_would_again",
          "8_good_ok_its",
          "9_bye_cool_slit",
          "12_awesome_love_it",
          "13_cool_fine_lines",
          "10_review_reviews_badgei",
          "14_buy_it_get",
          "11_mac_on_linux",
          "16_click_starbound_russific...",
          "18_epic_crust_pie",
          "19_slime_10_slimes"
         ],
         "yaxis": "y",
         "z": [
          [
           0.9999999999999996,
           0.9673049140967562,
           0.9731392336958731,
           0.9011796888902932,
           0.9509722310634248,
           0.9297776267373483,
           0.8556054581395168,
           0.8552300416599805,
           0.7387618269618615,
           0.6342979918438219,
           0.7651116591297853,
           0.7775578022440762,
           0.7922370336411722,
           0.7203422440939824,
           0.8372584964798966,
           0.8170588497494919,
           0.7753215538388543,
           0.6898705437506594,
           0.6218869342032405,
           0.6967395339344227
          ],
          [
           0.9673049140967562,
           1,
           0.9602274343608375,
           0.8555290509308799,
           0.9286401260187436,
           0.9304517320891361,
           0.8583998117250515,
           0.8579184107174664,
           0.6936350074911847,
           0.63100337728017,
           0.7599620664085167,
           0.7666758146801362,
           0.7750814356286977,
           0.7105473871133566,
           0.8042529713333058,
           0.790953438839971,
           0.7741713210790389,
           0.6768294251546996,
           0.624501767144423,
           0.7145861435806714
          ],
          [
           0.9731392336958731,
           0.9602274343608375,
           0.9999999999999996,
           0.8843524706398025,
           0.9382337294023442,
           0.9156035758899511,
           0.8495603679330119,
           0.8517679604225012,
           0.7164907899181412,
           0.63568457459714,
           0.7505958404586306,
           0.777677001310432,
           0.7825736527087045,
           0.7137031666186013,
           0.8230056665383713,
           0.7988536320119312,
           0.8065655699260932,
           0.6890380504907585,
           0.6309106441524259,
           0.6959371987367893
          ],
          [
           0.9011796888902932,
           0.8555290509308799,
           0.8843524706398025,
           0.9999999999999993,
           0.862174604075725,
           0.8490887060263201,
           0.8215201772791711,
           0.8229558245231778,
           0.7198921544708357,
           0.6806817538533493,
           0.8058660181797779,
           0.7815813167190845,
           0.8297154469568043,
           0.7619482526409379,
           0.8237310494925285,
           0.7861955041637565,
           0.7214205275079203,
           0.6441961837337846,
           0.6299260142927513,
           0.660555704861103
          ],
          [
           0.9509722310634248,
           0.9286401260187436,
           0.9382337294023442,
           0.862174604075725,
           1.0000000000000002,
           0.9066875949087515,
           0.8648861177800969,
           0.8434614515887919,
           0.686781436627738,
           0.6307221826481675,
           0.7920738574107307,
           0.7622711910595412,
           0.7835165582547956,
           0.7170893178162462,
           0.8051582565124955,
           0.8074762462949081,
           0.7836187283673766,
           0.6884325864305259,
           0.586613540568869,
           0.6820205520103859
          ],
          [
           0.9297776267373483,
           0.9304517320891361,
           0.9156035758899511,
           0.8490887060263201,
           0.9066875949087515,
           1.0000000000000002,
           0.8609779910969125,
           0.854414470838729,
           0.6631341882678581,
           0.6215991756434489,
           0.728166287732537,
           0.7520426796703875,
           0.7697193633021832,
           0.696000656688953,
           0.8016859188838419,
           0.7747809177700296,
           0.7506036307304687,
           0.6786790214169124,
           0.6371811847777383,
           0.7168180436889531
          ],
          [
           0.8556054581395168,
           0.8583998117250515,
           0.8495603679330119,
           0.8215201772791711,
           0.8648861177800969,
           0.8609779910969125,
           1.0000000000000004,
           0.8506885247367431,
           0.6351512931009851,
           0.8932178407896361,
           0.7680788780467149,
           0.7790227289571499,
           0.7538422744037558,
           0.7403152807024611,
           0.7662487935000287,
           0.7751163881585341,
           0.72541976333797,
           0.6583578525913615,
           0.6083055661896737,
           0.766559335493318
          ],
          [
           0.8552300416599805,
           0.8579184107174664,
           0.8517679604225012,
           0.8229558245231778,
           0.8434614515887919,
           0.854414470838729,
           0.8506885247367431,
           0.9999999999999996,
           0.6732853902286309,
           0.6760722294781192,
           0.6943487204717774,
           0.7392526071103913,
           0.721801258782099,
           0.6947661504843003,
           0.7731898879960178,
           0.7314318023213671,
           0.7441902581420365,
           0.6812149478820351,
           0.6798252935374226,
           0.7290989991292788
          ],
          [
           0.7387618269618615,
           0.6936350074911847,
           0.7164907899181412,
           0.7198921544708357,
           0.686781436627738,
           0.6631341882678581,
           0.6351512931009851,
           0.6732853902286309,
           1.0000000000000004,
           0.49336278752649415,
           0.5795358996578931,
           0.5978018380099596,
           0.62027178087468,
           0.5678217630390616,
           0.6515043088481671,
           0.6009887981757076,
           0.6127263645719023,
           0.5299892768399093,
           0.5681510516777857,
           0.5442393187812415
          ],
          [
           0.6342979918438219,
           0.63100337728017,
           0.63568457459714,
           0.6806817538533493,
           0.6307221826481675,
           0.6215991756434489,
           0.8932178407896361,
           0.6760722294781192,
           0.49336278752649415,
           1.0000000000000007,
           0.6403161600025944,
           0.6610582051106808,
           0.6071308105303522,
           0.645192324143459,
           0.6317592038004701,
           0.6380264480493367,
           0.5649572913097948,
           0.5494317645530133,
           0.5088038215970143,
           0.6519491961969579
          ],
          [
           0.7651116591297853,
           0.7599620664085167,
           0.7505958404586306,
           0.8058660181797779,
           0.7920738574107307,
           0.728166287732537,
           0.7680788780467149,
           0.6943487204717774,
           0.5795358996578931,
           0.6403161600025944,
           0.9999999999999993,
           0.7763882388187064,
           0.8417705676473992,
           0.78735596347371,
           0.6698845384811614,
           0.7298837547323225,
           0.623132139650235,
           0.5538344387790359,
           0.45886288851697987,
           0.5611568612683502
          ],
          [
           0.7775578022440762,
           0.7666758146801362,
           0.777677001310432,
           0.7815813167190845,
           0.7622711910595412,
           0.7520426796703875,
           0.7790227289571499,
           0.7392526071103913,
           0.5978018380099596,
           0.6610582051106808,
           0.7763882388187064,
           1.0000000000000009,
           0.763174589615965,
           0.7990913714947221,
           0.7125516927524886,
           0.7143141281232384,
           0.682072006852216,
           0.6359042551950302,
           0.5965129711250927,
           0.6643558995021823
          ],
          [
           0.7922370336411722,
           0.7750814356286977,
           0.7825736527087045,
           0.8297154469568043,
           0.7835165582547956,
           0.7697193633021832,
           0.7538422744037558,
           0.721801258782099,
           0.62027178087468,
           0.6071308105303522,
           0.8417705676473992,
           0.763174589615965,
           1,
           0.7941227231820356,
           0.7006468600209819,
           0.7219483160212898,
           0.6482593126723275,
           0.5744079097784811,
           0.5061827626306075,
           0.5680223432539774
          ],
          [
           0.7203422440939824,
           0.7105473871133566,
           0.7137031666186013,
           0.7619482526409379,
           0.7170893178162462,
           0.696000656688953,
           0.7403152807024611,
           0.6947661504843003,
           0.5678217630390616,
           0.645192324143459,
           0.78735596347371,
           0.7990913714947221,
           0.7941227231820356,
           1.0000000000000002,
           0.6806339228233282,
           0.7001714007587004,
           0.6381932782641518,
           0.5933444956386968,
           0.527893609641372,
           0.5762408382145535
          ],
          [
           0.8372584964798966,
           0.8042529713333058,
           0.8230056665383713,
           0.8237310494925285,
           0.8051582565124955,
           0.8016859188838419,
           0.7662487935000287,
           0.7731898879960178,
           0.6515043088481671,
           0.6317592038004701,
           0.6698845384811614,
           0.7125516927524886,
           0.7006468600209819,
           0.6806339228233282,
           0.9999999999999991,
           0.7594641882057609,
           0.6788288641147426,
           0.6445026417961137,
           0.6038660094902829,
           0.6359806078719732
          ],
          [
           0.8170588497494919,
           0.790953438839971,
           0.7988536320119312,
           0.7861955041637565,
           0.8074762462949081,
           0.7747809177700296,
           0.7751163881585341,
           0.7314318023213671,
           0.6009887981757076,
           0.6380264480493367,
           0.7298837547323225,
           0.7143141281232384,
           0.7219483160212898,
           0.7001714007587004,
           0.7594641882057609,
           1.0000000000000004,
           0.7214430228249863,
           0.6429007435671762,
           0.5284380056867366,
           0.6139061086338593
          ],
          [
           0.7753215538388543,
           0.7741713210790389,
           0.8065655699260932,
           0.7214205275079203,
           0.7836187283673766,
           0.7506036307304687,
           0.72541976333797,
           0.7441902581420365,
           0.6127263645719023,
           0.5649572913097948,
           0.623132139650235,
           0.682072006852216,
           0.6482593126723275,
           0.6381932782641518,
           0.6788288641147426,
           0.7214430228249863,
           1,
           0.6376727978761176,
           0.5594929844666597,
           0.6336445537501103
          ],
          [
           0.6898705437506594,
           0.6768294251546996,
           0.6890380504907585,
           0.6441961837337846,
           0.6884325864305259,
           0.6786790214169124,
           0.6583578525913615,
           0.6812149478820351,
           0.5299892768399093,
           0.5494317645530133,
           0.5538344387790359,
           0.6359042551950302,
           0.5744079097784811,
           0.5933444956386968,
           0.6445026417961137,
           0.6429007435671762,
           0.6376727978761176,
           0.9999999999999991,
           0.5487283439229556,
           0.5681690452267112
          ],
          [
           0.6218869342032405,
           0.624501767144423,
           0.6309106441524259,
           0.6299260142927513,
           0.586613540568869,
           0.6371811847777383,
           0.6083055661896737,
           0.6798252935374226,
           0.5681510516777857,
           0.5088038215970143,
           0.45886288851697987,
           0.5965129711250927,
           0.5061827626306075,
           0.527893609641372,
           0.6038660094902829,
           0.5284380056867366,
           0.5594929844666597,
           0.5487283439229556,
           1.0000000000000009,
           0.6840799388628718
          ],
          [
           0.6967395339344227,
           0.7145861435806714,
           0.6959371987367893,
           0.660555704861103,
           0.6820205520103859,
           0.7168180436889531,
           0.766559335493318,
           0.7290989991292788,
           0.5442393187812415,
           0.6519491961969579,
           0.5611568612683502,
           0.6643558995021823,
           0.5680223432539774,
           0.5762408382145535,
           0.6359806078719732,
           0.6139061086338593,
           0.6336445537501103,
           0.5681690452267112,
           0.6840799388628718,
           0.9999999999999998
          ]
         ]
        }
       ],
       "layout": {
        "coloraxis": {
         "colorbar": {
          "title": {
           "text": "Similarity Score"
          }
         },
         "colorscale": [
          [
           0,
           "rgb(247,252,240)"
          ],
          [
           0.125,
           "rgb(224,243,219)"
          ],
          [
           0.25,
           "rgb(204,235,197)"
          ],
          [
           0.375,
           "rgb(168,221,181)"
          ],
          [
           0.5,
           "rgb(123,204,196)"
          ],
          [
           0.625,
           "rgb(78,179,211)"
          ],
          [
           0.75,
           "rgb(43,140,190)"
          ],
          [
           0.875,
           "rgb(8,104,172)"
          ],
          [
           1,
           "rgb(8,64,129)"
          ]
         ]
        },
        "height": 1000,
        "hoverlabel": {
         "bgcolor": "white",
         "font": {
          "family": "Rockwell",
          "size": 16
         }
        },
        "legend": {
         "title": {
          "text": "Trend"
         }
        },
        "margin": {
         "t": 60
        },
        "showlegend": true,
        "template": {
         "data": {
          "bar": [
           {
            "error_x": {
             "color": "#2a3f5f"
            },
            "error_y": {
             "color": "#2a3f5f"
            },
            "marker": {
             "line": {
              "color": "#E5ECF6",
              "width": 0.5
             },
             "pattern": {
              "fillmode": "overlay",
              "size": 10,
              "solidity": 0.2
             }
            },
            "type": "bar"
           }
          ],
          "barpolar": [
           {
            "marker": {
             "line": {
              "color": "#E5ECF6",
              "width": 0.5
             },
             "pattern": {
              "fillmode": "overlay",
              "size": 10,
              "solidity": 0.2
             }
            },
            "type": "barpolar"
           }
          ],
          "carpet": [
           {
            "aaxis": {
             "endlinecolor": "#2a3f5f",
             "gridcolor": "white",
             "linecolor": "white",
             "minorgridcolor": "white",
             "startlinecolor": "#2a3f5f"
            },
            "baxis": {
             "endlinecolor": "#2a3f5f",
             "gridcolor": "white",
             "linecolor": "white",
             "minorgridcolor": "white",
             "startlinecolor": "#2a3f5f"
            },
            "type": "carpet"
           }
          ],
          "choropleth": [
           {
            "colorbar": {
             "outlinewidth": 0,
             "ticks": ""
            },
            "type": "choropleth"
           }
          ],
          "contour": [
           {
            "colorbar": {
             "outlinewidth": 0,
             "ticks": ""
            },
            "colorscale": [
             [
              0,
              "#0d0887"
             ],
             [
              0.1111111111111111,
              "#46039f"
             ],
             [
              0.2222222222222222,
              "#7201a8"
             ],
             [
              0.3333333333333333,
              "#9c179e"
             ],
             [
              0.4444444444444444,
              "#bd3786"
             ],
             [
              0.5555555555555556,
              "#d8576b"
             ],
             [
              0.6666666666666666,
              "#ed7953"
             ],
             [
              0.7777777777777778,
              "#fb9f3a"
             ],
             [
              0.8888888888888888,
              "#fdca26"
             ],
             [
              1,
              "#f0f921"
             ]
            ],
            "type": "contour"
           }
          ],
          "contourcarpet": [
           {
            "colorbar": {
             "outlinewidth": 0,
             "ticks": ""
            },
            "type": "contourcarpet"
           }
          ],
          "heatmap": [
           {
            "colorbar": {
             "outlinewidth": 0,
             "ticks": ""
            },
            "colorscale": [
             [
              0,
              "#0d0887"
             ],
             [
              0.1111111111111111,
              "#46039f"
             ],
             [
              0.2222222222222222,
              "#7201a8"
             ],
             [
              0.3333333333333333,
              "#9c179e"
             ],
             [
              0.4444444444444444,
              "#bd3786"
             ],
             [
              0.5555555555555556,
              "#d8576b"
             ],
             [
              0.6666666666666666,
              "#ed7953"
             ],
             [
              0.7777777777777778,
              "#fb9f3a"
             ],
             [
              0.8888888888888888,
              "#fdca26"
             ],
             [
              1,
              "#f0f921"
             ]
            ],
            "type": "heatmap"
           }
          ],
          "heatmapgl": [
           {
            "colorbar": {
             "outlinewidth": 0,
             "ticks": ""
            },
            "colorscale": [
             [
              0,
              "#0d0887"
             ],
             [
              0.1111111111111111,
              "#46039f"
             ],
             [
              0.2222222222222222,
              "#7201a8"
             ],
             [
              0.3333333333333333,
              "#9c179e"
             ],
             [
              0.4444444444444444,
              "#bd3786"
             ],
             [
              0.5555555555555556,
              "#d8576b"
             ],
             [
              0.6666666666666666,
              "#ed7953"
             ],
             [
              0.7777777777777778,
              "#fb9f3a"
             ],
             [
              0.8888888888888888,
              "#fdca26"
             ],
             [
              1,
              "#f0f921"
             ]
            ],
            "type": "heatmapgl"
           }
          ],
          "histogram": [
           {
            "marker": {
             "pattern": {
              "fillmode": "overlay",
              "size": 10,
              "solidity": 0.2
             }
            },
            "type": "histogram"
           }
          ],
          "histogram2d": [
           {
            "colorbar": {
             "outlinewidth": 0,
             "ticks": ""
            },
            "colorscale": [
             [
              0,
              "#0d0887"
             ],
             [
              0.1111111111111111,
              "#46039f"
             ],
             [
              0.2222222222222222,
              "#7201a8"
             ],
             [
              0.3333333333333333,
              "#9c179e"
             ],
             [
              0.4444444444444444,
              "#bd3786"
             ],
             [
              0.5555555555555556,
              "#d8576b"
             ],
             [
              0.6666666666666666,
              "#ed7953"
             ],
             [
              0.7777777777777778,
              "#fb9f3a"
             ],
             [
              0.8888888888888888,
              "#fdca26"
             ],
             [
              1,
              "#f0f921"
             ]
            ],
            "type": "histogram2d"
           }
          ],
          "histogram2dcontour": [
           {
            "colorbar": {
             "outlinewidth": 0,
             "ticks": ""
            },
            "colorscale": [
             [
              0,
              "#0d0887"
             ],
             [
              0.1111111111111111,
              "#46039f"
             ],
             [
              0.2222222222222222,
              "#7201a8"
             ],
             [
              0.3333333333333333,
              "#9c179e"
             ],
             [
              0.4444444444444444,
              "#bd3786"
             ],
             [
              0.5555555555555556,
              "#d8576b"
             ],
             [
              0.6666666666666666,
              "#ed7953"
             ],
             [
              0.7777777777777778,
              "#fb9f3a"
             ],
             [
              0.8888888888888888,
              "#fdca26"
             ],
             [
              1,
              "#f0f921"
             ]
            ],
            "type": "histogram2dcontour"
           }
          ],
          "mesh3d": [
           {
            "colorbar": {
             "outlinewidth": 0,
             "ticks": ""
            },
            "type": "mesh3d"
           }
          ],
          "parcoords": [
           {
            "line": {
             "colorbar": {
              "outlinewidth": 0,
              "ticks": ""
             }
            },
            "type": "parcoords"
           }
          ],
          "pie": [
           {
            "automargin": true,
            "type": "pie"
           }
          ],
          "scatter": [
           {
            "fillpattern": {
             "fillmode": "overlay",
             "size": 10,
             "solidity": 0.2
            },
            "type": "scatter"
           }
          ],
          "scatter3d": [
           {
            "line": {
             "colorbar": {
              "outlinewidth": 0,
              "ticks": ""
             }
            },
            "marker": {
             "colorbar": {
              "outlinewidth": 0,
              "ticks": ""
             }
            },
            "type": "scatter3d"
           }
          ],
          "scattercarpet": [
           {
            "marker": {
             "colorbar": {
              "outlinewidth": 0,
              "ticks": ""
             }
            },
            "type": "scattercarpet"
           }
          ],
          "scattergeo": [
           {
            "marker": {
             "colorbar": {
              "outlinewidth": 0,
              "ticks": ""
             }
            },
            "type": "scattergeo"
           }
          ],
          "scattergl": [
           {
            "marker": {
             "colorbar": {
              "outlinewidth": 0,
              "ticks": ""
             }
            },
            "type": "scattergl"
           }
          ],
          "scattermapbox": [
           {
            "marker": {
             "colorbar": {
              "outlinewidth": 0,
              "ticks": ""
             }
            },
            "type": "scattermapbox"
           }
          ],
          "scatterpolar": [
           {
            "marker": {
             "colorbar": {
              "outlinewidth": 0,
              "ticks": ""
             }
            },
            "type": "scatterpolar"
           }
          ],
          "scatterpolargl": [
           {
            "marker": {
             "colorbar": {
              "outlinewidth": 0,
              "ticks": ""
             }
            },
            "type": "scatterpolargl"
           }
          ],
          "scatterternary": [
           {
            "marker": {
             "colorbar": {
              "outlinewidth": 0,
              "ticks": ""
             }
            },
            "type": "scatterternary"
           }
          ],
          "surface": [
           {
            "colorbar": {
             "outlinewidth": 0,
             "ticks": ""
            },
            "colorscale": [
             [
              0,
              "#0d0887"
             ],
             [
              0.1111111111111111,
              "#46039f"
             ],
             [
              0.2222222222222222,
              "#7201a8"
             ],
             [
              0.3333333333333333,
              "#9c179e"
             ],
             [
              0.4444444444444444,
              "#bd3786"
             ],
             [
              0.5555555555555556,
              "#d8576b"
             ],
             [
              0.6666666666666666,
              "#ed7953"
             ],
             [
              0.7777777777777778,
              "#fb9f3a"
             ],
             [
              0.8888888888888888,
              "#fdca26"
             ],
             [
              1,
              "#f0f921"
             ]
            ],
            "type": "surface"
           }
          ],
          "table": [
           {
            "cells": {
             "fill": {
              "color": "#EBF0F8"
             },
             "line": {
              "color": "white"
             }
            },
            "header": {
             "fill": {
              "color": "#C8D4E3"
             },
             "line": {
              "color": "white"
             }
            },
            "type": "table"
           }
          ]
         },
         "layout": {
          "annotationdefaults": {
           "arrowcolor": "#2a3f5f",
           "arrowhead": 0,
           "arrowwidth": 1
          },
          "autotypenumbers": "strict",
          "coloraxis": {
           "colorbar": {
            "outlinewidth": 0,
            "ticks": ""
           }
          },
          "colorscale": {
           "diverging": [
            [
             0,
             "#8e0152"
            ],
            [
             0.1,
             "#c51b7d"
            ],
            [
             0.2,
             "#de77ae"
            ],
            [
             0.3,
             "#f1b6da"
            ],
            [
             0.4,
             "#fde0ef"
            ],
            [
             0.5,
             "#f7f7f7"
            ],
            [
             0.6,
             "#e6f5d0"
            ],
            [
             0.7,
             "#b8e186"
            ],
            [
             0.8,
             "#7fbc41"
            ],
            [
             0.9,
             "#4d9221"
            ],
            [
             1,
             "#276419"
            ]
           ],
           "sequential": [
            [
             0,
             "#0d0887"
            ],
            [
             0.1111111111111111,
             "#46039f"
            ],
            [
             0.2222222222222222,
             "#7201a8"
            ],
            [
             0.3333333333333333,
             "#9c179e"
            ],
            [
             0.4444444444444444,
             "#bd3786"
            ],
            [
             0.5555555555555556,
             "#d8576b"
            ],
            [
             0.6666666666666666,
             "#ed7953"
            ],
            [
             0.7777777777777778,
             "#fb9f3a"
            ],
            [
             0.8888888888888888,
             "#fdca26"
            ],
            [
             1,
             "#f0f921"
            ]
           ],
           "sequentialminus": [
            [
             0,
             "#0d0887"
            ],
            [
             0.1111111111111111,
             "#46039f"
            ],
            [
             0.2222222222222222,
             "#7201a8"
            ],
            [
             0.3333333333333333,
             "#9c179e"
            ],
            [
             0.4444444444444444,
             "#bd3786"
            ],
            [
             0.5555555555555556,
             "#d8576b"
            ],
            [
             0.6666666666666666,
             "#ed7953"
            ],
            [
             0.7777777777777778,
             "#fb9f3a"
            ],
            [
             0.8888888888888888,
             "#fdca26"
            ],
            [
             1,
             "#f0f921"
            ]
           ]
          },
          "colorway": [
           "#636efa",
           "#EF553B",
           "#00cc96",
           "#ab63fa",
           "#FFA15A",
           "#19d3f3",
           "#FF6692",
           "#B6E880",
           "#FF97FF",
           "#FECB52"
          ],
          "font": {
           "color": "#2a3f5f"
          },
          "geo": {
           "bgcolor": "white",
           "lakecolor": "white",
           "landcolor": "#E5ECF6",
           "showlakes": true,
           "showland": true,
           "subunitcolor": "white"
          },
          "hoverlabel": {
           "align": "left"
          },
          "hovermode": "closest",
          "mapbox": {
           "style": "light"
          },
          "paper_bgcolor": "white",
          "plot_bgcolor": "#E5ECF6",
          "polar": {
           "angularaxis": {
            "gridcolor": "white",
            "linecolor": "white",
            "ticks": ""
           },
           "bgcolor": "#E5ECF6",
           "radialaxis": {
            "gridcolor": "white",
            "linecolor": "white",
            "ticks": ""
           }
          },
          "scene": {
           "xaxis": {
            "backgroundcolor": "#E5ECF6",
            "gridcolor": "white",
            "gridwidth": 2,
            "linecolor": "white",
            "showbackground": true,
            "ticks": "",
            "zerolinecolor": "white"
           },
           "yaxis": {
            "backgroundcolor": "#E5ECF6",
            "gridcolor": "white",
            "gridwidth": 2,
            "linecolor": "white",
            "showbackground": true,
            "ticks": "",
            "zerolinecolor": "white"
           },
           "zaxis": {
            "backgroundcolor": "#E5ECF6",
            "gridcolor": "white",
            "gridwidth": 2,
            "linecolor": "white",
            "showbackground": true,
            "ticks": "",
            "zerolinecolor": "white"
           }
          },
          "shapedefaults": {
           "line": {
            "color": "#2a3f5f"
           }
          },
          "ternary": {
           "aaxis": {
            "gridcolor": "white",
            "linecolor": "white",
            "ticks": ""
           },
           "baxis": {
            "gridcolor": "white",
            "linecolor": "white",
            "ticks": ""
           },
           "bgcolor": "#E5ECF6",
           "caxis": {
            "gridcolor": "white",
            "linecolor": "white",
            "ticks": ""
           }
          },
          "title": {
           "x": 0.05
          },
          "xaxis": {
           "automargin": true,
           "gridcolor": "white",
           "linecolor": "white",
           "ticks": "",
           "title": {
            "standoff": 15
           },
           "zerolinecolor": "white",
           "zerolinewidth": 2
          },
          "yaxis": {
           "automargin": true,
           "gridcolor": "white",
           "linecolor": "white",
           "ticks": "",
           "title": {
            "standoff": 15
           },
           "zerolinecolor": "white",
           "zerolinewidth": 2
          }
         }
        },
        "title": {
         "font": {
          "color": "Black",
          "size": 22
         },
         "text": "<b>Similarity Matrix</b>",
         "x": 0.55,
         "xanchor": "center",
         "y": 0.95,
         "yanchor": "top"
        },
        "width": 1000,
        "xaxis": {
         "anchor": "y",
         "constrain": "domain",
         "domain": [
          0,
          1
         ],
         "scaleanchor": "y"
        },
        "yaxis": {
         "anchor": "x",
         "autorange": "reversed",
         "constrain": "domain",
         "domain": [
          0,
          1
         ]
        }
       }
      },
      "text/html": [
       "<div>                            <div id=\"27e7376a-e241-41be-ab54-7ceabd93c04b\" class=\"plotly-graph-div\" style=\"height:1000px; width:1000px;\"></div>            <script type=\"text/javascript\">                require([\"plotly\"], function(Plotly) {                    window.PLOTLYENV=window.PLOTLYENV || {};                                    if (document.getElementById(\"27e7376a-e241-41be-ab54-7ceabd93c04b\")) {                    Plotly.newPlot(                        \"27e7376a-e241-41be-ab54-7ceabd93c04b\",                        [{\"coloraxis\":\"coloraxis\",\"name\":\"0\",\"x\":[\"0_game_this_it\",\"1_terraria_the_and\",\"2_minecraft_and_game\",\"3_game_this_best\",\"5_my_it_but\",\"17_the_best_to\",\"4_10_again_killed\",\"15_moon_lord_the\",\"6_addictive_addicting_fun\",\"7_10_would_again\",\"8_good_ok_its\",\"9_bye_cool_slit\",\"12_awesome_love_it\",\"13_cool_fine_lines\",\"10_review_reviews_badgei\",\"14_buy_it_get\",\"11_mac_on_linux\",\"16_click_starbound_russific...\",\"18_epic_crust_pie\",\"19_slime_10_slimes\"],\"y\":[\"0_game_this_it\",\"1_terraria_the_and\",\"2_minecraft_and_game\",\"3_game_this_best\",\"5_my_it_but\",\"17_the_best_to\",\"4_10_again_killed\",\"15_moon_lord_the\",\"6_addictive_addicting_fun\",\"7_10_would_again\",\"8_good_ok_its\",\"9_bye_cool_slit\",\"12_awesome_love_it\",\"13_cool_fine_lines\",\"10_review_reviews_badgei\",\"14_buy_it_get\",\"11_mac_on_linux\",\"16_click_starbound_russific...\",\"18_epic_crust_pie\",\"19_slime_10_slimes\"],\"z\":[[0.9999999999999996,0.9673049140967562,0.9731392336958731,0.9011796888902932,0.9509722310634248,0.9297776267373483,0.8556054581395168,0.8552300416599805,0.7387618269618615,0.6342979918438219,0.7651116591297853,0.7775578022440762,0.7922370336411722,0.7203422440939824,0.8372584964798966,0.8170588497494919,0.7753215538388543,0.6898705437506594,0.6218869342032405,0.6967395339344227],[0.9673049140967562,1.0,0.9602274343608375,0.8555290509308799,0.9286401260187436,0.9304517320891361,0.8583998117250515,0.8579184107174664,0.6936350074911847,0.63100337728017,0.7599620664085167,0.7666758146801362,0.7750814356286977,0.7105473871133566,0.8042529713333058,0.790953438839971,0.7741713210790389,0.6768294251546996,0.624501767144423,0.7145861435806714],[0.9731392336958731,0.9602274343608375,0.9999999999999996,0.8843524706398025,0.9382337294023442,0.9156035758899511,0.8495603679330119,0.8517679604225012,0.7164907899181412,0.63568457459714,0.7505958404586306,0.777677001310432,0.7825736527087045,0.7137031666186013,0.8230056665383713,0.7988536320119312,0.8065655699260932,0.6890380504907585,0.6309106441524259,0.6959371987367893],[0.9011796888902932,0.8555290509308799,0.8843524706398025,0.9999999999999993,0.862174604075725,0.8490887060263201,0.8215201772791711,0.8229558245231778,0.7198921544708357,0.6806817538533493,0.8058660181797779,0.7815813167190845,0.8297154469568043,0.7619482526409379,0.8237310494925285,0.7861955041637565,0.7214205275079203,0.6441961837337846,0.6299260142927513,0.660555704861103],[0.9509722310634248,0.9286401260187436,0.9382337294023442,0.862174604075725,1.0000000000000002,0.9066875949087515,0.8648861177800969,0.8434614515887919,0.686781436627738,0.6307221826481675,0.7920738574107307,0.7622711910595412,0.7835165582547956,0.7170893178162462,0.8051582565124955,0.8074762462949081,0.7836187283673766,0.6884325864305259,0.586613540568869,0.6820205520103859],[0.9297776267373483,0.9304517320891361,0.9156035758899511,0.8490887060263201,0.9066875949087515,1.0000000000000002,0.8609779910969125,0.854414470838729,0.6631341882678581,0.6215991756434489,0.728166287732537,0.7520426796703875,0.7697193633021832,0.696000656688953,0.8016859188838419,0.7747809177700296,0.7506036307304687,0.6786790214169124,0.6371811847777383,0.7168180436889531],[0.8556054581395168,0.8583998117250515,0.8495603679330119,0.8215201772791711,0.8648861177800969,0.8609779910969125,1.0000000000000004,0.8506885247367431,0.6351512931009851,0.8932178407896361,0.7680788780467149,0.7790227289571499,0.7538422744037558,0.7403152807024611,0.7662487935000287,0.7751163881585341,0.72541976333797,0.6583578525913615,0.6083055661896737,0.766559335493318],[0.8552300416599805,0.8579184107174664,0.8517679604225012,0.8229558245231778,0.8434614515887919,0.854414470838729,0.8506885247367431,0.9999999999999996,0.6732853902286309,0.6760722294781192,0.6943487204717774,0.7392526071103913,0.721801258782099,0.6947661504843003,0.7731898879960178,0.7314318023213671,0.7441902581420365,0.6812149478820351,0.6798252935374226,0.7290989991292788],[0.7387618269618615,0.6936350074911847,0.7164907899181412,0.7198921544708357,0.686781436627738,0.6631341882678581,0.6351512931009851,0.6732853902286309,1.0000000000000004,0.49336278752649415,0.5795358996578931,0.5978018380099596,0.62027178087468,0.5678217630390616,0.6515043088481671,0.6009887981757076,0.6127263645719023,0.5299892768399093,0.5681510516777857,0.5442393187812415],[0.6342979918438219,0.63100337728017,0.63568457459714,0.6806817538533493,0.6307221826481675,0.6215991756434489,0.8932178407896361,0.6760722294781192,0.49336278752649415,1.0000000000000007,0.6403161600025944,0.6610582051106808,0.6071308105303522,0.645192324143459,0.6317592038004701,0.6380264480493367,0.5649572913097948,0.5494317645530133,0.5088038215970143,0.6519491961969579],[0.7651116591297853,0.7599620664085167,0.7505958404586306,0.8058660181797779,0.7920738574107307,0.728166287732537,0.7680788780467149,0.6943487204717774,0.5795358996578931,0.6403161600025944,0.9999999999999993,0.7763882388187064,0.8417705676473992,0.78735596347371,0.6698845384811614,0.7298837547323225,0.623132139650235,0.5538344387790359,0.45886288851697987,0.5611568612683502],[0.7775578022440762,0.7666758146801362,0.777677001310432,0.7815813167190845,0.7622711910595412,0.7520426796703875,0.7790227289571499,0.7392526071103913,0.5978018380099596,0.6610582051106808,0.7763882388187064,1.0000000000000009,0.763174589615965,0.7990913714947221,0.7125516927524886,0.7143141281232384,0.682072006852216,0.6359042551950302,0.5965129711250927,0.6643558995021823],[0.7922370336411722,0.7750814356286977,0.7825736527087045,0.8297154469568043,0.7835165582547956,0.7697193633021832,0.7538422744037558,0.721801258782099,0.62027178087468,0.6071308105303522,0.8417705676473992,0.763174589615965,1.0,0.7941227231820356,0.7006468600209819,0.7219483160212898,0.6482593126723275,0.5744079097784811,0.5061827626306075,0.5680223432539774],[0.7203422440939824,0.7105473871133566,0.7137031666186013,0.7619482526409379,0.7170893178162462,0.696000656688953,0.7403152807024611,0.6947661504843003,0.5678217630390616,0.645192324143459,0.78735596347371,0.7990913714947221,0.7941227231820356,1.0000000000000002,0.6806339228233282,0.7001714007587004,0.6381932782641518,0.5933444956386968,0.527893609641372,0.5762408382145535],[0.8372584964798966,0.8042529713333058,0.8230056665383713,0.8237310494925285,0.8051582565124955,0.8016859188838419,0.7662487935000287,0.7731898879960178,0.6515043088481671,0.6317592038004701,0.6698845384811614,0.7125516927524886,0.7006468600209819,0.6806339228233282,0.9999999999999991,0.7594641882057609,0.6788288641147426,0.6445026417961137,0.6038660094902829,0.6359806078719732],[0.8170588497494919,0.790953438839971,0.7988536320119312,0.7861955041637565,0.8074762462949081,0.7747809177700296,0.7751163881585341,0.7314318023213671,0.6009887981757076,0.6380264480493367,0.7298837547323225,0.7143141281232384,0.7219483160212898,0.7001714007587004,0.7594641882057609,1.0000000000000004,0.7214430228249863,0.6429007435671762,0.5284380056867366,0.6139061086338593],[0.7753215538388543,0.7741713210790389,0.8065655699260932,0.7214205275079203,0.7836187283673766,0.7506036307304687,0.72541976333797,0.7441902581420365,0.6127263645719023,0.5649572913097948,0.623132139650235,0.682072006852216,0.6482593126723275,0.6381932782641518,0.6788288641147426,0.7214430228249863,1.0,0.6376727978761176,0.5594929844666597,0.6336445537501103],[0.6898705437506594,0.6768294251546996,0.6890380504907585,0.6441961837337846,0.6884325864305259,0.6786790214169124,0.6583578525913615,0.6812149478820351,0.5299892768399093,0.5494317645530133,0.5538344387790359,0.6359042551950302,0.5744079097784811,0.5933444956386968,0.6445026417961137,0.6429007435671762,0.6376727978761176,0.9999999999999991,0.5487283439229556,0.5681690452267112],[0.6218869342032405,0.624501767144423,0.6309106441524259,0.6299260142927513,0.586613540568869,0.6371811847777383,0.6083055661896737,0.6798252935374226,0.5681510516777857,0.5088038215970143,0.45886288851697987,0.5965129711250927,0.5061827626306075,0.527893609641372,0.6038660094902829,0.5284380056867366,0.5594929844666597,0.5487283439229556,1.0000000000000009,0.6840799388628718],[0.6967395339344227,0.7145861435806714,0.6959371987367893,0.660555704861103,0.6820205520103859,0.7168180436889531,0.766559335493318,0.7290989991292788,0.5442393187812415,0.6519491961969579,0.5611568612683502,0.6643558995021823,0.5680223432539774,0.5762408382145535,0.6359806078719732,0.6139061086338593,0.6336445537501103,0.5681690452267112,0.6840799388628718,0.9999999999999998]],\"type\":\"heatmap\",\"xaxis\":\"x\",\"yaxis\":\"y\",\"hovertemplate\":\"x: %{x}\\u003cbr\\u003ey: %{y}\\u003cbr\\u003eSimilarity Score: %{z}\\u003cextra\\u003e\\u003c\\u002fextra\\u003e\"}],                        {\"template\":{\"data\":{\"histogram2dcontour\":[{\"type\":\"histogram2dcontour\",\"colorbar\":{\"outlinewidth\":0,\"ticks\":\"\"},\"colorscale\":[[0.0,\"#0d0887\"],[0.1111111111111111,\"#46039f\"],[0.2222222222222222,\"#7201a8\"],[0.3333333333333333,\"#9c179e\"],[0.4444444444444444,\"#bd3786\"],[0.5555555555555556,\"#d8576b\"],[0.6666666666666666,\"#ed7953\"],[0.7777777777777778,\"#fb9f3a\"],[0.8888888888888888,\"#fdca26\"],[1.0,\"#f0f921\"]]}],\"choropleth\":[{\"type\":\"choropleth\",\"colorbar\":{\"outlinewidth\":0,\"ticks\":\"\"}}],\"histogram2d\":[{\"type\":\"histogram2d\",\"colorbar\":{\"outlinewidth\":0,\"ticks\":\"\"},\"colorscale\":[[0.0,\"#0d0887\"],[0.1111111111111111,\"#46039f\"],[0.2222222222222222,\"#7201a8\"],[0.3333333333333333,\"#9c179e\"],[0.4444444444444444,\"#bd3786\"],[0.5555555555555556,\"#d8576b\"],[0.6666666666666666,\"#ed7953\"],[0.7777777777777778,\"#fb9f3a\"],[0.8888888888888888,\"#fdca26\"],[1.0,\"#f0f921\"]]}],\"heatmap\":[{\"type\":\"heatmap\",\"colorbar\":{\"outlinewidth\":0,\"ticks\":\"\"},\"colorscale\":[[0.0,\"#0d0887\"],[0.1111111111111111,\"#46039f\"],[0.2222222222222222,\"#7201a8\"],[0.3333333333333333,\"#9c179e\"],[0.4444444444444444,\"#bd3786\"],[0.5555555555555556,\"#d8576b\"],[0.6666666666666666,\"#ed7953\"],[0.7777777777777778,\"#fb9f3a\"],[0.8888888888888888,\"#fdca26\"],[1.0,\"#f0f921\"]]}],\"heatmapgl\":[{\"type\":\"heatmapgl\",\"colorbar\":{\"outlinewidth\":0,\"ticks\":\"\"},\"colorscale\":[[0.0,\"#0d0887\"],[0.1111111111111111,\"#46039f\"],[0.2222222222222222,\"#7201a8\"],[0.3333333333333333,\"#9c179e\"],[0.4444444444444444,\"#bd3786\"],[0.5555555555555556,\"#d8576b\"],[0.6666666666666666,\"#ed7953\"],[0.7777777777777778,\"#fb9f3a\"],[0.8888888888888888,\"#fdca26\"],[1.0,\"#f0f921\"]]}],\"contourcarpet\":[{\"type\":\"contourcarpet\",\"colorbar\":{\"outlinewidth\":0,\"ticks\":\"\"}}],\"contour\":[{\"type\":\"contour\",\"colorbar\":{\"outlinewidth\":0,\"ticks\":\"\"},\"colorscale\":[[0.0,\"#0d0887\"],[0.1111111111111111,\"#46039f\"],[0.2222222222222222,\"#7201a8\"],[0.3333333333333333,\"#9c179e\"],[0.4444444444444444,\"#bd3786\"],[0.5555555555555556,\"#d8576b\"],[0.6666666666666666,\"#ed7953\"],[0.7777777777777778,\"#fb9f3a\"],[0.8888888888888888,\"#fdca26\"],[1.0,\"#f0f921\"]]}],\"surface\":[{\"type\":\"surface\",\"colorbar\":{\"outlinewidth\":0,\"ticks\":\"\"},\"colorscale\":[[0.0,\"#0d0887\"],[0.1111111111111111,\"#46039f\"],[0.2222222222222222,\"#7201a8\"],[0.3333333333333333,\"#9c179e\"],[0.4444444444444444,\"#bd3786\"],[0.5555555555555556,\"#d8576b\"],[0.6666666666666666,\"#ed7953\"],[0.7777777777777778,\"#fb9f3a\"],[0.8888888888888888,\"#fdca26\"],[1.0,\"#f0f921\"]]}],\"mesh3d\":[{\"type\":\"mesh3d\",\"colorbar\":{\"outlinewidth\":0,\"ticks\":\"\"}}],\"scatter\":[{\"fillpattern\":{\"fillmode\":\"overlay\",\"size\":10,\"solidity\":0.2},\"type\":\"scatter\"}],\"parcoords\":[{\"type\":\"parcoords\",\"line\":{\"colorbar\":{\"outlinewidth\":0,\"ticks\":\"\"}}}],\"scatterpolargl\":[{\"type\":\"scatterpolargl\",\"marker\":{\"colorbar\":{\"outlinewidth\":0,\"ticks\":\"\"}}}],\"bar\":[{\"error_x\":{\"color\":\"#2a3f5f\"},\"error_y\":{\"color\":\"#2a3f5f\"},\"marker\":{\"line\":{\"color\":\"#E5ECF6\",\"width\":0.5},\"pattern\":{\"fillmode\":\"overlay\",\"size\":10,\"solidity\":0.2}},\"type\":\"bar\"}],\"scattergeo\":[{\"type\":\"scattergeo\",\"marker\":{\"colorbar\":{\"outlinewidth\":0,\"ticks\":\"\"}}}],\"scatterpolar\":[{\"type\":\"scatterpolar\",\"marker\":{\"colorbar\":{\"outlinewidth\":0,\"ticks\":\"\"}}}],\"histogram\":[{\"marker\":{\"pattern\":{\"fillmode\":\"overlay\",\"size\":10,\"solidity\":0.2}},\"type\":\"histogram\"}],\"scattergl\":[{\"type\":\"scattergl\",\"marker\":{\"colorbar\":{\"outlinewidth\":0,\"ticks\":\"\"}}}],\"scatter3d\":[{\"type\":\"scatter3d\",\"line\":{\"colorbar\":{\"outlinewidth\":0,\"ticks\":\"\"}},\"marker\":{\"colorbar\":{\"outlinewidth\":0,\"ticks\":\"\"}}}],\"scattermapbox\":[{\"type\":\"scattermapbox\",\"marker\":{\"colorbar\":{\"outlinewidth\":0,\"ticks\":\"\"}}}],\"scatterternary\":[{\"type\":\"scatterternary\",\"marker\":{\"colorbar\":{\"outlinewidth\":0,\"ticks\":\"\"}}}],\"scattercarpet\":[{\"type\":\"scattercarpet\",\"marker\":{\"colorbar\":{\"outlinewidth\":0,\"ticks\":\"\"}}}],\"carpet\":[{\"aaxis\":{\"endlinecolor\":\"#2a3f5f\",\"gridcolor\":\"white\",\"linecolor\":\"white\",\"minorgridcolor\":\"white\",\"startlinecolor\":\"#2a3f5f\"},\"baxis\":{\"endlinecolor\":\"#2a3f5f\",\"gridcolor\":\"white\",\"linecolor\":\"white\",\"minorgridcolor\":\"white\",\"startlinecolor\":\"#2a3f5f\"},\"type\":\"carpet\"}],\"table\":[{\"cells\":{\"fill\":{\"color\":\"#EBF0F8\"},\"line\":{\"color\":\"white\"}},\"header\":{\"fill\":{\"color\":\"#C8D4E3\"},\"line\":{\"color\":\"white\"}},\"type\":\"table\"}],\"barpolar\":[{\"marker\":{\"line\":{\"color\":\"#E5ECF6\",\"width\":0.5},\"pattern\":{\"fillmode\":\"overlay\",\"size\":10,\"solidity\":0.2}},\"type\":\"barpolar\"}],\"pie\":[{\"automargin\":true,\"type\":\"pie\"}]},\"layout\":{\"autotypenumbers\":\"strict\",\"colorway\":[\"#636efa\",\"#EF553B\",\"#00cc96\",\"#ab63fa\",\"#FFA15A\",\"#19d3f3\",\"#FF6692\",\"#B6E880\",\"#FF97FF\",\"#FECB52\"],\"font\":{\"color\":\"#2a3f5f\"},\"hovermode\":\"closest\",\"hoverlabel\":{\"align\":\"left\"},\"paper_bgcolor\":\"white\",\"plot_bgcolor\":\"#E5ECF6\",\"polar\":{\"bgcolor\":\"#E5ECF6\",\"angularaxis\":{\"gridcolor\":\"white\",\"linecolor\":\"white\",\"ticks\":\"\"},\"radialaxis\":{\"gridcolor\":\"white\",\"linecolor\":\"white\",\"ticks\":\"\"}},\"ternary\":{\"bgcolor\":\"#E5ECF6\",\"aaxis\":{\"gridcolor\":\"white\",\"linecolor\":\"white\",\"ticks\":\"\"},\"baxis\":{\"gridcolor\":\"white\",\"linecolor\":\"white\",\"ticks\":\"\"},\"caxis\":{\"gridcolor\":\"white\",\"linecolor\":\"white\",\"ticks\":\"\"}},\"coloraxis\":{\"colorbar\":{\"outlinewidth\":0,\"ticks\":\"\"}},\"colorscale\":{\"sequential\":[[0.0,\"#0d0887\"],[0.1111111111111111,\"#46039f\"],[0.2222222222222222,\"#7201a8\"],[0.3333333333333333,\"#9c179e\"],[0.4444444444444444,\"#bd3786\"],[0.5555555555555556,\"#d8576b\"],[0.6666666666666666,\"#ed7953\"],[0.7777777777777778,\"#fb9f3a\"],[0.8888888888888888,\"#fdca26\"],[1.0,\"#f0f921\"]],\"sequentialminus\":[[0.0,\"#0d0887\"],[0.1111111111111111,\"#46039f\"],[0.2222222222222222,\"#7201a8\"],[0.3333333333333333,\"#9c179e\"],[0.4444444444444444,\"#bd3786\"],[0.5555555555555556,\"#d8576b\"],[0.6666666666666666,\"#ed7953\"],[0.7777777777777778,\"#fb9f3a\"],[0.8888888888888888,\"#fdca26\"],[1.0,\"#f0f921\"]],\"diverging\":[[0,\"#8e0152\"],[0.1,\"#c51b7d\"],[0.2,\"#de77ae\"],[0.3,\"#f1b6da\"],[0.4,\"#fde0ef\"],[0.5,\"#f7f7f7\"],[0.6,\"#e6f5d0\"],[0.7,\"#b8e186\"],[0.8,\"#7fbc41\"],[0.9,\"#4d9221\"],[1,\"#276419\"]]},\"xaxis\":{\"gridcolor\":\"white\",\"linecolor\":\"white\",\"ticks\":\"\",\"title\":{\"standoff\":15},\"zerolinecolor\":\"white\",\"automargin\":true,\"zerolinewidth\":2},\"yaxis\":{\"gridcolor\":\"white\",\"linecolor\":\"white\",\"ticks\":\"\",\"title\":{\"standoff\":15},\"zerolinecolor\":\"white\",\"automargin\":true,\"zerolinewidth\":2},\"scene\":{\"xaxis\":{\"backgroundcolor\":\"#E5ECF6\",\"gridcolor\":\"white\",\"linecolor\":\"white\",\"showbackground\":true,\"ticks\":\"\",\"zerolinecolor\":\"white\",\"gridwidth\":2},\"yaxis\":{\"backgroundcolor\":\"#E5ECF6\",\"gridcolor\":\"white\",\"linecolor\":\"white\",\"showbackground\":true,\"ticks\":\"\",\"zerolinecolor\":\"white\",\"gridwidth\":2},\"zaxis\":{\"backgroundcolor\":\"#E5ECF6\",\"gridcolor\":\"white\",\"linecolor\":\"white\",\"showbackground\":true,\"ticks\":\"\",\"zerolinecolor\":\"white\",\"gridwidth\":2}},\"shapedefaults\":{\"line\":{\"color\":\"#2a3f5f\"}},\"annotationdefaults\":{\"arrowcolor\":\"#2a3f5f\",\"arrowhead\":0,\"arrowwidth\":1},\"geo\":{\"bgcolor\":\"white\",\"landcolor\":\"#E5ECF6\",\"subunitcolor\":\"white\",\"showland\":true,\"showlakes\":true,\"lakecolor\":\"white\"},\"title\":{\"x\":0.05},\"mapbox\":{\"style\":\"light\"}}},\"xaxis\":{\"anchor\":\"y\",\"domain\":[0.0,1.0],\"scaleanchor\":\"y\",\"constrain\":\"domain\"},\"yaxis\":{\"anchor\":\"x\",\"domain\":[0.0,1.0],\"autorange\":\"reversed\",\"constrain\":\"domain\"},\"coloraxis\":{\"colorbar\":{\"title\":{\"text\":\"Similarity Score\"}},\"colorscale\":[[0.0,\"rgb(247,252,240)\"],[0.125,\"rgb(224,243,219)\"],[0.25,\"rgb(204,235,197)\"],[0.375,\"rgb(168,221,181)\"],[0.5,\"rgb(123,204,196)\"],[0.625,\"rgb(78,179,211)\"],[0.75,\"rgb(43,140,190)\"],[0.875,\"rgb(8,104,172)\"],[1.0,\"rgb(8,64,129)\"]]},\"margin\":{\"t\":60},\"title\":{\"font\":{\"size\":22,\"color\":\"Black\"},\"text\":\"\\u003cb\\u003eSimilarity Matrix\\u003c\\u002fb\\u003e\",\"y\":0.95,\"x\":0.55,\"xanchor\":\"center\",\"yanchor\":\"top\"},\"hoverlabel\":{\"font\":{\"size\":16,\"family\":\"Rockwell\"},\"bgcolor\":\"white\"},\"width\":1000,\"height\":1000,\"showlegend\":true,\"legend\":{\"title\":{\"text\":\"Trend\"}}},                        {\"responsive\": true}                    ).then(function(){\n",
       "                            \n",
       "var gd = document.getElementById('27e7376a-e241-41be-ab54-7ceabd93c04b');\n",
       "var x = new MutationObserver(function (mutations, observer) {{\n",
       "        var display = window.getComputedStyle(gd).display;\n",
       "        if (!display || display === 'none') {{\n",
       "            console.log([gd, 'removed!']);\n",
       "            Plotly.purge(gd);\n",
       "            observer.disconnect();\n",
       "        }}\n",
       "}});\n",
       "\n",
       "// Listen for the removal of the full notebook cells\n",
       "var notebookContainer = gd.closest('#notebook-container');\n",
       "if (notebookContainer) {{\n",
       "    x.observe(notebookContainer, {childList: true});\n",
       "}}\n",
       "\n",
       "// Listen for the clearing of the current output cell\n",
       "var outputEl = gd.closest('.output');\n",
       "if (outputEl) {{\n",
       "    x.observe(outputEl, {childList: true});\n",
       "}}\n",
       "\n",
       "                        })                };                });            </script>        </div>"
      ]
     },
     "metadata": {},
     "output_type": "display_data"
    }
   ],
   "source": [
    "# visualize topic similarity\n",
    "# Having generated topic embeddings, through both c-TF-IDF and embeddings,\n",
    "# we can create a similarity matrix by simply applying cosine similarities through those topic embeddings.\n",
    "# The result will be a matrix indicating how similar certain topics are to each other.\n",
    "\n",
    "topic_model.visualize_heatmap(n_clusters=10, width=1000, height=1000)"
   ]
  },
  {
   "cell_type": "markdown",
   "metadata": {},
   "source": [
    "Evaluation\n",
    "\n",
    "Calculate metrics with octis\n",
    "\n",
    "Reference\n",
    "\n",
    "https://www.theanalyticslab.nl/topic-modeling-with-bertopic/"
   ]
  },
  {
   "cell_type": "code",
   "execution_count": 52,
   "metadata": {},
   "outputs": [],
   "source": [
    "result_bertopic = {}\n",
    "\n",
    "top_words = 10     # the functions will only return that number of top words\n",
    "def _get_topics(topic_model):\n",
    "    topic_list = []\n",
    "    empty_topic_l_idx = []\n",
    "\n",
    "    for idx, topics in topic_model.get_topics().items():\n",
    "        if idx < 0:\n",
    "            continue\n",
    "\n",
    "        topics_sorted = sorted(topics, key=lambda x: x[1], reverse=True)\n",
    "        topic_l = [t[0] for t in topics_sorted if t[0].strip() != '']\n",
    "\n",
    "        # it's possible that resulting in an empty list\n",
    "        # also, topic with only one word fails at calculating NPMI\n",
    "        if len(topic_l) <= 1:\n",
    "            empty_topic_l_idx.append(idx)\n",
    "            continue\n",
    "\n",
    "        topic_list.append(topic_l)\n",
    "        # print(len(topic_l))\n",
    "\n",
    "    return topic_list, empty_topic_l_idx\n",
    "\n",
    "def _get_topic_word_matrix(topic_model, empty_topic_idxs):\n",
    "\n",
    "    # use ctfidf value to calculate the probability of a word assigned to a topic\n",
    "    # but this is not the probability of a word in a topic\n",
    "    # maybe there's a better way\n",
    "\n",
    "    c_tfidf_all = topic_model.c_tf_idf_.todense()\n",
    "\n",
    "    topic_word_matrix = np.exp(c_tfidf_all) / np.exp(c_tfidf_all).sum(axis=1)\n",
    "\n",
    "    # remove empty topics from the largest index\n",
    "    for idx in empty_topic_idxs[::-1]:\n",
    "        topic_word_matrix = np.delete(topic_word_matrix, idx, axis=0)\n",
    "\n",
    "    # a better way: https://maartengr.github.io/BERTopic/getting_started/visualization/visualization.html#visualize-probablities-or-distribution\n",
    "    \n",
    "\n",
    "    return topic_word_matrix\n",
    "\n",
    "def _get_topic_document_matrix(probabilities, empty_topic_idxs):\n",
    "\n",
    "    topic_document_matrix = probabilities.T\n",
    "\n",
    "    for idx in empty_topic_idxs[::-1]:\n",
    "        topic_document_matrix = np.delete(topic_document_matrix, idx, axis=1)\n",
    "\n",
    "    return topic_document_matrix\n",
    "\n",
    "result_bertopic['topics'], empty_topic_idxs = _get_topics(topic_model)\n",
    "result_bertopic['topic-word-matrix'] = _get_topic_word_matrix(topic_model, empty_topic_idxs)\n",
    "result_bertopic['topic-document-matrix'] = _get_topic_document_matrix(probs, empty_topic_idxs)"
   ]
  },
  {
   "cell_type": "code",
   "execution_count": 53,
   "metadata": {},
   "outputs": [
    {
     "data": {
      "text/plain": [
       "([['game', 'this', 'it', 'and', 'the', 'to', 'of', 'you', 'is', 'fun'],\n",
       "  ['terraria', 'the', 'and', 'to', 'you', 'is', 'of', 'it', 'game', 'that'],\n",
       "  ['minecraft', 'and', 'game', 'this', 'it', 'is', 'of', 'you', 'the', 'to'],\n",
       "  ['game', 'this', 'best', 'great', 'ever', 'love', 'is', 'good', 'one', 'it'],\n",
       "  ['10',\n",
       "   'again',\n",
       "   'killed',\n",
       "   'would',\n",
       "   'the',\n",
       "   'my',\n",
       "   'you',\n",
       "   'and',\n",
       "   'to',\n",
       "   'unicorn'],\n",
       "  ['my', 'it', 'but', 'fix', 'the', 'and', 'game', 'to', 'me', 'this'],\n",
       "  ['addictive',\n",
       "   'addicting',\n",
       "   'fun',\n",
       "   'very',\n",
       "   'addicted',\n",
       "   'game',\n",
       "   'hours',\n",
       "   'and',\n",
       "   'this',\n",
       "   'it'],\n",
       "  ['10', 'would', 'again', '11', 'ign', 'play', 'life', 'tunk', 'my', 'good'],\n",
       "  ['good',\n",
       "   'ok',\n",
       "   'its',\n",
       "   'pretty',\n",
       "   'alright',\n",
       "   'it',\n",
       "   'guess',\n",
       "   'cool',\n",
       "   'yeah',\n",
       "   'okay'],\n",
       "  ['bye',\n",
       "   'cool',\n",
       "   'slit',\n",
       "   'dink',\n",
       "   'so',\n",
       "   'tickle',\n",
       "   'pickle',\n",
       "   'zone',\n",
       "   'it',\n",
       "   'let'],\n",
       "  ['review',\n",
       "   'reviews',\n",
       "   'badgei',\n",
       "   'le',\n",
       "   'this',\n",
       "   'the',\n",
       "   'game',\n",
       "   'badge',\n",
       "   'it',\n",
       "   'you'],\n",
       "  ['mac', 'on', 'linux', 'for', 'it', 'game', 'but', 'this', 'make', 'my'],\n",
       "  ['awesome',\n",
       "   'love',\n",
       "   'it',\n",
       "   'its',\n",
       "   'awsome',\n",
       "   'amazing',\n",
       "   'cool',\n",
       "   'is',\n",
       "   'the',\n",
       "   'great'],\n",
       "  ['cool',\n",
       "   'fine',\n",
       "   'lines',\n",
       "   'line',\n",
       "   'between',\n",
       "   'great',\n",
       "   'worth',\n",
       "   'there',\n",
       "   'beans',\n",
       "   'nomination'],\n",
       "  ['buy', 'it', 'get', 'worth', 'just', 'you', 'for', 'money', 'sale', 'now'],\n",
       "  ['moon', 'lord', 'the', '10', 'and', 'to', 'beat', 'you', 'game', 'again'],\n",
       "  ['click',\n",
       "   'starbound',\n",
       "   'russification',\n",
       "   'interface',\n",
       "   'this',\n",
       "   'game',\n",
       "   'will',\n",
       "   'is',\n",
       "   'but',\n",
       "   'better'],\n",
       "  ['the', 'best', 'to', 'you', 'and', 'build', 'of', 'dig', 'your', 'in'],\n",
       "  ['epic',\n",
       "   'crust',\n",
       "   'pie',\n",
       "   'sugar',\n",
       "   'degrees',\n",
       "   'pastry',\n",
       "   'lattice',\n",
       "   'strips',\n",
       "   'brown',\n",
       "   'heat'],\n",
       "  ['slime',\n",
       "   '10',\n",
       "   'slimes',\n",
       "   'the',\n",
       "   'by',\n",
       "   'killed',\n",
       "   'sugar',\n",
       "   'to',\n",
       "   'again',\n",
       "   'flour']],\n",
       " matrix([[2.39436403e-05, 2.39471144e-05, 2.39306893e-05, ...,\n",
       "          2.39306893e-05, 2.39310167e-05, 2.39306893e-05],\n",
       "         [2.39394973e-05, 2.39440409e-05, 2.39311531e-05, ...,\n",
       "          2.39305623e-05, 2.39305623e-05, 2.39310916e-05],\n",
       "         [2.39378007e-05, 2.39475074e-05, 2.39311341e-05, ...,\n",
       "          2.39306621e-05, 2.39306621e-05, 2.39306621e-05],\n",
       "         ...,\n",
       "         [2.39385506e-05, 2.39354267e-05, 2.39303560e-05, ...,\n",
       "          2.39303560e-05, 2.39303560e-05, 2.39303560e-05],\n",
       "         [2.39299260e-05, 2.39299260e-05, 2.39299260e-05, ...,\n",
       "          2.39299260e-05, 2.39299260e-05, 2.39299260e-05],\n",
       "         [2.39298395e-05, 2.39537111e-05, 2.39298395e-05, ...,\n",
       "          2.39298395e-05, 2.39298395e-05, 2.39298395e-05]]),\n",
       " array([[1.93795312e-001, 1.62882002e-001, 2.94523842e-002, ...,\n",
       "         1.00000000e+000, 2.67952742e-306, 3.03349557e-001],\n",
       "        [5.22454185e-001, 5.68262786e-004, 1.72254893e-004, ...,\n",
       "         2.71607463e-308, 2.12156256e-308, 2.96322521e-003],\n",
       "        [8.14157378e-002, 9.89140992e-003, 2.64887024e-003, ...,\n",
       "         6.59690881e-307, 3.43357006e-307, 5.79729355e-002],\n",
       "        ...,\n",
       "        [7.61341847e-003, 2.97168636e-003, 7.35461115e-004, ...,\n",
       "         1.74404643e-307, 7.07801496e-308, 2.16852548e-002],\n",
       "        [5.57796815e-003, 3.35339063e-003, 1.76813626e-003, ...,\n",
       "         6.47056648e-308, 1.35693299e-307, 5.55606643e-003],\n",
       "        [7.95824730e-003, 2.57859931e-003, 6.84052681e-004, ...,\n",
       "         1.01852714e-307, 6.04069785e-308, 6.05514435e-002]]))"
      ]
     },
     "execution_count": 53,
     "metadata": {},
     "output_type": "execute_result"
    }
   ],
   "source": [
    "result_bertopic['topics'], result_bertopic['topic-word-matrix'], result_bertopic['topic-document-matrix']"
   ]
  },
  {
   "cell_type": "code",
   "execution_count": 57,
   "metadata": {},
   "outputs": [
    {
     "data": {
      "text/html": [
       "<div>\n",
       "<style scoped>\n",
       "    .dataframe tbody tr th:only-of-type {\n",
       "        vertical-align: middle;\n",
       "    }\n",
       "\n",
       "    .dataframe tbody tr th {\n",
       "        vertical-align: top;\n",
       "    }\n",
       "\n",
       "    .dataframe thead th {\n",
       "        text-align: right;\n",
       "    }\n",
       "</style>\n",
       "<table border=\"1\" class=\"dataframe\">\n",
       "  <thead>\n",
       "    <tr style=\"text-align: right;\">\n",
       "      <th></th>\n",
       "      <th>Topic</th>\n",
       "      <th>Count</th>\n",
       "    </tr>\n",
       "  </thead>\n",
       "  <tbody>\n",
       "    <tr>\n",
       "      <th>3</th>\n",
       "      <td>0</td>\n",
       "      <td>29399</td>\n",
       "    </tr>\n",
       "    <tr>\n",
       "      <th>0</th>\n",
       "      <td>1</td>\n",
       "      <td>14477</td>\n",
       "    </tr>\n",
       "    <tr>\n",
       "      <th>5</th>\n",
       "      <td>2</td>\n",
       "      <td>13139</td>\n",
       "    </tr>\n",
       "    <tr>\n",
       "      <th>8</th>\n",
       "      <td>3</td>\n",
       "      <td>8073</td>\n",
       "    </tr>\n",
       "    <tr>\n",
       "      <th>7</th>\n",
       "      <td>4</td>\n",
       "      <td>2529</td>\n",
       "    </tr>\n",
       "    <tr>\n",
       "      <th>12</th>\n",
       "      <td>6</td>\n",
       "      <td>1726</td>\n",
       "    </tr>\n",
       "    <tr>\n",
       "      <th>6</th>\n",
       "      <td>7</td>\n",
       "      <td>1547</td>\n",
       "    </tr>\n",
       "    <tr>\n",
       "      <th>13</th>\n",
       "      <td>5</td>\n",
       "      <td>1500</td>\n",
       "    </tr>\n",
       "    <tr>\n",
       "      <th>17</th>\n",
       "      <td>12</td>\n",
       "      <td>1409</td>\n",
       "    </tr>\n",
       "    <tr>\n",
       "      <th>14</th>\n",
       "      <td>9</td>\n",
       "      <td>1353</td>\n",
       "    </tr>\n",
       "    <tr>\n",
       "      <th>16</th>\n",
       "      <td>8</td>\n",
       "      <td>1296</td>\n",
       "    </tr>\n",
       "    <tr>\n",
       "      <th>4</th>\n",
       "      <td>17</td>\n",
       "      <td>1210</td>\n",
       "    </tr>\n",
       "    <tr>\n",
       "      <th>19</th>\n",
       "      <td>14</td>\n",
       "      <td>987</td>\n",
       "    </tr>\n",
       "    <tr>\n",
       "      <th>1</th>\n",
       "      <td>10</td>\n",
       "      <td>657</td>\n",
       "    </tr>\n",
       "    <tr>\n",
       "      <th>2</th>\n",
       "      <td>13</td>\n",
       "      <td>548</td>\n",
       "    </tr>\n",
       "    <tr>\n",
       "      <th>10</th>\n",
       "      <td>15</td>\n",
       "      <td>524</td>\n",
       "    </tr>\n",
       "    <tr>\n",
       "      <th>18</th>\n",
       "      <td>11</td>\n",
       "      <td>492</td>\n",
       "    </tr>\n",
       "    <tr>\n",
       "      <th>9</th>\n",
       "      <td>19</td>\n",
       "      <td>339</td>\n",
       "    </tr>\n",
       "    <tr>\n",
       "      <th>11</th>\n",
       "      <td>16</td>\n",
       "      <td>311</td>\n",
       "    </tr>\n",
       "    <tr>\n",
       "      <th>15</th>\n",
       "      <td>18</td>\n",
       "      <td>260</td>\n",
       "    </tr>\n",
       "  </tbody>\n",
       "</table>\n",
       "</div>"
      ],
      "text/plain": [
       "    Topic  Count\n",
       "3       0  29399\n",
       "0       1  14477\n",
       "5       2  13139\n",
       "8       3   8073\n",
       "7       4   2529\n",
       "12      6   1726\n",
       "6       7   1547\n",
       "13      5   1500\n",
       "17     12   1409\n",
       "14      9   1353\n",
       "16      8   1296\n",
       "4      17   1210\n",
       "19     14    987\n",
       "1      10    657\n",
       "2      13    548\n",
       "10     15    524\n",
       "18     11    492\n",
       "9      19    339\n",
       "11     16    311\n",
       "15     18    260"
      ]
     },
     "execution_count": 57,
     "metadata": {},
     "output_type": "execute_result"
    }
   ],
   "source": [
    "topic_freq = topic_model.get_topic_freq()\n",
    "topic_freq[topic_freq['Topic'] != -1]"
   ]
  },
  {
   "cell_type": "markdown",
   "metadata": {},
   "source": [
    "Evaluation with gensim\n",
    "\n",
    "(as gives more freedom to control the CoherenceModel by gensim)"
   ]
  },
  {
   "cell_type": "code",
   "execution_count": 59,
   "metadata": {},
   "outputs": [],
   "source": [
    "from gensim import corpora\n",
    "from gensim.models.coherencemodel import CoherenceModel\n",
    "\n",
    "# https://stackoverflow.com/questions/70548316/gensim-coherencemodel-gives-valueerror-unable-to-interpret-topic-as-either-a-l\n",
    "\n",
    "# filter topics that contain only one word from the corpus for calculating npmi\n",
    "# https://github.com/piskvorky/gensim/issues/3328\n",
    "\n",
    "\n",
    "topic_words, empty_topic_l_idx = _get_topics(topic_model)\n",
    "\n",
    "documents = pd.DataFrame({\"Document\": X,\n",
    "                          \"ID\": range(len(X)),\n",
    "                          \"Topic\": topics})\n",
    "\n",
    "# remove documents which their topic contains 1<= words\n",
    "documents = documents[~documents['Topic'].isin(empty_topic_idxs)]\n",
    "\n",
    "documents_per_topic = documents.groupby(['Topic'], as_index=False).agg({'Document': ' '.join})\n",
    "cleaned_docs = topic_model._preprocess_text(documents_per_topic.Document.values)\n",
    "\n",
    "bertopic_vectorizer = topic_model.vectorizer_model\n",
    "bertopic_analyzer = bertopic_vectorizer.build_analyzer()\n",
    "\n",
    "words = bertopic_vectorizer.get_feature_names_out()\n",
    "tokens = [bertopic_analyzer(doc) for doc in cleaned_docs]\n",
    "dictionary = corpora.Dictionary(tokens)\n",
    "corpus = [dictionary.doc2bow(token) for token in tokens]"
   ]
  },
  {
   "cell_type": "code",
   "execution_count": 60,
   "metadata": {},
   "outputs": [
    {
     "name": "stderr",
     "output_type": "stream",
     "text": [
      "huggingface/tokenizers: The current process just got forked, after parallelism has already been used. Disabling parallelism to avoid deadlocks...\n",
      "To disable this warning, you can either:\n",
      "\t- Avoid using `tokenizers` before the fork if possible\n",
      "\t- Explicitly set the environment variable TOKENIZERS_PARALLELISM=(true | false)\n",
      "huggingface/tokenizers: The current process just got forked, after parallelism has already been used. Disabling parallelism to avoid deadlocks...\n",
      "To disable this warning, you can either:\n",
      "\t- Avoid using `tokenizers` before the fork if possible\n",
      "\t- Explicitly set the environment variable TOKENIZERS_PARALLELISM=(true | false)\n",
      "huggingface/tokenizers: The current process just got forked, after parallelism has already been used. Disabling parallelism to avoid deadlocks...\n",
      "To disable this warning, you can either:\n",
      "\t- Avoid using `tokenizers` before the fork if possible\n",
      "\t- Explicitly set the environment variable TOKENIZERS_PARALLELISM=(true | false)\n",
      "huggingface/tokenizers: The current process just got forked, after parallelism has already been used. Disabling parallelism to avoid deadlocks...\n",
      "To disable this warning, you can either:\n",
      "\t- Avoid using `tokenizers` before the fork if possible\n",
      "\t- Explicitly set the environment variable TOKENIZERS_PARALLELISM=(true | false)\n",
      "huggingface/tokenizers: The current process just got forked, after parallelism has already been used. Disabling parallelism to avoid deadlocks...\n",
      "To disable this warning, you can either:\n",
      "\t- Avoid using `tokenizers` before the fork if possible\n",
      "\t- Explicitly set the environment variable TOKENIZERS_PARALLELISM=(true | false)\n",
      "huggingface/tokenizers: The current process just got forked, after parallelism has already been used. Disabling parallelism to avoid deadlocks...\n",
      "To disable this warning, you can either:\n",
      "\t- Avoid using `tokenizers` before the fork if possible\n",
      "\t- Explicitly set the environment variable TOKENIZERS_PARALLELISM=(true | false)\n",
      "huggingface/tokenizers: The current process just got forked, after parallelism has already been used. Disabling parallelism to avoid deadlocks...\n",
      "To disable this warning, you can either:\n",
      "\t- Avoid using `tokenizers` before the fork if possible\n",
      "\t- Explicitly set the environment variable TOKENIZERS_PARALLELISM=(true | false)\n",
      "huggingface/tokenizers: The current process just got forked, after parallelism has already been used. Disabling parallelism to avoid deadlocks...\n",
      "To disable this warning, you can either:\n",
      "\t- Avoid using `tokenizers` before the fork if possible\n",
      "\t- Explicitly set the environment variable TOKENIZERS_PARALLELISM=(true | false)\n",
      "huggingface/tokenizers: The current process just got forked, after parallelism has already been used. Disabling parallelism to avoid deadlocks...\n",
      "To disable this warning, you can either:\n",
      "\t- Avoid using `tokenizers` before the fork if possible\n",
      "\t- Explicitly set the environment variable TOKENIZERS_PARALLELISM=(true | false)\n",
      "huggingface/tokenizers: The current process just got forked, after parallelism has already been used. Disabling parallelism to avoid deadlocks...\n",
      "To disable this warning, you can either:\n",
      "\t- Avoid using `tokenizers` before the fork if possible\n",
      "\t- Explicitly set the environment variable TOKENIZERS_PARALLELISM=(true | false)\n",
      "huggingface/tokenizers: The current process just got forked, after parallelism has already been used. Disabling parallelism to avoid deadlocks...\n",
      "To disable this warning, you can either:\n",
      "\t- Avoid using `tokenizers` before the fork if possible\n",
      "\t- Explicitly set the environment variable TOKENIZERS_PARALLELISM=(true | false)\n"
     ]
    },
    {
     "data": {
      "text/plain": [
       "0.3994560925733617"
      ]
     },
     "execution_count": 60,
     "metadata": {},
     "output_type": "execute_result"
    }
   ],
   "source": [
    "# ~3 min on i714700 with CountVectorizer ~ 6000 words\n",
    "\n",
    "# we first analysze NPMI\n",
    "\n",
    "coherence_model = CoherenceModel(topics=topic_words,\n",
    "                                 texts=tokens,\n",
    "                                corpus=corpus,\n",
    "                                dictionary=dictionary,\n",
    "                                topn=10,\n",
    "                                coherence='c_v')\n",
    "\n",
    "# npmi = Coherence(texts=tokens,topk=10, measure='c_npmi')\n",
    "# nmpi_score = npmi.score(result_bertopic)\n",
    "\n",
    "cv_score = coherence_model.get_coherence()\n",
    "cv_score\n"
   ]
  },
  {
   "cell_type": "code",
   "execution_count": 61,
   "metadata": {},
   "outputs": [
    {
     "name": "stderr",
     "output_type": "stream",
     "text": [
      "huggingface/tokenizers: The current process just got forked, after parallelism has already been used. Disabling parallelism to avoid deadlocks...\n",
      "To disable this warning, you can either:\n",
      "\t- Avoid using `tokenizers` before the fork if possible\n",
      "\t- Explicitly set the environment variable TOKENIZERS_PARALLELISM=(true | false)\n",
      "huggingface/tokenizers: The current process just got forked, after parallelism has already been used. Disabling parallelism to avoid deadlocks...\n",
      "To disable this warning, you can either:\n",
      "\t- Avoid using `tokenizers` before the fork if possible\n",
      "\t- Explicitly set the environment variable TOKENIZERS_PARALLELISM=(true | false)\n",
      "huggingface/tokenizers: The current process just got forked, after parallelism has already been used. Disabling parallelism to avoid deadlocks...\n",
      "To disable this warning, you can either:\n",
      "\t- Avoid using `tokenizers` before the fork if possible\n",
      "\t- Explicitly set the environment variable TOKENIZERS_PARALLELISM=(true | false)\n",
      "huggingface/tokenizers: The current process just got forked, after parallelism has already been used. Disabling parallelism to avoid deadlocks...\n",
      "To disable this warning, you can either:\n",
      "\t- Avoid using `tokenizers` before the fork if possible\n",
      "\t- Explicitly set the environment variable TOKENIZERS_PARALLELISM=(true | false)\n",
      "huggingface/tokenizers: The current process just got forked, after parallelism has already been used. Disabling parallelism to avoid deadlocks...\n",
      "To disable this warning, you can either:\n",
      "\t- Avoid using `tokenizers` before the fork if possible\n",
      "\t- Explicitly set the environment variable TOKENIZERS_PARALLELISM=(true | false)\n",
      "huggingface/tokenizers: The current process just got forked, after parallelism has already been used. Disabling parallelism to avoid deadlocks...\n",
      "To disable this warning, you can either:\n",
      "\t- Avoid using `tokenizers` before the fork if possible\n",
      "\t- Explicitly set the environment variable TOKENIZERS_PARALLELISM=(true | false)\n",
      "huggingface/tokenizers: The current process just got forked, after parallelism has already been used. Disabling parallelism to avoid deadlocks...\n",
      "To disable this warning, you can either:\n",
      "\t- Avoid using `tokenizers` before the fork if possible\n",
      "\t- Explicitly set the environment variable TOKENIZERS_PARALLELISM=(true | false)\n",
      "huggingface/tokenizers: The current process just got forked, after parallelism has already been used. Disabling parallelism to avoid deadlocks...\n",
      "To disable this warning, you can either:\n",
      "\t- Avoid using `tokenizers` before the fork if possible\n",
      "\t- Explicitly set the environment variable TOKENIZERS_PARALLELISM=(true | false)\n",
      "huggingface/tokenizers: The current process just got forked, after parallelism has already been used. Disabling parallelism to avoid deadlocks...\n",
      "To disable this warning, you can either:\n",
      "\t- Avoid using `tokenizers` before the fork if possible\n",
      "\t- Explicitly set the environment variable TOKENIZERS_PARALLELISM=(true | false)\n",
      "huggingface/tokenizers: The current process just got forked, after parallelism has already been used. Disabling parallelism to avoid deadlocks...\n",
      "To disable this warning, you can either:\n",
      "\t- Avoid using `tokenizers` before the fork if possible\n",
      "\t- Explicitly set the environment variable TOKENIZERS_PARALLELISM=(true | false)\n",
      "huggingface/tokenizers: The current process just got forked, after parallelism has already been used. Disabling parallelism to avoid deadlocks...\n",
      "To disable this warning, you can either:\n",
      "\t- Avoid using `tokenizers` before the fork if possible\n",
      "\t- Explicitly set the environment variable TOKENIZERS_PARALLELISM=(true | false)\n"
     ]
    },
    {
     "data": {
      "text/plain": [
       "-0.0029256775418027474"
      ]
     },
     "execution_count": 61,
     "metadata": {},
     "output_type": "execute_result"
    }
   ],
   "source": [
    "coherence_model_npmi = CoherenceModel(topics=topic_words,\n",
    "                                    texts=tokens,\n",
    "                                    corpus=corpus,\n",
    "                                    dictionary=dictionary,\n",
    "                                    topn=10,\n",
    "                                    coherence='c_npmi')\n",
    "\n",
    "npmi_score = coherence_model_npmi.get_coherence()\n",
    "npmi_score"
   ]
  },
  {
   "cell_type": "code",
   "execution_count": 31,
   "metadata": {},
   "outputs": [
    {
     "data": {
      "text/plain": [
       "0.655"
      ]
     },
     "execution_count": 31,
     "metadata": {},
     "output_type": "execute_result"
    }
   ],
   "source": [
    "def get_topic_diversity(topics, topk=10):\n",
    "    ''' Topic Diversity as the percentage of unique words in the top M words of all topics\n",
    "    Modified from octis implementation\n",
    "    \n",
    "    Parameters\n",
    "    ----------\n",
    "    topics : list of list of str\n",
    "        List of topics, where each topic is a list of words.\n",
    "    topk : int, optional\n",
    "    '''\n",
    "    if topics is None:\n",
    "        return 0\n",
    "    # if topk > len(topics[0]):\n",
    "    #     raise Exception('Words in topics are less than ' + str(self.topk))\n",
    "\n",
    "    unique_words = set()\n",
    "    for topic in topics:\n",
    "        unique_words = unique_words.union(set(topic[:topk]))\n",
    "    td = len(unique_words) / (topk * len(topics))\n",
    "    return td\n",
    "\n",
    "get_topic_diversity(topic_words)"
   ]
  },
  {
   "cell_type": "code",
   "execution_count": 33,
   "metadata": {},
   "outputs": [
    {
     "data": {
      "text/plain": [
       "0.9363353717539098"
      ]
     },
     "execution_count": 33,
     "metadata": {},
     "output_type": "execute_result"
    }
   ],
   "source": [
    "import itertools\n",
    "\n",
    "import sys\n",
    "sys.path.append('../')\n",
    "\n",
    "from rbo import rbo\n",
    "\n",
    "def get_word2index(list1, list2):\n",
    "    words = set(list1)\n",
    "    words = words.union(set(list2))\n",
    "    word2index = {w: i for i, w in enumerate(words)}\n",
    "    return word2index\n",
    "\n",
    "def get_inverted_RBO(topics, topk=10, weight=0.9):\n",
    "    ''' Inverted Rank-Biased Overlap (iRBO)\n",
    "    to measure the diversity of the topics\n",
    "    Modified from octis implementation\n",
    "\n",
    "    Parameters\n",
    "    ----------\n",
    "    topics : list of list of str\n",
    "        List of topics, where each topic is a list of words.\n",
    "    topk : int, optional\n",
    "    weight : float, optional\n",
    "    '''\n",
    "\n",
    "    if topics is None:\n",
    "        return 0\n",
    "    if topk > len(topics[0]):\n",
    "        raise Exception('Words in topics are less than topk')\n",
    "    else:\n",
    "        collect = []\n",
    "        for list1, list2 in itertools.combinations(topics, 2):\n",
    "            word2index = get_word2index(list1, list2)\n",
    "            indexed_list1 = [word2index[word] for word in list1]\n",
    "            indexed_list2 = [word2index[word] for word in list2]\n",
    "            rbo_val = rbo(indexed_list1[:topk], indexed_list2[:topk], p=weight)[2]\n",
    "            collect.append(rbo_val)\n",
    "        return 1 - np.mean(collect)\n",
    "    \n",
    "get_inverted_RBO(topic_words)"
   ]
  },
  {
   "cell_type": "code",
   "execution_count": 34,
   "metadata": {},
   "outputs": [
    {
     "data": {
      "text/plain": [
       "0.00022574783055084367"
      ]
     },
     "execution_count": 34,
     "metadata": {},
     "output_type": "execute_result"
    }
   ],
   "source": [
    "def _KL(P, Q):\n",
    "    \"\"\"\n",
    "    Perform Kullback-Leibler divergence\n",
    "\n",
    "    Parameters\n",
    "    ----------\n",
    "    P : distribution P\n",
    "    Q : distribution Q\n",
    "\n",
    "    Returns\n",
    "    -------\n",
    "    divergence : divergence from Q to P\n",
    "    \"\"\"\n",
    "    # add epsilon to grant absolute continuity\n",
    "    epsilon = 0.00001\n",
    "    P = P+epsilon\n",
    "    Q = Q+epsilon\n",
    "\n",
    "    divergence = np.sum(np.multiply(P, np.log(P/Q)))        # changed the operator from * to np.multiply to do element-wise multiplication\n",
    "    return divergence\n",
    "\n",
    "def get_kl_divergence(topic_word_metrix):\n",
    "    \"\"\"Compute KL divergence between topic-word distributions\n",
    "    to measure document covrage\n",
    "    Modified from octis implementation\n",
    "    https://github.com/MIND-Lab/OCTIS/blob/master/octis/evaluation_metrics/diversity_metrics.py#L209\n",
    "\n",
    "    Parameters\n",
    "    ----------\n",
    "    topic_word_metrix : topic-word distribution matrix\n",
    "    \"\"\"\n",
    "    beta = topic_word_metrix\n",
    "    kl_div = 0\n",
    "    count = 0\n",
    "    for i, j in itertools.combinations(range(len(beta)), 2):\n",
    "        kl_div += _KL(beta[i], beta[j])\n",
    "        count += 1\n",
    "    return kl_div / count\n",
    "\n",
    "get_kl_divergence(result_bertopic['topic-word-matrix'])"
   ]
  },
  {
   "cell_type": "code",
   "execution_count": 35,
   "metadata": {},
   "outputs": [
    {
     "data": {
      "text/plain": [
       "(21, 6968)"
      ]
     },
     "execution_count": 35,
     "metadata": {},
     "output_type": "execute_result"
    }
   ],
   "source": [
    "result_bertopic['topic-word-matrix'].shape"
   ]
  }
 ],
 "metadata": {
  "kernelspec": {
   "display_name": "fyp-test-tm",
   "language": "python",
   "name": "python3"
  },
  "language_info": {
   "codemirror_mode": {
    "name": "ipython",
    "version": 3
   },
   "file_extension": ".py",
   "mimetype": "text/x-python",
   "name": "python",
   "nbconvert_exporter": "python",
   "pygments_lexer": "ipython3",
   "version": "3.9.18"
  }
 },
 "nbformat": 4,
 "nbformat_minor": 2
}
