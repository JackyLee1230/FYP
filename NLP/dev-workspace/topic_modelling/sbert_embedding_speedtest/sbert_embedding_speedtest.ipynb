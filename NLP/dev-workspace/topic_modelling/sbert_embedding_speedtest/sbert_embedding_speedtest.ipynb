{
 "cells": [
  {
   "cell_type": "markdown",
   "metadata": {},
   "source": [
    "Speedtest with SBERT embedding on different machine"
   ]
  },
  {
   "cell_type": "code",
   "execution_count": 1,
   "metadata": {},
   "outputs": [],
   "source": [
    "import pandas as pd\n",
    "import numpy as np\n",
    "\n",
    "from pathlib import Path"
   ]
  },
  {
   "cell_type": "code",
   "execution_count": 2,
   "metadata": {},
   "outputs": [
    {
     "name": "stdout",
     "output_type": "stream",
     "text": [
      "<class 'pandas.core.frame.DataFrame'>\n",
      "Index: 75499 entries, 57735 to 133233\n",
      "Data columns (total 6 columns):\n",
      " #   Column        Non-Null Count  Dtype \n",
      "---  ------        --------------  ----- \n",
      " 0   index         75499 non-null  int64 \n",
      " 1   app_id        75499 non-null  int64 \n",
      " 2   app_name      75499 non-null  object\n",
      " 3   review_text   75499 non-null  object\n",
      " 4   review_score  75499 non-null  int64 \n",
      " 5   review_votes  75499 non-null  int64 \n",
      "dtypes: int64(4), object(2)\n",
      "memory usage: 4.0+ MB\n"
     ]
    }
   ],
   "source": [
    "# load the dataset\n",
    "\n",
    "dataset_path = Path('../../dataset/topic_modelling/top_10_games/00_Terraria.pkl')\n",
    "\n",
    "dataset = pd.read_pickle(dataset_path)\n",
    "\n",
    "dataset.info(verbose=True)"
   ]
  },
  {
   "cell_type": "code",
   "execution_count": 3,
   "metadata": {},
   "outputs": [],
   "source": [
    "X = dataset['review_text'].values\n",
    "X = X[:5000]        # take 10K as an example"
   ]
  },
  {
   "cell_type": "code",
   "execution_count": 4,
   "metadata": {},
   "outputs": [
    {
     "name": "stdout",
     "output_type": "stream",
     "text": [
      "cpu\n"
     ]
    }
   ],
   "source": [
    "import platform\n",
    "import torch\n",
    "\n",
    "if platform.system() == 'Linux' or platform.system() == 'Windows':\n",
    "    device = torch.device('cuda' if torch.cuda.is_available() else 'cpu')\n",
    "else:\n",
    "    device = torch.device('mps')\n",
    "\n",
    "print(device)"
   ]
  },
  {
   "cell_type": "code",
   "execution_count": 6,
   "metadata": {},
   "outputs": [],
   "source": [
    "import warnings\n",
    "\n",
    "def check_max_local_length(max_seq_length, texts):\n",
    "    max_local_length = np.max([len(t.split()) for t in texts])\n",
    "    if max_local_length > max_seq_length:\n",
    "        warnings.simplefilter(\"always\", DeprecationWarning)\n",
    "        warnings.warn(\n",
    "            f\"the longest document in your collection has {max_local_length} words, the model instead \"\n",
    "            f\"truncates to {max_seq_length} tokens.\"\n",
    "        )"
   ]
  },
  {
   "cell_type": "code",
   "execution_count": 5,
   "metadata": {},
   "outputs": [
    {
     "name": "stderr",
     "output_type": "stream",
     "text": [
      "/home/user/miniforge3/envs/fyp-test2-wsl-tm/lib/python3.9/site-packages/tqdm/auto.py:21: TqdmWarning: IProgress not found. Please update jupyter and ipywidgets. See https://ipywidgets.readthedocs.io/en/stable/user_install.html\n",
      "  from .autonotebook import tqdm as notebook_tqdm\n",
      "/tmp/ipykernel_11160/3719193714.py:12: UserWarning: the longest document in your collection has 1409 words, the model instead truncates to 256 tokens.\n",
      "  warnings.warn(\n",
      "Batches: 100%|██████████| 313/313 [01:20<00:00,  3.87it/s]\n"
     ]
    }
   ],
   "source": [
    "# load sbert module and test embedding\n",
    "\n",
    "import warnings\n",
    "from sentence_transformers import SentenceTransformer\n",
    "\n",
    "BATCH_SIZE = 16\n",
    "\n",
    "model = SentenceTransformer('all-MiniLM-L6-v2')     # our default model\n",
    "\n",
    "check_max_local_length(model.max_seq_length, X)\n",
    "\n",
    "X_embeddings = np.array(\n",
    "    model.encode(X, batch_size=BATCH_SIZE, show_progress_bar=True)\n",
    ")"
   ]
  },
  {
   "cell_type": "markdown",
   "metadata": {},
   "source": [
    "Windows CPU only observation (Batch size = 16)\n",
    "- Beginning is slow, around 1-2s/it\n",
    "- But then it speeds up to 4-6it/s\n",
    "- Seems depending on the length of the reviews\n",
    "\n",
    "Overall is 02:27 (can be as low as 01:20) for 5000 reviews, on a CPU only machine\n",
    "- Think the result is okay if deploying in the VM\n",
    "\n",
    "Memory is not an issue, running this notebook in WSL only consumes <=3GB ram before executing the cell above.  \n",
    "It can be executed on a 8GB WSL environment, with the actual ram usage around 2-3GB"
   ]
  },
  {
   "cell_type": "code",
   "execution_count": 7,
   "metadata": {},
   "outputs": [
    {
     "name": "stderr",
     "output_type": "stream",
     "text": [
      "/tmp/ipykernel_11160/970665325.py:7: UserWarning: the longest document in your collection has 1409 words, the model instead truncates to 256 tokens.\n",
      "  warnings.warn(\n",
      "Batches: 100%|██████████| 5000/5000 [01:56<00:00, 42.86it/s] \n"
     ]
    }
   ],
   "source": [
    "# load sbert module and test embedding\n",
    "\n",
    "import warnings\n",
    "from sentence_transformers import SentenceTransformer\n",
    "\n",
    "BATCH_SIZE = 1      # intensionally set to 1 to test with real-time response\n",
    "\n",
    "model = SentenceTransformer('all-MiniLM-L6-v2')     # our default model\n",
    "\n",
    "check_max_local_length(model.max_seq_length, X)\n",
    "\n",
    "X_embeddings = np.array(\n",
    "    model.encode(X, batch_size=BATCH_SIZE, show_progress_bar=True)\n",
    ")"
   ]
  },
  {
   "cell_type": "markdown",
   "metadata": {},
   "source": [
    "If batch size = 1, around 15 reviews per sec can be processed on the 8GB, CPU only, WSL env. (shorter reviews -> 35 reviews per second)\n",
    "\n",
    "During middle to end (with cache proximity ?, or just the reviews are shorter?), the speed can up to 80-90 reviews per sec."
   ]
  },
  {
   "cell_type": "code",
   "execution_count": 8,
   "metadata": {},
   "outputs": [
    {
     "name": "stdout",
     "output_type": "stream",
     "text": [
      "Average length: 61.839\n",
      "\n",
      "Median length: 25.0\n",
      "\n"
     ]
    }
   ],
   "source": [
    "# average length of the reviews\n",
    "print('Average length:', np.mean([len(t.split()) for t in X]))\n",
    "print()\n",
    "\n",
    "# median length of the reviews\n",
    "print('Median length:', np.median([len(t.split()) for t in X]))\n",
    "print()"
   ]
  },
  {
   "cell_type": "code",
   "execution_count": null,
   "metadata": {},
   "outputs": [],
   "source": []
  }
 ],
 "metadata": {
  "kernelspec": {
   "display_name": "fyp-test2-wsl-tm",
   "language": "python",
   "name": "python3"
  },
  "language_info": {
   "codemirror_mode": {
    "name": "ipython",
    "version": 3
   },
   "file_extension": ".py",
   "mimetype": "text/x-python",
   "name": "python",
   "nbconvert_exporter": "python",
   "pygments_lexer": "ipython3",
   "version": "3.9.18"
  }
 },
 "nbformat": 4,
 "nbformat_minor": 2
}
