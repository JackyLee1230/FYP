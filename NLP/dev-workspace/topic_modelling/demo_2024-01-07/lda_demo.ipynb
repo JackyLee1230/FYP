{
 "cells": [
  {
   "cell_type": "markdown",
   "metadata": {},
   "source": [
    "Demo ipynb for LDA\n",
    "\n",
    "Testing the pipeline for a single game"
   ]
  },
  {
   "cell_type": "code",
   "execution_count": 1,
   "metadata": {},
   "outputs": [],
   "source": [
    "import pandas as pd\n",
    "import numpy as np\n",
    "\n",
    "from pathlib import Path\n",
    "\n",
    "import gensim\n",
    "\n",
    "import spacy\n",
    "\n",
    "import nltk\n",
    "\n",
    "import pyLDAvis\n",
    "\n",
    "from datetime import datetime"
   ]
  },
  {
   "cell_type": "code",
   "execution_count": 2,
   "metadata": {},
   "outputs": [],
   "source": [
    "# download nltk stopwords\n",
    "# import nltk\n",
    "# nltk.download('stopwords')"
   ]
  },
  {
   "cell_type": "code",
   "execution_count": 3,
   "metadata": {},
   "outputs": [
    {
     "name": "stdout",
     "output_type": "stream",
     "text": [
      "<class 'pandas.core.frame.DataFrame'>\n",
      "Index: 81776 entries, 63365 to 145140\n",
      "Data columns (total 6 columns):\n",
      " #   Column        Non-Null Count  Dtype \n",
      "---  ------        --------------  ----- \n",
      " 0   index         81776 non-null  int64 \n",
      " 1   app_id        81776 non-null  int64 \n",
      " 2   app_name      81776 non-null  object\n",
      " 3   review_text   81776 non-null  object\n",
      " 4   review_score  81776 non-null  int64 \n",
      " 5   review_votes  81776 non-null  int64 \n",
      "dtypes: int64(4), object(2)\n",
      "memory usage: 4.4+ MB\n"
     ]
    }
   ],
   "source": [
    "# load a dataset\n",
    "\n",
    "dataset_path = Path('../../dataset/topic_modelling/top_10_games/00_Terraria.pkl')\n",
    "\n",
    "dataset = pd.read_pickle(dataset_path)\n",
    "\n",
    "dataset.info(verbose=True)"
   ]
  },
  {
   "cell_type": "code",
   "execution_count": 4,
   "metadata": {},
   "outputs": [],
   "source": [
    "# data preprocessing\n",
    "\n",
    "import re\n",
    "\n",
    "def clean(raw):\n",
    "    \"\"\" Remove hyperlinks and markup \"\"\"\n",
    "    result = re.sub(\"<[a][^>]*>(.+?)</[a]>\", 'Link.', raw)\n",
    "    result = re.sub('&gt;', \"\", result)\n",
    "    result = re.sub('&#x27;', \"'\", result)\n",
    "    result = re.sub('&quot;', '\"', result)\n",
    "    result = re.sub('&#x2F;', ' ', result)\n",
    "    result = re.sub('<p>', ' ', result)\n",
    "    result = re.sub('</i>', '', result)\n",
    "    result = re.sub('&#62;', '', result)\n",
    "    result = re.sub('<i>', ' ', result)\n",
    "    result = re.sub(\"\\n\", '', result)\n",
    "    return result\n",
    "\n",
    "def deEmojify(x):\n",
    "    regrex_pattern = re.compile(pattern = \"[\"\n",
    "        u\"\\U0001F600-\\U0001F64F\"  # emoticons\n",
    "        u\"\\U0001F300-\\U0001F5FF\"  # symbols & pictographs\n",
    "        u\"\\U0001F680-\\U0001F6FF\"  # transport & map symbols\n",
    "        u\"\\U0001F1E0-\\U0001F1FF\"  # flags (iOS)\n",
    "                           \"]+\", flags = re.UNICODE)\n",
    "    return regrex_pattern.sub(r'', x)\n",
    "    \n",
    "def remove_num(texts):\n",
    "   output = re.sub(r'\\d+', '', texts)\n",
    "   return output\n",
    "\n",
    "def unify_whitespaces(x):\n",
    "    cleaned_string = re.sub(' +', ' ', x)\n",
    "    return cleaned_string\n",
    "\n",
    "from nltk.corpus import stopwords\n",
    "stop=set(stopwords.words(\"english\"))\n",
    "def remove_stopword(text):\n",
    "   text=[word.lower() for word in text.split() if word.lower() not in stop]\n",
    "   return \" \".join(text)\n",
    "\n",
    "# only keep alphabets\n",
    "def remove_non_alphabets(text):\n",
    "    text = re.sub('[^a-zA-Z]', ' ', text)\n",
    "    return text\n",
    "\n",
    "def cleaning(df, review):\n",
    "    df[review] = df[review].apply(lambda x: clean(x))\n",
    "    df[review] = df[review].apply(lambda x: deEmojify(x))\n",
    "    df[review] = df[review].apply(lambda x: remove_num(x))\n",
    "    df[review] = df[review].apply(lambda x: unify_whitespaces(x))\n",
    "    df[review] = df[review].apply(lambda x: remove_non_alphabets(x))\n",
    "    df[review] = df[review].apply(lambda x: remove_stopword(x))\n",
    "    df[review] = df[review].apply(lambda x: x.lower())\n",
    "\n",
    "def cleaning_strlist(str_list):\n",
    "    str_list = list(map(lambda x: clean(x), str_list))\n",
    "    str_list = list(map(lambda x: deEmojify(x), str_list))\n",
    "    str_list = list(map(lambda x: remove_num(x), str_list))\n",
    "    str_list = list(map(lambda x: unify_whitespaces(x), str_list))\n",
    "    str_list = list(map(lambda x: remove_non_alphabets(x), str_list))\n",
    "    str_list = list(map(lambda x: remove_stopword(x), str_list))\n",
    "    str_list = list(map(lambda x: x.lower(), str_list))\n",
    "    return str_list"
   ]
  },
  {
   "cell_type": "code",
   "execution_count": 5,
   "metadata": {},
   "outputs": [],
   "source": [
    "# apply data preprocessing\n",
    "\n",
    "cleaning(dataset, 'review_text')"
   ]
  },
  {
   "cell_type": "code",
   "execution_count": 6,
   "metadata": {},
   "outputs": [],
   "source": [
    "X = dataset['review_text'].values"
   ]
  },
  {
   "cell_type": "code",
   "execution_count": 7,
   "metadata": {},
   "outputs": [
    {
     "data": {
      "text/plain": [
       "array(['werewolf riding unicorn shooting rainbows gun build teleporters find hair dresser spider cavern get sword shoots cats take lord moon using yoyo summon sharknado minion shoots sharks enemies find sky temples air wyverns spawn buy music box wizard go record music like playing base whenever want go build castle made entirely white marble would seem thing minecraft game dimension trust get used start learning game terraria simply one satisfying sandbox experiences may sound rude compared minecraft imagination',\n",
       "       'copies game go around giving people look sad', 'introduction',\n",
       "       ...,\n",
       "       'game game start newb get pro hours entertainment even get bored get mods newb',\n",
       "       'far one greatest games played yet',\n",
       "       'game awesome eye cthulhu possible'], dtype=object)"
      ]
     },
     "execution_count": 7,
     "metadata": {},
     "output_type": "execute_result"
    }
   ],
   "source": [
    "X"
   ]
  },
  {
   "cell_type": "code",
   "execution_count": 8,
   "metadata": {},
   "outputs": [
    {
     "data": {
      "text/plain": [
       "[('werewolf', 'NN'),\n",
       " ('riding', 'VBG'),\n",
       " ('unicorn', 'JJ'),\n",
       " ('shooting', 'NN'),\n",
       " ('rainbows', 'NNS'),\n",
       " ('gun', 'VBP'),\n",
       " ('build', 'JJ'),\n",
       " ('teleporters', 'NNS'),\n",
       " ('find', 'VBP'),\n",
       " ('hair', 'JJ'),\n",
       " ('dresser', 'NN'),\n",
       " ('spider', 'NN'),\n",
       " ('cavern', 'JJ'),\n",
       " ('get', 'NN'),\n",
       " ('sword', 'JJ'),\n",
       " ('shoots', 'NNS'),\n",
       " ('cats', 'NNS'),\n",
       " ('take', 'VBP'),\n",
       " ('lord', 'NN'),\n",
       " ('moon', 'NN'),\n",
       " ('using', 'VBG'),\n",
       " ('yoyo', 'JJ'),\n",
       " ('summon', 'JJ'),\n",
       " ('sharknado', 'NN'),\n",
       " ('minion', 'NN'),\n",
       " ('shoots', 'NNS'),\n",
       " ('sharks', 'JJ'),\n",
       " ('enemies', 'NNS'),\n",
       " ('find', 'VBP'),\n",
       " ('sky', 'JJ'),\n",
       " ('temples', 'NNS'),\n",
       " ('air', 'NN'),\n",
       " ('wyverns', 'VBZ'),\n",
       " ('spawn', 'JJ'),\n",
       " ('buy', 'NN'),\n",
       " ('music', 'NN'),\n",
       " ('box', 'NN'),\n",
       " ('wizard', 'NN'),\n",
       " ('go', 'VBP'),\n",
       " ('record', 'NN'),\n",
       " ('music', 'NN'),\n",
       " ('like', 'IN'),\n",
       " ('playing', 'VBG'),\n",
       " ('base', 'NN'),\n",
       " ('whenever', 'NN'),\n",
       " ('want', 'VBP'),\n",
       " ('go', 'VB'),\n",
       " ('build', 'JJ'),\n",
       " ('castle', 'NN'),\n",
       " ('made', 'VBD'),\n",
       " ('entirely', 'RB'),\n",
       " ('white', 'JJ'),\n",
       " ('marble', 'NN'),\n",
       " ('would', 'MD'),\n",
       " ('seem', 'VB'),\n",
       " ('thing', 'NN'),\n",
       " ('minecraft', 'NN'),\n",
       " ('game', 'NN'),\n",
       " ('dimension', 'NN'),\n",
       " ('trust', 'NN'),\n",
       " ('get', 'NN'),\n",
       " ('used', 'VBN'),\n",
       " ('start', 'RB'),\n",
       " ('learning', 'JJ'),\n",
       " ('game', 'NN'),\n",
       " ('terraria', 'NN'),\n",
       " ('simply', 'RB'),\n",
       " ('one', 'CD'),\n",
       " ('satisfying', 'VBG'),\n",
       " ('sandbox', 'NN'),\n",
       " ('experiences', 'NNS'),\n",
       " ('may', 'MD'),\n",
       " ('sound', 'VB'),\n",
       " ('rude', 'JJ'),\n",
       " ('compared', 'VBN'),\n",
       " ('minecraft', 'NN'),\n",
       " ('imagination', 'NN')]"
      ]
     },
     "execution_count": 8,
     "metadata": {},
     "output_type": "execute_result"
    }
   ],
   "source": [
    "# nltk.download('averaged_perceptron_tagger')\n",
    "t = nltk.word_tokenize(X[0])\n",
    "tt = nltk.pos_tag(t)\n",
    "tt"
   ]
  },
  {
   "cell_type": "code",
   "execution_count": 9,
   "metadata": {},
   "outputs": [],
   "source": [
    "# do lemmatization, but not stemming (as part of speech is important in topic modelling)\n",
    "# use nltk wordnet for lemmatization\n",
    "\n",
    "from nltk.stem import WordNetLemmatizer\n",
    "from nltk.corpus import wordnet\n",
    "\n",
    "lemma = WordNetLemmatizer()\n",
    "\n",
    "# from https://stackoverflow.com/questions/25534214/nltk-wordnet-lemmatizer-shouldnt-it-lemmatize-all-inflections-of-a-word\n",
    "\n",
    "# from: https://www.cnblogs.com/jclian91/p/9898511.html\n",
    "def get_wordnet_pos(tag):\n",
    "    if tag.startswith('J'):\n",
    "        return wordnet.ADJ\n",
    "    elif tag.startswith('V'):\n",
    "        return wordnet.VERB\n",
    "    elif tag.startswith('N'):\n",
    "        return wordnet.NOUN\n",
    "    elif tag.startswith('R'):\n",
    "        return wordnet.ADV\n",
    "    else:\n",
    "        return None     # if none -> created as noun by wordnet\n",
    "    \n",
    "def lemmatization(text):\n",
    "   # use nltk to get PoS tag\n",
    "    tagged = nltk.pos_tag(nltk.word_tokenize(text))\n",
    "\n",
    "    # then we only need adj, adv, verb, noun\n",
    "    # convert from nltk Penn Treebank tag to wordnet tag\n",
    "    wn_tagged = list(map(lambda x: (x[0], get_wordnet_pos(x[1])), tagged))\n",
    "\n",
    "    # lemmatize by the PoS\n",
    "    lemmatized = list(map(lambda x: lemma.lemmatize(x[0], pos=x[1] if x[1] else wordnet.NOUN), wn_tagged))\n",
    "    # lemma.lemmatize(wn_tagged[0], pos=wordnet.NOUN)\n",
    "\n",
    "    return lemmatized"
   ]
  },
  {
   "cell_type": "code",
   "execution_count": 10,
   "metadata": {},
   "outputs": [],
   "source": [
    "# lemmatize the data\n",
    "\n",
    "X_lemmatized = list(map(lambda x: lemmatization(x), X))"
   ]
  },
  {
   "cell_type": "code",
   "execution_count": 11,
   "metadata": {},
   "outputs": [
    {
     "data": {
      "text/plain": [
       "['werewolf',\n",
       " 'rid',\n",
       " 'unicorn',\n",
       " 'shooting',\n",
       " 'rainbow',\n",
       " 'gun',\n",
       " 'build',\n",
       " 'teleporters',\n",
       " 'find',\n",
       " 'hair',\n",
       " 'dresser',\n",
       " 'spider',\n",
       " 'cavern',\n",
       " 'get',\n",
       " 'sword',\n",
       " 'shoot',\n",
       " 'cat',\n",
       " 'take',\n",
       " 'lord',\n",
       " 'moon',\n",
       " 'use',\n",
       " 'yoyo',\n",
       " 'summon',\n",
       " 'sharknado',\n",
       " 'minion',\n",
       " 'shoot',\n",
       " 'sharks',\n",
       " 'enemy',\n",
       " 'find',\n",
       " 'sky',\n",
       " 'temple',\n",
       " 'air',\n",
       " 'wyverns',\n",
       " 'spawn',\n",
       " 'buy',\n",
       " 'music',\n",
       " 'box',\n",
       " 'wizard',\n",
       " 'go',\n",
       " 'record',\n",
       " 'music',\n",
       " 'like',\n",
       " 'play',\n",
       " 'base',\n",
       " 'whenever',\n",
       " 'want',\n",
       " 'go',\n",
       " 'build',\n",
       " 'castle',\n",
       " 'make',\n",
       " 'entirely',\n",
       " 'white',\n",
       " 'marble',\n",
       " 'would',\n",
       " 'seem',\n",
       " 'thing',\n",
       " 'minecraft',\n",
       " 'game',\n",
       " 'dimension',\n",
       " 'trust',\n",
       " 'get',\n",
       " 'use',\n",
       " 'start',\n",
       " 'learning',\n",
       " 'game',\n",
       " 'terrarium',\n",
       " 'simply',\n",
       " 'one',\n",
       " 'satisfy',\n",
       " 'sandbox',\n",
       " 'experience',\n",
       " 'may',\n",
       " 'sound',\n",
       " 'rude',\n",
       " 'compare',\n",
       " 'minecraft',\n",
       " 'imagination']"
      ]
     },
     "execution_count": 11,
     "metadata": {},
     "output_type": "execute_result"
    }
   ],
   "source": [
    "X_lemmatized[0]"
   ]
  },
  {
   "cell_type": "code",
   "execution_count": 12,
   "metadata": {},
   "outputs": [],
   "source": [
    "# use gensim to build a dictionary and train our LDAModel\n",
    "\n",
    "id2word = gensim.corpora.Dictionary(X_lemmatized)\n",
    "\n",
    "corpus = [id2word.doc2bow(text) for text in X_lemmatized]"
   ]
  },
  {
   "cell_type": "code",
   "execution_count": 14,
   "metadata": {},
   "outputs": [],
   "source": [
    "N_TOPICS = 20\n",
    "\n",
    "lda_model = gensim.models.ldamulticore.LdaMulticore(corpus=corpus,\n",
    "                                             id2word=id2word,\n",
    "                                             num_topics=N_TOPICS,         # later can use grid search to find the best number of topics\n",
    "                                             random_state=42,\n",
    "                                             chunksize=100,\n",
    "                                             passes=10,\n",
    "                                            #  alpha='auto',\n",
    "                                             workers=2)"
   ]
  },
  {
   "cell_type": "markdown",
   "metadata": {},
   "source": [
    "visualize the data"
   ]
  },
  {
   "cell_type": "code",
   "execution_count": 15,
   "metadata": {},
   "outputs": [
    {
     "name": "stderr",
     "output_type": "stream",
     "text": [
      "/root/miniforge3/envs/fyp-test-wsl-tm/lib/python3.9/site-packages/sklearn/manifold/_mds.py:298: FutureWarning: The default value of `normalized_stress` will change to `'auto'` in version 1.4. To suppress this warning, manually set the value of `normalized_stress`.\n",
      "  warnings.warn(\n"
     ]
    },
    {
     "data": {
      "text/html": [
       "\n",
       "<link rel=\"stylesheet\" type=\"text/css\" href=\"https://cdn.jsdelivr.net/gh/bmabey/pyLDAvis@3.4.0/pyLDAvis/js/ldavis.v1.0.0.css\">\n",
       "\n",
       "\n",
       "<div id=\"ldavis_el361231396930616758247767705527\" style=\"background-color:white;\"></div>\n",
       "<script type=\"text/javascript\">\n",
       "\n",
       "var ldavis_el361231396930616758247767705527_data = {\"mdsDat\": {\"x\": [-0.0639737125510944, -0.18937121591646014, -0.3247056227834533, -0.18839823322599958, -0.0345235041548615, 0.14416558238854285, 0.1334548192150135, -0.3536989459131175, 0.3164409358290706, -0.3955942522128215, 0.2525360021803431, -0.039302431053232306, -0.495463715017354, 0.3060251236515814, 0.2644876992109865, 0.4199770157725885, 0.4543515196488892, 0.08028582291775306, -0.2220858231518512, -0.06460706483452375], \"y\": [0.250284663258465, 0.14016169993088978, 0.24426601789670907, 0.3542298105841274, 0.39913020323196113, 0.3910713276172646, 0.2279655917176472, -0.0810095792592039, 0.294645127052631, -0.24736000281019743, 0.060694290543209184, -0.12438148106098926, 0.03051872353804229, -0.14055709410481995, -0.4156969834891102, 0.10136615064893667, -0.21790189323089534, -0.39393456365702445, -0.39947887815258376, -0.4740131302550588], \"topics\": [1, 2, 3, 4, 5, 6, 7, 8, 9, 10, 11, 12, 13, 14, 15, 16, 17, 18, 19, 20], \"cluster\": [1, 1, 1, 1, 1, 1, 1, 1, 1, 1, 1, 1, 1, 1, 1, 1, 1, 1, 1, 1], \"Freq\": [15.97799086523077, 15.332475104440531, 13.817679755622517, 7.488641566511478, 7.116679977763289, 6.71867803900754, 5.959928899441372, 4.759503245506293, 3.1584741453710903, 2.8668926255647755, 2.725184499213701, 2.604000264870578, 2.372335143172987, 1.8997191699745613, 1.6571696873265442, 1.4850674590390103, 1.106116509938325, 1.0790336384093082, 0.952111727030662, 0.9223176765646558]}, \"tinfo\": {\"Term\": [\"game\", \"get\", \"good\", \"minecraft\", \"play\", \"love\", \"fun\", \"best\", \"one\", \"like\", \"server\", \"played\", \"join\", \"awsome\", \"solo\", \"download\", \"funny\", \"understand\", \"lol\", \"cheat\", \"thought\", \"slow\", \"easy\", \"hard\", \"start\", \"friend\", \"play\", \"get\", \"first\", \"though\", \"game\", \"time\", \"fun\", \"really\", \"like\", \"side\", \"progression\", \"art\", \"lack\", \"sound\", \"sense\", \"scroll\", \"gamers\", \"environment\", \"retro\", \"style\", \"pixel\", \"exploration\", \"graphic\", \"combat\", \"rpg\", \"simple\", \"feel\", \"world\", \"gameplay\", \"sandbox\", \"game\", \"terrarium\", \"building\", \"one\", \"make\", \"weapon\", \"con\", \"pro\", \"event\", \"class\", \"biome\", \"range\", \"lots\", \"step\", \"melee\", \"boss\", \"item\", \"farm\", \"bos\", \"fight\", \"enemy\", \"many\", \"armor\", \"build\", \"mode\", \"different\", \"thing\", \"game\", \"minecraft\", \"rip\", \"clone\", \"ripoff\", \"io\", \"cough\", \"better\", \"superior\", \"diamond\", \"redstone\", \"compare\", \"like\", \"people\", \"wrong\", \"well\", \"think\", \"terrarium\", \"say\", \"terraria\", \"game\", \"way\", \"much\", \"year\", \"ago\", \"happy\", \"five\", \"plz\", \"future\", \"million\", \"till\", \"scratch\", \"ta\", \"back\", \"update\", \"come\", \"new\", \"month\", \"still\", \"hour\", \"always\", \"keep\", \"time\", \"play\", \"game\", \"wow\", \"pure\", \"pass\", \"engage\", \"crack\", \"terra\", \"casually\", \"potato\", \"alternative\", \"nostalgia\", \"highly\", \"recommend\", \"fun\", \"great\", \"anyone\", \"friend\", \"really\", \"game\", \"play\", \"lot\", \"would\", \"content\", \"worth\", \"price\", \"support\", \"value\", \"replay\", \"pay\", \"dollar\", \"cost\", \"buck\", \"sale\", \"money\", \"cheap\", \"free\", \"amount\", \"game\", \"hour\", \"buy\", \"much\", \"update\", \"great\", \"die\", \"night\", \"op\", \"tree\", \"co\", \"dirt\", \"crash\", \"hole\", \"jungle\", \"corrupt\", \"dig\", \"hell\", \"house\", \"spawn\", \"go\", \"kill\", \"world\", \"make\", \"build\", \"find\", \"best\", \"ever\", \"ive\", \"can\", \"not\", \"mario\", \"pocket\", \"wake\", \"freeze\", \"surround\", \"addictive\", \"one\", \"play\", \"game\", \"probably\", \"sandbox\", \"far\", \"sword\", \"gun\", \"giant\", \"fly\", \"shoot\", \"unicorn\", \"bunny\", \"rainbow\", \"bee\", \"worm\", \"fish\", \"eye\", \"slime\", \"kill\", \"would\", \"awesome\", \"recomend\", \"tho\", \"mad\", \"fps\", \"device\", \"winter\", \"chose\", \"grade\", \"currency\", \"amazing\", \"amaze\", \"everybody\", \"buy\", \"favorite\", \"must\", \"spent\", \"word\", \"game\", \"epic\", \"already\", \"stop\", \"cant\", \"please\", \"ok\", \"fix\", \"lt\", \"waste\", \"guess\", \"award\", \"otherworld\", \"thanks\", \"review\", \"steam\", \"need\", \"help\", \"wish\", \"say\", \"wait\", \"terrarium\", \"game\", \"save\", \"man\", \"pirate\", \"delete\", \"master\", \"skeletron\", \"cthulu\", \"sweet\", \"king\", \"hack\", \"flesh\", \"get\", \"bore\", \"never\", \"beat\", \"wall\", \"stuff\", \"kill\", \"lose\", \"hardmode\", \"good\", \"pretty\", \"nice\", \"crap\", \"soul\", \"pillar\", \"moonlord\", \"plantera\", \"golem\", \"cultist\", \"game\", \"pc\", \"dont\", \"im\", \"super\", \"p\", \"xbox\", \"console\", \"wont\", \"mobile\", \"hey\", \"reccomend\", \"version\", \"computer\", \"love\", \"favourite\", \"gud\", \"soo\", \"edition\", \"tf\", \"animal\", \"cool\", \"history\", \"mlg\", \"much\", \"game\", \"u\", \"there\", \"moment\", \"click\", \"eat\", \"casual\", \"r\", \"self\", \"child\", \"k\", \"forever\", \"totally\", \"perfect\", \"miss\", \"suck\", \"check\", \"everytime\", \"f\", \"realy\", \"definately\", \"absolute\", \"c\", \"weird\", \"google\", \"minute\", \"top\", \"ten\", \"life\", \"guy\", \"saw\", \"xd\", \"win\", \"portal\", \"dead\", \"sad\", \"somehow\", \"horrible\", \"bad\", \"pack\", \"away\", \"instead\", \"starbound\", \"addict\", \"lord\", \"na\", \"hate\", \"gon\", \"wan\", \"freak\", \"question\", \"sidescroller\", \"egg\", \"moon\", \"god\", \"warn\", \"oh\"], \"Freq\": [121803.0, 25996.0, 15675.0, 22556.0, 34636.0, 11029.0, 21794.0, 10801.0, 13613.0, 21240.0, 2115.380892642959, 1271.2499270176527, 854.7173536450742, 845.0434051962573, 777.450617204827, 630.5810747679768, 570.111154847753, 465.48558549636704, 407.5487268298129, 384.42411317681285, 405.22178602949526, 728.1178596792041, 2107.524554604691, 2422.1944095211325, 3608.9424637229126, 5665.949946245738, 12981.08732293518, 9581.524880462548, 3226.8339301360684, 1727.6597989800432, 22003.618176122025, 4517.539257977241, 5263.013015672847, 3577.0008483984857, 3585.852330732505, 1419.2760016403986, 1263.9071439623267, 906.5074253919198, 596.9772181513471, 557.0071814219526, 524.0289220609345, 484.11064154075564, 429.8228913557661, 422.3089213850101, 420.15113292752824, 1997.0108121775088, 1200.2369250100091, 1579.3860328756928, 2100.444453320733, 1630.3066401449446, 1373.419296906784, 1351.4893177127608, 2056.0743182112687, 4846.377342780056, 1938.302272851574, 2479.5643713877876, 11063.406344090066, 4554.315706053505, 1912.0023815150187, 2566.368971104866, 2275.953685912229, 5671.420777333121, 1805.8481683601865, 1453.9735775877862, 1379.7089288786738, 1343.1089037929482, 1206.172605871769, 689.8858414132067, 522.2192839170426, 470.2114743192457, 469.25405403071187, 10943.729827727142, 8083.295862700496, 826.0476985702371, 4332.623830403787, 5713.345908034686, 2651.79462609137, 5304.618670476972, 2259.493709763162, 4466.840790589588, 2765.9698347454078, 3053.23141848813, 4249.54436496481, 6830.419846156943, 22555.286074878702, 779.331555932186, 693.1545036715238, 450.03396786620925, 245.62621029590576, 207.17118516316307, 159.4569878207126, 123.56799952832877, 115.42783535140713, 88.37397984508485, 1197.3980127036257, 12870.031425765213, 3132.4604117676136, 803.4010321664898, 5314.66347626863, 3532.1828978793887, 7104.622401565957, 3200.153043907876, 2405.7942545200463, 9707.05781040494, 2174.380035263691, 2623.0787885256022, 3505.791659467889, 801.9484173177398, 380.58649884189856, 343.1563733605871, 307.18030722558484, 267.08547638420424, 260.15816745677677, 230.68113119689502, 220.3910073628225, 190.19431429366466, 2841.109535059217, 5079.473355271444, 3601.0007426737475, 5247.135871078765, 660.6096917583272, 4415.244376326832, 7341.034000850628, 2054.100553213642, 2310.320142227757, 4542.29922555805, 6844.817952793613, 10159.1634890646, 468.5572096945728, 203.55380255233283, 202.5111863566928, 168.222282030064, 163.8310835351562, 142.7202951881744, 90.37767710283661, 83.4055970644461, 74.84107637186318, 74.65158801221166, 2020.036786107048, 5413.961293274602, 14945.619220912327, 10716.290197273793, 2022.9479848378298, 5725.524899167596, 4700.4821275429695, 22513.03292722088, 8243.44303732288, 2729.8722274532383, 3075.720088754787, 7140.515379037012, 5742.024252903594, 2117.3362419299915, 1063.9552921098516, 916.4682431482478, 859.0576792756669, 721.7906353505049, 712.7653337742264, 616.5372058284414, 543.0198812094234, 1830.9710446287954, 1856.7623856784026, 1120.1913847419776, 1121.9730048459314, 1464.6043697004418, 7911.642920099109, 2814.5789975178272, 2327.2254714562664, 1978.2876690370003, 1651.8936629957832, 1718.9554513498529, 3029.7531944810657, 1169.5050986161145, 1125.7696539048313, 663.9822133560658, 663.7264649923426, 602.1550828159056, 516.0575126162406, 503.309541104281, 452.85084017671426, 434.73561006904816, 1338.666847993356, 1306.757690878782, 1885.281159095678, 904.9323246468497, 2951.440629218281, 1848.722097895084, 2525.728627822033, 1973.2890181902844, 1629.5090691440955, 1347.0467189663461, 10800.468031968572, 7034.889558561284, 1240.7722141778613, 322.1343074237416, 320.9931525817035, 177.89320474944134, 60.23929532487301, 20.26700387332754, 19.085606449084853, 10.740252100675223, 987.0737510917419, 6835.925281623387, 6566.561446702962, 11122.276257203508, 558.15601516168, 907.261253450589, 569.1701214830181, 1384.3764142844902, 1381.956061601912, 1317.5255805350512, 1261.0339088738797, 1056.8637234366163, 817.2424950414744, 705.5698947884376, 542.0061342102634, 518.4964476653568, 510.08549193850536, 833.1174835112306, 913.7413120621727, 766.7385330487916, 1168.3412838583763, 1014.1488167332727, 5991.887278008834, 1119.4414631926954, 265.7462337996664, 212.76563819670667, 160.21782819102623, 128.590204287174, 81.26903932176667, 56.61385579955952, 44.500000240703834, 35.69771970497556, 3720.7298100351113, 3367.3370647345228, 242.50795377651963, 5165.316835397861, 1502.6177586163071, 1010.5532653364176, 559.1791609813324, 403.02559189288655, 11541.422211336878, 542.5121127765257, 647.9315666790287, 672.2898260688384, 1347.258345403013, 1281.1158570249993, 996.6650661306094, 803.7002919090979, 653.6986013705041, 589.8483741797779, 571.1384945464058, 503.55993342325127, 476.6298165097773, 454.59787634529874, 1876.8431104531508, 2203.1983169013843, 1861.2662306717245, 1111.7849419070214, 688.7534695681602, 1699.7837228797623, 867.7779254896064, 1545.209495489851, 1340.7775619368228, 632.1902651881406, 579.5059957704718, 448.5515968083483, 421.8333653622847, 388.2259703688881, 326.95120527180916, 296.74505975860234, 224.5234037362173, 212.07783941262048, 204.8527009502309, 884.8225785927555, 11864.176919089154, 1138.2388999727739, 1674.9229765125594, 1339.7249592351773, 869.3203916521159, 1490.4886916735522, 1363.2604346322862, 726.4351195173775, 682.1045689858811, 15674.651590053647, 3535.7923826617753, 2172.188167065905, 361.4586112586589, 296.0786981867405, 285.730215195886, 284.5381102528266, 283.71903013063195, 187.45586605260874, 179.39760324240547, 3415.863435753266, 2283.0761061033345, 2183.1667345100595, 1859.8923604472996, 1294.13210123473, 1170.2555127316691, 1146.3654325312573, 889.2232685133669, 642.2400395288084, 534.2144366284471, 457.82400717858616, 1185.2423340560852, 1426.411725669287, 868.9580054797715, 11028.2984130797, 561.0533311419375, 281.3956661735188, 195.69633779872072, 173.1119166330228, 140.28915277882328, 132.85067839175125, 3246.5359282551412, 107.51402079448157, 68.25866091288424, 2119.627700983073, 4172.893159385479, 2532.2617244301923, 687.6952485449957, 559.5168585906151, 529.1485386180791, 399.2942601732473, 394.79083207975276, 330.58103916411835, 270.2212466339881, 269.9653354406277, 261.34369917622826, 465.0667858699092, 621.2933132430909, 664.0616384112092, 347.2619836337991, 930.3712997069242, 809.9974518714037, 506.9692107809201, 500.46853301321653, 417.71496113041684, 406.7802990645156, 312.88861987271656, 273.04333276131496, 225.24168664280646, 222.23739605295944, 725.4930628965409, 565.3905995890306, 332.61198444029753, 3021.5405357154095, 802.2363355791963, 599.0069058623926, 531.1931990533513, 421.59401726169574, 349.93662446315255, 297.60175986375503, 261.7125554457702, 251.88195333713725, 235.7573962242329, 862.1366534500171, 478.69864919186364, 446.9356374032055, 339.6460099966602, 354.8066755361984, 1947.6723142603444, 1351.7724955338322, 1001.8848345554322, 594.272714492116, 537.9979363416453, 519.9681185448203, 266.78002042616214, 229.0010571515043, 197.40072631341738, 181.72336094784526, 1715.2933741633178, 678.2759619118789, 272.3494760269011, 281.1565542617148], \"Total\": [121803.0, 25996.0, 15675.0, 22556.0, 34636.0, 11029.0, 21794.0, 10801.0, 13613.0, 21240.0, 2116.4753793818913, 1272.344413765469, 855.8118403840068, 846.1378919351898, 778.545103946895, 631.6755615069094, 571.205641590815, 466.67209827404, 408.6432135728748, 385.51859996062296, 406.37911872507794, 742.2492626403529, 2904.1331046604105, 3492.7704898334478, 5864.945228410319, 11392.519676513115, 34636.85490072013, 25996.61757735071, 5638.327184663266, 2483.2464694176906, 121803.82106836644, 14470.09063136024, 21794.179676478063, 9863.550185677514, 21240.25278034606, 1420.358308879783, 1264.989451201711, 907.5897326366556, 598.0595253907314, 558.0894886666885, 525.1112293056703, 485.19294878013983, 430.90519859927974, 423.3912286243943, 421.23344016691243, 2110.9000633771097, 1258.8005221113767, 1719.2684599935692, 2495.916639299044, 1936.6477072546816, 1836.8642280506406, 1822.9245891777318, 3257.25089782087, 11204.452668587404, 3560.493893252026, 5785.593218236563, 121803.82106836644, 19950.808916278816, 3532.2968363136397, 13613.92833212434, 11805.832530194673, 5672.511917846441, 1806.9393088735055, 1455.0647181011052, 1380.8000693919928, 1344.2000443062673, 1207.263746385088, 690.9769819265255, 523.3104244303614, 471.30261484405577, 470.34519454403056, 12032.348232821281, 8937.211138813469, 846.7149125733548, 4882.334831814719, 6867.059580767091, 2985.209999357115, 8875.59325983644, 2765.530334947608, 7816.840736037407, 3894.074348269156, 4722.250473383253, 9731.798025094402, 121803.82106836644, 22556.37231169757, 780.4177927510574, 694.2407404903952, 451.12020468508047, 246.7124471349158, 208.2574220068649, 160.54322463958385, 124.65423635164217, 116.5140721842014, 89.46021667374968, 1358.842733337936, 21240.25278034606, 5489.427449079233, 1117.9627756727723, 10937.509527208433, 6710.31005168796, 19950.808916278816, 7862.403300972461, 6361.77325598411, 121803.82106836644, 6133.621241406445, 12654.91947589006, 3506.890518514392, 803.047276364243, 381.6853578884016, 344.25523240709015, 308.27916628726473, 268.1843354375938, 261.25702651038876, 231.7799902478402, 221.48986640932554, 191.293173344596, 3516.693407274571, 6732.4118376300985, 4956.150523816636, 8063.715767793966, 774.2246537441678, 7501.506304840717, 14173.086078025366, 3497.5165703382822, 4109.406398428963, 14470.09063136024, 34636.85490072013, 121803.82106836644, 469.65481808243464, 204.65141097798747, 203.60879477013347, 169.31989040051158, 164.9286919373211, 143.81790367679602, 91.47528550313173, 84.50320544105729, 75.93868484703125, 75.74919641632984, 2303.526604938977, 6606.956771449276, 21794.179676478063, 15307.507709043877, 2610.3107876184263, 11392.519676513115, 9863.550185677514, 121803.82106836644, 34636.85490072013, 8172.809310553473, 10470.06005835439, 7141.608603356533, 5743.117477223115, 2118.4294662495113, 1065.0485164293716, 917.5614674677678, 860.150903595187, 722.8838596700249, 713.8585580937464, 617.6304301479614, 544.1131055289434, 1982.5903776773046, 2117.470561074436, 1289.4703668235552, 1552.4406464624276, 2742.8999948880914, 121803.82106836644, 14173.086078025366, 8944.420903028536, 12654.91947589006, 6732.4118376300985, 15307.507709043877, 3030.8331507679845, 1170.585054903034, 1126.8496101917508, 665.0621696429853, 664.806421279262, 603.2350391028251, 517.1374689031601, 504.3894973912003, 453.93079646363356, 435.81556635596746, 1547.7571507914943, 1519.0952907954188, 2554.3874284433036, 1094.1657189117504, 8275.320186829318, 5492.291642805254, 11204.452668587404, 11805.832530194673, 7816.840736037407, 5804.8392885972025, 10801.56401079409, 7035.985537386801, 1241.868193003378, 323.23028624925826, 322.0891314072202, 178.98918357495802, 61.33527421361258, 21.362982698844252, 20.181585274601566, 11.83623099029167, 1485.6166388097563, 13613.92833212434, 34636.85490072013, 121803.82106836644, 1619.2590649671454, 5785.593218236563, 1861.6833636810832, 1385.4607500561112, 1383.040397373533, 1318.6099163066722, 1262.1182446455007, 1057.9480592082373, 818.3268308130955, 706.6542305600587, 543.0904699818846, 519.5807834369779, 511.1698277145685, 958.9808351453884, 1527.7053132965793, 1282.3946309956664, 5492.291642805254, 10470.06005835439, 5992.983459632194, 1120.5376448160548, 266.84241542302584, 213.86181982985968, 161.3140098181138, 129.6863859167201, 82.36522110880017, 57.710037464338264, 45.59618190755994, 36.79390139901148, 4449.979249656496, 4082.081468132444, 267.4042715091936, 8944.420903028536, 2372.626028911914, 1790.0344498918532, 873.0221268178242, 589.4087996197017, 121803.82106836644, 977.0089538481324, 1645.731732566822, 1890.4867923308675, 1348.3534054196955, 1282.2109170416818, 997.7601261472918, 804.7953519257803, 654.7936613871865, 590.9434341964603, 572.2335545630882, 504.6549935295117, 477.7248765353433, 455.6929363619812, 3091.9671313549165, 4598.2710929995455, 3882.048455733598, 2098.2245455449074, 847.2182388532173, 7862.403300972461, 1681.0795859389577, 19950.808916278816, 121803.82106836644, 633.2795731813653, 580.5953037636965, 449.64090481136645, 422.9226733603701, 389.31527836211274, 328.0405132650338, 297.83436775182696, 225.61271172944194, 213.16714741119657, 205.94200895429267, 1105.3849638819747, 25996.61757735071, 1954.382347888392, 3947.8880975696975, 2988.507014461326, 1512.1718903079102, 3971.954161646889, 5492.291642805254, 1620.396411102258, 1337.299166986559, 15675.746584887334, 3536.8873774954604, 2173.28316189959, 362.55360609234424, 297.1736930302194, 286.8252100674186, 285.633105089833, 284.8140249643173, 188.5508609218828, 180.49259808832883, 121803.82106836644, 2284.1697856980936, 2184.2604141048187, 1860.9860400420587, 1295.2257808294892, 1171.3491923264282, 1147.4591121260164, 890.316948108126, 643.3337191235676, 535.3081162232062, 458.9176867733452, 1341.8573747564863, 2064.86088630316, 1441.241724723333, 11029.392297882265, 562.1472159445003, 282.4895509760816, 196.79022260128357, 174.20580143558564, 141.38303763701342, 133.9445631943141, 3274.502447666775, 108.60790559704438, 69.35254572852024, 12654.91947589006, 121803.82106836644, 2533.3404473102814, 688.7739714250847, 560.5955814751463, 530.2272614981681, 400.3729830533364, 395.8695549598418, 331.6597620442074, 271.29996951407713, 271.0440583207168, 262.4224220563173, 634.6791888776573, 1143.7115942074688, 1355.9490539536075, 536.6014298485551, 931.4501228770761, 811.0762750415555, 508.04803395107194, 501.5473561833684, 418.7937843005687, 407.85912223466744, 313.9674430428684, 274.1221559314668, 226.3205098129583, 223.31621923128156, 1138.270250388185, 862.5795386890713, 586.3908029090494, 3022.6237868648727, 803.3195867286594, 600.0901570118557, 532.2764502028144, 422.6772684111588, 351.01987561796705, 298.6850110132181, 262.7958065952333, 252.9652044866003, 236.84064737369596, 2105.5262519976463, 832.3793690269323, 895.464727446779, 612.5909000812338, 802.9807906124757, 1948.7622903316867, 1352.8624716051745, 1002.9748106267746, 595.3626905634584, 539.0879124129876, 521.0580946161626, 267.8699964975044, 230.09103322284662, 198.4907023847597, 182.8133370487383, 1923.0472738335015, 734.406628219379, 329.83795888717333, 1165.906689408574], \"Category\": [\"Default\", \"Default\", \"Default\", \"Default\", \"Default\", \"Default\", \"Default\", \"Default\", \"Default\", \"Default\", \"Topic1\", \"Topic1\", \"Topic1\", \"Topic1\", \"Topic1\", \"Topic1\", \"Topic1\", \"Topic1\", \"Topic1\", \"Topic1\", \"Topic1\", \"Topic1\", \"Topic1\", \"Topic1\", \"Topic1\", \"Topic1\", \"Topic1\", \"Topic1\", \"Topic1\", \"Topic1\", \"Topic1\", \"Topic1\", \"Topic1\", \"Topic1\", \"Topic1\", \"Topic2\", \"Topic2\", \"Topic2\", \"Topic2\", \"Topic2\", \"Topic2\", \"Topic2\", \"Topic2\", \"Topic2\", \"Topic2\", \"Topic2\", \"Topic2\", \"Topic2\", \"Topic2\", \"Topic2\", \"Topic2\", \"Topic2\", \"Topic2\", \"Topic2\", \"Topic2\", \"Topic2\", \"Topic2\", \"Topic2\", \"Topic2\", \"Topic2\", \"Topic2\", \"Topic3\", \"Topic3\", \"Topic3\", \"Topic3\", \"Topic3\", \"Topic3\", \"Topic3\", \"Topic3\", \"Topic3\", \"Topic3\", \"Topic3\", \"Topic3\", \"Topic3\", \"Topic3\", \"Topic3\", \"Topic3\", \"Topic3\", \"Topic3\", \"Topic3\", \"Topic3\", \"Topic3\", \"Topic3\", \"Topic3\", \"Topic4\", \"Topic4\", \"Topic4\", \"Topic4\", \"Topic4\", \"Topic4\", \"Topic4\", \"Topic4\", \"Topic4\", \"Topic4\", \"Topic4\", \"Topic4\", \"Topic4\", \"Topic4\", \"Topic4\", \"Topic4\", \"Topic4\", \"Topic4\", \"Topic4\", \"Topic4\", \"Topic4\", \"Topic4\", \"Topic5\", \"Topic5\", \"Topic5\", \"Topic5\", \"Topic5\", \"Topic5\", \"Topic5\", \"Topic5\", \"Topic5\", \"Topic5\", \"Topic5\", \"Topic5\", \"Topic5\", \"Topic5\", \"Topic5\", \"Topic5\", \"Topic5\", \"Topic5\", \"Topic5\", \"Topic5\", \"Topic5\", \"Topic5\", \"Topic6\", \"Topic6\", \"Topic6\", \"Topic6\", \"Topic6\", \"Topic6\", \"Topic6\", \"Topic6\", \"Topic6\", \"Topic6\", \"Topic6\", \"Topic6\", \"Topic6\", \"Topic6\", \"Topic6\", \"Topic6\", \"Topic6\", \"Topic6\", \"Topic6\", \"Topic6\", \"Topic6\", \"Topic7\", \"Topic7\", \"Topic7\", \"Topic7\", \"Topic7\", \"Topic7\", \"Topic7\", \"Topic7\", \"Topic7\", \"Topic7\", \"Topic7\", \"Topic7\", \"Topic7\", \"Topic7\", \"Topic7\", \"Topic7\", \"Topic7\", \"Topic7\", \"Topic7\", \"Topic7\", \"Topic7\", \"Topic8\", \"Topic8\", \"Topic8\", \"Topic8\", \"Topic8\", \"Topic8\", \"Topic8\", \"Topic8\", \"Topic8\", \"Topic8\", \"Topic8\", \"Topic8\", \"Topic8\", \"Topic8\", \"Topic8\", \"Topic8\", \"Topic8\", \"Topic8\", \"Topic8\", \"Topic8\", \"Topic9\", \"Topic9\", \"Topic9\", \"Topic9\", \"Topic9\", \"Topic9\", \"Topic9\", \"Topic9\", \"Topic9\", \"Topic9\", \"Topic9\", \"Topic9\", \"Topic9\", \"Topic9\", \"Topic9\", \"Topic9\", \"Topic9\", \"Topic10\", \"Topic10\", \"Topic10\", \"Topic10\", \"Topic10\", \"Topic10\", \"Topic10\", \"Topic10\", \"Topic10\", \"Topic10\", \"Topic10\", \"Topic10\", \"Topic10\", \"Topic10\", \"Topic10\", \"Topic11\", \"Topic11\", \"Topic11\", \"Topic11\", \"Topic11\", \"Topic11\", \"Topic11\", \"Topic11\", \"Topic11\", \"Topic11\", \"Topic11\", \"Topic11\", \"Topic11\", \"Topic11\", \"Topic11\", \"Topic11\", \"Topic11\", \"Topic11\", \"Topic11\", \"Topic11\", \"Topic11\", \"Topic11\", \"Topic12\", \"Topic12\", \"Topic12\", \"Topic12\", \"Topic12\", \"Topic12\", \"Topic12\", \"Topic12\", \"Topic12\", \"Topic12\", \"Topic12\", \"Topic12\", \"Topic12\", \"Topic12\", \"Topic12\", \"Topic12\", \"Topic12\", \"Topic12\", \"Topic12\", \"Topic13\", \"Topic13\", \"Topic13\", \"Topic13\", \"Topic13\", \"Topic13\", \"Topic13\", \"Topic13\", \"Topic13\", \"Topic13\", \"Topic13\", \"Topic13\", \"Topic13\", \"Topic13\", \"Topic13\", \"Topic13\", \"Topic13\", \"Topic13\", \"Topic13\", \"Topic13\", \"Topic14\", \"Topic14\", \"Topic14\", \"Topic14\", \"Topic14\", \"Topic14\", \"Topic14\", \"Topic14\", \"Topic14\", \"Topic14\", \"Topic14\", \"Topic15\", \"Topic15\", \"Topic15\", \"Topic15\", \"Topic15\", \"Topic15\", \"Topic15\", \"Topic15\", \"Topic15\", \"Topic15\", \"Topic15\", \"Topic15\", \"Topic15\", \"Topic16\", \"Topic16\", \"Topic16\", \"Topic16\", \"Topic16\", \"Topic16\", \"Topic16\", \"Topic16\", \"Topic16\", \"Topic16\", \"Topic16\", \"Topic16\", \"Topic17\", \"Topic17\", \"Topic17\", \"Topic17\", \"Topic17\", \"Topic17\", \"Topic17\", \"Topic17\", \"Topic17\", \"Topic17\", \"Topic17\", \"Topic17\", \"Topic17\", \"Topic17\", \"Topic18\", \"Topic18\", \"Topic18\", \"Topic18\", \"Topic18\", \"Topic18\", \"Topic18\", \"Topic18\", \"Topic18\", \"Topic18\", \"Topic18\", \"Topic18\", \"Topic18\", \"Topic19\", \"Topic19\", \"Topic19\", \"Topic19\", \"Topic19\", \"Topic19\", \"Topic19\", \"Topic19\", \"Topic19\", \"Topic19\", \"Topic19\", \"Topic19\", \"Topic19\", \"Topic19\", \"Topic19\", \"Topic20\", \"Topic20\", \"Topic20\", \"Topic20\", \"Topic20\", \"Topic20\", \"Topic20\", \"Topic20\", \"Topic20\", \"Topic20\", \"Topic20\", \"Topic20\", \"Topic20\", \"Topic20\"], \"logprob\": [10.0, 9.0, 8.0, 7.0, 6.0, 5.0, 4.0, 3.0, 2.0, 1.0, -4.8204, -5.3297, -5.7266, -5.738, -5.8214, -6.0308, -6.1316, -6.3343, -6.4673, -6.5257, -6.473, -5.8869, -4.8241, -4.685, -4.2862, -3.8352, -3.0062, -3.3098, -4.3982, -5.0229, -2.4785, -4.0617, -3.909, -4.2951, -4.2927, -5.1783, -5.2942, -5.6266, -6.0443, -6.1136, -6.1746, -6.2539, -6.3728, -6.3904, -6.3956, -4.8368, -5.3459, -5.0714, -4.7863, -5.0397, -5.2111, -5.2272, -4.8076, -3.9502, -4.8666, -4.6203, -3.1248, -4.0123, -4.8803, -4.5859, -4.706, -3.689, -4.8334, -5.0501, -5.1025, -5.1294, -5.2369, -5.7956, -6.0741, -6.179, -6.181, -3.0316, -3.3346, -5.6155, -3.9582, -3.6816, -4.4492, -3.7558, -4.6093, -3.9277, -4.407, -4.3082, -3.9776, -3.503, -1.6959, -5.0612, -5.1783, -5.6103, -6.2158, -6.386, -6.6478, -6.9028, -6.9709, -7.238, -4.6317, -2.2569, -3.67, -5.0307, -3.1414, -3.5499, -2.8511, -3.6486, -3.934, -2.539, -4.0351, -3.8475, -3.5065, -4.9816, -5.7269, -5.8305, -5.9412, -6.0811, -6.1074, -6.2276, -6.2732, -6.4206, -3.7167, -3.1357, -3.4797, -3.1032, -5.1755, -3.2758, -2.7674, -4.041, -3.9235, -3.2475, -2.8374, -2.4425, -5.4614, -6.2952, -6.3003, -6.4858, -6.5123, -6.6502, -7.1071, -7.1874, -7.2957, -7.2983, -4.0002, -3.0144, -1.9989, -2.3316, -3.9988, -2.9584, -3.1557, -1.5892, -2.5939, -3.6991, -3.5798, -2.6177, -2.8357, -3.8333, -4.5215, -4.6707, -4.7354, -4.9095, -4.9221, -5.0671, -5.1941, -3.9787, -3.9647, -4.47, -4.4684, -4.2019, -2.5152, -3.5487, -3.7388, -3.9013, -4.0816, -4.0418, -3.2501, -4.202, -4.2401, -4.7681, -4.7685, -4.8658, -5.0201, -5.0451, -5.1508, -5.1916, -4.0669, -4.091, -3.7245, -4.4585, -3.2763, -3.7441, -3.4321, -3.6789, -3.8703, -4.0607, -1.5689, -1.9977, -3.7328, -5.0813, -5.0849, -5.6751, -6.758, -7.8473, -7.9074, -8.4823, -3.9615, -2.0263, -2.0665, -1.5396, -4.5317, -4.0459, -4.5121, -3.5264, -3.5282, -3.5759, -3.6197, -3.7964, -4.0535, -4.2004, -4.4642, -4.5085, -4.5249, -4.0343, -3.9419, -4.1173, -3.6961, -3.8376, -2.0106, -3.6882, -5.1262, -5.3485, -5.6322, -5.8521, -6.311, -6.6725, -6.9132, -7.1336, -2.4871, -2.5869, -5.2177, -2.159, -3.3938, -3.7905, -4.3823, -4.7097, -1.355, -4.4125, -4.235, -4.198, -3.4574, -3.5078, -3.7588, -3.974, -4.1806, -4.2834, -4.3156, -4.4415, -4.4965, -4.5438, -3.1259, -2.9656, -3.1342, -3.6495, -4.1284, -3.225, -3.8973, -3.3203, -3.4622, -4.1209, -4.2079, -4.4641, -4.5255, -4.6085, -4.7803, -4.8772, -5.1561, -5.2131, -5.2478, -3.7847, -1.1888, -3.5328, -3.1466, -3.3699, -3.8024, -3.2632, -3.3524, -3.9819, -4.0449, -0.6881, -2.1772, -2.6644, -4.4578, -4.6573, -4.6929, -4.697, -4.6999, -5.1144, -5.1583, -2.2117, -2.478, -2.5228, -2.683, -3.0457, -3.1463, -3.167, -3.421, -3.7463, -3.9305, -4.0848, -3.1336, -2.9484, -3.444, -0.7934, -3.7718, -4.4619, -4.8251, -4.9477, -5.158, -5.2124, -2.0163, -5.424, -5.8784, -2.4427, -1.7653, -1.9702, -3.2737, -3.48, -3.5358, -3.8174, -3.8287, -4.0062, -4.2078, -4.2088, -4.2412, -3.6649, -3.3753, -3.3087, -3.957, -2.9467, -3.0852, -3.5538, -3.5667, -3.7475, -3.774, -4.0364, -4.1726, -4.3651, -4.3785, -3.1954, -3.4447, -3.9753, -1.6436, -2.9697, -3.2619, -3.382, -3.6131, -3.7994, -3.9614, -4.0899, -4.1282, -4.1943, -2.8977, -3.4861, -3.5547, -3.8292, -3.7856, -2.0509, -2.4162, -2.7157, -3.238, -3.3375, -3.3716, -4.0389, -4.1916, -4.3401, -4.4228, -2.178, -3.1058, -4.0182, -3.9864], \"loglift\": [10.0, 9.0, 8.0, 7.0, 6.0, 5.0, 4.0, 3.0, 2.0, 1.0, 1.8334, 1.8331, 1.8327, 1.8327, 1.8326, 1.8322, 1.832, 1.8314, 1.8313, 1.8311, 1.8311, 1.8147, 1.5133, 1.4679, 1.3484, 1.1355, 0.8525, 0.8358, 1.2759, 1.4712, 0.1228, 0.6698, 0.413, 0.8196, 0.0551, 1.8744, 1.8743, 1.874, 1.8734, 1.8733, 1.8731, 1.873, 1.8727, 1.8726, 1.8726, 1.8197, 1.8276, 1.7903, 1.7027, 1.703, 1.5844, 1.576, 1.4151, 1.0371, 1.2671, 1.0279, -0.5236, 0.398, 1.2614, 0.2066, 0.229, 1.979, 1.9786, 1.9785, 1.9784, 1.9784, 1.9783, 1.9776, 1.9771, 1.9769, 1.9769, 1.8844, 1.8788, 1.9545, 1.8598, 1.7953, 1.8608, 1.4645, 1.7771, 1.4196, 1.6372, 1.5431, 1.1506, -0.9018, 2.5917, 2.5904, 2.5902, 2.5894, 2.5874, 2.5866, 2.585, 2.583, 2.5824, 2.5796, 2.4653, 2.0908, 2.0308, 2.2614, 1.8701, 1.9501, 1.5593, 1.6929, 1.6194, 0.0622, 1.5547, 1.0181, 2.6424, 2.6414, 2.6398, 2.6395, 2.6392, 2.6386, 2.6385, 2.638, 2.6378, 2.637, 2.4294, 2.361, 2.3233, 2.213, 2.484, 2.1127, 1.9849, 2.1105, 2.0668, 1.4841, 1.0213, 0.1587, 2.6979, 2.6949, 2.6949, 2.6938, 2.6936, 2.6926, 2.6882, 2.6872, 2.6857, 2.6857, 2.569, 2.5011, 2.3231, 2.3437, 2.4454, 2.0123, 1.9591, 1.012, 1.2648, 1.6037, 1.4753, 2.82, 2.8199, 2.8196, 2.8191, 2.8189, 2.8188, 2.8186, 2.8186, 2.8183, 2.8181, 2.7406, 2.6887, 2.6794, 2.4954, 2.1927, 0.086, 1.2036, 1.4738, 0.9643, 1.4151, 0.6335, 3.0447, 3.0441, 3.0441, 3.0434, 3.0434, 3.0432, 3.0429, 3.0429, 3.0426, 3.0425, 2.8999, 2.8945, 2.7413, 2.8551, 2.014, 1.9562, 1.5552, 1.2561, 1.477, 1.5842, 3.455, 3.4549, 3.4542, 3.4517, 3.4517, 3.4489, 3.4371, 3.4024, 3.3992, 3.3579, 3.0462, 2.7662, 1.7922, 1.0616, 2.39, 1.6024, 2.27, 3.5512, 3.5512, 3.5511, 3.5511, 3.5509, 3.5506, 3.5504, 3.5499, 3.5499, 3.5498, 3.4112, 3.038, 3.0376, 2.0042, 1.2175, 3.6025, 3.6017, 3.5985, 3.5975, 3.5958, 3.5941, 3.5892, 3.5835, 3.5783, 3.5724, 3.4237, 3.4101, 3.5049, 3.0536, 3.1458, 3.0309, 3.1571, 3.2225, 1.2462, 3.0143, 2.6705, 2.5687, 3.6473, 3.6473, 3.647, 3.6468, 3.6464, 3.6463, 3.6462, 3.6459, 3.6458, 3.6457, 3.1489, 2.9124, 2.913, 3.013, 3.441, 2.1165, 2.9869, 1.09, -0.861, 3.7396, 3.7394, 3.7389, 3.7387, 3.7385, 3.738, 3.7376, 3.7365, 3.7362, 3.736, 3.5187, 2.9569, 3.2007, 2.8839, 2.939, 3.1877, 2.7611, 2.3478, 2.939, 3.0681, 3.9634, 3.9632, 3.963, 3.9604, 3.9598, 3.9596, 3.9596, 3.9596, 3.9576, 3.9574, 0.3895, 4.0996, 4.0996, 4.0995, 4.0992, 4.0991, 4.0991, 4.0988, 4.0984, 4.098, 4.0977, 3.976, 3.7302, 3.5941, 4.2096, 4.2078, 4.2058, 4.2041, 4.2034, 4.2019, 4.2015, 4.2011, 4.1996, 4.1938, 2.4229, 0.8359, 4.5039, 4.5027, 4.5024, 4.5023, 4.5016, 4.5016, 4.5011, 4.5003, 4.5003, 4.5002, 4.1934, 3.8941, 3.7904, 4.0691, 4.5279, 4.5278, 4.527, 4.527, 4.5265, 4.5265, 4.5257, 4.5252, 4.5243, 4.5243, 4.0787, 4.1067, 3.9621, 4.6539, 4.6529, 4.6524, 4.6522, 4.6517, 4.6512, 4.6506, 4.6501, 4.65, 4.6497, 3.7613, 4.101, 3.9593, 4.0644, 3.8375, 4.6855, 4.6852, 4.6849, 4.6842, 4.684, 4.6839, 4.682, 4.6813, 4.6805, 4.6801, 4.5717, 4.6065, 4.4945, 3.2637]}, \"token.table\": {\"Topic\": [18, 20, 2, 9, 5, 1, 2, 5, 7, 11, 6, 1, 2, 3, 5, 3, 11, 3, 11, 2, 3, 7, 16, 2, 6, 3, 8, 10, 2, 12, 2, 19, 11, 1, 5, 8, 1, 4, 19, 1, 3, 5, 13, 10, 9, 4, 3, 1, 5, 13, 3, 13, 3, 4, 7, 2, 3, 8, 2, 3, 4, 6, 8, 10, 1, 7, 11, 18, 9, 12, 17, 6, 3, 7, 1, 18, 17, 11, 3, 17, 4, 8, 2, 3, 4, 2, 5, 8, 18, 2, 4, 1, 15, 3, 15, 7, 16, 18, 8, 7, 4, 6, 14, 8, 13, 14, 11, 19, 18, 13, 11, 4, 8, 2, 3, 4, 2, 8, 8, 7, 15, 1, 1, 2, 3, 6, 17, 16, 20, 2, 3, 10, 6, 2, 3, 11, 3, 9, 2, 11, 18, 2, 6, 8, 10, 13, 18, 1, 2, 4, 7, 9, 3, 13, 3, 7, 11, 16, 1, 2, 3, 4, 3, 8, 10, 1, 2, 3, 5, 8, 1, 2, 4, 5, 8, 3, 10, 5, 12, 10, 13, 10, 1, 3, 17, 11, 20, 1, 2, 7, 9, 1, 6, 1, 3, 6, 1, 5, 1, 2, 3, 4, 5, 6, 7, 9, 11, 12, 14, 16, 18, 2, 3, 5, 6, 7, 2, 1, 3, 5, 7, 13, 10, 1, 2, 3, 4, 5, 7, 8, 12, 10, 20, 14, 20, 14, 18, 11, 2, 3, 6, 1, 3, 6, 7, 16, 12, 10, 19, 13, 5, 1, 3, 3, 13, 20, 8, 10, 1, 2, 3, 8, 12, 15, 2, 6, 16, 8, 19, 1, 5, 6, 7, 3, 8, 15, 2, 19, 4, 3, 4, 9, 1, 8, 17, 1, 2, 3, 5, 7, 8, 3, 8, 10, 13, 13, 2, 19, 1, 2, 3, 4, 6, 1, 20, 1, 8, 13, 1, 3, 4, 6, 7, 3, 16, 12, 11, 1, 2, 3, 4, 5, 7, 8, 9, 10, 12, 13, 2, 3, 4, 5, 6, 7, 9, 13, 3, 5, 4, 1, 8, 18, 1, 2, 17, 16, 15, 1, 3, 17, 3, 7, 12, 1, 5, 8, 20, 14, 1, 2, 3, 4, 6, 7, 16, 2, 7, 11, 20, 1, 2, 3, 8, 12, 1, 2, 5, 11, 13, 2, 3, 5, 14, 8, 6, 9, 4, 8, 10, 12, 20, 12, 1, 2, 3, 7, 8, 9, 18, 8, 12, 15, 7, 19, 6, 7, 15, 1, 3, 4, 6, 2, 17, 14, 13, 2, 6, 14, 1, 5, 6, 9, 1, 12, 5, 9, 19, 6, 14, 7, 3, 1, 2, 7, 9, 2, 6, 20, 17, 10, 3, 1, 3, 4, 6, 18, 1, 15, 11, 1, 2, 3, 6, 4, 7, 2, 1, 2, 12, 18, 4, 4, 2, 4, 6, 19, 1, 7, 2, 3, 4, 6, 9, 13, 19, 1, 2, 4, 5, 7, 10, 11, 12, 5, 2, 17, 2, 1, 10, 2, 20, 1, 2, 6, 13, 8, 10, 1, 2, 1, 19, 16, 14, 2, 3, 8, 1, 11, 4, 19, 1, 2, 3, 5, 8, 1, 7, 12, 3, 1, 2, 4, 5, 7, 1, 5, 11, 12, 1, 3, 4, 5, 13, 2, 3, 18, 15, 4, 7, 9, 13, 10, 5, 7, 18, 6, 1, 2, 3, 4, 5, 6, 1, 2, 3, 4, 5, 9, 12, 16, 12, 17, 1, 2, 3, 4, 5, 6, 8, 10, 1, 4, 5, 8, 11, 1, 2, 4, 7, 1, 5, 1, 2, 5, 6, 7, 8, 9, 12, 18, 2, 7, 18, 7, 17, 8, 17, 1, 10, 5, 7, 7, 4, 15, 5, 8, 12, 9, 8, 10, 13, 20, 2, 20, 12, 1, 2, 3, 4, 7, 3, 18, 1, 2, 3, 4, 5, 7, 19, 11, 2, 12, 15, 2, 11, 1, 2, 3, 5, 8, 13, 10, 7, 1, 2, 4, 5, 6, 7, 8, 10, 11, 12, 13, 6, 1, 4, 12, 18, 15, 19, 5], \"Freq\": [0.9969186517127627, 0.9996088335989112, 0.3352143392786626, 0.6643705880884337, 0.9986958720923823, 0.20720266447566618, 0.07109299631569778, 0.1962652804270973, 0.13185624102996937, 0.39374582574848, 0.9876389109329176, 0.11636828355630484, 0.12208662672860482, 0.17383763243791975, 0.5872738437952092, 0.17491076686586945, 0.8248243025733647, 0.16359626846713857, 0.836183674404152, 0.262131321353309, 0.2037988993553543, 0.534106238918773, 0.9929481035154535, 0.2244943409725743, 0.7750035013438871, 0.8168415191304694, 0.10486234641338474, 0.07810436836307277, 0.9993502211236542, 0.9987020964066347, 0.500298879753057, 0.49918214118217963, 0.9998358981567663, 0.9986551932657367, 0.8078611556307855, 0.19194166844448443, 0.47589052810400206, 0.1139857552344915, 0.4093988375505487, 0.14656147630924965, 0.2773960362108857, 0.12748840747448428, 0.44838442523834365, 0.996957579095745, 0.9998552051543158, 0.9903874819815762, 0.9989532143337592, 0.2665803856460908, 0.15094282872475392, 0.5822811494534575, 0.8874852195234352, 0.1124462002119469, 0.9095481437403437, 0.090422914874771, 0.9979542754665662, 0.22003774390213815, 0.5714584895411925, 0.2085241410235379, 0.5412908621788969, 0.34878155973033526, 0.054072465834816584, 0.030575006859477442, 0.025196070467532337, 0.999074185744929, 0.1622240294515544, 0.26016217541955, 0.5774549359870974, 0.9959063654389638, 0.9961937779298642, 0.998996253197229, 0.997803430577201, 0.9838723050164055, 0.13028604946839256, 0.868573663122617, 0.9960608905490472, 0.9986730285736686, 0.9961480125143294, 0.9876964650252215, 0.9991072427713789, 0.9976854047551225, 0.9982128094506255, 0.9987869833180758, 0.8416605631958878, 0.04698841181032257, 0.11101657735405882, 0.13054486478787528, 0.7265719599708483, 0.12872893931169152, 0.013922095317408645, 0.1177472536552977, 0.880896641408696, 0.3961861429661368, 0.6029522911341032, 0.999480165787034, 0.9985208097959671, 0.9999147806341211, 0.9916010300476729, 0.008245527505786008, 0.998128643355292, 0.9989792760894077, 0.9939621743381445, 0.9943691305229412, 0.9957148237771257, 0.9978004515790112, 0.99719855113389, 0.9917304193959334, 0.9784230166189223, 0.9977065772035417, 0.9978935809257856, 0.9978183402818324, 0.9947073402356909, 0.9870052418920888, 0.999725108336045, 0.14378737507193914, 0.6465137792262595, 0.2094340411578024, 0.13438800776570967, 0.865122799991756, 0.9979526403097175, 0.9987972994313621, 0.9994229561197558, 0.9989305245476051, 0.725862046962374, 0.04407511480606446, 0.15185254398026896, 0.07782012457945756, 0.9965707400063168, 0.9930782934572274, 0.9955509971981887, 0.098150548893746, 0.8883797121713802, 0.01339939234044314, 0.9922047528061263, 0.9967140825545338, 0.44318938766584337, 0.5557779157102839, 0.9994205754984173, 0.9998599290203818, 0.08975174504336539, 0.9087364185640745, 0.9979371360953384, 0.9184138700513974, 0.08084833941554417, 0.15906208997574225, 0.5982829227894173, 0.2421933057243812, 0.9969148353305193, 0.19498482238260145, 0.30187732831686503, 0.11065254383144875, 0.08648087163525849, 0.3056373662140502, 0.9755349619266802, 0.023620701257304606, 0.18544852607968054, 0.18081231292768854, 0.6334753061312725, 0.9979592250713671, 0.1977127400381843, 0.6312071327927126, 0.03284978755292813, 0.13784630477817508, 0.8319426870855582, 0.0827137136818829, 0.08518930018292517, 0.22601831588640897, 0.1850180421204293, 0.2590941669917371, 0.09784939285326241, 0.23204776791081774, 0.5723328736185649, 0.06189779141396937, 0.06118836113988376, 0.16423310845081845, 0.14028983670042913, 0.13034671332201242, 0.8686304975778908, 0.9963537739185158, 0.9990117339471741, 0.19902568533896764, 0.8006260523863016, 0.9991139937559378, 0.21743268476162575, 0.04884357411311883, 0.7326536116967824, 0.9918543354071021, 0.9967521689294063, 0.2003297199855472, 0.07600934713277997, 0.7227329447710095, 0.9414523062225153, 0.49734388536374957, 0.5026104990456812, 0.24148649217938817, 0.0727258388949896, 0.6857794246842362, 0.9978893037760318, 0.9955838754129269, 0.1806511471232871, 0.09082637886861139, 0.0560737745342688, 0.0796937231924081, 0.0834046084178092, 0.18482999796339583, 0.06495691129064932, 0.09131076432944914, 0.09475072209370371, 0.011009506830227594, 0.028045097190199448, 0.034260008950439784, 0.0001806183074310269, 0.5443065086203255, 0.06600207921866692, 0.06628293913023571, 0.14688973375047998, 0.17609916455363472, 0.9978993091700397, 0.36858641211648324, 0.07685615230731929, 0.09812815041840416, 3.8466542696356e-05, 0.4563670625495676, 0.9995374550887798, 0.29642357571905203, 0.06174987655623138, 0.05727875046507568, 0.04700724457998827, 0.09643131407411476, 0.05558697302517893, 0.35660251608109356, 0.029001898969658574, 0.07489039162589178, 0.9231942822246296, 0.9917748404101676, 0.9979819387748501, 0.9999523732484898, 0.9941060293971823, 0.9869247405677822, 0.8413742538251463, 0.055290308108509614, 0.10256752808535116, 0.0898905312448114, 0.09766449433938448, 0.7000486430373539, 0.11229783663505145, 0.9947270581480455, 0.9978443162704256, 0.9992477462151439, 0.9983573328094325, 0.9954258533308677, 0.9982043904115337, 0.693432336035195, 0.30634706835576325, 0.4890453954844745, 0.5099831188385499, 0.9977111589539333, 0.8603805224856153, 0.13889846231405112, 0.2792837407436849, 0.03002538509701732, 0.09865483674734261, 0.06243373726522649, 0.5299718766330676, 0.9980003238057842, 0.12242098675802814, 0.8769162881248823, 0.9944027500235588, 0.9972451896829989, 0.9964505781291437, 0.15712879945411803, 0.5179535324619131, 0.12629571217910698, 0.19861588256099788, 0.26151083917880574, 0.7379460057665402, 0.9994701518330377, 0.4440157370341788, 0.5550196712927234, 0.9971122367631244, 0.9044208393932073, 0.0954436441918107, 0.9993008976248289, 0.9990513798177383, 0.9979494749620758, 0.9945796474052356, 0.09271412049819587, 0.17155762454390575, 0.06132272536888546, 0.5621249825481167, 0.11145161991646642, 0.000486688296578456, 0.2022835042737358, 0.33665364482640636, 0.21266168586113718, 0.24816599129172087, 0.9945247312948033, 0.9982283947571285, 0.9997936273552853, 0.1688303824386771, 0.03403914291778124, 0.13667445627983257, 0.6059249921878902, 0.054472044752244674, 0.9984259775973006, 0.9993624839011528, 0.32708045782418943, 0.2240192569626052, 0.4480385139252104, 0.13606092565552516, 0.3407640988764727, 0.12198987668935125, 0.3340344667622156, 0.06705160724750701, 0.9974958946560488, 0.9998737647692039, 0.9987879213957186, 0.9959702024861412, 0.2145549662441495, 0.192786065207929, 0.17398180049959852, 0.06945719396770729, 0.08360274444649646, 0.02134538156080761, 0.16712078499791036, 0.03303451908220225, 0.018634856918165372, 0.02541116852477096, 0.9989746665881769, 0.06084100343394411, 0.597706524476062, 0.08337470840947896, 0.18646640867255093, 0.05948898113541202, 0.012055532161911147, 0.9944735008272511, 0.9966215598636503, 0.9971399845057742, 0.9951885446788595, 0.999939160797729, 0.2951847330503575, 0.06676797533281896, 0.636931343635444, 0.27021918305533277, 0.08013396463020213, 0.6466624587600032, 0.9804975330853064, 0.9975563303010696, 0.2894140941353446, 0.7103100127580861, 0.9989375915636383, 0.04722615834113818, 0.8769897603949359, 0.0750895917624097, 0.14595246929108943, 0.8537573646142489, 0.10764165957675889, 0.8918137496335338, 0.9977835024072791, 0.20798235856138336, 0.024417381761195844, 0.15092944713231088, 0.20727117268484369, 0.08550034649065988, 0.15630285153283294, 0.1675237842515702, 0.2843520693307058, 0.15027643742624724, 0.5647935993975315, 0.9990280806492384, 0.2684149906632454, 0.004636727285929384, 0.19371216216771647, 0.05383755570884673, 0.47938608217303236, 0.1990937890270644, 0.09321439486254415, 0.2735639849226839, 0.009372099483462319, 0.4242774766161996, 0.03211918766214847, 0.3170994704714812, 0.6506925778505521, 0.9994095744530278, 0.9995002029962851, 0.9901095133443775, 0.9966185403324176, 0.22386011022236837, 0.18183273320744098, 0.08748556031678764, 0.26502978566556257, 0.2410141416570326, 0.9992381674438856, 0.21382513033589348, 0.18848343677152274, 0.07639235161433501, 0.015058107770133344, 0.0011752669479128464, 0.5021328034957636, 0.002864713185537563, 0.9992460305403077, 0.9984826485474225, 0.9988481724021608, 0.4240854748870865, 0.5754587605408341, 0.9970099780276153, 0.9987773144216716, 0.9994878727030635, 0.2982096065910447, 0.047545942162652816, 0.5705513059518338, 0.08361527759638944, 0.5096061669759769, 0.4896939144313294, 0.9971229514057547, 0.9985746296555574, 0.9532884511258773, 0.04607560847108407, 0.9971419070236471, 0.3747742119545073, 0.19762186894912584, 0.23798350120491515, 0.1895957360685039, 0.9989433570415968, 0.9990556022994441, 0.9958506236322413, 0.9782299136878037, 0.9970945359826945, 0.9822112612981787, 0.999749107788643, 0.9993252235808247, 0.9992682675293683, 0.392772233770329, 0.20811987858585043, 0.05372827726103557, 0.3446020541569868, 0.9992178186143994, 0.996816972944997, 0.9952582540589927, 0.9980107262932925, 0.9979921025277411, 0.9985860861474697, 0.362648329725541, 0.03568694773927605, 0.1250057004617255, 0.4765018590187427, 0.9981045938828954, 0.11625676687756038, 0.8831042868583914, 0.9986277615721628, 0.09792708237412558, 0.023157408969460915, 0.05933140075835738, 0.8194392951677216, 0.9836774744345309, 0.9986619747879395, 0.9970718370164922, 0.37193150869494007, 0.010025979799602732, 0.6070569059307848, 0.010672817206028714, 0.9981832900733086, 0.9975168376999154, 0.7474695075623998, 0.18128721487128852, 0.07077278658638891, 0.9969717682883007, 0.07616298439665757, 0.923539234637616, 0.428650944933854, 0.09108832579844396, 0.11459499052062305, 0.20879449253229662, 0.15676871252217967, 0.9979794497792859, 0.9981833446206081, 0.24165639019878293, 0.00775844200111882, 0.407000236124266, 0.07707566971603287, 0.017043134887703638, 0.001017500590310665, 0.03205126859478595, 0.2162188754410163, 0.9932734330762917, 0.9975412899483822, 0.9952083683739239, 0.9978838210960759, 0.9993029073731431, 0.9991038697977793, 0.9990436857578182, 0.9924898125360548, 0.1651192823811611, 0.74111677905963, 0.0932567375574664, 0.9968280952414158, 0.4015924486522124, 0.5980998215849455, 0.9808025910464836, 0.017514331982972923, 0.9980153957181647, 0.9961844377428934, 0.9959844417530609, 0.9960504813927118, 0.9980478244281373, 0.17182040777788532, 0.8271141970158841, 0.3585247044549588, 0.6403045041224344, 0.556675832380809, 0.442102730414289, 0.6153510151327043, 0.019949035403304626, 0.07757958212396245, 0.1125330202237697, 0.174426181346843, 0.24661442900276434, 0.2740160322252937, 0.4790931103113667, 0.9972361391534252, 0.24875004088123892, 0.003199357438986996, 0.09838024124885013, 0.5885484622136494, 0.0610544044606685, 0.3496453943404825, 0.19994850084826382, 0.35546400150802454, 0.09415564325658984, 0.13947794396758478, 0.2348969706168892, 0.18177450459313396, 0.06848014577469867, 0.3751302103099302, 0.9460419442145984, 0.053531667349148535, 0.9984431556328568, 0.9990536160971841, 0.9947515915159385, 0.999015522379312, 0.9293498926324127, 0.9972842322369818, 0.9989456575683923, 0.9932398353689994, 0.4314528787710896, 0.5678806665247939, 0.9943129217163803, 0.10390184833737039, 0.20135895267802037, 0.16253329981972917, 0.3781964403929095, 0.13361054627347177, 0.02027736525797395, 0.10666234180929192, 0.22826142133435873, 0.10831641007983075, 0.35612591097510293, 0.09999594544621117, 0.02315695578754364, 0.07744046902977256, 0.9902177965608278, 0.9984793787511537, 0.9988763056427882, 0.24640873082410056, 0.017674020726332486, 0.436712721435541, 0.12978074521719726, 0.11313428383541899, 0.023428353055836085, 0.015413390168313213, 0.01746850885742164, 0.3084805298198251, 0.5263542180307353, 0.16467197364778102, 0.00029804882108195663, 0.9968430227942198, 0.6958632666072844, 0.13933373278131966, 0.13973643143097667, 0.02496731627873358, 0.9966063248293746, 0.9966347817729815, 0.31223024893903456, 0.10297102056643681, 0.31388884255889665, 0.07802300820101152, 0.09875542844928739, 0.02315120261057472, 0.035176006354574726, 0.03289544012726438, 0.0029025388347586217, 0.2399778695360591, 0.10433820414611265, 0.6550120593617071, 0.45553442199825317, 0.5429690519403363, 0.9984029017263822, 0.9994708775475856, 0.9964169739733226, 0.9983786052673146, 0.7544101760993691, 0.24538011634498086, 0.9982982421089706, 0.3084953588037875, 0.6906034248888555, 0.34739580736376025, 0.13562713027215298, 0.5163348643694244, 0.9361988577129733, 0.21161615425534808, 0.212938755219444, 0.5746701188996796, 0.9979693346536683, 0.16978033756010402, 0.8246473538633624, 0.9984035118390931, 0.195642990131037, 0.20004495740898534, 0.20558817546269806, 0.3544398837873954, 0.04418270860459252, 0.9997334659021722, 0.9941653108944937, 0.1499427265338872, 0.10541705103266583, 0.07305136493937554, 0.4859424338582991, 0.07615993366020003, 0.10943990467137987, 0.99839767013328, 0.983424786694899, 0.18531234668945867, 0.8132497252804906, 0.9979268627091635, 0.3138738344581311, 0.6837359745223072, 0.09067823570252911, 0.43250662422682684, 0.2377626180231669, 0.0006247516239347478, 0.22544608600845328, 0.01285203340665767, 0.9977114695524992, 0.9998054232344111, 0.23954017321980767, 0.0001910208717861305, 0.10305576032861742, 0.014995138435211245, 0.29379010080706874, 0.04403031094670309, 0.11442150219989218, 0.09684758199556817, 0.05472747976672639, 0.015090648871104312, 0.02340005679380099, 0.9986057460559902, 0.2513500503904512, 0.7182707845677306, 0.0008944841650905737, 0.028623493282898357, 0.9987283972817882, 0.9976019036680506, 0.9997460660634568], \"Term\": [\"absolute\", \"addict\", \"addictive\", \"addictive\", \"ago\", \"already\", \"already\", \"already\", \"already\", \"already\", \"alternative\", \"always\", \"always\", \"always\", \"always\", \"amaze\", \"amaze\", \"amazing\", \"amazing\", \"amount\", \"amount\", \"amount\", \"animal\", \"anyone\", \"anyone\", \"armor\", \"armor\", \"armor\", \"art\", \"award\", \"away\", \"away\", \"awesome\", \"awsome\", \"back\", \"back\", \"bad\", \"bad\", \"bad\", \"beat\", \"beat\", \"beat\", \"beat\", \"bee\", \"best\", \"better\", \"biome\", \"bore\", \"bore\", \"bore\", \"bos\", \"bos\", \"boss\", \"boss\", \"buck\", \"build\", \"build\", \"build\", \"building\", \"building\", \"building\", \"building\", \"building\", \"bunny\", \"buy\", \"buy\", \"buy\", \"c\", \"can\", \"cant\", \"casual\", \"casually\", \"cheap\", \"cheap\", \"cheat\", \"check\", \"child\", \"chose\", \"class\", \"click\", \"clone\", \"co\", \"combat\", \"combat\", \"combat\", \"come\", \"come\", \"come\", \"come\", \"compare\", \"compare\", \"computer\", \"computer\", \"con\", \"console\", \"content\", \"cool\", \"cool\", \"corrupt\", \"cost\", \"cough\", \"crack\", \"crap\", \"crash\", \"cthulu\", \"cultist\", \"currency\", \"dead\", \"definately\", \"delete\", \"device\", \"diamond\", \"die\", \"different\", \"different\", \"different\", \"dig\", \"dig\", \"dirt\", \"dollar\", \"dont\", \"download\", \"easy\", \"easy\", \"easy\", \"easy\", \"eat\", \"edition\", \"egg\", \"enemy\", \"enemy\", \"enemy\", \"engage\", \"environment\", \"epic\", \"epic\", \"event\", \"ever\", \"everybody\", \"everybody\", \"everytime\", \"exploration\", \"exploration\", \"eye\", \"eye\", \"eye\", \"f\", \"far\", \"far\", \"far\", \"far\", \"far\", \"farm\", \"farm\", \"favorite\", \"favorite\", \"favorite\", \"favourite\", \"feel\", \"feel\", \"feel\", \"feel\", \"fight\", \"fight\", \"fight\", \"find\", \"find\", \"find\", \"find\", \"find\", \"first\", \"first\", \"first\", \"first\", \"first\", \"fish\", \"fish\", \"five\", \"fix\", \"flesh\", \"flesh\", \"fly\", \"forever\", \"forever\", \"forever\", \"fps\", \"freak\", \"free\", \"free\", \"free\", \"freeze\", \"friend\", \"friend\", \"fun\", \"fun\", \"fun\", \"funny\", \"future\", \"game\", \"game\", \"game\", \"game\", \"game\", \"game\", \"game\", \"game\", \"game\", \"game\", \"game\", \"game\", \"game\", \"gameplay\", \"gameplay\", \"gameplay\", \"gameplay\", \"gameplay\", \"gamers\", \"get\", \"get\", \"get\", \"get\", \"get\", \"giant\", \"go\", \"go\", \"go\", \"go\", \"go\", \"go\", \"go\", \"go\", \"god\", \"god\", \"golem\", \"gon\", \"good\", \"google\", \"grade\", \"graphic\", \"graphic\", \"graphic\", \"great\", \"great\", \"great\", \"great\", \"gud\", \"guess\", \"gun\", \"guy\", \"hack\", \"happy\", \"hard\", \"hard\", \"hardmode\", \"hardmode\", \"hate\", \"hell\", \"hell\", \"help\", \"help\", \"help\", \"help\", \"help\", \"hey\", \"highly\", \"highly\", \"history\", \"hole\", \"horrible\", \"hour\", \"hour\", \"hour\", \"hour\", \"house\", \"house\", \"im\", \"instead\", \"instead\", \"io\", \"item\", \"item\", \"ive\", \"join\", \"jungle\", \"k\", \"keep\", \"keep\", \"keep\", \"keep\", \"keep\", \"keep\", \"kill\", \"kill\", \"kill\", \"kill\", \"king\", \"lack\", \"life\", \"like\", \"like\", \"like\", \"like\", \"like\", \"lol\", \"lord\", \"lose\", \"lose\", \"lose\", \"lot\", \"lot\", \"lot\", \"lot\", \"lot\", \"lots\", \"love\", \"lt\", \"mad\", \"make\", \"make\", \"make\", \"make\", \"make\", \"make\", \"make\", \"make\", \"make\", \"make\", \"man\", \"many\", \"many\", \"many\", \"many\", \"many\", \"many\", \"mario\", \"master\", \"melee\", \"million\", \"minecraft\", \"minute\", \"minute\", \"minute\", \"miss\", \"miss\", \"miss\", \"mlg\", \"mobile\", \"mode\", \"mode\", \"moment\", \"money\", \"money\", \"money\", \"month\", \"month\", \"moon\", \"moon\", \"moonlord\", \"much\", \"much\", \"much\", \"much\", \"much\", \"much\", \"much\", \"must\", \"must\", \"must\", \"na\", \"need\", \"need\", \"need\", \"need\", \"need\", \"never\", \"never\", \"never\", \"never\", \"never\", \"new\", \"new\", \"new\", \"nice\", \"night\", \"nostalgia\", \"not\", \"oh\", \"oh\", \"oh\", \"oh\", \"oh\", \"ok\", \"one\", \"one\", \"one\", \"one\", \"one\", \"one\", \"one\", \"op\", \"otherworld\", \"p\", \"pack\", \"pack\", \"pass\", \"pay\", \"pc\", \"people\", \"people\", \"people\", \"people\", \"perfect\", \"perfect\", \"pillar\", \"pirate\", \"pixel\", \"pixel\", \"plantera\", \"play\", \"play\", \"play\", \"play\", \"played\", \"please\", \"plz\", \"pocket\", \"portal\", \"potato\", \"pretty\", \"price\", \"pro\", \"probably\", \"probably\", \"probably\", \"probably\", \"progression\", \"pure\", \"question\", \"r\", \"rainbow\", \"range\", \"really\", \"really\", \"really\", \"really\", \"realy\", \"reccomend\", \"reccomend\", \"recomend\", \"recommend\", \"recommend\", \"recommend\", \"recommend\", \"redstone\", \"replay\", \"retro\", \"review\", \"review\", \"review\", \"review\", \"rip\", \"ripoff\", \"rpg\", \"rpg\", \"rpg\", \"sad\", \"sale\", \"sale\", \"sandbox\", \"sandbox\", \"sandbox\", \"sandbox\", \"sandbox\", \"save\", \"saw\", \"say\", \"say\", \"say\", \"say\", \"say\", \"say\", \"say\", \"say\", \"scratch\", \"scroll\", \"self\", \"sense\", \"server\", \"shoot\", \"side\", \"sidescroller\", \"simple\", \"simple\", \"simple\", \"skeletron\", \"slime\", \"slime\", \"slow\", \"slow\", \"solo\", \"somehow\", \"soo\", \"soul\", \"sound\", \"spawn\", \"spawn\", \"spent\", \"spent\", \"starbound\", \"starbound\", \"start\", \"start\", \"start\", \"start\", \"start\", \"steam\", \"steam\", \"steam\", \"step\", \"still\", \"still\", \"still\", \"still\", \"still\", \"stop\", \"stop\", \"stop\", \"stop\", \"stuff\", \"stuff\", \"stuff\", \"stuff\", \"stuff\", \"style\", \"style\", \"suck\", \"super\", \"superior\", \"support\", \"surround\", \"sweet\", \"sword\", \"ta\", \"ten\", \"ten\", \"terra\", \"terraria\", \"terraria\", \"terraria\", \"terraria\", \"terraria\", \"terraria\", \"terrarium\", \"terrarium\", \"terrarium\", \"terrarium\", \"terrarium\", \"terrarium\", \"terrarium\", \"tf\", \"thanks\", \"there\", \"thing\", \"thing\", \"thing\", \"thing\", \"thing\", \"thing\", \"thing\", \"thing\", \"think\", \"think\", \"think\", \"think\", \"tho\", \"though\", \"though\", \"though\", \"though\", \"thought\", \"till\", \"time\", \"time\", \"time\", \"time\", \"time\", \"time\", \"time\", \"time\", \"time\", \"top\", \"top\", \"top\", \"totally\", \"totally\", \"tree\", \"u\", \"understand\", \"unicorn\", \"update\", \"update\", \"value\", \"version\", \"version\", \"wait\", \"wait\", \"wait\", \"wake\", \"wall\", \"wall\", \"wall\", \"wan\", \"warn\", \"warn\", \"waste\", \"way\", \"way\", \"way\", \"way\", \"way\", \"weapon\", \"weird\", \"well\", \"well\", \"well\", \"well\", \"well\", \"well\", \"win\", \"winter\", \"wish\", \"wish\", \"wont\", \"word\", \"word\", \"world\", \"world\", \"world\", \"world\", \"world\", \"world\", \"worm\", \"worth\", \"would\", \"would\", \"would\", \"would\", \"would\", \"would\", \"would\", \"would\", \"would\", \"would\", \"would\", \"wow\", \"wrong\", \"wrong\", \"wrong\", \"wrong\", \"xbox\", \"xd\", \"year\"]}, \"R\": 10, \"lambda.step\": 0.01, \"plot.opts\": {\"xlab\": \"PC1\", \"ylab\": \"PC2\"}, \"topic.order\": [17, 11, 7, 19, 2, 15, 16, 3, 5, 8, 12, 14, 18, 10, 6, 4, 13, 9, 1, 20]};\n",
       "\n",
       "function LDAvis_load_lib(url, callback){\n",
       "  var s = document.createElement('script');\n",
       "  s.src = url;\n",
       "  s.async = true;\n",
       "  s.onreadystatechange = s.onload = callback;\n",
       "  s.onerror = function(){console.warn(\"failed to load library \" + url);};\n",
       "  document.getElementsByTagName(\"head\")[0].appendChild(s);\n",
       "}\n",
       "\n",
       "if(typeof(LDAvis) !== \"undefined\"){\n",
       "   // already loaded: just create the visualization\n",
       "   !function(LDAvis){\n",
       "       new LDAvis(\"#\" + \"ldavis_el361231396930616758247767705527\", ldavis_el361231396930616758247767705527_data);\n",
       "   }(LDAvis);\n",
       "}else if(typeof define === \"function\" && define.amd){\n",
       "   // require.js is available: use it to load d3/LDAvis\n",
       "   require.config({paths: {d3: \"https://d3js.org/d3.v5\"}});\n",
       "   require([\"d3\"], function(d3){\n",
       "      window.d3 = d3;\n",
       "      LDAvis_load_lib(\"https://cdn.jsdelivr.net/gh/bmabey/pyLDAvis@3.4.0/pyLDAvis/js/ldavis.v3.0.0.js\", function(){\n",
       "        new LDAvis(\"#\" + \"ldavis_el361231396930616758247767705527\", ldavis_el361231396930616758247767705527_data);\n",
       "      });\n",
       "    });\n",
       "}else{\n",
       "    // require.js not available: dynamically load d3 & LDAvis\n",
       "    LDAvis_load_lib(\"https://d3js.org/d3.v5.js\", function(){\n",
       "         LDAvis_load_lib(\"https://cdn.jsdelivr.net/gh/bmabey/pyLDAvis@3.4.0/pyLDAvis/js/ldavis.v3.0.0.js\", function(){\n",
       "                 new LDAvis(\"#\" + \"ldavis_el361231396930616758247767705527\", ldavis_el361231396930616758247767705527_data);\n",
       "            })\n",
       "         });\n",
       "}\n",
       "</script>"
      ],
      "text/plain": [
       "PreparedData(topic_coordinates=              x         y  topics  cluster       Freq\n",
       "topic                                                \n",
       "16    -0.063974  0.250285       1        1  15.977991\n",
       "10    -0.189371  0.140162       2        1  15.332475\n",
       "6     -0.324706  0.244266       3        1  13.817680\n",
       "18    -0.188398  0.354230       4        1   7.488642\n",
       "1     -0.034524  0.399130       5        1   7.116680\n",
       "14     0.144166  0.391071       6        1   6.718678\n",
       "15     0.133455  0.227966       7        1   5.959929\n",
       "2     -0.353699 -0.081010       8        1   4.759503\n",
       "4      0.316441  0.294645       9        1   3.158474\n",
       "7     -0.395594 -0.247360      10        1   2.866893\n",
       "11     0.252536  0.060694      11        1   2.725184\n",
       "13    -0.039302 -0.124381      12        1   2.604000\n",
       "17    -0.495464  0.030519      13        1   2.372335\n",
       "9      0.306025 -0.140557      14        1   1.899719\n",
       "5      0.264488 -0.415697      15        1   1.657170\n",
       "3      0.419977  0.101366      16        1   1.485067\n",
       "12     0.454352 -0.217902      17        1   1.106117\n",
       "8      0.080286 -0.393935      18        1   1.079034\n",
       "0     -0.222086 -0.399479      19        1   0.952112\n",
       "19    -0.064607 -0.474013      20        1   0.922318, topic_info=           Term           Freq          Total Category  logprob  loglift\n",
       "15         game  121803.000000  121803.000000  Default  10.0000  10.0000\n",
       "16          get   25996.000000   25996.000000  Default   9.0000   9.0000\n",
       "244        good   15675.000000   15675.000000  Default   8.0000   8.0000\n",
       "27    minecraft   22556.000000   22556.000000  Default   7.0000   7.0000\n",
       "32         play   34636.000000   34636.000000  Default   6.0000   6.0000\n",
       "...         ...            ...            ...      ...      ...      ...\n",
       "388         egg     181.723361     182.813337  Topic20  -4.4228   4.6801\n",
       "29         moon    1715.293374    1923.047274  Topic20  -2.1780   4.5717\n",
       "390         god     678.275962     734.406628  Topic20  -3.1058   4.6065\n",
       "939        warn     272.349476     329.837959  Topic20  -4.0182   4.4945\n",
       "1400         oh     281.156554    1165.906689  Topic20  -3.9864   3.2637\n",
       "\n",
       "[375 rows x 6 columns], token_table=      Topic      Freq       Term\n",
       "term                            \n",
       "3658     18  0.996919   absolute\n",
       "2224     20  0.999609     addict\n",
       "1170      2  0.335214  addictive\n",
       "1170      9  0.664371  addictive\n",
       "1203      5  0.998696        ago\n",
       "...     ...       ...        ...\n",
       "345      12  0.000894      wrong\n",
       "345      18  0.028623      wrong\n",
       "3218     15  0.998728       xbox\n",
       "3999     19  0.997602         xd\n",
       "346       5  0.999746       year\n",
       "\n",
       "[662 rows x 3 columns], R=10, lambda_step=0.01, plot_opts={'xlab': 'PC1', 'ylab': 'PC2'}, topic_order=[17, 11, 7, 19, 2, 15, 16, 3, 5, 8, 12, 14, 18, 10, 6, 4, 13, 9, 1, 20])"
      ]
     },
     "execution_count": 15,
     "metadata": {},
     "output_type": "execute_result"
    }
   ],
   "source": [
    "import pyLDAvis.gensim_models\n",
    "\n",
    "pyLDAvis.enable_notebook()\n",
    "vis = pyLDAvis.gensim_models.prepare(lda_model, corpus, id2word, mds=\"mmds\", R=10)\n",
    "vis"
   ]
  },
  {
   "cell_type": "markdown",
   "metadata": {},
   "source": [
    "save model\n",
    "\n",
    "we need to save the corpora.Dictionary and the LDA model"
   ]
  },
  {
   "cell_type": "code",
   "execution_count": 16,
   "metadata": {},
   "outputs": [],
   "source": [
    "# save the LDA multicore model (and the corpora.Dictionary object) automatically\n",
    "\n",
    "lda_save_folder = Path(f'lda_model_{datetime.now().strftime(\"%Y%m%d_%H%M%S\")}')\n",
    "if not lda_save_folder.exists():\n",
    "    lda_save_folder.mkdir()\n",
    "\n",
    "lda_model.save(str(lda_save_folder.joinpath('lda_model')))     # no need to add file extension"
   ]
  },
  {
   "cell_type": "markdown",
   "metadata": {},
   "source": [
    "Evaluation\n",
    "\n",
    "gensim provide functions to calculate, so we don't need to install octis (as the evaluation backend of octis also relies on gensim)\n",
    "\n",
    "octis seems awesome for simple development, but it installs many packages ;("
   ]
  },
  {
   "cell_type": "code",
   "execution_count": 17,
   "metadata": {},
   "outputs": [],
   "source": [
    "# corpus = lemmatized words (?) (list of list of str)\n",
    "\n",
    "# create a result object from the LDAMulticore model for octis evaluation\n",
    "# referencing from https://github.com/MIND-Lab/OCTIS/blob/master/octis/models/LDA.py\n",
    "# and guideline in README: https://github.com/MIND-Lab/OCTIS/tree/master\n",
    "result_lda_online = {}\n",
    "result_lda_online['topic-word-matrix'] = lda_model.get_topics()\n",
    "\n",
    "top_words = 10\n",
    "topics_output = []\n",
    "for topic in result_lda_online[\"topic-word-matrix\"]:\n",
    "    top_k = np.argsort(topic)[-top_words:]\n",
    "    top_k_words = list(reversed([id2word[i] for i in top_k]))\n",
    "    topics_output.append(top_k_words)\n",
    "result_lda_online[\"topics\"] = topics_output\n",
    "\n",
    "def _get_topic_document_matrix(lda_model, corpus, num_topics=10):\n",
    "    \"\"\"\n",
    "    Return the topic representation of the\n",
    "    corpus\n",
    "    \"\"\"\n",
    "\n",
    "    id_corpus = corpus\n",
    "\n",
    "    doc_topic_tuples = []\n",
    "    for document in id_corpus:\n",
    "        doc_topic_tuples.append(\n",
    "            lda_model.get_document_topics(document, minimum_probability=0))\n",
    "\n",
    "    topic_document = np.zeros((num_topics, len(doc_topic_tuples)))\n",
    "\n",
    "    for ndoc in range(len(doc_topic_tuples)):\n",
    "        document = doc_topic_tuples[ndoc]\n",
    "        for topic_tuple in document:\n",
    "            topic_document[topic_tuple[0]][ndoc] = topic_tuple[1]\n",
    "    return topic_document\n",
    "\n",
    "result_lda_online['topic-document-matrix'] = _get_topic_document_matrix(lda_model, corpus, num_topics=20)"
   ]
  },
  {
   "cell_type": "code",
   "execution_count": 18,
   "metadata": {},
   "outputs": [
    {
     "data": {
      "text/plain": [
       "[(0,\n",
       "  '0.193*\"life\" + 0.055*\"bad\" + 0.051*\"guy\" + 0.038*\"saw\" + 0.034*\"xd\" + 0.031*\"pack\" + 0.029*\"away\" + 0.027*\"win\" + 0.023*\"starbound\" + 0.022*\"portal\"'),\n",
       " (1,\n",
       "  '0.087*\"game\" + 0.063*\"hour\" + 0.059*\"play\" + 0.045*\"new\" + 0.043*\"update\" + 0.039*\"time\" + 0.038*\"still\" + 0.031*\"come\" + 0.030*\"year\" + 0.024*\"back\"'),\n",
       " (2,\n",
       "  '0.039*\"die\" + 0.038*\"go\" + 0.032*\"world\" + 0.025*\"make\" + 0.024*\"house\" + 0.024*\"kill\" + 0.021*\"build\" + 0.017*\"find\" + 0.017*\"dig\" + 0.017*\"hell\"'),\n",
       " (3,\n",
       "  '0.452*\"love\" + 0.171*\"game\" + 0.133*\"cool\" + 0.087*\"much\" + 0.023*\"favourite\" + 0.012*\"gud\" + 0.008*\"soo\" + 0.007*\"edition\" + 0.006*\"tf\" + 0.005*\"animal\"'),\n",
       " (4,\n",
       "  '0.214*\"game\" + 0.208*\"best\" + 0.136*\"ever\" + 0.132*\"one\" + 0.127*\"play\" + 0.024*\"ive\" + 0.019*\"addictive\" + 0.017*\"sandbox\" + 0.011*\"far\" + 0.011*\"probably\"'),\n",
       " (5,\n",
       "  '0.084*\"pc\" + 0.080*\"dont\" + 0.068*\"im\" + 0.052*\"version\" + 0.048*\"super\" + 0.044*\"reccomend\" + 0.043*\"p\" + 0.042*\"xbox\" + 0.033*\"console\" + 0.032*\"computer\"'),\n",
       " (6,\n",
       "  '0.048*\"boss\" + 0.036*\"item\" + 0.030*\"game\" + 0.025*\"fight\" + 0.025*\"weapon\" + 0.023*\"many\" + 0.020*\"build\" + 0.019*\"bos\" + 0.019*\"thing\" + 0.013*\"different\"'),\n",
       " (7,\n",
       "  '0.029*\"sword\" + 0.029*\"gun\" + 0.028*\"giant\" + 0.027*\"fly\" + 0.025*\"kill\" + 0.022*\"shoot\" + 0.022*\"would\" + 0.019*\"eye\" + 0.018*\"fish\" + 0.017*\"unicorn\"'),\n",
       " (8,\n",
       "  '0.053*\"suck\" + 0.046*\"check\" + 0.041*\"minute\" + 0.032*\"top\" + 0.029*\"everytime\" + 0.028*\"f\" + 0.024*\"realy\" + 0.023*\"definately\" + 0.019*\"ten\" + 0.018*\"absolute\"'),\n",
       " (9,\n",
       "  '0.503*\"good\" + 0.113*\"pretty\" + 0.110*\"game\" + 0.070*\"nice\" + 0.012*\"crap\" + 0.009*\"soul\" + 0.009*\"pillar\" + 0.009*\"moonlord\" + 0.009*\"plantera\" + 0.006*\"golem\"'),\n",
       " (10,\n",
       "  '0.044*\"game\" + 0.019*\"world\" + 0.018*\"terrarium\" + 0.010*\"one\" + 0.010*\"sandbox\" + 0.009*\"make\" + 0.008*\"graphic\" + 0.008*\"feel\" + 0.008*\"style\" + 0.008*\"gameplay\"'),\n",
       " (11,\n",
       "  '0.258*\"game\" + 0.134*\"awesome\" + 0.115*\"buy\" + 0.083*\"amazing\" + 0.075*\"amaze\" + 0.034*\"favorite\" + 0.025*\"recomend\" + 0.023*\"must\" + 0.015*\"stop\" + 0.014*\"already\"'),\n",
       " (12,\n",
       "  '0.139*\"u\" + 0.038*\"there\" + 0.037*\"perfect\" + 0.034*\"totally\" + 0.031*\"moment\" + 0.029*\"click\" + 0.026*\"forever\" + 0.022*\"eat\" + 0.022*\"casual\" + 0.019*\"miss\"'),\n",
       " (13,\n",
       "  '0.052*\"steam\" + 0.044*\"review\" + 0.044*\"need\" + 0.040*\"say\" + 0.036*\"terrarium\" + 0.032*\"cant\" + 0.031*\"game\" + 0.030*\"please\" + 0.026*\"help\" + 0.023*\"ok\"'),\n",
       " (14,\n",
       "  '0.204*\"game\" + 0.135*\"fun\" + 0.097*\"great\" + 0.075*\"play\" + 0.052*\"friend\" + 0.049*\"recommend\" + 0.043*\"really\" + 0.028*\"would\" + 0.025*\"lot\" + 0.018*\"anyone\"'),\n",
       " (15,\n",
       "  '0.081*\"game\" + 0.073*\"content\" + 0.059*\"worth\" + 0.029*\"hour\" + 0.024*\"buy\" + 0.022*\"price\" + 0.020*\"much\" + 0.019*\"money\" + 0.019*\"sale\" + 0.018*\"great\"'),\n",
       " (16,\n",
       "  '0.084*\"game\" + 0.049*\"play\" + 0.037*\"get\" + 0.022*\"friend\" + 0.020*\"fun\" + 0.017*\"time\" + 0.014*\"start\" + 0.014*\"like\" + 0.014*\"really\" + 0.012*\"first\"'),\n",
       " (17,\n",
       "  '0.305*\"get\" + 0.043*\"never\" + 0.038*\"stuff\" + 0.035*\"kill\" + 0.034*\"beat\" + 0.029*\"bore\" + 0.023*\"flesh\" + 0.022*\"wall\" + 0.019*\"lose\" + 0.018*\"hardmode\"'),\n",
       " (18,\n",
       "  '0.183*\"minecraft\" + 0.105*\"like\" + 0.079*\"game\" + 0.058*\"terrarium\" + 0.043*\"well\" + 0.029*\"think\" + 0.026*\"say\" + 0.025*\"people\" + 0.021*\"much\" + 0.020*\"terraria\"'),\n",
       " (19,\n",
       "  '0.129*\"addict\" + 0.113*\"moon\" + 0.089*\"lord\" + 0.066*\"na\" + 0.045*\"god\" + 0.039*\"hate\" + 0.036*\"gon\" + 0.034*\"wan\" + 0.019*\"oh\" + 0.018*\"warn\"')]"
      ]
     },
     "execution_count": 18,
     "metadata": {},
     "output_type": "execute_result"
    }
   ],
   "source": [
    "lda_model.show_topics(num_topics=20, num_words=10, formatted=True, log=False)"
   ]
  },
  {
   "cell_type": "code",
   "execution_count": 19,
   "metadata": {},
   "outputs": [
    {
     "data": {
      "text/plain": [
       "array([0.01493756, 0.1166612 , 0.02502849, ..., 0.00384638, 0.00714299,\n",
       "       0.00833427])"
      ]
     },
     "execution_count": 19,
     "metadata": {},
     "output_type": "execute_result"
    }
   ],
   "source": [
    "result_lda_online['topic-document-matrix'][0]"
   ]
  },
  {
   "cell_type": "code",
   "execution_count": 20,
   "metadata": {},
   "outputs": [
    {
     "data": {
      "text/plain": [
       "(20, 35084)"
      ]
     },
     "execution_count": 20,
     "metadata": {},
     "output_type": "execute_result"
    }
   ],
   "source": [
    "lda_model.get_topics().shape"
   ]
  },
  {
   "cell_type": "code",
   "execution_count": 21,
   "metadata": {},
   "outputs": [
    {
     "data": {
      "text/plain": [
       "array([0.99999999, 1.00000005, 1.00000002, ..., 1.00000002, 0.99999997,\n",
       "       0.99999996])"
      ]
     },
     "execution_count": 21,
     "metadata": {},
     "output_type": "execute_result"
    }
   ],
   "source": [
    "np.sum(result_lda_online['topic-document-matrix'], axis=0)"
   ]
  },
  {
   "cell_type": "markdown",
   "metadata": {},
   "source": [
    "Evaluation\n",
    "\n",
    "instead of using octis, we use gensim provided CoherenceModel object,  \n",
    "as octis also uses this module for calculating the coherence scores"
   ]
  },
  {
   "cell_type": "code",
   "execution_count": 22,
   "metadata": {},
   "outputs": [
    {
     "name": "stdout",
     "output_type": "stream",
     "text": [
      "\n",
      "Coherence Score:  -0.03538318657890152\n"
     ]
    }
   ],
   "source": [
    "from gensim.models import CoherenceModel\n",
    "\n",
    "# Compute Coherence Score using c_npmi\n",
    "coherence_model_lda = CoherenceModel(model=lda_model, texts=X_lemmatized, dictionary=id2word, coherence='c_npmi')\n",
    "coherence_npmi = coherence_model_lda.get_coherence()\n",
    "print('\\nCoherence Score: ', coherence_npmi)"
   ]
  },
  {
   "cell_type": "code",
   "execution_count": null,
   "metadata": {},
   "outputs": [],
   "source": []
  },
  {
   "cell_type": "markdown",
   "metadata": {},
   "source": [
    "INFERENCE"
   ]
  },
  {
   "cell_type": "markdown",
   "metadata": {},
   "source": [
    "inference test"
   ]
  },
  {
   "cell_type": "code",
   "execution_count": 23,
   "metadata": {},
   "outputs": [
    {
     "data": {
      "text/plain": [
       "<gensim.interfaces.TransformedCorpus at 0x7f0e2aab63a0>"
      ]
     },
     "execution_count": 23,
     "metadata": {},
     "output_type": "execute_result"
    }
   ],
   "source": [
    "# inference test\n",
    "\n",
    "inference_test = [\"well its been fun guys, but that's it, no more updates, that one was the last one, there is no longer going to be anymore content for this game anymore, there is no way to replay it as there won't be any updates, nope, that was it, the last update, nothing more, this game has no new ways to experience it as there is no more content updates, nothing new to freshen up the experience, its such a shame that this game has no replay-ability, once you beat the game there is like no point to playing again, as they said guys 1.2 will be they final update. nothing more after 1.2, there is no chance they will make another final update right? several years and final updates later: alright, thats it, no more updates we wont be getting anymore, thats it, nothing more, no more updates, for real this time... oh god, redigit made another tweet.\",\n",
    "                  \"keeps forcing me to play it\",\n",
    "'''I will leave the cat here, so that everybody who passes by can pet it and give it a thumbs up and awards\n",
    "　　　 　　／＞　　フ\n",
    "　　　 　　| 　_　 _ l\n",
    "　 　　 　／` ミ＿xノ\n",
    "　　 　 /　　　 　 |\n",
    "　　　 /　 ヽ　　 ﾉ\n",
    "　 　 │　　|　|　|\n",
    "　／￣|　　 |　|　|\n",
    "　| (￣ヽ＿_ヽ_)__)\n",
    "　＼二つ''']\n",
    "\n",
    "inference_test = cleaning_strlist(inference_test)\n",
    "\n",
    "inference_test = list(map(lambda x: lemmatization(x), inference_test))\n",
    "\n",
    "corpus_test = [id2word.doc2bow(text) for text in inference_test]\n",
    "\n",
    "test_output = lda_model[corpus_test]\n",
    "\n",
    "test_output"
   ]
  },
  {
   "cell_type": "code",
   "execution_count": 24,
   "metadata": {},
   "outputs": [
    {
     "data": {
      "text/plain": [
       "['leave',\n",
       " 'cat',\n",
       " 'everybody',\n",
       " 'pass',\n",
       " 'pet',\n",
       " 'give',\n",
       " 'thumb',\n",
       " 'award',\n",
       " 'l',\n",
       " 'x']"
      ]
     },
     "execution_count": 24,
     "metadata": {},
     "output_type": "execute_result"
    }
   ],
   "source": [
    "inference_test[-1]"
   ]
  },
  {
   "cell_type": "code",
   "execution_count": 25,
   "metadata": {},
   "outputs": [
    {
     "name": "stdout",
     "output_type": "stream",
     "text": [
      "[(1, 0.3274507), (16, 0.29032797), (15, 0.12324333), (6, 0.09021136), (18, 0.090171866), (5, 0.03030293), (19, 0.023576751), (7, 0.016134461)]\n",
      "[(1, 0.49798408), (10, 0.27697712), (0, 0.012502153), (2, 0.012502153), (3, 0.012502153), (4, 0.012502153), (5, 0.012502153), (6, 0.012502153), (7, 0.012502153), (8, 0.012502153), (9, 0.012502153), (11, 0.012502153), (12, 0.012502153), (13, 0.012502153), (14, 0.012502153), (15, 0.012502153), (16, 0.012502153), (17, 0.012502153), (18, 0.012502153), (19, 0.012502153)]\n",
      "[(13, 0.27615827), (7, 0.20502369), (14, 0.13383116), (17, 0.10500433), (11, 0.10498857), (2, 0.1049786)]\n"
     ]
    }
   ],
   "source": [
    "# test inference\n",
    "\n",
    "corpus_test = [id2word.doc2bow(text) for text in inference_test]\n",
    "\n",
    "output_test = lda_model[corpus_test]\n",
    "\n",
    "for i in range(len(output_test)):\n",
    "    # print(sorted(test_output[i], key=lambda x: x[1], reverse=True))\n",
    "    print(sorted(output_test[i], key=lambda x: x[1], reverse=True))"
   ]
  },
  {
   "cell_type": "markdown",
   "metadata": {},
   "source": [
    "load model (both corpora Dictionary and the LDA model)"
   ]
  },
  {
   "cell_type": "code",
   "execution_count": 28,
   "metadata": {},
   "outputs": [],
   "source": [
    "del id2word\n",
    "del lda_model\n",
    "\n",
    "model_datetime = datetime(2024, 1, 11, 18, 21, 29)\n",
    "lda_save_folder = Path(f'lda_model_{model_datetime.strftime(\"%Y%m%d_%H%M%S\")}')\n",
    "\n",
    "# id2word_load = gensim.corpora.Dictionary.load('lda_model.id2word')\n",
    "id2word = gensim.corpora.Dictionary.load(str(lda_save_folder.joinpath('lda_model.id2word')))\n",
    "\n",
    "lda_model = gensim.models.ldamulticore.LdaMulticore.load(str(lda_save_folder.joinpath('lda_model')))"
   ]
  },
  {
   "cell_type": "code",
   "execution_count": 29,
   "metadata": {},
   "outputs": [
    {
     "name": "stdout",
     "output_type": "stream",
     "text": [
      "[(1, 0.32744843), (16, 0.2903514), (15, 0.123242974), (6, 0.09021147), (18, 0.09014924), (5, 0.030303197), (19, 0.023578195), (7, 0.016134478)]\n",
      "[(1, 0.49804363), (10, 0.2769175), (0, 0.012502159), (2, 0.012502159), (3, 0.012502159), (4, 0.012502159), (5, 0.012502159), (6, 0.012502159), (7, 0.012502159), (8, 0.012502159), (9, 0.012502159), (11, 0.012502159), (12, 0.012502159), (13, 0.012502159), (14, 0.012502159), (15, 0.012502159), (16, 0.012502159), (17, 0.012502159), (18, 0.012502159), (19, 0.012502159)]\n",
      "[(13, 0.27624068), (7, 0.20502365), (14, 0.13374868), (17, 0.105004296), (11, 0.104988545), (2, 0.10497881)]\n"
     ]
    }
   ],
   "source": [
    "corpus_test2 = [id2word.doc2bow(text) for text in inference_test]\n",
    "\n",
    "output_test2 = lda_model[corpus_test2]\n",
    "\n",
    "for i in range(len(output_test2)):\n",
    "    print(sorted(output_test2[i], key=lambda x: x[1], reverse=True))"
   ]
  },
  {
   "cell_type": "code",
   "execution_count": null,
   "metadata": {},
   "outputs": [],
   "source": []
  }
 ],
 "metadata": {
  "kernelspec": {
   "display_name": "fyp-test-tm",
   "language": "python",
   "name": "python3"
  },
  "language_info": {
   "codemirror_mode": {
    "name": "ipython",
    "version": 3
   },
   "file_extension": ".py",
   "mimetype": "text/x-python",
   "name": "python",
   "nbconvert_exporter": "python",
   "pygments_lexer": "ipython3",
   "version": "3.9.18"
  }
 },
 "nbformat": 4,
 "nbformat_minor": 2
}
