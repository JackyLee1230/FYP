{
 "cells": [
  {
   "cell_type": "markdown",
   "metadata": {},
   "source": [
    "Demo ipynb for LDA\n",
    "\n",
    "Testing the pipeline for a single game"
   ]
  },
  {
   "cell_type": "code",
   "execution_count": 1,
   "metadata": {},
   "outputs": [],
   "source": [
    "import pandas as pd\n",
    "import numpy as np\n",
    "\n",
    "from pathlib import Path\n",
    "\n",
    "import gensim\n",
    "\n",
    "import spacy\n",
    "\n",
    "import nltk\n",
    "\n",
    "import pyLDAvis"
   ]
  },
  {
   "cell_type": "code",
   "execution_count": 2,
   "metadata": {},
   "outputs": [],
   "source": [
    "# download nltk stopwords\n",
    "# import nltk\n",
    "# nltk.download('stopwords')"
   ]
  },
  {
   "cell_type": "code",
   "execution_count": 3,
   "metadata": {},
   "outputs": [
    {
     "name": "stdout",
     "output_type": "stream",
     "text": [
      "<class 'pandas.core.frame.DataFrame'>\n",
      "Index: 81776 entries, 63365 to 145140\n",
      "Data columns (total 6 columns):\n",
      " #   Column        Non-Null Count  Dtype \n",
      "---  ------        --------------  ----- \n",
      " 0   index         81776 non-null  int64 \n",
      " 1   app_id        81776 non-null  int64 \n",
      " 2   app_name      81776 non-null  object\n",
      " 3   review_text   81776 non-null  object\n",
      " 4   review_score  81776 non-null  int64 \n",
      " 5   review_votes  81776 non-null  int64 \n",
      "dtypes: int64(4), object(2)\n",
      "memory usage: 4.4+ MB\n"
     ]
    }
   ],
   "source": [
    "# load a dataset\n",
    "\n",
    "dataset_path = Path('../../dataset/topic_modelling/top_10_games/00_Terraria.pkl')\n",
    "\n",
    "dataset = pd.read_pickle(dataset_path)\n",
    "\n",
    "dataset.info(verbose=True)"
   ]
  },
  {
   "cell_type": "code",
   "execution_count": 4,
   "metadata": {},
   "outputs": [],
   "source": [
    "# data preprocessing\n",
    "\n",
    "import re\n",
    "\n",
    "def clean(raw):\n",
    "    \"\"\" Remove hyperlinks and markup \"\"\"\n",
    "    result = re.sub(\"<[a][^>]*>(.+?)</[a]>\", 'Link.', raw)\n",
    "    result = re.sub('&gt;', \"\", result)\n",
    "    result = re.sub('&#x27;', \"'\", result)\n",
    "    result = re.sub('&quot;', '\"', result)\n",
    "    result = re.sub('&#x2F;', ' ', result)\n",
    "    result = re.sub('<p>', ' ', result)\n",
    "    result = re.sub('</i>', '', result)\n",
    "    result = re.sub('&#62;', '', result)\n",
    "    result = re.sub('<i>', ' ', result)\n",
    "    result = re.sub(\"\\n\", '', result)\n",
    "    return result\n",
    "\n",
    "def deEmojify(x):\n",
    "    regrex_pattern = re.compile(pattern = \"[\"\n",
    "        u\"\\U0001F600-\\U0001F64F\"  # emoticons\n",
    "        u\"\\U0001F300-\\U0001F5FF\"  # symbols & pictographs\n",
    "        u\"\\U0001F680-\\U0001F6FF\"  # transport & map symbols\n",
    "        u\"\\U0001F1E0-\\U0001F1FF\"  # flags (iOS)\n",
    "                           \"]+\", flags = re.UNICODE)\n",
    "    return regrex_pattern.sub(r'', x)\n",
    "    \n",
    "def remove_num(texts):\n",
    "   output = re.sub(r'\\d+', '', texts)\n",
    "   return output\n",
    "\n",
    "def unify_whitespaces(x):\n",
    "    cleaned_string = re.sub(' +', ' ', x)\n",
    "    return cleaned_string\n",
    "\n",
    "from nltk.corpus import stopwords\n",
    "stop=set(stopwords.words(\"english\"))\n",
    "def remove_stopword(text):\n",
    "   text=[word.lower() for word in text.split() if word.lower() not in stop]\n",
    "   return \" \".join(text)\n",
    "\n",
    "# only keep alphabets\n",
    "def remove_non_alphabets(text):\n",
    "    text = re.sub('[^a-zA-Z]', ' ', text)\n",
    "    return text\n",
    "\n",
    "def cleaning(df, review):\n",
    "    df[review] = df[review].apply(lambda x: clean(x))\n",
    "    df[review] = df[review].apply(lambda x: deEmojify(x))\n",
    "    df[review] = df[review].apply(lambda x: remove_num(x))\n",
    "    df[review] = df[review].apply(lambda x: unify_whitespaces(x))\n",
    "    df[review] = df[review].apply(lambda x: remove_non_alphabets(x))\n",
    "    df[review] = df[review].apply(lambda x: remove_stopword(x))\n",
    "    df[review] = df[review].apply(lambda x: x.lower())\n",
    "\n",
    "def cleaning_strlist(str_list):\n",
    "    str_list = list(map(lambda x: clean(x), str_list))\n",
    "    str_list = list(map(lambda x: deEmojify(x), str_list))\n",
    "    str_list = list(map(lambda x: remove_num(x), str_list))\n",
    "    str_list = list(map(lambda x: unify_whitespaces(x), str_list))\n",
    "    str_list = list(map(lambda x: remove_non_alphabets(x), str_list))\n",
    "    str_list = list(map(lambda x: remove_stopword(x), str_list))\n",
    "    str_list = list(map(lambda x: x.lower(), str_list))\n",
    "    return str_list"
   ]
  },
  {
   "cell_type": "code",
   "execution_count": 5,
   "metadata": {},
   "outputs": [],
   "source": [
    "# apply data preprocessing\n",
    "\n",
    "cleaning(dataset, 'review_text')"
   ]
  },
  {
   "cell_type": "code",
   "execution_count": 6,
   "metadata": {},
   "outputs": [],
   "source": [
    "X = dataset['review_text'].values"
   ]
  },
  {
   "cell_type": "code",
   "execution_count": 7,
   "metadata": {},
   "outputs": [
    {
     "data": {
      "text/plain": [
       "array(['werewolf riding unicorn shooting rainbows gun build teleporters find hair dresser spider cavern get sword shoots cats take lord moon using yoyo summon sharknado minion shoots sharks enemies find sky temples air wyverns spawn buy music box wizard go record music like playing base whenever want go build castle made entirely white marble would seem thing minecraft game dimension trust get used start learning game terraria simply one satisfying sandbox experiences may sound rude compared minecraft imagination',\n",
       "       'copies game go around giving people look sad', 'introduction',\n",
       "       ...,\n",
       "       'game game start newb get pro hours entertainment even get bored get mods newb',\n",
       "       'far one greatest games played yet',\n",
       "       'game awesome eye cthulhu possible'], dtype=object)"
      ]
     },
     "execution_count": 7,
     "metadata": {},
     "output_type": "execute_result"
    }
   ],
   "source": [
    "X"
   ]
  },
  {
   "cell_type": "code",
   "execution_count": 8,
   "metadata": {},
   "outputs": [
    {
     "data": {
      "text/plain": [
       "[('werewolf', 'NN'),\n",
       " ('riding', 'VBG'),\n",
       " ('unicorn', 'JJ'),\n",
       " ('shooting', 'NN'),\n",
       " ('rainbows', 'NNS'),\n",
       " ('gun', 'VBP'),\n",
       " ('build', 'JJ'),\n",
       " ('teleporters', 'NNS'),\n",
       " ('find', 'VBP'),\n",
       " ('hair', 'JJ'),\n",
       " ('dresser', 'NN'),\n",
       " ('spider', 'NN'),\n",
       " ('cavern', 'JJ'),\n",
       " ('get', 'NN'),\n",
       " ('sword', 'JJ'),\n",
       " ('shoots', 'NNS'),\n",
       " ('cats', 'NNS'),\n",
       " ('take', 'VBP'),\n",
       " ('lord', 'NN'),\n",
       " ('moon', 'NN'),\n",
       " ('using', 'VBG'),\n",
       " ('yoyo', 'JJ'),\n",
       " ('summon', 'JJ'),\n",
       " ('sharknado', 'NN'),\n",
       " ('minion', 'NN'),\n",
       " ('shoots', 'NNS'),\n",
       " ('sharks', 'JJ'),\n",
       " ('enemies', 'NNS'),\n",
       " ('find', 'VBP'),\n",
       " ('sky', 'JJ'),\n",
       " ('temples', 'NNS'),\n",
       " ('air', 'NN'),\n",
       " ('wyverns', 'VBZ'),\n",
       " ('spawn', 'JJ'),\n",
       " ('buy', 'NN'),\n",
       " ('music', 'NN'),\n",
       " ('box', 'NN'),\n",
       " ('wizard', 'NN'),\n",
       " ('go', 'VBP'),\n",
       " ('record', 'NN'),\n",
       " ('music', 'NN'),\n",
       " ('like', 'IN'),\n",
       " ('playing', 'VBG'),\n",
       " ('base', 'NN'),\n",
       " ('whenever', 'NN'),\n",
       " ('want', 'VBP'),\n",
       " ('go', 'VB'),\n",
       " ('build', 'JJ'),\n",
       " ('castle', 'NN'),\n",
       " ('made', 'VBD'),\n",
       " ('entirely', 'RB'),\n",
       " ('white', 'JJ'),\n",
       " ('marble', 'NN'),\n",
       " ('would', 'MD'),\n",
       " ('seem', 'VB'),\n",
       " ('thing', 'NN'),\n",
       " ('minecraft', 'NN'),\n",
       " ('game', 'NN'),\n",
       " ('dimension', 'NN'),\n",
       " ('trust', 'NN'),\n",
       " ('get', 'NN'),\n",
       " ('used', 'VBN'),\n",
       " ('start', 'RB'),\n",
       " ('learning', 'JJ'),\n",
       " ('game', 'NN'),\n",
       " ('terraria', 'NN'),\n",
       " ('simply', 'RB'),\n",
       " ('one', 'CD'),\n",
       " ('satisfying', 'VBG'),\n",
       " ('sandbox', 'NN'),\n",
       " ('experiences', 'NNS'),\n",
       " ('may', 'MD'),\n",
       " ('sound', 'VB'),\n",
       " ('rude', 'JJ'),\n",
       " ('compared', 'VBN'),\n",
       " ('minecraft', 'NN'),\n",
       " ('imagination', 'NN')]"
      ]
     },
     "execution_count": 8,
     "metadata": {},
     "output_type": "execute_result"
    }
   ],
   "source": [
    "# nltk.download('averaged_perceptron_tagger')\n",
    "t = nltk.word_tokenize(X[0])\n",
    "tt = nltk.pos_tag(t)\n",
    "tt"
   ]
  },
  {
   "cell_type": "code",
   "execution_count": 8,
   "metadata": {},
   "outputs": [],
   "source": [
    "# do lemmatization, but not stemming (as part of speech is important in topic modelling)\n",
    "# use nltk wordnet for lemmatization\n",
    "\n",
    "from nltk.stem import WordNetLemmatizer\n",
    "from nltk.corpus import wordnet\n",
    "\n",
    "lemma = WordNetLemmatizer()\n",
    "\n",
    "# from https://stackoverflow.com/questions/25534214/nltk-wordnet-lemmatizer-shouldnt-it-lemmatize-all-inflections-of-a-word\n",
    "\n",
    "# from: https://www.cnblogs.com/jclian91/p/9898511.html\n",
    "def get_wordnet_pos(tag):\n",
    "    if tag.startswith('J'):\n",
    "        return wordnet.ADJ\n",
    "    elif tag.startswith('V'):\n",
    "        return wordnet.VERB\n",
    "    elif tag.startswith('N'):\n",
    "        return wordnet.NOUN\n",
    "    elif tag.startswith('R'):\n",
    "        return wordnet.ADV\n",
    "    else:\n",
    "        return None     # if none -> created as noun by wordnet\n",
    "    \n",
    "def lemmatization(text):\n",
    "   # use nltk to get PoS tag\n",
    "    tagged = nltk.pos_tag(nltk.word_tokenize(text))\n",
    "\n",
    "    # then we only need adj, adv, verb, noun\n",
    "    # convert from nltk Penn Treebank tag to wordnet tag\n",
    "    wn_tagged = list(map(lambda x: (x[0], get_wordnet_pos(x[1])), tagged))\n",
    "\n",
    "    # lemmatize by the PoS\n",
    "    lemmatized = list(map(lambda x: lemma.lemmatize(x[0], pos=x[1] if x[1] else wordnet.NOUN), wn_tagged))\n",
    "    # lemma.lemmatize(wn_tagged[0], pos=wordnet.NOUN)\n",
    "\n",
    "    return lemmatized"
   ]
  },
  {
   "cell_type": "code",
   "execution_count": 9,
   "metadata": {},
   "outputs": [],
   "source": [
    "# lemmatize the data\n",
    "\n",
    "X_lemmatized = list(map(lambda x: lemmatization(x), X))"
   ]
  },
  {
   "cell_type": "code",
   "execution_count": 11,
   "metadata": {},
   "outputs": [
    {
     "data": {
      "text/plain": [
       "['werewolf',\n",
       " 'rid',\n",
       " 'unicorn',\n",
       " 'shooting',\n",
       " 'rainbow',\n",
       " 'gun',\n",
       " 'build',\n",
       " 'teleporters',\n",
       " 'find',\n",
       " 'hair',\n",
       " 'dresser',\n",
       " 'spider',\n",
       " 'cavern',\n",
       " 'get',\n",
       " 'sword',\n",
       " 'shoot',\n",
       " 'cat',\n",
       " 'take',\n",
       " 'lord',\n",
       " 'moon',\n",
       " 'use',\n",
       " 'yoyo',\n",
       " 'summon',\n",
       " 'sharknado',\n",
       " 'minion',\n",
       " 'shoot',\n",
       " 'sharks',\n",
       " 'enemy',\n",
       " 'find',\n",
       " 'sky',\n",
       " 'temple',\n",
       " 'air',\n",
       " 'wyverns',\n",
       " 'spawn',\n",
       " 'buy',\n",
       " 'music',\n",
       " 'box',\n",
       " 'wizard',\n",
       " 'go',\n",
       " 'record',\n",
       " 'music',\n",
       " 'like',\n",
       " 'play',\n",
       " 'base',\n",
       " 'whenever',\n",
       " 'want',\n",
       " 'go',\n",
       " 'build',\n",
       " 'castle',\n",
       " 'make',\n",
       " 'entirely',\n",
       " 'white',\n",
       " 'marble',\n",
       " 'would',\n",
       " 'seem',\n",
       " 'thing',\n",
       " 'minecraft',\n",
       " 'game',\n",
       " 'dimension',\n",
       " 'trust',\n",
       " 'get',\n",
       " 'use',\n",
       " 'start',\n",
       " 'learning',\n",
       " 'game',\n",
       " 'terrarium',\n",
       " 'simply',\n",
       " 'one',\n",
       " 'satisfy',\n",
       " 'sandbox',\n",
       " 'experience',\n",
       " 'may',\n",
       " 'sound',\n",
       " 'rude',\n",
       " 'compare',\n",
       " 'minecraft',\n",
       " 'imagination']"
      ]
     },
     "execution_count": 11,
     "metadata": {},
     "output_type": "execute_result"
    }
   ],
   "source": [
    "X_lemmatized[0]"
   ]
  },
  {
   "cell_type": "code",
   "execution_count": 17,
   "metadata": {},
   "outputs": [],
   "source": [
    "# use gensim to build a dictionary and train our LDAModel\n",
    "\n",
    "id2word = gensim.corpora.Dictionary(X_lemmatized)\n",
    "\n",
    "corpus = [id2word.doc2bow(text) for text in X_lemmatized]"
   ]
  },
  {
   "cell_type": "code",
   "execution_count": 20,
   "metadata": {},
   "outputs": [],
   "source": [
    "NUM_TOPICS = 20\n",
    "\n",
    "lda_model = gensim.models.ldamulticore.LdaMulticore(corpus=corpus,\n",
    "                                             id2word=id2word,\n",
    "                                             num_topics=NUM_TOPICS,         # later can use grid search to find the best number of topics\n",
    "                                             random_state=42,\n",
    "                                             chunksize=100,\n",
    "                                             passes=10,\n",
    "                                            #  alpha='auto',\n",
    "                                             workers=2)"
   ]
  },
  {
   "cell_type": "markdown",
   "metadata": {},
   "source": [
    "inference test"
   ]
  },
  {
   "cell_type": "code",
   "execution_count": 21,
   "metadata": {},
   "outputs": [
    {
     "data": {
      "text/plain": [
       "<gensim.interfaces.TransformedCorpus at 0x2ae89bdf0>"
      ]
     },
     "execution_count": 21,
     "metadata": {},
     "output_type": "execute_result"
    }
   ],
   "source": [
    "# inference test\n",
    "\n",
    "inference_test = [\"well its been fun guys, but that's it, no more updates, that one was the last one, there is no longer going to be anymore content for this game anymore, there is no way to replay it as there won't be any updates, nope, that was it, the last update, nothing more, this game has no new ways to experience it as there is no more content updates, nothing new to freshen up the experience, its such a shame that this game has no replay-ability, once you beat the game there is like no point to playing again, as they said guys 1.2 will be they final update. nothing more after 1.2, there is no chance they will make another final update right? several years and final updates later: alright, thats it, no more updates we wont be getting anymore, thats it, nothing more, no more updates, for real this time... oh god, redigit made another tweet.\",\n",
    "                  \"keeps forcing me to play it\",\n",
    "'''I will leave the cat here, so that everybody who passes by can pet it and give it a thumbs up and awards\n",
    "　　　 　　／＞　　フ\n",
    "　　　 　　| 　_　 _ l\n",
    "　 　　 　／` ミ＿xノ\n",
    "　　 　 /　　　 　 |\n",
    "　　　 /　 ヽ　　 ﾉ\n",
    "　 　 │　　|　|　|\n",
    "　／￣|　　 |　|　|\n",
    "　| (￣ヽ＿_ヽ_)__)\n",
    "　＼二つ''']\n",
    "\n",
    "inference_test = cleaning_strlist(inference_test)\n",
    "\n",
    "inference_test = list(map(lambda x: lemmatization(x), inference_test))\n",
    "\n",
    "corpus_test = [id2word.doc2bow(text) for text in inference_test]\n",
    "\n",
    "test_output = lda_model[corpus_test]\n",
    "\n",
    "test_output"
   ]
  },
  {
   "cell_type": "code",
   "execution_count": 22,
   "metadata": {},
   "outputs": [
    {
     "data": {
      "text/plain": [
       "['leave',\n",
       " 'cat',\n",
       " 'everybody',\n",
       " 'pass',\n",
       " 'pet',\n",
       " 'give',\n",
       " 'thumb',\n",
       " 'award',\n",
       " 'l',\n",
       " 'x']"
      ]
     },
     "execution_count": 22,
     "metadata": {},
     "output_type": "execute_result"
    }
   ],
   "source": [
    "inference_test[-1]"
   ]
  },
  {
   "cell_type": "code",
   "execution_count": 23,
   "metadata": {},
   "outputs": [
    {
     "name": "stdout",
     "output_type": "stream",
     "text": [
      "[(1, 0.40155536), (15, 0.13400023), (13, 0.117064886), (16, 0.08842767), (18, 0.08247831), (10, 0.07789028), (17, 0.03888663), (19, 0.033185128), (7, 0.018651282)]\n",
      "[(1, 0.49903196), (10, 0.27591208), (4, 0.012503109), (0, 0.012503108), (2, 0.012503108), (3, 0.012503108), (5, 0.012503108), (6, 0.012503108), (7, 0.012503108), (8, 0.012503108), (9, 0.012503108), (11, 0.012503108), (12, 0.012503108), (13, 0.012503108), (14, 0.012503108), (15, 0.012503108), (16, 0.012503108), (17, 0.012503108), (18, 0.012503108), (19, 0.012503108)]\n",
      "[(16, 0.30494246), (7, 0.20502426), (13, 0.10501494), (19, 0.10501245), (5, 0.105011985), (11, 0.10497866)]\n"
     ]
    }
   ],
   "source": [
    "for i in range(len(test_output)):\n",
    "    print(sorted(test_output[i], key=lambda x: x[1], reverse=True))"
   ]
  },
  {
   "cell_type": "markdown",
   "metadata": {},
   "source": [
    "visualize the data"
   ]
  },
  {
   "cell_type": "code",
   "execution_count": 24,
   "metadata": {},
   "outputs": [
    {
     "name": "stderr",
     "output_type": "stream",
     "text": [
      "/Users/michaelcheng/miniforge3/envs/fyp-test-tm/lib/python3.9/site-packages/sklearn/manifold/_mds.py:298: FutureWarning: The default value of `normalized_stress` will change to `'auto'` in version 1.4. To suppress this warning, manually set the value of `normalized_stress`.\n",
      "  warnings.warn(\n"
     ]
    },
    {
     "data": {
      "text/html": [
       "\n",
       "<link rel=\"stylesheet\" type=\"text/css\" href=\"https://cdn.jsdelivr.net/gh/bmabey/pyLDAvis@3.4.0/pyLDAvis/js/ldavis.v1.0.0.css\">\n",
       "\n",
       "\n",
       "<div id=\"ldavis_el72691120429439523617159348\" style=\"background-color:white;\"></div>\n",
       "<script type=\"text/javascript\">\n",
       "\n",
       "var ldavis_el72691120429439523617159348_data = {\"mdsDat\": {\"x\": [-0.24987852762908794, -0.06133915166689374, -0.3513260113042265, -0.14906781585897977, -0.11017418839857925, 0.04334350563420411, 0.11820179974695506, -0.44578233339010676, 0.2577230719590453, 0.32090726465290165, 0.1965597379027948, -0.3113131821051308, -0.44959835918041463, 0.0889239828239555, 0.2735016885531724, 0.44998344509268257, 0.4728522882509231, 0.13852454921749516, -0.1973126726180539, -0.03472909168265675], \"y\": [0.28316118220522996, 0.24024003376925013, 0.20116388522878156, 0.08881180853207032, 0.3815629272552874, 0.4126906689493873, 0.1983293229146387, 0.026121292860829565, 0.3869767915780127, 0.17251029334832169, 0.035837663384692846, -0.2444440009909471, -0.18889555438557037, -0.15526808375054132, -0.2526299012653371, -0.25359898599028446, -0.0001506013171067638, -0.4418853695459058, -0.42527066269575714, -0.4652627100850521], \"topics\": [1, 2, 3, 4, 5, 6, 7, 8, 9, 10, 11, 12, 13, 14, 15, 16, 17, 18, 19, 20], \"cluster\": [1, 1, 1, 1, 1, 1, 1, 1, 1, 1, 1, 1, 1, 1, 1, 1, 1, 1, 1, 1], \"Freq\": [17.211606324575346, 14.383634939859192, 12.842373678240692, 7.275160835957772, 7.256101598918867, 6.166358767251828, 5.4823868652148215, 4.651582796548773, 3.0819483405621675, 3.0775176742548283, 3.0767961683775686, 2.95376744537214, 2.56529299065105, 1.9451835336248564, 1.915521918031036, 1.6295364490756352, 1.2264081165259462, 1.2106111425837287, 1.067834521679797, 0.9803758926939471]}, \"tinfo\": {\"Term\": [\"game\", \"good\", \"minecraft\", \"play\", \"fun\", \"love\", \"best\", \"get\", \"great\", \"like\", \"progression\", \"art\", \"focus\", \"sense\", \"lack\", \"genre\", \"number\", \"environment\", \"secret\", \"stand\", \"side\", \"graphic\", \"pixel\", \"style\", \"combat\", \"exploration\", \"feel\", \"system\", \"world\", \"simple\", \"player\", \"terrarium\", \"game\", \"sandbox\", \"make\", \"one\", \"time\", \"server\", \"alone\", \"played\", \"boring\", \"join\", \"solo\", \"awsome\", \"download\", \"bored\", \"launch\", \"friends\", \"someone\", \"friend\", \"play\", \"get\", \"game\", \"easy\", \"start\", \"fun\", \"first\", \"time\", \"even\", \"really\", \"like\", \"weapon\", \"con\", \"class\", \"pro\", \"biome\", \"npcs\", \"normal\", \"range\", \"step\", \"lots\", \"mob\", \"event\", \"boss\", \"item\", \"fight\", \"bos\", \"enemy\", \"armor\", \"many\", \"different\", \"build\", \"thing\", \"game\", \"minecraft\", \"clone\", \"rip\", \"ripoff\", \"io\", \"better\", \"cough\", \"bro\", \"superior\", \"darn\", \"yes\", \"compare\", \"like\", \"people\", \"think\", \"well\", \"terrarium\", \"say\", \"terraria\", \"game\", \"much\", \"year\", \"ago\", \"soon\", \"five\", \"today\", \"master\", \"creator\", \"till\", \"future\", \"million\", \"back\", \"come\", \"update\", \"new\", \"always\", \"still\", \"keep\", \"hour\", \"never\", \"time\", \"play\", \"game\", \"get\", \"content\", \"worth\", \"price\", \"value\", \"replay\", \"favourite\", \"cost\", \"dollar\", \"buying\", \"dlc\", \"support\", \"devs\", \"sale\", \"money\", \"cheap\", \"free\", \"hour\", \"game\", \"amount\", \"buy\", \"update\", \"much\", \"time\", \"wow\", \"engage\", \"crack\", \"terra\", \"lazy\", \"potato\", \"rush\", \"virtual\", \"nostalgia\", \"portion\", \"fun\", \"highly\", \"really\", \"friend\", \"enjoy\", \"recommend\", \"lot\", \"great\", \"game\", \"play\", \"dig\", \"night\", \"tree\", \"cheat\", \"jungle\", \"land\", \"dirt\", \"hole\", \"wood\", \"crash\", \"hell\", \"house\", \"lava\", \"underground\", \"go\", \"world\", \"mine\", \"build\", \"die\", \"make\", \"find\", \"award\", \"please\", \"fix\", \"lt\", \"read\", \"waste\", \"guess\", \"otherworld\", \"okay\", \"thanks\", \"review\", \"write\", \"test\", \"need\", \"steam\", \"say\", \"help\", \"know\", \"terrarium\", \"want\", \"game\", \"awesome\", \"recomend\", \"tho\", \"cousin\", \"device\", \"chose\", \"garbage\", \"currency\", \"winter\", \"grade\", \"amazing\", \"favorite\", \"spent\", \"great\", \"buy\", \"must\", \"game\", \"one\", \"time\", \"best\", \"ever\", \"ive\", \"bye\", \"min\", \"unbelievable\", \"wake\", \"grate\", \"freeze\", \"famous\", \"not\", \"can\", \"one\", \"addictive\", \"ok\", \"play\", \"game\", \"probably\", \"far\", \"sandbox\", \"moon\", \"lord\", \"wall\", \"flesh\", \"save\", \"blood\", \"skeletron\", \"pirate\", \"delete\", \"badge\", \"kill\", \"die\", \"beat\", \"mode\", \"get\", \"expert\", \"would\", \"giant\", \"sword\", \"fly\", \"gun\", \"shoot\", \"unicorn\", \"worm\", \"skeleton\", \"ride\", \"fire\", \"bee\", \"fish\", \"star\", \"use\", \"kill\", \"love\", \"anyone\", \"gud\", \"edition\", \"animal\", \"history\", \"soo\", \"iz\", \"welp\", \"cheese\", \"would\", \"recommend\", \"bought\", \"much\", \"game\", \"good\", \"pretty\", \"nice\", \"soul\", \"crap\", \"plantera\", \"moonlord\", \"pillar\", \"cultist\", \"golem\", \"game\", \"pc\", \"dont\", \"im\", \"cant\", \"xbox\", \"op\", \"console\", \"co\", \"mobile\", \"lag\", \"super\", \"version\", \"computer\", \"reccomend\", \"amaze\", \"totally\", \"there\", \"ten\", \"damn\", \"hey\", \"eat\", \"casual\", \"r\", \"self\", \"perfect\", \"p\", \"game\", \"u\", \"suck\", \"everytime\", \"penny\", \"f\", \"realy\", \"absolute\", \"definately\", \"c\", \"k\", \"check\", \"top\", \"minute\", \"cool\", \"life\", \"starbound\", \"hate\", \"xd\", \"lol\", \"dead\", \"somehow\", \"everywhere\", \"catch\", \"win\", \"epic\", \"consume\", \"real\", \"addict\", \"na\", \"wont\", \"gon\", \"wan\", \"click\", \"portal\", \"question\", \"thumb\", \"button\", \"god\", \"let\", \"regret\"], \"Freq\": [122465.0, 15923.0, 21915.0, 35388.0, 21955.0, 10277.0, 11630.0, 24587.0, 15144.0, 21109.0, 1422.3899998194474, 867.1055437616532, 694.6185127038952, 646.3499580229559, 596.954880454992, 593.459178805448, 555.530868546078, 471.8450751669486, 441.8069980587895, 433.08761484853756, 1204.861134621588, 2177.103090103271, 1042.9314146873614, 1907.0497416351068, 1650.3892573432352, 1319.3166758351024, 2038.9839226917952, 1270.3781686960306, 4953.134466095074, 1364.1762502709191, 2123.5328177571896, 5261.797920871632, 12366.195393652402, 2378.7531213965763, 2814.952573954298, 2836.60265810514, 2010.7820956548724, 1971.0037560262094, 1300.1059931107966, 1218.592518506252, 1172.5072341187893, 789.9221612927092, 781.4789990903286, 761.8310195888073, 614.2798743850277, 560.1292968184587, 438.3650730886168, 1661.435548470363, 760.0815607930422, 6808.751987221033, 15023.942156739346, 10113.751946863104, 21658.815447446104, 1813.4279743798868, 2779.6507240859005, 5686.129512718201, 2755.9012820631283, 4046.0222291994783, 2876.8455432092874, 2949.3963956779717, 3318.513726032642, 5840.436759642514, 1555.7526766397332, 1380.1850471281514, 1297.8975826965518, 1261.931281501426, 1111.6777735170674, 914.6943396544426, 698.287905235273, 585.424396242021, 503.3302668192343, 1006.827553877164, 1752.8474573281549, 11086.158143592054, 7794.511889409193, 5733.512386256461, 4072.6694167942196, 2457.3146695426717, 2207.7063103481937, 5084.91692961068, 3097.860948594514, 3912.8323248255097, 3880.2295029228644, 6391.160123822759, 21914.430625098907, 877.2248083126136, 739.0526098513948, 359.65535635778775, 280.6991151070206, 231.5670767889734, 165.71209128854323, 105.51132536699735, 87.87882176937427, 86.45794189140621, 1266.1484754241017, 1109.2752714189078, 12355.999175177776, 3384.12240234911, 3934.1005282597284, 5001.546564544405, 7384.8402149828025, 2822.492386998361, 2362.727683996044, 9144.629066477795, 2662.082165169077, 3826.394685501489, 798.5696772782143, 409.6895923034033, 380.5357384433501, 336.3574561310098, 247.66741167985379, 231.341324530398, 227.45964930848427, 202.28855206176692, 195.70324088018154, 3344.282162505013, 3733.107324001499, 4979.125541801021, 5158.622126357973, 2564.4701845530003, 4538.066266156722, 2703.448776019268, 5873.290420755828, 2179.385367408698, 4633.75916505082, 6605.507598652389, 10630.265915689333, 3924.692843529057, 6937.888021301054, 5265.405950911983, 1952.9345235277187, 869.7795493982101, 756.9621487048598, 639.0791061393281, 565.5915384700087, 517.0416196211426, 457.9979557247969, 305.3864481153195, 999.5741698375241, 993.4353351137769, 1754.2964887311912, 1817.7885070593306, 1032.6528183348255, 1306.7621986689378, 3520.974746097869, 9314.95526199628, 1522.6461875282557, 2390.192979070979, 1872.7977616645383, 1973.8452593300822, 1769.8146225759008, 485.50074002762256, 202.7142179229776, 172.36552263350026, 118.46217000368097, 102.89516579310724, 87.828879917968, 71.86057378082225, 68.30757677972207, 62.7873200835076, 56.644864634472924, 16268.594285609395, 1964.8521979315967, 5501.044587853457, 5254.974273565951, 1706.9792581244424, 2939.3455234696626, 3419.6001957267463, 4158.73431640682, 15717.859866109171, 6721.321348411714, 1922.3468504814248, 1116.1411617732533, 687.3632425044677, 583.3929597863316, 551.0348341940384, 493.0852820713619, 487.4733361516182, 447.6428705139005, 439.22365351947735, 390.2524324430273, 1473.9129834898094, 1789.862320157952, 586.4051196118818, 663.0584077900018, 3248.377457012286, 3768.460432945775, 1209.1036798761759, 2241.8270594263327, 1173.857266619291, 1885.3091099195833, 1441.666104558291, 1180.5868992193975, 1060.0681890510803, 729.6023368767626, 689.8779149328491, 672.7324892210695, 548.4160056854531, 514.4246026949252, 489.6876360900341, 435.4954342668141, 425.9965944229305, 2981.8820472493453, 757.7922917157995, 1000.4158367710518, 2036.265179467909, 2270.732454235493, 2523.6013394775964, 1251.6964294273794, 1403.8406454765247, 1828.9684435722706, 1290.6572437287991, 1208.621663046478, 5575.955914389306, 1013.6578294165151, 268.9352014368936, 151.36873801665965, 131.72556761604372, 50.12995887451623, 41.37962226953016, 40.68297552859009, 39.78312753206611, 37.963516421824494, 2799.7342470587255, 1804.665225090365, 691.1720161046628, 7672.7563024234305, 4526.954672664555, 1022.7254049264476, 15886.536108136444, 1197.760925856045, 809.2363839258733, 11629.452157873868, 6935.637252738424, 1092.1918563460479, 106.32208750595969, 99.91163479428307, 55.417796460800574, 28.658159945190985, 10.821929945128433, 9.878173670695821, 7.277171783352521, 248.49483808138928, 245.40312274635636, 5830.254805317097, 687.2619293268926, 455.90820224346226, 7036.646805693946, 10312.436848592153, 597.791602929061, 586.6600068503127, 886.4627673109844, 1913.780636604819, 1465.108022797933, 1271.6601687896075, 921.7079293945117, 526.0674827237913, 474.8984286193948, 374.50369603922053, 325.73213132187095, 316.20755368867486, 312.96911373356596, 2607.7143370029135, 1639.5989083491913, 1518.70726753874, 1760.6845886171927, 6197.918740798329, 1319.3672265387218, 1641.4724550668761, 1420.908061253347, 1371.9651647907035, 1288.7076366493975, 1243.3606905255674, 942.5984168302508, 756.2906096961682, 509.6214790854412, 481.8529519632327, 474.80744690755944, 449.72770368437585, 562.9688753401936, 739.5611048571106, 548.8653517767026, 997.6412877827689, 592.5371820794534, 10276.29195752161, 2423.943443585315, 276.415566005887, 209.93967365256944, 188.96202276019187, 144.45758254867792, 132.48663658360607, 68.77508579492397, 51.75006364846787, 38.021103618558186, 5535.109657143385, 2872.556588931872, 203.01853549980302, 1903.1023546892884, 5650.906137776281, 15922.827670780795, 3551.4725850697555, 2100.0664363523842, 337.0224730999884, 311.23280563392547, 305.1376369624193, 303.7218193415652, 254.6971717116164, 245.09400556977027, 216.0074859767951, 3504.0832337397624, 2514.3438035202885, 1965.5455074322658, 1752.1382009508561, 1452.8592056782923, 1047.9378655426167, 923.6818581882284, 803.963522246152, 610.8783076555426, 539.423338971227, 505.0239602643371, 984.3654139871282, 1241.411751434731, 953.6975090204841, 910.9459583129396, 4497.3472406579385, 1096.2952370940202, 646.4879741289841, 529.6512869486543, 501.8724892288057, 423.2379219902576, 420.35515712114704, 336.4403281270026, 299.24942069453874, 283.7366170225914, 612.9479224902079, 623.2451080429829, 620.098255071719, 2148.6878231255, 821.1187569370904, 614.8160186390131, 466.238986672015, 391.6514087743265, 341.48146329277193, 327.9554232837673, 327.4084296941375, 307.89630124835674, 298.4636607768005, 906.4733042269702, 587.3320528606796, 470.1983405690644, 3948.124616450923, 3004.1443915674636, 1093.1736369356488, 662.3474359005814, 538.9453792781313, 449.40837243935255, 310.26760353131766, 273.0520863617345, 203.5184579659938, 196.78519223220295, 394.5468774884244, 949.6545373114469, 321.2481126263907, 430.4242520654803, 2086.132036295039, 1159.3737129231663, 811.4204520459149, 627.489623999353, 542.6600849282288, 435.4421238483985, 364.84739587957176, 293.1916967677695, 286.01417571496296, 259.40543561031654, 686.6835145400485, 1180.9649224263455, 517.6862166235322], \"Total\": [122465.0, 15923.0, 21915.0, 35388.0, 21955.0, 10277.0, 11630.0, 24587.0, 15144.0, 21109.0, 1423.495805574933, 868.2113495171392, 695.7243184593813, 647.4557637784419, 598.060686210478, 594.5649845666773, 556.636674301564, 472.9508809224345, 442.91280382939823, 434.193420618907, 1208.778831221032, 2345.4817355033247, 1100.669017846869, 2106.6488450660263, 1847.237448746291, 1551.8882983803032, 3033.0430169846136, 1608.9652322401816, 11502.568124664484, 1813.9001763558244, 3864.3602465551958, 20512.266791090406, 122465.06150946513, 5785.195124163829, 11654.65748300268, 14191.684364226827, 15036.303269705788, 1972.11704416158, 1301.2192812461672, 1219.7058066416225, 1173.6205222541598, 791.0354494280803, 782.5922872256996, 762.9443077241783, 615.3931625203987, 561.2425849572159, 439.4783612354838, 1853.236919169378, 798.5849383719873, 12064.785727985352, 35388.3839831418, 24587.732694248498, 122465.06150946513, 2861.51047870386, 5649.050958720921, 21955.78326552596, 5941.774573136589, 15036.303269705788, 9020.106988660362, 10071.094612357963, 21109.98045584017, 5841.54638925168, 1556.862306248899, 1381.294676737317, 1299.0072123057175, 1263.0409111105917, 1112.7874031262331, 915.8039692691225, 699.3975348444392, 586.5340258636741, 504.43989642840035, 1022.7479721757979, 1806.9144753205073, 12132.676746231718, 8863.198876513823, 7189.596362781428, 5208.953722575135, 2866.827819004477, 2732.5739291212444, 9150.692167888123, 4889.053439552609, 7825.01959742238, 9785.989206525892, 122465.06150946513, 21915.526909862598, 878.3210930763086, 740.1488946150897, 360.7516411214826, 281.7953998956141, 232.6633615526683, 166.8083760602701, 106.60761014016182, 88.97510653306912, 87.55422670066848, 1460.01806262163, 1307.910994218755, 21109.98045584017, 5697.648930261192, 7377.832154633315, 11097.557443245643, 20512.266791090406, 7422.024008290466, 6218.204024309145, 122465.06150946513, 12648.403722154626, 3827.5202518126134, 799.6952435893377, 410.81515861886794, 381.66130476455936, 337.48302244213306, 248.79297803597763, 232.46689087718167, 228.58521562811364, 203.41411837289024, 196.8288072016069, 3828.3590791222787, 4971.753965689237, 6853.000319356213, 8182.856779881678, 3880.186701919906, 7603.626186919011, 4544.8860067241685, 13457.647969691863, 4099.54594318602, 15036.303269705788, 35388.3839831418, 122465.06150946513, 24587.732694248498, 6939.006908054698, 5266.524837665627, 1954.0534102813624, 870.8984361518541, 758.0810354585038, 640.1979928929721, 566.7104252236527, 518.1605063747866, 459.11684247844084, 306.5053348689635, 1024.6911989240539, 1041.68163934714, 1946.3709384526694, 2097.3569459174128, 1177.1781211754112, 1818.4483234244976, 13457.647969691863, 122465.06150946513, 2756.262068792048, 8607.025561787603, 6853.000319356213, 12648.403722154626, 15036.303269705788, 486.61435628658046, 203.82783416811967, 173.4791389049667, 119.5757863103692, 104.00878215742075, 88.94249619844776, 72.97419004109248, 69.42119305544233, 63.900936351484894, 57.75848096363452, 21955.78326552596, 2396.540807065777, 10071.094612357963, 12064.785727985352, 3499.7659927627296, 6963.664725012195, 8565.14315673666, 15144.64772726599, 122465.06150946513, 35388.3839831418, 1923.4415280748467, 1117.2358393666752, 688.45792009789, 584.4876374110127, 552.1295117874606, 494.1799596728161, 488.5680137450404, 448.7375481073227, 440.31833111289956, 391.3471100364495, 1601.1283132038095, 2291.0188095776903, 625.1165395186898, 746.8639196044128, 8721.800595393664, 11502.568124664484, 2223.233179237544, 7825.01959742238, 2814.4945206144325, 11654.65748300268, 5816.190758688385, 1181.7034565221009, 1061.184746319953, 730.7188941456357, 690.9944722017221, 673.8490708387964, 549.5325629543262, 515.5411599637982, 490.80419336229335, 436.61199153568714, 427.1131516918036, 3002.677343107674, 823.2250051179698, 1173.1352581543679, 3819.176399691181, 4514.368685991562, 7422.024008290466, 2101.179027728188, 4306.114834661545, 20512.266791090406, 6682.75817225608, 122465.06150946513, 5577.073798868351, 1014.7757138955608, 270.0530859159392, 152.48662254503375, 132.8434521011729, 51.247843378262985, 42.497506846156114, 41.80086004843238, 40.90101215590488, 39.081400936507954, 4028.0806685896055, 2613.391814602853, 999.9849420781338, 15144.64772726599, 8607.025561787603, 1809.6390276540492, 122465.06150946513, 14191.684364226827, 15036.303269705788, 11630.568072357008, 6936.753167221563, 1093.3077708291864, 107.43800199485118, 101.0275492774217, 56.53371095461534, 29.7740744283296, 11.937844428267057, 10.994088158622912, 8.393086266491144, 290.1041671461143, 291.55015094237314, 14191.684364226827, 1320.4676093670444, 827.1104367125864, 35388.3839831418, 122465.06150946513, 1728.1258277968343, 1802.9901163187135, 5785.195124163829, 1914.8917418314595, 1466.2191280245736, 1272.771274016248, 922.8190346211525, 527.1785879504321, 476.0095338520286, 375.6148012658613, 326.84323655330013, 317.3186589210685, 314.0802189659596, 5021.533615586889, 2814.4945206144325, 2846.7940622171213, 3656.411130875991, 24587.732694248498, 2455.7306305037455, 9805.360397581464, 1422.0070177162975, 1373.0641212579956, 1289.806593112348, 1244.459646988518, 943.6973732932014, 757.3895661591188, 510.7204355539054, 482.9519084261833, 475.90640337051, 450.82666014732644, 576.8595974339578, 992.8595922291819, 623.0890491823627, 3930.0142590037353, 5021.533615586889, 10277.407120983007, 2425.058607046712, 277.53072946728315, 211.05483712004911, 190.07718623036303, 145.57274602731482, 133.60180004500225, 69.8902492666419, 52.86522712986863, 39.13626708447388, 9805.360397581464, 6963.664725012195, 346.29003721026766, 12648.403722154626, 122465.06150946513, 15923.941436008341, 3552.5863502973007, 2101.1802015799294, 338.1362383421767, 312.3465708733098, 306.2514021954777, 304.83558457462357, 255.8109369494633, 246.20777081927858, 217.121251239857, 122465.06150946513, 2515.4513630108327, 1966.6530669228096, 1753.2457604413999, 1453.966765168836, 1049.0454250331604, 924.7894176787721, 805.0710817366958, 611.9858671460863, 540.5308984617708, 506.13151975488086, 1325.1058203711273, 1860.0058952827753, 1389.3320236089335, 1345.5419929186644, 4498.455030036614, 1097.4030264726953, 647.5957635076592, 530.7590763273294, 502.9802786074808, 424.34571136893265, 421.4629465410552, 337.5481175056777, 300.3572100732138, 284.8444064012665, 1087.73488683381, 1216.8120280672322, 122465.06150946513, 2149.787001322053, 822.2179351336434, 615.9151968355661, 467.33816486856813, 392.7505869708796, 342.58064148932505, 329.0546014803204, 328.5076078906906, 308.99547944490985, 299.5628389733536, 1135.5742266579975, 983.2434076455468, 1370.7221483528367, 3949.226967492504, 3005.246742604525, 1094.27598797271, 663.4497869376427, 540.0477303151926, 450.5107234764139, 311.369954568379, 274.1544374159368, 204.62080900305514, 197.88754326926428, 432.5745886317794, 1174.2209357626105, 384.6907551731558, 834.7922416307131, 2087.2293627317576, 1160.4710393598848, 812.5177784826335, 628.5869504360716, 543.7574113649474, 436.5394502851171, 365.9447223162903, 294.28902320448805, 287.1115021516815, 260.5027620470351, 822.8130912210106, 2228.437213862298, 882.3073856420871], \"Category\": [\"Default\", \"Default\", \"Default\", \"Default\", \"Default\", \"Default\", \"Default\", \"Default\", \"Default\", \"Default\", \"Topic1\", \"Topic1\", \"Topic1\", \"Topic1\", \"Topic1\", \"Topic1\", \"Topic1\", \"Topic1\", \"Topic1\", \"Topic1\", \"Topic1\", \"Topic1\", \"Topic1\", \"Topic1\", \"Topic1\", \"Topic1\", \"Topic1\", \"Topic1\", \"Topic1\", \"Topic1\", \"Topic1\", \"Topic1\", \"Topic1\", \"Topic1\", \"Topic1\", \"Topic1\", \"Topic1\", \"Topic2\", \"Topic2\", \"Topic2\", \"Topic2\", \"Topic2\", \"Topic2\", \"Topic2\", \"Topic2\", \"Topic2\", \"Topic2\", \"Topic2\", \"Topic2\", \"Topic2\", \"Topic2\", \"Topic2\", \"Topic2\", \"Topic2\", \"Topic2\", \"Topic2\", \"Topic2\", \"Topic2\", \"Topic2\", \"Topic2\", \"Topic2\", \"Topic3\", \"Topic3\", \"Topic3\", \"Topic3\", \"Topic3\", \"Topic3\", \"Topic3\", \"Topic3\", \"Topic3\", \"Topic3\", \"Topic3\", \"Topic3\", \"Topic3\", \"Topic3\", \"Topic3\", \"Topic3\", \"Topic3\", \"Topic3\", \"Topic3\", \"Topic3\", \"Topic3\", \"Topic3\", \"Topic3\", \"Topic4\", \"Topic4\", \"Topic4\", \"Topic4\", \"Topic4\", \"Topic4\", \"Topic4\", \"Topic4\", \"Topic4\", \"Topic4\", \"Topic4\", \"Topic4\", \"Topic4\", \"Topic4\", \"Topic4\", \"Topic4\", \"Topic4\", \"Topic4\", \"Topic4\", \"Topic4\", \"Topic4\", \"Topic5\", \"Topic5\", \"Topic5\", \"Topic5\", \"Topic5\", \"Topic5\", \"Topic5\", \"Topic5\", \"Topic5\", \"Topic5\", \"Topic5\", \"Topic5\", \"Topic5\", \"Topic5\", \"Topic5\", \"Topic5\", \"Topic5\", \"Topic5\", \"Topic5\", \"Topic5\", \"Topic5\", \"Topic5\", \"Topic5\", \"Topic6\", \"Topic6\", \"Topic6\", \"Topic6\", \"Topic6\", \"Topic6\", \"Topic6\", \"Topic6\", \"Topic6\", \"Topic6\", \"Topic6\", \"Topic6\", \"Topic6\", \"Topic6\", \"Topic6\", \"Topic6\", \"Topic6\", \"Topic6\", \"Topic6\", \"Topic6\", \"Topic6\", \"Topic6\", \"Topic6\", \"Topic7\", \"Topic7\", \"Topic7\", \"Topic7\", \"Topic7\", \"Topic7\", \"Topic7\", \"Topic7\", \"Topic7\", \"Topic7\", \"Topic7\", \"Topic7\", \"Topic7\", \"Topic7\", \"Topic7\", \"Topic7\", \"Topic7\", \"Topic7\", \"Topic7\", \"Topic7\", \"Topic8\", \"Topic8\", \"Topic8\", \"Topic8\", \"Topic8\", \"Topic8\", \"Topic8\", \"Topic8\", \"Topic8\", \"Topic8\", \"Topic8\", \"Topic8\", \"Topic8\", \"Topic8\", \"Topic8\", \"Topic8\", \"Topic8\", \"Topic8\", \"Topic8\", \"Topic8\", \"Topic8\", \"Topic9\", \"Topic9\", \"Topic9\", \"Topic9\", \"Topic9\", \"Topic9\", \"Topic9\", \"Topic9\", \"Topic9\", \"Topic9\", \"Topic9\", \"Topic9\", \"Topic9\", \"Topic9\", \"Topic9\", \"Topic9\", \"Topic9\", \"Topic9\", \"Topic9\", \"Topic9\", \"Topic9\", \"Topic10\", \"Topic10\", \"Topic10\", \"Topic10\", \"Topic10\", \"Topic10\", \"Topic10\", \"Topic10\", \"Topic10\", \"Topic10\", \"Topic10\", \"Topic10\", \"Topic10\", \"Topic10\", \"Topic10\", \"Topic10\", \"Topic10\", \"Topic10\", \"Topic10\", \"Topic11\", \"Topic11\", \"Topic11\", \"Topic11\", \"Topic11\", \"Topic11\", \"Topic11\", \"Topic11\", \"Topic11\", \"Topic11\", \"Topic11\", \"Topic11\", \"Topic11\", \"Topic11\", \"Topic11\", \"Topic11\", \"Topic11\", \"Topic11\", \"Topic11\", \"Topic11\", \"Topic12\", \"Topic12\", \"Topic12\", \"Topic12\", \"Topic12\", \"Topic12\", \"Topic12\", \"Topic12\", \"Topic12\", \"Topic12\", \"Topic12\", \"Topic12\", \"Topic12\", \"Topic12\", \"Topic12\", \"Topic12\", \"Topic12\", \"Topic13\", \"Topic13\", \"Topic13\", \"Topic13\", \"Topic13\", \"Topic13\", \"Topic13\", \"Topic13\", \"Topic13\", \"Topic13\", \"Topic13\", \"Topic13\", \"Topic13\", \"Topic13\", \"Topic13\", \"Topic14\", \"Topic14\", \"Topic14\", \"Topic14\", \"Topic14\", \"Topic14\", \"Topic14\", \"Topic14\", \"Topic14\", \"Topic14\", \"Topic14\", \"Topic14\", \"Topic14\", \"Topic14\", \"Topic14\", \"Topic15\", \"Topic15\", \"Topic15\", \"Topic15\", \"Topic15\", \"Topic15\", \"Topic15\", \"Topic15\", \"Topic15\", \"Topic15\", \"Topic15\", \"Topic16\", \"Topic16\", \"Topic16\", \"Topic16\", \"Topic16\", \"Topic16\", \"Topic16\", \"Topic16\", \"Topic16\", \"Topic16\", \"Topic16\", \"Topic16\", \"Topic16\", \"Topic16\", \"Topic17\", \"Topic17\", \"Topic17\", \"Topic17\", \"Topic17\", \"Topic17\", \"Topic17\", \"Topic17\", \"Topic17\", \"Topic17\", \"Topic17\", \"Topic17\", \"Topic17\", \"Topic18\", \"Topic18\", \"Topic18\", \"Topic18\", \"Topic18\", \"Topic18\", \"Topic18\", \"Topic18\", \"Topic18\", \"Topic18\", \"Topic18\", \"Topic18\", \"Topic18\", \"Topic19\", \"Topic19\", \"Topic19\", \"Topic19\", \"Topic19\", \"Topic19\", \"Topic19\", \"Topic19\", \"Topic19\", \"Topic19\", \"Topic19\", \"Topic19\", \"Topic19\", \"Topic19\", \"Topic20\", \"Topic20\", \"Topic20\", \"Topic20\", \"Topic20\", \"Topic20\", \"Topic20\", \"Topic20\", \"Topic20\", \"Topic20\", \"Topic20\", \"Topic20\", \"Topic20\"], \"logprob\": [10.0, 9.0, 8.0, 7.0, 6.0, 5.0, 4.0, 3.0, 2.0, 1.0, -5.2917, -5.7866, -6.0084, -6.0804, -6.1599, -6.1658, -6.2319, -6.3951, -6.4609, -6.4808, -5.4577, -4.866, -5.602, -4.9985, -5.143, -5.3669, -4.9316, -5.4047, -4.044, -5.3335, -4.8909, -3.9836, -3.1291, -4.7775, -4.6091, -4.6014, -4.9455, -4.786, -5.2021, -5.2668, -5.3054, -5.7004, -5.7111, -5.7366, -5.9518, -6.0441, -6.2892, -4.9569, -5.7389, -3.5463, -2.7549, -3.1506, -2.3891, -4.8693, -4.4422, -3.7265, -4.4508, -4.0668, -4.4078, -4.3829, -4.265, -3.5864, -4.9092, -5.029, -5.0904, -5.1186, -5.2453, -5.4404, -5.7103, -5.8866, -6.0377, -5.3444, -4.79, -2.9455, -3.2978, -3.6049, -3.9469, -4.4521, -4.5592, -3.7249, -4.2205, -3.9869, -3.9953, -3.4963, -1.6958, -4.9139, -5.0853, -5.8055, -6.0534, -6.2458, -6.5804, -7.0318, -7.2147, -7.231, -4.5469, -4.6792, -2.2688, -3.5638, -3.4132, -3.1732, -2.7835, -3.7453, -3.9231, -2.5697, -3.8038, -3.4384, -5.0052, -5.6726, -5.7465, -5.8699, -6.176, -6.2441, -6.2611, -6.3783, -6.4114, -3.573, -3.463, -3.175, -3.1396, -3.8385, -3.2678, -3.7858, -3.0099, -4.0012, -3.2469, -2.8924, -2.4166, -3.413, -2.6806, -2.9564, -3.9482, -4.7571, -4.896, -5.0653, -5.1874, -5.2772, -5.3984, -5.8037, -4.618, -4.6241, -4.0555, -4.0199, -4.5854, -4.35, -3.3588, -2.3859, -4.1971, -3.7462, -3.9901, -3.9376, -4.0467, -5.2226, -6.0959, -6.2581, -6.6331, -6.774, -6.9324, -7.133, -7.1837, -7.268, -7.3709, -1.7107, -3.8246, -2.795, -2.8408, -3.9653, -3.4218, -3.2705, -3.0748, -1.7452, -2.5947, -3.6821, -4.2258, -4.7105, -4.8745, -4.9316, -5.0427, -5.0542, -5.1394, -5.1584, -5.2766, -3.9477, -3.7535, -4.8694, -4.7465, -3.1575, -3.009, -4.1458, -3.5284, -4.1754, -3.7016, -3.9699, -3.758, -3.8657, -4.2393, -4.2952, -4.3204, -4.5247, -4.5887, -4.638, -4.7553, -4.7773, -2.8315, -4.2014, -3.9236, -3.2129, -3.1039, -2.9983, -3.6995, -3.5848, -3.3203, -3.6689, -3.7345, -2.2041, -3.909, -5.2359, -5.8106, -5.9496, -6.9157, -7.1075, -7.1245, -7.1469, -7.1937, -2.893, -3.3322, -4.2919, -1.8849, -2.4125, -3.9001, -1.1571, -3.7421, -4.1342, -1.4688, -1.9857, -3.8341, -6.1636, -6.2258, -6.8152, -7.4747, -8.4485, -8.5398, -8.8453, -5.3147, -5.3272, -2.1593, -4.2974, -4.7078, -1.9712, -1.589, -4.4368, -4.4556, -4.0429, -3.2324, -3.4996, -3.6412, -3.9631, -4.5239, -4.6262, -4.8637, -5.0032, -5.0329, -5.0432, -2.9231, -3.3871, -3.4637, -3.3158, -2.0573, -3.6044, -3.3859, -3.3892, -3.4243, -3.4869, -3.5227, -3.7996, -4.0198, -4.4146, -4.4706, -4.4854, -4.5396, -4.315, -4.0422, -4.3404, -3.7429, -4.2639, -1.134, -2.5784, -4.7497, -5.0247, -5.13, -5.3986, -5.4851, -6.1407, -6.4251, -6.7334, -1.7527, -2.4086, -5.0583, -2.8203, -1.732, -0.6807, -2.1811, -2.7065, -4.536, -4.6156, -4.6354, -4.6401, -4.8161, -4.8545, -4.9809, -2.1945, -2.3647, -2.611, -2.7259, -2.9132, -3.2399, -3.3661, -3.5049, -3.7796, -3.904, -3.9699, -3.3025, -3.0705, -3.3341, -3.38, -1.499, -2.9106, -3.4387, -3.6381, -3.6919, -3.8624, -3.8692, -4.0919, -4.209, -4.2622, -3.492, -3.4754, -3.4804, -2.2247, -3.1867, -3.476, -3.7526, -3.927, -4.064, -4.1044, -4.1061, -4.1676, -4.1987, -3.0878, -3.5217, -3.7442, -1.4908, -1.7641, -2.775, -3.276, -3.4822, -3.6639, -4.0344, -4.1622, -4.4561, -4.4897, -3.7941, -2.9157, -3.9996, -3.7071, -2.0433, -2.6307, -2.9876, -3.2447, -3.3899, -3.61, -3.7869, -4.0056, -4.0303, -4.128, -3.1545, -2.6123, -3.437], \"loglift\": [10.0, 9.0, 8.0, 7.0, 6.0, 5.0, 4.0, 3.0, 2.0, 1.0, 1.7588, 1.7583, 1.758, 1.7579, 1.7577, 1.7577, 1.7576, 1.7572, 1.7571, 1.757, 1.7563, 1.6851, 1.7057, 1.66, 1.6469, 1.5972, 1.3625, 1.5233, 0.917, 1.4747, 1.1609, 0.399, -0.5333, 0.8709, 0.3388, 0.1495, -0.2524, 1.9385, 1.9382, 1.9382, 1.9381, 1.9377, 1.9377, 1.9376, 1.9373, 1.9371, 1.9365, 1.8298, 1.8897, 1.367, 1.0823, 1.0507, 0.2067, 1.4829, 1.2299, 0.5881, 1.1708, 0.6263, 0.7963, 0.711, 0.0889, 2.0522, 2.0517, 2.0516, 2.0516, 2.0515, 2.0514, 2.0512, 2.0508, 2.0505, 2.0502, 2.0367, 2.022, 1.9622, 1.9239, 1.8261, 1.8063, 1.8983, 1.8391, 1.4649, 1.5961, 1.3594, 1.1274, -0.9005, 2.6207, 2.6195, 2.6192, 2.6177, 2.6168, 2.616, 2.6141, 2.6104, 2.6083, 2.6081, 2.4782, 2.456, 2.0851, 2.0997, 1.9919, 1.8237, 1.5991, 1.6539, 1.653, 0.026, 1.0623, 2.623, 2.6219, 2.6206, 2.6204, 2.62, 2.6188, 2.6185, 2.6184, 2.6178, 2.6176, 2.4881, 2.3368, 2.3039, 2.162, 2.2092, 2.1072, 2.1039, 1.7942, 1.9915, 1.4462, 0.9448, 0.1792, 0.7884, 2.7859, 2.7858, 2.7855, 2.7848, 2.7846, 2.7843, 2.7841, 2.7839, 2.7836, 2.7824, 2.7612, 2.7386, 2.6822, 2.643, 2.6551, 2.4556, 1.4453, 0.2099, 2.1926, 1.5049, 1.4888, 0.9285, 0.6465, 2.9013, 2.8982, 2.8972, 2.8943, 2.8929, 2.891, 2.8883, 2.8875, 2.886, 2.8842, 2.6038, 2.705, 2.2989, 2.0725, 2.1857, 2.0411, 1.9855, 1.6112, 0.8506, 1.2425, 3.0674, 3.067, 3.0664, 3.0661, 3.066, 3.0657, 3.0657, 3.0655, 3.0655, 3.0652, 2.9852, 2.8211, 3.004, 2.9489, 2.0803, 1.9521, 2.4589, 1.8179, 2.1935, 1.2463, 1.6731, 3.4787, 3.4786, 3.4781, 3.478, 3.4779, 3.4776, 3.4774, 3.4773, 3.477, 3.477, 3.4727, 3.3968, 3.3203, 2.8507, 2.7924, 2.4008, 2.9616, 2.3588, 1.0623, 1.8352, -1.1387, 3.4808, 3.4799, 3.4769, 3.4737, 3.4726, 3.459, 3.4544, 3.4539, 3.4533, 3.452, 3.1173, 3.1108, 3.1117, 2.8011, 2.8385, 2.9104, 1.4387, 1.0088, 0.5589, 3.4812, 3.4811, 3.4803, 3.4708, 3.4702, 3.4613, 3.4431, 3.3831, 3.3743, 3.3386, 3.3265, 3.309, 2.5917, 2.8283, 2.8856, 1.866, 1.0068, 2.4197, 2.3585, 1.6055, 3.5215, 3.5213, 3.5212, 3.5209, 3.52, 3.5198, 3.5191, 3.5187, 3.5186, 3.5185, 2.8668, 2.9818, 2.8938, 2.7913, 2.1441, 2.9008, 1.7348, 3.6623, 3.6623, 3.6622, 3.6622, 3.6619, 3.6616, 3.6609, 3.6608, 3.6608, 3.6607, 3.6387, 3.3686, 3.5363, 2.2921, 1.526, 3.9397, 3.9394, 3.9358, 3.9345, 3.9339, 3.9321, 3.9314, 3.9237, 3.9185, 3.9109, 3.368, 3.0543, 3.4058, 2.0458, 0.8638, 3.9551, 3.9549, 3.9546, 3.9519, 3.9516, 3.9515, 3.9515, 3.9508, 3.9506, 3.95, 0.4013, 4.1164, 4.1163, 4.1162, 4.1161, 4.1158, 4.1157, 4.1155, 4.1151, 4.1148, 4.1147, 3.8196, 3.7125, 3.7406, 3.7268, 4.4008, 4.4001, 4.3994, 4.399, 4.3989, 4.3985, 4.3984, 4.3978, 4.3974, 4.3972, 3.8275, 3.732, -0.8846, 4.4135, 4.4127, 4.4123, 4.4117, 4.4112, 4.4108, 4.4107, 4.4107, 4.4105, 4.4104, 4.1887, 3.8988, 3.3441, 4.5393, 4.5392, 4.5385, 4.5379, 4.5375, 4.5371, 4.536, 4.5355, 4.5341, 4.534, 4.4475, 4.3273, 4.3593, 3.8771, 4.6245, 4.624, 4.6236, 4.6232, 4.623, 4.6225, 4.622, 4.6213, 4.6212, 4.6208, 4.4441, 3.99, 4.0918]}, \"token.table\": {\"Topic\": [18, 20, 1, 2, 6, 11, 5, 2, 1, 2, 3, 5, 17, 3, 6, 10, 1, 3, 6, 14, 14, 3, 8, 13, 1, 9, 10, 2, 5, 8, 12, 2, 3, 5, 12, 12, 13, 11, 4, 3, 12, 2, 2, 3, 12, 3, 4, 2, 14, 4, 1, 3, 7, 8, 20, 2, 6, 10, 6, 11, 18, 1, 11, 16, 17, 19, 3, 6, 8, 1, 2, 18, 14, 10, 3, 20, 4, 16, 1, 4, 1, 5, 8, 18, 1, 4, 2, 16, 3, 16, 1, 19, 6, 19, 6, 4, 10, 7, 15, 8, 5, 15, 10, 17, 4, 19, 18, 12, 10, 6, 9, 8, 12, 1, 3, 4, 8, 8, 6, 6, 16, 2, 1, 2, 3, 17, 14, 1, 3, 7, 1, 2, 6, 7, 1, 3, 19, 1, 2, 3, 4, 5, 6, 9, 3, 12, 11, 18, 19, 3, 12, 1, 7, 18, 11, 1, 2, 4, 6, 11, 3, 6, 10, 6, 1, 2, 3, 4, 5, 3, 8, 13, 1, 2, 3, 5, 8, 13, 1, 2, 4, 5, 8, 12, 3, 13, 5, 9, 12, 13, 1, 1, 2, 6, 11, 2, 7, 2, 6, 2, 7, 5, 1, 2, 3, 4, 5, 6, 7, 9, 10, 11, 14, 15, 17, 18, 19, 10, 1, 2, 3, 4, 5, 6, 12, 13, 1, 2, 3, 4, 5, 6, 8, 9, 13, 20, 15, 20, 15, 10, 1, 7, 11, 1, 2, 3, 6, 7, 10, 14, 9, 13, 19, 8, 13, 1, 2, 3, 8, 9, 17, 3, 6, 7, 14, 8, 2, 5, 6, 7, 3, 8, 16, 4, 1, 3, 4, 5, 11, 14, 2, 8, 18, 1, 2, 3, 5, 6, 3, 8, 12, 13, 1, 2, 4, 5, 8, 9, 16, 1, 16, 8, 2, 8, 13, 7, 1, 3, 8, 20, 19, 1, 2, 3, 4, 7, 19, 12, 2, 3, 4, 6, 7, 3, 14, 9, 1, 2, 3, 4, 5, 6, 8, 9, 11, 13, 1, 3, 4, 5, 6, 7, 5, 5, 11, 3, 8, 4, 2, 8, 9, 18, 3, 4, 16, 2, 3, 12, 6, 8, 9, 12, 15, 1, 2, 3, 4, 6, 7, 14, 1, 6, 10, 20, 1, 2, 3, 8, 9, 1, 2, 5, 1, 3, 5, 15, 8, 3, 7, 1, 11, 3, 1, 2, 11, 9, 1, 2, 3, 5, 6, 8, 10, 11, 18, 16, 9, 16, 17, 16, 18, 1, 2, 3, 4, 7, 1, 17, 15, 12, 1, 7, 15, 2, 5, 7, 11, 2, 1, 2, 3, 9, 20, 7, 7, 15, 6, 3, 1, 2, 6, 11, 1, 20, 17, 3, 9, 1, 19, 1, 2, 3, 4, 7, 18, 2, 16, 10, 2, 3, 7, 14, 6, 20, 6, 9, 18, 13, 4, 4, 7, 2, 6, 1, 3, 4, 7, 11, 12, 1, 2, 4, 5, 6, 9, 1, 17, 1, 2, 13, 1, 7, 1, 2, 7, 13, 12, 2, 19, 2, 3, 14, 5, 15, 2, 10, 1, 10, 13, 19, 1, 2, 3, 5, 8, 2, 6, 9, 3, 1, 2, 4, 5, 6, 1, 3, 7, 18, 1, 2, 16, 4, 1, 6, 13, 1, 3, 17, 7, 1, 2, 3, 4, 5, 9, 1, 2, 3, 4, 5, 6, 9, 11, 3, 9, 9, 17, 1, 2, 3, 4, 5, 7, 8, 9, 1, 2, 3, 4, 5, 8, 9, 10, 20, 5, 1, 2, 5, 6, 7, 8, 9, 10, 11, 12, 18, 5, 1, 6, 18, 17, 8, 18, 11, 3, 8, 13, 5, 6, 1, 2, 3, 8, 9, 13, 6, 1, 4, 16, 7, 11, 12, 20, 1, 2, 3, 7, 8, 9, 13, 9, 3, 1, 2, 3, 4, 5, 6, 14, 1, 19, 10, 20, 8, 1, 3, 5, 8, 11, 12, 13, 6, 1, 2, 12, 14, 7, 1, 9, 16, 19, 5, 1, 4, 13], \"Freq\": [0.9967950562746242, 0.9994110073604232, 0.2589991587631104, 0.10223651003806991, 0.11738265967333952, 0.5202702399715113, 0.9991306143247556, 0.9990629701974602, 0.12731346142585614, 0.08375885620122116, 0.1278289005409406, 0.6607929455382494, 0.9996765489424929, 0.17998646493190812, 0.12462511089078328, 0.6951201404266796, 0.25541838273329837, 0.1919265972527199, 0.5525599387824054, 0.994332901008659, 0.9995634715616208, 0.8080293735035599, 0.08929310105745861, 0.10246749301675577, 0.9986047757636284, 0.9994047097702742, 0.9998074619581744, 0.9987622848553716, 0.8734812829434676, 0.12616371401366472, 0.996560690865805, 0.12399913456510404, 0.24483681810730176, 0.09695116470246096, 0.5335826781994137, 0.022535812973950416, 0.975974054179545, 0.9998651766321944, 0.9971488353463073, 0.9991758690463348, 0.9978791730412223, 0.9977860109148514, 0.9994712752185281, 0.781922861466015, 0.21789404560862435, 0.9137307646017351, 0.08613103454887365, 0.41006088752642184, 0.5862138039990397, 0.9943004993793316, 0.18351391739300296, 0.5000626453752233, 0.02990407846097681, 0.2865168543141453, 0.9942313009074208, 0.19623503937278997, 0.27768013268263353, 0.5259656739139256, 0.9975674112227907, 0.9866155180834423, 0.9967783365416926, 0.15434737335771284, 0.8403356993919922, 0.9993350844104585, 0.9954136390476193, 0.9955149108700763, 0.12147694340191664, 0.8775222554837755, 0.9974548008960427, 0.07573260997046276, 0.12504686762564782, 0.7978342399213867, 0.9709663907898702, 0.9756508118975351, 0.9990627077921018, 0.9964735139421841, 0.9984958882500687, 0.9983890687693757, 0.893225719909395, 0.10610438854681299, 0.11364198709331623, 0.7508416598572557, 0.12591129897418754, 0.009453404236081172, 0.15138644821796143, 0.8479170256248446, 0.3131001032208576, 0.6866609160291911, 0.9994461255530191, 0.9986695811574983, 0.1611684168809639, 0.8344364809482163, 0.9998548916195011, 0.9996893145158271, 0.9987464052326683, 0.9951538640962608, 0.9902508002326912, 0.9914736785396601, 0.9956888565494897, 0.9965577616343607, 0.9936898933364379, 0.9950945056881851, 0.9808410628990776, 0.9980510595560631, 0.9822484103939141, 0.9956002351919985, 0.9954107367547108, 0.9958443700551611, 0.9936507815189075, 0.9532662979663821, 0.04511935146467266, 0.41712641165267006, 0.5826978833989599, 0.18715279170352664, 0.6336604903798093, 0.1789712488968151, 0.9992505474932272, 0.9967905927098645, 0.9950887156022683, 0.9977603341811868, 0.9996679297768409, 0.9977361423472876, 0.21562038811036408, 0.6335814645771314, 0.15027028668955683, 0.9965288845601693, 0.9950020708625166, 0.14231758087992896, 0.8570448436813369, 0.9959385617204918, 0.3500234022883856, 0.15658189751349819, 0.005428934402840266, 0.4877468960867544, 0.9979894721401513, 0.19076478129264557, 0.8090470635179164, 0.12305840733324315, 0.3189540881961626, 0.19556309057282964, 0.07716094730084434, 0.15831297808276684, 0.11496537694105688, 0.01186238701320452, 0.9701621321557324, 0.02933177011081222, 0.9998914236670375, 0.9985140862893654, 0.9969660514681775, 0.46218424199366553, 0.537111026598806, 0.8499323059376326, 0.1494952956615093, 0.9980888966285993, 0.8340197845871129, 0.31114979218268346, 0.15918001846065982, 0.10149806055157054, 0.10260732897289919, 0.3255702816599558, 0.15956275582938942, 0.14961399887120208, 0.6906733195972372, 0.9981287150127438, 0.6722621435244694, 0.107482814511514, 0.0032970188500464413, 0.14836584825208987, 0.06857799208096599, 0.7975412958762675, 0.13589079980312407, 0.06648495630081198, 0.23073521066950625, 0.1715899703786641, 0.2530866096166268, 0.09645488314872802, 0.2479285944749836, 0.9981663459142893, 0.16005319425943465, 0.4638344935636193, 0.05873666119510273, 0.16038979403705703, 0.11259262561468117, 0.044262870757341026, 0.25381232348695565, 0.745321902302965, 0.9982672994188727, 0.9990161823494708, 0.9991124645348384, 0.9993746402626136, 0.9989589001847956, 0.12648146061520435, 0.15452734970814097, 0.7187446479307482, 0.9095797537476333, 0.5643697412881452, 0.4355651329812312, 0.8962696473500329, 0.10306291549901041, 0.258975046858288, 0.7409892784624493, 0.9930480814989551, 0.10097573828470459, 0.17685860549154267, 0.05218631274280665, 0.07467435926036095, 0.08680026669629709, 0.07606251027996307, 0.12834681015356517, 0.009872203427640938, 0.12972679557893432, 0.08420360773021783, 0.04614377301042096, 0.02861224219226952, 0.005062668424431251, 0.0002449678269886089, 0.00023680223275565526, 0.9647624776771684, 0.9973678494238644, 0.4113433363608122, 0.07768101368886211, 0.04685263234008856, 0.1596324495962219, 0.0523838458802379, 0.2520769229547473, 0.9992918335115429, 0.06592675373748864, 0.23492855375324218, 0.06799054776753177, 0.04001467313805833, 0.09332935224750567, 0.055378473139490465, 0.3724001671988924, 0.06993968657368362, 0.16407128355197562, 0.834940531853387, 0.9948358291348536, 0.9974753684673685, 0.9999408792093262, 0.9723295247715196, 0.9281675346462804, 0.07120072498205275, 0.9214393826370881, 0.00033014964032462396, 0.11944813986944894, 0.09363043799606335, 0.005282394245193983, 0.2746184708220222, 0.5066476380421678, 0.9944844685479645, 0.9970105976331619, 0.9988270837129591, 0.9978147751854219, 0.9206007962288609, 0.07869450496935988, 0.1327825931623052, 0.15419914044654798, 0.09899204078049995, 0.017609161100377392, 0.5958559377749323, 0.9968287381423241, 0.06133840891279485, 0.11808686885932614, 0.8199317926098086, 0.9891961505828865, 0.9983563931513342, 0.1781143336040825, 0.4364061248463815, 0.2616356147767937, 0.1237214707763026, 0.2182435159020656, 0.7813117869293947, 0.9992894547532879, 0.9971773850960352, 0.02719108567433984, 0.879479306354685, 0.06803412722666774, 0.02527304228652334, 0.9988038401774144, 0.9872621821214935, 0.998691020195329, 0.9979542629702877, 0.9947829344296852, 0.18746344765071427, 0.05192649488916499, 0.054566825137766596, 0.5947343884975126, 0.1108938704412676, 0.1844058152126448, 0.17803326004330935, 0.5193632463008397, 0.1180914129817477, 0.02229387828379767, 0.36552671269476594, 0.13469218129794425, 0.06130816528044359, 0.07106173702960507, 0.3260479699005409, 0.018810459801954282, 0.9982264572225957, 0.997764376035247, 0.9976122874881505, 0.9966361000543286, 0.9374252046685444, 0.06078866514915476, 0.9903009905846804, 0.43169266516271926, 0.0107698793803589, 0.027373443425078872, 0.5299678145084942, 0.9995851446781889, 0.06205595513176246, 0.15722420998650352, 0.12472773271903095, 0.5853155584794327, 0.07067746950884701, 0.9966466425820983, 0.9991685226298909, 0.11149842828358018, 0.3248048455339477, 0.10425978686621686, 0.060127424676485644, 0.3992928007642348, 0.997145554032115, 0.9998630859937294, 0.9985608101920794, 0.24153433973546082, 0.16731508436381834, 0.15684716626515893, 0.07808037270311521, 0.0883766855870425, 0.028572268252898207, 0.16173791488502437, 0.039640804603120035, 0.025912387424550324, 0.011926562423882434, 0.09070352108583221, 0.5556956683391046, 0.07442059983066474, 0.18053279136601785, 0.02130986338763528, 0.07726191494901612, 0.9968126992882292, 0.9957891976617123, 0.9898290190668682, 0.45564271416073754, 0.5438026075225387, 0.9999303274856736, 0.31662142507985824, 0.16268796726453544, 0.17727881634655657, 0.34288495342749625, 0.9846022944027005, 0.01466636982724976, 0.9971677873251513, 0.046220185299433635, 0.4717740807190711, 0.4816198006645126, 0.8668052443523302, 0.04910942803536304, 0.08343834860377217, 0.9995343121430945, 0.9972589008078254, 0.0374750846361548, 0.20658733365880272, 0.1388317481457549, 0.21046134029840521, 0.15606712462398645, 0.10001262038973802, 0.1504537680645624, 0.27464040750949814, 0.15970035768660956, 0.5653061104269951, 0.9987323773623026, 0.03875181047200839, 0.17673967613922745, 0.18695130187171616, 0.06414995652460848, 0.5330992305473586, 0.10025500523616172, 0.3678456153190557, 0.5315222783688477, 0.08346718247338993, 0.2859636998356258, 0.6304644134410229, 0.9994383149150929, 0.9988938419954593, 0.9991221164178136, 0.9859010461673156, 0.14132854554739946, 0.8548653486769527, 0.9992924047090926, 0.9988562120841878, 0.4473405044562045, 0.5513169460325115, 0.9963079540485883, 0.19990579886001866, 0.12415721451933483, 0.058555417290333284, 0.06468576783697468, 0.05425712552774564, 7.046379938668264e-05, 0.08441563166524581, 0.41080395042435985, 0.0031004071730140366, 0.9991463811504747, 0.9983614782164265, 0.48733903538241086, 0.5119936240189578, 0.9994230208414384, 0.9971366240355215, 0.012812302213336534, 0.26098484097577296, 0.058620670400745235, 0.593929187533299, 0.07353910448476723, 0.435767948364444, 0.5635564395514856, 0.996829936361855, 0.9974200581226877, 0.9476054863798371, 0.05178668525757499, 0.9959138074584915, 0.4245460885458088, 0.18667142311858445, 0.18992107701786348, 0.19885056077588234, 0.9994213304242882, 0.549638197394613, 0.3506401871326274, 0.09962839265391996, 0.998883562618044, 0.9974184015817729, 0.9868680590108998, 0.9894033084438639, 0.9995534660833317, 0.9994609101901617, 0.9992246291658922, 0.2337792731881419, 0.3309944164941019, 0.08911388136379667, 0.3460396172438338, 0.998949202681824, 0.9956198733121202, 0.9954813467841075, 0.998001801872593, 0.9987399688215947, 0.4827548459395901, 0.5150982227146992, 0.027703046266455165, 0.2928182202142519, 0.030284692155085394, 0.10276936518201109, 0.546216693590573, 0.99538607469922, 0.32254660373593746, 0.6770505898696751, 0.9992355809417404, 0.11215359022021731, 0.05313294287001332, 0.4220478894458626, 0.4125701212582386, 0.4125546333663568, 0.5870969782521231, 0.9985739842999106, 0.9931136979618751, 0.006660722320334507, 0.9980954167372185, 0.9984477520355047, 0.9979164582061334, 0.9866502109781019, 0.09813134599710045, 0.9011642977953622, 0.41122208481150446, 0.07640191739667296, 0.10250302492359063, 0.25651684483407844, 0.15314954482681503, 0.9977643478370125, 0.039207633884631804, 0.16653139340688972, 0.38021973478498605, 0.03961183629581357, 0.03422247081338996, 0.3400689619409301, 0.9979390890904346, 0.9970355521039196, 0.9977515625624424, 0.9994335812040736, 0.9992610202031529, 0.9968738439792042, 0.002481843594968973, 0.7519708183392504, 0.1113622472907101, 0.1361706687168584, 0.998028978849498, 0.9983632134202663, 0.9979653681084129, 0.995789098192909, 0.9516833632617122, 0.04633195321142546, 0.9880106402424017, 0.99801575330957, 0.9966397025419474, 0.30800463790977206, 0.6910104051806899, 0.9972514078697787, 0.11715821373492749, 0.8810939635681534, 0.9988339431855084, 0.11258528284616598, 0.4921180602395306, 0.05682370407801774, 0.16321325594994504, 0.17525067612846593, 0.21486946846188826, 0.28176697307579573, 0.5030603740999466, 0.9973845918633362, 0.049844638687264395, 0.19793187658135333, 0.06865145486741957, 0.5968205022765325, 0.0866691738651906, 0.9052291768826954, 0.045095318198141617, 0.048892818677985124, 0.998518719816729, 0.07169238753580676, 0.18489089417129112, 0.7425822035287775, 0.9890406814775017, 0.02342169038360091, 0.9759037659833713, 0.9992250025024173, 0.7893271865370041, 0.21007290476339163, 0.9985698288334852, 0.9868218611895295, 0.2648674751682798, 0.048567078021141775, 0.14537959778513962, 0.38001326279456293, 0.11209024298256892, 0.04888871429942748, 0.25652942473844836, 0.0724444555608769, 0.09662510829182909, 0.3600284685848425, 0.09462630433624634, 0.010627786885781403, 0.08916615694538618, 0.019939288239837587, 0.14661565987761596, 0.8524166271954416, 0.9973937780014631, 0.997535864813235, 0.08951573331143979, 0.1906807743825875, 0.3964852114707607, 0.1324342355840479, 0.11424496557327589, 0.04056820333863196, 0.028510147938232536, 0.007459644442619982, 0.00027108233937580027, 0.27528411563612515, 0.004201776260324904, 0.5332189615521991, 0.1257822054703713, 0.0028463645634459024, 0.05828270296579705, 0.9961004485011994, 0.9961286742490228, 0.993065099928892, 0.13374297950292333, 0.2690820960063788, 0.30818745251941654, 0.11771510378924628, 0.04183209055561351, 0.02234591800745014, 0.030659131551888437, 0.05380311805960465, 0.01709196704736514, 0.0027932397509312676, 0.0027267340425757612, 0.9956056383772983, 0.288839973694876, 0.11289167985961704, 0.5970037484468036, 0.9987215030040468, 0.9978823395659641, 0.9996339166058921, 0.9728708600812251, 0.11113135582177024, 0.8877119145763093, 0.9981653217561928, 0.726543085943959, 0.27331094596767125, 0.19363797427872811, 0.293637611455522, 0.20966845046737445, 0.0033078760389270243, 0.04605581254198395, 0.2539430989883977, 0.9989683801066128, 0.037634289320012046, 0.29462272210523716, 0.6672021863733565, 0.9795279655550242, 0.9740017299213479, 0.9993940199374438, 0.9986070785443711, 0.18001549195575195, 0.23687824086945583, 0.22879774497119262, 0.047435503699063485, 0.04638803200854789, 0.19318370749366232, 0.06718782700592904, 0.9972111516993879, 0.9997352774165201, 0.16111653480002833, 0.13363300956847987, 0.05920221664631913, 0.4507298137973947, 0.07515167227249643, 0.1202066316684775, 0.9836333412936425, 0.08553438175143367, 0.9131373186977378, 0.9779709080921901, 0.9981320058184229, 0.9970059590533796, 0.43059949276714005, 0.19239181859351523, 0.03216672972417561, 0.32757902054241544, 8.693710736263679e-05, 0.01703967304307681, 0.9985893739436448, 0.9997104660639362, 0.0040794013048073355, 0.2639372644210346, 0.16735743852972096, 0.5644871555527151, 0.9987374883649782, 0.07774302238405485, 0.9207689213611497, 0.9990034511297474, 0.9980599301573195, 0.9996028102498233, 0.071231995454396, 0.8671125600506282, 0.06095814995616581], \"Term\": [\"absolute\", \"addict\", \"addictive\", \"addictive\", \"addictive\", \"addictive\", \"ago\", \"alone\", \"always\", \"always\", \"always\", \"always\", \"amaze\", \"amazing\", \"amazing\", \"amazing\", \"amount\", \"amount\", \"amount\", \"animal\", \"anyone\", \"armor\", \"armor\", \"armor\", \"art\", \"award\", \"awesome\", \"awsome\", \"back\", \"back\", \"badge\", \"beat\", \"beat\", \"beat\", \"beat\", \"bee\", \"bee\", \"best\", \"better\", \"biome\", \"blood\", \"bored\", \"boring\", \"bos\", \"bos\", \"boss\", \"boss\", \"bought\", \"bought\", \"bro\", \"build\", \"build\", \"build\", \"build\", \"button\", \"buy\", \"buy\", \"buy\", \"buying\", \"bye\", \"c\", \"can\", \"can\", \"cant\", \"casual\", \"catch\", \"cheap\", \"cheap\", \"cheat\", \"check\", \"check\", \"check\", \"cheese\", \"chose\", \"class\", \"click\", \"clone\", \"co\", \"combat\", \"combat\", \"come\", \"come\", \"come\", \"come\", \"compare\", \"compare\", \"computer\", \"computer\", \"con\", \"console\", \"consume\", \"consume\", \"content\", \"cool\", \"cost\", \"cough\", \"cousin\", \"crack\", \"crap\", \"crash\", \"creator\", \"cultist\", \"currency\", \"damn\", \"darn\", \"dead\", \"definately\", \"delete\", \"device\", \"devs\", \"devs\", \"die\", \"die\", \"different\", \"different\", \"different\", \"dig\", \"dirt\", \"dlc\", \"dollar\", \"dont\", \"download\", \"easy\", \"easy\", \"easy\", \"eat\", \"edition\", \"enemy\", \"enemy\", \"engage\", \"enjoy\", \"enjoy\", \"enjoy\", \"enjoy\", \"environment\", \"epic\", \"epic\", \"even\", \"even\", \"even\", \"even\", \"even\", \"even\", \"even\", \"event\", \"event\", \"ever\", \"everytime\", \"everywhere\", \"expert\", \"expert\", \"exploration\", \"exploration\", \"f\", \"famous\", \"far\", \"far\", \"far\", \"far\", \"far\", \"favorite\", \"favorite\", \"favorite\", \"favourite\", \"feel\", \"feel\", \"feel\", \"feel\", \"feel\", \"fight\", \"fight\", \"fight\", \"find\", \"find\", \"find\", \"find\", \"find\", \"fire\", \"first\", \"first\", \"first\", \"first\", \"first\", \"first\", \"fish\", \"fish\", \"five\", \"fix\", \"flesh\", \"fly\", \"focus\", \"free\", \"free\", \"free\", \"freeze\", \"friend\", \"friend\", \"friends\", \"friends\", \"fun\", \"fun\", \"future\", \"game\", \"game\", \"game\", \"game\", \"game\", \"game\", \"game\", \"game\", \"game\", \"game\", \"game\", \"game\", \"game\", \"game\", \"game\", \"garbage\", \"genre\", \"get\", \"get\", \"get\", \"get\", \"get\", \"get\", \"giant\", \"go\", \"go\", \"go\", \"go\", \"go\", \"go\", \"go\", \"go\", \"god\", \"god\", \"golem\", \"gon\", \"good\", \"grade\", \"graphic\", \"graphic\", \"grate\", \"great\", \"great\", \"great\", \"great\", \"great\", \"great\", \"gud\", \"guess\", \"gun\", \"hate\", \"hell\", \"hell\", \"help\", \"help\", \"help\", \"help\", \"help\", \"hey\", \"highly\", \"highly\", \"highly\", \"history\", \"hole\", \"hour\", \"hour\", \"hour\", \"hour\", \"house\", \"house\", \"im\", \"io\", \"item\", \"item\", \"item\", \"item\", \"ive\", \"iz\", \"join\", \"jungle\", \"k\", \"keep\", \"keep\", \"keep\", \"keep\", \"keep\", \"kill\", \"kill\", \"kill\", \"kill\", \"know\", \"know\", \"know\", \"know\", \"know\", \"know\", \"know\", \"lack\", \"lag\", \"land\", \"launch\", \"lava\", \"lava\", \"lazy\", \"let\", \"let\", \"let\", \"let\", \"life\", \"like\", \"like\", \"like\", \"like\", \"like\", \"lol\", \"lord\", \"lot\", \"lot\", \"lot\", \"lot\", \"lot\", \"lots\", \"love\", \"lt\", \"make\", \"make\", \"make\", \"make\", \"make\", \"make\", \"make\", \"make\", \"make\", \"make\", \"many\", \"many\", \"many\", \"many\", \"many\", \"many\", \"master\", \"million\", \"min\", \"mine\", \"mine\", \"minecraft\", \"minute\", \"minute\", \"minute\", \"minute\", \"mob\", \"mob\", \"mobile\", \"mode\", \"mode\", \"mode\", \"money\", \"money\", \"money\", \"moon\", \"moonlord\", \"much\", \"much\", \"much\", \"much\", \"much\", \"much\", \"much\", \"must\", \"must\", \"must\", \"na\", \"need\", \"need\", \"need\", \"need\", \"need\", \"never\", \"never\", \"never\", \"new\", \"new\", \"new\", \"nice\", \"night\", \"normal\", \"nostalgia\", \"not\", \"not\", \"npcs\", \"number\", \"ok\", \"ok\", \"okay\", \"one\", \"one\", \"one\", \"one\", \"one\", \"one\", \"one\", \"one\", \"one\", \"op\", \"otherworld\", \"p\", \"p\", \"pc\", \"penny\", \"people\", \"people\", \"people\", \"people\", \"people\", \"perfect\", \"perfect\", \"pillar\", \"pirate\", \"pixel\", \"pixel\", \"plantera\", \"play\", \"play\", \"play\", \"play\", \"played\", \"player\", \"player\", \"player\", \"please\", \"portal\", \"portion\", \"potato\", \"pretty\", \"price\", \"pro\", \"probably\", \"probably\", \"probably\", \"probably\", \"progression\", \"question\", \"r\", \"range\", \"read\", \"real\", \"real\", \"really\", \"really\", \"really\", \"really\", \"really\", \"realy\", \"reccomend\", \"reccomend\", \"recomend\", \"recommend\", \"recommend\", \"recommend\", \"recommend\", \"regret\", \"regret\", \"replay\", \"review\", \"review\", \"ride\", \"rip\", \"ripoff\", \"rush\", \"sale\", \"sale\", \"sandbox\", \"sandbox\", \"sandbox\", \"sandbox\", \"sandbox\", \"save\", \"say\", \"say\", \"say\", \"say\", \"say\", \"say\", \"secret\", \"self\", \"sense\", \"server\", \"shoot\", \"side\", \"side\", \"simple\", \"simple\", \"simple\", \"skeleton\", \"skeletron\", \"solo\", \"somehow\", \"someone\", \"someone\", \"soo\", \"soon\", \"soul\", \"spent\", \"spent\", \"stand\", \"star\", \"star\", \"starbound\", \"start\", \"start\", \"start\", \"start\", \"start\", \"steam\", \"steam\", \"steam\", \"step\", \"still\", \"still\", \"still\", \"still\", \"still\", \"style\", \"style\", \"style\", \"suck\", \"super\", \"super\", \"super\", \"superior\", \"support\", \"support\", \"sword\", \"system\", \"system\", \"ten\", \"terra\", \"terraria\", \"terraria\", \"terraria\", \"terraria\", \"terraria\", \"terraria\", \"terrarium\", \"terrarium\", \"terrarium\", \"terrarium\", \"terrarium\", \"terrarium\", \"terrarium\", \"terrarium\", \"test\", \"test\", \"thanks\", \"there\", \"thing\", \"thing\", \"thing\", \"thing\", \"thing\", \"thing\", \"thing\", \"thing\", \"think\", \"think\", \"think\", \"think\", \"think\", \"think\", \"think\", \"tho\", \"thumb\", \"till\", \"time\", \"time\", \"time\", \"time\", \"time\", \"time\", \"time\", \"time\", \"time\", \"time\", \"time\", \"today\", \"top\", \"top\", \"top\", \"totally\", \"tree\", \"u\", \"unbelievable\", \"underground\", \"underground\", \"unicorn\", \"update\", \"update\", \"use\", \"use\", \"use\", \"use\", \"use\", \"use\", \"value\", \"version\", \"version\", \"version\", \"virtual\", \"wake\", \"wall\", \"wan\", \"want\", \"want\", \"want\", \"want\", \"want\", \"want\", \"want\", \"waste\", \"weapon\", \"well\", \"well\", \"well\", \"well\", \"well\", \"well\", \"welp\", \"win\", \"win\", \"winter\", \"wont\", \"wood\", \"world\", \"world\", \"world\", \"world\", \"world\", \"world\", \"worm\", \"worth\", \"would\", \"would\", \"would\", \"would\", \"wow\", \"write\", \"write\", \"xbox\", \"xd\", \"year\", \"yes\", \"yes\", \"yes\"]}, \"R\": 10, \"lambda.step\": 0.01, \"plot.opts\": {\"xlab\": \"PC1\", \"ylab\": \"PC2\"}, \"topic.order\": [11, 17, 7, 19, 2, 16, 15, 3, 14, 12, 5, 18, 8, 4, 10, 6, 13, 9, 1, 20]};\n",
       "\n",
       "function LDAvis_load_lib(url, callback){\n",
       "  var s = document.createElement('script');\n",
       "  s.src = url;\n",
       "  s.async = true;\n",
       "  s.onreadystatechange = s.onload = callback;\n",
       "  s.onerror = function(){console.warn(\"failed to load library \" + url);};\n",
       "  document.getElementsByTagName(\"head\")[0].appendChild(s);\n",
       "}\n",
       "\n",
       "if(typeof(LDAvis) !== \"undefined\"){\n",
       "   // already loaded: just create the visualization\n",
       "   !function(LDAvis){\n",
       "       new LDAvis(\"#\" + \"ldavis_el72691120429439523617159348\", ldavis_el72691120429439523617159348_data);\n",
       "   }(LDAvis);\n",
       "}else if(typeof define === \"function\" && define.amd){\n",
       "   // require.js is available: use it to load d3/LDAvis\n",
       "   require.config({paths: {d3: \"https://d3js.org/d3.v5\"}});\n",
       "   require([\"d3\"], function(d3){\n",
       "      window.d3 = d3;\n",
       "      LDAvis_load_lib(\"https://cdn.jsdelivr.net/gh/bmabey/pyLDAvis@3.4.0/pyLDAvis/js/ldavis.v3.0.0.js\", function(){\n",
       "        new LDAvis(\"#\" + \"ldavis_el72691120429439523617159348\", ldavis_el72691120429439523617159348_data);\n",
       "      });\n",
       "    });\n",
       "}else{\n",
       "    // require.js not available: dynamically load d3 & LDAvis\n",
       "    LDAvis_load_lib(\"https://d3js.org/d3.v5.js\", function(){\n",
       "         LDAvis_load_lib(\"https://cdn.jsdelivr.net/gh/bmabey/pyLDAvis@3.4.0/pyLDAvis/js/ldavis.v3.0.0.js\", function(){\n",
       "                 new LDAvis(\"#\" + \"ldavis_el72691120429439523617159348\", ldavis_el72691120429439523617159348_data);\n",
       "            })\n",
       "         });\n",
       "}\n",
       "</script>"
      ],
      "text/plain": [
       "PreparedData(topic_coordinates=              x         y  topics  cluster       Freq\n",
       "topic                                                \n",
       "10    -0.249879  0.283161       1        1  17.211606\n",
       "16    -0.061339  0.240240       2        1  14.383635\n",
       "6     -0.351326  0.201164       3        1  12.842374\n",
       "18    -0.149068  0.088812       4        1   7.275161\n",
       "1     -0.110174  0.381563       5        1   7.256102\n",
       "15     0.043344  0.412691       6        1   6.166359\n",
       "14     0.118202  0.198329       7        1   5.482387\n",
       "2     -0.445782  0.026121       8        1   4.651583\n",
       "13     0.257723  0.386977       9        1   3.081948\n",
       "11     0.320907  0.172510      10        1   3.077518\n",
       "4      0.196560  0.035838      11        1   3.076796\n",
       "17    -0.311313 -0.244444      12        1   2.953767\n",
       "7     -0.449598 -0.188896      13        1   2.565293\n",
       "3      0.088924 -0.155268      14        1   1.945184\n",
       "9      0.273502 -0.252630      15        1   1.915522\n",
       "5      0.449983 -0.253599      16        1   1.629536\n",
       "12     0.472852 -0.000151      17        1   1.226408\n",
       "8      0.138525 -0.441885      18        1   1.210611\n",
       "0     -0.197313 -0.425271      19        1   1.067835\n",
       "19    -0.034729 -0.465263      20        1   0.980376, topic_info=           Term           Freq          Total Category  logprob  loglift\n",
       "15         game  122465.000000  122465.000000  Default  10.0000  10.0000\n",
       "244        good   15923.000000   15923.000000  Default   9.0000   9.0000\n",
       "27    minecraft   21915.000000   21915.000000  Default   8.0000   8.0000\n",
       "32         play   35388.000000   35388.000000  Default   7.0000   7.0000\n",
       "241         fun   21955.000000   21955.000000  Default   6.0000   6.0000\n",
       "...         ...            ...            ...      ...      ...      ...\n",
       "4046      thumb     286.014176     287.111502  Topic20  -4.0303   4.6212\n",
       "2974     button     259.405436     260.502762  Topic20  -4.1280   4.6208\n",
       "390         god     686.683515     822.813091  Topic20  -3.1545   4.4441\n",
       "1082        let    1180.964922    2228.437214  Topic20  -2.6123   3.9900\n",
       "1321     regret     517.686217     882.307386  Topic20  -3.4370   4.0918\n",
       "\n",
       "[377 rows x 6 columns], token_table=      Topic      Freq       Term\n",
       "term                            \n",
       "3658     18  0.996795   absolute\n",
       "2224     20  0.999411     addict\n",
       "1170      1  0.258999  addictive\n",
       "1170      2  0.102237  addictive\n",
       "1170      6  0.117383  addictive\n",
       "...     ...       ...        ...\n",
       "3999     19  0.998060         xd\n",
       "346       5  0.999603       year\n",
       "872       1  0.071232        yes\n",
       "872       4  0.867113        yes\n",
       "872      13  0.060958        yes\n",
       "\n",
       "[655 rows x 3 columns], R=10, lambda_step=0.01, plot_opts={'xlab': 'PC1', 'ylab': 'PC2'}, topic_order=[11, 17, 7, 19, 2, 16, 15, 3, 14, 12, 5, 18, 8, 4, 10, 6, 13, 9, 1, 20])"
      ]
     },
     "execution_count": 24,
     "metadata": {},
     "output_type": "execute_result"
    }
   ],
   "source": [
    "import pyLDAvis.gensim_models\n",
    "\n",
    "pyLDAvis.enable_notebook()\n",
    "vis = pyLDAvis.gensim_models.prepare(lda_model, corpus, id2word, mds=\"mmds\", R=10)\n",
    "vis"
   ]
  },
  {
   "cell_type": "markdown",
   "metadata": {},
   "source": [
    "Evaluation\n",
    "\n",
    "gensim provide functions to calculate, so we don't need to install octis (as the evaluation backend of octis also relies on gensim)\n",
    "\n",
    "octis seems awesome for simple development, but it installs many packages ;("
   ]
  },
  {
   "cell_type": "code",
   "execution_count": 25,
   "metadata": {},
   "outputs": [],
   "source": [
    "# corpus = lemmatized words (?) (list of list of str)\n",
    "\n",
    "# create a result object from the LDAMulticore model for octis evaluation\n",
    "# referencing from https://github.com/MIND-Lab/OCTIS/blob/master/octis/models/LDA.py\n",
    "# and guideline in README: https://github.com/MIND-Lab/OCTIS/tree/master\n",
    "result_lda_online = {}\n",
    "result_lda_online['topic-word-matrix'] = lda_model.get_topics()\n",
    "\n",
    "top_words = 10\n",
    "topics_output = []\n",
    "for topic in result_lda_online[\"topic-word-matrix\"]:\n",
    "    top_k = np.argsort(topic)[-top_words:]\n",
    "    top_k_words = list(reversed([id2word[i] for i in top_k]))\n",
    "    topics_output.append(top_k_words)\n",
    "result_lda_online[\"topics\"] = topics_output\n",
    "\n",
    "def _get_topic_document_matrix(lda_model, corpus, num_topics=10):\n",
    "    \"\"\"\n",
    "    Return the topic representation of the\n",
    "    corpus\n",
    "    \"\"\"\n",
    "\n",
    "    id_corpus = corpus\n",
    "\n",
    "    doc_topic_tuples = []\n",
    "    for document in id_corpus:\n",
    "        doc_topic_tuples.append(\n",
    "            lda_model.get_document_topics(document, minimum_probability=0))\n",
    "\n",
    "    topic_document = np.zeros((num_topics, len(doc_topic_tuples)))\n",
    "\n",
    "    for ndoc in range(len(doc_topic_tuples)):\n",
    "        document = doc_topic_tuples[ndoc]\n",
    "        for topic_tuple in document:\n",
    "            topic_document[topic_tuple[0]][ndoc] = topic_tuple[1]\n",
    "    return topic_document\n",
    "\n",
    "result_lda_online['topic-document-matrix'] = _get_topic_document_matrix(lda_model, corpus, num_topics=20)"
   ]
  },
  {
   "cell_type": "code",
   "execution_count": 44,
   "metadata": {},
   "outputs": [
    {
     "name": "stdout",
     "output_type": "stream",
     "text": [
      "10\n",
      "10\n",
      "10\n",
      "10\n",
      "10\n",
      "10\n",
      "10\n",
      "10\n",
      "10\n",
      "10\n",
      "10\n",
      "10\n",
      "10\n",
      "10\n",
      "10\n",
      "10\n",
      "10\n",
      "10\n",
      "10\n",
      "10\n"
     ]
    }
   ],
   "source": [
    "for t in result_lda_online['topics']:\n",
    "    print(len(t))"
   ]
  },
  {
   "cell_type": "code",
   "execution_count": 28,
   "metadata": {},
   "outputs": [
    {
     "data": {
      "text/plain": [
       "[(0,\n",
       "  '0.225*\"cool\" + 0.171*\"life\" + 0.062*\"starbound\" + 0.054*\"epic\" + 0.038*\"hate\" + 0.031*\"xd\" + 0.026*\"lol\" + 0.025*\"real\" + 0.023*\"win\" + 0.018*\"consume\"'),\n",
       " (1,\n",
       "  '0.089*\"game\" + 0.055*\"play\" + 0.049*\"hour\" + 0.043*\"new\" + 0.042*\"update\" + 0.039*\"time\" + 0.038*\"still\" + 0.033*\"get\" + 0.032*\"year\" + 0.031*\"come\"'),\n",
       " (2,\n",
       "  '0.049*\"world\" + 0.043*\"go\" + 0.029*\"build\" + 0.025*\"dig\" + 0.025*\"make\" + 0.023*\"house\" + 0.019*\"hell\" + 0.019*\"find\" + 0.016*\"mine\" + 0.015*\"die\"'),\n",
       " (3,\n",
       "  '0.322*\"love\" + 0.177*\"game\" + 0.173*\"would\" + 0.090*\"recommend\" + 0.076*\"anyone\" + 0.060*\"much\" + 0.009*\"gud\" + 0.007*\"edition\" + 0.006*\"bought\" + 0.006*\"animal\"'),\n",
       " (4,\n",
       "  '0.230*\"best\" + 0.204*\"game\" + 0.139*\"play\" + 0.137*\"ever\" + 0.115*\"one\" + 0.022*\"ive\" + 0.018*\"sandbox\" + 0.014*\"addictive\" + 0.012*\"probably\" + 0.012*\"far\"'),\n",
       " (5,\n",
       "  '0.094*\"pc\" + 0.073*\"dont\" + 0.065*\"im\" + 0.054*\"cant\" + 0.046*\"version\" + 0.039*\"xbox\" + 0.037*\"super\" + 0.036*\"computer\" + 0.035*\"op\" + 0.034*\"reccomend\"'),\n",
       " (6,\n",
       "  '0.053*\"boss\" + 0.037*\"item\" + 0.030*\"game\" + 0.028*\"weapon\" + 0.027*\"fight\" + 0.024*\"many\" + 0.019*\"bos\" + 0.019*\"build\" + 0.018*\"thing\" + 0.015*\"different\"'),\n",
       " (7,\n",
       "  '0.034*\"giant\" + 0.033*\"sword\" + 0.031*\"fly\" + 0.030*\"gun\" + 0.024*\"use\" + 0.022*\"shoot\" + 0.018*\"unicorn\" + 0.018*\"fish\" + 0.014*\"kill\" + 0.013*\"bee\"'),\n",
       " (8,\n",
       "  '0.108*\"u\" + 0.046*\"check\" + 0.041*\"suck\" + 0.031*\"everytime\" + 0.030*\"top\" + 0.024*\"minute\" + 0.023*\"penny\" + 0.020*\"f\" + 0.017*\"realy\" + 0.016*\"absolute\"'),\n",
       " (9,\n",
       "  '0.506*\"good\" + 0.113*\"pretty\" + 0.111*\"game\" + 0.067*\"nice\" + 0.011*\"soul\" + 0.010*\"crap\" + 0.010*\"plantera\" + 0.010*\"moonlord\" + 0.008*\"pillar\" + 0.008*\"cultist\"'),\n",
       " (10,\n",
       "  '0.044*\"game\" + 0.019*\"terrarium\" + 0.018*\"world\" + 0.010*\"one\" + 0.010*\"make\" + 0.008*\"sandbox\" + 0.008*\"graphic\" + 0.008*\"player\" + 0.007*\"feel\" + 0.007*\"time\"'),\n",
       " (11,\n",
       "  '0.314*\"game\" + 0.152*\"great\" + 0.110*\"awesome\" + 0.090*\"buy\" + 0.055*\"amazing\" + 0.036*\"favorite\" + 0.024*\"one\" + 0.020*\"must\" + 0.020*\"recomend\" + 0.016*\"time\"'),\n",
       " (12,\n",
       "  '0.223*\"amaze\" + 0.054*\"totally\" + 0.032*\"there\" + 0.031*\"p\" + 0.031*\"game\" + 0.030*\"perfect\" + 0.026*\"ten\" + 0.025*\"damn\" + 0.021*\"hey\" + 0.021*\"eat\"'),\n",
       " (13,\n",
       "  '0.059*\"review\" + 0.050*\"say\" + 0.045*\"steam\" + 0.040*\"need\" + 0.036*\"terrarium\" + 0.028*\"know\" + 0.026*\"want\" + 0.025*\"help\" + 0.024*\"game\" + 0.023*\"award\"'),\n",
       " (14,\n",
       "  '0.181*\"fun\" + 0.175*\"game\" + 0.075*\"play\" + 0.061*\"really\" + 0.058*\"friend\" + 0.046*\"great\" + 0.038*\"lot\" + 0.033*\"recommend\" + 0.022*\"highly\" + 0.019*\"enjoy\"'),\n",
       " (15,\n",
       "  '0.092*\"game\" + 0.069*\"content\" + 0.052*\"worth\" + 0.035*\"hour\" + 0.024*\"buy\" + 0.019*\"much\" + 0.019*\"price\" + 0.018*\"update\" + 0.018*\"money\" + 0.017*\"time\"'),\n",
       " (16,\n",
       "  '0.092*\"game\" + 0.064*\"play\" + 0.043*\"get\" + 0.029*\"friend\" + 0.024*\"fun\" + 0.017*\"time\" + 0.014*\"like\" + 0.012*\"really\" + 0.012*\"even\" + 0.012*\"start\"'),\n",
       " (17,\n",
       "  '0.128*\"get\" + 0.054*\"kill\" + 0.039*\"moon\" + 0.036*\"mode\" + 0.034*\"would\" + 0.034*\"die\" + 0.031*\"beat\" + 0.030*\"lord\" + 0.027*\"expert\" + 0.026*\"wall\"'),\n",
       " (18,\n",
       "  '0.183*\"minecraft\" + 0.103*\"like\" + 0.077*\"game\" + 0.062*\"terrarium\" + 0.042*\"well\" + 0.033*\"think\" + 0.028*\"people\" + 0.024*\"say\" + 0.022*\"much\" + 0.020*\"terraria\"'),\n",
       " (19,\n",
       "  '0.130*\"addict\" + 0.073*\"let\" + 0.072*\"na\" + 0.050*\"wont\" + 0.043*\"god\" + 0.039*\"gon\" + 0.034*\"wan\" + 0.032*\"regret\" + 0.027*\"click\" + 0.023*\"portal\"')]"
      ]
     },
     "execution_count": 28,
     "metadata": {},
     "output_type": "execute_result"
    }
   ],
   "source": [
    "lda_model.show_topics(num_topics=20, num_words=10, formatted=True, log=False)"
   ]
  },
  {
   "cell_type": "code",
   "execution_count": 39,
   "metadata": {},
   "outputs": [
    {
     "data": {
      "text/plain": [
       "array([0.00066725, 0.00555585, 0.02505902, ..., 0.00384636, 0.007143  ,\n",
       "       0.00833436])"
      ]
     },
     "execution_count": 39,
     "metadata": {},
     "output_type": "execute_result"
    }
   ],
   "source": [
    "result_lda_online['topic-document-matrix'][0]"
   ]
  },
  {
   "cell_type": "code",
   "execution_count": 41,
   "metadata": {},
   "outputs": [
    {
     "data": {
      "text/plain": [
       "(20, 35084)"
      ]
     },
     "execution_count": 41,
     "metadata": {},
     "output_type": "execute_result"
    }
   ],
   "source": [
    "lda_model.get_topics().shape"
   ]
  },
  {
   "cell_type": "code",
   "execution_count": 29,
   "metadata": {},
   "outputs": [
    {
     "data": {
      "text/plain": [
       "array([1.00000004, 1.00000001, 0.99999997, ..., 1.00000001, 0.99999998,\n",
       "       0.99999998])"
      ]
     },
     "execution_count": 29,
     "metadata": {},
     "output_type": "execute_result"
    }
   ],
   "source": [
    "np.sum(result_lda_online['topic-document-matrix'], axis=0)"
   ]
  },
  {
   "cell_type": "code",
   "execution_count": 45,
   "metadata": {},
   "outputs": [
    {
     "name": "stdout",
     "output_type": "stream",
     "text": [
      "Unexpected exception formatting exception. Falling back to standard exception\n"
     ]
    },
    {
     "name": "stderr",
     "output_type": "stream",
     "text": [
      "Traceback (most recent call last):\n",
      "  File \"/Users/michaelcheng/miniforge3/envs/fyp-test-tm/lib/python3.9/site-packages/IPython/core/interactiveshell.py\", line 3460, in run_code\n",
      "    exec(code_obj, self.user_global_ns, self.user_ns)\n",
      "  File \"/var/folders/hm/n8540hpn7xd1f0pw3_qnsp4r0000gn/T/ipykernel_72691/3566859521.py\", line 6, in <module>\n",
      "    nmpi_score = npmi.score(result_lda_online)\n",
      "  File \"/Users/michaelcheng/miniforge3/envs/fyp-test-tm/lib/python3.9/site-packages/octis/evaluation_metrics/coherence_metrics.py\", line 72, in score\n",
      "    return npmi.get_coherence()\n",
      "  File \"/Users/michaelcheng/miniforge3/envs/fyp-test-tm/lib/python3.9/site-packages/gensim/models/coherencemodel.py\", line 615, in get_coherence\n",
      "    confirmed_measures = self.get_coherence_per_topic()\n",
      "  File \"/Users/michaelcheng/miniforge3/envs/fyp-test-tm/lib/python3.9/site-packages/gensim/models/coherencemodel.py\", line 575, in get_coherence_per_topic\n",
      "    self.estimate_probabilities(segmented_topics)\n",
      "  File \"/Users/michaelcheng/miniforge3/envs/fyp-test-tm/lib/python3.9/site-packages/gensim/models/coherencemodel.py\", line 547, in estimate_probabilities\n",
      "    self._accumulator = self.measure.prob(**kwargs)\n",
      "  File \"/Users/michaelcheng/miniforge3/envs/fyp-test-tm/lib/python3.9/site-packages/gensim/topic_coherence/probability_estimation.py\", line 156, in p_boolean_sliding_window\n",
      "    return accumulator.accumulate(texts, window_size)\n",
      "  File \"/Users/michaelcheng/miniforge3/envs/fyp-test-tm/lib/python3.9/site-packages/gensim/topic_coherence/text_analysis.py\", line 335, in accumulate\n",
      "    def accumulate(self, texts, window_size):\n",
      "  File \"/Users/michaelcheng/miniforge3/envs/fyp-test-tm/lib/python3.9/site-packages/gensim/topic_coherence/text_analysis.py\", line 353, in partial_accumulate\n",
      "    self._counter.clear()\n",
      "  File \"/Users/michaelcheng/miniforge3/envs/fyp-test-tm/lib/python3.9/site-packages/gensim/topic_coherence/text_analysis.py\", line 296, in accumulate\n",
      "  File \"/Users/michaelcheng/miniforge3/envs/fyp-test-tm/lib/python3.9/site-packages/gensim/topic_coherence/text_analysis.py\", line 360, in analyze_text\n",
      "  File \"/Users/michaelcheng/miniforge3/envs/fyp-test-tm/lib/python3.9/site-packages/gensim/topic_coherence/text_analysis.py\", line 375, in _slide_window\n",
      "    self._uniq_words[window[-1]] = True\n",
      "IndexError: index 0 is out of bounds for axis 0 with size 0\n",
      "\n",
      "During handling of the above exception, another exception occurred:\n",
      "\n",
      "Traceback (most recent call last):\n",
      "  File \"/Users/michaelcheng/miniforge3/envs/fyp-test-tm/lib/python3.9/site-packages/IPython/core/interactiveshell.py\", line 2057, in showtraceback\n",
      "    stb = self.InteractiveTB.structured_traceback(\n",
      "  File \"/Users/michaelcheng/miniforge3/envs/fyp-test-tm/lib/python3.9/site-packages/IPython/core/ultratb.py\", line 1118, in structured_traceback\n",
      "    return FormattedTB.structured_traceback(\n",
      "  File \"/Users/michaelcheng/miniforge3/envs/fyp-test-tm/lib/python3.9/site-packages/IPython/core/ultratb.py\", line 1012, in structured_traceback\n",
      "    return VerboseTB.structured_traceback(\n",
      "  File \"/Users/michaelcheng/miniforge3/envs/fyp-test-tm/lib/python3.9/site-packages/IPython/core/ultratb.py\", line 865, in structured_traceback\n",
      "    formatted_exception = self.format_exception_as_a_whole(etype, evalue, etb, number_of_lines_of_context,\n",
      "  File \"/Users/michaelcheng/miniforge3/envs/fyp-test-tm/lib/python3.9/site-packages/IPython/core/ultratb.py\", line 818, in format_exception_as_a_whole\n",
      "    frames.append(self.format_record(r))\n",
      "  File \"/Users/michaelcheng/miniforge3/envs/fyp-test-tm/lib/python3.9/site-packages/IPython/core/ultratb.py\", line 736, in format_record\n",
      "    result += ''.join(_format_traceback_lines(frame_info.lines, Colors, self.has_colors, lvals))\n",
      "  File \"/Users/michaelcheng/miniforge3/envs/fyp-test-tm/lib/python3.9/site-packages/stack_data/utils.py\", line 144, in cached_property_wrapper\n",
      "    value = obj.__dict__[self.func.__name__] = self.func(obj)\n",
      "  File \"/Users/michaelcheng/miniforge3/envs/fyp-test-tm/lib/python3.9/site-packages/stack_data/core.py\", line 734, in lines\n",
      "    pieces = self.included_pieces\n",
      "  File \"/Users/michaelcheng/miniforge3/envs/fyp-test-tm/lib/python3.9/site-packages/stack_data/utils.py\", line 144, in cached_property_wrapper\n",
      "    value = obj.__dict__[self.func.__name__] = self.func(obj)\n",
      "  File \"/Users/michaelcheng/miniforge3/envs/fyp-test-tm/lib/python3.9/site-packages/stack_data/core.py\", line 681, in included_pieces\n",
      "    pos = scope_pieces.index(self.executing_piece)\n",
      "  File \"/Users/michaelcheng/miniforge3/envs/fyp-test-tm/lib/python3.9/site-packages/stack_data/utils.py\", line 144, in cached_property_wrapper\n",
      "    value = obj.__dict__[self.func.__name__] = self.func(obj)\n",
      "  File \"/Users/michaelcheng/miniforge3/envs/fyp-test-tm/lib/python3.9/site-packages/stack_data/core.py\", line 660, in executing_piece\n",
      "    return only(\n",
      "  File \"/Users/michaelcheng/miniforge3/envs/fyp-test-tm/lib/python3.9/site-packages/executing/executing.py\", line 116, in only\n",
      "    raise NotOneValueFound('Expected one value, found 0')\n",
      "executing.executing.NotOneValueFound: Expected one value, found 0\n"
     ]
    }
   ],
   "source": [
    "from octis.evaluation_metrics.coherence_metrics import Coherence\n",
    "\n",
    "# we first analysze NPMI\n",
    "\n",
    "npmi = Coherence(texts=X_lemmatized, topk=10, measure='c_npmi')\n",
    "nmpi_score = npmi.score(result_lda_online)"
   ]
  },
  {
   "cell_type": "code",
   "execution_count": 46,
   "metadata": {},
   "outputs": [
    {
     "ename": "NameError",
     "evalue": "name 'nmpi_score' is not defined",
     "output_type": "error",
     "traceback": [
      "\u001b[0;31m---------------------------------------------------------------------------\u001b[0m",
      "\u001b[0;31mNameError\u001b[0m                                 Traceback (most recent call last)",
      "Cell \u001b[0;32mIn[46], line 1\u001b[0m\n\u001b[0;32m----> 1\u001b[0m \u001b[43mnmpi_score\u001b[49m\n",
      "\u001b[0;31mNameError\u001b[0m: name 'nmpi_score' is not defined"
     ]
    }
   ],
   "source": [
    "nmpi_score"
   ]
  },
  {
   "cell_type": "markdown",
   "metadata": {},
   "source": [
    "save model\n",
    "\n",
    "we need to save the corpora.Dictionary and the LDA model"
   ]
  },
  {
   "cell_type": "code",
   "execution_count": 29,
   "metadata": {},
   "outputs": [],
   "source": [
    "# save the LDA multicore model (and the corpora.Dictionary object) automatically\n",
    "lda_model.save('lda_model')     # no need to add file extension"
   ]
  },
  {
   "cell_type": "markdown",
   "metadata": {},
   "source": [
    "load model (both corpora Dictionary and the LDA model)"
   ]
  },
  {
   "cell_type": "code",
   "execution_count": 11,
   "metadata": {},
   "outputs": [],
   "source": [
    "id2word_load = gensim.corpora.Dictionary.load('lda_model.id2word')\n",
    "\n",
    "lda_model_load = gensim.models.ldamulticore.LdaMulticore.load('lda_model')"
   ]
  },
  {
   "cell_type": "code",
   "execution_count": 12,
   "metadata": {},
   "outputs": [],
   "source": [
    "id2word = id2word_load\n",
    "lda_model = lda_model_load"
   ]
  },
  {
   "cell_type": "code",
   "execution_count": null,
   "metadata": {},
   "outputs": [],
   "source": [
    "# test inference\n",
    "\n",
    "corpus_load = [id2word_load.doc2bow(text) for text in inference_test]\n",
    "\n",
    "output_load = lda_model_load[corpus_load]\n",
    "\n",
    "for i in range(len(output_load)):\n",
    "    # print(sorted(test_output[i], key=lambda x: x[1], reverse=True))\n",
    "    print(sorted(output_load[i], key=lambda x: x[1], reverse=True))"
   ]
  }
 ],
 "metadata": {
  "kernelspec": {
   "display_name": "fyp-test-tm",
   "language": "python",
   "name": "python3"
  },
  "language_info": {
   "codemirror_mode": {
    "name": "ipython",
    "version": 3
   },
   "file_extension": ".py",
   "mimetype": "text/x-python",
   "name": "python",
   "nbconvert_exporter": "python",
   "pygments_lexer": "ipython3",
   "version": "3.9.18"
  }
 },
 "nbformat": 4,
 "nbformat_minor": 2
}
