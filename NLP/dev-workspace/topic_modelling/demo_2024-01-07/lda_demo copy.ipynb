{
 "cells": [
  {
   "cell_type": "markdown",
   "metadata": {},
   "source": [
    "Demo ipynb for LDA\n",
    "\n",
    "Creating training pipeline on different situations (15/01/2024)\n",
    "\n",
    "- For all games (using 0.1 and 0.5 of the whole dataset for pipeline developments)\n",
    "- For top 11 genres\n",
    "\n",
    "- (if possible): per game, focus on large and small (indie) games\n",
    "\n",
    "Do the same thing for all three model architectures"
   ]
  },
  {
   "cell_type": "code",
   "execution_count": 1,
   "metadata": {},
   "outputs": [],
   "source": [
    "import pandas as pd\n",
    "import numpy as np\n",
    "\n",
    "from pathlib import Path\n",
    "\n",
    "import gensim\n",
    "\n",
    "import spacy\n",
    "\n",
    "import nltk\n",
    "\n",
    "import pyLDAvis\n",
    "import pickle\n",
    "from datetime import datetime"
   ]
  },
  {
   "cell_type": "code",
   "execution_count": 2,
   "metadata": {},
   "outputs": [],
   "source": [
    "# download nltk stopwords\n",
    "# import nltk\n",
    "# nltk.download('stopwords')\n",
    "\n",
    "# download spacy stopwords\n",
    "# ..."
   ]
  },
  {
   "cell_type": "code",
   "execution_count": 4,
   "metadata": {},
   "outputs": [],
   "source": [
    "# training conditions\n",
    "\n",
    "from enum import Enum\n",
    "\n",
    "class TRAINING_CONDS(Enum):\n",
    "    ALL_GAMES = 1\n",
    "    ALL_GAMES_LARGE = 2\n",
    "    BY_GENRE = 3\n",
    "\n",
    "# training condition\n",
    "training_cond = TRAINING_CONDS.BY_GENRE"
   ]
  },
  {
   "cell_type": "code",
   "execution_count": 6,
   "metadata": {},
   "outputs": [
    {
     "name": "stdout",
     "output_type": "stream",
     "text": [
      "<class 'pandas.core.frame.DataFrame'>\n",
      "Index: 636492 entries, 20727 to 4891927\n",
      "Data columns (total 8 columns):\n",
      " #   Column        Non-Null Count   Dtype \n",
      "---  ------        --------------   ----- \n",
      " 0   index         636492 non-null  int64 \n",
      " 1   app_id        636492 non-null  int64 \n",
      " 2   app_name      636492 non-null  object\n",
      " 3   review_text   636492 non-null  object\n",
      " 4   review_score  636492 non-null  int64 \n",
      " 5   review_votes  636492 non-null  int64 \n",
      " 6   genre_id      636492 non-null  object\n",
      " 7   category_id   636492 non-null  object\n",
      "dtypes: int64(4), object(4)\n",
      "memory usage: 43.7+ MB\n"
     ]
    }
   ],
   "source": [
    "# load a dataset\n",
    "\n",
    "GENRES = ['Action', 'Indie', 'Adventure', 'RPG', 'Strategy', 'Simulation', 'Free to Play', 'Causal', 'Massively Multiplayer', 'Racing', 'Sports']\n",
    "\n",
    "training_genre_id = 2\n",
    "\n",
    "if training_cond == TRAINING_CONDS.ALL_GAMES:\n",
    "    dataset_path = Path('../dataset_cleaned_heartless_sampled_for_demo.pkl')\n",
    "elif training_cond == TRAINING_CONDS.ALL_GAMES_LARGE:\n",
    "    dataset_path = Path('../dataset_cleaned_heartless_sampled_for_demo_large.pkl')\n",
    "elif training_cond == TRAINING_CONDS.BY_GENRE:\n",
    "    dataset_path = Path(f'../../dataset/topic_modelling/top_11_genres/{training_genre_id:02}_{GENRES[training_genre_id]}.pkl')\n",
    "\n",
    "# dataset_path = Path('../../dataset/topic_modelling/top_10_games/00_Terraria.pkl')\n",
    "\n",
    "# dataset_path = Path('../dataset_cleaned_heartless_sampled_for_demo.pkl')\n",
    "\n",
    "\n",
    "dataset = pd.read_pickle(dataset_path)\n",
    "\n",
    "dataset.info(verbose=True)"
   ]
  },
  {
   "cell_type": "code",
   "execution_count": 9,
   "metadata": {},
   "outputs": [],
   "source": [
    "# data preprocessing\n",
    "\n",
    "import re\n",
    "\n",
    "def clean(raw):\n",
    "    \"\"\" Remove hyperlinks and markup \"\"\"\n",
    "    result = re.sub(\"<[a][^>]*>(.+?)</[a]>\", 'Link.', raw)\n",
    "    result = re.sub('&gt;', \"\", result)\n",
    "    result = re.sub('&#x27;', \"'\", result)\n",
    "    result = re.sub('&quot;', '\"', result)\n",
    "    result = re.sub('&#x2F;', ' ', result)\n",
    "    result = re.sub('<p>', ' ', result)\n",
    "    result = re.sub('</i>', '', result)\n",
    "    result = re.sub('&#62;', '', result)\n",
    "    result = re.sub('<i>', ' ', result)\n",
    "    result = re.sub(\"\\n\", '', result)\n",
    "    return result\n",
    "\n",
    "def deEmojify(x):\n",
    "    regrex_pattern = re.compile(pattern = \"[\"\n",
    "        u\"\\U0001F600-\\U0001F64F\"  # emoticons\n",
    "        u\"\\U0001F300-\\U0001F5FF\"  # symbols & pictographs\n",
    "        u\"\\U0001F680-\\U0001F6FF\"  # transport & map symbols\n",
    "        u\"\\U0001F1E0-\\U0001F1FF\"  # flags (iOS)\n",
    "                           \"]+\", flags = re.UNICODE)\n",
    "    return regrex_pattern.sub(r'', x)\n",
    "    \n",
    "def remove_num(texts):\n",
    "   output = re.sub(r'\\d+', '', texts)\n",
    "   return output\n",
    "\n",
    "def unify_whitespaces(x):\n",
    "    cleaned_string = re.sub(' +', ' ', x)\n",
    "    return cleaned_string\n",
    "\n",
    "from nltk.corpus import stopwords\n",
    "from spacy.lang.en import stop_words\n",
    "stop=set(stopwords.words(\"english\")) | set(stop_words.STOP_WORDS)     # use more stopwords (detail is in eda_2.ipynb)\n",
    "def remove_stopword(text):\n",
    "   text=[word.lower() for word in text.split() if word.lower() not in stop]\n",
    "   return \" \".join(text)\n",
    "\n",
    "# only keep alphabets\n",
    "def remove_non_alphabets(text):\n",
    "    text = re.sub('[^a-zA-Z]', ' ', text)\n",
    "    return text\n",
    "\n",
    "def cleaning(df, review):\n",
    "    df[review] = df[review].apply(lambda x: clean(x))\n",
    "    df[review] = df[review].apply(lambda x: deEmojify(x))\n",
    "    df[review] = df[review].apply(lambda x: remove_num(x))\n",
    "    df[review] = df[review].apply(lambda x: unify_whitespaces(x))\n",
    "    df[review] = df[review].apply(lambda x: remove_non_alphabets(x))\n",
    "    df[review] = df[review].apply(lambda x: remove_stopword(x))\n",
    "    df[review] = df[review].apply(lambda x: x.lower())\n",
    "\n",
    "def cleaning_strlist(str_list):\n",
    "    str_list = list(map(lambda x: clean(x), str_list))\n",
    "    str_list = list(map(lambda x: deEmojify(x), str_list))\n",
    "    str_list = list(map(lambda x: remove_num(x), str_list))\n",
    "    str_list = list(map(lambda x: unify_whitespaces(x), str_list))\n",
    "    str_list = list(map(lambda x: remove_non_alphabets(x), str_list))\n",
    "    str_list = list(map(lambda x: remove_stopword(x), str_list))\n",
    "    str_list = list(map(lambda x: x.lower(), str_list))\n",
    "    return str_list"
   ]
  },
  {
   "cell_type": "code",
   "execution_count": 10,
   "metadata": {},
   "outputs": [],
   "source": [
    "# apply data preprocessing\n",
    "\n",
    "cleaning(dataset, 'review_text')"
   ]
  },
  {
   "cell_type": "code",
   "execution_count": 11,
   "metadata": {},
   "outputs": [],
   "source": [
    "X = dataset['review_text'].values"
   ]
  },
  {
   "cell_type": "code",
   "execution_count": 12,
   "metadata": {},
   "outputs": [
    {
     "data": {
      "text/plain": [
       "array(['kq collection working windows download patch http www sierrahelp com files patches kingsquest kqcollectiondbupdate exe set install c program files steam steamapps common king quest collection steam saved kq collection files program patch steam version kq collection run dos box confirm makes game joy run win bit cons run game dosbox shortcuts patch creates steam launcher work game mouse cursor black white colored',\n",
       "       'solved http steamcommunity com app discussions years wanting play running issue trying load finally able find solution windows x windows ran updates able launch games old bit windows glory scummvm sierra patch able detect set proper game good sierra cd quality video kq kq way play years ago pick long games great great review game google nod sierrahelp patch steam install need limit colors entire system need tweak open new folders program files x steam steamapps common king quest collection kq double click king quest win exe shortcut boom playable',\n",
       "       'awesome game series grew sadly play old computer', ...,\n",
       "       'game aright bit annoying selected puzzle house located wander found right area playing puzzle enjoyed duty pop annoying decided delete',\n",
       "       'nice review recommend game know purchase puzzle pirates account gets deleted log check https yppedia puzzlepirates com purged purging tl dr puzzle pirates care offline rings revive account deleted fp game fp',\n",
       "       'puzzles game fun pay basically expires buying game going play hours maybe twice week going expire weeks stupid experence expires wish rid expires pay stuff worth money puzzles played free internet things game unique interesting require money'],\n",
       "      dtype=object)"
      ]
     },
     "execution_count": 12,
     "metadata": {},
     "output_type": "execute_result"
    }
   ],
   "source": [
    "X"
   ]
  },
  {
   "cell_type": "code",
   "execution_count": null,
   "metadata": {},
   "outputs": [],
   "source": [
    "# nltk.download('averaged_perceptron_tagger')\n",
    "# t = nltk.word_tokenize(X[0])\n",
    "# tt = nltk.pos_tag(t)\n",
    "# tt"
   ]
  },
  {
   "cell_type": "code",
   "execution_count": 13,
   "metadata": {},
   "outputs": [],
   "source": [
    "# do lemmatization, but not stemming (as part of speech is important in topic modelling)\n",
    "# use nltk wordnet for lemmatization\n",
    "\n",
    "from nltk.stem import WordNetLemmatizer\n",
    "from nltk.corpus import wordnet\n",
    "\n",
    "lemma = WordNetLemmatizer()\n",
    "\n",
    "# from https://stackoverflow.com/questions/25534214/nltk-wordnet-lemmatizer-shouldnt-it-lemmatize-all-inflections-of-a-word\n",
    "\n",
    "# from: https://www.cnblogs.com/jclian91/p/9898511.html\n",
    "def get_wordnet_pos(tag):\n",
    "    if tag.startswith('J'):\n",
    "        return wordnet.ADJ\n",
    "    elif tag.startswith('V'):\n",
    "        return wordnet.VERB\n",
    "    elif tag.startswith('N'):\n",
    "        return wordnet.NOUN\n",
    "    elif tag.startswith('R'):\n",
    "        return wordnet.ADV\n",
    "    else:\n",
    "        return None     # if none -> created as noun by wordnet\n",
    "    \n",
    "def lemmatization(text):\n",
    "   # use nltk to get PoS tag\n",
    "    tagged = nltk.pos_tag(nltk.word_tokenize(text))\n",
    "\n",
    "    # then we only need adj, adv, verb, noun\n",
    "    # convert from nltk Penn Treebank tag to wordnet tag\n",
    "    wn_tagged = list(map(lambda x: (x[0], get_wordnet_pos(x[1])), tagged))\n",
    "\n",
    "    # lemmatize by the PoS\n",
    "    lemmatized = list(map(lambda x: lemma.lemmatize(x[0], pos=x[1] if x[1] else wordnet.NOUN), wn_tagged))\n",
    "    # lemma.lemmatize(wn_tagged[0], pos=wordnet.NOUN)\n",
    "\n",
    "    return lemmatized"
   ]
  },
  {
   "cell_type": "code",
   "execution_count": 14,
   "metadata": {},
   "outputs": [],
   "source": [
    "# lemmatize the data\n",
    "\n",
    "X_lemmatized = list(map(lambda x: lemmatization(x), X))"
   ]
  },
  {
   "cell_type": "code",
   "execution_count": 15,
   "metadata": {},
   "outputs": [
    {
     "data": {
      "text/plain": [
       "['kq',\n",
       " 'collection',\n",
       " 'work',\n",
       " 'window',\n",
       " 'download',\n",
       " 'patch',\n",
       " 'http',\n",
       " 'www',\n",
       " 'sierrahelp',\n",
       " 'com',\n",
       " 'file',\n",
       " 'patch',\n",
       " 'kingsquest',\n",
       " 'kqcollectiondbupdate',\n",
       " 'exe',\n",
       " 'set',\n",
       " 'install',\n",
       " 'c',\n",
       " 'program',\n",
       " 'file',\n",
       " 'steam',\n",
       " 'steamapps',\n",
       " 'common',\n",
       " 'king',\n",
       " 'quest',\n",
       " 'collection',\n",
       " 'steam',\n",
       " 'save',\n",
       " 'kq',\n",
       " 'collection',\n",
       " 'file',\n",
       " 'program',\n",
       " 'patch',\n",
       " 'steam',\n",
       " 'version',\n",
       " 'kq',\n",
       " 'collection',\n",
       " 'run',\n",
       " 'dos',\n",
       " 'box',\n",
       " 'confirm',\n",
       " 'make',\n",
       " 'game',\n",
       " 'joy',\n",
       " 'run',\n",
       " 'win',\n",
       " 'bit',\n",
       " 'con',\n",
       " 'run',\n",
       " 'game',\n",
       " 'dosbox',\n",
       " 'shortcut',\n",
       " 'patch',\n",
       " 'create',\n",
       " 'steam',\n",
       " 'launcher',\n",
       " 'work',\n",
       " 'game',\n",
       " 'mouse',\n",
       " 'cursor',\n",
       " 'black',\n",
       " 'white',\n",
       " 'color']"
      ]
     },
     "execution_count": 15,
     "metadata": {},
     "output_type": "execute_result"
    }
   ],
   "source": [
    "X_lemmatized[0]"
   ]
  },
  {
   "cell_type": "code",
   "execution_count": 18,
   "metadata": {},
   "outputs": [],
   "source": [
    "# save the lematized data, as separate pickle file\n",
    "\n",
    "X_lemmatized_file = dataset_path.parent.joinpath('cleaned_lemmatized', dataset_path.stem + '_cleaned_lemmatized.pkl')\n",
    "\n",
    "if not X_lemmatized_file.parent.exists():\n",
    "    X_lemmatized_file.parent.mkdir()\n",
    "\n",
    "with open(X_lemmatized_file, \"wb\") as f:\n",
    "    pickle.dump(X_lemmatized, f)"
   ]
  },
  {
   "cell_type": "code",
   "execution_count": null,
   "metadata": {},
   "outputs": [],
   "source": [
    "# load the lematized data, as separate pickle file\n",
    "# for convenient hyperparameter selection\n",
    "\n",
    "# X_lemmatized_file = dataset_path.parent.joinpath('cleaned_lemmatized', dataset_path.stem + '_cleaned_lemmatized.pkl')\n",
    "\n",
    "# with open(X_lemmatized_file, \"rb\") as f:\n",
    "#     X_lemmatized = pickle.load(f)\n",
    "\n",
    "# X_lemmatized[0]"
   ]
  },
  {
   "cell_type": "code",
   "execution_count": 19,
   "metadata": {},
   "outputs": [],
   "source": [
    "# use gensim to build a dictionary and train our LDAModel\n",
    "\n",
    "id2word = gensim.corpora.Dictionary(X_lemmatized)\n",
    "\n",
    "corpus = [id2word.doc2bow(text) for text in X_lemmatized]"
   ]
  },
  {
   "cell_type": "code",
   "execution_count": null,
   "metadata": {},
   "outputs": [],
   "source": [
    "# build a grid search for hyperparameter selection\n",
    "\n",
    "from gensim.models import CoherenceModel\n",
    "\n",
    "def compute_coherence_values(dictionary, corpus, texts, limit, start=2, step=3):\n",
    "    \"\"\"\n",
    "    Compute c_v coherence for various number of topics\n",
    "\n",
    "    Parameters:\n",
    "    ----------\n",
    "    dictionary : Gensim dictionary\n",
    "    corpus : Gensim corpus\n",
    "    texts : List of input texts\n",
    "    limit : Max num of topics\n",
    "\n",
    "    Returns:\n",
    "    -------\n",
    "    model_list : List of LDA topic models\n",
    "    coherence_values : Coherence values corresponding to the LDA model with respective number of topics\n",
    "\n",
    "    From: https://www.machinelearningplus.com/nlp/topic-modeling-gensim-python/\n",
    "    \"\"\"\n",
    "    coherence_values = []\n",
    "    model_list = []\n",
    "    for num_topics in range(start, limit, step):\n",
    "        print(f'num_topics: {num_topics}')\n",
    "        model = gensim.models.ldamodel.LdaModel(corpus=corpus,\n",
    "                                                id2word=id2word,\n",
    "                                                num_topics=num_topics, \n",
    "                                                random_state=100,\n",
    "                                                update_every=1,\n",
    "                                                chunksize=100,\n",
    "                                                passes=10,\n",
    "                                                alpha='auto',\n",
    "                                                per_word_topics=True)\n",
    "        model_list.append(model)\n",
    "        coherencemodel = CoherenceModel(model=model, texts=texts, dictionary=dictionary, coherence='c_v')\n",
    "        print(f'coherence: {coherencemodel.get_coherence()}')\n",
    "        coherence_values.append(coherencemodel.get_coherence())\n",
    "\n",
    "    return model_list, coherence_values"
   ]
  },
  {
   "cell_type": "code",
   "execution_count": null,
   "metadata": {},
   "outputs": [],
   "source": [
    "N_TOPICS = 20\n",
    "\n",
    "# Online LDA, how to effective train LDA models\n",
    "# https://papers.nips.cc/paper_files/paper/2010/hash/71f6278d140af599e06ad9bf1ba03cb0-Abstract.html\n",
    "\n",
    "lda_model = gensim.models.ldamulticore.LdaMulticore(corpus=corpus,\n",
    "                                             id2word=id2word,\n",
    "                                             num_topics=N_TOPICS,         # later can use grid search to find the best number of topics\n",
    "                                             random_state=42,\n",
    "                                             chunksize=2048,                # chunk size affects memory consumption, and updating speed (like DL batch_size). https://groups.google.com/g/gensim/c/FE7_FYSconA\n",
    "                                             passes=10,                     # no. of passes over the whole corpus. If larger chunksize, then the passes should be larger too.\n",
    "                                            #  alpha='auto',\n",
    "                                             workers=3)     # workers = no. of cores (physical cores, but not logical threads)"
   ]
  },
  {
   "cell_type": "markdown",
   "metadata": {},
   "source": [
    "visualize the data"
   ]
  },
  {
   "cell_type": "code",
   "execution_count": null,
   "metadata": {},
   "outputs": [],
   "source": [
    "import pyLDAvis.gensim_models\n",
    "\n",
    "pyLDAvis.enable_notebook()\n",
    "vis = pyLDAvis.gensim_models.prepare(lda_model, corpus, id2word, mds=\"mmds\", R=10)\n",
    "vis"
   ]
  },
  {
   "cell_type": "markdown",
   "metadata": {},
   "source": [
    "save model\n",
    "\n",
    "we need to save the corpora.Dictionary and the LDA model"
   ]
  },
  {
   "cell_type": "code",
   "execution_count": null,
   "metadata": {},
   "outputs": [],
   "source": [
    "# save the LDA multicore model (and the corpora.Dictionary object) automatically\n",
    "\n",
    "lda_save_folder = Path(f'lda_model_{datetime.now().strftime(\"%Y%m%d_%H%M%S\")}')\n",
    "if not lda_save_folder.exists():\n",
    "    lda_save_folder.mkdir()\n",
    "\n",
    "lda_model.save(str(lda_save_folder.joinpath('lda_model')))     # no need to add file extension"
   ]
  },
  {
   "cell_type": "markdown",
   "metadata": {},
   "source": [
    "Evaluation\n",
    "\n",
    "gensim provide functions to calculate, so we don't need to install octis (as the evaluation backend of octis also relies on gensim)\n",
    "\n",
    "octis seems awesome for simple development, but it installs many packages ;("
   ]
  },
  {
   "cell_type": "code",
   "execution_count": null,
   "metadata": {},
   "outputs": [],
   "source": [
    "# corpus = lemmatized words (?) (list of list of str)\n",
    "\n",
    "# create a result object from the LDAMulticore model for octis evaluation\n",
    "# referencing from https://github.com/MIND-Lab/OCTIS/blob/master/octis/models/LDA.py\n",
    "# and guideline in README: https://github.com/MIND-Lab/OCTIS/tree/master\n",
    "result_lda_online = {}\n",
    "result_lda_online['topic-word-matrix'] = lda_model.get_topics()\n",
    "\n",
    "top_words = 10\n",
    "topics_output = []\n",
    "for topic in result_lda_online[\"topic-word-matrix\"]:\n",
    "    top_k = np.argsort(topic)[-top_words:]\n",
    "    top_k_words = list(reversed([id2word[i] for i in top_k]))\n",
    "    topics_output.append(top_k_words)\n",
    "result_lda_online[\"topics\"] = topics_output\n",
    "\n",
    "def _get_topic_document_matrix(lda_model, corpus, num_topics=10):\n",
    "    \"\"\"\n",
    "    Return the topic representation of the\n",
    "    corpus\n",
    "    \"\"\"\n",
    "\n",
    "    id_corpus = corpus\n",
    "\n",
    "    doc_topic_tuples = []\n",
    "    for document in id_corpus:\n",
    "        doc_topic_tuples.append(\n",
    "            lda_model.get_document_topics(document, minimum_probability=0))\n",
    "\n",
    "    topic_document = np.zeros((num_topics, len(doc_topic_tuples)))\n",
    "\n",
    "    for ndoc in range(len(doc_topic_tuples)):\n",
    "        document = doc_topic_tuples[ndoc]\n",
    "        for topic_tuple in document:\n",
    "            topic_document[topic_tuple[0]][ndoc] = topic_tuple[1]\n",
    "    return topic_document\n",
    "\n",
    "result_lda_online['topic-document-matrix'] = _get_topic_document_matrix(lda_model, corpus, num_topics=N_TOPICS)"
   ]
  },
  {
   "cell_type": "code",
   "execution_count": null,
   "metadata": {},
   "outputs": [],
   "source": [
    "lda_model.show_topics(num_topics=N_TOPICS, num_words=10, formatted=True, log=False)"
   ]
  },
  {
   "cell_type": "code",
   "execution_count": null,
   "metadata": {},
   "outputs": [],
   "source": [
    "# setup: get the model's topics in their native ordering...\n",
    "all_topics = lda_model.print_topics()\n",
    "# ...then create a empty list per topic to collect the docs:\n",
    "docs_per_topic = [[] for _ in all_topics]\n",
    "\n",
    "# now, for every doc...\n",
    "for doc_id, doc_bow in enumerate(corpus):\n",
    "    # ...get its topics...\n",
    "    doc_topics = lda_model.get_document_topics(doc_bow)\n",
    "    # ...& for each of its topics...\n",
    "    for topic_id, score in doc_topics:\n",
    "        # ...add the doc_id & its score to the topic's doc list\n",
    "        docs_per_topic[topic_id].append((doc_id, score))"
   ]
  },
  {
   "cell_type": "code",
   "execution_count": null,
   "metadata": {},
   "outputs": [],
   "source": [
    "# If you're interested in the top docs per topic, you can further sort each list's pairs by their score\n",
    "\n",
    "for doc_list in docs_per_topic:\n",
    "    doc_list.sort(key=lambda id_and_score: id_and_score[1], reverse=True)"
   ]
  },
  {
   "cell_type": "code",
   "execution_count": null,
   "metadata": {},
   "outputs": [],
   "source": [
    "print(docs_per_topic[0][:10])"
   ]
  },
  {
   "cell_type": "code",
   "execution_count": null,
   "metadata": {},
   "outputs": [],
   "source": [
    "# show top 10 documents for each topic, also the name of the game\n",
    "for topic_id, docs in enumerate(docs_per_topic):\n",
    "    print(f'Topic {topic_id + 1}:')\n",
    "    for doc_id, score in docs[:10]:\n",
    "        print(f'Game: {dataset.iloc[doc_id][\"app_name\"]}')\n",
    "        print(f'Doc ID: {doc_id}')\n",
    "        print(f'Score: {score}')\n",
    "        print(f'Doc: {dataset.iloc[doc_id][\"review_text\"]}')\n",
    "        print()\n",
    "    print('\\n\\n\\n\\n\\n')"
   ]
  },
  {
   "cell_type": "code",
   "execution_count": null,
   "metadata": {},
   "outputs": [],
   "source": [
    "dataset.iloc[1655473]"
   ]
  },
  {
   "cell_type": "code",
   "execution_count": null,
   "metadata": {},
   "outputs": [],
   "source": [
    "X[1655473]"
   ]
  },
  {
   "cell_type": "code",
   "execution_count": null,
   "metadata": {},
   "outputs": [],
   "source": [
    "result_lda_online['topic-document-matrix'][0]"
   ]
  },
  {
   "cell_type": "code",
   "execution_count": null,
   "metadata": {},
   "outputs": [],
   "source": [
    "lda_model.get_topics().shape"
   ]
  },
  {
   "cell_type": "code",
   "execution_count": null,
   "metadata": {},
   "outputs": [],
   "source": [
    "np.sum(result_lda_online['topic-document-matrix'], axis=0)"
   ]
  },
  {
   "cell_type": "markdown",
   "metadata": {},
   "source": [
    "Evaluation\n",
    "\n",
    "instead of using octis, we use gensim provided CoherenceModel object,  \n",
    "as octis also uses this module for calculating the coherence scores"
   ]
  },
  {
   "cell_type": "code",
   "execution_count": null,
   "metadata": {},
   "outputs": [],
   "source": [
    "from gensim.models import CoherenceModel\n",
    "\n",
    "coherence_model_lda = CoherenceModel(model=lda_model, texts=X_lemmatized, dictionary=id2word, coherence='c_v')\n",
    "coherence_cv = coherence_model_lda.get_coherence()\n",
    "print('\\nCoherence Score: ', coherence_cv)"
   ]
  },
  {
   "cell_type": "code",
   "execution_count": null,
   "metadata": {},
   "outputs": [],
   "source": [
    "# Compute Coherence Score using c_npmi\n",
    "coherence_model_lda = CoherenceModel(model=lda_model, texts=X_lemmatized, dictionary=id2word, coherence='c_npmi')\n",
    "coherence_npmi = coherence_model_lda.get_coherence()\n",
    "print('\\nCoherence Score: ', coherence_npmi)"
   ]
  },
  {
   "cell_type": "code",
   "execution_count": null,
   "metadata": {},
   "outputs": [],
   "source": []
  },
  {
   "cell_type": "markdown",
   "metadata": {},
   "source": [
    "INFERENCE"
   ]
  },
  {
   "cell_type": "markdown",
   "metadata": {},
   "source": [
    "inference test"
   ]
  },
  {
   "cell_type": "code",
   "execution_count": null,
   "metadata": {},
   "outputs": [],
   "source": [
    "# inference test\n",
    "\n",
    "inference_test = [\"well its been fun guys, but that's it, no more updates, that one was the last one, there is no longer going to be anymore content for this game anymore, there is no way to replay it as there won't be any updates, nope, that was it, the last update, nothing more, this game has no new ways to experience it as there is no more content updates, nothing new to freshen up the experience, its such a shame that this game has no replay-ability, once you beat the game there is like no point to playing again, as they said guys 1.2 will be they final update. nothing more after 1.2, there is no chance they will make another final update right? several years and final updates later: alright, thats it, no more updates we wont be getting anymore, thats it, nothing more, no more updates, for real this time... oh god, redigit made another tweet.\",\n",
    "                  \"keeps forcing me to play it\",\n",
    "'''I will leave the cat here, so that everybody who passes by can pet it and give it a thumbs up and awards\n",
    "　　　 　　／＞　　フ\n",
    "　　　 　　| 　_　 _ l\n",
    "　 　　 　／` ミ＿xノ\n",
    "　　 　 /　　　 　 |\n",
    "　　　 /　 ヽ　　 ﾉ\n",
    "　 　 │　　|　|　|\n",
    "　／￣|　　 |　|　|\n",
    "　| (￣ヽ＿_ヽ_)__)\n",
    "　＼二つ''']\n",
    "\n",
    "inference_test = cleaning_strlist(inference_test)\n",
    "\n",
    "inference_test = list(map(lambda x: lemmatization(x), inference_test))\n",
    "\n",
    "corpus_test = [id2word.doc2bow(text) for text in inference_test]\n",
    "\n",
    "test_output = lda_model[corpus_test]\n",
    "\n",
    "test_output"
   ]
  },
  {
   "cell_type": "code",
   "execution_count": null,
   "metadata": {},
   "outputs": [],
   "source": [
    "inference_test[-1]"
   ]
  },
  {
   "cell_type": "code",
   "execution_count": null,
   "metadata": {},
   "outputs": [],
   "source": [
    "# test inference\n",
    "\n",
    "corpus_test = [id2word.doc2bow(text) for text in inference_test]\n",
    "\n",
    "output_test = lda_model[corpus_test]\n",
    "\n",
    "for i in range(len(output_test)):\n",
    "    # print(sorted(test_output[i], key=lambda x: x[1], reverse=True))\n",
    "    print(sorted(output_test[i], key=lambda x: x[1], reverse=True))"
   ]
  },
  {
   "cell_type": "markdown",
   "metadata": {},
   "source": [
    "load model (both corpora Dictionary and the LDA model)"
   ]
  },
  {
   "cell_type": "code",
   "execution_count": null,
   "metadata": {},
   "outputs": [],
   "source": [
    "del id2word\n",
    "del lda_model\n",
    "\n",
    "model_datetime = datetime(2024, 1, 15, 0, 21, 57)\n",
    "lda_save_folder = Path(f'lda_model_{model_datetime.strftime(\"%Y%m%d_%H%M%S\")}')\n",
    "\n",
    "# id2word_load = gensim.corpora.Dictionary.load('lda_model.id2word')\n",
    "id2word_l = gensim.corpora.Dictionary.load(str(lda_save_folder.joinpath('lda_model.id2word')))\n",
    "\n",
    "lda_model_l = gensim.models.ldamulticore.LdaMulticore.load(str(lda_save_folder.joinpath('lda_model')))"
   ]
  },
  {
   "cell_type": "code",
   "execution_count": null,
   "metadata": {},
   "outputs": [],
   "source": [
    "corpus_test2 = [id2word_l.doc2bow(text) for text in inference_test]\n",
    "\n",
    "output_test2 = lda_model_l[corpus_test2]\n",
    "\n",
    "for i in range(len(output_test2)):\n",
    "    print(sorted(output_test2[i], key=lambda x: x[1], reverse=True))"
   ]
  },
  {
   "cell_type": "code",
   "execution_count": null,
   "metadata": {},
   "outputs": [],
   "source": []
  }
 ],
 "metadata": {
  "kernelspec": {
   "display_name": "fyp-test-tm",
   "language": "python",
   "name": "python3"
  },
  "language_info": {
   "codemirror_mode": {
    "name": "ipython",
    "version": 3
   },
   "file_extension": ".py",
   "mimetype": "text/x-python",
   "name": "python",
   "nbconvert_exporter": "python",
   "pygments_lexer": "ipython3",
   "version": "3.9.18"
  }
 },
 "nbformat": 4,
 "nbformat_minor": 2
}
