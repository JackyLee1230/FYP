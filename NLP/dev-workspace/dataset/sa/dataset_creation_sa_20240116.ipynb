{
 "cells": [
  {
   "cell_type": "markdown",
   "metadata": {},
   "source": [
    "# Dataset Creation (for SA)\n",
    "\n",
    "This script is for creating balanced dataset for training/testing/validation purpose\n",
    "\n",
    "It will change the label representing negative sentiment from -1 to 0 for easier training\n",
    "\n",
    "It does not pre-process the data (e.g. stemming/removing symbols...)"
   ]
  },
  {
   "cell_type": "code",
   "execution_count": 1,
   "metadata": {},
   "outputs": [
    {
     "name": "stdout",
     "output_type": "stream",
     "text": [
      "<class 'pandas.core.frame.DataFrame'>\n",
      "RangeIndex: 4180148 entries, 0 to 4180147\n",
      "Data columns (total 6 columns):\n",
      " #   Column        Dtype \n",
      "---  ------        ----- \n",
      " 0   index         int64 \n",
      " 1   app_id        int64 \n",
      " 2   app_name      object\n",
      " 3   review_text   object\n",
      " 4   review_score  int64 \n",
      " 5   review_votes  int64 \n",
      "dtypes: int64(4), object(2)\n",
      "memory usage: 191.4+ MB\n"
     ]
    }
   ],
   "source": [
    "import pandas as pd\n",
    "import numpy as np\n",
    "import matplotlib.pyplot as plt\n",
    "import seaborn as sns\n",
    "\n",
    "\n",
    "from pathlib import Path\n",
    "import random\n",
    "\n",
    "random.seed(13)\n",
    "\n",
    "dataset_heartless_path = Path('dataset_heartless_20240116.pkl').resolve()\n",
    "\n",
    "dataset = pd.read_pickle(dataset_heartless_path)\n",
    "# dataset = dataset.sample(frac=p)      # no sampling is needed\n",
    "\n",
    "# convert the text to string object\n",
    "dataset['review_text'] = dataset['review_text'].astype('str')\n",
    "\n",
    "# drop any duplicate just in case\n",
    "dataset = dataset.drop_duplicates(subset=['app_id', 'review_text', 'review_score', 'review_votes'], keep='first')\n",
    "\n",
    "# replace -1 to 0\n",
    "# then 0 = negative, 1 = positive\n",
    "# for easier processing\n",
    "dataset['review_score'] = dataset['review_score'].replace(-1, 0)\n",
    "\n",
    "dataset.info()"
   ]
  },
  {
   "cell_type": "markdown",
   "metadata": {},
   "source": [
    "The number of entries are identical to the one created from dataset_creation_master_20240116.ipynb"
   ]
  },
  {
   "cell_type": "code",
   "execution_count": 2,
   "metadata": {},
   "outputs": [],
   "source": [
    "dataset['review_text'] = dataset['review_text'].astype('str')"
   ]
  },
  {
   "cell_type": "code",
   "execution_count": 3,
   "metadata": {},
   "outputs": [
    {
     "name": "stdout",
     "output_type": "stream",
     "text": [
      "<class 'pandas.core.frame.DataFrame'>\n",
      "Index: 4180003 entries, 0 to 4180147\n",
      "Data columns (total 7 columns):\n",
      " #   Column        Dtype \n",
      "---  ------        ----- \n",
      " 0   index         int64 \n",
      " 1   app_id        int64 \n",
      " 2   app_name      object\n",
      " 3   review_text   object\n",
      " 4   review_score  int64 \n",
      " 5   review_votes  int64 \n",
      " 6   num_of_words  int64 \n",
      "dtypes: int64(5), object(2)\n",
      "memory usage: 255.1+ MB\n"
     ]
    }
   ],
   "source": [
    "# remove rows have all whitespaces\n",
    "dataset['num_of_words'] = dataset['review_text'].apply(lambda x:len(str(x).split()))\n",
    "dataset = dataset[dataset['num_of_words'] > 0]\n",
    "\n",
    "dataset.info(verbose=True)"
   ]
  },
  {
   "cell_type": "code",
   "execution_count": 4,
   "metadata": {},
   "outputs": [
    {
     "name": "stdout",
     "output_type": "stream",
     "text": [
      "<class 'pandas.core.frame.DataFrame'>\n",
      "Index: 3990143 entries, 1 to 4180147\n",
      "Data columns (total 7 columns):\n",
      " #   Column        Dtype \n",
      "---  ------        ----- \n",
      " 0   index         int64 \n",
      " 1   app_id        int64 \n",
      " 2   app_name      object\n",
      " 3   review_text   object\n",
      " 4   review_score  int64 \n",
      " 5   review_votes  int64 \n",
      " 6   num_of_words  int64 \n",
      "dtypes: int64(5), object(2)\n",
      "memory usage: 243.5+ MB\n"
     ]
    }
   ],
   "source": [
    "# remove number of rows that have less than N number of characters\n",
    "\n",
    "character_limit = 20\n",
    "\n",
    "dataset = dataset[dataset['review_text'].str.len()>=character_limit]\n",
    "\n",
    "dataset.info()"
   ]
  },
  {
   "cell_type": "code",
   "execution_count": 5,
   "metadata": {},
   "outputs": [
    {
     "data": {
      "text/html": [
       "<div>\n",
       "<style scoped>\n",
       "    .dataframe tbody tr th:only-of-type {\n",
       "        vertical-align: middle;\n",
       "    }\n",
       "\n",
       "    .dataframe tbody tr th {\n",
       "        vertical-align: top;\n",
       "    }\n",
       "\n",
       "    .dataframe thead th {\n",
       "        text-align: right;\n",
       "    }\n",
       "</style>\n",
       "<table border=\"1\" class=\"dataframe\">\n",
       "  <thead>\n",
       "    <tr style=\"text-align: right;\">\n",
       "      <th></th>\n",
       "      <th>index</th>\n",
       "      <th>app_id</th>\n",
       "      <th>app_name</th>\n",
       "      <th>review_text</th>\n",
       "      <th>review_score</th>\n",
       "      <th>review_votes</th>\n",
       "      <th>num_of_words</th>\n",
       "    </tr>\n",
       "  </thead>\n",
       "  <tbody>\n",
       "    <tr>\n",
       "      <th>249361</th>\n",
       "      <td>314175</td>\n",
       "      <td>12210</td>\n",
       "      <td>Grand Theft Auto IV: The Complete Edition</td>\n",
       "      <td>Sign in done and put START , just introduce , ...</td>\n",
       "      <td>1</td>\n",
       "      <td>0</td>\n",
       "      <td>21</td>\n",
       "    </tr>\n",
       "    <tr>\n",
       "      <th>249362</th>\n",
       "      <td>314176</td>\n",
       "      <td>12210</td>\n",
       "      <td>Grand Theft Auto IV: The Complete Edition</td>\n",
       "      <td>A great open-world game that let's you go wild...</td>\n",
       "      <td>1</td>\n",
       "      <td>0</td>\n",
       "      <td>15</td>\n",
       "    </tr>\n",
       "    <tr>\n",
       "      <th>249363</th>\n",
       "      <td>314177</td>\n",
       "      <td>12210</td>\n",
       "      <td>Grand Theft Auto IV: The Complete Edition</td>\n",
       "      <td>Trespassing the toll and got wanted  10/10 Wou...</td>\n",
       "      <td>1</td>\n",
       "      <td>0</td>\n",
       "      <td>10</td>\n",
       "    </tr>\n",
       "    <tr>\n",
       "      <th>249364</th>\n",
       "      <td>314178</td>\n",
       "      <td>12210</td>\n",
       "      <td>Grand Theft Auto IV: The Complete Edition</td>\n",
       "      <td>good game indeed, but the windows live ruined it</td>\n",
       "      <td>1</td>\n",
       "      <td>0</td>\n",
       "      <td>9</td>\n",
       "    </tr>\n",
       "    <tr>\n",
       "      <th>249365</th>\n",
       "      <td>314182</td>\n",
       "      <td>12210</td>\n",
       "      <td>Grand Theft Auto IV: The Complete Edition</td>\n",
       "      <td>the game does not work dont buy this</td>\n",
       "      <td>0</td>\n",
       "      <td>0</td>\n",
       "      <td>8</td>\n",
       "    </tr>\n",
       "    <tr>\n",
       "      <th>...</th>\n",
       "      <td>...</td>\n",
       "      <td>...</td>\n",
       "      <td>...</td>\n",
       "      <td>...</td>\n",
       "      <td>...</td>\n",
       "      <td>...</td>\n",
       "      <td>...</td>\n",
       "    </tr>\n",
       "    <tr>\n",
       "      <th>249464</th>\n",
       "      <td>314299</td>\n",
       "      <td>12210</td>\n",
       "      <td>Grand Theft Auto IV: The Complete Edition</td>\n",
       "      <td>What a mess of a game</td>\n",
       "      <td>0</td>\n",
       "      <td>0</td>\n",
       "      <td>6</td>\n",
       "    </tr>\n",
       "    <tr>\n",
       "      <th>249465</th>\n",
       "      <td>314300</td>\n",
       "      <td>12210</td>\n",
       "      <td>Grand Theft Auto IV: The Complete Edition</td>\n",
       "      <td>So this is my first GTA game and I must say, t...</td>\n",
       "      <td>1</td>\n",
       "      <td>0</td>\n",
       "      <td>142</td>\n",
       "    </tr>\n",
       "    <tr>\n",
       "      <th>249466</th>\n",
       "      <td>314301</td>\n",
       "      <td>12210</td>\n",
       "      <td>Grand Theft Auto IV: The Complete Edition</td>\n",
       "      <td>It took me sometime to finally fix the issues ...</td>\n",
       "      <td>1</td>\n",
       "      <td>0</td>\n",
       "      <td>306</td>\n",
       "    </tr>\n",
       "    <tr>\n",
       "      <th>249467</th>\n",
       "      <td>314302</td>\n",
       "      <td>12210</td>\n",
       "      <td>Grand Theft Auto IV: The Complete Edition</td>\n",
       "      <td>Make Sure You got a super setup to enjoy this ...</td>\n",
       "      <td>1</td>\n",
       "      <td>0</td>\n",
       "      <td>11</td>\n",
       "    </tr>\n",
       "    <tr>\n",
       "      <th>249468</th>\n",
       "      <td>314303</td>\n",
       "      <td>12210</td>\n",
       "      <td>Grand Theft Auto IV: The Complete Edition</td>\n",
       "      <td>It’s GTA V, but older and before GTA V.</td>\n",
       "      <td>1</td>\n",
       "      <td>1</td>\n",
       "      <td>9</td>\n",
       "    </tr>\n",
       "  </tbody>\n",
       "</table>\n",
       "<p>100 rows × 7 columns</p>\n",
       "</div>"
      ],
      "text/plain": [
       "         index  app_id                                   app_name  \\\n",
       "249361  314175   12210  Grand Theft Auto IV: The Complete Edition   \n",
       "249362  314176   12210  Grand Theft Auto IV: The Complete Edition   \n",
       "249363  314177   12210  Grand Theft Auto IV: The Complete Edition   \n",
       "249364  314178   12210  Grand Theft Auto IV: The Complete Edition   \n",
       "249365  314182   12210  Grand Theft Auto IV: The Complete Edition   \n",
       "...        ...     ...                                        ...   \n",
       "249464  314299   12210  Grand Theft Auto IV: The Complete Edition   \n",
       "249465  314300   12210  Grand Theft Auto IV: The Complete Edition   \n",
       "249466  314301   12210  Grand Theft Auto IV: The Complete Edition   \n",
       "249467  314302   12210  Grand Theft Auto IV: The Complete Edition   \n",
       "249468  314303   12210  Grand Theft Auto IV: The Complete Edition   \n",
       "\n",
       "                                              review_text  review_score  \\\n",
       "249361  Sign in done and put START , just introduce , ...             1   \n",
       "249362  A great open-world game that let's you go wild...             1   \n",
       "249363  Trespassing the toll and got wanted  10/10 Wou...             1   \n",
       "249364   good game indeed, but the windows live ruined it             1   \n",
       "249365               the game does not work dont buy this             0   \n",
       "...                                                   ...           ...   \n",
       "249464                              What a mess of a game             0   \n",
       "249465  So this is my first GTA game and I must say, t...             1   \n",
       "249466  It took me sometime to finally fix the issues ...             1   \n",
       "249467  Make Sure You got a super setup to enjoy this ...             1   \n",
       "249468            It’s GTA V, but older and before GTA V.             1   \n",
       "\n",
       "        review_votes  num_of_words  \n",
       "249361             0            21  \n",
       "249362             0            15  \n",
       "249363             0            10  \n",
       "249364             0             9  \n",
       "249365             0             8  \n",
       "...              ...           ...  \n",
       "249464             0             6  \n",
       "249465             0           142  \n",
       "249466             0           306  \n",
       "249467             0            11  \n",
       "249468             1             9  \n",
       "\n",
       "[100 rows x 7 columns]"
      ]
     },
     "execution_count": 5,
     "metadata": {},
     "output_type": "execute_result"
    }
   ],
   "source": [
    "dataset.iloc[234800:234900]"
   ]
  },
  {
   "cell_type": "code",
   "execution_count": 6,
   "metadata": {},
   "outputs": [],
   "source": [
    "# dataset_copy = dataset.copy()"
   ]
  },
  {
   "cell_type": "code",
   "execution_count": 18,
   "metadata": {},
   "outputs": [
    {
     "name": "stdout",
     "output_type": "stream",
     "text": [
      "<class 'pandas.core.frame.DataFrame'>\n",
      "Index: 3953277 entries, 1 to 4180147\n",
      "Data columns (total 7 columns):\n",
      " #   Column        Dtype \n",
      "---  ------        ----- \n",
      " 0   index         int64 \n",
      " 1   app_id        int64 \n",
      " 2   app_name      object\n",
      " 3   review_text   object\n",
      " 4   review_score  int64 \n",
      " 5   review_votes  int64 \n",
      " 6   num_of_words  int64 \n",
      "dtypes: int64(5), object(2)\n",
      "memory usage: 241.3+ MB\n"
     ]
    }
   ],
   "source": [
    "# regardless of what game is commenting, we only keep unique pair of review_text and review_score (for sentiment analysis)\n",
    "# we keep other columns for future use (like using LLM to predict the sentiment of the review)\n",
    "\n",
    "dataset = dataset.drop_duplicates(subset=['review_text', 'review_score'], keep='first')\n",
    "\n",
    "dataset.info()"
   ]
  },
  {
   "cell_type": "code",
   "execution_count": 19,
   "metadata": {},
   "outputs": [
    {
     "name": "stdout",
     "output_type": "stream",
     "text": [
      "class 1 : class 0 =  4.887496090666746\n"
     ]
    }
   ],
   "source": [
    "# calculate ratio of class 0 and class 1\n",
    "\n",
    "print('class 1 : class 0 = ', \\\n",
    "    float(len(dataset[dataset['review_score']==1]) / len(dataset[dataset['review_score']==0])))\n"
   ]
  },
  {
   "cell_type": "code",
   "execution_count": 21,
   "metadata": {},
   "outputs": [
    {
     "data": {
      "text/html": [
       "<style type=\"text/css\">\n",
       "#T_79bec_row0_col0, #T_79bec_row0_col1 {\n",
       "  background-color: #fcfbfd;\n",
       "  color: #000000;\n",
       "}\n",
       "#T_79bec_row1_col0, #T_79bec_row1_col1 {\n",
       "  background-color: #3f007d;\n",
       "  color: #f1f1f1;\n",
       "}\n",
       "</style>\n",
       "<table id=\"T_79bec\">\n",
       "  <thead>\n",
       "    <tr>\n",
       "      <th class=\"blank level0\" >&nbsp;</th>\n",
       "      <th id=\"T_79bec_level0_col0\" class=\"col_heading level0 col0\" >review_score</th>\n",
       "      <th id=\"T_79bec_level0_col1\" class=\"col_heading level0 col1\" >review_text</th>\n",
       "    </tr>\n",
       "  </thead>\n",
       "  <tbody>\n",
       "    <tr>\n",
       "      <th id=\"T_79bec_level0_row0\" class=\"row_heading level0 row0\" >0</th>\n",
       "      <td id=\"T_79bec_row0_col0\" class=\"data row0 col0\" >0</td>\n",
       "      <td id=\"T_79bec_row0_col1\" class=\"data row0 col1\" >671470</td>\n",
       "    </tr>\n",
       "    <tr>\n",
       "      <th id=\"T_79bec_level0_row1\" class=\"row_heading level0 row1\" >1</th>\n",
       "      <td id=\"T_79bec_row1_col0\" class=\"data row1 col0\" >1</td>\n",
       "      <td id=\"T_79bec_row1_col1\" class=\"data row1 col1\" >3281807</td>\n",
       "    </tr>\n",
       "  </tbody>\n",
       "</table>\n"
      ],
      "text/plain": [
       "<pandas.io.formats.style.Styler at 0x2f59bb910>"
      ]
     },
     "execution_count": 21,
     "metadata": {},
     "output_type": "execute_result"
    }
   ],
   "source": [
    "temp = dataset.groupby('review_score').count()['review_text'].reset_index().sort_values(by='review_score',ascending=True)\n",
    "temp.style.background_gradient(cmap='Purples')"
   ]
  },
  {
   "cell_type": "code",
   "execution_count": 22,
   "metadata": {},
   "outputs": [
    {
     "name": "stderr",
     "output_type": "stream",
     "text": [
      "/var/folders/hm/n8540hpn7xd1f0pw3_qnsp4r0000gn/T/ipykernel_11707/3063829527.py:8: UserWarning: FixedFormatter should only be used together with FixedLocator\n",
      "  ax.set(xticklabels=['Negative', 'Positive'])\n"
     ]
    },
    {
     "data": {
      "image/png": "[encoded data removed]",
      "text/plain": [
       "<Figure size 800x600 with 1 Axes>"
      ]
     },
     "metadata": {},
     "output_type": "display_data"
    }
   ],
   "source": [
    "# plot the above result in seaborn\n",
    "\n",
    "plt.figure(figsize=(8,6))\n",
    "ax = sns.barplot(temp, x='review_score', y='review_text')\n",
    "ax.set_title('review score count in different sentiment classes')\n",
    "ax.set_xlabel('Sentiment Class')\n",
    "ax.set_ylabel('Number of reviews')\n",
    "ax.set(xticklabels=['Negative', 'Positive'])\n",
    "\n",
    "plt.show()"
   ]
  },
  {
   "cell_type": "markdown",
   "metadata": {},
   "source": [
    "---"
   ]
  },
  {
   "cell_type": "markdown",
   "metadata": {},
   "source": [
    "Create\n",
    "- A fixed imbalanced validation set (0.1 of the original dataset) (using df.sample func)\n",
    "- A fixed balanced validation set (0.1 of the original negative samples)\n",
    "- A subset of dataset for creating training and testing data (due to computational power)\n",
    "\n",
    "The rest of the data will be for training/testing\n",
    "\n",
    "No data augmentation will be performed on both of them\n",
    "\n",
    "Create train-test and validation set"
   ]
  },
  {
   "cell_type": "code",
   "execution_count": 23,
   "metadata": {},
   "outputs": [
    {
     "name": "stdout",
     "output_type": "stream",
     "text": [
      "validation_imbalanced_n =  790655\n",
      "validation_balanced_n =  134294\n"
     ]
    }
   ],
   "source": [
    "VALIDATION_IMBALANCED_RATIO = 0.2\n",
    "VALIDATION_BALANCED_RATIO = 0.2\n",
    "\n",
    "validation_imbalanced_n = int(len(dataset) * VALIDATION_IMBALANCED_RATIO)\n",
    "validation_balanced_n = int(len(dataset[dataset['review_score']==0]) * VALIDATION_BALANCED_RATIO)\n",
    "\n",
    "print('validation_imbalanced_n = ', validation_imbalanced_n)\n",
    "print('validation_balanced_n = ', validation_balanced_n)"
   ]
  },
  {
   "cell_type": "code",
   "execution_count": 24,
   "metadata": {},
   "outputs": [],
   "source": [
    "dataset_copy = dataset.copy()"
   ]
  },
  {
   "cell_type": "code",
   "execution_count": 25,
   "metadata": {},
   "outputs": [],
   "source": [
    "validation_imbalanced_df = dataset.sample(n=validation_imbalanced_n, random_state=2023)\n",
    "\n",
    "dataset.drop(validation_imbalanced_df.index, inplace=True)\n",
    "\n",
    "class_0_balanced = dataset[dataset['review_score']==0].sample(n=int(validation_balanced_n), random_state=2024)\n",
    "class_1_balanced = dataset[dataset['review_score']==1].sample(n=int(validation_balanced_n), random_state=2025)\n",
    "\n",
    "validation_balanced_df = pd.concat([class_0_balanced, class_1_balanced])\n",
    "validation_balanced_df = validation_balanced_df.sample(frac=1, random_state=0)\n",
    "\n",
    "dataset.drop(validation_balanced_df.index, inplace=True)"
   ]
  },
  {
   "cell_type": "code",
   "execution_count": 11,
   "metadata": {},
   "outputs": [],
   "source": [
    "# X_imbal_valid = validation_imbalanced_df['review_text'].to_numpy()\n",
    "# y_imbal_valid = validation_imbalanced_df['review_score'].to_numpy()\n",
    "\n",
    "# X_bal_valid = validation_balanced_df['review_text'].to_numpy()\n",
    "# y_bal_valid = validation_balanced_df['review_score'].to_numpy()"
   ]
  },
  {
   "cell_type": "code",
   "execution_count": 26,
   "metadata": {},
   "outputs": [
    {
     "name": "stdout",
     "output_type": "stream",
     "text": [
      "<class 'pandas.core.frame.DataFrame'>\n",
      "Index: 790655 entries, 2148449 to 4146413\n",
      "Data columns (total 7 columns):\n",
      " #   Column        Non-Null Count   Dtype \n",
      "---  ------        --------------   ----- \n",
      " 0   index         790655 non-null  int64 \n",
      " 1   app_id        790655 non-null  int64 \n",
      " 2   app_name      790655 non-null  object\n",
      " 3   review_text   790655 non-null  object\n",
      " 4   review_score  790655 non-null  int64 \n",
      " 5   review_votes  790655 non-null  int64 \n",
      " 6   num_of_words  790655 non-null  int64 \n",
      "dtypes: int64(5), object(2)\n",
      "memory usage: 48.3+ MB\n"
     ]
    }
   ],
   "source": [
    "validation_imbalanced_df.info()"
   ]
  },
  {
   "cell_type": "code",
   "execution_count": 30,
   "metadata": {},
   "outputs": [
    {
     "data": {
      "text/html": [
       "<style type=\"text/css\">\n",
       "#T_e7e39_row0_col0, #T_e7e39_row0_col1 {\n",
       "  background-color: #fcfbfd;\n",
       "  color: #000000;\n",
       "}\n",
       "#T_e7e39_row1_col0, #T_e7e39_row1_col1 {\n",
       "  background-color: #3f007d;\n",
       "  color: #f1f1f1;\n",
       "}\n",
       "</style>\n",
       "<table id=\"T_e7e39\">\n",
       "  <thead>\n",
       "    <tr>\n",
       "      <th class=\"blank level0\" >&nbsp;</th>\n",
       "      <th id=\"T_e7e39_level0_col0\" class=\"col_heading level0 col0\" >review_score</th>\n",
       "      <th id=\"T_e7e39_level0_col1\" class=\"col_heading level0 col1\" >review_text</th>\n",
       "    </tr>\n",
       "  </thead>\n",
       "  <tbody>\n",
       "    <tr>\n",
       "      <th id=\"T_e7e39_level0_row0\" class=\"row_heading level0 row0\" >0</th>\n",
       "      <td id=\"T_e7e39_row0_col0\" class=\"data row0 col0\" >0</td>\n",
       "      <td id=\"T_e7e39_row0_col1\" class=\"data row0 col1\" >134001</td>\n",
       "    </tr>\n",
       "    <tr>\n",
       "      <th id=\"T_e7e39_level0_row1\" class=\"row_heading level0 row1\" >1</th>\n",
       "      <td id=\"T_e7e39_row1_col0\" class=\"data row1 col0\" >1</td>\n",
       "      <td id=\"T_e7e39_row1_col1\" class=\"data row1 col1\" >656654</td>\n",
       "    </tr>\n",
       "  </tbody>\n",
       "</table>\n"
      ],
      "text/plain": [
       "<pandas.io.formats.style.Styler at 0x2f4fad370>"
      ]
     },
     "execution_count": 30,
     "metadata": {},
     "output_type": "execute_result"
    }
   ],
   "source": [
    "temp = validation_imbalanced_df.groupby('review_score').count()['review_text'].reset_index().sort_values(by='review_score',ascending=True)\n",
    "temp.style.background_gradient(cmap='Purples')"
   ]
  },
  {
   "cell_type": "code",
   "execution_count": 27,
   "metadata": {},
   "outputs": [
    {
     "name": "stdout",
     "output_type": "stream",
     "text": [
      "<class 'pandas.core.frame.DataFrame'>\n",
      "Index: 268588 entries, 1011930 to 2547212\n",
      "Data columns (total 7 columns):\n",
      " #   Column        Non-Null Count   Dtype \n",
      "---  ------        --------------   ----- \n",
      " 0   index         268588 non-null  int64 \n",
      " 1   app_id        268588 non-null  int64 \n",
      " 2   app_name      268588 non-null  object\n",
      " 3   review_text   268588 non-null  object\n",
      " 4   review_score  268588 non-null  int64 \n",
      " 5   review_votes  268588 non-null  int64 \n",
      " 6   num_of_words  268588 non-null  int64 \n",
      "dtypes: int64(5), object(2)\n",
      "memory usage: 16.4+ MB\n"
     ]
    }
   ],
   "source": [
    "validation_balanced_df.info()"
   ]
  },
  {
   "cell_type": "code",
   "execution_count": 28,
   "metadata": {},
   "outputs": [
    {
     "data": {
      "text/html": [
       "<style type=\"text/css\">\n",
       "#T_1fd05_row0_col0, #T_1fd05_row0_col1, #T_1fd05_row1_col1 {\n",
       "  background-color: #fcfbfd;\n",
       "  color: #000000;\n",
       "}\n",
       "#T_1fd05_row1_col0 {\n",
       "  background-color: #3f007d;\n",
       "  color: #f1f1f1;\n",
       "}\n",
       "</style>\n",
       "<table id=\"T_1fd05\">\n",
       "  <thead>\n",
       "    <tr>\n",
       "      <th class=\"blank level0\" >&nbsp;</th>\n",
       "      <th id=\"T_1fd05_level0_col0\" class=\"col_heading level0 col0\" >review_score</th>\n",
       "      <th id=\"T_1fd05_level0_col1\" class=\"col_heading level0 col1\" >review_text</th>\n",
       "    </tr>\n",
       "  </thead>\n",
       "  <tbody>\n",
       "    <tr>\n",
       "      <th id=\"T_1fd05_level0_row0\" class=\"row_heading level0 row0\" >0</th>\n",
       "      <td id=\"T_1fd05_row0_col0\" class=\"data row0 col0\" >0</td>\n",
       "      <td id=\"T_1fd05_row0_col1\" class=\"data row0 col1\" >134294</td>\n",
       "    </tr>\n",
       "    <tr>\n",
       "      <th id=\"T_1fd05_level0_row1\" class=\"row_heading level0 row1\" >1</th>\n",
       "      <td id=\"T_1fd05_row1_col0\" class=\"data row1 col0\" >1</td>\n",
       "      <td id=\"T_1fd05_row1_col1\" class=\"data row1 col1\" >134294</td>\n",
       "    </tr>\n",
       "  </tbody>\n",
       "</table>\n"
      ],
      "text/plain": [
       "<pandas.io.formats.style.Styler at 0x2f4fadbb0>"
      ]
     },
     "execution_count": 28,
     "metadata": {},
     "output_type": "execute_result"
    }
   ],
   "source": [
    "temp = validation_balanced_df.groupby('review_score').count()['review_text'].reset_index().sort_values(by='review_score',ascending=True)\n",
    "temp.style.background_gradient(cmap='Purples')"
   ]
  },
  {
   "cell_type": "code",
   "execution_count": 29,
   "metadata": {},
   "outputs": [
    {
     "data": {
      "text/html": [
       "<style type=\"text/css\">\n",
       "#T_002c6_row0_col0, #T_002c6_row0_col1 {\n",
       "  background-color: #fcfbfd;\n",
       "  color: #000000;\n",
       "}\n",
       "#T_002c6_row1_col0, #T_002c6_row1_col1 {\n",
       "  background-color: #3f007d;\n",
       "  color: #f1f1f1;\n",
       "}\n",
       "</style>\n",
       "<table id=\"T_002c6\">\n",
       "  <thead>\n",
       "    <tr>\n",
       "      <th class=\"blank level0\" >&nbsp;</th>\n",
       "      <th id=\"T_002c6_level0_col0\" class=\"col_heading level0 col0\" >review_score</th>\n",
       "      <th id=\"T_002c6_level0_col1\" class=\"col_heading level0 col1\" >review_text</th>\n",
       "    </tr>\n",
       "  </thead>\n",
       "  <tbody>\n",
       "    <tr>\n",
       "      <th id=\"T_002c6_level0_row0\" class=\"row_heading level0 row0\" >0</th>\n",
       "      <td id=\"T_002c6_row0_col0\" class=\"data row0 col0\" >0</td>\n",
       "      <td id=\"T_002c6_row0_col1\" class=\"data row0 col1\" >403175</td>\n",
       "    </tr>\n",
       "    <tr>\n",
       "      <th id=\"T_002c6_level0_row1\" class=\"row_heading level0 row1\" >1</th>\n",
       "      <td id=\"T_002c6_row1_col0\" class=\"data row1 col0\" >1</td>\n",
       "      <td id=\"T_002c6_row1_col1\" class=\"data row1 col1\" >2490859</td>\n",
       "    </tr>\n",
       "  </tbody>\n",
       "</table>\n"
      ],
      "text/plain": [
       "<pandas.io.formats.style.Styler at 0x2f4fada00>"
      ]
     },
     "execution_count": 29,
     "metadata": {},
     "output_type": "execute_result"
    }
   ],
   "source": [
    "# remaining comments\n",
    "\n",
    "temp = dataset.groupby('review_score').count()['review_text'].reset_index().sort_values(by='review_score',ascending=True)\n",
    "temp.style.background_gradient(cmap='Purples')"
   ]
  },
  {
   "cell_type": "markdown",
   "metadata": {},
   "source": [
    "---"
   ]
  },
  {
   "cell_type": "markdown",
   "metadata": {},
   "source": [
    "Create training and testing dataset from here :D\n",
    "\n",
    "Sample a fixed amount of comments from here \n",
    "\n",
    "baseline (imbalanced): positive comments : negative comments = 5:1\n",
    "\n",
    "baseline (balanced): positive comments : negative comments = 1:1"
   ]
  },
  {
   "cell_type": "code",
   "execution_count": 32,
   "metadata": {},
   "outputs": [],
   "source": [
    "neg_sampled_df = dataset[dataset['review_score']==0]\n",
    "pos_sampled_df = dataset[dataset['review_score']==1]\n",
    "\n",
    "# shuffle them\n",
    "neg_sampled_df = neg_sampled_df.sample(frac=1, random_state=2348)\n",
    "pos_sampled_df = pos_sampled_df.sample(frac=1, random_state=2349)"
   ]
  },
  {
   "cell_type": "code",
   "execution_count": 56,
   "metadata": {},
   "outputs": [],
   "source": [
    "POS_NEG_RATIO = 5/1\n",
    "\n",
    "N_NEG_LIST = [20, 40, 80]\n",
    "N_NEG_LIST_INDEX = 0\n",
    "\n",
    "N_total = N_NEG_LIST[N_NEG_LIST_INDEX] * 1000 + int(N_NEG_LIST[N_NEG_LIST_INDEX] * 1000 * POS_NEG_RATIO)"
   ]
  },
  {
   "cell_type": "code",
   "execution_count": 57,
   "metadata": {},
   "outputs": [],
   "source": [
    "# for imabalnced dataset sampling\n",
    "n_neg = N_NEG_LIST[N_NEG_LIST_INDEX] * 1000\n",
    "n_pos = int(n_neg * POS_NEG_RATIO)\n",
    "\n",
    "# get the negative reviews by sampling\n",
    "# the negative reviews are the one with review_score = 0\n",
    "neg_sampled_df_sub = neg_sampled_df.iloc[:n_neg]\n",
    "pos_sampled_df_sub = pos_sampled_df.iloc[:n_pos]\n",
    "\n",
    "dataset_imbal = pd.concat([pos_sampled_df_sub, neg_sampled_df_sub])\n",
    "\n",
    "dataset_imbal = dataset_imbal.sample(frac=1, random_state=0)\n",
    "dataset_imbal = dataset_imbal.sample(frac=1, random_state=12152350)"
   ]
  },
  {
   "cell_type": "code",
   "execution_count": 58,
   "metadata": {},
   "outputs": [],
   "source": [
    "# for balanced dataset sampling\n",
    "\n",
    "n_neg = int(N_total / float(2))\n",
    "n_pos = n_neg\n",
    "\n",
    "# get the negative reviews by sampling\n",
    "# the negative reviews are the one with review_score = 0\n",
    "# using same seed as imbalanced dataset will result in some same sampled data\n",
    "# can better conclude that extra negative samples can do better \n",
    "neg_sampled_df_sub = neg_sampled_df.iloc[:n_neg]\n",
    "pos_sampled_df_sub = pos_sampled_df.iloc[:n_pos]\n",
    "\n",
    "dataset_bal = pd.concat([pos_sampled_df_sub, neg_sampled_df_sub])\n",
    "\n",
    "dataset_bal = dataset_bal.sample(frac=1, random_state=0)\n",
    "dataset_bal = dataset_bal.sample(frac=1, random_state=12152350)"
   ]
  },
  {
   "cell_type": "code",
   "execution_count": 59,
   "metadata": {},
   "outputs": [
    {
     "name": "stdout",
     "output_type": "stream",
     "text": [
      "<class 'pandas.core.frame.DataFrame'>\n",
      "Index: 120000 entries, 2170750 to 3274572\n",
      "Data columns (total 7 columns):\n",
      " #   Column        Non-Null Count   Dtype \n",
      "---  ------        --------------   ----- \n",
      " 0   index         120000 non-null  int64 \n",
      " 1   app_id        120000 non-null  int64 \n",
      " 2   app_name      120000 non-null  object\n",
      " 3   review_text   120000 non-null  object\n",
      " 4   review_score  120000 non-null  int64 \n",
      " 5   review_votes  120000 non-null  int64 \n",
      " 6   num_of_words  120000 non-null  int64 \n",
      "dtypes: int64(5), object(2)\n",
      "memory usage: 7.3+ MB\n"
     ]
    }
   ],
   "source": [
    "dataset_imbal.info()"
   ]
  },
  {
   "cell_type": "code",
   "execution_count": 60,
   "metadata": {},
   "outputs": [
    {
     "data": {
      "text/html": [
       "<style type=\"text/css\">\n",
       "#T_50194_row0_col0, #T_50194_row0_col1 {\n",
       "  background-color: #fcfbfd;\n",
       "  color: #000000;\n",
       "}\n",
       "#T_50194_row1_col0, #T_50194_row1_col1 {\n",
       "  background-color: #3f007d;\n",
       "  color: #f1f1f1;\n",
       "}\n",
       "</style>\n",
       "<table id=\"T_50194\">\n",
       "  <thead>\n",
       "    <tr>\n",
       "      <th class=\"blank level0\" >&nbsp;</th>\n",
       "      <th id=\"T_50194_level0_col0\" class=\"col_heading level0 col0\" >review_score</th>\n",
       "      <th id=\"T_50194_level0_col1\" class=\"col_heading level0 col1\" >review_text</th>\n",
       "    </tr>\n",
       "  </thead>\n",
       "  <tbody>\n",
       "    <tr>\n",
       "      <th id=\"T_50194_level0_row0\" class=\"row_heading level0 row0\" >0</th>\n",
       "      <td id=\"T_50194_row0_col0\" class=\"data row0 col0\" >0</td>\n",
       "      <td id=\"T_50194_row0_col1\" class=\"data row0 col1\" >20000</td>\n",
       "    </tr>\n",
       "    <tr>\n",
       "      <th id=\"T_50194_level0_row1\" class=\"row_heading level0 row1\" >1</th>\n",
       "      <td id=\"T_50194_row1_col0\" class=\"data row1 col0\" >1</td>\n",
       "      <td id=\"T_50194_row1_col1\" class=\"data row1 col1\" >100000</td>\n",
       "    </tr>\n",
       "  </tbody>\n",
       "</table>\n"
      ],
      "text/plain": [
       "<pandas.io.formats.style.Styler at 0x2f4fc7760>"
      ]
     },
     "execution_count": 60,
     "metadata": {},
     "output_type": "execute_result"
    }
   ],
   "source": [
    "temp = dataset_imbal.groupby('review_score').count()['review_text'].reset_index().sort_values(by='review_score',ascending=True)\n",
    "temp.style.background_gradient(cmap='Purples')"
   ]
  },
  {
   "cell_type": "code",
   "execution_count": 61,
   "metadata": {},
   "outputs": [
    {
     "data": {
      "text/html": [
       "<div>\n",
       "<style scoped>\n",
       "    .dataframe tbody tr th:only-of-type {\n",
       "        vertical-align: middle;\n",
       "    }\n",
       "\n",
       "    .dataframe tbody tr th {\n",
       "        vertical-align: top;\n",
       "    }\n",
       "\n",
       "    .dataframe thead th {\n",
       "        text-align: right;\n",
       "    }\n",
       "</style>\n",
       "<table border=\"1\" class=\"dataframe\">\n",
       "  <thead>\n",
       "    <tr style=\"text-align: right;\">\n",
       "      <th></th>\n",
       "      <th>index</th>\n",
       "      <th>app_id</th>\n",
       "      <th>app_name</th>\n",
       "      <th>review_text</th>\n",
       "      <th>review_score</th>\n",
       "      <th>review_votes</th>\n",
       "      <th>num_of_words</th>\n",
       "    </tr>\n",
       "  </thead>\n",
       "  <tbody>\n",
       "    <tr>\n",
       "      <th>2170750</th>\n",
       "      <td>3355255</td>\n",
       "      <td>275490</td>\n",
       "      <td>Canyon Capers</td>\n",
       "      <td>Completing games like this one make me want ...</td>\n",
       "      <td>0</td>\n",
       "      <td>0</td>\n",
       "      <td>40</td>\n",
       "    </tr>\n",
       "    <tr>\n",
       "      <th>1087219</th>\n",
       "      <td>1570677</td>\n",
       "      <td>22380</td>\n",
       "      <td>Fallout: New Vegas</td>\n",
       "      <td>A must buy for any fan. Sticks very true to th...</td>\n",
       "      <td>1</td>\n",
       "      <td>0</td>\n",
       "      <td>22</td>\n",
       "    </tr>\n",
       "    <tr>\n",
       "      <th>598241</th>\n",
       "      <td>770926</td>\n",
       "      <td>208650</td>\n",
       "      <td>Batman™: Arkham Knight</td>\n",
       "      <td>The game runs pretty well, as long as you adju...</td>\n",
       "      <td>1</td>\n",
       "      <td>0</td>\n",
       "      <td>71</td>\n",
       "    </tr>\n",
       "    <tr>\n",
       "      <th>2004415</th>\n",
       "      <td>3112612</td>\n",
       "      <td>265610</td>\n",
       "      <td>Epic Battle Fantasy 4</td>\n",
       "      <td>Epic Battle Fantasy 4?!?! A new addition to th...</td>\n",
       "      <td>1</td>\n",
       "      <td>0</td>\n",
       "      <td>81</td>\n",
       "    </tr>\n",
       "    <tr>\n",
       "      <th>800195</th>\n",
       "      <td>1073139</td>\n",
       "      <td>218230</td>\n",
       "      <td>PlanetSide 2</td>\n",
       "      <td>Wonderfully designed game that will always kee...</td>\n",
       "      <td>1</td>\n",
       "      <td>0</td>\n",
       "      <td>77</td>\n",
       "    </tr>\n",
       "  </tbody>\n",
       "</table>\n",
       "</div>"
      ],
      "text/plain": [
       "           index  app_id                app_name  \\\n",
       "2170750  3355255  275490           Canyon Capers   \n",
       "1087219  1570677   22380      Fallout: New Vegas   \n",
       "598241    770926  208650  Batman™: Arkham Knight   \n",
       "2004415  3112612  265610   Epic Battle Fantasy 4   \n",
       "800195   1073139  218230            PlanetSide 2   \n",
       "\n",
       "                                               review_text  review_score  \\\n",
       "2170750    Completing games like this one make me want ...             0   \n",
       "1087219  A must buy for any fan. Sticks very true to th...             1   \n",
       "598241   The game runs pretty well, as long as you adju...             1   \n",
       "2004415  Epic Battle Fantasy 4?!?! A new addition to th...             1   \n",
       "800195   Wonderfully designed game that will always kee...             1   \n",
       "\n",
       "         review_votes  num_of_words  \n",
       "2170750             0            40  \n",
       "1087219             0            22  \n",
       "598241              0            71  \n",
       "2004415             0            81  \n",
       "800195              0            77  "
      ]
     },
     "execution_count": 61,
     "metadata": {},
     "output_type": "execute_result"
    }
   ],
   "source": [
    "dataset_imbal.head()"
   ]
  },
  {
   "cell_type": "code",
   "execution_count": 62,
   "metadata": {},
   "outputs": [
    {
     "name": "stdout",
     "output_type": "stream",
     "text": [
      "<class 'pandas.core.frame.DataFrame'>\n",
      "Index: 120000 entries, 3010118 to 3274572\n",
      "Data columns (total 7 columns):\n",
      " #   Column        Non-Null Count   Dtype \n",
      "---  ------        --------------   ----- \n",
      " 0   index         120000 non-null  int64 \n",
      " 1   app_id        120000 non-null  int64 \n",
      " 2   app_name      120000 non-null  object\n",
      " 3   review_text   120000 non-null  object\n",
      " 4   review_score  120000 non-null  int64 \n",
      " 5   review_votes  120000 non-null  int64 \n",
      " 6   num_of_words  120000 non-null  int64 \n",
      "dtypes: int64(5), object(2)\n",
      "memory usage: 7.3+ MB\n"
     ]
    }
   ],
   "source": [
    "dataset_bal.info()"
   ]
  },
  {
   "cell_type": "code",
   "execution_count": 63,
   "metadata": {},
   "outputs": [
    {
     "data": {
      "text/html": [
       "<style type=\"text/css\">\n",
       "#T_acd9a_row0_col0, #T_acd9a_row0_col1, #T_acd9a_row1_col1 {\n",
       "  background-color: #fcfbfd;\n",
       "  color: #000000;\n",
       "}\n",
       "#T_acd9a_row1_col0 {\n",
       "  background-color: #3f007d;\n",
       "  color: #f1f1f1;\n",
       "}\n",
       "</style>\n",
       "<table id=\"T_acd9a\">\n",
       "  <thead>\n",
       "    <tr>\n",
       "      <th class=\"blank level0\" >&nbsp;</th>\n",
       "      <th id=\"T_acd9a_level0_col0\" class=\"col_heading level0 col0\" >review_score</th>\n",
       "      <th id=\"T_acd9a_level0_col1\" class=\"col_heading level0 col1\" >review_text</th>\n",
       "    </tr>\n",
       "  </thead>\n",
       "  <tbody>\n",
       "    <tr>\n",
       "      <th id=\"T_acd9a_level0_row0\" class=\"row_heading level0 row0\" >0</th>\n",
       "      <td id=\"T_acd9a_row0_col0\" class=\"data row0 col0\" >0</td>\n",
       "      <td id=\"T_acd9a_row0_col1\" class=\"data row0 col1\" >60000</td>\n",
       "    </tr>\n",
       "    <tr>\n",
       "      <th id=\"T_acd9a_level0_row1\" class=\"row_heading level0 row1\" >1</th>\n",
       "      <td id=\"T_acd9a_row1_col0\" class=\"data row1 col0\" >1</td>\n",
       "      <td id=\"T_acd9a_row1_col1\" class=\"data row1 col1\" >60000</td>\n",
       "    </tr>\n",
       "  </tbody>\n",
       "</table>\n"
      ],
      "text/plain": [
       "<pandas.io.formats.style.Styler at 0x2f4ffecd0>"
      ]
     },
     "execution_count": 63,
     "metadata": {},
     "output_type": "execute_result"
    }
   ],
   "source": [
    "temp = dataset_bal.groupby('review_score').count()['review_text'].reset_index().sort_values(by='review_score',ascending=True)\n",
    "temp.style.background_gradient(cmap='Purples')"
   ]
  },
  {
   "cell_type": "code",
   "execution_count": 64,
   "metadata": {},
   "outputs": [
    {
     "data": {
      "text/html": [
       "<div>\n",
       "<style scoped>\n",
       "    .dataframe tbody tr th:only-of-type {\n",
       "        vertical-align: middle;\n",
       "    }\n",
       "\n",
       "    .dataframe tbody tr th {\n",
       "        vertical-align: top;\n",
       "    }\n",
       "\n",
       "    .dataframe thead th {\n",
       "        text-align: right;\n",
       "    }\n",
       "</style>\n",
       "<table border=\"1\" class=\"dataframe\">\n",
       "  <thead>\n",
       "    <tr style=\"text-align: right;\">\n",
       "      <th></th>\n",
       "      <th>index</th>\n",
       "      <th>app_id</th>\n",
       "      <th>app_name</th>\n",
       "      <th>review_text</th>\n",
       "      <th>review_score</th>\n",
       "      <th>review_votes</th>\n",
       "      <th>num_of_words</th>\n",
       "    </tr>\n",
       "  </thead>\n",
       "  <tbody>\n",
       "    <tr>\n",
       "      <th>3010118</th>\n",
       "      <td>4685933</td>\n",
       "      <td>359550</td>\n",
       "      <td>Tom Clancy's Rainbow Six Siege</td>\n",
       "      <td>game is great but after many updates still s...</td>\n",
       "      <td>0</td>\n",
       "      <td>0</td>\n",
       "      <td>30</td>\n",
       "    </tr>\n",
       "    <tr>\n",
       "      <th>1087219</th>\n",
       "      <td>1570677</td>\n",
       "      <td>22380</td>\n",
       "      <td>Fallout: New Vegas</td>\n",
       "      <td>A must buy for any fan. Sticks very true to th...</td>\n",
       "      <td>1</td>\n",
       "      <td>0</td>\n",
       "      <td>22</td>\n",
       "    </tr>\n",
       "    <tr>\n",
       "      <th>598241</th>\n",
       "      <td>770926</td>\n",
       "      <td>208650</td>\n",
       "      <td>Batman™: Arkham Knight</td>\n",
       "      <td>The game runs pretty well, as long as you adju...</td>\n",
       "      <td>1</td>\n",
       "      <td>0</td>\n",
       "      <td>71</td>\n",
       "    </tr>\n",
       "    <tr>\n",
       "      <th>2004415</th>\n",
       "      <td>3112612</td>\n",
       "      <td>265610</td>\n",
       "      <td>Epic Battle Fantasy 4</td>\n",
       "      <td>Epic Battle Fantasy 4?!?! A new addition to th...</td>\n",
       "      <td>1</td>\n",
       "      <td>0</td>\n",
       "      <td>81</td>\n",
       "    </tr>\n",
       "    <tr>\n",
       "      <th>800195</th>\n",
       "      <td>1073139</td>\n",
       "      <td>218230</td>\n",
       "      <td>PlanetSide 2</td>\n",
       "      <td>Wonderfully designed game that will always kee...</td>\n",
       "      <td>1</td>\n",
       "      <td>0</td>\n",
       "      <td>77</td>\n",
       "    </tr>\n",
       "  </tbody>\n",
       "</table>\n",
       "</div>"
      ],
      "text/plain": [
       "           index  app_id                        app_name  \\\n",
       "3010118  4685933  359550  Tom Clancy's Rainbow Six Siege   \n",
       "1087219  1570677   22380              Fallout: New Vegas   \n",
       "598241    770926  208650          Batman™: Arkham Knight   \n",
       "2004415  3112612  265610           Epic Battle Fantasy 4   \n",
       "800195   1073139  218230                    PlanetSide 2   \n",
       "\n",
       "                                               review_text  review_score  \\\n",
       "3010118    game is great but after many updates still s...             0   \n",
       "1087219  A must buy for any fan. Sticks very true to th...             1   \n",
       "598241   The game runs pretty well, as long as you adju...             1   \n",
       "2004415  Epic Battle Fantasy 4?!?! A new addition to th...             1   \n",
       "800195   Wonderfully designed game that will always kee...             1   \n",
       "\n",
       "         review_votes  num_of_words  \n",
       "3010118             0            30  \n",
       "1087219             0            22  \n",
       "598241              0            71  \n",
       "2004415             0            81  \n",
       "800195              0            77  "
      ]
     },
     "execution_count": 64,
     "metadata": {},
     "output_type": "execute_result"
    }
   ],
   "source": [
    "dataset_bal.head()"
   ]
  },
  {
   "cell_type": "code",
   "execution_count": 65,
   "metadata": {},
   "outputs": [
    {
     "name": "stdout",
     "output_type": "stream",
     "text": [
      "<class 'pandas.core.frame.DataFrame'>\n",
      "RangeIndex: 80000 entries, 0 to 79999\n",
      "Data columns (total 13 columns):\n",
      " #   Column          Non-Null Count  Dtype \n",
      "---  ------          --------------  ----- \n",
      " 0   index           80000 non-null  int64 \n",
      " 1   app_id_x        80000 non-null  int64 \n",
      " 2   app_name_x      80000 non-null  object\n",
      " 3   review_text_x   80000 non-null  object\n",
      " 4   review_score_x  80000 non-null  int64 \n",
      " 5   review_votes_x  80000 non-null  int64 \n",
      " 6   num_of_words_x  80000 non-null  int64 \n",
      " 7   app_id_y        80000 non-null  int64 \n",
      " 8   app_name_y      80000 non-null  object\n",
      " 9   review_text_y   80000 non-null  object\n",
      " 10  review_score_y  80000 non-null  int64 \n",
      " 11  review_votes_y  80000 non-null  int64 \n",
      " 12  num_of_words_y  80000 non-null  int64 \n",
      "dtypes: int64(9), object(4)\n",
      "memory usage: 7.9+ MB\n"
     ]
    }
   ],
   "source": [
    "# common rows in both dataset_bal and dataset_imbal\n",
    "\n",
    "common = pd.merge(dataset_bal, dataset_imbal, how='inner', on=['index'])\n",
    "common.info()"
   ]
  },
  {
   "cell_type": "markdown",
   "metadata": {},
   "source": [
    "---"
   ]
  },
  {
   "cell_type": "markdown",
   "metadata": {},
   "source": [
    "Save dataset for training/testing/validation"
   ]
  },
  {
   "cell_type": "code",
   "execution_count": 66,
   "metadata": {},
   "outputs": [],
   "source": [
    "from datetime import datetime\n",
    "\n",
    "today = datetime.today()\n",
    "\n",
    "dataset_output_folder_path = Path('sampled_{}k_{}/'.format(int(N_total/1000), today.strftime(\"%Y-%m-%d\"))).resolve()\n",
    "dataset_val_output_folder_path = Path('sampled_valid_{}/'.format(today.strftime(\"%Y-%m-%d\"))).resolve()\n",
    "\n",
    "if not dataset_output_folder_path.exists():\n",
    "    dataset_output_folder_path.mkdir(parents=True, exist_ok=True)\n",
    "\n",
    "if not dataset_val_output_folder_path.exists():\n",
    "    dataset_val_output_folder_path.mkdir(parents=True, exist_ok=True)"
   ]
  },
  {
   "cell_type": "code",
   "execution_count": 67,
   "metadata": {},
   "outputs": [],
   "source": [
    "# save datasets\n",
    "\n",
    "if not Path(dataset_val_output_folder_path, 'validation_balanced.pkl').exists():\n",
    "    validation_balanced_df.to_pickle(dataset_val_output_folder_path / 'validation_balanced.pkl')\n",
    "\n",
    "if not Path(dataset_val_output_folder_path, 'validation_imbalanced.pkl').exists():\n",
    "    validation_imbalanced_df.to_pickle(dataset_val_output_folder_path / 'validation_imbalanced.pkl')\n",
    "\n",
    "dataset_bal.to_pickle(dataset_output_folder_path / 'dataset_bal_sampled_{}k.pkl'.format(int(N_total/1000)))\n",
    "dataset_imbal.to_pickle(dataset_output_folder_path / 'dataset_imbal_sampled_{}k.pkl'.format(int(N_total/1000)))\n"
   ]
  },
  {
   "cell_type": "markdown",
   "metadata": {},
   "source": []
  }
 ],
 "metadata": {
  "kernelspec": {
   "display_name": "fyp-test-wsl",
   "language": "python",
   "name": "python3"
  },
  "language_info": {
   "codemirror_mode": {
    "name": "ipython",
    "version": 3
   },
   "file_extension": ".py",
   "mimetype": "text/x-python",
   "name": "python",
   "nbconvert_exporter": "python",
   "pygments_lexer": "ipython3",
   "version": "3.9.18"
  }
 },
 "nbformat": 4,
 "nbformat_minor": 2
}
