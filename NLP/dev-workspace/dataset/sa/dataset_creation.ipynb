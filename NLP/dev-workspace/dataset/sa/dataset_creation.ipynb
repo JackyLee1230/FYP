{
 "cells": [
  {
   "cell_type": "markdown",
   "metadata": {},
   "source": [
    "# Dataset Creation\n",
    "\n",
    "(a template script for implementing each version of train/test/validation stuff)\n",
    "\n",
    "This script is for creating balanced dataset for training/testing/validation purpose\n",
    "\n",
    "It will change the label representing negative sentiment from -1 to 0 for easier training\n",
    "\n",
    "It does not pre-process the data (e.g. stemming/removing symbols...)"
   ]
  },
  {
   "cell_type": "code",
   "execution_count": 1,
   "metadata": {},
   "outputs": [
    {
     "name": "stdout",
     "output_type": "stream",
     "text": [
      "<class 'pandas.core.frame.DataFrame'>\n",
      "RangeIndex: 4891928 entries, 0 to 4891927\n",
      "Data columns (total 6 columns):\n",
      " #   Column        Dtype \n",
      "---  ------        ----- \n",
      " 0   index         int64 \n",
      " 1   app_id        int64 \n",
      " 2   app_name      object\n",
      " 3   review_text   object\n",
      " 4   review_score  int64 \n",
      " 5   review_votes  int64 \n",
      "dtypes: int64(4), object(2)\n",
      "memory usage: 223.9+ MB\n"
     ]
    }
   ],
   "source": [
    "import pandas as pd\n",
    "import numpy as np\n",
    "import matplotlib.pyplot as plt\n",
    "import seaborn as sns\n",
    "\n",
    "\n",
    "from pathlib import Path\n",
    "import random\n",
    "\n",
    "random.seed(13)\n",
    "\n",
    "dataset_heartless_path = Path('../../dataset/sa/dataset_cleaned_heartless.pkl').resolve()\n",
    "\n",
    "dataset = pd.read_pickle(dataset_heartless_path)\n",
    "# dataset = dataset.sample(frac=p)      # no sampling is needed\n",
    "\n",
    "# convert the text to string object\n",
    "dataset['review_text'] = dataset['review_text'].astype('str')\n",
    "\n",
    "# drop any duplicate just in case\n",
    "dataset = dataset.drop_duplicates(keep='first')\n",
    "\n",
    "# replace -1 to 0\n",
    "# then 0 = negative, 1 = positive\n",
    "# for easier processing\n",
    "dataset['review_score'] = dataset['review_score'].replace(-1, 0)\n",
    "\n",
    "dataset.info()"
   ]
  },
  {
   "cell_type": "code",
   "execution_count": 2,
   "metadata": {},
   "outputs": [],
   "source": [
    "dataset['review_text'] = dataset['review_text'].astype('str')"
   ]
  },
  {
   "cell_type": "code",
   "execution_count": 3,
   "metadata": {},
   "outputs": [],
   "source": [
    "dataset = dataset.drop_duplicates(keep='first')"
   ]
  },
  {
   "cell_type": "code",
   "execution_count": 4,
   "metadata": {},
   "outputs": [],
   "source": [
    "# remove rows have all whitespaces\n",
    "dataset['num_of_words'] = dataset['review_text'].apply(lambda x:len(str(x).split()))\n",
    "dataset = dataset[dataset['num_of_words'] > 0]"
   ]
  },
  {
   "cell_type": "code",
   "execution_count": 5,
   "metadata": {},
   "outputs": [],
   "source": [
    "# remove number of rows that have less than N number of characters\n",
    "\n",
    "character_limit = 20\n",
    "\n",
    "dataset = dataset[dataset['review_text'].str.len()>=character_limit]"
   ]
  },
  {
   "cell_type": "code",
   "execution_count": 6,
   "metadata": {},
   "outputs": [
    {
     "name": "stdout",
     "output_type": "stream",
     "text": [
      "<class 'pandas.core.frame.DataFrame'>\n",
      "Index: 4626526 entries, 1 to 4891927\n",
      "Data columns (total 7 columns):\n",
      " #   Column        Dtype \n",
      "---  ------        ----- \n",
      " 0   index         int64 \n",
      " 1   app_id        int64 \n",
      " 2   app_name      object\n",
      " 3   review_text   object\n",
      " 4   review_score  int64 \n",
      " 5   review_votes  int64 \n",
      " 6   num_of_words  int64 \n",
      "dtypes: int64(5), object(2)\n",
      "memory usage: 282.4+ MB\n"
     ]
    }
   ],
   "source": [
    "dataset.info()"
   ]
  },
  {
   "cell_type": "code",
   "execution_count": 12,
   "metadata": {},
   "outputs": [],
   "source": [
    "# save the cleaned dataset to pickle\n",
    "\n",
    "# dataset.to_pickle(Path('dataset_cleaned_heartless_cleaned.pkl').resolve())"
   ]
  },
  {
   "cell_type": "markdown",
   "metadata": {},
   "source": [
    "---"
   ]
  },
  {
   "cell_type": "markdown",
   "metadata": {},
   "source": [
    "Create both balanced and imbalanced validation dataset"
   ]
  },
  {
   "cell_type": "code",
   "execution_count": 7,
   "metadata": {},
   "outputs": [
    {
     "name": "stdout",
     "output_type": "stream",
     "text": [
      "class 1 : class 0 =  5.141156200721032\n"
     ]
    }
   ],
   "source": [
    "# calculate ratio of class 0 and class 1\n",
    "\n",
    "print('class 1 : class 0 = ', \\\n",
    "    float(len(dataset[dataset['review_score']==1]) / len(dataset[dataset['review_score']==0])))\n"
   ]
  },
  {
   "cell_type": "code",
   "execution_count": 8,
   "metadata": {},
   "outputs": [
    {
     "data": {
      "text/html": [
       "<style type=\"text/css\">\n",
       "#T_c3611_row0_col0, #T_c3611_row0_col1 {\n",
       "  background-color: #fcfbfd;\n",
       "  color: #000000;\n",
       "}\n",
       "#T_c3611_row1_col0, #T_c3611_row1_col1 {\n",
       "  background-color: #3f007d;\n",
       "  color: #f1f1f1;\n",
       "}\n",
       "</style>\n",
       "<table id=\"T_c3611\">\n",
       "  <thead>\n",
       "    <tr>\n",
       "      <th class=\"blank level0\" >&nbsp;</th>\n",
       "      <th id=\"T_c3611_level0_col0\" class=\"col_heading level0 col0\" >review_score</th>\n",
       "      <th id=\"T_c3611_level0_col1\" class=\"col_heading level0 col1\" >review_text</th>\n",
       "    </tr>\n",
       "  </thead>\n",
       "  <tbody>\n",
       "    <tr>\n",
       "      <th id=\"T_c3611_level0_row0\" class=\"row_heading level0 row0\" >0</th>\n",
       "      <td id=\"T_c3611_row0_col0\" class=\"data row0 col0\" >0</td>\n",
       "      <td id=\"T_c3611_row0_col1\" class=\"data row0 col1\" >753364</td>\n",
       "    </tr>\n",
       "    <tr>\n",
       "      <th id=\"T_c3611_level0_row1\" class=\"row_heading level0 row1\" >1</th>\n",
       "      <td id=\"T_c3611_row1_col0\" class=\"data row1 col0\" >1</td>\n",
       "      <td id=\"T_c3611_row1_col1\" class=\"data row1 col1\" >3873162</td>\n",
       "    </tr>\n",
       "  </tbody>\n",
       "</table>\n"
      ],
      "text/plain": [
       "<pandas.io.formats.style.Styler at 0x330cd5040>"
      ]
     },
     "execution_count": 8,
     "metadata": {},
     "output_type": "execute_result"
    }
   ],
   "source": [
    "temp = dataset.groupby('review_score').count()['review_text'].reset_index().sort_values(by='review_score',ascending=True)\n",
    "temp.style.background_gradient(cmap='Purples')"
   ]
  },
  {
   "cell_type": "code",
   "execution_count": 11,
   "metadata": {},
   "outputs": [
    {
     "name": "stderr",
     "output_type": "stream",
     "text": [
      "/Users/michaelcheng/miniforge3/envs/fyp-test/lib/python3.9/site-packages/seaborn/_oldcore.py:1498: FutureWarning: is_categorical_dtype is deprecated and will be removed in a future version. Use isinstance(dtype, CategoricalDtype) instead\n",
      "  if pd.api.types.is_categorical_dtype(vector):\n",
      "/Users/michaelcheng/miniforge3/envs/fyp-test/lib/python3.9/site-packages/seaborn/_oldcore.py:1498: FutureWarning: is_categorical_dtype is deprecated and will be removed in a future version. Use isinstance(dtype, CategoricalDtype) instead\n",
      "  if pd.api.types.is_categorical_dtype(vector):\n",
      "/Users/michaelcheng/miniforge3/envs/fyp-test/lib/python3.9/site-packages/seaborn/_oldcore.py:1765: FutureWarning: unique with argument that is not not a Series, Index, ExtensionArray, or np.ndarray is deprecated and will raise in a future version.\n",
      "  order = pd.unique(vector)\n",
      "/Users/michaelcheng/miniforge3/envs/fyp-test/lib/python3.9/site-packages/seaborn/_oldcore.py:1498: FutureWarning: is_categorical_dtype is deprecated and will be removed in a future version. Use isinstance(dtype, CategoricalDtype) instead\n",
      "  if pd.api.types.is_categorical_dtype(vector):\n"
     ]
    },
    {
     "data": {
      "text/plain": [
       "<Axes: ylabel='review_text'>"
      ]
     },
     "execution_count": 11,
     "metadata": {},
     "output_type": "execute_result"
    },
    {
     "data": {
      "image/png": "[encoded data removed]",
      "text/plain": [
       "<Figure size 432x288 with 1 Axes>"
      ]
     },
     "metadata": {},
     "output_type": "display_data"
    }
   ],
   "source": []
  },
  {
   "cell_type": "markdown",
   "metadata": {},
   "source": [
    "---"
   ]
  },
  {
   "cell_type": "markdown",
   "metadata": {},
   "source": [
    "Create\n",
    "- A fixed imbalanced validation set (0.1 of the original dataset) (using df.sample func)\n",
    "- A fixed balanced validation set (0.1 of the original negative samples)\n",
    "- A subset of dataset for creating training and testing data (due to computational power)\n",
    "\n",
    "The rest of the data will be for training/testing\n",
    "\n",
    "No data augmentation will be performed on both of them\n",
    "\n",
    "Create train-test and validation set"
   ]
  },
  {
   "cell_type": "code",
   "execution_count": 9,
   "metadata": {},
   "outputs": [],
   "source": [
    "VALIDATION_IMBALANCED_RATIO = 0.2\n",
    "VALIDATION_BALANCED_RATIO = 0.2\n",
    "\n",
    "validation_imbalanced_n = int(len(dataset) * VALIDATION_IMBALANCED_RATIO)\n",
    "validation_balanced_n = int(len(dataset[dataset['review_score']==0]) * VALIDATION_BALANCED_RATIO)"
   ]
  },
  {
   "cell_type": "code",
   "execution_count": 10,
   "metadata": {},
   "outputs": [],
   "source": [
    "validation_imbalanced_df = dataset.sample(n=validation_imbalanced_n, random_state=2023)\n",
    "\n",
    "dataset.drop(validation_imbalanced_df.index, inplace=True)\n",
    "\n",
    "class_0_balanced = dataset[dataset['review_score']==0].sample(n=int(validation_balanced_n), random_state=2024)\n",
    "class_1_balanced = dataset[dataset['review_score']==1].sample(n=int(validation_balanced_n), random_state=2025)\n",
    "\n",
    "validation_balanced_df = pd.concat([class_0_balanced, class_1_balanced])\n",
    "validation_balanced_df = validation_balanced_df.sample(frac=1, random_state=0)\n",
    "\n",
    "dataset.drop(validation_balanced_df.index, inplace=True)"
   ]
  },
  {
   "cell_type": "code",
   "execution_count": 11,
   "metadata": {},
   "outputs": [],
   "source": [
    "# X_imbal_valid = validation_imbalanced_df['review_text'].to_numpy()\n",
    "# y_imbal_valid = validation_imbalanced_df['review_score'].to_numpy()\n",
    "\n",
    "# X_bal_valid = validation_balanced_df['review_text'].to_numpy()\n",
    "# y_bal_valid = validation_balanced_df['review_score'].to_numpy()"
   ]
  },
  {
   "cell_type": "code",
   "execution_count": 25,
   "metadata": {},
   "outputs": [
    {
     "name": "stdout",
     "output_type": "stream",
     "text": [
      "<class 'pandas.core.frame.DataFrame'>\n",
      "Index: 925305 entries, 1752495 to 4683282\n",
      "Data columns (total 7 columns):\n",
      " #   Column        Non-Null Count   Dtype \n",
      "---  ------        --------------   ----- \n",
      " 0   index         925305 non-null  int64 \n",
      " 1   app_id        925305 non-null  int64 \n",
      " 2   app_name      925305 non-null  object\n",
      " 3   review_text   925305 non-null  object\n",
      " 4   review_score  925305 non-null  int64 \n",
      " 5   review_votes  925305 non-null  int64 \n",
      " 6   num_of_words  925305 non-null  int64 \n",
      "dtypes: int64(5), object(2)\n",
      "memory usage: 56.5+ MB\n"
     ]
    }
   ],
   "source": [
    "validation_imbalanced_df.info()"
   ]
  },
  {
   "cell_type": "code",
   "execution_count": 27,
   "metadata": {},
   "outputs": [
    {
     "data": {
      "text/html": [
       "<style type=\"text/css\">\n",
       "#T_278a8_row0_col0, #T_278a8_row0_col1 {\n",
       "  background-color: #fcfbfd;\n",
       "  color: #000000;\n",
       "}\n",
       "#T_278a8_row1_col0, #T_278a8_row1_col1 {\n",
       "  background-color: #3f007d;\n",
       "  color: #f1f1f1;\n",
       "}\n",
       "</style>\n",
       "<table id=\"T_278a8\">\n",
       "  <thead>\n",
       "    <tr>\n",
       "      <th class=\"blank level0\" >&nbsp;</th>\n",
       "      <th id=\"T_278a8_level0_col0\" class=\"col_heading level0 col0\" >review_score</th>\n",
       "      <th id=\"T_278a8_level0_col1\" class=\"col_heading level0 col1\" >review_text</th>\n",
       "    </tr>\n",
       "  </thead>\n",
       "  <tbody>\n",
       "    <tr>\n",
       "      <th id=\"T_278a8_level0_row0\" class=\"row_heading level0 row0\" >0</th>\n",
       "      <td id=\"T_278a8_row0_col0\" class=\"data row0 col0\" >0</td>\n",
       "      <td id=\"T_278a8_row0_col1\" class=\"data row0 col1\" >150928</td>\n",
       "    </tr>\n",
       "    <tr>\n",
       "      <th id=\"T_278a8_level0_row1\" class=\"row_heading level0 row1\" >1</th>\n",
       "      <td id=\"T_278a8_row1_col0\" class=\"data row1 col0\" >1</td>\n",
       "      <td id=\"T_278a8_row1_col1\" class=\"data row1 col1\" >774377</td>\n",
       "    </tr>\n",
       "  </tbody>\n",
       "</table>\n"
      ],
      "text/plain": [
       "<pandas.io.formats.style.Styler at 0x7f543e0e8b50>"
      ]
     },
     "execution_count": 27,
     "metadata": {},
     "output_type": "execute_result"
    }
   ],
   "source": [
    "temp = validation_imbalanced_df.groupby('review_score').count()['review_text'].reset_index().sort_values(by='review_score',ascending=True)\n",
    "temp.style.background_gradient(cmap='Purples')"
   ]
  },
  {
   "cell_type": "code",
   "execution_count": 26,
   "metadata": {},
   "outputs": [
    {
     "name": "stdout",
     "output_type": "stream",
     "text": [
      "<class 'pandas.core.frame.DataFrame'>\n",
      "Index: 301344 entries, 2447379 to 2758277\n",
      "Data columns (total 7 columns):\n",
      " #   Column        Non-Null Count   Dtype \n",
      "---  ------        --------------   ----- \n",
      " 0   index         301344 non-null  int64 \n",
      " 1   app_id        301344 non-null  int64 \n",
      " 2   app_name      301344 non-null  object\n",
      " 3   review_text   301344 non-null  object\n",
      " 4   review_score  301344 non-null  int64 \n",
      " 5   review_votes  301344 non-null  int64 \n",
      " 6   num_of_words  301344 non-null  int64 \n",
      "dtypes: int64(5), object(2)\n",
      "memory usage: 18.4+ MB\n"
     ]
    }
   ],
   "source": [
    "validation_balanced_df.info()"
   ]
  },
  {
   "cell_type": "code",
   "execution_count": 28,
   "metadata": {},
   "outputs": [
    {
     "data": {
      "text/html": [
       "<style type=\"text/css\">\n",
       "#T_af8a9_row0_col0, #T_af8a9_row0_col1, #T_af8a9_row1_col1 {\n",
       "  background-color: #fcfbfd;\n",
       "  color: #000000;\n",
       "}\n",
       "#T_af8a9_row1_col0 {\n",
       "  background-color: #3f007d;\n",
       "  color: #f1f1f1;\n",
       "}\n",
       "</style>\n",
       "<table id=\"T_af8a9\">\n",
       "  <thead>\n",
       "    <tr>\n",
       "      <th class=\"blank level0\" >&nbsp;</th>\n",
       "      <th id=\"T_af8a9_level0_col0\" class=\"col_heading level0 col0\" >review_score</th>\n",
       "      <th id=\"T_af8a9_level0_col1\" class=\"col_heading level0 col1\" >review_text</th>\n",
       "    </tr>\n",
       "  </thead>\n",
       "  <tbody>\n",
       "    <tr>\n",
       "      <th id=\"T_af8a9_level0_row0\" class=\"row_heading level0 row0\" >0</th>\n",
       "      <td id=\"T_af8a9_row0_col0\" class=\"data row0 col0\" >0</td>\n",
       "      <td id=\"T_af8a9_row0_col1\" class=\"data row0 col1\" >150672</td>\n",
       "    </tr>\n",
       "    <tr>\n",
       "      <th id=\"T_af8a9_level0_row1\" class=\"row_heading level0 row1\" >1</th>\n",
       "      <td id=\"T_af8a9_row1_col0\" class=\"data row1 col0\" >1</td>\n",
       "      <td id=\"T_af8a9_row1_col1\" class=\"data row1 col1\" >150672</td>\n",
       "    </tr>\n",
       "  </tbody>\n",
       "</table>\n"
      ],
      "text/plain": [
       "<pandas.io.formats.style.Styler at 0x7f543db917c0>"
      ]
     },
     "execution_count": 28,
     "metadata": {},
     "output_type": "execute_result"
    }
   ],
   "source": [
    "temp = validation_balanced_df.groupby('review_score').count()['review_text'].reset_index().sort_values(by='review_score',ascending=True)\n",
    "temp.style.background_gradient(cmap='Purples')"
   ]
  },
  {
   "cell_type": "code",
   "execution_count": 12,
   "metadata": {},
   "outputs": [
    {
     "data": {
      "text/html": [
       "<style type=\"text/css\">\n",
       "#T_0cb8c_row0_col0, #T_0cb8c_row0_col1 {\n",
       "  background-color: #fcfbfd;\n",
       "  color: #000000;\n",
       "}\n",
       "#T_0cb8c_row1_col0, #T_0cb8c_row1_col1 {\n",
       "  background-color: #3f007d;\n",
       "  color: #f1f1f1;\n",
       "}\n",
       "</style>\n",
       "<table id=\"T_0cb8c\">\n",
       "  <thead>\n",
       "    <tr>\n",
       "      <th class=\"blank level0\" >&nbsp;</th>\n",
       "      <th id=\"T_0cb8c_level0_col0\" class=\"col_heading level0 col0\" >review_score</th>\n",
       "      <th id=\"T_0cb8c_level0_col1\" class=\"col_heading level0 col1\" >review_text</th>\n",
       "    </tr>\n",
       "  </thead>\n",
       "  <tbody>\n",
       "    <tr>\n",
       "      <th id=\"T_0cb8c_level0_row0\" class=\"row_heading level0 row0\" >0</th>\n",
       "      <td id=\"T_0cb8c_row0_col0\" class=\"data row0 col0\" >0</td>\n",
       "      <td id=\"T_0cb8c_row0_col1\" class=\"data row0 col1\" >451764</td>\n",
       "    </tr>\n",
       "    <tr>\n",
       "      <th id=\"T_0cb8c_level0_row1\" class=\"row_heading level0 row1\" >1</th>\n",
       "      <td id=\"T_0cb8c_row1_col0\" class=\"data row1 col0\" >1</td>\n",
       "      <td id=\"T_0cb8c_row1_col1\" class=\"data row1 col1\" >2948113</td>\n",
       "    </tr>\n",
       "  </tbody>\n",
       "</table>\n"
      ],
      "text/plain": [
       "<pandas.io.formats.style.Styler at 0x7f5437a79d60>"
      ]
     },
     "execution_count": 12,
     "metadata": {},
     "output_type": "execute_result"
    }
   ],
   "source": [
    "# remaining comments\n",
    "\n",
    "temp = dataset.groupby('review_score').count()['review_text'].reset_index().sort_values(by='review_score',ascending=True)\n",
    "temp.style.background_gradient(cmap='Purples')"
   ]
  },
  {
   "cell_type": "markdown",
   "metadata": {},
   "source": [
    "---"
   ]
  },
  {
   "cell_type": "markdown",
   "metadata": {},
   "source": [
    "Create training and testing dataset from here :D\n",
    "\n",
    "Sample a fixed amount of comments from here \n",
    "\n",
    "baseline (imbalanced): positive comments : negative comments = 5:1\n",
    "\n",
    "baseline (balanced): positive comments : negative comments = 1:1"
   ]
  },
  {
   "cell_type": "code",
   "execution_count": 46,
   "metadata": {},
   "outputs": [],
   "source": [
    "POS_NEG_RATIO = 5/1\n",
    "\n",
    "N_NEG_LIST = [20, 40, 80]\n",
    "N_NEG_LIST_INDEX = 2\n",
    "\n",
    "N_total = N_NEG_LIST[N_NEG_LIST_INDEX] * 1000 + int(N_NEG_LIST[N_NEG_LIST_INDEX] * 1000 * POS_NEG_RATIO)"
   ]
  },
  {
   "cell_type": "code",
   "execution_count": 47,
   "metadata": {},
   "outputs": [],
   "source": [
    "# for imabalnced dataset sampling\n",
    "\n",
    "\n",
    "n_neg = N_NEG_LIST[N_NEG_LIST_INDEX] * 1000\n",
    "n_pos = int(n_neg * POS_NEG_RATIO)\n",
    "\n",
    "# get the negative reviews by sampling\n",
    "# the negative reviews are the one with review_score = 0\n",
    "neg_sampled_df = dataset[dataset['review_score']==0].sample(n=n_neg, random_state=2348)\n",
    "pos_sampled_df = dataset[dataset['review_score']==1].sample(n=n_pos, random_state=2349)\n",
    "\n",
    "dataset_imbal = pd.concat([pos_sampled_df, neg_sampled_df])\n",
    "\n",
    "dataset_imbal = dataset_imbal.sample(frac=1, random_state=0)\n",
    "dataset_imbal = dataset_imbal.sample(frac=1, random_state=12152350)"
   ]
  },
  {
   "cell_type": "code",
   "execution_count": 48,
   "metadata": {},
   "outputs": [],
   "source": [
    "# for balanced dataset sampling\n",
    "\n",
    "n_neg = int(N_total / float(2))\n",
    "n_pos = n_neg\n",
    "\n",
    "# get the negative reviews by sampling\n",
    "# the negative reviews are the one with review_score = 0\n",
    "# using same seed as imbalanced dataset will result in some same sampled data\n",
    "# can better conclude that extra negative samples can do better \n",
    "neg_sampled_df = dataset[dataset['review_score']==0].sample(n=n_neg, random_state=2348)\n",
    "pos_sampled_df = dataset[dataset['review_score']==1].sample(n=n_pos, random_state=2349)\n",
    "\n",
    "dataset_bal = pd.concat([pos_sampled_df, neg_sampled_df])\n",
    "\n",
    "dataset_bal = dataset_bal.sample(frac=1, random_state=0)\n",
    "dataset_bal = dataset_bal.sample(frac=1, random_state=12152350)"
   ]
  },
  {
   "cell_type": "code",
   "execution_count": 49,
   "metadata": {},
   "outputs": [
    {
     "name": "stdout",
     "output_type": "stream",
     "text": [
      "<class 'pandas.core.frame.DataFrame'>\n",
      "Index: 480000 entries, 1714733 to 4441076\n",
      "Data columns (total 7 columns):\n",
      " #   Column        Non-Null Count   Dtype \n",
      "---  ------        --------------   ----- \n",
      " 0   index         480000 non-null  int64 \n",
      " 1   app_id        480000 non-null  int64 \n",
      " 2   app_name      480000 non-null  object\n",
      " 3   review_text   480000 non-null  object\n",
      " 4   review_score  480000 non-null  int64 \n",
      " 5   review_votes  480000 non-null  int64 \n",
      " 6   num_of_words  480000 non-null  int64 \n",
      "dtypes: int64(5), object(2)\n",
      "memory usage: 29.3+ MB\n"
     ]
    }
   ],
   "source": [
    "dataset_imbal.info()"
   ]
  },
  {
   "cell_type": "code",
   "execution_count": 50,
   "metadata": {},
   "outputs": [
    {
     "data": {
      "text/html": [
       "<style type=\"text/css\">\n",
       "#T_e6247_row0_col0, #T_e6247_row0_col1 {\n",
       "  background-color: #fcfbfd;\n",
       "  color: #000000;\n",
       "}\n",
       "#T_e6247_row1_col0, #T_e6247_row1_col1 {\n",
       "  background-color: #3f007d;\n",
       "  color: #f1f1f1;\n",
       "}\n",
       "</style>\n",
       "<table id=\"T_e6247\">\n",
       "  <thead>\n",
       "    <tr>\n",
       "      <th class=\"blank level0\" >&nbsp;</th>\n",
       "      <th id=\"T_e6247_level0_col0\" class=\"col_heading level0 col0\" >review_score</th>\n",
       "      <th id=\"T_e6247_level0_col1\" class=\"col_heading level0 col1\" >review_text</th>\n",
       "    </tr>\n",
       "  </thead>\n",
       "  <tbody>\n",
       "    <tr>\n",
       "      <th id=\"T_e6247_level0_row0\" class=\"row_heading level0 row0\" >0</th>\n",
       "      <td id=\"T_e6247_row0_col0\" class=\"data row0 col0\" >0</td>\n",
       "      <td id=\"T_e6247_row0_col1\" class=\"data row0 col1\" >80000</td>\n",
       "    </tr>\n",
       "    <tr>\n",
       "      <th id=\"T_e6247_level0_row1\" class=\"row_heading level0 row1\" >1</th>\n",
       "      <td id=\"T_e6247_row1_col0\" class=\"data row1 col0\" >1</td>\n",
       "      <td id=\"T_e6247_row1_col1\" class=\"data row1 col1\" >400000</td>\n",
       "    </tr>\n",
       "  </tbody>\n",
       "</table>\n"
      ],
      "text/plain": [
       "<pandas.io.formats.style.Styler at 0x7f544efd8400>"
      ]
     },
     "execution_count": 50,
     "metadata": {},
     "output_type": "execute_result"
    }
   ],
   "source": [
    "temp = dataset_imbal.groupby('review_score').count()['review_text'].reset_index().sort_values(by='review_score',ascending=True)\n",
    "temp.style.background_gradient(cmap='Purples')"
   ]
  },
  {
   "cell_type": "code",
   "execution_count": 51,
   "metadata": {},
   "outputs": [
    {
     "data": {
      "text/html": [
       "<div>\n",
       "<style scoped>\n",
       "    .dataframe tbody tr th:only-of-type {\n",
       "        vertical-align: middle;\n",
       "    }\n",
       "\n",
       "    .dataframe tbody tr th {\n",
       "        vertical-align: top;\n",
       "    }\n",
       "\n",
       "    .dataframe thead th {\n",
       "        text-align: right;\n",
       "    }\n",
       "</style>\n",
       "<table border=\"1\" class=\"dataframe\">\n",
       "  <thead>\n",
       "    <tr style=\"text-align: right;\">\n",
       "      <th></th>\n",
       "      <th>index</th>\n",
       "      <th>app_id</th>\n",
       "      <th>app_name</th>\n",
       "      <th>review_text</th>\n",
       "      <th>review_score</th>\n",
       "      <th>review_votes</th>\n",
       "      <th>num_of_words</th>\n",
       "    </tr>\n",
       "  </thead>\n",
       "  <tbody>\n",
       "    <tr>\n",
       "      <th>1714733</th>\n",
       "      <td>2158625</td>\n",
       "      <td>238960</td>\n",
       "      <td>Path of Exile</td>\n",
       "      <td>Having never played Diablo 3 but loving the se...</td>\n",
       "      <td>1</td>\n",
       "      <td>0</td>\n",
       "      <td>51</td>\n",
       "    </tr>\n",
       "    <tr>\n",
       "      <th>3049928</th>\n",
       "      <td>4035218</td>\n",
       "      <td>312990</td>\n",
       "      <td>The Expendabros</td>\n",
       "      <td>Guns, explosions, muscles, and manly character...</td>\n",
       "      <td>0</td>\n",
       "      <td>0</td>\n",
       "      <td>50</td>\n",
       "    </tr>\n",
       "    <tr>\n",
       "      <th>3174509</th>\n",
       "      <td>4202570</td>\n",
       "      <td>323470</td>\n",
       "      <td>DRAGON BALL XENOVERSE</td>\n",
       "      <td>He's name is Goku, Son-Goku and he's nice. The...</td>\n",
       "      <td>1</td>\n",
       "      <td>1</td>\n",
       "      <td>11</td>\n",
       "    </tr>\n",
       "    <tr>\n",
       "      <th>2999189</th>\n",
       "      <td>3975619</td>\n",
       "      <td>310950</td>\n",
       "      <td>Street Fighter V</td>\n",
       "      <td>Offline is fine now that there's some single p...</td>\n",
       "      <td>0</td>\n",
       "      <td>1</td>\n",
       "      <td>163</td>\n",
       "    </tr>\n",
       "    <tr>\n",
       "      <th>1854934</th>\n",
       "      <td>2309233</td>\n",
       "      <td>241930</td>\n",
       "      <td>Middle-earth™: Shadow of Mordor™</td>\n",
       "      <td>Simply brilliant. I'm still astonished with th...</td>\n",
       "      <td>1</td>\n",
       "      <td>0</td>\n",
       "      <td>103</td>\n",
       "    </tr>\n",
       "  </tbody>\n",
       "</table>\n",
       "</div>"
      ],
      "text/plain": [
       "           index  app_id                          app_name  \\\n",
       "1714733  2158625  238960                     Path of Exile   \n",
       "3049928  4035218  312990                   The Expendabros   \n",
       "3174509  4202570  323470             DRAGON BALL XENOVERSE   \n",
       "2999189  3975619  310950                  Street Fighter V   \n",
       "1854934  2309233  241930  Middle-earth™: Shadow of Mordor™   \n",
       "\n",
       "                                               review_text  review_score  \\\n",
       "1714733  Having never played Diablo 3 but loving the se...             1   \n",
       "3049928  Guns, explosions, muscles, and manly character...             0   \n",
       "3174509  He's name is Goku, Son-Goku and he's nice. The...             1   \n",
       "2999189  Offline is fine now that there's some single p...             0   \n",
       "1854934  Simply brilliant. I'm still astonished with th...             1   \n",
       "\n",
       "         review_votes  num_of_words  \n",
       "1714733             0            51  \n",
       "3049928             0            50  \n",
       "3174509             1            11  \n",
       "2999189             1           163  \n",
       "1854934             0           103  "
      ]
     },
     "execution_count": 51,
     "metadata": {},
     "output_type": "execute_result"
    }
   ],
   "source": [
    "dataset_imbal.head()"
   ]
  },
  {
   "cell_type": "code",
   "execution_count": 52,
   "metadata": {},
   "outputs": [
    {
     "name": "stdout",
     "output_type": "stream",
     "text": [
      "<class 'pandas.core.frame.DataFrame'>\n",
      "Index: 480000 entries, 4390152 to 3122119\n",
      "Data columns (total 7 columns):\n",
      " #   Column        Non-Null Count   Dtype \n",
      "---  ------        --------------   ----- \n",
      " 0   index         480000 non-null  int64 \n",
      " 1   app_id        480000 non-null  int64 \n",
      " 2   app_name      480000 non-null  object\n",
      " 3   review_text   480000 non-null  object\n",
      " 4   review_score  480000 non-null  int64 \n",
      " 5   review_votes  480000 non-null  int64 \n",
      " 6   num_of_words  480000 non-null  int64 \n",
      "dtypes: int64(5), object(2)\n",
      "memory usage: 29.3+ MB\n"
     ]
    }
   ],
   "source": [
    "dataset_bal.info()"
   ]
  },
  {
   "cell_type": "code",
   "execution_count": 53,
   "metadata": {},
   "outputs": [
    {
     "data": {
      "text/html": [
       "<style type=\"text/css\">\n",
       "#T_ea7e0_row0_col0, #T_ea7e0_row0_col1, #T_ea7e0_row1_col1 {\n",
       "  background-color: #fcfbfd;\n",
       "  color: #000000;\n",
       "}\n",
       "#T_ea7e0_row1_col0 {\n",
       "  background-color: #3f007d;\n",
       "  color: #f1f1f1;\n",
       "}\n",
       "</style>\n",
       "<table id=\"T_ea7e0\">\n",
       "  <thead>\n",
       "    <tr>\n",
       "      <th class=\"blank level0\" >&nbsp;</th>\n",
       "      <th id=\"T_ea7e0_level0_col0\" class=\"col_heading level0 col0\" >review_score</th>\n",
       "      <th id=\"T_ea7e0_level0_col1\" class=\"col_heading level0 col1\" >review_text</th>\n",
       "    </tr>\n",
       "  </thead>\n",
       "  <tbody>\n",
       "    <tr>\n",
       "      <th id=\"T_ea7e0_level0_row0\" class=\"row_heading level0 row0\" >0</th>\n",
       "      <td id=\"T_ea7e0_row0_col0\" class=\"data row0 col0\" >0</td>\n",
       "      <td id=\"T_ea7e0_row0_col1\" class=\"data row0 col1\" >240000</td>\n",
       "    </tr>\n",
       "    <tr>\n",
       "      <th id=\"T_ea7e0_level0_row1\" class=\"row_heading level0 row1\" >1</th>\n",
       "      <td id=\"T_ea7e0_row1_col0\" class=\"data row1 col0\" >1</td>\n",
       "      <td id=\"T_ea7e0_row1_col1\" class=\"data row1 col1\" >240000</td>\n",
       "    </tr>\n",
       "  </tbody>\n",
       "</table>\n"
      ],
      "text/plain": [
       "<pandas.io.formats.style.Styler at 0x7f545528f370>"
      ]
     },
     "execution_count": 53,
     "metadata": {},
     "output_type": "execute_result"
    }
   ],
   "source": [
    "temp = dataset_bal.groupby('review_score').count()['review_text'].reset_index().sort_values(by='review_score',ascending=True)\n",
    "temp.style.background_gradient(cmap='Purples')"
   ]
  },
  {
   "cell_type": "code",
   "execution_count": 54,
   "metadata": {},
   "outputs": [
    {
     "data": {
      "text/html": [
       "<div>\n",
       "<style scoped>\n",
       "    .dataframe tbody tr th:only-of-type {\n",
       "        vertical-align: middle;\n",
       "    }\n",
       "\n",
       "    .dataframe tbody tr th {\n",
       "        vertical-align: top;\n",
       "    }\n",
       "\n",
       "    .dataframe thead th {\n",
       "        text-align: right;\n",
       "    }\n",
       "</style>\n",
       "<table border=\"1\" class=\"dataframe\">\n",
       "  <thead>\n",
       "    <tr style=\"text-align: right;\">\n",
       "      <th></th>\n",
       "      <th>index</th>\n",
       "      <th>app_id</th>\n",
       "      <th>app_name</th>\n",
       "      <th>review_text</th>\n",
       "      <th>review_score</th>\n",
       "      <th>review_votes</th>\n",
       "      <th>num_of_words</th>\n",
       "    </tr>\n",
       "  </thead>\n",
       "  <tbody>\n",
       "    <tr>\n",
       "      <th>4390152</th>\n",
       "      <td>5845320</td>\n",
       "      <td>49540</td>\n",
       "      <td>Aliens: Colonial Marines</td>\n",
       "      <td>Absolutely Terrible.</td>\n",
       "      <td>0</td>\n",
       "      <td>0</td>\n",
       "      <td>2</td>\n",
       "    </tr>\n",
       "    <tr>\n",
       "      <th>2967287</th>\n",
       "      <td>3925305</td>\n",
       "      <td>306680</td>\n",
       "      <td>Lexica</td>\n",
       "      <td>You can't replay old levels wtf??</td>\n",
       "      <td>0</td>\n",
       "      <td>0</td>\n",
       "      <td>6</td>\n",
       "    </tr>\n",
       "    <tr>\n",
       "      <th>3940563</th>\n",
       "      <td>5220173</td>\n",
       "      <td>397950</td>\n",
       "      <td>Clustertruck</td>\n",
       "      <td>good, if yu have a fast computer</td>\n",
       "      <td>0</td>\n",
       "      <td>0</td>\n",
       "      <td>7</td>\n",
       "    </tr>\n",
       "    <tr>\n",
       "      <th>499487</th>\n",
       "      <td>556279</td>\n",
       "      <td>203750</td>\n",
       "      <td>Binary Domain</td>\n",
       "      <td>The core gameplay is mostly enjoyable, but it'...</td>\n",
       "      <td>0</td>\n",
       "      <td>0</td>\n",
       "      <td>93</td>\n",
       "    </tr>\n",
       "    <tr>\n",
       "      <th>1854934</th>\n",
       "      <td>2309233</td>\n",
       "      <td>241930</td>\n",
       "      <td>Middle-earth™: Shadow of Mordor™</td>\n",
       "      <td>Simply brilliant. I'm still astonished with th...</td>\n",
       "      <td>1</td>\n",
       "      <td>0</td>\n",
       "      <td>103</td>\n",
       "    </tr>\n",
       "  </tbody>\n",
       "</table>\n",
       "</div>"
      ],
      "text/plain": [
       "           index  app_id                          app_name  \\\n",
       "4390152  5845320   49540          Aliens: Colonial Marines   \n",
       "2967287  3925305  306680                            Lexica   \n",
       "3940563  5220173  397950                      Clustertruck   \n",
       "499487    556279  203750                     Binary Domain   \n",
       "1854934  2309233  241930  Middle-earth™: Shadow of Mordor™   \n",
       "\n",
       "                                               review_text  review_score  \\\n",
       "4390152                               Absolutely Terrible.             0   \n",
       "2967287                  You can't replay old levels wtf??             0   \n",
       "3940563                   good, if yu have a fast computer             0   \n",
       "499487   The core gameplay is mostly enjoyable, but it'...             0   \n",
       "1854934  Simply brilliant. I'm still astonished with th...             1   \n",
       "\n",
       "         review_votes  num_of_words  \n",
       "4390152             0             2  \n",
       "2967287             0             6  \n",
       "3940563             0             7  \n",
       "499487              0            93  \n",
       "1854934             0           103  "
      ]
     },
     "execution_count": 54,
     "metadata": {},
     "output_type": "execute_result"
    }
   ],
   "source": [
    "dataset_bal.head()"
   ]
  },
  {
   "cell_type": "code",
   "execution_count": 55,
   "metadata": {},
   "outputs": [
    {
     "name": "stdout",
     "output_type": "stream",
     "text": [
      "<class 'pandas.core.frame.DataFrame'>\n",
      "RangeIndex: 320000 entries, 0 to 319999\n",
      "Data columns (total 13 columns):\n",
      " #   Column          Non-Null Count   Dtype \n",
      "---  ------          --------------   ----- \n",
      " 0   index           320000 non-null  int64 \n",
      " 1   app_id_x        320000 non-null  int64 \n",
      " 2   app_name_x      320000 non-null  object\n",
      " 3   review_text_x   320000 non-null  object\n",
      " 4   review_score_x  320000 non-null  int64 \n",
      " 5   review_votes_x  320000 non-null  int64 \n",
      " 6   num_of_words_x  320000 non-null  int64 \n",
      " 7   app_id_y        320000 non-null  int64 \n",
      " 8   app_name_y      320000 non-null  object\n",
      " 9   review_text_y   320000 non-null  object\n",
      " 10  review_score_y  320000 non-null  int64 \n",
      " 11  review_votes_y  320000 non-null  int64 \n",
      " 12  num_of_words_y  320000 non-null  int64 \n",
      "dtypes: int64(9), object(4)\n",
      "memory usage: 31.7+ MB\n"
     ]
    }
   ],
   "source": [
    "# common rows in both dataset_bal and dataset_imbal\n",
    "\n",
    "common = pd.merge(dataset_bal, dataset_imbal, how='inner', on=['index'])\n",
    "common.info()"
   ]
  },
  {
   "cell_type": "markdown",
   "metadata": {},
   "source": [
    "---"
   ]
  },
  {
   "cell_type": "markdown",
   "metadata": {},
   "source": [
    "Save dataset for training/testing/validation"
   ]
  },
  {
   "cell_type": "code",
   "execution_count": 56,
   "metadata": {},
   "outputs": [],
   "source": [
    "from datetime import datetime\n",
    "\n",
    "dataset_output_folder_path = Path('sampled_{}k_{}/'.format(int(N_total/1000), datetime.today().strftime(\"%Y-%m-%d\"))).resolve()\n",
    "dataset_val_output_folder_path = Path('sampled_valid_{}/'.format(datetime.today().strftime(\"%Y-%m-%d\"))).resolve()\n",
    "\n",
    "if not dataset_output_folder_path.exists():\n",
    "    dataset_output_folder_path.mkdir(parents=True, exist_ok=True)\n",
    "\n",
    "if not dataset_val_output_folder_path.exists():\n",
    "    dataset_val_output_folder_path.mkdir(parents=True, exist_ok=True)"
   ]
  },
  {
   "cell_type": "code",
   "execution_count": 57,
   "metadata": {},
   "outputs": [],
   "source": [
    "# save datasets\n",
    "\n",
    "if not Path(dataset_val_output_folder_path, 'validation_balanced.pkl').exists():\n",
    "    validation_balanced_df.to_pickle(dataset_val_output_folder_path / 'validation_balanced.pkl')\n",
    "\n",
    "if not Path(dataset_val_output_folder_path, 'validation_imbalanced.pkl').exists():\n",
    "    validation_imbalanced_df.to_pickle(dataset_val_output_folder_path / 'validation_imbalanced.pkl')\n",
    "\n",
    "dataset_bal.to_pickle(dataset_output_folder_path / 'dataset_bal_sampled_{}k.pkl'.format(int(N_total/1000)))\n",
    "dataset_imbal.to_pickle(dataset_output_folder_path / 'dataset_imbal_sampled_{}k.pkl'.format(int(N_total/1000)))\n"
   ]
  },
  {
   "cell_type": "markdown",
   "metadata": {},
   "source": []
  }
 ],
 "metadata": {
  "kernelspec": {
   "display_name": "fyp-test-wsl",
   "language": "python",
   "name": "python3"
  },
  "language_info": {
   "codemirror_mode": {
    "name": "ipython",
    "version": 3
   },
   "file_extension": ".py",
   "mimetype": "text/x-python",
   "name": "python",
   "nbconvert_exporter": "python",
   "pygments_lexer": "ipython3",
   "version": "3.9.18"
  }
 },
 "nbformat": 4,
 "nbformat_minor": 2
}
