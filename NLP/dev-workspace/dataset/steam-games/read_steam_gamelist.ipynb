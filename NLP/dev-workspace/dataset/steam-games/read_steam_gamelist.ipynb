{
 "cells": [
  {
   "cell_type": "code",
   "execution_count": 1,
   "metadata": {},
   "outputs": [],
   "source": [
    "import pandas as pd\n",
    "import pickle\n",
    "\n",
    "from pathlib import Path"
   ]
  },
  {
   "cell_type": "code",
   "execution_count": 2,
   "metadata": {},
   "outputs": [],
   "source": [
    "def load_pickle(path_to_load:Path) -> dict:\n",
    "    obj = pickle.load(open(path_to_load, \"rb\"))\n",
    "    # print(f'Successfully loaded {str(path_to_load)}')\n",
    "    \n",
    "    return obj"
   ]
  },
  {
   "cell_type": "code",
   "execution_count": 6,
   "metadata": {},
   "outputs": [],
   "source": [
    "apps_dict_filename = 'apps_dict-ckpt-20231017143419.p'\n",
    "exc_apps_filename = 'excluded_apps_list-ckpt-20231017143419.p'\n",
    "error_apps_filename = 'error_apps_list-ckpt-20231017143419.p'\n",
    "\n",
    "folder = Path('Steam Gamelist')\n",
    "\n",
    "\n",
    "apps_dict = load_pickle(folder.joinpath(apps_dict_filename))\n",
    "exc_apps = load_pickle(folder.joinpath(exc_apps_filename))\n",
    "error_apps = load_pickle(folder.joinpath(error_apps_filename))"
   ]
  },
  {
   "cell_type": "code",
   "execution_count": 7,
   "metadata": {},
   "outputs": [
    {
     "data": {
      "text/plain": [
       "(157068, 15834, 0)"
      ]
     },
     "execution_count": 7,
     "metadata": {},
     "output_type": "execute_result"
    }
   ],
   "source": [
    "len(apps_dict), len(exc_apps), len(error_apps)"
   ]
  },
  {
   "cell_type": "code",
   "execution_count": null,
   "metadata": {},
   "outputs": [],
   "source": []
  }
 ],
 "metadata": {
  "kernelspec": {
   "display_name": "fyp-test",
   "language": "python",
   "name": "python3"
  },
  "language_info": {
   "codemirror_mode": {
    "name": "ipython",
    "version": 3
   },
   "file_extension": ".py",
   "mimetype": "text/x-python",
   "name": "python",
   "nbconvert_exporter": "python",
   "pygments_lexer": "ipython3",
   "version": "3.9.18"
  }
 },
 "nbformat": 4,
 "nbformat_minor": 2
}
