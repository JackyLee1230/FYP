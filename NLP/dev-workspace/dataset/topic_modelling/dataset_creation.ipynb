{
 "cells": [
  {
   "cell_type": "markdown",
   "metadata": {},
   "source": [
    "Create dataset from cleaned heartless dataset\n",
    "\n",
    "Select a game for testing"
   ]
  },
  {
   "cell_type": "code",
   "execution_count": 1,
   "metadata": {},
   "outputs": [
    {
     "name": "stdout",
     "output_type": "stream",
     "text": [
      "<class 'pandas.core.frame.DataFrame'>\n",
      "RangeIndex: 4891928 entries, 0 to 4891927\n",
      "Data columns (total 6 columns):\n",
      " #   Column        Dtype \n",
      "---  ------        ----- \n",
      " 0   index         int64 \n",
      " 1   app_id        int64 \n",
      " 2   app_name      object\n",
      " 3   review_text   object\n",
      " 4   review_score  int64 \n",
      " 5   review_votes  int64 \n",
      "dtypes: int64(4), object(2)\n",
      "memory usage: 223.9+ MB\n"
     ]
    }
   ],
   "source": [
    "import pandas as pd\n",
    "import numpy as np\n",
    "import matplotlib.pyplot as plt\n",
    "import seaborn as sns\n",
    "\n",
    "\n",
    "from pathlib import Path\n",
    "import random\n",
    "\n",
    "random.seed(13)\n",
    "\n",
    "dataset_heartless_path = Path('../../dataset/sa/dataset_cleaned_heartless.pkl').resolve()\n",
    "\n",
    "dataset = pd.read_pickle(dataset_heartless_path)\n",
    "# dataset = dataset.sample(frac=p)      # no sampling is needed\n",
    "\n",
    "# convert the text to string object\n",
    "dataset['review_text'] = dataset['review_text'].astype('str')\n",
    "\n",
    "# drop any duplicate just in case\n",
    "dataset = dataset.drop_duplicates(keep='first')\n",
    "\n",
    "# replace -1 to 0\n",
    "# then 0 = negative, 1 = positive\n",
    "# for easier processing\n",
    "dataset['review_score'] = dataset['review_score'].replace(-1, 0)\n",
    "\n",
    "dataset.info()"
   ]
  },
  {
   "cell_type": "markdown",
   "metadata": {},
   "source": [
    "check unique games"
   ]
  },
  {
   "cell_type": "code",
   "execution_count": 2,
   "metadata": {},
   "outputs": [
    {
     "data": {
      "text/html": [
       "<div>\n",
       "<style scoped>\n",
       "    .dataframe tbody tr th:only-of-type {\n",
       "        vertical-align: middle;\n",
       "    }\n",
       "\n",
       "    .dataframe tbody tr th {\n",
       "        vertical-align: top;\n",
       "    }\n",
       "\n",
       "    .dataframe thead th {\n",
       "        text-align: right;\n",
       "    }\n",
       "</style>\n",
       "<table border=\"1\" class=\"dataframe\">\n",
       "  <thead>\n",
       "    <tr style=\"text-align: right;\">\n",
       "      <th></th>\n",
       "      <th>app_id</th>\n",
       "      <th>app_name</th>\n",
       "      <th>review_count</th>\n",
       "    </tr>\n",
       "  </thead>\n",
       "  <tbody>\n",
       "    <tr>\n",
       "      <th>1158</th>\n",
       "      <td>105600</td>\n",
       "      <td>Terraria</td>\n",
       "      <td>81776</td>\n",
       "    </tr>\n",
       "    <tr>\n",
       "      <th>1528</th>\n",
       "      <td>218620</td>\n",
       "      <td>PAYDAY 2</td>\n",
       "      <td>78327</td>\n",
       "    </tr>\n",
       "    <tr>\n",
       "      <th>22</th>\n",
       "      <td>570</td>\n",
       "      <td>Dota 2</td>\n",
       "      <td>66635</td>\n",
       "    </tr>\n",
       "    <tr>\n",
       "      <th>2094</th>\n",
       "      <td>252950</td>\n",
       "      <td>Rocket League</td>\n",
       "      <td>51209</td>\n",
       "    </tr>\n",
       "    <tr>\n",
       "      <th>5776</th>\n",
       "      <td>391540</td>\n",
       "      <td>Undertale</td>\n",
       "      <td>49288</td>\n",
       "    </tr>\n",
       "    <tr>\n",
       "      <th>21</th>\n",
       "      <td>550</td>\n",
       "      <td>Left 4 Dead 2</td>\n",
       "      <td>47680</td>\n",
       "    </tr>\n",
       "    <tr>\n",
       "      <th>1693</th>\n",
       "      <td>230410</td>\n",
       "      <td>Warframe</td>\n",
       "      <td>45278</td>\n",
       "    </tr>\n",
       "    <tr>\n",
       "      <th>23</th>\n",
       "      <td>620</td>\n",
       "      <td>Portal 2</td>\n",
       "      <td>37775</td>\n",
       "    </tr>\n",
       "    <tr>\n",
       "      <th>2510</th>\n",
       "      <td>271590</td>\n",
       "      <td>Grand Theft Auto V</td>\n",
       "      <td>37106</td>\n",
       "    </tr>\n",
       "    <tr>\n",
       "      <th>501</th>\n",
       "      <td>22380</td>\n",
       "      <td>Fallout: New Vegas</td>\n",
       "      <td>30823</td>\n",
       "    </tr>\n",
       "  </tbody>\n",
       "</table>\n",
       "</div>"
      ],
      "text/plain": [
       "      app_id            app_name  review_count\n",
       "1158  105600            Terraria         81776\n",
       "1528  218620            PAYDAY 2         78327\n",
       "22       570              Dota 2         66635\n",
       "2094  252950       Rocket League         51209\n",
       "5776  391540           Undertale         49288\n",
       "21       550       Left 4 Dead 2         47680\n",
       "1693  230410            Warframe         45278\n",
       "23       620            Portal 2         37775\n",
       "2510  271590  Grand Theft Auto V         37106\n",
       "501    22380  Fallout: New Vegas         30823"
      ]
     },
     "execution_count": 2,
     "metadata": {},
     "output_type": "execute_result"
    }
   ],
   "source": [
    "# check unique games and sort by number of reviews\n",
    "\n",
    "# get the unique game names\n",
    "unique_games_id = dataset['app_id'].unique()\n",
    "\n",
    "# get the number of reviews for each game\n",
    "unique_games_review_count = dataset.groupby(['app_id', 'app_name']).size().reset_index(name='review_count')\n",
    "\n",
    "# sort the games by number of reviews\n",
    "unique_games_review_count = unique_games_review_count.sort_values(by=['review_count'], ascending=False)\n",
    "\n",
    "# get the top 10 games with most reviews\n",
    "top_10_games = unique_games_review_count.head(10)\n",
    "\n",
    "top_10_games\n"
   ]
  },
  {
   "cell_type": "code",
   "execution_count": 5,
   "metadata": {},
   "outputs": [
    {
     "name": "stdout",
     "output_type": "stream",
     "text": [
      "Processing Terraria...\n",
      "Processing PAYDAY 2...\n",
      "Processing Dota 2...\n",
      "Processing Rocket League...\n",
      "Processing Undertale...\n",
      "Processing Left 4 Dead 2...\n",
      "Processing Warframe...\n",
      "Processing Portal 2...\n",
      "Processing Grand Theft Auto V...\n",
      "Processing Fallout: New Vegas...\n"
     ]
    }
   ],
   "source": [
    "# save the reviews of each top 10 games to a separate pkl file\n",
    "\n",
    "for n, (index, row) in enumerate(top_10_games.iterrows()):\n",
    "    app_id = row['app_id']\n",
    "    app_name = row['app_name']\n",
    "    print(f'Processing {app_name}...')\n",
    "    game_reviews = dataset.loc[dataset['app_id'] == app_id]\n",
    "\n",
    "    save_path = Path(f'../topic_modelling/top_10_games/{n:02}_{app_name}.pkl').resolve()\n",
    "    if not save_path.parent.exists():\n",
    "        save_path.parent.mkdir(parents=True)\n",
    "        \n",
    "    game_reviews.to_pickle(save_path)"
   ]
  },
  {
   "cell_type": "code",
   "execution_count": null,
   "metadata": {},
   "outputs": [],
   "source": []
  }
 ],
 "metadata": {
  "kernelspec": {
   "display_name": "fyp-test2",
   "language": "python",
   "name": "python3"
  },
  "language_info": {
   "codemirror_mode": {
    "name": "ipython",
    "version": 3
   },
   "file_extension": ".py",
   "mimetype": "text/x-python",
   "name": "python",
   "nbconvert_exporter": "python",
   "pygments_lexer": "ipython3",
   "version": "3.9.18"
  }
 },
 "nbformat": 4,
 "nbformat_minor": 2
}
