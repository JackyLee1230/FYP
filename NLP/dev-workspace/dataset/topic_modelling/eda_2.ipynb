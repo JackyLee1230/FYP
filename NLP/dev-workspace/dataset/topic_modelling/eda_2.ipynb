{
 "cells": [
  {
   "cell_type": "markdown",
   "metadata": {},
   "source": [
    "EDA 2\n",
    "\n",
    "focus on word frequency and stopword database\n",
    "\n",
    "May need to custom build stopword just for LDA ??"
   ]
  },
  {
   "cell_type": "code",
   "execution_count": 28,
   "metadata": {},
   "outputs": [
    {
     "name": "stdout",
     "output_type": "stream",
     "text": [
      "<class 'pandas.core.frame.DataFrame'>\n",
      "Index: 4180148 entries, 0 to 4891927\n",
      "Data columns (total 6 columns):\n",
      " #   Column        Dtype \n",
      "---  ------        ----- \n",
      " 0   index         int64 \n",
      " 1   app_id        int64 \n",
      " 2   app_name      object\n",
      " 3   review_text   object\n",
      " 4   review_score  int64 \n",
      " 5   review_votes  int64 \n",
      "dtypes: int64(4), object(2)\n",
      "memory usage: 223.2+ MB\n"
     ]
    }
   ],
   "source": [
    "import pandas as pd\n",
    "import numpy as np\n",
    "import matplotlib.pyplot as plt\n",
    "import seaborn as sns\n",
    "\n",
    "\n",
    "from pathlib import Path\n",
    "import random\n",
    "\n",
    "random.seed(13)\n",
    "\n",
    "dataset_heartless_path = Path('../../dataset/sa/dataset_heartless_20240116.pkl').resolve()\n",
    "\n",
    "dataset = pd.read_pickle(dataset_heartless_path)\n",
    "# dataset = dataset.sample(frac=p)      # no sampling is needed\n",
    "\n",
    "# convert the text to string object\n",
    "dataset['review_text'] = dataset['review_text'].astype('str')\n",
    "\n",
    "# drop any duplicate just in case\n",
    "dataset = dataset.drop_duplicates(keep='first', subset=['review_text', 'review_score', 'review_votes', 'app_id'])\n",
    "\n",
    "# replace -1 to 0\n",
    "# then 0 = negative, 1 = positive\n",
    "# for easier processing\n",
    "dataset['review_score'] = dataset['review_score'].replace(-1, 0)\n",
    "\n",
    "dataset.info()"
   ]
  },
  {
   "cell_type": "markdown",
   "metadata": {},
   "source": [
    "Playground to test various pre-processing specailly for topic modelling"
   ]
  },
  {
   "cell_type": "code",
   "execution_count": 18,
   "metadata": {},
   "outputs": [],
   "source": [
    "# data preprocessing\n",
    "\n",
    "import re\n",
    "\n",
    "def clean(raw):\n",
    "    \"\"\" Remove hyperlinks and markup \"\"\"\n",
    "    result = re.sub(\"<[a][^>]*>(.+?)</[a]>\", ' ', raw)      # remove html, or xml tags\n",
    "    result = re.sub('&gt;', \">\", result)\n",
    "    result = re.sub('&lt;', \"<\", result)\n",
    "    result = re.sub('&#x27;', \"'\", result)\n",
    "    result = re.sub('&quot;', '\"', result)\n",
    "    result = re.sub('&#x2F;', ' ', result)\n",
    "    result = re.sub('<p>', ' ', result)\n",
    "    result = re.sub('</i>', ' ', result)\n",
    "    result = re.sub('&#62;', ' ', result)\n",
    "    result = re.sub('<i>', ' ', result)\n",
    "    result = re.sub(\"\\n\", ' ', result)\n",
    "    return result\n",
    "\n",
    "def deEmojify(x):\n",
    "    regrex_pattern = re.compile(pattern = \"[\"\n",
    "        u\"\\U0001F600-\\U0001F64F\"  # emoticons\n",
    "        u\"\\U0001F300-\\U0001F5FF\"  # symbols & pictographs\n",
    "        u\"\\U0001F680-\\U0001F6FF\"  # transport & map symbols\n",
    "        u\"\\U0001F1E0-\\U0001F1FF\"  # flags (iOS)\n",
    "                           \"]+\", flags = re.UNICODE)\n",
    "    return regrex_pattern.sub(r'', x)\n",
    "\n",
    "def remove_links(x):\n",
    "    '''Ref: https://stackoverflow.com/questions/11331982/how-to-remove-any-url-within-a-string-in-python'''\n",
    "    cleaned_string = re.sub(r'(https?:\\/\\/)(\\s)*(www\\.)?(\\s)*((\\w|\\s)+\\.)*([\\w\\-\\s]+\\/)*([\\w\\-]+)((\\?)?[\\w\\s]*=\\s*[\\w\\%&]*)*', ' ', x)\n",
    "    return cleaned_string\n",
    "\n",
    "def remove_links2(x):\n",
    "    '''Ref: https://stackoverflow.com/questions/11331982/how-to-remove-any-url-within-a-string-in-python'''\n",
    "    cleaned_string = re.sub('[^ ]+\\.[^ ]+',' ',x)\n",
    "    return cleaned_string\n",
    "\n",
    "\n",
    "def unify_whitespaces(x):\n",
    "    cleaned_string = re.sub(' +', ' ', x)\n",
    "    return cleaned_string\n",
    "\n",
    "from nltk.corpus import stopwords\n",
    "stop=set(stopwords.words(\"english\"))\n",
    "def remove_stopword(text):\n",
    "   text=[word.lower() for word in text.split() if word.lower() not in stop]\n",
    "   return \" \".join(text)\n",
    "\n",
    "# only keep alphabets\n",
    "def remove_non_alphabets(text):\n",
    "    text = re.sub(r'[^a-zA-Z ]', ' ', text)\n",
    "    return text\n",
    "\n",
    "def cleaning(df, review):\n",
    "    df[review] = df[review].apply(lambda x: remove_links(x))\n",
    "    df[review] = df[review].apply(lambda x: remove_links2(x))\n",
    "    df[review] = df[review].apply(lambda x: clean(x))\n",
    "    df[review] = df[review].apply(lambda x: deEmojify(x))\n",
    "    df[review] = df[review].apply(lambda x: remove_non_alphabets(x))\n",
    "    df[review] = df[review].apply(lambda x: x.lower())\n",
    "    df[review] = df[review].apply(lambda x: unify_whitespaces(x))\n",
    "    df[review] = df[review].apply(lambda x: remove_stopword(x))"
   ]
  },
  {
   "cell_type": "code",
   "execution_count": 19,
   "metadata": {},
   "outputs": [],
   "source": [
    "# apply data preprocessing\n",
    "\n",
    "cleaning(dataset, 'review_text')"
   ]
  },
  {
   "cell_type": "code",
   "execution_count": 20,
   "metadata": {},
   "outputs": [
    {
     "name": "stdout",
     "output_type": "stream",
     "text": [
      "581651\n",
      "[('game', 6384611), ('like', 1349853), ('play', 1089248), ('good', 1012459), ('one', 994980), ('get', 972518), ('fun', 966928), ('great', 852133), ('really', 851573), ('games', 836411), ('time', 770477), ('story', 710529), ('would', 665477), ('even', 609491), ('much', 560838), ('played', 520808), ('well', 513021), ('best', 501376), ('first', 476455), ('still', 463988), ('playing', 458463), ('also', 449638), ('gameplay', 434690), ('make', 414268), ('love', 392149), ('hours', 386086), ('buy', 382330), ('way', 373727), ('new', 368916), ('recommend', 364334), ('want', 359334), ('better', 359086), ('worth', 348116), ('lot', 348082), ('people', 341369), ('many', 333334), ('ever', 331922), ('graphics', 328118), ('go', 320540), ('pretty', 319729), ('little', 298737), ('amazing', 290992), ('could', 287548), ('every', 286277), ('feel', 284013), ('say', 283240), ('got', 281064), ('think', 280756), ('bad', 271882), ('bit', 269147), ('see', 263434), ('though', 263414), ('things', 261858), ('find', 251783), ('made', 251664), ('nice', 250765), ('back', 245702), ('world', 245089), ('different', 244826), ('know', 240828), ('characters', 239622), ('never', 235069), ('need', 230175), ('awesome', 229668), ('around', 229312), ('level', 225470), ('hard', 223051), ('combat', 220990), ('something', 220254), ('experience', 216711), ('give', 215222), ('thing', 214872), ('free', 214311), ('money', 213499), ('far', 209626), ('makes', 208841), ('character', 206083), ('steam', 204669), ('system', 203091), ('use', 201182), ('enough', 199777), ('long', 199320), ('player', 199248), ('try', 199032), ('times', 194233), ('friends', 194144), ('take', 193930), ('going', 192691), ('right', 192234), ('actually', 189715), ('everything', 187294), ('end', 187037), ('short', 186464), ('interesting', 185969), ('quite', 185647), ('easy', 184229), ('however', 181272), ('since', 179994), ('music', 179780), ('work', 177571), ('start', 176317), ('without', 175499), ('enjoy', 175039), ('overall', 174904), ('old', 172741), ('look', 169506), ('review', 162547), ('point', 161264), ('two', 160884), ('price', 159906), ('life', 157817), ('multiplayer', 156140), ('run', 154156), ('players', 153783), ('nothing', 153390), ('real', 152973), ('looking', 152239), ('keep', 151476), ('simple', 150849), ('may', 150193), ('getting', 148717), ('weapons', 148194), ('series', 146941), ('pc', 146666), ('fps', 146456), ('style', 145708), ('enemies', 144763), ('always', 143396), ('another', 143199), ('sale', 142967), ('must', 142477), ('dlc', 141542), ('feels', 141132), ('mode', 139114), ('sure', 138737), ('full', 137328), ('yet', 136039), ('probably', 136015), ('levels', 135903), ('definitely', 134825), ('might', 134303), ('kill', 133323), ('dont', 132987), ('part', 130574), ('controls', 130377), ('done', 129499), ('anything', 129275), ('cool', 128183), ('put', 128066), ('rpg', 127074), ('mechanics', 126866), ('puzzles', 125065), ('original', 123815), ('based', 123627), ('action', 123286), ('come', 122849), ('content', 121866), ('let', 121340), ('found', 121134), ('almost', 120417), ('highly', 119543), ('anyone', 118545), ('fan', 117431), ('version', 115271), ('main', 114945), ('single', 114732), ('years', 114355), ('bought', 113939), ('gets', 113525), ('big', 111807), ('unique', 111241), ('beautiful', 111209), ('click', 109939), ('kind', 109872), ('sometimes', 109623), ('trying', 109609), ('making', 109500), ('especially', 109083), ('art', 108977), ('said', 108260), ('stuff', 108230), ('least', 107689), ('day', 107660), ('boring', 106915), ('last', 105855), ('able', 105752), ('maybe', 105564), ('seems', 105406), ('turn', 104871), ('everyone', 104414), ('used', 104370), ('next', 104201), ('map', 102149), ('less', 101319), ('high', 101096), ('already', 100692), ('bugs', 100657), ('online', 100560), ('fast', 100499), ('yes', 100377), ('space', 100348), ('war', 100120), ('lots', 100012), ('whole', 99804), ('issues', 99485), ('thought', 99339), ('enjoyed', 99327), ('wait', 99184), ('side', 98711), ('looks', 98577), ('fantastic', 98442), ('puzzle', 97822), ('minutes', 97615), ('enemy', 97343), ('missions', 96542), ('away', 95961), ('problem', 94484), ('open', 94477), ('difficulty', 93957), ('challenging', 93839), ('items', 93638), ('ai', 93175), ('person', 92962), ('pay', 92823), ('rather', 92682), ('difficult', 92301), ('design', 92019), ('enjoyable', 91591), ('help', 91388), ('instead', 90927), ('team', 90761), ('either', 90464), ('complete', 90238), ('takes', 90041), ('perfect', 89772), ('voice', 89592), ('half', 89544), ('amount', 88934), ('die', 88835), ('strategy', 88410), ('set', 87687), ('soundtrack', 87266), ('community', 87236), ('reason', 86505), ('although', 86247), ('dark', 85371), ('add', 85257), ('sound', 85242), ('cons', 84933), ('absolutely', 84823), ('super', 84689), ('change', 84066), ('simply', 83890), ('amp', 83694), ('fact', 83296), ('top', 83065), ('campaign', 82648), ('beat', 82634), ('second', 82618), ('using', 82084), ('small', 81752), ('pick', 81349), ('left', 81067), ('shooter', 80767), ('adventure', 80480), ('fight', 79942), ('decent', 79806), ('screen', 79526), ('huge', 79358), ('pros', 79351), ('favorite', 79277), ('dead', 78687), ('loved', 78486), ('maps', 78314), ('mind', 77715), ('else', 77505), ('save', 77047), ('hope', 76997), ('op', 76434), ('wish', 76233), ('seen', 75969), ('felt', 74586), ('boss', 74439), ('stop', 74405), ('solid', 74290), ('win', 73943), ('someone', 73470), ('support', 73447), ('buying', 73372), ('hit', 73168), ('completely', 72859), ('place', 72696), ('idea', 72531), ('mods', 72504), ('ending', 72414), ('excellent', 72344), ('fix', 72320), ('control', 72301), ('seem', 72261), ('build', 71972), ('x', 71968), ('extremely', 71922), ('hell', 71674), ('atmosphere', 71458), ('video', 71160), ('learn', 70553), ('hour', 70522), ('works', 70511), ('running', 69892), ('fighting', 69661), ('often', 69639), ('controller', 69606), ('spend', 69581), ('reviews', 69563), ('co', 69334), ('challenge', 69266), ('city', 69235), ('expect', 69207), ('year', 69171), ('later', 69128), ('developers', 69050), ('easily', 69019), ('recommended', 68734), ('opinion', 68686), ('needs', 68522), ('options', 68387), ('type', 68144), ('spent', 67974), ('started', 67963), ('classic', 67744), ('cant', 67556), ('tell', 67517), ('battle', 67402), ('move', 67306), ('wanted', 67203), ('funny', 67065), ('took', 67015), ('others', 66884), ('comes', 66613), ('wrong', 66578), ('u', 66423), ('problems', 66230), ('guns', 66178), ('please', 66019), ('certain', 65925), ('sense', 65827), ('liked', 65780), ('plot', 65630), ('release', 65545), ('oh', 65471), ('etc', 65213), ('genre', 65086), ('choose', 65065), ('storyline', 64829), ('friend', 64783), ('basically', 64736), ('update', 64655), ('mission', 64635), ('slow', 64537), ('came', 64179), ('points', 64123), ('building', 64013), ('due', 63683), ('p', 63683), ('low', 63472), ('simulator', 63357), ('alot', 63297), ('cannot', 62989), ('ok', 62984), ('weapon', 62921), ('skill', 62867), ('annoying', 62560), ('become', 62242), ('im', 62154), ('tried', 61818), ('man', 61771), ('read', 61581), ('understand', 61009), ('horror', 60992), ('random', 60978), ('days', 60877), ('variety', 60789), ('feeling', 60685), ('computer', 60531), ('unless', 60148), ('acting', 60138), ('title', 60107), ('ways', 60091), ('mean', 60089), ('together', 59797), ('fine', 59598), ('choices', 59593), ('three', 59438), ('couple', 59121), ('past', 58853), ('lack', 58786), ('features', 58743), ('finish', 58689), ('gaming', 58549), ('gives', 58362), ('zombies', 57927), ('finally', 57833), ('total', 57746), ('line', 57739), ('runs', 57734), ('finished', 57436), ('stealth', 57186), ('final', 57002), ('call', 56667), ('terrible', 56512), ('elements', 56223), ('shoot', 56144), ('along', 55938), ('mouse', 55667), ('honestly', 55601), ('goes', 55395), ('job', 55391), ('ship', 55272), ('quests', 54911), ('killing', 54873), ('settings', 54697), ('f', 54609), ('true', 54534), ('us', 54489), ('setting', 54326), ('frustrating', 54280), ('mod', 54230), ('value', 54053), ('early', 53975), ('addictive', 53656), ('hate', 53512), ('entire', 53392), ('several', 53149), ('similar', 53038), ('death', 53011), ('mostly', 52975), ('repetitive', 52900), ('battles', 52767), ('skills', 52730), ('jump', 52669), ('previous', 52665), ('gun', 52423), ('fans', 51768), ('quickly', 51713), ('lost', 51642), ('truly', 51479), ('issue', 51357), ('means', 51283), ('despite', 51266), ('matter', 51219), ('course', 50970), ('order', 50891), ('possible', 50855), ('devs', 50671), ('remember', 50660), ('base', 50492), ('plays', 50400), ('quality', 50363), ('units', 50199), ('coming', 50167), ('totally', 50163), ('seriously', 50090), ('added', 50088), ('attack', 49911), ('special', 49899), ('replay', 49462), ('released', 49429), ('fixed', 49126), ('explore', 49125), ('multiple', 49061), ('example', 49051), ('parts', 48681), ('longer', 48661), ('zombie', 48525), ('went', 48477), ('thats', 48449), ('depth', 48290), ('crashes', 48107), ('check', 47951), ('kinda', 47718), ('shot', 47539), ('waste', 47465), ('quick', 47464), ('given', 47452), ('cheap', 47289), ('survival', 47262), ('ones', 47207), ('close', 47121), ('button', 46886), ('ability', 46685), ('realistic', 46685), ('progress', 46622), ('alone', 46452), ('port', 46195), ('hand', 46155), ('fire', 46060), ('watch', 46017), ('concept', 45831), ('create', 45626), ('plus', 45625), ('choice', 45491), ('large', 45427), ('achievements', 45420), ('except', 45413), ('guess', 45368), ('future', 45305), ('worst', 45290), ('unlock', 45236), ('shooting', 45113), ('bosses', 44826), ('waiting', 44780), ('sort', 44694), ('forward', 44549), ('fairly', 44544), ('soon', 44262), ('option', 44211), ('sounds', 43951), ('tons', 43893), ('fallout', 43875), ('guys', 43873), ('care', 43670), ('chance', 43608), ('actual', 43573), ('writing', 43557), ('keyboard', 43378), ('damage', 43322), ('within', 43238), ('personally', 43028), ('visuals', 43024), ('guy', 42886), ('plenty', 42734), ('killed', 42722), ('quest', 42650), ('working', 42648), ('room', 42592), ('usually', 42577), ('incredibly', 42313), ('servers', 42281), ('available', 42276), ('power', 41999), ('purchase', 41890), ('ps', 41870), ('sequel', 41797), ('negative', 41742), ('god', 41736), ('bored', 41695), ('souls', 41631), ('number', 41532), ('dialogue', 41250), ('head', 41218), ('ago', 41153), ('deep', 41040), ('areas', 40984), ('black', 40928), ('behind', 40828), ('cards', 40813), ('stuck', 40787), ('wonderful', 40756), ('engine', 40725), ('cause', 40634), ('happy', 40633), ('believe', 40525), ('broken', 40503), ('basic', 40497), ('epic', 40479), ('match', 40407), ('lose', 40357), ('poor', 40279), ('face', 40236), ('area', 40118), ('otherwise', 40069), ('limited', 39942), ('k', 39819), ('learning', 39795), ('literally', 39742), ('rts', 39716), ('giving', 39704), ('reccomend', 39696), ('thinking', 39620), ('indie', 39515), ('deal', 39471), ('reading', 39367), ('modern', 39365), ('potential', 39060), ('taking', 39020), ('light', 38992), ('visual', 38982), ('paced', 38977), ('windows', 38853), ('upgrade', 38786), ('server', 38613), ('monsters', 38535), ('normal', 38401), ('satisfying', 38323), ('non', 38307), ('leave', 38204), ('updates', 38170), ('extra', 38138), ('somewhat', 38105), ('abilities', 38070), ('tutorial', 37994), ('night', 37967), ('beginning', 37946), ('keeps', 37854), ('exactly', 37778), ('damn', 37768), ('car', 37633), ('modes', 37621), ('school', 37585), ('okay', 37514), ('developer', 37443), ('saying', 37393), ('rate', 37385), ('addicting', 37345), ('figure', 37303), ('stupid', 37261), ('show', 37229), ('rest', 37197), ('max', 37192), ('anyway', 37191), ('moment', 37116), ('compared', 37055), ('xbox', 36902), ('classes', 36867), ('gave', 36650), ('entertaining', 36630), ('smooth', 36623), ('speed', 36617), ('yeah', 36557), ('star', 36415), ('effects', 36311), ('pass', 36204), ('moments', 36105), ('various', 36076), ('download', 35987), ('cars', 35860), ('card', 35834), ('ships', 35758), ('platformer', 35700), ('general', 35690), ('name', 35681), ('minecraft', 35662), ('third', 35655), ('class', 35526), ('key', 35525), ('brilliant', 35414), ('certainly', 35391), ('major', 35388), ('menu', 35319), ('edit', 35272), ('needed', 35168), ('events', 35080), ('called', 34975), ('important', 34822), ('casual', 34700), ('playthrough', 34674), ('adds', 34600), ('live', 34538), ('impossible', 34533), ('aspect', 34460), ('gear', 34450), ('heart', 34446), ('thanks', 34376), ('incredible', 34345), ('v', 34316), ('types', 34310), ('becomes', 34303), ('upgrades', 34269), ('saw', 34258), ('horrible', 34241), ('designed', 34217), ('walking', 34127), ('worse', 33916), ('crash', 33900), ('fantasy', 33878), ('throughout', 33877), ('bring', 33812), ('weird', 33792), ('wow', 33763), ('replayability', 33753), ('bug', 33687), ('physics', 33674), ('magic', 33616), ('score', 33523), ('cry', 33432), ('crap', 33379), ('changes', 33349), ('civ', 33333), ('patch', 33286), ('tactical', 33246), ('whatever', 33236), ('constantly', 33205), ('loot', 33137), ('harder', 33092), ('dungeon', 32918), ('note', 32879), ('unfortunately', 32849), ('fights', 32720), ('massive', 32704), ('franchise', 32691), ('humor', 32653), ('exploration', 32588), ('across', 32558), ('starting', 32461), ('gta', 32450), ('movement', 32447), ('missing', 32389), ('party', 32314), ('sad', 32181), ('movie', 32175), ('happen', 32174), ('hidden', 32111), ('near', 32104), ('easier', 32084), ('paid', 32025), ('cod', 31958), ('regret', 31913), ('offer', 31904), ('minor', 31847), ('feature', 31753), ('expected', 31748), ('master', 31741), ('tower', 31679), ('mechanic', 31653), ('stay', 31574), ('higher', 31527), ('starts', 31520), ('fair', 31404), ('decided', 31392), ('recomend', 31392), ('age', 31342), ('attention', 31339), ('serious', 31192), ('endless', 31159), ('launch', 31158), ('continue', 31056), ('clear', 31055), ('says', 30984), ('camera', 30965), ('load', 30950), ('case', 30852), ('grind', 30805), ('cute', 30801), ('lag', 30751), ('break', 30751), ('allows', 30740), ('portal', 30710), ('core', 30649), ('moving', 30622), ('hold', 30597), ('mention', 30589), ('alien', 30566), ('development', 30517), ('straight', 30507), ('whether', 30462), ('strong', 30408), ('nearly', 30346), ('interested', 30277), ('access', 30272), ('scary', 30197), ('heard', 30196), ('sucks', 30193), ('piece', 30165), ('home', 30121), ('upon', 30112), ('item', 30111), ('cut', 30102), ('console', 30097), ('group', 30088), ('slightly', 30050), ('gold', 30026), ('sim', 30015), ('performance', 29996), ('miss', 29935), ('complex', 29877), ('gone', 29825), ('health', 29821), ('disappointed', 29718), ('ive', 29705), ('crazy', 29693), ('arcade', 29662), ('environment', 29597), ('current', 29575), ('addition', 29563), ('turns', 29546), ('gonna', 29510), ('challenges', 29509), ('finding', 29388), ('effect', 29381), ('fully', 29355), ('customization', 29344), ('avoid', 29316), ('graphic', 29271), ('buggy', 29245), ('walk', 29148), ('drop', 29103), ('driving', 29019), ('playable', 28993), ('heroes', 28900), ('perfectly', 28894), ('requires', 28855), ('today', 28828), ('none', 28758), ('animations', 28743), ('glitches', 28731), ('titles', 28713), ('told', 28712), ('doom', 28685), ('list', 28519), ('improved', 28518), ('linear', 28500), ('detail', 28495), ('lets', 28471), ('join', 28455), ('completed', 28409), ('step', 28382), ('balance', 28326), ('follow', 28290), ('anymore', 28280), ('engaging', 28248), ('likely', 28161), ('seeing', 28150), ('likes', 28094), ('mix', 28088), ('edition', 28055), ('stories', 28036), ('unlike', 27965), ('blood', 27888), ('suggest', 27874), ('terraria', 27874), ('including', 27856), ('shooters', 27822), ('written', 27776), ('offers', 27703), ('history', 27639), ('words', 27585), ('universe', 27573), ('changed', 27559), ('wont', 27513), ('evil', 27459), ('happens', 27406), ('stand', 27379), ('rating', 27338), ('wall', 27299), ('months', 27293), ('beyond', 27264), ('pvp', 27203), ('write', 27193), ('scenes', 27147), ('watching', 27084), ('considering', 27080), ('created', 27050), ('lol', 27019), ('positive', 27010), ('seconds', 27007), ('planet', 26982), ('diablo', 26909), ('monster', 26896), ('terms', 26887), ('wars', 26852), ('mmo', 26850), ('blast', 26826), ('racing', 26678), ('four', 26570), ('defense', 26509), ('focus', 26475), ('crafting', 26466), ('curve', 26455), ('kept', 26406), ('batman', 26393), ('biggest', 26392), ('human', 26381), ('rewarding', 26374), ('glad', 26356), ('greatest', 26320), ('ground', 26243), ('brings', 26151), ('doesnt', 26139), ('balanced', 26059), ('red', 26033), ('turned', 26002), ('perhaps', 25986), ('sadly', 25936), ('stick', 25790), ('view', 25788), ('force', 25768), ('fall', 25764), ('sandbox', 25764), ('form', 25763), ('immersive', 25753), ('favourite', 25741), ('talk', 25695), ('bioshock', 25683), ('heavy', 25674), ('died', 25659), ('ask', 25645), ('attacks', 25620), ('towards', 25611), ('race', 25599), ('drive', 25574), ('hero', 25560), ('aside', 25559), ('forget', 25553), ('beta', 25552), ('path', 25491), ('ii', 25404), ('resources', 25385), ('aspects', 25337), ('gamer', 25331), ('n', 25324), ('cost', 25252), ('masterpiece', 25200), ('personal', 25183), ('intense', 25165), ('duty', 25162), ('episode', 25154), ('house', 25115), ('allow', 25107), ('range', 25086), ('awful', 25036), ('wants', 24968), ('places', 24960), ('shame', 24935), ('armor', 24894), ('five', 24875), ('powerful', 24843), ('state', 24834), ('youtube', 24771), ('c', 24664), ('flaws', 24634), ('currently', 24631), ('luck', 24603), ('ton', 24602), ('eventually', 24533), ('hands', 24502), ('direction', 24495), ('lore', 24424), ('creative', 24419), ('happened', 24402), ('loading', 24352), ('fly', 24350), ('background', 24346), ('solve', 24327), ('moves', 24323), ('bunch', 24315), ('company', 24311), ('supposed', 24306), ('refund', 24272), ('ui', 24240), ('exploring', 24232), ('looked', 24216), ('expecting', 24200), ('gb', 24182), ('pack', 24159), ('shows', 24098), ('thank', 24062), ('cover', 24016), ('standard', 23951), ('worked', 23937), ('grab', 23892), ('enjoying', 23892), ('depending', 23824), ('honest', 23821), ('hear', 23804), ('require', 23802), ('hardcore', 23776), ('rpgs', 23765), ('mess', 23764), ('didnt', 23717), ('b', 23701), ('gamers', 23657), ('interface', 23616), ('bucks', 23561), ('dollars', 23557), ('family', 23464), ('water', 23464), ('grinding', 23447), ('novel', 23442), ('dying', 23421), ('reach', 23405), ('melee', 23335), ('progression', 23299), ('borderlands', 23287), ('average', 23267), ('skyrim', 23262), ('account', 23248), ('expansion', 23225), ('track', 23205), ('season', 23196), ('text', 23177), ('throw', 23101), ('fresh', 23015), ('army', 23003), ('talking', 22960), ('air', 22871), ('survive', 22864), ('collect', 22856), ('faster', 22828), ('effort', 22828), ('ended', 22758)]\n"
     ]
    }
   ],
   "source": [
    "# get word count of all reviews\n",
    "\n",
    "from collections import Counter\n",
    "\n",
    "def get_word_frequency(df, review):\n",
    "    word_freq = Counter()\n",
    "    for sentence in df[review].values:\n",
    "        word_freq.update(sentence.split())\n",
    "    return word_freq\n",
    "\n",
    "word_freq = get_word_frequency(dataset, 'review_text')\n",
    "\n",
    "# get the number of unique words\n",
    "print(len(word_freq))\n",
    "\n",
    "# get the most common words\n",
    "print(word_freq.most_common(1000))"
   ]
  },
  {
   "cell_type": "code",
   "execution_count": 21,
   "metadata": {},
   "outputs": [
    {
     "data": {
      "text/html": [
       "<div>\n",
       "<style scoped>\n",
       "    .dataframe tbody tr th:only-of-type {\n",
       "        vertical-align: middle;\n",
       "    }\n",
       "\n",
       "    .dataframe tbody tr th {\n",
       "        vertical-align: top;\n",
       "    }\n",
       "\n",
       "    .dataframe thead th {\n",
       "        text-align: right;\n",
       "    }\n",
       "</style>\n",
       "<table border=\"1\" class=\"dataframe\">\n",
       "  <thead>\n",
       "    <tr style=\"text-align: right;\">\n",
       "      <th></th>\n",
       "      <th>word</th>\n",
       "      <th>freq</th>\n",
       "    </tr>\n",
       "  </thead>\n",
       "  <tbody>\n",
       "    <tr>\n",
       "      <th>0</th>\n",
       "      <td>game</td>\n",
       "      <td>6384611</td>\n",
       "    </tr>\n",
       "    <tr>\n",
       "      <th>1</th>\n",
       "      <td>like</td>\n",
       "      <td>1349853</td>\n",
       "    </tr>\n",
       "    <tr>\n",
       "      <th>2</th>\n",
       "      <td>play</td>\n",
       "      <td>1089248</td>\n",
       "    </tr>\n",
       "    <tr>\n",
       "      <th>3</th>\n",
       "      <td>good</td>\n",
       "      <td>1012459</td>\n",
       "    </tr>\n",
       "    <tr>\n",
       "      <th>4</th>\n",
       "      <td>one</td>\n",
       "      <td>994980</td>\n",
       "    </tr>\n",
       "  </tbody>\n",
       "</table>\n",
       "</div>"
      ],
      "text/plain": [
       "   word     freq\n",
       "0  game  6384611\n",
       "1  like  1349853\n",
       "2  play  1089248\n",
       "3  good  1012459\n",
       "4   one   994980"
      ]
     },
     "execution_count": 21,
     "metadata": {},
     "output_type": "execute_result"
    }
   ],
   "source": [
    "# create a dataframe from word_freq\n",
    "\n",
    "word_freq_df = pd.DataFrame(word_freq.most_common(len(word_freq)), columns=['word', 'freq'])\n",
    "\n",
    "word_freq_df.head()"
   ]
  },
  {
   "cell_type": "code",
   "execution_count": 23,
   "metadata": {},
   "outputs": [
    {
     "data": {
      "text/html": [
       "<div>\n",
       "<style scoped>\n",
       "    .dataframe tbody tr th:only-of-type {\n",
       "        vertical-align: middle;\n",
       "    }\n",
       "\n",
       "    .dataframe tbody tr th {\n",
       "        vertical-align: top;\n",
       "    }\n",
       "\n",
       "    .dataframe thead th {\n",
       "        text-align: right;\n",
       "    }\n",
       "</style>\n",
       "<table border=\"1\" class=\"dataframe\">\n",
       "  <thead>\n",
       "    <tr style=\"text-align: right;\">\n",
       "      <th></th>\n",
       "      <th>word</th>\n",
       "      <th>freq</th>\n",
       "    </tr>\n",
       "  </thead>\n",
       "  <tbody>\n",
       "    <tr>\n",
       "      <th>63538</th>\n",
       "      <td>https</td>\n",
       "      <td>17</td>\n",
       "    </tr>\n",
       "    <tr>\n",
       "      <th>85450</th>\n",
       "      <td>httpsendrequest</td>\n",
       "      <td>10</td>\n",
       "    </tr>\n",
       "  </tbody>\n",
       "</table>\n",
       "</div>"
      ],
      "text/plain": [
       "                  word  freq\n",
       "63538            https    17\n",
       "85450  httpsendrequest    10"
      ]
     },
     "execution_count": 23,
     "metadata": {},
     "output_type": "execute_result"
    }
   ],
   "source": [
    "word_freq_df[word_freq_df['word'].str.contains('https')]"
   ]
  },
  {
   "cell_type": "code",
   "execution_count": 7,
   "metadata": {},
   "outputs": [
    {
     "data": {
      "text/html": [
       "<div>\n",
       "<style scoped>\n",
       "    .dataframe tbody tr th:only-of-type {\n",
       "        vertical-align: middle;\n",
       "    }\n",
       "\n",
       "    .dataframe tbody tr th {\n",
       "        vertical-align: top;\n",
       "    }\n",
       "\n",
       "    .dataframe thead th {\n",
       "        text-align: right;\n",
       "    }\n",
       "</style>\n",
       "<table border=\"1\" class=\"dataframe\">\n",
       "  <thead>\n",
       "    <tr style=\"text-align: right;\">\n",
       "      <th></th>\n",
       "      <th>word</th>\n",
       "      <th>freq</th>\n",
       "    </tr>\n",
       "  </thead>\n",
       "  <tbody>\n",
       "    <tr>\n",
       "      <th>0</th>\n",
       "      <td>game</td>\n",
       "      <td>6442590</td>\n",
       "    </tr>\n",
       "    <tr>\n",
       "      <th>1</th>\n",
       "      <td>like</td>\n",
       "      <td>1353795</td>\n",
       "    </tr>\n",
       "    <tr>\n",
       "      <th>2</th>\n",
       "      <td>play</td>\n",
       "      <td>1093181</td>\n",
       "    </tr>\n",
       "    <tr>\n",
       "      <th>3</th>\n",
       "      <td>good</td>\n",
       "      <td>1018245</td>\n",
       "    </tr>\n",
       "    <tr>\n",
       "      <th>4</th>\n",
       "      <td>one</td>\n",
       "      <td>999869</td>\n",
       "    </tr>\n",
       "    <tr>\n",
       "      <th>...</th>\n",
       "      <td>...</td>\n",
       "      <td>...</td>\n",
       "    </tr>\n",
       "    <tr>\n",
       "      <th>995</th>\n",
       "      <td>army</td>\n",
       "      <td>23154</td>\n",
       "    </tr>\n",
       "    <tr>\n",
       "      <th>996</th>\n",
       "      <td>throw</td>\n",
       "      <td>23152</td>\n",
       "    </tr>\n",
       "    <tr>\n",
       "      <th>997</th>\n",
       "      <td>survive</td>\n",
       "      <td>23129</td>\n",
       "    </tr>\n",
       "    <tr>\n",
       "      <th>998</th>\n",
       "      <td>fresh</td>\n",
       "      <td>23066</td>\n",
       "    </tr>\n",
       "    <tr>\n",
       "      <th>999</th>\n",
       "      <td>air</td>\n",
       "      <td>23042</td>\n",
       "    </tr>\n",
       "  </tbody>\n",
       "</table>\n",
       "<p>1000 rows × 2 columns</p>\n",
       "</div>"
      ],
      "text/plain": [
       "        word     freq\n",
       "0       game  6442590\n",
       "1       like  1353795\n",
       "2       play  1093181\n",
       "3       good  1018245\n",
       "4        one   999869\n",
       "..       ...      ...\n",
       "995     army    23154\n",
       "996    throw    23152\n",
       "997  survive    23129\n",
       "998    fresh    23066\n",
       "999      air    23042\n",
       "\n",
       "[1000 rows x 2 columns]"
      ]
     },
     "execution_count": 7,
     "metadata": {},
     "output_type": "execute_result"
    }
   ],
   "source": [
    "word_freq_df.iloc[:1000]"
   ]
  },
  {
   "cell_type": "code",
   "execution_count": 33,
   "metadata": {},
   "outputs": [],
   "source": [
    "# save the df to csv\n",
    "\n",
    "word_freq_df.to_csv('word_freq.csv', index=False)"
   ]
  },
  {
   "cell_type": "code",
   "execution_count": 9,
   "metadata": {},
   "outputs": [],
   "source": [
    "import spacy\n",
    "from string import punctuation\n",
    "from spacy.lang.en import stop_words\n",
    "\n",
    "import nltk\n",
    "from nltk.corpus import stopwords"
   ]
  },
  {
   "cell_type": "code",
   "execution_count": 12,
   "metadata": {},
   "outputs": [],
   "source": [
    "spacy_stopwords = set(spacy.lang.en.stop_words.STOP_WORDS)\n",
    "nltk_stopwords = set(stopwords.words('english'))"
   ]
  },
  {
   "cell_type": "code",
   "execution_count": 14,
   "metadata": {},
   "outputs": [
    {
     "name": "stdout",
     "output_type": "stream",
     "text": [
      "{'doing', 'herself', 'both', 'above', 'between', 'not', 'in', 'all', 'and', 'am', 'further', 'myself', 'while', 'me', 'again', 'nor', 'this', 'each', 'until', 'who', 'where', 'same', 'after', 'from', 'you', 'whom', 'yourselves', 'were', 'her', 'itself', 'through', 'was', 'are', 'him', 'to', 'or', 'which', 'then', 'here', 'other', 'yours', 'his', 'hers', 'been', 'should', 'such', 'very', 'will', 'had', 'my', 'at', 'they', 'when', 'with', 'no', 'but', 'did', 'ours', 'about', 'does', 'himself', 'too', 'of', 'own', 'below', 'an', 'now', 'there', 'that', 'why', 'being', 'these', 'if', 'out', 'on', 'i', 'yourself', 'off', 'most', 'as', 'into', 'a', 'themselves', 'is', 'it', 'their', 'how', 'she', 'we', 'because', 'just', 'your', 'do', 'any', 'before', 'during', 'have', 'for', 'more', 'what', 'the', 'them', 'under', 'only', 'its', 'he', 'over', 'can', 'some', 'by', 'once', 'against', 'our', 'so', 'than', 'ourselves', 'few', 'down', 're', 'has', 'those', 'be', 'up'}\n"
     ]
    }
   ],
   "source": [
    "same = spacy_stopwords.intersection(nltk_stopwords)\n",
    "print(same)"
   ]
  },
  {
   "cell_type": "code",
   "execution_count": 17,
   "metadata": {},
   "outputs": [
    {
     "name": "stdout",
     "output_type": "stream",
     "text": [
      "{'made', 'nothing', 'eight', 'hence', 'across', 'eleven', 'whatever', 'whither', 'll', 'm', 'get', 'last', 'wasn', 'ten', 'haven', 'otherwise', 'noone', 's', 'due', \"n't\", \"couldn't\", 'us', 'elsewhere', 'must', 'show', 'therein', 'became', 'seeming', 'nobody', 'also', 'thence', \"'ll\", 'whose', 'somehow', 'four', 'namely', \"hasn't\", \"shan't\", 'everything', \"needn't\", '’re', 'nowhere', 'needn', 've', 'latter', 'although', \"'d\", 'never', 'theirs', 'go', 'keep', 'often', 'afterwards', 'even', '’m', 'many', 'nevertheless', 'unless', 'hereupon', 'isn', 'take', 'hasn', 'without', 'seem', 'per', \"mustn't\", 'call', \"didn't\", 'twelve', 'please', \"'m\", 'ca', 'thus', 'hereby', 'wherein', 'every', 'various', 'back', 'whereupon', 'amongst', '‘s', \"you've\", 'give', 'might', 'serious', 'besides', 'together', 'fifteen', 'fifty', \"don't\", 'become', 'wouldn', 'quite', 'say', 'y', 'none', 'whereas', 'others', 'whoever', 'yet', 'several', 'within', 'moreover', 'amount', 'via', \"it's\", 'couldn', \"hadn't\", 'around', '‘ve', 'however', 'thereupon', \"aren't\", \"won't\", 'regarding', 'one', 'well', 'shan', \"you're\", 'less', 'formerly', 'upon', 'towards', 'everywhere', 'don', \"'ve\", 'first', 'name', 'behind', 'anyhow', 'empty', 'much', 'five', 'make', 'another', 'indeed', 'o', \"isn't\", \"haven't\", 'onto', 'shouldn', 'whether', 'sometimes', 'anything', 'ain', 'having', \"shouldn't\", 'ever', 'something', '‘re', \"wouldn't\", 'sixty', 'becoming', 'n’t', \"weren't\", 'hundred', 'would', 'front', 'twenty', 'somewhere', 'toward', 'mightn', 'mostly', \"'s\", 'done', 'using', 'thereby', 'seemed', 'except', 'alone', 'enough', \"should've\", 'therefore', 'seems', 'rather', '’s', 'forty', 'weren', 'herein', 'whereby', 'along', \"wasn't\", \"doesn't\", 'anywhere', 'whenever', 'cannot', 'n‘t', 'mustn', 'hereafter', 'see', 'hadn', 'third', 'whole', 'since', 'd', 'bottom', 'won', 'sometime', 'top', 'always', 'though', 'move', 'throughout', 'could', 'whence', 'didn', 'full', '’ll', 'three', '’d', 'beforehand', 'beside', 'former', 'anyway', 'neither', '’ve', 'really', '‘m', \"'re\", 'someone', 'meanwhile', 'becomes', 'still', 'thru', 'mine', 'anyone', 'least', 'wherever', 'six', \"you'll\", 'perhaps', 'side', 'almost', \"mightn't\", 'whereafter', 't', 'used', 'latterly', 'ma', 'next', \"you'd\", 'already', \"that'll\", 'two', '‘ll', 'else', 'nine', 'thereafter', 'doesn', 'everyone', 'part', '‘d', 'either', 'put', 'aren', 'among', \"she's\", 'may', 'beyond'}\n"
     ]
    }
   ],
   "source": [
    "symmetric_diff = spacy_stopwords ^ nltk_stopwords\n",
    "print(symmetric_diff)"
   ]
  },
  {
   "cell_type": "code",
   "execution_count": 18,
   "metadata": {},
   "outputs": [
    {
     "name": "stdout",
     "output_type": "stream",
     "text": [
      "{\"should've\", \"mustn't\", 'didn', \"didn't\", \"hasn't\", \"shan't\", 'o', 'weren', \"you'll\", \"needn't\", \"isn't\", \"haven't\", \"mightn't\", 'll', 'shouldn', \"wasn't\", 't', \"doesn't\", 'm', 'ain', \"it's\", 'having', \"shouldn't\", 'couldn', \"hadn't\", 'ma', 'needn', 've', 'y', 'wasn', \"you'd\", \"aren't\", \"won't\", 'haven', 'mustn', 's', \"that'll\", \"wouldn't\", 'theirs', 'hadn', \"you've\", 'shan', \"couldn't\", \"you're\", 'doesn', \"weren't\", 'don', 'aren', \"don't\", 'mightn', 'isn', 'wouldn', \"she's\", 'hasn', 'd', 'won'}\n"
     ]
    }
   ],
   "source": [
    "diff = nltk_stopwords - spacy_stopwords\n",
    "print(diff)"
   ]
  },
  {
   "cell_type": "code",
   "execution_count": 19,
   "metadata": {},
   "outputs": [
    {
     "name": "stdout",
     "output_type": "stream",
     "text": [
      "{'made', 'nothing', 'eight', 'hence', 'much', 'five', 'across', 'eleven', 'whatever', 'make', 'another', 'indeed', 'whither', 'onto', 'whether', 'sometimes', 'anything', 'get', 'last', 'ever', 'something', '‘re', 'ten', 'otherwise', 'noone', 'due', 'sixty', \"n't\", 'becoming', 'us', 'n’t', 'elsewhere', 'must', 'hundred', 'would', 'show', 'therein', 'became', 'front', 'twenty', 'seeming', 'somewhere', 'toward', 'nobody', 'mostly', 'also', 'thence', \"'ll\", \"'s\", 'done', 'using', 'thereby', 'whose', 'seemed', 'except', 'alone', 'enough', 'somehow', 'therefore', 'seems', 'four', 'rather', 'namely', '’s', 'forty', 'everything', 'herein', 'whereby', '’re', 'along', 'anywhere', 'nowhere', 'whenever', 'latter', 'although', \"'d\", 'cannot', 'n‘t', 'never', 'hereafter', 'see', 'third', 'go', 'keep', 'often', 'afterwards', 'even', 'whole', '’m', 'many', 'nevertheless', 'unless', 'hereupon', 'take', 'without', 'since', 'bottom', 'seem', 'sometime', 'top', 'always', 'though', 'per', 'move', 'call', 'throughout', 'could', 'whence', 'full', '’ll', 'twelve', 'please', \"'m\", 'three', '’d', 'beforehand', 'beside', 'ca', 'thus', 'hereby', 'wherein', 'every', 'various', 'back', 'whereupon', 'former', 'amongst', '‘s', 'anyway', 'give', 'might', 'serious', 'besides', 'together', 'fifteen', 'neither', '’ve', 'really', '‘m', \"'re\", 'someone', 'meanwhile', 'fifty', 'becomes', 'still', 'thru', 'become', 'quite', 'say', 'mine', 'anyone', 'least', 'none', 'whereas', 'wherever', 'six', 'others', 'whoever', 'yet', 'several', 'within', 'moreover', 'perhaps', 'side', 'almost', 'whereafter', 'amount', 'via', 'used', 'latterly', 'next', 'around', '‘ve', 'however', 'thereupon', 'regarding', 'already', 'one', 'well', 'two', '‘ll', 'else', 'nine', 'thereafter', 'less', 'everyone', 'formerly', 'part', 'upon', 'towards', 'everywhere', '‘d', 'either', 'put', \"'ve\", 'first', 'among', 'name', 'behind', 'may', 'anyhow', 'empty', 'beyond'}\n"
     ]
    }
   ],
   "source": [
    "diff2 = spacy_stopwords - nltk_stopwords\n",
    "print(diff2)"
   ]
  },
  {
   "cell_type": "markdown",
   "metadata": {},
   "source": [
    "Combining more stopwords may achieve better performance in topic modelling\n",
    "\n",
    "by removing connectives, appreprositions, pronouns, ..."
   ]
  },
  {
   "cell_type": "markdown",
   "metadata": {},
   "source": [
    "---"
   ]
  },
  {
   "cell_type": "markdown",
   "metadata": {},
   "source": [
    "TODO: Build custom stopword list for LDA"
   ]
  },
  {
   "cell_type": "code",
   "execution_count": null,
   "metadata": {},
   "outputs": [],
   "source": []
  }
 ],
 "metadata": {
  "kernelspec": {
   "display_name": "fyp-test-wsl-tm",
   "language": "python",
   "name": "python3"
  },
  "language_info": {
   "codemirror_mode": {
    "name": "ipython",
    "version": 3
   },
   "file_extension": ".py",
   "mimetype": "text/x-python",
   "name": "python",
   "nbconvert_exporter": "python",
   "pygments_lexer": "ipython3",
   "version": "3.9.18"
  }
 },
 "nbformat": 4,
 "nbformat_minor": 2
}
