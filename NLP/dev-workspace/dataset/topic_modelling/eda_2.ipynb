{
 "cells": [
  {
   "cell_type": "markdown",
   "metadata": {},
   "source": [
    "EDA 2\n",
    "\n",
    "focus on word frequency and stopword database\n",
    "\n",
    "May need to custom build stopword just for LDA ??"
   ]
  },
  {
   "cell_type": "code",
   "execution_count": 2,
   "metadata": {},
   "outputs": [
    {
     "name": "stdout",
     "output_type": "stream",
     "text": [
      "<class 'pandas.core.frame.DataFrame'>\n",
      "Index: 4180148 entries, 0 to 4891927\n",
      "Data columns (total 6 columns):\n",
      " #   Column        Dtype \n",
      "---  ------        ----- \n",
      " 0   index         int64 \n",
      " 1   app_id        int64 \n",
      " 2   app_name      object\n",
      " 3   review_text   object\n",
      " 4   review_score  int64 \n",
      " 5   review_votes  int64 \n",
      "dtypes: int64(4), object(2)\n",
      "memory usage: 223.2+ MB\n"
     ]
    }
   ],
   "source": [
    "import pandas as pd\n",
    "import numpy as np\n",
    "import matplotlib.pyplot as plt\n",
    "import seaborn as sns\n",
    "\n",
    "\n",
    "from pathlib import Path\n",
    "import random\n",
    "\n",
    "random.seed(13)\n",
    "\n",
    "dataset_heartless_path = Path('../../dataset/sa/dataset_cleaned_heartless.pkl').resolve()\n",
    "\n",
    "dataset = pd.read_pickle(dataset_heartless_path)\n",
    "# dataset = dataset.sample(frac=p)      # no sampling is needed\n",
    "\n",
    "# convert the text to string object\n",
    "dataset['review_text'] = dataset['review_text'].astype('str')\n",
    "\n",
    "# drop any duplicate just in case\n",
    "dataset = dataset.drop_duplicates(keep='first', subset=['review_text', 'review_score', 'review_votes', 'app_id'])\n",
    "\n",
    "# replace -1 to 0\n",
    "# then 0 = negative, 1 = positive\n",
    "# for easier processing\n",
    "dataset['review_score'] = dataset['review_score'].replace(-1, 0)\n",
    "\n",
    "dataset.info()"
   ]
  },
  {
   "cell_type": "markdown",
   "metadata": {},
   "source": [
    "Playground to test various pre-processing specailly for topic modelling"
   ]
  },
  {
   "cell_type": "code",
   "execution_count": 3,
   "metadata": {},
   "outputs": [],
   "source": [
    "# data preprocessing\n",
    "\n",
    "import re\n",
    "\n",
    "def clean(raw):\n",
    "    \"\"\" Remove hyperlinks and markup \"\"\"\n",
    "    result = re.sub(\"<[a][^>]*>(.+?)</[a]>\", 'Link.', raw)\n",
    "    result = re.sub('&gt;', \"\", result)\n",
    "    result = re.sub('&#x27;', \"'\", result)\n",
    "    result = re.sub('&quot;', '\"', result)\n",
    "    result = re.sub('&#x2F;', ' ', result)\n",
    "    result = re.sub('<p>', ' ', result)\n",
    "    result = re.sub('</i>', '', result)\n",
    "    result = re.sub('&#62;', '', result)\n",
    "    result = re.sub('<i>', ' ', result)\n",
    "    result = re.sub(\"\\n\", '', result)\n",
    "    return result\n",
    "\n",
    "def deEmojify(x):\n",
    "    regrex_pattern = re.compile(pattern = \"[\"\n",
    "        u\"\\U0001F600-\\U0001F64F\"  # emoticons\n",
    "        u\"\\U0001F300-\\U0001F5FF\"  # symbols & pictographs\n",
    "        u\"\\U0001F680-\\U0001F6FF\"  # transport & map symbols\n",
    "        u\"\\U0001F1E0-\\U0001F1FF\"  # flags (iOS)\n",
    "                           \"]+\", flags = re.UNICODE)\n",
    "    return regrex_pattern.sub(r'', x)\n",
    "    \n",
    "def remove_num(texts):\n",
    "   output = re.sub(r'\\d+', '', texts)\n",
    "   return output\n",
    "\n",
    "def unify_whitespaces(x):\n",
    "    cleaned_string = re.sub(' +', ' ', x)\n",
    "    return cleaned_string\n",
    "\n",
    "from nltk.corpus import stopwords\n",
    "stop=set(stopwords.words(\"english\"))\n",
    "def remove_stopword(text):\n",
    "   text=[word.lower() for word in text.split() if word.lower() not in stop]\n",
    "   return \" \".join(text)\n",
    "\n",
    "# only keep alphabets\n",
    "def remove_non_alphabets(text):\n",
    "    text = re.sub('[^a-zA-Z]', ' ', text)\n",
    "    return text\n",
    "\n",
    "def cleaning(df, review):\n",
    "    df[review] = df[review].apply(lambda x: clean(x))\n",
    "    df[review] = df[review].apply(lambda x: deEmojify(x))\n",
    "    df[review] = df[review].apply(lambda x: remove_num(x))\n",
    "    df[review] = df[review].apply(lambda x: unify_whitespaces(x))\n",
    "    df[review] = df[review].apply(lambda x: remove_non_alphabets(x))\n",
    "    df[review] = df[review].apply(lambda x: remove_stopword(x))\n",
    "    df[review] = df[review].apply(lambda x: x.lower())\n",
    "\n",
    "def cleaning_strlist(str_list):\n",
    "    str_list = list(map(lambda x: clean(x), str_list))\n",
    "    str_list = list(map(lambda x: deEmojify(x), str_list))\n",
    "    str_list = list(map(lambda x: remove_num(x), str_list))\n",
    "    str_list = list(map(lambda x: unify_whitespaces(x), str_list))\n",
    "    str_list = list(map(lambda x: remove_non_alphabets(x), str_list))\n",
    "    str_list = list(map(lambda x: remove_stopword(x), str_list))\n",
    "    str_list = list(map(lambda x: x.lower(), str_list))\n",
    "    return str_list"
   ]
  },
  {
   "cell_type": "code",
   "execution_count": 4,
   "metadata": {},
   "outputs": [],
   "source": [
    "# apply data preprocessing\n",
    "\n",
    "cleaning(dataset, 'review_text')"
   ]
  },
  {
   "cell_type": "code",
   "execution_count": 5,
   "metadata": {},
   "outputs": [
    {
     "name": "stdout",
     "output_type": "stream",
     "text": [
      "614350\n",
      "[('game', 6442590), ('like', 1353795), ('play', 1093181), ('good', 1018245), ('one', 999869), ('get', 974333), ('fun', 973958), ('great', 855660), ('really', 853844), ('games', 842645), ('time', 777547), ('story', 715161), ('would', 666004), ('even', 610999), ('much', 563004), ('well', 525632), ('played', 524131), ('best', 502847), ('first', 477920), ('still', 465904), ('playing', 460396), ('also', 451940), ('gameplay', 437715), ('make', 414758), ('love', 394124), ('hours', 388878), ('buy', 384564), ('way', 375940), ('new', 369413), ('recommend', 364765), ('better', 361496), ('want', 359989), ('lot', 348992), ('worth', 348714), ('people', 342870), ('ever', 334826), ('many', 333891), ('graphics', 330459), ('go', 322305), ('pretty', 320253), ('little', 299327), ('amazing', 293555), ('could', 287824), ('every', 286723), ('say', 286394), ('feel', 284566), ('think', 281760), ('got', 281453), ('bad', 274926), ('bit', 271377), ('though', 267810), ('see', 264353), ('things', 263476), ('made', 252552), ('find', 252116), ('nice', 252107), ('back', 247271), ('world', 246742), ('different', 245363), ('know', 242989), ('characters', 240816), ('never', 235472), ('awesome', 232532), ('need', 230608), ('around', 230103), ('level', 226611), ('hard', 224570), ('something', 221916), ('combat', 221838), ('experience', 218100), ('thing', 217047), ('money', 215883), ('give', 215442), ('free', 215318), ('far', 211297), ('makes', 208971), ('steam', 206945), ('character', 206850), ('system', 204460), ('use', 201627), ('enough', 200802), ('long', 200158), ('player', 200151), ('try', 200134), ('times', 196279), ('friends', 196171), ('take', 194203), ('right', 193810), ('going', 193081), ('actually', 190225), ('end', 188750), ('everything', 188720), ('short', 187879), ('interesting', 186966), ('quite', 185887), ('easy', 185298), ('however', 183375), ('music', 181195), ('since', 180530), ('work', 179435), ('start', 177670), ('overall', 175870), ('without', 175666), ('enjoy', 175469), ('old', 173396), ('look', 169947), ('review', 166486), ('point', 162193), ('two', 161385), ('price', 161162), ('life', 160606), ('multiplayer', 157626), ('players', 154951), ('run', 154949), ('nothing', 154752), ('real', 153406), ('looking', 152414), ('keep', 151681), ('simple', 151513), ('may', 150301), ('weapons', 149165), ('pc', 148899), ('getting', 148884), ('series', 148275), ('fps', 147662), ('style', 146329), ('enemies', 145505), ('sale', 144495), ('another', 143696), ('always', 143674), ('dlc', 143057), ('must', 143003), ('feels', 142000), ('mode', 140513), ('sure', 139509), ('yet', 138171), ('full', 137504), ('levels', 136689), ('probably', 136302), ('definitely', 135030), ('might', 134437), ('kill', 133927), ('dont', 133748), ('part', 131189), ('controls', 131157), ('done', 130444), ('anything', 130440), ('cool', 129337), ('put', 128256), ('rpg', 127697), ('mechanics', 127435), ('puzzles', 125699), ('original', 124253), ('action', 123865), ('based', 123778), ('come', 123298), ('content', 122923), ('let', 121721), ('found', 121342), ('almost', 120715), ('highly', 119800), ('anyone', 118977), ('fan', 117882), ('version', 116160), ('years', 115455), ('main', 115032), ('single', 114876), ('bought', 114130), ('gets', 113749), ('click', 113393), ('big', 112100), ('beautiful', 111844), ('unique', 111525), ('sometimes', 110456), ('kind', 110125), ('stuff', 109850), ('trying', 109782), ('making', 109655), ('said', 109577), ('art', 109463), ('especially', 109449), ('day', 108991), ('boring', 108548), ('least', 108123), ('maybe', 107045), ('last', 106117), ('turn', 105930), ('able', 105773), ('seems', 105696), ('everyone', 105052), ('next', 104624), ('used', 104464), ('map', 102905), ('yes', 102490), ('bugs', 101853), ('less', 101718), ('online', 101477), ('wait', 101460), ('high', 101426), ('already', 101334), ('space', 101244), ('fast', 101109), ('war', 101012), ('lots', 100395), ('issues', 100253), ('whole', 99894), ('thought', 99707), ('enjoyed', 99404), ('side', 99082), ('fantastic', 98893), ('looks', 98846), ('minutes', 98819), ('puzzle', 98074), ('enemy', 97716), ('missions', 97167), ('away', 96982), ('problem', 95430), ('open', 94763), ('difficulty', 94408), ('challenging', 94273), ('items', 94182), ('ai', 93648), ('person', 93316), ('rather', 92894), ('difficult', 92670), ('design', 92411), ('help', 92070), ('enjoyable', 92008), ('instead', 91475), ('team', 91225), ('either', 91122), ('complete', 90618), ('die', 90544), ('perfect', 90424), ('takes', 90155), ('voice', 89781), ('half', 89771), ('pay', 89097), ('amount', 88971), ('strategy', 88694), ('soundtrack', 87930), ('set', 87807), ('community', 87798), ('reason', 87303), ('although', 86752), ('amp', 85909), ('dark', 85790), ('sound', 85626), ('add', 85468), ('cons', 85342), ('absolutely', 84957), ('super', 84943), ('change', 84438), ('simply', 84201), ('fact', 83439), ('top', 83249), ('campaign', 83196), ('second', 82956), ('beat', 82859), ('etc', 82314), ('using', 82188), ('small', 81947), ('pick', 81463), ('shooter', 81415), ('adventure', 80873), ('left', 80492), ('screen', 80399), ('fight', 80398), ('decent', 80065), ('huge', 79515), ('pros', 79504), ('dead', 79501), ('favorite', 79406), ('maps', 78977), ('loved', 78618), ('else', 78483), ('mind', 78291), ('save', 77407), ('hope', 77362), ('op', 76883), ('wish', 76419), ('seen', 76357), ('stop', 75230), ('boss', 75036), ('felt', 74781), ('solid', 74443), ('support', 74151), ('mods', 73784), ('someone', 73727), ('ending', 73671), ('buying', 73632), ('hit', 73522), ('place', 73247), ('idea', 73020), ('completely', 72962), ('fix', 72717), ('hell', 72698), ('control', 72581), ('excellent', 72545), ('seem', 72350), ('build', 72209), ('extremely', 71985), ('atmosphere', 71877), ('win', 71470), ('video', 71404), ('works', 71164), ('hour', 71111), ('x', 71030), ('reviews', 70830), ('learn', 70756), ('later', 70430), ('co', 70329), ('controller', 70178), ('running', 70155), ('often', 69917), ('fighting', 69906), ('year', 69762), ('city', 69674), ('spend', 69667), ('recommended', 69665), ('challenge', 69661), ('expect', 69411), ('developers', 69364), ('opinion', 69340), ('u', 69273), ('easily', 69237), ('options', 68776), ('needs', 68721), ('type', 68330), ('started', 68207), ('spent', 68157), ('classic', 68116), ('cant', 67923), ('oh', 67903), ('battle', 67893), ('tell', 67675), ('wrong', 67662), ('move', 67648), ('funny', 67638), ('others', 67604), ('please', 67548), ('wanted', 67365), ('took', 67099), ('guns', 67031), ('problems', 66816), ('comes', 66705), ('sense', 66260), ('release', 66189), ('plot', 66026), ('certain', 65977), ('liked', 65843), ('genre', 65501), ('friend', 65420), ('storyline', 65380), ('update', 65349), ('ok', 65219), ('mission', 65217), ('choose', 65204), ('basically', 65002), ('slow', 64983), ('points', 64515), ('came', 64327), ('building', 64272), ('simulator', 64167), ('alot', 63855), ('low', 63723), ('due', 63722), ('man', 63362), ('weapon', 63237), ('skill', 63200), ('annoying', 63128), ('cannot', 63054), ('im', 62709), ('become', 62337), ('days', 62038), ('tried', 62029), ('read', 61800), ('understand', 61249), ('horror', 61226), ('mean', 61125), ('random', 61113), ('computer', 61095), ('feeling', 60926), ('variety', 60885), ('watch', 60787), ('title', 60607), ('unless', 60585), ('acting', 60544), ('ways', 60425), ('fine', 60332), ('together', 60318), ('choices', 59919), ('three', 59607), ('couple', 59155), ('past', 59118), ('gaming', 59117), ('features', 59059), ('finish', 58931), ('zombies', 58855), ('lack', 58844), ('gives', 58410), ('line', 58270), ('finally', 58172), ('runs', 57899), ('total', 57880), ('finished', 57706), ('stealth', 57367), ('final', 57080), ('terrible', 57076), ('call', 56804), ('elements', 56425), ('shoot', 56389), ('along', 56131), ('honestly', 56103), ('mouse', 56017), ('job', 55721), ('goes', 55698), ('ship', 55671), ('us', 55326), ('settings', 55318), ('quests', 55318), ('killing', 55051), ('true', 54907), ('mod', 54795), ('frustrating', 54637), ('setting', 54610), ('addictive', 54466), ('value', 54335), ('early', 54068), ('hate', 53711), ('death', 53709), ('entire', 53398), ('repetitive', 53265), ('mostly', 53184), ('several', 53179), ('similar', 53156), ('battles', 53117), ('skills', 53040), ('jump', 52925), ('gun', 52818), ('previous', 52679), ('fans', 52083), ('lost', 52054), ('quickly', 52029), ('issue', 51727), ('p', 51689), ('truly', 51560), ('matter', 51505), ('course', 51488), ('means', 51487), ('despite', 51378), ('seriously', 51355), ('possible', 51263), ('remember', 51094), ('order', 51059), ('v', 51058), ('devs', 50978), ('base', 50737), ('quality', 50558), ('plays', 50549), ('units', 50471), ('coming', 50448), ('totally', 50351), ('attack', 50203), ('added', 50203), ('special', 50138), ('released', 49751), ('fixed', 49587), ('replay', 49536), ('example', 49405), ('explore', 49399), ('multiple', 49094), ('thats', 49033), ('longer', 49031), ('parts', 48927), ('com', 48779), ('crashes', 48770), ('zombie', 48702), ('went', 48571), ('depth', 48446), ('check', 48265), ('kinda', 48206), ('shot', 47905), ('waste', 47675), ('quick', 47652), ('cheap', 47626), ('ones', 47603), ('given', 47508), ('survival', 47479), ('close', 47354), ('button', 47312), ('alone', 47089), ('realistic', 47017), ('progress', 46933), ('ability', 46766), ('hand', 46605), ('port', 46570), ('guess', 46501), ('fire', 46465), ('except', 46133), ('plus', 46079), ('concept', 46051), ('achievements', 45920), ('choice', 45812), ('future', 45790), ('create', 45701), ('worst', 45520), ('large', 45479), ('unlock', 45347), ('shooting', 45312), ('bosses', 45176), ('waiting', 45122), ('soon', 44883), ('sort', 44846), ('forward', 44708), ('guys', 44608), ('fairly', 44564), ('option', 44460), ('sounds', 44272), ('fallout', 44259), ('tons', 43986), ('chance', 43895), ('care', 43864), ('keyboard', 43754), ('writing', 43686), ('damage', 43629), ('actual', 43599), ('within', 43322), ('working', 43309), ('guy', 43300), ('visuals', 43195), ('personally', 43170), ('killed', 42992), ('quest', 42972), ('room', 42930), ('servers', 42861), ('plenty', 42787), ('usually', 42667), ('god', 42651), ('available', 42484), ('incredibly', 42338), ('ps', 42295), ('sequel', 42221), ('power', 42209), ('bored', 42128), ('purchase', 42119), ('ago', 42029), ('souls', 41954), ('negative', 41868), ('k', 41744), ('number', 41600), ('head', 41591), ('e', 41509), ('dialogue', 41440), ('cards', 41342), ('areas', 41154), ('deep', 41107), ('black', 41094), ('engine', 41093), ('broken', 40974), ('behind', 40951), ('stuck', 40924), ('epic', 40912), ('happy', 40901), ('wonderful', 40899), ('youtube', 40892), ('cause', 40890), ('match', 40795), ('face', 40665), ('believe', 40633), ('basic', 40583), ('lose', 40578), ('otherwise', 40556), ('area', 40432), ('poor', 40416), ('f', 40155), ('limited', 40071), ('literally', 39957), ('thinking', 39877), ('rts', 39865), ('learning', 39843), ('reccomend', 39735), ('giving', 39726), ('deal', 39714), ('indie', 39616), ('reading', 39526), ('potential', 39490), ('modern', 39397), ('yeah', 39320), ('light', 39263), ('server', 39202), ('windows', 39100), ('paced', 39075), ('taking', 39064), ('visual', 39022), ('upgrade', 38935), ('monsters', 38880), ('okay', 38771), ('normal', 38573), ('updates', 38571), ('night', 38492), ('anyway', 38488), ('satisfying', 38484), ('non', 38444), ('tutorial', 38331), ('leave', 38328), ('damn', 38276), ('abilities', 38261), ('beginning', 38256), ('somewhat', 38228), ('extra', 38192), ('car', 37935), ('keeps', 37888), ('addicting', 37881), ('modes', 37842), ('exactly', 37840), ('school', 37801), ('stupid', 37707), ('saying', 37662), ('developer', 37607), ('rate', 37492), ('moment', 37460), ('max', 37425), ('rest', 37393), ('show', 37366), ('figure', 37355), ('xbox', 37148), ('compared', 37089), ('classes', 37035), ('entertaining', 36817), ('speed', 36810), ('smooth', 36802), ('gave', 36684), ('star', 36585), ('effects', 36570), ('wow', 36482), ('download', 36473), ('pass', 36457), ('moments', 36332), ('cars', 36295), ('minecraft', 36210), ('card', 36149), ('various', 36094), ('ships', 36028), ('name', 36004), ('platformer', 35901), ('general', 35883), ('third', 35779), ('class', 35723), ('menu', 35683), ('brilliant', 35649), ('key', 35628), ('edit', 35433), ('certainly', 35432), ('major', 35431), ('needed', 35366), ('events', 35277), ('called', 35073), ('live', 35064), ('important', 35006), ('playthrough', 34909), ('heart', 34855), ('thanks', 34818), ('casual', 34770), ('impossible', 34713), ('gear', 34690), ('horrible', 34681), ('adds', 34626), ('aspect', 34587), ('incredible', 34571), ('upgrades', 34521), ('crash', 34414), ('types', 34403), ('saw', 34351), ('becomes', 34348), ('worse', 34333), ('designed', 34300), ('walking', 34255), ('weird', 34250), ('crap', 34121), ('bug', 34002), ('fantasy', 33984), ('cry', 33958), ('replayability', 33949), ('throughout', 33931), ('physics', 33929), ('bring', 33878), ('magic', 33873), ('patch', 33796), ('whatever', 33761), ('score', 33744), ('changes', 33632), ('civ', 33445), ('loot', 33392), ('constantly', 33315), ('tactical', 33289), ('harder', 33254), ('note', 33090), ('dungeon', 33079), ('unfortunately', 33071), ('franchise', 33033), ('fights', 32915), ('humor', 32863), ('sad', 32852), ('massive', 32773), ('gta', 32722), ('exploration', 32719), ('missing', 32625), ('across', 32615), ('movie', 32606), ('happen', 32588), ('movement', 32568), ('starting', 32515), ('party', 32476), ('feature', 32439), ('easier', 32253), ('cod', 32219), ('hidden', 32151), ('near', 32138), ('paid', 32129), ('offer', 32091), ('expected', 32017), ('regret', 32008), ('master', 32006), ('minor', 31895), ('mechanic', 31808), ('tower', 31776), ('stay', 31705), ('starts', 31650), ('higher', 31604), ('age', 31573), ('fair', 31557), ('lt', 31487), ('launch', 31471), ('attention', 31466), ('recomend', 31434), ('decided', 31418), ('serious', 31347), ('endless', 31306), ('load', 31240), ('continue', 31235), ('grind', 31224), ('clear', 31183), ('says', 31147), ('camera', 31130), ('case', 31107), ('lag', 31104), ('sucks', 31075), ('cute', 30993), ('break', 30950), ('portal', 30946), ('moving', 30753), ('allows', 30748), ('alien', 30712), ('development', 30699), ('mention', 30680), ('straight', 30679), ('core', 30671), ('hold', 30653), ('scary', 30637), ('whether', 30508), ('strong', 30506), ('home', 30484), ('access', 30449), ('nearly', 30374), ('interested', 30351), ('item', 30305), ('sim', 30300), ('console', 30296), ('gold', 30294), ('heard', 30262), ('piece', 30254), ('gone', 30221), ('group', 30213), ('cut', 30193), ('performance', 30176), ('upon', 30145), ('slightly', 30099), ('miss', 30090), ('disappointed', 30017), ('health', 30005), ('complex', 29991), ('crazy', 29967), ('ive', 29835), ('arcade', 29748), ('environment', 29748), ('turns', 29707), ('challenges', 29673), ('current', 29618), ('addition', 29600), ('effect', 29558), ('gonna', 29545), ('customization', 29502), ('buggy', 29500), ('graphic', 29497), ('avoid', 29423), ('finding', 29414), ('fully', 29397), ('today', 29360), ('list', 29320), ('anymore', 29301), ('r', 29291), ('walk', 29277), ('playable', 29240), ('drop', 29226), ('heroes', 29184), ('driving', 29163), ('perfectly', 29010), ('glitches', 28987), ('none', 28952), ('doom', 28949), ('animations', 28918), ('titles', 28912), ('requires', 28880), ('told', 28778), ('detail', 28712), ('lets', 28631), ('join', 28622), ('improved', 28611), ('linear', 28611), ('completed', 28511), ('step', 28482), ('balance', 28438), ('lol', 28408), ('edition', 28401), ('follow', 28375), ('engaging', 28327), ('terraria', 28317), ('words', 28216), ('stories', 28207), ('likely', 28191), ('seeing', 28178), ('blood', 28174), ('mix', 28145), ('likes', 28137), ('unlike', 28062), ('shooters', 28029), ('history', 27925), ('including', 27917), ('suggest', 27893), ('universe', 27865), ('written', 27845), ('happens', 27760), ('offers', 27759), ('changed', 27746), ('evil', 27694), ('wont', 27661), ('wall', 27608), ('rating', 27591), ('months', 27583), ('stand', 27425), ('seconds', 27408), ('pvp', 27402), ('beyond', 27346), ('scenes', 27334), ('planet', 27269), ('write', 27260), ('created', 27183), ('watching', 27167), ('monster', 27145), ('positive', 27132), ('considering', 27118), ('mmo', 27077), ('wars', 27058), ('diablo', 27058), ('blast', 26999), ('terms', 26913), ('c', 26793), ('racing', 26779), ('defense', 26642), ('four', 26628), ('batman', 26627), ('crafting', 26624), ('curve', 26588), ('focus', 26520), ('human', 26512), ('rewarding', 26475), ('kept', 26436), ('ground', 26434), ('biggest', 26411), ('glad', 26353), ('greatest', 26351), ('sadly', 26314), ('doesnt', 26203), ('brings', 26192), ('balanced', 26192), ('died', 26181), ('perhaps', 26165), ('red', 26158), ('view', 26077), ('bioshock', 26071), ('turned', 26016), ('force', 25887), ('beta', 25882), ('stick', 25875), ('fall', 25874), ('sandbox', 25874), ('immersive', 25858), ('form', 25853), ('race', 25841), ('ask', 25802), ('talk', 25801), ('hero', 25778), ('favourite', 25775), ('attacks', 25760), ('forget', 25754), ('heavy', 25749), ('drive', 25747), ('aside', 25728), ('ii', 25664), ('path', 25643), ('towards', 25636), ('gamer', 25564), ('resources', 25540), ('masterpiece', 25530), ('aspects', 25445), ('house', 25416), ('duty', 25416), ('shame', 25373), ('n', 25358), ('awful', 25336), ('cost', 25336), ('episode', 25324), ('intense', 25293), ('personal', 25205), ('range', 25194), ('allow', 25128), ('places', 25121), ('armor', 25078), ('state', 25021), ('wants', 24997), ('five', 24969), ('www', 24947), ('powerful', 24921), ('luck', 24880), ('flaws', 24820), ('gb', 24752), ('loading', 24732), ('happened', 24721), ('refund', 24721), ('hands', 24715), ('eventually', 24700), ('currently', 24691), ('direction', 24644), ('ton', 24629), ('b', 24624), ('fly', 24592), ('lore', 24569), ('creative', 24521), ('company', 24495), ('background', 24490), ('moves', 24475), ('pack', 24390), ('solve', 24377), ('bunch', 24338), ('thank', 24332), ('exploring', 24328), ('ui', 24324), ('supposed', 24307), ('expecting', 24296), ('looked', 24261), ('honest', 24220), ('shows', 24170), ('cover', 24139), ('worked', 24110), ('standard', 24005), ('grab', 24000), ('mess', 23943), ('gamers', 23938), ('bucks', 23919), ('enjoying', 23912), ('rpgs', 23891), ('hardcore', 23871), ('hear', 23859), ('depending', 23856), ('dollars', 23814), ('require', 23806), ('didnt', 23789), ('water', 23744), ('interface', 23741), ('dying', 23692), ('family', 23687), ('grinding', 23644), ('account', 23639), ('novel', 23597), ('skyrim', 23551), ('reach', 23436), ('borderlands', 23433), ('melee', 23402), ('expansion', 23374), ('progression', 23371), ('average', 23357), ('track', 23337), ('text', 23293), ('season', 23277), ('army', 23154), ('throw', 23152), ('survive', 23129), ('fresh', 23066), ('air', 23042)]\n"
     ]
    }
   ],
   "source": [
    "# get word count of all reviews\n",
    "\n",
    "from collections import Counter\n",
    "\n",
    "def get_word_frequency(df, review):\n",
    "    word_freq = Counter()\n",
    "    for sentence in df[review].values:\n",
    "        word_freq.update(sentence.split())\n",
    "    return word_freq\n",
    "\n",
    "word_freq = get_word_frequency(dataset, 'review_text')\n",
    "\n",
    "# get the number of unique words\n",
    "print(len(word_freq))\n",
    "\n",
    "# get the most common words\n",
    "print(word_freq.most_common(1000))"
   ]
  },
  {
   "cell_type": "code",
   "execution_count": 6,
   "metadata": {},
   "outputs": [
    {
     "data": {
      "text/html": [
       "<div>\n",
       "<style scoped>\n",
       "    .dataframe tbody tr th:only-of-type {\n",
       "        vertical-align: middle;\n",
       "    }\n",
       "\n",
       "    .dataframe tbody tr th {\n",
       "        vertical-align: top;\n",
       "    }\n",
       "\n",
       "    .dataframe thead th {\n",
       "        text-align: right;\n",
       "    }\n",
       "</style>\n",
       "<table border=\"1\" class=\"dataframe\">\n",
       "  <thead>\n",
       "    <tr style=\"text-align: right;\">\n",
       "      <th></th>\n",
       "      <th>word</th>\n",
       "      <th>freq</th>\n",
       "    </tr>\n",
       "  </thead>\n",
       "  <tbody>\n",
       "    <tr>\n",
       "      <th>0</th>\n",
       "      <td>game</td>\n",
       "      <td>6442590</td>\n",
       "    </tr>\n",
       "    <tr>\n",
       "      <th>1</th>\n",
       "      <td>like</td>\n",
       "      <td>1353795</td>\n",
       "    </tr>\n",
       "    <tr>\n",
       "      <th>2</th>\n",
       "      <td>play</td>\n",
       "      <td>1093181</td>\n",
       "    </tr>\n",
       "    <tr>\n",
       "      <th>3</th>\n",
       "      <td>good</td>\n",
       "      <td>1018245</td>\n",
       "    </tr>\n",
       "    <tr>\n",
       "      <th>4</th>\n",
       "      <td>one</td>\n",
       "      <td>999869</td>\n",
       "    </tr>\n",
       "  </tbody>\n",
       "</table>\n",
       "</div>"
      ],
      "text/plain": [
       "   word     freq\n",
       "0  game  6442590\n",
       "1  like  1353795\n",
       "2  play  1093181\n",
       "3  good  1018245\n",
       "4   one   999869"
      ]
     },
     "execution_count": 6,
     "metadata": {},
     "output_type": "execute_result"
    }
   ],
   "source": [
    "# create a dataframe from word_freq\n",
    "\n",
    "word_freq_df = pd.DataFrame(word_freq.most_common(len(word_freq)), columns=['word', 'freq'])\n",
    "\n",
    "word_freq_df.head()"
   ]
  },
  {
   "cell_type": "code",
   "execution_count": 7,
   "metadata": {},
   "outputs": [
    {
     "data": {
      "text/html": [
       "<div>\n",
       "<style scoped>\n",
       "    .dataframe tbody tr th:only-of-type {\n",
       "        vertical-align: middle;\n",
       "    }\n",
       "\n",
       "    .dataframe tbody tr th {\n",
       "        vertical-align: top;\n",
       "    }\n",
       "\n",
       "    .dataframe thead th {\n",
       "        text-align: right;\n",
       "    }\n",
       "</style>\n",
       "<table border=\"1\" class=\"dataframe\">\n",
       "  <thead>\n",
       "    <tr style=\"text-align: right;\">\n",
       "      <th></th>\n",
       "      <th>word</th>\n",
       "      <th>freq</th>\n",
       "    </tr>\n",
       "  </thead>\n",
       "  <tbody>\n",
       "    <tr>\n",
       "      <th>0</th>\n",
       "      <td>game</td>\n",
       "      <td>6442590</td>\n",
       "    </tr>\n",
       "    <tr>\n",
       "      <th>1</th>\n",
       "      <td>like</td>\n",
       "      <td>1353795</td>\n",
       "    </tr>\n",
       "    <tr>\n",
       "      <th>2</th>\n",
       "      <td>play</td>\n",
       "      <td>1093181</td>\n",
       "    </tr>\n",
       "    <tr>\n",
       "      <th>3</th>\n",
       "      <td>good</td>\n",
       "      <td>1018245</td>\n",
       "    </tr>\n",
       "    <tr>\n",
       "      <th>4</th>\n",
       "      <td>one</td>\n",
       "      <td>999869</td>\n",
       "    </tr>\n",
       "    <tr>\n",
       "      <th>...</th>\n",
       "      <td>...</td>\n",
       "      <td>...</td>\n",
       "    </tr>\n",
       "    <tr>\n",
       "      <th>995</th>\n",
       "      <td>army</td>\n",
       "      <td>23154</td>\n",
       "    </tr>\n",
       "    <tr>\n",
       "      <th>996</th>\n",
       "      <td>throw</td>\n",
       "      <td>23152</td>\n",
       "    </tr>\n",
       "    <tr>\n",
       "      <th>997</th>\n",
       "      <td>survive</td>\n",
       "      <td>23129</td>\n",
       "    </tr>\n",
       "    <tr>\n",
       "      <th>998</th>\n",
       "      <td>fresh</td>\n",
       "      <td>23066</td>\n",
       "    </tr>\n",
       "    <tr>\n",
       "      <th>999</th>\n",
       "      <td>air</td>\n",
       "      <td>23042</td>\n",
       "    </tr>\n",
       "  </tbody>\n",
       "</table>\n",
       "<p>1000 rows × 2 columns</p>\n",
       "</div>"
      ],
      "text/plain": [
       "        word     freq\n",
       "0       game  6442590\n",
       "1       like  1353795\n",
       "2       play  1093181\n",
       "3       good  1018245\n",
       "4        one   999869\n",
       "..       ...      ...\n",
       "995     army    23154\n",
       "996    throw    23152\n",
       "997  survive    23129\n",
       "998    fresh    23066\n",
       "999      air    23042\n",
       "\n",
       "[1000 rows x 2 columns]"
      ]
     },
     "execution_count": 7,
     "metadata": {},
     "output_type": "execute_result"
    }
   ],
   "source": [
    "word_freq_df.iloc[:1000]"
   ]
  },
  {
   "cell_type": "code",
   "execution_count": 8,
   "metadata": {},
   "outputs": [],
   "source": [
    "# save the df to csv\n",
    "\n",
    "word_freq_df.to_csv('word_freq.csv', index=False)"
   ]
  },
  {
   "cell_type": "code",
   "execution_count": 9,
   "metadata": {},
   "outputs": [],
   "source": [
    "import spacy\n",
    "from string import punctuation\n",
    "from spacy.lang.en import stop_words\n",
    "\n",
    "import nltk\n",
    "from nltk.corpus import stopwords"
   ]
  },
  {
   "cell_type": "code",
   "execution_count": 12,
   "metadata": {},
   "outputs": [],
   "source": [
    "spacy_stopwords = set(spacy.lang.en.stop_words.STOP_WORDS)\n",
    "nltk_stopwords = set(stopwords.words('english'))"
   ]
  },
  {
   "cell_type": "code",
   "execution_count": 14,
   "metadata": {},
   "outputs": [
    {
     "name": "stdout",
     "output_type": "stream",
     "text": [
      "{'doing', 'herself', 'both', 'above', 'between', 'not', 'in', 'all', 'and', 'am', 'further', 'myself', 'while', 'me', 'again', 'nor', 'this', 'each', 'until', 'who', 'where', 'same', 'after', 'from', 'you', 'whom', 'yourselves', 'were', 'her', 'itself', 'through', 'was', 'are', 'him', 'to', 'or', 'which', 'then', 'here', 'other', 'yours', 'his', 'hers', 'been', 'should', 'such', 'very', 'will', 'had', 'my', 'at', 'they', 'when', 'with', 'no', 'but', 'did', 'ours', 'about', 'does', 'himself', 'too', 'of', 'own', 'below', 'an', 'now', 'there', 'that', 'why', 'being', 'these', 'if', 'out', 'on', 'i', 'yourself', 'off', 'most', 'as', 'into', 'a', 'themselves', 'is', 'it', 'their', 'how', 'she', 'we', 'because', 'just', 'your', 'do', 'any', 'before', 'during', 'have', 'for', 'more', 'what', 'the', 'them', 'under', 'only', 'its', 'he', 'over', 'can', 'some', 'by', 'once', 'against', 'our', 'so', 'than', 'ourselves', 'few', 'down', 're', 'has', 'those', 'be', 'up'}\n"
     ]
    }
   ],
   "source": [
    "same = spacy_stopwords.intersection(nltk_stopwords)\n",
    "print(same)"
   ]
  },
  {
   "cell_type": "code",
   "execution_count": 17,
   "metadata": {},
   "outputs": [
    {
     "name": "stdout",
     "output_type": "stream",
     "text": [
      "{'made', 'nothing', 'eight', 'hence', 'across', 'eleven', 'whatever', 'whither', 'll', 'm', 'get', 'last', 'wasn', 'ten', 'haven', 'otherwise', 'noone', 's', 'due', \"n't\", \"couldn't\", 'us', 'elsewhere', 'must', 'show', 'therein', 'became', 'seeming', 'nobody', 'also', 'thence', \"'ll\", 'whose', 'somehow', 'four', 'namely', \"hasn't\", \"shan't\", 'everything', \"needn't\", '’re', 'nowhere', 'needn', 've', 'latter', 'although', \"'d\", 'never', 'theirs', 'go', 'keep', 'often', 'afterwards', 'even', '’m', 'many', 'nevertheless', 'unless', 'hereupon', 'isn', 'take', 'hasn', 'without', 'seem', 'per', \"mustn't\", 'call', \"didn't\", 'twelve', 'please', \"'m\", 'ca', 'thus', 'hereby', 'wherein', 'every', 'various', 'back', 'whereupon', 'amongst', '‘s', \"you've\", 'give', 'might', 'serious', 'besides', 'together', 'fifteen', 'fifty', \"don't\", 'become', 'wouldn', 'quite', 'say', 'y', 'none', 'whereas', 'others', 'whoever', 'yet', 'several', 'within', 'moreover', 'amount', 'via', \"it's\", 'couldn', \"hadn't\", 'around', '‘ve', 'however', 'thereupon', \"aren't\", \"won't\", 'regarding', 'one', 'well', 'shan', \"you're\", 'less', 'formerly', 'upon', 'towards', 'everywhere', 'don', \"'ve\", 'first', 'name', 'behind', 'anyhow', 'empty', 'much', 'five', 'make', 'another', 'indeed', 'o', \"isn't\", \"haven't\", 'onto', 'shouldn', 'whether', 'sometimes', 'anything', 'ain', 'having', \"shouldn't\", 'ever', 'something', '‘re', \"wouldn't\", 'sixty', 'becoming', 'n’t', \"weren't\", 'hundred', 'would', 'front', 'twenty', 'somewhere', 'toward', 'mightn', 'mostly', \"'s\", 'done', 'using', 'thereby', 'seemed', 'except', 'alone', 'enough', \"should've\", 'therefore', 'seems', 'rather', '’s', 'forty', 'weren', 'herein', 'whereby', 'along', \"wasn't\", \"doesn't\", 'anywhere', 'whenever', 'cannot', 'n‘t', 'mustn', 'hereafter', 'see', 'hadn', 'third', 'whole', 'since', 'd', 'bottom', 'won', 'sometime', 'top', 'always', 'though', 'move', 'throughout', 'could', 'whence', 'didn', 'full', '’ll', 'three', '’d', 'beforehand', 'beside', 'former', 'anyway', 'neither', '’ve', 'really', '‘m', \"'re\", 'someone', 'meanwhile', 'becomes', 'still', 'thru', 'mine', 'anyone', 'least', 'wherever', 'six', \"you'll\", 'perhaps', 'side', 'almost', \"mightn't\", 'whereafter', 't', 'used', 'latterly', 'ma', 'next', \"you'd\", 'already', \"that'll\", 'two', '‘ll', 'else', 'nine', 'thereafter', 'doesn', 'everyone', 'part', '‘d', 'either', 'put', 'aren', 'among', \"she's\", 'may', 'beyond'}\n"
     ]
    }
   ],
   "source": [
    "symmetric_diff = spacy_stopwords ^ nltk_stopwords\n",
    "print(symmetric_diff)"
   ]
  },
  {
   "cell_type": "code",
   "execution_count": 18,
   "metadata": {},
   "outputs": [
    {
     "name": "stdout",
     "output_type": "stream",
     "text": [
      "{\"should've\", \"mustn't\", 'didn', \"didn't\", \"hasn't\", \"shan't\", 'o', 'weren', \"you'll\", \"needn't\", \"isn't\", \"haven't\", \"mightn't\", 'll', 'shouldn', \"wasn't\", 't', \"doesn't\", 'm', 'ain', \"it's\", 'having', \"shouldn't\", 'couldn', \"hadn't\", 'ma', 'needn', 've', 'y', 'wasn', \"you'd\", \"aren't\", \"won't\", 'haven', 'mustn', 's', \"that'll\", \"wouldn't\", 'theirs', 'hadn', \"you've\", 'shan', \"couldn't\", \"you're\", 'doesn', \"weren't\", 'don', 'aren', \"don't\", 'mightn', 'isn', 'wouldn', \"she's\", 'hasn', 'd', 'won'}\n"
     ]
    }
   ],
   "source": [
    "diff = nltk_stopwords - spacy_stopwords\n",
    "print(diff)"
   ]
  },
  {
   "cell_type": "code",
   "execution_count": 19,
   "metadata": {},
   "outputs": [
    {
     "name": "stdout",
     "output_type": "stream",
     "text": [
      "{'made', 'nothing', 'eight', 'hence', 'much', 'five', 'across', 'eleven', 'whatever', 'make', 'another', 'indeed', 'whither', 'onto', 'whether', 'sometimes', 'anything', 'get', 'last', 'ever', 'something', '‘re', 'ten', 'otherwise', 'noone', 'due', 'sixty', \"n't\", 'becoming', 'us', 'n’t', 'elsewhere', 'must', 'hundred', 'would', 'show', 'therein', 'became', 'front', 'twenty', 'seeming', 'somewhere', 'toward', 'nobody', 'mostly', 'also', 'thence', \"'ll\", \"'s\", 'done', 'using', 'thereby', 'whose', 'seemed', 'except', 'alone', 'enough', 'somehow', 'therefore', 'seems', 'four', 'rather', 'namely', '’s', 'forty', 'everything', 'herein', 'whereby', '’re', 'along', 'anywhere', 'nowhere', 'whenever', 'latter', 'although', \"'d\", 'cannot', 'n‘t', 'never', 'hereafter', 'see', 'third', 'go', 'keep', 'often', 'afterwards', 'even', 'whole', '’m', 'many', 'nevertheless', 'unless', 'hereupon', 'take', 'without', 'since', 'bottom', 'seem', 'sometime', 'top', 'always', 'though', 'per', 'move', 'call', 'throughout', 'could', 'whence', 'full', '’ll', 'twelve', 'please', \"'m\", 'three', '’d', 'beforehand', 'beside', 'ca', 'thus', 'hereby', 'wherein', 'every', 'various', 'back', 'whereupon', 'former', 'amongst', '‘s', 'anyway', 'give', 'might', 'serious', 'besides', 'together', 'fifteen', 'neither', '’ve', 'really', '‘m', \"'re\", 'someone', 'meanwhile', 'fifty', 'becomes', 'still', 'thru', 'become', 'quite', 'say', 'mine', 'anyone', 'least', 'none', 'whereas', 'wherever', 'six', 'others', 'whoever', 'yet', 'several', 'within', 'moreover', 'perhaps', 'side', 'almost', 'whereafter', 'amount', 'via', 'used', 'latterly', 'next', 'around', '‘ve', 'however', 'thereupon', 'regarding', 'already', 'one', 'well', 'two', '‘ll', 'else', 'nine', 'thereafter', 'less', 'everyone', 'formerly', 'part', 'upon', 'towards', 'everywhere', '‘d', 'either', 'put', \"'ve\", 'first', 'among', 'name', 'behind', 'may', 'anyhow', 'empty', 'beyond'}\n"
     ]
    }
   ],
   "source": [
    "diff2 = spacy_stopwords - nltk_stopwords\n",
    "print(diff2)"
   ]
  },
  {
   "cell_type": "markdown",
   "metadata": {},
   "source": [
    "Combining more stopwords may achieve better performance in topic modelling\n",
    "\n",
    "by removing connectives, appreprositions, pronouns, ..."
   ]
  },
  {
   "cell_type": "markdown",
   "metadata": {},
   "source": [
    "---"
   ]
  },
  {
   "cell_type": "markdown",
   "metadata": {},
   "source": [
    "TODO: Build custom stopword list for LDA"
   ]
  },
  {
   "cell_type": "code",
   "execution_count": null,
   "metadata": {},
   "outputs": [],
   "source": []
  }
 ],
 "metadata": {
  "kernelspec": {
   "display_name": "fyp-test-wsl-tm",
   "language": "python",
   "name": "python3"
  },
  "language_info": {
   "codemirror_mode": {
    "name": "ipython",
    "version": 3
   },
   "file_extension": ".py",
   "mimetype": "text/x-python",
   "name": "python",
   "nbconvert_exporter": "python",
   "pygments_lexer": "ipython3",
   "version": "3.9.18"
  }
 },
 "nbformat": 4,
 "nbformat_minor": 2
}
