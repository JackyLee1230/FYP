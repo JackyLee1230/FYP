{
 "cells": [
  {
   "cell_type": "code",
   "execution_count": 1,
   "metadata": {},
   "outputs": [],
   "source": [
    "from datetime import datetime\n",
    "import os\n",
    "import time\n",
    "import requests\n",
    "import json\n",
    "\n",
    "import pickle\n",
    "from pathlib import Path\n",
    "import traceback"
   ]
  },
  {
   "cell_type": "code",
   "execution_count": 2,
   "metadata": {},
   "outputs": [],
   "source": [
    "# call API to retrieve comments of a game with a game id\n",
    "\n",
    "# game_steamid = 1716740          # starfield\n",
    "# game_name = 'starfield'\n",
    "\n",
    "# game_steamid = 2138330          # cyberpunk2077 phantom liberty\n",
    "# game_name = 'cyberpunk2077_phantom_liberty'\n",
    "\n",
    "# game_steamid = 1091500          # cyberpunk2077\n",
    "# game_name = 'cyberpunk2077'\n",
    "\n",
    "# game_steamid = 1118010\n",
    "# game_name = 'monster_hunter_world_iceborne'\n",
    "\n",
    "# game_steamid = 582010\n",
    "# game_name = 'monster_hunter_world'\n",
    "\n",
    "# game_steamid = 730\n",
    "# game_name = 'counter-strike_2'\n",
    "\n",
    "# game_steamid = 570\n",
    "# game_name = \"dota2\"\n",
    "\n",
    "# game_steamid = 2138330\n",
    "# game_name = 'cyberpunk2077_phantom_liberty'\n",
    "\n",
    "# game_steamid = 1814540\n",
    "# game_name = 'cosmos_conquer'\n",
    "\n",
    "# game_steamid = 1814520\n",
    "# game_name = 'find_the_cat'\n",
    "\n",
    "# game_steamid = 1814480\n",
    "# game_name = 'fourplay_chess'\n",
    "\n",
    "# game_steamid = 1757970\n",
    "# game_name = 'oasis_dark_forest'\n",
    "\n",
    "# game_steamid = 1607720\n",
    "# game_name = 'rimebeard'\n",
    "\n",
    "# game_steamid = 1814460\n",
    "# game_name = 'the_brave_vs_dragon'\n",
    "\n",
    "# game_steamid = 1814510\n",
    "# game_name = 'yavi'\n",
    "\n",
    "game_steamid_name_list = [\n",
    "    (1716740, 'starfield'),\n",
    "    (2138330, 'cyberpunk2077_phantom_liberty'),\n",
    "    (1091500, 'cyberpunk2077'),\n",
    "    (1118010, 'monster_hunter_world_iceborne'),\n",
    "    (582010, 'monster_hunter_world'),\n",
    "    (730, 'counter-strike_2'),\n",
    "    (570, 'dota2'),\n",
    "    (2138330, 'cyberpunk2077_phantom_liberty'),\n",
    "    (1814540, 'cosmos_conquer'),\n",
    "    (1814520, 'find_the_cat'),\n",
    "    (1814480, 'fourplay_chess'),\n",
    "    (1757970, 'oasis_dark_forest'),\n",
    "    (1607720, 'rimebeard'),\n",
    "    (1814460, 'the_brave_vs_dragon'),\n",
    "    (1814510, 'yavi')\n",
    "]\n",
    "\n",
    "params = {\n",
    "    'json':1,\n",
    "    'cursor':'*',\n",
    "    'num_per_page':100,\n",
    "    'language':'english',       # only english reviews\n",
    "    'filter':'recent',\n",
    "    'review_type':'all',\n",
    "    'purchase_type':'all'\n",
    "\n",
    "}\n",
    "\n",
    "# api doc: https://partner.steamgames.com/doc/store/getreviews\n",
    "# reviews_req = requests.get(f\"https://store.steampowered.com/appreviews/{game_steamid}\", params=params)"
   ]
  },
  {
   "cell_type": "code",
   "execution_count": 7,
   "metadata": {},
   "outputs": [
    {
     "name": "stdout",
     "output_type": "stream",
     "text": [
      "Loaded: starfield/steam_reviews_1716740_20240210191441.pkl\n",
      "Loaded: cyberpunk2077_phantom_liberty/steam_reviews_2138330_20240311161752.pkl\n",
      "Loaded: cyberpunk2077/steam_reviews_1091500_20240210230848.pkl\n",
      "Loaded: monster_hunter_world_iceborne/steam_reviews_1118010_20240224170528.pkl\n",
      "Loaded: monster_hunter_world/steam_reviews_582010_20240226135807.pkl\n",
      "Loaded: counter-strike_2/steam_reviews_730_20240226235729.pkl\n",
      "Loaded: dota2/steam_reviews_570_20240311164236.pkl\n",
      "Loaded: cyberpunk2077_phantom_liberty/steam_reviews_2138330_20240311161752.pkl\n",
      "Loaded: cosmos_conquer/steam_reviews_1814540_20240311164748.pkl\n",
      "Loaded: find_the_cat/steam_reviews_1814520_20240311164657.pkl\n",
      "Loaded: fourplay_chess/steam_reviews_1814480_20240311164511.pkl\n",
      "Loaded: oasis_dark_forest/steam_reviews_1757970_20240311164846.pkl\n",
      "Loaded: rimebeard/steam_reviews_1607720_20240311164551.pkl\n",
      "Loaded: the_brave_vs_dragon/steam_reviews_1814460_20240311164426.pkl\n",
      "Loaded: yavi/steam_reviews_1814510_20240311164621.pkl\n"
     ]
    }
   ],
   "source": [
    "# load the reviews from folder\n",
    "\n",
    "reviews_reqs_list = []\n",
    "\n",
    "# get existing folder and retrieve the cursor object (?)\n",
    "\n",
    "# load the latest file\n",
    "\n",
    "for (game_steamid, game_name) in game_steamid_name_list:\n",
    "    game_folder = Path(f'./{game_name}')\n",
    "    if game_folder.exists():\n",
    "        try:\n",
    "            latest_file_path = sorted(game_folder.glob(f'steam_reviews_{game_steamid}_2024*.pkl'))[-1]\n",
    "            with open(latest_file_path, 'rb') as f:\n",
    "                reviews_reqs = pickle.load(f)           # retrieve the list of reviews\n",
    "                # cursor_str = reviews_reqs[-1]['cursor']\n",
    "                print('Loaded:', latest_file_path)\n",
    "                # print('Cursor:', cursor_str)\n",
    "\n",
    "                reviews_reqs_list.append(reviews_reqs)\n",
    "        except IndexError as e:\n",
    "            print('Error loading the latest file:', e)\n",
    "            traceback.print_exc()"
   ]
  },
  {
   "cell_type": "code",
   "execution_count": 8,
   "metadata": {},
   "outputs": [
    {
     "name": "stdout",
     "output_type": "stream",
     "text": [
      "Number of reviews: 1088\n",
      "Number of reviews: 67\n",
      "Number of reviews: 5600\n",
      "Number of reviews: 70\n",
      "Number of reviews: 1431\n",
      "Number of reviews: 2550\n",
      "Number of reviews: 607\n",
      "Number of reviews: 67\n",
      "Number of reviews: 1\n",
      "Number of reviews: 1\n",
      "Number of reviews: 1\n",
      "Number of reviews: 1\n",
      "Number of reviews: 1\n",
      "Number of reviews: 1\n",
      "Number of reviews: 1\n"
     ]
    }
   ],
   "source": [
    "for reviews_reqs in reviews_reqs_list:\n",
    "    print('Number of reviews:', len(reviews_reqs))"
   ]
  },
  {
   "cell_type": "code",
   "execution_count": 15,
   "metadata": {},
   "outputs": [
    {
     "data": {
      "text/plain": [
       "1088"
      ]
     },
     "execution_count": 15,
     "metadata": {},
     "output_type": "execute_result"
    }
   ],
   "source": [
    "len(reviews_reqs)"
   ]
  },
  {
   "cell_type": "code",
   "execution_count": 9,
   "metadata": {},
   "outputs": [],
   "source": [
    "number_of_reviews_list = []\n",
    "\n",
    "\n",
    "for reviews_reqs in reviews_reqs_list:\n",
    "\n",
    "    review_list = []\n",
    "\n",
    "    # datetime_until = datetime(2023, 1, 1, 0, 0, 0)\n",
    "\n",
    "    for reviews_req in reviews_reqs:\n",
    "        review_list.extend(reviews_req['reviews'])\n",
    "\n",
    "    # filter by unique 'recommendationid'\n",
    "    unique_review_list = []\n",
    "    unique_review_ids = set()\n",
    "\n",
    "    for review in review_list:\n",
    "        if review['recommendationid'] in unique_review_ids:\n",
    "            continue\n",
    "\n",
    "        # if review['timestamp_created'] < datetime_until.timestamp():\n",
    "        #     continue\n",
    "\n",
    "        unique_review_list.append(review)\n",
    "        unique_review_ids.add(review['recommendationid'])\n",
    "\n",
    "    number_of_reviews_list.append(len(unique_review_list))"
   ]
  },
  {
   "cell_type": "code",
   "execution_count": 11,
   "metadata": {},
   "outputs": [
    {
     "name": "stdout",
     "output_type": "stream",
     "text": [
      "Number of unique reviews in starfield: 96734\n",
      "Number of unique reviews in cyberpunk2077_phantom_liberty: 6673\n",
      "Number of unique reviews in cyberpunk2077: 299934\n",
      "Number of unique reviews in monster_hunter_world_iceborne: 6913\n",
      "Number of unique reviews in monster_hunter_world: 143026\n",
      "Number of unique reviews in counter-strike_2: 254993\n",
      "Number of unique reviews in dota2: 60697\n",
      "Number of unique reviews in cyberpunk2077_phantom_liberty: 6673\n",
      "Number of unique reviews in cosmos_conquer: 2\n",
      "Number of unique reviews in find_the_cat: 2\n",
      "Number of unique reviews in fourplay_chess: 1\n",
      "Number of unique reviews in oasis_dark_forest: 4\n",
      "Number of unique reviews in rimebeard: 4\n",
      "Number of unique reviews in the_brave_vs_dragon: 2\n",
      "Number of unique reviews in yavi: 15\n"
     ]
    }
   ],
   "source": [
    "for (game_steamid, game_name), number_of_reviews in zip(game_steamid_name_list, number_of_reviews_list):\n",
    "    print(f'Number of unique reviews in {game_name}:', number_of_reviews)"
   ]
  },
  {
   "cell_type": "markdown",
   "metadata": {},
   "source": [
    "Very similar to the time I read the number of reviews: 96741, at 20240211:000030"
   ]
  },
  {
   "cell_type": "code",
   "execution_count": 44,
   "metadata": {},
   "outputs": [],
   "source": [
    "# save the unique reviews\n",
    "\n",
    "# with open(f'./{game_name}/steam_reviews_{game_steamid}_unique.pkl', 'wb') as f:\n",
    "#     pickle.dump(unique_review_list, f)"
   ]
  },
  {
   "cell_type": "markdown",
   "metadata": {},
   "source": [
    "The number excludes off-topic reviews (??)"
   ]
  },
  {
   "cell_type": "markdown",
   "metadata": {},
   "source": [
    "---"
   ]
  }
 ],
 "metadata": {
  "kernelspec": {
   "display_name": "fyp-test-wsl",
   "language": "python",
   "name": "python3"
  },
  "language_info": {
   "codemirror_mode": {
    "name": "ipython",
    "version": 3
   },
   "file_extension": ".py",
   "mimetype": "text/x-python",
   "name": "python",
   "nbconvert_exporter": "python",
   "pygments_lexer": "ipython3",
   "version": "3.9.18"
  }
 },
 "nbformat": 4,
 "nbformat_minor": 2
}
