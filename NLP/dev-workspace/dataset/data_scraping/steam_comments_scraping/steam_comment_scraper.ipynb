{
 "cells": [
  {
   "cell_type": "code",
   "execution_count": 1,
   "metadata": {},
   "outputs": [],
   "source": [
    "from datetime import datetime\n",
    "import os\n",
    "import time\n",
    "import requests\n",
    "import json\n",
    "\n",
    "import pickle\n",
    "from pathlib import Path\n",
    "import traceback"
   ]
  },
  {
   "cell_type": "code",
   "execution_count": 27,
   "metadata": {},
   "outputs": [],
   "source": [
    "# call API to retrieve comments of a game with a game id\n",
    "\n",
    "# game_steamid = 1716740          # starfield\n",
    "# game_name = 'starfield'\n",
    "\n",
    "# game_steamid = 2138330          # cyberpunk2077 phantom liberty\n",
    "# game_name = 'cyberpunk2077_phantom_liberty'\n",
    "\n",
    "# game_steamid = 1091500          # cyberpunk2077\n",
    "# game_name = 'cyberpunk2077'\n",
    "\n",
    "# game_steamid = 1118010\n",
    "# game_name = 'monster_hunter_world_iceborne'\n",
    "\n",
    "# game_steamid = 582010\n",
    "# game_name = 'monster_hunter_world'\n",
    "\n",
    "# game_steamid = 730\n",
    "# game_name = 'counter-strike_2'\n",
    "\n",
    "# game_steamid = 570\n",
    "# game_name = \"dota2\"\n",
    "\n",
    "# game_steamid = 1814460\n",
    "# game_name = \"the_brave_vs_dragon\"\n",
    "\n",
    "# game_steamid = 1814480\n",
    "# game_name = 'fourplay_chess'\n",
    "\n",
    "# game_steamid = 1607720\n",
    "# game_name = 'rimebeard'\n",
    "\n",
    "# game_steamid = 1814510\n",
    "# game_name = 'yavi'\n",
    "\n",
    "# game_steamid = 1814520\n",
    "# game_name = 'find_the_cat'\n",
    "\n",
    "# game_steamid = 1814540\n",
    "# game_name = 'cosmos_conquer'\n",
    "\n",
    "# game_steamid = 1757970\n",
    "# game_name = 'oasis_dark_forest'\n",
    "\n",
    "game_steamid = 1814560\n",
    "game_name = 'the_infecting_3'\n",
    "\n",
    "params = {\n",
    "    'json':1,\n",
    "    'cursor':'*',\n",
    "    'num_per_page':100,\n",
    "    'language':'english',       # only english reviews\n",
    "    'filter':'recent',\n",
    "    'review_type':'all',\n",
    "    'purchase_type':'all'\n",
    "\n",
    "}\n",
    "\n",
    "# api doc: https://partner.steamgames.com/doc/store/getreviews\n",
    "# reviews_req = requests.get(f\"https://store.steampowered.com/appreviews/{game_steamid}\", params=params)"
   ]
  },
  {
   "cell_type": "code",
   "execution_count": 28,
   "metadata": {},
   "outputs": [
    {
     "name": "stdout",
     "output_type": "stream",
     "text": [
      "Cursor: *\n",
      "Got 8 reviews, cursor: AoJ4xKDbu/0Cd6zRkAM=\n",
      "No reviews found. To the end of all reviews\n",
      "Program terminated. Saved to: the_infecting_3/steam_reviews_1814560_20240311164921.pkl\n"
     ]
    }
   ],
   "source": [
    "# loop to get comments in range of a day\n",
    "\n",
    "datetime_until = datetime(2010, 1, 1, 0, 0, 0)      # get until...\n",
    "\n",
    "checkpoint_counter = 0\n",
    "reviews_reqs = []\n",
    "\n",
    "# get existing folder and retrieve the cursor object (?)\n",
    "\n",
    "# load the latest file\n",
    "game_folder = Path(f'./{game_name}')\n",
    "if game_folder.exists():\n",
    "    try:\n",
    "        latest_file_path = sorted(game_folder.glob('steam_reviews_*.pkl'))[-1]\n",
    "        with open(latest_file_path, 'rb') as f:\n",
    "            reviews_reqs = pickle.load(f)           # retrieve the list of reviews\n",
    "            cursor_str = reviews_reqs[-1]['cursor']\n",
    "            print('Loaded:', latest_file_path)\n",
    "    except IndexError as e:\n",
    "        print('Error loading the latest file:', e)\n",
    "        traceback.print_exc()\n",
    "else:\n",
    "    cursor_str = '*'\n",
    "\n",
    "print('Cursor:', cursor_str)\n",
    "\n",
    "\n",
    "save_folder = game_folder\n",
    "if not save_folder.exists():\n",
    "    os.makedirs(save_folder)\n",
    "\n",
    "while True:\n",
    "    params['cursor'] = cursor_str\n",
    "    reviews_req = requests.get(f\"https://store.steampowered.com/appreviews/{game_steamid}\", params=params)\n",
    "\n",
    "    reviews_json = reviews_req.json()\n",
    "    if 'reviews' not in reviews_json:\n",
    "        print('No reviews found. To the end of all reviews')\n",
    "        break\n",
    "    reviews = reviews_json['reviews']\n",
    "    if len(reviews) == 0:\n",
    "        print('No reviews found. To the end of all reviews')\n",
    "        break\n",
    "    reviews_reqs.append(reviews_json)\n",
    "    cursor_str = reviews_json['cursor']\n",
    "    print(f\"Got {len(reviews)} reviews, cursor: {cursor_str}\")\n",
    "    \n",
    "    if datetime.fromtimestamp(reviews[-1]['timestamp_created']) < datetime_until:\n",
    "        print('Reached until date')\n",
    "        break\n",
    "\n",
    "    checkpoint_counter += 1\n",
    "    if checkpoint_counter % 50 == 0:\n",
    "        save_filepath = save_folder.joinpath(f'steam_reviews_{game_steamid}_{datetime.now().strftime(\"%Y%m%d%H%M%S\")}.pkl')\n",
    "        with open(save_filepath, 'wb') as f:\n",
    "            pickle.dump(reviews_reqs, f)\n",
    "        print('Saved to:', save_filepath)\n",
    "        # time.sleep(5)\n",
    "\n",
    "    time.sleep(1)\n",
    "\n",
    "# save the reviews\n",
    "with open(save_folder.joinpath(f'steam_reviews_{game_steamid}_{datetime.now().strftime(\"%Y%m%d%H%M%S\")}.pkl'), 'wb') as f:\n",
    "    pickle.dump(reviews_reqs, f)\n",
    "print('Program terminated. Saved to:', save_folder.joinpath(f'steam_reviews_{game_steamid}_{datetime.now().strftime(\"%Y%m%d%H%M%S\")}.pkl'))"
   ]
  },
  {
   "cell_type": "code",
   "execution_count": 16,
   "metadata": {},
   "outputs": [
    {
     "data": {
      "text/plain": [
       "1"
      ]
     },
     "execution_count": 16,
     "metadata": {},
     "output_type": "execute_result"
    }
   ],
   "source": [
    "len(reviews_reqs)"
   ]
  },
  {
   "cell_type": "code",
   "execution_count": 5,
   "metadata": {},
   "outputs": [
    {
     "data": {
      "text/plain": [
       "datetime.datetime(2024, 2, 10, 11, 1, 14)"
      ]
     },
     "execution_count": 5,
     "metadata": {},
     "output_type": "execute_result"
    }
   ],
   "source": [
    "datetime.fromtimestamp(1707534074)      # its a unix timestamp, to our timezone (GMT+8)."
   ]
  },
  {
   "cell_type": "code",
   "execution_count": 8,
   "metadata": {},
   "outputs": [
    {
     "data": {
      "text/plain": [
       "{'success': 1,\n",
       " 'query_summary': {'num_reviews': 0},\n",
       " 'reviews': [],\n",
       " 'cursor': 'AoJ4ooCl54oDeOnvsAQ='}"
      ]
     },
     "execution_count": 8,
     "metadata": {},
     "output_type": "execute_result"
    }
   ],
   "source": [
    "reviews_req.json()"
   ]
  },
  {
   "cell_type": "code",
   "execution_count": 6,
   "metadata": {},
   "outputs": [],
   "source": [
    "with open('reviews.json', 'w') as f:\n",
    "    json.dump(reviews_req.json(), f, indent=2)"
   ]
  },
  {
   "cell_type": "code",
   "execution_count": 4,
   "metadata": {},
   "outputs": [
    {
     "name": "stdout",
     "output_type": "stream",
     "text": [
      "Was initially disappointed with this game but its come along way and I seriously enjoy it. Cant wait for CK to be added since modding it right now is a massive pain\n"
     ]
    }
   ],
   "source": [
    "print(reviews_req.json()['reviews'][2]['review'])"
   ]
  },
  {
   "cell_type": "code",
   "execution_count": null,
   "metadata": {},
   "outputs": [],
   "source": []
  },
  {
   "cell_type": "code",
   "execution_count": null,
   "metadata": {},
   "outputs": [],
   "source": []
  }
 ],
 "metadata": {
  "kernelspec": {
   "display_name": "fyp-test-wsl",
   "language": "python",
   "name": "python3"
  },
  "language_info": {
   "codemirror_mode": {
    "name": "ipython",
    "version": 3
   },
   "file_extension": ".py",
   "mimetype": "text/x-python",
   "name": "python",
   "nbconvert_exporter": "python",
   "pygments_lexer": "ipython3",
   "version": "3.9.18"
  }
 },
 "nbformat": 4,
 "nbformat_minor": 2
}
